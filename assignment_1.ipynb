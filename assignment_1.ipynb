{
 "cells": [
  {
   "cell_type": "markdown",
   "metadata": {},
   "source": [
    "# Assignment 1 - Statistics per country\n",
    "#### Sports Statistics Sweden"
   ]
  },
  {
   "cell_type": "code",
   "execution_count": 42,
   "metadata": {},
   "outputs": [],
   "source": [
    "import pandas as pd\n",
    "import plotly.express as px\n",
    "import hashlib as hl # For hashing "
   ]
  },
  {
   "cell_type": "markdown",
   "metadata": {},
   "source": [
    "#### Reading and exploring data"
   ]
  },
  {
   "cell_type": "code",
   "execution_count": 43,
   "metadata": {},
   "outputs": [
    {
     "data": {
      "text/html": [
       "<div>\n",
       "<style scoped>\n",
       "    .dataframe tbody tr th:only-of-type {\n",
       "        vertical-align: middle;\n",
       "    }\n",
       "\n",
       "    .dataframe tbody tr th {\n",
       "        vertical-align: top;\n",
       "    }\n",
       "\n",
       "    .dataframe thead th {\n",
       "        text-align: right;\n",
       "    }\n",
       "</style>\n",
       "<table border=\"1\" class=\"dataframe\">\n",
       "  <thead>\n",
       "    <tr style=\"text-align: right;\">\n",
       "      <th></th>\n",
       "      <th>ID</th>\n",
       "      <th>Name</th>\n",
       "      <th>Sex</th>\n",
       "      <th>Age</th>\n",
       "      <th>Height</th>\n",
       "      <th>Weight</th>\n",
       "      <th>Team</th>\n",
       "      <th>NOC</th>\n",
       "      <th>Games</th>\n",
       "      <th>Year</th>\n",
       "      <th>Season</th>\n",
       "      <th>City</th>\n",
       "      <th>Sport</th>\n",
       "      <th>Event</th>\n",
       "      <th>Medal</th>\n",
       "    </tr>\n",
       "  </thead>\n",
       "  <tbody>\n",
       "    <tr>\n",
       "      <th>725</th>\n",
       "      <td>414</td>\n",
       "      <td>Arvid berg</td>\n",
       "      <td>M</td>\n",
       "      <td>26.0</td>\n",
       "      <td>NaN</td>\n",
       "      <td>NaN</td>\n",
       "      <td>Sweden</td>\n",
       "      <td>SWE</td>\n",
       "      <td>1912 Summer</td>\n",
       "      <td>1912</td>\n",
       "      <td>Summer</td>\n",
       "      <td>Stockholm</td>\n",
       "      <td>Athletics</td>\n",
       "      <td>Athletics Men's Hammer Throw</td>\n",
       "      <td>NaN</td>\n",
       "    </tr>\n",
       "    <tr>\n",
       "      <th>726</th>\n",
       "      <td>415</td>\n",
       "      <td>Bjrn Olof Conny berg</td>\n",
       "      <td>M</td>\n",
       "      <td>23.0</td>\n",
       "      <td>181.0</td>\n",
       "      <td>76.0</td>\n",
       "      <td>Sweden</td>\n",
       "      <td>SWE</td>\n",
       "      <td>1992 Winter</td>\n",
       "      <td>1992</td>\n",
       "      <td>Winter</td>\n",
       "      <td>Albertville</td>\n",
       "      <td>Freestyle Skiing</td>\n",
       "      <td>Freestyle Skiing Men's Moguls</td>\n",
       "      <td>NaN</td>\n",
       "    </tr>\n",
       "    <tr>\n",
       "      <th>727</th>\n",
       "      <td>416</td>\n",
       "      <td>Nils Georg berg</td>\n",
       "      <td>M</td>\n",
       "      <td>19.0</td>\n",
       "      <td>181.0</td>\n",
       "      <td>78.0</td>\n",
       "      <td>Sweden</td>\n",
       "      <td>SWE</td>\n",
       "      <td>1912 Summer</td>\n",
       "      <td>1912</td>\n",
       "      <td>Summer</td>\n",
       "      <td>Stockholm</td>\n",
       "      <td>Athletics</td>\n",
       "      <td>Athletics Men's Long Jump</td>\n",
       "      <td>Bronze</td>\n",
       "    </tr>\n",
       "    <tr>\n",
       "      <th>728</th>\n",
       "      <td>416</td>\n",
       "      <td>Nils Georg berg</td>\n",
       "      <td>M</td>\n",
       "      <td>19.0</td>\n",
       "      <td>181.0</td>\n",
       "      <td>78.0</td>\n",
       "      <td>Sweden</td>\n",
       "      <td>SWE</td>\n",
       "      <td>1912 Summer</td>\n",
       "      <td>1912</td>\n",
       "      <td>Summer</td>\n",
       "      <td>Stockholm</td>\n",
       "      <td>Athletics</td>\n",
       "      <td>Athletics Men's Triple Jump</td>\n",
       "      <td>Silver</td>\n",
       "    </tr>\n",
       "    <tr>\n",
       "      <th>729</th>\n",
       "      <td>417</td>\n",
       "      <td>Sara Helena berg</td>\n",
       "      <td>F</td>\n",
       "      <td>17.0</td>\n",
       "      <td>190.0</td>\n",
       "      <td>73.0</td>\n",
       "      <td>Sweden</td>\n",
       "      <td>SWE</td>\n",
       "      <td>1988 Summer</td>\n",
       "      <td>1988</td>\n",
       "      <td>Summer</td>\n",
       "      <td>Seoul</td>\n",
       "      <td>Swimming</td>\n",
       "      <td>Swimming Women's 50 metres Freestyle</td>\n",
       "      <td>NaN</td>\n",
       "    </tr>\n",
       "  </tbody>\n",
       "</table>\n",
       "</div>"
      ],
      "text/plain": [
       "      ID                  Name Sex   Age  Height  Weight    Team  NOC  \\\n",
       "725  414            Arvid berg   M  26.0     NaN     NaN  Sweden  SWE   \n",
       "726  415  Bjrn Olof Conny berg   M  23.0   181.0    76.0  Sweden  SWE   \n",
       "727  416       Nils Georg berg   M  19.0   181.0    78.0  Sweden  SWE   \n",
       "728  416       Nils Georg berg   M  19.0   181.0    78.0  Sweden  SWE   \n",
       "729  417      Sara Helena berg   F  17.0   190.0    73.0  Sweden  SWE   \n",
       "\n",
       "           Games  Year  Season         City             Sport  \\\n",
       "725  1912 Summer  1912  Summer    Stockholm         Athletics   \n",
       "726  1992 Winter  1992  Winter  Albertville  Freestyle Skiing   \n",
       "727  1912 Summer  1912  Summer    Stockholm         Athletics   \n",
       "728  1912 Summer  1912  Summer    Stockholm         Athletics   \n",
       "729  1988 Summer  1988  Summer        Seoul          Swimming   \n",
       "\n",
       "                                    Event   Medal  \n",
       "725          Athletics Men's Hammer Throw     NaN  \n",
       "726         Freestyle Skiing Men's Moguls     NaN  \n",
       "727             Athletics Men's Long Jump  Bronze  \n",
       "728           Athletics Men's Triple Jump  Silver  \n",
       "729  Swimming Women's 50 metres Freestyle     NaN  "
      ]
     },
     "execution_count": 43,
     "metadata": {},
     "output_type": "execute_result"
    }
   ],
   "source": [
    "# Reading the athlete_events.csv file\n",
    "athlete_events = pd.read_csv(\"data/athlete_events.csv\")\n",
    "\n",
    "# Filtering the data to only include swedish athletes\n",
    "sweden_athletes = pd.DataFrame(athlete_events[athlete_events[\"NOC\"] == \"SWE\"]) # Changed here to be able to do the hashing properly\n",
    "\n",
    "sweden_athletes.head()"
   ]
  },
  {
   "cell_type": "markdown",
   "metadata": {},
   "source": [
    "#### **a)** Börja med att anonymisera kolumnen med idrottarnas namn med hashfunktionen SHA-256."
   ]
  },
  {
   "cell_type": "code",
   "execution_count": 44,
   "metadata": {},
   "outputs": [
    {
     "data": {
      "text/html": [
       "<div>\n",
       "<style scoped>\n",
       "    .dataframe tbody tr th:only-of-type {\n",
       "        vertical-align: middle;\n",
       "    }\n",
       "\n",
       "    .dataframe tbody tr th {\n",
       "        vertical-align: top;\n",
       "    }\n",
       "\n",
       "    .dataframe thead th {\n",
       "        text-align: right;\n",
       "    }\n",
       "</style>\n",
       "<table border=\"1\" class=\"dataframe\">\n",
       "  <thead>\n",
       "    <tr style=\"text-align: right;\">\n",
       "      <th></th>\n",
       "      <th>ID</th>\n",
       "      <th>Name</th>\n",
       "      <th>Sex</th>\n",
       "      <th>Age</th>\n",
       "      <th>Height</th>\n",
       "      <th>Weight</th>\n",
       "      <th>Team</th>\n",
       "      <th>NOC</th>\n",
       "      <th>Games</th>\n",
       "      <th>Year</th>\n",
       "      <th>Season</th>\n",
       "      <th>City</th>\n",
       "      <th>Sport</th>\n",
       "      <th>Event</th>\n",
       "      <th>Medal</th>\n",
       "    </tr>\n",
       "  </thead>\n",
       "  <tbody>\n",
       "    <tr>\n",
       "      <th>725</th>\n",
       "      <td>414</td>\n",
       "      <td>29a708e9c2f5e49e3299680bdc89c707c8c258a226a4dc...</td>\n",
       "      <td>M</td>\n",
       "      <td>26.0</td>\n",
       "      <td>NaN</td>\n",
       "      <td>NaN</td>\n",
       "      <td>Sweden</td>\n",
       "      <td>SWE</td>\n",
       "      <td>1912 Summer</td>\n",
       "      <td>1912</td>\n",
       "      <td>Summer</td>\n",
       "      <td>Stockholm</td>\n",
       "      <td>Athletics</td>\n",
       "      <td>Athletics Men's Hammer Throw</td>\n",
       "      <td>NaN</td>\n",
       "    </tr>\n",
       "    <tr>\n",
       "      <th>726</th>\n",
       "      <td>415</td>\n",
       "      <td>d712af0c4440a3d677c7b9d6a0fe816d08c40b51f5a00b...</td>\n",
       "      <td>M</td>\n",
       "      <td>23.0</td>\n",
       "      <td>181.0</td>\n",
       "      <td>76.0</td>\n",
       "      <td>Sweden</td>\n",
       "      <td>SWE</td>\n",
       "      <td>1992 Winter</td>\n",
       "      <td>1992</td>\n",
       "      <td>Winter</td>\n",
       "      <td>Albertville</td>\n",
       "      <td>Freestyle Skiing</td>\n",
       "      <td>Freestyle Skiing Men's Moguls</td>\n",
       "      <td>NaN</td>\n",
       "    </tr>\n",
       "    <tr>\n",
       "      <th>727</th>\n",
       "      <td>416</td>\n",
       "      <td>a9d3f60fd1cd7e878f36d0bf1c82aea4b071cce2a43f04...</td>\n",
       "      <td>M</td>\n",
       "      <td>19.0</td>\n",
       "      <td>181.0</td>\n",
       "      <td>78.0</td>\n",
       "      <td>Sweden</td>\n",
       "      <td>SWE</td>\n",
       "      <td>1912 Summer</td>\n",
       "      <td>1912</td>\n",
       "      <td>Summer</td>\n",
       "      <td>Stockholm</td>\n",
       "      <td>Athletics</td>\n",
       "      <td>Athletics Men's Long Jump</td>\n",
       "      <td>Bronze</td>\n",
       "    </tr>\n",
       "    <tr>\n",
       "      <th>728</th>\n",
       "      <td>416</td>\n",
       "      <td>a9d3f60fd1cd7e878f36d0bf1c82aea4b071cce2a43f04...</td>\n",
       "      <td>M</td>\n",
       "      <td>19.0</td>\n",
       "      <td>181.0</td>\n",
       "      <td>78.0</td>\n",
       "      <td>Sweden</td>\n",
       "      <td>SWE</td>\n",
       "      <td>1912 Summer</td>\n",
       "      <td>1912</td>\n",
       "      <td>Summer</td>\n",
       "      <td>Stockholm</td>\n",
       "      <td>Athletics</td>\n",
       "      <td>Athletics Men's Triple Jump</td>\n",
       "      <td>Silver</td>\n",
       "    </tr>\n",
       "    <tr>\n",
       "      <th>729</th>\n",
       "      <td>417</td>\n",
       "      <td>9f1fe5f1cec1ce1cbb1265d84c10c686566e35efa7b36b...</td>\n",
       "      <td>F</td>\n",
       "      <td>17.0</td>\n",
       "      <td>190.0</td>\n",
       "      <td>73.0</td>\n",
       "      <td>Sweden</td>\n",
       "      <td>SWE</td>\n",
       "      <td>1988 Summer</td>\n",
       "      <td>1988</td>\n",
       "      <td>Summer</td>\n",
       "      <td>Seoul</td>\n",
       "      <td>Swimming</td>\n",
       "      <td>Swimming Women's 50 metres Freestyle</td>\n",
       "      <td>NaN</td>\n",
       "    </tr>\n",
       "  </tbody>\n",
       "</table>\n",
       "</div>"
      ],
      "text/plain": [
       "      ID                                               Name Sex   Age  Height  \\\n",
       "725  414  29a708e9c2f5e49e3299680bdc89c707c8c258a226a4dc...   M  26.0     NaN   \n",
       "726  415  d712af0c4440a3d677c7b9d6a0fe816d08c40b51f5a00b...   M  23.0   181.0   \n",
       "727  416  a9d3f60fd1cd7e878f36d0bf1c82aea4b071cce2a43f04...   M  19.0   181.0   \n",
       "728  416  a9d3f60fd1cd7e878f36d0bf1c82aea4b071cce2a43f04...   M  19.0   181.0   \n",
       "729  417  9f1fe5f1cec1ce1cbb1265d84c10c686566e35efa7b36b...   F  17.0   190.0   \n",
       "\n",
       "     Weight    Team  NOC        Games  Year  Season         City  \\\n",
       "725     NaN  Sweden  SWE  1912 Summer  1912  Summer    Stockholm   \n",
       "726    76.0  Sweden  SWE  1992 Winter  1992  Winter  Albertville   \n",
       "727    78.0  Sweden  SWE  1912 Summer  1912  Summer    Stockholm   \n",
       "728    78.0  Sweden  SWE  1912 Summer  1912  Summer    Stockholm   \n",
       "729    73.0  Sweden  SWE  1988 Summer  1988  Summer        Seoul   \n",
       "\n",
       "                Sport                                 Event   Medal  \n",
       "725         Athletics          Athletics Men's Hammer Throw     NaN  \n",
       "726  Freestyle Skiing         Freestyle Skiing Men's Moguls     NaN  \n",
       "727         Athletics             Athletics Men's Long Jump  Bronze  \n",
       "728         Athletics           Athletics Men's Triple Jump  Silver  \n",
       "729          Swimming  Swimming Women's 50 metres Freestyle     NaN  "
      ]
     },
     "execution_count": 44,
     "metadata": {},
     "output_type": "execute_result"
    }
   ],
   "source": [
    "# Anonymization with hashfunction (algorithm) SHA-256 for the athletes names\n",
    "sweden_athletes['Name'] = sweden_athletes['Name'].apply(lambda name: hl.sha256(name.encode()).hexdigest())\n",
    "sweden_athletes.head()"
   ]
  },
  {
   "cell_type": "markdown",
   "metadata": {},
   "source": [
    "#### Undersök därefter hur det gått för landet i OS genom tiderna. Visualisera exempelvis:\n",
    "#### **b)** de sporter landet fått flest medaljer i"
   ]
  },
  {
   "cell_type": "code",
   "execution_count": 45,
   "metadata": {},
   "outputs": [
    {
     "data": {
      "application/vnd.plotly.v1+json": {
       "config": {
        "plotlyServerURL": "https://plot.ly"
       },
       "data": [
        {
         "alignmentgroup": "True",
         "hovertemplate": "Sport=%{x}<br>Number of Medals=%{y}<extra></extra>",
         "legendgroup": "",
         "marker": {
          "color": "#636efa",
          "opacity": 0.5,
          "pattern": {
           "shape": ""
          }
         },
         "name": "",
         "offsetgroup": "",
         "orientation": "v",
         "showlegend": false,
         "textposition": "auto",
         "type": "bar",
         "x": [
          "Ice Hockey",
          "Athletics",
          "Shooting",
          "Cross Country Skiing",
          "Sailing",
          "Gymnastics",
          "Wrestling",
          "Equestrianism",
          "Swimming",
          "Handball"
         ],
         "xaxis": "x",
         "y": [
          217,
          128,
          126,
          123,
          113,
          103,
          86,
          85,
          70,
          61
         ],
         "yaxis": "y"
        }
       ],
       "layout": {
        "barmode": "overlay",
        "legend": {
         "tracegroupgap": 0
        },
        "template": {
         "data": {
          "bar": [
           {
            "error_x": {
             "color": "#2a3f5f"
            },
            "error_y": {
             "color": "#2a3f5f"
            },
            "marker": {
             "line": {
              "color": "white",
              "width": 0.5
             },
             "pattern": {
              "fillmode": "overlay",
              "size": 10,
              "solidity": 0.2
             }
            },
            "type": "bar"
           }
          ],
          "barpolar": [
           {
            "marker": {
             "line": {
              "color": "white",
              "width": 0.5
             },
             "pattern": {
              "fillmode": "overlay",
              "size": 10,
              "solidity": 0.2
             }
            },
            "type": "barpolar"
           }
          ],
          "carpet": [
           {
            "aaxis": {
             "endlinecolor": "#2a3f5f",
             "gridcolor": "#C8D4E3",
             "linecolor": "#C8D4E3",
             "minorgridcolor": "#C8D4E3",
             "startlinecolor": "#2a3f5f"
            },
            "baxis": {
             "endlinecolor": "#2a3f5f",
             "gridcolor": "#C8D4E3",
             "linecolor": "#C8D4E3",
             "minorgridcolor": "#C8D4E3",
             "startlinecolor": "#2a3f5f"
            },
            "type": "carpet"
           }
          ],
          "choropleth": [
           {
            "colorbar": {
             "outlinewidth": 0,
             "ticks": ""
            },
            "type": "choropleth"
           }
          ],
          "contour": [
           {
            "colorbar": {
             "outlinewidth": 0,
             "ticks": ""
            },
            "colorscale": [
             [
              0,
              "#0d0887"
             ],
             [
              0.1111111111111111,
              "#46039f"
             ],
             [
              0.2222222222222222,
              "#7201a8"
             ],
             [
              0.3333333333333333,
              "#9c179e"
             ],
             [
              0.4444444444444444,
              "#bd3786"
             ],
             [
              0.5555555555555556,
              "#d8576b"
             ],
             [
              0.6666666666666666,
              "#ed7953"
             ],
             [
              0.7777777777777778,
              "#fb9f3a"
             ],
             [
              0.8888888888888888,
              "#fdca26"
             ],
             [
              1,
              "#f0f921"
             ]
            ],
            "type": "contour"
           }
          ],
          "contourcarpet": [
           {
            "colorbar": {
             "outlinewidth": 0,
             "ticks": ""
            },
            "type": "contourcarpet"
           }
          ],
          "heatmap": [
           {
            "colorbar": {
             "outlinewidth": 0,
             "ticks": ""
            },
            "colorscale": [
             [
              0,
              "#0d0887"
             ],
             [
              0.1111111111111111,
              "#46039f"
             ],
             [
              0.2222222222222222,
              "#7201a8"
             ],
             [
              0.3333333333333333,
              "#9c179e"
             ],
             [
              0.4444444444444444,
              "#bd3786"
             ],
             [
              0.5555555555555556,
              "#d8576b"
             ],
             [
              0.6666666666666666,
              "#ed7953"
             ],
             [
              0.7777777777777778,
              "#fb9f3a"
             ],
             [
              0.8888888888888888,
              "#fdca26"
             ],
             [
              1,
              "#f0f921"
             ]
            ],
            "type": "heatmap"
           }
          ],
          "heatmapgl": [
           {
            "colorbar": {
             "outlinewidth": 0,
             "ticks": ""
            },
            "colorscale": [
             [
              0,
              "#0d0887"
             ],
             [
              0.1111111111111111,
              "#46039f"
             ],
             [
              0.2222222222222222,
              "#7201a8"
             ],
             [
              0.3333333333333333,
              "#9c179e"
             ],
             [
              0.4444444444444444,
              "#bd3786"
             ],
             [
              0.5555555555555556,
              "#d8576b"
             ],
             [
              0.6666666666666666,
              "#ed7953"
             ],
             [
              0.7777777777777778,
              "#fb9f3a"
             ],
             [
              0.8888888888888888,
              "#fdca26"
             ],
             [
              1,
              "#f0f921"
             ]
            ],
            "type": "heatmapgl"
           }
          ],
          "histogram": [
           {
            "marker": {
             "pattern": {
              "fillmode": "overlay",
              "size": 10,
              "solidity": 0.2
             }
            },
            "type": "histogram"
           }
          ],
          "histogram2d": [
           {
            "colorbar": {
             "outlinewidth": 0,
             "ticks": ""
            },
            "colorscale": [
             [
              0,
              "#0d0887"
             ],
             [
              0.1111111111111111,
              "#46039f"
             ],
             [
              0.2222222222222222,
              "#7201a8"
             ],
             [
              0.3333333333333333,
              "#9c179e"
             ],
             [
              0.4444444444444444,
              "#bd3786"
             ],
             [
              0.5555555555555556,
              "#d8576b"
             ],
             [
              0.6666666666666666,
              "#ed7953"
             ],
             [
              0.7777777777777778,
              "#fb9f3a"
             ],
             [
              0.8888888888888888,
              "#fdca26"
             ],
             [
              1,
              "#f0f921"
             ]
            ],
            "type": "histogram2d"
           }
          ],
          "histogram2dcontour": [
           {
            "colorbar": {
             "outlinewidth": 0,
             "ticks": ""
            },
            "colorscale": [
             [
              0,
              "#0d0887"
             ],
             [
              0.1111111111111111,
              "#46039f"
             ],
             [
              0.2222222222222222,
              "#7201a8"
             ],
             [
              0.3333333333333333,
              "#9c179e"
             ],
             [
              0.4444444444444444,
              "#bd3786"
             ],
             [
              0.5555555555555556,
              "#d8576b"
             ],
             [
              0.6666666666666666,
              "#ed7953"
             ],
             [
              0.7777777777777778,
              "#fb9f3a"
             ],
             [
              0.8888888888888888,
              "#fdca26"
             ],
             [
              1,
              "#f0f921"
             ]
            ],
            "type": "histogram2dcontour"
           }
          ],
          "mesh3d": [
           {
            "colorbar": {
             "outlinewidth": 0,
             "ticks": ""
            },
            "type": "mesh3d"
           }
          ],
          "parcoords": [
           {
            "line": {
             "colorbar": {
              "outlinewidth": 0,
              "ticks": ""
             }
            },
            "type": "parcoords"
           }
          ],
          "pie": [
           {
            "automargin": true,
            "type": "pie"
           }
          ],
          "scatter": [
           {
            "fillpattern": {
             "fillmode": "overlay",
             "size": 10,
             "solidity": 0.2
            },
            "type": "scatter"
           }
          ],
          "scatter3d": [
           {
            "line": {
             "colorbar": {
              "outlinewidth": 0,
              "ticks": ""
             }
            },
            "marker": {
             "colorbar": {
              "outlinewidth": 0,
              "ticks": ""
             }
            },
            "type": "scatter3d"
           }
          ],
          "scattercarpet": [
           {
            "marker": {
             "colorbar": {
              "outlinewidth": 0,
              "ticks": ""
             }
            },
            "type": "scattercarpet"
           }
          ],
          "scattergeo": [
           {
            "marker": {
             "colorbar": {
              "outlinewidth": 0,
              "ticks": ""
             }
            },
            "type": "scattergeo"
           }
          ],
          "scattergl": [
           {
            "marker": {
             "colorbar": {
              "outlinewidth": 0,
              "ticks": ""
             }
            },
            "type": "scattergl"
           }
          ],
          "scattermapbox": [
           {
            "marker": {
             "colorbar": {
              "outlinewidth": 0,
              "ticks": ""
             }
            },
            "type": "scattermapbox"
           }
          ],
          "scatterpolar": [
           {
            "marker": {
             "colorbar": {
              "outlinewidth": 0,
              "ticks": ""
             }
            },
            "type": "scatterpolar"
           }
          ],
          "scatterpolargl": [
           {
            "marker": {
             "colorbar": {
              "outlinewidth": 0,
              "ticks": ""
             }
            },
            "type": "scatterpolargl"
           }
          ],
          "scatterternary": [
           {
            "marker": {
             "colorbar": {
              "outlinewidth": 0,
              "ticks": ""
             }
            },
            "type": "scatterternary"
           }
          ],
          "surface": [
           {
            "colorbar": {
             "outlinewidth": 0,
             "ticks": ""
            },
            "colorscale": [
             [
              0,
              "#0d0887"
             ],
             [
              0.1111111111111111,
              "#46039f"
             ],
             [
              0.2222222222222222,
              "#7201a8"
             ],
             [
              0.3333333333333333,
              "#9c179e"
             ],
             [
              0.4444444444444444,
              "#bd3786"
             ],
             [
              0.5555555555555556,
              "#d8576b"
             ],
             [
              0.6666666666666666,
              "#ed7953"
             ],
             [
              0.7777777777777778,
              "#fb9f3a"
             ],
             [
              0.8888888888888888,
              "#fdca26"
             ],
             [
              1,
              "#f0f921"
             ]
            ],
            "type": "surface"
           }
          ],
          "table": [
           {
            "cells": {
             "fill": {
              "color": "#EBF0F8"
             },
             "line": {
              "color": "white"
             }
            },
            "header": {
             "fill": {
              "color": "#C8D4E3"
             },
             "line": {
              "color": "white"
             }
            },
            "type": "table"
           }
          ]
         },
         "layout": {
          "annotationdefaults": {
           "arrowcolor": "#2a3f5f",
           "arrowhead": 0,
           "arrowwidth": 1
          },
          "autotypenumbers": "strict",
          "coloraxis": {
           "colorbar": {
            "outlinewidth": 0,
            "ticks": ""
           }
          },
          "colorscale": {
           "diverging": [
            [
             0,
             "#8e0152"
            ],
            [
             0.1,
             "#c51b7d"
            ],
            [
             0.2,
             "#de77ae"
            ],
            [
             0.3,
             "#f1b6da"
            ],
            [
             0.4,
             "#fde0ef"
            ],
            [
             0.5,
             "#f7f7f7"
            ],
            [
             0.6,
             "#e6f5d0"
            ],
            [
             0.7,
             "#b8e186"
            ],
            [
             0.8,
             "#7fbc41"
            ],
            [
             0.9,
             "#4d9221"
            ],
            [
             1,
             "#276419"
            ]
           ],
           "sequential": [
            [
             0,
             "#0d0887"
            ],
            [
             0.1111111111111111,
             "#46039f"
            ],
            [
             0.2222222222222222,
             "#7201a8"
            ],
            [
             0.3333333333333333,
             "#9c179e"
            ],
            [
             0.4444444444444444,
             "#bd3786"
            ],
            [
             0.5555555555555556,
             "#d8576b"
            ],
            [
             0.6666666666666666,
             "#ed7953"
            ],
            [
             0.7777777777777778,
             "#fb9f3a"
            ],
            [
             0.8888888888888888,
             "#fdca26"
            ],
            [
             1,
             "#f0f921"
            ]
           ],
           "sequentialminus": [
            [
             0,
             "#0d0887"
            ],
            [
             0.1111111111111111,
             "#46039f"
            ],
            [
             0.2222222222222222,
             "#7201a8"
            ],
            [
             0.3333333333333333,
             "#9c179e"
            ],
            [
             0.4444444444444444,
             "#bd3786"
            ],
            [
             0.5555555555555556,
             "#d8576b"
            ],
            [
             0.6666666666666666,
             "#ed7953"
            ],
            [
             0.7777777777777778,
             "#fb9f3a"
            ],
            [
             0.8888888888888888,
             "#fdca26"
            ],
            [
             1,
             "#f0f921"
            ]
           ]
          },
          "colorway": [
           "#636efa",
           "#EF553B",
           "#00cc96",
           "#ab63fa",
           "#FFA15A",
           "#19d3f3",
           "#FF6692",
           "#B6E880",
           "#FF97FF",
           "#FECB52"
          ],
          "font": {
           "color": "#2a3f5f"
          },
          "geo": {
           "bgcolor": "white",
           "lakecolor": "white",
           "landcolor": "white",
           "showlakes": true,
           "showland": true,
           "subunitcolor": "#C8D4E3"
          },
          "hoverlabel": {
           "align": "left"
          },
          "hovermode": "closest",
          "mapbox": {
           "style": "light"
          },
          "paper_bgcolor": "white",
          "plot_bgcolor": "white",
          "polar": {
           "angularaxis": {
            "gridcolor": "#EBF0F8",
            "linecolor": "#EBF0F8",
            "ticks": ""
           },
           "bgcolor": "white",
           "radialaxis": {
            "gridcolor": "#EBF0F8",
            "linecolor": "#EBF0F8",
            "ticks": ""
           }
          },
          "scene": {
           "xaxis": {
            "backgroundcolor": "white",
            "gridcolor": "#DFE8F3",
            "gridwidth": 2,
            "linecolor": "#EBF0F8",
            "showbackground": true,
            "ticks": "",
            "zerolinecolor": "#EBF0F8"
           },
           "yaxis": {
            "backgroundcolor": "white",
            "gridcolor": "#DFE8F3",
            "gridwidth": 2,
            "linecolor": "#EBF0F8",
            "showbackground": true,
            "ticks": "",
            "zerolinecolor": "#EBF0F8"
           },
           "zaxis": {
            "backgroundcolor": "white",
            "gridcolor": "#DFE8F3",
            "gridwidth": 2,
            "linecolor": "#EBF0F8",
            "showbackground": true,
            "ticks": "",
            "zerolinecolor": "#EBF0F8"
           }
          },
          "shapedefaults": {
           "line": {
            "color": "#2a3f5f"
           }
          },
          "ternary": {
           "aaxis": {
            "gridcolor": "#DFE8F3",
            "linecolor": "#A2B1C6",
            "ticks": ""
           },
           "baxis": {
            "gridcolor": "#DFE8F3",
            "linecolor": "#A2B1C6",
            "ticks": ""
           },
           "bgcolor": "white",
           "caxis": {
            "gridcolor": "#DFE8F3",
            "linecolor": "#A2B1C6",
            "ticks": ""
           }
          },
          "title": {
           "x": 0.05
          },
          "xaxis": {
           "automargin": true,
           "gridcolor": "#EBF0F8",
           "linecolor": "#EBF0F8",
           "ticks": "",
           "title": {
            "standoff": 15
           },
           "zerolinecolor": "#EBF0F8",
           "zerolinewidth": 2
          },
          "yaxis": {
           "automargin": true,
           "gridcolor": "#EBF0F8",
           "linecolor": "#EBF0F8",
           "ticks": "",
           "title": {
            "standoff": 15
           },
           "zerolinecolor": "#EBF0F8",
           "zerolinewidth": 2
          }
         }
        },
        "title": {
         "text": "Top 10 Sports with the Most Medals for Swedish Athletes"
        },
        "xaxis": {
         "anchor": "y",
         "domain": [
          0,
          1
         ],
         "tickangle": 45,
         "title": {
          "text": "Sport"
         }
        },
        "yaxis": {
         "anchor": "x",
         "domain": [
          0,
          1
         ],
         "title": {
          "text": "Number of Medals"
         }
        }
       }
      }
     },
     "metadata": {},
     "output_type": "display_data"
    }
   ],
   "source": [
    "# Grouping by sport and counting medals\n",
    "medals_per_sport = sweden_athletes.groupby(\"Sport\", as_index=False)[\"Medal\"].count()\n",
    "\n",
    "# Sort values on number of medals in descending order, reseting index and displaying the result in a plot. \n",
    "fig=px.bar(\n",
    "    data_frame=medals_per_sport.sort_values(by='Medal', ascending=False, ignore_index=True).head(10),\n",
    "    x='Sport',\n",
    "    y='Medal',\n",
    "    labels={'Medal': 'Number of Medals'},\n",
    "    template='plotly_white',\n",
    "    title=\"Top 10 Sports with the Most Medals for Swedish Athletes\",\n",
    "    barmode='overlay',\n",
    ")\n",
    "fig.update_xaxes(tickangle=45)\n",
    "fig.show()"
   ]
  },
  {
   "cell_type": "markdown",
   "metadata": {},
   "source": [
    "#### **c)** antal medaljer per OS"
   ]
  },
  {
   "cell_type": "code",
   "execution_count": 46,
   "metadata": {},
   "outputs": [
    {
     "name": "stdout",
     "output_type": "stream",
     "text": [
      "Sweden has won the following medals in each olympic game:\n",
      "Year: 1896, Medals: 0\n",
      "Year: 1900, Medals: 4\n",
      "Year: 1906, Medals: 21\n",
      "Year: 1908, Medals: 84\n",
      "Year: 1912, Medals: 190\n",
      "Year: 1920, Medals: 154\n",
      "Year: 1924, Medals: 81\n",
      "Year: 1928, Medals: 53\n",
      "Year: 1932, Medals: 35\n",
      "Year: 1936, Medals: 45\n",
      "Year: 1948, Medals: 88\n",
      "Year: 1952, Medals: 93\n",
      "Year: 1956, Medals: 49\n",
      "Year: 1960, Medals: 16\n",
      "Year: 1964, Medals: 43\n",
      "Year: 1968, Medals: 25\n",
      "Year: 1972, Medals: 26\n",
      "Year: 1976, Medals: 12\n",
      "Year: 1980, Medals: 43\n",
      "Year: 1984, Medals: 64\n",
      "Year: 1988, Medals: 46\n",
      "Year: 1992, Medals: 42\n",
      "Year: 1994, Medals: 24\n",
      "Year: 1996, Medals: 31\n",
      "Year: 1998, Medals: 7\n",
      "Year: 2000, Medals: 32\n",
      "Year: 2002, Medals: 26\n",
      "Year: 2004, Medals: 12\n",
      "Year: 2006, Medals: 64\n",
      "Year: 2008, Medals: 7\n",
      "Year: 2010, Medals: 18\n",
      "Year: 2012, Medals: 22\n",
      "Year: 2014, Medals: 51\n",
      "Year: 2016, Medals: 28\n"
     ]
    }
   ],
   "source": [
    "# Filtering out list with medals without NaN values\n",
    "df_medals_swe = sweden_athletes[~sweden_athletes[\"Medal\"].isin([\"NaN\"])]   # Seems it doesnt count NaN so it is not needed to use isin filtering here\n",
    "\n",
    "# Grouping by year, country and counting medals\n",
    "medals_per_OS = df_medals_swe.groupby([\"Year\"], as_index=False)[\"Medal\"].count()\n",
    "\n",
    "print(\"Sweden has won the following medals in each olympic game:\")\n",
    "for index, row in medals_per_OS.iterrows():\n",
    "    print(f\"Year: {row['Year']}, Medals: {row['Medal']}\")\n"
   ]
  },
  {
   "cell_type": "code",
   "execution_count": 47,
   "metadata": {},
   "outputs": [
    {
     "data": {
      "application/vnd.plotly.v1+json": {
       "config": {
        "plotlyServerURL": "https://plot.ly"
       },
       "data": [
        {
         "alignmentgroup": "True",
         "hovertemplate": "Year=%{x}<br>Medal=%{y}<extra></extra>",
         "legendgroup": "",
         "marker": {
          "color": "#636efa",
          "pattern": {
           "shape": ""
          }
         },
         "name": "",
         "offsetgroup": "",
         "orientation": "v",
         "showlegend": false,
         "textposition": "auto",
         "type": "bar",
         "x": [
          1896,
          1900,
          1906,
          1908,
          1912,
          1920,
          1924,
          1928,
          1932,
          1936,
          1948,
          1952,
          1956,
          1960,
          1964,
          1968,
          1972,
          1976,
          1980,
          1984,
          1988,
          1992,
          1994,
          1996,
          1998,
          2000,
          2002,
          2004,
          2006,
          2008,
          2010,
          2012,
          2014,
          2016
         ],
         "xaxis": "x",
         "y": [
          0,
          4,
          21,
          84,
          190,
          154,
          81,
          53,
          35,
          45,
          88,
          93,
          49,
          16,
          43,
          25,
          26,
          12,
          43,
          64,
          46,
          42,
          24,
          31,
          7,
          32,
          26,
          12,
          64,
          7,
          18,
          22,
          51,
          28
         ],
         "yaxis": "y"
        }
       ],
       "layout": {
        "barmode": "relative",
        "legend": {
         "tracegroupgap": 0
        },
        "template": {
         "data": {
          "bar": [
           {
            "error_x": {
             "color": "#2a3f5f"
            },
            "error_y": {
             "color": "#2a3f5f"
            },
            "marker": {
             "line": {
              "color": "#E5ECF6",
              "width": 0.5
             },
             "pattern": {
              "fillmode": "overlay",
              "size": 10,
              "solidity": 0.2
             }
            },
            "type": "bar"
           }
          ],
          "barpolar": [
           {
            "marker": {
             "line": {
              "color": "#E5ECF6",
              "width": 0.5
             },
             "pattern": {
              "fillmode": "overlay",
              "size": 10,
              "solidity": 0.2
             }
            },
            "type": "barpolar"
           }
          ],
          "carpet": [
           {
            "aaxis": {
             "endlinecolor": "#2a3f5f",
             "gridcolor": "white",
             "linecolor": "white",
             "minorgridcolor": "white",
             "startlinecolor": "#2a3f5f"
            },
            "baxis": {
             "endlinecolor": "#2a3f5f",
             "gridcolor": "white",
             "linecolor": "white",
             "minorgridcolor": "white",
             "startlinecolor": "#2a3f5f"
            },
            "type": "carpet"
           }
          ],
          "choropleth": [
           {
            "colorbar": {
             "outlinewidth": 0,
             "ticks": ""
            },
            "type": "choropleth"
           }
          ],
          "contour": [
           {
            "colorbar": {
             "outlinewidth": 0,
             "ticks": ""
            },
            "colorscale": [
             [
              0,
              "#0d0887"
             ],
             [
              0.1111111111111111,
              "#46039f"
             ],
             [
              0.2222222222222222,
              "#7201a8"
             ],
             [
              0.3333333333333333,
              "#9c179e"
             ],
             [
              0.4444444444444444,
              "#bd3786"
             ],
             [
              0.5555555555555556,
              "#d8576b"
             ],
             [
              0.6666666666666666,
              "#ed7953"
             ],
             [
              0.7777777777777778,
              "#fb9f3a"
             ],
             [
              0.8888888888888888,
              "#fdca26"
             ],
             [
              1,
              "#f0f921"
             ]
            ],
            "type": "contour"
           }
          ],
          "contourcarpet": [
           {
            "colorbar": {
             "outlinewidth": 0,
             "ticks": ""
            },
            "type": "contourcarpet"
           }
          ],
          "heatmap": [
           {
            "colorbar": {
             "outlinewidth": 0,
             "ticks": ""
            },
            "colorscale": [
             [
              0,
              "#0d0887"
             ],
             [
              0.1111111111111111,
              "#46039f"
             ],
             [
              0.2222222222222222,
              "#7201a8"
             ],
             [
              0.3333333333333333,
              "#9c179e"
             ],
             [
              0.4444444444444444,
              "#bd3786"
             ],
             [
              0.5555555555555556,
              "#d8576b"
             ],
             [
              0.6666666666666666,
              "#ed7953"
             ],
             [
              0.7777777777777778,
              "#fb9f3a"
             ],
             [
              0.8888888888888888,
              "#fdca26"
             ],
             [
              1,
              "#f0f921"
             ]
            ],
            "type": "heatmap"
           }
          ],
          "heatmapgl": [
           {
            "colorbar": {
             "outlinewidth": 0,
             "ticks": ""
            },
            "colorscale": [
             [
              0,
              "#0d0887"
             ],
             [
              0.1111111111111111,
              "#46039f"
             ],
             [
              0.2222222222222222,
              "#7201a8"
             ],
             [
              0.3333333333333333,
              "#9c179e"
             ],
             [
              0.4444444444444444,
              "#bd3786"
             ],
             [
              0.5555555555555556,
              "#d8576b"
             ],
             [
              0.6666666666666666,
              "#ed7953"
             ],
             [
              0.7777777777777778,
              "#fb9f3a"
             ],
             [
              0.8888888888888888,
              "#fdca26"
             ],
             [
              1,
              "#f0f921"
             ]
            ],
            "type": "heatmapgl"
           }
          ],
          "histogram": [
           {
            "marker": {
             "pattern": {
              "fillmode": "overlay",
              "size": 10,
              "solidity": 0.2
             }
            },
            "type": "histogram"
           }
          ],
          "histogram2d": [
           {
            "colorbar": {
             "outlinewidth": 0,
             "ticks": ""
            },
            "colorscale": [
             [
              0,
              "#0d0887"
             ],
             [
              0.1111111111111111,
              "#46039f"
             ],
             [
              0.2222222222222222,
              "#7201a8"
             ],
             [
              0.3333333333333333,
              "#9c179e"
             ],
             [
              0.4444444444444444,
              "#bd3786"
             ],
             [
              0.5555555555555556,
              "#d8576b"
             ],
             [
              0.6666666666666666,
              "#ed7953"
             ],
             [
              0.7777777777777778,
              "#fb9f3a"
             ],
             [
              0.8888888888888888,
              "#fdca26"
             ],
             [
              1,
              "#f0f921"
             ]
            ],
            "type": "histogram2d"
           }
          ],
          "histogram2dcontour": [
           {
            "colorbar": {
             "outlinewidth": 0,
             "ticks": ""
            },
            "colorscale": [
             [
              0,
              "#0d0887"
             ],
             [
              0.1111111111111111,
              "#46039f"
             ],
             [
              0.2222222222222222,
              "#7201a8"
             ],
             [
              0.3333333333333333,
              "#9c179e"
             ],
             [
              0.4444444444444444,
              "#bd3786"
             ],
             [
              0.5555555555555556,
              "#d8576b"
             ],
             [
              0.6666666666666666,
              "#ed7953"
             ],
             [
              0.7777777777777778,
              "#fb9f3a"
             ],
             [
              0.8888888888888888,
              "#fdca26"
             ],
             [
              1,
              "#f0f921"
             ]
            ],
            "type": "histogram2dcontour"
           }
          ],
          "mesh3d": [
           {
            "colorbar": {
             "outlinewidth": 0,
             "ticks": ""
            },
            "type": "mesh3d"
           }
          ],
          "parcoords": [
           {
            "line": {
             "colorbar": {
              "outlinewidth": 0,
              "ticks": ""
             }
            },
            "type": "parcoords"
           }
          ],
          "pie": [
           {
            "automargin": true,
            "type": "pie"
           }
          ],
          "scatter": [
           {
            "fillpattern": {
             "fillmode": "overlay",
             "size": 10,
             "solidity": 0.2
            },
            "type": "scatter"
           }
          ],
          "scatter3d": [
           {
            "line": {
             "colorbar": {
              "outlinewidth": 0,
              "ticks": ""
             }
            },
            "marker": {
             "colorbar": {
              "outlinewidth": 0,
              "ticks": ""
             }
            },
            "type": "scatter3d"
           }
          ],
          "scattercarpet": [
           {
            "marker": {
             "colorbar": {
              "outlinewidth": 0,
              "ticks": ""
             }
            },
            "type": "scattercarpet"
           }
          ],
          "scattergeo": [
           {
            "marker": {
             "colorbar": {
              "outlinewidth": 0,
              "ticks": ""
             }
            },
            "type": "scattergeo"
           }
          ],
          "scattergl": [
           {
            "marker": {
             "colorbar": {
              "outlinewidth": 0,
              "ticks": ""
             }
            },
            "type": "scattergl"
           }
          ],
          "scattermapbox": [
           {
            "marker": {
             "colorbar": {
              "outlinewidth": 0,
              "ticks": ""
             }
            },
            "type": "scattermapbox"
           }
          ],
          "scatterpolar": [
           {
            "marker": {
             "colorbar": {
              "outlinewidth": 0,
              "ticks": ""
             }
            },
            "type": "scatterpolar"
           }
          ],
          "scatterpolargl": [
           {
            "marker": {
             "colorbar": {
              "outlinewidth": 0,
              "ticks": ""
             }
            },
            "type": "scatterpolargl"
           }
          ],
          "scatterternary": [
           {
            "marker": {
             "colorbar": {
              "outlinewidth": 0,
              "ticks": ""
             }
            },
            "type": "scatterternary"
           }
          ],
          "surface": [
           {
            "colorbar": {
             "outlinewidth": 0,
             "ticks": ""
            },
            "colorscale": [
             [
              0,
              "#0d0887"
             ],
             [
              0.1111111111111111,
              "#46039f"
             ],
             [
              0.2222222222222222,
              "#7201a8"
             ],
             [
              0.3333333333333333,
              "#9c179e"
             ],
             [
              0.4444444444444444,
              "#bd3786"
             ],
             [
              0.5555555555555556,
              "#d8576b"
             ],
             [
              0.6666666666666666,
              "#ed7953"
             ],
             [
              0.7777777777777778,
              "#fb9f3a"
             ],
             [
              0.8888888888888888,
              "#fdca26"
             ],
             [
              1,
              "#f0f921"
             ]
            ],
            "type": "surface"
           }
          ],
          "table": [
           {
            "cells": {
             "fill": {
              "color": "#EBF0F8"
             },
             "line": {
              "color": "white"
             }
            },
            "header": {
             "fill": {
              "color": "#C8D4E3"
             },
             "line": {
              "color": "white"
             }
            },
            "type": "table"
           }
          ]
         },
         "layout": {
          "annotationdefaults": {
           "arrowcolor": "#2a3f5f",
           "arrowhead": 0,
           "arrowwidth": 1
          },
          "autotypenumbers": "strict",
          "coloraxis": {
           "colorbar": {
            "outlinewidth": 0,
            "ticks": ""
           }
          },
          "colorscale": {
           "diverging": [
            [
             0,
             "#8e0152"
            ],
            [
             0.1,
             "#c51b7d"
            ],
            [
             0.2,
             "#de77ae"
            ],
            [
             0.3,
             "#f1b6da"
            ],
            [
             0.4,
             "#fde0ef"
            ],
            [
             0.5,
             "#f7f7f7"
            ],
            [
             0.6,
             "#e6f5d0"
            ],
            [
             0.7,
             "#b8e186"
            ],
            [
             0.8,
             "#7fbc41"
            ],
            [
             0.9,
             "#4d9221"
            ],
            [
             1,
             "#276419"
            ]
           ],
           "sequential": [
            [
             0,
             "#0d0887"
            ],
            [
             0.1111111111111111,
             "#46039f"
            ],
            [
             0.2222222222222222,
             "#7201a8"
            ],
            [
             0.3333333333333333,
             "#9c179e"
            ],
            [
             0.4444444444444444,
             "#bd3786"
            ],
            [
             0.5555555555555556,
             "#d8576b"
            ],
            [
             0.6666666666666666,
             "#ed7953"
            ],
            [
             0.7777777777777778,
             "#fb9f3a"
            ],
            [
             0.8888888888888888,
             "#fdca26"
            ],
            [
             1,
             "#f0f921"
            ]
           ],
           "sequentialminus": [
            [
             0,
             "#0d0887"
            ],
            [
             0.1111111111111111,
             "#46039f"
            ],
            [
             0.2222222222222222,
             "#7201a8"
            ],
            [
             0.3333333333333333,
             "#9c179e"
            ],
            [
             0.4444444444444444,
             "#bd3786"
            ],
            [
             0.5555555555555556,
             "#d8576b"
            ],
            [
             0.6666666666666666,
             "#ed7953"
            ],
            [
             0.7777777777777778,
             "#fb9f3a"
            ],
            [
             0.8888888888888888,
             "#fdca26"
            ],
            [
             1,
             "#f0f921"
            ]
           ]
          },
          "colorway": [
           "#636efa",
           "#EF553B",
           "#00cc96",
           "#ab63fa",
           "#FFA15A",
           "#19d3f3",
           "#FF6692",
           "#B6E880",
           "#FF97FF",
           "#FECB52"
          ],
          "font": {
           "color": "#2a3f5f"
          },
          "geo": {
           "bgcolor": "white",
           "lakecolor": "white",
           "landcolor": "#E5ECF6",
           "showlakes": true,
           "showland": true,
           "subunitcolor": "white"
          },
          "hoverlabel": {
           "align": "left"
          },
          "hovermode": "closest",
          "mapbox": {
           "style": "light"
          },
          "paper_bgcolor": "white",
          "plot_bgcolor": "#E5ECF6",
          "polar": {
           "angularaxis": {
            "gridcolor": "white",
            "linecolor": "white",
            "ticks": ""
           },
           "bgcolor": "#E5ECF6",
           "radialaxis": {
            "gridcolor": "white",
            "linecolor": "white",
            "ticks": ""
           }
          },
          "scene": {
           "xaxis": {
            "backgroundcolor": "#E5ECF6",
            "gridcolor": "white",
            "gridwidth": 2,
            "linecolor": "white",
            "showbackground": true,
            "ticks": "",
            "zerolinecolor": "white"
           },
           "yaxis": {
            "backgroundcolor": "#E5ECF6",
            "gridcolor": "white",
            "gridwidth": 2,
            "linecolor": "white",
            "showbackground": true,
            "ticks": "",
            "zerolinecolor": "white"
           },
           "zaxis": {
            "backgroundcolor": "#E5ECF6",
            "gridcolor": "white",
            "gridwidth": 2,
            "linecolor": "white",
            "showbackground": true,
            "ticks": "",
            "zerolinecolor": "white"
           }
          },
          "shapedefaults": {
           "line": {
            "color": "#2a3f5f"
           }
          },
          "ternary": {
           "aaxis": {
            "gridcolor": "white",
            "linecolor": "white",
            "ticks": ""
           },
           "baxis": {
            "gridcolor": "white",
            "linecolor": "white",
            "ticks": ""
           },
           "bgcolor": "#E5ECF6",
           "caxis": {
            "gridcolor": "white",
            "linecolor": "white",
            "ticks": ""
           }
          },
          "title": {
           "x": 0.05
          },
          "xaxis": {
           "automargin": true,
           "gridcolor": "white",
           "linecolor": "white",
           "ticks": "",
           "title": {
            "standoff": 15
           },
           "zerolinecolor": "white",
           "zerolinewidth": 2
          },
          "yaxis": {
           "automargin": true,
           "gridcolor": "white",
           "linecolor": "white",
           "ticks": "",
           "title": {
            "standoff": 15
           },
           "zerolinecolor": "white",
           "zerolinewidth": 2
          }
         }
        },
        "title": {
         "text": "Medals for Sweden per Olympic Game"
        },
        "xaxis": {
         "anchor": "y",
         "domain": [
          0,
          1
         ],
         "dtick": 2,
         "tick0": 1896,
         "title": {
          "text": "Year"
         }
        },
        "yaxis": {
         "anchor": "x",
         "domain": [
          0,
          1
         ],
         "title": {
          "text": "Medal"
         }
        }
       }
      }
     },
     "metadata": {},
     "output_type": "display_data"
    }
   ],
   "source": [
    "fig = px.bar(medals_per_OS, x=\"Year\", y=\"Medal\", title=\"Medals for Sweden per Olympic Game\")\n",
    "# Have all x-values visible in the fig plot\n",
    "fig.update_xaxes(tick0=1896, dtick=2)"
   ]
  },
  {
   "cell_type": "markdown",
   "metadata": {},
   "source": [
    "#### **d)** histogram över åldrar"
   ]
  },
  {
   "cell_type": "code",
   "execution_count": 48,
   "metadata": {},
   "outputs": [],
   "source": [
    "# Ages of athletes from SWE in 2016 olympics\n",
    "sweden_athletes_2016 = athlete_events[(athlete_events[\"NOC\"] == \"SWE\") & (athlete_events[\"Year\"] == 2016)]\n"
   ]
  },
  {
   "cell_type": "code",
   "execution_count": 49,
   "metadata": {},
   "outputs": [
    {
     "data": {
      "application/vnd.plotly.v1+json": {
       "config": {
        "plotlyServerURL": "https://plot.ly"
       },
       "data": [
        {
         "alignmentgroup": "True",
         "bingroup": "x",
         "hovertemplate": "Age=%{x}<br>count=%{y}<extra></extra>",
         "legendgroup": "",
         "marker": {
          "color": "#636efa",
          "pattern": {
           "shape": ""
          }
         },
         "name": "",
         "nbinsx": 40,
         "offsetgroup": "",
         "orientation": "v",
         "showlegend": false,
         "type": "histogram",
         "x": [
          26,
          44,
          44,
          41,
          41,
          27,
          38,
          26,
          26,
          26,
          23,
          33,
          38,
          26,
          26,
          27,
          27,
          41,
          41,
          23,
          54,
          54,
          21,
          27,
          26,
          20,
          29,
          20,
          24,
          19,
          25,
          22,
          22,
          22,
          22,
          31,
          50,
          29,
          36,
          34,
          28,
          22,
          31,
          27,
          32,
          31,
          22,
          29,
          44,
          44,
          26,
          34,
          34,
          21,
          23,
          27,
          25,
          22,
          19,
          19,
          19,
          19,
          19,
          18,
          18,
          29,
          34,
          34,
          23,
          29,
          25,
          23,
          27,
          29,
          26,
          25,
          32,
          25,
          28,
          28,
          29,
          29,
          35,
          24,
          24,
          24,
          35,
          26,
          24,
          28,
          40,
          40,
          26,
          22,
          23,
          21,
          17,
          17,
          17,
          17,
          27,
          36,
          39,
          33,
          30,
          22,
          23,
          25,
          29,
          22,
          28,
          26,
          31,
          31,
          23,
          28,
          24,
          35,
          26,
          26,
          22,
          19,
          25,
          31,
          29,
          25,
          25,
          26,
          29,
          25,
          37,
          22,
          22,
          32,
          22,
          29,
          29,
          22,
          26,
          22,
          27,
          23,
          22,
          27,
          24,
          23,
          32,
          29,
          25,
          31,
          22,
          29,
          29,
          29,
          22,
          22,
          22,
          22,
          22,
          22,
          22,
          26,
          23,
          28,
          28,
          24,
          22,
          40,
          23,
          25,
          25,
          31,
          26,
          21,
          29,
          21,
          20,
          30,
          33,
          22,
          35,
          35,
          30,
          49,
          49,
          25
         ],
         "xaxis": "x",
         "yaxis": "y"
        }
       ],
       "layout": {
        "bargap": 0.01,
        "barmode": "relative",
        "legend": {
         "tracegroupgap": 0
        },
        "shapes": [
         {
          "line": {
           "color": "green",
           "dash": "dash",
           "width": 3
          },
          "type": "line",
          "x0": 27.7,
          "x1": 27.7,
          "xref": "x",
          "y0": 0,
          "y1": 1,
          "yref": "y domain"
         }
        ],
        "template": {
         "data": {
          "bar": [
           {
            "error_x": {
             "color": "#2a3f5f"
            },
            "error_y": {
             "color": "#2a3f5f"
            },
            "marker": {
             "line": {
              "color": "#E5ECF6",
              "width": 0.5
             },
             "pattern": {
              "fillmode": "overlay",
              "size": 10,
              "solidity": 0.2
             }
            },
            "type": "bar"
           }
          ],
          "barpolar": [
           {
            "marker": {
             "line": {
              "color": "#E5ECF6",
              "width": 0.5
             },
             "pattern": {
              "fillmode": "overlay",
              "size": 10,
              "solidity": 0.2
             }
            },
            "type": "barpolar"
           }
          ],
          "carpet": [
           {
            "aaxis": {
             "endlinecolor": "#2a3f5f",
             "gridcolor": "white",
             "linecolor": "white",
             "minorgridcolor": "white",
             "startlinecolor": "#2a3f5f"
            },
            "baxis": {
             "endlinecolor": "#2a3f5f",
             "gridcolor": "white",
             "linecolor": "white",
             "minorgridcolor": "white",
             "startlinecolor": "#2a3f5f"
            },
            "type": "carpet"
           }
          ],
          "choropleth": [
           {
            "colorbar": {
             "outlinewidth": 0,
             "ticks": ""
            },
            "type": "choropleth"
           }
          ],
          "contour": [
           {
            "colorbar": {
             "outlinewidth": 0,
             "ticks": ""
            },
            "colorscale": [
             [
              0,
              "#0d0887"
             ],
             [
              0.1111111111111111,
              "#46039f"
             ],
             [
              0.2222222222222222,
              "#7201a8"
             ],
             [
              0.3333333333333333,
              "#9c179e"
             ],
             [
              0.4444444444444444,
              "#bd3786"
             ],
             [
              0.5555555555555556,
              "#d8576b"
             ],
             [
              0.6666666666666666,
              "#ed7953"
             ],
             [
              0.7777777777777778,
              "#fb9f3a"
             ],
             [
              0.8888888888888888,
              "#fdca26"
             ],
             [
              1,
              "#f0f921"
             ]
            ],
            "type": "contour"
           }
          ],
          "contourcarpet": [
           {
            "colorbar": {
             "outlinewidth": 0,
             "ticks": ""
            },
            "type": "contourcarpet"
           }
          ],
          "heatmap": [
           {
            "colorbar": {
             "outlinewidth": 0,
             "ticks": ""
            },
            "colorscale": [
             [
              0,
              "#0d0887"
             ],
             [
              0.1111111111111111,
              "#46039f"
             ],
             [
              0.2222222222222222,
              "#7201a8"
             ],
             [
              0.3333333333333333,
              "#9c179e"
             ],
             [
              0.4444444444444444,
              "#bd3786"
             ],
             [
              0.5555555555555556,
              "#d8576b"
             ],
             [
              0.6666666666666666,
              "#ed7953"
             ],
             [
              0.7777777777777778,
              "#fb9f3a"
             ],
             [
              0.8888888888888888,
              "#fdca26"
             ],
             [
              1,
              "#f0f921"
             ]
            ],
            "type": "heatmap"
           }
          ],
          "heatmapgl": [
           {
            "colorbar": {
             "outlinewidth": 0,
             "ticks": ""
            },
            "colorscale": [
             [
              0,
              "#0d0887"
             ],
             [
              0.1111111111111111,
              "#46039f"
             ],
             [
              0.2222222222222222,
              "#7201a8"
             ],
             [
              0.3333333333333333,
              "#9c179e"
             ],
             [
              0.4444444444444444,
              "#bd3786"
             ],
             [
              0.5555555555555556,
              "#d8576b"
             ],
             [
              0.6666666666666666,
              "#ed7953"
             ],
             [
              0.7777777777777778,
              "#fb9f3a"
             ],
             [
              0.8888888888888888,
              "#fdca26"
             ],
             [
              1,
              "#f0f921"
             ]
            ],
            "type": "heatmapgl"
           }
          ],
          "histogram": [
           {
            "marker": {
             "pattern": {
              "fillmode": "overlay",
              "size": 10,
              "solidity": 0.2
             }
            },
            "type": "histogram"
           }
          ],
          "histogram2d": [
           {
            "colorbar": {
             "outlinewidth": 0,
             "ticks": ""
            },
            "colorscale": [
             [
              0,
              "#0d0887"
             ],
             [
              0.1111111111111111,
              "#46039f"
             ],
             [
              0.2222222222222222,
              "#7201a8"
             ],
             [
              0.3333333333333333,
              "#9c179e"
             ],
             [
              0.4444444444444444,
              "#bd3786"
             ],
             [
              0.5555555555555556,
              "#d8576b"
             ],
             [
              0.6666666666666666,
              "#ed7953"
             ],
             [
              0.7777777777777778,
              "#fb9f3a"
             ],
             [
              0.8888888888888888,
              "#fdca26"
             ],
             [
              1,
              "#f0f921"
             ]
            ],
            "type": "histogram2d"
           }
          ],
          "histogram2dcontour": [
           {
            "colorbar": {
             "outlinewidth": 0,
             "ticks": ""
            },
            "colorscale": [
             [
              0,
              "#0d0887"
             ],
             [
              0.1111111111111111,
              "#46039f"
             ],
             [
              0.2222222222222222,
              "#7201a8"
             ],
             [
              0.3333333333333333,
              "#9c179e"
             ],
             [
              0.4444444444444444,
              "#bd3786"
             ],
             [
              0.5555555555555556,
              "#d8576b"
             ],
             [
              0.6666666666666666,
              "#ed7953"
             ],
             [
              0.7777777777777778,
              "#fb9f3a"
             ],
             [
              0.8888888888888888,
              "#fdca26"
             ],
             [
              1,
              "#f0f921"
             ]
            ],
            "type": "histogram2dcontour"
           }
          ],
          "mesh3d": [
           {
            "colorbar": {
             "outlinewidth": 0,
             "ticks": ""
            },
            "type": "mesh3d"
           }
          ],
          "parcoords": [
           {
            "line": {
             "colorbar": {
              "outlinewidth": 0,
              "ticks": ""
             }
            },
            "type": "parcoords"
           }
          ],
          "pie": [
           {
            "automargin": true,
            "type": "pie"
           }
          ],
          "scatter": [
           {
            "fillpattern": {
             "fillmode": "overlay",
             "size": 10,
             "solidity": 0.2
            },
            "type": "scatter"
           }
          ],
          "scatter3d": [
           {
            "line": {
             "colorbar": {
              "outlinewidth": 0,
              "ticks": ""
             }
            },
            "marker": {
             "colorbar": {
              "outlinewidth": 0,
              "ticks": ""
             }
            },
            "type": "scatter3d"
           }
          ],
          "scattercarpet": [
           {
            "marker": {
             "colorbar": {
              "outlinewidth": 0,
              "ticks": ""
             }
            },
            "type": "scattercarpet"
           }
          ],
          "scattergeo": [
           {
            "marker": {
             "colorbar": {
              "outlinewidth": 0,
              "ticks": ""
             }
            },
            "type": "scattergeo"
           }
          ],
          "scattergl": [
           {
            "marker": {
             "colorbar": {
              "outlinewidth": 0,
              "ticks": ""
             }
            },
            "type": "scattergl"
           }
          ],
          "scattermapbox": [
           {
            "marker": {
             "colorbar": {
              "outlinewidth": 0,
              "ticks": ""
             }
            },
            "type": "scattermapbox"
           }
          ],
          "scatterpolar": [
           {
            "marker": {
             "colorbar": {
              "outlinewidth": 0,
              "ticks": ""
             }
            },
            "type": "scatterpolar"
           }
          ],
          "scatterpolargl": [
           {
            "marker": {
             "colorbar": {
              "outlinewidth": 0,
              "ticks": ""
             }
            },
            "type": "scatterpolargl"
           }
          ],
          "scatterternary": [
           {
            "marker": {
             "colorbar": {
              "outlinewidth": 0,
              "ticks": ""
             }
            },
            "type": "scatterternary"
           }
          ],
          "surface": [
           {
            "colorbar": {
             "outlinewidth": 0,
             "ticks": ""
            },
            "colorscale": [
             [
              0,
              "#0d0887"
             ],
             [
              0.1111111111111111,
              "#46039f"
             ],
             [
              0.2222222222222222,
              "#7201a8"
             ],
             [
              0.3333333333333333,
              "#9c179e"
             ],
             [
              0.4444444444444444,
              "#bd3786"
             ],
             [
              0.5555555555555556,
              "#d8576b"
             ],
             [
              0.6666666666666666,
              "#ed7953"
             ],
             [
              0.7777777777777778,
              "#fb9f3a"
             ],
             [
              0.8888888888888888,
              "#fdca26"
             ],
             [
              1,
              "#f0f921"
             ]
            ],
            "type": "surface"
           }
          ],
          "table": [
           {
            "cells": {
             "fill": {
              "color": "#EBF0F8"
             },
             "line": {
              "color": "white"
             }
            },
            "header": {
             "fill": {
              "color": "#C8D4E3"
             },
             "line": {
              "color": "white"
             }
            },
            "type": "table"
           }
          ]
         },
         "layout": {
          "annotationdefaults": {
           "arrowcolor": "#2a3f5f",
           "arrowhead": 0,
           "arrowwidth": 1
          },
          "autotypenumbers": "strict",
          "coloraxis": {
           "colorbar": {
            "outlinewidth": 0,
            "ticks": ""
           }
          },
          "colorscale": {
           "diverging": [
            [
             0,
             "#8e0152"
            ],
            [
             0.1,
             "#c51b7d"
            ],
            [
             0.2,
             "#de77ae"
            ],
            [
             0.3,
             "#f1b6da"
            ],
            [
             0.4,
             "#fde0ef"
            ],
            [
             0.5,
             "#f7f7f7"
            ],
            [
             0.6,
             "#e6f5d0"
            ],
            [
             0.7,
             "#b8e186"
            ],
            [
             0.8,
             "#7fbc41"
            ],
            [
             0.9,
             "#4d9221"
            ],
            [
             1,
             "#276419"
            ]
           ],
           "sequential": [
            [
             0,
             "#0d0887"
            ],
            [
             0.1111111111111111,
             "#46039f"
            ],
            [
             0.2222222222222222,
             "#7201a8"
            ],
            [
             0.3333333333333333,
             "#9c179e"
            ],
            [
             0.4444444444444444,
             "#bd3786"
            ],
            [
             0.5555555555555556,
             "#d8576b"
            ],
            [
             0.6666666666666666,
             "#ed7953"
            ],
            [
             0.7777777777777778,
             "#fb9f3a"
            ],
            [
             0.8888888888888888,
             "#fdca26"
            ],
            [
             1,
             "#f0f921"
            ]
           ],
           "sequentialminus": [
            [
             0,
             "#0d0887"
            ],
            [
             0.1111111111111111,
             "#46039f"
            ],
            [
             0.2222222222222222,
             "#7201a8"
            ],
            [
             0.3333333333333333,
             "#9c179e"
            ],
            [
             0.4444444444444444,
             "#bd3786"
            ],
            [
             0.5555555555555556,
             "#d8576b"
            ],
            [
             0.6666666666666666,
             "#ed7953"
            ],
            [
             0.7777777777777778,
             "#fb9f3a"
            ],
            [
             0.8888888888888888,
             "#fdca26"
            ],
            [
             1,
             "#f0f921"
            ]
           ]
          },
          "colorway": [
           "#636efa",
           "#EF553B",
           "#00cc96",
           "#ab63fa",
           "#FFA15A",
           "#19d3f3",
           "#FF6692",
           "#B6E880",
           "#FF97FF",
           "#FECB52"
          ],
          "font": {
           "color": "#2a3f5f"
          },
          "geo": {
           "bgcolor": "white",
           "lakecolor": "white",
           "landcolor": "#E5ECF6",
           "showlakes": true,
           "showland": true,
           "subunitcolor": "white"
          },
          "hoverlabel": {
           "align": "left"
          },
          "hovermode": "closest",
          "mapbox": {
           "style": "light"
          },
          "paper_bgcolor": "white",
          "plot_bgcolor": "#E5ECF6",
          "polar": {
           "angularaxis": {
            "gridcolor": "white",
            "linecolor": "white",
            "ticks": ""
           },
           "bgcolor": "#E5ECF6",
           "radialaxis": {
            "gridcolor": "white",
            "linecolor": "white",
            "ticks": ""
           }
          },
          "scene": {
           "xaxis": {
            "backgroundcolor": "#E5ECF6",
            "gridcolor": "white",
            "gridwidth": 2,
            "linecolor": "white",
            "showbackground": true,
            "ticks": "",
            "zerolinecolor": "white"
           },
           "yaxis": {
            "backgroundcolor": "#E5ECF6",
            "gridcolor": "white",
            "gridwidth": 2,
            "linecolor": "white",
            "showbackground": true,
            "ticks": "",
            "zerolinecolor": "white"
           },
           "zaxis": {
            "backgroundcolor": "#E5ECF6",
            "gridcolor": "white",
            "gridwidth": 2,
            "linecolor": "white",
            "showbackground": true,
            "ticks": "",
            "zerolinecolor": "white"
           }
          },
          "shapedefaults": {
           "line": {
            "color": "#2a3f5f"
           }
          },
          "ternary": {
           "aaxis": {
            "gridcolor": "white",
            "linecolor": "white",
            "ticks": ""
           },
           "baxis": {
            "gridcolor": "white",
            "linecolor": "white",
            "ticks": ""
           },
           "bgcolor": "#E5ECF6",
           "caxis": {
            "gridcolor": "white",
            "linecolor": "white",
            "ticks": ""
           }
          },
          "title": {
           "x": 0.05
          },
          "xaxis": {
           "automargin": true,
           "gridcolor": "white",
           "linecolor": "white",
           "ticks": "",
           "title": {
            "standoff": 15
           },
           "zerolinecolor": "white",
           "zerolinewidth": 2
          },
          "yaxis": {
           "automargin": true,
           "gridcolor": "white",
           "linecolor": "white",
           "ticks": "",
           "title": {
            "standoff": 15
           },
           "zerolinecolor": "white",
           "zerolinewidth": 2
          }
         }
        },
        "title": {
         "text": "Age distribution of athletes from SWE in 2016 olympics"
        },
        "xaxis": {
         "anchor": "y",
         "domain": [
          0,
          1
         ],
         "range": [
          7.699999999999999,
          47.7
         ],
         "title": {
          "text": "Age"
         }
        },
        "yaxis": {
         "anchor": "x",
         "domain": [
          0,
          1
         ],
         "title": {
          "text": "count"
         }
        }
       }
      }
     },
     "metadata": {},
     "output_type": "display_data"
    }
   ],
   "source": [
    "# Plotting a histogram over ages of athletes from SWE in 2016 olympics\n",
    "mean_age_2016 = round(sweden_athletes_2016[\"Age\"].mean(), 1)\n",
    "\n",
    "# Plotting a histogram of ages of athletes from SWE in 2016 olympics around the mean age\n",
    "fig = px.histogram(sweden_athletes_2016, x=\"Age\", nbins = 40, title=\"Age distribution of athletes from SWE in 2016 olympics\")\n",
    "\n",
    "# Setting the mean age in the middle of the x-axis\n",
    "fig.update_xaxes(range=[mean_age_2016-20, mean_age_2016+20])\n",
    "\n",
    "# Mark the mean age in the x-axis\n",
    "fig.add_vline(x=mean_age_2016, line_width=3, line_dash=\"dash\", line_color=\"green\")\n",
    "\n",
    "# Making spaces between bars\n",
    "fig.update_layout(bargap=0.01)\n",
    "\n",
    "fig.show()"
   ]
  },
  {
   "cell_type": "code",
   "execution_count": 50,
   "metadata": {},
   "outputs": [
    {
     "data": {
      "application/vnd.plotly.v1+json": {
       "config": {
        "plotlyServerURL": "https://plot.ly"
       },
       "data": [
        {
         "alignmentgroup": "True",
         "bingroup": "x",
         "hovertemplate": "Age=%{x}<br>count=%{y}<extra></extra>",
         "legendgroup": "",
         "marker": {
          "color": "#636efa",
          "pattern": {
           "shape": ""
          }
         },
         "name": "",
         "offsetgroup": "",
         "orientation": "v",
         "showlegend": false,
         "type": "histogram",
         "x": [
          26,
          23,
          19,
          19,
          17,
          30,
          27,
          25,
          29,
          33,
          24,
          22,
          28,
          28,
          28,
          33,
          33,
          31,
          24,
          23,
          23,
          22,
          21,
          22,
          22,
          25,
          25,
          27,
          25,
          25,
          18,
          18,
          18,
          18,
          18,
          18,
          37,
          37,
          45,
          45,
          45,
          39,
          17,
          17,
          17,
          17,
          15,
          19,
          19,
          27,
          27,
          31,
          31,
          15,
          23,
          21,
          22,
          26,
          23,
          23,
          23,
          27,
          27,
          27,
          25,
          25,
          16,
          16,
          16,
          16,
          16,
          20,
          20,
          20,
          20,
          20,
          44,
          20,
          34,
          20,
          25,
          19,
          24,
          32,
          71,
          24,
          23,
          27,
          44,
          24,
          24,
          24,
          32,
          23,
          23,
          25,
          21,
          48,
          20,
          24,
          24,
          24,
          25,
          23,
          31,
          26,
          26,
          23,
          23,
          27,
          23,
          36,
          40,
          25,
          24,
          24,
          18,
          18,
          26,
          28,
          29,
          29,
          24,
          26,
          28,
          23,
          24,
          28,
          20,
          28,
          28,
          27,
          25,
          20,
          26,
          24,
          33,
          26,
          38,
          38,
          26,
          26,
          30,
          30,
          25,
          32,
          36,
          39,
          34,
          24,
          20,
          22,
          25,
          29,
          33,
          37,
          41,
          27,
          24,
          32,
          32,
          36,
          36,
          40,
          40,
          44,
          44,
          29,
          29,
          37,
          37,
          41,
          41,
          32,
          30,
          34,
          27,
          23,
          27,
          31,
          31,
          25,
          29,
          23,
          29,
          24,
          28,
          39,
          22,
          20,
          28,
          47,
          27,
          26,
          30,
          20,
          29,
          32,
          18,
          18,
          31,
          25,
          28,
          28,
          18,
          18,
          23,
          23,
          23,
          26,
          26,
          30,
          30,
          34,
          38,
          27,
          21,
          26,
          28,
          32,
          32,
          28,
          32,
          37,
          37,
          26,
          26,
          19,
          19,
          19,
          19,
          23,
          23,
          23,
          27,
          27,
          27,
          31,
          31,
          35,
          35,
          26,
          29,
          33,
          17,
          26,
          26,
          28,
          23,
          27,
          23,
          23,
          27,
          27,
          44,
          44,
          17,
          20,
          23,
          30,
          29,
          33,
          20,
          22,
          26,
          20,
          24,
          28,
          27,
          27,
          22,
          21,
          24,
          35,
          26,
          23,
          31,
          35,
          39,
          19,
          19,
          17,
          24,
          21,
          25,
          26,
          19,
          16,
          24,
          28,
          15,
          15,
          20,
          20,
          24,
          24,
          28,
          28,
          21,
          24,
          20,
          31,
          35,
          27,
          22,
          26,
          30,
          34,
          20,
          20,
          20,
          38,
          38,
          46,
          24,
          24,
          24,
          24,
          29,
          22,
          22,
          20,
          20,
          24,
          18,
          24,
          31,
          29,
          17,
          20,
          24,
          23,
          36,
          25,
          25,
          24,
          24,
          23,
          24,
          24,
          20,
          24,
          24,
          29,
          33,
          22,
          22,
          26,
          26,
          28,
          28,
          32,
          32,
          32,
          19,
          23,
          27,
          27,
          22,
          22,
          26,
          26,
          26,
          30,
          30,
          32,
          32,
          26,
          30,
          38,
          38,
          22,
          26,
          31,
          20,
          20,
          20,
          20,
          24,
          24,
          24,
          24,
          22,
          27,
          27,
          14,
          18,
          18,
          18,
          26,
          30,
          34,
          23,
          27,
          31,
          23,
          23,
          35,
          34,
          38,
          21,
          25,
          25,
          25,
          29,
          29,
          33,
          31,
          29,
          28,
          21,
          22,
          22,
          24,
          25,
          25,
          26,
          20,
          21,
          25,
          25,
          22,
          28,
          26,
          22,
          25,
          29,
          31,
          19,
          19,
          21,
          21,
          21,
          21,
          25,
          25,
          25,
          33,
          33,
          22,
          26,
          27,
          27,
          41,
          22,
          26,
          30,
          30,
          17,
          25,
          25,
          21,
          33,
          27,
          30,
          27,
          24,
          34,
          34,
          29,
          26,
          26,
          32,
          32,
          17,
          17,
          21,
          21,
          29,
          33,
          23,
          27,
          23,
          27,
          26,
          33,
          24,
          29,
          28,
          32,
          32,
          20,
          24,
          21,
          25,
          27,
          30,
          35,
          39,
          25,
          30,
          34,
          25,
          20,
          26,
          30,
          30,
          26,
          26,
          23,
          40,
          44,
          27,
          25,
          25,
          29,
          30,
          33,
          33,
          31,
          28,
          28,
          28,
          28,
          38,
          38,
          46,
          28,
          28,
          24,
          25,
          30,
          22,
          25,
          16,
          16,
          16,
          20,
          20,
          43,
          43,
          43,
          47,
          47,
          47,
          47,
          47,
          24,
          28,
          28,
          22,
          25,
          21,
          21,
          25,
          25,
          29,
          29,
          25,
          25,
          25,
          25,
          26,
          30,
          21,
          41,
          41,
          25,
          22,
          27,
          50,
          50,
          26,
          26,
          26,
          26,
          34,
          24,
          23,
          27,
          27,
          31,
          35,
          28,
          28,
          28,
          26,
          28,
          17,
          21,
          25,
          40,
          25,
          27,
          27,
          27,
          26,
          19,
          47,
          27,
          21,
          38,
          42,
          42,
          26,
          30,
          25,
          25,
          29,
          29,
          33,
          23,
          25,
          29,
          19,
          23,
          22,
          30,
          25,
          22,
          26,
          27,
          28,
          23,
          19,
          26,
          19,
          19,
          27,
          27,
          23,
          27,
          33,
          33,
          25,
          23,
          23,
          23,
          23,
          23,
          21,
          25,
          25,
          22,
          29,
          29,
          25,
          29,
          22,
          26,
          27,
          26,
          30,
          42,
          42,
          28,
          32,
          36,
          18,
          18,
          22,
          22,
          22,
          22,
          21,
          21,
          25,
          25,
          29,
          29,
          41,
          41,
          26,
          38,
          22,
          25,
          28,
          31,
          31,
          20,
          20,
          20,
          20,
          24,
          24,
          24,
          24,
          24,
          24,
          29,
          33,
          33,
          33,
          41,
          18,
          19,
          23,
          22,
          22,
          23,
          24,
          22,
          22,
          26,
          26,
          24,
          24,
          24,
          28,
          28,
          28,
          21,
          25,
          23,
          23,
          24,
          26,
          28,
          22,
          18,
          29,
          26,
          26,
          30,
          34,
          27,
          18,
          18,
          28,
          32,
          21,
          23,
          30,
          20,
          24,
          24,
          26,
          26,
          22,
          22,
          26,
          26,
          34,
          34,
          42,
          42,
          46,
          46,
          50,
          50,
          54,
          54,
          25,
          22,
          29,
          18,
          24,
          24,
          24,
          21,
          18,
          18,
          18,
          22,
          22,
          22,
          26,
          26,
          25,
          28,
          32,
          22,
          21,
          32,
          24,
          39,
          43,
          43,
          25,
          26,
          19,
          18,
          18,
          18,
          18,
          18,
          18,
          18,
          22,
          22,
          22,
          22,
          22,
          22,
          22,
          20,
          18,
          18,
          18,
          22,
          22,
          27,
          27,
          29,
          29,
          21,
          28,
          25,
          37,
          41,
          45,
          24,
          32,
          24,
          27,
          29,
          20,
          20,
          20,
          19,
          19,
          19,
          23,
          27,
          24,
          30,
          21,
          25,
          18,
          18,
          25,
          21,
          25,
          33,
          15,
          23,
          23,
          23,
          23,
          27,
          27,
          27,
          27,
          31,
          31,
          31,
          31,
          35,
          35,
          35,
          35,
          19,
          26,
          25,
          24,
          21,
          21,
          31,
          20,
          20,
          28,
          25,
          31,
          19,
          23,
          26,
          22,
          34,
          38,
          25,
          25,
          29,
          25,
          29,
          26,
          26,
          26,
          25,
          29,
          20,
          20,
          20,
          23,
          47,
          29,
          21,
          21,
          25,
          25,
          29,
          23,
          20,
          29,
          21,
          21,
          21,
          28,
          28,
          18,
          24,
          20,
          30,
          35,
          35,
          26,
          23,
          29,
          33,
          37,
          52,
          52,
          18,
          19,
          25,
          37,
          25,
          29,
          28,
          26,
          27,
          68,
          68,
          68,
          68,
          68,
          68,
          68,
          26,
          26,
          29,
          26,
          39,
          39,
          39,
          39,
          31,
          35,
          39,
          27,
          25,
          29,
          33,
          24,
          24,
          25,
          29,
          29,
          33,
          33,
          28,
          32,
          36,
          36,
          44,
          44,
          21,
          21,
          30,
          30,
          30,
          32,
          17,
          26,
          25,
          21,
          42,
          42,
          42,
          24,
          24,
          32,
          36,
          36,
          24,
          24,
          24,
          24,
          20,
          20,
          20,
          24,
          24,
          20,
          24,
          28,
          24,
          20,
          24,
          42,
          42,
          28,
          28,
          35,
          20,
          25,
          25,
          18,
          24,
          20,
          20,
          29,
          30,
          30,
          34,
          23,
          23,
          23,
          23,
          23,
          23,
          23,
          25,
          29,
          22,
          30,
          30,
          30,
          24,
          32,
          32,
          29,
          29,
          29,
          29,
          23,
          23,
          27,
          33,
          33,
          41,
          41,
          41,
          41,
          41,
          41,
          41,
          24,
          23,
          27,
          27,
          19,
          28,
          28,
          28,
          25,
          33,
          38,
          22,
          26,
          26,
          42,
          50,
          33,
          18,
          47,
          47,
          47,
          47,
          21,
          21,
          21,
          25,
          25,
          38,
          22,
          27,
          26,
          26,
          22,
          27,
          27,
          27,
          31,
          28,
          28,
          44,
          44,
          48,
          48,
          52,
          52,
          51,
          59,
          40,
          56,
          56,
          17,
          23,
          22,
          22,
          22,
          18,
          18,
          18,
          22,
          22,
          22,
          22,
          26,
          26,
          26,
          16,
          16,
          27,
          27,
          24,
          28,
          21,
          25,
          29,
          20,
          24,
          27,
          23,
          30,
          21,
          27,
          27,
          21,
          25,
          26,
          30,
          42,
          42,
          42,
          42,
          46,
          29,
          29,
          33,
          33,
          33,
          33,
          19,
          19,
          17,
          17,
          16,
          16,
          34,
          25,
          28,
          32,
          37,
          27,
          27,
          28,
          28,
          28,
          21,
          24,
          21,
          21,
          21,
          25,
          25,
          20,
          24,
          24,
          24,
          24,
          24,
          36,
          36,
          30,
          30,
          40,
          40,
          43,
          43,
          47,
          47,
          27,
          31,
          31,
          26,
          26,
          24,
          26,
          23,
          26,
          22,
          40,
          21,
          20,
          20,
          28,
          28,
          22,
          20,
          24,
          28,
          23,
          23,
          23,
          22,
          26,
          30,
          25,
          25,
          25,
          23,
          25,
          25,
          26,
          30,
          32,
          23,
          27,
          32,
          33,
          20,
          20,
          25,
          22,
          23,
          22,
          26,
          35,
          35,
          23,
          28,
          28,
          24,
          26,
          26,
          26,
          30,
          30,
          36,
          36,
          28,
          38,
          38,
          30,
          25,
          29,
          31,
          34,
          18,
          44,
          23,
          26,
          26,
          26,
          26,
          26,
          26,
          26,
          26,
          28,
          28,
          28,
          28,
          28,
          28,
          28,
          32,
          32,
          32,
          32,
          32,
          32,
          32,
          32,
          32,
          32,
          44,
          22,
          22,
          26,
          26,
          26,
          26,
          26,
          26,
          26,
          26,
          26,
          26,
          28,
          28,
          28,
          28,
          28,
          28,
          32,
          32,
          32,
          32,
          32,
          32,
          32,
          32,
          44,
          21,
          21,
          23,
          27,
          31,
          35,
          23,
          23,
          23,
          23,
          27,
          27,
          27,
          27,
          35,
          35,
          31,
          35,
          35,
          39,
          39,
          25,
          41,
          21,
          29,
          23,
          23,
          23,
          21,
          20,
          27,
          28,
          28,
          28,
          28,
          28,
          28,
          28,
          28,
          25,
          29,
          29,
          27,
          24,
          23,
          19,
          23,
          23,
          26,
          22,
          22,
          13,
          13,
          30,
          23,
          29,
          38,
          21,
          24,
          28,
          32,
          30,
          24,
          28,
          24,
          24,
          24,
          27,
          26,
          22,
          22,
          27,
          23,
          26,
          24,
          32,
          28,
          27,
          24,
          30,
          21,
          21,
          21,
          21,
          25,
          25,
          25,
          24,
          25,
          25,
          25,
          23,
          25,
          30,
          22,
          18,
          18,
          24,
          41,
          15,
          40,
          40,
          33,
          33,
          32,
          32,
          32,
          25,
          25,
          25,
          41,
          41,
          19,
          24,
          24,
          22,
          23,
          23,
          23,
          23,
          22,
          22,
          26,
          32,
          32,
          36,
          22,
          26,
          26,
          26,
          21,
          25,
          29,
          23,
          23,
          27,
          46,
          32,
          18,
          18,
          22,
          22,
          22,
          22,
          37,
          37,
          46,
          46,
          21,
          21,
          25,
          20,
          24,
          25,
          21,
          21,
          25,
          27,
          27,
          27,
          27,
          27,
          27,
          27,
          27,
          21,
          31,
          20,
          24,
          19,
          19,
          21,
          21,
          21,
          21,
          29,
          25,
          29,
          21,
          21,
          23,
          27,
          31,
          22,
          25,
          21,
          27,
          27,
          31,
          31,
          31,
          31,
          28,
          25,
          25,
          25,
          25,
          25,
          29,
          29,
          29,
          33,
          33,
          33,
          33,
          38,
          42,
          46,
          50,
          31,
          35,
          25,
          30,
          24,
          23,
          27,
          26,
          26,
          20,
          25,
          29,
          27,
          24,
          24,
          21,
          17,
          25,
          25,
          25,
          29,
          33,
          33,
          18,
          24,
          27,
          31,
          28,
          28,
          24,
          24,
          24,
          23,
          23,
          27,
          22,
          20,
          24,
          24,
          24,
          24,
          25,
          25,
          25,
          39,
          24,
          31,
          29,
          29,
          29,
          29,
          25,
          25,
          36,
          36,
          40,
          21,
          28,
          19,
          19,
          22,
          29,
          29,
          33,
          26,
          26,
          33,
          33,
          19,
          26,
          35,
          35,
          22,
          22,
          27,
          22,
          30,
          30,
          34,
          29,
          28,
          32,
          32,
          36,
          36,
          44,
          44,
          28,
          23,
          23,
          23,
          28,
          22,
          22,
          26,
          26,
          21,
          24,
          28,
          27,
          24,
          28,
          28,
          32,
          32,
          36,
          36,
          26,
          25,
          37,
          33,
          33,
          37,
          22,
          26,
          30,
          19,
          25,
          21,
          25,
          25,
          29,
          29,
          26,
          26,
          21,
          18,
          18,
          18,
          18,
          18,
          18,
          22,
          22,
          22,
          22,
          22,
          22,
          26,
          26,
          26,
          26,
          26,
          32,
          36,
          36,
          26,
          18,
          18,
          18,
          18,
          27,
          25,
          24,
          24,
          28,
          28,
          28,
          28,
          28,
          28,
          32,
          32,
          32,
          36,
          21,
          30,
          23,
          21,
          25,
          25,
          27,
          31,
          31,
          31,
          23,
          23,
          26,
          26,
          26,
          23,
          25,
          26,
          26,
          27,
          27,
          27,
          22,
          34,
          23,
          23,
          22,
          22,
          24,
          24,
          24,
          22,
          22,
          24,
          24,
          18,
          17,
          17,
          24,
          20,
          20,
          25,
          29,
          17,
          28,
          29,
          27,
          27,
          27,
          57,
          57,
          57,
          57,
          20,
          26,
          19,
          23,
          22,
          20,
          20,
          28,
          28,
          22,
          22,
          22,
          28,
          28,
          23,
          27,
          27,
          29,
          59,
          59,
          25,
          18,
          22,
          26,
          21,
          21,
          21,
          21,
          21,
          21,
          28,
          52,
          16,
          20,
          24,
          29,
          24,
          24,
          28,
          28,
          22,
          34,
          29,
          33,
          33,
          42,
          28,
          28,
          28,
          28,
          32,
          32,
          24,
          20,
          20,
          24,
          24,
          24,
          24,
          22,
          19,
          23,
          27,
          25,
          33,
          33,
          24,
          24,
          26,
          26,
          27,
          34,
          38,
          21,
          21,
          21,
          25,
          25,
          25,
          24,
          26,
          30,
          27,
          25,
          25,
          25,
          29,
          29,
          29,
          28,
          24,
          29,
          25,
          22,
          27,
          22,
          30,
          30,
          31,
          18,
          25,
          32,
          36,
          44,
          44,
          22,
          30,
          22,
          34,
          29,
          26,
          26,
          24,
          28,
          27,
          29,
          31,
          31,
          26,
          29,
          41,
          41,
          41,
          27,
          31,
          22,
          22,
          24,
          29,
          33,
          29,
          20,
          29,
          33,
          33,
          33,
          22,
          27,
          27,
          29,
          21,
          21,
          21,
          25,
          25,
          25,
          25,
          25,
          20,
          22,
          26,
          23,
          15,
          15,
          19,
          19,
          19,
          19,
          23,
          23,
          23,
          26,
          17,
          17,
          27,
          27,
          28,
          36,
          21,
          21,
          16,
          25,
          29,
          29,
          26,
          26,
          30,
          30,
          30,
          33,
          33,
          37,
          41,
          41,
          45,
          45,
          49,
          49,
          53,
          53,
          28,
          25,
          30,
          null,
          null,
          null,
          23,
          25,
          25,
          29,
          29,
          19,
          27,
          27,
          31,
          23,
          24,
          28,
          28,
          39,
          21,
          21,
          21,
          21,
          20,
          24,
          24,
          24,
          22,
          25,
          25,
          22,
          27,
          21,
          21,
          21,
          23,
          25,
          28,
          21,
          21,
          25,
          25,
          25,
          25,
          25,
          24,
          28,
          22,
          29,
          18,
          18,
          22,
          22,
          23,
          23,
          23,
          23,
          31,
          31,
          31,
          31,
          31,
          31,
          31,
          31,
          35,
          35,
          35,
          18,
          18,
          24,
          30,
          30,
          23,
          22,
          24,
          32,
          32,
          36,
          36,
          44,
          44,
          48,
          48,
          27,
          30,
          27,
          29,
          20,
          20,
          24,
          24,
          28,
          23,
          20,
          28,
          20,
          20,
          20,
          21,
          21,
          21,
          25,
          25,
          30,
          21,
          26,
          24,
          24,
          22,
          23,
          22,
          27,
          31,
          23,
          23,
          23,
          24,
          24,
          21,
          21,
          21,
          23,
          25,
          25,
          23,
          27,
          31,
          53,
          57,
          57,
          20,
          20,
          23,
          27,
          19,
          25,
          22,
          22,
          22,
          26,
          24,
          20,
          20,
          24,
          24,
          24,
          23,
          23,
          27,
          21,
          26,
          30,
          38,
          38,
          38,
          23,
          20,
          22,
          27,
          27,
          28,
          21,
          29,
          28,
          28,
          19,
          22,
          24,
          24,
          21,
          21,
          24,
          27,
          28,
          24,
          24,
          28,
          28,
          17,
          21,
          21,
          21,
          25,
          35,
          23,
          23,
          23,
          23,
          27,
          27,
          27,
          27,
          27,
          31,
          31,
          31,
          31,
          31,
          35,
          35,
          35,
          35,
          35,
          36,
          42,
          42,
          25,
          25,
          25,
          25,
          33,
          33,
          33,
          37,
          37,
          37,
          18,
          18,
          18,
          18,
          22,
          22,
          22,
          26,
          26,
          26,
          26,
          22,
          26,
          24,
          24,
          27,
          32,
          22,
          26,
          27,
          22,
          20,
          20,
          22,
          25,
          67,
          67,
          17,
          17,
          21,
          21,
          28,
          38,
          20,
          25,
          48,
          23,
          23,
          27,
          31,
          23,
          24,
          24,
          24,
          24,
          21,
          23,
          24,
          21,
          19,
          24,
          24,
          24,
          24,
          26,
          26,
          30,
          30,
          30,
          30,
          30,
          34,
          34,
          34,
          23,
          20,
          24,
          32,
          36,
          50,
          33,
          23,
          23,
          29,
          29,
          23,
          27,
          22,
          26,
          30,
          30,
          30,
          34,
          34,
          39,
          39,
          25,
          22,
          26,
          24,
          24,
          31,
          28,
          28,
          28,
          28,
          32,
          32,
          25,
          29,
          25,
          29,
          19,
          24,
          24,
          22,
          21,
          25,
          29,
          26,
          20,
          29,
          30,
          25,
          29,
          33,
          18,
          18,
          17,
          17,
          17,
          21,
          21,
          21,
          44,
          44,
          20,
          20,
          32,
          32,
          44,
          44,
          16,
          16,
          16,
          26,
          28,
          28,
          32,
          32,
          37,
          37,
          40,
          40,
          40,
          28,
          28,
          28,
          23,
          30,
          28,
          32,
          21,
          24,
          24,
          28,
          28,
          28,
          33,
          33,
          33,
          33,
          26,
          30,
          30,
          21,
          26,
          30,
          38,
          17,
          27,
          27,
          41,
          41,
          23,
          23,
          29,
          19,
          19,
          27,
          21,
          26,
          23,
          31,
          31,
          31,
          31,
          31,
          31,
          31,
          22,
          22,
          22,
          22,
          22,
          28,
          28,
          28,
          28,
          25,
          18,
          22,
          22,
          22,
          22,
          26,
          26,
          26,
          30,
          34,
          34,
          34,
          38,
          44,
          44,
          41,
          26,
          26,
          30,
          30,
          32,
          35,
          39,
          39,
          39,
          47,
          24,
          24,
          20,
          22,
          22,
          22,
          22,
          17,
          21,
          21,
          21,
          40,
          22,
          25,
          27,
          28,
          28,
          31,
          31,
          35,
          35,
          32,
          25,
          25,
          28,
          28,
          19,
          19,
          22,
          22,
          26,
          24,
          22,
          22,
          25,
          25,
          29,
          25,
          24,
          32,
          49,
          53,
          53,
          21,
          37,
          33,
          20,
          20,
          31,
          26,
          30,
          30,
          34,
          34,
          36,
          36,
          40,
          40,
          24,
          20,
          20,
          20,
          20,
          24,
          24,
          24,
          24,
          29,
          21,
          26,
          23,
          23,
          28,
          21,
          37,
          37,
          23,
          23,
          27,
          27,
          29,
          29,
          29,
          28,
          28,
          28,
          28,
          23,
          23,
          25,
          26,
          30,
          34,
          38,
          23,
          22,
          22,
          22,
          26,
          26,
          21,
          21,
          23,
          23,
          21,
          21,
          25,
          25,
          29,
          29,
          24,
          28,
          28,
          22,
          27,
          22,
          24,
          22,
          38,
          38,
          25,
          20,
          20,
          20,
          26,
          27,
          19,
          20,
          20,
          20,
          22,
          26,
          24,
          23,
          24,
          26,
          26,
          23,
          27,
          27,
          33,
          33,
          37,
          37,
          41,
          41,
          19,
          28,
          27,
          31,
          31,
          33,
          42,
          30,
          34,
          23,
          23,
          23,
          23,
          23,
          23,
          27,
          27,
          17,
          25,
          25,
          30,
          27,
          23,
          31,
          42,
          33,
          20,
          22,
          28,
          19,
          23,
          27,
          21,
          25,
          25,
          18,
          22,
          30,
          18,
          22,
          26,
          26,
          22,
          30,
          34,
          38,
          38,
          42,
          24,
          30,
          30,
          25,
          33,
          37,
          20,
          20,
          20,
          24,
          24,
          24,
          28,
          28,
          32,
          21,
          25,
          29,
          29,
          33,
          29,
          36,
          19,
          34,
          25,
          25,
          29,
          33,
          33,
          33,
          28,
          29,
          29,
          20,
          24,
          24,
          24,
          19,
          23,
          31,
          22,
          26,
          23,
          25,
          29,
          18,
          33,
          33,
          15,
          22,
          22,
          34,
          30,
          30,
          21,
          23,
          17,
          17,
          17,
          26,
          26,
          26,
          30,
          30,
          30,
          26,
          30,
          34,
          24,
          33,
          22,
          26,
          23,
          18,
          25,
          26,
          26,
          25,
          25,
          19,
          19,
          23,
          23,
          22,
          22,
          32,
          28,
          63,
          23,
          23,
          24,
          26,
          26,
          18,
          18,
          18,
          22,
          23,
          23,
          23,
          27,
          27,
          27,
          23,
          33,
          33,
          20,
          20,
          27,
          20,
          16,
          16,
          32,
          36,
          51,
          25,
          26,
          26,
          22,
          27,
          27,
          28,
          22,
          22,
          30,
          23,
          24,
          21,
          24,
          16,
          16,
          20,
          24,
          24,
          24,
          20,
          18,
          24,
          24,
          25,
          28,
          29,
          26,
          29,
          33,
          19,
          19,
          19,
          23,
          23,
          25,
          25,
          30,
          26,
          38,
          34,
          34,
          46,
          46,
          50,
          50,
          58,
          58,
          48,
          52,
          52,
          24,
          25,
          25,
          29,
          29,
          22,
          34,
          34,
          38,
          38,
          38,
          38,
          20,
          24,
          19,
          32,
          29,
          33,
          23,
          41,
          41,
          25,
          25,
          25,
          25,
          22,
          26,
          36,
          36,
          34,
          43,
          43,
          24,
          28,
          22,
          24,
          30,
          27,
          27,
          20,
          27,
          23,
          23,
          16,
          16,
          26,
          24,
          28,
          28,
          37,
          37,
          34,
          34,
          38,
          38,
          27,
          23,
          23,
          27,
          27,
          35,
          27,
          20,
          23,
          23,
          23,
          23,
          25,
          25,
          25,
          25,
          25,
          20,
          20,
          20,
          20,
          20,
          28,
          28,
          28,
          22,
          25,
          18,
          18,
          25,
          29,
          25,
          29,
          29,
          25,
          26,
          26,
          30,
          25,
          29,
          29,
          19,
          19,
          19,
          19,
          19,
          22,
          22,
          30,
          23,
          25,
          25,
          25,
          26,
          30,
          30,
          30,
          34,
          34,
          23,
          23,
          18,
          18,
          25,
          25,
          27,
          31,
          24,
          24,
          24,
          24,
          28,
          28,
          28,
          24,
          28,
          22,
          21,
          25,
          18,
          25,
          25,
          28,
          32,
          45,
          29,
          20,
          27,
          32,
          45,
          19,
          26,
          21,
          21,
          21,
          22,
          20,
          20,
          20,
          20,
          20,
          20,
          20,
          32,
          28,
          32,
          27,
          27,
          24,
          25,
          20,
          28,
          26,
          30,
          40,
          40,
          22,
          29,
          29,
          29,
          29,
          33,
          33,
          21,
          25,
          22,
          26,
          26,
          30,
          30,
          18,
          18,
          18,
          22,
          22,
          22,
          24,
          24,
          28,
          32,
          29,
          29,
          26,
          23,
          23,
          23,
          32,
          25,
          29,
          25,
          26,
          20,
          20,
          29,
          33,
          23,
          23,
          19,
          23,
          21,
          21,
          21,
          21,
          21,
          25,
          36,
          24,
          24,
          24,
          24,
          24,
          28,
          28,
          28,
          28,
          22,
          22,
          37,
          20,
          17,
          34,
          34,
          34,
          38,
          38,
          42,
          42,
          22,
          16,
          16,
          16,
          21,
          43,
          47,
          28,
          18,
          25,
          25,
          27,
          23,
          24,
          34,
          34,
          19,
          23,
          23,
          23,
          17,
          17,
          25,
          25,
          29,
          29,
          19,
          23,
          24,
          27,
          28,
          29,
          29,
          22,
          22,
          23,
          29,
          33,
          25,
          18,
          18,
          22,
          28,
          28,
          23,
          17,
          26,
          30,
          30,
          34,
          35,
          39,
          51,
          55,
          23,
          20,
          24,
          26,
          22,
          20,
          25,
          30,
          36,
          28,
          23,
          23,
          31,
          26,
          30,
          24,
          24,
          24,
          28,
          28,
          23,
          27,
          27,
          21,
          21,
          22,
          24,
          21,
          25,
          33,
          22,
          22,
          26,
          24,
          36,
          40,
          22,
          19,
          23,
          25,
          29,
          15,
          15,
          15,
          15,
          15,
          24,
          28,
          32,
          36,
          23,
          31,
          35,
          39,
          51,
          24,
          21,
          24,
          26,
          28,
          22,
          30,
          34,
          23,
          25,
          29,
          33,
          33,
          18,
          20,
          20,
          20,
          28,
          28,
          15,
          15,
          15,
          15,
          19,
          19,
          19,
          23,
          23,
          23,
          23,
          27,
          27,
          27,
          27,
          20,
          20,
          26,
          20,
          26,
          29,
          22,
          22,
          26,
          22,
          22,
          19,
          23,
          27,
          28,
          33,
          38,
          25,
          29,
          19,
          26,
          26,
          26,
          20,
          20,
          32,
          32,
          32,
          26,
          35,
          35,
          39,
          47,
          19,
          29,
          33,
          26,
          26,
          18,
          22,
          26,
          30,
          23,
          21,
          32,
          32,
          23,
          20,
          20,
          19,
          19,
          19,
          23,
          23,
          28,
          27,
          20,
          20,
          62,
          62,
          62,
          22,
          32,
          32,
          46,
          46,
          31,
          31,
          31,
          31,
          21,
          25,
          29,
          20,
          24,
          20,
          22,
          25,
          29,
          22,
          28,
          28,
          21,
          25,
          20,
          20,
          40,
          40,
          24,
          24,
          24,
          24,
          28,
          28,
          28,
          30,
          30,
          21,
          21,
          25,
          20,
          24,
          28,
          27,
          22,
          29,
          26,
          26,
          31,
          31,
          23,
          22,
          25,
          28,
          28,
          23,
          24,
          41,
          19,
          27,
          27,
          28,
          28,
          21,
          21,
          29,
          29,
          33,
          33,
          17,
          17,
          17,
          17,
          35,
          39,
          22,
          22,
          22,
          23,
          23,
          28,
          24,
          24,
          24,
          24,
          28,
          25,
          25,
          18,
          18,
          25,
          22,
          31,
          32,
          30,
          25,
          29,
          31,
          31,
          22,
          26,
          18,
          18,
          22,
          22,
          20,
          20,
          27,
          21,
          21,
          24,
          22,
          20,
          26,
          26,
          26,
          25,
          21,
          25,
          27,
          27,
          35,
          35,
          22,
          22,
          25,
          25,
          21,
          21,
          23,
          27,
          34,
          38,
          30,
          31,
          31,
          31,
          19,
          19,
          23,
          21,
          19,
          19,
          19,
          27,
          27,
          31,
          18,
          22,
          24,
          25,
          25,
          24,
          28,
          23,
          24,
          24,
          24,
          24,
          28,
          28,
          28,
          28,
          32,
          32,
          32,
          36,
          36,
          40,
          40,
          23,
          23,
          27,
          22,
          22,
          22,
          26,
          26,
          30,
          30,
          24,
          27,
          27,
          31,
          26,
          30,
          36,
          36,
          23,
          21,
          25,
          26,
          26,
          26,
          26,
          31,
          31,
          31,
          31,
          34,
          34,
          34,
          34,
          36,
          29,
          29,
          29,
          29,
          37,
          37,
          26,
          30,
          25,
          29,
          23,
          27,
          19,
          19,
          24,
          24,
          24,
          24,
          24,
          24,
          24,
          27,
          35,
          39,
          29,
          35,
          24,
          17,
          30,
          32,
          25,
          26,
          25,
          25,
          25,
          25,
          30,
          26,
          30,
          25,
          19,
          23,
          23,
          25,
          28,
          23,
          30,
          23,
          26,
          26,
          45,
          25,
          25,
          25,
          25,
          21,
          25,
          22,
          23,
          20,
          24,
          24,
          28,
          28,
          32,
          26,
          24,
          24,
          29,
          23,
          36,
          19,
          19,
          19,
          22,
          18,
          21,
          21,
          29,
          29,
          23,
          30,
          22,
          17,
          17,
          17,
          28,
          29,
          29,
          23,
          25,
          23,
          27,
          33,
          33,
          24,
          18,
          21,
          25,
          30,
          32,
          32,
          32,
          34,
          34,
          38,
          38,
          24,
          24,
          24,
          24,
          24,
          32,
          32,
          32,
          32,
          32,
          32,
          32,
          32,
          36,
          36,
          19,
          24,
          23,
          23,
          27,
          27,
          18,
          25,
          29,
          29,
          33,
          28,
          28,
          32,
          24,
          24,
          28,
          28,
          22,
          25,
          25,
          29,
          29,
          23,
          20,
          34,
          46,
          46,
          54,
          54,
          54,
          23,
          25,
          22,
          23,
          27,
          31,
          36,
          20,
          43,
          23,
          24,
          17,
          20,
          20,
          24,
          24,
          28,
          28,
          28,
          27,
          23,
          32,
          44,
          43,
          43,
          43,
          43,
          21,
          25,
          23,
          28,
          28,
          25,
          29,
          19,
          20,
          20,
          20,
          24,
          24,
          27,
          27,
          24,
          28,
          24,
          17,
          21,
          21,
          21,
          25,
          25,
          25,
          20,
          25,
          26,
          19,
          21,
          22,
          25,
          27,
          31,
          20,
          21,
          18,
          26,
          21,
          21,
          25,
          25,
          28,
          28,
          21,
          23,
          23,
          23,
          27,
          27,
          27,
          31,
          31,
          35,
          35,
          24,
          22,
          22,
          20,
          24,
          28,
          32,
          19,
          17,
          17,
          25,
          33,
          33,
          25,
          35,
          22,
          26,
          30,
          34,
          26,
          31,
          26,
          22,
          25,
          25,
          25,
          31,
          30,
          24,
          24,
          24,
          26,
          26,
          26,
          22,
          22,
          22,
          22,
          22,
          26,
          26,
          30,
          30,
          20,
          20,
          24,
          24,
          24,
          28,
          28,
          28,
          28,
          34,
          34,
          19,
          19,
          19,
          19,
          24,
          24,
          24,
          23,
          28,
          24,
          22,
          40,
          36,
          20,
          34,
          24,
          29,
          29,
          21,
          26,
          26,
          18,
          25,
          18,
          31,
          16,
          16,
          18,
          18,
          18,
          17,
          17,
          17,
          17,
          17,
          17,
          17,
          21,
          21,
          21,
          21,
          21,
          21,
          21,
          25,
          25,
          25,
          25,
          25,
          25,
          25,
          27,
          20,
          20,
          18,
          19,
          19,
          26,
          22,
          26,
          25,
          25,
          25,
          25,
          25,
          25,
          25,
          24,
          28,
          28,
          38,
          23,
          24,
          28,
          28,
          28,
          28,
          32,
          32,
          32,
          40,
          40,
          40,
          25,
          25,
          25,
          25,
          25,
          24,
          24,
          28,
          40,
          40,
          24,
          20,
          44,
          34,
          38,
          21,
          25,
          29,
          33,
          19,
          27,
          31,
          24,
          27,
          27,
          27,
          22,
          22,
          22,
          24,
          24,
          28,
          28,
          28,
          28,
          32,
          32,
          32,
          21,
          21,
          28,
          32,
          37,
          22,
          25,
          25,
          25,
          24,
          27,
          28,
          19,
          33,
          20,
          32,
          18,
          33,
          33,
          33,
          28,
          35,
          35,
          20,
          22,
          23,
          28,
          32,
          16,
          16,
          18,
          18,
          18,
          22,
          22,
          22,
          30,
          25,
          30,
          26,
          26,
          23,
          23,
          27,
          27,
          27,
          25,
          27,
          31,
          31,
          34,
          19,
          19,
          23,
          32,
          37,
          40,
          40,
          30,
          26,
          22,
          22,
          22,
          22,
          22,
          26,
          26,
          26,
          26,
          31,
          22,
          39,
          43,
          43,
          28,
          26,
          43,
          23,
          23,
          27,
          35,
          20,
          26,
          45,
          19,
          19,
          19,
          23,
          23,
          23,
          27,
          27,
          27,
          22,
          16,
          16,
          16,
          16,
          22,
          22,
          26,
          23,
          23,
          23,
          27,
          27,
          23,
          23,
          23,
          23,
          23,
          23,
          23,
          22,
          22,
          22,
          25,
          23,
          23,
          23,
          29,
          22,
          28,
          32,
          32,
          21,
          21,
          31,
          23,
          27,
          23,
          22,
          22,
          27,
          21,
          22,
          22,
          50,
          20,
          28,
          28,
          22,
          26,
          30,
          22,
          22,
          26,
          26,
          30,
          30,
          29,
          25,
          22,
          24,
          32,
          36,
          22,
          24,
          24,
          24,
          27,
          18,
          18,
          18,
          22,
          22,
          25,
          24,
          30,
          30,
          34,
          34,
          18,
          27,
          27,
          31,
          31,
          35,
          25,
          25,
          20,
          20,
          24,
          32,
          22,
          22,
          31,
          35,
          26,
          26,
          23,
          25,
          26,
          24,
          24,
          21,
          25,
          25,
          29,
          33,
          26,
          32,
          36,
          23,
          27,
          31,
          31,
          23,
          21,
          20,
          19,
          27,
          27,
          27,
          27,
          24,
          28,
          30,
          30,
          24,
          24,
          29,
          37,
          33,
          33,
          24,
          28,
          32,
          28,
          32,
          28,
          24,
          22,
          32,
          32,
          36,
          36,
          40,
          40,
          24,
          28,
          26,
          25,
          28,
          22,
          24,
          28,
          24,
          20,
          24,
          28,
          23,
          23,
          24,
          28,
          28,
          26,
          33,
          26,
          26,
          21,
          25,
          25,
          25,
          26,
          32,
          27,
          27,
          21,
          21,
          25,
          25,
          23,
          17,
          17,
          21,
          21,
          22,
          25,
          41,
          40,
          22,
          17,
          21,
          34,
          34,
          34,
          38,
          23,
          35,
          30,
          22,
          16,
          53,
          25,
          27,
          25,
          25,
          25,
          29,
          29,
          22,
          29,
          20,
          24,
          28,
          22,
          22,
          26,
          26,
          26,
          35,
          39,
          39,
          21,
          23,
          23,
          23,
          23,
          23,
          23,
          23,
          23,
          27,
          27,
          27,
          27,
          27,
          27,
          27,
          28,
          27,
          31,
          23,
          18,
          18,
          25,
          25,
          24,
          28,
          25,
          25,
          23,
          27,
          24,
          21,
          21,
          21,
          25,
          25,
          25,
          27,
          24,
          24,
          24,
          24,
          27,
          58,
          25,
          29,
          33,
          21,
          21,
          30,
          23,
          26,
          23,
          23,
          21,
          21,
          22,
          20,
          25,
          29,
          22,
          22,
          26,
          34,
          23,
          26,
          26,
          26,
          34,
          27,
          27,
          27,
          31,
          31,
          31,
          24,
          20,
          20,
          24,
          28,
          32,
          20,
          20,
          20,
          25,
          25,
          23,
          31,
          24,
          24,
          25,
          33,
          21,
          33,
          33,
          29,
          23,
          42,
          50,
          50,
          50,
          50,
          50,
          54,
          32,
          39,
          39,
          39,
          39,
          43,
          43,
          43,
          43,
          43,
          43,
          43,
          43,
          43,
          43,
          43,
          43,
          43,
          21,
          19,
          19,
          19,
          23,
          23,
          28,
          21,
          19,
          19,
          19,
          23,
          23,
          23,
          27,
          27,
          19,
          19,
          19,
          19,
          19,
          19,
          26,
          21,
          21,
          22,
          19,
          23,
          35,
          35,
          35,
          35,
          39,
          39,
          39,
          39,
          39,
          39,
          29,
          21,
          28,
          28,
          17,
          25,
          25,
          25,
          27,
          21,
          21,
          23,
          24,
          24,
          23,
          20,
          24,
          19,
          30,
          16,
          20,
          22,
          26,
          30,
          22,
          22,
          25,
          27,
          21,
          26,
          17,
          19,
          24,
          32,
          32,
          32,
          26,
          24,
          26,
          26,
          26,
          29,
          17,
          17,
          17,
          17,
          17,
          17,
          23,
          23,
          23,
          23,
          25,
          20,
          20,
          17,
          17,
          17,
          17,
          17,
          21,
          21,
          21,
          21,
          21,
          23,
          23,
          23,
          23,
          27,
          27,
          27,
          27,
          23,
          27,
          27,
          31,
          31,
          26,
          24,
          23,
          19,
          16,
          16,
          16,
          27,
          24,
          24,
          15,
          15,
          18,
          18,
          18,
          46,
          54,
          26,
          30,
          28,
          29,
          33,
          16,
          16,
          24,
          25,
          23,
          23,
          15,
          32,
          36,
          40,
          25,
          25,
          25,
          30,
          30,
          30,
          22,
          22,
          23,
          27,
          27,
          31,
          31,
          31,
          35,
          25,
          25,
          25,
          25,
          24,
          28,
          28,
          22,
          26,
          26,
          26,
          26,
          30,
          23,
          27,
          22,
          24,
          24,
          24,
          28,
          28,
          21,
          25,
          29,
          24,
          26,
          26,
          26,
          21,
          23,
          24,
          27,
          31,
          32,
          36,
          34,
          19,
          19,
          23,
          23,
          30,
          25,
          25,
          24,
          18,
          18,
          18,
          18,
          22,
          22,
          22,
          22,
          22,
          22,
          19,
          20,
          20,
          20,
          20,
          20,
          20,
          26,
          26,
          26,
          26,
          26,
          26,
          26,
          26,
          26,
          28,
          28,
          28,
          28,
          28,
          32,
          32,
          32,
          21,
          25,
          26,
          28,
          20,
          24,
          19,
          27,
          27,
          21,
          34,
          36,
          40,
          40,
          31,
          27,
          27,
          32,
          32,
          32,
          26,
          26,
          39,
          24,
          24,
          30,
          23,
          27,
          31,
          21,
          21,
          33,
          24,
          29,
          27,
          31,
          35,
          39,
          25,
          22,
          22,
          18,
          18,
          18,
          22,
          26,
          28,
          39,
          43,
          25,
          25,
          72,
          23,
          23,
          27,
          27,
          31,
          31,
          26,
          16,
          20,
          24,
          24,
          24,
          24,
          28,
          28,
          28,
          28,
          27,
          25,
          29,
          33,
          28,
          28,
          28,
          22,
          23,
          27,
          27,
          31,
          28,
          28,
          28,
          36,
          36,
          40,
          44,
          22,
          26,
          26,
          35,
          39,
          28,
          17,
          17,
          17,
          17,
          17,
          17,
          21,
          21,
          21,
          21,
          21,
          21,
          25,
          29,
          33,
          29,
          23,
          25,
          25,
          25,
          38,
          38,
          27,
          27,
          44,
          44,
          30,
          14,
          18,
          22,
          26,
          30,
          24,
          28,
          27,
          25,
          20,
          20,
          20,
          27,
          31,
          18,
          22,
          22,
          22,
          22,
          22,
          22,
          22,
          27,
          27,
          27,
          27,
          27,
          27,
          27,
          24,
          24,
          24,
          26,
          26,
          26,
          26,
          30,
          30,
          30,
          20,
          32,
          30,
          29,
          20,
          20,
          24,
          24,
          30,
          27,
          30,
          37,
          37,
          31,
          21,
          25,
          29,
          20,
          26,
          31,
          22,
          22,
          37,
          27,
          24,
          24,
          28,
          28,
          36,
          36,
          36,
          40,
          40,
          19,
          22,
          26,
          20,
          19,
          19,
          19,
          19,
          23,
          23,
          23,
          23,
          27,
          27,
          27,
          27,
          22,
          30,
          30,
          30,
          23,
          20,
          21,
          21,
          29,
          29,
          21,
          24,
          27,
          22,
          22,
          22,
          22,
          26,
          26,
          26,
          26,
          29,
          29,
          23,
          26,
          30,
          30,
          34,
          34,
          24,
          28,
          31,
          36,
          26,
          18,
          18,
          18,
          56,
          19,
          53,
          53,
          24,
          24,
          24,
          24,
          24,
          24,
          24,
          24,
          28,
          28,
          28,
          28,
          28,
          28,
          28,
          20,
          23,
          30,
          30,
          30,
          30,
          30,
          30,
          30,
          27,
          29,
          22,
          22,
          26,
          26,
          32,
          21,
          21,
          23,
          23,
          20,
          24,
          28,
          32,
          36,
          30,
          28,
          28,
          25,
          22,
          22,
          22,
          22,
          22,
          22,
          22,
          22,
          24,
          24,
          28,
          28,
          25,
          20,
          24,
          34,
          34,
          21,
          21,
          21,
          24,
          19,
          19,
          27,
          31,
          35,
          19,
          23,
          25,
          29,
          33,
          33,
          26,
          23,
          22,
          25,
          29,
          33,
          31,
          18,
          22,
          22,
          32,
          32,
          25,
          29,
          29,
          29,
          20,
          22,
          25,
          29,
          29,
          24,
          25,
          24,
          27,
          25,
          24,
          25,
          29,
          23,
          23,
          23,
          21,
          26,
          26,
          30,
          22,
          22,
          26,
          37,
          37,
          35,
          35,
          43,
          43,
          29,
          27,
          27,
          27,
          31,
          31,
          22,
          30,
          20,
          20,
          20,
          20,
          24,
          24,
          24,
          24,
          24,
          21,
          21,
          24,
          28,
          32,
          28,
          26,
          27,
          29,
          21,
          25,
          19,
          19,
          19,
          23,
          23,
          23,
          27,
          22,
          17,
          17,
          17,
          17,
          17,
          17,
          21,
          21,
          21,
          21,
          21,
          21,
          22,
          25,
          19,
          19,
          23,
          23,
          27,
          27,
          22,
          31,
          29,
          25,
          25,
          25,
          23,
          22,
          22,
          22,
          24,
          22,
          22,
          22,
          26,
          30,
          24,
          24,
          17,
          21,
          25,
          20,
          20,
          20,
          20,
          24,
          24,
          24,
          24,
          39,
          22,
          26,
          30,
          20,
          20,
          19,
          28,
          32,
          37,
          37,
          40,
          40,
          45,
          45,
          27,
          16,
          20,
          20,
          20,
          24,
          29,
          23,
          23,
          23,
          35,
          35,
          39,
          44,
          52,
          52,
          21,
          29,
          33,
          31,
          20,
          28,
          28,
          32,
          32,
          26,
          20,
          28,
          18,
          18,
          18,
          22,
          22,
          22,
          24,
          28,
          28,
          28,
          20,
          20,
          24,
          36,
          36,
          36,
          32,
          34,
          38,
          25,
          25,
          25,
          24,
          24,
          27,
          40,
          20,
          51,
          31,
          33,
          22,
          26,
          30,
          34,
          38,
          42,
          32,
          44,
          48,
          24,
          19,
          38,
          38,
          38,
          25,
          25,
          26,
          30,
          23,
          25,
          29,
          16,
          18,
          22,
          23,
          27,
          34,
          38,
          25,
          22,
          22,
          22,
          26,
          26,
          42,
          24,
          24,
          32,
          32,
          24,
          24,
          24,
          28,
          28,
          28,
          28,
          32,
          32,
          32,
          42,
          19,
          19,
          19,
          19,
          33,
          20,
          23,
          27,
          32,
          25,
          25,
          43,
          51,
          51,
          25,
          25,
          18,
          22,
          23,
          23,
          23,
          23,
          23,
          27,
          26,
          22,
          26,
          30,
          22,
          30,
          23,
          23,
          23,
          19,
          23,
          17,
          27,
          26,
          23,
          23,
          23,
          27,
          27,
          19,
          19,
          27,
          22,
          28,
          28,
          24,
          null,
          22,
          22,
          26,
          21,
          39,
          23,
          22,
          19,
          20,
          20,
          23,
          28,
          28,
          24,
          27,
          22,
          22,
          17,
          17,
          20,
          20,
          20,
          28,
          22,
          20,
          20,
          19,
          19,
          19,
          23,
          20,
          23,
          27,
          31,
          28,
          28,
          32,
          49,
          29,
          21,
          25,
          17,
          17,
          17,
          17,
          17,
          17,
          21,
          21,
          21,
          21,
          21,
          25,
          25,
          25,
          25,
          25,
          29,
          29,
          29,
          33,
          33,
          20,
          24,
          23,
          23,
          23,
          23,
          37,
          29,
          29,
          33,
          22,
          26,
          21,
          25,
          29,
          29,
          26,
          26,
          26,
          26,
          26,
          31,
          31,
          18,
          28,
          22,
          23,
          21,
          21,
          27,
          26,
          27,
          31,
          24,
          24,
          23,
          27,
          31,
          32,
          23,
          23,
          23,
          23,
          23,
          27,
          27,
          27,
          28,
          22,
          22,
          26,
          26,
          30,
          30,
          29,
          29,
          29,
          24,
          28,
          28,
          28,
          28,
          28,
          30,
          30,
          30,
          30,
          22,
          22,
          22,
          26,
          28,
          18,
          18,
          26,
          26,
          30,
          30,
          26,
          26,
          26,
          26,
          18,
          25,
          27,
          31,
          35,
          22,
          20,
          24,
          19,
          19,
          29,
          33,
          33,
          22,
          25,
          25,
          23,
          27,
          32,
          32,
          24,
          22,
          22,
          22,
          27,
          27,
          27,
          27,
          29,
          39,
          22,
          26,
          38,
          38,
          26,
          28,
          28,
          30,
          34,
          37,
          41,
          45,
          49,
          27,
          18,
          18,
          18,
          18,
          22,
          27,
          27,
          23,
          17,
          17,
          17,
          29,
          29,
          24,
          34,
          25,
          25,
          29,
          29,
          15,
          19,
          23,
          27,
          20,
          24,
          28,
          28,
          28,
          32,
          32,
          32,
          23,
          23,
          23,
          25,
          25,
          25,
          19,
          19,
          32,
          22,
          24,
          24,
          23,
          null,
          20,
          26,
          26,
          26,
          23,
          29,
          25,
          28,
          28,
          24,
          21,
          24,
          24,
          18,
          22,
          26,
          19,
          23,
          23,
          23,
          27,
          31,
          31,
          29,
          21,
          21,
          23,
          18,
          18,
          26,
          31,
          35,
          16,
          26,
          21,
          25,
          25,
          25,
          25,
          18,
          23,
          23,
          28,
          28,
          27,
          27,
          34,
          38,
          28,
          28,
          24,
          21,
          29,
          24,
          23,
          19,
          23,
          22,
          26,
          26,
          26,
          31,
          29,
          19,
          37,
          21,
          31,
          35,
          21,
          20,
          20,
          24,
          24,
          24,
          24,
          28,
          28,
          28,
          28,
          30,
          30,
          34,
          25,
          29,
          30,
          34,
          23,
          31,
          24,
          24,
          23,
          23,
          25,
          25,
          25,
          25,
          24,
          24,
          26,
          28,
          28,
          28,
          42,
          23,
          34,
          24,
          28,
          24,
          22,
          22,
          31,
          35,
          35,
          24,
          24,
          24,
          34,
          34,
          25,
          29,
          23,
          23,
          27,
          27,
          27,
          32,
          32,
          29,
          27,
          35,
          22,
          23,
          27,
          27,
          31,
          23,
          18,
          26,
          30,
          29,
          33,
          22,
          32,
          28,
          32,
          36,
          28,
          20,
          32,
          34,
          17,
          23,
          18,
          29,
          29,
          33,
          33,
          41,
          41,
          49,
          49,
          38,
          28,
          34,
          38,
          24,
          28,
          28,
          28,
          29,
          23,
          25,
          22,
          19,
          23,
          26,
          26,
          29,
          22,
          20,
          20,
          20,
          24,
          24,
          24,
          28,
          28,
          23,
          22,
          26,
          26,
          26,
          26,
          26,
          26,
          25,
          27,
          27,
          27,
          29,
          29,
          33,
          22,
          29,
          21,
          33,
          20,
          20,
          15,
          15,
          15,
          23,
          18,
          20,
          20,
          20,
          20,
          20,
          20,
          28,
          25,
          31,
          35,
          20,
          28,
          28,
          32,
          32,
          25,
          25,
          29,
          29,
          25,
          25,
          22,
          22,
          21,
          22,
          25,
          26,
          26,
          27,
          20,
          24,
          24,
          28,
          28,
          36,
          26,
          26,
          30,
          30,
          30,
          20,
          20,
          22,
          22,
          21,
          20,
          24,
          24,
          28,
          20,
          20,
          24,
          24,
          26,
          30,
          34,
          29,
          22,
          18,
          22,
          26,
          23,
          23,
          27,
          23,
          27,
          25,
          19,
          23,
          18,
          18,
          18,
          22,
          23,
          23,
          23,
          23,
          23,
          27,
          27,
          26,
          26,
          26,
          19,
          23,
          27,
          24,
          23,
          23,
          28,
          28,
          28,
          32,
          32,
          32,
          23,
          22,
          27,
          31,
          23,
          27,
          27,
          35,
          24,
          27,
          21,
          25,
          20,
          20,
          21,
          21,
          20,
          20,
          24,
          24,
          25,
          30,
          29,
          24,
          18,
          27,
          39,
          43,
          25,
          18,
          24,
          31,
          29,
          21,
          19,
          26,
          31,
          26,
          44,
          28,
          31,
          27,
          23,
          27,
          31,
          28,
          23,
          29,
          29,
          29,
          25,
          25,
          23,
          33,
          61,
          18,
          22,
          23,
          21,
          30,
          19,
          19,
          19,
          19,
          19,
          19,
          19,
          28,
          32,
          36,
          32,
          32,
          21,
          25,
          29,
          33,
          24,
          24,
          30,
          28,
          23,
          29,
          21,
          21,
          24,
          21,
          21,
          21,
          25,
          19,
          19,
          23,
          23,
          23,
          23,
          28,
          28,
          27,
          27,
          26,
          24,
          24,
          23,
          24,
          20,
          20,
          20,
          22,
          22,
          24,
          28,
          20,
          24,
          32,
          29,
          29,
          24,
          24,
          23,
          38,
          33,
          34,
          26,
          30,
          22,
          22,
          24,
          28,
          28,
          32,
          32,
          23,
          27,
          31,
          35,
          22,
          26,
          19,
          19,
          19,
          23,
          23,
          23,
          31,
          35,
          22,
          22,
          24,
          24,
          24,
          24,
          28,
          28,
          32,
          32,
          32,
          36,
          32,
          48,
          32,
          36,
          28,
          32,
          36,
          22,
          22,
          28,
          28,
          25,
          29,
          22,
          30,
          34,
          19,
          19,
          19,
          19,
          21,
          17,
          28,
          21,
          25,
          24,
          28,
          28,
          18,
          18,
          18,
          18,
          22,
          22,
          22,
          26,
          26,
          26,
          30,
          30,
          25,
          29,
          33,
          31,
          31,
          23,
          24,
          26,
          33,
          33,
          36,
          23,
          21,
          25,
          29,
          29,
          23,
          25,
          29,
          18,
          22,
          22,
          25,
          20,
          21,
          23,
          23,
          25,
          29,
          29,
          19,
          28,
          32,
          22,
          22,
          22,
          26,
          28,
          21,
          25,
          23,
          24,
          28,
          21,
          21,
          31,
          20,
          27,
          26,
          23,
          23,
          27,
          27,
          35,
          35,
          35,
          35,
          20,
          19,
          22,
          22,
          20,
          26,
          34,
          21,
          21,
          25,
          21,
          25,
          29,
          33,
          22,
          19,
          27,
          35,
          35,
          26,
          27,
          27,
          25,
          20,
          22,
          25,
          25,
          17,
          35,
          28,
          24,
          24,
          20,
          20,
          16,
          20,
          20,
          24,
          27,
          27,
          26,
          22,
          23,
          19,
          19,
          23,
          23,
          23,
          28,
          32,
          27,
          28,
          28,
          28,
          28,
          32,
          32,
          32,
          32,
          36,
          36,
          36,
          36,
          36,
          34,
          38,
          25,
          29,
          24,
          24,
          47,
          47,
          23,
          20,
          20,
          24,
          24,
          28,
          32,
          36,
          36,
          20,
          29,
          29,
          20,
          24,
          14,
          14,
          14,
          18,
          18,
          27,
          34,
          20,
          20,
          20,
          24,
          24,
          24,
          28,
          28,
          28,
          29,
          17,
          26,
          26,
          28,
          32,
          32,
          23,
          27,
          25,
          25,
          25,
          24,
          24,
          28,
          28,
          22,
          22,
          22,
          22,
          27,
          31,
          25,
          25,
          25,
          25,
          29,
          29,
          29,
          29,
          33,
          33,
          33,
          23,
          22,
          26,
          26,
          18,
          19,
          19,
          23,
          27,
          31,
          24,
          28,
          32,
          36,
          25,
          57,
          24,
          29,
          29,
          29,
          25,
          29,
          37,
          37,
          24,
          25,
          24,
          28,
          32,
          36,
          28,
          18,
          18,
          25,
          25,
          21,
          25,
          32,
          32,
          32,
          32,
          32,
          36,
          36,
          36,
          36,
          36,
          22,
          22,
          22,
          43,
          43,
          24,
          25,
          30,
          30,
          30,
          19,
          19,
          23,
          23,
          27,
          27,
          31,
          31,
          35,
          21,
          28,
          39,
          39,
          65,
          65,
          19,
          23,
          26,
          30,
          29,
          28,
          29,
          29,
          27,
          24,
          24,
          26,
          30,
          26,
          33,
          37,
          18,
          18,
          26,
          24,
          28,
          23,
          36,
          40,
          40,
          21,
          23,
          27,
          21,
          21,
          26,
          18,
          18,
          18,
          22,
          22,
          26,
          21,
          21,
          25,
          25,
          29,
          29,
          23,
          23,
          23,
          27,
          27,
          27,
          27,
          31,
          31,
          31,
          33,
          33,
          33,
          33,
          26,
          32,
          22,
          24,
          29,
          25,
          31,
          35,
          43,
          47,
          28,
          32,
          21,
          21,
          25,
          29,
          33,
          33,
          37,
          31,
          31,
          31,
          19,
          46,
          21,
          25,
          37,
          37,
          18,
          22,
          26,
          30,
          34,
          38,
          42,
          28,
          33,
          36,
          28,
          28,
          33,
          37,
          45,
          23,
          27,
          20,
          20,
          24,
          24,
          24,
          24,
          24,
          28,
          28,
          28,
          28,
          28,
          21,
          21,
          21,
          24,
          22,
          31,
          19,
          19,
          19,
          23,
          23,
          23,
          15,
          24,
          24,
          32,
          32,
          28,
          21,
          27,
          27,
          32,
          32,
          33,
          37,
          34,
          22,
          22,
          26,
          20,
          31,
          28,
          37,
          37,
          41,
          41,
          45,
          45,
          20,
          20,
          32,
          23,
          25,
          34,
          25,
          23,
          24,
          24,
          24,
          22,
          22,
          26,
          26,
          30,
          30,
          34,
          34,
          38,
          38,
          42,
          42,
          46,
          46,
          23,
          25,
          29,
          25,
          25,
          21,
          21,
          33,
          34,
          22,
          27,
          21,
          29,
          25,
          25,
          29,
          29,
          29,
          26,
          22,
          16,
          16,
          23,
          23,
          27,
          27,
          31,
          31,
          32,
          32,
          32,
          32,
          32,
          32,
          32,
          32,
          39,
          24,
          28,
          32,
          31,
          31,
          21,
          29,
          19,
          19,
          26,
          25,
          25,
          18,
          22,
          20,
          20,
          24,
          28,
          21,
          21,
          25,
          25,
          27,
          27,
          32,
          21,
          21,
          25,
          25,
          29,
          29,
          33,
          24,
          24,
          24,
          24,
          28,
          28,
          32,
          32,
          36,
          36,
          40,
          34,
          19,
          19,
          23,
          49,
          19,
          19,
          29,
          20,
          20,
          24,
          24,
          24,
          25,
          22,
          19,
          19,
          23,
          23,
          27,
          27,
          27,
          27,
          21,
          25,
          25,
          25,
          25,
          25,
          25,
          25,
          22,
          25,
          21,
          21,
          38,
          27,
          16,
          16,
          23,
          27,
          23,
          18,
          26,
          27,
          29,
          29,
          28,
          28,
          24,
          18,
          18,
          18,
          23,
          21,
          19,
          20,
          24,
          28,
          21,
          25,
          25,
          25,
          29,
          29,
          21,
          25,
          29,
          22,
          22,
          26,
          26,
          16,
          16,
          24,
          24,
          28,
          21,
          21,
          21,
          20,
          20,
          20,
          20,
          20,
          20,
          20,
          20,
          20,
          20,
          24,
          24,
          24,
          24,
          24,
          24,
          24,
          24,
          24,
          19,
          23,
          23,
          19,
          19,
          23,
          23,
          27,
          27,
          45,
          25,
          25,
          26,
          22,
          22,
          22,
          22,
          29,
          25,
          20,
          37,
          22,
          29,
          19,
          19,
          29,
          26,
          26,
          30,
          27,
          24,
          24,
          29,
          29,
          25,
          25,
          25,
          25,
          27,
          21,
          21,
          24,
          22,
          20,
          24,
          24,
          28,
          28,
          32,
          32,
          23,
          23,
          18,
          22,
          25,
          21,
          21,
          34,
          38,
          38,
          42,
          42,
          21,
          25,
          29,
          26,
          29,
          36,
          36,
          17,
          27,
          27,
          27,
          27,
          27,
          31,
          31,
          31,
          31,
          26,
          26,
          24,
          28,
          32,
          18,
          43,
          47,
          26,
          30,
          34,
          25,
          24,
          20,
          20,
          43,
          16,
          30,
          21,
          33,
          37,
          22,
          29,
          29,
          25,
          25,
          22,
          26,
          22,
          26,
          34,
          23,
          20,
          27,
          25,
          20,
          20,
          24,
          24,
          24,
          28,
          28,
          28,
          19,
          19,
          19,
          23,
          23,
          27,
          27,
          27,
          22,
          18,
          22,
          22,
          26,
          26,
          24,
          25,
          24,
          28,
          28,
          28,
          28,
          32,
          32,
          32,
          26,
          30,
          23,
          23,
          23,
          23,
          23,
          23,
          23,
          22,
          22,
          22,
          24,
          28,
          27,
          16,
          16,
          20,
          20,
          18,
          22,
          26,
          30,
          22,
          22,
          22,
          22,
          22,
          22,
          22,
          26,
          26,
          26,
          26,
          26,
          26,
          27,
          21,
          25,
          25,
          32,
          24,
          24,
          24,
          24,
          19,
          19,
          30,
          21,
          25,
          20,
          24,
          28,
          30,
          26,
          23,
          27,
          20,
          20,
          20,
          20,
          23,
          33,
          33,
          18,
          17,
          21,
          25,
          38,
          38,
          23,
          27,
          31,
          23,
          24,
          24,
          28,
          28,
          24,
          21,
          21,
          26,
          19,
          23,
          18,
          18,
          18,
          18,
          18,
          18,
          22,
          22,
          22,
          22,
          22,
          22,
          30,
          19,
          33,
          21,
          23,
          26,
          30,
          30,
          26,
          26,
          23,
          21,
          23,
          22,
          31,
          21,
          24,
          28,
          28,
          34,
          34,
          46,
          46,
          50,
          50,
          54,
          54,
          58,
          30,
          42,
          35,
          26,
          45,
          61,
          41,
          23,
          27,
          40,
          23,
          27,
          31,
          16,
          19,
          17,
          28,
          28,
          28,
          24,
          27,
          27,
          28,
          29,
          20,
          28,
          25,
          33,
          23,
          23,
          27,
          27,
          27,
          27,
          27,
          27,
          27,
          27,
          19,
          19,
          19,
          23,
          27,
          19,
          23,
          28,
          24,
          19,
          56,
          24,
          24,
          28,
          28,
          28,
          32,
          24,
          22,
          32,
          23,
          23,
          23,
          27,
          27,
          27,
          31,
          31,
          35,
          35,
          39,
          17,
          32,
          36,
          44,
          44,
          43,
          43,
          25,
          26,
          26,
          26,
          25,
          33,
          27,
          19,
          33,
          20,
          38,
          23,
          23,
          25,
          35,
          39,
          44,
          28,
          19,
          19,
          19,
          25,
          25,
          25,
          25,
          25,
          22,
          22,
          30,
          30,
          30,
          30,
          30,
          34,
          24,
          20,
          24,
          28,
          32,
          27,
          29,
          21,
          21,
          22,
          22,
          22,
          24,
          24,
          25,
          21,
          40,
          40,
          69,
          69,
          31,
          50,
          20,
          20,
          24,
          24,
          24,
          25,
          29,
          33,
          25,
          29,
          23,
          27,
          31,
          20,
          17,
          17,
          34,
          26,
          45,
          45,
          22,
          25,
          29,
          22,
          22,
          29,
          26,
          26,
          30,
          30,
          30,
          30,
          30,
          44,
          28,
          28,
          28,
          28,
          38,
          23,
          24,
          23,
          22,
          22,
          26,
          18,
          22,
          26,
          28,
          21,
          23,
          31,
          35,
          65,
          65,
          23,
          27,
          31,
          16,
          43,
          43,
          21,
          21,
          21,
          21,
          21,
          23,
          18,
          18,
          18,
          18,
          22,
          22,
          22,
          26,
          26,
          26,
          26,
          22,
          26,
          26,
          30,
          23,
          27,
          27,
          27,
          27,
          27,
          27,
          27,
          27,
          27,
          19,
          23,
          27,
          21,
          21,
          24,
          25,
          25,
          27,
          27,
          31,
          31,
          20,
          20,
          20,
          18,
          18,
          21,
          21,
          29,
          29,
          26,
          23,
          27,
          31,
          25,
          36,
          25,
          27,
          31,
          29,
          16,
          20,
          24,
          31,
          35,
          35,
          29,
          23,
          27,
          27,
          27,
          20,
          24,
          24,
          24,
          28,
          34,
          25,
          22,
          26,
          27,
          19,
          19,
          14,
          14,
          14,
          18,
          18,
          18,
          18,
          18,
          18,
          22,
          22,
          22,
          22,
          22,
          22,
          22,
          30,
          46,
          17,
          17,
          20,
          20,
          24,
          24,
          30,
          36,
          38,
          42,
          46,
          46,
          50,
          50,
          54,
          54,
          58,
          58,
          62,
          62,
          24,
          28,
          34,
          38,
          43,
          34,
          19,
          18,
          18,
          22,
          20,
          13,
          29,
          29,
          26,
          42,
          46,
          24,
          26,
          24,
          17,
          17,
          17,
          26,
          26,
          31,
          31,
          22,
          26,
          26,
          30,
          30,
          27,
          31,
          35,
          25,
          25,
          23,
          23,
          28,
          28,
          28,
          28,
          32,
          32,
          32,
          32,
          36,
          36,
          27,
          27,
          27,
          27,
          24,
          28,
          30,
          34,
          23,
          23,
          24,
          19,
          19,
          23,
          23,
          27,
          35,
          39,
          23,
          35,
          18,
          18,
          18,
          18,
          22,
          22,
          22,
          22,
          26,
          26,
          21,
          25,
          24,
          24,
          24,
          26,
          26,
          31,
          34,
          34,
          34,
          23,
          25,
          22,
          24,
          24,
          32,
          18,
          18,
          18,
          21,
          21,
          25,
          25,
          25,
          29,
          29,
          29,
          24,
          28,
          37,
          37,
          22,
          22,
          27,
          27,
          36,
          36,
          34,
          34,
          22,
          30,
          28,
          21,
          22,
          18,
          25,
          29,
          48,
          48,
          20,
          24,
          28,
          26,
          26,
          34,
          19,
          19,
          19,
          19,
          19,
          25,
          25,
          25,
          23,
          34,
          38,
          33,
          33,
          24,
          39,
          39,
          43,
          43,
          28,
          35,
          22,
          22,
          22,
          22,
          22,
          22,
          22,
          22,
          29,
          24,
          24,
          28,
          28,
          28,
          28,
          26,
          26,
          17,
          17,
          34,
          28,
          23,
          18,
          18,
          18,
          22,
          22,
          22,
          24,
          19,
          19,
          23,
          23,
          31,
          31,
          22,
          22,
          26,
          26,
          22,
          40,
          19,
          22,
          19,
          22,
          22,
          25,
          25,
          27,
          18,
          31,
          31,
          28,
          32,
          36,
          26,
          34,
          21,
          22,
          22,
          28,
          27,
          24,
          28,
          19,
          19,
          23,
          23,
          27,
          25,
          25,
          29,
          29,
          29,
          33,
          33,
          33,
          21,
          25,
          29,
          22,
          27,
          26,
          42,
          24,
          24,
          40,
          50,
          28,
          28,
          26,
          26,
          27,
          25,
          21,
          21,
          25,
          25,
          25,
          18,
          23,
          16,
          25,
          25,
          23,
          23,
          23,
          27,
          27,
          27,
          25,
          25,
          25,
          23,
          25,
          23,
          42,
          26,
          19,
          19,
          35,
          35,
          35,
          43,
          43,
          43,
          16,
          16,
          22,
          26,
          23,
          23,
          22,
          22,
          23,
          27,
          31,
          21,
          25,
          29,
          33,
          40,
          25,
          29,
          25,
          27,
          25,
          36,
          27,
          26,
          26,
          30,
          34,
          35,
          22,
          22,
          19,
          21,
          25,
          21,
          21,
          25,
          25,
          25,
          29,
          29,
          29,
          39,
          22,
          26,
          26,
          35,
          25,
          29,
          25,
          29,
          23,
          26,
          20,
          24,
          22,
          22,
          22,
          22,
          26,
          26,
          26,
          26,
          24,
          24,
          26,
          26,
          26,
          34,
          19,
          19,
          23,
          32,
          36,
          28,
          23,
          25,
          25,
          25,
          25,
          20,
          18,
          18,
          24,
          23,
          21,
          21,
          25,
          25,
          31,
          26,
          23,
          23,
          23,
          29,
          23,
          23,
          25,
          25,
          29,
          29,
          27,
          26,
          26,
          25,
          22,
          26,
          22,
          25,
          21,
          21,
          24,
          28,
          28,
          22,
          26,
          30,
          23,
          27,
          27,
          26,
          22,
          22,
          30,
          30,
          23,
          38,
          20,
          24,
          28,
          21,
          18,
          22,
          23,
          18,
          26,
          21,
          44,
          21,
          25,
          21,
          25,
          25,
          29,
          22,
          23,
          30,
          34,
          34,
          22,
          26,
          24,
          28,
          33,
          33,
          21,
          21,
          21,
          25,
          29,
          26,
          30,
          34,
          37,
          23,
          37,
          41,
          45,
          25,
          25,
          29,
          33,
          35,
          35,
          22,
          24,
          28,
          32,
          23,
          27,
          31,
          23,
          23,
          32,
          32,
          28,
          28,
          32,
          32,
          32,
          32,
          32,
          40,
          40,
          40,
          40,
          44,
          44,
          44,
          44,
          44,
          60,
          60,
          60,
          64,
          64,
          64,
          64,
          72,
          72,
          72,
          27,
          31,
          35,
          27,
          31,
          22,
          29,
          29,
          24,
          26,
          25,
          20,
          20,
          20,
          24,
          17,
          17,
          17,
          21,
          21,
          21,
          23,
          23,
          23,
          20,
          28,
          31,
          35,
          23,
          28,
          22,
          61,
          17,
          21,
          18,
          26,
          26,
          21,
          25,
          28,
          28,
          28,
          32,
          32,
          30,
          34,
          34,
          28,
          23,
          18,
          18,
          23,
          29,
          29,
          29,
          37,
          37,
          26,
          22,
          24,
          23,
          27,
          23,
          23,
          20,
          22,
          31,
          31,
          23,
          21,
          18,
          18,
          19,
          21,
          21,
          25,
          25,
          23,
          28,
          28,
          32,
          32,
          44,
          18,
          18,
          18,
          22,
          26,
          26,
          26,
          30,
          40,
          44,
          29,
          23,
          20,
          20,
          20,
          20,
          20,
          20,
          20,
          20,
          20,
          24,
          24,
          24,
          24,
          24,
          24,
          24,
          28,
          28,
          28,
          28,
          28,
          28,
          28,
          28,
          32,
          32,
          32,
          32,
          32,
          32,
          32,
          19,
          42,
          52,
          60,
          19,
          23,
          17,
          17,
          26,
          30,
          34,
          32,
          36,
          24,
          21,
          18,
          18,
          22,
          29,
          33,
          27,
          31,
          23,
          23,
          23,
          21,
          21,
          25,
          25,
          21,
          21,
          28,
          28,
          20,
          24,
          34,
          42,
          42,
          42,
          18,
          27,
          21,
          21,
          25,
          48,
          19,
          29,
          37,
          20,
          20,
          20,
          20,
          20,
          20,
          24,
          22,
          19,
          23,
          27,
          24,
          27,
          25,
          24,
          28,
          32,
          41,
          25,
          22,
          31,
          31,
          24,
          26,
          30,
          27,
          31,
          27,
          27,
          25,
          29,
          23,
          32,
          36,
          19,
          21,
          25,
          21,
          25,
          29,
          33,
          26,
          20,
          20,
          24,
          24,
          27,
          27,
          31,
          20,
          29,
          33,
          22,
          22,
          26,
          26,
          20,
          24,
          25,
          21,
          29,
          29,
          33,
          33,
          37,
          37,
          28,
          28,
          39,
          39,
          43,
          43,
          48,
          52,
          22,
          24,
          22,
          28,
          21,
          21,
          25,
          29,
          26,
          30,
          30,
          15,
          15,
          26,
          28,
          28,
          30,
          34,
          24,
          28,
          20,
          20,
          24,
          24,
          28,
          32,
          24,
          29,
          32,
          32,
          33,
          48,
          21,
          25,
          27,
          18,
          18,
          19,
          24,
          24,
          26,
          35,
          35,
          39,
          39,
          25,
          25,
          23,
          23,
          24,
          34,
          34,
          38,
          38,
          31,
          31,
          35,
          35,
          27,
          31,
          31,
          35,
          41,
          45,
          29,
          33,
          66,
          66,
          66,
          24,
          24,
          24,
          24,
          24,
          24,
          24,
          26,
          26,
          26,
          26,
          26,
          26,
          30,
          30,
          30,
          30,
          30,
          20,
          22,
          23,
          31,
          31,
          46,
          46,
          23,
          23,
          23,
          26,
          26,
          30,
          28,
          28,
          28,
          28,
          29,
          29,
          29,
          27,
          25,
          19,
          27,
          27,
          26,
          23,
          33,
          19,
          24,
          24,
          28,
          28,
          23,
          27,
          17,
          17,
          17,
          17,
          17,
          21,
          25,
          21,
          49,
          20,
          25,
          32,
          20,
          45,
          45,
          20,
          24,
          24,
          28,
          28,
          22,
          22,
          26,
          26,
          30,
          30,
          34,
          34,
          38,
          38,
          27,
          19,
          23,
          22,
          26,
          26,
          26,
          26,
          30,
          39,
          31,
          35,
          39,
          25,
          31,
          36,
          36,
          36,
          36,
          36,
          23,
          31,
          25,
          25,
          25,
          27,
          30,
          34,
          24,
          24,
          28,
          28,
          28,
          19,
          19,
          23,
          23,
          27,
          27,
          56,
          56,
          56,
          56,
          56,
          23,
          21,
          25,
          27,
          32,
          31,
          24,
          24,
          24,
          30,
          30,
          30,
          30,
          34,
          34,
          34,
          19,
          23,
          18,
          23,
          23,
          27,
          27,
          29,
          29,
          26,
          30,
          25,
          16,
          16,
          24,
          24,
          34,
          31,
          31,
          29,
          26,
          19,
          19,
          23,
          23,
          23,
          27,
          27,
          27,
          31,
          31,
          31,
          23,
          23,
          23,
          34,
          31,
          21,
          21,
          20,
          25,
          21,
          29,
          27,
          22,
          22,
          14,
          25,
          51,
          23,
          23,
          23,
          23,
          35,
          35,
          35,
          22,
          28,
          28,
          28,
          28,
          29,
          24,
          28,
          32,
          19,
          20,
          20,
          21,
          28,
          28,
          18,
          22,
          22,
          22,
          22,
          26,
          26,
          26,
          26,
          23,
          25,
          22,
          26,
          22,
          26,
          26,
          31,
          21,
          18,
          39,
          39,
          22,
          24,
          24,
          24,
          40,
          36,
          18,
          18,
          18,
          24,
          28,
          28,
          32,
          36,
          34,
          24,
          24,
          26,
          20,
          28,
          19,
          16,
          19,
          23,
          21,
          21,
          25,
          25,
          25,
          30,
          21,
          21,
          21,
          21,
          25,
          25,
          25,
          25,
          25,
          27,
          27,
          27,
          30,
          22,
          26,
          26,
          26,
          27,
          26,
          26,
          25,
          25,
          25,
          27,
          16,
          25,
          25,
          33,
          33,
          24,
          24,
          28,
          32,
          39,
          18,
          18,
          22,
          22,
          25,
          25,
          24,
          28,
          21,
          21,
          21,
          23,
          23,
          23,
          23,
          23,
          27,
          27,
          27,
          27,
          27,
          31,
          31,
          20,
          25,
          28,
          28,
          32,
          32,
          25,
          29,
          25,
          19,
          27,
          24,
          24,
          30,
          24,
          24,
          28,
          28,
          28,
          28,
          28,
          32,
          32,
          32,
          23,
          23,
          25,
          19,
          23,
          27,
          20,
          20,
          20,
          18,
          18,
          18,
          18,
          18,
          22,
          22,
          18,
          18,
          22,
          26,
          26,
          19,
          19,
          19,
          19,
          19,
          19,
          19,
          19,
          23,
          23,
          23,
          23,
          23,
          23,
          23,
          27,
          27,
          27,
          27,
          27,
          27,
          27,
          27,
          37,
          37,
          24,
          24,
          24,
          24,
          38,
          26,
          50,
          50,
          17,
          17,
          17,
          20,
          20,
          26,
          30,
          30,
          30,
          37,
          24,
          28,
          21,
          21,
          24,
          38,
          19,
          19,
          19,
          19,
          19,
          19,
          29,
          33,
          23,
          25,
          25,
          29,
          29,
          33,
          33,
          37,
          37,
          41,
          41,
          45,
          45,
          49,
          49,
          18,
          18,
          28,
          27,
          16,
          20,
          24,
          29,
          22,
          28,
          24,
          24,
          24,
          24,
          24,
          24,
          24,
          24,
          24,
          28,
          32,
          36,
          21,
          25,
          22,
          35,
          19,
          23,
          23,
          23,
          18,
          35,
          35,
          29,
          21,
          17,
          17,
          19,
          19,
          19,
          20,
          23,
          23,
          25,
          25,
          25,
          26,
          30,
          21,
          23,
          27,
          27,
          50,
          22,
          22,
          30,
          30,
          24,
          18,
          18,
          18,
          18,
          18,
          22,
          26,
          30,
          30,
          34,
          34,
          22,
          22,
          25,
          21,
          25,
          29,
          33
         ],
         "xaxis": "x",
         "yaxis": "y"
        }
       ],
       "layout": {
        "bargap": 0.01,
        "barmode": "relative",
        "legend": {
         "tracegroupgap": 0
        },
        "shapes": [
         {
          "line": {
           "color": "green",
           "dash": "dash",
           "width": 3
          },
          "type": "line",
          "x0": 26.8,
          "x1": 26.8,
          "xref": "x",
          "y0": 0,
          "y1": 1,
          "yref": "y domain"
         }
        ],
        "template": {
         "data": {
          "bar": [
           {
            "error_x": {
             "color": "#2a3f5f"
            },
            "error_y": {
             "color": "#2a3f5f"
            },
            "marker": {
             "line": {
              "color": "#E5ECF6",
              "width": 0.5
             },
             "pattern": {
              "fillmode": "overlay",
              "size": 10,
              "solidity": 0.2
             }
            },
            "type": "bar"
           }
          ],
          "barpolar": [
           {
            "marker": {
             "line": {
              "color": "#E5ECF6",
              "width": 0.5
             },
             "pattern": {
              "fillmode": "overlay",
              "size": 10,
              "solidity": 0.2
             }
            },
            "type": "barpolar"
           }
          ],
          "carpet": [
           {
            "aaxis": {
             "endlinecolor": "#2a3f5f",
             "gridcolor": "white",
             "linecolor": "white",
             "minorgridcolor": "white",
             "startlinecolor": "#2a3f5f"
            },
            "baxis": {
             "endlinecolor": "#2a3f5f",
             "gridcolor": "white",
             "linecolor": "white",
             "minorgridcolor": "white",
             "startlinecolor": "#2a3f5f"
            },
            "type": "carpet"
           }
          ],
          "choropleth": [
           {
            "colorbar": {
             "outlinewidth": 0,
             "ticks": ""
            },
            "type": "choropleth"
           }
          ],
          "contour": [
           {
            "colorbar": {
             "outlinewidth": 0,
             "ticks": ""
            },
            "colorscale": [
             [
              0,
              "#0d0887"
             ],
             [
              0.1111111111111111,
              "#46039f"
             ],
             [
              0.2222222222222222,
              "#7201a8"
             ],
             [
              0.3333333333333333,
              "#9c179e"
             ],
             [
              0.4444444444444444,
              "#bd3786"
             ],
             [
              0.5555555555555556,
              "#d8576b"
             ],
             [
              0.6666666666666666,
              "#ed7953"
             ],
             [
              0.7777777777777778,
              "#fb9f3a"
             ],
             [
              0.8888888888888888,
              "#fdca26"
             ],
             [
              1,
              "#f0f921"
             ]
            ],
            "type": "contour"
           }
          ],
          "contourcarpet": [
           {
            "colorbar": {
             "outlinewidth": 0,
             "ticks": ""
            },
            "type": "contourcarpet"
           }
          ],
          "heatmap": [
           {
            "colorbar": {
             "outlinewidth": 0,
             "ticks": ""
            },
            "colorscale": [
             [
              0,
              "#0d0887"
             ],
             [
              0.1111111111111111,
              "#46039f"
             ],
             [
              0.2222222222222222,
              "#7201a8"
             ],
             [
              0.3333333333333333,
              "#9c179e"
             ],
             [
              0.4444444444444444,
              "#bd3786"
             ],
             [
              0.5555555555555556,
              "#d8576b"
             ],
             [
              0.6666666666666666,
              "#ed7953"
             ],
             [
              0.7777777777777778,
              "#fb9f3a"
             ],
             [
              0.8888888888888888,
              "#fdca26"
             ],
             [
              1,
              "#f0f921"
             ]
            ],
            "type": "heatmap"
           }
          ],
          "heatmapgl": [
           {
            "colorbar": {
             "outlinewidth": 0,
             "ticks": ""
            },
            "colorscale": [
             [
              0,
              "#0d0887"
             ],
             [
              0.1111111111111111,
              "#46039f"
             ],
             [
              0.2222222222222222,
              "#7201a8"
             ],
             [
              0.3333333333333333,
              "#9c179e"
             ],
             [
              0.4444444444444444,
              "#bd3786"
             ],
             [
              0.5555555555555556,
              "#d8576b"
             ],
             [
              0.6666666666666666,
              "#ed7953"
             ],
             [
              0.7777777777777778,
              "#fb9f3a"
             ],
             [
              0.8888888888888888,
              "#fdca26"
             ],
             [
              1,
              "#f0f921"
             ]
            ],
            "type": "heatmapgl"
           }
          ],
          "histogram": [
           {
            "marker": {
             "pattern": {
              "fillmode": "overlay",
              "size": 10,
              "solidity": 0.2
             }
            },
            "type": "histogram"
           }
          ],
          "histogram2d": [
           {
            "colorbar": {
             "outlinewidth": 0,
             "ticks": ""
            },
            "colorscale": [
             [
              0,
              "#0d0887"
             ],
             [
              0.1111111111111111,
              "#46039f"
             ],
             [
              0.2222222222222222,
              "#7201a8"
             ],
             [
              0.3333333333333333,
              "#9c179e"
             ],
             [
              0.4444444444444444,
              "#bd3786"
             ],
             [
              0.5555555555555556,
              "#d8576b"
             ],
             [
              0.6666666666666666,
              "#ed7953"
             ],
             [
              0.7777777777777778,
              "#fb9f3a"
             ],
             [
              0.8888888888888888,
              "#fdca26"
             ],
             [
              1,
              "#f0f921"
             ]
            ],
            "type": "histogram2d"
           }
          ],
          "histogram2dcontour": [
           {
            "colorbar": {
             "outlinewidth": 0,
             "ticks": ""
            },
            "colorscale": [
             [
              0,
              "#0d0887"
             ],
             [
              0.1111111111111111,
              "#46039f"
             ],
             [
              0.2222222222222222,
              "#7201a8"
             ],
             [
              0.3333333333333333,
              "#9c179e"
             ],
             [
              0.4444444444444444,
              "#bd3786"
             ],
             [
              0.5555555555555556,
              "#d8576b"
             ],
             [
              0.6666666666666666,
              "#ed7953"
             ],
             [
              0.7777777777777778,
              "#fb9f3a"
             ],
             [
              0.8888888888888888,
              "#fdca26"
             ],
             [
              1,
              "#f0f921"
             ]
            ],
            "type": "histogram2dcontour"
           }
          ],
          "mesh3d": [
           {
            "colorbar": {
             "outlinewidth": 0,
             "ticks": ""
            },
            "type": "mesh3d"
           }
          ],
          "parcoords": [
           {
            "line": {
             "colorbar": {
              "outlinewidth": 0,
              "ticks": ""
             }
            },
            "type": "parcoords"
           }
          ],
          "pie": [
           {
            "automargin": true,
            "type": "pie"
           }
          ],
          "scatter": [
           {
            "fillpattern": {
             "fillmode": "overlay",
             "size": 10,
             "solidity": 0.2
            },
            "type": "scatter"
           }
          ],
          "scatter3d": [
           {
            "line": {
             "colorbar": {
              "outlinewidth": 0,
              "ticks": ""
             }
            },
            "marker": {
             "colorbar": {
              "outlinewidth": 0,
              "ticks": ""
             }
            },
            "type": "scatter3d"
           }
          ],
          "scattercarpet": [
           {
            "marker": {
             "colorbar": {
              "outlinewidth": 0,
              "ticks": ""
             }
            },
            "type": "scattercarpet"
           }
          ],
          "scattergeo": [
           {
            "marker": {
             "colorbar": {
              "outlinewidth": 0,
              "ticks": ""
             }
            },
            "type": "scattergeo"
           }
          ],
          "scattergl": [
           {
            "marker": {
             "colorbar": {
              "outlinewidth": 0,
              "ticks": ""
             }
            },
            "type": "scattergl"
           }
          ],
          "scattermapbox": [
           {
            "marker": {
             "colorbar": {
              "outlinewidth": 0,
              "ticks": ""
             }
            },
            "type": "scattermapbox"
           }
          ],
          "scatterpolar": [
           {
            "marker": {
             "colorbar": {
              "outlinewidth": 0,
              "ticks": ""
             }
            },
            "type": "scatterpolar"
           }
          ],
          "scatterpolargl": [
           {
            "marker": {
             "colorbar": {
              "outlinewidth": 0,
              "ticks": ""
             }
            },
            "type": "scatterpolargl"
           }
          ],
          "scatterternary": [
           {
            "marker": {
             "colorbar": {
              "outlinewidth": 0,
              "ticks": ""
             }
            },
            "type": "scatterternary"
           }
          ],
          "surface": [
           {
            "colorbar": {
             "outlinewidth": 0,
             "ticks": ""
            },
            "colorscale": [
             [
              0,
              "#0d0887"
             ],
             [
              0.1111111111111111,
              "#46039f"
             ],
             [
              0.2222222222222222,
              "#7201a8"
             ],
             [
              0.3333333333333333,
              "#9c179e"
             ],
             [
              0.4444444444444444,
              "#bd3786"
             ],
             [
              0.5555555555555556,
              "#d8576b"
             ],
             [
              0.6666666666666666,
              "#ed7953"
             ],
             [
              0.7777777777777778,
              "#fb9f3a"
             ],
             [
              0.8888888888888888,
              "#fdca26"
             ],
             [
              1,
              "#f0f921"
             ]
            ],
            "type": "surface"
           }
          ],
          "table": [
           {
            "cells": {
             "fill": {
              "color": "#EBF0F8"
             },
             "line": {
              "color": "white"
             }
            },
            "header": {
             "fill": {
              "color": "#C8D4E3"
             },
             "line": {
              "color": "white"
             }
            },
            "type": "table"
           }
          ]
         },
         "layout": {
          "annotationdefaults": {
           "arrowcolor": "#2a3f5f",
           "arrowhead": 0,
           "arrowwidth": 1
          },
          "autotypenumbers": "strict",
          "coloraxis": {
           "colorbar": {
            "outlinewidth": 0,
            "ticks": ""
           }
          },
          "colorscale": {
           "diverging": [
            [
             0,
             "#8e0152"
            ],
            [
             0.1,
             "#c51b7d"
            ],
            [
             0.2,
             "#de77ae"
            ],
            [
             0.3,
             "#f1b6da"
            ],
            [
             0.4,
             "#fde0ef"
            ],
            [
             0.5,
             "#f7f7f7"
            ],
            [
             0.6,
             "#e6f5d0"
            ],
            [
             0.7,
             "#b8e186"
            ],
            [
             0.8,
             "#7fbc41"
            ],
            [
             0.9,
             "#4d9221"
            ],
            [
             1,
             "#276419"
            ]
           ],
           "sequential": [
            [
             0,
             "#0d0887"
            ],
            [
             0.1111111111111111,
             "#46039f"
            ],
            [
             0.2222222222222222,
             "#7201a8"
            ],
            [
             0.3333333333333333,
             "#9c179e"
            ],
            [
             0.4444444444444444,
             "#bd3786"
            ],
            [
             0.5555555555555556,
             "#d8576b"
            ],
            [
             0.6666666666666666,
             "#ed7953"
            ],
            [
             0.7777777777777778,
             "#fb9f3a"
            ],
            [
             0.8888888888888888,
             "#fdca26"
            ],
            [
             1,
             "#f0f921"
            ]
           ],
           "sequentialminus": [
            [
             0,
             "#0d0887"
            ],
            [
             0.1111111111111111,
             "#46039f"
            ],
            [
             0.2222222222222222,
             "#7201a8"
            ],
            [
             0.3333333333333333,
             "#9c179e"
            ],
            [
             0.4444444444444444,
             "#bd3786"
            ],
            [
             0.5555555555555556,
             "#d8576b"
            ],
            [
             0.6666666666666666,
             "#ed7953"
            ],
            [
             0.7777777777777778,
             "#fb9f3a"
            ],
            [
             0.8888888888888888,
             "#fdca26"
            ],
            [
             1,
             "#f0f921"
            ]
           ]
          },
          "colorway": [
           "#636efa",
           "#EF553B",
           "#00cc96",
           "#ab63fa",
           "#FFA15A",
           "#19d3f3",
           "#FF6692",
           "#B6E880",
           "#FF97FF",
           "#FECB52"
          ],
          "font": {
           "color": "#2a3f5f"
          },
          "geo": {
           "bgcolor": "white",
           "lakecolor": "white",
           "landcolor": "#E5ECF6",
           "showlakes": true,
           "showland": true,
           "subunitcolor": "white"
          },
          "hoverlabel": {
           "align": "left"
          },
          "hovermode": "closest",
          "mapbox": {
           "style": "light"
          },
          "paper_bgcolor": "white",
          "plot_bgcolor": "#E5ECF6",
          "polar": {
           "angularaxis": {
            "gridcolor": "white",
            "linecolor": "white",
            "ticks": ""
           },
           "bgcolor": "#E5ECF6",
           "radialaxis": {
            "gridcolor": "white",
            "linecolor": "white",
            "ticks": ""
           }
          },
          "scene": {
           "xaxis": {
            "backgroundcolor": "#E5ECF6",
            "gridcolor": "white",
            "gridwidth": 2,
            "linecolor": "white",
            "showbackground": true,
            "ticks": "",
            "zerolinecolor": "white"
           },
           "yaxis": {
            "backgroundcolor": "#E5ECF6",
            "gridcolor": "white",
            "gridwidth": 2,
            "linecolor": "white",
            "showbackground": true,
            "ticks": "",
            "zerolinecolor": "white"
           },
           "zaxis": {
            "backgroundcolor": "#E5ECF6",
            "gridcolor": "white",
            "gridwidth": 2,
            "linecolor": "white",
            "showbackground": true,
            "ticks": "",
            "zerolinecolor": "white"
           }
          },
          "shapedefaults": {
           "line": {
            "color": "#2a3f5f"
           }
          },
          "ternary": {
           "aaxis": {
            "gridcolor": "white",
            "linecolor": "white",
            "ticks": ""
           },
           "baxis": {
            "gridcolor": "white",
            "linecolor": "white",
            "ticks": ""
           },
           "bgcolor": "#E5ECF6",
           "caxis": {
            "gridcolor": "white",
            "linecolor": "white",
            "ticks": ""
           }
          },
          "title": {
           "x": 0.05
          },
          "xaxis": {
           "automargin": true,
           "gridcolor": "white",
           "linecolor": "white",
           "ticks": "",
           "title": {
            "standoff": 15
           },
           "zerolinecolor": "white",
           "zerolinewidth": 2
          },
          "yaxis": {
           "automargin": true,
           "gridcolor": "white",
           "linecolor": "white",
           "ticks": "",
           "title": {
            "standoff": 15
           },
           "zerolinecolor": "white",
           "zerolinewidth": 2
          }
         }
        },
        "title": {
         "text": "Age distribution of athletes from SWE in all olympic games"
        },
        "xaxis": {
         "anchor": "y",
         "domain": [
          0,
          1
         ],
         "range": [
          6.800000000000001,
          46.8
         ],
         "title": {
          "text": "Age"
         }
        },
        "yaxis": {
         "anchor": "x",
         "domain": [
          0,
          1
         ],
         "title": {
          "text": "count"
         }
        }
       }
      }
     },
     "metadata": {},
     "output_type": "display_data"
    }
   ],
   "source": [
    "# Plotting a histogram over ages of athletes from SWE in all olympic games\n",
    "\n",
    "mean_age_all = round(sweden_athletes[\"Age\"].mean(), 1)\n",
    "\n",
    "# Plotting a histogram of ages of athletes from SWE in all olympic games around the mean age\n",
    "fig = px.histogram(sweden_athletes, x=\"Age\", title=\"Age distribution of athletes from SWE in all olympic games\")\n",
    "\n",
    "# Setting the mean age in the middle of the x-axis\n",
    "fig.update_xaxes(range=[mean_age_all-20, mean_age_all+20])\n",
    "\n",
    "# Mark the mean age in the x-axis\n",
    "fig.add_vline(x=mean_age_all, line_width=3, line_dash=\"dash\", line_color=\"green\")\n",
    "\n",
    "# Making spaces between bars\n",
    "fig.update_layout(bargap=0.01)\n",
    "\n",
    "fig.show()"
   ]
  },
  {
   "cell_type": "markdown",
   "metadata": {},
   "source": [
    "#### **e)** Skapa fler plots för att visualisera flera aspekter kring ert land och dess sportprestationer i OS."
   ]
  },
  {
   "cell_type": "code",
   "execution_count": 51,
   "metadata": {},
   "outputs": [
    {
     "data": {
      "application/vnd.plotly.v1+json": {
       "config": {
        "plotlyServerURL": "https://plot.ly"
       },
       "data": [
        {
         "alignmentgroup": "True",
         "hovertemplate": "Sex=M<br>Year=%{x}<br>ID=%{y}<extra></extra>",
         "legendgroup": "M",
         "marker": {
          "color": "#636efa",
          "pattern": {
           "shape": ""
          }
         },
         "name": "M",
         "offsetgroup": "M",
         "orientation": "v",
         "showlegend": true,
         "textposition": "auto",
         "type": "bar",
         "width": 0.8,
         "x": [
          1896,
          1900,
          1906,
          1908,
          1912,
          1920,
          1924,
          1928,
          1932,
          1936,
          1948,
          1952,
          1956,
          1960,
          1964,
          1968,
          1972,
          1976,
          1980,
          1984,
          1988,
          1992,
          1994,
          1996,
          1998,
          2000,
          2002,
          2004,
          2006,
          2008,
          2010,
          2012,
          2014,
          2016
         ],
         "xaxis": "x",
         "y": [
          1,
          10,
          39,
          165,
          421,
          247,
          177,
          111,
          89,
          193,
          203,
          239,
          133,
          156,
          125,
          145,
          153,
          129,
          171,
          181,
          202,
          199,
          64,
          111,
          53,
          98,
          56,
          62,
          63,
          50,
          57,
          55,
          56,
          64
         ],
         "yaxis": "y"
        },
        {
         "alignmentgroup": "True",
         "hovertemplate": "Sex=F<br>Year=%{x}<br>ID=%{y}<extra></extra>",
         "legendgroup": "F",
         "marker": {
          "color": "#EF553B",
          "pattern": {
           "shape": ""
          }
         },
         "name": "F",
         "offsetgroup": "F",
         "orientation": "v",
         "showlegend": true,
         "textposition": "auto",
         "type": "bar",
         "width": 0.8,
         "x": [
          1908,
          1912,
          1920,
          1924,
          1928,
          1932,
          1936,
          1948,
          1952,
          1956,
          1960,
          1964,
          1968,
          1972,
          1976,
          1980,
          1984,
          1988,
          1992,
          1994,
          1996,
          1998,
          2000,
          2002,
          2004,
          2006,
          2008,
          2010,
          2012,
          2014,
          2016
         ],
         "xaxis": "x",
         "y": [
          3,
          23,
          13,
          13,
          13,
          4,
          9,
          20,
          32,
          22,
          25,
          26,
          23,
          36,
          26,
          35,
          52,
          50,
          61,
          20,
          66,
          46,
          52,
          46,
          53,
          43,
          73,
          44,
          78,
          43,
          86
         ],
         "yaxis": "y"
        }
       ],
       "layout": {
        "bargap": 0.01,
        "barmode": "group",
        "legend": {
         "title": {
          "text": "Sex"
         },
         "tracegroupgap": 0
        },
        "margin": {
         "t": 60
        },
        "template": {
         "data": {
          "bar": [
           {
            "error_x": {
             "color": "#2a3f5f"
            },
            "error_y": {
             "color": "#2a3f5f"
            },
            "marker": {
             "line": {
              "color": "#E5ECF6",
              "width": 0.5
             },
             "pattern": {
              "fillmode": "overlay",
              "size": 10,
              "solidity": 0.2
             }
            },
            "type": "bar"
           }
          ],
          "barpolar": [
           {
            "marker": {
             "line": {
              "color": "#E5ECF6",
              "width": 0.5
             },
             "pattern": {
              "fillmode": "overlay",
              "size": 10,
              "solidity": 0.2
             }
            },
            "type": "barpolar"
           }
          ],
          "carpet": [
           {
            "aaxis": {
             "endlinecolor": "#2a3f5f",
             "gridcolor": "white",
             "linecolor": "white",
             "minorgridcolor": "white",
             "startlinecolor": "#2a3f5f"
            },
            "baxis": {
             "endlinecolor": "#2a3f5f",
             "gridcolor": "white",
             "linecolor": "white",
             "minorgridcolor": "white",
             "startlinecolor": "#2a3f5f"
            },
            "type": "carpet"
           }
          ],
          "choropleth": [
           {
            "colorbar": {
             "outlinewidth": 0,
             "ticks": ""
            },
            "type": "choropleth"
           }
          ],
          "contour": [
           {
            "colorbar": {
             "outlinewidth": 0,
             "ticks": ""
            },
            "colorscale": [
             [
              0,
              "#0d0887"
             ],
             [
              0.1111111111111111,
              "#46039f"
             ],
             [
              0.2222222222222222,
              "#7201a8"
             ],
             [
              0.3333333333333333,
              "#9c179e"
             ],
             [
              0.4444444444444444,
              "#bd3786"
             ],
             [
              0.5555555555555556,
              "#d8576b"
             ],
             [
              0.6666666666666666,
              "#ed7953"
             ],
             [
              0.7777777777777778,
              "#fb9f3a"
             ],
             [
              0.8888888888888888,
              "#fdca26"
             ],
             [
              1,
              "#f0f921"
             ]
            ],
            "type": "contour"
           }
          ],
          "contourcarpet": [
           {
            "colorbar": {
             "outlinewidth": 0,
             "ticks": ""
            },
            "type": "contourcarpet"
           }
          ],
          "heatmap": [
           {
            "colorbar": {
             "outlinewidth": 0,
             "ticks": ""
            },
            "colorscale": [
             [
              0,
              "#0d0887"
             ],
             [
              0.1111111111111111,
              "#46039f"
             ],
             [
              0.2222222222222222,
              "#7201a8"
             ],
             [
              0.3333333333333333,
              "#9c179e"
             ],
             [
              0.4444444444444444,
              "#bd3786"
             ],
             [
              0.5555555555555556,
              "#d8576b"
             ],
             [
              0.6666666666666666,
              "#ed7953"
             ],
             [
              0.7777777777777778,
              "#fb9f3a"
             ],
             [
              0.8888888888888888,
              "#fdca26"
             ],
             [
              1,
              "#f0f921"
             ]
            ],
            "type": "heatmap"
           }
          ],
          "heatmapgl": [
           {
            "colorbar": {
             "outlinewidth": 0,
             "ticks": ""
            },
            "colorscale": [
             [
              0,
              "#0d0887"
             ],
             [
              0.1111111111111111,
              "#46039f"
             ],
             [
              0.2222222222222222,
              "#7201a8"
             ],
             [
              0.3333333333333333,
              "#9c179e"
             ],
             [
              0.4444444444444444,
              "#bd3786"
             ],
             [
              0.5555555555555556,
              "#d8576b"
             ],
             [
              0.6666666666666666,
              "#ed7953"
             ],
             [
              0.7777777777777778,
              "#fb9f3a"
             ],
             [
              0.8888888888888888,
              "#fdca26"
             ],
             [
              1,
              "#f0f921"
             ]
            ],
            "type": "heatmapgl"
           }
          ],
          "histogram": [
           {
            "marker": {
             "pattern": {
              "fillmode": "overlay",
              "size": 10,
              "solidity": 0.2
             }
            },
            "type": "histogram"
           }
          ],
          "histogram2d": [
           {
            "colorbar": {
             "outlinewidth": 0,
             "ticks": ""
            },
            "colorscale": [
             [
              0,
              "#0d0887"
             ],
             [
              0.1111111111111111,
              "#46039f"
             ],
             [
              0.2222222222222222,
              "#7201a8"
             ],
             [
              0.3333333333333333,
              "#9c179e"
             ],
             [
              0.4444444444444444,
              "#bd3786"
             ],
             [
              0.5555555555555556,
              "#d8576b"
             ],
             [
              0.6666666666666666,
              "#ed7953"
             ],
             [
              0.7777777777777778,
              "#fb9f3a"
             ],
             [
              0.8888888888888888,
              "#fdca26"
             ],
             [
              1,
              "#f0f921"
             ]
            ],
            "type": "histogram2d"
           }
          ],
          "histogram2dcontour": [
           {
            "colorbar": {
             "outlinewidth": 0,
             "ticks": ""
            },
            "colorscale": [
             [
              0,
              "#0d0887"
             ],
             [
              0.1111111111111111,
              "#46039f"
             ],
             [
              0.2222222222222222,
              "#7201a8"
             ],
             [
              0.3333333333333333,
              "#9c179e"
             ],
             [
              0.4444444444444444,
              "#bd3786"
             ],
             [
              0.5555555555555556,
              "#d8576b"
             ],
             [
              0.6666666666666666,
              "#ed7953"
             ],
             [
              0.7777777777777778,
              "#fb9f3a"
             ],
             [
              0.8888888888888888,
              "#fdca26"
             ],
             [
              1,
              "#f0f921"
             ]
            ],
            "type": "histogram2dcontour"
           }
          ],
          "mesh3d": [
           {
            "colorbar": {
             "outlinewidth": 0,
             "ticks": ""
            },
            "type": "mesh3d"
           }
          ],
          "parcoords": [
           {
            "line": {
             "colorbar": {
              "outlinewidth": 0,
              "ticks": ""
             }
            },
            "type": "parcoords"
           }
          ],
          "pie": [
           {
            "automargin": true,
            "type": "pie"
           }
          ],
          "scatter": [
           {
            "fillpattern": {
             "fillmode": "overlay",
             "size": 10,
             "solidity": 0.2
            },
            "type": "scatter"
           }
          ],
          "scatter3d": [
           {
            "line": {
             "colorbar": {
              "outlinewidth": 0,
              "ticks": ""
             }
            },
            "marker": {
             "colorbar": {
              "outlinewidth": 0,
              "ticks": ""
             }
            },
            "type": "scatter3d"
           }
          ],
          "scattercarpet": [
           {
            "marker": {
             "colorbar": {
              "outlinewidth": 0,
              "ticks": ""
             }
            },
            "type": "scattercarpet"
           }
          ],
          "scattergeo": [
           {
            "marker": {
             "colorbar": {
              "outlinewidth": 0,
              "ticks": ""
             }
            },
            "type": "scattergeo"
           }
          ],
          "scattergl": [
           {
            "marker": {
             "colorbar": {
              "outlinewidth": 0,
              "ticks": ""
             }
            },
            "type": "scattergl"
           }
          ],
          "scattermapbox": [
           {
            "marker": {
             "colorbar": {
              "outlinewidth": 0,
              "ticks": ""
             }
            },
            "type": "scattermapbox"
           }
          ],
          "scatterpolar": [
           {
            "marker": {
             "colorbar": {
              "outlinewidth": 0,
              "ticks": ""
             }
            },
            "type": "scatterpolar"
           }
          ],
          "scatterpolargl": [
           {
            "marker": {
             "colorbar": {
              "outlinewidth": 0,
              "ticks": ""
             }
            },
            "type": "scatterpolargl"
           }
          ],
          "scatterternary": [
           {
            "marker": {
             "colorbar": {
              "outlinewidth": 0,
              "ticks": ""
             }
            },
            "type": "scatterternary"
           }
          ],
          "surface": [
           {
            "colorbar": {
             "outlinewidth": 0,
             "ticks": ""
            },
            "colorscale": [
             [
              0,
              "#0d0887"
             ],
             [
              0.1111111111111111,
              "#46039f"
             ],
             [
              0.2222222222222222,
              "#7201a8"
             ],
             [
              0.3333333333333333,
              "#9c179e"
             ],
             [
              0.4444444444444444,
              "#bd3786"
             ],
             [
              0.5555555555555556,
              "#d8576b"
             ],
             [
              0.6666666666666666,
              "#ed7953"
             ],
             [
              0.7777777777777778,
              "#fb9f3a"
             ],
             [
              0.8888888888888888,
              "#fdca26"
             ],
             [
              1,
              "#f0f921"
             ]
            ],
            "type": "surface"
           }
          ],
          "table": [
           {
            "cells": {
             "fill": {
              "color": "#EBF0F8"
             },
             "line": {
              "color": "white"
             }
            },
            "header": {
             "fill": {
              "color": "#C8D4E3"
             },
             "line": {
              "color": "white"
             }
            },
            "type": "table"
           }
          ]
         },
         "layout": {
          "annotationdefaults": {
           "arrowcolor": "#2a3f5f",
           "arrowhead": 0,
           "arrowwidth": 1
          },
          "autotypenumbers": "strict",
          "coloraxis": {
           "colorbar": {
            "outlinewidth": 0,
            "ticks": ""
           }
          },
          "colorscale": {
           "diverging": [
            [
             0,
             "#8e0152"
            ],
            [
             0.1,
             "#c51b7d"
            ],
            [
             0.2,
             "#de77ae"
            ],
            [
             0.3,
             "#f1b6da"
            ],
            [
             0.4,
             "#fde0ef"
            ],
            [
             0.5,
             "#f7f7f7"
            ],
            [
             0.6,
             "#e6f5d0"
            ],
            [
             0.7,
             "#b8e186"
            ],
            [
             0.8,
             "#7fbc41"
            ],
            [
             0.9,
             "#4d9221"
            ],
            [
             1,
             "#276419"
            ]
           ],
           "sequential": [
            [
             0,
             "#0d0887"
            ],
            [
             0.1111111111111111,
             "#46039f"
            ],
            [
             0.2222222222222222,
             "#7201a8"
            ],
            [
             0.3333333333333333,
             "#9c179e"
            ],
            [
             0.4444444444444444,
             "#bd3786"
            ],
            [
             0.5555555555555556,
             "#d8576b"
            ],
            [
             0.6666666666666666,
             "#ed7953"
            ],
            [
             0.7777777777777778,
             "#fb9f3a"
            ],
            [
             0.8888888888888888,
             "#fdca26"
            ],
            [
             1,
             "#f0f921"
            ]
           ],
           "sequentialminus": [
            [
             0,
             "#0d0887"
            ],
            [
             0.1111111111111111,
             "#46039f"
            ],
            [
             0.2222222222222222,
             "#7201a8"
            ],
            [
             0.3333333333333333,
             "#9c179e"
            ],
            [
             0.4444444444444444,
             "#bd3786"
            ],
            [
             0.5555555555555556,
             "#d8576b"
            ],
            [
             0.6666666666666666,
             "#ed7953"
            ],
            [
             0.7777777777777778,
             "#fb9f3a"
            ],
            [
             0.8888888888888888,
             "#fdca26"
            ],
            [
             1,
             "#f0f921"
            ]
           ]
          },
          "colorway": [
           "#636efa",
           "#EF553B",
           "#00cc96",
           "#ab63fa",
           "#FFA15A",
           "#19d3f3",
           "#FF6692",
           "#B6E880",
           "#FF97FF",
           "#FECB52"
          ],
          "font": {
           "color": "#2a3f5f"
          },
          "geo": {
           "bgcolor": "white",
           "lakecolor": "white",
           "landcolor": "#E5ECF6",
           "showlakes": true,
           "showland": true,
           "subunitcolor": "white"
          },
          "hoverlabel": {
           "align": "left"
          },
          "hovermode": "closest",
          "mapbox": {
           "style": "light"
          },
          "paper_bgcolor": "white",
          "plot_bgcolor": "#E5ECF6",
          "polar": {
           "angularaxis": {
            "gridcolor": "white",
            "linecolor": "white",
            "ticks": ""
           },
           "bgcolor": "#E5ECF6",
           "radialaxis": {
            "gridcolor": "white",
            "linecolor": "white",
            "ticks": ""
           }
          },
          "scene": {
           "xaxis": {
            "backgroundcolor": "#E5ECF6",
            "gridcolor": "white",
            "gridwidth": 2,
            "linecolor": "white",
            "showbackground": true,
            "ticks": "",
            "zerolinecolor": "white"
           },
           "yaxis": {
            "backgroundcolor": "#E5ECF6",
            "gridcolor": "white",
            "gridwidth": 2,
            "linecolor": "white",
            "showbackground": true,
            "ticks": "",
            "zerolinecolor": "white"
           },
           "zaxis": {
            "backgroundcolor": "#E5ECF6",
            "gridcolor": "white",
            "gridwidth": 2,
            "linecolor": "white",
            "showbackground": true,
            "ticks": "",
            "zerolinecolor": "white"
           }
          },
          "shapedefaults": {
           "line": {
            "color": "#2a3f5f"
           }
          },
          "ternary": {
           "aaxis": {
            "gridcolor": "white",
            "linecolor": "white",
            "ticks": ""
           },
           "baxis": {
            "gridcolor": "white",
            "linecolor": "white",
            "ticks": ""
           },
           "bgcolor": "#E5ECF6",
           "caxis": {
            "gridcolor": "white",
            "linecolor": "white",
            "ticks": ""
           }
          },
          "title": {
           "x": 0.05
          },
          "xaxis": {
           "automargin": true,
           "gridcolor": "white",
           "linecolor": "white",
           "ticks": "",
           "title": {
            "standoff": 15
           },
           "zerolinecolor": "white",
           "zerolinewidth": 2
          },
          "yaxis": {
           "automargin": true,
           "gridcolor": "white",
           "linecolor": "white",
           "ticks": "",
           "title": {
            "standoff": 15
           },
           "zerolinecolor": "white",
           "zerolinewidth": 2
          }
         }
        },
        "xaxis": {
         "anchor": "y",
         "domain": [
          0,
          1
         ],
         "dtick": 2,
         "tick0": 1896,
         "title": {
          "text": "Year"
         }
        },
        "yaxis": {
         "anchor": "x",
         "domain": [
          0,
          1
         ],
         "title": {
          "text": "Count of athletes"
         }
        }
       }
      }
     },
     "metadata": {},
     "output_type": "display_data"
    }
   ],
   "source": [
    "# Amount of athletes and ratio between M and F athletes in each olympic game\n",
    "\n",
    "medals_count_sex = sweden_athletes.groupby([\"Year\", \"Sex\"], as_index=False)[\"ID\"].nunique()\n",
    "\n",
    "grouped_medals_count_sex = medals_count_sex.groupby([\"Year\", \"Sex\"], as_index=False).agg(\"sum\")\n",
    "\n",
    "#Plot amount of M and F athletes in each olympic game in a bar chart\n",
    "fig = px.bar(grouped_medals_count_sex, x = \"Year\", y =\"ID\", color = \"Sex\", barmode = \"group\")\n",
    "# Change title of y-axis\n",
    "fig.update_yaxes(title_text=\"Count of athletes\")\n",
    "# Have all x-values visible in the fig plot\n",
    "fig.update_xaxes(tick0=1896, dtick=2)\n",
    "\n",
    "# Make the bars wider\n",
    "fig.update_traces(width=0.8)\n",
    "fig.update_layout(bargap=0.01)\n",
    "\n",
    "fig.show()"
   ]
  },
  {
   "cell_type": "code",
   "execution_count": 84,
   "metadata": {},
   "outputs": [
    {
     "data": {
      "application/vnd.plotly.v1+json": {
       "config": {
        "plotlyServerURL": "https://plot.ly"
       },
       "data": [
        {
         "alignmentgroup": "True",
         "hovertemplate": "<b>%{hovertext}</b><br><br>Medal=Bronze<br>Sex=M<br>Country=%{x}<br>Amount of medals=%{y}<extra></extra>",
         "hovertext": [
          "ANZ",
          "AUT",
          "BEL",
          "CAN",
          "DEN",
          "FIN",
          "FRA",
          "GBR",
          "GER",
          "GRE",
          "HUN",
          "ITA",
          "NED",
          "NOR",
          "RUS",
          "SWE",
          "USA"
         ],
         "legendgroup": "Bronze",
         "marker": {
          "color": "#636efa",
          "pattern": {
           "shape": ""
          }
         },
         "name": "Bronze",
         "offsetgroup": "Bronze",
         "orientation": "v",
         "showlegend": true,
         "textposition": "auto",
         "type": "bar",
         "x": [
          "ANZ",
          "AUT",
          "BEL",
          "CAN",
          "DEN",
          "FIN",
          "FRA",
          "GBR",
          "GER",
          "GRE",
          "HUN",
          "ITA",
          "NED",
          "NOR",
          "RUS",
          "SWE",
          "USA"
         ],
         "xaxis": "x2",
         "y": [
          3,
          1,
          11,
          3,
          33,
          22,
          4,
          56,
          23,
          1,
          3,
          2,
          26,
          33,
          9,
          24,
          36
         ],
         "yaxis": "y2"
        },
        {
         "alignmentgroup": "True",
         "hovertemplate": "<b>%{hovertext}</b><br><br>Medal=Bronze<br>Sex=F<br>Country=%{x}<br>Amount of medals=%{y}<extra></extra>",
         "hovertext": [
          "AUT",
          "FRA",
          "GBR",
          "NOR",
          "SWE"
         ],
         "legendgroup": "Bronze",
         "marker": {
          "color": "#636efa",
          "pattern": {
           "shape": ""
          }
         },
         "name": "Bronze",
         "offsetgroup": "Bronze",
         "orientation": "v",
         "showlegend": false,
         "textposition": "auto",
         "type": "bar",
         "x": [
          "AUT",
          "FRA",
          "GBR",
          "NOR",
          "SWE"
         ],
         "xaxis": "x",
         "y": [
          4,
          1,
          3,
          1,
          1
         ],
         "yaxis": "y"
        },
        {
         "alignmentgroup": "True",
         "hovertemplate": "<b>%{hovertext}</b><br><br>Medal=Gold<br>Sex=M<br>Country=%{x}<br>Amount of medals=%{y}<extra></extra>",
         "hovertext": [
          "ANZ",
          "BEL",
          "CAN",
          "DEN",
          "FIN",
          "FRA",
          "GBR",
          "GER",
          "GRE",
          "HUN",
          "ITA",
          "NOR",
          "RSA",
          "SUI",
          "SWE",
          "USA"
         ],
         "legendgroup": "Gold",
         "marker": {
          "color": "#EF553B",
          "pattern": {
           "shape": ""
          }
         },
         "name": "Gold",
         "offsetgroup": "Gold",
         "orientation": "v",
         "showlegend": true,
         "textposition": "auto",
         "type": "bar",
         "x": [
          "ANZ",
          "BEL",
          "CAN",
          "DEN",
          "FIN",
          "FRA",
          "GBR",
          "GER",
          "GRE",
          "HUN",
          "ITA",
          "NOR",
          "RSA",
          "SUI",
          "SWE",
          "USA"
         ],
         "xaxis": "x2",
         "y": [
          4,
          7,
          3,
          5,
          9,
          9,
          41,
          10,
          1,
          10,
          22,
          40,
          5,
          2,
          102,
          46
         ],
         "yaxis": "y2"
        },
        {
         "alignmentgroup": "True",
         "hovertemplate": "<b>%{hovertext}</b><br><br>Medal=Gold<br>Sex=F<br>Country=%{x}<br>Amount of medals=%{y}<extra></extra>",
         "hovertext": [
          "ANZ",
          "FRA",
          "GBR",
          "GER",
          "SWE"
         ],
         "legendgroup": "Gold",
         "marker": {
          "color": "#EF553B",
          "pattern": {
           "shape": ""
          }
         },
         "name": "Gold",
         "offsetgroup": "Gold",
         "orientation": "v",
         "showlegend": false,
         "textposition": "auto",
         "type": "bar",
         "x": [
          "ANZ",
          "FRA",
          "GBR",
          "GER",
          "SWE"
         ],
         "xaxis": "x",
         "y": [
          1,
          1,
          6,
          1,
          1
         ],
         "yaxis": "y"
        },
        {
         "alignmentgroup": "True",
         "hovertemplate": "<b>%{hovertext}</b><br><br>Medal=Silver<br>Sex=M<br>Country=%{x}<br>Amount of medals=%{y}<extra></extra>",
         "hovertext": [
          "ANZ",
          "AUT",
          "BEL",
          "CAN",
          "DEN",
          "FIN",
          "FRA",
          "GBR",
          "GER",
          "HUN",
          "ITA",
          "NOR",
          "RSA",
          "RUS",
          "SWE",
          "USA"
         ],
         "legendgroup": "Silver",
         "marker": {
          "color": "#00cc96",
          "pattern": {
           "shape": ""
          }
         },
         "name": "Silver",
         "offsetgroup": "Silver",
         "orientation": "v",
         "showlegend": true,
         "textposition": "auto",
         "type": "bar",
         "x": [
          "ANZ",
          "AUT",
          "BEL",
          "CAN",
          "DEN",
          "FIN",
          "FRA",
          "GBR",
          "GER",
          "HUN",
          "ITA",
          "NOR",
          "RSA",
          "RUS",
          "SWE",
          "USA"
         ],
         "xaxis": "x2",
         "y": [
          1,
          9,
          1,
          2,
          48,
          40,
          11,
          63,
          14,
          17,
          1,
          6,
          2,
          5,
          60,
          25
         ],
         "yaxis": "y2"
        },
        {
         "alignmentgroup": "True",
         "hovertemplate": "<b>%{hovertext}</b><br><br>Medal=Silver<br>Sex=F<br>Country=%{x}<br>Amount of medals=%{y}<extra></extra>",
         "hovertext": [
          "ANZ",
          "DEN",
          "GBR",
          "GER",
          "SWE"
         ],
         "legendgroup": "Silver",
         "marker": {
          "color": "#00cc96",
          "pattern": {
           "shape": ""
          }
         },
         "name": "Silver",
         "offsetgroup": "Silver",
         "orientation": "v",
         "showlegend": false,
         "textposition": "auto",
         "type": "bar",
         "x": [
          "ANZ",
          "DEN",
          "GBR",
          "GER",
          "SWE"
         ],
         "xaxis": "x",
         "y": [
          1,
          1,
          1,
          5,
          2
         ],
         "yaxis": "y"
        }
       ],
       "layout": {
        "annotations": [
         {
          "font": {},
          "showarrow": false,
          "text": "Sex=F",
          "textangle": 90,
          "x": 0.98,
          "xanchor": "left",
          "xref": "paper",
          "y": 0.2425,
          "yanchor": "middle",
          "yref": "paper"
         },
         {
          "font": {},
          "showarrow": false,
          "text": "Sex=M",
          "textangle": 90,
          "x": 0.98,
          "xanchor": "left",
          "xref": "paper",
          "y": 0.7575000000000001,
          "yanchor": "middle",
          "yref": "paper"
         }
        ],
        "barmode": "group",
        "legend": {
         "title": {
          "text": "Medal"
         },
         "tracegroupgap": 0
        },
        "template": {
         "data": {
          "bar": [
           {
            "error_x": {
             "color": "#2a3f5f"
            },
            "error_y": {
             "color": "#2a3f5f"
            },
            "marker": {
             "line": {
              "color": "#E5ECF6",
              "width": 0.5
             },
             "pattern": {
              "fillmode": "overlay",
              "size": 10,
              "solidity": 0.2
             }
            },
            "type": "bar"
           }
          ],
          "barpolar": [
           {
            "marker": {
             "line": {
              "color": "#E5ECF6",
              "width": 0.5
             },
             "pattern": {
              "fillmode": "overlay",
              "size": 10,
              "solidity": 0.2
             }
            },
            "type": "barpolar"
           }
          ],
          "carpet": [
           {
            "aaxis": {
             "endlinecolor": "#2a3f5f",
             "gridcolor": "white",
             "linecolor": "white",
             "minorgridcolor": "white",
             "startlinecolor": "#2a3f5f"
            },
            "baxis": {
             "endlinecolor": "#2a3f5f",
             "gridcolor": "white",
             "linecolor": "white",
             "minorgridcolor": "white",
             "startlinecolor": "#2a3f5f"
            },
            "type": "carpet"
           }
          ],
          "choropleth": [
           {
            "colorbar": {
             "outlinewidth": 0,
             "ticks": ""
            },
            "type": "choropleth"
           }
          ],
          "contour": [
           {
            "colorbar": {
             "outlinewidth": 0,
             "ticks": ""
            },
            "colorscale": [
             [
              0,
              "#0d0887"
             ],
             [
              0.1111111111111111,
              "#46039f"
             ],
             [
              0.2222222222222222,
              "#7201a8"
             ],
             [
              0.3333333333333333,
              "#9c179e"
             ],
             [
              0.4444444444444444,
              "#bd3786"
             ],
             [
              0.5555555555555556,
              "#d8576b"
             ],
             [
              0.6666666666666666,
              "#ed7953"
             ],
             [
              0.7777777777777778,
              "#fb9f3a"
             ],
             [
              0.8888888888888888,
              "#fdca26"
             ],
             [
              1,
              "#f0f921"
             ]
            ],
            "type": "contour"
           }
          ],
          "contourcarpet": [
           {
            "colorbar": {
             "outlinewidth": 0,
             "ticks": ""
            },
            "type": "contourcarpet"
           }
          ],
          "heatmap": [
           {
            "colorbar": {
             "outlinewidth": 0,
             "ticks": ""
            },
            "colorscale": [
             [
              0,
              "#0d0887"
             ],
             [
              0.1111111111111111,
              "#46039f"
             ],
             [
              0.2222222222222222,
              "#7201a8"
             ],
             [
              0.3333333333333333,
              "#9c179e"
             ],
             [
              0.4444444444444444,
              "#bd3786"
             ],
             [
              0.5555555555555556,
              "#d8576b"
             ],
             [
              0.6666666666666666,
              "#ed7953"
             ],
             [
              0.7777777777777778,
              "#fb9f3a"
             ],
             [
              0.8888888888888888,
              "#fdca26"
             ],
             [
              1,
              "#f0f921"
             ]
            ],
            "type": "heatmap"
           }
          ],
          "heatmapgl": [
           {
            "colorbar": {
             "outlinewidth": 0,
             "ticks": ""
            },
            "colorscale": [
             [
              0,
              "#0d0887"
             ],
             [
              0.1111111111111111,
              "#46039f"
             ],
             [
              0.2222222222222222,
              "#7201a8"
             ],
             [
              0.3333333333333333,
              "#9c179e"
             ],
             [
              0.4444444444444444,
              "#bd3786"
             ],
             [
              0.5555555555555556,
              "#d8576b"
             ],
             [
              0.6666666666666666,
              "#ed7953"
             ],
             [
              0.7777777777777778,
              "#fb9f3a"
             ],
             [
              0.8888888888888888,
              "#fdca26"
             ],
             [
              1,
              "#f0f921"
             ]
            ],
            "type": "heatmapgl"
           }
          ],
          "histogram": [
           {
            "marker": {
             "pattern": {
              "fillmode": "overlay",
              "size": 10,
              "solidity": 0.2
             }
            },
            "type": "histogram"
           }
          ],
          "histogram2d": [
           {
            "colorbar": {
             "outlinewidth": 0,
             "ticks": ""
            },
            "colorscale": [
             [
              0,
              "#0d0887"
             ],
             [
              0.1111111111111111,
              "#46039f"
             ],
             [
              0.2222222222222222,
              "#7201a8"
             ],
             [
              0.3333333333333333,
              "#9c179e"
             ],
             [
              0.4444444444444444,
              "#bd3786"
             ],
             [
              0.5555555555555556,
              "#d8576b"
             ],
             [
              0.6666666666666666,
              "#ed7953"
             ],
             [
              0.7777777777777778,
              "#fb9f3a"
             ],
             [
              0.8888888888888888,
              "#fdca26"
             ],
             [
              1,
              "#f0f921"
             ]
            ],
            "type": "histogram2d"
           }
          ],
          "histogram2dcontour": [
           {
            "colorbar": {
             "outlinewidth": 0,
             "ticks": ""
            },
            "colorscale": [
             [
              0,
              "#0d0887"
             ],
             [
              0.1111111111111111,
              "#46039f"
             ],
             [
              0.2222222222222222,
              "#7201a8"
             ],
             [
              0.3333333333333333,
              "#9c179e"
             ],
             [
              0.4444444444444444,
              "#bd3786"
             ],
             [
              0.5555555555555556,
              "#d8576b"
             ],
             [
              0.6666666666666666,
              "#ed7953"
             ],
             [
              0.7777777777777778,
              "#fb9f3a"
             ],
             [
              0.8888888888888888,
              "#fdca26"
             ],
             [
              1,
              "#f0f921"
             ]
            ],
            "type": "histogram2dcontour"
           }
          ],
          "mesh3d": [
           {
            "colorbar": {
             "outlinewidth": 0,
             "ticks": ""
            },
            "type": "mesh3d"
           }
          ],
          "parcoords": [
           {
            "line": {
             "colorbar": {
              "outlinewidth": 0,
              "ticks": ""
             }
            },
            "type": "parcoords"
           }
          ],
          "pie": [
           {
            "automargin": true,
            "type": "pie"
           }
          ],
          "scatter": [
           {
            "fillpattern": {
             "fillmode": "overlay",
             "size": 10,
             "solidity": 0.2
            },
            "type": "scatter"
           }
          ],
          "scatter3d": [
           {
            "line": {
             "colorbar": {
              "outlinewidth": 0,
              "ticks": ""
             }
            },
            "marker": {
             "colorbar": {
              "outlinewidth": 0,
              "ticks": ""
             }
            },
            "type": "scatter3d"
           }
          ],
          "scattercarpet": [
           {
            "marker": {
             "colorbar": {
              "outlinewidth": 0,
              "ticks": ""
             }
            },
            "type": "scattercarpet"
           }
          ],
          "scattergeo": [
           {
            "marker": {
             "colorbar": {
              "outlinewidth": 0,
              "ticks": ""
             }
            },
            "type": "scattergeo"
           }
          ],
          "scattergl": [
           {
            "marker": {
             "colorbar": {
              "outlinewidth": 0,
              "ticks": ""
             }
            },
            "type": "scattergl"
           }
          ],
          "scattermapbox": [
           {
            "marker": {
             "colorbar": {
              "outlinewidth": 0,
              "ticks": ""
             }
            },
            "type": "scattermapbox"
           }
          ],
          "scatterpolar": [
           {
            "marker": {
             "colorbar": {
              "outlinewidth": 0,
              "ticks": ""
             }
            },
            "type": "scatterpolar"
           }
          ],
          "scatterpolargl": [
           {
            "marker": {
             "colorbar": {
              "outlinewidth": 0,
              "ticks": ""
             }
            },
            "type": "scatterpolargl"
           }
          ],
          "scatterternary": [
           {
            "marker": {
             "colorbar": {
              "outlinewidth": 0,
              "ticks": ""
             }
            },
            "type": "scatterternary"
           }
          ],
          "surface": [
           {
            "colorbar": {
             "outlinewidth": 0,
             "ticks": ""
            },
            "colorscale": [
             [
              0,
              "#0d0887"
             ],
             [
              0.1111111111111111,
              "#46039f"
             ],
             [
              0.2222222222222222,
              "#7201a8"
             ],
             [
              0.3333333333333333,
              "#9c179e"
             ],
             [
              0.4444444444444444,
              "#bd3786"
             ],
             [
              0.5555555555555556,
              "#d8576b"
             ],
             [
              0.6666666666666666,
              "#ed7953"
             ],
             [
              0.7777777777777778,
              "#fb9f3a"
             ],
             [
              0.8888888888888888,
              "#fdca26"
             ],
             [
              1,
              "#f0f921"
             ]
            ],
            "type": "surface"
           }
          ],
          "table": [
           {
            "cells": {
             "fill": {
              "color": "#EBF0F8"
             },
             "line": {
              "color": "white"
             }
            },
            "header": {
             "fill": {
              "color": "#C8D4E3"
             },
             "line": {
              "color": "white"
             }
            },
            "type": "table"
           }
          ]
         },
         "layout": {
          "annotationdefaults": {
           "arrowcolor": "#2a3f5f",
           "arrowhead": 0,
           "arrowwidth": 1
          },
          "autotypenumbers": "strict",
          "coloraxis": {
           "colorbar": {
            "outlinewidth": 0,
            "ticks": ""
           }
          },
          "colorscale": {
           "diverging": [
            [
             0,
             "#8e0152"
            ],
            [
             0.1,
             "#c51b7d"
            ],
            [
             0.2,
             "#de77ae"
            ],
            [
             0.3,
             "#f1b6da"
            ],
            [
             0.4,
             "#fde0ef"
            ],
            [
             0.5,
             "#f7f7f7"
            ],
            [
             0.6,
             "#e6f5d0"
            ],
            [
             0.7,
             "#b8e186"
            ],
            [
             0.8,
             "#7fbc41"
            ],
            [
             0.9,
             "#4d9221"
            ],
            [
             1,
             "#276419"
            ]
           ],
           "sequential": [
            [
             0,
             "#0d0887"
            ],
            [
             0.1111111111111111,
             "#46039f"
            ],
            [
             0.2222222222222222,
             "#7201a8"
            ],
            [
             0.3333333333333333,
             "#9c179e"
            ],
            [
             0.4444444444444444,
             "#bd3786"
            ],
            [
             0.5555555555555556,
             "#d8576b"
            ],
            [
             0.6666666666666666,
             "#ed7953"
            ],
            [
             0.7777777777777778,
             "#fb9f3a"
            ],
            [
             0.8888888888888888,
             "#fdca26"
            ],
            [
             1,
             "#f0f921"
            ]
           ],
           "sequentialminus": [
            [
             0,
             "#0d0887"
            ],
            [
             0.1111111111111111,
             "#46039f"
            ],
            [
             0.2222222222222222,
             "#7201a8"
            ],
            [
             0.3333333333333333,
             "#9c179e"
            ],
            [
             0.4444444444444444,
             "#bd3786"
            ],
            [
             0.5555555555555556,
             "#d8576b"
            ],
            [
             0.6666666666666666,
             "#ed7953"
            ],
            [
             0.7777777777777778,
             "#fb9f3a"
            ],
            [
             0.8888888888888888,
             "#fdca26"
            ],
            [
             1,
             "#f0f921"
            ]
           ]
          },
          "colorway": [
           "#636efa",
           "#EF553B",
           "#00cc96",
           "#ab63fa",
           "#FFA15A",
           "#19d3f3",
           "#FF6692",
           "#B6E880",
           "#FF97FF",
           "#FECB52"
          ],
          "font": {
           "color": "#2a3f5f"
          },
          "geo": {
           "bgcolor": "white",
           "lakecolor": "white",
           "landcolor": "#E5ECF6",
           "showlakes": true,
           "showland": true,
           "subunitcolor": "white"
          },
          "hoverlabel": {
           "align": "left"
          },
          "hovermode": "closest",
          "mapbox": {
           "style": "light"
          },
          "paper_bgcolor": "white",
          "plot_bgcolor": "#E5ECF6",
          "polar": {
           "angularaxis": {
            "gridcolor": "white",
            "linecolor": "white",
            "ticks": ""
           },
           "bgcolor": "#E5ECF6",
           "radialaxis": {
            "gridcolor": "white",
            "linecolor": "white",
            "ticks": ""
           }
          },
          "scene": {
           "xaxis": {
            "backgroundcolor": "#E5ECF6",
            "gridcolor": "white",
            "gridwidth": 2,
            "linecolor": "white",
            "showbackground": true,
            "ticks": "",
            "zerolinecolor": "white"
           },
           "yaxis": {
            "backgroundcolor": "#E5ECF6",
            "gridcolor": "white",
            "gridwidth": 2,
            "linecolor": "white",
            "showbackground": true,
            "ticks": "",
            "zerolinecolor": "white"
           },
           "zaxis": {
            "backgroundcolor": "#E5ECF6",
            "gridcolor": "white",
            "gridwidth": 2,
            "linecolor": "white",
            "showbackground": true,
            "ticks": "",
            "zerolinecolor": "white"
           }
          },
          "shapedefaults": {
           "line": {
            "color": "#2a3f5f"
           }
          },
          "ternary": {
           "aaxis": {
            "gridcolor": "white",
            "linecolor": "white",
            "ticks": ""
           },
           "baxis": {
            "gridcolor": "white",
            "linecolor": "white",
            "ticks": ""
           },
           "bgcolor": "#E5ECF6",
           "caxis": {
            "gridcolor": "white",
            "linecolor": "white",
            "ticks": ""
           }
          },
          "title": {
           "x": 0.05
          },
          "xaxis": {
           "automargin": true,
           "gridcolor": "white",
           "linecolor": "white",
           "ticks": "",
           "title": {
            "standoff": 15
           },
           "zerolinecolor": "white",
           "zerolinewidth": 2
          },
          "yaxis": {
           "automargin": true,
           "gridcolor": "white",
           "linecolor": "white",
           "ticks": "",
           "title": {
            "standoff": 15
           },
           "zerolinecolor": "white",
           "zerolinewidth": 2
          }
         }
        },
        "title": {
         "text": "Medal Distribution in The Olympic Games in Sweden 1912"
        },
        "xaxis": {
         "anchor": "y",
         "domain": [
          0,
          0.98
         ],
         "title": {
          "text": "Country"
         }
        },
        "xaxis2": {
         "anchor": "y2",
         "domain": [
          0,
          0.98
         ],
         "matches": "x",
         "showticklabels": false
        },
        "yaxis": {
         "anchor": "x",
         "domain": [
          0,
          0.485
         ],
         "title": {
          "text": "Amount of medals"
         },
         "type": "log"
        },
        "yaxis2": {
         "anchor": "x2",
         "domain": [
          0.515,
          1
         ],
         "matches": "y",
         "title": {
          "text": "Amount of medals"
         },
         "type": "log"
        }
       }
      }
     },
     "metadata": {},
     "output_type": "display_data"
    }
   ],
   "source": [
    "# Medal Distribution in The Olympic Games in Sweden 1912\n",
    "\n",
    "medal_data_1912=(\n",
    "    athlete_events.query(\"Year == 1912\")\n",
    "    .groupby(['NOC', 'Medal', 'Sex'])\n",
    "    .size()\n",
    "    .reset_index(name=\"Amount of medals\")\n",
    ")\n",
    "\n",
    "fig = px.bar(\n",
    "    medal_data_1912,\n",
    "    x='NOC',\n",
    "    y='Amount of medals',\n",
    "    log_y=True,\n",
    "    hover_name='NOC',\n",
    "    hover_data=[],\n",
    "    facet_row='Sex',\n",
    "    labels={\"NOC\": 'Country'},\n",
    "    color='Medal',\n",
    "    title=\"Medal Distribution in The Olympic Games in Sweden 1912\",\n",
    "    barmode='group'\n",
    "    )\n",
    "fig.show()\n"
   ]
  }
 ],
 "metadata": {
  "kernelspec": {
   "display_name": "databehandling-YOUNIS-MOUSSAVI-7D8IQwvr",
   "language": "python",
   "name": "python3"
  },
  "language_info": {
   "codemirror_mode": {
    "name": "ipython",
    "version": 3
   },
   "file_extension": ".py",
   "mimetype": "text/x-python",
   "name": "python",
   "nbconvert_exporter": "python",
   "pygments_lexer": "ipython3",
   "version": "3.11.5"
  },
  "orig_nbformat": 4
 },
 "nbformat": 4,
 "nbformat_minor": 2
}
