{
 "cells": [
  {
   "cell_type": "markdown",
   "metadata": {},
   "source": [
    "# Assignment 1 - Statistics per country\n",
    "#### Sports Statistics Sweden"
   ]
  },
  {
   "cell_type": "code",
   "execution_count": 1,
   "metadata": {},
   "outputs": [],
   "source": [
    "import pandas as pd\n",
    "import plotly.express as px\n",
    "import hashlib as hl # For hashing "
   ]
  },
  {
   "cell_type": "markdown",
   "metadata": {},
   "source": [
    "#### Reading and exploring data"
   ]
  },
  {
   "cell_type": "code",
   "execution_count": 2,
   "metadata": {},
   "outputs": [
    {
     "data": {
      "text/html": [
       "<div>\n",
       "<style scoped>\n",
       "    .dataframe tbody tr th:only-of-type {\n",
       "        vertical-align: middle;\n",
       "    }\n",
       "\n",
       "    .dataframe tbody tr th {\n",
       "        vertical-align: top;\n",
       "    }\n",
       "\n",
       "    .dataframe thead th {\n",
       "        text-align: right;\n",
       "    }\n",
       "</style>\n",
       "<table border=\"1\" class=\"dataframe\">\n",
       "  <thead>\n",
       "    <tr style=\"text-align: right;\">\n",
       "      <th></th>\n",
       "      <th>ID</th>\n",
       "      <th>Name</th>\n",
       "      <th>Sex</th>\n",
       "      <th>Age</th>\n",
       "      <th>Height</th>\n",
       "      <th>Weight</th>\n",
       "      <th>Team</th>\n",
       "      <th>NOC</th>\n",
       "      <th>Games</th>\n",
       "      <th>Year</th>\n",
       "      <th>Season</th>\n",
       "      <th>City</th>\n",
       "      <th>Sport</th>\n",
       "      <th>Event</th>\n",
       "      <th>Medal</th>\n",
       "    </tr>\n",
       "  </thead>\n",
       "  <tbody>\n",
       "    <tr>\n",
       "      <th>725</th>\n",
       "      <td>414</td>\n",
       "      <td>Arvid berg</td>\n",
       "      <td>M</td>\n",
       "      <td>26.0</td>\n",
       "      <td>NaN</td>\n",
       "      <td>NaN</td>\n",
       "      <td>Sweden</td>\n",
       "      <td>SWE</td>\n",
       "      <td>1912 Summer</td>\n",
       "      <td>1912</td>\n",
       "      <td>Summer</td>\n",
       "      <td>Stockholm</td>\n",
       "      <td>Athletics</td>\n",
       "      <td>Athletics Men's Hammer Throw</td>\n",
       "      <td>NaN</td>\n",
       "    </tr>\n",
       "    <tr>\n",
       "      <th>726</th>\n",
       "      <td>415</td>\n",
       "      <td>Bjrn Olof Conny berg</td>\n",
       "      <td>M</td>\n",
       "      <td>23.0</td>\n",
       "      <td>181.0</td>\n",
       "      <td>76.0</td>\n",
       "      <td>Sweden</td>\n",
       "      <td>SWE</td>\n",
       "      <td>1992 Winter</td>\n",
       "      <td>1992</td>\n",
       "      <td>Winter</td>\n",
       "      <td>Albertville</td>\n",
       "      <td>Freestyle Skiing</td>\n",
       "      <td>Freestyle Skiing Men's Moguls</td>\n",
       "      <td>NaN</td>\n",
       "    </tr>\n",
       "    <tr>\n",
       "      <th>727</th>\n",
       "      <td>416</td>\n",
       "      <td>Nils Georg berg</td>\n",
       "      <td>M</td>\n",
       "      <td>19.0</td>\n",
       "      <td>181.0</td>\n",
       "      <td>78.0</td>\n",
       "      <td>Sweden</td>\n",
       "      <td>SWE</td>\n",
       "      <td>1912 Summer</td>\n",
       "      <td>1912</td>\n",
       "      <td>Summer</td>\n",
       "      <td>Stockholm</td>\n",
       "      <td>Athletics</td>\n",
       "      <td>Athletics Men's Long Jump</td>\n",
       "      <td>Bronze</td>\n",
       "    </tr>\n",
       "    <tr>\n",
       "      <th>728</th>\n",
       "      <td>416</td>\n",
       "      <td>Nils Georg berg</td>\n",
       "      <td>M</td>\n",
       "      <td>19.0</td>\n",
       "      <td>181.0</td>\n",
       "      <td>78.0</td>\n",
       "      <td>Sweden</td>\n",
       "      <td>SWE</td>\n",
       "      <td>1912 Summer</td>\n",
       "      <td>1912</td>\n",
       "      <td>Summer</td>\n",
       "      <td>Stockholm</td>\n",
       "      <td>Athletics</td>\n",
       "      <td>Athletics Men's Triple Jump</td>\n",
       "      <td>Silver</td>\n",
       "    </tr>\n",
       "    <tr>\n",
       "      <th>729</th>\n",
       "      <td>417</td>\n",
       "      <td>Sara Helena berg</td>\n",
       "      <td>F</td>\n",
       "      <td>17.0</td>\n",
       "      <td>190.0</td>\n",
       "      <td>73.0</td>\n",
       "      <td>Sweden</td>\n",
       "      <td>SWE</td>\n",
       "      <td>1988 Summer</td>\n",
       "      <td>1988</td>\n",
       "      <td>Summer</td>\n",
       "      <td>Seoul</td>\n",
       "      <td>Swimming</td>\n",
       "      <td>Swimming Women's 50 metres Freestyle</td>\n",
       "      <td>NaN</td>\n",
       "    </tr>\n",
       "  </tbody>\n",
       "</table>\n",
       "</div>"
      ],
      "text/plain": [
       "      ID                  Name Sex   Age  Height  Weight    Team  NOC  \\\n",
       "725  414            Arvid berg   M  26.0     NaN     NaN  Sweden  SWE   \n",
       "726  415  Bjrn Olof Conny berg   M  23.0   181.0    76.0  Sweden  SWE   \n",
       "727  416       Nils Georg berg   M  19.0   181.0    78.0  Sweden  SWE   \n",
       "728  416       Nils Georg berg   M  19.0   181.0    78.0  Sweden  SWE   \n",
       "729  417      Sara Helena berg   F  17.0   190.0    73.0  Sweden  SWE   \n",
       "\n",
       "           Games  Year  Season         City             Sport  \\\n",
       "725  1912 Summer  1912  Summer    Stockholm         Athletics   \n",
       "726  1992 Winter  1992  Winter  Albertville  Freestyle Skiing   \n",
       "727  1912 Summer  1912  Summer    Stockholm         Athletics   \n",
       "728  1912 Summer  1912  Summer    Stockholm         Athletics   \n",
       "729  1988 Summer  1988  Summer        Seoul          Swimming   \n",
       "\n",
       "                                    Event   Medal  \n",
       "725          Athletics Men's Hammer Throw     NaN  \n",
       "726         Freestyle Skiing Men's Moguls     NaN  \n",
       "727             Athletics Men's Long Jump  Bronze  \n",
       "728           Athletics Men's Triple Jump  Silver  \n",
       "729  Swimming Women's 50 metres Freestyle     NaN  "
      ]
     },
     "execution_count": 2,
     "metadata": {},
     "output_type": "execute_result"
    }
   ],
   "source": [
    "# Reading the athlete_events.csv file\n",
    "athlete_events = pd.read_csv(\"data/athlete_events.csv\")\n",
    "\n",
    "# Filtering the data to only include swedish athletes\n",
    "sweden_athletes = pd.DataFrame(athlete_events[athlete_events[\"NOC\"] == \"SWE\"]) # Changed here to be able to do the hashing properly\n",
    "\n",
    "sweden_athletes.head()"
   ]
  },
  {
   "cell_type": "markdown",
   "metadata": {},
   "source": [
    "#### **a)** Börja med att anonymisera kolumnen med idrottarnas namn med hashfunktionen SHA-256."
   ]
  },
  {
   "cell_type": "code",
   "execution_count": null,
   "metadata": {},
   "outputs": [],
   "source": [
    "# Anonymization with hashfunction (algorithm) SHA-256 for the athletes names\n",
    "sweden_athletes['Name'] = sweden_athletes['Name'].apply(lambda name: hl.sha256(name.encode()).hexdigest())\n",
    "sweden_athletes.head()"
   ]
  },
  {
   "cell_type": "markdown",
   "metadata": {},
   "source": [
    "#### Undersök därefter hur det gått för landet i OS genom tiderna. Visualisera exempelvis:\n",
    "#### **b)** de sporter landet fått flest medaljer i"
   ]
  },
  {
   "cell_type": "code",
   "execution_count": null,
   "metadata": {},
   "outputs": [],
   "source": [
    "# Grouping by sport and counting medals\n",
    "medals_per_sport = sweden_athletes.groupby(\"Sport\", as_index=False)[\"Medal\"].count()\n",
    "\n",
    "# Sort values on number of medals in descending order, reseting index and displaying the result in a plot. \n",
    "fig=px.bar(\n",
    "    data_frame=medals_per_sport.sort_values(by='Medal', ascending=False, ignore_index=True).head(10),\n",
    "    x='Sport',\n",
    "    y='Medal',\n",
    "    labels={'Medal': 'Number of Medals'},\n",
    "    template='plotly_white',\n",
    "    title=\"Top 10 Sports with the Most Medals for Swedish Athletes\",\n",
    "    barmode='overlay',\n",
    ")\n",
    "fig.update_xaxes(tickangle=45)\n",
    "fig.show()"
   ]
  },
  {
   "cell_type": "markdown",
   "metadata": {},
   "source": [
    "#### **c)** antal medaljer per OS"
   ]
  },
  {
   "cell_type": "code",
   "execution_count": null,
   "metadata": {},
   "outputs": [],
   "source": [
    "# Filtering out list with medals without NaN values\n",
    "df_medals_swe = sweden_athletes[~sweden_athletes[\"Medal\"].isin([\"NaN\"])]   # Seems it doesnt count NaN so it is not needed to use isin filtering here\n",
    "\n",
    "# Grouping by year, country and counting medals\n",
    "medals_per_OS = df_medals_swe.groupby([\"Year\"], as_index=False)[\"Medal\"].count()\n",
    "\n",
    "print(\"Sweden has won the following medals in each olympic game:\")\n",
    "for index, row in medals_per_OS.iterrows():\n",
    "    print(f\"Year: {row['Year']}, Medals: {row['Medal']}\")\n"
   ]
  },
  {
   "cell_type": "code",
   "execution_count": null,
   "metadata": {},
   "outputs": [],
   "source": [
    "fig = px.bar(medals_per_OS, x=\"Year\", y=\"Medal\", title=\"Medals for Sweden per Olympic Game\")\n",
    "# Have all x-values visible in the fig plot\n",
    "fig.update_xaxes(tick0=1896, dtick=2)"
   ]
  },
  {
   "cell_type": "markdown",
   "metadata": {},
   "source": [
    "#### **d)** histogram över åldrar"
   ]
  },
  {
   "cell_type": "code",
   "execution_count": null,
   "metadata": {},
   "outputs": [],
   "source": [
    "# Ages of athletes from SWE in 2016 olympics\n",
    "sweden_athletes_2016 = athlete_events[(athlete_events[\"NOC\"] == \"SWE\") & (athlete_events[\"Year\"] == 2016)]\n"
   ]
  },
  {
   "cell_type": "code",
   "execution_count": null,
   "metadata": {},
   "outputs": [],
   "source": [
    "# Plotting a histogram over ages of athletes from SWE in 2016 olympics\n",
    "mean_age_2016 = round(sweden_athletes_2016[\"Age\"].mean(), 1)\n",
    "\n",
    "# Plotting a histogram of ages of athletes from SWE in 2016 olympics around the mean age\n",
    "fig = px.histogram(sweden_athletes_2016, x=\"Age\", nbins = 40, title=\"Age distribution of athletes from SWE in 2016 olympics\")\n",
    "\n",
    "# Setting the mean age in the middle of the x-axis\n",
    "fig.update_xaxes(range=[mean_age_2016-20, mean_age_2016+20])\n",
    "\n",
    "# Mark the mean age in the x-axis\n",
    "fig.add_vline(x=mean_age_2016, line_width=3, line_dash=\"dash\", line_color=\"green\")\n",
    "\n",
    "# Making spaces between bars\n",
    "fig.update_layout(bargap=0.01)\n",
    "\n",
    "fig.show()"
   ]
  },
  {
   "cell_type": "code",
   "execution_count": null,
   "metadata": {},
   "outputs": [],
   "source": [
    "# Plotting a histogram over ages of athletes from SWE in all olympic games\n",
    "\n",
    "mean_age_all = round(sweden_athletes[\"Age\"].mean(), 1)\n",
    "\n",
    "# Plotting a histogram of ages of athletes from SWE in all olympic games around the mean age\n",
    "fig = px.histogram(sweden_athletes, x=\"Age\", title=\"Age distribution of athletes from SWE in all olympic games\")\n",
    "\n",
    "# Setting the mean age in the middle of the x-axis\n",
    "fig.update_xaxes(range=[mean_age_all-20, mean_age_all+20])\n",
    "\n",
    "# Mark the mean age in the x-axis\n",
    "fig.add_vline(x=mean_age_all, line_width=3, line_dash=\"dash\", line_color=\"green\")\n",
    "\n",
    "# Making spaces between bars\n",
    "fig.update_layout(bargap=0.01)\n",
    "\n",
    "fig.show()"
   ]
  },
  {
   "cell_type": "markdown",
   "metadata": {},
   "source": [
    "#### **e)** Skapa fler plots för att visualisera flera aspekter kring ert land och dess sportprestationer i OS."
   ]
  },
  {
   "cell_type": "code",
   "execution_count": null,
   "metadata": {},
   "outputs": [],
   "source": [
    "# Amount of athletes and ratio between M and F athletes in each olympic game\n",
    "\n",
    "medals_count_sex = sweden_athletes.groupby([\"Year\", \"Sex\"], as_index=False)[\"ID\"].nunique()\n",
    "\n",
    "grouped_medals_count_sex = medals_count_sex.groupby([\"Year\", \"Sex\"], as_index=False).agg(\"sum\")\n",
    "\n",
    "#Plot amount of M and F athletes in each olympic game in a bar chart\n",
    "fig = px.bar(grouped_medals_count_sex, x = \"Year\", y =\"ID\", color = \"Sex\", barmode = \"group\")\n",
    "# Change title of y-axis\n",
    "fig.update_yaxes(title_text=\"Count of athletes\")\n",
    "# Have all x-values visible in the fig plot\n",
    "fig.update_xaxes(tick0=1896, dtick=2)\n",
    "\n",
    "# Make the bars wider\n",
    "fig.update_traces(width=0.8)\n",
    "fig.update_layout(bargap=0.01)\n",
    "\n",
    "fig.show()"
   ]
  },
  {
   "cell_type": "code",
   "execution_count": 42,
   "metadata": {},
   "outputs": [
    {
     "data": {
      "application/vnd.plotly.v1+json": {
       "config": {
        "plotlyServerURL": "https://plot.ly"
       },
       "data": [
        {
         "alignmentgroup": "True",
         "customdata": [
          [
           22,
           "Finland",
           "Swimming",
           "Swimming Men's 200 metres Breaststroke"
          ],
          [
           22,
           "Finland",
           "Swimming",
           "Swimming Men's 400 metres Breaststroke"
          ],
          [
           16,
           "Sweden",
           "Swimming",
           "Swimming Men's 100 metres Freestyle"
          ],
          [
           22,
           "Sweden",
           "Swimming",
           "Swimming Men's 200 metres Breaststroke"
          ],
          [
           22,
           "Sweden",
           "Swimming",
           "Swimming Men's 400 metres Breaststroke"
          ],
          [
           25,
           "Sweden",
           "Swimming",
           "Swimming Men's 100 metres Freestyle"
          ],
          [
           21,
           "Sweden",
           "Swimming",
           "Swimming Men's 1,500 metres Freestyle"
          ],
          [
           23,
           "Greece",
           "Swimming",
           "Swimming Men's 100 metres Freestyle"
          ],
          [
           19,
           "Great Britain",
           "Swimming",
           "Swimming Men's 200 metres Breaststroke"
          ],
          [
           null,
           "Russia",
           "Swimming",
           "Swimming Men's 400 metres Freestyle"
          ],
          [
           null,
           "Russia",
           "Swimming",
           "Swimming Men's 1,500 metres Freestyle"
          ],
          [
           24,
           "Italy",
           "Swimming",
           "Swimming Men's 100 metres Freestyle"
          ],
          [
           24,
           "Italy",
           "Swimming",
           "Swimming Men's 400 metres Freestyle"
          ],
          [
           19,
           "Hungary",
           "Swimming",
           "Swimming Men's 100 metres Backstroke"
          ],
          [
           19,
           "Germany",
           "Swimming",
           "Swimming Men's 200 metres Breaststroke"
          ],
          [
           19,
           "Germany",
           "Swimming",
           "Swimming Men's 400 metres Breaststroke"
          ],
          [
           24,
           "Great Britain",
           "Swimming",
           "Swimming Men's 400 metres Freestyle"
          ],
          [
           24,
           "Great Britain",
           "Swimming",
           "Swimming Men's 1,500 metres Freestyle"
          ],
          [
           24,
           "Great Britain",
           "Swimming",
           "Swimming Men's 4 x 200 metres Freestyle Relay"
          ],
          [
           17,
           "Russia",
           "Swimming",
           "Swimming Men's 200 metres Breaststroke"
          ],
          [
           17,
           "Russia",
           "Swimming",
           "Swimming Men's 400 metres Breaststroke"
          ],
          [
           19,
           "Hungary",
           "Swimming",
           "Swimming Men's 100 metres Freestyle"
          ],
          [
           19,
           "Hungary",
           "Swimming",
           "Swimming Men's 4 x 200 metres Freestyle Relay"
          ],
          [
           15,
           "Sweden",
           "Swimming",
           "Swimming Men's 100 metres Backstroke"
          ],
          [
           20,
           "Sweden",
           "Swimming",
           "Swimming Men's 100 metres Freestyle"
          ],
          [
           21,
           "Germany",
           "Swimming",
           "Swimming Men's 100 metres Freestyle"
          ],
          [
           22,
           "Australasia",
           "Swimming",
           "Swimming Men's 100 metres Freestyle"
          ],
          [
           22,
           "Australasia",
           "Swimming",
           "Swimming Men's 4 x 200 metres Freestyle Relay"
          ],
          [
           19,
           "Germany",
           "Swimming",
           "Swimming Men's 100 metres Freestyle"
          ],
          [
           19,
           "Germany",
           "Swimming",
           "Swimming Men's 4 x 200 metres Freestyle Relay"
          ],
          [
           24,
           "France",
           "Swimming",
           "Swimming Men's 1,500 metres Freestyle"
          ],
          [
           28,
           "Finland",
           "Swimming",
           "Swimming Men's 200 metres Breaststroke"
          ],
          [
           28,
           "Australasia",
           "Swimming",
           "Swimming Men's 400 metres Freestyle"
          ],
          [
           28,
           "Australasia",
           "Swimming",
           "Swimming Men's 1,500 metres Freestyle"
          ],
          [
           28,
           "Australasia",
           "Swimming",
           "Swimming Men's 4 x 200 metres Freestyle Relay"
          ],
          [
           21,
           "Sweden",
           "Swimming",
           "Swimming Men's 1,500 metres Freestyle"
          ],
          [
           24,
           "Belgium",
           "Swimming",
           "Swimming Men's 200 metres Breaststroke"
          ],
          [
           24,
           "Belgium",
           "Swimming",
           "Swimming Men's 400 metres Breaststroke"
          ],
          [
           23,
           "Great Britain",
           "Swimming",
           "Swimming Men's 200 metres Breaststroke"
          ],
          [
           23,
           "Great Britain",
           "Swimming",
           "Swimming Men's 400 metres Breaststroke"
          ],
          [
           20,
           "Hungary",
           "Swimming",
           "Swimming Men's 200 metres Breaststroke"
          ],
          [
           20,
           "Hungary",
           "Swimming",
           "Swimming Men's 400 metres Breaststroke"
          ],
          [
           33,
           "Great Britain",
           "Swimming",
           "Swimming Men's 100 metres Freestyle"
          ],
          [
           19,
           "Germany",
           "Swimming",
           "Swimming Men's 100 metres Backstroke"
          ],
          [
           21,
           "Great Britain",
           "Swimming",
           "Swimming Men's 400 metres Freestyle"
          ],
          [
           21,
           "Great Britain",
           "Swimming",
           "Swimming Men's 1,500 metres Freestyle"
          ],
          [
           21,
           "Great Britain",
           "Swimming",
           "Swimming Men's 4 x 200 metres Freestyle Relay"
          ],
          [
           23,
           "South Africa",
           "Swimming",
           "Swimming Men's 400 metres Freestyle"
          ],
          [
           35,
           "Belgium",
           "Swimming",
           "Swimming Men's 100 metres Backstroke"
          ],
          [
           22,
           "Germany",
           "Swimming",
           "Swimming Men's 100 metres Backstroke"
          ],
          [
           18,
           "Sweden",
           "Swimming",
           "Swimming Men's 400 metres Freestyle"
          ],
          [
           20,
           "Sweden",
           "Swimming",
           "Swimming Men's 200 metres Breaststroke"
          ],
          [
           27,
           "Sweden",
           "Swimming",
           "Swimming Men's 200 metres Breaststroke"
          ],
          [
           20,
           "Sweden",
           "Swimming",
           "Swimming Men's 200 metres Breaststroke"
          ],
          [
           23,
           "Australasia",
           "Swimming",
           "Swimming Men's 100 metres Freestyle"
          ],
          [
           23,
           "Australasia",
           "Swimming",
           "Swimming Men's 400 metres Freestyle"
          ],
          [
           23,
           "Australasia",
           "Swimming",
           "Swimming Men's 1,500 metres Freestyle"
          ],
          [
           23,
           "Australasia",
           "Swimming",
           "Swimming Men's 4 x 200 metres Freestyle Relay"
          ],
          [
           31,
           "Great Britain",
           "Swimming",
           "Swimming Men's 100 metres Backstroke"
          ],
          [
           18,
           "Great Britain",
           "Swimming",
           "Swimming Men's 400 metres Freestyle"
          ],
          [
           18,
           "Great Britain",
           "Swimming",
           "Swimming Men's 1,500 metres Freestyle"
          ],
          [
           18,
           "Great Britain",
           "Swimming",
           "Swimming Men's 4 x 200 metres Freestyle Relay"
          ],
          [
           30,
           "Australasia",
           "Swimming",
           "Swimming Men's 100 metres Freestyle"
          ],
          [
           30,
           "Australasia",
           "Swimming",
           "Swimming Men's 400 metres Freestyle"
          ],
          [
           30,
           "Australasia",
           "Swimming",
           "Swimming Men's 4 x 200 metres Freestyle Relay"
          ],
          [
           20,
           "United States",
           "Swimming",
           "Swimming Men's 100 metres Freestyle"
          ],
          [
           20,
           "United States",
           "Swimming",
           "Swimming Men's 4 x 200 metres Freestyle Relay"
          ],
          [
           20,
           "United States",
           "Swimming",
           "Swimming Men's 100 metres Backstroke"
          ],
          [
           17,
           "Denmark",
           "Swimming",
           "Swimming Men's 400 metres Freestyle"
          ],
          [
           17,
           "Denmark",
           "Swimming",
           "Swimming Men's 1,500 metres Freestyle"
          ],
          [
           17,
           "Sweden",
           "Swimming",
           "Swimming Men's 200 metres Breaststroke"
          ],
          [
           17,
           "Sweden",
           "Swimming",
           "Swimming Men's 400 metres Breaststroke"
          ],
          [
           18,
           "Canada",
           "Swimming",
           "Swimming Men's 400 metres Freestyle"
          ],
          [
           18,
           "Canada",
           "Swimming",
           "Swimming Men's 1,500 metres Freestyle"
          ],
          [
           20,
           "United States",
           "Swimming",
           "Swimming Men's 100 metres Freestyle"
          ],
          [
           20,
           "United States",
           "Swimming",
           "Swimming Men's 4 x 200 metres Freestyle Relay"
          ],
          [
           26,
           "Great Britain",
           "Swimming",
           "Swimming Men's 200 metres Breaststroke"
          ],
          [
           26,
           "Great Britain",
           "Swimming",
           "Swimming Men's 400 metres Breaststroke"
          ],
          [
           20,
           "Norway",
           "Swimming",
           "Swimming Men's 100 metres Freestyle"
          ],
          [
           20,
           "Norway",
           "Swimming",
           "Swimming Men's 400 metres Freestyle"
          ],
          [
           20,
           "Norway",
           "Swimming",
           "Swimming Men's 1,500 metres Freestyle"
          ],
          [
           20,
           "Norway",
           "Swimming",
           "Swimming Men's 100 metres Backstroke"
          ],
          [
           22,
           "Sweden",
           "Swimming",
           "Swimming Men's 100 metres Freestyle"
          ],
          [
           22,
           "Sweden",
           "Swimming",
           "Swimming Men's 200 metres Breaststroke"
          ],
          [
           21,
           "United States",
           "Swimming",
           "Swimming Men's 100 metres Freestyle"
          ],
          [
           21,
           "United States",
           "Swimming",
           "Swimming Men's 4 x 200 metres Freestyle Relay"
          ],
          [
           21,
           "Germany",
           "Swimming",
           "Swimming Men's 100 metres Backstroke"
          ],
          [
           19,
           "Hungary",
           "Swimming",
           "Swimming Men's 100 metres Freestyle"
          ],
          [
           19,
           "Hungary",
           "Swimming",
           "Swimming Men's 400 metres Freestyle"
          ],
          [
           19,
           "Hungary",
           "Swimming",
           "Swimming Men's 4 x 200 metres Freestyle Relay"
          ],
          [
           19,
           "Germany",
           "Swimming",
           "Swimming Men's 100 metres Freestyle"
          ],
          [
           19,
           "Germany",
           "Swimming",
           "Swimming Men's 4 x 200 metres Freestyle Relay"
          ],
          [
           16,
           "Finland",
           "Swimming",
           "Swimming Men's 200 metres Breaststroke"
          ],
          [
           16,
           "Finland",
           "Swimming",
           "Swimming Men's 400 metres Breaststroke"
          ],
          [
           25,
           "Finland",
           "Swimming",
           "Swimming Men's 200 metres Breaststroke"
          ],
          [
           25,
           "Finland",
           "Swimming",
           "Swimming Men's 400 metres Breaststroke"
          ],
          [
           19,
           "Australasia",
           "Swimming",
           "Swimming Men's 100 metres Freestyle"
          ],
          [
           19,
           "Australasia",
           "Swimming",
           "Swimming Men's 1,500 metres Freestyle"
          ],
          [
           16,
           "Sweden",
           "Swimming",
           "Swimming Men's 200 metres Breaststroke"
          ],
          [
           19,
           "Sweden",
           "Swimming",
           "Swimming Men's 100 metres Backstroke"
          ],
          [
           19,
           "Germany",
           "Swimming",
           "Swimming Men's 200 metres Breaststroke"
          ],
          [
           19,
           "Germany",
           "Swimming",
           "Swimming Men's 400 metres Breaststroke"
          ],
          [
           30,
           "Germany",
           "Swimming",
           "Swimming Men's 200 metres Breaststroke"
          ],
          [
           30,
           "Germany",
           "Swimming",
           "Swimming Men's 400 metres Breaststroke"
          ],
          [
           19,
           "Italy",
           "Swimming",
           "Swimming Men's 100 metres Freestyle"
          ],
          [
           19,
           "Italy",
           "Swimming",
           "Swimming Men's 400 metres Freestyle"
          ],
          [
           19,
           "Italy",
           "Swimming",
           "Swimming Men's 1,500 metres Freestyle"
          ],
          [
           19,
           "United States",
           "Swimming",
           "Swimming Men's 200 metres Breaststroke"
          ],
          [
           19,
           "United States",
           "Swimming",
           "Swimming Men's 400 metres Breaststroke"
          ],
          [
           18,
           "United States",
           "Swimming",
           "Swimming Men's 100 metres Freestyle"
          ],
          [
           18,
           "United States",
           "Swimming",
           "Swimming Men's 4 x 200 metres Freestyle Relay"
          ],
          [
           22,
           "France",
           "Swimming",
           "Swimming Men's 100 metres Freestyle"
          ],
          [
           22,
           "Belgium",
           "Swimming",
           "Swimming Men's 100 metres Freestyle"
          ],
          [
           18,
           "United States",
           "Swimming",
           "Swimming Men's 100 metres Freestyle"
          ],
          [
           18,
           "United States",
           "Swimming",
           "Swimming Men's 400 metres Freestyle"
          ],
          [
           26,
           "Great Britain",
           "Swimming",
           "Swimming Men's 100 metres Freestyle"
          ],
          [
           17,
           "Germany",
           "Swimming",
           "Swimming Men's 100 metres Freestyle"
          ],
          [
           22,
           "United States",
           "Swimming",
           "Swimming Men's 100 metres Freestyle"
          ],
          [
           22,
           "United States",
           "Swimming",
           "Swimming Men's 400 metres Freestyle"
          ],
          [
           22,
           "France",
           "Swimming",
           "Swimming Men's 100 metres Freestyle"
          ],
          [
           25,
           "Germany",
           "Swimming",
           "Swimming Men's 100 metres Freestyle"
          ],
          [
           25,
           "Germany",
           "Swimming",
           "Swimming Men's 400 metres Freestyle"
          ],
          [
           25,
           "Germany",
           "Swimming",
           "Swimming Men's 4 x 200 metres Freestyle Relay"
          ],
          [
           17,
           "Norway",
           "Swimming",
           "Swimming Men's 200 metres Breaststroke"
          ],
          [
           21,
           "Great Britain",
           "Swimming",
           "Swimming Men's 100 metres Backstroke"
          ],
          [
           23,
           "Germany",
           "Swimming",
           "Swimming Men's 400 metres Freestyle"
          ],
          [
           23,
           "Germany",
           "Swimming",
           "Swimming Men's 4 x 200 metres Freestyle Relay"
          ],
          [
           23,
           "Germany",
           "Swimming",
           "Swimming Men's 100 metres Backstroke"
          ],
          [
           23,
           "Australasia",
           "Swimming",
           "Swimming Men's 200 metres Breaststroke"
          ],
          [
           23,
           "Australasia",
           "Swimming",
           "Swimming Men's 400 metres Breaststroke"
          ],
          [
           21,
           "Austria",
           "Swimming",
           "Swimming Men's 400 metres Freestyle"
          ],
          [
           21,
           "Austria",
           "Swimming",
           "Swimming Men's 1,500 metres Freestyle"
          ],
          [
           21,
           "Germany",
           "Swimming",
           "Swimming Men's 100 metres Backstroke"
          ],
          [
           19,
           "Sweden",
           "Swimming",
           "Swimming Men's 100 metres Backstroke"
          ],
          [
           17,
           "Norway",
           "Swimming",
           "Swimming Men's 100 metres Backstroke"
          ],
          [
           20,
           "Hungary",
           "Swimming",
           "Swimming Men's 100 metres Freestyle"
          ],
          [
           20,
           "Hungary",
           "Swimming",
           "Swimming Men's 100 metres Backstroke"
          ],
          [
           31,
           "Australasia",
           "Swimming",
           "Swimming Men's 100 metres Freestyle"
          ],
          [
           31,
           "Australasia",
           "Swimming",
           "Swimming Men's 400 metres Freestyle"
          ],
          [
           27,
           "Great Britain",
           "Swimming",
           "Swimming Men's 400 metres Freestyle"
          ],
          [
           27,
           "Great Britain",
           "Swimming",
           "Swimming Men's 1,500 metres Freestyle"
          ],
          [
           27,
           "Great Britain",
           "Swimming",
           "Swimming Men's 4 x 200 metres Freestyle Relay"
          ],
          [
           20,
           "Sweden",
           "Swimming",
           "Swimming Men's 400 metres Freestyle"
          ],
          [
           18,
           "Russia",
           "Swimming",
           "Swimming Men's 100 metres Freestyle"
          ],
          [
           22,
           "Hungary",
           "Swimming",
           "Swimming Men's 400 metres Freestyle"
          ],
          [
           22,
           "Hungary",
           "Swimming",
           "Swimming Men's 1,500 metres Freestyle"
          ],
          [
           22,
           "Hungary",
           "Swimming",
           "Swimming Men's 4 x 200 metres Freestyle Relay"
          ],
          [
           36,
           "Austria",
           "Swimming",
           "Swimming Men's 400 metres Breaststroke"
          ],
          [
           null,
           "Russia",
           "Swimming",
           "Swimming Men's 400 metres Freestyle"
          ],
          [
           19,
           "Austria",
           "Swimming",
           "Swimming Men's 200 metres Breaststroke"
          ],
          [
           19,
           "Austria",
           "Swimming",
           "Swimming Men's 400 metres Breaststroke"
          ],
          [
           26,
           "Great Britain",
           "Swimming",
           "Swimming Men's 100 metres Backstroke"
          ],
          [
           21,
           "Sweden",
           "Swimming",
           "Swimming Men's 400 metres Freestyle"
          ],
          [
           21,
           "Sweden",
           "Swimming",
           "Swimming Men's 1,500 metres Freestyle"
          ],
          [
           18,
           "Hungary",
           "Swimming",
           "Swimming Men's 100 metres Backstroke"
          ],
          [
           21,
           "Norway",
           "Swimming",
           "Swimming Men's 1,500 metres Freestyle"
          ],
          [
           26,
           "Belgium",
           "Swimming",
           "Swimming Men's 100 metres Freestyle"
          ],
          [
           21,
           "Hungary",
           "Swimming",
           "Swimming Men's 4 x 200 metres Freestyle Relay"
          ]
         ],
         "hovertemplate": "<b>%{hovertext}</b><br><br>Sport=%{customdata[2]}<br>Sex=M<br>Country=%{x}<br>Medal=%{y}<br>Age=%{customdata[0]}<br>Team=%{customdata[1]}<br>Event=%{customdata[3]}<extra></extra>",
         "hovertext": [
          1912,
          1912,
          1912,
          1912,
          1912,
          1912,
          1912,
          1912,
          1912,
          1912,
          1912,
          1912,
          1912,
          1912,
          1912,
          1912,
          1912,
          1912,
          1912,
          1912,
          1912,
          1912,
          1912,
          1912,
          1912,
          1912,
          1912,
          1912,
          1912,
          1912,
          1912,
          1912,
          1912,
          1912,
          1912,
          1912,
          1912,
          1912,
          1912,
          1912,
          1912,
          1912,
          1912,
          1912,
          1912,
          1912,
          1912,
          1912,
          1912,
          1912,
          1912,
          1912,
          1912,
          1912,
          1912,
          1912,
          1912,
          1912,
          1912,
          1912,
          1912,
          1912,
          1912,
          1912,
          1912,
          1912,
          1912,
          1912,
          1912,
          1912,
          1912,
          1912,
          1912,
          1912,
          1912,
          1912,
          1912,
          1912,
          1912,
          1912,
          1912,
          1912,
          1912,
          1912,
          1912,
          1912,
          1912,
          1912,
          1912,
          1912,
          1912,
          1912,
          1912,
          1912,
          1912,
          1912,
          1912,
          1912,
          1912,
          1912,
          1912,
          1912,
          1912,
          1912,
          1912,
          1912,
          1912,
          1912,
          1912,
          1912,
          1912,
          1912,
          1912,
          1912,
          1912,
          1912,
          1912,
          1912,
          1912,
          1912,
          1912,
          1912,
          1912,
          1912,
          1912,
          1912,
          1912,
          1912,
          1912,
          1912,
          1912,
          1912,
          1912,
          1912,
          1912,
          1912,
          1912,
          1912,
          1912,
          1912,
          1912,
          1912,
          1912,
          1912,
          1912,
          1912,
          1912,
          1912,
          1912,
          1912,
          1912,
          1912,
          1912,
          1912,
          1912,
          1912,
          1912,
          1912
         ],
         "legendgroup": "Swimming",
         "marker": {
          "color": "#636efa",
          "pattern": {
           "shape": ""
          }
         },
         "name": "Swimming",
         "offsetgroup": "Swimming",
         "orientation": "v",
         "showlegend": true,
         "textposition": "auto",
         "type": "bar",
         "x": [
          "FIN",
          "FIN",
          "SWE",
          "SWE",
          "SWE",
          "SWE",
          "SWE",
          "GRE",
          "GBR",
          "RUS",
          "RUS",
          "ITA",
          "ITA",
          "HUN",
          "GER",
          "GER",
          "GBR",
          "GBR",
          "GBR",
          "RUS",
          "RUS",
          "HUN",
          "HUN",
          "SWE",
          "SWE",
          "GER",
          "ANZ",
          "ANZ",
          "GER",
          "GER",
          "FRA",
          "FIN",
          "ANZ",
          "ANZ",
          "ANZ",
          "SWE",
          "BEL",
          "BEL",
          "GBR",
          "GBR",
          "HUN",
          "HUN",
          "GBR",
          "GER",
          "GBR",
          "GBR",
          "GBR",
          "RSA",
          "BEL",
          "GER",
          "SWE",
          "SWE",
          "SWE",
          "SWE",
          "ANZ",
          "ANZ",
          "ANZ",
          "ANZ",
          "GBR",
          "GBR",
          "GBR",
          "GBR",
          "ANZ",
          "ANZ",
          "ANZ",
          "USA",
          "USA",
          "USA",
          "DEN",
          "DEN",
          "SWE",
          "SWE",
          "CAN",
          "CAN",
          "USA",
          "USA",
          "GBR",
          "GBR",
          "NOR",
          "NOR",
          "NOR",
          "NOR",
          "SWE",
          "SWE",
          "USA",
          "USA",
          "GER",
          "HUN",
          "HUN",
          "HUN",
          "GER",
          "GER",
          "FIN",
          "FIN",
          "FIN",
          "FIN",
          "ANZ",
          "ANZ",
          "SWE",
          "SWE",
          "GER",
          "GER",
          "GER",
          "GER",
          "ITA",
          "ITA",
          "ITA",
          "USA",
          "USA",
          "USA",
          "USA",
          "FRA",
          "BEL",
          "USA",
          "USA",
          "GBR",
          "GER",
          "USA",
          "USA",
          "FRA",
          "GER",
          "GER",
          "GER",
          "NOR",
          "GBR",
          "GER",
          "GER",
          "GER",
          "ANZ",
          "ANZ",
          "AUT",
          "AUT",
          "GER",
          "SWE",
          "NOR",
          "HUN",
          "HUN",
          "ANZ",
          "ANZ",
          "GBR",
          "GBR",
          "GBR",
          "SWE",
          "RUS",
          "HUN",
          "HUN",
          "HUN",
          "AUT",
          "RUS",
          "AUT",
          "AUT",
          "GBR",
          "SWE",
          "SWE",
          "HUN",
          "NOR",
          "BEL",
          "HUN"
         ],
         "xaxis": "x",
         "y": [
          null,
          null,
          null,
          null,
          null,
          null,
          null,
          null,
          null,
          null,
          null,
          null,
          null,
          null,
          "Gold",
          "Gold",
          null,
          null,
          "Bronze",
          null,
          null,
          null,
          null,
          null,
          null,
          null,
          null,
          "Gold",
          null,
          null,
          null,
          null,
          null,
          null,
          "Gold",
          null,
          null,
          null,
          null,
          "Bronze",
          null,
          null,
          null,
          "Silver",
          null,
          null,
          "Bronze",
          null,
          null,
          null,
          null,
          null,
          null,
          null,
          null,
          "Bronze",
          "Bronze",
          "Gold",
          null,
          "Silver",
          "Silver",
          "Bronze",
          "Silver",
          null,
          "Gold",
          null,
          "Silver",
          "Gold",
          null,
          null,
          null,
          "Silver",
          "Gold",
          "Gold",
          "Bronze",
          "Silver",
          null,
          null,
          null,
          null,
          null,
          null,
          null,
          null,
          "Gold",
          "Silver",
          "Bronze",
          null,
          null,
          null,
          null,
          null,
          null,
          null,
          null,
          null,
          null,
          null,
          null,
          null,
          "Silver",
          null,
          "Bronze",
          null,
          null,
          null,
          null,
          null,
          null,
          null,
          "Silver",
          null,
          null,
          null,
          null,
          null,
          null,
          null,
          null,
          null,
          null,
          null,
          null,
          null,
          null,
          null,
          null,
          null,
          null,
          null,
          null,
          null,
          null,
          null,
          null,
          null,
          null,
          null,
          null,
          null,
          null,
          "Bronze",
          null,
          null,
          null,
          null,
          null,
          null,
          null,
          null,
          null,
          null,
          null,
          null,
          null,
          null,
          null,
          null
         ],
         "yaxis": "y"
        },
        {
         "alignmentgroup": "True",
         "customdata": [
          [
           16,
           "Austria",
           "Swimming",
           "Swimming Women's 100 metres Freestyle"
          ],
          [
           16,
           "Austria",
           "Swimming",
           "Swimming Women's 4 x 100 metres Freestyle Relay"
          ],
          [
           17,
           "Sweden",
           "Swimming",
           "Swimming Women's 100 metres Freestyle"
          ],
          [
           13,
           "Sweden",
           "Swimming",
           "Swimming Women's 100 metres Freestyle"
          ],
          [
           13,
           "Sweden",
           "Swimming",
           "Swimming Women's 4 x 100 metres Freestyle Relay"
          ],
          [
           22,
           "Great Britain",
           "Swimming",
           "Swimming Women's 100 metres Freestyle"
          ],
          [
           18,
           "Germany",
           "Swimming",
           "Swimming Women's 100 metres Freestyle"
          ],
          [
           18,
           "Germany",
           "Swimming",
           "Swimming Women's 4 x 100 metres Freestyle Relay"
          ],
          [
           22,
           "Australasia",
           "Swimming",
           "Swimming Women's 100 metres Freestyle"
          ],
          [
           22,
           "Great Britain",
           "Swimming",
           "Swimming Women's 100 metres Freestyle"
          ],
          [
           22,
           "Great Britain",
           "Swimming",
           "Swimming Women's 4 x 100 metres Freestyle Relay"
          ],
          [
           24,
           "Belgium",
           "Swimming",
           "Swimming Women's 100 metres Freestyle"
          ],
          [
           21,
           "Finland",
           "Swimming",
           "Swimming Women's 100 metres Freestyle"
          ],
          [
           17,
           "Sweden",
           "Swimming",
           "Swimming Women's 100 metres Freestyle"
          ],
          [
           17,
           "Sweden",
           "Swimming",
           "Swimming Women's 4 x 100 metres Freestyle Relay"
          ],
          [
           16,
           "Sweden",
           "Swimming",
           "Swimming Women's 100 metres Freestyle"
          ],
          [
           16,
           "Sweden",
           "Swimming",
           "Swimming Women's 4 x 100 metres Freestyle Relay"
          ],
          [
           19,
           "Finland",
           "Swimming",
           "Swimming Women's 100 metres Freestyle"
          ],
          [
           21,
           "Austria",
           "Swimming",
           "Swimming Women's 100 metres Freestyle"
          ],
          [
           17,
           "Great Britain",
           "Swimming",
           "Swimming Women's 100 metres Freestyle"
          ],
          [
           17,
           "Sweden",
           "Swimming",
           "Swimming Women's 100 metres Freestyle"
          ],
          [
           20,
           "Austria",
           "Swimming",
           "Swimming Women's 100 metres Freestyle"
          ],
          [
           20,
           "Austria",
           "Swimming",
           "Swimming Women's 4 x 100 metres Freestyle Relay"
          ],
          [
           17,
           "Great Britain",
           "Swimming",
           "Swimming Women's 100 metres Freestyle"
          ],
          [
           17,
           "Great Britain",
           "Swimming",
           "Swimming Women's 4 x 100 metres Freestyle Relay"
          ],
          [
           19,
           "Norway",
           "Swimming",
           "Swimming Women's 100 metres Freestyle"
          ],
          [
           15,
           "Germany",
           "Swimming",
           "Swimming Women's 100 metres Freestyle"
          ],
          [
           15,
           "Germany",
           "Swimming",
           "Swimming Women's 4 x 100 metres Freestyle Relay"
          ],
          [
           15,
           "Germany",
           "Swimming",
           "Swimming Women's 100 metres Freestyle"
          ],
          [
           15,
           "Germany",
           "Swimming",
           "Swimming Women's 4 x 100 metres Freestyle Relay"
          ],
          [
           22,
           "Great Britain",
           "Swimming",
           "Swimming Women's 100 metres Freestyle"
          ],
          [
           22,
           "Great Britain",
           "Swimming",
           "Swimming Women's 4 x 100 metres Freestyle Relay"
          ],
          [
           22,
           "Great Britain",
           "Swimming",
           "Swimming Women's 100 metres Freestyle"
          ],
          [
           22,
           "Great Britain",
           "Swimming",
           "Swimming Women's 4 x 100 metres Freestyle Relay"
          ],
          [
           17,
           "Austria",
           "Swimming",
           "Swimming Women's 100 metres Freestyle"
          ],
          [
           17,
           "Austria",
           "Swimming",
           "Swimming Women's 4 x 100 metres Freestyle Relay"
          ],
          [
           24,
           "Germany",
           "Swimming",
           "Swimming Women's 100 metres Freestyle"
          ],
          [
           24,
           "Germany",
           "Swimming",
           "Swimming Women's 4 x 100 metres Freestyle Relay"
          ],
          [
           18,
           "Sweden",
           "Swimming",
           "Swimming Women's 100 metres Freestyle"
          ],
          [
           18,
           "Sweden",
           "Swimming",
           "Swimming Women's 4 x 100 metres Freestyle Relay"
          ],
          [
           20,
           "Australasia",
           "Swimming",
           "Swimming Women's 100 metres Freestyle"
          ],
          [
           16,
           "Austria",
           "Swimming",
           "Swimming Women's 100 metres Freestyle"
          ],
          [
           16,
           "Austria",
           "Swimming",
           "Swimming Women's 4 x 100 metres Freestyle Relay"
          ]
         ],
         "hovertemplate": "<b>%{hovertext}</b><br><br>Sport=%{customdata[2]}<br>Sex=F<br>Country=%{x}<br>Medal=%{y}<br>Age=%{customdata[0]}<br>Team=%{customdata[1]}<br>Event=%{customdata[3]}<extra></extra>",
         "hovertext": [
          1912,
          1912,
          1912,
          1912,
          1912,
          1912,
          1912,
          1912,
          1912,
          1912,
          1912,
          1912,
          1912,
          1912,
          1912,
          1912,
          1912,
          1912,
          1912,
          1912,
          1912,
          1912,
          1912,
          1912,
          1912,
          1912,
          1912,
          1912,
          1912,
          1912,
          1912,
          1912,
          1912,
          1912,
          1912,
          1912,
          1912,
          1912,
          1912,
          1912,
          1912,
          1912,
          1912
         ],
         "legendgroup": "Swimming",
         "marker": {
          "color": "#636efa",
          "pattern": {
           "shape": ""
          }
         },
         "name": "Swimming",
         "offsetgroup": "Swimming",
         "orientation": "v",
         "showlegend": false,
         "textposition": "auto",
         "type": "bar",
         "x": [
          "AUT",
          "AUT",
          "SWE",
          "SWE",
          "SWE",
          "GBR",
          "GER",
          "GER",
          "ANZ",
          "GBR",
          "GBR",
          "BEL",
          "FIN",
          "SWE",
          "SWE",
          "SWE",
          "SWE",
          "FIN",
          "AUT",
          "GBR",
          "SWE",
          "AUT",
          "AUT",
          "GBR",
          "GBR",
          "NOR",
          "GER",
          "GER",
          "GER",
          "GER",
          "GBR",
          "GBR",
          "GBR",
          "GBR",
          "AUT",
          "AUT",
          "GER",
          "GER",
          "SWE",
          "SWE",
          "ANZ",
          "AUT",
          "AUT"
         ],
         "xaxis": "x2",
         "y": [
          null,
          "Bronze",
          null,
          null,
          null,
          null,
          null,
          "Silver",
          "Gold",
          "Bronze",
          "Gold",
          null,
          null,
          null,
          null,
          null,
          null,
          null,
          null,
          null,
          null,
          null,
          "Bronze",
          null,
          "Gold",
          null,
          null,
          "Silver",
          null,
          "Silver",
          null,
          "Gold",
          null,
          "Gold",
          null,
          "Bronze",
          null,
          "Silver",
          null,
          null,
          "Silver",
          null,
          "Bronze"
         ],
         "yaxis": "y2"
        },
        {
         "alignmentgroup": "True",
         "customdata": [
          [
           23,
           "Norway",
           "Athletics",
           "Athletics Men's High Jump"
          ],
          [
           26,
           "Sweden",
           "Athletics",
           "Athletics Men's Hammer Throw"
          ],
          [
           19,
           "Sweden",
           "Athletics",
           "Athletics Men's Long Jump"
          ],
          [
           19,
           "Sweden",
           "Athletics",
           "Athletics Men's Triple Jump"
          ],
          [
           25,
           "Germany",
           "Athletics",
           "Athletics Men's Decathlon"
          ],
          [
           27,
           "Great Britain",
           "Athletics",
           "Athletics Men's Long Jump"
          ],
          [
           23,
           "Sweden",
           "Athletics",
           "Athletics Men's Javelin Throw"
          ],
          [
           23,
           "Sweden",
           "Athletics",
           "Athletics Men's Javelin Throw, Both Hands"
          ],
          [
           22,
           "United States",
           "Athletics",
           "Athletics Men's Standing High Jump"
          ],
          [
           22,
           "United States",
           "Athletics",
           "Athletics Men's Standing Long Jump"
          ],
          [
           27,
           "United States",
           "Athletics",
           "Athletics Men's High Jump"
          ],
          [
           27,
           "United States",
           "Athletics",
           "Athletics Men's Standing High Jump"
          ],
          [
           27,
           "United States",
           "Athletics",
           "Athletics Men's Standing Long Jump"
          ],
          [
           27,
           "United States",
           "Athletics",
           "Athletics Men's Triple Jump"
          ],
          [
           22,
           "Belgium",
           "Athletics",
           "Athletics Men's 100 metres"
          ],
          [
           22,
           "Belgium",
           "Athletics",
           "Athletics Men's 200 metres"
          ],
          [
           20,
           "Sweden",
           "Athletics",
           "Athletics Men's High Jump"
          ],
          [
           24,
           "Sweden",
           "Athletics",
           "Athletics Men's Marathon"
          ],
          [
           20,
           "Finland",
           "Athletics",
           "Athletics Men's Shot Put"
          ],
          [
           20,
           "Finland",
           "Athletics",
           "Athletics Men's Shot Put, Both Hands"
          ],
          [
           24,
           "Russia",
           "Athletics",
           "Athletics Men's 10 kilometres Walk"
          ],
          [
           21,
           "United States",
           "Athletics",
           "Athletics Men's Long Jump"
          ],
          [
           20,
           "Sweden",
           "Athletics",
           "Athletics Men's Triple Jump"
          ],
          [
           19,
           "Russia",
           "Athletics",
           "Athletics Men's Decathlon"
          ],
          [
           18,
           "Italy",
           "Athletics",
           "Athletics Men's 10 kilometres Walk"
          ],
          [
           21,
           "Germany",
           "Athletics",
           "Athletics Men's 1,500 metres"
          ],
          [
           21,
           "Germany",
           "Athletics",
           "Athletics Men's 3,000 metres, Team"
          ],
          [
           23,
           "Norway",
           "Athletics",
           "Athletics Men's Cross-Country, Individual"
          ],
          [
           23,
           "Norway",
           "Athletics",
           "Athletics Men's Cross-Country, Team"
          ],
          [
           25,
           "Great Britain",
           "Athletics",
           "Athletics Men's 100 metres"
          ],
          [
           25,
           "Great Britain",
           "Athletics",
           "Athletics Men's 200 metres"
          ],
          [
           23,
           "Great Britain",
           "Athletics",
           "Athletics Men's 110 metres Hurdles"
          ],
          [
           21,
           "United States",
           "Athletics",
           "Athletics Men's 1,500 metres"
          ],
          [
           35,
           "Sweden",
           "Athletics",
           "Athletics Men's Marathon"
          ],
          [
           22,
           "Sweden",
           "Athletics",
           "Athletics Men's Cross-Country, Individual"
          ],
          [
           22,
           "Sweden",
           "Athletics",
           "Athletics Men's Cross-Country, Team"
          ],
          [
           22,
           "France",
           "Athletics",
           "Athletics Men's 110 metres Hurdles"
          ],
          [
           22,
           "France",
           "Athletics",
           "Athletics Men's High Jump"
          ],
          [
           22,
           "France",
           "Athletics",
           "Athletics Men's Standing High Jump"
          ],
          [
           22,
           "France",
           "Athletics",
           "Athletics Men's Standing Long Jump"
          ],
          [
           22,
           "France",
           "Athletics",
           "Athletics Men's Pentathlon"
          ],
          [
           22,
           "France",
           "Athletics",
           "Athletics Men's Decathlon"
          ],
          [
           23,
           "Hungary",
           "Athletics",
           "Athletics Men's 800 metres"
          ],
          [
           21,
           "Great Britain",
           "Athletics",
           "Athletics Men's 100 metres"
          ],
          [
           21,
           "Great Britain",
           "Athletics",
           "Athletics Men's 200 metres"
          ],
          [
           21,
           "Great Britain",
           "Athletics",
           "Athletics Men's 4 x 100 metres Relay"
          ],
          [
           21,
           "France",
           "Athletics",
           "Athletics Men's 1,500 metres"
          ],
          [
           20,
           "Great Britain",
           "Athletics",
           "Athletics Men's Long Jump"
          ],
          [
           20,
           "Great Britain",
           "Athletics",
           "Athletics Men's Standing Long Jump"
          ],
          [
           22,
           "Russia",
           "Athletics",
           "Athletics Men's Pole Vault"
          ],
          [
           21,
           "United States",
           "Athletics",
           "Athletics Men's Pole Vault"
          ],
          [
           21,
           "United States",
           "Athletics",
           "Athletics Men's Decathlon"
          ],
          [
           20,
           "Denmark",
           "Athletics",
           "Athletics Men's Cross-Country, Individual"
          ],
          [
           20,
           "Denmark",
           "Athletics",
           "Athletics Men's Cross-Country, Team"
          ],
          [
           20,
           "Great Britain",
           "Athletics",
           "Athletics Men's High Jump"
          ],
          [
           20,
           "Great Britain",
           "Athletics",
           "Athletics Men's Standing High Jump"
          ],
          [
           22,
           "Great Britain",
           "Athletics",
           "Athletics Men's 800 metres"
          ],
          [
           22,
           "Great Britain",
           "Athletics",
           "Athletics Men's 1,500 metres"
          ],
          [
           23,
           "Greece",
           "Athletics",
           "Athletics Men's Pole Vault"
          ],
          [
           19,
           "Great Britain",
           "Athletics",
           "Athletics Men's 100 metres"
          ],
          [
           19,
           "Hungary",
           "Athletics",
           "Athletics Men's Standing Long Jump"
          ],
          [
           32,
           "Great Britain",
           "Athletics",
           "Athletics Men's Marathon"
          ],
          [
           23,
           "Russia",
           "Athletics",
           "Athletics Men's 200 metres"
          ],
          [
           25,
           "Germany",
           "Athletics",
           "Athletics Men's Triple Jump"
          ],
          [
           25,
           "Germany",
           "Athletics",
           "Athletics Men's Pentathlon"
          ],
          [
           31,
           "Great Britain",
           "Athletics",
           "Athletics Men's Marathon"
          ],
          [
           20,
           "Canada",
           "Athletics",
           "Athletics Men's 100 metres"
          ],
          [
           20,
           "Canada",
           "Athletics",
           "Athletics Men's 200 metres"
          ],
          [
           20,
           "Canada",
           "Athletics",
           "Athletics Men's 4 x 100 metres Relay"
          ],
          [
           24,
           "United States",
           "Athletics",
           "Athletics Men's Pole Vault"
          ],
          [
           28,
           "United States",
           "Athletics",
           "Athletics Men's 100 metres"
          ],
          [
           28,
           "United States",
           "Athletics",
           "Athletics Men's 4 x 100 metres Relay"
          ],
          [
           28,
           "United States",
           "Athletics",
           "Athletics Men's Standing High Jump"
          ],
          [
           29,
           "Sweden",
           "Athletics",
           "Athletics Men's Standing High Jump"
          ],
          [
           29,
           "Sweden",
           "Athletics",
           "Athletics Men's Standing Long Jump"
          ],
          [
           24,
           "Sweden",
           "Athletics",
           "Athletics Men's Marathon"
          ],
          [
           20,
           "United States",
           "Athletics",
           "Athletics Men's 5,000 metres"
          ],
          [
           20,
           "United States",
           "Athletics",
           "Athletics Men's 3,000 metres, Team"
          ],
          [
           20,
           "United States",
           "Athletics",
           "Athletics Men's Cross-Country, Individual"
          ],
          [
           20,
           "United States",
           "Athletics",
           "Athletics Men's Cross-Country, Team"
          ],
          [
           26,
           "Sweden",
           "Athletics",
           "Athletics Men's Long Jump"
          ],
          [
           24,
           "Norway",
           "Athletics",
           "Athletics Men's 110 metres Hurdles"
          ],
          [
           24,
           "Norway",
           "Athletics",
           "Athletics Men's Long Jump"
          ],
          [
           24,
           "Norway",
           "Athletics",
           "Athletics Men's Pentathlon"
          ],
          [
           24,
           "Norway",
           "Athletics",
           "Athletics Men's Decathlon"
          ],
          [
           24,
           "Sweden",
           "Athletics",
           "Athletics Men's 800 metres"
          ],
          [
           24,
           "Sweden",
           "Athletics",
           "Athletics Men's 1,500 metres"
          ],
          [
           21,
           "Great Britain",
           "Athletics",
           "Athletics Men's 100 metres"
          ],
          [
           21,
           "Great Britain",
           "Athletics",
           "Athletics Men's 110 metres Hurdles"
          ],
          [
           22,
           "United States",
           "Athletics",
           "Athletics Men's 110 metres Hurdles"
          ],
          [
           30,
           "Hungary",
           "Athletics",
           "Athletics Men's 400 metres"
          ],
          [
           30,
           "Hungary",
           "Athletics",
           "Athletics Men's 800 metres"
          ],
          [
           30,
           "Hungary",
           "Athletics",
           "Athletics Men's 4 x 400 metres Relay"
          ],
          [
           29,
           "France",
           "Athletics",
           "Athletics Men's Marathon"
          ],
          [
           22,
           "Sweden",
           "Athletics",
           "Athletics Men's Discus Throw"
          ],
          [
           30,
           "United States",
           "Athletics",
           "Athletics Men's 5,000 metres"
          ],
          [
           30,
           "United States",
           "Athletics",
           "Athletics Men's 3,000 metres, Team"
          ],
          [
           30,
           "United States",
           "Athletics",
           "Athletics Men's Cross-Country, Individual"
          ],
          [
           30,
           "United States",
           "Athletics",
           "Athletics Men's Cross-Country, Team"
          ],
          [
           23,
           "France",
           "Athletics",
           "Athletics Men's 5,000 metres"
          ],
          [
           23,
           "France",
           "Athletics",
           "Athletics Men's Cross-Country, Individual"
          ],
          [
           25,
           "France",
           "Athletics",
           "Athletics Men's 100 metres"
          ],
          [
           25,
           "Germany",
           "Athletics",
           "Athletics Men's 400 metres"
          ],
          [
           25,
           "Germany",
           "Athletics",
           "Athletics Men's 800 metres"
          ],
          [
           25,
           "Germany",
           "Athletics",
           "Athletics Men's 4 x 400 metres Relay"
          ],
          [
           27,
           "Canada",
           "Athletics",
           "Athletics Men's Long Jump"
          ],
          [
           27,
           "Canada",
           "Athletics",
           "Athletics Men's Triple Jump"
          ],
          [
           20,
           "United States",
           "Athletics",
           "Athletics Men's Triple Jump"
          ],
          [
           29,
           "Great Britain",
           "Athletics",
           "Athletics Men's 10 kilometres Walk"
          ],
          [
           24,
           "Canada",
           "Athletics",
           "Athletics Men's 400 metres"
          ],
          [
           24,
           "Canada",
           "Athletics",
           "Athletics Men's 800 metres"
          ],
          [
           24,
           "Canada",
           "Athletics",
           "Athletics Men's 4 x 400 metres Relay"
          ],
          [
           20,
           "Norway",
           "Athletics",
           "Athletics Men's Standing High Jump"
          ],
          [
           20,
           "Norway",
           "Athletics",
           "Athletics Men's Standing Long Jump"
          ],
          [
           24,
           "United States",
           "Athletics",
           "Athletics Men's Discus Throw"
          ],
          [
           24,
           "United States",
           "Athletics",
           "Athletics Men's Pentathlon"
          ],
          [
           24,
           "United States",
           "Athletics",
           "Athletics Men's Decathlon"
          ],
          [
           23,
           "United States",
           "Athletics",
           "Athletics Men's High Jump"
          ],
          [
           20,
           "Germany",
           "Athletics",
           "Athletics Men's 400 metres"
          ],
          [
           20,
           "Germany",
           "Athletics",
           "Athletics Men's 4 x 400 metres Relay"
          ],
          [
           27,
           "Great Britain",
           "Athletics",
           "Athletics Men's 800 metres"
          ],
          [
           19,
           "United States",
           "Athletics",
           "Athletics Men's Standing High Jump"
          ],
          [
           19,
           "United States",
           "Athletics",
           "Athletics Men's Standing Long Jump"
          ],
          [
           19,
           "United States",
           "Athletics",
           "Athletics Men's Discus Throw"
          ],
          [
           19,
           "United States",
           "Athletics",
           "Athletics Men's Discus Throw, Both Hands"
          ],
          [
           21,
           "United States",
           "Athletics",
           "Athletics Men's 800 metres"
          ],
          [
           19,
           "Italy",
           "Athletics",
           "Athletics Men's 800 metres"
          ],
          [
           19,
           "Italy",
           "Athletics",
           "Athletics Men's 1,500 metres"
          ],
          [
           25,
           "France",
           "Athletics",
           "Athletics Men's Long Jump"
          ],
          [
           39,
           "Great Britain",
           "Athletics",
           "Athletics Men's Hammer Throw"
          ],
          [
           21,
           "Sweden",
           "Athletics",
           "Athletics Men's Cross-Country, Individual"
          ],
          [
           21,
           "Sweden",
           "Athletics",
           "Athletics Men's Cross-Country, Team"
          ],
          [
           22,
           "Sweden",
           "Athletics",
           "Athletics Men's 5,000 metres"
          ],
          [
           22,
           "Sweden",
           "Athletics",
           "Athletics Men's 10,000 metres"
          ],
          [
           23,
           "Great Britain",
           "Athletics",
           "Athletics Men's High Jump"
          ],
          [
           23,
           "Great Britain",
           "Athletics",
           "Athletics Men's Triple Jump"
          ],
          [
           23,
           "United States",
           "Athletics",
           "Athletics Men's 110 metres Hurdles"
          ],
          [
           27,
           "France",
           "Athletics",
           "Athletics Men's 800 metres"
          ],
          [
           28,
           "United States",
           "Athletics",
           "Athletics Men's Hammer Throw"
          ],
          [
           24,
           "United States",
           "Athletics",
           "Athletics Men's 110 metres Hurdles"
          ],
          [
           23,
           "Denmark",
           "Athletics",
           "Athletics Men's Marathon"
          ],
          [
           19,
           "Denmark",
           "Athletics",
           "Athletics Men's Cross-Country, Individual"
          ],
          [
           19,
           "Denmark",
           "Athletics",
           "Athletics Men's Cross-Country, Team"
          ],
          [
           18,
           "Italy",
           "Athletics",
           "Athletics Men's 110 metres Hurdles"
          ],
          [
           22,
           "United States",
           "Athletics",
           "Athletics Men's 200 metres"
          ],
          [
           22,
           "United States",
           "Athletics",
           "Athletics Men's 4 x 100 metres Relay"
          ],
          [
           22,
           "Canada",
           "Athletics",
           "Athletics Men's Marathon"
          ],
          [
           21,
           "Portugal",
           "Athletics",
           "Athletics Men's 400 metres"
          ],
          [
           21,
           "Portugal",
           "Athletics",
           "Athletics Men's 800 metres"
          ],
          [
           23,
           "Great Britain",
           "Athletics",
           "Athletics Men's 1,500 metres"
          ],
          [
           23,
           "Great Britain",
           "Athletics",
           "Athletics Men's 3,000 metres, Team"
          ],
          [
           23,
           "Great Britain",
           "Athletics",
           "Athletics Men's Cross-Country, Individual"
          ],
          [
           23,
           "Great Britain",
           "Athletics",
           "Athletics Men's Cross-Country, Team"
          ],
          [
           23,
           "United States",
           "Athletics",
           "Athletics Men's 100 metres"
          ],
          [
           23,
           "United States",
           "Athletics",
           "Athletics Men's 200 metres"
          ],
          [
           23,
           "United States",
           "Athletics",
           "Athletics Men's 4 x 100 metres Relay"
          ],
          [
           25,
           "United States",
           "Athletics",
           "Athletics Men's Pole Vault"
          ],
          [
           22,
           "United States",
           "Athletics",
           "Athletics Men's 100 metres"
          ],
          [
           22,
           "United States",
           "Athletics",
           "Athletics Men's 200 metres"
          ],
          [
           24,
           "Great Britain",
           "Athletics",
           "Athletics Men's 100 metres"
          ],
          [
           24,
           "Great Britain",
           "Athletics",
           "Athletics Men's 200 metres"
          ],
          [
           24,
           "Great Britain",
           "Athletics",
           "Athletics Men's 4 x 100 metres Relay"
          ],
          [
           29,
           "Sweden",
           "Athletics",
           "Athletics Men's Javelin Throw"
          ],
          [
           29,
           "Norway",
           "Athletics",
           "Athletics Men's Cross-Country, Individual"
          ],
          [
           29,
           "Norway",
           "Athletics",
           "Athletics Men's Cross-Country, Team"
          ],
          [
           25,
           "Sweden",
           "Athletics",
           "Athletics Men's Marathon"
          ],
          [
           26,
           "Sweden",
           "Athletics",
           "Athletics Men's 400 metres"
          ],
          [
           26,
           "Sweden",
           "Athletics",
           "Athletics Men's 4 x 400 metres Relay"
          ],
          [
           18,
           "Denmark",
           "Athletics",
           "Athletics Men's Cross-Country, Individual"
          ],
          [
           18,
           "Denmark",
           "Athletics",
           "Athletics Men's Cross-Country, Team"
          ],
          [
           24,
           "United States",
           "Athletics",
           "Athletics Men's 400 metres"
          ],
          [
           24,
           "United States",
           "Athletics",
           "Athletics Men's 800 metres"
          ],
          [
           null,
           "Russia",
           "Athletics",
           "Athletics Men's 100 metres"
          ],
          [
           24,
           "Canada",
           "Athletics",
           "Athletics Men's 5,000 metres"
          ],
          [
           21,
           "France",
           "Athletics",
           "Athletics Men's 100 metres"
          ],
          [
           21,
           "France",
           "Athletics",
           "Athletics Men's 110 metres Hurdles"
          ],
          [
           21,
           "France",
           "Athletics",
           "Athletics Men's High Jump"
          ],
          [
           23,
           "Belgium",
           "Athletics",
           "Athletics Men's 1,500 metres"
          ],
          [
           23,
           "United States",
           "Athletics",
           "Athletics Men's Marathon"
          ],
          [
           21,
           "Hungary",
           "Athletics",
           "Athletics Men's 200 metres"
          ],
          [
           21,
           "Hungary",
           "Athletics",
           "Athletics Men's 400 metres"
          ],
          [
           21,
           "Hungary",
           "Athletics",
           "Athletics Men's 4 x 400 metres Relay"
          ],
          [
           27,
           "United States",
           "Athletics",
           "Athletics Men's Pentathlon"
          ],
          [
           27,
           "United States",
           "Athletics",
           "Athletics Men's Decathlon"
          ],
          [
           26,
           "Greece",
           "Athletics",
           "Athletics Men's Shot Put"
          ],
          [
           26,
           "Greece",
           "Athletics",
           "Athletics Men's Discus Throw"
          ],
          [
           21,
           "United States",
           "Athletics",
           "Athletics Men's 100 metres"
          ],
          [
           27,
           "Hungary",
           "Athletics",
           "Athletics Men's 10 kilometres Walk"
          ],
          [
           22,
           "Canada",
           "Athletics",
           "Athletics Men's Marathon"
          ],
          [
           23,
           "United States",
           "Athletics",
           "Athletics Men's Pole Vault"
          ],
          [
           27,
           "Great Britain",
           "Athletics",
           "Athletics Men's 10 kilometres Walk"
          ],
          [
           24,
           "United States",
           "Athletics",
           "Athletics Men's Discus Throw"
          ],
          [
           24,
           "United States",
           "Athletics",
           "Athletics Men's Discus Throw, Both Hands"
          ],
          [
           24,
           "Great Britain",
           "Athletics",
           "Athletics Men's 100 metres"
          ],
          [
           24,
           "Great Britain",
           "Athletics",
           "Athletics Men's 200 metres"
          ],
          [
           25,
           "United States",
           "Athletics",
           "Athletics Men's 400 metres"
          ],
          [
           25,
           "United States",
           "Athletics",
           "Athletics Men's 800 metres"
          ],
          [
           19,
           "Austria",
           "Athletics",
           "Athletics Men's Long Jump"
          ],
          [
           24,
           "Chile",
           "Athletics",
           "Athletics Men's 100 metres"
          ],
          [
           24,
           "Chile",
           "Athletics",
           "Athletics Men's 200 metres"
          ],
          [
           24,
           "Chile",
           "Athletics",
           "Athletics Men's 110 metres Hurdles"
          ],
          [
           25,
           "Sweden",
           "Athletics",
           "Athletics Men's 100 metres"
          ],
          [
           25,
           "Sweden",
           "Athletics",
           "Athletics Men's Standing Long Jump"
          ],
          [
           26,
           "Sweden",
           "Athletics",
           "Athletics Men's 10,000 metres"
          ],
          [
           26,
           "Sweden",
           "Athletics",
           "Athletics Men's Cross-Country, Individual"
          ],
          [
           26,
           "Sweden",
           "Athletics",
           "Athletics Men's Cross-Country, Team"
          ],
          [
           19,
           "Sweden",
           "Athletics",
           "Athletics Men's Standing High Jump"
          ],
          [
           28,
           "United States",
           "Athletics",
           "Athletics Men's 110 metres Hurdles"
          ],
          [
           28,
           "United States",
           "Athletics",
           "Athletics Men's Pentathlon"
          ],
          [
           22,
           "United States",
           "Athletics",
           "Athletics Men's High Jump"
          ],
          [
           23,
           "United States",
           "Athletics",
           "Athletics Men's High Jump"
          ],
          [
           26,
           "Sweden",
           "Athletics",
           "Athletics Men's Pentathlon"
          ],
          [
           22,
           "United States",
           "Athletics",
           "Athletics Men's Marathon"
          ],
          [
           25,
           "Finland",
           "Athletics",
           "Athletics Men's Cross-Country, Individual"
          ],
          [
           25,
           "Finland",
           "Athletics",
           "Athletics Men's Cross-Country, Team"
          ],
          [
           25,
           "France",
           "Athletics",
           "Athletics Men's High Jump"
          ],
          [
           23,
           "Canada",
           "Athletics",
           "Athletics Men's Marathon"
          ],
          [
           23,
           "France",
           "Athletics",
           "Athletics Men's 100 metres"
          ],
          [
           23,
           "France",
           "Athletics",
           "Athletics Men's 200 metres"
          ],
          [
           23,
           "France",
           "Athletics",
           "Athletics Men's 4 x 100 metres Relay"
          ],
          [
           23,
           "France",
           "Athletics",
           "Athletics Men's 4 x 400 metres Relay"
          ],
          [
           23,
           "France",
           "Athletics",
           "Athletics Men's Pentathlon"
          ],
          [
           23,
           "France",
           "Athletics",
           "Athletics Men's Decathlon"
          ],
          [
           23,
           "Sweden",
           "Athletics",
           "Athletics Men's Javelin Throw"
          ],
          [
           26,
           "United States",
           "Athletics",
           "Athletics Men's Long Jump"
          ],
          [
           26,
           "United States",
           "Athletics",
           "Athletics Men's Triple Jump"
          ],
          [
           23,
           "Norway",
           "Athletics",
           "Athletics Men's Cross-Country, Individual"
          ],
          [
           23,
           "Norway",
           "Athletics",
           "Athletics Men's Cross-Country, Team"
          ],
          [
           24,
           "United States",
           "Athletics",
           "Athletics Men's 5,000 metres"
          ],
          [
           22,
           "Norway",
           "Athletics",
           "Athletics Men's Long Jump"
          ],
          [
           22,
           "Norway",
           "Athletics",
           "Athletics Men's Triple Jump"
          ],
          [
           22,
           "Sweden",
           "Athletics",
           "Athletics Men's Pentathlon"
          ],
          [
           21,
           "Sweden",
           "Athletics",
           "Athletics Men's Discus Throw"
          ],
          [
           21,
           "Sweden",
           "Athletics",
           "Athletics Men's Discus Throw, Both Hands"
          ],
          [
           18,
           "Austria",
           "Athletics",
           "Athletics Men's 100 metres"
          ],
          [
           18,
           "Austria",
           "Athletics",
           "Athletics Men's 200 metres"
          ],
          [
           18,
           "Austria",
           "Athletics",
           "Athletics Men's 4 x 100 metres Relay"
          ],
          [
           24,
           "United States",
           "Athletics",
           "Athletics Men's Standing High Jump"
          ],
          [
           24,
           "United States",
           "Athletics",
           "Athletics Men's Standing Long Jump"
          ],
          [
           24,
           "Sweden",
           "Athletics",
           "Athletics Men's 10,000 metres"
          ],
          [
           24,
           "Sweden",
           "Athletics",
           "Athletics Men's 3,000 metres, Team"
          ],
          [
           24,
           "Sweden",
           "Athletics",
           "Athletics Men's Cross-Country, Individual"
          ],
          [
           24,
           "Sweden",
           "Athletics",
           "Athletics Men's Cross-Country, Team"
          ],
          [
           24,
           "Norway",
           "Athletics",
           "Athletics Men's Marathon"
          ],
          [
           20,
           "Hungary",
           "Athletics",
           "Athletics Men's 800 metres"
          ],
          [
           20,
           "Hungary",
           "Athletics",
           "Athletics Men's 1,500 metres"
          ],
          [
           30,
           "United States",
           "Athletics",
           "Athletics Men's Marathon"
          ],
          [
           21,
           "Canada",
           "Athletics",
           "Athletics Men's Marathon"
          ],
          [
           21,
           "Hungary",
           "Athletics",
           "Athletics Men's Discus Throw"
          ],
          [
           27,
           "Luxembourg",
           "Athletics",
           "Athletics Men's Long Jump"
          ],
          [
           29,
           "Great Britain",
           "Athletics",
           "Athletics Men's Marathon"
          ],
          [
           19,
           "Austria",
           "Athletics",
           "Athletics Men's Pole Vault"
          ],
          [
           19,
           "Austria",
           "Athletics",
           "Athletics Men's Long Jump"
          ],
          [
           23,
           "Sweden",
           "Athletics",
           "Athletics Men's 800 metres"
          ],
          [
           20,
           "United States",
           "Athletics",
           "Athletics Men's Pole Vault"
          ],
          [
           24,
           "Sweden",
           "Athletics",
           "Athletics Men's 1,500 metres"
          ],
          [
           24,
           "Sweden",
           "Athletics",
           "Athletics Men's 3,000 metres, Team"
          ],
          [
           22,
           "United States",
           "Athletics",
           "Athletics Men's Marathon"
          ],
          [
           25,
           "Canada",
           "Athletics",
           "Athletics Men's 400 metres"
          ],
          [
           25,
           "Canada",
           "Athletics",
           "Athletics Men's 4 x 400 metres Relay"
          ],
          [
           24,
           "Russia",
           "Athletics",
           "Athletics Men's 400 metres"
          ],
          [
           34,
           "United States",
           "Athletics",
           "Athletics Men's 100 metres"
          ],
          [
           34,
           "United States",
           "Athletics",
           "Athletics Men's 200 metres"
          ],
          [
           24,
           "Sweden",
           "Athletics",
           "Athletics Men's Pole Vault"
          ],
          [
           29,
           "Canada",
           "Athletics",
           "Athletics Men's Discus Throw"
          ],
          [
           29,
           "Canada",
           "Athletics",
           "Athletics Men's Hammer Throw"
          ],
          [
           32,
           "United States",
           "Athletics",
           "Athletics Men's Hammer Throw"
          ],
          [
           20,
           "Italy",
           "Athletics",
           "Athletics Men's 100 metres"
          ],
          [
           20,
           "Italy",
           "Athletics",
           "Athletics Men's 200 metres"
          ],
          [
           20,
           "Italy",
           "Athletics",
           "Athletics Men's 400 metres"
          ],
          [
           23,
           "South Africa",
           "Athletics",
           "Athletics Men's Marathon"
          ],
          [
           21,
           "Great Britain",
           "Athletics",
           "Athletics Men's 5,000 metres"
          ],
          [
           21,
           "Great Britain",
           "Athletics",
           "Athletics Men's 10,000 metres"
          ],
          [
           21,
           "Great Britain",
           "Athletics",
           "Athletics Men's Cross-Country, Individual"
          ],
          [
           21,
           "Great Britain",
           "Athletics",
           "Athletics Men's Cross-Country, Team"
          ],
          [
           20,
           "United States",
           "Athletics",
           "Athletics Men's Standing High Jump"
          ],
          [
           20,
           "United States",
           "Athletics",
           "Athletics Men's Standing Long Jump"
          ],
          [
           28,
           "France",
           "Athletics",
           "Athletics Men's Pole Vault"
          ],
          [
           26,
           "Canada",
           "Athletics",
           "Athletics Men's 10 kilometres Walk"
          ],
          [
           22,
           "Sweden",
           "Athletics",
           "Athletics Men's 200 metres"
          ],
          [
           25,
           "Great Britain",
           "Athletics",
           "Athletics Men's Marathon"
          ],
          [
           21,
           "Netherlands",
           "Athletics",
           "Athletics Men's 100 metres"
          ],
          [
           21,
           "Netherlands",
           "Athletics",
           "Athletics Men's 200 metres"
          ],
          [
           27,
           "United States",
           "Athletics",
           "Athletics Men's High Jump"
          ],
          [
           23,
           "Sweden",
           "Athletics",
           "Athletics Men's Marathon"
          ],
          [
           24,
           "United States",
           "Athletics",
           "Athletics Men's Long Jump"
          ],
          [
           28,
           "Sweden",
           "Athletics",
           "Athletics Men's Marathon"
          ],
          [
           24,
           "Denmark",
           "Athletics",
           "Athletics Men's 10 kilometres Walk"
          ],
          [
           19,
           "Austria",
           "Athletics",
           "Athletics Men's Marathon"
          ],
          [
           20,
           "Sweden",
           "Athletics",
           "Athletics Men's Hammer Throw"
          ],
          [
           20,
           "Sweden",
           "Athletics",
           "Athletics Men's Decathlon"
          ],
          [
           20,
           "United States",
           "Athletics",
           "Athletics Men's 400 metres"
          ],
          [
           20,
           "Sweden",
           "Athletics",
           "Athletics Men's Javelin Throw, Both Hands"
          ],
          [
           21,
           "Sweden",
           "Athletics",
           "Athletics Men's 800 metres"
          ],
          [
           27,
           "Great Britain",
           "Athletics",
           "Athletics Men's 200 metres"
          ],
          [
           27,
           "Great Britain",
           "Athletics",
           "Athletics Men's 400 metres"
          ],
          [
           20,
           "Sweden",
           "Athletics",
           "Athletics Men's High Jump"
          ],
          [
           22,
           "Iceland",
           "Athletics",
           "Athletics Men's 100 metres"
          ],
          [
           23,
           "Finland",
           "Athletics",
           "Athletics Men's Triple Jump"
          ],
          [
           23,
           "Finland",
           "Athletics",
           "Athletics Men's Javelin Throw"
          ],
          [
           23,
           "Finland",
           "Athletics",
           "Athletics Men's Javelin Throw, Both Hands"
          ],
          [
           29,
           "Canada",
           "Athletics",
           "Athletics Men's Pole Vault"
          ],
          [
           19,
           "United States",
           "Athletics",
           "Athletics Men's 800 metres"
          ],
          [
           24,
           "Norway",
           "Athletics",
           "Athletics Men's Javelin Throw"
          ],
          [
           24,
           "Norway",
           "Athletics",
           "Athletics Men's Javelin Throw, Both Hands"
          ],
          [
           22,
           "Chile",
           "Athletics",
           "Athletics Men's High Jump"
          ],
          [
           22,
           "Chile",
           "Athletics",
           "Athletics Men's Standing High Jump"
          ],
          [
           19,
           "Russia",
           "Athletics",
           "Athletics Men's 200 metres"
          ],
          [
           24,
           "Great Britain",
           "Athletics",
           "Athletics Men's 1,500 metres"
          ],
          [
           22,
           "Finland",
           "Athletics",
           "Athletics Men's 1,500 metres"
          ],
          [
           22,
           "Finland",
           "Athletics",
           "Athletics Men's 3,000 metres, Team"
          ],
          [
           22,
           "Finland",
           "Athletics",
           "Athletics Men's Cross-Country, Individual"
          ],
          [
           22,
           "Finland",
           "Athletics",
           "Athletics Men's Cross-Country, Team"
          ],
          [
           25,
           "Sweden",
           "Athletics",
           "Athletics Men's Pole Vault"
          ],
          [
           24,
           "United States",
           "Athletics",
           "Athletics Men's 110 metres Hurdles"
          ],
          [
           24,
           "United States",
           "Athletics",
           "Athletics Men's 1,500 metres"
          ],
          [
           24,
           "Finland",
           "Athletics",
           "Athletics Men's Cross-Country, Individual"
          ],
          [
           24,
           "Finland",
           "Athletics",
           "Athletics Men's Cross-Country, Team"
          ],
          [
           22,
           "United States",
           "Athletics",
           "Athletics Men's 100 metres"
          ],
          [
           22,
           "United States",
           "Athletics",
           "Athletics Men's 200 metres"
          ],
          [
           23,
           "United States",
           "Athletics",
           "Athletics Men's 10,000 metres"
          ],
          [
           23,
           "United States",
           "Athletics",
           "Athletics Men's Cross-Country, Individual"
          ],
          [
           23,
           "United States",
           "Athletics",
           "Athletics Men's Cross-Country, Team"
          ],
          [
           23,
           "Sweden",
           "Athletics",
           "Athletics Men's Cross-Country, Individual"
          ],
          [
           23,
           "Sweden",
           "Athletics",
           "Athletics Men's Cross-Country, Team"
          ],
          [
           31,
           "Great Britain",
           "Athletics",
           "Athletics Men's Discus Throw"
          ],
          [
           23,
           "Great Britain",
           "Athletics",
           "Athletics Men's 400 metres"
          ],
          [
           23,
           "Great Britain",
           "Athletics",
           "Athletics Men's 800 metres"
          ],
          [
           23,
           "Great Britain",
           "Athletics",
           "Athletics Men's 4 x 400 metres Relay"
          ],
          [
           24,
           "Russia",
           "Athletics",
           "Athletics Men's 10 kilometres Walk"
          ],
          [
           27,
           "Germany",
           "Athletics",
           "Athletics Men's 100 metres"
          ],
          [
           27,
           "Germany",
           "Athletics",
           "Athletics Men's 200 metres"
          ],
          [
           27,
           "Germany",
           "Athletics",
           "Athletics Men's 400 metres"
          ],
          [
           27,
           "Germany",
           "Athletics",
           "Athletics Men's 4 x 100 metres Relay"
          ],
          [
           27,
           "Germany",
           "Athletics",
           "Athletics Men's 4 x 400 metres Relay"
          ],
          [
           19,
           "France",
           "Athletics",
           "Athletics Men's 5,000 metres"
          ],
          [
           19,
           "France",
           "Athletics",
           "Athletics Men's 10,000 metres"
          ],
          [
           22,
           "Great Britain",
           "Athletics",
           "Athletics Men's 5,000 metres"
          ],
          [
           22,
           "Great Britain",
           "Athletics",
           "Athletics Men's 10,000 metres"
          ],
          [
           22,
           "Great Britain",
           "Athletics",
           "Athletics Men's Cross-Country, Individual"
          ],
          [
           22,
           "Great Britain",
           "Athletics",
           "Athletics Men's Cross-Country, Team"
          ],
          [
           21,
           "Australasia",
           "Athletics",
           "Athletics Men's 5,000 metres"
          ],
          [
           21,
           "Australasia",
           "Athletics",
           "Athletics Men's 10,000 metres"
          ],
          [
           24,
           "United States",
           "Athletics",
           "Athletics Men's 800 metres"
          ],
          [
           20,
           "Sweden",
           "Athletics",
           "Athletics Men's High Jump"
          ],
          [
           20,
           "Sweden",
           "Athletics",
           "Athletics Men's Pentathlon"
          ],
          [
           20,
           "Sweden",
           "Athletics",
           "Athletics Men's Decathlon"
          ],
          [
           36,
           "Bohemia",
           "Athletics",
           "Athletics Men's Marathon"
          ],
          [
           22,
           "United States",
           "Athletics",
           "Athletics Men's High Jump"
          ],
          [
           26,
           "Hungary",
           "Athletics",
           "Athletics Men's Standing High Jump"
          ],
          [
           20,
           "Norway",
           "Athletics",
           "Athletics Men's Cross-Country, Individual"
          ],
          [
           20,
           "Norway",
           "Athletics",
           "Athletics Men's Cross-Country, Team"
          ],
          [
           23,
           "Canada",
           "Athletics",
           "Athletics Men's 100 metres"
          ],
          [
           23,
           "Canada",
           "Athletics",
           "Athletics Men's 200 metres"
          ],
          [
           23,
           "Canada",
           "Athletics",
           "Athletics Men's 4 x 100 metres Relay"
          ],
          [
           23,
           "Canada",
           "Athletics",
           "Athletics Men's 4 x 400 metres Relay"
          ],
          [
           29,
           "Great Britain",
           "Athletics",
           "Athletics Men's 800 metres"
          ],
          [
           29,
           "Great Britain",
           "Athletics",
           "Athletics Men's 1,500 metres"
          ],
          [
           21,
           "Great Britain",
           "Athletics",
           "Athletics Men's 10,000 metres"
          ],
          [
           21,
           "Great Britain",
           "Athletics",
           "Athletics Men's Cross-Country, Individual"
          ],
          [
           21,
           "Great Britain",
           "Athletics",
           "Athletics Men's Cross-Country, Team"
          ],
          [
           22,
           "Great Britain",
           "Athletics",
           "Athletics Men's 5,000 metres"
          ],
          [
           22,
           "Great Britain",
           "Athletics",
           "Athletics Men's 3,000 metres, Team"
          ],
          [
           18,
           "Russia",
           "Athletics",
           "Athletics Men's 1,500 metres"
          ],
          [
           26,
           "United States",
           "Athletics",
           "Athletics Men's Long Jump"
          ],
          [
           21,
           "Great Britain",
           "Athletics",
           "Athletics Men's 1,500 metres"
          ],
          [
           24,
           "Great Britain",
           "Athletics",
           "Athletics Men's 100 metres"
          ],
          [
           24,
           "Great Britain",
           "Athletics",
           "Athletics Men's 200 metres"
          ],
          [
           24,
           "Great Britain",
           "Athletics",
           "Athletics Men's 4 x 100 metres Relay"
          ],
          [
           28,
           "Sweden",
           "Athletics",
           "Athletics Men's Marathon"
          ],
          [
           24,
           "Sweden",
           "Athletics",
           "Athletics Men's 100 metres"
          ],
          [
           24,
           "Sweden",
           "Athletics",
           "Athletics Men's 200 metres"
          ],
          [
           24,
           "Sweden",
           "Athletics",
           "Athletics Men's Triple Jump"
          ],
          [
           24,
           "Sweden",
           "Athletics",
           "Athletics Men's Decathlon"
          ],
          [
           23,
           "Germany",
           "Athletics",
           "Athletics Men's 800 metres"
          ],
          [
           31,
           "Sweden",
           "Athletics",
           "Athletics Men's Hammer Throw"
          ],
          [
           34,
           "Bohemia",
           "Athletics",
           "Athletics Men's Shot Put"
          ],
          [
           34,
           "Bohemia",
           "Athletics",
           "Athletics Men's Discus Throw"
          ],
          [
           22,
           "Hungary",
           "Athletics",
           "Athletics Men's 100 metres"
          ],
          [
           22,
           "Hungary",
           "Athletics",
           "Athletics Men's 4 x 100 metres Relay"
          ],
          [
           42,
           "Finland",
           "Athletics",
           "Athletics Men's Discus Throw"
          ],
          [
           42,
           "Finland",
           "Athletics",
           "Athletics Men's Discus Throw, Both Hands"
          ],
          [
           24,
           "Denmark",
           "Athletics",
           "Athletics Men's Cross-Country, Individual"
          ],
          [
           24,
           "Denmark",
           "Athletics",
           "Athletics Men's Cross-Country, Team"
          ],
          [
           29,
           "Bohemia",
           "Athletics",
           "Athletics Men's 100 metres"
          ],
          [
           27,
           "Bohemia",
           "Athletics",
           "Athletics Men's Pole Vault"
          ],
          [
           27,
           "Norway",
           "Athletics",
           "Athletics Men's Javelin Throw"
          ],
          [
           27,
           "Norway",
           "Athletics",
           "Athletics Men's Javelin Throw, Both Hands"
          ],
          [
           25,
           "Finland",
           "Athletics",
           "Athletics Men's 5,000 metres"
          ],
          [
           25,
           "Finland",
           "Athletics",
           "Athletics Men's 3,000 metres, Team"
          ],
          [
           25,
           "Finland",
           "Athletics",
           "Athletics Men's Cross-Country, Individual"
          ],
          [
           25,
           "Finland",
           "Athletics",
           "Athletics Men's Cross-Country, Team"
          ],
          [
           22,
           "Sweden",
           "Athletics",
           "Athletics Men's Hammer Throw"
          ],
          [
           20,
           "United States",
           "Athletics",
           "Athletics Men's High Jump"
          ],
          [
           21,
           "United States",
           "Athletics",
           "Athletics Men's 800 metres"
          ],
          [
           21,
           "United States",
           "Athletics",
           "Athletics Men's 1,500 metres"
          ],
          [
           22,
           "United States",
           "Athletics",
           "Athletics Men's 10 kilometres Walk"
          ],
          [
           20,
           "Finland",
           "Athletics",
           "Athletics Men's Marathon"
          ],
          [
           20,
           "Japan",
           "Athletics",
           "Athletics Men's Marathon"
          ],
          [
           22,
           "Russia",
           "Athletics",
           "Athletics Men's Marathon"
          ],
          [
           20,
           "Hungary",
           "Athletics",
           "Athletics Men's Marathon"
          ],
          [
           26,
           "Canada",
           "Athletics",
           "Athletics Men's 5,000 metres"
          ],
          [
           26,
           "Canada",
           "Athletics",
           "Athletics Men's 10,000 metres"
          ],
          [
           20,
           "Great Britain",
           "Athletics",
           "Athletics Men's Marathon"
          ],
          [
           20,
           "United States",
           "Athletics",
           "Athletics Men's 110 metres Hurdles"
          ],
          [
           23,
           "Germany",
           "Athletics",
           "Athletics Men's 100 metres"
          ],
          [
           23,
           "Germany",
           "Athletics",
           "Athletics Men's 4 x 100 metres Relay"
          ],
          [
           28,
           "Germany",
           "Athletics",
           "Athletics Men's 100 metres"
          ],
          [
           null,
           "Russia",
           "Athletics",
           "Athletics Men's 1,500 metres"
          ],
          [
           20,
           "Great Britain",
           "Athletics",
           "Athletics Men's Long Jump"
          ],
          [
           20,
           "Great Britain",
           "Athletics",
           "Athletics Men's Standing Long Jump"
          ],
          [
           19,
           "United States",
           "Athletics",
           "Athletics Men's 1,500 metres"
          ],
          [
           19,
           "United States",
           "Athletics",
           "Athletics Men's 3,000 metres, Team"
          ],
          [
           27,
           "Sweden",
           "Athletics",
           "Athletics Men's Cross-Country, Individual"
          ],
          [
           27,
           "Sweden",
           "Athletics",
           "Athletics Men's Cross-Country, Team"
          ],
          [
           24,
           "Hungary",
           "Athletics",
           "Athletics Men's Discus Throw"
          ],
          [
           24,
           "Hungary",
           "Athletics",
           "Athletics Men's Discus Throw, Both Hands"
          ],
          [
           27,
           "Hungary",
           "Athletics",
           "Athletics Men's Discus Throw"
          ],
          [
           27,
           "Hungary",
           "Athletics",
           "Athletics Men's Javelin Throw"
          ],
          [
           27,
           "Hungary",
           "Athletics",
           "Athletics Men's Javelin Throw, Both Hands"
          ],
          [
           22,
           "Finland",
           "Athletics",
           "Athletics Men's 5,000 metres"
          ],
          [
           22,
           "Finland",
           "Athletics",
           "Athletics Men's 10,000 metres"
          ],
          [
           22,
           "Finland",
           "Athletics",
           "Athletics Men's 3,000 metres, Team"
          ],
          [
           22,
           "Finland",
           "Athletics",
           "Athletics Men's Cross-Country, Individual"
          ],
          [
           22,
           "Finland",
           "Athletics",
           "Athletics Men's Cross-Country, Team"
          ],
          [
           27,
           "Finland",
           "Athletics",
           "Athletics Men's 10,000 metres"
          ],
          [
           27,
           "Finland",
           "Athletics",
           "Athletics Men's Marathon"
          ],
          [
           30,
           "Hungary",
           "Athletics",
           "Athletics Men's Long Jump"
          ],
          [
           28,
           "United States",
           "Athletics",
           "Athletics Men's 10,000 metres"
          ],
          [
           28,
           "United States",
           "Athletics",
           "Athletics Men's Cross-Country, Individual"
          ],
          [
           28,
           "United States",
           "Athletics",
           "Athletics Men's Cross-Country, Team"
          ],
          [
           25,
           "Sweden",
           "Athletics",
           "Athletics Men's Javelin Throw"
          ],
          [
           25,
           "Sweden",
           "Athletics",
           "Athletics Men's Javelin Throw, Both Hands"
          ],
          [
           26,
           "Austria",
           "Athletics",
           "Athletics Men's 4 x 100 metres Relay"
          ],
          [
           26,
           "Austria",
           "Athletics",
           "Athletics Men's Triple Jump"
          ],
          [
           26,
           "Austria",
           "Athletics",
           "Athletics Men's Javelin Throw"
          ],
          [
           26,
           "Austria",
           "Athletics",
           "Athletics Men's Pentathlon"
          ],
          [
           21,
           "Russia",
           "Athletics",
           "Athletics Men's 1,500 metres"
          ],
          [
           21,
           "Russia",
           "Athletics",
           "Athletics Men's Marathon"
          ],
          [
           21,
           "Sweden",
           "Athletics",
           "Athletics Men's Pentathlon"
          ],
          [
           21,
           "Sweden",
           "Athletics",
           "Athletics Men's Decathlon"
          ],
          [
           23,
           "Finland",
           "Athletics",
           "Athletics Men's Long Jump"
          ],
          [
           23,
           "Finland",
           "Athletics",
           "Athletics Men's Javelin Throw"
          ],
          [
           23,
           "Finland",
           "Athletics",
           "Athletics Men's Pentathlon"
          ],
          [
           20,
           "Sweden",
           "Athletics",
           "Athletics Men's High Jump"
          ],
          [
           34,
           "Austria",
           "Athletics",
           "Athletics Men's Marathon"
          ],
          [
           21,
           "Finland",
           "Athletics",
           "Athletics Men's Cross-Country, Individual"
          ],
          [
           21,
           "Finland",
           "Athletics",
           "Athletics Men's Cross-Country, Team"
          ],
          [
           22,
           "France",
           "Athletics",
           "Athletics Men's High Jump"
          ],
          [
           18,
           "Bohemia",
           "Athletics",
           "Athletics Men's 100 metres"
          ],
          [
           18,
           "Bohemia",
           "Athletics",
           "Athletics Men's 200 metres"
          ],
          [
           18,
           "Bohemia",
           "Athletics",
           "Athletics Men's 400 metres"
          ],
          [
           33,
           "France",
           "Athletics",
           "Athletics Men's Shot Put"
          ],
          [
           33,
           "France",
           "Athletics",
           "Athletics Men's Discus Throw"
          ],
          [
           24,
           "Finland",
           "Athletics",
           "Athletics Men's High Jump"
          ],
          [
           25,
           "Denmark",
           "Athletics",
           "Athletics Men's Decathlon"
          ],
          [
           30,
           "Norway",
           "Athletics",
           "Athletics Men's Triple Jump"
          ],
          [
           24,
           "Norway",
           "Athletics",
           "Athletics Men's 800 metres"
          ],
          [
           24,
           "Norway",
           "Athletics",
           "Athletics Men's 1,500 metres"
          ],
          [
           22,
           "Sweden",
           "Athletics",
           "Athletics Men's Javelin Throw"
          ],
          [
           26,
           "Sweden",
           "Athletics",
           "Athletics Men's 10,000 metres"
          ],
          [
           26,
           "Sweden",
           "Athletics",
           "Athletics Men's Cross-Country, Individual"
          ],
          [
           26,
           "Sweden",
           "Athletics",
           "Athletics Men's Cross-Country, Team"
          ],
          [
           21,
           "Portugal",
           "Athletics",
           "Athletics Men's Marathon"
          ],
          [
           25,
           "Great Britain",
           "Athletics",
           "Athletics Men's 5,000 metres"
          ],
          [
           25,
           "Great Britain",
           "Athletics",
           "Athletics Men's 10,000 metres"
          ],
          [
           22,
           "Italy",
           "Athletics",
           "Athletics Men's Pole Vault"
          ],
          [
           22,
           "Italy",
           "Athletics",
           "Athletics Men's Long Jump"
          ],
          [
           22,
           "Italy",
           "Athletics",
           "Athletics Men's Decathlon"
          ],
          [
           21,
           "Germany",
           "Athletics",
           "Athletics Men's 400 metres"
          ],
          [
           21,
           "Germany",
           "Athletics",
           "Athletics Men's 800 metres"
          ],
          [
           21,
           "Germany",
           "Athletics",
           "Athletics Men's 4 x 400 metres Relay"
          ],
          [
           21,
           "France",
           "Athletics",
           "Athletics Men's 100 metres"
          ],
          [
           21,
           "France",
           "Athletics",
           "Athletics Men's 200 metres"
          ],
          [
           21,
           "France",
           "Athletics",
           "Athletics Men's 400 metres"
          ],
          [
           21,
           "France",
           "Athletics",
           "Athletics Men's 4 x 100 metres Relay"
          ],
          [
           21,
           "France",
           "Athletics",
           "Athletics Men's 4 x 400 metres Relay"
          ],
          [
           32,
           "Sweden",
           "Athletics",
           "Athletics Men's Discus Throw, Both Hands"
          ],
          [
           32,
           "Sweden",
           "Athletics",
           "Athletics Men's Javelin Throw"
          ],
          [
           32,
           "Sweden",
           "Athletics",
           "Athletics Men's Javelin Throw, Both Hands"
          ],
          [
           25,
           "Sweden",
           "Athletics",
           "Athletics Men's Pentathlon"
          ],
          [
           20,
           "Italy",
           "Athletics",
           "Athletics Men's Shot Put"
          ],
          [
           20,
           "Italy",
           "Athletics",
           "Athletics Men's Discus Throw"
          ],
          [
           18,
           "Russia",
           "Athletics",
           "Athletics Men's 100 metres"
          ],
          [
           20,
           "Germany",
           "Athletics",
           "Athletics Men's High Jump"
          ],
          [
           24,
           "United States",
           "Athletics",
           "Athletics Men's Marathon"
          ],
          [
           28,
           "Sweden",
           "Athletics",
           "Athletics Men's Discus Throw"
          ],
          [
           28,
           "Sweden",
           "Athletics",
           "Athletics Men's Discus Throw, Both Hands"
          ],
          [
           28,
           "Sweden",
           "Athletics",
           "Athletics Men's Hammer Throw"
          ],
          [
           26,
           "Sweden",
           "Athletics",
           "Athletics Men's Cross-Country, Individual"
          ],
          [
           26,
           "Sweden",
           "Athletics",
           "Athletics Men's Cross-Country, Team"
          ],
          [
           25,
           "United States",
           "Athletics",
           "Athletics Men's 400 metres"
          ],
          [
           25,
           "United States",
           "Athletics",
           "Athletics Men's 4 x 400 metres Relay"
          ],
          [
           30,
           "Sweden",
           "Athletics",
           "Athletics Men's 100 metres"
          ],
          [
           30,
           "Sweden",
           "Athletics",
           "Athletics Men's 200 metres"
          ],
          [
           30,
           "Sweden",
           "Athletics",
           "Athletics Men's 4 x 100 metres Relay"
          ],
          [
           19,
           "Sweden",
           "Athletics",
           "Athletics Men's 200 metres"
          ],
          [
           20,
           "Sweden",
           "Athletics",
           "Athletics Men's Triple Jump"
          ],
          [
           21,
           "Sweden",
           "Athletics",
           "Athletics Men's Discus Throw, Both Hands"
          ],
          [
           21,
           "Sweden",
           "Athletics",
           "Athletics Men's Hammer Throw"
          ],
          [
           23,
           "Finland",
           "Athletics",
           "Athletics Men's 5,000 metres"
          ],
          [
           23,
           "Finland",
           "Athletics",
           "Athletics Men's 3,000 metres, Team"
          ],
          [
           23,
           "Finland",
           "Athletics",
           "Athletics Men's Cross-Country, Individual"
          ],
          [
           23,
           "Finland",
           "Athletics",
           "Athletics Men's Cross-Country, Team"
          ],
          [
           21,
           "Sweden",
           "Athletics",
           "Athletics Men's 400 metres"
          ],
          [
           21,
           "Sweden",
           "Athletics",
           "Athletics Men's 800 metres"
          ],
          [
           21,
           "Sweden",
           "Athletics",
           "Athletics Men's 4 x 400 metres Relay"
          ],
          [
           19,
           "Sweden",
           "Athletics",
           "Athletics Men's Triple Jump"
          ],
          [
           19,
           "Sweden",
           "Athletics",
           "Athletics Men's Pentathlon"
          ],
          [
           18,
           "United States",
           "Athletics",
           "Athletics Men's 100 metres"
          ],
          [
           18,
           "United States",
           "Athletics",
           "Athletics Men's 200 metres"
          ],
          [
           19,
           "Sweden",
           "Athletics",
           "Athletics Men's Standing Long Jump"
          ],
          [
           25,
           "Great Britain",
           "Athletics",
           "Athletics Men's Marathon"
          ],
          [
           26,
           "Denmark",
           "Athletics",
           "Athletics Men's Marathon"
          ],
          [
           25,
           "Sweden",
           "Athletics",
           "Athletics Men's Long Jump"
          ],
          [
           25,
           "Sweden",
           "Athletics",
           "Athletics Men's Pentathlon"
          ],
          [
           25,
           "Sweden",
           "Athletics",
           "Athletics Men's Decathlon"
          ],
          [
           20,
           "Sweden",
           "Athletics",
           "Athletics Men's Marathon"
          ],
          [
           33,
           "Great Britain",
           "Athletics",
           "Athletics Men's Marathon"
          ],
          [
           22,
           "Hungary",
           "Athletics",
           "Athletics Men's High Jump"
          ],
          [
           26,
           "Canada",
           "Athletics",
           "Athletics Men's 100 metres"
          ],
          [
           26,
           "Canada",
           "Athletics",
           "Athletics Men's 110 metres Hurdles"
          ],
          [
           26,
           "Canada",
           "Athletics",
           "Athletics Men's 4 x 100 metres Relay"
          ],
          [
           26,
           "Canada",
           "Athletics",
           "Athletics Men's Pentathlon"
          ],
          [
           26,
           "Canada",
           "Athletics",
           "Athletics Men's Decathlon"
          ],
          [
           24,
           "Russia",
           "Athletics",
           "Athletics Men's 10 kilometres Walk"
          ],
          [
           33,
           "Sweden",
           "Athletics",
           "Athletics Men's Marathon"
          ],
          [
           23,
           "Sweden",
           "Athletics",
           "Athletics Men's 5,000 metres"
          ],
          [
           23,
           "Sweden",
           "Athletics",
           "Athletics Men's Cross-Country, Individual"
          ],
          [
           23,
           "Sweden",
           "Athletics",
           "Athletics Men's Cross-Country, Team"
          ],
          [
           25,
           "Italy",
           "Athletics",
           "Athletics Men's 400 metres"
          ],
          [
           25,
           "Italy",
           "Athletics",
           "Athletics Men's 800 metres"
          ],
          [
           25,
           "Hungary",
           "Athletics",
           "Athletics Men's Discus Throw"
          ],
          [
           25,
           "Hungary",
           "Athletics",
           "Athletics Men's Discus Throw, Both Hands"
          ],
          [
           26,
           "Sweden",
           "Athletics",
           "Athletics Men's 100 metres"
          ],
          [
           26,
           "Sweden",
           "Athletics",
           "Athletics Men's 200 metres"
          ],
          [
           26,
           "Sweden",
           "Athletics",
           "Athletics Men's 4 x 100 metres Relay"
          ],
          [
           19,
           "Great Britain",
           "Athletics",
           "Athletics Men's 100 metres"
          ],
          [
           19,
           "Great Britain",
           "Athletics",
           "Athletics Men's 200 metres"
          ],
          [
           19,
           "Great Britain",
           "Athletics",
           "Athletics Men's 4 x 100 metres Relay"
          ],
          [
           21,
           "Great Britain",
           "Athletics",
           "Athletics Men's 100 metres"
          ],
          [
           21,
           "Great Britain",
           "Athletics",
           "Athletics Men's 200 metres"
          ],
          [
           20,
           "United States",
           "Athletics",
           "Athletics Men's 1,500 metres"
          ],
          [
           24,
           "Sweden",
           "Athletics",
           "Athletics Men's Discus Throw"
          ],
          [
           24,
           "Sweden",
           "Athletics",
           "Athletics Men's Discus Throw, Both Hands"
          ],
          [
           24,
           "United States",
           "Athletics",
           "Athletics Men's 10,000 metres"
          ],
          [
           33,
           "France",
           "Athletics",
           "Athletics Men's 200 metres"
          ],
          [
           33,
           "France",
           "Athletics",
           "Athletics Men's 400 metres"
          ],
          [
           22,
           "Sweden",
           "Athletics",
           "Athletics Men's Standing Long Jump"
          ],
          [
           23,
           "Great Britain",
           "Athletics",
           "Athletics Men's 800 metres"
          ],
          [
           24,
           "Canada",
           "Athletics",
           "Athletics Men's Long Jump"
          ],
          [
           24,
           "Canada",
           "Athletics",
           "Athletics Men's Standing Long Jump"
          ],
          [
           24,
           "Canada",
           "Athletics",
           "Athletics Men's Triple Jump"
          ],
          [
           19,
           "Russia",
           "Athletics",
           "Athletics Men's Pole Vault"
          ],
          [
           20,
           "Sweden",
           "Athletics",
           "Athletics Men's High Jump"
          ],
          [
           30,
           "South Africa",
           "Athletics",
           "Athletics Men's Marathon"
          ],
          [
           19,
           "United States",
           "Athletics",
           "Athletics Men's 800 metres"
          ],
          [
           19,
           "United States",
           "Athletics",
           "Athletics Men's 1,500 metres"
          ],
          [
           25,
           "Canada",
           "Athletics",
           "Athletics Men's 100 metres"
          ],
          [
           25,
           "Canada",
           "Athletics",
           "Athletics Men's 200 metres"
          ],
          [
           25,
           "Canada",
           "Athletics",
           "Athletics Men's 4 x 100 metres Relay"
          ],
          [
           19,
           "United States",
           "Athletics",
           "Athletics Men's 5,000 metres"
          ],
          [
           33,
           "United States",
           "Athletics",
           "Athletics Men's Shot Put"
          ],
          [
           33,
           "United States",
           "Athletics",
           "Athletics Men's Shot Put, Both Hands"
          ],
          [
           36,
           "United States",
           "Athletics",
           "Athletics Men's Hammer Throw"
          ],
          [
           22,
           "France",
           "Athletics",
           "Athletics Men's High Jump"
          ],
          [
           16,
           "Sweden",
           "Athletics",
           "Athletics Men's Standing Long Jump"
          ],
          [
           24,
           "United States",
           "Athletics",
           "Athletics Men's Pentathlon"
          ],
          [
           23,
           "United States",
           "Athletics",
           "Athletics Men's Long Jump"
          ],
          [
           23,
           "United States",
           "Athletics",
           "Athletics Men's Decathlon"
          ],
          [
           20,
           "United States",
           "Athletics",
           "Athletics Men's 400 metres"
          ],
          [
           20,
           "United States",
           "Athletics",
           "Athletics Men's 800 metres"
          ],
          [
           20,
           "United States",
           "Athletics",
           "Athletics Men's 4 x 400 metres Relay"
          ],
          [
           30,
           "Bohemia",
           "Athletics",
           "Athletics Men's 800 metres"
          ],
          [
           23,
           "United States",
           "Athletics",
           "Athletics Men's 100 metres"
          ],
          [
           23,
           "United States",
           "Athletics",
           "Athletics Men's 200 metres"
          ],
          [
           19,
           "Germany",
           "Athletics",
           "Athletics Men's 1,500 metres"
          ],
          [
           19,
           "Germany",
           "Athletics",
           "Athletics Men's 3,000 metres, Team"
          ],
          [
           17,
           "Serbia",
           "Athletics",
           "Athletics Men's 100 metres"
          ],
          [
           26,
           "Japan",
           "Athletics",
           "Athletics Men's 100 metres"
          ],
          [
           26,
           "Japan",
           "Athletics",
           "Athletics Men's 200 metres"
          ],
          [
           26,
           "Japan",
           "Athletics",
           "Athletics Men's 400 metres"
          ],
          [
           29,
           "Turkey",
           "Athletics",
           "Athletics Men's Shot Put"
          ],
          [
           29,
           "Turkey",
           "Athletics",
           "Athletics Men's Shot Put, Both Hands"
          ],
          [
           29,
           "Turkey",
           "Athletics",
           "Athletics Men's Discus Throw"
          ],
          [
           29,
           "Turkey",
           "Athletics",
           "Athletics Men's Pentathlon"
          ],
          [
           29,
           "Turkey",
           "Athletics",
           "Athletics Men's Decathlon"
          ],
          [
           21,
           "Sweden",
           "Athletics",
           "Athletics Men's 5,000 metres"
          ],
          [
           24,
           "Sweden",
           "Athletics",
           "Athletics Men's Standing High Jump"
          ],
          [
           24,
           "Sweden",
           "Athletics",
           "Athletics Men's Standing Long Jump"
          ],
          [
           24,
           "Sweden",
           "Athletics",
           "Athletics Men's 200 metres"
          ],
          [
           24,
           "Sweden",
           "Athletics",
           "Athletics Men's 400 metres"
          ],
          [
           26,
           "Sweden",
           "Athletics",
           "Athletics Men's Discus Throw"
          ],
          [
           28,
           "Sweden",
           "Athletics",
           "Athletics Men's 100 metres"
          ],
          [
           28,
           "Sweden",
           "Athletics",
           "Athletics Men's 200 metres"
          ],
          [
           28,
           "Sweden",
           "Athletics",
           "Athletics Men's 4 x 100 metres Relay"
          ],
          [
           null,
           "Russia",
           "Athletics",
           "Athletics Men's Discus Throw, Both Hands"
          ],
          [
           24,
           "Norway",
           "Athletics",
           "Athletics Men's High Jump"
          ],
          [
           22,
           "Great Britain",
           "Athletics",
           "Athletics Men's 1,500 metres"
          ],
          [
           22,
           "Great Britain",
           "Athletics",
           "Athletics Men's 3,000 metres, Team"
          ],
          [
           24,
           "France",
           "Athletics",
           "Athletics Men's Standing Long Jump"
          ],
          [
           18,
           "France",
           "Athletics",
           "Athletics Men's 100 metres"
          ],
          [
           18,
           "France",
           "Athletics",
           "Athletics Men's 4 x 100 metres Relay"
          ],
          [
           20,
           "United States",
           "Athletics",
           "Athletics Men's Discus Throw"
          ],
          [
           20,
           "United States",
           "Athletics",
           "Athletics Men's Discus Throw, Both Hands"
          ],
          [
           24,
           "Hungary",
           "Athletics",
           "Athletics Men's Shot Put"
          ],
          [
           23,
           "Chile",
           "Athletics",
           "Athletics Men's 800 metres"
          ],
          [
           21,
           "United States",
           "Athletics",
           "Athletics Men's Discus Throw"
          ],
          [
           21,
           "United States",
           "Athletics",
           "Athletics Men's Discus Throw, Both Hands"
          ],
          [
           22,
           "United States",
           "Athletics",
           "Athletics Men's Pole Vault"
          ],
          [
           30,
           "Australasia",
           "Athletics",
           "Athletics Men's 10 kilometres Walk"
          ],
          [
           19,
           "Finland",
           "Athletics",
           "Athletics Men's Javelin Throw"
          ],
          [
           null,
           "Russia",
           "Athletics",
           "Athletics Men's 800 metres"
          ],
          [
           null,
           "Russia",
           "Athletics",
           "Athletics Men's 1,500 metres"
          ],
          [
           null,
           "Russia",
           "Athletics",
           "Athletics Men's Discus Throw"
          ],
          [
           null,
           "Russia",
           "Athletics",
           "Athletics Men's Javelin Throw"
          ],
          [
           24,
           "United States",
           "Athletics",
           "Athletics Men's Pole Vault"
          ],
          [
           22,
           "United States",
           "Athletics",
           "Athletics Men's 110 metres Hurdles"
          ],
          [
           22,
           "United States",
           "Athletics",
           "Athletics Men's High Jump"
          ],
          [
           25,
           "Great Britain",
           "Athletics",
           "Athletics Men's 400 metres"
          ],
          [
           25,
           "Great Britain",
           "Athletics",
           "Athletics Men's 4 x 400 metres Relay"
          ],
          [
           22,
           "Finland",
           "Athletics",
           "Athletics Men's Shot Put"
          ],
          [
           22,
           "Finland",
           "Athletics",
           "Athletics Men's Shot Put, Both Hands"
          ],
          [
           22,
           "Finland",
           "Athletics",
           "Athletics Men's Discus Throw"
          ],
          [
           22,
           "Finland",
           "Athletics",
           "Athletics Men's Discus Throw, Both Hands"
          ],
          [
           null,
           "Russia",
           "Athletics",
           "Athletics Men's 5,000 metres"
          ],
          [
           null,
           "Russia",
           "Athletics",
           "Athletics Men's 10,000 metres"
          ],
          [
           23,
           "Sweden",
           "Athletics",
           "Athletics Men's Marathon"
          ],
          [
           20,
           "Sweden",
           "Athletics",
           "Athletics Men's Shot Put"
          ],
          [
           20,
           "Sweden",
           "Athletics",
           "Athletics Men's Shot Put, Both Hands"
          ],
          [
           20,
           "Sweden",
           "Athletics",
           "Athletics Men's Discus Throw"
          ],
          [
           20,
           "Sweden",
           "Athletics",
           "Athletics Men's Discus Throw, Both Hands"
          ],
          [
           20,
           "Sweden",
           "Athletics",
           "Athletics Men's Pentathlon"
          ],
          [
           20,
           "Sweden",
           "Athletics",
           "Athletics Men's Decathlon"
          ],
          [
           22,
           "Sweden",
           "Athletics",
           "Athletics Men's Discus Throw"
          ],
          [
           22,
           "Sweden",
           "Athletics",
           "Athletics Men's Discus Throw, Both Hands"
          ],
          [
           23,
           "Sweden",
           "Athletics",
           "Athletics Men's Pole Vault"
          ],
          [
           32,
           "Sweden",
           "Athletics",
           "Athletics Men's Discus Throw"
          ],
          [
           32,
           "Sweden",
           "Athletics",
           "Athletics Men's Javelin Throw"
          ],
          [
           32,
           "Sweden",
           "Athletics",
           "Athletics Men's Javelin Throw, Both Hands"
          ],
          [
           27,
           "Sweden",
           "Athletics",
           "Athletics Men's Triple Jump"
          ],
          [
           21,
           "Sweden",
           "Athletics",
           "Athletics Men's 5,000 metres"
          ],
          [
           21,
           "Sweden",
           "Athletics",
           "Athletics Men's Cross-Country, Individual"
          ],
          [
           21,
           "Sweden",
           "Athletics",
           "Athletics Men's Cross-Country, Team"
          ],
          [
           23,
           "Sweden",
           "Athletics",
           "Athletics Men's 10,000 metres"
          ],
          [
           24,
           "Great Britain",
           "Athletics",
           "Athletics Men's High Jump"
          ],
          [
           20,
           "Sweden",
           "Athletics",
           "Athletics Men's Triple Jump"
          ],
          [
           22,
           "Sweden",
           "Athletics",
           "Athletics Men's Long Jump"
          ],
          [
           22,
           "Sweden",
           "Athletics",
           "Athletics Men's Triple Jump"
          ],
          [
           35,
           "Sweden",
           "Athletics",
           "Athletics Men's Javelin Throw"
          ],
          [
           35,
           "Sweden",
           "Athletics",
           "Athletics Men's Javelin Throw, Both Hands"
          ],
          [
           20,
           "United States",
           "Athletics",
           "Athletics Men's High Jump"
          ],
          [
           19,
           "Norway",
           "Athletics",
           "Athletics Men's High Jump"
          ],
          [
           29,
           "Sweden",
           "Athletics",
           "Athletics Men's Hammer Throw"
          ],
          [
           18,
           "Sweden",
           "Athletics",
           "Athletics Men's Javelin Throw"
          ],
          [
           25,
           "Sweden",
           "Athletics",
           "Athletics Men's 5,000 metres"
          ],
          [
           25,
           "Sweden",
           "Athletics",
           "Athletics Men's 3,000 metres, Team"
          ],
          [
           19,
           "Italy",
           "Athletics",
           "Athletics Men's 5,000 metres"
          ],
          [
           19,
           "Italy",
           "Athletics",
           "Athletics Men's 10,000 metres"
          ],
          [
           29,
           "Norway",
           "Athletics",
           "Athletics Men's Marathon"
          ],
          [
           25,
           "Great Britain",
           "Athletics",
           "Athletics Men's 1,500 metres"
          ],
          [
           25,
           "Great Britain",
           "Athletics",
           "Athletics Men's 3,000 metres, Team"
          ],
          [
           23,
           "Russia",
           "Athletics",
           "Athletics Men's Shot Put"
          ],
          [
           24,
           "Italy",
           "Athletics",
           "Athletics Men's 110 metres Hurdles"
          ],
          [
           24,
           "Italy",
           "Athletics",
           "Athletics Men's High Jump"
          ],
          [
           24,
           "Italy",
           "Athletics",
           "Athletics Men's Long Jump"
          ],
          [
           24,
           "Italy",
           "Athletics",
           "Athletics Men's Pentathlon"
          ],
          [
           24,
           "Italy",
           "Athletics",
           "Athletics Men's Decathlon"
          ],
          [
           21,
           "Chile",
           "Athletics",
           "Athletics Men's 800 metres"
          ],
          [
           30,
           "Great Britain",
           "Athletics",
           "Athletics Men's 10 kilometres Walk"
          ],
          [
           24,
           "France",
           "Athletics",
           "Athletics Men's Shot Put"
          ],
          [
           19,
           "Turkey",
           "Athletics",
           "Athletics Men's 800 metres"
          ],
          [
           19,
           "Turkey",
           "Athletics",
           "Athletics Men's 1,500 metres"
          ],
          [
           25,
           "Germany",
           "Athletics",
           "Athletics Men's Pole Vault"
          ],
          [
           25,
           "Germany",
           "Athletics",
           "Athletics Men's Long Jump"
          ],
          [
           25,
           "South Africa",
           "Athletics",
           "Athletics Men's 100 metres"
          ],
          [
           25,
           "South Africa",
           "Athletics",
           "Athletics Men's 200 metres"
          ],
          [
           25,
           "South Africa",
           "Athletics",
           "Athletics Men's 400 metres"
          ],
          [
           26,
           "Great Britain",
           "Athletics",
           "Athletics Men's 400 metres"
          ],
          [
           26,
           "Great Britain",
           "Athletics",
           "Athletics Men's 800 metres"
          ],
          [
           25,
           "United States",
           "Athletics",
           "Athletics Men's 1,500 metres"
          ],
          [
           29,
           "France",
           "Athletics",
           "Athletics Men's Marathon"
          ],
          [
           21,
           "Norway",
           "Athletics",
           "Athletics Men's 100 metres"
          ],
          [
           21,
           "Norway",
           "Athletics",
           "Athletics Men's 400 metres"
          ],
          [
           23,
           "Denmark",
           "Athletics",
           "Athletics Men's 10 kilometres Walk"
          ],
          [
           23,
           "Norway",
           "Athletics",
           "Athletics Men's 400 metres"
          ],
          [
           23,
           "Norway",
           "Athletics",
           "Athletics Men's 800 metres"
          ],
          [
           23,
           "Norway",
           "Athletics",
           "Athletics Men's 1,500 metres"
          ],
          [
           23,
           "Denmark",
           "Athletics",
           "Athletics Men's Cross-Country, Individual"
          ],
          [
           23,
           "Denmark",
           "Athletics",
           "Athletics Men's Cross-Country, Team"
          ],
          [
           24,
           "Luxembourg",
           "Athletics",
           "Athletics Men's Shot Put"
          ],
          [
           24,
           "Luxembourg",
           "Athletics",
           "Athletics Men's Discus Throw"
          ],
          [
           19,
           "Finland",
           "Athletics",
           "Athletics Men's Javelin Throw"
          ],
          [
           19,
           "Finland",
           "Athletics",
           "Athletics Men's Javelin Throw, Both Hands"
          ],
          [
           18,
           "Bohemia",
           "Athletics",
           "Athletics Men's 10,000 metres"
          ],
          [
           18,
           "Bohemia",
           "Athletics",
           "Athletics Men's Marathon"
          ],
          [
           23,
           "Germany",
           "Athletics",
           "Athletics Men's 400 metres"
          ],
          [
           23,
           "Germany",
           "Athletics",
           "Athletics Men's 800 metres"
          ],
          [
           19,
           "Sweden",
           "Athletics",
           "Athletics Men's 100 metres"
          ],
          [
           19,
           "Sweden",
           "Athletics",
           "Athletics Men's 200 metres"
          ],
          [
           19,
           "Sweden",
           "Athletics",
           "Athletics Men's 4 x 100 metres Relay"
          ],
          [
           25,
           "Sweden",
           "Athletics",
           "Athletics Men's 5,000 metres"
          ],
          [
           25,
           "Sweden",
           "Athletics",
           "Athletics Men's 10,000 metres"
          ],
          [
           24,
           "Russia",
           "Athletics",
           "Athletics Men's 1,500 metres"
          ],
          [
           27,
           "United States",
           "Athletics",
           "Athletics Men's Shot Put"
          ],
          [
           27,
           "United States",
           "Athletics",
           "Athletics Men's Discus Throw"
          ],
          [
           27,
           "United States",
           "Athletics",
           "Athletics Men's Decathlon"
          ],
          [
           23,
           "United States",
           "Athletics",
           "Athletics Men's Marathon"
          ],
          [
           24,
           "Finland",
           "Athletics",
           "Athletics Men's 800 metres"
          ],
          [
           21,
           "Austria",
           "Athletics",
           "Athletics Men's 200 metres"
          ],
          [
           21,
           "Austria",
           "Athletics",
           "Athletics Men's 400 metres"
          ],
          [
           22,
           "Great Britain",
           "Athletics",
           "Athletics Men's 5,000 metres"
          ],
          [
           22,
           "Great Britain",
           "Athletics",
           "Athletics Men's 3,000 metres, Team"
          ],
          [
           27,
           "France",
           "Athletics",
           "Athletics Men's 200 metres"
          ],
          [
           27,
           "France",
           "Athletics",
           "Athletics Men's 400 metres"
          ],
          [
           27,
           "France",
           "Athletics",
           "Athletics Men's 800 metres"
          ],
          [
           27,
           "France",
           "Athletics",
           "Athletics Men's 4 x 400 metres Relay"
          ],
          [
           23,
           "Australasia",
           "Athletics",
           "Athletics Men's Marathon"
          ],
          [
           22,
           "South Africa",
           "Athletics",
           "Athletics Men's 100 metres"
          ],
          [
           22,
           "South Africa",
           "Athletics",
           "Athletics Men's 200 metres"
          ],
          [
           27,
           "Great Britain",
           "Athletics",
           "Athletics Men's 110 metres Hurdles"
          ],
          [
           22,
           "United States",
           "Athletics",
           "Athletics Men's 110 metres Hurdles"
          ],
          [
           21,
           "United States",
           "Athletics",
           "Athletics Men's 800 metres"
          ],
          [
           21,
           "United States",
           "Athletics",
           "Athletics Men's 1,500 metres"
          ],
          [
           26,
           "Great Britain",
           "Athletics",
           "Athletics Men's Shot Put"
          ],
          [
           23,
           "Hungary",
           "Athletics",
           "Athletics Men's 100 metres"
          ],
          [
           23,
           "Hungary",
           "Athletics",
           "Athletics Men's 4 x 100 metres Relay"
          ],
          [
           26,
           "Hungary",
           "Athletics",
           "Athletics Men's 800 metres"
          ],
          [
           22,
           "Denmark",
           "Athletics",
           "Athletics Men's 10 kilometres Walk"
          ],
          [
           23,
           "Denmark",
           "Athletics",
           "Athletics Men's Cross-Country, Individual"
          ],
          [
           23,
           "Denmark",
           "Athletics",
           "Athletics Men's Cross-Country, Team"
          ],
          [
           21,
           "Russia",
           "Athletics",
           "Athletics Men's Marathon"
          ],
          [
           28,
           "Austria",
           "Athletics",
           "Athletics Men's Marathon"
          ],
          [
           28,
           "Austria",
           "Athletics",
           "Athletics Men's Cross-Country, Individual"
          ],
          [
           22,
           "Germany",
           "Athletics",
           "Athletics Men's 100 metres"
          ],
          [
           22,
           "Germany",
           "Athletics",
           "Athletics Men's 200 metres"
          ],
          [
           22,
           "Germany",
           "Athletics",
           "Athletics Men's 4 x 100 metres Relay"
          ],
          [
           19,
           "Austria",
           "Athletics",
           "Athletics Men's 100 metres"
          ],
          [
           19,
           "Austria",
           "Athletics",
           "Athletics Men's 200 metres"
          ],
          [
           19,
           "Austria",
           "Athletics",
           "Athletics Men's 4 x 100 metres Relay"
          ],
          [
           22,
           "United States",
           "Athletics",
           "Athletics Men's 200 metres"
          ],
          [
           22,
           "United States",
           "Athletics",
           "Athletics Men's 400 metres"
          ],
          [
           22,
           "United States",
           "Athletics",
           "Athletics Men's 4 x 400 metres Relay"
          ],
          [
           19,
           "Russia",
           "Athletics",
           "Athletics Men's Marathon"
          ],
          [
           20,
           "United States",
           "Athletics",
           "Athletics Men's 10 kilometres Walk"
          ],
          [
           22,
           "United States",
           "Athletics",
           "Athletics Men's Marathon"
          ],
          [
           26,
           "Great Britain",
           "Athletics",
           "Athletics Men's 100 metres"
          ],
          [
           26,
           "Great Britain",
           "Athletics",
           "Athletics Men's 200 metres"
          ],
          [
           22,
           "United States",
           "Athletics",
           "Athletics Men's High Jump"
          ],
          [
           30,
           "South Africa",
           "Athletics",
           "Athletics Men's 10,000 metres"
          ],
          [
           30,
           "South Africa",
           "Athletics",
           "Athletics Men's Cross-Country, Individual"
          ],
          [
           29,
           "Bohemia",
           "Athletics",
           "Athletics Men's 10 kilometres Walk"
          ],
          [
           23,
           "Hungary",
           "Athletics",
           "Athletics Men's Marathon"
          ],
          [
           23,
           "Hungary",
           "Athletics",
           "Athletics Men's 10 kilometres Walk"
          ],
          [
           20,
           "Germany",
           "Athletics",
           "Athletics Men's 4 x 100 metres Relay"
          ],
          [
           20,
           "Germany",
           "Athletics",
           "Athletics Men's High Jump"
          ],
          [
           20,
           "Germany",
           "Athletics",
           "Athletics Men's Decathlon"
          ],
          [
           22,
           "France",
           "Athletics",
           "Athletics Men's 100 metres"
          ],
          [
           22,
           "France",
           "Athletics",
           "Athletics Men's 200 metres"
          ],
          [
           22,
           "France",
           "Athletics",
           "Athletics Men's 400 metres"
          ],
          [
           22,
           "France",
           "Athletics",
           "Athletics Men's 4 x 100 metres Relay"
          ],
          [
           28,
           "Sweden",
           "Athletics",
           "Athletics Men's Decathlon"
          ],
          [
           28,
           "United States",
           "Athletics",
           "Athletics Men's Shot Put"
          ],
          [
           28,
           "United States",
           "Athletics",
           "Athletics Men's Shot Put, Both Hands"
          ],
          [
           28,
           "United States",
           "Athletics",
           "Athletics Men's Discus Throw"
          ],
          [
           28,
           "United States",
           "Athletics",
           "Athletics Men's Hammer Throw"
          ],
          [
           25,
           "United States",
           "Athletics",
           "Athletics Men's 400 metres"
          ],
          [
           18,
           "Australasia",
           "Athletics",
           "Athletics Men's 400 metres"
          ],
          [
           23,
           "Great Britain",
           "Athletics",
           "Athletics Men's 1,500 metres"
          ],
          [
           23,
           "Great Britain",
           "Athletics",
           "Athletics Men's 5,000 metres"
          ],
          [
           23,
           "Great Britain",
           "Athletics",
           "Athletics Men's 10,000 metres"
          ],
          [
           19,
           "Italy",
           "Athletics",
           "Athletics Men's Marathon"
          ],
          [
           21,
           "Russia",
           "Athletics",
           "Athletics Men's 1,500 metres"
          ],
          [
           23,
           "United States",
           "Athletics",
           "Athletics Men's Marathon"
          ],
          [
           20,
           "Finland",
           "Athletics",
           "Athletics Men's Javelin Throw"
          ],
          [
           20,
           "Finland",
           "Athletics",
           "Athletics Men's Javelin Throw, Both Hands"
          ],
          [
           24,
           "Greece",
           "Athletics",
           "Athletics Men's Marathon"
          ],
          [
           22,
           "Chile",
           "Athletics",
           "Athletics Men's 10 kilometres Walk"
          ],
          [
           20,
           "Chile",
           "Athletics",
           "Athletics Men's 5,000 metres"
          ],
          [
           20,
           "Chile",
           "Athletics",
           "Athletics Men's 10,000 metres"
          ],
          [
           25,
           "Sweden",
           "Athletics",
           "Athletics Men's Pole Vault"
          ],
          [
           17,
           "Hungary",
           "Athletics",
           "Athletics Men's 1,500 metres"
          ],
          [
           20,
           "Austria",
           "Athletics",
           "Athletics Men's Shot Put"
          ],
          [
           20,
           "Austria",
           "Athletics",
           "Athletics Men's Discus Throw"
          ],
          [
           20,
           "Austria",
           "Athletics",
           "Athletics Men's Discus Throw, Both Hands"
          ],
          [
           20,
           "Austria",
           "Athletics",
           "Athletics Men's Decathlon"
          ],
          [
           19,
           "Russia",
           "Athletics",
           "Athletics Men's Long Jump"
          ],
          [
           19,
           "Russia",
           "Athletics",
           "Athletics Men's Decathlon"
          ],
          [
           22,
           "France",
           "Athletics",
           "Athletics Men's 100 metres"
          ],
          [
           22,
           "France",
           "Athletics",
           "Athletics Men's 200 metres"
          ],
          [
           22,
           "France",
           "Athletics",
           "Athletics Men's 400 metres"
          ],
          [
           22,
           "France",
           "Athletics",
           "Athletics Men's 4 x 400 metres Relay"
          ],
          [
           29,
           "United States",
           "Athletics",
           "Athletics Men's 10 kilometres Walk"
          ],
          [
           24,
           "Russia",
           "Athletics",
           "Athletics Men's Standing High Jump"
          ],
          [
           22,
           "Russia",
           "Athletics",
           "Athletics Men's 100 metres"
          ],
          [
           22,
           "United States",
           "Athletics",
           "Athletics Men's 5,000 metres"
          ],
          [
           22,
           "United States",
           "Athletics",
           "Athletics Men's 10,000 metres"
          ],
          [
           22,
           "United States",
           "Athletics",
           "Athletics Men's 3,000 metres, Team"
          ],
          [
           22,
           "United States",
           "Athletics",
           "Athletics Men's Cross-Country, Individual"
          ],
          [
           22,
           "United States",
           "Athletics",
           "Athletics Men's Cross-Country, Team"
          ],
          [
           26,
           "Great Britain",
           "Athletics",
           "Athletics Men's 10,000 metres"
          ],
          [
           26,
           "Great Britain",
           "Athletics",
           "Athletics Men's Cross-Country, Individual"
          ],
          [
           26,
           "Great Britain",
           "Athletics",
           "Athletics Men's Cross-Country, Team"
          ],
          [
           20,
           "Great Britain",
           "Athletics",
           "Athletics Men's 200 metres"
          ],
          [
           20,
           "Great Britain",
           "Athletics",
           "Athletics Men's 400 metres"
          ],
          [
           20,
           "Great Britain",
           "Athletics",
           "Athletics Men's 4 x 400 metres Relay"
          ],
          [
           28,
           "United States",
           "Athletics",
           "Athletics Men's 400 metres"
          ],
          [
           28,
           "United States",
           "Athletics",
           "Athletics Men's 800 metres"
          ],
          [
           28,
           "United States",
           "Athletics",
           "Athletics Men's 1,500 metres"
          ],
          [
           28,
           "United States",
           "Athletics",
           "Athletics Men's 4 x 400 metres Relay"
          ],
          [
           31,
           "United States",
           "Athletics",
           "Athletics Men's Hammer Throw"
          ],
          [
           25,
           "Finland",
           "Athletics",
           "Athletics Men's Javelin Throw"
          ],
          [
           25,
           "Finland",
           "Athletics",
           "Athletics Men's Javelin Throw, Both Hands"
          ],
          [
           25,
           "Norway",
           "Athletics",
           "Athletics Men's Marathon"
          ],
          [
           21,
           "Sweden",
           "Athletics",
           "Athletics Men's High Jump"
          ],
          [
           21,
           "Sweden",
           "Athletics",
           "Athletics Men's Pole Vault"
          ],
          [
           23,
           "Bohemia",
           "Athletics",
           "Athletics Men's Marathon"
          ],
          [
           26,
           "Sweden",
           "Athletics",
           "Athletics Men's 100 metres"
          ],
          [
           26,
           "Sweden",
           "Athletics",
           "Athletics Men's Standing High Jump"
          ],
          [
           23,
           "United States",
           "Athletics",
           "Athletics Men's Marathon"
          ],
          [
           21,
           "United States",
           "Athletics",
           "Athletics Men's Marathon"
          ],
          [
           17,
           "Hungary",
           "Athletics",
           "Athletics Men's 110 metres Hurdles"
          ],
          [
           22,
           "Sweden",
           "Athletics",
           "Athletics Men's Javelin Throw"
          ],
          [
           22,
           "Sweden",
           "Athletics",
           "Athletics Men's Javelin Throw, Both Hands"
          ],
          [
           23,
           "Norway",
           "Athletics",
           "Athletics Men's 100 metres"
          ],
          [
           23,
           "Norway",
           "Athletics",
           "Athletics Men's 200 metres"
          ],
          [
           27,
           "Great Britain",
           "Athletics",
           "Athletics Men's 400 metres"
          ],
          [
           27,
           "Great Britain",
           "Athletics",
           "Athletics Men's 800 metres"
          ],
          [
           27,
           "Great Britain",
           "Athletics",
           "Athletics Men's 4 x 400 metres Relay"
          ],
          [
           16,
           "Italy",
           "Athletics",
           "Athletics Men's Marathon"
          ],
          [
           33,
           "South Africa",
           "Athletics",
           "Athletics Men's Marathon"
          ],
          [
           33,
           "South Africa",
           "Athletics",
           "Athletics Men's 10 kilometres Walk"
          ],
          [
           22,
           "Sweden",
           "Athletics",
           "Athletics Men's 200 metres"
          ],
          [
           22,
           "Sweden",
           "Athletics",
           "Athletics Men's 400 metres"
          ],
          [
           22,
           "Sweden",
           "Athletics",
           "Athletics Men's 4 x 400 metres Relay"
          ],
          [
           23,
           "Finland",
           "Athletics",
           "Athletics Men's 10,000 metres"
          ],
          [
           23,
           "Finland",
           "Athletics",
           "Athletics Men's 3,000 metres, Team"
          ],
          [
           23,
           "Finland",
           "Athletics",
           "Athletics Men's Cross-Country, Individual"
          ],
          [
           23,
           "Finland",
           "Athletics",
           "Athletics Men's Cross-Country, Team"
          ],
          [
           22,
           "Australasia",
           "Athletics",
           "Athletics Men's 100 metres"
          ],
          [
           22,
           "Australasia",
           "Athletics",
           "Athletics Men's 200 metres"
          ],
          [
           20,
           "United States",
           "Athletics",
           "Athletics Men's Marathon"
          ],
          [
           17,
           "Portugal",
           "Athletics",
           "Athletics Men's 100 metres"
          ],
          [
           17,
           "Portugal",
           "Athletics",
           "Athletics Men's 200 metres"
          ],
          [
           22,
           "Sweden",
           "Athletics",
           "Athletics Men's Cross-Country, Individual"
          ],
          [
           22,
           "Sweden",
           "Athletics",
           "Athletics Men's Cross-Country, Team"
          ],
          [
           34,
           "Bohemia",
           "Athletics",
           "Athletics Men's Discus Throw"
          ],
          [
           21,
           "Russia",
           "Athletics",
           "Athletics Men's Javelin Throw"
          ],
          [
           21,
           "Sweden",
           "Athletics",
           "Athletics Men's Pole Vault"
          ],
          [
           19,
           "Hungary",
           "Athletics",
           "Athletics Men's 100 metres"
          ],
          [
           19,
           "Hungary",
           "Athletics",
           "Athletics Men's 4 x 100 metres Relay"
          ],
          [
           19,
           "Hungary",
           "Athletics",
           "Athletics Men's Long Jump"
          ],
          [
           21,
           "Hungary",
           "Athletics",
           "Athletics Men's 100 metres"
          ],
          [
           21,
           "Hungary",
           "Athletics",
           "Athletics Men's 200 metres"
          ],
          [
           21,
           "Hungary",
           "Athletics",
           "Athletics Men's 400 metres"
          ],
          [
           21,
           "Hungary",
           "Athletics",
           "Athletics Men's 4 x 400 metres Relay"
          ],
          [
           20,
           "Hungary",
           "Athletics",
           "Athletics Men's 100 metres"
          ],
          [
           20,
           "Hungary",
           "Athletics",
           "Athletics Men's 4 x 100 metres Relay"
          ],
          [
           20,
           "United States",
           "Athletics",
           "Athletics Men's 1,500 metres"
          ],
          [
           20,
           "United States",
           "Athletics",
           "Athletics Men's 3,000 metres, Team"
          ],
          [
           21,
           "Finland",
           "Athletics",
           "Athletics Men's Discus Throw"
          ],
          [
           21,
           "Finland",
           "Athletics",
           "Athletics Men's Discus Throw, Both Hands"
          ],
          [
           23,
           "Canada",
           "Athletics",
           "Athletics Men's 800 metres"
          ],
          [
           23,
           "Canada",
           "Athletics",
           "Athletics Men's 1,500 metres"
          ],
          [
           23,
           "Canada",
           "Athletics",
           "Athletics Men's 4 x 400 metres Relay"
          ],
          [
           23,
           "Sweden",
           "Athletics",
           "Athletics Men's Cross-Country, Individual"
          ],
          [
           23,
           "Sweden",
           "Athletics",
           "Athletics Men's Cross-Country, Team"
          ],
          [
           null,
           "United States",
           "Athletics",
           "Athletics Men's 10,000 metres"
          ],
          [
           null,
           "United States",
           "Athletics",
           "Athletics Men's Marathon"
          ],
          [
           21,
           "United States",
           "Athletics",
           "Athletics Men's 100 metres"
          ],
          [
           24,
           "United States",
           "Athletics",
           "Athletics Men's High Jump"
          ],
          [
           24,
           "United States",
           "Athletics",
           "Athletics Men's Long Jump"
          ],
          [
           24,
           "United States",
           "Athletics",
           "Athletics Men's Pentathlon"
          ],
          [
           24,
           "United States",
           "Athletics",
           "Athletics Men's Decathlon"
          ],
          [
           27,
           "France",
           "Athletics",
           "Athletics Men's Shot Put"
          ],
          [
           27,
           "France",
           "Athletics",
           "Athletics Men's Discus Throw"
          ],
          [
           21,
           "Serbia",
           "Athletics",
           "Athletics Men's Marathon"
          ],
          [
           23,
           "Italy",
           "Athletics",
           "Athletics Men's High Jump"
          ],
          [
           23,
           "Italy",
           "Athletics",
           "Athletics Men's Long Jump"
          ],
          [
           19,
           "Denmark",
           "Athletics",
           "Athletics Men's Cross-Country, Individual"
          ],
          [
           19,
           "Denmark",
           "Athletics",
           "Athletics Men's Cross-Country, Team"
          ],
          [
           25,
           "Sweden",
           "Athletics",
           "Athletics Men's Marathon"
          ],
          [
           29,
           "Great Britain",
           "Athletics",
           "Athletics Men's Marathon"
          ],
          [
           22,
           "Great Britain",
           "Athletics",
           "Athletics Men's 5,000 metres"
          ],
          [
           22,
           "Greece",
           "Athletics",
           "Athletics Men's 100 metres"
          ],
          [
           28,
           "Austria",
           "Athletics",
           "Athletics Men's Discus Throw"
          ],
          [
           28,
           "Austria",
           "Athletics",
           "Athletics Men's Discus Throw, Both Hands"
          ],
          [
           23,
           "Greece",
           "Athletics",
           "Athletics Men's Standing High Jump"
          ],
          [
           23,
           "Greece",
           "Athletics",
           "Athletics Men's Standing Long Jump"
          ],
          [
           21,
           "Sweden",
           "Athletics",
           "Athletics Men's Pole Vault"
          ],
          [
           20,
           "Hungary",
           "Athletics",
           "Athletics Men's Discus Throw"
          ],
          [
           20,
           "Hungary",
           "Athletics",
           "Athletics Men's Discus Throw, Both Hands"
          ],
          [
           19,
           "Russia",
           "Athletics",
           "Athletics Men's Marathon"
          ],
          [
           19,
           "Russia",
           "Athletics",
           "Athletics Men's Shot Put"
          ],
          [
           19,
           "Russia",
           "Athletics",
           "Athletics Men's Discus Throw"
          ],
          [
           20,
           "South Africa",
           "Athletics",
           "Athletics Men's 800 metres"
          ],
          [
           20,
           "South Africa",
           "Athletics",
           "Athletics Men's 1,500 metres"
          ],
          [
           21,
           "Germany",
           "Athletics",
           "Athletics Men's 5,000 metres"
          ],
          [
           21,
           "Germany",
           "Athletics",
           "Athletics Men's 10,000 metres"
          ],
          [
           21,
           "Germany",
           "Athletics",
           "Athletics Men's 3,000 metres, Team"
          ],
          [
           21,
           "Germany",
           "Athletics",
           "Athletics Men's Cross-Country, Individual"
          ],
          [
           28,
           "Denmark",
           "Athletics",
           "Athletics Men's Pole Vault"
          ],
          [
           19,
           "Norway",
           "Athletics",
           "Athletics Men's Triple Jump"
          ],
          [
           20,
           "Russia",
           "Athletics",
           "Athletics Men's 1,500 metres"
          ],
          [
           37,
           "United States",
           "Athletics",
           "Athletics Men's 10 kilometres Walk"
          ],
          [
           23,
           "Germany",
           "Athletics",
           "Athletics Men's 110 metres Hurdles"
          ],
          [
           20,
           "Germany",
           "Athletics",
           "Athletics Men's 4 x 100 metres Relay"
          ],
          [
           20,
           "Germany",
           "Athletics",
           "Athletics Men's Shot Put"
          ],
          [
           20,
           "Germany",
           "Athletics",
           "Athletics Men's Javelin Throw"
          ],
          [
           20,
           "Germany",
           "Athletics",
           "Athletics Men's Pentathlon"
          ],
          [
           20,
           "Germany",
           "Athletics",
           "Athletics Men's Decathlon"
          ],
          [
           27,
           "Germany",
           "Athletics",
           "Athletics Men's 1,500 metres"
          ],
          [
           27,
           "Germany",
           "Athletics",
           "Athletics Men's 3,000 metres, Team"
          ],
          [
           17,
           "Bohemia",
           "Athletics",
           "Athletics Men's 100 metres"
          ],
          [
           29,
           "Switzerland",
           "Athletics",
           "Athletics Men's Pentathlon"
          ],
          [
           28,
           "Germany",
           "Athletics",
           "Athletics Men's Discus Throw"
          ],
          [
           28,
           "Germany",
           "Athletics",
           "Athletics Men's Javelin Throw"
          ],
          [
           28,
           "Germany",
           "Athletics",
           "Athletics Men's Pentathlon"
          ],
          [
           29,
           "Great Britain",
           "Athletics",
           "Athletics Men's 10,000 metres"
          ],
          [
           22,
           "Hungary",
           "Athletics",
           "Athletics Men's High Jump"
          ],
          [
           38,
           "Great Britain",
           "Athletics",
           "Athletics Men's 10 kilometres Walk"
          ],
          [
           21,
           "Austria",
           "Athletics",
           "Athletics Men's 100 metres"
          ],
          [
           21,
           "Austria",
           "Athletics",
           "Athletics Men's 4 x 100 metres Relay"
          ],
          [
           26,
           "Great Britain",
           "Athletics",
           "Athletics Men's 200 metres"
          ],
          [
           26,
           "Great Britain",
           "Athletics",
           "Athletics Men's 400 metres"
          ],
          [
           33,
           "Germany",
           "Athletics",
           "Athletics Men's Discus Throw"
          ],
          [
           21,
           "United States",
           "Athletics",
           "Athletics Men's 110 metres Hurdles"
          ],
          [
           21,
           "Germany",
           "Athletics",
           "Athletics Men's 200 metres"
          ],
          [
           21,
           "Germany",
           "Athletics",
           "Athletics Men's 400 metres"
          ],
          [
           26,
           "Sweden",
           "Athletics",
           "Athletics Men's Marathon"
          ],
          [
           21,
           "United States",
           "Athletics",
           "Athletics Men's Shot Put"
          ],
          [
           21,
           "United States",
           "Athletics",
           "Athletics Men's Shot Put, Both Hands"
          ],
          [
           21,
           "United States",
           "Athletics",
           "Athletics Men's Discus Throw"
          ],
          [
           21,
           "Finland",
           "Athletics",
           "Athletics Men's 110 metres Hurdles"
          ],
          [
           21,
           "Finland",
           "Athletics",
           "Athletics Men's Decathlon"
          ],
          [
           23,
           "Sweden",
           "Athletics",
           "Athletics Men's 1,500 metres"
          ],
          [
           23,
           "Sweden",
           "Athletics",
           "Athletics Men's 3,000 metres, Team"
          ],
          [
           22,
           "Sweden",
           "Athletics",
           "Athletics Men's Pentathlon"
          ],
          [
           22,
           "Sweden",
           "Athletics",
           "Athletics Men's Decathlon"
          ],
          [
           24,
           "Hungary",
           "Athletics",
           "Athletics Men's 200 metres"
          ],
          [
           24,
           "Hungary",
           "Athletics",
           "Athletics Men's 400 metres"
          ],
          [
           24,
           "Hungary",
           "Athletics",
           "Athletics Men's 4 x 400 metres Relay"
          ],
          [
           25,
           "United States",
           "Athletics",
           "Athletics Men's 5,000 metres"
          ],
          [
           26,
           "Germany",
           "Athletics",
           "Athletics Men's Shot Put"
          ],
          [
           26,
           "Germany",
           "Athletics",
           "Athletics Men's Discus Throw"
          ],
          [
           26,
           "Germany",
           "Athletics",
           "Athletics Men's Javelin Throw"
          ],
          [
           21,
           "United States",
           "Athletics",
           "Athletics Men's 100 metres"
          ],
          [
           21,
           "United States",
           "Athletics",
           "Athletics Men's 200 metres"
          ],
          [
           21,
           "United States",
           "Athletics",
           "Athletics Men's 4 x 100 metres Relay"
          ],
          [
           20,
           "United States",
           "Athletics",
           "Athletics Men's Long Jump"
          ],
          [
           22,
           "United States",
           "Athletics",
           "Athletics Men's Pole Vault"
          ],
          [
           31,
           "Great Britain",
           "Athletics",
           "Athletics Men's 10 kilometres Walk"
          ],
          [
           null,
           "Russia",
           "Athletics",
           "Athletics Men's 800 metres"
          ],
          [
           null,
           "Russia",
           "Athletics",
           "Athletics Men's 1,500 metres"
          ],
          [
           26,
           "Great Britain",
           "Athletics",
           "Athletics Men's 800 metres"
          ],
          [
           26,
           "Great Britain",
           "Athletics",
           "Athletics Men's 1,500 metres"
          ],
          [
           24,
           "United States",
           "Athletics",
           "Athletics Men's 200 metres"
          ],
          [
           24,
           "United States",
           "Athletics",
           "Athletics Men's 400 metres"
          ],
          [
           22,
           "Sweden",
           "Athletics",
           "Athletics Men's 1,500 metres"
          ],
          [
           22,
           "Sweden",
           "Athletics",
           "Athletics Men's 3,000 metres, Team"
          ],
          [
           22,
           "Sweden",
           "Athletics",
           "Athletics Men's 400 metres"
          ],
          [
           22,
           "Sweden",
           "Athletics",
           "Athletics Men's 4 x 400 metres Relay"
          ]
         ],
         "hovertemplate": "<b>%{hovertext}</b><br><br>Sport=%{customdata[2]}<br>Sex=M<br>Country=%{x}<br>Medal=%{y}<br>Age=%{customdata[0]}<br>Team=%{customdata[1]}<br>Event=%{customdata[3]}<extra></extra>",
         "hovertext": [
          1912,
          1912,
          1912,
          1912,
          1912,
          1912,
          1912,
          1912,
          1912,
          1912,
          1912,
          1912,
          1912,
          1912,
          1912,
          1912,
          1912,
          1912,
          1912,
          1912,
          1912,
          1912,
          1912,
          1912,
          1912,
          1912,
          1912,
          1912,
          1912,
          1912,
          1912,
          1912,
          1912,
          1912,
          1912,
          1912,
          1912,
          1912,
          1912,
          1912,
          1912,
          1912,
          1912,
          1912,
          1912,
          1912,
          1912,
          1912,
          1912,
          1912,
          1912,
          1912,
          1912,
          1912,
          1912,
          1912,
          1912,
          1912,
          1912,
          1912,
          1912,
          1912,
          1912,
          1912,
          1912,
          1912,
          1912,
          1912,
          1912,
          1912,
          1912,
          1912,
          1912,
          1912,
          1912,
          1912,
          1912,
          1912,
          1912,
          1912,
          1912,
          1912,
          1912,
          1912,
          1912,
          1912,
          1912,
          1912,
          1912,
          1912,
          1912,
          1912,
          1912,
          1912,
          1912,
          1912,
          1912,
          1912,
          1912,
          1912,
          1912,
          1912,
          1912,
          1912,
          1912,
          1912,
          1912,
          1912,
          1912,
          1912,
          1912,
          1912,
          1912,
          1912,
          1912,
          1912,
          1912,
          1912,
          1912,
          1912,
          1912,
          1912,
          1912,
          1912,
          1912,
          1912,
          1912,
          1912,
          1912,
          1912,
          1912,
          1912,
          1912,
          1912,
          1912,
          1912,
          1912,
          1912,
          1912,
          1912,
          1912,
          1912,
          1912,
          1912,
          1912,
          1912,
          1912,
          1912,
          1912,
          1912,
          1912,
          1912,
          1912,
          1912,
          1912,
          1912,
          1912,
          1912,
          1912,
          1912,
          1912,
          1912,
          1912,
          1912,
          1912,
          1912,
          1912,
          1912,
          1912,
          1912,
          1912,
          1912,
          1912,
          1912,
          1912,
          1912,
          1912,
          1912,
          1912,
          1912,
          1912,
          1912,
          1912,
          1912,
          1912,
          1912,
          1912,
          1912,
          1912,
          1912,
          1912,
          1912,
          1912,
          1912,
          1912,
          1912,
          1912,
          1912,
          1912,
          1912,
          1912,
          1912,
          1912,
          1912,
          1912,
          1912,
          1912,
          1912,
          1912,
          1912,
          1912,
          1912,
          1912,
          1912,
          1912,
          1912,
          1912,
          1912,
          1912,
          1912,
          1912,
          1912,
          1912,
          1912,
          1912,
          1912,
          1912,
          1912,
          1912,
          1912,
          1912,
          1912,
          1912,
          1912,
          1912,
          1912,
          1912,
          1912,
          1912,
          1912,
          1912,
          1912,
          1912,
          1912,
          1912,
          1912,
          1912,
          1912,
          1912,
          1912,
          1912,
          1912,
          1912,
          1912,
          1912,
          1912,
          1912,
          1912,
          1912,
          1912,
          1912,
          1912,
          1912,
          1912,
          1912,
          1912,
          1912,
          1912,
          1912,
          1912,
          1912,
          1912,
          1912,
          1912,
          1912,
          1912,
          1912,
          1912,
          1912,
          1912,
          1912,
          1912,
          1912,
          1912,
          1912,
          1912,
          1912,
          1912,
          1912,
          1912,
          1912,
          1912,
          1912,
          1912,
          1912,
          1912,
          1912,
          1912,
          1912,
          1912,
          1912,
          1912,
          1912,
          1912,
          1912,
          1912,
          1912,
          1912,
          1912,
          1912,
          1912,
          1912,
          1912,
          1912,
          1912,
          1912,
          1912,
          1912,
          1912,
          1912,
          1912,
          1912,
          1912,
          1912,
          1912,
          1912,
          1912,
          1912,
          1912,
          1912,
          1912,
          1912,
          1912,
          1912,
          1912,
          1912,
          1912,
          1912,
          1912,
          1912,
          1912,
          1912,
          1912,
          1912,
          1912,
          1912,
          1912,
          1912,
          1912,
          1912,
          1912,
          1912,
          1912,
          1912,
          1912,
          1912,
          1912,
          1912,
          1912,
          1912,
          1912,
          1912,
          1912,
          1912,
          1912,
          1912,
          1912,
          1912,
          1912,
          1912,
          1912,
          1912,
          1912,
          1912,
          1912,
          1912,
          1912,
          1912,
          1912,
          1912,
          1912,
          1912,
          1912,
          1912,
          1912,
          1912,
          1912,
          1912,
          1912,
          1912,
          1912,
          1912,
          1912,
          1912,
          1912,
          1912,
          1912,
          1912,
          1912,
          1912,
          1912,
          1912,
          1912,
          1912,
          1912,
          1912,
          1912,
          1912,
          1912,
          1912,
          1912,
          1912,
          1912,
          1912,
          1912,
          1912,
          1912,
          1912,
          1912,
          1912,
          1912,
          1912,
          1912,
          1912,
          1912,
          1912,
          1912,
          1912,
          1912,
          1912,
          1912,
          1912,
          1912,
          1912,
          1912,
          1912,
          1912,
          1912,
          1912,
          1912,
          1912,
          1912,
          1912,
          1912,
          1912,
          1912,
          1912,
          1912,
          1912,
          1912,
          1912,
          1912,
          1912,
          1912,
          1912,
          1912,
          1912,
          1912,
          1912,
          1912,
          1912,
          1912,
          1912,
          1912,
          1912,
          1912,
          1912,
          1912,
          1912,
          1912,
          1912,
          1912,
          1912,
          1912,
          1912,
          1912,
          1912,
          1912,
          1912,
          1912,
          1912,
          1912,
          1912,
          1912,
          1912,
          1912,
          1912,
          1912,
          1912,
          1912,
          1912,
          1912,
          1912,
          1912,
          1912,
          1912,
          1912,
          1912,
          1912,
          1912,
          1912,
          1912,
          1912,
          1912,
          1912,
          1912,
          1912,
          1912,
          1912,
          1912,
          1912,
          1912,
          1912,
          1912,
          1912,
          1912,
          1912,
          1912,
          1912,
          1912,
          1912,
          1912,
          1912,
          1912,
          1912,
          1912,
          1912,
          1912,
          1912,
          1912,
          1912,
          1912,
          1912,
          1912,
          1912,
          1912,
          1912,
          1912,
          1912,
          1912,
          1912,
          1912,
          1912,
          1912,
          1912,
          1912,
          1912,
          1912,
          1912,
          1912,
          1912,
          1912,
          1912,
          1912,
          1912,
          1912,
          1912,
          1912,
          1912,
          1912,
          1912,
          1912,
          1912,
          1912,
          1912,
          1912,
          1912,
          1912,
          1912,
          1912,
          1912,
          1912,
          1912,
          1912,
          1912,
          1912,
          1912,
          1912,
          1912,
          1912,
          1912,
          1912,
          1912,
          1912,
          1912,
          1912,
          1912,
          1912,
          1912,
          1912,
          1912,
          1912,
          1912,
          1912,
          1912,
          1912,
          1912,
          1912,
          1912,
          1912,
          1912,
          1912,
          1912,
          1912,
          1912,
          1912,
          1912,
          1912,
          1912,
          1912,
          1912,
          1912,
          1912,
          1912,
          1912,
          1912,
          1912,
          1912,
          1912,
          1912,
          1912,
          1912,
          1912,
          1912,
          1912,
          1912,
          1912,
          1912,
          1912,
          1912,
          1912,
          1912,
          1912,
          1912,
          1912,
          1912,
          1912,
          1912,
          1912,
          1912,
          1912,
          1912,
          1912,
          1912,
          1912,
          1912,
          1912,
          1912,
          1912,
          1912,
          1912,
          1912,
          1912,
          1912,
          1912,
          1912,
          1912,
          1912,
          1912,
          1912,
          1912,
          1912,
          1912,
          1912,
          1912,
          1912,
          1912,
          1912,
          1912,
          1912,
          1912,
          1912,
          1912,
          1912,
          1912,
          1912,
          1912,
          1912,
          1912,
          1912,
          1912,
          1912,
          1912,
          1912,
          1912,
          1912,
          1912,
          1912,
          1912,
          1912,
          1912,
          1912,
          1912,
          1912,
          1912,
          1912,
          1912,
          1912,
          1912,
          1912,
          1912,
          1912,
          1912,
          1912,
          1912,
          1912,
          1912,
          1912,
          1912,
          1912,
          1912,
          1912,
          1912,
          1912,
          1912,
          1912,
          1912,
          1912,
          1912,
          1912,
          1912,
          1912,
          1912,
          1912,
          1912,
          1912,
          1912,
          1912,
          1912,
          1912,
          1912,
          1912,
          1912,
          1912,
          1912,
          1912,
          1912,
          1912,
          1912,
          1912,
          1912,
          1912,
          1912,
          1912,
          1912,
          1912,
          1912,
          1912,
          1912,
          1912,
          1912,
          1912,
          1912,
          1912,
          1912,
          1912,
          1912,
          1912,
          1912,
          1912,
          1912,
          1912,
          1912,
          1912,
          1912,
          1912,
          1912,
          1912,
          1912,
          1912,
          1912,
          1912,
          1912,
          1912,
          1912,
          1912,
          1912,
          1912,
          1912,
          1912,
          1912,
          1912,
          1912,
          1912,
          1912,
          1912,
          1912,
          1912,
          1912,
          1912,
          1912,
          1912,
          1912,
          1912,
          1912,
          1912,
          1912,
          1912,
          1912,
          1912,
          1912,
          1912,
          1912,
          1912,
          1912,
          1912,
          1912,
          1912,
          1912,
          1912,
          1912,
          1912,
          1912,
          1912,
          1912,
          1912,
          1912,
          1912,
          1912,
          1912,
          1912,
          1912,
          1912,
          1912,
          1912,
          1912,
          1912,
          1912,
          1912,
          1912,
          1912,
          1912,
          1912,
          1912,
          1912,
          1912,
          1912,
          1912,
          1912,
          1912,
          1912,
          1912,
          1912,
          1912,
          1912,
          1912,
          1912,
          1912,
          1912,
          1912,
          1912,
          1912,
          1912,
          1912,
          1912,
          1912,
          1912,
          1912,
          1912,
          1912,
          1912,
          1912,
          1912,
          1912,
          1912,
          1912,
          1912,
          1912,
          1912,
          1912,
          1912,
          1912,
          1912,
          1912,
          1912,
          1912,
          1912,
          1912,
          1912,
          1912,
          1912,
          1912,
          1912,
          1912,
          1912,
          1912,
          1912,
          1912,
          1912,
          1912,
          1912,
          1912,
          1912,
          1912,
          1912,
          1912,
          1912,
          1912,
          1912,
          1912,
          1912,
          1912,
          1912,
          1912,
          1912,
          1912,
          1912,
          1912,
          1912,
          1912,
          1912,
          1912,
          1912,
          1912,
          1912,
          1912,
          1912,
          1912,
          1912,
          1912,
          1912,
          1912,
          1912,
          1912,
          1912,
          1912,
          1912,
          1912,
          1912,
          1912,
          1912,
          1912,
          1912,
          1912,
          1912,
          1912,
          1912,
          1912,
          1912,
          1912,
          1912,
          1912,
          1912,
          1912,
          1912,
          1912,
          1912,
          1912,
          1912,
          1912,
          1912,
          1912,
          1912,
          1912,
          1912,
          1912,
          1912,
          1912,
          1912,
          1912,
          1912,
          1912
         ],
         "legendgroup": "Athletics",
         "marker": {
          "color": "#EF553B",
          "pattern": {
           "shape": ""
          }
         },
         "name": "Athletics",
         "offsetgroup": "Athletics",
         "orientation": "v",
         "showlegend": true,
         "textposition": "auto",
         "type": "bar",
         "x": [
          "NOR",
          "SWE",
          "SWE",
          "SWE",
          "GER",
          "GBR",
          "SWE",
          "SWE",
          "USA",
          "USA",
          "USA",
          "USA",
          "USA",
          "USA",
          "BEL",
          "BEL",
          "SWE",
          "SWE",
          "FIN",
          "FIN",
          "RUS",
          "USA",
          "SWE",
          "RUS",
          "ITA",
          "GER",
          "GER",
          "NOR",
          "NOR",
          "GBR",
          "GBR",
          "GBR",
          "USA",
          "SWE",
          "SWE",
          "SWE",
          "FRA",
          "FRA",
          "FRA",
          "FRA",
          "FRA",
          "FRA",
          "HUN",
          "GBR",
          "GBR",
          "GBR",
          "FRA",
          "GBR",
          "GBR",
          "RUS",
          "USA",
          "USA",
          "DEN",
          "DEN",
          "GBR",
          "GBR",
          "GBR",
          "GBR",
          "GRE",
          "GBR",
          "HUN",
          "GBR",
          "RUS",
          "GER",
          "GER",
          "GBR",
          "CAN",
          "CAN",
          "CAN",
          "USA",
          "USA",
          "USA",
          "USA",
          "SWE",
          "SWE",
          "SWE",
          "USA",
          "USA",
          "USA",
          "USA",
          "SWE",
          "NOR",
          "NOR",
          "NOR",
          "NOR",
          "SWE",
          "SWE",
          "GBR",
          "GBR",
          "USA",
          "HUN",
          "HUN",
          "HUN",
          "FRA",
          "SWE",
          "USA",
          "USA",
          "USA",
          "USA",
          "FRA",
          "FRA",
          "FRA",
          "GER",
          "GER",
          "GER",
          "CAN",
          "CAN",
          "USA",
          "GBR",
          "CAN",
          "CAN",
          "CAN",
          "NOR",
          "NOR",
          "USA",
          "USA",
          "USA",
          "USA",
          "GER",
          "GER",
          "GBR",
          "USA",
          "USA",
          "USA",
          "USA",
          "USA",
          "ITA",
          "ITA",
          "FRA",
          "GBR",
          "SWE",
          "SWE",
          "SWE",
          "SWE",
          "GBR",
          "GBR",
          "USA",
          "FRA",
          "USA",
          "USA",
          "DEN",
          "DEN",
          "DEN",
          "ITA",
          "USA",
          "USA",
          "CAN",
          "POR",
          "POR",
          "GBR",
          "GBR",
          "GBR",
          "GBR",
          "USA",
          "USA",
          "USA",
          "USA",
          "USA",
          "USA",
          "GBR",
          "GBR",
          "GBR",
          "SWE",
          "NOR",
          "NOR",
          "SWE",
          "SWE",
          "SWE",
          "DEN",
          "DEN",
          "USA",
          "USA",
          "RUS",
          "CAN",
          "FRA",
          "FRA",
          "FRA",
          "BEL",
          "USA",
          "HUN",
          "HUN",
          "HUN",
          "USA",
          "USA",
          "GRE",
          "GRE",
          "USA",
          "HUN",
          "CAN",
          "USA",
          "GBR",
          "USA",
          "USA",
          "GBR",
          "GBR",
          "USA",
          "USA",
          "AUT",
          "CHI",
          "CHI",
          "CHI",
          "SWE",
          "SWE",
          "SWE",
          "SWE",
          "SWE",
          "SWE",
          "USA",
          "USA",
          "USA",
          "USA",
          "SWE",
          "USA",
          "FIN",
          "FIN",
          "FRA",
          "CAN",
          "FRA",
          "FRA",
          "FRA",
          "FRA",
          "FRA",
          "FRA",
          "SWE",
          "USA",
          "USA",
          "NOR",
          "NOR",
          "USA",
          "NOR",
          "NOR",
          "SWE",
          "SWE",
          "SWE",
          "AUT",
          "AUT",
          "AUT",
          "USA",
          "USA",
          "SWE",
          "SWE",
          "SWE",
          "SWE",
          "NOR",
          "HUN",
          "HUN",
          "USA",
          "CAN",
          "HUN",
          "LUX",
          "GBR",
          "AUT",
          "AUT",
          "SWE",
          "USA",
          "SWE",
          "SWE",
          "USA",
          "CAN",
          "CAN",
          "RUS",
          "USA",
          "USA",
          "SWE",
          "CAN",
          "CAN",
          "USA",
          "ITA",
          "ITA",
          "ITA",
          "RSA",
          "GBR",
          "GBR",
          "GBR",
          "GBR",
          "USA",
          "USA",
          "FRA",
          "CAN",
          "SWE",
          "GBR",
          "NED",
          "NED",
          "USA",
          "SWE",
          "USA",
          "SWE",
          "DEN",
          "AUT",
          "SWE",
          "SWE",
          "USA",
          "SWE",
          "SWE",
          "GBR",
          "GBR",
          "SWE",
          "ISL",
          "FIN",
          "FIN",
          "FIN",
          "CAN",
          "USA",
          "NOR",
          "NOR",
          "CHI",
          "CHI",
          "RUS",
          "GBR",
          "FIN",
          "FIN",
          "FIN",
          "FIN",
          "SWE",
          "USA",
          "USA",
          "FIN",
          "FIN",
          "USA",
          "USA",
          "USA",
          "USA",
          "USA",
          "SWE",
          "SWE",
          "GBR",
          "GBR",
          "GBR",
          "GBR",
          "RUS",
          "GER",
          "GER",
          "GER",
          "GER",
          "GER",
          "FRA",
          "FRA",
          "GBR",
          "GBR",
          "GBR",
          "GBR",
          "ANZ",
          "ANZ",
          "USA",
          "SWE",
          "SWE",
          "SWE",
          "BOH",
          "USA",
          "HUN",
          "NOR",
          "NOR",
          "CAN",
          "CAN",
          "CAN",
          "CAN",
          "GBR",
          "GBR",
          "GBR",
          "GBR",
          "GBR",
          "GBR",
          "GBR",
          "RUS",
          "USA",
          "GBR",
          "GBR",
          "GBR",
          "GBR",
          "SWE",
          "SWE",
          "SWE",
          "SWE",
          "SWE",
          "GER",
          "SWE",
          "BOH",
          "BOH",
          "HUN",
          "HUN",
          "FIN",
          "FIN",
          "DEN",
          "DEN",
          "BOH",
          "BOH",
          "NOR",
          "NOR",
          "FIN",
          "FIN",
          "FIN",
          "FIN",
          "SWE",
          "USA",
          "USA",
          "USA",
          "USA",
          "FIN",
          "JPN",
          "RUS",
          "HUN",
          "CAN",
          "CAN",
          "GBR",
          "USA",
          "GER",
          "GER",
          "GER",
          "RUS",
          "GBR",
          "GBR",
          "USA",
          "USA",
          "SWE",
          "SWE",
          "HUN",
          "HUN",
          "HUN",
          "HUN",
          "HUN",
          "FIN",
          "FIN",
          "FIN",
          "FIN",
          "FIN",
          "FIN",
          "FIN",
          "HUN",
          "USA",
          "USA",
          "USA",
          "SWE",
          "SWE",
          "AUT",
          "AUT",
          "AUT",
          "AUT",
          "RUS",
          "RUS",
          "SWE",
          "SWE",
          "FIN",
          "FIN",
          "FIN",
          "SWE",
          "AUT",
          "FIN",
          "FIN",
          "FRA",
          "BOH",
          "BOH",
          "BOH",
          "FRA",
          "FRA",
          "FIN",
          "DEN",
          "NOR",
          "NOR",
          "NOR",
          "SWE",
          "SWE",
          "SWE",
          "SWE",
          "POR",
          "GBR",
          "GBR",
          "ITA",
          "ITA",
          "ITA",
          "GER",
          "GER",
          "GER",
          "FRA",
          "FRA",
          "FRA",
          "FRA",
          "FRA",
          "SWE",
          "SWE",
          "SWE",
          "SWE",
          "ITA",
          "ITA",
          "RUS",
          "GER",
          "USA",
          "SWE",
          "SWE",
          "SWE",
          "SWE",
          "SWE",
          "USA",
          "USA",
          "SWE",
          "SWE",
          "SWE",
          "SWE",
          "SWE",
          "SWE",
          "SWE",
          "FIN",
          "FIN",
          "FIN",
          "FIN",
          "SWE",
          "SWE",
          "SWE",
          "SWE",
          "SWE",
          "USA",
          "USA",
          "SWE",
          "GBR",
          "DEN",
          "SWE",
          "SWE",
          "SWE",
          "SWE",
          "GBR",
          "HUN",
          "CAN",
          "CAN",
          "CAN",
          "CAN",
          "CAN",
          "RUS",
          "SWE",
          "SWE",
          "SWE",
          "SWE",
          "ITA",
          "ITA",
          "HUN",
          "HUN",
          "SWE",
          "SWE",
          "SWE",
          "GBR",
          "GBR",
          "GBR",
          "GBR",
          "GBR",
          "USA",
          "SWE",
          "SWE",
          "USA",
          "FRA",
          "FRA",
          "SWE",
          "GBR",
          "CAN",
          "CAN",
          "CAN",
          "RUS",
          "SWE",
          "RSA",
          "USA",
          "USA",
          "CAN",
          "CAN",
          "CAN",
          "USA",
          "USA",
          "USA",
          "USA",
          "FRA",
          "SWE",
          "USA",
          "USA",
          "USA",
          "USA",
          "USA",
          "USA",
          "BOH",
          "USA",
          "USA",
          "GER",
          "GER",
          "SRB",
          "JPN",
          "JPN",
          "JPN",
          "TUR",
          "TUR",
          "TUR",
          "TUR",
          "TUR",
          "SWE",
          "SWE",
          "SWE",
          "SWE",
          "SWE",
          "SWE",
          "SWE",
          "SWE",
          "SWE",
          "RUS",
          "NOR",
          "GBR",
          "GBR",
          "FRA",
          "FRA",
          "FRA",
          "USA",
          "USA",
          "HUN",
          "CHI",
          "USA",
          "USA",
          "USA",
          "ANZ",
          "FIN",
          "RUS",
          "RUS",
          "RUS",
          "RUS",
          "USA",
          "USA",
          "USA",
          "GBR",
          "GBR",
          "FIN",
          "FIN",
          "FIN",
          "FIN",
          "RUS",
          "RUS",
          "SWE",
          "SWE",
          "SWE",
          "SWE",
          "SWE",
          "SWE",
          "SWE",
          "SWE",
          "SWE",
          "SWE",
          "SWE",
          "SWE",
          "SWE",
          "SWE",
          "SWE",
          "SWE",
          "SWE",
          "SWE",
          "GBR",
          "SWE",
          "SWE",
          "SWE",
          "SWE",
          "SWE",
          "USA",
          "NOR",
          "SWE",
          "SWE",
          "SWE",
          "SWE",
          "ITA",
          "ITA",
          "NOR",
          "GBR",
          "GBR",
          "RUS",
          "ITA",
          "ITA",
          "ITA",
          "ITA",
          "ITA",
          "CHI",
          "GBR",
          "FRA",
          "TUR",
          "TUR",
          "GER",
          "GER",
          "RSA",
          "RSA",
          "RSA",
          "GBR",
          "GBR",
          "USA",
          "FRA",
          "NOR",
          "NOR",
          "DEN",
          "NOR",
          "NOR",
          "NOR",
          "DEN",
          "DEN",
          "LUX",
          "LUX",
          "FIN",
          "FIN",
          "BOH",
          "BOH",
          "GER",
          "GER",
          "SWE",
          "SWE",
          "SWE",
          "SWE",
          "SWE",
          "RUS",
          "USA",
          "USA",
          "USA",
          "USA",
          "FIN",
          "AUT",
          "AUT",
          "GBR",
          "GBR",
          "FRA",
          "FRA",
          "FRA",
          "FRA",
          "ANZ",
          "RSA",
          "RSA",
          "GBR",
          "USA",
          "USA",
          "USA",
          "GBR",
          "HUN",
          "HUN",
          "HUN",
          "DEN",
          "DEN",
          "DEN",
          "RUS",
          "AUT",
          "AUT",
          "GER",
          "GER",
          "GER",
          "AUT",
          "AUT",
          "AUT",
          "USA",
          "USA",
          "USA",
          "RUS",
          "USA",
          "USA",
          "GBR",
          "GBR",
          "USA",
          "RSA",
          "RSA",
          "BOH",
          "HUN",
          "HUN",
          "GER",
          "GER",
          "GER",
          "FRA",
          "FRA",
          "FRA",
          "FRA",
          "SWE",
          "USA",
          "USA",
          "USA",
          "USA",
          "USA",
          "ANZ",
          "GBR",
          "GBR",
          "GBR",
          "ITA",
          "RUS",
          "USA",
          "FIN",
          "FIN",
          "GRE",
          "CHI",
          "CHI",
          "CHI",
          "SWE",
          "HUN",
          "AUT",
          "AUT",
          "AUT",
          "AUT",
          "RUS",
          "RUS",
          "FRA",
          "FRA",
          "FRA",
          "FRA",
          "USA",
          "RUS",
          "RUS",
          "USA",
          "USA",
          "USA",
          "USA",
          "USA",
          "GBR",
          "GBR",
          "GBR",
          "GBR",
          "GBR",
          "GBR",
          "USA",
          "USA",
          "USA",
          "USA",
          "USA",
          "FIN",
          "FIN",
          "NOR",
          "SWE",
          "SWE",
          "BOH",
          "SWE",
          "SWE",
          "USA",
          "USA",
          "HUN",
          "SWE",
          "SWE",
          "NOR",
          "NOR",
          "GBR",
          "GBR",
          "GBR",
          "ITA",
          "RSA",
          "RSA",
          "SWE",
          "SWE",
          "SWE",
          "FIN",
          "FIN",
          "FIN",
          "FIN",
          "ANZ",
          "ANZ",
          "USA",
          "POR",
          "POR",
          "SWE",
          "SWE",
          "BOH",
          "RUS",
          "SWE",
          "HUN",
          "HUN",
          "HUN",
          "HUN",
          "HUN",
          "HUN",
          "HUN",
          "HUN",
          "HUN",
          "USA",
          "USA",
          "FIN",
          "FIN",
          "CAN",
          "CAN",
          "CAN",
          "SWE",
          "SWE",
          "USA",
          "USA",
          "USA",
          "USA",
          "USA",
          "USA",
          "USA",
          "FRA",
          "FRA",
          "SRB",
          "ITA",
          "ITA",
          "DEN",
          "DEN",
          "SWE",
          "GBR",
          "GBR",
          "GRE",
          "AUT",
          "AUT",
          "GRE",
          "GRE",
          "SWE",
          "HUN",
          "HUN",
          "RUS",
          "RUS",
          "RUS",
          "RSA",
          "RSA",
          "GER",
          "GER",
          "GER",
          "GER",
          "DEN",
          "NOR",
          "RUS",
          "USA",
          "GER",
          "GER",
          "GER",
          "GER",
          "GER",
          "GER",
          "GER",
          "GER",
          "BOH",
          "SUI",
          "GER",
          "GER",
          "GER",
          "GBR",
          "HUN",
          "GBR",
          "AUT",
          "AUT",
          "GBR",
          "GBR",
          "GER",
          "USA",
          "GER",
          "GER",
          "SWE",
          "USA",
          "USA",
          "USA",
          "FIN",
          "FIN",
          "SWE",
          "SWE",
          "SWE",
          "SWE",
          "HUN",
          "HUN",
          "HUN",
          "USA",
          "GER",
          "GER",
          "GER",
          "USA",
          "USA",
          "USA",
          "USA",
          "USA",
          "GBR",
          "RUS",
          "RUS",
          "GBR",
          "GBR",
          "USA",
          "USA",
          "SWE",
          "SWE",
          "SWE",
          "SWE"
         ],
         "xaxis": "x",
         "y": [
          null,
          null,
          "Bronze",
          "Silver",
          null,
          null,
          null,
          null,
          "Silver",
          "Bronze",
          null,
          "Gold",
          "Silver",
          null,
          null,
          null,
          null,
          null,
          null,
          null,
          null,
          null,
          "Bronze",
          null,
          "Bronze",
          null,
          null,
          null,
          null,
          null,
          null,
          null,
          null,
          null,
          "Silver",
          "Gold",
          null,
          null,
          null,
          null,
          null,
          null,
          null,
          null,
          "Bronze",
          "Gold",
          null,
          null,
          null,
          null,
          "Gold",
          null,
          null,
          null,
          null,
          null,
          null,
          null,
          null,
          null,
          null,
          null,
          null,
          null,
          null,
          null,
          null,
          null,
          null,
          null,
          null,
          null,
          null,
          null,
          null,
          null,
          null,
          "Gold",
          null,
          null,
          null,
          null,
          null,
          "Gold",
          null,
          null,
          null,
          null,
          null,
          null,
          null,
          null,
          null,
          null,
          null,
          null,
          "Gold",
          null,
          null,
          "Silver",
          null,
          null,
          "Silver",
          null,
          null,
          "Silver",
          null,
          null,
          null,
          null,
          null,
          null,
          null,
          null,
          null,
          null,
          null,
          null,
          null,
          null,
          null,
          null,
          null,
          "Silver",
          null,
          null,
          null,
          null,
          null,
          null,
          null,
          "Gold",
          null,
          null,
          null,
          null,
          null,
          null,
          "Bronze",
          null,
          null,
          null,
          null,
          null,
          null,
          null,
          null,
          null,
          null,
          null,
          "Bronze",
          null,
          "Bronze",
          null,
          null,
          null,
          null,
          "Gold",
          "Gold",
          null,
          null,
          "Gold",
          null,
          null,
          null,
          null,
          null,
          null,
          null,
          null,
          null,
          "Bronze",
          null,
          null,
          null,
          null,
          null,
          null,
          null,
          null,
          null,
          null,
          "Silver",
          null,
          null,
          null,
          null,
          null,
          null,
          null,
          null,
          "Bronze",
          null,
          null,
          null,
          null,
          null,
          null,
          null,
          null,
          null,
          null,
          null,
          null,
          "Bronze",
          "Gold",
          null,
          null,
          null,
          null,
          null,
          null,
          null,
          null,
          "Silver",
          null,
          null,
          null,
          null,
          null,
          "Silver",
          null,
          null,
          null,
          null,
          null,
          null,
          null,
          null,
          null,
          null,
          null,
          null,
          null,
          null,
          null,
          null,
          null,
          null,
          null,
          "Silver",
          null,
          "Gold",
          null,
          null,
          null,
          null,
          null,
          null,
          null,
          null,
          null,
          null,
          null,
          null,
          null,
          "Silver",
          null,
          null,
          null,
          null,
          null,
          null,
          null,
          null,
          "Silver",
          null,
          null,
          null,
          null,
          "Silver",
          null,
          null,
          null,
          "Bronze",
          null,
          null,
          null,
          "Gold",
          null,
          null,
          null,
          null,
          null,
          null,
          "Gold",
          null,
          null,
          null,
          null,
          null,
          null,
          null,
          null,
          null,
          null,
          null,
          null,
          null,
          null,
          null,
          "Bronze",
          null,
          null,
          null,
          null,
          null,
          null,
          null,
          null,
          null,
          null,
          "Silver",
          null,
          "Bronze",
          null,
          null,
          "Silver",
          null,
          null,
          null,
          null,
          null,
          null,
          "Gold",
          null,
          null,
          null,
          "Bronze",
          null,
          null,
          null,
          null,
          null,
          null,
          null,
          null,
          null,
          null,
          null,
          "Bronze",
          null,
          null,
          null,
          null,
          null,
          "Bronze",
          null,
          "Bronze",
          null,
          null,
          null,
          null,
          null,
          null,
          null,
          null,
          null,
          null,
          null,
          "Bronze",
          "Bronze",
          "Bronze",
          null,
          null,
          "Gold",
          null,
          null,
          "Gold",
          null,
          null,
          null,
          null,
          null,
          null,
          null,
          null,
          null,
          null,
          null,
          null,
          null,
          null,
          null,
          null,
          null,
          null,
          null,
          null,
          null,
          null,
          "Silver",
          null,
          null,
          null,
          null,
          null,
          null,
          null,
          null,
          null,
          null,
          null,
          null,
          "Gold",
          null,
          null,
          null,
          null,
          null,
          null,
          "Silver",
          "Gold",
          null,
          "Gold",
          null,
          null,
          null,
          "Bronze",
          null,
          "Gold",
          "Gold",
          null,
          "Gold",
          "Silver",
          null,
          null,
          null,
          null,
          null,
          null,
          null,
          null,
          null,
          null,
          null,
          null,
          null,
          null,
          null,
          null,
          null,
          null,
          null,
          null,
          null,
          null,
          "Silver",
          null,
          null,
          null,
          null,
          null,
          null,
          null,
          null,
          null,
          null,
          null,
          null,
          null,
          null,
          "Gold",
          null,
          null,
          null,
          null,
          null,
          null,
          null,
          null,
          null,
          null,
          null,
          null,
          null,
          "Silver",
          null,
          "Gold",
          null,
          null,
          null,
          null,
          null,
          "Silver",
          null,
          null,
          null,
          null,
          null,
          "Gold",
          "Bronze",
          "Gold",
          null,
          null,
          "Silver",
          null,
          "Gold",
          null,
          null,
          null,
          null,
          null,
          "Silver",
          null,
          null,
          null,
          null,
          null,
          "Bronze",
          "Silver",
          null,
          null,
          null,
          null,
          null,
          "Silver",
          null,
          null,
          null,
          null,
          null,
          null,
          "Bronze",
          null,
          null,
          null,
          null,
          null,
          "Gold",
          null,
          null,
          null,
          null,
          null,
          null,
          "Silver",
          null,
          null,
          "Gold",
          null,
          null,
          null,
          null,
          "Bronze",
          null,
          null,
          null,
          null,
          null,
          null,
          null,
          null,
          null,
          null,
          "Gold",
          null,
          null,
          null,
          null,
          null,
          null,
          "Gold",
          "Silver",
          "Gold",
          null,
          null,
          null,
          null,
          null,
          null,
          "Gold",
          "Gold",
          null,
          "Silver",
          null,
          null,
          null,
          null,
          null,
          null,
          null,
          null,
          null,
          null,
          null,
          null,
          null,
          null,
          null,
          null,
          null,
          null,
          null,
          null,
          "Silver",
          null,
          null,
          null,
          "Bronze",
          null,
          null,
          null,
          null,
          null,
          null,
          null,
          null,
          null,
          "Bronze",
          null,
          null,
          null,
          null,
          null,
          null,
          "Silver",
          null,
          null,
          null,
          "Bronze",
          null,
          "Bronze",
          null,
          "Silver",
          null,
          null,
          null,
          null,
          null,
          null,
          null,
          null,
          null,
          null,
          null,
          null,
          null,
          null,
          null,
          null,
          null,
          null,
          "Gold",
          null,
          null,
          null,
          null,
          null,
          null,
          null,
          null,
          null,
          null,
          null,
          null,
          "Silver",
          null,
          null,
          null,
          null,
          "Bronze",
          null,
          null,
          null,
          null,
          null,
          null,
          null,
          null,
          null,
          null,
          null,
          null,
          null,
          null,
          null,
          null,
          null,
          null,
          null,
          null,
          null,
          null,
          null,
          null,
          null,
          null,
          null,
          null,
          null,
          null,
          null,
          "Bronze",
          null,
          null,
          null,
          null,
          null,
          null,
          "Silver",
          null,
          null,
          null,
          null,
          null,
          null,
          null,
          null,
          null,
          null,
          null,
          "Bronze",
          null,
          null,
          null,
          "Silver",
          null,
          null,
          null,
          null,
          null,
          null,
          null,
          null,
          null,
          null,
          null,
          null,
          null,
          null,
          null,
          null,
          null,
          null,
          null,
          null,
          null,
          null,
          null,
          null,
          "Gold",
          "Gold",
          null,
          null,
          null,
          null,
          null,
          "Gold",
          null,
          null,
          null,
          null,
          null,
          null,
          null,
          null,
          null,
          null,
          null,
          null,
          null,
          "Silver",
          "Gold",
          null,
          null,
          null,
          null,
          null,
          null,
          null,
          null,
          null,
          null,
          "Silver",
          "Gold",
          null,
          null,
          null,
          null,
          null,
          null,
          null,
          null,
          null,
          null,
          null,
          null,
          null,
          null,
          null,
          "Silver",
          null,
          null,
          null,
          null,
          null,
          "Gold",
          null,
          null,
          null,
          null,
          "Bronze",
          null,
          null,
          "Bronze",
          null,
          "Silver",
          null,
          "Gold",
          null,
          null,
          "Silver",
          null,
          null,
          null,
          null,
          null,
          null,
          null,
          null,
          null,
          null,
          null,
          null,
          null,
          null,
          null,
          "Bronze",
          null,
          null,
          null,
          null,
          null,
          null,
          "Bronze",
          null,
          null,
          "Silver",
          null,
          null,
          "Bronze",
          null,
          null,
          null,
          "Gold",
          null,
          null,
          null,
          null,
          null,
          null,
          null,
          null,
          null,
          null,
          null,
          null,
          "Bronze",
          "Gold",
          "Gold",
          "Gold",
          null,
          null,
          null,
          null,
          "Gold",
          "Silver",
          null,
          null,
          null,
          null,
          "Gold",
          "Gold",
          null,
          null,
          null,
          null,
          null,
          null,
          null,
          null,
          null,
          null,
          null,
          null,
          null,
          "Bronze",
          "Gold",
          "Bronze",
          null,
          null,
          null,
          null,
          null,
          null,
          null,
          null,
          null,
          null,
          null,
          null,
          null,
          null,
          null,
          null,
          null,
          null,
          null,
          null,
          null,
          null,
          null,
          null,
          null,
          null,
          null,
          null,
          null,
          null,
          "Silver",
          null,
          null,
          null,
          null,
          null,
          "Silver",
          null,
          null,
          null,
          "Bronze",
          null,
          null,
          null,
          null,
          null,
          "Silver",
          null,
          "Gold",
          null,
          null,
          null,
          null,
          null,
          null,
          null,
          null,
          null,
          null,
          null,
          "Silver",
          null,
          null,
          null,
          null,
          null,
          null,
          null,
          null,
          "Silver",
          null,
          null
         ],
         "yaxis": "y"
        },
        {
         "alignmentgroup": "True",
         "customdata": [
          [
           33,
           "Norway",
           "Fencing",
           "Fencing Men's Foil, Individual"
          ],
          [
           33,
           "Norway",
           "Fencing",
           "Fencing Men's epee, Individual"
          ],
          [
           33,
           "Norway",
           "Fencing",
           "Fencing Men's epee, Team"
          ],
          [
           null,
           "Germany",
           "Fencing",
           "Fencing Men's Foil, Individual"
          ],
          [
           null,
           "Germany",
           "Fencing",
           "Fencing Men's Sabre, Team"
          ],
          [
           null,
           "Italy",
           "Fencing",
           "Fencing Men's Foil, Individual"
          ],
          [
           null,
           "Italy",
           "Fencing",
           "Fencing Men's Sabre, Individual"
          ],
          [
           null,
           "Italy",
           "Fencing",
           "Fencing Men's Sabre, Team"
          ],
          [
           null,
           "Great Britain",
           "Fencing",
           "Fencing Men's Foil, Individual"
          ],
          [
           null,
           "Great Britain",
           "Fencing",
           "Fencing Men's epee, Individual"
          ],
          [
           31,
           "Great Britain",
           "Fencing",
           "Fencing Men's epee, Individual"
          ],
          [
           44,
           "Great Britain",
           "Fencing",
           "Fencing Men's Foil, Individual"
          ],
          [
           44,
           "Great Britain",
           "Fencing",
           "Fencing Men's epee, Individual"
          ],
          [
           33,
           "Russia",
           "Fencing",
           "Fencing Men's Sabre, Individual"
          ],
          [
           33,
           "Russia",
           "Fencing",
           "Fencing Men's Sabre, Team"
          ],
          [
           29,
           "Belgium",
           "Fencing",
           "Fencing Men's Foil, Individual"
          ],
          [
           29,
           "Belgium",
           "Fencing",
           "Fencing Men's epee, Individual"
          ],
          [
           29,
           "Belgium",
           "Fencing",
           "Fencing Men's epee, Team"
          ],
          [
           29,
           "Belgium",
           "Fencing",
           "Fencing Men's Sabre, Team"
          ],
          [
           30,
           "Belgium",
           "Fencing",
           "Fencing Men's Foil, Individual"
          ],
          [
           30,
           "Belgium",
           "Fencing",
           "Fencing Men's epee, Individual"
          ],
          [
           30,
           "Belgium",
           "Fencing",
           "Fencing Men's epee, Team"
          ],
          [
           33,
           "Sweden",
           "Fencing",
           "Fencing Men's Foil, Individual"
          ],
          [
           33,
           "Sweden",
           "Fencing",
           "Fencing Men's Sabre, Individual"
          ],
          [
           null,
           "Russia",
           "Fencing",
           "Fencing Men's Sabre, Individual"
          ],
          [
           20,
           "Bohemia",
           "Fencing",
           "Fencing Men's epee, Individual"
          ],
          [
           20,
           "Bohemia",
           "Fencing",
           "Fencing Men's Sabre, Individual"
          ],
          [
           36,
           "Hungary",
           "Fencing",
           "Fencing Men's Foil, Individual"
          ],
          [
           36,
           "Hungary",
           "Fencing",
           "Fencing Men's epee, Individual"
          ],
          [
           36,
           "Hungary",
           "Fencing",
           "Fencing Men's Sabre, Individual"
          ],
          [
           27,
           "Italy",
           "Fencing",
           "Fencing Men's Sabre, Team"
          ],
          [
           null,
           "Italy",
           "Fencing",
           "Fencing Men's Sabre, Individual"
          ],
          [
           null,
           "Italy",
           "Fencing",
           "Fencing Men's Sabre, Team"
          ],
          [
           33,
           "Norway",
           "Fencing",
           "Fencing Men's epee, Individual"
          ],
          [
           33,
           "Norway",
           "Fencing",
           "Fencing Men's epee, Team"
          ],
          [
           20,
           "Denmark",
           "Fencing",
           "Fencing Men's Foil, Individual"
          ],
          [
           20,
           "Denmark",
           "Fencing",
           "Fencing Men's epee, Individual"
          ],
          [
           20,
           "Denmark",
           "Fencing",
           "Fencing Men's Sabre, Individual"
          ],
          [
           29,
           "Belgium",
           "Fencing",
           "Fencing Men's Foil, Individual"
          ],
          [
           29,
           "Belgium",
           "Fencing",
           "Fencing Men's epee, Individual"
          ],
          [
           29,
           "Belgium",
           "Fencing",
           "Fencing Men's Sabre, Team"
          ],
          [
           21,
           "Denmark",
           "Fencing",
           "Fencing Men's Foil, Individual"
          ],
          [
           21,
           "Denmark",
           "Fencing",
           "Fencing Men's epee, Individual"
          ],
          [
           21,
           "Denmark",
           "Fencing",
           "Fencing Men's Sabre, Individual"
          ],
          [
           21,
           "Denmark",
           "Fencing",
           "Fencing Men's Sabre, Team"
          ],
          [
           36,
           "Hungary",
           "Fencing",
           "Fencing Men's Foil, Individual"
          ],
          [
           36,
           "Hungary",
           "Fencing",
           "Fencing Men's Sabre, Individual"
          ],
          [
           36,
           "Hungary",
           "Fencing",
           "Fencing Men's Sabre, Team"
          ],
          [
           null,
           "Russia",
           "Fencing",
           "Fencing Men's Foil, Individual"
          ],
          [
           null,
           "Russia",
           "Fencing",
           "Fencing Men's epee, Individual"
          ],
          [
           null,
           "Russia",
           "Fencing",
           "Fencing Men's epee, Team"
          ],
          [
           37,
           "Great Britain",
           "Fencing",
           "Fencing Men's epee, Individual"
          ],
          [
           30,
           "Austria",
           "Fencing",
           "Fencing Men's Sabre, Individual"
          ],
          [
           30,
           "Austria",
           "Fencing",
           "Fencing Men's Sabre, Team"
          ],
          [
           26,
           "Belgium",
           "Fencing",
           "Fencing Men's epee, Individual"
          ],
          [
           17,
           "Sweden",
           "Fencing",
           "Fencing Men's Foil, Individual"
          ],
          [
           30,
           "United States",
           "Fencing",
           "Fencing Men's Foil, Individual"
          ],
          [
           30,
           "United States",
           "Fencing",
           "Fencing Men's epee, Individual"
          ],
          [
           30,
           "United States",
           "Fencing",
           "Fencing Men's epee, Team"
          ],
          [
           24,
           "Sweden",
           "Fencing",
           "Fencing Men's epee, Individual"
          ],
          [
           24,
           "Sweden",
           "Fencing",
           "Fencing Men's epee, Team"
          ],
          [
           29,
           "United States",
           "Fencing",
           "Fencing Men's Foil, Individual"
          ],
          [
           29,
           "United States",
           "Fencing",
           "Fencing Men's epee, Team"
          ],
          [
           35,
           "United States",
           "Fencing",
           "Fencing Men's Foil, Individual"
          ],
          [
           35,
           "United States",
           "Fencing",
           "Fencing Men's epee, Individual"
          ],
          [
           35,
           "United States",
           "Fencing",
           "Fencing Men's epee, Team"
          ],
          [
           31,
           "Great Britain",
           "Fencing",
           "Fencing Men's Sabre, Individual"
          ],
          [
           31,
           "Great Britain",
           "Fencing",
           "Fencing Men's Sabre, Team"
          ],
          [
           null,
           "Great Britain",
           "Fencing",
           "Fencing Men's Sabre, Individual"
          ],
          [
           null,
           "Great Britain",
           "Fencing",
           "Fencing Men's Sabre, Team"
          ],
          [
           32,
           "Sweden",
           "Fencing",
           "Fencing Men's epee, Team"
          ],
          [
           19,
           "Italy",
           "Fencing",
           "Fencing Men's Foil, Individual"
          ],
          [
           19,
           "Italy",
           "Fencing",
           "Fencing Men's Sabre, Team"
          ],
          [
           24,
           "Bohemia",
           "Fencing",
           "Fencing Men's Sabre, Team"
          ],
          [
           28,
           "Great Britain",
           "Fencing",
           "Fencing Men's Sabre, Individual"
          ],
          [
           28,
           "Great Britain",
           "Fencing",
           "Fencing Men's Sabre, Team"
          ],
          [
           null,
           "Portugal",
           "Fencing",
           "Fencing Men's epee, Individual"
          ],
          [
           30,
           "Great Britain",
           "Fencing",
           "Fencing Men's Sabre, Team"
          ],
          [
           31,
           "Austria",
           "Fencing",
           "Fencing Men's Foil, Individual"
          ],
          [
           31,
           "Austria",
           "Fencing",
           "Fencing Men's Sabre, Team"
          ],
          [
           25,
           "Russia",
           "Fencing",
           "Fencing Men's Sabre, Individual"
          ],
          [
           25,
           "Russia",
           "Fencing",
           "Fencing Men's Sabre, Team"
          ],
          [
           44,
           "Germany",
           "Fencing",
           "Fencing Men's Foil, Individual"
          ],
          [
           34,
           "Great Britain",
           "Fencing",
           "Fencing Men's Foil, Individual"
          ],
          [
           34,
           "Great Britain",
           "Fencing",
           "Fencing Men's epee, Individual"
          ],
          [
           34,
           "Great Britain",
           "Fencing",
           "Fencing Men's epee, Team"
          ],
          [
           31,
           "Netherlands",
           "Fencing",
           "Fencing Men's epee, Individual"
          ],
          [
           34,
           "Netherlands",
           "Fencing",
           "Fencing Men's epee, Individual"
          ],
          [
           34,
           "Netherlands",
           "Fencing",
           "Fencing Men's Sabre, Individual"
          ],
          [
           34,
           "Netherlands",
           "Fencing",
           "Fencing Men's Sabre, Team"
          ],
          [
           29,
           "Netherlands",
           "Fencing",
           "Fencing Men's Foil, Individual"
          ],
          [
           29,
           "Netherlands",
           "Fencing",
           "Fencing Men's epee, Individual"
          ],
          [
           29,
           "Netherlands",
           "Fencing",
           "Fencing Men's epee, Team"
          ],
          [
           29,
           "Netherlands",
           "Fencing",
           "Fencing Men's Sabre, Team"
          ],
          [
           27,
           "Belgium",
           "Fencing",
           "Fencing Men's Foil, Individual"
          ],
          [
           27,
           "Belgium",
           "Fencing",
           "Fencing Men's epee, Individual"
          ],
          [
           36,
           "Austria",
           "Fencing",
           "Fencing Men's Foil, Individual"
          ],
          [
           36,
           "Austria",
           "Fencing",
           "Fencing Men's Sabre, Individual"
          ],
          [
           null,
           "Italy",
           "Fencing",
           "Fencing Men's Sabre, Team"
          ],
          [
           30,
           "Netherlands",
           "Fencing",
           "Fencing Men's epee, Team"
          ],
          [
           30,
           "Netherlands",
           "Fencing",
           "Fencing Men's Sabre, Team"
          ],
          [
           34,
           "Hungary",
           "Fencing",
           "Fencing Men's Foil, Individual"
          ],
          [
           34,
           "Hungary",
           "Fencing",
           "Fencing Men's Sabre, Individual"
          ],
          [
           25,
           "Sweden",
           "Fencing",
           "Fencing Men's epee, Individual"
          ],
          [
           48,
           "Germany",
           "Fencing",
           "Fencing Men's Sabre, Team"
          ],
          [
           25,
           "Norway",
           "Fencing",
           "Fencing Men's Foil, Individual"
          ],
          [
           25,
           "Norway",
           "Fencing",
           "Fencing Men's epee, Individual"
          ],
          [
           39,
           "Great Britain",
           "Fencing",
           "Fencing Men's epee, Individual"
          ],
          [
           39,
           "Great Britain",
           "Fencing",
           "Fencing Men's epee, Team"
          ],
          [
           21,
           "Great Britain",
           "Fencing",
           "Fencing Men's Foil, Individual"
          ],
          [
           null,
           "Russia",
           "Fencing",
           "Fencing Men's Sabre, Individual"
          ],
          [
           29,
           "Norway",
           "Fencing",
           "Fencing Men's epee, Individual"
          ],
          [
           29,
           "Norway",
           "Fencing",
           "Fencing Men's epee, Team"
          ],
          [
           31,
           "Hungary",
           "Fencing",
           "Fencing Men's Foil, Individual"
          ],
          [
           31,
           "Hungary",
           "Fencing",
           "Fencing Men's Sabre, Individual"
          ],
          [
           31,
           "Hungary",
           "Fencing",
           "Fencing Men's Sabre, Team"
          ],
          [
           29,
           "Hungary",
           "Fencing",
           "Fencing Men's Sabre, Individual"
          ],
          [
           29,
           "Hungary",
           "Fencing",
           "Fencing Men's Sabre, Team"
          ],
          [
           40,
           "South Africa",
           "Fencing",
           "Fencing Men's Foil, Individual"
          ],
          [
           40,
           "South Africa",
           "Fencing",
           "Fencing Men's epee, Individual"
          ],
          [
           40,
           "South Africa",
           "Fencing",
           "Fencing Men's Sabre, Individual"
          ],
          [
           28,
           "Hungary",
           "Fencing",
           "Fencing Men's Sabre, Individual"
          ],
          [
           28,
           "Hungary",
           "Fencing",
           "Fencing Men's Sabre, Team"
          ],
          [
           24,
           "Russia",
           "Fencing",
           "Fencing Men's Sabre, Individual"
          ],
          [
           24,
           "Russia",
           "Fencing",
           "Fencing Men's Sabre, Team"
          ],
          [
           37,
           "United States",
           "Fencing",
           "Fencing Men's Foil, Individual"
          ],
          [
           37,
           "United States",
           "Fencing",
           "Fencing Men's epee, Individual"
          ],
          [
           30,
           "Great Britain",
           "Fencing",
           "Fencing Men's Sabre, Individual"
          ],
          [
           28,
           "Austria",
           "Fencing",
           "Fencing Men's Foil, Individual"
          ],
          [
           28,
           "Austria",
           "Fencing",
           "Fencing Men's Sabre, Individual"
          ],
          [
           28,
           "Austria",
           "Fencing",
           "Fencing Men's Sabre, Team"
          ],
          [
           17,
           "Bohemia",
           "Fencing",
           "Fencing Men's epee, Individual"
          ],
          [
           18,
           "Bohemia",
           "Fencing",
           "Fencing Men's Foil, Individual"
          ],
          [
           18,
           "Bohemia",
           "Fencing",
           "Fencing Men's epee, Individual"
          ],
          [
           18,
           "Bohemia",
           "Fencing",
           "Fencing Men's epee, Team"
          ],
          [
           42,
           "Bohemia",
           "Fencing",
           "Fencing Men's epee, Team"
          ],
          [
           42,
           "Bohemia",
           "Fencing",
           "Fencing Men's Sabre, Team"
          ],
          [
           null,
           "Russia",
           "Fencing",
           "Fencing Men's Foil, Individual"
          ],
          [
           null,
           "Austria",
           "Fencing",
           "Fencing Men's epee, Individual"
          ],
          [
           null,
           "Russia",
           "Fencing",
           "Fencing Men's Foil, Individual"
          ],
          [
           27,
           "Sweden",
           "Fencing",
           "Fencing Men's epee, Individual"
          ],
          [
           17,
           "Sweden",
           "Fencing",
           "Fencing Men's Foil, Individual"
          ],
          [
           null,
           "Russia",
           "Fencing",
           "Fencing Men's Foil, Individual"
          ],
          [
           null,
           "Russia",
           "Fencing",
           "Fencing Men's epee, Individual"
          ],
          [
           null,
           "Russia",
           "Fencing",
           "Fencing Men's epee, Team"
          ],
          [
           26,
           "United States",
           "Fencing",
           "Fencing Men's Foil, Individual"
          ],
          [
           26,
           "United States",
           "Fencing",
           "Fencing Men's epee, Individual"
          ],
          [
           26,
           "United States",
           "Fencing",
           "Fencing Men's epee, Team"
          ],
          [
           54,
           "United States",
           "Fencing",
           "Fencing Men's Foil, Individual"
          ],
          [
           54,
           "United States",
           "Fencing",
           "Fencing Men's epee, Individual"
          ],
          [
           26,
           "Belgium",
           "Fencing",
           "Fencing Men's Foil, Individual"
          ],
          [
           26,
           "Belgium",
           "Fencing",
           "Fencing Men's epee, Team"
          ],
          [
           26,
           "Belgium",
           "Fencing",
           "Fencing Men's Sabre, Team"
          ],
          [
           35,
           "Austria",
           "Fencing",
           "Fencing Men's Sabre, Team"
          ],
          [
           36,
           "Sweden",
           "Fencing",
           "Fencing Men's Foil, Individual"
          ],
          [
           31,
           "Great Britain",
           "Fencing",
           "Fencing Men's epee, Individual"
          ],
          [
           31,
           "Great Britain",
           "Fencing",
           "Fencing Men's epee, Team"
          ],
          [
           30,
           "Netherlands",
           "Fencing",
           "Fencing Men's epee, Individual"
          ],
          [
           30,
           "Netherlands",
           "Fencing",
           "Fencing Men's epee, Team"
          ],
          [
           30,
           "Netherlands",
           "Fencing",
           "Fencing Men's Sabre, Team"
          ],
          [
           32,
           "Germany",
           "Fencing",
           "Fencing Men's Sabre, Team"
          ],
          [
           35,
           "Bohemia",
           "Fencing",
           "Fencing Men's Foil, Individual"
          ],
          [
           35,
           "Bohemia",
           "Fencing",
           "Fencing Men's epee, Individual"
          ],
          [
           35,
           "Bohemia",
           "Fencing",
           "Fencing Men's Sabre, Individual"
          ],
          [
           34,
           "Sweden",
           "Fencing",
           "Fencing Men's Foil, Individual"
          ],
          [
           34,
           "Sweden",
           "Fencing",
           "Fencing Men's Sabre, Team"
          ],
          [
           null,
           "Greece",
           "Fencing",
           "Fencing Men's epee, Team"
          ],
          [
           null,
           "Great Britain",
           "Fencing",
           "Fencing Men's Sabre, Individual"
          ],
          [
           null,
           "Russia",
           "Fencing",
           "Fencing Men's Foil, Individual"
          ],
          [
           null,
           "Russia",
           "Fencing",
           "Fencing Men's epee, Individual"
          ],
          [
           null,
           "Russia",
           "Fencing",
           "Fencing Men's epee, Team"
          ],
          [
           26,
           "Sweden",
           "Fencing",
           "Fencing Men's Sabre, Individual"
          ],
          [
           26,
           "Sweden",
           "Fencing",
           "Fencing Men's Sabre, Team"
          ],
          [
           null,
           "Bohemia",
           "Fencing",
           "Fencing Men's Foil, Individual"
          ],
          [
           null,
           "Bohemia",
           "Fencing",
           "Fencing Men's epee, Individual"
          ],
          [
           37,
           "Russia",
           "Fencing",
           "Fencing Men's Foil, Individual"
          ],
          [
           37,
           "Russia",
           "Fencing",
           "Fencing Men's epee, Team"
          ],
          [
           25,
           "Netherlands",
           "Fencing",
           "Fencing Men's Sabre, Individual"
          ],
          [
           19,
           "Greece",
           "Fencing",
           "Fencing Men's epee, Individual"
          ],
          [
           19,
           "Greece",
           "Fencing",
           "Fencing Men's epee, Team"
          ],
          [
           27,
           "Bohemia",
           "Fencing",
           "Fencing Men's Foil, Individual"
          ],
          [
           27,
           "Bohemia",
           "Fencing",
           "Fencing Men's epee, Individual"
          ],
          [
           27,
           "Bohemia",
           "Fencing",
           "Fencing Men's epee, Team"
          ],
          [
           null,
           "Russia",
           "Fencing",
           "Fencing Men's Sabre, Individual"
          ],
          [
           null,
           "Russia",
           "Fencing",
           "Fencing Men's Sabre, Team"
          ],
          [
           21,
           "United States",
           "Fencing",
           "Fencing Men's Foil, Individual"
          ],
          [
           21,
           "United States",
           "Fencing",
           "Fencing Men's epee, Individual"
          ],
          [
           null,
           "Belgium",
           "Fencing",
           "Fencing Men's epee, Individual"
          ],
          [
           null,
           "Belgium",
           "Fencing",
           "Fencing Men's Sabre, Team"
          ],
          [
           null,
           "Russia",
           "Fencing",
           "Fencing Men's Foil, Individual"
          ],
          [
           31,
           "Denmark",
           "Fencing",
           "Fencing Men's Foil, Individual"
          ],
          [
           31,
           "Denmark",
           "Fencing",
           "Fencing Men's epee, Individual"
          ],
          [
           31,
           "Denmark",
           "Fencing",
           "Fencing Men's epee, Team"
          ],
          [
           31,
           "Denmark",
           "Fencing",
           "Fencing Men's Sabre, Individual"
          ],
          [
           31,
           "Denmark",
           "Fencing",
           "Fencing Men's Sabre, Team"
          ],
          [
           27,
           "Germany",
           "Fencing",
           "Fencing Men's Foil, Individual"
          ],
          [
           27,
           "Germany",
           "Fencing",
           "Fencing Men's epee, Individual"
          ],
          [
           27,
           "Germany",
           "Fencing",
           "Fencing Men's Sabre, Individual"
          ],
          [
           27,
           "Germany",
           "Fencing",
           "Fencing Men's Sabre, Team"
          ],
          [
           28,
           "Sweden",
           "Fencing",
           "Fencing Men's epee, Individual"
          ],
          [
           28,
           "Sweden",
           "Fencing",
           "Fencing Men's epee, Team"
          ],
          [
           24,
           "Sweden",
           "Fencing",
           "Fencing Men's Sabre, Individual"
          ],
          [
           26,
           "Germany",
           "Fencing",
           "Fencing Men's Foil, Individual"
          ],
          [
           22,
           "United States",
           "Fencing",
           "Fencing Men's Foil, Individual"
          ],
          [
           22,
           "United States",
           "Fencing",
           "Fencing Men's epee, Individual"
          ],
          [
           22,
           "United States",
           "Fencing",
           "Fencing Men's epee, Team"
          ],
          [
           41,
           "Greece",
           "Fencing",
           "Fencing Men's epee, Individual"
          ],
          [
           41,
           "Greece",
           "Fencing",
           "Fencing Men's epee, Team"
          ],
          [
           35,
           "Great Britain",
           "Fencing",
           "Fencing Men's Sabre, Individual"
          ],
          [
           35,
           "Great Britain",
           "Fencing",
           "Fencing Men's Sabre, Team"
          ],
          [
           49,
           "Great Britain",
           "Fencing",
           "Fencing Men's Foil, Individual"
          ],
          [
           49,
           "Great Britain",
           "Fencing",
           "Fencing Men's epee, Individual"
          ],
          [
           49,
           "Great Britain",
           "Fencing",
           "Fencing Men's epee, Team"
          ],
          [
           null,
           "Russia",
           "Fencing",
           "Fencing Men's Foil, Individual"
          ],
          [
           null,
           "Russia",
           "Fencing",
           "Fencing Men's epee, Individual"
          ],
          [
           null,
           "Russia",
           "Fencing",
           "Fencing Men's epee, Team"
          ],
          [
           38,
           "Norway",
           "Fencing",
           "Fencing Men's epee, Individual"
          ],
          [
           null,
           "Germany",
           "Fencing",
           "Fencing Men's epee, Individual"
          ],
          [
           null,
           "Germany",
           "Fencing",
           "Fencing Men's Sabre, Team"
          ],
          [
           35,
           "Hungary",
           "Fencing",
           "Fencing Men's Sabre, Individual"
          ],
          [
           35,
           "Hungary",
           "Fencing",
           "Fencing Men's Sabre, Team"
          ],
          [
           37,
           "Netherlands",
           "Fencing",
           "Fencing Men's epee, Individual"
          ],
          [
           32,
           "Great Britain",
           "Fencing",
           "Fencing Men's Foil, Individual"
          ],
          [
           32,
           "Great Britain",
           "Fencing",
           "Fencing Men's epee, Individual"
          ],
          [
           32,
           "Great Britain",
           "Fencing",
           "Fencing Men's epee, Team"
          ],
          [
           21,
           "United States",
           "Fencing",
           "Fencing Men's epee, Individual"
          ],
          [
           39,
           "Russia",
           "Fencing",
           "Fencing Men's Foil, Individual"
          ],
          [
           39,
           "Russia",
           "Fencing",
           "Fencing Men's Sabre, Individual"
          ],
          [
           39,
           "Russia",
           "Fencing",
           "Fencing Men's Sabre, Team"
          ],
          [
           63,
           "Austria",
           "Fencing",
           "Fencing Men's Sabre, Individual"
          ],
          [
           17,
           "Italy",
           "Fencing",
           "Fencing Men's Foil, Individual"
          ],
          [
           17,
           "Italy",
           "Fencing",
           "Fencing Men's Sabre, Individual"
          ],
          [
           17,
           "Italy",
           "Fencing",
           "Fencing Men's Sabre, Team"
          ],
          [
           44,
           "Netherlands",
           "Fencing",
           "Fencing Men's epee, Team"
          ],
          [
           36,
           "Germany",
           "Fencing",
           "Fencing Men's Foil, Individual"
          ],
          [
           null,
           "Russia",
           "Fencing",
           "Fencing Men's Sabre, Individual"
          ],
          [
           23,
           "Sweden",
           "Fencing",
           "Fencing Men's Sabre, Individual"
          ],
          [
           null,
           "Greece",
           "Fencing",
           "Fencing Men's Foil, Individual"
          ],
          [
           null,
           "Greece",
           "Fencing",
           "Fencing Men's epee, Individual"
          ],
          [
           null,
           "Greece",
           "Fencing",
           "Fencing Men's epee, Team"
          ],
          [
           29,
           "Belgium",
           "Fencing",
           "Fencing Men's Foil, Individual"
          ],
          [
           29,
           "Belgium",
           "Fencing",
           "Fencing Men's epee, Individual"
          ],
          [
           29,
           "Belgium",
           "Fencing",
           "Fencing Men's epee, Team"
          ],
          [
           26,
           "Denmark",
           "Fencing",
           "Fencing Men's Foil, Individual"
          ],
          [
           26,
           "Denmark",
           "Fencing",
           "Fencing Men's epee, Individual"
          ],
          [
           26,
           "Denmark",
           "Fencing",
           "Fencing Men's epee, Team"
          ],
          [
           26,
           "Denmark",
           "Fencing",
           "Fencing Men's Sabre, Team"
          ],
          [
           23,
           "Denmark",
           "Fencing",
           "Fencing Men's Foil, Individual"
          ],
          [
           23,
           "Denmark",
           "Fencing",
           "Fencing Men's epee, Individual"
          ],
          [
           23,
           "Denmark",
           "Fencing",
           "Fencing Men's epee, Team"
          ],
          [
           23,
           "Denmark",
           "Fencing",
           "Fencing Men's Sabre, Team"
          ],
          [
           30,
           "Denmark",
           "Fencing",
           "Fencing Men's Foil, Individual"
          ],
          [
           30,
           "Denmark",
           "Fencing",
           "Fencing Men's epee, Individual"
          ],
          [
           30,
           "Denmark",
           "Fencing",
           "Fencing Men's epee, Team"
          ],
          [
           30,
           "Denmark",
           "Fencing",
           "Fencing Men's Sabre, Team"
          ],
          [
           null,
           "Hungary",
           "Fencing",
           "Fencing Men's Foil, Individual"
          ],
          [
           null,
           "Hungary",
           "Fencing",
           "Fencing Men's Sabre, Individual"
          ],
          [
           24,
           "Netherlands",
           "Fencing",
           "Fencing Men's epee, Individual"
          ],
          [
           23,
           "Sweden",
           "Fencing",
           "Fencing Men's Foil, Individual"
          ],
          [
           23,
           "Sweden",
           "Fencing",
           "Fencing Men's Sabre, Individual"
          ],
          [
           23,
           "Sweden",
           "Fencing",
           "Fencing Men's Sabre, Team"
          ],
          [
           39,
           "Greece",
           "Fencing",
           "Fencing Men's epee, Individual"
          ],
          [
           39,
           "Greece",
           "Fencing",
           "Fencing Men's epee, Team"
          ],
          [
           null,
           "Bohemia",
           "Fencing",
           "Fencing Men's Foil, Individual"
          ],
          [
           null,
           "Bohemia",
           "Fencing",
           "Fencing Men's epee, Individual"
          ],
          [
           null,
           "Bohemia",
           "Fencing",
           "Fencing Men's epee, Team"
          ],
          [
           null,
           "Bohemia",
           "Fencing",
           "Fencing Men's Sabre, Team"
          ],
          [
           null,
           "Italy",
           "Fencing",
           "Fencing Men's Foil, Individual"
          ],
          [
           null,
           "Italy",
           "Fencing",
           "Fencing Men's Sabre, Individual"
          ],
          [
           33,
           "Germany",
           "Fencing",
           "Fencing Men's Foil, Individual"
          ],
          [
           33,
           "Germany",
           "Fencing",
           "Fencing Men's epee, Individual"
          ],
          [
           33,
           "Germany",
           "Fencing",
           "Fencing Men's epee, Team"
          ],
          [
           33,
           "Germany",
           "Fencing",
           "Fencing Men's Sabre, Team"
          ],
          [
           34,
           "Norway",
           "Fencing",
           "Fencing Men's epee, Individual"
          ],
          [
           null,
           "Italy",
           "Fencing",
           "Fencing Men's Sabre, Individual"
          ],
          [
           35,
           "Austria",
           "Fencing",
           "Fencing Men's Foil, Individual"
          ],
          [
           35,
           "Austria",
           "Fencing",
           "Fencing Men's Sabre, Individual"
          ],
          [
           23,
           "United States",
           "Fencing",
           "Fencing Men's Foil, Individual"
          ],
          [
           30,
           "Great Britain",
           "Fencing",
           "Fencing Men's Sabre, Individual"
          ],
          [
           30,
           "Great Britain",
           "Fencing",
           "Fencing Men's Sabre, Team"
          ],
          [
           null,
           "Hungary",
           "Fencing",
           "Fencing Men's epee, Individual"
          ],
          [
           34,
           "Belgium",
           "Fencing",
           "Fencing Men's Foil, Individual"
          ],
          [
           34,
           "Belgium",
           "Fencing",
           "Fencing Men's epee, Individual"
          ],
          [
           34,
           "Belgium",
           "Fencing",
           "Fencing Men's epee, Team"
          ],
          [
           35,
           "Russia",
           "Fencing",
           "Fencing Men's Foil, Individual"
          ],
          [
           36,
           "Russia",
           "Fencing",
           "Fencing Men's Foil, Individual"
          ],
          [
           36,
           "Russia",
           "Fencing",
           "Fencing Men's epee, Individual"
          ],
          [
           36,
           "Russia",
           "Fencing",
           "Fencing Men's epee, Team"
          ],
          [
           31,
           "United States",
           "Fencing",
           "Fencing Men's Foil, Individual"
          ],
          [
           31,
           "United States",
           "Fencing",
           "Fencing Men's epee, Individual"
          ],
          [
           31,
           "United States",
           "Fencing",
           "Fencing Men's Sabre, Individual"
          ],
          [
           32,
           "Netherlands",
           "Fencing",
           "Fencing Men's Sabre, Team"
          ],
          [
           null,
           "Bohemia",
           "Fencing",
           "Fencing Men's Sabre, Team"
          ],
          [
           24,
           "United States",
           "Fencing",
           "Fencing Men's epee, Individual"
          ],
          [
           31,
           "Hungary",
           "Fencing",
           "Fencing Men's Foil, Individual"
          ],
          [
           31,
           "Hungary",
           "Fencing",
           "Fencing Men's Sabre, Individual"
          ],
          [
           31,
           "Hungary",
           "Fencing",
           "Fencing Men's Sabre, Team"
          ],
          [
           39,
           "Germany",
           "Fencing",
           "Fencing Men's Foil, Individual"
          ],
          [
           39,
           "Germany",
           "Fencing",
           "Fencing Men's epee, Individual"
          ],
          [
           39,
           "Germany",
           "Fencing",
           "Fencing Men's epee, Team"
          ],
          [
           39,
           "Germany",
           "Fencing",
           "Fencing Men's Sabre, Team"
          ],
          [
           null,
           "Germany",
           "Fencing",
           "Fencing Men's epee, Individual"
          ],
          [
           null,
           "Germany",
           "Fencing",
           "Fencing Men's epee, Individual"
          ],
          [
           null,
           "Germany",
           "Fencing",
           "Fencing Men's epee, Team"
          ],
          [
           null,
           "Germany",
           "Fencing",
           "Fencing Men's Sabre, Individual"
          ],
          [
           null,
           "Germany",
           "Fencing",
           "Fencing Men's Sabre, Team"
          ],
          [
           45,
           "Great Britain",
           "Fencing",
           "Fencing Men's Foil, Individual"
          ],
          [
           45,
           "Great Britain",
           "Fencing",
           "Fencing Men's epee, Individual"
          ],
          [
           45,
           "Great Britain",
           "Fencing",
           "Fencing Men's epee, Team"
          ],
          [
           null,
           "Russia",
           "Fencing",
           "Fencing Men's Sabre, Individual"
          ],
          [
           null,
           "Russia",
           "Fencing",
           "Fencing Men's Sabre, Team"
          ],
          [
           null,
           "Russia",
           "Fencing",
           "Fencing Men's epee, Individual"
          ],
          [
           null,
           "Russia",
           "Fencing",
           "Fencing Men's epee, Team"
          ],
          [
           36,
           "Sweden",
           "Fencing",
           "Fencing Men's epee, Individual"
          ],
          [
           36,
           "Sweden",
           "Fencing",
           "Fencing Men's epee, Team"
          ],
          [
           48,
           "Sweden",
           "Fencing",
           "Fencing Men's epee, Individual"
          ],
          [
           48,
           "Sweden",
           "Fencing",
           "Fencing Men's epee, Team"
          ],
          [
           35,
           "Italy",
           "Fencing",
           "Fencing Men's Foil, Individual"
          ],
          [
           37,
           "Great Britain",
           "Fencing",
           "Fencing Men's Foil, Individual"
          ],
          [
           37,
           "Great Britain",
           "Fencing",
           "Fencing Men's epee, Individual"
          ],
          [
           26,
           "Germany",
           "Fencing",
           "Fencing Men's Sabre, Individual"
          ],
          [
           26,
           "Germany",
           "Fencing",
           "Fencing Men's Sabre, Team"
          ],
          [
           35,
           "Austria",
           "Fencing",
           "Fencing Men's Foil, Individual"
          ],
          [
           35,
           "Austria",
           "Fencing",
           "Fencing Men's Sabre, Team"
          ],
          [
           25,
           "Bohemia",
           "Fencing",
           "Fencing Men's Sabre, Team"
          ],
          [
           32,
           "Great Britain",
           "Fencing",
           "Fencing Men's Sabre, Individual"
          ],
          [
           23,
           "Germany",
           "Fencing",
           "Fencing Men's epee, Individual"
          ],
          [
           23,
           "Germany",
           "Fencing",
           "Fencing Men's Sabre, Individual"
          ],
          [
           23,
           "Germany",
           "Fencing",
           "Fencing Men's Foil, Individual"
          ],
          [
           24,
           "Russia",
           "Fencing",
           "Fencing Men's Sabre, Individual"
          ],
          [
           24,
           "Russia",
           "Fencing",
           "Fencing Men's Sabre, Team"
          ],
          [
           23,
           "Belgium",
           "Fencing",
           "Fencing Men's Foil, Individual"
          ],
          [
           23,
           "Belgium",
           "Fencing",
           "Fencing Men's epee, Individual"
          ],
          [
           23,
           "Belgium",
           "Fencing",
           "Fencing Men's Sabre, Team"
          ],
          [
           29,
           "Hungary",
           "Fencing",
           "Fencing Men's Foil, Individual"
          ],
          [
           29,
           "Hungary",
           "Fencing",
           "Fencing Men's Sabre, Individual"
          ],
          [
           29,
           "Hungary",
           "Fencing",
           "Fencing Men's Sabre, Team"
          ],
          [
           34,
           "Austria",
           "Fencing",
           "Fencing Men's Foil, Individual"
          ],
          [
           34,
           "Austria",
           "Fencing",
           "Fencing Men's Sabre, Team"
          ],
          [
           null,
           "Greece",
           "Fencing",
           "Fencing Men's epee, Individual"
          ],
          [
           null,
           "Greece",
           "Fencing",
           "Fencing Men's epee, Team"
          ],
          [
           null,
           "Bohemia",
           "Fencing",
           "Fencing Men's Foil, Individual"
          ],
          [
           null,
           "Bohemia",
           "Fencing",
           "Fencing Men's epee, Individual"
          ],
          [
           38,
           "Great Britain",
           "Fencing",
           "Fencing Men's epee, Individual"
          ],
          [
           38,
           "Great Britain",
           "Fencing",
           "Fencing Men's Sabre, Individual"
          ],
          [
           39,
           "Netherlands",
           "Fencing",
           "Fencing Men's epee, Individual"
          ],
          [
           29,
           "Netherlands",
           "Fencing",
           "Fencing Men's epee, Individual"
          ],
          [
           29,
           "Netherlands",
           "Fencing",
           "Fencing Men's epee, Team"
          ],
          [
           29,
           "Netherlands",
           "Fencing",
           "Fencing Men's Sabre, Team"
          ],
          [
           45,
           "United States",
           "Fencing",
           "Fencing Men's Foil, Individual"
          ],
          [
           45,
           "United States",
           "Fencing",
           "Fencing Men's epee, Individual"
          ],
          [
           45,
           "United States",
           "Fencing",
           "Fencing Men's epee, Team"
          ],
          [
           45,
           "United States",
           "Fencing",
           "Fencing Men's Sabre, Individual"
          ],
          [
           null,
           "Russia",
           "Fencing",
           "Fencing Men's Sabre, Individual"
          ],
          [
           20,
           "Bohemia",
           "Fencing",
           "Fencing Men's Foil, Individual"
          ],
          [
           20,
           "Bohemia",
           "Fencing",
           "Fencing Men's epee, Individual"
          ],
          [
           28,
           "Austria",
           "Fencing",
           "Fencing Men's Foil, Individual"
          ],
          [
           28,
           "Austria",
           "Fencing",
           "Fencing Men's Sabre, Team"
          ],
          [
           null,
           "Greece",
           "Fencing",
           "Fencing Men's epee, Individual"
          ],
          [
           null,
           "Greece",
           "Fencing",
           "Fencing Men's epee, Team"
          ],
          [
           30,
           "Sweden",
           "Fencing",
           "Fencing Men's epee, Team"
          ],
          [
           34,
           "Norway",
           "Fencing",
           "Fencing Men's Foil, Individual"
          ],
          [
           34,
           "Norway",
           "Fencing",
           "Fencing Men's epee, Individual"
          ],
          [
           34,
           "Norway",
           "Fencing",
           "Fencing Men's epee, Team"
          ],
          [
           28,
           "Hungary",
           "Fencing",
           "Fencing Men's Sabre, Individual"
          ],
          [
           28,
           "Hungary",
           "Fencing",
           "Fencing Men's Sabre, Team"
          ],
          [
           28,
           "Sweden",
           "Fencing",
           "Fencing Men's Sabre, Individual"
          ],
          [
           28,
           "Sweden",
           "Fencing",
           "Fencing Men's Sabre, Team"
          ],
          [
           35,
           "Belgium",
           "Fencing",
           "Fencing Men's Foil, Individual"
          ],
          [
           35,
           "Belgium",
           "Fencing",
           "Fencing Men's epee, Individual"
          ],
          [
           35,
           "Belgium",
           "Fencing",
           "Fencing Men's epee, Team"
          ],
          [
           null,
           "Russia",
           "Fencing",
           "Fencing Men's Sabre, Individual"
          ],
          [
           null,
           "Russia",
           "Fencing",
           "Fencing Men's Sabre, Team"
          ],
          [
           null,
           "Russia",
           "Fencing",
           "Fencing Men's Foil, Individual"
          ],
          [
           20,
           "Germany",
           "Fencing",
           "Fencing Men's Foil, Individual"
          ],
          [
           20,
           "Germany",
           "Fencing",
           "Fencing Men's epee, Team"
          ],
          [
           20,
           "Austria",
           "Fencing",
           "Fencing Men's Sabre, Individual"
          ],
          [
           42,
           "Hungary",
           "Fencing",
           "Fencing Men's Foil, Individual"
          ],
          [
           42,
           "Hungary",
           "Fencing",
           "Fencing Men's Sabre, Individual"
          ]
         ],
         "hovertemplate": "<b>%{hovertext}</b><br><br>Sport=%{customdata[2]}<br>Sex=M<br>Country=%{x}<br>Medal=%{y}<br>Age=%{customdata[0]}<br>Team=%{customdata[1]}<br>Event=%{customdata[3]}<extra></extra>",
         "hovertext": [
          1912,
          1912,
          1912,
          1912,
          1912,
          1912,
          1912,
          1912,
          1912,
          1912,
          1912,
          1912,
          1912,
          1912,
          1912,
          1912,
          1912,
          1912,
          1912,
          1912,
          1912,
          1912,
          1912,
          1912,
          1912,
          1912,
          1912,
          1912,
          1912,
          1912,
          1912,
          1912,
          1912,
          1912,
          1912,
          1912,
          1912,
          1912,
          1912,
          1912,
          1912,
          1912,
          1912,
          1912,
          1912,
          1912,
          1912,
          1912,
          1912,
          1912,
          1912,
          1912,
          1912,
          1912,
          1912,
          1912,
          1912,
          1912,
          1912,
          1912,
          1912,
          1912,
          1912,
          1912,
          1912,
          1912,
          1912,
          1912,
          1912,
          1912,
          1912,
          1912,
          1912,
          1912,
          1912,
          1912,
          1912,
          1912,
          1912,
          1912,
          1912,
          1912,
          1912,
          1912,
          1912,
          1912,
          1912,
          1912,
          1912,
          1912,
          1912,
          1912,
          1912,
          1912,
          1912,
          1912,
          1912,
          1912,
          1912,
          1912,
          1912,
          1912,
          1912,
          1912,
          1912,
          1912,
          1912,
          1912,
          1912,
          1912,
          1912,
          1912,
          1912,
          1912,
          1912,
          1912,
          1912,
          1912,
          1912,
          1912,
          1912,
          1912,
          1912,
          1912,
          1912,
          1912,
          1912,
          1912,
          1912,
          1912,
          1912,
          1912,
          1912,
          1912,
          1912,
          1912,
          1912,
          1912,
          1912,
          1912,
          1912,
          1912,
          1912,
          1912,
          1912,
          1912,
          1912,
          1912,
          1912,
          1912,
          1912,
          1912,
          1912,
          1912,
          1912,
          1912,
          1912,
          1912,
          1912,
          1912,
          1912,
          1912,
          1912,
          1912,
          1912,
          1912,
          1912,
          1912,
          1912,
          1912,
          1912,
          1912,
          1912,
          1912,
          1912,
          1912,
          1912,
          1912,
          1912,
          1912,
          1912,
          1912,
          1912,
          1912,
          1912,
          1912,
          1912,
          1912,
          1912,
          1912,
          1912,
          1912,
          1912,
          1912,
          1912,
          1912,
          1912,
          1912,
          1912,
          1912,
          1912,
          1912,
          1912,
          1912,
          1912,
          1912,
          1912,
          1912,
          1912,
          1912,
          1912,
          1912,
          1912,
          1912,
          1912,
          1912,
          1912,
          1912,
          1912,
          1912,
          1912,
          1912,
          1912,
          1912,
          1912,
          1912,
          1912,
          1912,
          1912,
          1912,
          1912,
          1912,
          1912,
          1912,
          1912,
          1912,
          1912,
          1912,
          1912,
          1912,
          1912,
          1912,
          1912,
          1912,
          1912,
          1912,
          1912,
          1912,
          1912,
          1912,
          1912,
          1912,
          1912,
          1912,
          1912,
          1912,
          1912,
          1912,
          1912,
          1912,
          1912,
          1912,
          1912,
          1912,
          1912,
          1912,
          1912,
          1912,
          1912,
          1912,
          1912,
          1912,
          1912,
          1912,
          1912,
          1912,
          1912,
          1912,
          1912,
          1912,
          1912,
          1912,
          1912,
          1912,
          1912,
          1912,
          1912,
          1912,
          1912,
          1912,
          1912,
          1912,
          1912,
          1912,
          1912,
          1912,
          1912,
          1912,
          1912,
          1912,
          1912,
          1912,
          1912,
          1912,
          1912,
          1912,
          1912,
          1912,
          1912,
          1912,
          1912,
          1912,
          1912,
          1912,
          1912,
          1912,
          1912,
          1912,
          1912,
          1912,
          1912,
          1912,
          1912,
          1912,
          1912,
          1912,
          1912,
          1912,
          1912,
          1912,
          1912,
          1912,
          1912,
          1912,
          1912,
          1912,
          1912,
          1912,
          1912,
          1912,
          1912,
          1912,
          1912,
          1912,
          1912,
          1912,
          1912,
          1912,
          1912,
          1912,
          1912,
          1912,
          1912,
          1912,
          1912,
          1912,
          1912,
          1912,
          1912,
          1912,
          1912,
          1912,
          1912,
          1912,
          1912,
          1912,
          1912,
          1912,
          1912,
          1912,
          1912,
          1912,
          1912,
          1912,
          1912,
          1912,
          1912,
          1912,
          1912
         ],
         "legendgroup": "Fencing",
         "marker": {
          "color": "#00cc96",
          "pattern": {
           "shape": ""
          }
         },
         "name": "Fencing",
         "offsetgroup": "Fencing",
         "orientation": "v",
         "showlegend": true,
         "textposition": "auto",
         "type": "bar",
         "x": [
          "NOR",
          "NOR",
          "NOR",
          "GER",
          "GER",
          "ITA",
          "ITA",
          "ITA",
          "GBR",
          "GBR",
          "GBR",
          "GBR",
          "GBR",
          "RUS",
          "RUS",
          "BEL",
          "BEL",
          "BEL",
          "BEL",
          "BEL",
          "BEL",
          "BEL",
          "SWE",
          "SWE",
          "RUS",
          "BOH",
          "BOH",
          "HUN",
          "HUN",
          "HUN",
          "ITA",
          "ITA",
          "ITA",
          "NOR",
          "NOR",
          "DEN",
          "DEN",
          "DEN",
          "BEL",
          "BEL",
          "BEL",
          "DEN",
          "DEN",
          "DEN",
          "DEN",
          "HUN",
          "HUN",
          "HUN",
          "RUS",
          "RUS",
          "RUS",
          "GBR",
          "AUT",
          "AUT",
          "BEL",
          "SWE",
          "USA",
          "USA",
          "USA",
          "SWE",
          "SWE",
          "USA",
          "USA",
          "USA",
          "USA",
          "USA",
          "GBR",
          "GBR",
          "GBR",
          "GBR",
          "SWE",
          "ITA",
          "ITA",
          "BOH",
          "GBR",
          "GBR",
          "POR",
          "GBR",
          "AUT",
          "AUT",
          "RUS",
          "RUS",
          "GER",
          "GBR",
          "GBR",
          "GBR",
          "NED",
          "NED",
          "NED",
          "NED",
          "NED",
          "NED",
          "NED",
          "NED",
          "BEL",
          "BEL",
          "AUT",
          "AUT",
          "ITA",
          "NED",
          "NED",
          "HUN",
          "HUN",
          "SWE",
          "GER",
          "NOR",
          "NOR",
          "GBR",
          "GBR",
          "GBR",
          "RUS",
          "NOR",
          "NOR",
          "HUN",
          "HUN",
          "HUN",
          "HUN",
          "HUN",
          "RSA",
          "RSA",
          "RSA",
          "HUN",
          "HUN",
          "RUS",
          "RUS",
          "USA",
          "USA",
          "GBR",
          "AUT",
          "AUT",
          "AUT",
          "BOH",
          "BOH",
          "BOH",
          "BOH",
          "BOH",
          "BOH",
          "RUS",
          "AUT",
          "RUS",
          "SWE",
          "SWE",
          "RUS",
          "RUS",
          "RUS",
          "USA",
          "USA",
          "USA",
          "USA",
          "USA",
          "BEL",
          "BEL",
          "BEL",
          "AUT",
          "SWE",
          "GBR",
          "GBR",
          "NED",
          "NED",
          "NED",
          "GER",
          "BOH",
          "BOH",
          "BOH",
          "SWE",
          "SWE",
          "GRE",
          "GBR",
          "RUS",
          "RUS",
          "RUS",
          "SWE",
          "SWE",
          "BOH",
          "BOH",
          "RUS",
          "RUS",
          "NED",
          "GRE",
          "GRE",
          "BOH",
          "BOH",
          "BOH",
          "RUS",
          "RUS",
          "USA",
          "USA",
          "BEL",
          "BEL",
          "RUS",
          "DEN",
          "DEN",
          "DEN",
          "DEN",
          "DEN",
          "GER",
          "GER",
          "GER",
          "GER",
          "SWE",
          "SWE",
          "SWE",
          "GER",
          "USA",
          "USA",
          "USA",
          "GRE",
          "GRE",
          "GBR",
          "GBR",
          "GBR",
          "GBR",
          "GBR",
          "RUS",
          "RUS",
          "RUS",
          "NOR",
          "GER",
          "GER",
          "HUN",
          "HUN",
          "NED",
          "GBR",
          "GBR",
          "GBR",
          "USA",
          "RUS",
          "RUS",
          "RUS",
          "AUT",
          "ITA",
          "ITA",
          "ITA",
          "NED",
          "GER",
          "RUS",
          "SWE",
          "GRE",
          "GRE",
          "GRE",
          "BEL",
          "BEL",
          "BEL",
          "DEN",
          "DEN",
          "DEN",
          "DEN",
          "DEN",
          "DEN",
          "DEN",
          "DEN",
          "DEN",
          "DEN",
          "DEN",
          "DEN",
          "HUN",
          "HUN",
          "NED",
          "SWE",
          "SWE",
          "SWE",
          "GRE",
          "GRE",
          "BOH",
          "BOH",
          "BOH",
          "BOH",
          "ITA",
          "ITA",
          "GER",
          "GER",
          "GER",
          "GER",
          "NOR",
          "ITA",
          "AUT",
          "AUT",
          "USA",
          "GBR",
          "GBR",
          "HUN",
          "BEL",
          "BEL",
          "BEL",
          "RUS",
          "RUS",
          "RUS",
          "RUS",
          "USA",
          "USA",
          "USA",
          "NED",
          "BOH",
          "USA",
          "HUN",
          "HUN",
          "HUN",
          "GER",
          "GER",
          "GER",
          "GER",
          "GER",
          "GER",
          "GER",
          "GER",
          "GER",
          "GBR",
          "GBR",
          "GBR",
          "RUS",
          "RUS",
          "RUS",
          "RUS",
          "SWE",
          "SWE",
          "SWE",
          "SWE",
          "ITA",
          "GBR",
          "GBR",
          "GER",
          "GER",
          "AUT",
          "AUT",
          "BOH",
          "GBR",
          "GER",
          "GER",
          "GER",
          "RUS",
          "RUS",
          "BEL",
          "BEL",
          "BEL",
          "HUN",
          "HUN",
          "HUN",
          "AUT",
          "AUT",
          "GRE",
          "GRE",
          "BOH",
          "BOH",
          "GBR",
          "GBR",
          "NED",
          "NED",
          "NED",
          "NED",
          "USA",
          "USA",
          "USA",
          "USA",
          "RUS",
          "BOH",
          "BOH",
          "AUT",
          "AUT",
          "GRE",
          "GRE",
          "SWE",
          "NOR",
          "NOR",
          "NOR",
          "HUN",
          "HUN",
          "SWE",
          "SWE",
          "BEL",
          "BEL",
          "BEL",
          "RUS",
          "RUS",
          "RUS",
          "GER",
          "GER",
          "AUT",
          "HUN",
          "HUN"
         ],
         "xaxis": "x",
         "y": [
          null,
          null,
          null,
          null,
          null,
          null,
          null,
          null,
          null,
          null,
          null,
          null,
          null,
          null,
          null,
          null,
          null,
          "Gold",
          null,
          null,
          "Gold",
          "Gold",
          null,
          null,
          null,
          null,
          null,
          null,
          null,
          "Silver",
          null,
          null,
          null,
          null,
          null,
          null,
          null,
          null,
          null,
          null,
          null,
          null,
          null,
          null,
          null,
          null,
          null,
          "Gold",
          null,
          null,
          null,
          null,
          null,
          "Silver",
          null,
          null,
          null,
          null,
          null,
          null,
          null,
          null,
          null,
          null,
          null,
          null,
          null,
          null,
          null,
          null,
          null,
          null,
          null,
          null,
          null,
          null,
          null,
          null,
          null,
          "Silver",
          null,
          null,
          null,
          null,
          null,
          "Silver",
          null,
          null,
          null,
          "Bronze",
          null,
          null,
          "Bronze",
          "Bronze",
          null,
          null,
          null,
          null,
          null,
          "Bronze",
          "Bronze",
          null,
          null,
          null,
          null,
          null,
          null,
          null,
          "Silver",
          null,
          null,
          null,
          null,
          null,
          null,
          "Gold",
          "Gold",
          "Gold",
          null,
          null,
          null,
          null,
          "Gold",
          null,
          null,
          null,
          null,
          null,
          null,
          null,
          "Silver",
          null,
          null,
          null,
          null,
          null,
          null,
          null,
          null,
          null,
          null,
          null,
          null,
          null,
          null,
          null,
          null,
          null,
          null,
          null,
          null,
          "Gold",
          null,
          "Silver",
          null,
          null,
          "Silver",
          null,
          "Bronze",
          "Bronze",
          null,
          null,
          null,
          null,
          null,
          null,
          null,
          null,
          null,
          null,
          null,
          null,
          null,
          null,
          null,
          null,
          null,
          null,
          null,
          null,
          null,
          null,
          null,
          null,
          null,
          null,
          null,
          "Bronze",
          null,
          null,
          null,
          null,
          null,
          null,
          null,
          null,
          null,
          null,
          null,
          null,
          null,
          null,
          null,
          null,
          null,
          null,
          null,
          null,
          null,
          null,
          null,
          null,
          "Silver",
          null,
          null,
          null,
          null,
          null,
          null,
          "Bronze",
          "Gold",
          null,
          null,
          null,
          "Silver",
          null,
          null,
          null,
          null,
          null,
          "Gold",
          null,
          null,
          "Bronze",
          null,
          null,
          null,
          null,
          null,
          null,
          null,
          null,
          "Gold",
          null,
          null,
          null,
          null,
          null,
          "Silver",
          null,
          null,
          null,
          null,
          null,
          null,
          null,
          null,
          null,
          null,
          null,
          null,
          null,
          null,
          null,
          null,
          null,
          null,
          null,
          null,
          null,
          null,
          null,
          null,
          null,
          null,
          null,
          null,
          null,
          null,
          null,
          null,
          null,
          null,
          "Gold",
          null,
          null,
          null,
          null,
          null,
          null,
          null,
          "Bronze",
          null,
          null,
          null,
          null,
          "Gold",
          null,
          null,
          null,
          null,
          null,
          null,
          null,
          null,
          null,
          null,
          null,
          "Silver",
          null,
          null,
          null,
          null,
          null,
          null,
          null,
          null,
          "Silver",
          null,
          null,
          null,
          null,
          null,
          "Silver",
          null,
          null,
          null,
          null,
          null,
          null,
          null,
          null,
          null,
          null,
          null,
          null,
          "Gold",
          null,
          "Silver",
          null,
          null,
          null,
          null,
          null,
          null,
          null,
          null,
          "Bronze",
          "Bronze",
          null,
          null,
          null,
          null,
          null,
          null,
          null,
          "Bronze",
          "Silver",
          null,
          null,
          null,
          null,
          null,
          null,
          null,
          "Gold",
          null,
          null,
          null,
          null,
          "Gold",
          null,
          null,
          null,
          null,
          null,
          null,
          null,
          null
         ],
         "yaxis": "y"
        },
        {
         "alignmentgroup": "True",
         "customdata": [
          [
           25,
           "Taifun",
           "Sailing",
           "Sailing Mixed 8 metres"
          ],
          [
           21,
           "Bylina-2",
           "Sailing",
           "Sailing Mixed 8 metres"
          ],
          [
           26,
           "Lucky Girl-1",
           "Sailing",
           "Sailing Mixed 8 metres"
          ],
          [
           20,
           "Heatherbell",
           "Sailing",
           "Sailing Mixed 12 metres"
          ],
          [
           30,
           "rn-2",
           "Sailing",
           "Sailing Mixed 8 metres"
          ],
          [
           27,
           "rn-2",
           "Sailing",
           "Sailing Mixed 8 metres"
          ],
          [
           40,
           "Magda IX",
           "Sailing",
           "Sailing Mixed 12 metres"
          ],
          [
           19,
           "Kerstin-1",
           "Sailing",
           "Sailing Mixed 6 metres"
          ],
          [
           41,
           "Gallia II",
           "Sailing",
           "Sailing Mixed 10 metres"
          ],
          [
           25,
           "Erna Signe",
           "Sailing",
           "Sailing Mixed 12 metres"
          ],
          [
           26,
           "Erna Signe",
           "Sailing",
           "Sailing Mixed 12 metres"
          ],
          [
           20,
           "Erna Signe",
           "Sailing",
           "Sailing Mixed 12 metres"
          ],
          [
           32,
           "Magda IX",
           "Sailing",
           "Sailing Mixed 12 metres"
          ],
          [
           38,
           "Nina",
           "Sailing",
           "Sailing Mixed 10 metres"
          ],
          [
           30,
           "Nina",
           "Sailing",
           "Sailing Mixed 10 metres"
          ],
          [
           19,
           "Marga-2",
           "Sailing",
           "Sailing Mixed 10 metres"
          ],
          [
           19,
           "Marga-2",
           "Sailing",
           "Sailing Mixed 10 metres"
          ],
          [
           38,
           "Gallia II",
           "Sailing",
           "Sailing Mixed 10 metres"
          ],
          [
           32,
           "Taifun",
           "Sailing",
           "Sailing Mixed 8 metres"
          ],
          [
           56,
           "Nina",
           "Sailing",
           "Sailing Mixed 10 metres"
          ],
          [
           45,
           "Sonja II",
           "Sailing",
           "Sailing Mixed 6 metres"
          ],
          [
           44,
           "Sonja II",
           "Sailing",
           "Sailing Mixed 6 metres"
          ],
          [
           46,
           "Erna Signe",
           "Sailing",
           "Sailing Mixed 12 metres"
          ],
          [
           21,
           "Taifun",
           "Sailing",
           "Sailing Mixed 8 metres"
          ],
          [
           29,
           "Kitty-1",
           "Sailing",
           "Sailing Mixed 10 metres"
          ],
          [
           41,
           "Finn II",
           "Sailing",
           "Sailing Mixed 6 metres"
          ],
          [
           35,
           "rn-2",
           "Sailing",
           "Sailing Mixed 8 metres"
          ],
          [
           37,
           "Magda IX",
           "Sailing",
           "Sailing Mixed 12 metres"
          ],
          [
           null,
           "Bylina-2",
           "Sailing",
           "Sailing Mixed 8 metres"
          ],
          [
           50,
           "Marga-2",
           "Sailing",
           "Sailing Mixed 10 metres"
          ],
          [
           23,
           "Nina",
           "Sailing",
           "Sailing Mixed 10 metres"
          ],
          [
           23,
           "rn-2",
           "Sailing",
           "Sailing Mixed 8 metres"
          ],
          [
           34,
           "Taifun",
           "Sailing",
           "Sailing Mixed 8 metres"
          ],
          [
           28,
           "K.S.S.S. 1912-2",
           "Sailing",
           "Sailing Mixed 8 metres"
          ],
          [
           23,
           "K.S.S.S. 1912-2",
           "Sailing",
           "Sailing Mixed 8 metres"
          ],
          [
           36,
           "Sass-2",
           "Sailing",
           "Sailing Mixed 6 metres"
          ],
          [
           28,
           "K.S.S.S. 1912-2",
           "Sailing",
           "Sailing Mixed 8 metres"
          ],
          [
           28,
           "Magda IX",
           "Sailing",
           "Sailing Mixed 12 metres"
          ],
          [
           37,
           "Heatherbell",
           "Sailing",
           "Sailing Mixed 12 metres"
          ],
          [
           34,
           "Magda IX",
           "Sailing",
           "Sailing Mixed 12 metres"
          ],
          [
           47,
           "Kitty-1",
           "Sailing",
           "Sailing Mixed 10 metres"
          ],
          [
           28,
           "Sans Atout-1",
           "Sailing",
           "Sailing Mixed 8 metres"
          ],
          [
           23,
           "Nurdug II",
           "Sailing",
           "Sailing Mixed 6 metres"
          ],
          [
           28,
           "Sans Atout-1",
           "Sailing",
           "Sailing Mixed 8 metres"
          ],
          [
           26,
           "Heatherbell",
           "Sailing",
           "Sailing Mixed 12 metres"
          ],
          [
           29,
           "Kitty-1",
           "Sailing",
           "Sailing Mixed 10 metres"
          ],
          [
           35,
           "Taifun",
           "Sailing",
           "Sailing Mixed 8 metres"
          ],
          [
           24,
           "Erna Signe",
           "Sailing",
           "Sailing Mixed 12 metres"
          ],
          [
           38,
           "Sass-2",
           "Sailing",
           "Sailing Mixed 6 metres"
          ],
          [
           31,
           "rn-2",
           "Sailing",
           "Sailing Mixed 8 metres"
          ],
          [
           26,
           "Heatherbell",
           "Sailing",
           "Sailing Mixed 12 metres"
          ],
          [
           22,
           "Erna Signe",
           "Sailing",
           "Sailing Mixed 12 metres"
          ],
          [
           24,
           "Magda IX",
           "Sailing",
           "Sailing Mixed 12 metres"
          ],
          [
           17,
           "Sonja II",
           "Sailing",
           "Sailing Mixed 6 metres"
          ],
          [
           46,
           "Heatherbell",
           "Sailing",
           "Sailing Mixed 12 metres"
          ],
          [
           null,
           "Norman-1",
           "Sailing",
           "Sailing Mixed 8 metres"
          ],
          [
           null,
           "Norman-1",
           "Sailing",
           "Sailing Mixed 8 metres"
          ],
          [
           26,
           "Erna Signe",
           "Sailing",
           "Sailing Mixed 12 metres"
          ],
          [
           48,
           "Magda IX",
           "Sailing",
           "Sailing Mixed 12 metres"
          ],
          [
           21,
           "Magda IX",
           "Sailing",
           "Sailing Mixed 12 metres"
          ],
          [
           31,
           "Marga-2",
           "Sailing",
           "Sailing Mixed 10 metres"
          ],
          [
           45,
           "Lucky Girl-1",
           "Sailing",
           "Sailing Mixed 8 metres"
          ],
          [
           47,
           "Nina",
           "Sailing",
           "Sailing Mixed 10 metres"
          ],
          [
           52,
           "Gallia II",
           "Sailing",
           "Sailing Mixed 10 metres"
          ],
          [
           25,
           "Erna Signe",
           "Sailing",
           "Sailing Mixed 12 metres"
          ],
          [
           null,
           "Norman-1",
           "Sailing",
           "Sailing Mixed 8 metres"
          ],
          [
           30,
           "Kitty-1",
           "Sailing",
           "Sailing Mixed 10 metres"
          ],
          [
           null,
           "Bylina-2",
           "Sailing",
           "Sailing Mixed 8 metres"
          ],
          [
           26,
           "Nurdug II",
           "Sailing",
           "Sailing Mixed 6 metres"
          ],
          [
           27,
           "K.S.S.S. 1912-2",
           "Sailing",
           "Sailing Mixed 8 metres"
          ],
          [
           39,
           "Sass-2",
           "Sailing",
           "Sailing Mixed 6 metres"
          ],
          [
           null,
           "Norman-1",
           "Sailing",
           "Sailing Mixed 8 metres"
          ],
          [
           32,
           "Kitty-1",
           "Sailing",
           "Sailing Mixed 10 metres"
          ],
          [
           null,
           "Norman-1",
           "Sailing",
           "Sailing Mixed 8 metres"
          ],
          [
           16,
           "Nina",
           "Sailing",
           "Sailing Mixed 10 metres"
          ],
          [
           31,
           "Marga-2",
           "Sailing",
           "Sailing Mixed 10 metres"
          ],
          [
           33,
           "Erna Signe",
           "Sailing",
           "Sailing Mixed 12 metres"
          ],
          [
           null,
           "Bylina-2",
           "Sailing",
           "Sailing Mixed 8 metres"
          ],
          [
           null,
           "Gallia II",
           "Sailing",
           "Sailing Mixed 10 metres"
          ],
          [
           null,
           "Gallia II",
           "Sailing",
           "Sailing Mixed 10 metres"
          ],
          [
           30,
           "Kitty-1",
           "Sailing",
           "Sailing Mixed 10 metres"
          ],
          [
           41,
           "Erna Signe",
           "Sailing",
           "Sailing Mixed 12 metres"
          ],
          [
           27,
           "Kerstin-1",
           "Sailing",
           "Sailing Mixed 6 metres"
          ],
          [
           28,
           "Kerstin-1",
           "Sailing",
           "Sailing Mixed 6 metres"
          ],
          [
           47,
           "Heatherbell",
           "Sailing",
           "Sailing Mixed 12 metres"
          ],
          [
           24,
           "Finn II",
           "Sailing",
           "Sailing Mixed 6 metres"
          ],
          [
           52,
           "Gallia II",
           "Sailing",
           "Sailing Mixed 10 metres"
          ],
          [
           42,
           "Heatherbell",
           "Sailing",
           "Sailing Mixed 12 metres"
          ],
          [
           27,
           "K.S.S.S. 1912-2",
           "Sailing",
           "Sailing Mixed 8 metres"
          ],
          [
           27,
           "K.S.S.S. 1912-2",
           "Sailing",
           "Sailing Mixed 8 metres"
          ],
          [
           20,
           "Magda IX",
           "Sailing",
           "Sailing Mixed 12 metres"
          ],
          [
           31,
           "Finn II",
           "Sailing",
           "Sailing Mixed 6 metres"
          ],
          [
           49,
           "Gallia II",
           "Sailing",
           "Sailing Mixed 10 metres"
          ],
          [
           28,
           "Lucky Girl-1",
           "Sailing",
           "Sailing Mixed 8 metres"
          ],
          [
           30,
           "Lucky Girl-1",
           "Sailing",
           "Sailing Mixed 8 metres"
          ],
          [
           36,
           "Magda IX",
           "Sailing",
           "Sailing Mixed 12 metres"
          ],
          [
           19,
           "Sans Atout-1",
           "Sailing",
           "Sailing Mixed 8 metres"
          ],
          [
           27,
           "Nurdug II",
           "Sailing",
           "Sailing Mixed 6 metres"
          ],
          [
           27,
           "Mac Miche",
           "Sailing",
           "Sailing Mixed 6 metres"
          ],
          [
           35,
           "Mac Miche",
           "Sailing",
           "Sailing Mixed 6 metres"
          ],
          [
           29,
           "Mac Miche",
           "Sailing",
           "Sailing Mixed 6 metres"
          ],
          [
           42,
           "Nina",
           "Sailing",
           "Sailing Mixed 10 metres"
          ],
          [
           25,
           "Marga-2",
           "Sailing",
           "Sailing Mixed 10 metres"
          ],
          [
           34,
           "Kitty-1",
           "Sailing",
           "Sailing Mixed 10 metres"
          ],
          [
           25,
           "Kitty-1",
           "Sailing",
           "Sailing Mixed 10 metres"
          ],
          [
           20,
           "Sans Atout-1",
           "Sailing",
           "Sailing Mixed 8 metres"
          ],
          [
           19,
           "Sans Atout-1",
           "Sailing",
           "Sailing Mixed 8 metres"
          ],
          [
           32,
           "Lucky Girl-1",
           "Sailing",
           "Sailing Mixed 8 metres"
          ],
          [
           null,
           "Bylina-2",
           "Sailing",
           "Sailing Mixed 8 metres"
          ]
         ],
         "hovertemplate": "<b>%{hovertext}</b><br><br>Sport=%{customdata[2]}<br>Sex=M<br>Country=%{x}<br>Medal=%{y}<br>Age=%{customdata[0]}<br>Team=%{customdata[1]}<br>Event=%{customdata[3]}<extra></extra>",
         "hovertext": [
          1912,
          1912,
          1912,
          1912,
          1912,
          1912,
          1912,
          1912,
          1912,
          1912,
          1912,
          1912,
          1912,
          1912,
          1912,
          1912,
          1912,
          1912,
          1912,
          1912,
          1912,
          1912,
          1912,
          1912,
          1912,
          1912,
          1912,
          1912,
          1912,
          1912,
          1912,
          1912,
          1912,
          1912,
          1912,
          1912,
          1912,
          1912,
          1912,
          1912,
          1912,
          1912,
          1912,
          1912,
          1912,
          1912,
          1912,
          1912,
          1912,
          1912,
          1912,
          1912,
          1912,
          1912,
          1912,
          1912,
          1912,
          1912,
          1912,
          1912,
          1912,
          1912,
          1912,
          1912,
          1912,
          1912,
          1912,
          1912,
          1912,
          1912,
          1912,
          1912,
          1912,
          1912,
          1912,
          1912,
          1912,
          1912,
          1912,
          1912,
          1912,
          1912,
          1912,
          1912,
          1912,
          1912,
          1912,
          1912,
          1912,
          1912,
          1912,
          1912,
          1912,
          1912,
          1912,
          1912,
          1912,
          1912,
          1912,
          1912,
          1912,
          1912,
          1912,
          1912,
          1912,
          1912,
          1912,
          1912,
          1912
         ],
         "legendgroup": "Sailing",
         "marker": {
          "color": "#ab63fa",
          "pattern": {
           "shape": ""
          }
         },
         "name": "Sailing",
         "offsetgroup": "Sailing",
         "orientation": "v",
         "showlegend": true,
         "textposition": "auto",
         "type": "bar",
         "x": [
          "NOR",
          "RUS",
          "FIN",
          "FIN",
          "FIN",
          "FIN",
          "NOR",
          "SWE",
          "RUS",
          "SWE",
          "SWE",
          "SWE",
          "NOR",
          "FIN",
          "FIN",
          "SWE",
          "SWE",
          "RUS",
          "NOR",
          "FIN",
          "NOR",
          "NOR",
          "SWE",
          "NOR",
          "SWE",
          "FIN",
          "FIN",
          "NOR",
          "RUS",
          "SWE",
          "FIN",
          "FIN",
          "NOR",
          "SWE",
          "SWE",
          "SWE",
          "SWE",
          "NOR",
          "FIN",
          "NOR",
          "SWE",
          "SWE",
          "DEN",
          "SWE",
          "FIN",
          "SWE",
          "NOR",
          "SWE",
          "SWE",
          "FIN",
          "FIN",
          "SWE",
          "NOR",
          "NOR",
          "FIN",
          "RUS",
          "RUS",
          "SWE",
          "NOR",
          "NOR",
          "SWE",
          "FIN",
          "FIN",
          "RUS",
          "SWE",
          "RUS",
          "SWE",
          "RUS",
          "DEN",
          "SWE",
          "SWE",
          "RUS",
          "SWE",
          "RUS",
          "FIN",
          "SWE",
          "SWE",
          "RUS",
          "RUS",
          "RUS",
          "SWE",
          "SWE",
          "SWE",
          "SWE",
          "FIN",
          "FIN",
          "RUS",
          "FIN",
          "SWE",
          "SWE",
          "NOR",
          "FIN",
          "RUS",
          "FIN",
          "FIN",
          "NOR",
          "SWE",
          "DEN",
          "FRA",
          "FRA",
          "FRA",
          "FIN",
          "SWE",
          "SWE",
          "SWE",
          "SWE",
          "SWE",
          "FIN",
          "RUS"
         ],
         "xaxis": "x",
         "y": [
          "Gold",
          null,
          "Bronze",
          "Bronze",
          null,
          null,
          "Gold",
          "Bronze",
          "Bronze",
          "Silver",
          "Silver",
          "Silver",
          "Gold",
          "Silver",
          "Silver",
          null,
          null,
          "Bronze",
          "Gold",
          "Silver",
          null,
          null,
          "Silver",
          "Gold",
          "Gold",
          null,
          null,
          "Gold",
          null,
          null,
          "Silver",
          null,
          "Gold",
          null,
          null,
          null,
          null,
          "Gold",
          "Bronze",
          "Gold",
          "Gold",
          "Silver",
          "Silver",
          "Silver",
          "Bronze",
          "Gold",
          "Gold",
          "Silver",
          null,
          null,
          "Bronze",
          "Silver",
          "Gold",
          null,
          "Bronze",
          null,
          null,
          "Silver",
          "Gold",
          "Gold",
          null,
          "Bronze",
          "Silver",
          "Bronze",
          "Silver",
          null,
          "Gold",
          null,
          "Silver",
          null,
          null,
          null,
          "Gold",
          null,
          "Silver",
          null,
          "Silver",
          null,
          "Bronze",
          "Bronze",
          "Gold",
          "Silver",
          "Bronze",
          "Bronze",
          "Bronze",
          null,
          "Bronze",
          "Bronze",
          null,
          null,
          "Gold",
          null,
          "Bronze",
          "Bronze",
          "Bronze",
          "Gold",
          "Silver",
          "Silver",
          "Gold",
          "Gold",
          "Gold",
          "Silver",
          null,
          "Gold",
          "Gold",
          "Silver",
          "Silver",
          "Bronze",
          null
         ],
         "yaxis": "y"
        },
        {
         "alignmentgroup": "True",
         "customdata": [
          [
           22,
           "Finland",
           "Wrestling",
           "Wrestling Men's Middleweight A, Greco-Roman"
          ],
          [
           24,
           "Sweden",
           "Wrestling",
           "Wrestling Men's Middleweight B, Greco-Roman"
          ],
          [
           25,
           "Sweden",
           "Wrestling",
           "Wrestling Men's Featherweight, Greco-Roman"
          ],
          [
           20,
           "Russia",
           "Wrestling",
           "Wrestling Men's Featherweight, Greco-Roman"
          ],
          [
           30,
           "Denmark",
           "Wrestling",
           "Wrestling Men's Middleweight A, Greco-Roman"
          ],
          [
           24,
           "Germany",
           "Wrestling",
           "Wrestling Men's Featherweight, Greco-Roman"
          ],
          [
           26,
           "Sweden",
           "Wrestling",
           "Wrestling Men's Featherweight, Greco-Roman"
          ],
          [
           23,
           "Sweden",
           "Wrestling",
           "Wrestling Men's Middleweight B, Greco-Roman"
          ],
          [
           25,
           "Sweden",
           "Wrestling",
           "Wrestling Men's Middleweight A, Greco-Roman"
          ],
          [
           null,
           "Greece",
           "Wrestling",
           "Wrestling Men's Middleweight A, Greco-Roman"
          ],
          [
           21,
           "Norway",
           "Wrestling",
           "Wrestling Men's Featherweight, Greco-Roman"
          ],
          [
           22,
           "Italy",
           "Wrestling",
           "Wrestling Men's Middleweight B, Greco-Roman"
          ],
          [
           23,
           "Finland",
           "Wrestling",
           "Wrestling Men's Middleweight A, Greco-Roman"
          ],
          [
           28,
           "Finland",
           "Wrestling",
           "Wrestling Men's Heavyweight, Greco-Roman"
          ],
          [
           24,
           "Great Britain",
           "Wrestling",
           "Wrestling Men's Middleweight A, Greco-Roman"
          ],
          [
           26,
           "Great Britain",
           "Wrestling",
           "Wrestling Men's Middleweight A, Greco-Roman"
          ],
          [
           18,
           "Bohemia",
           "Wrestling",
           "Wrestling Men's Lightweight, Greco-Roman"
          ],
          [
           31,
           "Austria",
           "Wrestling",
           "Wrestling Men's Middleweight B, Greco-Roman"
          ],
          [
           34,
           "Great Britain",
           "Wrestling",
           "Wrestling Men's Heavyweight, Greco-Roman"
          ],
          [
           21,
           "France",
           "Wrestling",
           "Wrestling Men's Middleweight A, Greco-Roman"
          ],
          [
           19,
           "Russia",
           "Wrestling",
           "Wrestling Men's Lightweight, Greco-Roman"
          ],
          [
           22,
           "Sweden",
           "Wrestling",
           "Wrestling Men's Featherweight, Greco-Roman"
          ],
          [
           20,
           "Bohemia",
           "Wrestling",
           "Wrestling Men's Featherweight, Greco-Roman"
          ],
          [
           26,
           "Sweden",
           "Wrestling",
           "Wrestling Men's Middleweight A, Greco-Roman"
          ],
          [
           26,
           "Sweden",
           "Wrestling",
           "Wrestling Men's Lightweight, Greco-Roman"
          ],
          [
           22,
           "Finland",
           "Wrestling",
           "Wrestling Men's Middleweight B, Greco-Roman"
          ],
          [
           24,
           "Netherlands",
           "Wrestling",
           "Wrestling Men's Heavyweight, Greco-Roman"
          ],
          [
           31,
           "France",
           "Wrestling",
           "Wrestling Men's Lightweight, Greco-Roman"
          ],
          [
           24,
           "France",
           "Wrestling",
           "Wrestling Men's Lightweight, Greco-Roman"
          ],
          [
           36,
           "Italy",
           "Wrestling",
           "Wrestling Men's Middleweight A, Greco-Roman"
          ],
          [
           28,
           "Denmark",
           "Wrestling",
           "Wrestling Men's Middleweight B, Greco-Roman"
          ],
          [
           null,
           "Italy",
           "Wrestling",
           "Wrestling Men's Featherweight, Greco-Roman"
          ],
          [
           26,
           "Great Britain",
           "Wrestling",
           "Wrestling Men's Featherweight, Greco-Roman"
          ],
          [
           null,
           "Italy",
           "Wrestling",
           "Wrestling Men's Lightweight, Greco-Roman"
          ],
          [
           28,
           "Sweden",
           "Wrestling",
           "Wrestling Men's Middleweight A, Greco-Roman"
          ],
          [
           23,
           "Germany",
           "Wrestling",
           "Wrestling Men's Lightweight, Greco-Roman"
          ],
          [
           23,
           "Netherlands",
           "Wrestling",
           "Wrestling Men's Lightweight, Greco-Roman"
          ],
          [
           20,
           "Sweden",
           "Wrestling",
           "Wrestling Men's Middleweight B, Greco-Roman"
          ],
          [
           22,
           "Denmark",
           "Wrestling",
           "Wrestling Men's Middleweight B, Greco-Roman"
          ],
          [
           21,
           "Sweden",
           "Wrestling",
           "Wrestling Men's Middleweight A, Greco-Roman"
          ],
          [
           26,
           "Russia",
           "Wrestling",
           "Wrestling Men's Heavyweight, Greco-Roman"
          ],
          [
           19,
           "Austria",
           "Wrestling",
           "Wrestling Men's Lightweight, Greco-Roman"
          ],
          [
           23,
           "Sweden",
           "Wrestling",
           "Wrestling Men's Lightweight, Greco-Roman"
          ],
          [
           24,
           "Sweden",
           "Wrestling",
           "Wrestling Men's Middleweight B, Greco-Roman"
          ],
          [
           29,
           "Sweden",
           "Wrestling",
           "Wrestling Men's Middleweight A, Greco-Roman"
          ],
          [
           21,
           "Norway",
           "Wrestling",
           "Wrestling Men's Lightweight, Greco-Roman"
          ],
          [
           19,
           "Norway",
           "Wrestling",
           "Wrestling Men's Lightweight, Greco-Roman"
          ],
          [
           23,
           "Italy",
           "Wrestling",
           "Wrestling Men's Middleweight B, Greco-Roman"
          ],
          [
           null,
           "Italy",
           "Wrestling",
           "Wrestling Men's Middleweight A, Greco-Roman"
          ],
          [
           22,
           "Germany",
           "Wrestling",
           "Wrestling Men's Featherweight, Greco-Roman"
          ],
          [
           27,
           "Belgium",
           "Wrestling",
           "Wrestling Men's Heavyweight, Greco-Roman"
          ],
          [
           20,
           "Great Britain",
           "Wrestling",
           "Wrestling Men's Lightweight, Greco-Roman"
          ],
          [
           28,
           "Germany",
           "Wrestling",
           "Wrestling Men's Middleweight B, Greco-Roman"
          ],
          [
           21,
           "Norway",
           "Wrestling",
           "Wrestling Men's Featherweight, Greco-Roman"
          ],
          [
           19,
           "Norway",
           "Wrestling",
           "Wrestling Men's Middleweight A, Greco-Roman"
          ],
          [
           22,
           "Finland",
           "Wrestling",
           "Wrestling Men's Featherweight, Greco-Roman"
          ],
          [
           28,
           "Bohemia",
           "Wrestling",
           "Wrestling Men's Lightweight, Greco-Roman"
          ],
          [
           25,
           "Denmark",
           "Wrestling",
           "Wrestling Men's Featherweight, Greco-Roman"
          ],
          [
           26,
           "Denmark",
           "Wrestling",
           "Wrestling Men's Lightweight, Greco-Roman"
          ],
          [
           21,
           "Denmark",
           "Wrestling",
           "Wrestling Men's Middleweight A, Greco-Roman"
          ],
          [
           26,
           "Germany",
           "Wrestling",
           "Wrestling Men's Heavyweight, Greco-Roman"
          ],
          [
           21,
           "Great Britain",
           "Wrestling",
           "Wrestling Men's Lightweight, Greco-Roman"
          ],
          [
           25,
           "Germany",
           "Wrestling",
           "Wrestling Men's Lightweight, Greco-Roman"
          ],
          [
           21,
           "Norway",
           "Wrestling",
           "Wrestling Men's Featherweight, Greco-Roman"
          ],
          [
           21,
           "Denmark",
           "Wrestling",
           "Wrestling Men's Featherweight, Greco-Roman"
          ],
          [
           22,
           "Finland",
           "Wrestling",
           "Wrestling Men's Middleweight A, Greco-Roman"
          ],
          [
           33,
           "Denmark",
           "Wrestling",
           "Wrestling Men's Heavyweight, Greco-Roman"
          ],
          [
           27,
           "Sweden",
           "Wrestling",
           "Wrestling Men's Middleweight A, Greco-Roman"
          ],
          [
           18,
           "Sweden",
           "Wrestling",
           "Wrestling Men's Middleweight A, Greco-Roman"
          ],
          [
           24,
           "Sweden",
           "Wrestling",
           "Wrestling Men's Featherweight, Greco-Roman"
          ],
          [
           28,
           "Sweden",
           "Wrestling",
           "Wrestling Men's Lightweight, Greco-Roman"
          ],
          [
           23,
           "Finland",
           "Wrestling",
           "Wrestling Men's Middleweight A, Greco-Roman"
          ],
          [
           25,
           "Finland",
           "Wrestling",
           "Wrestling Men's Featherweight, Greco-Roman"
          ],
          [
           22,
           "Russia",
           "Wrestling",
           "Wrestling Men's Lightweight, Greco-Roman"
          ],
          [
           31,
           "Sweden",
           "Wrestling",
           "Wrestling Men's Heavyweight, Greco-Roman"
          ],
          [
           24,
           "Sweden",
           "Wrestling",
           "Wrestling Men's Featherweight, Greco-Roman"
          ],
          [
           24,
           "Russia",
           "Wrestling",
           "Wrestling Men's Lightweight, Greco-Roman"
          ],
          [
           27,
           "Russia",
           "Wrestling",
           "Wrestling Men's Middleweight A, Greco-Roman"
          ],
          [
           21,
           "Austria",
           "Wrestling",
           "Wrestling Men's Middleweight A, Greco-Roman"
          ],
          [
           26,
           "Finland",
           "Wrestling",
           "Wrestling Men's Lightweight, Greco-Roman"
          ],
          [
           19,
           "Bohemia",
           "Wrestling",
           "Wrestling Men's Middleweight B, Greco-Roman"
          ],
          [
           24,
           "Finland",
           "Wrestling",
           "Wrestling Men's Featherweight, Greco-Roman"
          ],
          [
           23,
           "Finland",
           "Wrestling",
           "Wrestling Men's Middleweight B, Greco-Roman"
          ],
          [
           24,
           "Germany",
           "Wrestling",
           "Wrestling Men's Middleweight A, Greco-Roman"
          ],
          [
           20,
           "Finland",
           "Wrestling",
           "Wrestling Men's Lightweight, Greco-Roman"
          ],
          [
           27,
           "Germany",
           "Wrestling",
           "Wrestling Men's Middleweight B, Greco-Roman"
          ],
          [
           23,
           "Sweden",
           "Wrestling",
           "Wrestling Men's Featherweight, Greco-Roman"
          ],
          [
           21,
           "Finland",
           "Wrestling",
           "Wrestling Men's Featherweight, Greco-Roman"
          ],
          [
           22,
           "Finland",
           "Wrestling",
           "Wrestling Men's Featherweight, Greco-Roman"
          ],
          [
           25,
           "Finland",
           "Wrestling",
           "Wrestling Men's Featherweight, Greco-Roman"
          ],
          [
           22,
           "France",
           "Wrestling",
           "Wrestling Men's Lightweight, Greco-Roman"
          ],
          [
           31,
           "Finland",
           "Wrestling",
           "Wrestling Men's Middleweight B, Greco-Roman"
          ],
          [
           18,
           "Finland",
           "Wrestling",
           "Wrestling Men's Middleweight B, Greco-Roman"
          ],
          [
           32,
           "Finland",
           "Wrestling",
           "Wrestling Men's Middleweight B, Greco-Roman"
          ],
          [
           33,
           "Finland",
           "Wrestling",
           "Wrestling Men's Heavyweight, Greco-Roman"
          ],
          [
           29,
           "Sweden",
           "Wrestling",
           "Wrestling Men's Heavyweight, Greco-Roman"
          ],
          [
           22,
           "Norway",
           "Wrestling",
           "Wrestling Men's Lightweight, Greco-Roman"
          ],
          [
           23,
           "Norway",
           "Wrestling",
           "Wrestling Men's Middleweight B, Greco-Roman"
          ],
          [
           27,
           "Sweden",
           "Wrestling",
           "Wrestling Men's Lightweight, Greco-Roman"
          ],
          [
           27,
           "Finland",
           "Wrestling",
           "Wrestling Men's Middleweight A, Greco-Roman"
          ],
          [
           27,
           "Great Britain",
           "Wrestling",
           "Wrestling Men's Lightweight, Greco-Roman"
          ],
          [
           24,
           "United States",
           "Wrestling",
           "Wrestling Men's Featherweight, Greco-Roman"
          ],
          [
           23,
           "Great Britain",
           "Wrestling",
           "Wrestling Men's Featherweight, Greco-Roman"
          ],
          [
           27,
           "Sweden",
           "Wrestling",
           "Wrestling Men's Lightweight, Greco-Roman"
          ],
          [
           22,
           "Hungary",
           "Wrestling",
           "Wrestling Men's Lightweight, Greco-Roman"
          ],
          [
           22,
           "France",
           "Wrestling",
           "Wrestling Men's Middleweight B, Greco-Roman"
          ],
          [
           22,
           "Sweden",
           "Wrestling",
           "Wrestling Men's Lightweight, Greco-Roman"
          ],
          [
           21,
           "Sweden",
           "Wrestling",
           "Wrestling Men's Middleweight A, Greco-Roman"
          ],
          [
           29,
           "Germany",
           "Wrestling",
           "Wrestling Men's Middleweight A, Greco-Roman"
          ],
          [
           null,
           "Russia",
           "Wrestling",
           "Wrestling Men's Featherweight, Greco-Roman"
          ],
          [
           25,
           "Hungary",
           "Wrestling",
           "Wrestling Men's Middleweight A, Greco-Roman"
          ],
          [
           37,
           "Finland",
           "Wrestling",
           "Wrestling Men's Featherweight, Greco-Roman"
          ],
          [
           23,
           "Denmark",
           "Wrestling",
           "Wrestling Men's Middleweight B, Greco-Roman"
          ],
          [
           28,
           "Germany",
           "Wrestling",
           "Wrestling Men's Heavyweight, Greco-Roman"
          ],
          [
           20,
           "Sweden",
           "Wrestling",
           "Wrestling Men's Middleweight B, Greco-Roman"
          ],
          [
           21,
           "Sweden",
           "Wrestling",
           "Wrestling Men's Lightweight, Greco-Roman"
          ],
          [
           23,
           "Sweden",
           "Wrestling",
           "Wrestling Men's Featherweight, Greco-Roman"
          ],
          [
           28,
           "Germany",
           "Wrestling",
           "Wrestling Men's Middleweight B, Greco-Roman"
          ],
          [
           26,
           "Sweden",
           "Wrestling",
           "Wrestling Men's Middleweight A, Greco-Roman"
          ],
          [
           28,
           "Finland",
           "Wrestling",
           "Wrestling Men's Heavyweight, Greco-Roman"
          ],
          [
           22,
           "Norway",
           "Wrestling",
           "Wrestling Men's Lightweight, Greco-Roman"
          ],
          [
           25,
           "Hungary",
           "Wrestling",
           "Wrestling Men's Lightweight, Greco-Roman"
          ],
          [
           24,
           "France",
           "Wrestling",
           "Wrestling Men's Heavyweight, Greco-Roman"
          ],
          [
           19,
           "Russia",
           "Wrestling",
           "Wrestling Men's Featherweight, Greco-Roman"
          ],
          [
           24,
           "Finland",
           "Wrestling",
           "Wrestling Men's Heavyweight, Greco-Roman"
          ],
          [
           24,
           "Portugal",
           "Wrestling",
           "Wrestling Men's Featherweight, Greco-Roman"
          ],
          [
           20,
           "Sweden",
           "Wrestling",
           "Wrestling Men's Featherweight, Greco-Roman"
          ],
          [
           24,
           "Iceland",
           "Wrestling",
           "Wrestling Men's Middleweight B, Greco-Roman"
          ],
          [
           21,
           "Great Britain",
           "Wrestling",
           "Wrestling Men's Lightweight, Greco-Roman"
          ],
          [
           23,
           "Russia",
           "Wrestling",
           "Wrestling Men's Middleweight B, Greco-Roman"
          ],
          [
           19,
           "Russia",
           "Wrestling",
           "Wrestling Men's Middleweight A, Greco-Roman"
          ],
          [
           20,
           "Hungary",
           "Wrestling",
           "Wrestling Men's Featherweight, Greco-Roman"
          ],
          [
           21,
           "Finland",
           "Wrestling",
           "Wrestling Men's Lightweight, Greco-Roman"
          ],
          [
           23,
           "Hungary",
           "Wrestling",
           "Wrestling Men's Lightweight, Greco-Roman"
          ],
          [
           20,
           "Finland",
           "Wrestling",
           "Wrestling Men's Middleweight B, Greco-Roman"
          ],
          [
           21,
           "Austria",
           "Wrestling",
           "Wrestling Men's Featherweight, Greco-Roman"
          ],
          [
           29,
           "United States",
           "Wrestling",
           "Wrestling Men's Featherweight, Greco-Roman"
          ],
          [
           24,
           "Great Britain",
           "Wrestling",
           "Wrestling Men's Middleweight A, Greco-Roman"
          ],
          [
           29,
           "Great Britain",
           "Wrestling",
           "Wrestling Men's Lightweight, Greco-Roman"
          ],
          [
           26,
           "Sweden",
           "Wrestling",
           "Wrestling Men's Lightweight, Greco-Roman"
          ],
          [
           29,
           "Finland",
           "Wrestling",
           "Wrestling Men's Heavyweight, Greco-Roman"
          ],
          [
           27,
           "Finland",
           "Wrestling",
           "Wrestling Men's Middleweight B, Greco-Roman"
          ],
          [
           28,
           "Finland",
           "Wrestling",
           "Wrestling Men's Lightweight, Greco-Roman"
          ],
          [
           27,
           "Sweden",
           "Wrestling",
           "Wrestling Men's Heavyweight, Greco-Roman"
          ],
          [
           19,
           "Hungary",
           "Wrestling",
           "Wrestling Men's Lightweight, Greco-Roman"
          ],
          [
           29,
           "Germany",
           "Wrestling",
           "Wrestling Men's Lightweight, Greco-Roman"
          ],
          [
           20,
           "Austria",
           "Wrestling",
           "Wrestling Men's Featherweight, Greco-Roman"
          ],
          [
           23,
           "Russia",
           "Wrestling",
           "Wrestling Men's Middleweight A, Greco-Roman"
          ],
          [
           25,
           "Netherlands",
           "Wrestling",
           "Wrestling Men's Middleweight A, Greco-Roman"
          ],
          [
           24,
           "Hungary",
           "Wrestling",
           "Wrestling Men's Middleweight A, Greco-Roman"
          ],
          [
           20,
           "Germany",
           "Wrestling",
           "Wrestling Men's Featherweight, Greco-Roman"
          ],
          [
           22,
           "Austria",
           "Wrestling",
           "Wrestling Men's Lightweight, Greco-Roman"
          ],
          [
           23,
           "Germany",
           "Wrestling",
           "Wrestling Men's Middleweight A, Greco-Roman"
          ],
          [
           22,
           "Sweden",
           "Wrestling",
           "Wrestling Men's Lightweight, Greco-Roman"
          ],
          [
           22,
           "Hungary",
           "Wrestling",
           "Wrestling Men's Lightweight, Greco-Roman"
          ],
          [
           23,
           "Hungary",
           "Wrestling",
           "Wrestling Men's Featherweight, Greco-Roman"
          ],
          [
           24,
           "Finland",
           "Wrestling",
           "Wrestling Men's Lightweight, Greco-Roman"
          ],
          [
           23,
           "Great Britain",
           "Wrestling",
           "Wrestling Men's Featherweight, Greco-Roman"
          ],
          [
           27,
           "Finland",
           "Wrestling",
           "Wrestling Men's Lightweight, Greco-Roman"
          ],
          [
           29,
           "Finland",
           "Wrestling",
           "Wrestling Men's Middleweight A, Greco-Roman"
          ],
          [
           27,
           "Austria",
           "Wrestling",
           "Wrestling Men's Middleweight A, Greco-Roman"
          ],
          [
           24,
           "Austria",
           "Wrestling",
           "Wrestling Men's Middleweight B, Greco-Roman"
          ],
          [
           23,
           "Finland",
           "Wrestling",
           "Wrestling Men's Lightweight, Greco-Roman"
          ],
          [
           26,
           "Finland",
           "Wrestling",
           "Wrestling Men's Lightweight, Greco-Roman"
          ],
          [
           22,
           "Hungary",
           "Wrestling",
           "Wrestling Men's Middleweight B, Greco-Roman"
          ],
          [
           27,
           "Finland",
           "Wrestling",
           "Wrestling Men's Heavyweight, Greco-Roman"
          ],
          [
           27,
           "Portugal",
           "Wrestling",
           "Wrestling Men's Middleweight A, Greco-Roman"
          ],
          [
           25,
           "Finland",
           "Wrestling",
           "Wrestling Men's Middleweight A, Greco-Roman"
          ],
          [
           23,
           "Finland",
           "Wrestling",
           "Wrestling Men's Middleweight B, Greco-Roman"
          ],
          [
           22,
           "Finland",
           "Wrestling",
           "Wrestling Men's Lightweight, Greco-Roman"
          ]
         ],
         "hovertemplate": "<b>%{hovertext}</b><br><br>Sport=%{customdata[2]}<br>Sex=M<br>Country=%{x}<br>Medal=%{y}<br>Age=%{customdata[0]}<br>Team=%{customdata[1]}<br>Event=%{customdata[3]}<extra></extra>",
         "hovertext": [
          1912,
          1912,
          1912,
          1912,
          1912,
          1912,
          1912,
          1912,
          1912,
          1912,
          1912,
          1912,
          1912,
          1912,
          1912,
          1912,
          1912,
          1912,
          1912,
          1912,
          1912,
          1912,
          1912,
          1912,
          1912,
          1912,
          1912,
          1912,
          1912,
          1912,
          1912,
          1912,
          1912,
          1912,
          1912,
          1912,
          1912,
          1912,
          1912,
          1912,
          1912,
          1912,
          1912,
          1912,
          1912,
          1912,
          1912,
          1912,
          1912,
          1912,
          1912,
          1912,
          1912,
          1912,
          1912,
          1912,
          1912,
          1912,
          1912,
          1912,
          1912,
          1912,
          1912,
          1912,
          1912,
          1912,
          1912,
          1912,
          1912,
          1912,
          1912,
          1912,
          1912,
          1912,
          1912,
          1912,
          1912,
          1912,
          1912,
          1912,
          1912,
          1912,
          1912,
          1912,
          1912,
          1912,
          1912,
          1912,
          1912,
          1912,
          1912,
          1912,
          1912,
          1912,
          1912,
          1912,
          1912,
          1912,
          1912,
          1912,
          1912,
          1912,
          1912,
          1912,
          1912,
          1912,
          1912,
          1912,
          1912,
          1912,
          1912,
          1912,
          1912,
          1912,
          1912,
          1912,
          1912,
          1912,
          1912,
          1912,
          1912,
          1912,
          1912,
          1912,
          1912,
          1912,
          1912,
          1912,
          1912,
          1912,
          1912,
          1912,
          1912,
          1912,
          1912,
          1912,
          1912,
          1912,
          1912,
          1912,
          1912,
          1912,
          1912,
          1912,
          1912,
          1912,
          1912,
          1912,
          1912,
          1912,
          1912,
          1912,
          1912,
          1912,
          1912,
          1912,
          1912,
          1912,
          1912,
          1912,
          1912,
          1912,
          1912,
          1912,
          1912,
          1912,
          1912,
          1912,
          1912,
          1912
         ],
         "legendgroup": "Wrestling",
         "marker": {
          "color": "#FFA15A",
          "pattern": {
           "shape": ""
          }
         },
         "name": "Wrestling",
         "offsetgroup": "Wrestling",
         "orientation": "v",
         "showlegend": true,
         "textposition": "auto",
         "type": "bar",
         "x": [
          "FIN",
          "SWE",
          "SWE",
          "RUS",
          "DEN",
          "GER",
          "SWE",
          "SWE",
          "SWE",
          "GRE",
          "NOR",
          "ITA",
          "FIN",
          "FIN",
          "GBR",
          "GBR",
          "BOH",
          "AUT",
          "GBR",
          "FRA",
          "RUS",
          "SWE",
          "BOH",
          "SWE",
          "SWE",
          "FIN",
          "NED",
          "FRA",
          "FRA",
          "ITA",
          "DEN",
          "ITA",
          "GBR",
          "ITA",
          "SWE",
          "GER",
          "NED",
          "SWE",
          "DEN",
          "SWE",
          "RUS",
          "AUT",
          "SWE",
          "SWE",
          "SWE",
          "NOR",
          "NOR",
          "ITA",
          "ITA",
          "GER",
          "BEL",
          "GBR",
          "GER",
          "NOR",
          "NOR",
          "FIN",
          "BOH",
          "DEN",
          "DEN",
          "DEN",
          "GER",
          "GBR",
          "GER",
          "NOR",
          "DEN",
          "FIN",
          "DEN",
          "SWE",
          "SWE",
          "SWE",
          "SWE",
          "FIN",
          "FIN",
          "RUS",
          "SWE",
          "SWE",
          "RUS",
          "RUS",
          "AUT",
          "FIN",
          "BOH",
          "FIN",
          "FIN",
          "GER",
          "FIN",
          "GER",
          "SWE",
          "FIN",
          "FIN",
          "FIN",
          "FRA",
          "FIN",
          "FIN",
          "FIN",
          "FIN",
          "SWE",
          "NOR",
          "NOR",
          "SWE",
          "FIN",
          "GBR",
          "USA",
          "GBR",
          "SWE",
          "HUN",
          "FRA",
          "SWE",
          "SWE",
          "GER",
          "RUS",
          "HUN",
          "FIN",
          "DEN",
          "GER",
          "SWE",
          "SWE",
          "SWE",
          "GER",
          "SWE",
          "FIN",
          "NOR",
          "HUN",
          "FRA",
          "RUS",
          "FIN",
          "POR",
          "SWE",
          "ISL",
          "GBR",
          "RUS",
          "RUS",
          "HUN",
          "FIN",
          "HUN",
          "FIN",
          "AUT",
          "USA",
          "GBR",
          "GBR",
          "SWE",
          "FIN",
          "FIN",
          "FIN",
          "SWE",
          "HUN",
          "GER",
          "AUT",
          "RUS",
          "NED",
          "HUN",
          "GER",
          "AUT",
          "GER",
          "SWE",
          "HUN",
          "HUN",
          "FIN",
          "GBR",
          "FIN",
          "FIN",
          "AUT",
          "AUT",
          "FIN",
          "FIN",
          "HUN",
          "FIN",
          "POR",
          "FIN",
          "FIN",
          "FIN"
         ],
         "xaxis": "x",
         "y": [
          null,
          "Silver",
          null,
          null,
          null,
          null,
          null,
          null,
          null,
          null,
          null,
          null,
          "Bronze",
          null,
          null,
          null,
          null,
          null,
          null,
          null,
          null,
          null,
          null,
          null,
          null,
          "Silver",
          null,
          null,
          null,
          null,
          null,
          null,
          null,
          null,
          null,
          null,
          null,
          null,
          null,
          null,
          null,
          null,
          null,
          null,
          null,
          null,
          null,
          null,
          null,
          "Silver",
          null,
          null,
          null,
          null,
          null,
          null,
          null,
          null,
          null,
          null,
          null,
          null,
          null,
          null,
          null,
          null,
          "Bronze",
          "Gold",
          null,
          null,
          null,
          null,
          null,
          null,
          null,
          null,
          null,
          "Silver",
          null,
          null,
          null,
          "Gold",
          null,
          null,
          null,
          null,
          null,
          "Bronze",
          null,
          null,
          null,
          null,
          null,
          null,
          null,
          null,
          null,
          null,
          null,
          null,
          null,
          null,
          null,
          "Silver",
          null,
          null,
          "Bronze",
          null,
          null,
          null,
          null,
          null,
          null,
          null,
          null,
          null,
          null,
          null,
          null,
          "Silver",
          null,
          null,
          null,
          null,
          null,
          null,
          null,
          null,
          null,
          null,
          null,
          null,
          null,
          null,
          null,
          null,
          null,
          null,
          null,
          null,
          "Gold",
          null,
          null,
          null,
          null,
          null,
          null,
          null,
          null,
          null,
          null,
          null,
          null,
          null,
          null,
          null,
          null,
          null,
          null,
          null,
          null,
          null,
          null,
          "Gold",
          "Bronze",
          null,
          null,
          null,
          null,
          null
         ],
         "yaxis": "y"
        },
        {
         "alignmentgroup": "True",
         "customdata": [
          [
           21,
           "Norway",
           "Gymnastics",
           "Gymnastics Men's Team All-Around, Free System"
          ],
          [
           30,
           "Luxembourg",
           "Gymnastics",
           "Gymnastics Men's Team All-Around"
          ],
          [
           30,
           "Luxembourg",
           "Gymnastics",
           "Gymnastics Men's Team All-Around, Free System"
          ],
          [
           19,
           "Russia",
           "Gymnastics",
           "Gymnastics Men's Individual All-Around"
          ],
          [
           26,
           "Norway",
           "Gymnastics",
           "Gymnastics Men's Team All-Around, Swedish System"
          ],
          [
           20,
           "Denmark",
           "Gymnastics",
           "Gymnastics Men's Individual All-Around"
          ],
          [
           20,
           "Denmark",
           "Gymnastics",
           "Gymnastics Men's Team All-Around, Free System"
          ],
          [
           22,
           "Denmark",
           "Gymnastics",
           "Gymnastics Men's Team All-Around, Free System"
          ],
          [
           26,
           "Norway",
           "Gymnastics",
           "Gymnastics Men's Team All-Around, Swedish System"
          ],
          [
           28,
           "Denmark",
           "Gymnastics",
           "Gymnastics Men's Team All-Around, Swedish System"
          ],
          [
           28,
           "Hungary",
           "Gymnastics",
           "Gymnastics Men's Team All-Around"
          ],
          [
           29,
           "Luxembourg",
           "Gymnastics",
           "Gymnastics Men's Team All-Around"
          ],
          [
           29,
           "Luxembourg",
           "Gymnastics",
           "Gymnastics Men's Team All-Around, Free System"
          ],
          [
           21,
           "Hungary",
           "Gymnastics",
           "Gymnastics Men's Team All-Around"
          ],
          [
           19,
           "Sweden",
           "Gymnastics",
           "Gymnastics Men's Team All-Around, Swedish System"
          ],
          [
           24,
           "Great Britain",
           "Gymnastics",
           "Gymnastics Men's Team All-Around"
          ],
          [
           22,
           "Norway",
           "Gymnastics",
           "Gymnastics Men's Team All-Around, Free System"
          ],
          [
           29,
           "Italy",
           "Gymnastics",
           "Gymnastics Men's Individual All-Around"
          ],
          [
           29,
           "Italy",
           "Gymnastics",
           "Gymnastics Men's Team All-Around"
          ],
          [
           27,
           "Denmark",
           "Gymnastics",
           "Gymnastics Men's Team All-Around, Free System"
          ],
          [
           23,
           "Norway",
           "Gymnastics",
           "Gymnastics Men's Team All-Around, Free System"
          ],
          [
           20,
           "Italy",
           "Gymnastics",
           "Gymnastics Men's Individual All-Around"
          ],
          [
           20,
           "Italy",
           "Gymnastics",
           "Gymnastics Men's Team All-Around"
          ],
          [
           36,
           "Luxembourg",
           "Gymnastics",
           "Gymnastics Men's Team All-Around"
          ],
          [
           36,
           "Luxembourg",
           "Gymnastics",
           "Gymnastics Men's Team All-Around, Free System"
          ],
          [
           28,
           "Denmark",
           "Gymnastics",
           "Gymnastics Men's Team All-Around, Swedish System"
          ],
          [
           26,
           "Norway",
           "Gymnastics",
           "Gymnastics Men's Team All-Around, Swedish System"
          ],
          [
           29,
           "Italy",
           "Gymnastics",
           "Gymnastics Men's Individual All-Around"
          ],
          [
           29,
           "Italy",
           "Gymnastics",
           "Gymnastics Men's Team All-Around"
          ],
          [
           21,
           "Germany",
           "Gymnastics",
           "Gymnastics Men's Team All-Around"
          ],
          [
           21,
           "Germany",
           "Gymnastics",
           "Gymnastics Men's Team All-Around, Free System"
          ],
          [
           19,
           "Norway",
           "Gymnastics",
           "Gymnastics Men's Team All-Around, Swedish System"
          ],
          [
           26,
           "Germany",
           "Gymnastics",
           "Gymnastics Men's Team All-Around"
          ],
          [
           26,
           "Germany",
           "Gymnastics",
           "Gymnastics Men's Team All-Around, Free System"
          ],
          [
           23,
           "Sweden",
           "Gymnastics",
           "Gymnastics Men's Team All-Around, Swedish System"
          ],
          [
           30,
           "Norway",
           "Gymnastics",
           "Gymnastics Men's Team All-Around, Swedish System"
          ],
          [
           27,
           "Denmark",
           "Gymnastics",
           "Gymnastics Men's Team All-Around, Swedish System"
          ],
          [
           27,
           "France",
           "Gymnastics",
           "Gymnastics Men's Individual All-Around"
          ],
          [
           25,
           "Great Britain",
           "Gymnastics",
           "Gymnastics Men's Individual All-Around"
          ],
          [
           25,
           "Great Britain",
           "Gymnastics",
           "Gymnastics Men's Team All-Around"
          ],
          [
           21,
           "Great Britain",
           "Gymnastics",
           "Gymnastics Men's Team All-Around"
          ],
          [
           22,
           "Great Britain",
           "Gymnastics",
           "Gymnastics Men's Team All-Around"
          ],
          [
           24,
           "Italy",
           "Gymnastics",
           "Gymnastics Men's Team All-Around"
          ],
          [
           29,
           "Great Britain",
           "Gymnastics",
           "Gymnastics Men's Team All-Around"
          ],
          [
           27,
           "Finland",
           "Gymnastics",
           "Gymnastics Men's Individual All-Around"
          ],
          [
           27,
           "Finland",
           "Gymnastics",
           "Gymnastics Men's Team All-Around, Free System"
          ],
          [
           23,
           "Germany",
           "Gymnastics",
           "Gymnastics Men's Team All-Around"
          ],
          [
           23,
           "Germany",
           "Gymnastics",
           "Gymnastics Men's Team All-Around, Free System"
          ],
          [
           19,
           "Norway",
           "Gymnastics",
           "Gymnastics Men's Team All-Around, Free System"
          ],
          [
           29,
           "Norway",
           "Gymnastics",
           "Gymnastics Men's Team All-Around, Swedish System"
          ],
          [
           23,
           "Hungary",
           "Gymnastics",
           "Gymnastics Men's Team All-Around"
          ],
          [
           27,
           "Denmark",
           "Gymnastics",
           "Gymnastics Men's Team All-Around, Swedish System"
          ],
          [
           25,
           "Norway",
           "Gymnastics",
           "Gymnastics Men's Team All-Around, Swedish System"
          ],
          [
           21,
           "Denmark",
           "Gymnastics",
           "Gymnastics Men's Team All-Around, Swedish System"
          ],
          [
           23,
           "Finland",
           "Gymnastics",
           "Gymnastics Men's Team All-Around, Free System"
          ],
          [
           21,
           "Hungary",
           "Gymnastics",
           "Gymnastics Men's Team All-Around"
          ],
          [
           22,
           "Great Britain",
           "Gymnastics",
           "Gymnastics Men's Team All-Around"
          ],
          [
           21,
           "Luxembourg",
           "Gymnastics",
           "Gymnastics Men's Team All-Around, Free System"
          ],
          [
           21,
           "Italy",
           "Gymnastics",
           "Gymnastics Men's Team All-Around"
          ],
          [
           29,
           "Denmark",
           "Gymnastics",
           "Gymnastics Men's Team All-Around, Swedish System"
          ],
          [
           23,
           "Hungary",
           "Gymnastics",
           "Gymnastics Men's Individual All-Around"
          ],
          [
           23,
           "Hungary",
           "Gymnastics",
           "Gymnastics Men's Team All-Around"
          ],
          [
           23,
           "Germany",
           "Gymnastics",
           "Gymnastics Men's Team All-Around"
          ],
          [
           23,
           "Germany",
           "Gymnastics",
           "Gymnastics Men's Team All-Around, Free System"
          ],
          [
           30,
           "Italy",
           "Gymnastics",
           "Gymnastics Men's Team All-Around"
          ],
          [
           25,
           "Sweden",
           "Gymnastics",
           "Gymnastics Men's Team All-Around, Swedish System"
          ],
          [
           19,
           "Denmark",
           "Gymnastics",
           "Gymnastics Men's Team All-Around, Free System"
          ],
          [
           22,
           "Hungary",
           "Gymnastics",
           "Gymnastics Men's Team All-Around"
          ],
          [
           24,
           "Norway",
           "Gymnastics",
           "Gymnastics Men's Team All-Around, Swedish System"
          ],
          [
           25,
           "Denmark",
           "Gymnastics",
           "Gymnastics Men's Individual All-Around"
          ],
          [
           25,
           "Denmark",
           "Gymnastics",
           "Gymnastics Men's Team All-Around, Free System"
          ],
          [
           20,
           "Denmark",
           "Gymnastics",
           "Gymnastics Men's Team All-Around, Free System"
          ],
          [
           18,
           "Denmark",
           "Gymnastics",
           "Gymnastics Men's Team All-Around, Swedish System"
          ],
          [
           29,
           "Denmark",
           "Gymnastics",
           "Gymnastics Men's Team All-Around, Swedish System"
          ],
          [
           21,
           "Denmark",
           "Gymnastics",
           "Gymnastics Men's Team All-Around, Free System"
          ],
          [
           27,
           "Denmark",
           "Gymnastics",
           "Gymnastics Men's Team All-Around, Swedish System"
          ],
          [
           24,
           "Great Britain",
           "Gymnastics",
           "Gymnastics Men's Individual All-Around"
          ],
          [
           24,
           "Great Britain",
           "Gymnastics",
           "Gymnastics Men's Team All-Around"
          ],
          [
           20,
           "Sweden",
           "Gymnastics",
           "Gymnastics Men's Team All-Around, Swedish System"
          ],
          [
           38,
           "Hungary",
           "Gymnastics",
           "Gymnastics Men's Team All-Around"
          ],
          [
           23,
           "Luxembourg",
           "Gymnastics",
           "Gymnastics Men's Team All-Around"
          ],
          [
           23,
           "Luxembourg",
           "Gymnastics",
           "Gymnastics Men's Team All-Around, Free System"
          ],
          [
           26,
           "Luxembourg",
           "Gymnastics",
           "Gymnastics Men's Individual All-Around"
          ],
          [
           26,
           "Luxembourg",
           "Gymnastics",
           "Gymnastics Men's Team All-Around"
          ],
          [
           26,
           "Luxembourg",
           "Gymnastics",
           "Gymnastics Men's Team All-Around, Free System"
          ],
          [
           21,
           "Luxembourg",
           "Gymnastics",
           "Gymnastics Men's Individual All-Around"
          ],
          [
           21,
           "Luxembourg",
           "Gymnastics",
           "Gymnastics Men's Team All-Around"
          ],
          [
           21,
           "Luxembourg",
           "Gymnastics",
           "Gymnastics Men's Team All-Around, Free System"
          ],
          [
           24,
           "Hungary",
           "Gymnastics",
           "Gymnastics Men's Team All-Around"
          ],
          [
           34,
           "Great Britain",
           "Gymnastics",
           "Gymnastics Men's Individual All-Around"
          ],
          [
           34,
           "Great Britain",
           "Gymnastics",
           "Gymnastics Men's Team All-Around"
          ],
          [
           29,
           "Norway",
           "Gymnastics",
           "Gymnastics Men's Team All-Around, Swedish System"
          ],
          [
           29,
           "Sweden",
           "Gymnastics",
           "Gymnastics Men's Team All-Around, Swedish System"
          ],
          [
           36,
           "Bohemia",
           "Gymnastics",
           "Gymnastics Men's Individual All-Around"
          ],
          [
           26,
           "Luxembourg",
           "Gymnastics",
           "Gymnastics Men's Team All-Around"
          ],
          [
           26,
           "Luxembourg",
           "Gymnastics",
           "Gymnastics Men's Team All-Around, Free System"
          ],
          [
           28,
           "Sweden",
           "Gymnastics",
           "Gymnastics Men's Team All-Around, Swedish System"
          ],
          [
           22,
           "Finland",
           "Gymnastics",
           "Gymnastics Men's Team All-Around, Free System"
          ],
          [
           23,
           "Finland",
           "Gymnastics",
           "Gymnastics Men's Team All-Around, Free System"
          ],
          [
           18,
           "Finland",
           "Gymnastics",
           "Gymnastics Men's Team All-Around, Free System"
          ],
          [
           27,
           "Norway",
           "Gymnastics",
           "Gymnastics Men's Team All-Around, Swedish System"
          ],
          [
           19,
           "Norway",
           "Gymnastics",
           "Gymnastics Men's Team All-Around, Swedish System"
          ],
          [
           24,
           "Norway",
           "Gymnastics",
           "Gymnastics Men's Team All-Around, Swedish System"
          ],
          [
           24,
           "Sweden",
           "Gymnastics",
           "Gymnastics Men's Team All-Around, Swedish System"
          ],
          [
           23,
           "Finland",
           "Gymnastics",
           "Gymnastics Men's Individual All-Around"
          ],
          [
           20,
           "Denmark",
           "Gymnastics",
           "Gymnastics Men's Team All-Around, Swedish System"
          ],
          [
           26,
           "Denmark",
           "Gymnastics",
           "Gymnastics Men's Individual All-Around"
          ],
          [
           26,
           "Denmark",
           "Gymnastics",
           "Gymnastics Men's Team All-Around, Free System"
          ],
          [
           20,
           "Norway",
           "Gymnastics",
           "Gymnastics Men's Team All-Around, Swedish System"
          ],
          [
           27,
           "Denmark",
           "Gymnastics",
           "Gymnastics Men's Team All-Around, Swedish System"
          ],
          [
           31,
           "Norway",
           "Gymnastics",
           "Gymnastics Men's Team All-Around, Swedish System"
          ],
          [
           24,
           "Germany",
           "Gymnastics",
           "Gymnastics Men's Team All-Around"
          ],
          [
           24,
           "Germany",
           "Gymnastics",
           "Gymnastics Men's Team All-Around, Free System"
          ],
          [
           19,
           "Denmark",
           "Gymnastics",
           "Gymnastics Men's Team All-Around, Free System"
          ],
          [
           20,
           "Norway",
           "Gymnastics",
           "Gymnastics Men's Team All-Around, Free System"
          ],
          [
           24,
           "Germany",
           "Gymnastics",
           "Gymnastics Men's Team All-Around"
          ],
          [
           24,
           "Germany",
           "Gymnastics",
           "Gymnastics Men's Team All-Around, Free System"
          ],
          [
           20,
           "Denmark",
           "Gymnastics",
           "Gymnastics Men's Team All-Around, Free System"
          ],
          [
           24,
           "Norway",
           "Gymnastics",
           "Gymnastics Men's Team All-Around, Free System"
          ],
          [
           24,
           "Luxembourg",
           "Gymnastics",
           "Gymnastics Men's Individual All-Around"
          ],
          [
           24,
           "Luxembourg",
           "Gymnastics",
           "Gymnastics Men's Team All-Around"
          ],
          [
           24,
           "Luxembourg",
           "Gymnastics",
           "Gymnastics Men's Team All-Around, Free System"
          ],
          [
           24,
           "Finland",
           "Gymnastics",
           "Gymnastics Men's Team All-Around, Free System"
          ],
          [
           26,
           "Hungary",
           "Gymnastics",
           "Gymnastics Men's Team All-Around"
          ],
          [
           22,
           "Denmark",
           "Gymnastics",
           "Gymnastics Men's Team All-Around, Swedish System"
          ],
          [
           22,
           "Denmark",
           "Gymnastics",
           "Gymnastics Men's Team All-Around, Swedish System"
          ],
          [
           22,
           "Finland",
           "Gymnastics",
           "Gymnastics Men's Team All-Around, Free System"
          ],
          [
           31,
           "Denmark",
           "Gymnastics",
           "Gymnastics Men's Team All-Around, Swedish System"
          ],
          [
           19,
           "Luxembourg",
           "Gymnastics",
           "Gymnastics Men's Team All-Around, Free System"
          ],
          [
           32,
           "Norway",
           "Gymnastics",
           "Gymnastics Men's Team All-Around, Free System"
          ],
          [
           20,
           "Germany",
           "Gymnastics",
           "Gymnastics Men's Team All-Around"
          ],
          [
           20,
           "Germany",
           "Gymnastics",
           "Gymnastics Men's Team All-Around, Free System"
          ],
          [
           23,
           "Denmark",
           "Gymnastics",
           "Gymnastics Men's Team All-Around, Free System"
          ],
          [
           31,
           "Hungary",
           "Gymnastics",
           "Gymnastics Men's Individual All-Around"
          ],
          [
           31,
           "Hungary",
           "Gymnastics",
           "Gymnastics Men's Team All-Around"
          ],
          [
           20,
           "Russia",
           "Gymnastics",
           "Gymnastics Men's Individual All-Around"
          ],
          [
           22,
           "Sweden",
           "Gymnastics",
           "Gymnastics Men's Team All-Around, Swedish System"
          ],
          [
           29,
           "Luxembourg",
           "Gymnastics",
           "Gymnastics Men's Team All-Around"
          ],
          [
           29,
           "Luxembourg",
           "Gymnastics",
           "Gymnastics Men's Team All-Around, Free System"
          ],
          [
           18,
           "Russia",
           "Gymnastics",
           "Gymnastics Men's Individual All-Around"
          ],
          [
           30,
           "France",
           "Gymnastics",
           "Gymnastics Men's Individual All-Around"
          ],
          [
           23,
           "Sweden",
           "Gymnastics",
           "Gymnastics Men's Team All-Around, Swedish System"
          ],
          [
           20,
           "Luxembourg",
           "Gymnastics",
           "Gymnastics Men's Team All-Around"
          ],
          [
           20,
           "Luxembourg",
           "Gymnastics",
           "Gymnastics Men's Team All-Around, Free System"
          ],
          [
           24,
           "Luxembourg",
           "Gymnastics",
           "Gymnastics Men's Individual All-Around"
          ],
          [
           24,
           "Luxembourg",
           "Gymnastics",
           "Gymnastics Men's Team All-Around"
          ],
          [
           24,
           "Luxembourg",
           "Gymnastics",
           "Gymnastics Men's Team All-Around, Free System"
          ],
          [
           25,
           "Denmark",
           "Gymnastics",
           "Gymnastics Men's Team All-Around, Swedish System"
          ],
          [
           24,
           "Denmark",
           "Gymnastics",
           "Gymnastics Men's Team All-Around, Swedish System"
          ],
          [
           37,
           "Denmark",
           "Gymnastics",
           "Gymnastics Men's Team All-Around, Swedish System"
          ],
          [
           25,
           "Norway",
           "Gymnastics",
           "Gymnastics Men's Team All-Around, Free System"
          ],
          [
           22,
           "Norway",
           "Gymnastics",
           "Gymnastics Men's Team All-Around, Free System"
          ],
          [
           21,
           "Italy",
           "Gymnastics",
           "Gymnastics Men's Team All-Around"
          ],
          [
           25,
           "Great Britain",
           "Gymnastics",
           "Gymnastics Men's Team All-Around"
          ],
          [
           23,
           "Finland",
           "Gymnastics",
           "Gymnastics Men's Team All-Around, Free System"
          ],
          [
           24,
           "Norway",
           "Gymnastics",
           "Gymnastics Men's Team All-Around, Free System"
          ],
          [
           29,
           "Great Britain",
           "Gymnastics",
           "Gymnastics Men's Team All-Around"
          ],
          [
           22,
           "Denmark",
           "Gymnastics",
           "Gymnastics Men's Team All-Around, Free System"
          ],
          [
           19,
           "Italy",
           "Gymnastics",
           "Gymnastics Men's Team All-Around"
          ],
          [
           18,
           "Italy",
           "Gymnastics",
           "Gymnastics Men's Team All-Around"
          ],
          [
           21,
           "Italy",
           "Gymnastics",
           "Gymnastics Men's Team All-Around"
          ],
          [
           22,
           "Denmark",
           "Gymnastics",
           "Gymnastics Men's Team All-Around, Swedish System"
          ],
          [
           24,
           "Norway",
           "Gymnastics",
           "Gymnastics Men's Team All-Around, Free System"
          ],
          [
           20,
           "France",
           "Gymnastics",
           "Gymnastics Men's Individual All-Around"
          ],
          [
           27,
           "Norway",
           "Gymnastics",
           "Gymnastics Men's Team All-Around, Free System"
          ],
          [
           22,
           "Italy",
           "Gymnastics",
           "Gymnastics Men's Individual All-Around"
          ],
          [
           22,
           "Italy",
           "Gymnastics",
           "Gymnastics Men's Team All-Around"
          ],
          [
           31,
           "Great Britain",
           "Gymnastics",
           "Gymnastics Men's Team All-Around"
          ],
          [
           24,
           "Great Britain",
           "Gymnastics",
           "Gymnastics Men's Team All-Around"
          ],
          [
           20,
           "Denmark",
           "Gymnastics",
           "Gymnastics Men's Individual All-Around"
          ],
          [
           27,
           "Denmark",
           "Gymnastics",
           "Gymnastics Men's Team All-Around, Free System"
          ],
          [
           24,
           "Finland",
           "Gymnastics",
           "Gymnastics Men's Individual All-Around"
          ],
          [
           22,
           "Sweden",
           "Gymnastics",
           "Gymnastics Men's Team All-Around, Swedish System"
          ],
          [
           19,
           "Denmark",
           "Gymnastics",
           "Gymnastics Men's Team All-Around, Free System"
          ],
          [
           26,
           "Sweden",
           "Gymnastics",
           "Gymnastics Men's Team All-Around, Swedish System"
          ],
          [
           28,
           "Sweden",
           "Gymnastics",
           "Gymnastics Men's Team All-Around, Swedish System"
          ],
          [
           24,
           "Sweden",
           "Gymnastics",
           "Gymnastics Men's Team All-Around, Swedish System"
          ],
          [
           19,
           "Great Britain",
           "Gymnastics",
           "Gymnastics Men's Team All-Around"
          ],
          [
           19,
           "Denmark",
           "Gymnastics",
           "Gymnastics Men's Team All-Around, Swedish System"
          ],
          [
           28,
           "Norway",
           "Gymnastics",
           "Gymnastics Men's Team All-Around, Swedish System"
          ],
          [
           25,
           "Denmark",
           "Gymnastics",
           "Gymnastics Men's Team All-Around, Free System"
          ],
          [
           38,
           "Denmark",
           "Gymnastics",
           "Gymnastics Men's Team All-Around, Free System"
          ],
          [
           24,
           "Norway",
           "Gymnastics",
           "Gymnastics Men's Team All-Around, Swedish System"
          ],
          [
           18,
           "Norway",
           "Gymnastics",
           "Gymnastics Men's Team All-Around, Free System"
          ],
          [
           29,
           "Norway",
           "Gymnastics",
           "Gymnastics Men's Team All-Around, Free System"
          ],
          [
           20,
           "Germany",
           "Gymnastics",
           "Gymnastics Men's Team All-Around"
          ],
          [
           20,
           "Germany",
           "Gymnastics",
           "Gymnastics Men's Team All-Around, Free System"
          ],
          [
           18,
           "Luxembourg",
           "Gymnastics",
           "Gymnastics Men's Team All-Around, Free System"
          ],
          [
           22,
           "Hungary",
           "Gymnastics",
           "Gymnastics Men's Individual All-Around"
          ],
          [
           22,
           "Hungary",
           "Gymnastics",
           "Gymnastics Men's Team All-Around"
          ],
          [
           22,
           "Norway",
           "Gymnastics",
           "Gymnastics Men's Team All-Around, Swedish System"
          ],
          [
           28,
           "Denmark",
           "Gymnastics",
           "Gymnastics Men's Individual All-Around"
          ],
          [
           28,
           "Denmark",
           "Gymnastics",
           "Gymnastics Men's Team All-Around, Free System"
          ],
          [
           30,
           "Norway",
           "Gymnastics",
           "Gymnastics Men's Team All-Around, Swedish System"
          ],
          [
           24,
           "Denmark",
           "Gymnastics",
           "Gymnastics Men's Team All-Around, Swedish System"
          ],
          [
           21,
           "Denmark",
           "Gymnastics",
           "Gymnastics Men's Team All-Around, Swedish System"
          ],
          [
           34,
           "Denmark",
           "Gymnastics",
           "Gymnastics Men's Team All-Around, Free System"
          ],
          [
           27,
           "Denmark",
           "Gymnastics",
           "Gymnastics Men's Team All-Around, Swedish System"
          ],
          [
           25,
           "Norway",
           "Gymnastics",
           "Gymnastics Men's Team All-Around, Swedish System"
          ],
          [
           31,
           "Denmark",
           "Gymnastics",
           "Gymnastics Men's Team All-Around, Swedish System"
          ],
          [
           21,
           "Hungary",
           "Gymnastics",
           "Gymnastics Men's Team All-Around"
          ],
          [
           20,
           "Finland",
           "Gymnastics",
           "Gymnastics Men's Team All-Around, Free System"
          ],
          [
           32,
           "Great Britain",
           "Gymnastics",
           "Gymnastics Men's Team All-Around"
          ],
          [
           20,
           "Finland",
           "Gymnastics",
           "Gymnastics Men's Team All-Around, Free System"
          ],
          [
           26,
           "Denmark",
           "Gymnastics",
           "Gymnastics Men's Individual All-Around"
          ],
          [
           26,
           "Denmark",
           "Gymnastics",
           "Gymnastics Men's Team All-Around, Free System"
          ],
          [
           20,
           "Norway",
           "Gymnastics",
           "Gymnastics Men's Team All-Around, Free System"
          ],
          [
           29,
           "France",
           "Gymnastics",
           "Gymnastics Men's Individual All-Around"
          ],
          [
           30,
           "Great Britain",
           "Gymnastics",
           "Gymnastics Men's Team All-Around"
          ],
          [
           20,
           "Great Britain",
           "Gymnastics",
           "Gymnastics Men's Individual All-Around"
          ],
          [
           20,
           "Great Britain",
           "Gymnastics",
           "Gymnastics Men's Team All-Around"
          ],
          [
           28,
           "Denmark",
           "Gymnastics",
           "Gymnastics Men's Team All-Around, Swedish System"
          ],
          [
           22,
           "Germany",
           "Gymnastics",
           "Gymnastics Men's Team All-Around"
          ],
          [
           22,
           "Germany",
           "Gymnastics",
           "Gymnastics Men's Team All-Around, Free System"
          ],
          [
           23,
           "Hungary",
           "Gymnastics",
           "Gymnastics Men's Team All-Around"
          ],
          [
           21,
           "Germany",
           "Gymnastics",
           "Gymnastics Men's Team All-Around"
          ],
          [
           21,
           "Germany",
           "Gymnastics",
           "Gymnastics Men's Team All-Around, Free System"
          ],
          [
           24,
           "Germany",
           "Gymnastics",
           "Gymnastics Men's Team All-Around"
          ],
          [
           24,
           "Germany",
           "Gymnastics",
           "Gymnastics Men's Team All-Around, Free System"
          ],
          [
           26,
           "Norway",
           "Gymnastics",
           "Gymnastics Men's Team All-Around, Swedish System"
          ],
          [
           24,
           "Italy",
           "Gymnastics",
           "Gymnastics Men's Individual All-Around"
          ],
          [
           24,
           "Italy",
           "Gymnastics",
           "Gymnastics Men's Team All-Around"
          ],
          [
           25,
           "Sweden",
           "Gymnastics",
           "Gymnastics Men's Team All-Around, Swedish System"
          ],
          [
           34,
           "Great Britain",
           "Gymnastics",
           "Gymnastics Men's Team All-Around"
          ],
          [
           22,
           "Germany",
           "Gymnastics",
           "Gymnastics Men's Team All-Around"
          ],
          [
           22,
           "Germany",
           "Gymnastics",
           "Gymnastics Men's Team All-Around, Free System"
          ],
          [
           27,
           "Finland",
           "Gymnastics",
           "Gymnastics Men's Team All-Around, Free System"
          ],
          [
           24,
           "Finland",
           "Gymnastics",
           "Gymnastics Men's Team All-Around, Free System"
          ],
          [
           25,
           "Finland",
           "Gymnastics",
           "Gymnastics Men's Team All-Around, Free System"
          ],
          [
           20,
           "Italy",
           "Gymnastics",
           "Gymnastics Men's Team All-Around"
          ],
          [
           26,
           "Finland",
           "Gymnastics",
           "Gymnastics Men's Team All-Around, Free System"
          ],
          [
           26,
           "Italy",
           "Gymnastics",
           "Gymnastics Men's Team All-Around"
          ],
          [
           19,
           "Norway",
           "Gymnastics",
           "Gymnastics Men's Team All-Around, Free System"
          ],
          [
           33,
           "Norway",
           "Gymnastics",
           "Gymnastics Men's Team All-Around, Free System"
          ],
          [
           22,
           "Germany",
           "Gymnastics",
           "Gymnastics Men's Team All-Around"
          ],
          [
           22,
           "Germany",
           "Gymnastics",
           "Gymnastics Men's Team All-Around, Free System"
          ],
          [
           22,
           "France",
           "Gymnastics",
           "Gymnastics Men's Individual All-Around"
          ],
          [
           27,
           "Norway",
           "Gymnastics",
           "Gymnastics Men's Team All-Around, Free System"
          ],
          [
           24,
           "Sweden",
           "Gymnastics",
           "Gymnastics Men's Team All-Around, Swedish System"
          ],
          [
           26,
           "Sweden",
           "Gymnastics",
           "Gymnastics Men's Team All-Around, Swedish System"
          ],
          [
           26,
           "Great Britain",
           "Gymnastics",
           "Gymnastics Men's Individual All-Around"
          ],
          [
           26,
           "Great Britain",
           "Gymnastics",
           "Gymnastics Men's Team All-Around"
          ],
          [
           22,
           "Finland",
           "Gymnastics",
           "Gymnastics Men's Team All-Around, Free System"
          ],
          [
           31,
           "Norway",
           "Gymnastics",
           "Gymnastics Men's Team All-Around, Free System"
          ],
          [
           21,
           "Norway",
           "Gymnastics",
           "Gymnastics Men's Team All-Around, Free System"
          ],
          [
           26,
           "Norway",
           "Gymnastics",
           "Gymnastics Men's Team All-Around, Swedish System"
          ],
          [
           22,
           "Sweden",
           "Gymnastics",
           "Gymnastics Men's Team All-Around, Swedish System"
          ],
          [
           19,
           "Germany",
           "Gymnastics",
           "Gymnastics Men's Team All-Around"
          ],
          [
           19,
           "Germany",
           "Gymnastics",
           "Gymnastics Men's Team All-Around, Free System"
          ],
          [
           29,
           "Great Britain",
           "Gymnastics",
           "Gymnastics Men's Team All-Around"
          ],
          [
           20,
           "Denmark",
           "Gymnastics",
           "Gymnastics Men's Team All-Around, Swedish System"
          ],
          [
           22,
           "Germany",
           "Gymnastics",
           "Gymnastics Men's Team All-Around"
          ],
          [
           22,
           "Germany",
           "Gymnastics",
           "Gymnastics Men's Team All-Around, Free System"
          ],
          [
           20,
           "Germany",
           "Gymnastics",
           "Gymnastics Men's Team All-Around"
          ],
          [
           20,
           "Germany",
           "Gymnastics",
           "Gymnastics Men's Team All-Around, Free System"
          ],
          [
           25,
           "Sweden",
           "Gymnastics",
           "Gymnastics Men's Team All-Around, Swedish System"
          ],
          [
           27,
           "Norway",
           "Gymnastics",
           "Gymnastics Men's Team All-Around, Free System"
          ],
          [
           23,
           "Finland",
           "Gymnastics",
           "Gymnastics Men's Team All-Around, Free System"
          ],
          [
           21,
           "Denmark",
           "Gymnastics",
           "Gymnastics Men's Team All-Around, Free System"
          ],
          [
           21,
           "Sweden",
           "Gymnastics",
           "Gymnastics Men's Team All-Around, Swedish System"
          ],
          [
           25,
           "Sweden",
           "Gymnastics",
           "Gymnastics Men's Team All-Around, Swedish System"
          ],
          [
           19,
           "Hungary",
           "Gymnastics",
           "Gymnastics Men's Individual All-Around"
          ],
          [
           20,
           "Hungary",
           "Gymnastics",
           "Gymnastics Men's Team All-Around"
          ],
          [
           25,
           "Finland",
           "Gymnastics",
           "Gymnastics Men's Individual All-Around"
          ],
          [
           22,
           "Finland",
           "Gymnastics",
           "Gymnastics Men's Team All-Around, Free System"
          ],
          [
           21,
           "Hungary",
           "Gymnastics",
           "Gymnastics Men's Team All-Around"
          ],
          [
           21,
           "Luxembourg",
           "Gymnastics",
           "Gymnastics Men's Individual All-Around"
          ],
          [
           21,
           "Luxembourg",
           "Gymnastics",
           "Gymnastics Men's Team All-Around"
          ],
          [
           21,
           "Luxembourg",
           "Gymnastics",
           "Gymnastics Men's Team All-Around, Free System"
          ],
          [
           23,
           "Denmark",
           "Gymnastics",
           "Gymnastics Men's Team All-Around, Swedish System"
          ],
          [
           23,
           "Norway",
           "Gymnastics",
           "Gymnastics Men's Team All-Around, Free System"
          ],
          [
           31,
           "Norway",
           "Gymnastics",
           "Gymnastics Men's Team All-Around, Free System"
          ],
          [
           26,
           "Finland",
           "Gymnastics",
           "Gymnastics Men's Team All-Around, Free System"
          ],
          [
           31,
           "Great Britain",
           "Gymnastics",
           "Gymnastics Men's Team All-Around"
          ],
          [
           27,
           "Sweden",
           "Gymnastics",
           "Gymnastics Men's Team All-Around, Swedish System"
          ],
          [
           19,
           "Norway",
           "Gymnastics",
           "Gymnastics Men's Team All-Around, Swedish System"
          ],
          [
           24,
           "France",
           "Gymnastics",
           "Gymnastics Men's Individual All-Around"
          ],
          [
           24,
           "Hungary",
           "Gymnastics",
           "Gymnastics Men's Team All-Around"
          ],
          [
           24,
           "Italy",
           "Gymnastics",
           "Gymnastics Men's Team All-Around"
          ],
          [
           25,
           "Denmark",
           "Gymnastics",
           "Gymnastics Men's Team All-Around, Swedish System"
          ],
          [
           19,
           "Finland",
           "Gymnastics",
           "Gymnastics Men's Team All-Around, Free System"
          ],
          [
           26,
           "Finland",
           "Gymnastics",
           "Gymnastics Men's Team All-Around, Free System"
          ],
          [
           23,
           "Great Britain",
           "Gymnastics",
           "Gymnastics Men's Team All-Around"
          ],
          [
           19,
           "Denmark",
           "Gymnastics",
           "Gymnastics Men's Team All-Around, Swedish System"
          ],
          [
           26,
           "Norway",
           "Gymnastics",
           "Gymnastics Men's Team All-Around, Free System"
          ],
          [
           23,
           "Finland",
           "Gymnastics",
           "Gymnastics Men's Individual All-Around"
          ],
          [
           21,
           "Luxembourg",
           "Gymnastics",
           "Gymnastics Men's Team All-Around"
          ],
          [
           21,
           "Luxembourg",
           "Gymnastics",
           "Gymnastics Men's Team All-Around, Free System"
          ],
          [
           28,
           "Great Britain",
           "Gymnastics",
           "Gymnastics Men's Team All-Around"
          ],
          [
           22,
           "Luxembourg",
           "Gymnastics",
           "Gymnastics Men's Individual All-Around"
          ],
          [
           22,
           "Luxembourg",
           "Gymnastics",
           "Gymnastics Men's Team All-Around"
          ],
          [
           22,
           "Luxembourg",
           "Gymnastics",
           "Gymnastics Men's Team All-Around, Free System"
          ],
          [
           22,
           "Sweden",
           "Gymnastics",
           "Gymnastics Men's Team All-Around, Swedish System"
          ],
          [
           20,
           "Germany",
           "Gymnastics",
           "Gymnastics Men's Team All-Around"
          ],
          [
           20,
           "Germany",
           "Gymnastics",
           "Gymnastics Men's Team All-Around, Free System"
          ],
          [
           23,
           "Sweden",
           "Gymnastics",
           "Gymnastics Men's Team All-Around, Swedish System"
          ],
          [
           26,
           "Great Britain",
           "Gymnastics",
           "Gymnastics Men's Individual All-Around"
          ],
          [
           26,
           "Great Britain",
           "Gymnastics",
           "Gymnastics Men's Team All-Around"
          ],
          [
           27,
           "Sweden",
           "Gymnastics",
           "Gymnastics Men's Team All-Around, Swedish System"
          ],
          [
           26,
           "Luxembourg",
           "Gymnastics",
           "Gymnastics Men's Team All-Around"
          ],
          [
           26,
           "Luxembourg",
           "Gymnastics",
           "Gymnastics Men's Team All-Around, Free System"
          ],
          [
           24,
           "Germany",
           "Gymnastics",
           "Gymnastics Men's Team All-Around"
          ],
          [
           24,
           "Germany",
           "Gymnastics",
           "Gymnastics Men's Team All-Around, Free System"
          ],
          [
           23,
           "Russia",
           "Gymnastics",
           "Gymnastics Men's Individual All-Around"
          ],
          [
           24,
           "Italy",
           "Gymnastics",
           "Gymnastics Men's Individual All-Around"
          ],
          [
           24,
           "Italy",
           "Gymnastics",
           "Gymnastics Men's Team All-Around"
          ],
          [
           25,
           "Italy",
           "Gymnastics",
           "Gymnastics Men's Team All-Around"
          ],
          [
           22,
           "Italy",
           "Gymnastics",
           "Gymnastics Men's Team All-Around"
          ],
          [
           21,
           "Luxembourg",
           "Gymnastics",
           "Gymnastics Men's Team All-Around"
          ],
          [
           21,
           "Luxembourg",
           "Gymnastics",
           "Gymnastics Men's Team All-Around, Free System"
          ]
         ],
         "hovertemplate": "<b>%{hovertext}</b><br><br>Sport=%{customdata[2]}<br>Sex=M<br>Country=%{x}<br>Medal=%{y}<br>Age=%{customdata[0]}<br>Team=%{customdata[1]}<br>Event=%{customdata[3]}<extra></extra>",
         "hovertext": [
          1912,
          1912,
          1912,
          1912,
          1912,
          1912,
          1912,
          1912,
          1912,
          1912,
          1912,
          1912,
          1912,
          1912,
          1912,
          1912,
          1912,
          1912,
          1912,
          1912,
          1912,
          1912,
          1912,
          1912,
          1912,
          1912,
          1912,
          1912,
          1912,
          1912,
          1912,
          1912,
          1912,
          1912,
          1912,
          1912,
          1912,
          1912,
          1912,
          1912,
          1912,
          1912,
          1912,
          1912,
          1912,
          1912,
          1912,
          1912,
          1912,
          1912,
          1912,
          1912,
          1912,
          1912,
          1912,
          1912,
          1912,
          1912,
          1912,
          1912,
          1912,
          1912,
          1912,
          1912,
          1912,
          1912,
          1912,
          1912,
          1912,
          1912,
          1912,
          1912,
          1912,
          1912,
          1912,
          1912,
          1912,
          1912,
          1912,
          1912,
          1912,
          1912,
          1912,
          1912,
          1912,
          1912,
          1912,
          1912,
          1912,
          1912,
          1912,
          1912,
          1912,
          1912,
          1912,
          1912,
          1912,
          1912,
          1912,
          1912,
          1912,
          1912,
          1912,
          1912,
          1912,
          1912,
          1912,
          1912,
          1912,
          1912,
          1912,
          1912,
          1912,
          1912,
          1912,
          1912,
          1912,
          1912,
          1912,
          1912,
          1912,
          1912,
          1912,
          1912,
          1912,
          1912,
          1912,
          1912,
          1912,
          1912,
          1912,
          1912,
          1912,
          1912,
          1912,
          1912,
          1912,
          1912,
          1912,
          1912,
          1912,
          1912,
          1912,
          1912,
          1912,
          1912,
          1912,
          1912,
          1912,
          1912,
          1912,
          1912,
          1912,
          1912,
          1912,
          1912,
          1912,
          1912,
          1912,
          1912,
          1912,
          1912,
          1912,
          1912,
          1912,
          1912,
          1912,
          1912,
          1912,
          1912,
          1912,
          1912,
          1912,
          1912,
          1912,
          1912,
          1912,
          1912,
          1912,
          1912,
          1912,
          1912,
          1912,
          1912,
          1912,
          1912,
          1912,
          1912,
          1912,
          1912,
          1912,
          1912,
          1912,
          1912,
          1912,
          1912,
          1912,
          1912,
          1912,
          1912,
          1912,
          1912,
          1912,
          1912,
          1912,
          1912,
          1912,
          1912,
          1912,
          1912,
          1912,
          1912,
          1912,
          1912,
          1912,
          1912,
          1912,
          1912,
          1912,
          1912,
          1912,
          1912,
          1912,
          1912,
          1912,
          1912,
          1912,
          1912,
          1912,
          1912,
          1912,
          1912,
          1912,
          1912,
          1912,
          1912,
          1912,
          1912,
          1912,
          1912,
          1912,
          1912,
          1912,
          1912,
          1912,
          1912,
          1912,
          1912,
          1912,
          1912,
          1912,
          1912,
          1912,
          1912,
          1912,
          1912,
          1912,
          1912,
          1912,
          1912,
          1912,
          1912,
          1912,
          1912,
          1912,
          1912,
          1912,
          1912,
          1912,
          1912,
          1912,
          1912,
          1912,
          1912,
          1912,
          1912,
          1912,
          1912,
          1912,
          1912,
          1912,
          1912,
          1912,
          1912,
          1912,
          1912,
          1912,
          1912,
          1912,
          1912,
          1912,
          1912,
          1912,
          1912,
          1912,
          1912,
          1912,
          1912,
          1912,
          1912,
          1912,
          1912,
          1912,
          1912,
          1912,
          1912,
          1912,
          1912,
          1912,
          1912
         ],
         "legendgroup": "Gymnastics",
         "marker": {
          "color": "#19d3f3",
          "pattern": {
           "shape": ""
          }
         },
         "name": "Gymnastics",
         "offsetgroup": "Gymnastics",
         "orientation": "v",
         "showlegend": true,
         "textposition": "auto",
         "type": "bar",
         "x": [
          "NOR",
          "LUX",
          "LUX",
          "RUS",
          "NOR",
          "DEN",
          "DEN",
          "DEN",
          "NOR",
          "DEN",
          "HUN",
          "LUX",
          "LUX",
          "HUN",
          "SWE",
          "GBR",
          "NOR",
          "ITA",
          "ITA",
          "DEN",
          "NOR",
          "ITA",
          "ITA",
          "LUX",
          "LUX",
          "DEN",
          "NOR",
          "ITA",
          "ITA",
          "GER",
          "GER",
          "NOR",
          "GER",
          "GER",
          "SWE",
          "NOR",
          "DEN",
          "FRA",
          "GBR",
          "GBR",
          "GBR",
          "GBR",
          "ITA",
          "GBR",
          "FIN",
          "FIN",
          "GER",
          "GER",
          "NOR",
          "NOR",
          "HUN",
          "DEN",
          "NOR",
          "DEN",
          "FIN",
          "HUN",
          "GBR",
          "LUX",
          "ITA",
          "DEN",
          "HUN",
          "HUN",
          "GER",
          "GER",
          "ITA",
          "SWE",
          "DEN",
          "HUN",
          "NOR",
          "DEN",
          "DEN",
          "DEN",
          "DEN",
          "DEN",
          "DEN",
          "DEN",
          "GBR",
          "GBR",
          "SWE",
          "HUN",
          "LUX",
          "LUX",
          "LUX",
          "LUX",
          "LUX",
          "LUX",
          "LUX",
          "LUX",
          "HUN",
          "GBR",
          "GBR",
          "NOR",
          "SWE",
          "BOH",
          "LUX",
          "LUX",
          "SWE",
          "FIN",
          "FIN",
          "FIN",
          "NOR",
          "NOR",
          "NOR",
          "SWE",
          "FIN",
          "DEN",
          "DEN",
          "DEN",
          "NOR",
          "DEN",
          "NOR",
          "GER",
          "GER",
          "DEN",
          "NOR",
          "GER",
          "GER",
          "DEN",
          "NOR",
          "LUX",
          "LUX",
          "LUX",
          "FIN",
          "HUN",
          "DEN",
          "DEN",
          "FIN",
          "DEN",
          "LUX",
          "NOR",
          "GER",
          "GER",
          "DEN",
          "HUN",
          "HUN",
          "RUS",
          "SWE",
          "LUX",
          "LUX",
          "RUS",
          "FRA",
          "SWE",
          "LUX",
          "LUX",
          "LUX",
          "LUX",
          "LUX",
          "DEN",
          "DEN",
          "DEN",
          "NOR",
          "NOR",
          "ITA",
          "GBR",
          "FIN",
          "NOR",
          "GBR",
          "DEN",
          "ITA",
          "ITA",
          "ITA",
          "DEN",
          "NOR",
          "FRA",
          "NOR",
          "ITA",
          "ITA",
          "GBR",
          "GBR",
          "DEN",
          "DEN",
          "FIN",
          "SWE",
          "DEN",
          "SWE",
          "SWE",
          "SWE",
          "GBR",
          "DEN",
          "NOR",
          "DEN",
          "DEN",
          "NOR",
          "NOR",
          "NOR",
          "GER",
          "GER",
          "LUX",
          "HUN",
          "HUN",
          "NOR",
          "DEN",
          "DEN",
          "NOR",
          "DEN",
          "DEN",
          "DEN",
          "DEN",
          "NOR",
          "DEN",
          "HUN",
          "FIN",
          "GBR",
          "FIN",
          "DEN",
          "DEN",
          "NOR",
          "FRA",
          "GBR",
          "GBR",
          "GBR",
          "DEN",
          "GER",
          "GER",
          "HUN",
          "GER",
          "GER",
          "GER",
          "GER",
          "NOR",
          "ITA",
          "ITA",
          "SWE",
          "GBR",
          "GER",
          "GER",
          "FIN",
          "FIN",
          "FIN",
          "ITA",
          "FIN",
          "ITA",
          "NOR",
          "NOR",
          "GER",
          "GER",
          "FRA",
          "NOR",
          "SWE",
          "SWE",
          "GBR",
          "GBR",
          "FIN",
          "NOR",
          "NOR",
          "NOR",
          "SWE",
          "GER",
          "GER",
          "GBR",
          "DEN",
          "GER",
          "GER",
          "GER",
          "GER",
          "SWE",
          "NOR",
          "FIN",
          "DEN",
          "SWE",
          "SWE",
          "HUN",
          "HUN",
          "FIN",
          "FIN",
          "HUN",
          "LUX",
          "LUX",
          "LUX",
          "DEN",
          "NOR",
          "NOR",
          "FIN",
          "GBR",
          "SWE",
          "NOR",
          "FRA",
          "HUN",
          "ITA",
          "DEN",
          "FIN",
          "FIN",
          "GBR",
          "DEN",
          "NOR",
          "FIN",
          "LUX",
          "LUX",
          "GBR",
          "LUX",
          "LUX",
          "LUX",
          "SWE",
          "GER",
          "GER",
          "SWE",
          "GBR",
          "GBR",
          "SWE",
          "LUX",
          "LUX",
          "GER",
          "GER",
          "RUS",
          "ITA",
          "ITA",
          "ITA",
          "ITA",
          "LUX",
          "LUX"
         ],
         "xaxis": "x",
         "y": [
          "Gold",
          null,
          null,
          null,
          "Bronze",
          null,
          "Bronze",
          "Bronze",
          "Bronze",
          "Silver",
          "Silver",
          null,
          null,
          "Silver",
          "Gold",
          "Bronze",
          "Gold",
          null,
          "Gold",
          "Bronze",
          "Gold",
          null,
          "Gold",
          null,
          null,
          "Silver",
          "Bronze",
          "Gold",
          "Gold",
          null,
          null,
          "Bronze",
          null,
          null,
          "Gold",
          "Bronze",
          "Silver",
          null,
          null,
          "Bronze",
          "Bronze",
          "Bronze",
          "Gold",
          "Bronze",
          null,
          "Silver",
          null,
          null,
          "Gold",
          "Bronze",
          "Silver",
          "Silver",
          "Bronze",
          "Silver",
          "Silver",
          "Silver",
          "Bronze",
          null,
          "Gold",
          "Silver",
          null,
          "Silver",
          null,
          null,
          "Gold",
          "Gold",
          "Bronze",
          "Silver",
          "Bronze",
          null,
          "Bronze",
          "Bronze",
          "Silver",
          "Silver",
          "Bronze",
          "Silver",
          null,
          "Bronze",
          "Gold",
          "Silver",
          null,
          null,
          null,
          null,
          null,
          null,
          null,
          null,
          "Silver",
          null,
          "Bronze",
          "Bronze",
          "Gold",
          null,
          null,
          null,
          "Gold",
          "Silver",
          "Silver",
          "Silver",
          "Bronze",
          "Bronze",
          "Bronze",
          "Gold",
          null,
          "Silver",
          null,
          "Bronze",
          "Bronze",
          "Silver",
          "Bronze",
          null,
          null,
          "Bronze",
          "Gold",
          null,
          null,
          "Bronze",
          "Gold",
          null,
          null,
          null,
          "Silver",
          "Silver",
          "Silver",
          "Silver",
          "Silver",
          "Silver",
          null,
          "Gold",
          null,
          null,
          "Bronze",
          null,
          "Silver",
          null,
          "Gold",
          null,
          null,
          null,
          null,
          "Gold",
          null,
          null,
          null,
          null,
          null,
          "Silver",
          "Silver",
          "Silver",
          "Gold",
          "Gold",
          "Gold",
          "Bronze",
          "Silver",
          "Gold",
          "Bronze",
          "Bronze",
          "Gold",
          "Gold",
          "Gold",
          "Silver",
          "Gold",
          null,
          "Gold",
          "Bronze",
          "Gold",
          "Bronze",
          "Bronze",
          null,
          "Bronze",
          null,
          "Gold",
          "Bronze",
          "Gold",
          "Gold",
          "Gold",
          "Bronze",
          "Silver",
          "Bronze",
          "Bronze",
          "Bronze",
          "Bronze",
          "Gold",
          "Gold",
          null,
          null,
          null,
          null,
          "Silver",
          "Bronze",
          null,
          "Bronze",
          "Bronze",
          "Silver",
          "Silver",
          "Bronze",
          "Silver",
          "Bronze",
          "Silver",
          "Silver",
          "Silver",
          "Bronze",
          "Silver",
          null,
          "Bronze",
          "Gold",
          null,
          "Bronze",
          null,
          "Bronze",
          "Silver",
          null,
          null,
          "Silver",
          null,
          null,
          null,
          null,
          "Bronze",
          null,
          "Gold",
          "Gold",
          "Bronze",
          null,
          null,
          "Silver",
          "Silver",
          "Silver",
          "Gold",
          "Silver",
          "Gold",
          "Gold",
          "Gold",
          null,
          null,
          "Silver",
          "Gold",
          "Gold",
          "Gold",
          null,
          "Bronze",
          "Silver",
          "Gold",
          "Gold",
          "Bronze",
          "Gold",
          null,
          null,
          "Bronze",
          "Silver",
          null,
          null,
          null,
          null,
          "Gold",
          "Gold",
          "Silver",
          "Bronze",
          "Gold",
          "Gold",
          null,
          "Silver",
          null,
          "Silver",
          "Silver",
          null,
          null,
          null,
          "Silver",
          "Gold",
          "Gold",
          "Silver",
          "Bronze",
          "Gold",
          "Bronze",
          null,
          "Silver",
          "Gold",
          "Silver",
          "Silver",
          "Silver",
          "Bronze",
          "Silver",
          "Gold",
          null,
          null,
          null,
          "Bronze",
          null,
          null,
          null,
          "Gold",
          null,
          null,
          "Gold",
          null,
          "Bronze",
          "Gold",
          null,
          null,
          null,
          null,
          null,
          null,
          "Gold",
          "Gold",
          "Gold",
          null,
          null
         ],
         "yaxis": "y"
        },
        {
         "alignmentgroup": "True",
         "customdata": [
          [
           49,
           "France",
           "Art Competitions",
           "Art Competitions Mixed Literature"
          ],
          [
           null,
           "Great Britain",
           "Art Competitions",
           "Art Competitions Mixed Music"
          ],
          [
           null,
           "Italy",
           "Art Competitions",
           "Art Competitions Mixed Music"
          ],
          [
           38,
           "France",
           "Art Competitions",
           "Art Competitions Mixed Literature"
          ],
          [
           27,
           "Italy",
           "Art Competitions",
           "Art Competitions Mixed Sculpturing"
          ],
          [
           null,
           "Belgium",
           "Art Competitions",
           "Art Competitions Mixed Architecture"
          ],
          [
           49,
           "Italy",
           "Art Competitions",
           "Art Competitions Mixed Literature"
          ],
          [
           49,
           "Germany",
           "Art Competitions",
           "Art Competitions Mixed Literature"
          ],
          [
           36,
           "France",
           "Art Competitions",
           "Art Competitions Mixed Music"
          ],
          [
           45,
           "Switzerland",
           "Art Competitions",
           "Art Competitions Mixed Music"
          ],
          [
           null,
           "France",
           "Art Competitions",
           "Art Competitions Mixed Sculpturing"
          ],
          [
           null,
           "Unknown",
           "Art Competitions",
           "Art Competitions Mixed Architecture"
          ],
          [
           46,
           "Switzerland",
           "Art Competitions",
           "Art Competitions Mixed Architecture"
          ],
          [
           53,
           "France",
           "Art Competitions",
           "Art Competitions Mixed Painting"
          ],
          [
           31,
           "Switzerland",
           "Art Competitions",
           "Art Competitions Mixed Architecture"
          ],
          [
           46,
           "Switzerland",
           "Art Competitions",
           "Art Competitions Mixed Music"
          ],
          [
           64,
           "France",
           "Art Competitions",
           "Art Competitions Mixed Architecture"
          ],
          [
           null,
           "Unknown",
           "Art Competitions",
           "Art Competitions Mixed Architecture"
          ],
          [
           39,
           "Switzerland",
           "Art Competitions",
           "Art Competitions Mixed Architecture"
          ],
          [
           null,
           "France",
           "Art Competitions",
           "Art Competitions Mixed Literature"
          ],
          [
           44,
           "Canada",
           "Art Competitions",
           "Art Competitions Mixed Sculpturing"
          ],
          [
           40,
           "Switzerland",
           "Art Competitions",
           "Art Competitions Mixed Architecture"
          ],
          [
           45,
           "Italy",
           "Art Competitions",
           "Art Competitions Mixed Painting"
          ],
          [
           44,
           "France",
           "Art Competitions",
           "Art Competitions Mixed Literature"
          ],
          [
           62,
           "France",
           "Art Competitions",
           "Art Competitions Mixed Painting"
          ],
          [
           67,
           "Great Britain",
           "Art Competitions",
           "Art Competitions Mixed Architecture"
          ],
          [
           45,
           "France",
           "Art Competitions",
           "Art Competitions Mixed Sculpturing"
          ],
          [
           null,
           "Germany",
           "Art Competitions",
           "Art Competitions Mixed Architecture"
          ],
          [
           30,
           "Bohemia",
           "Art Competitions",
           "Art Competitions Mixed Sculpturing"
          ],
          [
           32,
           "Great Britain",
           "Art Competitions",
           "Art Competitions Mixed Painting"
          ],
          [
           46,
           "Russia",
           "Art Competitions",
           "Art Competitions Mixed Sculpturing"
          ],
          [
           60,
           "United States",
           "Art Competitions",
           "Art Competitions Mixed Sculpturing"
          ],
          [
           35,
           "Poland",
           "Art Competitions",
           "Art Competitions Mixed Sculpturing"
          ]
         ],
         "hovertemplate": "<b>%{hovertext}</b><br><br>Sport=%{customdata[2]}<br>Sex=M<br>Country=%{x}<br>Medal=%{y}<br>Age=%{customdata[0]}<br>Team=%{customdata[1]}<br>Event=%{customdata[3]}<extra></extra>",
         "hovertext": [
          1912,
          1912,
          1912,
          1912,
          1912,
          1912,
          1912,
          1912,
          1912,
          1912,
          1912,
          1912,
          1912,
          1912,
          1912,
          1912,
          1912,
          1912,
          1912,
          1912,
          1912,
          1912,
          1912,
          1912,
          1912,
          1912,
          1912,
          1912,
          1912,
          1912,
          1912,
          1912,
          1912
         ],
         "legendgroup": "Art Competitions",
         "marker": {
          "color": "#FF6692",
          "pattern": {
           "shape": ""
          }
         },
         "name": "Art Competitions",
         "offsetgroup": "Art Competitions",
         "orientation": "v",
         "showlegend": true,
         "textposition": "auto",
         "type": "bar",
         "x": [
          "FRA",
          "GBR",
          "ITA",
          "FRA",
          "ITA",
          "BEL",
          "ITA",
          "GER",
          "FRA",
          "SUI",
          "FRA",
          "UNK",
          "SUI",
          "FRA",
          "SUI",
          "SUI",
          "FRA",
          "UNK",
          "SUI",
          "FRA",
          "CAN",
          "SUI",
          "ITA",
          "FRA",
          "FRA",
          "GBR",
          "FRA",
          "GER",
          "BOH",
          "GBR",
          "RUS",
          "USA",
          "POL"
         ],
         "xaxis": "x",
         "y": [
          null,
          null,
          "Gold",
          null,
          null,
          null,
          null,
          "Gold",
          null,
          null,
          "Silver",
          null,
          null,
          null,
          null,
          null,
          null,
          null,
          "Gold",
          null,
          null,
          "Gold",
          "Gold",
          null,
          null,
          null,
          null,
          null,
          null,
          null,
          null,
          "Gold",
          null
         ],
         "yaxis": "y"
        },
        {
         "alignmentgroup": "True",
         "customdata": [
          [
           20,
           "Hungary",
           "Water Polo",
           "Water Polo Men's Water Polo"
          ],
          [
           25,
           "Sweden",
           "Water Polo",
           "Water Polo Men's Water Polo"
          ],
          [
           21,
           "Sweden",
           "Water Polo",
           "Water Polo Men's Water Polo"
          ],
          [
           19,
           "Hungary",
           "Water Polo",
           "Water Polo Men's Water Polo"
          ],
          [
           25,
           "Great Britain",
           "Water Polo",
           "Water Polo Men's Water Polo"
          ],
          [
           20,
           "Sweden",
           "Water Polo",
           "Water Polo Men's Water Polo"
          ],
          [
           35,
           "France",
           "Water Polo",
           "Water Polo Men's Water Polo"
          ],
          [
           26,
           "Belgium",
           "Water Polo",
           "Water Polo Men's Water Polo"
          ],
          [
           22,
           "Austria",
           "Water Polo",
           "Water Polo Men's Water Polo"
          ],
          [
           28,
           "Austria",
           "Water Polo",
           "Water Polo Men's Water Polo"
          ],
          [
           24,
           "Great Britain",
           "Water Polo",
           "Water Polo Men's Water Polo"
          ],
          [
           34,
           "Great Britain",
           "Water Polo",
           "Water Polo Men's Water Polo"
          ],
          [
           24,
           "Belgium",
           "Water Polo",
           "Water Polo Men's Water Polo"
          ],
          [
           22,
           "France",
           "Water Polo",
           "Water Polo Men's Water Polo"
          ],
          [
           23,
           "Belgium",
           "Water Polo",
           "Water Polo Men's Water Polo"
          ],
          [
           19,
           "Belgium",
           "Water Polo",
           "Water Polo Men's Water Polo"
          ],
          [
           19,
           "Hungary",
           "Water Polo",
           "Water Polo Men's Water Polo"
          ],
          [
           35,
           "Belgium",
           "Water Polo",
           "Water Polo Men's Water Polo"
          ],
          [
           22,
           "Sweden",
           "Water Polo",
           "Water Polo Men's Water Polo"
          ],
          [
           27,
           "Sweden",
           "Water Polo",
           "Water Polo Men's Water Polo"
          ],
          [
           20,
           "Hungary",
           "Water Polo",
           "Water Polo Men's Water Polo"
          ],
          [
           24,
           "Great Britain",
           "Water Polo",
           "Water Polo Men's Water Polo"
          ],
          [
           18,
           "Belgium",
           "Water Polo",
           "Water Polo Men's Water Polo"
          ],
          [
           22,
           "Sweden",
           "Water Polo",
           "Water Polo Men's Water Polo"
          ],
          [
           27,
           "Austria",
           "Water Polo",
           "Water Polo Men's Water Polo"
          ],
          [
           26,
           "Sweden",
           "Water Polo",
           "Water Polo Men's Water Polo"
          ],
          [
           23,
           "Austria",
           "Water Polo",
           "Water Polo Men's Water Polo"
          ],
          [
           22,
           "Belgium",
           "Water Polo",
           "Water Polo Men's Water Polo"
          ],
          [
           22,
           "Belgium",
           "Water Polo",
           "Water Polo Men's Water Polo"
          ],
          [
           23,
           "Belgium",
           "Water Polo",
           "Water Polo Men's Water Polo"
          ],
          [
           25,
           "France",
           "Water Polo",
           "Water Polo Men's Water Polo"
          ],
          [
           26,
           "Great Britain",
           "Water Polo",
           "Water Polo Men's Water Polo"
          ],
          [
           21,
           "Hungary",
           "Water Polo",
           "Water Polo Men's Water Polo"
          ],
          [
           22,
           "France",
           "Water Polo",
           "Water Polo Men's Water Polo"
          ],
          [
           20,
           "France",
           "Water Polo",
           "Water Polo Men's Water Polo"
          ],
          [
           24,
           "Austria",
           "Water Polo",
           "Water Polo Men's Water Polo"
          ],
          [
           22,
           "Austria",
           "Water Polo",
           "Water Polo Men's Water Polo"
          ],
          [
           33,
           "Great Britain",
           "Water Polo",
           "Water Polo Men's Water Polo"
          ],
          [
           24,
           "France",
           "Water Polo",
           "Water Polo Men's Water Polo"
          ],
          [
           21,
           "France",
           "Water Polo",
           "Water Polo Men's Water Polo"
          ],
          [
           27,
           "France",
           "Water Polo",
           "Water Polo Men's Water Polo"
          ],
          [
           26,
           "Austria",
           "Water Polo",
           "Water Polo Men's Water Polo"
          ],
          [
           18,
           "Hungary",
           "Water Polo",
           "Water Polo Men's Water Polo"
          ],
          [
           33,
           "Great Britain",
           "Water Polo",
           "Water Polo Men's Water Polo"
          ],
          [
           21,
           "Hungary",
           "Water Polo",
           "Water Polo Men's Water Polo"
          ]
         ],
         "hovertemplate": "<b>%{hovertext}</b><br><br>Sport=%{customdata[2]}<br>Sex=M<br>Country=%{x}<br>Medal=%{y}<br>Age=%{customdata[0]}<br>Team=%{customdata[1]}<br>Event=%{customdata[3]}<extra></extra>",
         "hovertext": [
          1912,
          1912,
          1912,
          1912,
          1912,
          1912,
          1912,
          1912,
          1912,
          1912,
          1912,
          1912,
          1912,
          1912,
          1912,
          1912,
          1912,
          1912,
          1912,
          1912,
          1912,
          1912,
          1912,
          1912,
          1912,
          1912,
          1912,
          1912,
          1912,
          1912,
          1912,
          1912,
          1912,
          1912,
          1912,
          1912,
          1912,
          1912,
          1912,
          1912,
          1912,
          1912,
          1912,
          1912,
          1912
         ],
         "legendgroup": "Water Polo",
         "marker": {
          "color": "#B6E880",
          "pattern": {
           "shape": ""
          }
         },
         "name": "Water Polo",
         "offsetgroup": "Water Polo",
         "orientation": "v",
         "showlegend": true,
         "textposition": "auto",
         "type": "bar",
         "x": [
          "HUN",
          "SWE",
          "SWE",
          "HUN",
          "GBR",
          "SWE",
          "FRA",
          "BEL",
          "AUT",
          "AUT",
          "GBR",
          "GBR",
          "BEL",
          "FRA",
          "BEL",
          "BEL",
          "HUN",
          "BEL",
          "SWE",
          "SWE",
          "HUN",
          "GBR",
          "BEL",
          "SWE",
          "AUT",
          "SWE",
          "AUT",
          "BEL",
          "BEL",
          "BEL",
          "FRA",
          "GBR",
          "HUN",
          "FRA",
          "FRA",
          "AUT",
          "AUT",
          "GBR",
          "FRA",
          "FRA",
          "FRA",
          "AUT",
          "HUN",
          "GBR",
          "HUN"
         ],
         "xaxis": "x",
         "y": [
          null,
          "Silver",
          "Silver",
          null,
          "Gold",
          "Silver",
          null,
          "Bronze",
          null,
          null,
          "Gold",
          "Gold",
          "Bronze",
          null,
          "Bronze",
          "Bronze",
          null,
          "Bronze",
          "Silver",
          "Silver",
          null,
          "Gold",
          "Bronze",
          "Silver",
          null,
          "Silver",
          null,
          "Bronze",
          "Bronze",
          "Bronze",
          null,
          "Gold",
          null,
          null,
          null,
          null,
          null,
          "Gold",
          null,
          null,
          null,
          null,
          null,
          "Gold",
          null
         ],
         "yaxis": "y"
        },
        {
         "alignmentgroup": "True",
         "customdata": [
          [
           31,
           "United States",
           "Shooting",
           "Shooting Men's Free Rifle, Three Positions, 300 metres"
          ],
          [
           31,
           "United States",
           "Shooting",
           "Shooting Men's Military Rifle, Three Positions, 300 metres"
          ],
          [
           31,
           "United States",
           "Shooting",
           "Shooting Men's Military Rifle, Any Position, 600 metres"
          ],
          [
           31,
           "United States",
           "Shooting",
           "Shooting Men's Military Rifle, 200, 400, 500 and 600 metres, Team"
          ],
          [
           35,
           "Chile",
           "Shooting",
           "Shooting Men's Free Pistol, 50 metres"
          ],
          [
           35,
           "Chile",
           "Shooting",
           "Shooting Men's Dueling Pistol, 30 metres"
          ],
          [
           35,
           "Chile",
           "Shooting",
           "Shooting Men's Military Rifle, Three Positions, 300 metres"
          ],
          [
           35,
           "Chile",
           "Shooting",
           "Shooting Men's Military Rifle, Any Position, 600 metres"
          ],
          [
           44,
           "Denmark",
           "Shooting",
           "Shooting Men's Free Rifle, Three Positions, 300 metres, Team"
          ],
          [
           44,
           "Denmark",
           "Shooting",
           "Shooting Men's Military Rifle, 200, 400, 500 and 600 metres, Team"
          ],
          [
           25,
           "United States",
           "Shooting",
           "Shooting Men's Small-Bore Rifle, Any Position, 50 metres"
          ],
          [
           25,
           "United States",
           "Shooting",
           "Shooting Men's Small-Bore Rifle, Disappearing Target, 25 metres"
          ],
          [
           47,
           "Sweden",
           "Shooting",
           "Shooting Men's Free Rifle, Three Positions, 300 metres"
          ],
          [
           47,
           "Sweden",
           "Shooting",
           "Shooting Men's Military Rifle, Three Positions, 300 metres"
          ],
          [
           47,
           "Sweden",
           "Shooting",
           "Shooting Men's Running Target, Single Shot"
          ],
          [
           47,
           "Sweden",
           "Shooting",
           "Shooting Men's Running Target, Single Shot, Team"
          ],
          [
           47,
           "Sweden",
           "Shooting",
           "Shooting Men's Running Target, Double Shot"
          ],
          [
           29,
           "Finland",
           "Shooting",
           "Shooting Men's Free Rifle, Three Positions, 300 metres"
          ],
          [
           36,
           "Finland",
           "Shooting",
           "Shooting Men's Trap"
          ],
          [
           36,
           "Finland",
           "Shooting",
           "Shooting Men's Trap, Team"
          ],
          [
           31,
           "Russia",
           "Shooting",
           "Shooting Men's Running Target, Single Shot"
          ],
          [
           31,
           "Russia",
           "Shooting",
           "Shooting Men's Running Target, Single Shot, Team"
          ],
          [
           31,
           "Russia",
           "Shooting",
           "Shooting Men's Running Target, Double Shot"
          ],
          [
           24,
           "United States",
           "Shooting",
           "Shooting Men's Free Rifle, Three Positions, 300 metres"
          ],
          [
           24,
           "United States",
           "Shooting",
           "Shooting Men's Military Rifle, Three Positions, 300 metres"
          ],
          [
           24,
           "United States",
           "Shooting",
           "Shooting Men's Military Rifle, Any Position, 600 metres"
          ],
          [
           27,
           "Russia",
           "Shooting",
           "Shooting Men's Free Rifle, Three Positions, 300 metres"
          ],
          [
           27,
           "Russia",
           "Shooting",
           "Shooting Men's Military Rifle, Three Positions, 300 metres"
          ],
          [
           27,
           "Russia",
           "Shooting",
           "Shooting Men's Military Rifle, Any Position, 600 metres"
          ],
          [
           33,
           "Sweden",
           "Shooting",
           "Shooting Men's Running Target, Single Shot"
          ],
          [
           33,
           "Sweden",
           "Shooting",
           "Shooting Men's Running Target, Double Shot"
          ],
          [
           33,
           "Sweden",
           "Shooting",
           "Shooting Men's Trap"
          ],
          [
           27,
           "Austria",
           "Shooting",
           "Shooting Men's Free Pistol, 50 metres"
          ],
          [
           27,
           "Austria",
           "Shooting",
           "Shooting Men's Dueling Pistol, 30 metres"
          ],
          [
           45,
           "United States",
           "Shooting",
           "Shooting Men's Trap"
          ],
          [
           45,
           "United States",
           "Shooting",
           "Shooting Men's Trap, Team"
          ],
          [
           31,
           "Norway",
           "Shooting",
           "Shooting Men's Military Rifle, Three Positions, 300 metres"
          ],
          [
           42,
           "Sweden",
           "Shooting",
           "Shooting Men's Free Rifle, Three Positions, 300 metres"
          ],
          [
           42,
           "Sweden",
           "Shooting",
           "Shooting Men's Free Rifle, Three Positions, 300 metres, Team"
          ],
          [
           42,
           "Sweden",
           "Shooting",
           "Shooting Men's Military Rifle, 200, 400, 500 and 600 metres, Team"
          ],
          [
           24,
           "Sweden",
           "Shooting",
           "Shooting Men's Free Rifle, Three Positions, 300 metres"
          ],
          [
           24,
           "Sweden",
           "Shooting",
           "Shooting Men's Military Rifle, Three Positions, 300 metres"
          ],
          [
           24,
           "Sweden",
           "Shooting",
           "Shooting Men's Military Rifle, Any Position, 600 metres"
          ],
          [
           24,
           "Sweden",
           "Shooting",
           "Shooting Men's Military Rifle, 200, 400, 500 and 600 metres, Team"
          ],
          [
           55,
           "Great Britain",
           "Shooting",
           "Shooting Men's Trap"
          ],
          [
           27,
           "Russia",
           "Shooting",
           "Shooting Men's Running Target, Single Shot"
          ],
          [
           27,
           "Russia",
           "Shooting",
           "Shooting Men's Running Target, Single Shot, Team"
          ],
          [
           27,
           "Russia",
           "Shooting",
           "Shooting Men's Trap"
          ],
          [
           33,
           "Sweden",
           "Shooting",
           "Shooting Men's Free Rifle, Three Positions, 300 metres"
          ],
          [
           33,
           "Sweden",
           "Shooting",
           "Shooting Men's Free Rifle, Three Positions, 300 metres, Team"
          ],
          [
           33,
           "Germany",
           "Shooting",
           "Shooting Men's Free Pistol, 50 metres"
          ],
          [
           33,
           "Germany",
           "Shooting",
           "Shooting Men's Dueling Pistol, 30 metres, Team"
          ],
          [
           33,
           "South Africa",
           "Shooting",
           "Shooting Men's Free Rifle, Three Positions, 300 metres"
          ],
          [
           33,
           "South Africa",
           "Shooting",
           "Shooting Men's Free Rifle, Three Positions, 300 metres, Team"
          ],
          [
           33,
           "South Africa",
           "Shooting",
           "Shooting Men's Military Rifle, Three Positions, 300 metres"
          ],
          [
           33,
           "South Africa",
           "Shooting",
           "Shooting Men's Military Rifle, Any Position, 600 metres"
          ],
          [
           33,
           "South Africa",
           "Shooting",
           "Shooting Men's Military Rifle, 200, 400, 500 and 600 metres, Team"
          ],
          [
           26,
           "Russia",
           "Shooting",
           "Shooting Men's Trap"
          ],
          [
           47,
           "Sweden",
           "Shooting",
           "Shooting Men's Free Pistol, 50 metres"
          ],
          [
           47,
           "Sweden",
           "Shooting",
           "Shooting Men's Dueling Pistol, 30 metres"
          ],
          [
           47,
           "Sweden",
           "Shooting",
           "Shooting Men's Small-Bore Rifle, Disappearing Target, 25 metres"
          ],
          [
           47,
           "Sweden",
           "Shooting",
           "Shooting Men's Small-Bore Rifle, Disappearing Target, 25 metres, Team"
          ],
          [
           38,
           "Sweden",
           "Shooting",
           "Shooting Men's Trap"
          ],
          [
           32,
           "Hungary",
           "Shooting",
           "Shooting Men's Free Rifle, Three Positions, 300 metres"
          ],
          [
           32,
           "Hungary",
           "Shooting",
           "Shooting Men's Military Rifle, Three Positions, 300 metres"
          ],
          [
           32,
           "Hungary",
           "Shooting",
           "Shooting Men's Military Rifle, Any Position, 600 metres"
          ],
          [
           32,
           "Hungary",
           "Shooting",
           "Shooting Men's Military Rifle, 200, 400, 500 and 600 metres, Team"
          ],
          [
           42,
           "Sweden",
           "Shooting",
           "Shooting Men's Free Pistol, 50 metres"
          ],
          [
           42,
           "Sweden",
           "Shooting",
           "Shooting Men's Free Pistol, 50 metres, Team"
          ],
          [
           42,
           "Sweden",
           "Shooting",
           "Shooting Men's Dueling Pistol, 30 metres"
          ],
          [
           42,
           "Sweden",
           "Shooting",
           "Shooting Men's Small-Bore Rifle, Any Position, 50 metres"
          ],
          [
           38,
           "Norway",
           "Shooting",
           "Shooting Men's Free Rifle, Three Positions, 300 metres"
          ],
          [
           38,
           "Norway",
           "Shooting",
           "Shooting Men's Military Rifle, Three Positions, 300 metres"
          ],
          [
           39,
           "United States",
           "Shooting",
           "Shooting Men's Free Rifle, Three Positions, 300 metres"
          ],
          [
           39,
           "United States",
           "Shooting",
           "Shooting Men's Military Rifle, Three Positions, 300 metres"
          ],
          [
           39,
           "United States",
           "Shooting",
           "Shooting Men's Military Rifle, Any Position, 600 metres"
          ],
          [
           39,
           "United States",
           "Shooting",
           "Shooting Men's Military Rifle, 200, 400, 500 and 600 metres, Team"
          ],
          [
           43,
           "Norway",
           "Shooting",
           "Shooting Men's Trap"
          ],
          [
           33,
           "United States",
           "Shooting",
           "Shooting Men's Free Rifle, Three Positions, 300 metres"
          ],
          [
           33,
           "United States",
           "Shooting",
           "Shooting Men's Military Rifle, Three Positions, 300 metres"
          ],
          [
           33,
           "United States",
           "Shooting",
           "Shooting Men's Military Rifle, Any Position, 600 metres"
          ],
          [
           33,
           "United States",
           "Shooting",
           "Shooting Men's Military Rifle, 200, 400, 500 and 600 metres, Team"
          ],
          [
           40,
           "Great Britain",
           "Shooting",
           "Shooting Men's Military Rifle, Any Position, 600 metres"
          ],
          [
           40,
           "Great Britain",
           "Shooting",
           "Shooting Men's Military Rifle, 200, 400, 500 and 600 metres, Team"
          ],
          [
           35,
           "Great Britain",
           "Shooting",
           "Shooting Men's Small-Bore Rifle, Any Position, 50 metres"
          ],
          [
           35,
           "Great Britain",
           "Shooting",
           "Shooting Men's Small-Bore Rifle, Disappearing Target, 25 metres"
          ],
          [
           61,
           "Great Britain",
           "Shooting",
           "Shooting Men's Trap"
          ],
          [
           61,
           "Great Britain",
           "Shooting",
           "Shooting Men's Trap, Team"
          ],
          [
           32,
           "Sweden",
           "Shooting",
           "Shooting Men's Free Pistol, 50 metres"
          ],
          [
           32,
           "Sweden",
           "Shooting",
           "Shooting Men's Free Pistol, 50 metres, Team"
          ],
          [
           32,
           "Sweden",
           "Shooting",
           "Shooting Men's Dueling Pistol, 30 metres"
          ],
          [
           32,
           "Sweden",
           "Shooting",
           "Shooting Men's Dueling Pistol, 30 metres, Team"
          ],
          [
           32,
           "Sweden",
           "Shooting",
           "Shooting Men's Small-Bore Rifle, Any Position, 50 metres"
          ],
          [
           32,
           "Sweden",
           "Shooting",
           "Shooting Men's Small-Bore Rifle, Prone, 50 metres, Team"
          ],
          [
           32,
           "Sweden",
           "Shooting",
           "Shooting Men's Small-Bore Rifle, Disappearing Target, 25 metres"
          ],
          [
           32,
           "Sweden",
           "Shooting",
           "Shooting Men's Small-Bore Rifle, Disappearing Target, 25 metres, Team"
          ],
          [
           32,
           "Sweden",
           "Shooting",
           "Shooting Men's Free Pistol, 50 metres"
          ],
          [
           32,
           "Sweden",
           "Shooting",
           "Shooting Men's Free Pistol, 50 metres, Team"
          ],
          [
           32,
           "Sweden",
           "Shooting",
           "Shooting Men's Dueling Pistol, 30 metres"
          ],
          [
           32,
           "Sweden",
           "Shooting",
           "Shooting Men's Dueling Pistol, 30 metres, Team"
          ],
          [
           32,
           "Sweden",
           "Shooting",
           "Shooting Men's Small-Bore Rifle, Any Position, 50 metres"
          ],
          [
           32,
           "Sweden",
           "Shooting",
           "Shooting Men's Small-Bore Rifle, Prone, 50 metres, Team"
          ],
          [
           32,
           "Sweden",
           "Shooting",
           "Shooting Men's Small-Bore Rifle, Disappearing Target, 25 metres"
          ],
          [
           32,
           "Sweden",
           "Shooting",
           "Shooting Men's Small-Bore Rifle, Disappearing Target, 25 metres, Team"
          ],
          [
           33,
           "Sweden",
           "Shooting",
           "Shooting Men's Free Pistol, 50 metres"
          ],
          [
           33,
           "Sweden",
           "Shooting",
           "Shooting Men's Dueling Pistol, 30 metres"
          ],
          [
           25,
           "Sweden",
           "Shooting",
           "Shooting Men's Running Target, Single Shot"
          ],
          [
           38,
           "Norway",
           "Shooting",
           "Shooting Men's Military Rifle, Any Position, 600 metres"
          ],
          [
           31,
           "France",
           "Shooting",
           "Shooting Men's Free Rifle, Three Positions, 300 metres"
          ],
          [
           31,
           "France",
           "Shooting",
           "Shooting Men's Free Rifle, Three Positions, 300 metres, Team"
          ],
          [
           31,
           "France",
           "Shooting",
           "Shooting Men's Military Rifle, Three Positions, 300 metres"
          ],
          [
           31,
           "France",
           "Shooting",
           "Shooting Men's Military Rifle, Any Position, 600 metres"
          ],
          [
           31,
           "France",
           "Shooting",
           "Shooting Men's Military Rifle, 200, 400, 500 and 600 metres, Team"
          ],
          [
           29,
           "Finland",
           "Shooting",
           "Shooting Men's Trap"
          ],
          [
           29,
           "Finland",
           "Shooting",
           "Shooting Men's Trap, Team"
          ],
          [
           29,
           "France",
           "Shooting",
           "Shooting Men's Trap"
          ],
          [
           29,
           "France",
           "Shooting",
           "Shooting Men's Trap, Team"
          ],
          [
           35,
           "Great Britain",
           "Shooting",
           "Shooting Men's Military Rifle, Three Positions, 300 metres"
          ],
          [
           35,
           "Great Britain",
           "Shooting",
           "Shooting Men's Military Rifle, Any Position, 600 metres"
          ],
          [
           31,
           "Canada",
           "Shooting",
           "Shooting Men's Trap"
          ],
          [
           49,
           "France",
           "Shooting",
           "Shooting Men's Free Rifle, Three Positions, 300 metres"
          ],
          [
           49,
           "France",
           "Shooting",
           "Shooting Men's Free Rifle, Three Positions, 300 metres, Team"
          ],
          [
           49,
           "France",
           "Shooting",
           "Shooting Men's Military Rifle, Three Positions, 300 metres"
          ],
          [
           49,
           "France",
           "Shooting",
           "Shooting Men's Military Rifle, Any Position, 600 metres"
          ],
          [
           49,
           "France",
           "Shooting",
           "Shooting Men's Military Rifle, 200, 400, 500 and 600 metres, Team"
          ],
          [
           57,
           "France",
           "Shooting",
           "Shooting Men's Dueling Pistol, 30 metres"
          ],
          [
           57,
           "France",
           "Shooting",
           "Shooting Men's Trap"
          ],
          [
           57,
           "France",
           "Shooting",
           "Shooting Men's Trap, Team"
          ],
          [
           34,
           "France",
           "Shooting",
           "Shooting Men's Dueling Pistol, 30 metres"
          ],
          [
           34,
           "France",
           "Shooting",
           "Shooting Men's Dueling Pistol, 30 metres, Team"
          ],
          [
           34,
           "France",
           "Shooting",
           "Shooting Men's Trap"
          ],
          [
           34,
           "France",
           "Shooting",
           "Shooting Men's Trap, Team"
          ],
          [
           38,
           "Russia",
           "Shooting",
           "Shooting Men's Free Rifle, Three Positions, 300 metres"
          ],
          [
           38,
           "Russia",
           "Shooting",
           "Shooting Men's Military Rifle, Three Positions, 300 metres"
          ],
          [
           38,
           "Russia",
           "Shooting",
           "Shooting Men's Military Rifle, Any Position, 600 metres"
          ],
          [
           38,
           "Russia",
           "Shooting",
           "Shooting Men's Military Rifle, 200, 400, 500 and 600 metres, Team"
          ],
          [
           48,
           "France",
           "Shooting",
           "Shooting Men's Dueling Pistol, 30 metres"
          ],
          [
           48,
           "France",
           "Shooting",
           "Shooting Men's Dueling Pistol, 30 metres, Team"
          ],
          [
           48,
           "France",
           "Shooting",
           "Shooting Men's Running Target, Double Shot"
          ],
          [
           48,
           "France",
           "Shooting",
           "Shooting Men's Trap"
          ],
          [
           48,
           "France",
           "Shooting",
           "Shooting Men's Trap, Team"
          ],
          [
           29,
           "Sweden",
           "Shooting",
           "Shooting Men's Free Pistol, 50 metres"
          ],
          [
           29,
           "Sweden",
           "Shooting",
           "Shooting Men's Free Pistol, 50 metres, Team"
          ],
          [
           29,
           "Sweden",
           "Shooting",
           "Shooting Men's Dueling Pistol, 30 metres"
          ],
          [
           25,
           "Sweden",
           "Shooting",
           "Shooting Men's Dueling Pistol, 30 metres"
          ],
          [
           24,
           "Russia",
           "Shooting",
           "Shooting Men's Free Rifle, Three Positions, 300 metres"
          ],
          [
           24,
           "Russia",
           "Shooting",
           "Shooting Men's Free Rifle, Three Positions, 300 metres, Team"
          ],
          [
           24,
           "Russia",
           "Shooting",
           "Shooting Men's Military Rifle, Three Positions, 300 metres"
          ],
          [
           24,
           "Russia",
           "Shooting",
           "Shooting Men's Military Rifle, Any Position, 600 metres"
          ],
          [
           24,
           "Russia",
           "Shooting",
           "Shooting Men's Military Rifle, 200, 400, 500 and 600 metres, Team"
          ],
          [
           34,
           "Norway",
           "Shooting",
           "Shooting Men's Military Rifle, Any Position, 600 metres"
          ],
          [
           34,
           "Norway",
           "Shooting",
           "Shooting Men's Military Rifle, 200, 400, 500 and 600 metres, Team"
          ],
          [
           35,
           "Denmark",
           "Shooting",
           "Shooting Men's Free Rifle, Three Positions, 300 metres"
          ],
          [
           35,
           "Denmark",
           "Shooting",
           "Shooting Men's Small-Bore Rifle, Prone, 50 metres, Team"
          ],
          [
           41,
           "United States",
           "Shooting",
           "Shooting Men's Free Pistol, 50 metres"
          ],
          [
           41,
           "United States",
           "Shooting",
           "Shooting Men's Free Pistol, 50 metres, Team"
          ],
          [
           41,
           "United States",
           "Shooting",
           "Shooting Men's Dueling Pistol, 30 metres"
          ],
          [
           41,
           "United States",
           "Shooting",
           "Shooting Men's Dueling Pistol, 30 metres, Team"
          ],
          [
           39,
           "Russia",
           "Shooting",
           "Shooting Men's Free Rifle, Three Positions, 300 metres"
          ],
          [
           39,
           "Russia",
           "Shooting",
           "Shooting Men's Military Rifle, Three Positions, 300 metres"
          ],
          [
           39,
           "Russia",
           "Shooting",
           "Shooting Men's Military Rifle, Any Position, 600 metres"
          ],
          [
           39,
           "Russia",
           "Shooting",
           "Shooting Men's Small-Bore Rifle, Any Position, 50 metres"
          ],
          [
           39,
           "Russia",
           "Shooting",
           "Shooting Men's Small-Bore Rifle, Disappearing Target, 25 metres"
          ],
          [
           39,
           "Russia",
           "Shooting",
           "Shooting Men's Running Target, Single Shot"
          ],
          [
           39,
           "Russia",
           "Shooting",
           "Shooting Men's Running Target, Single Shot, Team"
          ],
          [
           31,
           "United States",
           "Shooting",
           "Shooting Men's Free Pistol, 50 metres"
          ],
          [
           31,
           "United States",
           "Shooting",
           "Shooting Men's Free Pistol, 50 metres, Team"
          ],
          [
           31,
           "United States",
           "Shooting",
           "Shooting Men's Dueling Pistol, 30 metres"
          ],
          [
           33,
           "Austria",
           "Shooting",
           "Shooting Men's Military Rifle, Three Positions, 300 metres"
          ],
          [
           33,
           "Austria",
           "Shooting",
           "Shooting Men's Military Rifle, Any Position, 600 metres"
          ],
          [
           35,
           "Great Britain",
           "Shooting",
           "Shooting Men's Free Pistol, 50 metres"
          ],
          [
           35,
           "Great Britain",
           "Shooting",
           "Shooting Men's Free Pistol, 50 metres, Team"
          ],
          [
           35,
           "Great Britain",
           "Shooting",
           "Shooting Men's Dueling Pistol, 30 metres, Team"
          ],
          [
           34,
           "Sweden",
           "Shooting",
           "Shooting Men's Running Target, Double Shot"
          ],
          [
           57,
           "Sweden",
           "Shooting",
           "Shooting Men's Running Target, Single Shot"
          ],
          [
           57,
           "Sweden",
           "Shooting",
           "Shooting Men's Running Target, Double Shot"
          ],
          [
           57,
           "Sweden",
           "Shooting",
           "Shooting Men's Trap"
          ],
          [
           57,
           "Sweden",
           "Shooting",
           "Shooting Men's Trap, Team"
          ],
          [
           38,
           "Chile",
           "Shooting",
           "Shooting Men's Free Pistol, 50 metres"
          ],
          [
           38,
           "Chile",
           "Shooting",
           "Shooting Men's Dueling Pistol, 30 metres"
          ],
          [
           38,
           "Chile",
           "Shooting",
           "Shooting Men's Military Rifle, Three Positions, 300 metres"
          ],
          [
           38,
           "Chile",
           "Shooting",
           "Shooting Men's Military Rifle, Any Position, 600 metres"
          ],
          [
           39,
           "Austria",
           "Shooting",
           "Shooting Men's Running Target, Single Shot"
          ],
          [
           39,
           "Austria",
           "Shooting",
           "Shooting Men's Running Target, Single Shot, Team"
          ],
          [
           39,
           "Austria",
           "Shooting",
           "Shooting Men's Running Target, Double Shot"
          ],
          [
           41,
           "Sweden",
           "Shooting",
           "Shooting Men's Free Pistol, 50 metres"
          ],
          [
           41,
           "Sweden",
           "Shooting",
           "Shooting Men's Small-Bore Rifle, Any Position, 50 metres"
          ],
          [
           41,
           "Sweden",
           "Shooting",
           "Shooting Men's Small-Bore Rifle, Disappearing Target, 25 metres"
          ],
          [
           39,
           "Sweden",
           "Shooting",
           "Shooting Men's Trap"
          ],
          [
           23,
           "Sweden",
           "Shooting",
           "Shooting Men's Free Rifle, Three Positions, 300 metres"
          ],
          [
           23,
           "Sweden",
           "Shooting",
           "Shooting Men's Free Rifle, Three Positions, 300 metres, Team"
          ],
          [
           23,
           "Sweden",
           "Shooting",
           "Shooting Men's Military Rifle, Any Position, 600 metres"
          ],
          [
           23,
           "Sweden",
           "Shooting",
           "Shooting Men's Military Rifle, 200, 400, 500 and 600 metres, Team"
          ],
          [
           27,
           "Norway",
           "Shooting",
           "Shooting Men's Military Rifle, Three Positions, 300 metres"
          ],
          [
           37,
           "Finland",
           "Shooting",
           "Shooting Men's Trap"
          ],
          [
           52,
           "France",
           "Shooting",
           "Shooting Men's Dueling Pistol, 30 metres"
          ],
          [
           52,
           "France",
           "Shooting",
           "Shooting Men's Dueling Pistol, 30 metres, Team"
          ],
          [
           45,
           "Finland",
           "Shooting",
           "Shooting Men's Trap"
          ],
          [
           45,
           "Finland",
           "Shooting",
           "Shooting Men's Trap, Team"
          ],
          [
           30,
           "France",
           "Shooting",
           "Shooting Men's Trap"
          ],
          [
           30,
           "France",
           "Shooting",
           "Shooting Men's Trap, Team"
          ],
          [
           48,
           "Sweden",
           "Shooting",
           "Shooting Men's Military Rifle, Three Positions, 300 metres"
          ],
          [
           40,
           "Denmark",
           "Shooting",
           "Shooting Men's Military Rifle, Any Position, 600 metres"
          ],
          [
           40,
           "Denmark",
           "Shooting",
           "Shooting Men's Military Rifle, 200, 400, 500 and 600 metres, Team"
          ],
          [
           31,
           "Sweden",
           "Shooting",
           "Shooting Men's Running Target, Double Shot"
          ],
          [
           31,
           "Sweden",
           "Shooting",
           "Shooting Men's Trap"
          ],
          [
           31,
           "Sweden",
           "Shooting",
           "Shooting Men's Trap, Team"
          ],
          [
           24,
           "Great Britain",
           "Shooting",
           "Shooting Men's Military Rifle, Three Positions, 300 metres"
          ],
          [
           24,
           "Great Britain",
           "Shooting",
           "Shooting Men's Military Rifle, Any Position, 600 metres"
          ],
          [
           24,
           "Great Britain",
           "Shooting",
           "Shooting Men's Military Rifle, 200, 400, 500 and 600 metres, Team"
          ],
          [
           30,
           "France",
           "Shooting",
           "Shooting Men's Free Rifle, Three Positions, 300 metres"
          ],
          [
           30,
           "France",
           "Shooting",
           "Shooting Men's Free Rifle, Three Positions, 300 metres, Team"
          ],
          [
           30,
           "France",
           "Shooting",
           "Shooting Men's Military Rifle, Three Positions, 300 metres"
          ],
          [
           30,
           "France",
           "Shooting",
           "Shooting Men's Military Rifle, Any Position, 600 metres"
          ],
          [
           30,
           "France",
           "Shooting",
           "Shooting Men's Military Rifle, 200, 400, 500 and 600 metres, Team"
          ],
          [
           30,
           "France",
           "Shooting",
           "Shooting Men's Small-Bore Rifle, Prone, 50 metres, Team"
          ],
          [
           30,
           "France",
           "Shooting",
           "Shooting Men's Small-Bore Rifle, Disappearing Target, 25 metres"
          ],
          [
           30,
           "Denmark",
           "Shooting",
           "Shooting Men's Free Rifle, Three Positions, 300 metres"
          ],
          [
           30,
           "Denmark",
           "Shooting",
           "Shooting Men's Military Rifle, Three Positions, 300 metres"
          ],
          [
           30,
           "Denmark",
           "Shooting",
           "Shooting Men's Small-Bore Rifle, Any Position, 50 metres"
          ],
          [
           30,
           "Denmark",
           "Shooting",
           "Shooting Men's Small-Bore Rifle, Prone, 50 metres, Team"
          ],
          [
           30,
           "Denmark",
           "Shooting",
           "Shooting Men's Small-Bore Rifle, Disappearing Target, 25 metres"
          ],
          [
           42,
           "United States",
           "Shooting",
           "Shooting Men's Trap"
          ],
          [
           42,
           "United States",
           "Shooting",
           "Shooting Men's Trap, Team"
          ],
          [
           43,
           "Norway",
           "Shooting",
           "Shooting Men's Military Rifle, Three Positions, 300 metres"
          ],
          [
           43,
           "Norway",
           "Shooting",
           "Shooting Men's Military Rifle, 200, 400, 500 and 600 metres, Team"
          ],
          [
           30,
           "Germany",
           "Shooting",
           "Shooting Men's Trap"
          ],
          [
           30,
           "Germany",
           "Shooting",
           "Shooting Men's Trap, Team"
          ],
          [
           28,
           "Germany",
           "Shooting",
           "Shooting Men's Running Target, Single Shot"
          ],
          [
           28,
           "Germany",
           "Shooting",
           "Shooting Men's Trap"
          ],
          [
           28,
           "Germany",
           "Shooting",
           "Shooting Men's Trap, Team"
          ],
          [
           53,
           "Great Britain",
           "Shooting",
           "Shooting Men's Trap"
          ],
          [
           42,
           "United States",
           "Shooting",
           "Shooting Men's Trap"
          ],
          [
           42,
           "United States",
           "Shooting",
           "Shooting Men's Trap, Team"
          ],
          [
           38,
           "Great Britain",
           "Shooting",
           "Shooting Men's Small-Bore Rifle, Any Position, 50 metres"
          ],
          [
           38,
           "Great Britain",
           "Shooting",
           "Shooting Men's Small-Bore Rifle, Disappearing Target, 25 metres"
          ],
          [
           42,
           "Great Britain",
           "Shooting",
           "Shooting Men's Trap"
          ],
          [
           42,
           "Great Britain",
           "Shooting",
           "Shooting Men's Trap, Team"
          ],
          [
           28,
           "Sweden",
           "Shooting",
           "Shooting Men's Military Rifle, Any Position, 600 metres"
          ],
          [
           23,
           "Sweden",
           "Shooting",
           "Shooting Men's Dueling Pistol, 30 metres"
          ],
          [
           23,
           "Sweden",
           "Shooting",
           "Shooting Men's Small-Bore Rifle, Disappearing Target, 25 metres"
          ],
          [
           34,
           "Denmark",
           "Shooting",
           "Shooting Men's Free Rifle, Three Positions, 300 metres"
          ],
          [
           34,
           "Denmark",
           "Shooting",
           "Shooting Men's Free Rifle, Three Positions, 300 metres, Team"
          ],
          [
           34,
           "Denmark",
           "Shooting",
           "Shooting Men's Military Rifle, 200, 400, 500 and 600 metres, Team"
          ],
          [
           46,
           "United States",
           "Shooting",
           "Shooting Men's Trap"
          ],
          [
           46,
           "United States",
           "Shooting",
           "Shooting Men's Trap, Team"
          ],
          [
           34,
           "South Africa",
           "Shooting",
           "Shooting Men's Free Rifle, Three Positions, 300 metres"
          ],
          [
           34,
           "South Africa",
           "Shooting",
           "Shooting Men's Free Rifle, Three Positions, 300 metres, Team"
          ],
          [
           34,
           "South Africa",
           "Shooting",
           "Shooting Men's Military Rifle, Three Positions, 300 metres"
          ],
          [
           34,
           "South Africa",
           "Shooting",
           "Shooting Men's Military Rifle, Any Position, 600 metres"
          ],
          [
           34,
           "South Africa",
           "Shooting",
           "Shooting Men's Military Rifle, 200, 400, 500 and 600 metres, Team"
          ],
          [
           27,
           "Hungary",
           "Shooting",
           "Shooting Men's Free Rifle, Three Positions, 300 metres"
          ],
          [
           27,
           "Hungary",
           "Shooting",
           "Shooting Men's Military Rifle, Three Positions, 300 metres"
          ],
          [
           27,
           "Hungary",
           "Shooting",
           "Shooting Men's Military Rifle, Any Position, 600 metres"
          ],
          [
           27,
           "Hungary",
           "Shooting",
           "Shooting Men's Military Rifle, 200, 400, 500 and 600 metres, Team"
          ],
          [
           27,
           "Hungary",
           "Shooting",
           "Shooting Men's Small-Bore Rifle, Any Position, 50 metres"
          ],
          [
           35,
           "Norway",
           "Shooting",
           "Shooting Men's Free Rifle, Three Positions, 300 metres"
          ],
          [
           35,
           "Norway",
           "Shooting",
           "Shooting Men's Free Rifle, Three Positions, 300 metres, Team"
          ],
          [
           35,
           "Norway",
           "Shooting",
           "Shooting Men's Military Rifle, Three Positions, 300 metres"
          ],
          [
           35,
           "Norway",
           "Shooting",
           "Shooting Men's Military Rifle, Any Position, 600 metres"
          ],
          [
           39,
           "United States",
           "Shooting",
           "Shooting Men's Trap"
          ],
          [
           39,
           "United States",
           "Shooting",
           "Shooting Men's Trap, Team"
          ],
          [
           32,
           "United States",
           "Shooting",
           "Shooting Men's Free Rifle, Three Positions, 300 metres"
          ],
          [
           32,
           "United States",
           "Shooting",
           "Shooting Men's Military Rifle, Three Positions, 300 metres"
          ],
          [
           32,
           "United States",
           "Shooting",
           "Shooting Men's Military Rifle, Any Position, 600 metres"
          ],
          [
           32,
           "United States",
           "Shooting",
           "Shooting Men's Small-Bore Rifle, Any Position, 50 metres"
          ],
          [
           32,
           "United States",
           "Shooting",
           "Shooting Men's Small-Bore Rifle, Prone, 50 metres, Team"
          ],
          [
           32,
           "United States",
           "Shooting",
           "Shooting Men's Small-Bore Rifle, Disappearing Target, 25 metres"
          ],
          [
           32,
           "United States",
           "Shooting",
           "Shooting Men's Small-Bore Rifle, Disappearing Target, 25 metres, Team"
          ],
          [
           43,
           "Germany",
           "Shooting",
           "Shooting Men's Free Pistol, 50 metres"
          ],
          [
           43,
           "Germany",
           "Shooting",
           "Shooting Men's Dueling Pistol, 30 metres, Team"
          ],
          [
           28,
           "Sweden",
           "Shooting",
           "Shooting Men's Military Rifle, Three Positions, 300 metres"
          ],
          [
           34,
           "Finland",
           "Shooting",
           "Shooting Men's Free Rifle, Three Positions, 300 metres"
          ],
          [
           34,
           "Finland",
           "Shooting",
           "Shooting Men's Free Rifle, Three Positions, 300 metres, Team"
          ],
          [
           34,
           "Finland",
           "Shooting",
           "Shooting Men's Trap"
          ],
          [
           34,
           "Finland",
           "Shooting",
           "Shooting Men's Trap, Team"
          ],
          [
           33,
           "Great Britain",
           "Shooting",
           "Shooting Men's Trap"
          ],
          [
           33,
           "Great Britain",
           "Shooting",
           "Shooting Men's Trap, Team"
          ],
          [
           34,
           "Norway",
           "Shooting",
           "Shooting Men's Free Rifle, Three Positions, 300 metres"
          ],
          [
           34,
           "Norway",
           "Shooting",
           "Shooting Men's Military Rifle, 200, 400, 500 and 600 metres, Team"
          ],
          [
           41,
           "Canada",
           "Shooting",
           "Shooting Men's Trap"
          ],
          [
           31,
           "Finland",
           "Shooting",
           "Shooting Men's Free Pistol, 50 metres"
          ],
          [
           31,
           "Finland",
           "Shooting",
           "Shooting Men's Free Rifle, Three Positions, 300 metres"
          ],
          [
           31,
           "Finland",
           "Shooting",
           "Shooting Men's Free Rifle, Three Positions, 300 metres, Team"
          ],
          [
           27,
           "United States",
           "Shooting",
           "Shooting Men's Military Rifle, Three Positions, 300 metres"
          ],
          [
           27,
           "United States",
           "Shooting",
           "Shooting Men's Military Rifle, Any Position, 600 metres"
          ],
          [
           27,
           "United States",
           "Shooting",
           "Shooting Men's Military Rifle, 200, 400, 500 and 600 metres, Team"
          ],
          [
           34,
           "South Africa",
           "Shooting",
           "Shooting Men's Free Rifle, Three Positions, 300 metres"
          ],
          [
           34,
           "South Africa",
           "Shooting",
           "Shooting Men's Military Rifle, Three Positions, 300 metres"
          ],
          [
           34,
           "South Africa",
           "Shooting",
           "Shooting Men's Military Rifle, Any Position, 600 metres"
          ],
          [
           34,
           "South Africa",
           "Shooting",
           "Shooting Men's Military Rifle, 200, 400, 500 and 600 metres, Team"
          ],
          [
           35,
           "Hungary",
           "Shooting",
           "Shooting Men's Free Pistol, 50 metres"
          ],
          [
           35,
           "Hungary",
           "Shooting",
           "Shooting Men's Free Rifle, Three Positions, 300 metres"
          ],
          [
           35,
           "Hungary",
           "Shooting",
           "Shooting Men's Military Rifle, Three Positions, 300 metres"
          ],
          [
           35,
           "Hungary",
           "Shooting",
           "Shooting Men's Military Rifle, Any Position, 600 metres"
          ],
          [
           39,
           "Norway",
           "Shooting",
           "Shooting Men's Military Rifle, Any Position, 600 metres"
          ],
          [
           39,
           "Norway",
           "Shooting",
           "Shooting Men's Military Rifle, 200, 400, 500 and 600 metres, Team"
          ],
          [
           29,
           "Sweden",
           "Shooting",
           "Shooting Men's Free Rifle, Three Positions, 300 metres"
          ],
          [
           29,
           "Sweden",
           "Shooting",
           "Shooting Men's Military Rifle, Three Positions, 300 metres"
          ],
          [
           29,
           "Sweden",
           "Shooting",
           "Shooting Men's Military Rifle, Any Position, 600 metres"
          ],
          [
           29,
           "Sweden",
           "Shooting",
           "Shooting Men's Military Rifle, 200, 400, 500 and 600 metres, Team"
          ],
          [
           36,
           "Sweden",
           "Shooting",
           "Shooting Men's Small-Bore Rifle, Any Position, 50 metres"
          ],
          [
           24,
           "Sweden",
           "Shooting",
           "Shooting Men's Free Rifle, Three Positions, 300 metres"
          ],
          [
           24,
           "Sweden",
           "Shooting",
           "Shooting Men's Free Rifle, Three Positions, 300 metres, Team"
          ],
          [
           24,
           "Sweden",
           "Shooting",
           "Shooting Men's Military Rifle, Any Position, 600 metres"
          ],
          [
           24,
           "Sweden",
           "Shooting",
           "Shooting Men's Military Rifle, 200, 400, 500 and 600 metres, Team"
          ],
          [
           36,
           "France",
           "Shooting",
           "Shooting Men's Free Pistol, 50 metres"
          ],
          [
           36,
           "France",
           "Shooting",
           "Shooting Men's Free Rifle, Three Positions, 300 metres"
          ],
          [
           36,
           "France",
           "Shooting",
           "Shooting Men's Free Rifle, Three Positions, 300 metres, Team"
          ],
          [
           36,
           "France",
           "Shooting",
           "Shooting Men's Military Rifle, 200, 400, 500 and 600 metres, Team"
          ],
          [
           36,
           "France",
           "Shooting",
           "Shooting Men's Small-Bore Rifle, Prone, 50 metres, Team"
          ],
          [
           36,
           "France",
           "Shooting",
           "Shooting Men's Small-Bore Rifle, Disappearing Target, 25 metres"
          ],
          [
           33,
           "South Africa",
           "Shooting",
           "Shooting Men's Free Rifle, Three Positions, 300 metres"
          ],
          [
           33,
           "South Africa",
           "Shooting",
           "Shooting Men's Military Rifle, Three Positions, 300 metres"
          ],
          [
           33,
           "South Africa",
           "Shooting",
           "Shooting Men's Military Rifle, Any Position, 600 metres"
          ],
          [
           32,
           "Great Britain",
           "Shooting",
           "Shooting Men's Free Pistol, 50 metres"
          ],
          [
           38,
           "Sweden",
           "Shooting",
           "Shooting Men's Military Rifle, Three Positions, 300 metres"
          ],
          [
           32,
           "Sweden",
           "Shooting",
           "Shooting Men's Free Rifle, Three Positions, 300 metres"
          ],
          [
           32,
           "Sweden",
           "Shooting",
           "Shooting Men's Free Rifle, Three Positions, 300 metres, Team"
          ],
          [
           32,
           "Sweden",
           "Shooting",
           "Shooting Men's Military Rifle, Three Positions, 300 metres"
          ],
          [
           25,
           "Sweden",
           "Shooting",
           "Shooting Men's Free Rifle, Three Positions, 300 metres"
          ],
          [
           25,
           "Sweden",
           "Shooting",
           "Shooting Men's Military Rifle, Any Position, 600 metres"
          ],
          [
           25,
           "Sweden",
           "Shooting",
           "Shooting Men's Small-Bore Rifle, Disappearing Target, 25 metres"
          ],
          [
           32,
           "Norway",
           "Shooting",
           "Shooting Men's Military Rifle, Three Positions, 300 metres"
          ],
          [
           32,
           "Norway",
           "Shooting",
           "Shooting Men's Small-Bore Rifle, Any Position, 50 metres"
          ],
          [
           33,
           "Netherlands",
           "Shooting",
           "Shooting Men's Trap"
          ],
          [
           26,
           "Russia",
           "Shooting",
           "Shooting Men's Free Rifle, Three Positions, 300 metres"
          ],
          [
           26,
           "Russia",
           "Shooting",
           "Shooting Men's Free Rifle, Three Positions, 300 metres, Team"
          ],
          [
           26,
           "Russia",
           "Shooting",
           "Shooting Men's Military Rifle, Three Positions, 300 metres"
          ],
          [
           26,
           "Russia",
           "Shooting",
           "Shooting Men's Military Rifle, Any Position, 600 metres"
          ],
          [
           43,
           "Russia",
           "Shooting",
           "Shooting Men's Free Pistol, 50 metres"
          ],
          [
           43,
           "Russia",
           "Shooting",
           "Shooting Men's Dueling Pistol, 30 metres"
          ],
          [
           43,
           "Russia",
           "Shooting",
           "Shooting Men's Dueling Pistol, 30 metres, Team"
          ],
          [
           21,
           "South Africa",
           "Shooting",
           "Shooting Men's Free Rifle, Three Positions, 300 metres"
          ],
          [
           21,
           "South Africa",
           "Shooting",
           "Shooting Men's Free Rifle, Three Positions, 300 metres, Team"
          ],
          [
           21,
           "South Africa",
           "Shooting",
           "Shooting Men's Military Rifle, Three Positions, 300 metres"
          ],
          [
           21,
           "South Africa",
           "Shooting",
           "Shooting Men's Military Rifle, 200, 400, 500 and 600 metres, Team"
          ],
          [
           20,
           "Great Britain",
           "Shooting",
           "Shooting Men's Small-Bore Rifle, Any Position, 50 metres"
          ],
          [
           20,
           "Great Britain",
           "Shooting",
           "Shooting Men's Small-Bore Rifle, Disappearing Target, 25 metres"
          ],
          [
           37,
           "Great Britain",
           "Shooting",
           "Shooting Men's Free Pistol, 50 metres"
          ],
          [
           37,
           "Great Britain",
           "Shooting",
           "Shooting Men's Free Pistol, 50 metres, Team"
          ],
          [
           37,
           "Great Britain",
           "Shooting",
           "Shooting Men's Dueling Pistol, 30 metres, Team"
          ],
          [
           36,
           "Canada",
           "Shooting",
           "Shooting Men's Trap"
          ],
          [
           33,
           "Sweden",
           "Shooting",
           "Shooting Men's Trap"
          ],
          [
           45,
           "Germany",
           "Shooting",
           "Shooting Men's Running Target, Single Shot"
          ],
          [
           45,
           "Germany",
           "Shooting",
           "Shooting Men's Running Target, Double Shot"
          ],
          [
           45,
           "Germany",
           "Shooting",
           "Shooting Men's Trap"
          ],
          [
           45,
           "Germany",
           "Shooting",
           "Shooting Men's Trap, Team"
          ],
          [
           25,
           "Finland",
           "Shooting",
           "Shooting Men's Free Rifle, Three Positions, 300 metres"
          ],
          [
           27,
           "Finland",
           "Shooting",
           "Shooting Men's Free Rifle, Three Positions, 300 metres"
          ],
          [
           27,
           "Finland",
           "Shooting",
           "Shooting Men's Free Rifle, Three Positions, 300 metres, Team"
          ],
          [
           38,
           "Russia",
           "Shooting",
           "Shooting Men's Free Pistol, 50 metres"
          ],
          [
           38,
           "Russia",
           "Shooting",
           "Shooting Men's Free Pistol, 50 metres, Team"
          ],
          [
           35,
           "Russia",
           "Shooting",
           "Shooting Men's Free Pistol, 50 metres"
          ],
          [
           35,
           "Russia",
           "Shooting",
           "Shooting Men's Free Rifle, Three Positions, 300 metres"
          ],
          [
           35,
           "Russia",
           "Shooting",
           "Shooting Men's Free Rifle, Three Positions, 300 metres, Team"
          ],
          [
           35,
           "Russia",
           "Shooting",
           "Shooting Men's Military Rifle, Three Positions, 300 metres"
          ],
          [
           35,
           "Russia",
           "Shooting",
           "Shooting Men's Military Rifle, Any Position, 600 metres"
          ],
          [
           35,
           "Russia",
           "Shooting",
           "Shooting Men's Military Rifle, 200, 400, 500 and 600 metres, Team"
          ],
          [
           42,
           "Sweden",
           "Shooting",
           "Shooting Men's Military Rifle, Any Position, 600 metres"
          ],
          [
           57,
           "France",
           "Shooting",
           "Shooting Men's Military Rifle, Three Positions, 300 metres"
          ],
          [
           57,
           "France",
           "Shooting",
           "Shooting Men's Military Rifle, 200, 400, 500 and 600 metres, Team"
          ],
          [
           57,
           "France",
           "Shooting",
           "Shooting Men's Small-Bore Rifle, Prone, 50 metres, Team"
          ],
          [
           20,
           "United States",
           "Shooting",
           "Shooting Men's Free Pistol, 50 metres"
          ],
          [
           20,
           "United States",
           "Shooting",
           "Shooting Men's Free Pistol, 50 metres, Team"
          ],
          [
           20,
           "United States",
           "Shooting",
           "Shooting Men's Dueling Pistol, 30 metres"
          ],
          [
           20,
           "United States",
           "Shooting",
           "Shooting Men's Dueling Pistol, 30 metres, Team"
          ],
          [
           40,
           "Denmark",
           "Shooting",
           "Shooting Men's Free Pistol, 50 metres"
          ],
          [
           40,
           "Denmark",
           "Shooting",
           "Shooting Men's Free Rifle, Three Positions, 300 metres"
          ],
          [
           40,
           "Denmark",
           "Shooting",
           "Shooting Men's Free Rifle, Three Positions, 300 metres, Team"
          ],
          [
           22,
           "Denmark",
           "Shooting",
           "Shooting Men's Free Pistol, 50 metres"
          ],
          [
           22,
           "Denmark",
           "Shooting",
           "Shooting Men's Free Rifle, Three Positions, 300 metres"
          ],
          [
           22,
           "Denmark",
           "Shooting",
           "Shooting Men's Free Rifle, Three Positions, 300 metres, Team"
          ],
          [
           22,
           "Denmark",
           "Shooting",
           "Shooting Men's Military Rifle, Three Positions, 300 metres"
          ],
          [
           22,
           "Denmark",
           "Shooting",
           "Shooting Men's Military Rifle, 200, 400, 500 and 600 metres, Team"
          ],
          [
           32,
           "Sweden",
           "Shooting",
           "Shooting Men's Free Rifle, Three Positions, 300 metres"
          ],
          [
           32,
           "Sweden",
           "Shooting",
           "Shooting Men's Free Rifle, Three Positions, 300 metres, Team"
          ],
          [
           32,
           "Sweden",
           "Shooting",
           "Shooting Men's Military Rifle, 200, 400, 500 and 600 metres, Team"
          ],
          [
           46,
           "Sweden",
           "Shooting",
           "Shooting Men's Running Target, Single Shot"
          ],
          [
           34,
           "France",
           "Shooting",
           "Shooting Men's Trap"
          ],
          [
           40,
           "Russia",
           "Shooting",
           "Shooting Men's Free Rifle, Three Positions, 300 metres"
          ],
          [
           40,
           "Russia",
           "Shooting",
           "Shooting Men's Free Rifle, Three Positions, 300 metres, Team"
          ],
          [
           40,
           "Russia",
           "Shooting",
           "Shooting Men's Military Rifle, Three Positions, 300 metres"
          ],
          [
           40,
           "Russia",
           "Shooting",
           "Shooting Men's Military Rifle, Any Position, 600 metres"
          ],
          [
           40,
           "Russia",
           "Shooting",
           "Shooting Men's Military Rifle, 200, 400, 500 and 600 metres, Team"
          ],
          [
           24,
           "Russia",
           "Shooting",
           "Shooting Men's Free Rifle, Three Positions, 300 metres"
          ],
          [
           24,
           "Russia",
           "Shooting",
           "Shooting Men's Free Rifle, Three Positions, 300 metres, Team"
          ],
          [
           24,
           "Russia",
           "Shooting",
           "Shooting Men's Military Rifle, Three Positions, 300 metres"
          ],
          [
           24,
           "Russia",
           "Shooting",
           "Shooting Men's Military Rifle, Any Position, 600 metres"
          ],
          [
           31,
           "Great Britain",
           "Shooting",
           "Shooting Men's Small-Bore Rifle, Any Position, 50 metres"
          ],
          [
           31,
           "Great Britain",
           "Shooting",
           "Shooting Men's Small-Bore Rifle, Prone, 50 metres, Team"
          ],
          [
           31,
           "Great Britain",
           "Shooting",
           "Shooting Men's Small-Bore Rifle, Disappearing Target, 25 metres"
          ],
          [
           48,
           "United States",
           "Shooting",
           "Shooting Men's Small-Bore Rifle, Any Position, 50 metres"
          ],
          [
           48,
           "United States",
           "Shooting",
           "Shooting Men's Small-Bore Rifle, Prone, 50 metres, Team"
          ],
          [
           48,
           "United States",
           "Shooting",
           "Shooting Men's Small-Bore Rifle, Disappearing Target, 25 metres"
          ],
          [
           48,
           "United States",
           "Shooting",
           "Shooting Men's Small-Bore Rifle, Disappearing Target, 25 metres, Team"
          ],
          [
           48,
           "United States",
           "Shooting",
           "Shooting Men's Running Target, Single Shot"
          ],
          [
           48,
           "United States",
           "Shooting",
           "Shooting Men's Running Target, Single Shot, Team"
          ],
          [
           48,
           "United States",
           "Shooting",
           "Shooting Men's Running Target, Double Shot"
          ],
          [
           43,
           "Greece",
           "Shooting",
           "Shooting Men's Dueling Pistol, 30 metres"
          ],
          [
           43,
           "Greece",
           "Shooting",
           "Shooting Men's Military Rifle, Three Positions, 300 metres"
          ],
          [
           43,
           "Greece",
           "Shooting",
           "Shooting Men's Military Rifle, Any Position, 600 metres"
          ],
          [
           43,
           "Greece",
           "Shooting",
           "Shooting Men's Military Rifle, 200, 400, 500 and 600 metres, Team"
          ],
          [
           43,
           "Greece",
           "Shooting",
           "Shooting Men's Small-Bore Rifle, Any Position, 50 metres"
          ],
          [
           43,
           "Greece",
           "Shooting",
           "Shooting Men's Small-Bore Rifle, Prone, 50 metres, Team"
          ],
          [
           43,
           "Greece",
           "Shooting",
           "Shooting Men's Small-Bore Rifle, Disappearing Target, 25 metres"
          ],
          [
           43,
           "Greece",
           "Shooting",
           "Shooting Men's Small-Bore Rifle, Disappearing Target, 25 metres, Team"
          ],
          [
           43,
           "Greece",
           "Shooting",
           "Shooting Men's Running Target, Single Shot"
          ],
          [
           57,
           "United States",
           "Shooting",
           "Shooting Men's Running Target, Single Shot, Team"
          ],
          [
           38,
           "Norway",
           "Shooting",
           "Shooting Men's Free Rifle, Three Positions, 300 metres"
          ],
          [
           38,
           "Norway",
           "Shooting",
           "Shooting Men's Free Rifle, Three Positions, 300 metres, Team"
          ],
          [
           20,
           "Norway",
           "Shooting",
           "Shooting Men's Military Rifle, Three Positions, 300 metres"
          ],
          [
           28,
           "Russia",
           "Shooting",
           "Shooting Men's Running Target, Single Shot"
          ],
          [
           28,
           "Russia",
           "Shooting",
           "Shooting Men's Trap"
          ],
          [
           53,
           "Sweden",
           "Shooting",
           "Shooting Men's Running Target, Single Shot"
          ],
          [
           53,
           "Sweden",
           "Shooting",
           "Shooting Men's Running Target, Double Shot"
          ],
          [
           37,
           "Sweden",
           "Shooting",
           "Shooting Men's Running Target, Single Shot"
          ],
          [
           37,
           "Sweden",
           "Shooting",
           "Shooting Men's Running Target, Double Shot"
          ],
          [
           38,
           "Great Britain",
           "Shooting",
           "Shooting Men's Military Rifle, Three Positions, 300 metres"
          ],
          [
           36,
           "Sweden",
           "Shooting",
           "Shooting Men's Free Pistol, 50 metres"
          ],
          [
           36,
           "Sweden",
           "Shooting",
           "Shooting Men's Small-Bore Rifle, Any Position, 50 metres"
          ],
          [
           36,
           "Sweden",
           "Shooting",
           "Shooting Men's Small-Bore Rifle, Disappearing Target, 25 metres"
          ],
          [
           52,
           "Finland",
           "Shooting",
           "Shooting Men's Running Target, Single Shot"
          ],
          [
           52,
           "Finland",
           "Shooting",
           "Shooting Men's Running Target, Single Shot, Team"
          ],
          [
           52,
           "Finland",
           "Shooting",
           "Shooting Men's Trap, Team"
          ],
          [
           23,
           "Sweden",
           "Shooting",
           "Shooting Men's Running Target, Single Shot"
          ],
          [
           23,
           "Sweden",
           "Shooting",
           "Shooting Men's Running Target, Single Shot, Team"
          ],
          [
           23,
           "Sweden",
           "Shooting",
           "Shooting Men's Running Target, Double Shot"
          ],
          [
           23,
           "Sweden",
           "Shooting",
           "Shooting Men's Trap"
          ],
          [
           23,
           "Sweden",
           "Shooting",
           "Shooting Men's Trap, Team"
          ],
          [
           28,
           "Germany",
           "Shooting",
           "Shooting Men's Trap"
          ],
          [
           31,
           "Sweden",
           "Shooting",
           "Shooting Men's Running Target, Single Shot"
          ],
          [
           31,
           "Sweden",
           "Shooting",
           "Shooting Men's Running Target, Double Shot"
          ],
          [
           40,
           "Denmark",
           "Shooting",
           "Shooting Men's Free Pistol, 50 metres"
          ],
          [
           40,
           "Denmark",
           "Shooting",
           "Shooting Men's Free Rifle, Three Positions, 300 metres"
          ],
          [
           40,
           "Denmark",
           "Shooting",
           "Shooting Men's Free Rifle, Three Positions, 300 metres, Team"
          ],
          [
           40,
           "Denmark",
           "Shooting",
           "Shooting Men's Military Rifle, 200, 400, 500 and 600 metres, Team"
          ],
          [
           40,
           "Denmark",
           "Shooting",
           "Shooting Men's Small-Bore Rifle, Prone, 50 metres, Team"
          ],
          [
           35,
           "France",
           "Shooting",
           "Shooting Men's Free Rifle, Three Positions, 300 metres"
          ],
          [
           35,
           "France",
           "Shooting",
           "Shooting Men's Free Rifle, Three Positions, 300 metres, Team"
          ],
          [
           35,
           "France",
           "Shooting",
           "Shooting Men's Military Rifle, Any Position, 600 metres"
          ],
          [
           20,
           "Norway",
           "Shooting",
           "Shooting Men's Military Rifle, Any Position, 600 metres"
          ],
          [
           20,
           "Norway",
           "Shooting",
           "Shooting Men's Small-Bore Rifle, Any Position, 50 metres"
          ],
          [
           51,
           "Great Britain",
           "Shooting",
           "Shooting Men's Trap"
          ],
          [
           51,
           "Great Britain",
           "Shooting",
           "Shooting Men's Trap, Team"
          ],
          [
           42,
           "Greece",
           "Shooting",
           "Shooting Men's Free Pistol, 50 metres"
          ],
          [
           42,
           "Greece",
           "Shooting",
           "Shooting Men's Free Pistol, 50 metres, Team"
          ],
          [
           42,
           "Greece",
           "Shooting",
           "Shooting Men's Dueling Pistol, 30 metres"
          ],
          [
           42,
           "Greece",
           "Shooting",
           "Shooting Men's Dueling Pistol, 30 metres, Team"
          ],
          [
           42,
           "Greece",
           "Shooting",
           "Shooting Men's Military Rifle, Three Positions, 300 metres"
          ],
          [
           42,
           "Greece",
           "Shooting",
           "Shooting Men's Military Rifle, Any Position, 600 metres"
          ],
          [
           42,
           "Greece",
           "Shooting",
           "Shooting Men's Military Rifle, 200, 400, 500 and 600 metres, Team"
          ],
          [
           42,
           "Greece",
           "Shooting",
           "Shooting Men's Small-Bore Rifle, Any Position, 50 metres"
          ],
          [
           42,
           "Greece",
           "Shooting",
           "Shooting Men's Small-Bore Rifle, Prone, 50 metres, Team"
          ],
          [
           42,
           "Greece",
           "Shooting",
           "Shooting Men's Small-Bore Rifle, Disappearing Target, 25 metres"
          ],
          [
           42,
           "Greece",
           "Shooting",
           "Shooting Men's Small-Bore Rifle, Disappearing Target, 25 metres, Team"
          ],
          [
           28,
           "Great Britain",
           "Shooting",
           "Shooting Men's Free Pistol, 50 metres"
          ],
          [
           28,
           "Great Britain",
           "Shooting",
           "Shooting Men's Dueling Pistol, 30 metres"
          ],
          [
           28,
           "Great Britain",
           "Shooting",
           "Shooting Men's Military Rifle, Three Positions, 300 metres"
          ],
          [
           35,
           "United States",
           "Shooting",
           "Shooting Men's Military Rifle, Three Positions, 300 metres"
          ],
          [
           35,
           "United States",
           "Shooting",
           "Shooting Men's Military Rifle, Any Position, 600 metres"
          ],
          [
           35,
           "United States",
           "Shooting",
           "Shooting Men's Small-Bore Rifle, Any Position, 50 metres"
          ],
          [
           35,
           "United States",
           "Shooting",
           "Shooting Men's Small-Bore Rifle, Disappearing Target, 25 metres"
          ],
          [
           35,
           "United States",
           "Shooting",
           "Shooting Men's Small-Bore Rifle, Disappearing Target, 25 metres, Team"
          ],
          [
           35,
           "United States",
           "Shooting",
           "Shooting Men's Running Target, Single Shot, Team"
          ],
          [
           22,
           "United States",
           "Shooting",
           "Shooting Men's Trap"
          ],
          [
           24,
           "Russia",
           "Shooting",
           "Shooting Men's Free Pistol, 50 metres"
          ],
          [
           24,
           "Russia",
           "Shooting",
           "Shooting Men's Free Pistol, 50 metres, Team"
          ],
          [
           24,
           "Russia",
           "Shooting",
           "Shooting Men's Dueling Pistol, 30 metres"
          ],
          [
           24,
           "Russia",
           "Shooting",
           "Shooting Men's Dueling Pistol, 30 metres, Team"
          ],
          [
           59,
           "France",
           "Shooting",
           "Shooting Men's Military Rifle, Three Positions, 300 metres"
          ],
          [
           59,
           "France",
           "Shooting",
           "Shooting Men's Military Rifle, Any Position, 600 metres"
          ],
          [
           35,
           "Hungary",
           "Shooting",
           "Shooting Men's Free Rifle, Three Positions, 300 metres"
          ],
          [
           35,
           "Hungary",
           "Shooting",
           "Shooting Men's Military Rifle, Three Positions, 300 metres"
          ],
          [
           35,
           "Hungary",
           "Shooting",
           "Shooting Men's Military Rifle, Any Position, 600 metres"
          ],
          [
           35,
           "Hungary",
           "Shooting",
           "Shooting Men's Military Rifle, 200, 400, 500 and 600 metres, Team"
          ],
          [
           50,
           "Greece",
           "Shooting",
           "Shooting Men's Dueling Pistol, 30 metres"
          ],
          [
           50,
           "Greece",
           "Shooting",
           "Shooting Men's Trap"
          ],
          [
           43,
           "Germany",
           "Shooting",
           "Shooting Men's Dueling Pistol, 30 metres"
          ],
          [
           43,
           "Germany",
           "Shooting",
           "Shooting Men's Dueling Pistol, 30 metres, Team"
          ],
          [
           34,
           "Austria",
           "Shooting",
           "Shooting Men's Running Target, Single Shot"
          ],
          [
           34,
           "Austria",
           "Shooting",
           "Shooting Men's Running Target, Single Shot, Team"
          ],
          [
           60,
           "Great Britain",
           "Shooting",
           "Shooting Men's Small-Bore Rifle, Any Position, 50 metres"
          ],
          [
           60,
           "Great Britain",
           "Shooting",
           "Shooting Men's Small-Bore Rifle, Disappearing Target, 25 metres"
          ],
          [
           60,
           "Great Britain",
           "Shooting",
           "Shooting Men's Small-Bore Rifle, Disappearing Target, 25 metres, Team"
          ],
          [
           21,
           "Greece",
           "Shooting",
           "Shooting Men's Military Rifle, Three Positions, 300 metres"
          ],
          [
           21,
           "Greece",
           "Shooting",
           "Shooting Men's Military Rifle, 200, 400, 500 and 600 metres, Team"
          ],
          [
           42,
           "Great Britain",
           "Shooting",
           "Shooting Men's Small-Bore Rifle, Any Position, 50 metres"
          ],
          [
           42,
           "Great Britain",
           "Shooting",
           "Shooting Men's Small-Bore Rifle, Prone, 50 metres, Team"
          ],
          [
           42,
           "Great Britain",
           "Shooting",
           "Shooting Men's Small-Bore Rifle, Disappearing Target, 25 metres"
          ],
          [
           44,
           "Denmark",
           "Shooting",
           "Shooting Men's Free Pistol, 50 metres"
          ],
          [
           44,
           "Denmark",
           "Shooting",
           "Shooting Men's Free Rifle, Three Positions, 300 metres"
          ],
          [
           38,
           "Denmark",
           "Shooting",
           "Shooting Men's Free Pistol, 50 metres"
          ],
          [
           38,
           "Denmark",
           "Shooting",
           "Shooting Men's Free Rifle, Three Positions, 300 metres"
          ],
          [
           38,
           "Denmark",
           "Shooting",
           "Shooting Men's Small-Bore Rifle, Any Position, 50 metres"
          ],
          [
           38,
           "Denmark",
           "Shooting",
           "Shooting Men's Small-Bore Rifle, Prone, 50 metres, Team"
          ],
          [
           22,
           "Denmark",
           "Shooting",
           "Shooting Men's Free Pistol, 50 metres"
          ],
          [
           29,
           "Sweden",
           "Shooting",
           "Shooting Men's Small-Bore Rifle, Any Position, 50 metres"
          ],
          [
           29,
           "Sweden",
           "Shooting",
           "Shooting Men's Small-Bore Rifle, Prone, 50 metres, Team"
          ],
          [
           29,
           "Sweden",
           "Shooting",
           "Shooting Men's Small-Bore Rifle, Disappearing Target, 25 metres"
          ],
          [
           31,
           "Norway",
           "Shooting",
           "Shooting Men's Military Rifle, Any Position, 600 metres"
          ],
          [
           31,
           "Norway",
           "Shooting",
           "Shooting Men's Military Rifle, 200, 400, 500 and 600 metres, Team"
          ],
          [
           48,
           "Sweden",
           "Shooting",
           "Shooting Men's Trap"
          ],
          [
           37,
           "Finland",
           "Shooting",
           "Shooting Men's Free Rifle, Three Positions, 300 metres"
          ],
          [
           37,
           "Finland",
           "Shooting",
           "Shooting Men's Free Rifle, Three Positions, 300 metres, Team"
          ],
          [
           31,
           "Sweden",
           "Shooting",
           "Shooting Men's Free Pistol, 50 metres"
          ],
          [
           31,
           "Sweden",
           "Shooting",
           "Shooting Men's Small-Bore Rifle, Any Position, 50 metres"
          ],
          [
           33,
           "Sweden",
           "Shooting",
           "Shooting Men's Military Rifle, Three Positions, 300 metres"
          ],
          [
           33,
           "Sweden",
           "Shooting",
           "Shooting Men's Military Rifle, Any Position, 600 metres"
          ],
          [
           23,
           "Sweden",
           "Shooting",
           "Shooting Men's Small-Bore Rifle, Any Position, 50 metres"
          ],
          [
           23,
           "Sweden",
           "Shooting",
           "Shooting Men's Small-Bore Rifle, Disappearing Target, 25 metres"
          ],
          [
           27,
           "Sweden",
           "Shooting",
           "Shooting Men's Military Rifle, Three Positions, 300 metres"
          ],
          [
           27,
           "Sweden",
           "Shooting",
           "Shooting Men's Military Rifle, Any Position, 600 metres"
          ],
          [
           42,
           "Denmark",
           "Shooting",
           "Shooting Men's Free Rifle, Three Positions, 300 metres"
          ],
          [
           42,
           "Denmark",
           "Shooting",
           "Shooting Men's Free Rifle, Three Positions, 300 metres, Team"
          ],
          [
           33,
           "Great Britain",
           "Shooting",
           "Shooting Men's Military Rifle, Any Position, 600 metres"
          ],
          [
           33,
           "Great Britain",
           "Shooting",
           "Shooting Men's Military Rifle, 200, 400, 500 and 600 metres, Team"
          ],
          [
           30,
           "Sweden",
           "Shooting",
           "Shooting Men's Military Rifle, Any Position, 600 metres"
          ],
          [
           30,
           "Sweden",
           "Shooting",
           "Shooting Men's Small-Bore Rifle, Any Position, 50 metres"
          ],
          [
           30,
           "Sweden",
           "Shooting",
           "Shooting Men's Small-Bore Rifle, Prone, 50 metres, Team"
          ],
          [
           28,
           "United States",
           "Shooting",
           "Shooting Men's Free Rifle, Three Positions, 300 metres"
          ],
          [
           28,
           "United States",
           "Shooting",
           "Shooting Men's Military Rifle, Three Positions, 300 metres"
          ],
          [
           28,
           "United States",
           "Shooting",
           "Shooting Men's Military Rifle, Any Position, 600 metres"
          ],
          [
           28,
           "United States",
           "Shooting",
           "Shooting Men's Military Rifle, 200, 400, 500 and 600 metres, Team"
          ],
          [
           28,
           "United States",
           "Shooting",
           "Shooting Men's Small-Bore Rifle, Any Position, 50 metres"
          ],
          [
           28,
           "United States",
           "Shooting",
           "Shooting Men's Small-Bore Rifle, Prone, 50 metres, Team"
          ],
          [
           28,
           "United States",
           "Shooting",
           "Shooting Men's Small-Bore Rifle, Disappearing Target, 25 metres"
          ],
          [
           33,
           "Norway",
           "Shooting",
           "Shooting Men's Free Rifle, Three Positions, 300 metres"
          ],
          [
           33,
           "Norway",
           "Shooting",
           "Shooting Men's Free Rifle, Three Positions, 300 metres, Team"
          ],
          [
           31,
           "Sweden",
           "Shooting",
           "Shooting Men's Free Pistol, 50 metres"
          ],
          [
           31,
           "Sweden",
           "Shooting",
           "Shooting Men's Dueling Pistol, 30 metres"
          ],
          [
           31,
           "Sweden",
           "Shooting",
           "Shooting Men's Dueling Pistol, 30 metres, Team"
          ],
          [
           42,
           "Great Britain",
           "Shooting",
           "Shooting Men's Trap"
          ],
          [
           42,
           "Great Britain",
           "Shooting",
           "Shooting Men's Trap, Team"
          ],
          [
           28,
           "Russia",
           "Shooting",
           "Shooting Men's Free Pistol, 50 metres"
          ],
          [
           28,
           "Russia",
           "Shooting",
           "Shooting Men's Dueling Pistol, 30 metres"
          ],
          [
           28,
           "Russia",
           "Shooting",
           "Shooting Men's Dueling Pistol, 30 metres, Team"
          ],
          [
           36,
           "Great Britain",
           "Shooting",
           "Shooting Men's Military Rifle, Three Positions, 300 metres"
          ],
          [
           36,
           "Great Britain",
           "Shooting",
           "Shooting Men's Military Rifle, Any Position, 600 metres"
          ],
          [
           36,
           "Great Britain",
           "Shooting",
           "Shooting Men's Military Rifle, 200, 400, 500 and 600 metres, Team"
          ],
          [
           56,
           "Austria",
           "Shooting",
           "Shooting Men's Running Target, Single Shot"
          ],
          [
           56,
           "Austria",
           "Shooting",
           "Shooting Men's Running Target, Single Shot, Team"
          ],
          [
           37,
           "South Africa",
           "Shooting",
           "Shooting Men's Free Rifle, Three Positions, 300 metres"
          ],
          [
           37,
           "South Africa",
           "Shooting",
           "Shooting Men's Free Rifle, Three Positions, 300 metres, Team"
          ],
          [
           37,
           "South Africa",
           "Shooting",
           "Shooting Men's Military Rifle, Three Positions, 300 metres"
          ],
          [
           37,
           "South Africa",
           "Shooting",
           "Shooting Men's Military Rifle, Any Position, 600 metres"
          ],
          [
           37,
           "South Africa",
           "Shooting",
           "Shooting Men's Military Rifle, 200, 400, 500 and 600 metres, Team"
          ],
          [
           31,
           "Great Britain",
           "Shooting",
           "Shooting Men's Small-Bore Rifle, Any Position, 50 metres"
          ],
          [
           31,
           "Great Britain",
           "Shooting",
           "Shooting Men's Small-Bore Rifle, Prone, 50 metres, Team"
          ],
          [
           31,
           "Great Britain",
           "Shooting",
           "Shooting Men's Small-Bore Rifle, Disappearing Target, 25 metres"
          ],
          [
           31,
           "Great Britain",
           "Shooting",
           "Shooting Men's Small-Bore Rifle, Disappearing Target, 25 metres, Team"
          ],
          [
           39,
           "France",
           "Shooting",
           "Shooting Men's Free Rifle, Three Positions, 300 metres"
          ],
          [
           39,
           "France",
           "Shooting",
           "Shooting Men's Free Rifle, Three Positions, 300 metres, Team"
          ],
          [
           39,
           "France",
           "Shooting",
           "Shooting Men's Military Rifle, Three Positions, 300 metres"
          ],
          [
           39,
           "France",
           "Shooting",
           "Shooting Men's Military Rifle, Any Position, 600 metres"
          ],
          [
           39,
           "France",
           "Shooting",
           "Shooting Men's Military Rifle, 200, 400, 500 and 600 metres, Team"
          ],
          [
           24,
           "Russia",
           "Shooting",
           "Shooting Men's Trap"
          ],
          [
           39,
           "Greece",
           "Shooting",
           "Shooting Men's Dueling Pistol, 30 metres, Team"
          ],
          [
           47,
           "Great Britain",
           "Shooting",
           "Shooting Men's Small-Bore Rifle, Any Position, 50 metres"
          ],
          [
           47,
           "Great Britain",
           "Shooting",
           "Shooting Men's Small-Bore Rifle, Prone, 50 metres, Team"
          ],
          [
           47,
           "Great Britain",
           "Shooting",
           "Shooting Men's Small-Bore Rifle, Disappearing Target, 25 metres"
          ],
          [
           47,
           "Great Britain",
           "Shooting",
           "Shooting Men's Small-Bore Rifle, Disappearing Target, 25 metres, Team"
          ],
          [
           40,
           "Great Britain",
           "Shooting",
           "Shooting Men's Trap"
          ],
          [
           45,
           "Great Britain",
           "Shooting",
           "Shooting Men's Military Rifle, Three Positions, 300 metres"
          ],
          [
           45,
           "Great Britain",
           "Shooting",
           "Shooting Men's Military Rifle, Any Position, 600 metres"
          ],
          [
           36,
           "Russia",
           "Shooting",
           "Shooting Men's Small-Bore Rifle, Any Position, 50 metres"
          ],
          [
           36,
           "Russia",
           "Shooting",
           "Shooting Men's Small-Bore Rifle, Disappearing Target, 25 metres"
          ],
          [
           34,
           "Great Britain",
           "Shooting",
           "Shooting Men's Free Pistol, 50 metres"
          ],
          [
           34,
           "Great Britain",
           "Shooting",
           "Shooting Men's Free Pistol, 50 metres, Team"
          ],
          [
           34,
           "Great Britain",
           "Shooting",
           "Shooting Men's Dueling Pistol, 30 metres, Team"
          ],
          [
           48,
           "Germany",
           "Shooting",
           "Shooting Men's Running Target, Single Shot"
          ],
          [
           48,
           "Germany",
           "Shooting",
           "Shooting Men's Running Target, Double Shot"
          ],
          [
           48,
           "Germany",
           "Shooting",
           "Shooting Men's Trap"
          ],
          [
           48,
           "Germany",
           "Shooting",
           "Shooting Men's Trap, Team"
          ],
          [
           20,
           "Hungary",
           "Shooting",
           "Shooting Men's Free Rifle, Three Positions, 300 metres"
          ],
          [
           20,
           "Hungary",
           "Shooting",
           "Shooting Men's Military Rifle, Three Positions, 300 metres"
          ],
          [
           20,
           "Hungary",
           "Shooting",
           "Shooting Men's Military Rifle, 200, 400, 500 and 600 metres, Team"
          ],
          [
           24,
           "Hungary",
           "Shooting",
           "Shooting Men's Military Rifle, Three Positions, 300 metres"
          ],
          [
           28,
           "Russia",
           "Shooting",
           "Shooting Men's Free Rifle, Three Positions, 300 metres"
          ],
          [
           28,
           "Russia",
           "Shooting",
           "Shooting Men's Military Rifle, Three Positions, 300 metres"
          ],
          [
           28,
           "Russia",
           "Shooting",
           "Shooting Men's Military Rifle, Any Position, 600 metres"
          ],
          [
           34,
           "Norway",
           "Shooting",
           "Shooting Men's Free Rifle, Three Positions, 300 metres"
          ],
          [
           34,
           "Norway",
           "Shooting",
           "Shooting Men's Military Rifle, Any Position, 600 metres"
          ],
          [
           44,
           "France",
           "Shooting",
           "Shooting Men's Free Pistol, 50 metres"
          ],
          [
           44,
           "France",
           "Shooting",
           "Shooting Men's Small-Bore Rifle, Any Position, 50 metres"
          ],
          [
           44,
           "France",
           "Shooting",
           "Shooting Men's Small-Bore Rifle, Prone, 50 metres, Team"
          ],
          [
           37,
           "Great Britain",
           "Shooting",
           "Shooting Men's Military Rifle, Any Position, 600 metres"
          ],
          [
           37,
           "Great Britain",
           "Shooting",
           "Shooting Men's Military Rifle, 200, 400, 500 and 600 metres, Team"
          ],
          [
           38,
           "Finland",
           "Shooting",
           "Shooting Men's Running Target, Single Shot"
          ],
          [
           47,
           "Great Britain",
           "Shooting",
           "Shooting Men's Military Rifle, Three Positions, 300 metres"
          ],
          [
           47,
           "Great Britain",
           "Shooting",
           "Shooting Men's Military Rifle, Any Position, 600 metres"
          ],
          [
           33,
           "United States",
           "Shooting",
           "Shooting Men's Free Pistol, 50 metres"
          ],
          [
           33,
           "United States",
           "Shooting",
           "Shooting Men's Dueling Pistol, 30 metres"
          ],
          [
           18,
           "Sweden",
           "Shooting",
           "Shooting Men's Military Rifle, Three Positions, 300 metres"
          ],
          [
           29,
           "Norway",
           "Shooting",
           "Shooting Men's Trap"
          ],
          [
           42,
           "Finland",
           "Shooting",
           "Shooting Men's Running Target, Single Shot"
          ],
          [
           42,
           "Finland",
           "Shooting",
           "Shooting Men's Running Target, Single Shot, Team"
          ],
          [
           39,
           "France",
           "Shooting",
           "Shooting Men's Dueling Pistol, 30 metres"
          ],
          [
           39,
           "France",
           "Shooting",
           "Shooting Men's Dueling Pistol, 30 metres, Team"
          ],
          [
           59,
           "France",
           "Shooting",
           "Shooting Men's Free Rifle, Three Positions, 300 metres"
          ],
          [
           59,
           "France",
           "Shooting",
           "Shooting Men's Military Rifle, Three Positions, 300 metres"
          ],
          [
           59,
           "France",
           "Shooting",
           "Shooting Men's Military Rifle, Any Position, 600 metres"
          ],
          [
           52,
           "United States",
           "Shooting",
           "Shooting Men's Free Pistol, 50 metres"
          ],
          [
           52,
           "United States",
           "Shooting",
           "Shooting Men's Dueling Pistol, 30 metres"
          ],
          [
           52,
           "United States",
           "Shooting",
           "Shooting Men's Dueling Pistol, 30 metres, Team"
          ],
          [
           40,
           "Norway",
           "Shooting",
           "Shooting Men's Free Rifle, Three Positions, 300 metres"
          ],
          [
           40,
           "Norway",
           "Shooting",
           "Shooting Men's Free Rifle, Three Positions, 300 metres, Team"
          ],
          [
           40,
           "Norway",
           "Shooting",
           "Shooting Men's Military Rifle, Any Position, 600 metres"
          ],
          [
           42,
           "Norway",
           "Shooting",
           "Shooting Men's Free Rifle, Three Positions, 300 metres"
          ],
          [
           42,
           "Norway",
           "Shooting",
           "Shooting Men's Free Rifle, Three Positions, 300 metres, Team"
          ],
          [
           34,
           "Sweden",
           "Shooting",
           "Shooting Men's Dueling Pistol, 30 metres"
          ],
          [
           27,
           "Austria",
           "Shooting",
           "Shooting Men's Free Pistol, 50 metres"
          ],
          [
           27,
           "Austria",
           "Shooting",
           "Shooting Men's Dueling Pistol, 30 metres"
          ],
          [
           54,
           "Finland",
           "Shooting",
           "Shooting Men's Trap"
          ],
          [
           54,
           "Finland",
           "Shooting",
           "Shooting Men's Trap, Team"
          ],
          [
           48,
           "Denmark",
           "Shooting",
           "Shooting Men's Free Rifle, Three Positions, 300 metres"
          ],
          [
           48,
           "Denmark",
           "Shooting",
           "Shooting Men's Military Rifle, Three Positions, 300 metres"
          ],
          [
           48,
           "Denmark",
           "Shooting",
           "Shooting Men's Military Rifle, Any Position, 600 metres"
          ],
          [
           48,
           "Denmark",
           "Shooting",
           "Shooting Men's Military Rifle, 200, 400, 500 and 600 metres, Team"
          ],
          [
           41,
           "United States",
           "Shooting",
           "Shooting Men's Free Pistol, 50 metres"
          ],
          [
           41,
           "United States",
           "Shooting",
           "Shooting Men's Free Pistol, 50 metres, Team"
          ],
          [
           41,
           "United States",
           "Shooting",
           "Shooting Men's Dueling Pistol, 30 metres"
          ],
          [
           38,
           "Great Britain",
           "Shooting",
           "Shooting Men's Military Rifle, Three Positions, 300 metres"
          ],
          [
           38,
           "Great Britain",
           "Shooting",
           "Shooting Men's Military Rifle, Any Position, 600 metres"
          ],
          [
           35,
           "Russia",
           "Shooting",
           "Shooting Men's Free Pistol, 50 metres"
          ],
          [
           35,
           "Russia",
           "Shooting",
           "Shooting Men's Free Pistol, 50 metres, Team"
          ],
          [
           35,
           "Russia",
           "Shooting",
           "Shooting Men's Dueling Pistol, 30 metres"
          ],
          [
           35,
           "Greece",
           "Shooting",
           "Shooting Men's Free Pistol, 50 metres"
          ],
          [
           35,
           "Greece",
           "Shooting",
           "Shooting Men's Free Pistol, 50 metres, Team"
          ],
          [
           35,
           "Greece",
           "Shooting",
           "Shooting Men's Dueling Pistol, 30 metres"
          ],
          [
           35,
           "Greece",
           "Shooting",
           "Shooting Men's Dueling Pistol, 30 metres, Team"
          ],
          [
           36,
           "Norway",
           "Shooting",
           "Shooting Men's Free Rifle, Three Positions, 300 metres"
          ],
          [
           36,
           "Norway",
           "Shooting",
           "Shooting Men's Free Rifle, Three Positions, 300 metres, Team"
          ],
          [
           36,
           "Norway",
           "Shooting",
           "Shooting Men's Military Rifle, Any Position, 600 metres"
          ],
          [
           48,
           "Great Britain",
           "Shooting",
           "Shooting Men's Military Rifle, Any Position, 600 metres"
          ],
          [
           48,
           "Great Britain",
           "Shooting",
           "Shooting Men's Military Rifle, 200, 400, 500 and 600 metres, Team"
          ],
          [
           39,
           "Norway",
           "Shooting",
           "Shooting Men's Military Rifle, Three Positions, 300 metres"
          ],
          [
           34,
           "Sweden",
           "Shooting",
           "Shooting Men's Free Rifle, Three Positions, 300 metres"
          ],
          [
           24,
           "Norway",
           "Shooting",
           "Shooting Men's Free Rifle, Three Positions, 300 metres"
          ],
          [
           24,
           "Norway",
           "Shooting",
           "Shooting Men's Military Rifle, Three Positions, 300 metres"
          ],
          [
           34,
           "Russia",
           "Shooting",
           "Shooting Men's Running Target, Single Shot"
          ],
          [
           34,
           "Russia",
           "Shooting",
           "Shooting Men's Running Target, Single Shot, Team"
          ],
          [
           34,
           "Russia",
           "Shooting",
           "Shooting Men's Running Target, Double Shot"
          ],
          [
           24,
           "South Africa",
           "Shooting",
           "Shooting Men's Free Rifle, Three Positions, 300 metres"
          ],
          [
           24,
           "South Africa",
           "Shooting",
           "Shooting Men's Free Rifle, Three Positions, 300 metres, Team"
          ],
          [
           24,
           "South Africa",
           "Shooting",
           "Shooting Men's Military Rifle, Three Positions, 300 metres"
          ],
          [
           24,
           "South Africa",
           "Shooting",
           "Shooting Men's Military Rifle, 200, 400, 500 and 600 metres, Team"
          ],
          [
           24,
           "Sweden",
           "Shooting",
           "Shooting Men's Running Target, Single Shot"
          ],
          [
           24,
           "Sweden",
           "Shooting",
           "Shooting Men's Running Target, Double Shot"
          ],
          [
           37,
           "Great Britain",
           "Shooting",
           "Shooting Men's Military Rifle, Three Positions, 300 metres"
          ],
          [
           37,
           "Great Britain",
           "Shooting",
           "Shooting Men's Military Rifle, Any Position, 600 metres"
          ],
          [
           36,
           "United States",
           "Shooting",
           "Shooting Men's Trap"
          ],
          [
           36,
           "United States",
           "Shooting",
           "Shooting Men's Trap, Team"
          ],
          [
           38,
           "United States",
           "Shooting",
           "Shooting Men's Free Rifle, Three Positions, 300 metres"
          ],
          [
           38,
           "United States",
           "Shooting",
           "Shooting Men's Military Rifle, Three Positions, 300 metres"
          ],
          [
           38,
           "United States",
           "Shooting",
           "Shooting Men's Military Rifle, Any Position, 600 metres"
          ],
          [
           38,
           "United States",
           "Shooting",
           "Shooting Men's Military Rifle, 200, 400, 500 and 600 metres, Team"
          ],
          [
           38,
           "United States",
           "Shooting",
           "Shooting Men's Small-Bore Rifle, Any Position, 50 metres"
          ],
          [
           38,
           "United States",
           "Shooting",
           "Shooting Men's Small-Bore Rifle, Prone, 50 metres, Team"
          ],
          [
           38,
           "United States",
           "Shooting",
           "Shooting Men's Small-Bore Rifle, Disappearing Target, 25 metres"
          ],
          [
           38,
           "United States",
           "Shooting",
           "Shooting Men's Small-Bore Rifle, Disappearing Target, 25 metres, Team"
          ],
          [
           50,
           "Norway",
           "Shooting",
           "Shooting Men's Trap"
          ],
          [
           29,
           "Austria",
           "Shooting",
           "Shooting Men's Running Target, Single Shot"
          ],
          [
           29,
           "Austria",
           "Shooting",
           "Shooting Men's Running Target, Single Shot, Team"
          ],
          [
           30,
           "Great Britain",
           "Shooting",
           "Shooting Men's Free Pistol, 50 metres"
          ],
          [
           30,
           "Great Britain",
           "Shooting",
           "Shooting Men's Free Pistol, 50 metres, Team"
          ],
          [
           30,
           "Great Britain",
           "Shooting",
           "Shooting Men's Dueling Pistol, 30 metres, Team"
          ],
          [
           22,
           "Sweden",
           "Shooting",
           "Shooting Men's Free Pistol, 50 metres"
          ],
          [
           40,
           "Sweden",
           "Shooting",
           "Shooting Men's Military Rifle, Three Positions, 300 metres"
          ],
          [
           37,
           "Great Britain",
           "Shooting",
           "Shooting Men's Small-Bore Rifle, Any Position, 50 metres"
          ],
          [
           37,
           "Great Britain",
           "Shooting",
           "Shooting Men's Small-Bore Rifle, Disappearing Target, 25 metres"
          ],
          [
           37,
           "Great Britain",
           "Shooting",
           "Shooting Men's Small-Bore Rifle, Disappearing Target, 25 metres, Team"
          ],
          [
           42,
           "Sweden",
           "Shooting",
           "Shooting Men's Military Rifle, Any Position, 600 metres"
          ],
          [
           28,
           "Norway",
           "Shooting",
           "Shooting Men's Free Rifle, Three Positions, 300 metres"
          ],
          [
           28,
           "Norway",
           "Shooting",
           "Shooting Men's Military Rifle, Three Positions, 300 metres"
          ],
          [
           28,
           "Norway",
           "Shooting",
           "Shooting Men's Military Rifle, Any Position, 600 metres"
          ],
          [
           28,
           "Norway",
           "Shooting",
           "Shooting Men's Military Rifle, 200, 400, 500 and 600 metres, Team"
          ],
          [
           28,
           "Norway",
           "Shooting",
           "Shooting Men's Small-Bore Rifle, Any Position, 50 metres"
          ],
          [
           32,
           "Sweden",
           "Shooting",
           "Shooting Men's Running Target, Single Shot"
          ],
          [
           32,
           "Sweden",
           "Shooting",
           "Shooting Men's Running Target, Single Shot, Team"
          ],
          [
           32,
           "Sweden",
           "Shooting",
           "Shooting Men's Running Target, Double Shot"
          ],
          [
           32,
           "Sweden",
           "Shooting",
           "Shooting Men's Trap"
          ],
          [
           32,
           "Sweden",
           "Shooting",
           "Shooting Men's Trap, Team"
          ],
          [
           64,
           "Sweden",
           "Shooting",
           "Shooting Men's Running Target, Single Shot"
          ],
          [
           64,
           "Sweden",
           "Shooting",
           "Shooting Men's Running Target, Single Shot, Team"
          ],
          [
           64,
           "Sweden",
           "Shooting",
           "Shooting Men's Running Target, Double Shot"
          ],
          [
           64,
           "Sweden",
           "Shooting",
           "Shooting Men's Trap"
          ],
          [
           19,
           "Russia",
           "Shooting",
           "Shooting Men's Trap"
          ],
          [
           27,
           "Denmark",
           "Shooting",
           "Shooting Men's Free Rifle, Three Positions, 300 metres"
          ],
          [
           29,
           "France",
           "Shooting",
           "Shooting Men's Trap"
          ],
          [
           29,
           "France",
           "Shooting",
           "Shooting Men's Trap, Team"
          ],
          [
           null,
           "Greece",
           "Shooting",
           "Shooting Men's Free Pistol, 50 metres"
          ],
          [
           null,
           "Greece",
           "Shooting",
           "Shooting Men's Free Pistol, 50 metres, Team"
          ],
          [
           null,
           "Greece",
           "Shooting",
           "Shooting Men's Dueling Pistol, 30 metres"
          ],
          [
           null,
           "Greece",
           "Shooting",
           "Shooting Men's Military Rifle, Three Positions, 300 metres"
          ],
          [
           null,
           "Greece",
           "Shooting",
           "Shooting Men's Military Rifle, Any Position, 600 metres"
          ],
          [
           null,
           "Greece",
           "Shooting",
           "Shooting Men's Military Rifle, 200, 400, 500 and 600 metres, Team"
          ],
          [
           null,
           "Greece",
           "Shooting",
           "Shooting Men's Free Pistol, 50 metres"
          ],
          [
           null,
           "Greece",
           "Shooting",
           "Shooting Men's Free Pistol, 50 metres, Team"
          ],
          [
           null,
           "Greece",
           "Shooting",
           "Shooting Men's Dueling Pistol, 30 metres"
          ],
          [
           null,
           "Greece",
           "Shooting",
           "Shooting Men's Dueling Pistol, 30 metres, Team"
          ],
          [
           null,
           "Greece",
           "Shooting",
           "Shooting Men's Military Rifle, Three Positions, 300 metres"
          ],
          [
           null,
           "Greece",
           "Shooting",
           "Shooting Men's Military Rifle, Any Position, 600 metres"
          ],
          [
           null,
           "Greece",
           "Shooting",
           "Shooting Men's Military Rifle, 200, 400, 500 and 600 metres, Team"
          ],
          [
           null,
           "Greece",
           "Shooting",
           "Shooting Men's Small-Bore Rifle, Any Position, 50 metres"
          ],
          [
           null,
           "Greece",
           "Shooting",
           "Shooting Men's Small-Bore Rifle, Prone, 50 metres, Team"
          ],
          [
           null,
           "Greece",
           "Shooting",
           "Shooting Men's Small-Bore Rifle, Disappearing Target, 25 metres"
          ],
          [
           null,
           "Greece",
           "Shooting",
           "Shooting Men's Small-Bore Rifle, Disappearing Target, 25 metres, Team"
          ],
          [
           null,
           "Greece",
           "Shooting",
           "Shooting Men's Running Target, Single Shot"
          ],
          [
           50,
           "Greece",
           "Shooting",
           "Shooting Men's Military Rifle, Three Positions, 300 metres"
          ],
          [
           50,
           "Greece",
           "Shooting",
           "Shooting Men's Military Rifle, Any Position, 600 metres"
          ],
          [
           50,
           "Greece",
           "Shooting",
           "Shooting Men's Military Rifle, 200, 400, 500 and 600 metres, Team"
          ],
          [
           50,
           "Greece",
           "Shooting",
           "Shooting Men's Small-Bore Rifle, Any Position, 50 metres"
          ],
          [
           50,
           "Greece",
           "Shooting",
           "Shooting Men's Small-Bore Rifle, Prone, 50 metres, Team"
          ],
          [
           50,
           "Greece",
           "Shooting",
           "Shooting Men's Small-Bore Rifle, Disappearing Target, 25 metres"
          ],
          [
           50,
           "Greece",
           "Shooting",
           "Shooting Men's Small-Bore Rifle, Disappearing Target, 25 metres, Team"
          ],
          [
           43,
           "Norway",
           "Shooting",
           "Shooting Men's Military Rifle, Three Positions, 300 metres"
          ],
          [
           43,
           "Norway",
           "Shooting",
           "Shooting Men's Military Rifle, Any Position, 600 metres"
          ],
          [
           51,
           "Great Britain",
           "Shooting",
           "Shooting Men's Free Pistol, 50 metres"
          ],
          [
           41,
           "Russia",
           "Shooting",
           "Shooting Men's Free Rifle, Three Positions, 300 metres"
          ],
          [
           41,
           "Russia",
           "Shooting",
           "Shooting Men's Free Rifle, Three Positions, 300 metres, Team"
          ],
          [
           41,
           "Russia",
           "Shooting",
           "Shooting Men's Military Rifle, Three Positions, 300 metres"
          ],
          [
           41,
           "Russia",
           "Shooting",
           "Shooting Men's Military Rifle, Any Position, 600 metres"
          ],
          [
           41,
           "Russia",
           "Shooting",
           "Shooting Men's Military Rifle, 200, 400, 500 and 600 metres, Team"
          ],
          [
           47,
           "Finland",
           "Shooting",
           "Shooting Men's Free Rifle, Three Positions, 300 metres"
          ],
          [
           47,
           "Finland",
           "Shooting",
           "Shooting Men's Running Target, Single Shot"
          ],
          [
           47,
           "Finland",
           "Shooting",
           "Shooting Men's Running Target, Single Shot, Team"
          ],
          [
           27,
           "Sweden",
           "Shooting",
           "Shooting Men's Free Pistol, 50 metres"
          ],
          [
           27,
           "Sweden",
           "Shooting",
           "Shooting Men's Dueling Pistol, 30 metres"
          ],
          [
           31,
           "Hungary",
           "Shooting",
           "Shooting Men's Free Pistol, 50 metres"
          ],
          [
           31,
           "Hungary",
           "Shooting",
           "Shooting Men's Dueling Pistol, 30 metres"
          ],
          [
           31,
           "Hungary",
           "Shooting",
           "Shooting Men's Small-Bore Rifle, Any Position, 50 metres"
          ],
          [
           31,
           "Hungary",
           "Shooting",
           "Shooting Men's Small-Bore Rifle, Disappearing Target, 25 metres"
          ],
          [
           39,
           "Finland",
           "Shooting",
           "Shooting Men's Free Rifle, Three Positions, 300 metres"
          ],
          [
           39,
           "Finland",
           "Shooting",
           "Shooting Men's Free Rifle, Three Positions, 300 metres, Team"
          ],
          [
           39,
           "Finland",
           "Shooting",
           "Shooting Men's Running Target, Single Shot"
          ],
          [
           24,
           "Finland",
           "Shooting",
           "Shooting Men's Running Target, Single Shot"
          ],
          [
           24,
           "Finland",
           "Shooting",
           "Shooting Men's Running Target, Single Shot, Team"
          ],
          [
           49,
           "Great Britain",
           "Shooting",
           "Shooting Men's Military Rifle, Three Positions, 300 metres"
          ],
          [
           49,
           "Great Britain",
           "Shooting",
           "Shooting Men's Military Rifle, Any Position, 600 metres"
          ],
          [
           35,
           "Finland",
           "Shooting",
           "Shooting Men's Free Rifle, Three Positions, 300 metres"
          ],
          [
           35,
           "Finland",
           "Shooting",
           "Shooting Men's Free Rifle, Three Positions, 300 metres, Team"
          ],
          [
           33,
           "Norway",
           "Shooting",
           "Shooting Men's Military Rifle, Three Positions, 300 metres"
          ],
          [
           32,
           "Russia",
           "Shooting",
           "Shooting Men's Free Rifle, Three Positions, 300 metres"
          ],
          [
           32,
           "Russia",
           "Shooting",
           "Shooting Men's Military Rifle, Three Positions, 300 metres"
          ],
          [
           32,
           "Russia",
           "Shooting",
           "Shooting Men's Military Rifle, Any Position, 600 metres"
          ],
          [
           32,
           "Russia",
           "Shooting",
           "Shooting Men's Military Rifle, 200, 400, 500 and 600 metres, Team"
          ],
          [
           24,
           "Hungary",
           "Shooting",
           "Shooting Men's Free Rifle, Three Positions, 300 metres"
          ],
          [
           24,
           "Hungary",
           "Shooting",
           "Shooting Men's Military Rifle, Three Positions, 300 metres"
          ],
          [
           24,
           "Hungary",
           "Shooting",
           "Shooting Men's Military Rifle, Any Position, 600 metres"
          ],
          [
           24,
           "Hungary",
           "Shooting",
           "Shooting Men's Military Rifle, 200, 400, 500 and 600 metres, Team"
          ],
          [
           26,
           "Norway",
           "Shooting",
           "Shooting Men's Free Rifle, Three Positions, 300 metres"
          ],
          [
           26,
           "Norway",
           "Shooting",
           "Shooting Men's Military Rifle, Any Position, 600 metres"
          ],
          [
           41,
           "Russia",
           "Shooting",
           "Shooting Men's Military Rifle, Three Positions, 300 metres"
          ],
          [
           41,
           "Russia",
           "Shooting",
           "Shooting Men's Military Rifle, Any Position, 600 metres"
          ],
          [
           28,
           "Germany",
           "Shooting",
           "Shooting Men's Trap"
          ],
          [
           28,
           "Germany",
           "Shooting",
           "Shooting Men's Trap, Team"
          ],
          [
           38,
           "Hungary",
           "Shooting",
           "Shooting Men's Military Rifle, Three Positions, 300 metres"
          ],
          [
           37,
           "Hungary",
           "Shooting",
           "Shooting Men's Free Rifle, Three Positions, 300 metres"
          ],
          [
           37,
           "Hungary",
           "Shooting",
           "Shooting Men's Military Rifle, Three Positions, 300 metres"
          ],
          [
           37,
           "Hungary",
           "Shooting",
           "Shooting Men's Military Rifle, Any Position, 600 metres"
          ],
          [
           37,
           "Hungary",
           "Shooting",
           "Shooting Men's Military Rifle, 200, 400, 500 and 600 metres, Team"
          ],
          [
           30,
           "Sweden",
           "Shooting",
           "Shooting Men's Dueling Pistol, 30 metres"
          ],
          [
           30,
           "Sweden",
           "Shooting",
           "Shooting Men's Dueling Pistol, 30 metres, Team"
          ],
          [
           30,
           "Sweden",
           "Shooting",
           "Shooting Men's Small-Bore Rifle, Any Position, 50 metres"
          ],
          [
           30,
           "Sweden",
           "Shooting",
           "Shooting Men's Small-Bore Rifle, Disappearing Target, 25 metres"
          ],
          [
           30,
           "Sweden",
           "Shooting",
           "Shooting Men's Small-Bore Rifle, Disappearing Target, 25 metres, Team"
          ],
          [
           36,
           "Germany",
           "Shooting",
           "Shooting Men's Trap"
          ],
          [
           36,
           "Germany",
           "Shooting",
           "Shooting Men's Trap, Team"
          ],
          [
           33,
           "Russia",
           "Shooting",
           "Shooting Men's Free Pistol, 50 metres"
          ],
          [
           33,
           "Russia",
           "Shooting",
           "Shooting Men's Free Pistol, 50 metres, Team"
          ],
          [
           33,
           "Russia",
           "Shooting",
           "Shooting Men's Dueling Pistol, 30 metres"
          ],
          [
           33,
           "Russia",
           "Shooting",
           "Shooting Men's Dueling Pistol, 30 metres, Team"
          ],
          [
           45,
           "Sweden",
           "Shooting",
           "Shooting Men's Small-Bore Rifle, Any Position, 50 metres"
          ],
          [
           45,
           "Sweden",
           "Shooting",
           "Shooting Men's Small-Bore Rifle, Disappearing Target, 25 metres"
          ],
          [
           36,
           "Sweden",
           "Shooting",
           "Shooting Men's Trap"
          ],
          [
           36,
           "Sweden",
           "Shooting",
           "Shooting Men's Trap, Team"
          ],
          [
           36,
           "Sweden",
           "Shooting",
           "Shooting Men's Military Rifle, Three Positions, 300 metres"
          ],
          [
           36,
           "Sweden",
           "Shooting",
           "Shooting Men's Military Rifle, Any Position, 600 metres"
          ],
          [
           48,
           "Germany",
           "Shooting",
           "Shooting Men's Dueling Pistol, 30 metres, Team"
          ],
          [
           52,
           "South Africa",
           "Shooting",
           "Shooting Men's Free Rifle, Three Positions, 300 metres"
          ],
          [
           52,
           "South Africa",
           "Shooting",
           "Shooting Men's Free Rifle, Three Positions, 300 metres, Team"
          ],
          [
           52,
           "South Africa",
           "Shooting",
           "Shooting Men's Military Rifle, Three Positions, 300 metres"
          ],
          [
           47,
           "Great Britain",
           "Shooting",
           "Shooting Men's Trap"
          ],
          [
           47,
           "Great Britain",
           "Shooting",
           "Shooting Men's Trap, Team"
          ],
          [
           37,
           "Sweden",
           "Shooting",
           "Shooting Men's Free Rifle, Three Positions, 300 metres"
          ],
          [
           60,
           "United States",
           "Shooting",
           "Shooting Men's Free Pistol, 50 metres"
          ],
          [
           60,
           "United States",
           "Shooting",
           "Shooting Men's Dueling Pistol, 30 metres"
          ],
          [
           60,
           "United States",
           "Shooting",
           "Shooting Men's Dueling Pistol, 30 metres, Team"
          ],
          [
           60,
           "United States",
           "Shooting",
           "Shooting Men's Running Target, Single Shot"
          ],
          [
           60,
           "United States",
           "Shooting",
           "Shooting Men's Running Target, Single Shot, Team"
          ],
          [
           60,
           "United States",
           "Shooting",
           "Shooting Men's Running Target, Double Shot"
          ],
          [
           35,
           "Sweden",
           "Shooting",
           "Shooting Men's Trap"
          ],
          [
           35,
           "Sweden",
           "Shooting",
           "Shooting Men's Trap, Team"
          ]
         ],
         "hovertemplate": "<b>%{hovertext}</b><br><br>Sport=%{customdata[2]}<br>Sex=M<br>Country=%{x}<br>Medal=%{y}<br>Age=%{customdata[0]}<br>Team=%{customdata[1]}<br>Event=%{customdata[3]}<extra></extra>",
         "hovertext": [
          1912,
          1912,
          1912,
          1912,
          1912,
          1912,
          1912,
          1912,
          1912,
          1912,
          1912,
          1912,
          1912,
          1912,
          1912,
          1912,
          1912,
          1912,
          1912,
          1912,
          1912,
          1912,
          1912,
          1912,
          1912,
          1912,
          1912,
          1912,
          1912,
          1912,
          1912,
          1912,
          1912,
          1912,
          1912,
          1912,
          1912,
          1912,
          1912,
          1912,
          1912,
          1912,
          1912,
          1912,
          1912,
          1912,
          1912,
          1912,
          1912,
          1912,
          1912,
          1912,
          1912,
          1912,
          1912,
          1912,
          1912,
          1912,
          1912,
          1912,
          1912,
          1912,
          1912,
          1912,
          1912,
          1912,
          1912,
          1912,
          1912,
          1912,
          1912,
          1912,
          1912,
          1912,
          1912,
          1912,
          1912,
          1912,
          1912,
          1912,
          1912,
          1912,
          1912,
          1912,
          1912,
          1912,
          1912,
          1912,
          1912,
          1912,
          1912,
          1912,
          1912,
          1912,
          1912,
          1912,
          1912,
          1912,
          1912,
          1912,
          1912,
          1912,
          1912,
          1912,
          1912,
          1912,
          1912,
          1912,
          1912,
          1912,
          1912,
          1912,
          1912,
          1912,
          1912,
          1912,
          1912,
          1912,
          1912,
          1912,
          1912,
          1912,
          1912,
          1912,
          1912,
          1912,
          1912,
          1912,
          1912,
          1912,
          1912,
          1912,
          1912,
          1912,
          1912,
          1912,
          1912,
          1912,
          1912,
          1912,
          1912,
          1912,
          1912,
          1912,
          1912,
          1912,
          1912,
          1912,
          1912,
          1912,
          1912,
          1912,
          1912,
          1912,
          1912,
          1912,
          1912,
          1912,
          1912,
          1912,
          1912,
          1912,
          1912,
          1912,
          1912,
          1912,
          1912,
          1912,
          1912,
          1912,
          1912,
          1912,
          1912,
          1912,
          1912,
          1912,
          1912,
          1912,
          1912,
          1912,
          1912,
          1912,
          1912,
          1912,
          1912,
          1912,
          1912,
          1912,
          1912,
          1912,
          1912,
          1912,
          1912,
          1912,
          1912,
          1912,
          1912,
          1912,
          1912,
          1912,
          1912,
          1912,
          1912,
          1912,
          1912,
          1912,
          1912,
          1912,
          1912,
          1912,
          1912,
          1912,
          1912,
          1912,
          1912,
          1912,
          1912,
          1912,
          1912,
          1912,
          1912,
          1912,
          1912,
          1912,
          1912,
          1912,
          1912,
          1912,
          1912,
          1912,
          1912,
          1912,
          1912,
          1912,
          1912,
          1912,
          1912,
          1912,
          1912,
          1912,
          1912,
          1912,
          1912,
          1912,
          1912,
          1912,
          1912,
          1912,
          1912,
          1912,
          1912,
          1912,
          1912,
          1912,
          1912,
          1912,
          1912,
          1912,
          1912,
          1912,
          1912,
          1912,
          1912,
          1912,
          1912,
          1912,
          1912,
          1912,
          1912,
          1912,
          1912,
          1912,
          1912,
          1912,
          1912,
          1912,
          1912,
          1912,
          1912,
          1912,
          1912,
          1912,
          1912,
          1912,
          1912,
          1912,
          1912,
          1912,
          1912,
          1912,
          1912,
          1912,
          1912,
          1912,
          1912,
          1912,
          1912,
          1912,
          1912,
          1912,
          1912,
          1912,
          1912,
          1912,
          1912,
          1912,
          1912,
          1912,
          1912,
          1912,
          1912,
          1912,
          1912,
          1912,
          1912,
          1912,
          1912,
          1912,
          1912,
          1912,
          1912,
          1912,
          1912,
          1912,
          1912,
          1912,
          1912,
          1912,
          1912,
          1912,
          1912,
          1912,
          1912,
          1912,
          1912,
          1912,
          1912,
          1912,
          1912,
          1912,
          1912,
          1912,
          1912,
          1912,
          1912,
          1912,
          1912,
          1912,
          1912,
          1912,
          1912,
          1912,
          1912,
          1912,
          1912,
          1912,
          1912,
          1912,
          1912,
          1912,
          1912,
          1912,
          1912,
          1912,
          1912,
          1912,
          1912,
          1912,
          1912,
          1912,
          1912,
          1912,
          1912,
          1912,
          1912,
          1912,
          1912,
          1912,
          1912,
          1912,
          1912,
          1912,
          1912,
          1912,
          1912,
          1912,
          1912,
          1912,
          1912,
          1912,
          1912,
          1912,
          1912,
          1912,
          1912,
          1912,
          1912,
          1912,
          1912,
          1912,
          1912,
          1912,
          1912,
          1912,
          1912,
          1912,
          1912,
          1912,
          1912,
          1912,
          1912,
          1912,
          1912,
          1912,
          1912,
          1912,
          1912,
          1912,
          1912,
          1912,
          1912,
          1912,
          1912,
          1912,
          1912,
          1912,
          1912,
          1912,
          1912,
          1912,
          1912,
          1912,
          1912,
          1912,
          1912,
          1912,
          1912,
          1912,
          1912,
          1912,
          1912,
          1912,
          1912,
          1912,
          1912,
          1912,
          1912,
          1912,
          1912,
          1912,
          1912,
          1912,
          1912,
          1912,
          1912,
          1912,
          1912,
          1912,
          1912,
          1912,
          1912,
          1912,
          1912,
          1912,
          1912,
          1912,
          1912,
          1912,
          1912,
          1912,
          1912,
          1912,
          1912,
          1912,
          1912,
          1912,
          1912,
          1912,
          1912,
          1912,
          1912,
          1912,
          1912,
          1912,
          1912,
          1912,
          1912,
          1912,
          1912,
          1912,
          1912,
          1912,
          1912,
          1912,
          1912,
          1912,
          1912,
          1912,
          1912,
          1912,
          1912,
          1912,
          1912,
          1912,
          1912,
          1912,
          1912,
          1912,
          1912,
          1912,
          1912,
          1912,
          1912,
          1912,
          1912,
          1912,
          1912,
          1912,
          1912,
          1912,
          1912,
          1912,
          1912,
          1912,
          1912,
          1912,
          1912,
          1912,
          1912,
          1912,
          1912,
          1912,
          1912,
          1912,
          1912,
          1912,
          1912,
          1912,
          1912,
          1912,
          1912,
          1912,
          1912,
          1912,
          1912,
          1912,
          1912,
          1912,
          1912,
          1912,
          1912,
          1912,
          1912,
          1912,
          1912,
          1912,
          1912,
          1912,
          1912,
          1912,
          1912,
          1912,
          1912,
          1912,
          1912,
          1912,
          1912,
          1912,
          1912,
          1912,
          1912,
          1912,
          1912,
          1912,
          1912,
          1912,
          1912,
          1912,
          1912,
          1912,
          1912,
          1912,
          1912,
          1912,
          1912,
          1912,
          1912,
          1912,
          1912,
          1912,
          1912,
          1912,
          1912,
          1912,
          1912,
          1912,
          1912,
          1912,
          1912,
          1912,
          1912,
          1912,
          1912,
          1912,
          1912,
          1912,
          1912,
          1912,
          1912,
          1912,
          1912,
          1912,
          1912,
          1912,
          1912,
          1912,
          1912,
          1912,
          1912,
          1912,
          1912,
          1912,
          1912,
          1912,
          1912,
          1912,
          1912,
          1912,
          1912,
          1912,
          1912,
          1912,
          1912,
          1912,
          1912,
          1912,
          1912,
          1912,
          1912,
          1912,
          1912,
          1912,
          1912,
          1912,
          1912,
          1912,
          1912,
          1912,
          1912,
          1912,
          1912,
          1912,
          1912,
          1912,
          1912,
          1912,
          1912,
          1912,
          1912,
          1912,
          1912,
          1912,
          1912,
          1912,
          1912,
          1912,
          1912,
          1912,
          1912,
          1912,
          1912,
          1912,
          1912,
          1912,
          1912,
          1912,
          1912,
          1912,
          1912,
          1912,
          1912,
          1912,
          1912,
          1912,
          1912,
          1912,
          1912,
          1912,
          1912,
          1912,
          1912,
          1912,
          1912,
          1912,
          1912,
          1912,
          1912,
          1912,
          1912,
          1912,
          1912,
          1912,
          1912,
          1912,
          1912,
          1912,
          1912,
          1912,
          1912,
          1912,
          1912,
          1912,
          1912,
          1912,
          1912,
          1912,
          1912,
          1912,
          1912,
          1912,
          1912,
          1912,
          1912,
          1912,
          1912,
          1912,
          1912,
          1912,
          1912,
          1912,
          1912,
          1912,
          1912,
          1912,
          1912,
          1912,
          1912,
          1912,
          1912,
          1912,
          1912,
          1912,
          1912,
          1912,
          1912,
          1912,
          1912,
          1912,
          1912,
          1912,
          1912,
          1912,
          1912,
          1912,
          1912,
          1912,
          1912,
          1912,
          1912,
          1912,
          1912,
          1912,
          1912,
          1912,
          1912,
          1912,
          1912,
          1912,
          1912,
          1912,
          1912,
          1912,
          1912,
          1912,
          1912,
          1912,
          1912,
          1912,
          1912,
          1912,
          1912,
          1912,
          1912,
          1912,
          1912,
          1912,
          1912,
          1912,
          1912,
          1912,
          1912,
          1912,
          1912,
          1912
         ],
         "legendgroup": "Shooting",
         "marker": {
          "color": "#FF97FF",
          "pattern": {
           "shape": ""
          }
         },
         "name": "Shooting",
         "offsetgroup": "Shooting",
         "orientation": "v",
         "showlegend": true,
         "textposition": "auto",
         "type": "bar",
         "x": [
          "USA",
          "USA",
          "USA",
          "USA",
          "CHI",
          "CHI",
          "CHI",
          "CHI",
          "DEN",
          "DEN",
          "USA",
          "USA",
          "SWE",
          "SWE",
          "SWE",
          "SWE",
          "SWE",
          "FIN",
          "FIN",
          "FIN",
          "RUS",
          "RUS",
          "RUS",
          "USA",
          "USA",
          "USA",
          "RUS",
          "RUS",
          "RUS",
          "SWE",
          "SWE",
          "SWE",
          "AUT",
          "AUT",
          "USA",
          "USA",
          "NOR",
          "SWE",
          "SWE",
          "SWE",
          "SWE",
          "SWE",
          "SWE",
          "SWE",
          "GBR",
          "RUS",
          "RUS",
          "RUS",
          "SWE",
          "SWE",
          "GER",
          "GER",
          "RSA",
          "RSA",
          "RSA",
          "RSA",
          "RSA",
          "RUS",
          "SWE",
          "SWE",
          "SWE",
          "SWE",
          "SWE",
          "HUN",
          "HUN",
          "HUN",
          "HUN",
          "SWE",
          "SWE",
          "SWE",
          "SWE",
          "NOR",
          "NOR",
          "USA",
          "USA",
          "USA",
          "USA",
          "NOR",
          "USA",
          "USA",
          "USA",
          "USA",
          "GBR",
          "GBR",
          "GBR",
          "GBR",
          "GBR",
          "GBR",
          "SWE",
          "SWE",
          "SWE",
          "SWE",
          "SWE",
          "SWE",
          "SWE",
          "SWE",
          "SWE",
          "SWE",
          "SWE",
          "SWE",
          "SWE",
          "SWE",
          "SWE",
          "SWE",
          "SWE",
          "SWE",
          "SWE",
          "NOR",
          "FRA",
          "FRA",
          "FRA",
          "FRA",
          "FRA",
          "FIN",
          "FIN",
          "FRA",
          "FRA",
          "GBR",
          "GBR",
          "CAN",
          "FRA",
          "FRA",
          "FRA",
          "FRA",
          "FRA",
          "FRA",
          "FRA",
          "FRA",
          "FRA",
          "FRA",
          "FRA",
          "FRA",
          "RUS",
          "RUS",
          "RUS",
          "RUS",
          "FRA",
          "FRA",
          "FRA",
          "FRA",
          "FRA",
          "SWE",
          "SWE",
          "SWE",
          "SWE",
          "RUS",
          "RUS",
          "RUS",
          "RUS",
          "RUS",
          "NOR",
          "NOR",
          "DEN",
          "DEN",
          "USA",
          "USA",
          "USA",
          "USA",
          "RUS",
          "RUS",
          "RUS",
          "RUS",
          "RUS",
          "RUS",
          "RUS",
          "USA",
          "USA",
          "USA",
          "AUT",
          "AUT",
          "GBR",
          "GBR",
          "GBR",
          "SWE",
          "SWE",
          "SWE",
          "SWE",
          "SWE",
          "CHI",
          "CHI",
          "CHI",
          "CHI",
          "AUT",
          "AUT",
          "AUT",
          "SWE",
          "SWE",
          "SWE",
          "SWE",
          "SWE",
          "SWE",
          "SWE",
          "SWE",
          "NOR",
          "FIN",
          "FRA",
          "FRA",
          "FIN",
          "FIN",
          "FRA",
          "FRA",
          "SWE",
          "DEN",
          "DEN",
          "SWE",
          "SWE",
          "SWE",
          "GBR",
          "GBR",
          "GBR",
          "FRA",
          "FRA",
          "FRA",
          "FRA",
          "FRA",
          "FRA",
          "FRA",
          "DEN",
          "DEN",
          "DEN",
          "DEN",
          "DEN",
          "USA",
          "USA",
          "NOR",
          "NOR",
          "GER",
          "GER",
          "GER",
          "GER",
          "GER",
          "GBR",
          "USA",
          "USA",
          "GBR",
          "GBR",
          "GBR",
          "GBR",
          "SWE",
          "SWE",
          "SWE",
          "DEN",
          "DEN",
          "DEN",
          "USA",
          "USA",
          "RSA",
          "RSA",
          "RSA",
          "RSA",
          "RSA",
          "HUN",
          "HUN",
          "HUN",
          "HUN",
          "HUN",
          "NOR",
          "NOR",
          "NOR",
          "NOR",
          "USA",
          "USA",
          "USA",
          "USA",
          "USA",
          "USA",
          "USA",
          "USA",
          "USA",
          "GER",
          "GER",
          "SWE",
          "FIN",
          "FIN",
          "FIN",
          "FIN",
          "GBR",
          "GBR",
          "NOR",
          "NOR",
          "CAN",
          "FIN",
          "FIN",
          "FIN",
          "USA",
          "USA",
          "USA",
          "RSA",
          "RSA",
          "RSA",
          "RSA",
          "HUN",
          "HUN",
          "HUN",
          "HUN",
          "NOR",
          "NOR",
          "SWE",
          "SWE",
          "SWE",
          "SWE",
          "SWE",
          "SWE",
          "SWE",
          "SWE",
          "SWE",
          "FRA",
          "FRA",
          "FRA",
          "FRA",
          "FRA",
          "FRA",
          "RSA",
          "RSA",
          "RSA",
          "GBR",
          "SWE",
          "SWE",
          "SWE",
          "SWE",
          "SWE",
          "SWE",
          "SWE",
          "NOR",
          "NOR",
          "NED",
          "RUS",
          "RUS",
          "RUS",
          "RUS",
          "RUS",
          "RUS",
          "RUS",
          "RSA",
          "RSA",
          "RSA",
          "RSA",
          "GBR",
          "GBR",
          "GBR",
          "GBR",
          "GBR",
          "CAN",
          "SWE",
          "GER",
          "GER",
          "GER",
          "GER",
          "FIN",
          "FIN",
          "FIN",
          "RUS",
          "RUS",
          "RUS",
          "RUS",
          "RUS",
          "RUS",
          "RUS",
          "RUS",
          "SWE",
          "FRA",
          "FRA",
          "FRA",
          "USA",
          "USA",
          "USA",
          "USA",
          "DEN",
          "DEN",
          "DEN",
          "DEN",
          "DEN",
          "DEN",
          "DEN",
          "DEN",
          "SWE",
          "SWE",
          "SWE",
          "SWE",
          "FRA",
          "RUS",
          "RUS",
          "RUS",
          "RUS",
          "RUS",
          "RUS",
          "RUS",
          "RUS",
          "RUS",
          "GBR",
          "GBR",
          "GBR",
          "USA",
          "USA",
          "USA",
          "USA",
          "USA",
          "USA",
          "USA",
          "GRE",
          "GRE",
          "GRE",
          "GRE",
          "GRE",
          "GRE",
          "GRE",
          "GRE",
          "GRE",
          "USA",
          "NOR",
          "NOR",
          "NOR",
          "RUS",
          "RUS",
          "SWE",
          "SWE",
          "SWE",
          "SWE",
          "GBR",
          "SWE",
          "SWE",
          "SWE",
          "FIN",
          "FIN",
          "FIN",
          "SWE",
          "SWE",
          "SWE",
          "SWE",
          "SWE",
          "GER",
          "SWE",
          "SWE",
          "DEN",
          "DEN",
          "DEN",
          "DEN",
          "DEN",
          "FRA",
          "FRA",
          "FRA",
          "NOR",
          "NOR",
          "GBR",
          "GBR",
          "GRE",
          "GRE",
          "GRE",
          "GRE",
          "GRE",
          "GRE",
          "GRE",
          "GRE",
          "GRE",
          "GRE",
          "GRE",
          "GBR",
          "GBR",
          "GBR",
          "USA",
          "USA",
          "USA",
          "USA",
          "USA",
          "USA",
          "USA",
          "RUS",
          "RUS",
          "RUS",
          "RUS",
          "FRA",
          "FRA",
          "HUN",
          "HUN",
          "HUN",
          "HUN",
          "GRE",
          "GRE",
          "GER",
          "GER",
          "AUT",
          "AUT",
          "GBR",
          "GBR",
          "GBR",
          "GRE",
          "GRE",
          "GBR",
          "GBR",
          "GBR",
          "DEN",
          "DEN",
          "DEN",
          "DEN",
          "DEN",
          "DEN",
          "DEN",
          "SWE",
          "SWE",
          "SWE",
          "NOR",
          "NOR",
          "SWE",
          "FIN",
          "FIN",
          "SWE",
          "SWE",
          "SWE",
          "SWE",
          "SWE",
          "SWE",
          "SWE",
          "SWE",
          "DEN",
          "DEN",
          "GBR",
          "GBR",
          "SWE",
          "SWE",
          "SWE",
          "USA",
          "USA",
          "USA",
          "USA",
          "USA",
          "USA",
          "USA",
          "NOR",
          "NOR",
          "SWE",
          "SWE",
          "SWE",
          "GBR",
          "GBR",
          "RUS",
          "RUS",
          "RUS",
          "GBR",
          "GBR",
          "GBR",
          "AUT",
          "AUT",
          "RSA",
          "RSA",
          "RSA",
          "RSA",
          "RSA",
          "GBR",
          "GBR",
          "GBR",
          "GBR",
          "FRA",
          "FRA",
          "FRA",
          "FRA",
          "FRA",
          "RUS",
          "GRE",
          "GBR",
          "GBR",
          "GBR",
          "GBR",
          "GBR",
          "GBR",
          "GBR",
          "RUS",
          "RUS",
          "GBR",
          "GBR",
          "GBR",
          "GER",
          "GER",
          "GER",
          "GER",
          "HUN",
          "HUN",
          "HUN",
          "HUN",
          "RUS",
          "RUS",
          "RUS",
          "NOR",
          "NOR",
          "FRA",
          "FRA",
          "FRA",
          "GBR",
          "GBR",
          "FIN",
          "GBR",
          "GBR",
          "USA",
          "USA",
          "SWE",
          "NOR",
          "FIN",
          "FIN",
          "FRA",
          "FRA",
          "FRA",
          "FRA",
          "FRA",
          "USA",
          "USA",
          "USA",
          "NOR",
          "NOR",
          "NOR",
          "NOR",
          "NOR",
          "SWE",
          "AUT",
          "AUT",
          "FIN",
          "FIN",
          "DEN",
          "DEN",
          "DEN",
          "DEN",
          "USA",
          "USA",
          "USA",
          "GBR",
          "GBR",
          "RUS",
          "RUS",
          "RUS",
          "GRE",
          "GRE",
          "GRE",
          "GRE",
          "NOR",
          "NOR",
          "NOR",
          "GBR",
          "GBR",
          "NOR",
          "SWE",
          "NOR",
          "NOR",
          "RUS",
          "RUS",
          "RUS",
          "RSA",
          "RSA",
          "RSA",
          "RSA",
          "SWE",
          "SWE",
          "GBR",
          "GBR",
          "USA",
          "USA",
          "USA",
          "USA",
          "USA",
          "USA",
          "USA",
          "USA",
          "USA",
          "USA",
          "NOR",
          "AUT",
          "AUT",
          "GBR",
          "GBR",
          "GBR",
          "SWE",
          "SWE",
          "GBR",
          "GBR",
          "GBR",
          "SWE",
          "NOR",
          "NOR",
          "NOR",
          "NOR",
          "NOR",
          "SWE",
          "SWE",
          "SWE",
          "SWE",
          "SWE",
          "SWE",
          "SWE",
          "SWE",
          "SWE",
          "RUS",
          "DEN",
          "FRA",
          "FRA",
          "GRE",
          "GRE",
          "GRE",
          "GRE",
          "GRE",
          "GRE",
          "GRE",
          "GRE",
          "GRE",
          "GRE",
          "GRE",
          "GRE",
          "GRE",
          "GRE",
          "GRE",
          "GRE",
          "GRE",
          "GRE",
          "GRE",
          "GRE",
          "GRE",
          "GRE",
          "GRE",
          "GRE",
          "GRE",
          "NOR",
          "NOR",
          "GBR",
          "RUS",
          "RUS",
          "RUS",
          "RUS",
          "RUS",
          "FIN",
          "FIN",
          "FIN",
          "SWE",
          "SWE",
          "HUN",
          "HUN",
          "HUN",
          "HUN",
          "FIN",
          "FIN",
          "FIN",
          "FIN",
          "FIN",
          "GBR",
          "GBR",
          "FIN",
          "FIN",
          "NOR",
          "RUS",
          "RUS",
          "RUS",
          "RUS",
          "HUN",
          "HUN",
          "HUN",
          "HUN",
          "NOR",
          "NOR",
          "RUS",
          "RUS",
          "GER",
          "GER",
          "HUN",
          "HUN",
          "HUN",
          "HUN",
          "HUN",
          "SWE",
          "SWE",
          "SWE",
          "SWE",
          "SWE",
          "GER",
          "GER",
          "RUS",
          "RUS",
          "RUS",
          "RUS",
          "SWE",
          "SWE",
          "SWE",
          "SWE",
          "SWE",
          "SWE",
          "GER",
          "RSA",
          "RSA",
          "RSA",
          "GBR",
          "GBR",
          "SWE",
          "USA",
          "USA",
          "USA",
          "USA",
          "USA",
          "USA",
          "SWE",
          "SWE"
         ],
         "xaxis": "x",
         "y": [
          null,
          null,
          null,
          "Gold",
          null,
          null,
          null,
          null,
          "Bronze",
          null,
          null,
          null,
          null,
          null,
          null,
          "Gold",
          null,
          null,
          null,
          null,
          null,
          null,
          null,
          null,
          null,
          null,
          null,
          null,
          null,
          null,
          "Silver",
          null,
          null,
          null,
          null,
          "Gold",
          null,
          null,
          "Gold",
          "Bronze",
          null,
          null,
          null,
          "Bronze",
          null,
          null,
          null,
          "Bronze",
          null,
          "Gold",
          null,
          null,
          null,
          null,
          null,
          null,
          null,
          null,
          null,
          null,
          null,
          "Gold",
          null,
          null,
          null,
          null,
          null,
          null,
          "Silver",
          null,
          null,
          null,
          null,
          null,
          null,
          null,
          "Gold",
          null,
          null,
          null,
          null,
          "Gold",
          null,
          "Silver",
          "Bronze",
          null,
          null,
          "Silver",
          null,
          "Silver",
          null,
          "Gold",
          null,
          "Silver",
          null,
          "Gold",
          null,
          "Silver",
          null,
          "Gold",
          null,
          "Silver",
          "Gold",
          "Gold",
          null,
          null,
          null,
          null,
          "Gold",
          null,
          null,
          "Gold",
          null,
          null,
          null,
          null,
          null,
          null,
          null,
          null,
          null,
          null,
          null,
          null,
          null,
          null,
          null,
          null,
          null,
          null,
          null,
          null,
          null,
          null,
          null,
          null,
          null,
          null,
          null,
          null,
          null,
          null,
          "Silver",
          null,
          null,
          null,
          null,
          null,
          null,
          null,
          null,
          null,
          null,
          null,
          null,
          "Gold",
          null,
          null,
          null,
          null,
          null,
          null,
          null,
          null,
          null,
          "Silver",
          "Gold",
          null,
          null,
          null,
          null,
          "Bronze",
          "Bronze",
          null,
          null,
          null,
          null,
          null,
          null,
          null,
          null,
          null,
          null,
          null,
          null,
          null,
          null,
          "Bronze",
          null,
          null,
          "Gold",
          null,
          "Bronze",
          null,
          null,
          null,
          null,
          null,
          null,
          null,
          null,
          null,
          null,
          null,
          null,
          null,
          null,
          null,
          null,
          "Silver",
          null,
          null,
          null,
          null,
          null,
          null,
          null,
          null,
          null,
          null,
          null,
          null,
          null,
          "Gold",
          null,
          null,
          "Silver",
          "Bronze",
          null,
          null,
          "Bronze",
          null,
          "Gold",
          "Gold",
          null,
          null,
          null,
          "Silver",
          null,
          null,
          null,
          null,
          "Bronze",
          null,
          null,
          "Gold",
          null,
          null,
          null,
          null,
          null,
          null,
          null,
          null,
          null,
          null,
          null,
          "Silver",
          null,
          null,
          null,
          "Gold",
          null,
          null,
          null,
          "Gold",
          "Bronze",
          null,
          "Bronze",
          null,
          null,
          null,
          null,
          null,
          null,
          null,
          null,
          "Silver",
          null,
          null,
          null,
          null,
          null,
          null,
          null,
          "Bronze",
          "Gold",
          null,
          null,
          null,
          null,
          null,
          null,
          null,
          null,
          null,
          null,
          null,
          null,
          null,
          "Bronze",
          null,
          null,
          "Gold",
          null,
          "Bronze",
          null,
          null,
          null,
          null,
          null,
          null,
          null,
          null,
          null,
          null,
          null,
          null,
          "Gold",
          null,
          null,
          null,
          null,
          null,
          null,
          null,
          null,
          null,
          null,
          null,
          null,
          null,
          "Silver",
          null,
          null,
          null,
          null,
          null,
          null,
          null,
          "Bronze",
          "Bronze",
          null,
          null,
          null,
          null,
          null,
          "Bronze",
          null,
          null,
          null,
          null,
          null,
          null,
          null,
          null,
          null,
          null,
          null,
          null,
          null,
          null,
          null,
          "Gold",
          "Gold",
          "Gold",
          null,
          null,
          null,
          "Bronze",
          null,
          "Bronze",
          "Bronze",
          null,
          null,
          null,
          "Gold",
          "Bronze",
          null,
          null,
          null,
          null,
          null,
          null,
          null,
          null,
          null,
          null,
          null,
          null,
          "Gold",
          null,
          null,
          "Bronze",
          null,
          "Bronze",
          null,
          "Silver",
          null,
          null,
          null,
          null,
          null,
          null,
          null,
          null,
          null,
          null,
          "Silver",
          null,
          "Silver",
          null,
          null,
          null,
          null,
          null,
          null,
          null,
          null,
          null,
          null,
          null,
          null,
          "Bronze",
          null,
          "Silver",
          "Gold",
          "Gold",
          null,
          null,
          null,
          null,
          null,
          null,
          "Silver",
          "Bronze",
          null,
          null,
          null,
          null,
          null,
          null,
          null,
          null,
          "Silver",
          null,
          null,
          null,
          null,
          null,
          null,
          null,
          null,
          null,
          null,
          null,
          null,
          null,
          null,
          null,
          null,
          null,
          null,
          "Bronze",
          "Silver",
          null,
          null,
          null,
          null,
          "Silver",
          null,
          null,
          null,
          null,
          null,
          null,
          null,
          null,
          null,
          null,
          null,
          null,
          "Silver",
          null,
          "Silver",
          null,
          null,
          null,
          "Gold",
          null,
          null,
          null,
          null,
          null,
          null,
          null,
          null,
          null,
          "Silver",
          null,
          null,
          null,
          null,
          null,
          null,
          null,
          null,
          null,
          null,
          null,
          null,
          null,
          null,
          null,
          "Bronze",
          null,
          "Silver",
          null,
          null,
          "Silver",
          null,
          "Silver",
          "Silver",
          "Gold",
          null,
          "Bronze",
          null,
          null,
          "Silver",
          null,
          "Silver",
          "Gold",
          null,
          "Silver",
          null,
          null,
          "Silver",
          null,
          null,
          "Silver",
          null,
          null,
          null,
          null,
          null,
          null,
          null,
          null,
          "Gold",
          null,
          "Silver",
          null,
          null,
          null,
          null,
          null,
          null,
          null,
          null,
          "Gold",
          null,
          "Silver",
          null,
          null,
          null,
          null,
          null,
          null,
          "Bronze",
          "Bronze",
          null,
          null,
          null,
          "Bronze",
          null,
          null,
          null,
          "Gold",
          null,
          null,
          null,
          null,
          null,
          null,
          null,
          null,
          null,
          "Silver",
          null,
          null,
          null,
          null,
          null,
          null,
          null,
          null,
          "Bronze",
          null,
          null,
          null,
          null,
          null,
          null,
          null,
          null,
          null,
          "Silver",
          null,
          null,
          "Silver",
          null,
          null,
          null,
          null,
          null,
          null,
          null,
          null,
          null,
          null,
          "Gold",
          null,
          null,
          null,
          null,
          null,
          null,
          null,
          null,
          null,
          null,
          null,
          "Silver",
          null,
          null,
          "Silver",
          null,
          null,
          null,
          "Bronze",
          null,
          null,
          null,
          null,
          null,
          null,
          null,
          null,
          null,
          null,
          null,
          null,
          "Gold",
          null,
          null,
          null,
          "Gold",
          null,
          "Bronze",
          null,
          "Bronze",
          null,
          null,
          null,
          "Bronze",
          "Bronze",
          "Bronze",
          null,
          null,
          null,
          null,
          "Silver",
          null,
          null,
          null,
          null,
          null,
          null,
          "Gold",
          "Gold",
          null,
          null,
          null,
          null,
          "Gold",
          "Bronze",
          null,
          null,
          null,
          null,
          null,
          null,
          null,
          null,
          null,
          null,
          null,
          null,
          null,
          null,
          null,
          null,
          null,
          null,
          null,
          null,
          null,
          null,
          null,
          null,
          null,
          null,
          null,
          null,
          null,
          null,
          null,
          null,
          null,
          null,
          null,
          null,
          null,
          null,
          null,
          "Bronze",
          "Bronze",
          null,
          null,
          null,
          null,
          null,
          null,
          null,
          null,
          null,
          null,
          "Bronze",
          null,
          null,
          null,
          null,
          null,
          null,
          null,
          null,
          null,
          null,
          null,
          null,
          null,
          null,
          null,
          null,
          null,
          null,
          "Bronze",
          null,
          null,
          null,
          null,
          null,
          "Bronze",
          "Gold",
          null,
          "Silver",
          "Gold",
          null,
          "Bronze",
          null,
          null,
          null,
          "Silver",
          null,
          null,
          null,
          null,
          null,
          null,
          null,
          null,
          null,
          null,
          null,
          "Silver",
          null,
          null,
          null,
          null,
          null,
          "Silver",
          null,
          null,
          null
         ],
         "yaxis": "y"
        },
        {
         "alignmentgroup": "True",
         "customdata": [
          [
           45,
           "Sweden",
           "Equestrianism",
           "Equestrianism Men's Jumping, Individual"
          ],
          [
           45,
           "Sweden",
           "Equestrianism",
           "Equestrianism Men's Three-Day Event, Individual"
          ],
          [
           45,
           "Sweden",
           "Equestrianism",
           "Equestrianism Men's Three-Day Event, Team"
          ],
          [
           44,
           "Sweden",
           "Equestrianism",
           "Equestrianism Men's Dressage, Individual"
          ],
          [
           51,
           "Sweden",
           "Equestrianism",
           "Equestrianism Men's Dressage, Individual"
          ],
          [
           40,
           "Sweden",
           "Equestrianism",
           "Equestrianism Men's Dressage, Individual"
          ],
          [
           28,
           "Germany",
           "Equestrianism",
           "Equestrianism Men's Dressage, Individual"
          ],
          [
           41,
           "France",
           "Equestrianism",
           "Equestrianism Men's Dressage, Individual"
          ],
          [
           41,
           "France",
           "Equestrianism",
           "Equestrianism Men's Jumping, Individual"
          ],
          [
           41,
           "France",
           "Equestrianism",
           "Equestrianism Men's Jumping, Team"
          ],
          [
           41,
           "France",
           "Equestrianism",
           "Equestrianism Men's Three-Day Event, Individual"
          ],
          [
           41,
           "France",
           "Equestrianism",
           "Equestrianism Men's Three-Day Event, Team"
          ],
          [
           25,
           "Sweden",
           "Equestrianism",
           "Equestrianism Men's Jumping, Individual"
          ],
          [
           25,
           "Sweden",
           "Equestrianism",
           "Equestrianism Men's Three-Day Event, Individual"
          ],
          [
           25,
           "Sweden",
           "Equestrianism",
           "Equestrianism Men's Three-Day Event, Team"
          ],
          [
           null,
           "Belgium",
           "Equestrianism",
           "Equestrianism Men's Jumping, Team"
          ],
          [
           null,
           "Belgium",
           "Equestrianism",
           "Equestrianism Men's Three-Day Event, Individual"
          ],
          [
           null,
           "Belgium",
           "Equestrianism",
           "Equestrianism Men's Three-Day Event, Team"
          ],
          [
           36,
           "Belgium",
           "Equestrianism",
           "Equestrianism Men's Dressage, Individual"
          ],
          [
           36,
           "Belgium",
           "Equestrianism",
           "Equestrianism Men's Jumping, Individual"
          ],
          [
           36,
           "Belgium",
           "Equestrianism",
           "Equestrianism Men's Jumping, Team"
          ],
          [
           36,
           "Belgium",
           "Equestrianism",
           "Equestrianism Men's Three-Day Event, Individual"
          ],
          [
           36,
           "Belgium",
           "Equestrianism",
           "Equestrianism Men's Three-Day Event, Team"
          ],
          [
           31,
           "Belgium",
           "Equestrianism",
           "Equestrianism Men's Dressage, Individual"
          ],
          [
           31,
           "Belgium",
           "Equestrianism",
           "Equestrianism Men's Jumping, Team"
          ],
          [
           31,
           "Belgium",
           "Equestrianism",
           "Equestrianism Men's Three-Day Event, Individual"
          ],
          [
           31,
           "Belgium",
           "Equestrianism",
           "Equestrianism Men's Three-Day Event, Team"
          ],
          [
           null,
           "Chile",
           "Equestrianism",
           "Equestrianism Men's Jumping, Individual"
          ],
          [
           25,
           "Germany",
           "Equestrianism",
           "Equestrianism Men's Jumping, Individual"
          ],
          [
           25,
           "Germany",
           "Equestrianism",
           "Equestrianism Men's Jumping, Team"
          ],
          [
           26,
           "France",
           "Equestrianism",
           "Equestrianism Men's Dressage, Individual"
          ],
          [
           26,
           "France",
           "Equestrianism",
           "Equestrianism Men's Jumping, Individual"
          ],
          [
           26,
           "France",
           "Equestrianism",
           "Equestrianism Men's Jumping, Team"
          ],
          [
           26,
           "France",
           "Equestrianism",
           "Equestrianism Men's Three-Day Event, Individual"
          ],
          [
           26,
           "France",
           "Equestrianism",
           "Equestrianism Men's Three-Day Event, Team"
          ],
          [
           36,
           "Norway",
           "Equestrianism",
           "Equestrianism Men's Dressage, Individual"
          ],
          [
           36,
           "Norway",
           "Equestrianism",
           "Equestrianism Men's Jumping, Individual"
          ],
          [
           31,
           "Germany",
           "Equestrianism",
           "Equestrianism Men's Jumping, Individual"
          ],
          [
           31,
           "Germany",
           "Equestrianism",
           "Equestrianism Men's Jumping, Team"
          ],
          [
           30,
           "United States",
           "Equestrianism",
           "Equestrianism Men's Three-Day Event, Individual"
          ],
          [
           30,
           "United States",
           "Equestrianism",
           "Equestrianism Men's Three-Day Event, Team"
          ],
          [
           37,
           "United States",
           "Equestrianism",
           "Equestrianism Men's Dressage, Individual"
          ],
          [
           37,
           "United States",
           "Equestrianism",
           "Equestrianism Men's Jumping, Team"
          ],
          [
           37,
           "United States",
           "Equestrianism",
           "Equestrianism Men's Three-Day Event, Individual"
          ],
          [
           37,
           "United States",
           "Equestrianism",
           "Equestrianism Men's Three-Day Event, Team"
          ],
          [
           22,
           "Sweden",
           "Equestrianism",
           "Equestrianism Men's Jumping, Individual"
          ],
          [
           32,
           "Sweden",
           "Equestrianism",
           "Equestrianism Men's Three-Day Event, Individual"
          ],
          [
           32,
           "Sweden",
           "Equestrianism",
           "Equestrianism Men's Three-Day Event, Team"
          ],
          [
           34,
           "Norway",
           "Equestrianism",
           "Equestrianism Men's Jumping, Individual"
          ],
          [
           49,
           "Great Britain",
           "Equestrianism",
           "Equestrianism Men's Jumping, Individual"
          ],
          [
           49,
           "Great Britain",
           "Equestrianism",
           "Equestrianism Men's Three-Day Event, Individual"
          ],
          [
           49,
           "Great Britain",
           "Equestrianism",
           "Equestrianism Men's Three-Day Event, Team"
          ],
          [
           31,
           "Denmark",
           "Equestrianism",
           "Equestrianism Men's Dressage, Individual"
          ],
          [
           31,
           "Norway",
           "Equestrianism",
           "Equestrianism Men's Jumping, Individual"
          ],
          [
           29,
           "Sweden",
           "Equestrianism",
           "Equestrianism Men's Jumping, Team"
          ],
          [
           23,
           "Denmark",
           "Equestrianism",
           "Equestrianism Men's Three-Day Event, Individual"
          ],
          [
           23,
           "Denmark",
           "Equestrianism",
           "Equestrianism Men's Three-Day Event, Team"
          ],
          [
           36,
           "Denmark",
           "Equestrianism",
           "Equestrianism Men's Three-Day Event, Individual"
          ],
          [
           36,
           "Denmark",
           "Equestrianism",
           "Equestrianism Men's Three-Day Event, Team"
          ],
          [
           30,
           "Sweden",
           "Equestrianism",
           "Equestrianism Men's Dressage, Individual"
          ],
          [
           38,
           "Great Britain",
           "Equestrianism",
           "Equestrianism Men's Three-Day Event, Individual"
          ],
          [
           38,
           "Great Britain",
           "Equestrianism",
           "Equestrianism Men's Three-Day Event, Team"
          ],
          [
           32,
           "United States",
           "Equestrianism",
           "Equestrianism Men's Jumping, Team"
          ],
          [
           32,
           "United States",
           "Equestrianism",
           "Equestrianism Men's Three-Day Event, Individual"
          ],
          [
           32,
           "United States",
           "Equestrianism",
           "Equestrianism Men's Three-Day Event, Team"
          ],
          [
           31,
           "Sweden",
           "Equestrianism",
           "Equestrianism Men's Jumping, Individual"
          ],
          [
           32,
           "Sweden",
           "Equestrianism",
           "Equestrianism Men's Jumping, Individual"
          ],
          [
           32,
           "Sweden",
           "Equestrianism",
           "Equestrianism Men's Jumping, Team"
          ],
          [
           47,
           "France",
           "Equestrianism",
           "Equestrianism Men's Jumping, Individual"
          ],
          [
           47,
           "France",
           "Equestrianism",
           "Equestrianism Men's Jumping, Team"
          ],
          [
           47,
           "France",
           "Equestrianism",
           "Equestrianism Men's Three-Day Event, Individual"
          ],
          [
           47,
           "France",
           "Equestrianism",
           "Equestrianism Men's Three-Day Event, Team"
          ],
          [
           30,
           "United States",
           "Equestrianism",
           "Equestrianism Men's Dressage, Individual"
          ],
          [
           30,
           "United States",
           "Equestrianism",
           "Equestrianism Men's Jumping, Team"
          ],
          [
           30,
           "United States",
           "Equestrianism",
           "Equestrianism Men's Three-Day Event, Individual"
          ],
          [
           30,
           "United States",
           "Equestrianism",
           "Equestrianism Men's Three-Day Event, Team"
          ],
          [
           23,
           "Great Britain",
           "Equestrianism",
           "Equestrianism Men's Jumping, Individual"
          ],
          [
           23,
           "Great Britain",
           "Equestrianism",
           "Equestrianism Men's Three-Day Event, Individual"
          ],
          [
           23,
           "Great Britain",
           "Equestrianism",
           "Equestrianism Men's Three-Day Event, Team"
          ],
          [
           32,
           "Sweden",
           "Equestrianism",
           "Equestrianism Men's Three-Day Event, Individual"
          ],
          [
           32,
           "Sweden",
           "Equestrianism",
           "Equestrianism Men's Three-Day Event, Team"
          ],
          [
           null,
           "Russia",
           "Equestrianism",
           "Equestrianism Men's Jumping, Individual"
          ],
          [
           null,
           "Russia",
           "Equestrianism",
           "Equestrianism Men's Jumping, Team"
          ],
          [
           31,
           "Belgium",
           "Equestrianism",
           "Equestrianism Men's Jumping, Individual"
          ],
          [
           31,
           "Belgium",
           "Equestrianism",
           "Equestrianism Men's Three-Day Event, Individual"
          ],
          [
           31,
           "Belgium",
           "Equestrianism",
           "Equestrianism Men's Three-Day Event, Team"
          ],
          [
           32,
           "Russia",
           "Equestrianism",
           "Equestrianism Men's Jumping, Individual"
          ],
          [
           32,
           "Russia",
           "Equestrianism",
           "Equestrianism Men's Jumping, Team"
          ],
          [
           20,
           "Russia",
           "Equestrianism",
           "Equestrianism Men's Jumping, Individual"
          ],
          [
           20,
           "Russia",
           "Equestrianism",
           "Equestrianism Men's Jumping, Team"
          ],
          [
           25,
           "Sweden",
           "Equestrianism",
           "Equestrianism Men's Dressage, Individual"
          ],
          [
           32,
           "Sweden",
           "Equestrianism",
           "Equestrianism Men's Jumping, Team"
          ],
          [
           39,
           "Denmark",
           "Equestrianism",
           "Equestrianism Men's Dressage, Individual"
          ],
          [
           39,
           "Denmark",
           "Equestrianism",
           "Equestrianism Men's Three-Day Event, Individual"
          ],
          [
           39,
           "Denmark",
           "Equestrianism",
           "Equestrianism Men's Three-Day Event, Team"
          ],
          [
           26,
           "Great Britain",
           "Equestrianism",
           "Equestrianism Men's Jumping, Individual"
          ],
          [
           26,
           "Great Britain",
           "Equestrianism",
           "Equestrianism Men's Three-Day Event, Individual"
          ],
          [
           26,
           "Great Britain",
           "Equestrianism",
           "Equestrianism Men's Three-Day Event, Team"
          ],
          [
           34,
           "France",
           "Equestrianism",
           "Equestrianism Men's Dressage, Individual"
          ],
          [
           34,
           "France",
           "Equestrianism",
           "Equestrianism Men's Jumping, Team"
          ],
          [
           34,
           "France",
           "Equestrianism",
           "Equestrianism Men's Three-Day Event, Individual"
          ],
          [
           34,
           "France",
           "Equestrianism",
           "Equestrianism Men's Three-Day Event, Team"
          ],
          [
           null,
           "Russia",
           "Equestrianism",
           "Equestrianism Men's Jumping, Individual"
          ],
          [
           null,
           "Russia",
           "Equestrianism",
           "Equestrianism Men's Jumping, Team"
          ],
          [
           25,
           "Sweden",
           "Equestrianism",
           "Equestrianism Men's Jumping, Individual"
          ],
          [
           25,
           "Sweden",
           "Equestrianism",
           "Equestrianism Men's Dressage, Individual"
          ],
          [
           35,
           "Germany",
           "Equestrianism",
           "Equestrianism Men's Dressage, Individual"
          ],
          [
           27,
           "Germany",
           "Equestrianism",
           "Equestrianism Men's Jumping, Individual"
          ],
          [
           27,
           "Germany",
           "Equestrianism",
           "Equestrianism Men's Jumping, Individual"
          ],
          [
           27,
           "Germany",
           "Equestrianism",
           "Equestrianism Men's Jumping, Team"
          ],
          [
           31,
           "Germany",
           "Equestrianism",
           "Equestrianism Men's Jumping, Individual"
          ],
          [
           29,
           "Germany",
           "Equestrianism",
           "Equestrianism Men's Three-Day Event, Individual"
          ],
          [
           29,
           "Germany",
           "Equestrianism",
           "Equestrianism Men's Three-Day Event, Team"
          ],
          [
           40,
           "Germany",
           "Equestrianism",
           "Equestrianism Men's Dressage, Individual"
          ],
          [
           40,
           "Germany",
           "Equestrianism",
           "Equestrianism Men's Three-Day Event, Individual"
          ],
          [
           40,
           "Germany",
           "Equestrianism",
           "Equestrianism Men's Three-Day Event, Team"
          ],
          [
           41,
           "Germany",
           "Equestrianism",
           "Equestrianism Men's Dressage, Individual"
          ],
          [
           19,
           "Germany",
           "Equestrianism",
           "Equestrianism Men's Jumping, Individual"
          ],
          [
           19,
           "Germany",
           "Equestrianism",
           "Equestrianism Men's Jumping, Team"
          ],
          [
           30,
           "Germany",
           "Equestrianism",
           "Equestrianism Men's Three-Day Event, Individual"
          ],
          [
           30,
           "Germany",
           "Equestrianism",
           "Equestrianism Men's Three-Day Event, Team"
          ],
          [
           23,
           "Russia",
           "Equestrianism",
           "Equestrianism Men's Jumping, Individual"
          ],
          [
           23,
           "Sweden",
           "Equestrianism",
           "Equestrianism Men's Jumping, Team"
          ],
          [
           28,
           "Germany",
           "Equestrianism",
           "Equestrianism Men's Three-Day Event, Individual"
          ],
          [
           28,
           "Germany",
           "Equestrianism",
           "Equestrianism Men's Three-Day Event, Team"
          ],
          [
           null,
           "Chile",
           "Equestrianism",
           "Equestrianism Men's Jumping, Individual"
          ],
          [
           46,
           "Russia",
           "Equestrianism",
           "Equestrianism Men's Dressage, Individual"
          ],
          [
           25,
           "Russia",
           "Equestrianism",
           "Equestrianism Men's Jumping, Individual"
          ]
         ],
         "hovertemplate": "<b>%{hovertext}</b><br><br>Sport=%{customdata[2]}<br>Sex=M<br>Country=%{x}<br>Medal=%{y}<br>Age=%{customdata[0]}<br>Team=%{customdata[1]}<br>Event=%{customdata[3]}<extra></extra>",
         "hovertext": [
          1912,
          1912,
          1912,
          1912,
          1912,
          1912,
          1912,
          1912,
          1912,
          1912,
          1912,
          1912,
          1912,
          1912,
          1912,
          1912,
          1912,
          1912,
          1912,
          1912,
          1912,
          1912,
          1912,
          1912,
          1912,
          1912,
          1912,
          1912,
          1912,
          1912,
          1912,
          1912,
          1912,
          1912,
          1912,
          1912,
          1912,
          1912,
          1912,
          1912,
          1912,
          1912,
          1912,
          1912,
          1912,
          1912,
          1912,
          1912,
          1912,
          1912,
          1912,
          1912,
          1912,
          1912,
          1912,
          1912,
          1912,
          1912,
          1912,
          1912,
          1912,
          1912,
          1912,
          1912,
          1912,
          1912,
          1912,
          1912,
          1912,
          1912,
          1912,
          1912,
          1912,
          1912,
          1912,
          1912,
          1912,
          1912,
          1912,
          1912,
          1912,
          1912,
          1912,
          1912,
          1912,
          1912,
          1912,
          1912,
          1912,
          1912,
          1912,
          1912,
          1912,
          1912,
          1912,
          1912,
          1912,
          1912,
          1912,
          1912,
          1912,
          1912,
          1912,
          1912,
          1912,
          1912,
          1912,
          1912,
          1912,
          1912,
          1912,
          1912,
          1912,
          1912,
          1912,
          1912,
          1912,
          1912,
          1912,
          1912,
          1912,
          1912,
          1912,
          1912,
          1912,
          1912,
          1912,
          1912
         ],
         "legendgroup": "Equestrianism",
         "marker": {
          "color": "#FECB52",
          "pattern": {
           "shape": ""
          }
         },
         "name": "Equestrianism",
         "offsetgroup": "Equestrianism",
         "orientation": "v",
         "showlegend": true,
         "textposition": "auto",
         "type": "bar",
         "x": [
          "SWE",
          "SWE",
          "SWE",
          "SWE",
          "SWE",
          "SWE",
          "GER",
          "FRA",
          "FRA",
          "FRA",
          "FRA",
          "FRA",
          "SWE",
          "SWE",
          "SWE",
          "BEL",
          "BEL",
          "BEL",
          "BEL",
          "BEL",
          "BEL",
          "BEL",
          "BEL",
          "BEL",
          "BEL",
          "BEL",
          "BEL",
          "CHI",
          "GER",
          "GER",
          "FRA",
          "FRA",
          "FRA",
          "FRA",
          "FRA",
          "NOR",
          "NOR",
          "GER",
          "GER",
          "USA",
          "USA",
          "USA",
          "USA",
          "USA",
          "USA",
          "SWE",
          "SWE",
          "SWE",
          "NOR",
          "GBR",
          "GBR",
          "GBR",
          "DEN",
          "NOR",
          "SWE",
          "DEN",
          "DEN",
          "DEN",
          "DEN",
          "SWE",
          "GBR",
          "GBR",
          "USA",
          "USA",
          "USA",
          "SWE",
          "SWE",
          "SWE",
          "FRA",
          "FRA",
          "FRA",
          "FRA",
          "USA",
          "USA",
          "USA",
          "USA",
          "GBR",
          "GBR",
          "GBR",
          "SWE",
          "SWE",
          "RUS",
          "RUS",
          "BEL",
          "BEL",
          "BEL",
          "RUS",
          "RUS",
          "RUS",
          "RUS",
          "SWE",
          "SWE",
          "DEN",
          "DEN",
          "DEN",
          "GBR",
          "GBR",
          "GBR",
          "FRA",
          "FRA",
          "FRA",
          "FRA",
          "RUS",
          "RUS",
          "SWE",
          "SWE",
          "GER",
          "GER",
          "GER",
          "GER",
          "GER",
          "GER",
          "GER",
          "GER",
          "GER",
          "GER",
          "GER",
          "GER",
          "GER",
          "GER",
          "GER",
          "RUS",
          "SWE",
          "GER",
          "GER",
          "CHI",
          "RUS",
          "RUS"
         ],
         "xaxis": "x",
         "y": [
          null,
          null,
          "Gold",
          null,
          "Silver",
          "Gold",
          null,
          null,
          "Gold",
          "Silver",
          "Bronze",
          null,
          null,
          null,
          "Gold",
          null,
          null,
          null,
          null,
          "Bronze",
          null,
          null,
          null,
          null,
          null,
          null,
          null,
          null,
          null,
          "Bronze",
          null,
          null,
          "Silver",
          null,
          null,
          null,
          null,
          null,
          "Bronze",
          null,
          "Bronze",
          null,
          null,
          null,
          "Bronze",
          null,
          null,
          "Gold",
          null,
          null,
          null,
          null,
          null,
          null,
          "Gold",
          null,
          null,
          null,
          null,
          null,
          null,
          null,
          null,
          null,
          "Bronze",
          null,
          null,
          "Gold",
          null,
          "Silver",
          null,
          null,
          null,
          null,
          null,
          "Bronze",
          null,
          null,
          null,
          "Gold",
          "Gold",
          null,
          null,
          null,
          null,
          null,
          null,
          null,
          null,
          null,
          null,
          "Gold",
          null,
          null,
          null,
          null,
          null,
          null,
          null,
          "Silver",
          null,
          null,
          null,
          null,
          null,
          "Bronze",
          null,
          null,
          null,
          "Bronze",
          "Silver",
          null,
          "Silver",
          null,
          null,
          "Silver",
          null,
          null,
          "Bronze",
          "Silver",
          "Silver",
          null,
          "Gold",
          null,
          "Silver",
          null,
          null,
          null
         ],
         "yaxis": "y"
        },
        {
         "alignmentgroup": "True",
         "customdata": [
          [
           19,
           "Sweden",
           "Diving",
           "Diving Men's Platform"
          ],
          [
           19,
           "Sweden",
           "Diving",
           "Diving Men's Plain High"
          ],
          [
           18,
           "Norway",
           "Diving",
           "Diving Men's Platform"
          ],
          [
           18,
           "Norway",
           "Diving",
           "Diving Men's Plain High"
          ],
          [
           25,
           "Sweden",
           "Diving",
           "Diving Men's Platform"
          ],
          [
           23,
           "Sweden",
           "Diving",
           "Diving Men's Springboard"
          ],
          [
           44,
           "Sweden",
           "Diving",
           "Diving Men's Platform"
          ],
          [
           25,
           "Finland",
           "Diving",
           "Diving Men's Platform"
          ],
          [
           25,
           "Finland",
           "Diving",
           "Diving Men's Plain High"
          ],
          [
           null,
           "Russia",
           "Diving",
           "Diving Men's Plain High"
          ],
          [
           27,
           "Germany",
           "Diving",
           "Diving Men's Springboard"
          ],
          [
           27,
           "Germany",
           "Diving",
           "Diving Men's Platform"
          ],
          [
           27,
           "Germany",
           "Diving",
           "Diving Men's Plain High"
          ],
          [
           24,
           "Sweden",
           "Diving",
           "Diving Men's Platform"
          ],
          [
           36,
           "Italy",
           "Diving",
           "Diving Men's Springboard"
          ],
          [
           36,
           "Italy",
           "Diving",
           "Diving Men's Plain High"
          ],
          [
           28,
           "Sweden",
           "Diving",
           "Diving Men's Springboard"
          ],
          [
           28,
           "Sweden",
           "Diving",
           "Diving Men's Platform"
          ],
          [
           28,
           "Sweden",
           "Diving",
           "Diving Men's Plain High"
          ],
          [
           26,
           "Sweden",
           "Diving",
           "Diving Men's Springboard"
          ],
          [
           20,
           "Sweden",
           "Diving",
           "Diving Men's Platform"
          ],
          [
           25,
           "Sweden",
           "Diving",
           "Diving Men's Plain High"
          ],
          [
           17,
           "Sweden",
           "Diving",
           "Diving Men's Springboard"
          ],
          [
           17,
           "Sweden",
           "Diving",
           "Diving Men's Platform"
          ],
          [
           20,
           "Sweden",
           "Diving",
           "Diving Men's Plain High"
          ],
          [
           19,
           "Norway",
           "Diving",
           "Diving Men's Plain High"
          ],
          [
           21,
           "Sweden",
           "Diving",
           "Diving Men's Plain High"
          ],
          [
           27,
           "United States",
           "Diving",
           "Diving Men's Springboard"
          ],
          [
           27,
           "United States",
           "Diving",
           "Diving Men's Platform"
          ],
          [
           27,
           "United States",
           "Diving",
           "Diving Men's Plain High"
          ],
          [
           29,
           "Germany",
           "Diving",
           "Diving Men's Springboard"
          ],
          [
           29,
           "Germany",
           "Diving",
           "Diving Men's Plain High"
          ],
          [
           18,
           "Sweden",
           "Diving",
           "Diving Men's Plain High"
          ],
          [
           18,
           "Finland",
           "Diving",
           "Diving Men's Plain High"
          ],
          [
           19,
           "Sweden",
           "Diving",
           "Diving Men's Springboard"
          ],
          [
           19,
           "Sweden",
           "Diving",
           "Diving Men's Platform"
          ],
          [
           19,
           "Sweden",
           "Diving",
           "Diving Men's Plain High"
          ],
          [
           35,
           "Sweden",
           "Diving",
           "Diving Men's Plain High"
          ],
          [
           38,
           "Sweden",
           "Diving",
           "Diving Men's Platform"
          ],
          [
           38,
           "Sweden",
           "Diving",
           "Diving Men's Plain High"
          ],
          [
           21,
           "Finland",
           "Diving",
           "Diving Men's Platform"
          ],
          [
           21,
           "Finland",
           "Diving",
           "Diving Men's Plain High"
          ],
          [
           18,
           "Germany",
           "Diving",
           "Diving Men's Springboard"
          ],
          [
           18,
           "Germany",
           "Diving",
           "Diving Men's Platform"
          ],
          [
           18,
           "Germany",
           "Diving",
           "Diving Men's Plain High"
          ],
          [
           35,
           "Canada",
           "Diving",
           "Diving Men's Platform"
          ],
          [
           35,
           "Canada",
           "Diving",
           "Diving Men's Plain High"
          ],
          [
           17,
           "United States",
           "Diving",
           "Diving Men's Springboard"
          ],
          [
           17,
           "United States",
           "Diving",
           "Diving Men's Platform"
          ],
          [
           17,
           "United States",
           "Diving",
           "Diving Men's Plain High"
          ],
          [
           24,
           "Sweden",
           "Diving",
           "Diving Men's Plain High"
          ],
          [
           17,
           "Sweden",
           "Diving",
           "Diving Men's Springboard"
          ],
          [
           39,
           "Finland",
           "Diving",
           "Diving Men's Plain High"
          ],
          [
           29,
           "Great Britain",
           "Diving",
           "Diving Men's Springboard"
          ],
          [
           28,
           "Sweden",
           "Diving",
           "Diving Men's Springboard"
          ],
          [
           28,
           "Sweden",
           "Diving",
           "Diving Men's Plain High"
          ],
          [
           16,
           "Sweden",
           "Diving",
           "Diving Men's Platform"
          ],
          [
           17,
           "Sweden",
           "Diving",
           "Diving Men's Platform"
          ],
          [
           17,
           "Sweden",
           "Diving",
           "Diving Men's Plain High"
          ],
          [
           20,
           "Finland",
           "Diving",
           "Diving Men's Platform"
          ],
          [
           20,
           "Finland",
           "Diving",
           "Diving Men's Plain High"
          ],
          [
           48,
           "Sweden",
           "Diving",
           "Diving Men's Springboard"
          ],
          [
           28,
           "Norway",
           "Diving",
           "Diving Men's Plain High"
          ],
          [
           23,
           "Finland",
           "Diving",
           "Diving Men's Springboard"
          ],
          [
           23,
           "Finland",
           "Diving",
           "Diving Men's Platform"
          ],
          [
           23,
           "Finland",
           "Diving",
           "Diving Men's Plain High"
          ],
          [
           25,
           "Great Britain",
           "Diving",
           "Diving Men's Platform"
          ],
          [
           25,
           "Great Britain",
           "Diving",
           "Diving Men's Plain High"
          ],
          [
           30,
           "Canada",
           "Diving",
           "Diving Men's Springboard"
          ],
          [
           22,
           "Germany",
           "Diving",
           "Diving Men's Springboard"
          ],
          [
           22,
           "Germany",
           "Diving",
           "Diving Men's Platform"
          ],
          [
           22,
           "Germany",
           "Diving",
           "Diving Men's Plain High"
          ]
         ],
         "hovertemplate": "<b>%{hovertext}</b><br><br>Sport=%{customdata[2]}<br>Sex=M<br>Country=%{x}<br>Medal=%{y}<br>Age=%{customdata[0]}<br>Team=%{customdata[1]}<br>Event=%{customdata[3]}<extra></extra>",
         "hovertext": [
          1912,
          1912,
          1912,
          1912,
          1912,
          1912,
          1912,
          1912,
          1912,
          1912,
          1912,
          1912,
          1912,
          1912,
          1912,
          1912,
          1912,
          1912,
          1912,
          1912,
          1912,
          1912,
          1912,
          1912,
          1912,
          1912,
          1912,
          1912,
          1912,
          1912,
          1912,
          1912,
          1912,
          1912,
          1912,
          1912,
          1912,
          1912,
          1912,
          1912,
          1912,
          1912,
          1912,
          1912,
          1912,
          1912,
          1912,
          1912,
          1912,
          1912,
          1912,
          1912,
          1912,
          1912,
          1912,
          1912,
          1912,
          1912,
          1912,
          1912,
          1912,
          1912,
          1912,
          1912,
          1912,
          1912,
          1912,
          1912,
          1912,
          1912,
          1912,
          1912
         ],
         "legendgroup": "Diving",
         "marker": {
          "color": "#636efa",
          "pattern": {
           "shape": ""
          }
         },
         "name": "Diving",
         "offsetgroup": "Diving",
         "orientation": "v",
         "showlegend": true,
         "textposition": "auto",
         "type": "bar",
         "x": [
          "SWE",
          "SWE",
          "NOR",
          "NOR",
          "SWE",
          "SWE",
          "SWE",
          "FIN",
          "FIN",
          "RUS",
          "GER",
          "GER",
          "GER",
          "SWE",
          "ITA",
          "ITA",
          "SWE",
          "SWE",
          "SWE",
          "SWE",
          "SWE",
          "SWE",
          "SWE",
          "SWE",
          "SWE",
          "NOR",
          "SWE",
          "USA",
          "USA",
          "USA",
          "GER",
          "GER",
          "SWE",
          "FIN",
          "SWE",
          "SWE",
          "SWE",
          "SWE",
          "SWE",
          "SWE",
          "FIN",
          "FIN",
          "GER",
          "GER",
          "GER",
          "CAN",
          "CAN",
          "USA",
          "USA",
          "USA",
          "SWE",
          "SWE",
          "FIN",
          "GBR",
          "SWE",
          "SWE",
          "SWE",
          "SWE",
          "SWE",
          "FIN",
          "FIN",
          "SWE",
          "NOR",
          "FIN",
          "FIN",
          "FIN",
          "GBR",
          "GBR",
          "CAN",
          "GER",
          "GER",
          "GER"
         ],
         "xaxis": "x",
         "y": [
          "Gold",
          "Gold",
          null,
          null,
          null,
          null,
          null,
          null,
          null,
          null,
          "Bronze",
          null,
          null,
          "Bronze",
          null,
          null,
          null,
          null,
          null,
          null,
          null,
          null,
          null,
          null,
          null,
          null,
          null,
          null,
          null,
          null,
          "Gold",
          null,
          null,
          null,
          null,
          null,
          "Bronze",
          null,
          null,
          "Silver",
          null,
          null,
          "Silver",
          null,
          null,
          null,
          null,
          null,
          null,
          null,
          null,
          null,
          null,
          null,
          null,
          null,
          null,
          null,
          null,
          null,
          null,
          null,
          null,
          null,
          null,
          null,
          null,
          null,
          null,
          null,
          "Silver",
          null
         ],
         "yaxis": "y"
        },
        {
         "alignmentgroup": "True",
         "customdata": [
          [
           15,
           "Sweden",
           "Diving",
           "Diving Women's Plain High"
          ],
          [
           17,
           "Sweden",
           "Diving",
           "Diving Women's Plain High"
          ],
          [
           17,
           "Sweden",
           "Diving",
           "Diving Women's Plain High"
          ],
          [
           19,
           "Sweden",
           "Diving",
           "Diving Women's Plain High"
          ],
          [
           18,
           "Sweden",
           "Diving",
           "Diving Women's Plain High"
          ],
          [
           21,
           "Sweden",
           "Diving",
           "Diving Women's Plain High"
          ],
          [
           17,
           "Sweden",
           "Diving",
           "Diving Women's Plain High"
          ],
          [
           19,
           "Austria",
           "Diving",
           "Diving Women's Plain High"
          ],
          [
           21,
           "Sweden",
           "Diving",
           "Diving Women's Plain High"
          ],
          [
           18,
           "Sweden",
           "Diving",
           "Diving Women's Plain High"
          ],
          [
           22,
           "Sweden",
           "Diving",
           "Diving Women's Plain High"
          ],
          [
           25,
           "Sweden",
           "Diving",
           "Diving Women's Plain High"
          ],
          [
           22,
           "Sweden",
           "Diving",
           "Diving Women's Plain High"
          ],
          [
           17,
           "Great Britain",
           "Diving",
           "Diving Women's Plain High"
          ]
         ],
         "hovertemplate": "<b>%{hovertext}</b><br><br>Sport=%{customdata[2]}<br>Sex=F<br>Country=%{x}<br>Medal=%{y}<br>Age=%{customdata[0]}<br>Team=%{customdata[1]}<br>Event=%{customdata[3]}<extra></extra>",
         "hovertext": [
          1912,
          1912,
          1912,
          1912,
          1912,
          1912,
          1912,
          1912,
          1912,
          1912,
          1912,
          1912,
          1912,
          1912
         ],
         "legendgroup": "Diving",
         "marker": {
          "color": "#636efa",
          "pattern": {
           "shape": ""
          }
         },
         "name": "Diving",
         "offsetgroup": "Diving",
         "orientation": "v",
         "showlegend": false,
         "textposition": "auto",
         "type": "bar",
         "x": [
          "SWE",
          "SWE",
          "SWE",
          "SWE",
          "SWE",
          "SWE",
          "SWE",
          "AUT",
          "SWE",
          "SWE",
          "SWE",
          "SWE",
          "SWE",
          "GBR"
         ],
         "xaxis": "x2",
         "y": [
          null,
          null,
          null,
          null,
          null,
          null,
          "Gold",
          null,
          null,
          null,
          null,
          "Silver",
          null,
          "Bronze"
         ],
         "yaxis": "y2"
        },
        {
         "alignmentgroup": "True",
         "customdata": [
          [
           29,
           "Russia",
           "Modern Pentathlon",
           "Modern Pentathlon Men's Individual"
          ],
          [
           30,
           "Russia",
           "Modern Pentathlon",
           "Modern Pentathlon Men's Individual"
          ],
          [
           30,
           "Sweden",
           "Modern Pentathlon",
           "Modern Pentathlon Men's Individual"
          ],
          [
           27,
           "Austria",
           "Modern Pentathlon",
           "Modern Pentathlon Men's Individual"
          ],
          [
           35,
           "France",
           "Modern Pentathlon",
           "Modern Pentathlon Men's Individual"
          ],
          [
           32,
           "Sweden",
           "Modern Pentathlon",
           "Modern Pentathlon Men's Individual"
          ],
          [
           24,
           "Great Britain",
           "Modern Pentathlon",
           "Modern Pentathlon Men's Individual"
          ],
          [
           24,
           "Sweden",
           "Modern Pentathlon",
           "Modern Pentathlon Men's Individual"
          ],
          [
           29,
           "Sweden",
           "Modern Pentathlon",
           "Modern Pentathlon Men's Individual"
          ],
          [
           25,
           "Sweden",
           "Modern Pentathlon",
           "Modern Pentathlon Men's Individual"
          ],
          [
           32,
           "France",
           "Modern Pentathlon",
           "Modern Pentathlon Men's Individual"
          ],
          [
           30,
           "Netherlands",
           "Modern Pentathlon",
           "Modern Pentathlon Men's Individual"
          ],
          [
           35,
           "Great Britain",
           "Modern Pentathlon",
           "Modern Pentathlon Men's Individual"
          ],
          [
           30,
           "Great Britain",
           "Modern Pentathlon",
           "Modern Pentathlon Men's Individual"
          ],
          [
           27,
           "Sweden",
           "Modern Pentathlon",
           "Modern Pentathlon Men's Individual"
          ],
          [
           26,
           "Sweden",
           "Modern Pentathlon",
           "Modern Pentathlon Men's Individual"
          ],
          [
           22,
           "Denmark",
           "Modern Pentathlon",
           "Modern Pentathlon Men's Individual"
          ],
          [
           26,
           "Denmark",
           "Modern Pentathlon",
           "Modern Pentathlon Men's Individual"
          ],
          [
           32,
           "Sweden",
           "Modern Pentathlon",
           "Modern Pentathlon Men's Individual"
          ],
          [
           27,
           "Sweden",
           "Modern Pentathlon",
           "Modern Pentathlon Men's Individual"
          ],
          [
           27,
           "Sweden",
           "Modern Pentathlon",
           "Modern Pentathlon Men's Individual"
          ],
          [
           null,
           "Russia",
           "Modern Pentathlon",
           "Modern Pentathlon Men's Individual"
          ],
          [
           23,
           "Norway",
           "Modern Pentathlon",
           "Modern Pentathlon Men's Individual"
          ],
          [
           21,
           "Norway",
           "Modern Pentathlon",
           "Modern Pentathlon Men's Individual"
          ],
          [
           26,
           "United States",
           "Modern Pentathlon",
           "Modern Pentathlon Men's Individual"
          ],
          [
           53,
           "Germany",
           "Modern Pentathlon",
           "Modern Pentathlon Men's Individual"
          ],
          [
           26,
           "Sweden",
           "Modern Pentathlon",
           "Modern Pentathlon Men's Individual"
          ],
          [
           28,
           "Denmark",
           "Modern Pentathlon",
           "Modern Pentathlon Men's Individual"
          ],
          [
           31,
           "Russia",
           "Modern Pentathlon",
           "Modern Pentathlon Men's Individual"
          ],
          [
           25,
           "Sweden",
           "Modern Pentathlon",
           "Modern Pentathlon Men's Individual"
          ],
          [
           32,
           "Russia",
           "Modern Pentathlon",
           "Modern Pentathlon Men's Individual"
          ],
          [
           28,
           "Denmark",
           "Modern Pentathlon",
           "Modern Pentathlon Men's Individual"
          ]
         ],
         "hovertemplate": "<b>%{hovertext}</b><br><br>Sport=%{customdata[2]}<br>Sex=M<br>Country=%{x}<br>Medal=%{y}<br>Age=%{customdata[0]}<br>Team=%{customdata[1]}<br>Event=%{customdata[3]}<extra></extra>",
         "hovertext": [
          1912,
          1912,
          1912,
          1912,
          1912,
          1912,
          1912,
          1912,
          1912,
          1912,
          1912,
          1912,
          1912,
          1912,
          1912,
          1912,
          1912,
          1912,
          1912,
          1912,
          1912,
          1912,
          1912,
          1912,
          1912,
          1912,
          1912,
          1912,
          1912,
          1912,
          1912,
          1912
         ],
         "legendgroup": "Modern Pentathlon",
         "marker": {
          "color": "#EF553B",
          "pattern": {
           "shape": ""
          }
         },
         "name": "Modern Pentathlon",
         "offsetgroup": "Modern Pentathlon",
         "orientation": "v",
         "showlegend": true,
         "textposition": "auto",
         "type": "bar",
         "x": [
          "RUS",
          "RUS",
          "SWE",
          "AUT",
          "FRA",
          "SWE",
          "GBR",
          "SWE",
          "SWE",
          "SWE",
          "FRA",
          "NED",
          "GBR",
          "GBR",
          "SWE",
          "SWE",
          "DEN",
          "DEN",
          "SWE",
          "SWE",
          "SWE",
          "RUS",
          "NOR",
          "NOR",
          "USA",
          "GER",
          "SWE",
          "DEN",
          "RUS",
          "SWE",
          "RUS",
          "DEN"
         ],
         "xaxis": "x",
         "y": [
          null,
          null,
          "Silver",
          null,
          null,
          null,
          null,
          null,
          "Bronze",
          null,
          null,
          null,
          null,
          null,
          null,
          null,
          null,
          null,
          null,
          "Gold",
          null,
          null,
          null,
          null,
          null,
          null,
          null,
          null,
          null,
          null,
          null,
          null
         ],
         "yaxis": "y"
        },
        {
         "alignmentgroup": "True",
         "customdata": [
          [
           19,
           "Gteborgs Roddklubb-1",
           "Rowing",
           "Rowing Men's Coxed Eights"
          ],
          [
           19,
           "Socit Nautique de Bayonne",
           "Rowing",
           "Rowing Men's Coxed Fours, Outriggers"
          ],
          [
           30,
           "Nykjbings paa Falster",
           "Rowing",
           "Rowing Men's Coxed Fours, Inriggers"
          ],
          [
           26,
           "Gteborgs Roddklubb-1",
           "Rowing",
           "Rowing Men's Coxed Eights"
          ],
          [
           24,
           "Socit Nautique de Bayonne",
           "Rowing",
           "Rowing Men's Coxed Eights"
          ],
          [
           32,
           "Gteborgs Roddklubb-1",
           "Rowing",
           "Rowing Men's Coxed Eights"
          ],
          [
           21,
           "Socit Nautique de Bayonne",
           "Rowing",
           "Rowing Men's Coxed Eights"
          ],
          [
           21,
           "Ludwigshafener Ruderverein",
           "Rowing",
           "Rowing Men's Coxed Fours, Outriggers"
          ],
          [
           24,
           "Hungaria Evezos Egylet",
           "Rowing",
           "Rowing Men's Coxed Eights"
          ],
          [
           25,
           "Berliner Ruderverein von 1876-2",
           "Rowing",
           "Rowing Men's Coxed Eights"
          ],
          [
           27,
           "Berliner Ruderverein von 1876-2",
           "Rowing",
           "Rowing Men's Coxed Eights"
          ],
          [
           43,
           "Thames Rowing Club",
           "Rowing",
           "Rowing Men's Coxed Fours, Outriggers"
          ],
          [
           22,
           "Gteborgs Roddklubb-1",
           "Rowing",
           "Rowing Men's Coxed Eights"
          ],
          [
           22,
           "Polyteknisk Roklub-1",
           "Rowing",
           "Rowing Men's Coxed Fours, Outriggers"
          ],
          [
           24,
           "Kristiania Roklub-1",
           "Rowing",
           "Rowing Men's Coxed Fours, Inriggers"
          ],
          [
           24,
           "Kristiania Roklub",
           "Rowing",
           "Rowing Men's Coxed Eights"
          ],
          [
           29,
           "Ormsund Roklub-2",
           "Rowing",
           "Rowing Men's Coxed Fours, Inriggers"
          ],
          [
           23,
           "New College, Oxford-2",
           "Rowing",
           "Rowing Men's Coxed Eights"
          ],
          [
           35,
           "Toronto Argonauts",
           "Rowing",
           "Rowing Men's Coxed Eights"
          ],
          [
           34,
           "Gteborgs Roddfrening-2",
           "Rowing",
           "Rowing Men's Coxed Fours, Inriggers"
          ],
          [
           26,
           "Gteborgs Roddklubb-1",
           "Rowing",
           "Rowing Men's Coxed Eights"
          ],
          [
           29,
           "Berliner Ruderverein von 1876-2",
           "Rowing",
           "Rowing Men's Coxed Eights"
          ],
          [
           25,
           "Roddklubben af 1912-1",
           "Rowing",
           "Rowing Men's Coxed Fours, Inriggers"
          ],
          [
           25,
           "Roddklubben af 1912-2",
           "Rowing",
           "Rowing Men's Coxed Eights"
          ],
          [
           23,
           "Roddklubben af 1912-2",
           "Rowing",
           "Rowing Men's Coxed Eights"
          ],
          [
           25,
           "Roddklubben af 1912-1",
           "Rowing",
           "Rowing Men's Coxed Fours, Inriggers"
          ],
          [
           25,
           "Roddklubben af 1912-2",
           "Rowing",
           "Rowing Men's Coxed Eights"
          ],
          [
           20,
           "New College, Oxford-2",
           "Rowing",
           "Rowing Men's Coxed Eights"
          ],
          [
           20,
           "Leander Club-1",
           "Rowing",
           "Rowing Men's Coxed Eights"
          ],
          [
           26,
           "Canada",
           "Rowing",
           "Rowing Men's Single Sculls"
          ],
          [
           25,
           "Socit Nautique de Bayonne",
           "Rowing",
           "Rowing Men's Coxed Eights"
          ],
          [
           26,
           "Thames Rowing Club",
           "Rowing",
           "Rowing Men's Coxed Fours, Outriggers"
          ],
          [
           27,
           "Berliner Ruderclub Sport-Borussia-1",
           "Rowing",
           "Rowing Men's Coxed Eights"
          ],
          [
           21,
           "Polyteknisk Roklub-1",
           "Rowing",
           "Rowing Men's Coxed Fours, Outriggers"
          ],
          [
           21,
           "R.-V. Germania, Leitmeritz",
           "Rowing",
           "Rowing Men's Coxed Fours, Outriggers"
          ],
          [
           21,
           "Roddklubben af 1912-1",
           "Rowing",
           "Rowing Men's Coxed Fours, Inriggers"
          ],
          [
           21,
           "Roddklubben af 1912-2",
           "Rowing",
           "Rowing Men's Coxed Eights"
          ],
          [
           22,
           "Studenternes Roklub-2",
           "Rowing",
           "Rowing Men's Coxed Fours, Outriggers"
          ],
          [
           20,
           "Studenternes Roklub-2",
           "Rowing",
           "Rowing Men's Coxed Fours, Outriggers"
          ],
          [
           22,
           "Berliner Ruderverein von 1876-2",
           "Rowing",
           "Rowing Men's Coxed Eights"
          ],
          [
           29,
           "Berliner Ruderclub Sport-Borussia-1",
           "Rowing",
           "Rowing Men's Coxed Eights"
          ],
          [
           25,
           "Berliner Ruderclub Sport-Borussia-1",
           "Rowing",
           "Rowing Men's Coxed Eights"
          ],
          [
           16,
           "Socit Nautique de Bayonne",
           "Rowing",
           "Rowing Men's Coxed Fours, Outriggers"
          ],
          [
           16,
           "Socit Nautique de Bayonne",
           "Rowing",
           "Rowing Men's Coxed Fours, Inriggers"
          ],
          [
           16,
           "Socit Nautique de Bayonne",
           "Rowing",
           "Rowing Men's Coxed Eights"
          ],
          [
           25,
           "Socit Nautique de Bayonne",
           "Rowing",
           "Rowing Men's Coxed Eights"
          ],
          [
           25,
           "Gteborgs Roddklubb-1",
           "Rowing",
           "Rowing Men's Coxed Eights"
          ],
          [
           32,
           "Studenternes Roklub-2",
           "Rowing",
           "Rowing Men's Coxed Fours, Outriggers"
          ],
          [
           28,
           "Vaxholm Roddklubb",
           "Rowing",
           "Rowing Men's Coxed Fours, Outriggers"
          ],
          [
           18,
           "Roklubb Kbnhavn-2",
           "Rowing",
           "Rowing Men's Coxed Fours, Outriggers"
          ],
          [
           32,
           "Kristiania Roklub-1",
           "Rowing",
           "Rowing Men's Coxed Fours, Inriggers"
          ],
          [
           32,
           "Kristiania Roklub",
           "Rowing",
           "Rowing Men's Coxed Eights"
          ],
          [
           32,
           "Ludwigshafener Ruderverein",
           "Rowing",
           "Rowing Men's Coxed Fours, Outriggers"
          ],
          [
           26,
           "Ludwigshafener Ruderverein",
           "Rowing",
           "Rowing Men's Coxed Fours, Outriggers"
          ],
          [
           21,
           "New College, Oxford-2",
           "Rowing",
           "Rowing Men's Coxed Eights"
          ],
          [
           33,
           "Sydney Rowing Club",
           "Rowing",
           "Rowing Men's Coxed Eights"
          ],
          [
           22,
           "Leander Club-1",
           "Rowing",
           "Rowing Men's Coxed Eights"
          ],
          [
           33,
           "Helsingfors R. K.",
           "Rowing",
           "Rowing Men's Coxed Fours, Outriggers"
          ],
          [
           26,
           "Polyteknisk Roklub-1",
           "Rowing",
           "Rowing Men's Coxed Fours, Outriggers"
          ],
          [
           27,
           "Sydney Rowing Club",
           "Rowing",
           "Rowing Men's Coxed Eights"
          ],
          [
           20,
           "Berliner Ruderclub Sport-Borussia-1",
           "Rowing",
           "Rowing Men's Coxed Eights"
          ],
          [
           25,
           "Gteborgs Roddfrening-2",
           "Rowing",
           "Rowing Men's Coxed Fours, Inriggers"
          ],
          [
           27,
           "Gteborgs Roddfrening-2",
           "Rowing",
           "Rowing Men's Coxed Fours, Inriggers"
          ],
          [
           25,
           "Toronto Argonauts",
           "Rowing",
           "Rowing Men's Coxed Eights"
          ],
          [
           24,
           "Socit Nautique de Bayonne",
           "Rowing",
           "Rowing Men's Coxed Fours, Inriggers"
          ],
          [
           23,
           "Leander Club-1",
           "Rowing",
           "Rowing Men's Coxed Eights"
          ],
          [
           27,
           "Berliner Ruderclub Sport-Borussia-1",
           "Rowing",
           "Rowing Men's Coxed Eights"
          ],
          [
           26,
           "Leander Club-1",
           "Rowing",
           "Rowing Men's Coxed Eights"
          ],
          [
           19,
           "New College, Oxford-2",
           "Rowing",
           "Rowing Men's Coxed Eights"
          ],
          [
           25,
           "Roklubb Kbnhavn-2",
           "Rowing",
           "Rowing Men's Coxed Fours, Outriggers"
          ],
          [
           18,
           "Hungaria Evezos Egylet",
           "Rowing",
           "Rowing Men's Coxed Eights"
          ],
          [
           27,
           "Kristiania Roklub-1",
           "Rowing",
           "Rowing Men's Coxed Fours, Inriggers"
          ],
          [
           27,
           "Kristiania Roklub",
           "Rowing",
           "Rowing Men's Coxed Eights"
          ],
          [
           22,
           "Toronto Argonauts",
           "Rowing",
           "Rowing Men's Coxed Eights"
          ],
          [
           27,
           "Finland",
           "Rowing",
           "Rowing Men's Single Sculls"
          ],
          [
           21,
           "Nykjbings paa Falster",
           "Rowing",
           "Rowing Men's Coxed Fours, Inriggers"
          ],
          [
           34,
           "Nykjbings paa Falster",
           "Rowing",
           "Rowing Men's Coxed Fours, Inriggers"
          ],
          [
           29,
           "Sydney Rowing Club",
           "Rowing",
           "Rowing Men's Coxed Eights"
          ],
          [
           33,
           "Kristiania Roklub-1",
           "Rowing",
           "Rowing Men's Coxed Fours, Inriggers"
          ],
          [
           33,
           "Kristiania Roklub",
           "Rowing",
           "Rowing Men's Coxed Eights"
          ],
          [
           32,
           "Austria",
           "Rowing",
           "Rowing Men's Single Sculls"
          ],
          [
           27,
           "Helsingfors R. K.",
           "Rowing",
           "Rowing Men's Coxed Fours, Outriggers"
          ],
          [
           25,
           "Kristiania Roklub",
           "Rowing",
           "Rowing Men's Coxed Eights"
          ],
          [
           20,
           "Ormsund Roklub-2",
           "Rowing",
           "Rowing Men's Coxed Fours, Inriggers"
          ],
          [
           21,
           "Germany",
           "Rowing",
           "Rowing Men's Single Sculls"
          ],
          [
           19,
           "Ormsund Roklub-2",
           "Rowing",
           "Rowing Men's Coxed Fours, Inriggers"
          ],
          [
           19,
           "Leander Club-1",
           "Rowing",
           "Rowing Men's Coxed Eights"
          ],
          [
           29,
           "Kristiania Roklub",
           "Rowing",
           "Rowing Men's Coxed Eights"
          ],
          [
           23,
           "Ormsund Roklub-2",
           "Rowing",
           "Rowing Men's Coxed Fours, Inriggers"
          ],
          [
           21,
           "R.-V. Germania, Leitmeritz",
           "Rowing",
           "Rowing Men's Coxed Fours, Outriggers"
          ],
          [
           25,
           "Hungaria Evezos Egylet",
           "Rowing",
           "Rowing Men's Coxed Eights"
          ],
          [
           26,
           "Gteborgs Roddfrening-2",
           "Rowing",
           "Rowing Men's Coxed Fours, Inriggers"
          ],
          [
           34,
           "Gteborgs Roddfrening-2",
           "Rowing",
           "Rowing Men's Coxed Fours, Inriggers"
          ],
          [
           22,
           "Roklubb Kbnhavn-2",
           "Rowing",
           "Rowing Men's Coxed Fours, Outriggers"
          ],
          [
           34,
           "Toronto Argonauts",
           "Rowing",
           "Rowing Men's Coxed Eights"
          ],
          [
           31,
           "Great Britain",
           "Rowing",
           "Rowing Men's Single Sculls"
          ],
          [
           26,
           "Leander Club-1",
           "Rowing",
           "Rowing Men's Coxed Eights"
          ],
          [
           23,
           "Kristiania Roklub-1",
           "Rowing",
           "Rowing Men's Coxed Fours, Outriggers"
          ],
          [
           22,
           "R.-V. Germania, Leitmeritz",
           "Rowing",
           "Rowing Men's Coxed Fours, Outriggers"
          ],
          [
           34,
           "Kristiania Roklub",
           "Rowing",
           "Rowing Men's Coxed Eights"
          ],
          [
           34,
           "R.-V. Germania, Leitmeritz",
           "Rowing",
           "Rowing Men's Coxed Fours, Outriggers"
          ],
          [
           34,
           "Russia",
           "Rowing",
           "Rowing Men's Single Sculls"
          ],
          [
           25,
           "Socit Nautique de Bayonne",
           "Rowing",
           "Rowing Men's Coxed Eights"
          ],
          [
           23,
           "Vaxholm Roddklubb",
           "Rowing",
           "Rowing Men's Coxed Fours, Outriggers"
          ],
          [
           25,
           "Vaxholm Roddklubb",
           "Rowing",
           "Rowing Men's Coxed Fours, Outriggers"
          ],
          [
           21,
           "Berliner Ruderclub Sport-Borussia-1",
           "Rowing",
           "Rowing Men's Coxed Eights"
          ],
          [
           20,
           "Kristiania Roklub-1",
           "Rowing",
           "Rowing Men's Coxed Fours, Outriggers"
          ],
          [
           29,
           "Socit Nautique de Bayonne",
           "Rowing",
           "Rowing Men's Coxed Eights"
          ],
          [
           24,
           "Socit Nautique de Bayonne",
           "Rowing",
           "Rowing Men's Coxed Eights"
          ],
          [
           27,
           "Hungary",
           "Rowing",
           "Rowing Men's Single Sculls"
          ],
          [
           21,
           "Berliner Ruderverein von 1876-2",
           "Rowing",
           "Rowing Men's Coxed Eights"
          ],
          [
           23,
           "New College, Oxford-2",
           "Rowing",
           "Rowing Men's Coxed Eights"
          ],
          [
           26,
           "Thames Rowing Club",
           "Rowing",
           "Rowing Men's Coxed Fours, Outriggers"
          ],
          [
           27,
           "Helsingfors R. K.",
           "Rowing",
           "Rowing Men's Coxed Fours, Outriggers"
          ],
          [
           24,
           "Ludwigshafener Ruderverein",
           "Rowing",
           "Rowing Men's Coxed Fours, Outriggers"
          ],
          [
           33,
           "Hungaria Evezos Egylet",
           "Rowing",
           "Rowing Men's Coxed Eights"
          ],
          [
           27,
           "Berliner Ruderverein von 1876-2",
           "Rowing",
           "Rowing Men's Coxed Eights"
          ],
          [
           null,
           "Roddklubben af 1912-2",
           "Rowing",
           "Rowing Men's Coxed Eights"
          ],
          [
           20,
           "R.-V. Germania, Leitmeritz",
           "Rowing",
           "Rowing Men's Coxed Fours, Outriggers"
          ],
          [
           25,
           "Toronto Argonauts",
           "Rowing",
           "Rowing Men's Coxed Eights"
          ],
          [
           21,
           "Australasia",
           "Rowing",
           "Rowing Men's Single Sculls"
          ],
          [
           30,
           "Socit Nautique de Bayonne",
           "Rowing",
           "Rowing Men's Coxed Fours, Inriggers"
          ],
          [
           27,
           "Hungary",
           "Rowing",
           "Rowing Men's Single Sculls"
          ],
          [
           28,
           "Sydney Rowing Club",
           "Rowing",
           "Rowing Men's Coxed Eights"
          ],
          [
           32,
           "Socit Nautique de Bayonne",
           "Rowing",
           "Rowing Men's Coxed Fours, Outriggers"
          ],
          [
           24,
           "Nykjbings paa Falster",
           "Rowing",
           "Rowing Men's Coxed Fours, Inriggers"
          ],
          [
           23,
           "Toronto Argonauts",
           "Rowing",
           "Rowing Men's Coxed Eights"
          ],
          [
           19,
           "Royal Club Nautique de Gand",
           "Rowing",
           "Rowing Men's Coxed Fours, Outriggers"
          ],
          [
           31,
           "Helsingfors R. K.",
           "Rowing",
           "Rowing Men's Coxed Fours, Outriggers"
          ],
          [
           30,
           "Helsingfors R. K.",
           "Rowing",
           "Rowing Men's Coxed Fours, Outriggers"
          ],
          [
           21,
           "Ormsund Roklub-2",
           "Rowing",
           "Rowing Men's Coxed Fours, Inriggers"
          ],
          [
           28,
           "Sydney Rowing Club",
           "Rowing",
           "Rowing Men's Coxed Eights"
          ],
          [
           23,
           "New College, Oxford-2",
           "Rowing",
           "Rowing Men's Coxed Eights"
          ],
          [
           27,
           "Nykjbings paa Falster",
           "Rowing",
           "Rowing Men's Coxed Fours, Inriggers"
          ],
          [
           19,
           "New College, Oxford-2",
           "Rowing",
           "Rowing Men's Coxed Eights"
          ],
          [
           23,
           "Socit Nautique de Bayonne",
           "Rowing",
           "Rowing Men's Coxed Fours, Inriggers"
          ],
          [
           22,
           "Roklubb Kbnhavn-2",
           "Rowing",
           "Rowing Men's Coxed Fours, Outriggers"
          ],
          [
           22,
           "Berliner Ruderverein von 1876-2",
           "Rowing",
           "Rowing Men's Coxed Eights"
          ],
          [
           22,
           "Berliner Ruderclub Sport-Borussia-1",
           "Rowing",
           "Rowing Men's Coxed Eights"
          ],
          [
           29,
           "Socit Nautique de Bayonne",
           "Rowing",
           "Rowing Men's Coxed Fours, Inriggers"
          ],
          [
           27,
           "Toronto Argonauts",
           "Rowing",
           "Rowing Men's Coxed Eights"
          ],
          [
           27,
           "Studenternes Roklub-2",
           "Rowing",
           "Rowing Men's Coxed Fours, Outriggers"
          ],
          [
           25,
           "Sydney Rowing Club",
           "Rowing",
           "Rowing Men's Coxed Eights"
          ],
          [
           20,
           "Roddklubben af 1912-1",
           "Rowing",
           "Rowing Men's Coxed Fours, Inriggers"
          ],
          [
           20,
           "Roddklubben af 1912-2",
           "Rowing",
           "Rowing Men's Coxed Eights"
          ],
          [
           27,
           "Thames Rowing Club",
           "Rowing",
           "Rowing Men's Coxed Fours, Outriggers"
          ],
          [
           24,
           "Berliner Ruderverein von 1876-2",
           "Rowing",
           "Rowing Men's Coxed Eights"
          ],
          [
           26,
           "Gteborgs Roddklubb-1",
           "Rowing",
           "Rowing Men's Coxed Eights"
          ],
          [
           25,
           "Sydney Rowing Club",
           "Rowing",
           "Rowing Men's Coxed Eights"
          ],
          [
           26,
           "Socit Nautique de Bayonne",
           "Rowing",
           "Rowing Men's Coxed Fours, Outriggers"
          ],
          [
           22,
           "Studenternes Roklub-2",
           "Rowing",
           "Rowing Men's Coxed Fours, Outriggers"
          ],
          [
           29,
           "Denmark",
           "Rowing",
           "Rowing Men's Single Sculls"
          ],
          [
           29,
           "Polyteknisk Roklub-1",
           "Rowing",
           "Rowing Men's Coxed Fours, Outriggers"
          ],
          [
           29,
           "Toronto Argonauts",
           "Rowing",
           "Rowing Men's Coxed Eights"
          ],
          [
           20,
           "Roklubb Kbnhavn-2",
           "Rowing",
           "Rowing Men's Coxed Fours, Outriggers"
          ],
          [
           27,
           "Kristiania Roklub-1",
           "Rowing",
           "Rowing Men's Coxed Fours, Inriggers"
          ],
          [
           27,
           "Kristiania Roklub",
           "Rowing",
           "Rowing Men's Coxed Eights"
          ],
          [
           22,
           "Kristiania Roklub",
           "Rowing",
           "Rowing Men's Coxed Eights"
          ],
          [
           22,
           "Gteborgs Roddklubb-1",
           "Rowing",
           "Rowing Men's Coxed Eights"
          ],
          [
           24,
           "Bohemia",
           "Rowing",
           "Rowing Men's Single Sculls"
          ],
          [
           23,
           "Socit Nautique de Bayonne",
           "Rowing",
           "Rowing Men's Coxed Eights"
          ],
          [
           23,
           "Germany",
           "Rowing",
           "Rowing Men's Single Sculls"
          ],
          [
           27,
           "Vaxholm Roddklubb",
           "Rowing",
           "Rowing Men's Coxed Fours, Outriggers"
          ],
          [
           24,
           "Gteborgs Roddklubb-1",
           "Rowing",
           "Rowing Men's Coxed Eights"
          ],
          [
           21,
           "Leander Club-1",
           "Rowing",
           "Rowing Men's Coxed Eights"
          ],
          [
           26,
           "Hungaria Evezos Egylet",
           "Rowing",
           "Rowing Men's Coxed Eights"
          ],
          [
           24,
           "Hungaria Evezos Egylet",
           "Rowing",
           "Rowing Men's Coxed Eights"
          ],
          [
           21,
           "Hungaria Evezos Egylet",
           "Rowing",
           "Rowing Men's Coxed Eights"
          ],
          [
           24,
           "Hungaria Evezos Egylet",
           "Rowing",
           "Rowing Men's Coxed Eights"
          ],
          [
           22,
           "Roddklubben af 1912-2",
           "Rowing",
           "Rowing Men's Coxed Eights"
          ],
          [
           22,
           "Toronto Argonauts",
           "Rowing",
           "Rowing Men's Coxed Eights"
          ],
          [
           33,
           "Socit Nautique de Bayonne",
           "Rowing",
           "Rowing Men's Coxed Fours, Outriggers"
          ],
          [
           23,
           "Polyteknisk Roklub-1",
           "Rowing",
           "Rowing Men's Coxed Fours, Outriggers"
          ],
          [
           19,
           "Kristiania Roklub-1",
           "Rowing",
           "Rowing Men's Coxed Fours, Outriggers"
          ],
          [
           24,
           "Kristiania Roklub-1",
           "Rowing",
           "Rowing Men's Coxed Fours, Outriggers"
          ],
          [
           21,
           "Kristiania Roklub-1",
           "Rowing",
           "Rowing Men's Coxed Fours, Outriggers"
          ],
          [
           19,
           "Royal Club Nautique de Gand",
           "Rowing",
           "Rowing Men's Coxed Fours, Outriggers"
          ],
          [
           23,
           "Royal Club Nautique de Gand",
           "Rowing",
           "Rowing Men's Coxed Fours, Outriggers"
          ],
          [
           37,
           "Hungaria Evezos Egylet",
           "Rowing",
           "Rowing Men's Coxed Eights"
          ],
          [
           31,
           "Belgium",
           "Rowing",
           "Rowing Men's Single Sculls"
          ],
          [
           31,
           "Thames Rowing Club",
           "Rowing",
           "Rowing Men's Coxed Fours, Outriggers"
          ],
          [
           20,
           "Berliner Ruderverein von 1876-2",
           "Rowing",
           "Rowing Men's Coxed Eights"
          ],
          [
           32,
           "Royal Club Nautique de Gand",
           "Rowing",
           "Rowing Men's Coxed Fours, Outriggers"
          ],
          [
           19,
           "Roddklubben af 1912-2",
           "Rowing",
           "Rowing Men's Coxed Eights"
          ],
          [
           22,
           "Sydney Rowing Club",
           "Rowing",
           "Rowing Men's Coxed Eights"
          ],
          [
           21,
           "New College, Oxford-2",
           "Rowing",
           "Rowing Men's Coxed Eights"
          ],
          [
           22,
           "Sydney Rowing Club",
           "Rowing",
           "Rowing Men's Coxed Eights"
          ],
          [
           33,
           "Berliner Ruderclub Sport-Borussia-1",
           "Rowing",
           "Rowing Men's Coxed Eights"
          ],
          [
           24,
           "Berliner Ruderclub Sport-Borussia-1",
           "Rowing",
           "Rowing Men's Coxed Eights"
          ],
          [
           21,
           "Leander Club-1",
           "Rowing",
           "Rowing Men's Coxed Eights"
          ],
          [
           24,
           "Vaxholm Roddklubb",
           "Rowing",
           "Rowing Men's Coxed Fours, Outriggers"
          ],
          [
           20,
           "New College, Oxford-2",
           "Rowing",
           "Rowing Men's Coxed Eights"
          ],
          [
           18,
           "Roddklubben af 1912-1",
           "Rowing",
           "Rowing Men's Coxed Fours, Inriggers"
          ],
          [
           18,
           "Roddklubben af 1912-2",
           "Rowing",
           "Rowing Men's Coxed Eights"
          ],
          [
           37,
           "Ludwigshafener Ruderverein",
           "Rowing",
           "Rowing Men's Coxed Fours, Outriggers"
          ],
          [
           23,
           "Royal Club Nautique de Gand",
           "Rowing",
           "Rowing Men's Coxed Fours, Outriggers"
          ],
          [
           21,
           "Leander Club-1",
           "Rowing",
           "Rowing Men's Coxed Eights"
          ]
         ],
         "hovertemplate": "<b>%{hovertext}</b><br><br>Sport=%{customdata[2]}<br>Sex=M<br>Country=%{x}<br>Medal=%{y}<br>Age=%{customdata[0]}<br>Team=%{customdata[1]}<br>Event=%{customdata[3]}<extra></extra>",
         "hovertext": [
          1912,
          1912,
          1912,
          1912,
          1912,
          1912,
          1912,
          1912,
          1912,
          1912,
          1912,
          1912,
          1912,
          1912,
          1912,
          1912,
          1912,
          1912,
          1912,
          1912,
          1912,
          1912,
          1912,
          1912,
          1912,
          1912,
          1912,
          1912,
          1912,
          1912,
          1912,
          1912,
          1912,
          1912,
          1912,
          1912,
          1912,
          1912,
          1912,
          1912,
          1912,
          1912,
          1912,
          1912,
          1912,
          1912,
          1912,
          1912,
          1912,
          1912,
          1912,
          1912,
          1912,
          1912,
          1912,
          1912,
          1912,
          1912,
          1912,
          1912,
          1912,
          1912,
          1912,
          1912,
          1912,
          1912,
          1912,
          1912,
          1912,
          1912,
          1912,
          1912,
          1912,
          1912,
          1912,
          1912,
          1912,
          1912,
          1912,
          1912,
          1912,
          1912,
          1912,
          1912,
          1912,
          1912,
          1912,
          1912,
          1912,
          1912,
          1912,
          1912,
          1912,
          1912,
          1912,
          1912,
          1912,
          1912,
          1912,
          1912,
          1912,
          1912,
          1912,
          1912,
          1912,
          1912,
          1912,
          1912,
          1912,
          1912,
          1912,
          1912,
          1912,
          1912,
          1912,
          1912,
          1912,
          1912,
          1912,
          1912,
          1912,
          1912,
          1912,
          1912,
          1912,
          1912,
          1912,
          1912,
          1912,
          1912,
          1912,
          1912,
          1912,
          1912,
          1912,
          1912,
          1912,
          1912,
          1912,
          1912,
          1912,
          1912,
          1912,
          1912,
          1912,
          1912,
          1912,
          1912,
          1912,
          1912,
          1912,
          1912,
          1912,
          1912,
          1912,
          1912,
          1912,
          1912,
          1912,
          1912,
          1912,
          1912,
          1912,
          1912,
          1912,
          1912,
          1912,
          1912,
          1912,
          1912,
          1912,
          1912,
          1912,
          1912,
          1912,
          1912,
          1912,
          1912,
          1912,
          1912,
          1912,
          1912,
          1912,
          1912,
          1912,
          1912,
          1912,
          1912,
          1912,
          1912,
          1912,
          1912,
          1912,
          1912,
          1912,
          1912,
          1912
         ],
         "legendgroup": "Rowing",
         "marker": {
          "color": "#00cc96",
          "pattern": {
           "shape": ""
          }
         },
         "name": "Rowing",
         "offsetgroup": "Rowing",
         "orientation": "v",
         "showlegend": true,
         "textposition": "auto",
         "type": "bar",
         "x": [
          "SWE",
          "FRA",
          "DEN",
          "SWE",
          "FRA",
          "SWE",
          "FRA",
          "GER",
          "HUN",
          "GER",
          "GER",
          "GBR",
          "SWE",
          "DEN",
          "NOR",
          "NOR",
          "NOR",
          "GBR",
          "CAN",
          "SWE",
          "SWE",
          "GER",
          "SWE",
          "SWE",
          "SWE",
          "SWE",
          "SWE",
          "GBR",
          "GBR",
          "CAN",
          "FRA",
          "GBR",
          "GER",
          "DEN",
          "AUT",
          "SWE",
          "SWE",
          "NOR",
          "NOR",
          "GER",
          "GER",
          "GER",
          "FRA",
          "FRA",
          "FRA",
          "FRA",
          "SWE",
          "NOR",
          "SWE",
          "DEN",
          "NOR",
          "NOR",
          "GER",
          "GER",
          "GBR",
          "ANZ",
          "GBR",
          "FIN",
          "DEN",
          "ANZ",
          "GER",
          "SWE",
          "SWE",
          "CAN",
          "FRA",
          "GBR",
          "GER",
          "GBR",
          "GBR",
          "DEN",
          "HUN",
          "NOR",
          "NOR",
          "CAN",
          "FIN",
          "DEN",
          "DEN",
          "ANZ",
          "NOR",
          "NOR",
          "AUT",
          "FIN",
          "NOR",
          "NOR",
          "GER",
          "NOR",
          "GBR",
          "NOR",
          "NOR",
          "AUT",
          "HUN",
          "SWE",
          "SWE",
          "DEN",
          "CAN",
          "GBR",
          "GBR",
          "NOR",
          "AUT",
          "NOR",
          "AUT",
          "RUS",
          "FRA",
          "SWE",
          "SWE",
          "GER",
          "NOR",
          "FRA",
          "FRA",
          "HUN",
          "GER",
          "GBR",
          "GBR",
          "FIN",
          "GER",
          "HUN",
          "GER",
          "SWE",
          "AUT",
          "CAN",
          "ANZ",
          "FRA",
          "HUN",
          "ANZ",
          "FRA",
          "DEN",
          "CAN",
          "BEL",
          "FIN",
          "FIN",
          "NOR",
          "ANZ",
          "GBR",
          "DEN",
          "GBR",
          "FRA",
          "DEN",
          "GER",
          "GER",
          "FRA",
          "CAN",
          "NOR",
          "ANZ",
          "SWE",
          "SWE",
          "GBR",
          "GER",
          "SWE",
          "ANZ",
          "FRA",
          "NOR",
          "DEN",
          "DEN",
          "CAN",
          "DEN",
          "NOR",
          "NOR",
          "NOR",
          "SWE",
          "BOH",
          "FRA",
          "GER",
          "SWE",
          "SWE",
          "GBR",
          "HUN",
          "HUN",
          "HUN",
          "HUN",
          "SWE",
          "CAN",
          "FRA",
          "DEN",
          "NOR",
          "NOR",
          "NOR",
          "BEL",
          "BEL",
          "HUN",
          "BEL",
          "GBR",
          "GER",
          "BEL",
          "SWE",
          "ANZ",
          "GBR",
          "ANZ",
          "GER",
          "GER",
          "GBR",
          "SWE",
          "GBR",
          "SWE",
          "SWE",
          "GER",
          "BEL",
          "GBR"
         ],
         "xaxis": "x",
         "y": [
          null,
          null,
          "Gold",
          null,
          null,
          null,
          null,
          "Gold",
          null,
          "Bronze",
          "Bronze",
          "Silver",
          null,
          "Bronze",
          null,
          null,
          "Bronze",
          "Silver",
          null,
          null,
          null,
          "Bronze",
          "Silver",
          null,
          null,
          "Silver",
          null,
          "Silver",
          "Gold",
          "Bronze",
          null,
          "Silver",
          null,
          "Bronze",
          null,
          "Silver",
          null,
          null,
          null,
          "Bronze",
          null,
          null,
          null,
          null,
          null,
          null,
          null,
          null,
          null,
          null,
          null,
          null,
          "Gold",
          "Gold",
          "Silver",
          null,
          "Gold",
          null,
          "Bronze",
          null,
          null,
          null,
          null,
          null,
          null,
          "Gold",
          null,
          "Gold",
          "Silver",
          null,
          null,
          null,
          null,
          null,
          null,
          "Gold",
          "Gold",
          null,
          null,
          null,
          null,
          null,
          null,
          "Bronze",
          null,
          "Bronze",
          "Gold",
          null,
          "Bronze",
          null,
          null,
          null,
          null,
          null,
          null,
          "Gold",
          "Gold",
          "Bronze",
          null,
          null,
          null,
          "Bronze",
          null,
          null,
          null,
          null,
          "Bronze",
          null,
          null,
          null,
          "Bronze",
          "Silver",
          "Silver",
          null,
          "Gold",
          null,
          "Bronze",
          null,
          null,
          null,
          null,
          null,
          null,
          null,
          null,
          "Gold",
          null,
          null,
          null,
          null,
          "Bronze",
          null,
          "Silver",
          "Gold",
          "Silver",
          null,
          null,
          "Bronze",
          null,
          null,
          null,
          null,
          null,
          "Silver",
          null,
          "Silver",
          "Bronze",
          null,
          null,
          null,
          null,
          null,
          "Bronze",
          null,
          null,
          null,
          null,
          null,
          null,
          null,
          null,
          null,
          null,
          null,
          "Gold",
          null,
          null,
          null,
          null,
          null,
          null,
          null,
          "Bronze",
          "Bronze",
          "Bronze",
          "Bronze",
          null,
          null,
          null,
          "Silver",
          "Silver",
          "Bronze",
          null,
          null,
          null,
          "Silver",
          null,
          null,
          null,
          "Gold",
          null,
          "Silver",
          "Silver",
          null,
          "Gold",
          null,
          "Gold"
         ],
         "yaxis": "y"
        },
        {
         "alignmentgroup": "True",
         "customdata": [
          [
           27,
           "Russia",
           "Tennis",
           "Tennis Men's Doubles"
          ],
          [
           24,
           "Norway-1",
           "Tennis",
           "Tennis Men's Doubles"
          ],
          [
           35,
           "Denmark",
           "Tennis",
           "Tennis Men's Singles"
          ],
          [
           35,
           "Denmark-2",
           "Tennis",
           "Tennis Men's Doubles"
          ],
          [
           38,
           "Great Britain-1",
           "Tennis",
           "Tennis Mixed Doubles, Covered Courts"
          ],
          [
           38,
           "Great Britain",
           "Tennis",
           "Tennis Men's Singles, Covered Courts"
          ],
          [
           38,
           "Great Britain-3",
           "Tennis",
           "Tennis Men's Doubles, Covered Courts"
          ],
          [
           32,
           "Great Britain",
           "Tennis",
           "Tennis Men's Singles, Covered Courts"
          ],
          [
           32,
           "Great Britain-2",
           "Tennis",
           "Tennis Men's Doubles, Covered Courts"
          ],
          [
           24,
           "Sweden",
           "Tennis",
           "Tennis Men's Singles"
          ],
          [
           24,
           "Sweden-1",
           "Tennis",
           "Tennis Men's Doubles"
          ],
          [
           24,
           "Sweden-1",
           "Tennis",
           "Tennis Men's Doubles, Covered Courts"
          ],
          [
           29,
           "Norway",
           "Tennis",
           "Tennis Men's Singles"
          ],
          [
           29,
           "Norway-3",
           "Tennis",
           "Tennis Men's Doubles"
          ],
          [
           25,
           "France",
           "Tennis",
           "Tennis Men's Singles"
          ],
          [
           25,
           "Netherlands",
           "Tennis",
           "Tennis Men's Singles"
          ],
          [
           33,
           "Sweden",
           "Tennis",
           "Tennis Men's Singles"
          ],
          [
           33,
           "Sweden-1",
           "Tennis",
           "Tennis Men's Doubles"
          ],
          [
           33,
           "Sweden",
           "Tennis",
           "Tennis Men's Singles, Covered Courts"
          ],
          [
           33,
           "Sweden-1",
           "Tennis",
           "Tennis Men's Doubles, Covered Courts"
          ],
          [
           34,
           "France",
           "Tennis",
           "Tennis Men's Singles"
          ],
          [
           34,
           "France",
           "Tennis",
           "Tennis Mixed Doubles"
          ],
          [
           34,
           "France",
           "Tennis",
           "Tennis Men's Doubles"
          ],
          [
           43,
           "Great Britain",
           "Tennis",
           "Tennis Men's Singles, Covered Courts"
          ],
          [
           43,
           "Great Britain-1",
           "Tennis",
           "Tennis Men's Doubles, Covered Courts"
          ],
          [
           39,
           "Great Britain-2",
           "Tennis",
           "Tennis Mixed Doubles, Covered Courts"
          ],
          [
           39,
           "Great Britain",
           "Tennis",
           "Tennis Men's Singles, Covered Courts"
          ],
          [
           39,
           "Great Britain-2",
           "Tennis",
           "Tennis Men's Doubles, Covered Courts"
          ],
          [
           27,
           "Denmark",
           "Tennis",
           "Tennis Men's Singles"
          ],
          [
           27,
           "Denmark-1",
           "Tennis",
           "Tennis Men's Doubles"
          ],
          [
           22,
           "Denmark",
           "Tennis",
           "Tennis Men's Singles"
          ],
          [
           22,
           "Denmark-1",
           "Tennis",
           "Tennis Men's Doubles"
          ],
          [
           23,
           "Bohemia",
           "Tennis",
           "Tennis Men's Singles"
          ],
          [
           23,
           "Bohemia-1",
           "Tennis",
           "Tennis Men's Doubles"
          ],
          [
           23,
           "Bohemia",
           "Tennis",
           "Tennis Men's Singles, Covered Courts"
          ],
          [
           29,
           "France",
           "Tennis",
           "Tennis Men's Singles, Covered Courts"
          ],
          [
           29,
           "France",
           "Tennis",
           "Tennis Men's Doubles, Covered Courts"
          ],
          [
           21,
           "France",
           "Tennis",
           "Tennis Men's Singles, Covered Courts"
          ],
          [
           21,
           "France",
           "Tennis",
           "Tennis Men's Doubles, Covered Courts"
          ],
          [
           44,
           "Great Britain",
           "Tennis",
           "Tennis Men's Singles, Covered Courts"
          ],
          [
           44,
           "Great Britain-3",
           "Tennis",
           "Tennis Men's Doubles, Covered Courts"
          ],
          [
           23,
           "Sweden",
           "Tennis",
           "Tennis Men's Singles"
          ],
          [
           23,
           "Sweden-2",
           "Tennis",
           "Tennis Mixed Doubles"
          ],
          [
           23,
           "Sweden-2",
           "Tennis",
           "Tennis Men's Doubles"
          ],
          [
           23,
           "Sweden",
           "Tennis",
           "Tennis Men's Singles, Covered Courts"
          ],
          [
           28,
           "Bohemia",
           "Tennis",
           "Tennis Men's Singles, Covered Courts"
          ],
          [
           22,
           "Denmark",
           "Tennis",
           "Tennis Men's Singles"
          ],
          [
           22,
           "Denmark-3",
           "Tennis",
           "Tennis Men's Doubles"
          ],
          [
           18,
           "Germany",
           "Tennis",
           "Tennis Men's Singles"
          ],
          [
           18,
           "Germany-2",
           "Tennis",
           "Tennis Men's Doubles"
          ],
          [
           22,
           "Bohemia",
           "Tennis",
           "Tennis Men's Singles"
          ],
          [
           22,
           "Bohemia-3",
           "Tennis",
           "Tennis Men's Doubles"
          ],
          [
           27,
           "Denmark",
           "Tennis",
           "Tennis Men's Singles"
          ],
          [
           27,
           "Denmark-2",
           "Tennis",
           "Tennis Men's Doubles"
          ],
          [
           29,
           "Bohemia",
           "Tennis",
           "Tennis Men's Singles"
          ],
          [
           29,
           "Bohemia-2",
           "Tennis",
           "Tennis Men's Doubles"
          ],
          [
           27,
           "Sweden-2",
           "Tennis",
           "Tennis Mixed Doubles, Covered Courts"
          ],
          [
           27,
           "Sweden",
           "Tennis",
           "Tennis Men's Singles, Covered Courts"
          ],
          [
           27,
           "Sweden-2",
           "Tennis",
           "Tennis Men's Doubles, Covered Courts"
          ],
          [
           37,
           "South Africa",
           "Tennis",
           "Tennis Men's Singles"
          ],
          [
           37,
           "South Africa",
           "Tennis",
           "Tennis Men's Doubles"
          ],
          [
           23,
           "Bohemia",
           "Tennis",
           "Tennis Men's Singles"
          ],
          [
           24,
           "Germany",
           "Tennis",
           "Tennis Men's Singles"
          ],
          [
           21,
           "Norway",
           "Tennis",
           "Tennis Men's Singles"
          ],
          [
           21,
           "Norway",
           "Tennis",
           "Tennis Mixed Doubles"
          ],
          [
           21,
           "Norway-2",
           "Tennis",
           "Tennis Men's Doubles"
          ],
          [
           31,
           "Denmark",
           "Tennis",
           "Tennis Mixed Doubles, Covered Courts"
          ],
          [
           31,
           "Denmark",
           "Tennis",
           "Tennis Men's Singles, Covered Courts"
          ],
          [
           25,
           "Sweden",
           "Tennis",
           "Tennis Men's Singles"
          ],
          [
           25,
           "Sweden",
           "Tennis",
           "Tennis Men's Singles, Covered Courts"
          ],
          [
           28,
           "Germany",
           "Tennis",
           "Tennis Men's Singles"
          ],
          [
           26,
           "Great Britain",
           "Tennis",
           "Tennis Men's Singles, Covered Courts"
          ],
          [
           26,
           "Great Britain-4",
           "Tennis",
           "Tennis Men's Doubles, Covered Courts"
          ],
          [
           27,
           "Great Britain",
           "Tennis",
           "Tennis Men's Singles, Covered Courts"
          ],
          [
           27,
           "Great Britain-4",
           "Tennis",
           "Tennis Men's Doubles, Covered Courts"
          ],
          [
           28,
           "Denmark",
           "Tennis",
           "Tennis Men's Singles"
          ],
          [
           28,
           "Denmark-4",
           "Tennis",
           "Tennis Men's Doubles"
          ],
          [
           28,
           "Great Britain-3",
           "Tennis",
           "Tennis Mixed Doubles, Covered Courts"
          ],
          [
           28,
           "Great Britain",
           "Tennis",
           "Tennis Men's Singles, Covered Courts"
          ],
          [
           28,
           "Great Britain-1",
           "Tennis",
           "Tennis Men's Doubles, Covered Courts"
          ],
          [
           29,
           "France",
           "Tennis",
           "Tennis Men's Singles"
          ],
          [
           29,
           "France",
           "Tennis",
           "Tennis Men's Doubles"
          ],
          [
           25,
           "Sweden",
           "Tennis",
           "Tennis Men's Singles"
          ],
          [
           25,
           "Sweden-2",
           "Tennis",
           "Tennis Men's Doubles"
          ],
          [
           25,
           "Sweden-4",
           "Tennis",
           "Tennis Mixed Doubles, Covered Courts"
          ],
          [
           25,
           "Sweden",
           "Tennis",
           "Tennis Men's Singles, Covered Courts"
          ],
          [
           19,
           "Sweden-3",
           "Tennis",
           "Tennis Mixed Doubles"
          ],
          [
           19,
           "Sweden-3",
           "Tennis",
           "Tennis Men's Doubles"
          ],
          [
           19,
           "Sweden-1",
           "Tennis",
           "Tennis Mixed Doubles, Covered Courts"
          ],
          [
           19,
           "Sweden-3",
           "Tennis",
           "Tennis Men's Doubles, Covered Courts"
          ],
          [
           33,
           "United States",
           "Tennis",
           "Tennis Men's Singles"
          ],
          [
           28,
           "Norway",
           "Tennis",
           "Tennis Men's Singles"
          ],
          [
           28,
           "Norway-2",
           "Tennis",
           "Tennis Men's Doubles"
          ],
          [
           25,
           "Austria",
           "Tennis",
           "Tennis Men's Singles"
          ],
          [
           25,
           "Austria",
           "Tennis",
           "Tennis Men's Doubles"
          ],
          [
           24,
           "Denmark",
           "Tennis",
           "Tennis Men's Singles"
          ],
          [
           24,
           "Denmark-3",
           "Tennis",
           "Tennis Men's Doubles"
          ],
          [
           26,
           "Germany",
           "Tennis",
           "Tennis Men's Singles"
          ],
          [
           26,
           "Germany",
           "Tennis",
           "Tennis Mixed Doubles"
          ],
          [
           26,
           "Germany-1",
           "Tennis",
           "Tennis Men's Doubles"
          ],
          [
           24,
           "Bohemia",
           "Tennis",
           "Tennis Men's Singles"
          ],
          [
           24,
           "Bohemia-3",
           "Tennis",
           "Tennis Men's Doubles"
          ],
          [
           30,
           "Sweden",
           "Tennis",
           "Tennis Men's Singles"
          ],
          [
           30,
           "Sweden-1",
           "Tennis",
           "Tennis Mixed Doubles"
          ],
          [
           30,
           "Sweden-3",
           "Tennis",
           "Tennis Mixed Doubles, Covered Courts"
          ],
          [
           30,
           "Sweden",
           "Tennis",
           "Tennis Men's Singles, Covered Courts"
          ],
          [
           30,
           "Sweden-2",
           "Tennis",
           "Tennis Men's Doubles, Covered Courts"
          ],
          [
           23,
           "Sweden",
           "Tennis",
           "Tennis Men's Singles, Covered Courts"
          ],
          [
           31,
           "Norway",
           "Tennis",
           "Tennis Men's Singles"
          ],
          [
           31,
           "Norway-3",
           "Tennis",
           "Tennis Men's Doubles"
          ],
          [
           21,
           "Germany",
           "Tennis",
           "Tennis Men's Singles"
          ],
          [
           21,
           "Germany-2",
           "Tennis",
           "Tennis Men's Doubles"
          ],
          [
           21,
           "Norway",
           "Tennis",
           "Tennis Men's Singles"
          ],
          [
           21,
           "Norway-1",
           "Tennis",
           "Tennis Men's Doubles"
          ],
          [
           18,
           "Russia",
           "Tennis",
           "Tennis Men's Singles"
          ],
          [
           18,
           "Russia",
           "Tennis",
           "Tennis Men's Doubles"
          ],
          [
           18,
           "South Africa",
           "Tennis",
           "Tennis Men's Singles"
          ],
          [
           27,
           "Denmark",
           "Tennis",
           "Tennis Men's Singles"
          ],
          [
           27,
           "Denmark-4",
           "Tennis",
           "Tennis Men's Doubles"
          ],
          [
           20,
           "Hungary",
           "Tennis",
           "Tennis Men's Singles"
          ],
          [
           20,
           "Hungary-2",
           "Tennis",
           "Tennis Men's Doubles"
          ],
          [
           21,
           "Hungary",
           "Tennis",
           "Tennis Men's Singles"
          ],
          [
           21,
           "Hungary-3",
           "Tennis",
           "Tennis Men's Doubles"
          ],
          [
           24,
           "Hungary",
           "Tennis",
           "Tennis Men's Singles"
          ],
          [
           24,
           "Hungary-2",
           "Tennis",
           "Tennis Men's Doubles"
          ],
          [
           36,
           "Germany",
           "Tennis",
           "Tennis Men's Singles"
          ],
          [
           36,
           "Germany-1",
           "Tennis",
           "Tennis Men's Doubles"
          ],
          [
           27,
           "Austria",
           "Tennis",
           "Tennis Men's Singles"
          ],
          [
           22,
           "Hungary",
           "Tennis",
           "Tennis Men's Singles"
          ],
          [
           22,
           "Hungary-3",
           "Tennis",
           "Tennis Men's Doubles"
          ],
          [
           23,
           "Sweden",
           "Tennis",
           "Tennis Men's Singles"
          ],
          [
           23,
           "Sweden-3",
           "Tennis",
           "Tennis Men's Doubles"
          ],
          [
           23,
           "Sweden",
           "Tennis",
           "Tennis Men's Singles, Covered Courts"
          ],
          [
           23,
           "Sweden-3",
           "Tennis",
           "Tennis Men's Doubles, Covered Courts"
          ],
          [
           28,
           "Australasia",
           "Tennis",
           "Tennis Men's Singles, Covered Courts"
          ],
          [
           23,
           "South Africa",
           "Tennis",
           "Tennis Men's Singles"
          ],
          [
           23,
           "South Africa",
           "Tennis",
           "Tennis Men's Doubles"
          ],
          [
           26,
           "Austria",
           "Tennis",
           "Tennis Men's Singles"
          ],
          [
           26,
           "Austria",
           "Tennis",
           "Tennis Men's Doubles"
          ],
          [
           25,
           "Bohemia",
           "Tennis",
           "Tennis Men's Singles"
          ],
          [
           25,
           "Bohemia-1",
           "Tennis",
           "Tennis Men's Doubles"
          ],
          [
           24,
           "Bohemia",
           "Tennis",
           "Tennis Men's Singles"
          ],
          [
           24,
           "Bohemia-2",
           "Tennis",
           "Tennis Men's Doubles"
          ]
         ],
         "hovertemplate": "<b>%{hovertext}</b><br><br>Sport=%{customdata[2]}<br>Sex=M<br>Country=%{x}<br>Medal=%{y}<br>Age=%{customdata[0]}<br>Team=%{customdata[1]}<br>Event=%{customdata[3]}<extra></extra>",
         "hovertext": [
          1912,
          1912,
          1912,
          1912,
          1912,
          1912,
          1912,
          1912,
          1912,
          1912,
          1912,
          1912,
          1912,
          1912,
          1912,
          1912,
          1912,
          1912,
          1912,
          1912,
          1912,
          1912,
          1912,
          1912,
          1912,
          1912,
          1912,
          1912,
          1912,
          1912,
          1912,
          1912,
          1912,
          1912,
          1912,
          1912,
          1912,
          1912,
          1912,
          1912,
          1912,
          1912,
          1912,
          1912,
          1912,
          1912,
          1912,
          1912,
          1912,
          1912,
          1912,
          1912,
          1912,
          1912,
          1912,
          1912,
          1912,
          1912,
          1912,
          1912,
          1912,
          1912,
          1912,
          1912,
          1912,
          1912,
          1912,
          1912,
          1912,
          1912,
          1912,
          1912,
          1912,
          1912,
          1912,
          1912,
          1912,
          1912,
          1912,
          1912,
          1912,
          1912,
          1912,
          1912,
          1912,
          1912,
          1912,
          1912,
          1912,
          1912,
          1912,
          1912,
          1912,
          1912,
          1912,
          1912,
          1912,
          1912,
          1912,
          1912,
          1912,
          1912,
          1912,
          1912,
          1912,
          1912,
          1912,
          1912,
          1912,
          1912,
          1912,
          1912,
          1912,
          1912,
          1912,
          1912,
          1912,
          1912,
          1912,
          1912,
          1912,
          1912,
          1912,
          1912,
          1912,
          1912,
          1912,
          1912,
          1912,
          1912,
          1912,
          1912,
          1912,
          1912,
          1912,
          1912,
          1912,
          1912,
          1912,
          1912,
          1912,
          1912,
          1912
         ],
         "legendgroup": "Tennis",
         "marker": {
          "color": "#ab63fa",
          "pattern": {
           "shape": ""
          }
         },
         "name": "Tennis",
         "offsetgroup": "Tennis",
         "orientation": "v",
         "showlegend": true,
         "textposition": "auto",
         "type": "bar",
         "x": [
          "RUS",
          "NOR",
          "DEN",
          "DEN",
          "GBR",
          "GBR",
          "GBR",
          "GBR",
          "GBR",
          "SWE",
          "SWE",
          "SWE",
          "NOR",
          "NOR",
          "FRA",
          "NED",
          "SWE",
          "SWE",
          "SWE",
          "SWE",
          "FRA",
          "FRA",
          "FRA",
          "GBR",
          "GBR",
          "GBR",
          "GBR",
          "GBR",
          "DEN",
          "DEN",
          "DEN",
          "DEN",
          "BOH",
          "BOH",
          "BOH",
          "FRA",
          "FRA",
          "FRA",
          "FRA",
          "GBR",
          "GBR",
          "SWE",
          "SWE",
          "SWE",
          "SWE",
          "BOH",
          "DEN",
          "DEN",
          "GER",
          "GER",
          "BOH",
          "BOH",
          "DEN",
          "DEN",
          "BOH",
          "BOH",
          "SWE",
          "SWE",
          "SWE",
          "RSA",
          "RSA",
          "BOH",
          "GER",
          "NOR",
          "NOR",
          "NOR",
          "DEN",
          "DEN",
          "SWE",
          "SWE",
          "GER",
          "GBR",
          "GBR",
          "GBR",
          "GBR",
          "DEN",
          "DEN",
          "GBR",
          "GBR",
          "GBR",
          "FRA",
          "FRA",
          "SWE",
          "SWE",
          "SWE",
          "SWE",
          "SWE",
          "SWE",
          "SWE",
          "SWE",
          "USA",
          "NOR",
          "NOR",
          "AUT",
          "AUT",
          "DEN",
          "DEN",
          "GER",
          "GER",
          "GER",
          "BOH",
          "BOH",
          "SWE",
          "SWE",
          "SWE",
          "SWE",
          "SWE",
          "SWE",
          "NOR",
          "NOR",
          "GER",
          "GER",
          "NOR",
          "NOR",
          "RUS",
          "RUS",
          "RSA",
          "DEN",
          "DEN",
          "HUN",
          "HUN",
          "HUN",
          "HUN",
          "HUN",
          "HUN",
          "GER",
          "GER",
          "AUT",
          "HUN",
          "HUN",
          "SWE",
          "SWE",
          "SWE",
          "SWE",
          "ANZ",
          "RSA",
          "RSA",
          "AUT",
          "AUT",
          "BOH",
          "BOH",
          "BOH",
          "BOH"
         ],
         "xaxis": "x",
         "y": [
          null,
          null,
          null,
          null,
          "Silver",
          null,
          null,
          null,
          "Bronze",
          null,
          null,
          null,
          null,
          null,
          null,
          null,
          null,
          null,
          null,
          null,
          null,
          "Bronze",
          "Bronze",
          null,
          null,
          "Gold",
          "Silver",
          "Bronze",
          null,
          null,
          null,
          null,
          null,
          null,
          null,
          null,
          "Gold",
          "Gold",
          "Gold",
          null,
          null,
          null,
          null,
          null,
          null,
          null,
          null,
          null,
          null,
          null,
          null,
          null,
          null,
          null,
          null,
          null,
          null,
          null,
          "Silver",
          "Silver",
          "Gold",
          null,
          "Bronze",
          null,
          null,
          null,
          null,
          null,
          null,
          null,
          null,
          null,
          null,
          null,
          null,
          null,
          null,
          null,
          null,
          null,
          null,
          "Bronze",
          null,
          null,
          null,
          null,
          null,
          null,
          null,
          null,
          null,
          null,
          null,
          null,
          "Silver",
          null,
          null,
          null,
          "Gold",
          null,
          null,
          null,
          null,
          "Silver",
          "Bronze",
          null,
          "Silver",
          null,
          null,
          null,
          null,
          null,
          null,
          null,
          null,
          null,
          null,
          null,
          null,
          null,
          null,
          null,
          null,
          null,
          null,
          null,
          null,
          null,
          null,
          null,
          null,
          null,
          null,
          null,
          "Bronze",
          "Gold",
          "Gold",
          null,
          "Silver",
          null,
          null,
          null,
          null
         ],
         "yaxis": "y"
        },
        {
         "alignmentgroup": "True",
         "customdata": [
          [
           30,
           "Great Britain-1",
           "Tennis",
           "Tennis Mixed Doubles, Covered Courts"
          ],
          [
           30,
           "Great Britain",
           "Tennis",
           "Tennis Women's Singles, Covered Courts"
          ],
          [
           28,
           "Sweden",
           "Tennis",
           "Tennis Women's Singles"
          ],
          [
           28,
           "Sweden-3",
           "Tennis",
           "Tennis Mixed Doubles"
          ],
          [
           28,
           "Sweden-1",
           "Tennis",
           "Tennis Mixed Doubles, Covered Courts"
          ],
          [
           28,
           "Sweden",
           "Tennis",
           "Tennis Women's Singles, Covered Courts"
          ],
          [
           28,
           "Norway",
           "Tennis",
           "Tennis Women's Singles"
          ],
          [
           28,
           "Norway",
           "Tennis",
           "Tennis Mixed Doubles"
          ],
          [
           19,
           "France",
           "Tennis",
           "Tennis Women's Singles"
          ],
          [
           19,
           "France",
           "Tennis",
           "Tennis Mixed Doubles"
          ],
          [
           33,
           "Sweden",
           "Tennis",
           "Tennis Women's Singles"
          ],
          [
           30,
           "Denmark",
           "Tennis",
           "Tennis Mixed Doubles, Covered Courts"
          ],
          [
           30,
           "Denmark",
           "Tennis",
           "Tennis Women's Singles, Covered Courts"
          ],
          [
           32,
           "Sweden",
           "Tennis",
           "Tennis Women's Singles"
          ],
          [
           32,
           "Sweden-2",
           "Tennis",
           "Tennis Mixed Doubles, Covered Courts"
          ],
          [
           32,
           "Sweden",
           "Tennis",
           "Tennis Women's Singles, Covered Courts"
          ],
          [
           25,
           "Sweden",
           "Tennis",
           "Tennis Women's Singles"
          ],
          [
           25,
           "Sweden-1",
           "Tennis",
           "Tennis Mixed Doubles"
          ],
          [
           25,
           "Sweden-3",
           "Tennis",
           "Tennis Mixed Doubles, Covered Courts"
          ],
          [
           25,
           "Sweden",
           "Tennis",
           "Tennis Women's Singles, Covered Courts"
          ],
          [
           33,
           "Great Britain-2",
           "Tennis",
           "Tennis Mixed Doubles, Covered Courts"
          ],
          [
           33,
           "Great Britain",
           "Tennis",
           "Tennis Women's Singles, Covered Courts"
          ],
          [
           45,
           "Sweden-4",
           "Tennis",
           "Tennis Mixed Doubles, Covered Courts"
          ],
          [
           32,
           "Sweden",
           "Tennis",
           "Tennis Women's Singles"
          ],
          [
           32,
           "Sweden-2",
           "Tennis",
           "Tennis Mixed Doubles"
          ],
          [
           32,
           "Sweden",
           "Tennis",
           "Tennis Women's Singles, Covered Courts"
          ],
          [
           31,
           "Germany",
           "Tennis",
           "Tennis Women's Singles"
          ],
          [
           31,
           "Germany",
           "Tennis",
           "Tennis Mixed Doubles"
          ],
          [
           30,
           "Great Britain-3",
           "Tennis",
           "Tennis Mixed Doubles, Covered Courts"
          ],
          [
           30,
           "Great Britain",
           "Tennis",
           "Tennis Women's Singles, Covered Courts"
          ]
         ],
         "hovertemplate": "<b>%{hovertext}</b><br><br>Sport=%{customdata[2]}<br>Sex=F<br>Country=%{x}<br>Medal=%{y}<br>Age=%{customdata[0]}<br>Team=%{customdata[1]}<br>Event=%{customdata[3]}<extra></extra>",
         "hovertext": [
          1912,
          1912,
          1912,
          1912,
          1912,
          1912,
          1912,
          1912,
          1912,
          1912,
          1912,
          1912,
          1912,
          1912,
          1912,
          1912,
          1912,
          1912,
          1912,
          1912,
          1912,
          1912,
          1912,
          1912,
          1912,
          1912,
          1912,
          1912,
          1912,
          1912
         ],
         "legendgroup": "Tennis",
         "marker": {
          "color": "#ab63fa",
          "pattern": {
           "shape": ""
          }
         },
         "name": "Tennis",
         "offsetgroup": "Tennis",
         "orientation": "v",
         "showlegend": false,
         "textposition": "auto",
         "type": "bar",
         "x": [
          "GBR",
          "GBR",
          "SWE",
          "SWE",
          "SWE",
          "SWE",
          "NOR",
          "NOR",
          "FRA",
          "FRA",
          "SWE",
          "DEN",
          "DEN",
          "SWE",
          "SWE",
          "SWE",
          "SWE",
          "SWE",
          "SWE",
          "SWE",
          "GBR",
          "GBR",
          "SWE",
          "SWE",
          "SWE",
          "SWE",
          "GER",
          "GER",
          "GBR",
          "GBR"
         ],
         "xaxis": "x2",
         "y": [
          "Silver",
          null,
          null,
          null,
          null,
          null,
          "Bronze",
          null,
          "Gold",
          "Bronze",
          null,
          null,
          "Silver",
          null,
          null,
          null,
          null,
          "Silver",
          "Bronze",
          null,
          "Gold",
          "Gold",
          null,
          null,
          null,
          null,
          "Silver",
          "Gold",
          null,
          "Bronze"
         ],
         "yaxis": "y2"
        },
        {
         "alignmentgroup": "True",
         "customdata": [
          [
           21,
           "Russia",
           "Football",
           "Football Men's Football"
          ],
          [
           22,
           "Norway",
           "Football",
           "Football Men's Football"
          ],
          [
           24,
           "Sweden",
           "Football",
           "Football Men's Football"
          ],
          [
           21,
           "Norway",
           "Football",
           "Football Men's Football"
          ],
          [
           18,
           "Italy",
           "Football",
           "Football Men's Football"
          ],
          [
           23,
           "Italy",
           "Football",
           "Football Men's Football"
          ],
          [
           26,
           "Sweden",
           "Football",
           "Football Men's Football"
          ],
          [
           24,
           "Great Britain",
           "Football",
           "Football Men's Football"
          ],
          [
           22,
           "Denmark",
           "Football",
           "Football Men's Football"
          ],
          [
           23,
           "Italy",
           "Football",
           "Football Men's Football"
          ],
          [
           21,
           "Hungary",
           "Football",
           "Football Men's Football"
          ],
          [
           24,
           "Austria",
           "Football",
           "Football Men's Football"
          ],
          [
           20,
           "Hungary",
           "Football",
           "Football Men's Football"
          ],
          [
           21,
           "Hungary",
           "Football",
           "Football Men's Football"
          ],
          [
           19,
           "Italy",
           "Football",
           "Football Men's Football"
          ],
          [
           27,
           "Hungary",
           "Football",
           "Football Men's Football"
          ],
          [
           23,
           "Sweden",
           "Football",
           "Football Men's Football"
          ],
          [
           21,
           "Sweden",
           "Football",
           "Football Men's Football"
          ],
          [
           21,
           "Germany",
           "Football",
           "Football Men's Football"
          ],
          [
           19,
           "Netherlands",
           "Football",
           "Football Men's Football"
          ],
          [
           18,
           "Netherlands",
           "Football",
           "Football Men's Football"
          ],
          [
           19,
           "Netherlands",
           "Football",
           "Football Men's Football"
          ],
          [
           20,
           "Austria",
           "Football",
           "Football Men's Football"
          ],
          [
           20,
           "Austria",
           "Football",
           "Football Men's Football"
          ],
          [
           30,
           "Great Britain",
           "Football",
           "Football Men's Football"
          ],
          [
           23,
           "Germany",
           "Football",
           "Football Men's Football"
          ],
          [
           31,
           "Denmark",
           "Football",
           "Football Men's Football"
          ],
          [
           28,
           "Germany",
           "Football",
           "Football Men's Football"
          ],
          [
           23,
           "Great Britain",
           "Football",
           "Football Men's Football"
          ],
          [
           20,
           "Russia",
           "Football",
           "Football Men's Football"
          ],
          [
           18,
           "Italy",
           "Football",
           "Football Men's Football"
          ],
          [
           22,
           "Denmark",
           "Football",
           "Football Men's Football"
          ],
          [
           24,
           "Austria",
           "Football",
           "Football Men's Football"
          ],
          [
           17,
           "Sweden",
           "Football",
           "Football Men's Football"
          ],
          [
           21,
           "Netherlands",
           "Football",
           "Football Men's Football"
          ],
          [
           29,
           "Netherlands",
           "Football",
           "Football Men's Football"
          ],
          [
           22,
           "Italy",
           "Football",
           "Football Men's Football"
          ],
          [
           18,
           "Italy",
           "Football",
           "Football Men's Football"
          ],
          [
           24,
           "Netherlands",
           "Football",
           "Football Men's Football"
          ],
          [
           26,
           "Great Britain",
           "Football",
           "Football Men's Football"
          ],
          [
           24,
           "Hungary",
           "Football",
           "Football Men's Football"
          ],
          [
           20,
           "Sweden",
           "Football",
           "Football Men's Football"
          ],
          [
           26,
           "Norway",
           "Football",
           "Football Men's Football"
          ],
          [
           null,
           "Russia",
           "Football",
           "Football Men's Football"
          ],
          [
           27,
           "Netherlands",
           "Football",
           "Football Men's Football"
          ],
          [
           20,
           "Hungary",
           "Football",
           "Football Men's Football"
          ],
          [
           null,
           "Russia",
           "Football",
           "Football Men's Football"
          ],
          [
           18,
           "Russia",
           "Football",
           "Football Men's Football"
          ],
          [
           24,
           "Germany",
           "Football",
           "Football Men's Football"
          ],
          [
           24,
           "Netherlands",
           "Football",
           "Football Men's Football"
          ],
          [
           20,
           "Sweden",
           "Football",
           "Football Men's Football"
          ],
          [
           23,
           "Germany",
           "Football",
           "Football Men's Football"
          ],
          [
           24,
           "Germany",
           "Football",
           "Football Men's Football"
          ],
          [
           20,
           "Netherlands",
           "Football",
           "Football Men's Football"
          ],
          [
           23,
           "Austria",
           "Football",
           "Football Men's Football"
          ],
          [
           20,
           "Austria",
           "Football",
           "Football Men's Football"
          ],
          [
           23,
           "Sweden",
           "Football",
           "Football Men's Football"
          ],
          [
           23,
           "Great Britain",
           "Football",
           "Football Men's Football"
          ],
          [
           28,
           "Denmark",
           "Football",
           "Football Men's Football"
          ],
          [
           22,
           "Denmark",
           "Football",
           "Football Men's Football"
          ],
          [
           24,
           "Germany",
           "Football",
           "Football Men's Football"
          ],
          [
           20,
           "Norway",
           "Football",
           "Football Men's Football"
          ],
          [
           20,
           "Germany",
           "Football",
           "Football Men's Football"
          ],
          [
           28,
           "Great Britain",
           "Football",
           "Football Men's Football"
          ],
          [
           25,
           "Germany",
           "Football",
           "Football Men's Football"
          ],
          [
           19,
           "Finland",
           "Football",
           "Football Men's Football"
          ],
          [
           28,
           "Austria",
           "Football",
           "Football Men's Football"
          ],
          [
           23,
           "Germany",
           "Football",
           "Football Men's Football"
          ],
          [
           19,
           "Norway",
           "Football",
           "Football Men's Football"
          ],
          [
           24,
           "Norway",
           "Football",
           "Football Men's Football"
          ],
          [
           30,
           "Denmark",
           "Football",
           "Football Men's Football"
          ],
          [
           24,
           "Austria",
           "Football",
           "Football Men's Football"
          ],
          [
           26,
           "Hungary",
           "Football",
           "Football Men's Football"
          ],
          [
           24,
           "Russia",
           "Football",
           "Football Men's Football"
          ],
          [
           27,
           "Germany",
           "Football",
           "Football Men's Football"
          ],
          [
           24,
           "Great Britain",
           "Football",
           "Football Men's Football"
          ],
          [
           21,
           "Norway",
           "Football",
           "Football Men's Football"
          ],
          [
           25,
           "Germany",
           "Football",
           "Football Men's Football"
          ],
          [
           28,
           "Austria",
           "Football",
           "Football Men's Football"
          ],
          [
           null,
           "Russia",
           "Football",
           "Football Men's Football"
          ],
          [
           24,
           "Italy",
           "Football",
           "Football Men's Football"
          ],
          [
           21,
           "Sweden",
           "Football",
           "Football Men's Football"
          ],
          [
           23,
           "Finland",
           "Football",
           "Football Men's Football"
          ],
          [
           29,
           "Great Britain",
           "Football",
           "Football Men's Football"
          ],
          [
           20,
           "Finland",
           "Football",
           "Football Men's Football"
          ],
          [
           29,
           "Netherlands",
           "Football",
           "Football Men's Football"
          ],
          [
           20,
           "Finland",
           "Football",
           "Football Men's Football"
          ],
          [
           23,
           "Denmark",
           "Football",
           "Football Men's Football"
          ],
          [
           24,
           "Norway",
           "Football",
           "Football Men's Football"
          ],
          [
           24,
           "Norway",
           "Football",
           "Football Men's Football"
          ],
          [
           19,
           "Italy",
           "Football",
           "Football Men's Football"
          ],
          [
           23,
           "Russia",
           "Football",
           "Football Men's Football"
          ],
          [
           25,
           "Great Britain",
           "Football",
           "Football Men's Football"
          ],
          [
           24,
           "Austria",
           "Football",
           "Football Men's Football"
          ],
          [
           24,
           "Denmark",
           "Football",
           "Football Men's Football"
          ],
          [
           24,
           "Italy",
           "Football",
           "Football Men's Football"
          ],
          [
           23,
           "Italy",
           "Football",
           "Football Men's Football"
          ],
          [
           21,
           "Austria",
           "Football",
           "Football Men's Football"
          ],
          [
           22,
           "Sweden",
           "Football",
           "Football Men's Football"
          ],
          [
           22,
           "Austria",
           "Football",
           "Football Men's Football"
          ],
          [
           29,
           "Denmark",
           "Football",
           "Football Men's Football"
          ],
          [
           20,
           "Denmark",
           "Football",
           "Football Men's Football"
          ],
          [
           24,
           "Denmark",
           "Football",
           "Football Men's Football"
          ],
          [
           22,
           "Russia",
           "Football",
           "Football Men's Football"
          ],
          [
           23,
           "Finland",
           "Football",
           "Football Men's Football"
          ],
          [
           29,
           "Austria",
           "Football",
           "Football Men's Football"
          ],
          [
           20,
           "Finland",
           "Football",
           "Football Men's Football"
          ],
          [
           22,
           "Germany",
           "Football",
           "Football Men's Football"
          ],
          [
           20,
           "Finland",
           "Football",
           "Football Men's Football"
          ],
          [
           22,
           "Denmark",
           "Football",
           "Football Men's Football"
          ],
          [
           18,
           "Hungary",
           "Football",
           "Football Men's Football"
          ],
          [
           23,
           "Hungary",
           "Football",
           "Football Men's Football"
          ],
          [
           21,
           "Norway",
           "Football",
           "Football Men's Football"
          ],
          [
           24,
           "Denmark",
           "Football",
           "Football Men's Football"
          ],
          [
           20,
           "Germany",
           "Football",
           "Football Men's Football"
          ],
          [
           22,
           "Norway",
           "Football",
           "Football Men's Football"
          ],
          [
           null,
           "Russia",
           "Football",
           "Football Men's Football"
          ],
          [
           27,
           "Germany",
           "Football",
           "Football Men's Football"
          ],
          [
           25,
           "Hungary",
           "Football",
           "Football Men's Football"
          ],
          [
           23,
           "Sweden",
           "Football",
           "Football Men's Football"
          ],
          [
           21,
           "Italy",
           "Football",
           "Football Men's Football"
          ],
          [
           22,
           "Hungary",
           "Football",
           "Football Men's Football"
          ],
          [
           27,
           "Hungary",
           "Football",
           "Football Men's Football"
          ],
          [
           22,
           "Great Britain",
           "Football",
           "Football Men's Football"
          ],
          [
           20,
           "Norway",
           "Football",
           "Football Men's Football"
          ],
          [
           null,
           "Russia",
           "Football",
           "Football Men's Football"
          ],
          [
           17,
           "Finland",
           "Football",
           "Football Men's Football"
          ],
          [
           24,
           "Finland",
           "Football",
           "Football Men's Football"
          ],
          [
           20,
           "Russia",
           "Football",
           "Football Men's Football"
          ],
          [
           22,
           "Great Britain",
           "Football",
           "Football Men's Football"
          ],
          [
           28,
           "Austria",
           "Football",
           "Football Men's Football"
          ],
          [
           18,
           "Sweden",
           "Football",
           "Football Men's Football"
          ],
          [
           21,
           "Finland",
           "Football",
           "Football Men's Football"
          ],
          [
           23,
           "Hungary",
           "Football",
           "Football Men's Football"
          ],
          [
           22,
           "Finland",
           "Football",
           "Football Men's Football"
          ],
          [
           21,
           "Netherlands",
           "Football",
           "Football Men's Football"
          ],
          [
           20,
           "Germany",
           "Football",
           "Football Men's Football"
          ],
          [
           23,
           "Sweden",
           "Football",
           "Football Men's Football"
          ],
          [
           22,
           "Denmark",
           "Football",
           "Football Men's Football"
          ],
          [
           27,
           "Germany",
           "Football",
           "Football Men's Football"
          ],
          [
           24,
           "Germany",
           "Football",
           "Football Men's Football"
          ],
          [
           26,
           "Russia",
           "Football",
           "Football Men's Football"
          ],
          [
           20,
           "Hungary",
           "Football",
           "Football Men's Football"
          ],
          [
           19,
           "Italy",
           "Football",
           "Football Men's Football"
          ],
          [
           18,
           "Netherlands",
           "Football",
           "Football Men's Football"
          ],
          [
           23,
           "Netherlands",
           "Football",
           "Football Men's Football"
          ],
          [
           24,
           "Netherlands",
           "Football",
           "Football Men's Football"
          ],
          [
           24,
           "Great Britain",
           "Football",
           "Football Men's Football"
          ],
          [
           23,
           "Germany",
           "Football",
           "Football Men's Football"
          ],
          [
           23,
           "Austria",
           "Football",
           "Football Men's Football"
          ],
          [
           24,
           "Germany",
           "Football",
           "Football Men's Football"
          ],
          [
           25,
           "Germany",
           "Football",
           "Football Men's Football"
          ],
          [
           21,
           "Finland",
           "Football",
           "Football Men's Football"
          ],
          [
           19,
           "Sweden",
           "Football",
           "Football Men's Football"
          ],
          [
           19,
           "Finland",
           "Football",
           "Football Men's Football"
          ],
          [
           20,
           "Netherlands",
           "Football",
           "Football Men's Football"
          ],
          [
           22,
           "Denmark",
           "Football",
           "Football Men's Football"
          ],
          [
           32,
           "Great Britain",
           "Football",
           "Football Men's Football"
          ],
          [
           25,
           "Germany",
           "Football",
           "Football Men's Football"
          ],
          [
           27,
           "Great Britain",
           "Football",
           "Football Men's Football"
          ],
          [
           18,
           "Russia",
           "Football",
           "Football Men's Football"
          ],
          [
           21,
           "Russia",
           "Football",
           "Football Men's Football"
          ],
          [
           20,
           "Italy",
           "Football",
           "Football Men's Football"
          ]
         ],
         "hovertemplate": "<b>%{hovertext}</b><br><br>Sport=%{customdata[2]}<br>Sex=M<br>Country=%{x}<br>Medal=%{y}<br>Age=%{customdata[0]}<br>Team=%{customdata[1]}<br>Event=%{customdata[3]}<extra></extra>",
         "hovertext": [
          1912,
          1912,
          1912,
          1912,
          1912,
          1912,
          1912,
          1912,
          1912,
          1912,
          1912,
          1912,
          1912,
          1912,
          1912,
          1912,
          1912,
          1912,
          1912,
          1912,
          1912,
          1912,
          1912,
          1912,
          1912,
          1912,
          1912,
          1912,
          1912,
          1912,
          1912,
          1912,
          1912,
          1912,
          1912,
          1912,
          1912,
          1912,
          1912,
          1912,
          1912,
          1912,
          1912,
          1912,
          1912,
          1912,
          1912,
          1912,
          1912,
          1912,
          1912,
          1912,
          1912,
          1912,
          1912,
          1912,
          1912,
          1912,
          1912,
          1912,
          1912,
          1912,
          1912,
          1912,
          1912,
          1912,
          1912,
          1912,
          1912,
          1912,
          1912,
          1912,
          1912,
          1912,
          1912,
          1912,
          1912,
          1912,
          1912,
          1912,
          1912,
          1912,
          1912,
          1912,
          1912,
          1912,
          1912,
          1912,
          1912,
          1912,
          1912,
          1912,
          1912,
          1912,
          1912,
          1912,
          1912,
          1912,
          1912,
          1912,
          1912,
          1912,
          1912,
          1912,
          1912,
          1912,
          1912,
          1912,
          1912,
          1912,
          1912,
          1912,
          1912,
          1912,
          1912,
          1912,
          1912,
          1912,
          1912,
          1912,
          1912,
          1912,
          1912,
          1912,
          1912,
          1912,
          1912,
          1912,
          1912,
          1912,
          1912,
          1912,
          1912,
          1912,
          1912,
          1912,
          1912,
          1912,
          1912,
          1912,
          1912,
          1912,
          1912,
          1912,
          1912,
          1912,
          1912,
          1912,
          1912,
          1912,
          1912,
          1912,
          1912,
          1912,
          1912,
          1912,
          1912,
          1912,
          1912,
          1912,
          1912,
          1912,
          1912
         ],
         "legendgroup": "Football",
         "marker": {
          "color": "#FFA15A",
          "pattern": {
           "shape": ""
          }
         },
         "name": "Football",
         "offsetgroup": "Football",
         "orientation": "v",
         "showlegend": true,
         "textposition": "auto",
         "type": "bar",
         "x": [
          "RUS",
          "NOR",
          "SWE",
          "NOR",
          "ITA",
          "ITA",
          "SWE",
          "GBR",
          "DEN",
          "ITA",
          "HUN",
          "AUT",
          "HUN",
          "HUN",
          "ITA",
          "HUN",
          "SWE",
          "SWE",
          "GER",
          "NED",
          "NED",
          "NED",
          "AUT",
          "AUT",
          "GBR",
          "GER",
          "DEN",
          "GER",
          "GBR",
          "RUS",
          "ITA",
          "DEN",
          "AUT",
          "SWE",
          "NED",
          "NED",
          "ITA",
          "ITA",
          "NED",
          "GBR",
          "HUN",
          "SWE",
          "NOR",
          "RUS",
          "NED",
          "HUN",
          "RUS",
          "RUS",
          "GER",
          "NED",
          "SWE",
          "GER",
          "GER",
          "NED",
          "AUT",
          "AUT",
          "SWE",
          "GBR",
          "DEN",
          "DEN",
          "GER",
          "NOR",
          "GER",
          "GBR",
          "GER",
          "FIN",
          "AUT",
          "GER",
          "NOR",
          "NOR",
          "DEN",
          "AUT",
          "HUN",
          "RUS",
          "GER",
          "GBR",
          "NOR",
          "GER",
          "AUT",
          "RUS",
          "ITA",
          "SWE",
          "FIN",
          "GBR",
          "FIN",
          "NED",
          "FIN",
          "DEN",
          "NOR",
          "NOR",
          "ITA",
          "RUS",
          "GBR",
          "AUT",
          "DEN",
          "ITA",
          "ITA",
          "AUT",
          "SWE",
          "AUT",
          "DEN",
          "DEN",
          "DEN",
          "RUS",
          "FIN",
          "AUT",
          "FIN",
          "GER",
          "FIN",
          "DEN",
          "HUN",
          "HUN",
          "NOR",
          "DEN",
          "GER",
          "NOR",
          "RUS",
          "GER",
          "HUN",
          "SWE",
          "ITA",
          "HUN",
          "HUN",
          "GBR",
          "NOR",
          "RUS",
          "FIN",
          "FIN",
          "RUS",
          "GBR",
          "AUT",
          "SWE",
          "FIN",
          "HUN",
          "FIN",
          "NED",
          "GER",
          "SWE",
          "DEN",
          "GER",
          "GER",
          "RUS",
          "HUN",
          "ITA",
          "NED",
          "NED",
          "NED",
          "GBR",
          "GER",
          "AUT",
          "GER",
          "GER",
          "FIN",
          "SWE",
          "FIN",
          "NED",
          "DEN",
          "GBR",
          "GER",
          "GBR",
          "RUS",
          "RUS",
          "ITA"
         ],
         "xaxis": "x",
         "y": [
          null,
          null,
          null,
          null,
          null,
          null,
          null,
          "Gold",
          "Silver",
          null,
          null,
          null,
          null,
          null,
          null,
          null,
          null,
          null,
          null,
          "Bronze",
          "Bronze",
          "Bronze",
          null,
          null,
          "Gold",
          null,
          "Silver",
          null,
          "Gold",
          null,
          null,
          "Silver",
          null,
          null,
          "Bronze",
          "Bronze",
          null,
          null,
          "Bronze",
          "Gold",
          null,
          null,
          null,
          null,
          "Bronze",
          null,
          null,
          null,
          null,
          "Bronze",
          null,
          null,
          null,
          "Bronze",
          null,
          null,
          null,
          "Gold",
          "Silver",
          "Silver",
          null,
          null,
          null,
          "Gold",
          null,
          null,
          null,
          null,
          null,
          null,
          "Silver",
          null,
          null,
          null,
          null,
          "Gold",
          null,
          null,
          null,
          null,
          null,
          null,
          null,
          "Gold",
          null,
          "Bronze",
          null,
          "Silver",
          null,
          null,
          null,
          null,
          "Gold",
          null,
          "Silver",
          null,
          null,
          null,
          null,
          null,
          "Silver",
          "Silver",
          "Silver",
          null,
          null,
          null,
          null,
          null,
          null,
          "Silver",
          null,
          null,
          null,
          "Silver",
          null,
          null,
          null,
          null,
          null,
          null,
          null,
          null,
          null,
          "Gold",
          null,
          null,
          null,
          null,
          null,
          "Gold",
          null,
          null,
          null,
          null,
          null,
          "Bronze",
          null,
          null,
          "Silver",
          null,
          null,
          null,
          null,
          null,
          "Bronze",
          "Bronze",
          "Bronze",
          "Gold",
          null,
          null,
          null,
          null,
          null,
          null,
          null,
          "Bronze",
          "Silver",
          "Gold",
          null,
          "Gold",
          null,
          null,
          null
         ],
         "yaxis": "y"
        },
        {
         "alignmentgroup": "True",
         "customdata": [
          [
           24,
           "France",
           "Cycling",
           "Cycling Men's Road Race, Individual"
          ],
          [
           24,
           "France",
           "Cycling",
           "Cycling Men's Road Race, Team"
          ],
          [
           20,
           "Norway",
           "Cycling",
           "Cycling Men's Road Race, Individual"
          ],
          [
           20,
           "Norway",
           "Cycling",
           "Cycling Men's Road Race, Team"
          ],
          [
           24,
           "Russia",
           "Cycling",
           "Cycling Men's Road Race, Individual"
          ],
          [
           24,
           "Russia",
           "Cycling",
           "Cycling Men's Road Race, Team"
          ],
          [
           20,
           "Germany",
           "Cycling",
           "Cycling Men's Road Race, Individual"
          ],
          [
           20,
           "Germany",
           "Cycling",
           "Cycling Men's Road Race, Team"
          ],
          [
           25,
           "United States",
           "Cycling",
           "Cycling Men's Road Race, Individual"
          ],
          [
           25,
           "United States",
           "Cycling",
           "Cycling Men's Road Race, Team"
          ],
          [
           20,
           "France",
           "Cycling",
           "Cycling Men's Road Race, Individual"
          ],
          [
           20,
           "France",
           "Cycling",
           "Cycling Men's Road Race, Team"
          ],
          [
           27,
           "Germany",
           "Cycling",
           "Cycling Men's Road Race, Individual"
          ],
          [
           27,
           "Germany",
           "Cycling",
           "Cycling Men's Road Race, Team"
          ],
          [
           21,
           "Sweden",
           "Cycling",
           "Cycling Men's Road Race, Individual"
          ],
          [
           21,
           "Sweden",
           "Cycling",
           "Cycling Men's Road Race, Team"
          ],
          [
           20,
           "Russia",
           "Cycling",
           "Cycling Men's Road Race, Individual"
          ],
          [
           20,
           "Russia",
           "Cycling",
           "Cycling Men's Road Race, Team"
          ],
          [
           25,
           "Russia",
           "Cycling",
           "Cycling Men's Road Race, Individual"
          ],
          [
           25,
           "Russia",
           "Cycling",
           "Cycling Men's Road Race, Team"
          ],
          [
           null,
           "Canada",
           "Cycling",
           "Cycling Men's Road Race, Individual"
          ],
          [
           32,
           "Russia",
           "Cycling",
           "Cycling Men's Road Race, Individual"
          ],
          [
           32,
           "Russia",
           "Cycling",
           "Cycling Men's Road Race, Team"
          ],
          [
           20,
           "France",
           "Cycling",
           "Cycling Men's Road Race, Individual"
          ],
          [
           20,
           "France",
           "Cycling",
           "Cycling Men's Road Race, Team"
          ],
          [
           25,
           "France",
           "Cycling",
           "Cycling Men's Road Race, Individual"
          ],
          [
           25,
           "France",
           "Cycling",
           "Cycling Men's Road Race, Team"
          ],
          [
           26,
           "Scotland",
           "Cycling",
           "Cycling Men's Road Race, Individual"
          ],
          [
           26,
           "Scotland-2",
           "Cycling",
           "Cycling Men's Road Race, Team"
          ],
          [
           25,
           "England",
           "Cycling",
           "Cycling Men's Road Race, Individual"
          ],
          [
           25,
           "England-1",
           "Cycling",
           "Cycling Men's Road Race, Team"
          ],
          [
           21,
           "Chile",
           "Cycling",
           "Cycling Men's Road Race, Individual"
          ],
          [
           21,
           "Chile",
           "Cycling",
           "Cycling Men's Road Race, Team"
          ],
          [
           24,
           "Ireland",
           "Cycling",
           "Cycling Men's Road Race, Individual"
          ],
          [
           24,
           "Ireland-3",
           "Cycling",
           "Cycling Men's Road Race, Team"
          ],
          [
           28,
           "Sweden",
           "Cycling",
           "Cycling Men's Road Race, Individual"
          ],
          [
           28,
           "Sweden",
           "Cycling",
           "Cycling Men's Road Race, Team"
          ],
          [
           19,
           "Sweden",
           "Cycling",
           "Cycling Men's Road Race, Individual"
          ],
          [
           19,
           "Sweden",
           "Cycling",
           "Cycling Men's Road Race, Team"
          ],
          [
           19,
           "Chile",
           "Cycling",
           "Cycling Men's Road Race, Individual"
          ],
          [
           19,
           "Chile",
           "Cycling",
           "Cycling Men's Road Race, Team"
          ],
          [
           21,
           "France",
           "Cycling",
           "Cycling Men's Road Race, Individual"
          ],
          [
           21,
           "France",
           "Cycling",
           "Cycling Men's Road Race, Team"
          ],
          [
           30,
           "England",
           "Cycling",
           "Cycling Men's Road Race, Individual"
          ],
          [
           30,
           "England-1",
           "Cycling",
           "Cycling Men's Road Race, Team"
          ],
          [
           null,
           "England",
           "Cycling",
           "Cycling Men's Road Race, Individual"
          ],
          [
           null,
           "England-1",
           "Cycling",
           "Cycling Men's Road Race, Team"
          ],
          [
           30,
           "Scotland",
           "Cycling",
           "Cycling Men's Road Race, Individual"
          ],
          [
           30,
           "Scotland-2",
           "Cycling",
           "Cycling Men's Road Race, Team"
          ],
          [
           24,
           "England",
           "Cycling",
           "Cycling Men's Road Race, Individual"
          ],
          [
           24,
           "England-1",
           "Cycling",
           "Cycling Men's Road Race, Team"
          ],
          [
           19,
           "Norway",
           "Cycling",
           "Cycling Men's Road Race, Individual"
          ],
          [
           19,
           "Norway",
           "Cycling",
           "Cycling Men's Road Race, Team"
          ],
          [
           null,
           "Ireland",
           "Cycling",
           "Cycling Men's Road Race, Individual"
          ],
          [
           null,
           "Ireland-3",
           "Cycling",
           "Cycling Men's Road Race, Team"
          ],
          [
           25,
           "England",
           "Cycling",
           "Cycling Men's Road Race, Individual"
          ],
          [
           25,
           "England-1",
           "Cycling",
           "Cycling Men's Road Race, Team"
          ],
          [
           25,
           "Norway",
           "Cycling",
           "Cycling Men's Road Race, Individual"
          ],
          [
           25,
           "Norway",
           "Cycling",
           "Cycling Men's Road Race, Team"
          ],
          [
           21,
           "Denmark",
           "Cycling",
           "Cycling Men's Road Race, Individual"
          ],
          [
           21,
           "Denmark",
           "Cycling",
           "Cycling Men's Road Race, Team"
          ],
          [
           22,
           "Austria",
           "Cycling",
           "Cycling Men's Road Race, Individual"
          ],
          [
           22,
           "Austria",
           "Cycling",
           "Cycling Men's Road Race, Team"
          ],
          [
           18,
           "Norway",
           "Cycling",
           "Cycling Men's Road Race, Individual"
          ],
          [
           18,
           "Norway",
           "Cycling",
           "Cycling Men's Road Race, Team"
          ],
          [
           30,
           "Hungary",
           "Cycling",
           "Cycling Men's Road Race, Individual"
          ],
          [
           30,
           "Hungary",
           "Cycling",
           "Cycling Men's Road Race, Team"
          ],
          [
           30,
           "England",
           "Cycling",
           "Cycling Men's Road Race, Individual"
          ],
          [
           30,
           "England-1",
           "Cycling",
           "Cycling Men's Road Race, Team"
          ],
          [
           25,
           "Scotland",
           "Cycling",
           "Cycling Men's Road Race, Individual"
          ],
          [
           25,
           "Scotland-2",
           "Cycling",
           "Cycling Men's Road Race, Team"
          ],
          [
           29,
           "Finland",
           "Cycling",
           "Cycling Men's Road Race, Individual"
          ],
          [
           29,
           "Finland",
           "Cycling",
           "Cycling Men's Road Race, Team"
          ],
          [
           19,
           "Denmark",
           "Cycling",
           "Cycling Men's Road Race, Individual"
          ],
          [
           19,
           "Denmark",
           "Cycling",
           "Cycling Men's Road Race, Team"
          ],
          [
           24,
           "England",
           "Cycling",
           "Cycling Men's Road Race, Individual"
          ],
          [
           24,
           "England-1",
           "Cycling",
           "Cycling Men's Road Race, Team"
          ],
          [
           25,
           "Finland",
           "Cycling",
           "Cycling Men's Road Race, Individual"
          ],
          [
           25,
           "Finland",
           "Cycling",
           "Cycling Men's Road Race, Team"
          ],
          [
           24,
           "Sweden",
           "Cycling",
           "Cycling Men's Road Race, Individual"
          ],
          [
           24,
           "Sweden",
           "Cycling",
           "Cycling Men's Road Race, Team"
          ],
          [
           26,
           "Russia",
           "Cycling",
           "Cycling Men's Road Race, Individual"
          ],
          [
           26,
           "Russia",
           "Cycling",
           "Cycling Men's Road Race, Team"
          ],
          [
           21,
           "Russia",
           "Cycling",
           "Cycling Men's Road Race, Individual"
          ],
          [
           21,
           "Russia",
           "Cycling",
           "Cycling Men's Road Race, Team"
          ],
          [
           21,
           "England",
           "Cycling",
           "Cycling Men's Road Race, Individual"
          ],
          [
           21,
           "England-1",
           "Cycling",
           "Cycling Men's Road Race, Team"
          ],
          [
           24,
           "Germany",
           "Cycling",
           "Cycling Men's Road Race, Individual"
          ],
          [
           24,
           "Germany",
           "Cycling",
           "Cycling Men's Road Race, Team"
          ],
          [
           20,
           "Austria",
           "Cycling",
           "Cycling Men's Road Race, Individual"
          ],
          [
           20,
           "Austria",
           "Cycling",
           "Cycling Men's Road Race, Team"
          ],
          [
           21,
           "Chile",
           "Cycling",
           "Cycling Men's Road Race, Individual"
          ],
          [
           21,
           "Chile",
           "Cycling",
           "Cycling Men's Road Race, Team"
          ],
          [
           29,
           "United States",
           "Cycling",
           "Cycling Men's Road Race, Individual"
          ],
          [
           29,
           "United States",
           "Cycling",
           "Cycling Men's Road Race, Team"
          ],
          [
           26,
           "Austria",
           "Cycling",
           "Cycling Men's Road Race, Individual"
          ],
          [
           26,
           "Austria",
           "Cycling",
           "Cycling Men's Road Race, Team"
          ],
          [
           22,
           "United States",
           "Cycling",
           "Cycling Men's Road Race, Individual"
          ],
          [
           22,
           "United States",
           "Cycling",
           "Cycling Men's Road Race, Team"
          ],
          [
           25,
           "Bohemia",
           "Cycling",
           "Cycling Men's Road Race, Individual"
          ],
          [
           25,
           "Bohemia",
           "Cycling",
           "Cycling Men's Road Race, Team"
          ],
          [
           20,
           "Bohemia",
           "Cycling",
           "Cycling Men's Road Race, Individual"
          ],
          [
           20,
           "Bohemia",
           "Cycling",
           "Cycling Men's Road Race, Team"
          ],
          [
           21,
           "Sweden",
           "Cycling",
           "Cycling Men's Road Race, Individual"
          ],
          [
           21,
           "Sweden",
           "Cycling",
           "Cycling Men's Road Race, Team"
          ],
          [
           21,
           "Germany",
           "Cycling",
           "Cycling Men's Road Race, Individual"
          ],
          [
           21,
           "Germany",
           "Cycling",
           "Cycling Men's Road Race, Team"
          ],
          [
           33,
           "France",
           "Cycling",
           "Cycling Men's Road Race, Individual"
          ],
          [
           33,
           "France",
           "Cycling",
           "Cycling Men's Road Race, Team"
          ],
          [
           27,
           "Sweden",
           "Cycling",
           "Cycling Men's Road Race, Individual"
          ],
          [
           27,
           "Sweden",
           "Cycling",
           "Cycling Men's Road Race, Team"
          ],
          [
           24,
           "South Africa",
           "Cycling",
           "Cycling Men's Road Race, Individual"
          ],
          [
           28,
           "Russia",
           "Cycling",
           "Cycling Men's Road Race, Individual"
          ],
          [
           28,
           "Russia",
           "Cycling",
           "Cycling Men's Road Race, Team"
          ],
          [
           22,
           "United States",
           "Cycling",
           "Cycling Men's Road Race, Individual"
          ],
          [
           22,
           "United States",
           "Cycling",
           "Cycling Men's Road Race, Team"
          ],
          [
           24,
           "Sweden",
           "Cycling",
           "Cycling Men's Road Race, Individual"
          ],
          [
           24,
           "Sweden",
           "Cycling",
           "Cycling Men's Road Race, Team"
          ],
          [
           20,
           "Sweden",
           "Cycling",
           "Cycling Men's Road Race, Individual"
          ],
          [
           20,
           "Sweden",
           "Cycling",
           "Cycling Men's Road Race, Team"
          ],
          [
           29,
           "Germany",
           "Cycling",
           "Cycling Men's Road Race, Individual"
          ],
          [
           29,
           "Germany",
           "Cycling",
           "Cycling Men's Road Race, Team"
          ],
          [
           18,
           "Sweden",
           "Cycling",
           "Cycling Men's Road Race, Individual"
          ],
          [
           18,
           "Sweden",
           "Cycling",
           "Cycling Men's Road Race, Team"
          ],
          [
           24,
           "Germany",
           "Cycling",
           "Cycling Men's Road Race, Individual"
          ],
          [
           24,
           "Germany",
           "Cycling",
           "Cycling Men's Road Race, Team"
          ],
          [
           28,
           "France",
           "Cycling",
           "Cycling Men's Road Race, Individual"
          ],
          [
           28,
           "France",
           "Cycling",
           "Cycling Men's Road Race, Team"
          ],
          [
           20,
           "United States",
           "Cycling",
           "Cycling Men's Road Race, Individual"
          ],
          [
           20,
           "United States",
           "Cycling",
           "Cycling Men's Road Race, Team"
          ],
          [
           24,
           "Hungary",
           "Cycling",
           "Cycling Men's Road Race, Individual"
          ],
          [
           24,
           "Hungary",
           "Cycling",
           "Cycling Men's Road Race, Team"
          ],
          [
           23,
           "Ireland",
           "Cycling",
           "Cycling Men's Road Race, Individual"
          ],
          [
           23,
           "Ireland-3",
           "Cycling",
           "Cycling Men's Road Race, Team"
          ],
          [
           17,
           "United States",
           "Cycling",
           "Cycling Men's Road Race, Individual"
          ],
          [
           17,
           "United States",
           "Cycling",
           "Cycling Men's Road Race, Team"
          ],
          [
           30,
           "England",
           "Cycling",
           "Cycling Men's Road Race, Individual"
          ],
          [
           30,
           "England-1",
           "Cycling",
           "Cycling Men's Road Race, Team"
          ],
          [
           25,
           "England",
           "Cycling",
           "Cycling Men's Road Race, Individual"
          ],
          [
           25,
           "England-1",
           "Cycling",
           "Cycling Men's Road Race, Team"
          ],
          [
           29,
           "Denmark",
           "Cycling",
           "Cycling Men's Road Race, Individual"
          ],
          [
           29,
           "Denmark",
           "Cycling",
           "Cycling Men's Road Race, Team"
          ],
          [
           28,
           "France",
           "Cycling",
           "Cycling Men's Road Race, Individual"
          ],
          [
           28,
           "France",
           "Cycling",
           "Cycling Men's Road Race, Team"
          ],
          [
           31,
           "Scotland",
           "Cycling",
           "Cycling Men's Road Race, Individual"
          ],
          [
           31,
           "Scotland-2",
           "Cycling",
           "Cycling Men's Road Race, Team"
          ],
          [
           35,
           "Sweden",
           "Cycling",
           "Cycling Men's Road Race, Individual"
          ],
          [
           35,
           "Sweden",
           "Cycling",
           "Cycling Men's Road Race, Team"
          ],
          [
           30,
           "England",
           "Cycling",
           "Cycling Men's Road Race, Individual"
          ],
          [
           30,
           "England-1",
           "Cycling",
           "Cycling Men's Road Race, Team"
          ],
          [
           28,
           "Hungary",
           "Cycling",
           "Cycling Men's Road Race, Individual"
          ],
          [
           28,
           "Hungary",
           "Cycling",
           "Cycling Men's Road Race, Team"
          ],
          [
           32,
           "Denmark",
           "Cycling",
           "Cycling Men's Road Race, Individual"
          ],
          [
           32,
           "Denmark",
           "Cycling",
           "Cycling Men's Road Race, Team"
          ],
          [
           18,
           "Denmark",
           "Cycling",
           "Cycling Men's Road Race, Individual"
          ],
          [
           18,
           "Denmark",
           "Cycling",
           "Cycling Men's Road Race, Team"
          ],
          [
           19,
           "Norway",
           "Cycling",
           "Cycling Men's Road Race, Individual"
          ],
          [
           19,
           "Norway",
           "Cycling",
           "Cycling Men's Road Race, Team"
          ],
          [
           28,
           "Denmark",
           "Cycling",
           "Cycling Men's Road Race, Individual"
          ],
          [
           28,
           "Denmark",
           "Cycling",
           "Cycling Men's Road Race, Team"
          ],
          [
           27,
           "Denmark",
           "Cycling",
           "Cycling Men's Road Race, Individual"
          ],
          [
           27,
           "Denmark",
           "Cycling",
           "Cycling Men's Road Race, Team"
          ],
          [
           33,
           "Belgium",
           "Cycling",
           "Cycling Men's Road Race, Individual"
          ],
          [
           22,
           "France",
           "Cycling",
           "Cycling Men's Road Race, Individual"
          ],
          [
           22,
           "France",
           "Cycling",
           "Cycling Men's Road Race, Team"
          ],
          [
           24,
           "Sweden",
           "Cycling",
           "Cycling Men's Road Race, Individual"
          ],
          [
           24,
           "Sweden",
           "Cycling",
           "Cycling Men's Road Race, Team"
          ],
          [
           24,
           "Russia",
           "Cycling",
           "Cycling Men's Road Race, Individual"
          ],
          [
           24,
           "Russia",
           "Cycling",
           "Cycling Men's Road Race, Team"
          ],
          [
           19,
           "Sweden",
           "Cycling",
           "Cycling Men's Road Race, Individual"
          ],
          [
           19,
           "Sweden",
           "Cycling",
           "Cycling Men's Road Race, Team"
          ],
          [
           21,
           "United States",
           "Cycling",
           "Cycling Men's Road Race, Individual"
          ],
          [
           21,
           "United States",
           "Cycling",
           "Cycling Men's Road Race, Team"
          ],
          [
           24,
           "Russia",
           "Cycling",
           "Cycling Men's Road Race, Individual"
          ],
          [
           24,
           "Russia",
           "Cycling",
           "Cycling Men's Road Race, Team"
          ],
          [
           35,
           "Germany",
           "Cycling",
           "Cycling Men's Road Race, Individual"
          ],
          [
           35,
           "Germany",
           "Cycling",
           "Cycling Men's Road Race, Team"
          ],
          [
           20,
           "France",
           "Cycling",
           "Cycling Men's Road Race, Individual"
          ],
          [
           20,
           "France",
           "Cycling",
           "Cycling Men's Road Race, Team"
          ],
          [
           28,
           "Finland",
           "Cycling",
           "Cycling Men's Road Race, Individual"
          ],
          [
           28,
           "Finland",
           "Cycling",
           "Cycling Men's Road Race, Team"
          ],
          [
           17,
           "Bohemia",
           "Cycling",
           "Cycling Men's Road Race, Individual"
          ],
          [
           17,
           "Bohemia",
           "Cycling",
           "Cycling Men's Road Race, Team"
          ],
          [
           22,
           "Austria",
           "Cycling",
           "Cycling Men's Road Race, Individual"
          ],
          [
           22,
           "Austria",
           "Cycling",
           "Cycling Men's Road Race, Team"
          ],
          [
           20,
           "Germany",
           "Cycling",
           "Cycling Men's Road Race, Individual"
          ],
          [
           20,
           "Germany",
           "Cycling",
           "Cycling Men's Road Race, Team"
          ],
          [
           21,
           "Denmark",
           "Cycling",
           "Cycling Men's Road Race, Individual"
          ],
          [
           21,
           "Denmark",
           "Cycling",
           "Cycling Men's Road Race, Team"
          ],
          [
           18,
           "Germany",
           "Cycling",
           "Cycling Men's Road Race, Individual"
          ],
          [
           18,
           "Germany",
           "Cycling",
           "Cycling Men's Road Race, Team"
          ],
          [
           24,
           "Russia",
           "Cycling",
           "Cycling Men's Road Race, Individual"
          ],
          [
           24,
           "Russia",
           "Cycling",
           "Cycling Men's Road Race, Team"
          ],
          [
           19,
           "France",
           "Cycling",
           "Cycling Men's Road Race, Individual"
          ],
          [
           19,
           "France",
           "Cycling",
           "Cycling Men's Road Race, Team"
          ],
          [
           29,
           "Norway",
           "Cycling",
           "Cycling Men's Road Race, Individual"
          ],
          [
           29,
           "Norway",
           "Cycling",
           "Cycling Men's Road Race, Team"
          ],
          [
           24,
           "United States",
           "Cycling",
           "Cycling Men's Road Race, Individual"
          ],
          [
           24,
           "United States",
           "Cycling",
           "Cycling Men's Road Race, Team"
          ],
          [
           31,
           "Germany",
           "Cycling",
           "Cycling Men's Road Race, Individual"
          ],
          [
           31,
           "Germany",
           "Cycling",
           "Cycling Men's Road Race, Team"
          ],
          [
           28,
           "United States",
           "Cycling",
           "Cycling Men's Road Race, Individual"
          ],
          [
           28,
           "United States",
           "Cycling",
           "Cycling Men's Road Race, Team"
          ],
          [
           30,
           "Scotland",
           "Cycling",
           "Cycling Men's Road Race, Individual"
          ],
          [
           30,
           "Scotland-2",
           "Cycling",
           "Cycling Men's Road Race, Team"
          ],
          [
           35,
           "Scotland",
           "Cycling",
           "Cycling Men's Road Race, Individual"
          ],
          [
           35,
           "Scotland-2",
           "Cycling",
           "Cycling Men's Road Race, Team"
          ],
          [
           36,
           "England",
           "Cycling",
           "Cycling Men's Road Race, Individual"
          ],
          [
           36,
           "England-1",
           "Cycling",
           "Cycling Men's Road Race, Team"
          ],
          [
           31,
           "Hungary",
           "Cycling",
           "Cycling Men's Road Race, Individual"
          ],
          [
           31,
           "Hungary",
           "Cycling",
           "Cycling Men's Road Race, Team"
          ],
          [
           20,
           "Hungary",
           "Cycling",
           "Cycling Men's Road Race, Individual"
          ],
          [
           20,
           "Hungary",
           "Cycling",
           "Cycling Men's Road Race, Team"
          ],
          [
           27,
           "Scotland",
           "Cycling",
           "Cycling Men's Road Race, Individual"
          ],
          [
           27,
           "Scotland-2",
           "Cycling",
           "Cycling Men's Road Race, Team"
          ],
          [
           27,
           "Finland",
           "Cycling",
           "Cycling Men's Road Race, Individual"
          ],
          [
           27,
           "Finland",
           "Cycling",
           "Cycling Men's Road Race, Team"
          ],
          [
           19,
           "Bohemia",
           "Cycling",
           "Cycling Men's Road Race, Individual"
          ],
          [
           19,
           "Bohemia",
           "Cycling",
           "Cycling Men's Road Race, Team"
          ],
          [
           22,
           "Chile",
           "Cycling",
           "Cycling Men's Road Race, Individual"
          ],
          [
           22,
           "Chile",
           "Cycling",
           "Cycling Men's Road Race, Team"
          ],
          [
           20,
           "France",
           "Cycling",
           "Cycling Men's Road Race, Individual"
          ],
          [
           20,
           "France",
           "Cycling",
           "Cycling Men's Road Race, Team"
          ],
          [
           19,
           "Finland",
           "Cycling",
           "Cycling Men's Road Race, Individual"
          ],
          [
           19,
           "Finland",
           "Cycling",
           "Cycling Men's Road Race, Team"
          ],
          [
           24,
           "Bohemia",
           "Cycling",
           "Cycling Men's Road Race, Individual"
          ],
          [
           24,
           "Bohemia",
           "Cycling",
           "Cycling Men's Road Race, Team"
          ],
          [
           23,
           "Austria",
           "Cycling",
           "Cycling Men's Road Race, Individual"
          ],
          [
           23,
           "Austria",
           "Cycling",
           "Cycling Men's Road Race, Team"
          ],
          [
           23,
           "Ireland",
           "Cycling",
           "Cycling Men's Road Race, Individual"
          ],
          [
           23,
           "Ireland-3",
           "Cycling",
           "Cycling Men's Road Race, Team"
          ],
          [
           26,
           "Ireland",
           "Cycling",
           "Cycling Men's Road Race, Individual"
          ],
          [
           26,
           "Ireland-3",
           "Cycling",
           "Cycling Men's Road Race, Team"
          ],
          [
           24,
           "Ireland",
           "Cycling",
           "Cycling Men's Road Race, Individual"
          ],
          [
           24,
           "Ireland-3",
           "Cycling",
           "Cycling Men's Road Race, Team"
          ],
          [
           34,
           "Germany",
           "Cycling",
           "Cycling Men's Road Race, Individual"
          ],
          [
           34,
           "Germany",
           "Cycling",
           "Cycling Men's Road Race, Team"
          ],
          [
           null,
           "Canada",
           "Cycling",
           "Cycling Men's Road Race, Individual"
          ],
          [
           35,
           "Scotland",
           "Cycling",
           "Cycling Men's Road Race, Individual"
          ],
          [
           35,
           "Scotland-2",
           "Cycling",
           "Cycling Men's Road Race, Team"
          ],
          [
           21,
           "Austria",
           "Cycling",
           "Cycling Men's Road Race, Individual"
          ],
          [
           21,
           "Austria",
           "Cycling",
           "Cycling Men's Road Race, Team"
          ]
         ],
         "hovertemplate": "<b>%{hovertext}</b><br><br>Sport=%{customdata[2]}<br>Sex=M<br>Country=%{x}<br>Medal=%{y}<br>Age=%{customdata[0]}<br>Team=%{customdata[1]}<br>Event=%{customdata[3]}<extra></extra>",
         "hovertext": [
          1912,
          1912,
          1912,
          1912,
          1912,
          1912,
          1912,
          1912,
          1912,
          1912,
          1912,
          1912,
          1912,
          1912,
          1912,
          1912,
          1912,
          1912,
          1912,
          1912,
          1912,
          1912,
          1912,
          1912,
          1912,
          1912,
          1912,
          1912,
          1912,
          1912,
          1912,
          1912,
          1912,
          1912,
          1912,
          1912,
          1912,
          1912,
          1912,
          1912,
          1912,
          1912,
          1912,
          1912,
          1912,
          1912,
          1912,
          1912,
          1912,
          1912,
          1912,
          1912,
          1912,
          1912,
          1912,
          1912,
          1912,
          1912,
          1912,
          1912,
          1912,
          1912,
          1912,
          1912,
          1912,
          1912,
          1912,
          1912,
          1912,
          1912,
          1912,
          1912,
          1912,
          1912,
          1912,
          1912,
          1912,
          1912,
          1912,
          1912,
          1912,
          1912,
          1912,
          1912,
          1912,
          1912,
          1912,
          1912,
          1912,
          1912,
          1912,
          1912,
          1912,
          1912,
          1912,
          1912,
          1912,
          1912,
          1912,
          1912,
          1912,
          1912,
          1912,
          1912,
          1912,
          1912,
          1912,
          1912,
          1912,
          1912,
          1912,
          1912,
          1912,
          1912,
          1912,
          1912,
          1912,
          1912,
          1912,
          1912,
          1912,
          1912,
          1912,
          1912,
          1912,
          1912,
          1912,
          1912,
          1912,
          1912,
          1912,
          1912,
          1912,
          1912,
          1912,
          1912,
          1912,
          1912,
          1912,
          1912,
          1912,
          1912,
          1912,
          1912,
          1912,
          1912,
          1912,
          1912,
          1912,
          1912,
          1912,
          1912,
          1912,
          1912,
          1912,
          1912,
          1912,
          1912,
          1912,
          1912,
          1912,
          1912,
          1912,
          1912,
          1912,
          1912,
          1912,
          1912,
          1912,
          1912,
          1912,
          1912,
          1912,
          1912,
          1912,
          1912,
          1912,
          1912,
          1912,
          1912,
          1912,
          1912,
          1912,
          1912,
          1912,
          1912,
          1912,
          1912,
          1912,
          1912,
          1912,
          1912,
          1912,
          1912,
          1912,
          1912,
          1912,
          1912,
          1912,
          1912,
          1912,
          1912,
          1912,
          1912,
          1912,
          1912,
          1912,
          1912,
          1912,
          1912,
          1912,
          1912,
          1912,
          1912,
          1912,
          1912,
          1912,
          1912,
          1912,
          1912,
          1912,
          1912,
          1912,
          1912,
          1912,
          1912,
          1912,
          1912,
          1912,
          1912,
          1912,
          1912,
          1912,
          1912,
          1912,
          1912,
          1912,
          1912,
          1912,
          1912,
          1912,
          1912
         ],
         "legendgroup": "Cycling",
         "marker": {
          "color": "#19d3f3",
          "pattern": {
           "shape": ""
          }
         },
         "name": "Cycling",
         "offsetgroup": "Cycling",
         "orientation": "v",
         "showlegend": true,
         "textposition": "auto",
         "type": "bar",
         "x": [
          "FRA",
          "FRA",
          "NOR",
          "NOR",
          "RUS",
          "RUS",
          "GER",
          "GER",
          "USA",
          "USA",
          "FRA",
          "FRA",
          "GER",
          "GER",
          "SWE",
          "SWE",
          "RUS",
          "RUS",
          "RUS",
          "RUS",
          "CAN",
          "RUS",
          "RUS",
          "FRA",
          "FRA",
          "FRA",
          "FRA",
          "GBR",
          "GBR",
          "GBR",
          "GBR",
          "CHI",
          "CHI",
          "GBR",
          "GBR",
          "SWE",
          "SWE",
          "SWE",
          "SWE",
          "CHI",
          "CHI",
          "FRA",
          "FRA",
          "GBR",
          "GBR",
          "GBR",
          "GBR",
          "GBR",
          "GBR",
          "GBR",
          "GBR",
          "NOR",
          "NOR",
          "GBR",
          "GBR",
          "GBR",
          "GBR",
          "NOR",
          "NOR",
          "DEN",
          "DEN",
          "AUT",
          "AUT",
          "NOR",
          "NOR",
          "HUN",
          "HUN",
          "GBR",
          "GBR",
          "GBR",
          "GBR",
          "FIN",
          "FIN",
          "DEN",
          "DEN",
          "GBR",
          "GBR",
          "FIN",
          "FIN",
          "SWE",
          "SWE",
          "RUS",
          "RUS",
          "RUS",
          "RUS",
          "GBR",
          "GBR",
          "GER",
          "GER",
          "AUT",
          "AUT",
          "CHI",
          "CHI",
          "USA",
          "USA",
          "AUT",
          "AUT",
          "USA",
          "USA",
          "BOH",
          "BOH",
          "BOH",
          "BOH",
          "SWE",
          "SWE",
          "GER",
          "GER",
          "FRA",
          "FRA",
          "SWE",
          "SWE",
          "RSA",
          "RUS",
          "RUS",
          "USA",
          "USA",
          "SWE",
          "SWE",
          "SWE",
          "SWE",
          "GER",
          "GER",
          "SWE",
          "SWE",
          "GER",
          "GER",
          "FRA",
          "FRA",
          "USA",
          "USA",
          "HUN",
          "HUN",
          "GBR",
          "GBR",
          "USA",
          "USA",
          "GBR",
          "GBR",
          "GBR",
          "GBR",
          "DEN",
          "DEN",
          "FRA",
          "FRA",
          "GBR",
          "GBR",
          "SWE",
          "SWE",
          "GBR",
          "GBR",
          "HUN",
          "HUN",
          "DEN",
          "DEN",
          "DEN",
          "DEN",
          "NOR",
          "NOR",
          "DEN",
          "DEN",
          "DEN",
          "DEN",
          "BEL",
          "FRA",
          "FRA",
          "SWE",
          "SWE",
          "RUS",
          "RUS",
          "SWE",
          "SWE",
          "USA",
          "USA",
          "RUS",
          "RUS",
          "GER",
          "GER",
          "FRA",
          "FRA",
          "FIN",
          "FIN",
          "BOH",
          "BOH",
          "AUT",
          "AUT",
          "GER",
          "GER",
          "DEN",
          "DEN",
          "GER",
          "GER",
          "RUS",
          "RUS",
          "FRA",
          "FRA",
          "NOR",
          "NOR",
          "USA",
          "USA",
          "GER",
          "GER",
          "USA",
          "USA",
          "GBR",
          "GBR",
          "GBR",
          "GBR",
          "GBR",
          "GBR",
          "HUN",
          "HUN",
          "HUN",
          "HUN",
          "GBR",
          "GBR",
          "FIN",
          "FIN",
          "BOH",
          "BOH",
          "CHI",
          "CHI",
          "FRA",
          "FRA",
          "FIN",
          "FIN",
          "BOH",
          "BOH",
          "AUT",
          "AUT",
          "GBR",
          "GBR",
          "GBR",
          "GBR",
          "GBR",
          "GBR",
          "GER",
          "GER",
          "CAN",
          "GBR",
          "GBR",
          "AUT",
          "AUT"
         ],
         "xaxis": "x",
         "y": [
          null,
          null,
          null,
          null,
          null,
          null,
          null,
          null,
          null,
          "Bronze",
          null,
          null,
          null,
          null,
          null,
          "Gold",
          null,
          null,
          null,
          null,
          null,
          null,
          null,
          null,
          null,
          null,
          null,
          null,
          null,
          null,
          "Silver",
          null,
          null,
          null,
          null,
          null,
          "Gold",
          null,
          "Gold",
          null,
          null,
          null,
          null,
          null,
          "Silver",
          null,
          "Silver",
          null,
          null,
          "Silver",
          "Silver",
          null,
          null,
          null,
          null,
          null,
          "Silver",
          null,
          null,
          null,
          null,
          null,
          null,
          null,
          null,
          null,
          null,
          null,
          "Silver",
          null,
          null,
          null,
          null,
          null,
          null,
          null,
          "Silver",
          null,
          null,
          null,
          "Gold",
          null,
          null,
          null,
          null,
          null,
          "Silver",
          null,
          null,
          null,
          null,
          null,
          null,
          null,
          "Bronze",
          null,
          null,
          null,
          "Bronze",
          null,
          null,
          null,
          null,
          null,
          "Gold",
          null,
          null,
          null,
          null,
          null,
          "Gold",
          "Gold",
          null,
          null,
          null,
          "Bronze",
          null,
          "Gold",
          null,
          "Gold",
          null,
          null,
          null,
          "Gold",
          null,
          null,
          null,
          null,
          null,
          "Bronze",
          null,
          null,
          null,
          null,
          null,
          "Bronze",
          null,
          "Silver",
          null,
          "Silver",
          null,
          null,
          null,
          null,
          null,
          null,
          null,
          "Gold",
          null,
          "Silver",
          null,
          null,
          null,
          null,
          null,
          null,
          null,
          null,
          null,
          null,
          null,
          null,
          null,
          null,
          null,
          null,
          "Gold",
          null,
          null,
          null,
          "Gold",
          null,
          "Bronze",
          null,
          null,
          null,
          null,
          null,
          null,
          null,
          null,
          null,
          null,
          null,
          null,
          null,
          null,
          null,
          null,
          null,
          null,
          null,
          null,
          null,
          null,
          null,
          null,
          "Bronze",
          "Bronze",
          null,
          null,
          null,
          "Bronze",
          null,
          null,
          null,
          null,
          null,
          "Silver",
          null,
          null,
          null,
          null,
          null,
          null,
          null,
          null,
          null,
          null,
          null,
          null,
          null,
          null,
          null,
          null,
          null,
          null,
          null,
          null,
          null,
          null,
          null,
          null,
          null,
          null,
          null,
          null,
          null,
          null,
          null,
          null,
          null
         ],
         "yaxis": "y"
        },
        {
         "alignmentgroup": "True",
         "customdata": [
          [
           30,
           "Sweden",
           "Tug-Of-War",
           "Tug-Of-War Men's Tug-Of-War"
          ],
          [
           33,
           "Sweden",
           "Tug-Of-War",
           "Tug-Of-War Men's Tug-Of-War"
          ],
          [
           42,
           "Great Britain",
           "Tug-Of-War",
           "Tug-Of-War Men's Tug-Of-War"
          ],
          [
           33,
           "Great Britain",
           "Tug-Of-War",
           "Tug-Of-War Men's Tug-Of-War"
          ],
          [
           37,
           "Sweden",
           "Tug-Of-War",
           "Tug-Of-War Men's Tug-Of-War"
          ],
          [
           26,
           "Sweden",
           "Tug-Of-War",
           "Tug-Of-War Men's Tug-Of-War"
          ],
          [
           36,
           "Sweden",
           "Tug-Of-War",
           "Tug-Of-War Men's Tug-Of-War"
          ],
          [
           34,
           "Great Britain",
           "Tug-Of-War",
           "Tug-Of-War Men's Tug-Of-War"
          ],
          [
           29,
           "Great Britain",
           "Tug-Of-War",
           "Tug-Of-War Men's Tug-Of-War"
          ],
          [
           26,
           "Sweden",
           "Tug-Of-War",
           "Tug-Of-War Men's Tug-Of-War"
          ],
          [
           23,
           "Sweden",
           "Tug-Of-War",
           "Tug-Of-War Men's Tug-Of-War"
          ],
          [
           26,
           "Sweden",
           "Tug-Of-War",
           "Tug-Of-War Men's Tug-Of-War"
          ],
          [
           33,
           "Great Britain",
           "Tug-Of-War",
           "Tug-Of-War Men's Tug-Of-War"
          ],
          [
           41,
           "Great Britain",
           "Tug-Of-War",
           "Tug-Of-War Men's Tug-Of-War"
          ],
          [
           30,
           "Great Britain",
           "Tug-Of-War",
           "Tug-Of-War Men's Tug-Of-War"
          ],
          [
           27,
           "Great Britain",
           "Tug-Of-War",
           "Tug-Of-War Men's Tug-Of-War"
          ]
         ],
         "hovertemplate": "<b>%{hovertext}</b><br><br>Sport=%{customdata[2]}<br>Sex=M<br>Country=%{x}<br>Medal=%{y}<br>Age=%{customdata[0]}<br>Team=%{customdata[1]}<br>Event=%{customdata[3]}<extra></extra>",
         "hovertext": [
          1912,
          1912,
          1912,
          1912,
          1912,
          1912,
          1912,
          1912,
          1912,
          1912,
          1912,
          1912,
          1912,
          1912,
          1912,
          1912
         ],
         "legendgroup": "Tug-Of-War",
         "marker": {
          "color": "#FF6692",
          "pattern": {
           "shape": ""
          }
         },
         "name": "Tug-Of-War",
         "offsetgroup": "Tug-Of-War",
         "orientation": "v",
         "showlegend": true,
         "textposition": "auto",
         "type": "bar",
         "x": [
          "SWE",
          "SWE",
          "GBR",
          "GBR",
          "SWE",
          "SWE",
          "SWE",
          "GBR",
          "GBR",
          "SWE",
          "SWE",
          "SWE",
          "GBR",
          "GBR",
          "GBR",
          "GBR"
         ],
         "xaxis": "x",
         "y": [
          "Gold",
          "Gold",
          "Silver",
          "Silver",
          "Gold",
          "Gold",
          "Gold",
          "Silver",
          "Silver",
          "Gold",
          "Gold",
          "Gold",
          "Silver",
          "Silver",
          "Silver",
          "Silver"
         ],
         "yaxis": "y"
        }
       ],
       "layout": {
        "annotations": [
         {
          "font": {},
          "showarrow": false,
          "text": "Sex=M",
          "x": 0.245,
          "xanchor": "center",
          "xref": "paper",
          "y": 1,
          "yanchor": "bottom",
          "yref": "paper"
         },
         {
          "font": {},
          "showarrow": false,
          "text": "Sex=F",
          "x": 0.755,
          "xanchor": "center",
          "xref": "paper",
          "y": 1,
          "yanchor": "bottom",
          "yref": "paper"
         }
        ],
        "barmode": "relative",
        "legend": {
         "title": {
          "text": "Sport"
         },
         "tracegroupgap": 0
        },
        "template": {
         "data": {
          "bar": [
           {
            "error_x": {
             "color": "#2a3f5f"
            },
            "error_y": {
             "color": "#2a3f5f"
            },
            "marker": {
             "line": {
              "color": "#E5ECF6",
              "width": 0.5
             },
             "pattern": {
              "fillmode": "overlay",
              "size": 10,
              "solidity": 0.2
             }
            },
            "type": "bar"
           }
          ],
          "barpolar": [
           {
            "marker": {
             "line": {
              "color": "#E5ECF6",
              "width": 0.5
             },
             "pattern": {
              "fillmode": "overlay",
              "size": 10,
              "solidity": 0.2
             }
            },
            "type": "barpolar"
           }
          ],
          "carpet": [
           {
            "aaxis": {
             "endlinecolor": "#2a3f5f",
             "gridcolor": "white",
             "linecolor": "white",
             "minorgridcolor": "white",
             "startlinecolor": "#2a3f5f"
            },
            "baxis": {
             "endlinecolor": "#2a3f5f",
             "gridcolor": "white",
             "linecolor": "white",
             "minorgridcolor": "white",
             "startlinecolor": "#2a3f5f"
            },
            "type": "carpet"
           }
          ],
          "choropleth": [
           {
            "colorbar": {
             "outlinewidth": 0,
             "ticks": ""
            },
            "type": "choropleth"
           }
          ],
          "contour": [
           {
            "colorbar": {
             "outlinewidth": 0,
             "ticks": ""
            },
            "colorscale": [
             [
              0,
              "#0d0887"
             ],
             [
              0.1111111111111111,
              "#46039f"
             ],
             [
              0.2222222222222222,
              "#7201a8"
             ],
             [
              0.3333333333333333,
              "#9c179e"
             ],
             [
              0.4444444444444444,
              "#bd3786"
             ],
             [
              0.5555555555555556,
              "#d8576b"
             ],
             [
              0.6666666666666666,
              "#ed7953"
             ],
             [
              0.7777777777777778,
              "#fb9f3a"
             ],
             [
              0.8888888888888888,
              "#fdca26"
             ],
             [
              1,
              "#f0f921"
             ]
            ],
            "type": "contour"
           }
          ],
          "contourcarpet": [
           {
            "colorbar": {
             "outlinewidth": 0,
             "ticks": ""
            },
            "type": "contourcarpet"
           }
          ],
          "heatmap": [
           {
            "colorbar": {
             "outlinewidth": 0,
             "ticks": ""
            },
            "colorscale": [
             [
              0,
              "#0d0887"
             ],
             [
              0.1111111111111111,
              "#46039f"
             ],
             [
              0.2222222222222222,
              "#7201a8"
             ],
             [
              0.3333333333333333,
              "#9c179e"
             ],
             [
              0.4444444444444444,
              "#bd3786"
             ],
             [
              0.5555555555555556,
              "#d8576b"
             ],
             [
              0.6666666666666666,
              "#ed7953"
             ],
             [
              0.7777777777777778,
              "#fb9f3a"
             ],
             [
              0.8888888888888888,
              "#fdca26"
             ],
             [
              1,
              "#f0f921"
             ]
            ],
            "type": "heatmap"
           }
          ],
          "heatmapgl": [
           {
            "colorbar": {
             "outlinewidth": 0,
             "ticks": ""
            },
            "colorscale": [
             [
              0,
              "#0d0887"
             ],
             [
              0.1111111111111111,
              "#46039f"
             ],
             [
              0.2222222222222222,
              "#7201a8"
             ],
             [
              0.3333333333333333,
              "#9c179e"
             ],
             [
              0.4444444444444444,
              "#bd3786"
             ],
             [
              0.5555555555555556,
              "#d8576b"
             ],
             [
              0.6666666666666666,
              "#ed7953"
             ],
             [
              0.7777777777777778,
              "#fb9f3a"
             ],
             [
              0.8888888888888888,
              "#fdca26"
             ],
             [
              1,
              "#f0f921"
             ]
            ],
            "type": "heatmapgl"
           }
          ],
          "histogram": [
           {
            "marker": {
             "pattern": {
              "fillmode": "overlay",
              "size": 10,
              "solidity": 0.2
             }
            },
            "type": "histogram"
           }
          ],
          "histogram2d": [
           {
            "colorbar": {
             "outlinewidth": 0,
             "ticks": ""
            },
            "colorscale": [
             [
              0,
              "#0d0887"
             ],
             [
              0.1111111111111111,
              "#46039f"
             ],
             [
              0.2222222222222222,
              "#7201a8"
             ],
             [
              0.3333333333333333,
              "#9c179e"
             ],
             [
              0.4444444444444444,
              "#bd3786"
             ],
             [
              0.5555555555555556,
              "#d8576b"
             ],
             [
              0.6666666666666666,
              "#ed7953"
             ],
             [
              0.7777777777777778,
              "#fb9f3a"
             ],
             [
              0.8888888888888888,
              "#fdca26"
             ],
             [
              1,
              "#f0f921"
             ]
            ],
            "type": "histogram2d"
           }
          ],
          "histogram2dcontour": [
           {
            "colorbar": {
             "outlinewidth": 0,
             "ticks": ""
            },
            "colorscale": [
             [
              0,
              "#0d0887"
             ],
             [
              0.1111111111111111,
              "#46039f"
             ],
             [
              0.2222222222222222,
              "#7201a8"
             ],
             [
              0.3333333333333333,
              "#9c179e"
             ],
             [
              0.4444444444444444,
              "#bd3786"
             ],
             [
              0.5555555555555556,
              "#d8576b"
             ],
             [
              0.6666666666666666,
              "#ed7953"
             ],
             [
              0.7777777777777778,
              "#fb9f3a"
             ],
             [
              0.8888888888888888,
              "#fdca26"
             ],
             [
              1,
              "#f0f921"
             ]
            ],
            "type": "histogram2dcontour"
           }
          ],
          "mesh3d": [
           {
            "colorbar": {
             "outlinewidth": 0,
             "ticks": ""
            },
            "type": "mesh3d"
           }
          ],
          "parcoords": [
           {
            "line": {
             "colorbar": {
              "outlinewidth": 0,
              "ticks": ""
             }
            },
            "type": "parcoords"
           }
          ],
          "pie": [
           {
            "automargin": true,
            "type": "pie"
           }
          ],
          "scatter": [
           {
            "fillpattern": {
             "fillmode": "overlay",
             "size": 10,
             "solidity": 0.2
            },
            "type": "scatter"
           }
          ],
          "scatter3d": [
           {
            "line": {
             "colorbar": {
              "outlinewidth": 0,
              "ticks": ""
             }
            },
            "marker": {
             "colorbar": {
              "outlinewidth": 0,
              "ticks": ""
             }
            },
            "type": "scatter3d"
           }
          ],
          "scattercarpet": [
           {
            "marker": {
             "colorbar": {
              "outlinewidth": 0,
              "ticks": ""
             }
            },
            "type": "scattercarpet"
           }
          ],
          "scattergeo": [
           {
            "marker": {
             "colorbar": {
              "outlinewidth": 0,
              "ticks": ""
             }
            },
            "type": "scattergeo"
           }
          ],
          "scattergl": [
           {
            "marker": {
             "colorbar": {
              "outlinewidth": 0,
              "ticks": ""
             }
            },
            "type": "scattergl"
           }
          ],
          "scattermapbox": [
           {
            "marker": {
             "colorbar": {
              "outlinewidth": 0,
              "ticks": ""
             }
            },
            "type": "scattermapbox"
           }
          ],
          "scatterpolar": [
           {
            "marker": {
             "colorbar": {
              "outlinewidth": 0,
              "ticks": ""
             }
            },
            "type": "scatterpolar"
           }
          ],
          "scatterpolargl": [
           {
            "marker": {
             "colorbar": {
              "outlinewidth": 0,
              "ticks": ""
             }
            },
            "type": "scatterpolargl"
           }
          ],
          "scatterternary": [
           {
            "marker": {
             "colorbar": {
              "outlinewidth": 0,
              "ticks": ""
             }
            },
            "type": "scatterternary"
           }
          ],
          "surface": [
           {
            "colorbar": {
             "outlinewidth": 0,
             "ticks": ""
            },
            "colorscale": [
             [
              0,
              "#0d0887"
             ],
             [
              0.1111111111111111,
              "#46039f"
             ],
             [
              0.2222222222222222,
              "#7201a8"
             ],
             [
              0.3333333333333333,
              "#9c179e"
             ],
             [
              0.4444444444444444,
              "#bd3786"
             ],
             [
              0.5555555555555556,
              "#d8576b"
             ],
             [
              0.6666666666666666,
              "#ed7953"
             ],
             [
              0.7777777777777778,
              "#fb9f3a"
             ],
             [
              0.8888888888888888,
              "#fdca26"
             ],
             [
              1,
              "#f0f921"
             ]
            ],
            "type": "surface"
           }
          ],
          "table": [
           {
            "cells": {
             "fill": {
              "color": "#EBF0F8"
             },
             "line": {
              "color": "white"
             }
            },
            "header": {
             "fill": {
              "color": "#C8D4E3"
             },
             "line": {
              "color": "white"
             }
            },
            "type": "table"
           }
          ]
         },
         "layout": {
          "annotationdefaults": {
           "arrowcolor": "#2a3f5f",
           "arrowhead": 0,
           "arrowwidth": 1
          },
          "autotypenumbers": "strict",
          "coloraxis": {
           "colorbar": {
            "outlinewidth": 0,
            "ticks": ""
           }
          },
          "colorscale": {
           "diverging": [
            [
             0,
             "#8e0152"
            ],
            [
             0.1,
             "#c51b7d"
            ],
            [
             0.2,
             "#de77ae"
            ],
            [
             0.3,
             "#f1b6da"
            ],
            [
             0.4,
             "#fde0ef"
            ],
            [
             0.5,
             "#f7f7f7"
            ],
            [
             0.6,
             "#e6f5d0"
            ],
            [
             0.7,
             "#b8e186"
            ],
            [
             0.8,
             "#7fbc41"
            ],
            [
             0.9,
             "#4d9221"
            ],
            [
             1,
             "#276419"
            ]
           ],
           "sequential": [
            [
             0,
             "#0d0887"
            ],
            [
             0.1111111111111111,
             "#46039f"
            ],
            [
             0.2222222222222222,
             "#7201a8"
            ],
            [
             0.3333333333333333,
             "#9c179e"
            ],
            [
             0.4444444444444444,
             "#bd3786"
            ],
            [
             0.5555555555555556,
             "#d8576b"
            ],
            [
             0.6666666666666666,
             "#ed7953"
            ],
            [
             0.7777777777777778,
             "#fb9f3a"
            ],
            [
             0.8888888888888888,
             "#fdca26"
            ],
            [
             1,
             "#f0f921"
            ]
           ],
           "sequentialminus": [
            [
             0,
             "#0d0887"
            ],
            [
             0.1111111111111111,
             "#46039f"
            ],
            [
             0.2222222222222222,
             "#7201a8"
            ],
            [
             0.3333333333333333,
             "#9c179e"
            ],
            [
             0.4444444444444444,
             "#bd3786"
            ],
            [
             0.5555555555555556,
             "#d8576b"
            ],
            [
             0.6666666666666666,
             "#ed7953"
            ],
            [
             0.7777777777777778,
             "#fb9f3a"
            ],
            [
             0.8888888888888888,
             "#fdca26"
            ],
            [
             1,
             "#f0f921"
            ]
           ]
          },
          "colorway": [
           "#636efa",
           "#EF553B",
           "#00cc96",
           "#ab63fa",
           "#FFA15A",
           "#19d3f3",
           "#FF6692",
           "#B6E880",
           "#FF97FF",
           "#FECB52"
          ],
          "font": {
           "color": "#2a3f5f"
          },
          "geo": {
           "bgcolor": "white",
           "lakecolor": "white",
           "landcolor": "#E5ECF6",
           "showlakes": true,
           "showland": true,
           "subunitcolor": "white"
          },
          "hoverlabel": {
           "align": "left"
          },
          "hovermode": "closest",
          "mapbox": {
           "style": "light"
          },
          "paper_bgcolor": "white",
          "plot_bgcolor": "#E5ECF6",
          "polar": {
           "angularaxis": {
            "gridcolor": "white",
            "linecolor": "white",
            "ticks": ""
           },
           "bgcolor": "#E5ECF6",
           "radialaxis": {
            "gridcolor": "white",
            "linecolor": "white",
            "ticks": ""
           }
          },
          "scene": {
           "xaxis": {
            "backgroundcolor": "#E5ECF6",
            "gridcolor": "white",
            "gridwidth": 2,
            "linecolor": "white",
            "showbackground": true,
            "ticks": "",
            "zerolinecolor": "white"
           },
           "yaxis": {
            "backgroundcolor": "#E5ECF6",
            "gridcolor": "white",
            "gridwidth": 2,
            "linecolor": "white",
            "showbackground": true,
            "ticks": "",
            "zerolinecolor": "white"
           },
           "zaxis": {
            "backgroundcolor": "#E5ECF6",
            "gridcolor": "white",
            "gridwidth": 2,
            "linecolor": "white",
            "showbackground": true,
            "ticks": "",
            "zerolinecolor": "white"
           }
          },
          "shapedefaults": {
           "line": {
            "color": "#2a3f5f"
           }
          },
          "ternary": {
           "aaxis": {
            "gridcolor": "white",
            "linecolor": "white",
            "ticks": ""
           },
           "baxis": {
            "gridcolor": "white",
            "linecolor": "white",
            "ticks": ""
           },
           "bgcolor": "#E5ECF6",
           "caxis": {
            "gridcolor": "white",
            "linecolor": "white",
            "ticks": ""
           }
          },
          "title": {
           "x": 0.05
          },
          "xaxis": {
           "automargin": true,
           "gridcolor": "white",
           "linecolor": "white",
           "ticks": "",
           "title": {
            "standoff": 15
           },
           "zerolinecolor": "white",
           "zerolinewidth": 2
          },
          "yaxis": {
           "automargin": true,
           "gridcolor": "white",
           "linecolor": "white",
           "ticks": "",
           "title": {
            "standoff": 15
           },
           "zerolinecolor": "white",
           "zerolinewidth": 2
          }
         }
        },
        "title": {
         "text": "Medal Distribution in The Olympic Games in Sweden 1912"
        },
        "xaxis": {
         "anchor": "y",
         "domain": [
          0,
          0.49
         ],
         "title": {
          "text": "Country"
         }
        },
        "xaxis2": {
         "anchor": "y2",
         "domain": [
          0.51,
          1
         ],
         "matches": "x",
         "title": {
          "text": "Country"
         }
        },
        "yaxis": {
         "anchor": "x",
         "domain": [
          0,
          1
         ],
         "title": {
          "text": "Medal"
         }
        },
        "yaxis2": {
         "anchor": "x2",
         "domain": [
          0,
          1
         ],
         "matches": "y",
         "showticklabels": false
        }
       }
      }
     },
     "metadata": {},
     "output_type": "display_data"
    }
   ],
   "source": [
    "# Medal Distribution in The Olympic Games in Sweden 1912\n",
    "fig = px.bar(\n",
    "    athlete_events.query(\"Year == 1912\"),\n",
    "    x='NOC',\n",
    "    y='Medal',\n",
    "    color='Sport',\n",
    "    hover_name='Year',\n",
    "    hover_data=['Age', 'Team', 'Sport','Event'],\n",
    "    facet_col='Sex',\n",
    "    labels={\"NOC\": 'Country'},\n",
    "    title=\"Medal Distribution in The Olympic Games in Sweden 1912\"\n",
    "    )\n",
    "fig.show()\n"
   ]
  }
 ],
 "metadata": {
  "kernelspec": {
   "display_name": "databehandling-YOUNIS-MOUSSAVI-7D8IQwvr",
   "language": "python",
   "name": "python3"
  },
  "language_info": {
   "codemirror_mode": {
    "name": "ipython",
    "version": 3
   },
   "file_extension": ".py",
   "mimetype": "text/x-python",
   "name": "python",
   "nbconvert_exporter": "python",
   "pygments_lexer": "ipython3",
   "version": "3.11.5"
  },
  "orig_nbformat": 4
 },
 "nbformat": 4,
 "nbformat_minor": 2
}
