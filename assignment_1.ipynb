{
 "cells": [
  {
   "cell_type": "markdown",
   "metadata": {},
   "source": [
    "# Assignment 1 - Statistics per country\n",
    "#### Sports Statistics Sweden"
   ]
  },
  {
   "cell_type": "markdown",
   "metadata": {},
   "source": [
    "#### **a)** Börja med att anonymisera kolumnen med idrottarnas namn med hashfunktionen SHA-256."
   ]
  },
  {
   "cell_type": "markdown",
   "metadata": {},
   "source": [
    "#### Undersök därefter hur det gått för landet i OS genom tiderna. Visualisera exempelvis:\n",
    "#### **b)** de sporter landet fått flest medaljer i"
   ]
  },
  {
   "cell_type": "markdown",
   "metadata": {},
   "source": [
    "#### **c)** antal medaljer per OS"
   ]
  },
  {
   "cell_type": "markdown",
   "metadata": {},
   "source": [
    "#### **d)** histogram över åldrar"
   ]
  },
  {
   "cell_type": "markdown",
   "metadata": {},
   "source": [
    "#### **e)** Skapa fler plots för att visualisera flera aspekter kring ert land och dess sportprestationer i OS."
   ]
  }
 ],
 "metadata": {
  "language_info": {
   "name": "python"
  },
  "orig_nbformat": 4
 },
 "nbformat": 4,
 "nbformat_minor": 2
}
