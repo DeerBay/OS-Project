{
 "cells": [
  {
   "cell_type": "code",
   "execution_count": 2,
   "metadata": {},
   "outputs": [],
   "source": [
    "# Imports of needed libraries\n",
    "from dash import Dash, html, dcc, callback, Output, Input, dash_table\n",
    "import dash_bootstrap_components as dbc\n",
    "import plotly.express as px\n",
    "import pandas as pd\n",
    "from dash_bootstrap_templates import load_figure_template"
   ]
  },
  {
   "cell_type": "code",
   "execution_count": 28,
   "metadata": {},
   "outputs": [
    {
     "name": "stderr",
     "output_type": "stream",
     "text": [
      "C:\\Users\\yonis\\AppData\\Local\\Temp\\ipykernel_10932\\3412453967.py:2: DtypeWarning:\n",
      "\n",
      "Columns (3) have mixed types. Specify dtype option on import or set low_memory=False.\n",
      "\n"
     ]
    }
   ],
   "source": [
    "# Df All Athletes\n",
    "athlete_events = pd.read_csv(\"../data/final_df.csv\")\n",
    "\n",
    "# Df Swedish Athletes\n",
    "sweden_athletes = pd.DataFrame(athlete_events[athlete_events[\"NOC\"] == \"SWE\"])"
   ]
  },
  {
   "cell_type": "code",
   "execution_count": 34,
   "metadata": {},
   "outputs": [],
   "source": [
    "participants_medals= athlete_events.groupby(['Year','Country', 'Continent','Country_latitude', 'Country_longitude','Continent_latitude', 'Continent_longitude'], as_index=False)[['Name', 'Medal']].agg(\n",
    "    {'Name': 'nunique', 'Medal': 'count'})\n",
    "\n",
    "participants_medals_start = participants_medals.groupby(['Country','Continent' , \n",
    "                                                        'Country_latitude', 'Country_longitude','Continent_latitude', \n",
    "                                                        'Continent_longitude'], as_index=False)[['Name', 'Medal']].sum()"
   ]
  },
  {
   "cell_type": "code",
   "execution_count": 35,
   "metadata": {},
   "outputs": [
    {
     "name": "stdout",
     "output_type": "stream",
     "text": [
      "Dash app running on http://127.0.0.1:8050/\n"
     ]
    }
   ],
   "source": [
    "# Loading template for graphs\n",
    "load_figure_template(\"quartz\")\n",
    "\n",
    "# This initializes a Dash web application, \n",
    "# applies the \"QUARTZ\" Bootstrap theme for styling, \n",
    "# and includes a viewport meta tag to ensure proper rendering on various devices.\n",
    "app = Dash(__name__, \n",
    "           external_stylesheets=[dbc.themes.QUARTZ],\n",
    "               meta_tags=[{\"name\": \"viewport\", \"content\": \"width=device-width, initial-scale=1\"}]\n",
    ")\n",
    "\n",
    "# Needs to be included for deploying on render\n",
    "server = app.server\n",
    "\n",
    "# Layout for App\n",
    "app.layout = html.Div([\n",
    "    dbc.Row(\n",
    "        [\n",
    "            dbc.Col(html.H2(\"Olympic Games Achievements 1896-2016\", className=\"text-center text-primary\")),\n",
    "        ],\n",
    "        className=\"mb-3 mt-3\", # Adding marginal bottom and top\n",
    "    ),\n",
    "    dbc.Row([\n",
    "            dcc.Dropdown(id='year_dropdown', className='text-info',\n",
    "                        multi=True, \n",
    "                        options=[year for year in sorted(athlete_events['Year'].unique())], \n",
    "                        placeholder='Select Year',\n",
    "                        style={'width':'150px', 'margin-left': '10px', 'margin-right': '10px'},\n",
    "            ),\n",
    "            dcc.Dropdown(id='sport_dropdown', className='text-info',\n",
    "                        multi=True, \n",
    "                        options=[sport for sport in sorted(athlete_events['Sport'].unique())], \n",
    "                        placeholder='Select Sport',\n",
    "                        style={'width':'150px', 'margin-left': '10px', 'margin-right': '10px'},\n",
    "\n",
    "            ),\n",
    "            dcc.Dropdown(id='season_dropdown', className='text-info',\n",
    "                        multi=True, \n",
    "                        options=[season for season in sorted(athlete_events['Season'].unique())], \n",
    "                        placeholder='Select Season',\n",
    "                        style={'width':'150px', 'margin-left': '10px', 'margin-right': '10px'})\n",
    "\n",
    "    ], justify='center', class_name=\"mb-2 ml-50 mr-50\"), \n",
    "\n",
    "    dbc.Row([\n",
    "        dbc.Col(\n",
    "            dbc.Card(\n",
    "                [\n",
    "                    dbc.CardHeader(html.H3(\"Workning Title Graph One Left\", className=\"text-body-tertiary\", id=\"header_graph_1_left\")),\n",
    "                    dbc.CardBody([\n",
    "                        dcc.Dropdown(id='country_dropdown_left', \n",
    "                                 className='ml-3 mr-3 mb-1 text-info', \n",
    "                                 options=[sport for sport in sorted(athlete_events['Sport'].unique())], \n",
    "                                 placeholder='Select Sport'),\n",
    "                                 dcc.Graph(id=\"graph_1_left\", \n",
    "                                    figure={}),\n",
    "                    ]),\n",
    "                ],\n",
    "                className=\"mb-3\",\n",
    "            ), xs=12, sm=11, md=10, lg=5\n",
    "        ),\n",
    "        dbc.Col(  \n",
    "            dbc.Card(\n",
    "                [\n",
    "                    dbc.CardHeader(html.H3(\"Workning Title Graph One Right\", className=\"text-body-tertiary\", id=\"header_graph_2_right\")),\n",
    "                    dbc.CardBody([\n",
    "                        dcc.Dropdown(id='country_dropdown_right', \n",
    "                                 className='ml-3 mr-3 mb-1 text-info', \n",
    "                                 options=[year for year in sorted(athlete_events['Year'].unique())], \n",
    "                                 placeholder='Select Year'),]),\n",
    "                ],\n",
    "                className=\"mb-3\",\n",
    "            ), xs=12, sm=11, md=10, lg=5\n",
    "        ),\n",
    "    ], justify='evenly'),\n",
    "    dbc.Row([\n",
    "        dbc.Button(\"Reset\", id='reset-button', className='float-left', n_clicks=0), # Callback to reset page\n",
    "        dcc.Link(\"Contributors\", href=\"https://github.com/DeerBay/OS-Project/graphs/contributors\", target=\"_blank\"), # \"_blank\": Opens the linked document in a new tab or window.\n",
    "    ],style={\"margin-top\": \"20px\", \"text-align\": \"center\"})\n",
    "])\n",
    "\n",
    "@callback(\n",
    "    Output(\"graph_1_left\", \"figure\"),\n",
    "    Input(\"year_dropdown\", \"value\")\n",
    ")\n",
    "def figure_one(year):\n",
    "    participants_medals_start = participants_medals.groupby(['Country', 'Continent' , \n",
    "                                                           'Country_latitude', 'Country_longitude','Continent_latitude', \n",
    "                                                          'Continent_longitude'], as_index=False)[['Name', 'Medal']].sum()\n",
    "    df = participants_medals.query(\"Year==@year\")\n",
    "\n",
    "    if year == None:\n",
    "        fig = px.scatter_mapbox(participants_medals_start, lat=\"Country_latitude\", \n",
    "            lon=\"Country_longitude\", size=\"Name\", color=\"Medal\", \n",
    "            height=800, width=900, hover_name=\"Country\",  mapbox_style=\"open-street-map\", \n",
    "            title=\"Size according to count of participants=\")\n",
    "    else:\n",
    "        fig = px.scatter_mapbox(df, lat=\"Country_latitude\", \n",
    "        lon=\"Country_longitude\", size=\"Name\", color=\"Medal\", \n",
    "        height=800, width=900, hover_name=\"Country\",  mapbox_style=\"open-street-map\", \n",
    "        title=\"Size according to count of participants=\")\n",
    "    return fig\n",
    "\n",
    "if __name__ == \"__main__\":\n",
    "    app.run(debug=True, jupyter_mode=\"external\")\n",
    "    "
   ]
  }
 ],
 "metadata": {
  "kernelspec": {
   "display_name": "databehandling-YOUNIS-MOUSSAVI-7D8IQwvr",
   "language": "python",
   "name": "python3"
  },
  "language_info": {
   "codemirror_mode": {
    "name": "ipython",
    "version": 3
   },
   "file_extension": ".py",
   "mimetype": "text/x-python",
   "name": "python",
   "nbconvert_exporter": "python",
   "pygments_lexer": "ipython3",
   "version": "3.11.5"
  }
 },
 "nbformat": 4,
 "nbformat_minor": 2
}
