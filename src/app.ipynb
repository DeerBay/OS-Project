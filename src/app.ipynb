{
 "cells": [
  {
   "cell_type": "code",
   "execution_count": 2,
   "metadata": {},
   "outputs": [],
   "source": [
    "# Imports of needed libraries\n",
    "from dash import Dash, html, dcc, callback, Output, Input, dash_table\n",
    "import dash_bootstrap_components as dbc\n",
    "import plotly.express as px\n",
    "import pandas as pd\n",
    "from dash_bootstrap_templates import load_figure_template"
   ]
  },
  {
   "cell_type": "code",
   "execution_count": 28,
   "metadata": {},
   "outputs": [
    {
     "name": "stderr",
     "output_type": "stream",
     "text": [
      "C:\\Users\\yonis\\AppData\\Local\\Temp\\ipykernel_10932\\3412453967.py:2: DtypeWarning:\n",
      "\n",
      "Columns (3) have mixed types. Specify dtype option on import or set low_memory=False.\n",
      "\n"
     ]
    }
   ],
   "source": [
    "# Df All Athletes\n",
    "athlete_events = pd.read_csv(\"../data/final_df.csv\")\n",
    "\n",
    "# Df Swedish Athletes\n",
    "sweden_athletes = pd.DataFrame(athlete_events[athlete_events[\"NOC\"] == \"SWE\"])"
   ]
  },
  {
   "cell_type": "code",
   "execution_count": 34,
   "metadata": {},
   "outputs": [],
   "source": [
    "participants_medals= athlete_events.groupby(['Year','Country', 'Continent','Country_latitude', 'Country_longitude','Continent_latitude', 'Continent_longitude'], as_index=False)[['Name', 'Medal']].agg(\n",
    "    {'Name': 'nunique', 'Medal': 'count'})\n",
    "\n",
    "participants_medals_start = participants_medals.groupby(['Country','Continent' , \n",
    "                                                        'Country_latitude', 'Country_longitude','Continent_latitude', \n",
    "                                                        'Continent_longitude'], as_index=False)[['Name', 'Medal']].sum()"
   ]
  },
  {
   "cell_type": "code",
   "execution_count": 35,
   "metadata": {},
   "outputs": [
    {
     "name": "stdout",
     "output_type": "stream",
     "text": [
      "Dash app running on http://127.0.0.1:8050/\n"
     ]
    }
   ],
   "source": [
    "# Loading template for graphs\n",
    "load_figure_template(\"quartz\")\n",
    "\n",
    "# This initializes a Dash web application, \n",
    "# applies the \"QUARTZ\" Bootstrap theme for styling, \n",
    "# and includes a viewport meta tag to ensure proper rendering on various devices.\n",
    "app = Dash(__name__, \n",
    "           external_stylesheets=[dbc.themes.QUARTZ],\n",
    "               meta_tags=[{\"name\": \"viewport\", \"content\": \"width=device-width, initial-scale=1\"}]\n",
    ")\n",
    "\n",
    "# Needs to be included for deploying on render\n",
    "server = app.server\n",
    "\n",
    "# Layout for App\n",
    "app.layout = html.Div([\n",
    "    dbc.Row(\n",
    "        [\n",
    "            dbc.Col(html.H2(\"Olympic Games Achievements 1896-2016\", className=\"text-center text-primary\")),\n",
    "        ],\n",
    "        className=\"mb-3 mt-3\", # Adding marginal bottom and top\n",
    "    ),\n",
    "    dbc.Row([\n",
    "            dcc.Dropdown(id='year_dropdown', className='text-info',\n",
    "                        multi=True, \n",
    "                        options=[year for year in sorted(athlete_events['Year'].unique())], \n",
    "                        placeholder='Select Year',\n",
    "                        style={'width':'150px', 'margin-left': '10px', 'margin-right': '10px'},\n",
    "            ),\n",
    "            dcc.Dropdown(id='sport_dropdown', className='text-info',\n",
    "                        multi=True, \n",
    "                        options=[sport for sport in sorted(athlete_events['Sport'].unique())], \n",
    "                        placeholder='Select Sport',\n",
    "                        style={'width':'150px', 'margin-left': '10px', 'margin-right': '10px'},\n",
    "\n",
    "            ),\n",
    "            dcc.Dropdown(id='season_dropdown', className='text-info',\n",
    "                        multi=True, \n",
    "                        options=[season for season in sorted(athlete_events['Season'].unique())], \n",
    "                        placeholder='Select Season',\n",
    "                        style={'width':'150px', 'margin-left': '10px', 'margin-right': '10px'})\n",
    "\n",
    "    ], justify='center', class_name=\"mb-2 ml-50 mr-50\"), \n",
    "\n",
    "    dbc.Row([\n",
    "        dbc.Col(\n",
    "            dbc.Card(\n",
    "                [\n",
    "                    dbc.CardHeader(html.H3(\"Workning Title Graph One Left\", className=\"text-body-tertiary\", id=\"header_graph_1_left\")),\n",
    "                    dbc.CardBody([\n",
    "                        dcc.Dropdown(id='country_dropdown_left', \n",
    "                                 className='ml-3 mr-3 mb-1 text-info', \n",
    "                                 options=[sport for sport in sorted(athlete_events['Sport'].unique())], \n",
    "                                 placeholder='Select Sport'),\n",
    "                                 dcc.Graph(id=\"graph_1_left\", \n",
    "                                    figure={}),\n",
    "                    ]),\n",
    "                ],\n",
    "                className=\"mb-3\",\n",
    "            ), xs=12, sm=11, md=10, lg=5\n",
    "        ),\n",
    "        dbc.Col(  \n",
    "            dbc.Card(\n",
    "                [\n",
    "                    dbc.CardHeader(html.H3(\"Workning Title Graph One Right\", className=\"text-body-tertiary\", id=\"header_graph_2_right\")),\n",
    "                    dbc.CardBody([\n",
    "                        dcc.Dropdown(id='country_dropdown_right', \n",
    "                                 className='ml-3 mr-3 mb-1 text-info', \n",
    "                                 options=[year for year in sorted(athlete_events['Year'].unique())], \n",
    "                                 placeholder='Select Year'),]),\n",
    "                ],\n",
    "                className=\"mb-3\",\n",
    "            ), xs=12, sm=11, md=10, lg=5\n",
    "        ),\n",
    "    ], justify='evenly'),\n",
    "    dbc.Row([\n",
    "        dbc.Button(\"Reset\", id='reset-button', className='float-left', n_clicks=0), # Callback to reset page\n",
    "        dcc.Link(\"Contributors\", href=\"https://github.com/DeerBay/OS-Project/graphs/contributors\", target=\"_blank\"), # \"_blank\": Opens the linked document in a new tab or window.\n",
    "    ],style={\"margin-top\": \"20px\", \"text-align\": \"center\"})\n",
    "])\n",
    "\n",
    "@callback(\n",
    "    Output(\"graph_1_left\", \"figure\"),\n",
    "    Input(\"year_dropdown\", \"value\")\n",
    ")\n",
    "def figure_one(year):\n",
    "    participants_medals_start = participants_medals.groupby(['Country', 'Continent' , \n",
    "                                                           'Country_latitude', 'Country_longitude','Continent_latitude', \n",
    "                                                          'Continent_longitude'], as_index=False)[['Name', 'Medal']].sum()\n",
    "    df = participants_medals.query(\"Year==@year\")\n",
    "\n",
    "    if year == None:\n",
    "        fig = px.scatter_mapbox(participants_medals_start, lat=\"Country_latitude\", \n",
    "            lon=\"Country_longitude\", size=\"Name\", color=\"Medal\", \n",
    "            height=800, width=900, hover_name=\"Country\",  mapbox_style=\"open-street-map\", \n",
    "            title=\"Size according to count of participants=\")\n",
    "    else:\n",
    "        fig = px.scatter_mapbox(df, lat=\"Country_latitude\", \n",
    "        lon=\"Country_longitude\", size=\"Name\", color=\"Medal\", \n",
    "        height=800, width=900, hover_name=\"Country\",  mapbox_style=\"open-street-map\", \n",
    "        title=\"Size according to count of participants=\")\n",
    "    return fig\n",
    "\n",
    "if __name__ == \"__main__\":\n",
    "    app.run(debug=True, jupyter_mode=\"external\")\n",
    "    "
   ]
  },
  {
   "cell_type": "code",
   "execution_count": 22,
   "metadata": {},
   "outputs": [
    {
     "data": {
      "text/html": [
       "<div>\n",
       "<style scoped>\n",
       "    .dataframe tbody tr th:only-of-type {\n",
       "        vertical-align: middle;\n",
       "    }\n",
       "\n",
       "    .dataframe tbody tr th {\n",
       "        vertical-align: top;\n",
       "    }\n",
       "\n",
       "    .dataframe thead th {\n",
       "        text-align: right;\n",
       "    }\n",
       "</style>\n",
       "<table border=\"1\" class=\"dataframe\">\n",
       "  <thead>\n",
       "    <tr style=\"text-align: right;\">\n",
       "      <th></th>\n",
       "      <th>Country</th>\n",
       "      <th>Sport</th>\n",
       "      <th>Continent</th>\n",
       "      <th>Country_latitude</th>\n",
       "      <th>Country_longitude</th>\n",
       "      <th>Continent_latitude</th>\n",
       "      <th>Continent_longitude</th>\n",
       "      <th>Name</th>\n",
       "      <th>Medal</th>\n",
       "    </tr>\n",
       "  </thead>\n",
       "  <tbody>\n",
       "    <tr>\n",
       "      <th>0</th>\n",
       "      <td>Afghanistan</td>\n",
       "      <td>Athletics</td>\n",
       "      <td>Asia</td>\n",
       "      <td>33.93911</td>\n",
       "      <td>67.709953</td>\n",
       "      <td>34.0479</td>\n",
       "      <td>100.6197</td>\n",
       "      <td>17</td>\n",
       "      <td>0</td>\n",
       "    </tr>\n",
       "    <tr>\n",
       "      <th>1</th>\n",
       "      <td>Afghanistan</td>\n",
       "      <td>Boxing</td>\n",
       "      <td>Asia</td>\n",
       "      <td>33.93911</td>\n",
       "      <td>67.709953</td>\n",
       "      <td>34.0479</td>\n",
       "      <td>100.6197</td>\n",
       "      <td>5</td>\n",
       "      <td>0</td>\n",
       "    </tr>\n",
       "    <tr>\n",
       "      <th>2</th>\n",
       "      <td>Afghanistan</td>\n",
       "      <td>Football</td>\n",
       "      <td>Asia</td>\n",
       "      <td>33.93911</td>\n",
       "      <td>67.709953</td>\n",
       "      <td>34.0479</td>\n",
       "      <td>100.6197</td>\n",
       "      <td>11</td>\n",
       "      <td>0</td>\n",
       "    </tr>\n",
       "    <tr>\n",
       "      <th>3</th>\n",
       "      <td>Afghanistan</td>\n",
       "      <td>Hockey</td>\n",
       "      <td>Asia</td>\n",
       "      <td>33.93911</td>\n",
       "      <td>67.709953</td>\n",
       "      <td>34.0479</td>\n",
       "      <td>100.6197</td>\n",
       "      <td>39</td>\n",
       "      <td>0</td>\n",
       "    </tr>\n",
       "    <tr>\n",
       "      <th>4</th>\n",
       "      <td>Afghanistan</td>\n",
       "      <td>Judo</td>\n",
       "      <td>Asia</td>\n",
       "      <td>33.93911</td>\n",
       "      <td>67.709953</td>\n",
       "      <td>34.0479</td>\n",
       "      <td>100.6197</td>\n",
       "      <td>3</td>\n",
       "      <td>0</td>\n",
       "    </tr>\n",
       "  </tbody>\n",
       "</table>\n",
       "</div>"
      ],
      "text/plain": [
       "       Country      Sport Continent  Country_latitude  Country_longitude  \\\n",
       "0  Afghanistan  Athletics      Asia          33.93911          67.709953   \n",
       "1  Afghanistan     Boxing      Asia          33.93911          67.709953   \n",
       "2  Afghanistan   Football      Asia          33.93911          67.709953   \n",
       "3  Afghanistan     Hockey      Asia          33.93911          67.709953   \n",
       "4  Afghanistan       Judo      Asia          33.93911          67.709953   \n",
       "\n",
       "   Continent_latitude  Continent_longitude  Name  Medal  \n",
       "0             34.0479             100.6197    17      0  \n",
       "1             34.0479             100.6197     5      0  \n",
       "2             34.0479             100.6197    11      0  \n",
       "3             34.0479             100.6197    39      0  \n",
       "4             34.0479             100.6197     3      0  "
      ]
     },
     "execution_count": 22,
     "metadata": {},
     "output_type": "execute_result"
    }
   ],
   "source": [
    "# Group participants_medals to get a total sum of Name and medal per year for all countries\n",
    "participants_medals= athlete_events.groupby(['Year', 'Season', 'Country', 'Continent','Country_latitude', 'Country_longitude','Continent_latitude', 'Continent_longitude'], as_index=False)[['Name', 'Medal']].agg(\n",
    "    {'Name': 'nunique', 'Medal': 'count'})\n",
    "participants_medals.head()\n",
    "\n",
    "participants_medals_start.head()"
   ]
  },
  {
   "cell_type": "code",
   "execution_count": 7,
   "metadata": {},
   "outputs": [
    {
     "data": {
      "application/vnd.plotly.v1+json": {
       "config": {
        "plotlyServerURL": "https://plot.ly"
       },
       "data": [
        {
         "hovertemplate": "<b>%{hovertext}</b><br><br>Name=%{marker.size}<br>Country_latitude=%{lat}<br>Country_longitude=%{lon}<br>Medal=%{marker.color}<extra></extra>",
         "hovertext": [
          "Afghanistan",
          "Albania",
          "Algeria",
          "American Samoa",
          "Andorra",
          "Angola",
          "Argentina",
          "Armenia",
          "Aruba",
          "Australia",
          "Austria",
          "Azerbaijan",
          "Bahamas",
          "Bahrain",
          "Bangladesh",
          "Barbados",
          "Belarus",
          "Belgium",
          "Belize",
          "Benin",
          "Bermuda",
          "Bhutan",
          "Bosnia and Herzegovina",
          "Botswana",
          "Brazil",
          "Brunei",
          "Bulgaria",
          "Burkina Faso",
          "Burundi",
          "Cambodia",
          "Cameroon",
          "Canada",
          "Cape Verde",
          "Cayman Islands",
          "Central African Republic",
          "Chad",
          "Chile",
          "China",
          "Colombia",
          "Comoros",
          "Cook Islands",
          "Costa Rica",
          "Croatia",
          "Cuba",
          "Cyprus",
          "Czech Republic",
          "Denmark",
          "Djibouti",
          "Dominica",
          "Dominican Republic",
          "Ecuador",
          "Egypt",
          "El Salvador",
          "Equatorial Guinea",
          "Eritrea",
          "Estonia",
          "Ethiopia",
          "Fiji",
          "Finland",
          "France",
          "Gabon",
          "Gambia",
          "Georgia",
          "Germany",
          "Ghana",
          "Greece",
          "Grenada",
          "Guam",
          "Guatemala",
          "Guinea",
          "Guinea-Bissau",
          "Guyana",
          "Haiti",
          "Honduras",
          "Hungary",
          "Iceland",
          "India",
          "Indonesia",
          "Iran",
          "Iraq",
          "Ireland",
          "Israel",
          "Italy",
          "Jamaica",
          "Japan",
          "Jordan",
          "Kazakhstan",
          "Kenya",
          "Kiribati",
          "Kyrgyzstan",
          "Latvia",
          "Lebanon",
          "Lesotho",
          "Liberia",
          "Libya",
          "Liechtenstein",
          "Lithuania",
          "Luxembourg",
          "Madagascar",
          "Malawi",
          "Malaysia",
          "Maldives",
          "Mali",
          "Malta",
          "Marshall Islands",
          "Mauritania",
          "Mauritius",
          "Mexico",
          "Monaco",
          "Mongolia",
          "Montenegro",
          "Morocco",
          "Mozambique",
          "Namibia",
          "Nauru",
          "Nepal",
          "Netherlands",
          "New Zealand",
          "Nicaragua",
          "Niger",
          "Nigeria",
          "North Korea",
          "Norway",
          "Oman",
          "Pakistan",
          "Palau",
          "Panama",
          "Papua New Guinea",
          "Paraguay",
          "Peru",
          "Philippines",
          "Poland",
          "Portugal",
          "Puerto Rico",
          "Qatar",
          "Romania",
          "Russia",
          "Rwanda",
          "Saint Lucia",
          "Samoa",
          "San Marino",
          "Saudi Arabia",
          "Senegal",
          "Serbia",
          "Seychelles",
          "Sierra Leone",
          "Slovakia",
          "Slovenia",
          "Solomon Islands",
          "Somalia",
          "South Africa",
          "South Korea",
          "Spain",
          "Sri Lanka",
          "Sudan",
          "Suriname",
          "Sweden",
          "Switzerland",
          "Syria",
          "Tajikistan",
          "Thailand",
          "Togo",
          "Tonga",
          "Tunisia",
          "Turkey",
          "Turkmenistan",
          "UK",
          "USA",
          "Uganda",
          "Ukraine",
          "United Arab Emirates",
          "Uruguay",
          "Uzbekistan",
          "Vanuatu",
          "Venezuela",
          "Yemen",
          "Zambia",
          "Zimbabwe"
         ],
         "lat": [
          33.93911,
          41.153332,
          28.033886,
          -14.270972,
          42.546245,
          -11.202692,
          -38.416097,
          40.069099,
          12.52111,
          -25.274398,
          47.516231,
          40.143105,
          25.03428,
          25.930414,
          23.684994,
          13.193887,
          53.709807,
          50.503887,
          17.189877,
          9.30769,
          32.321384,
          27.514162,
          43.915886,
          -22.328474,
          -14.235004,
          4.535277,
          42.733883,
          12.238333,
          -3.373056,
          12.565679,
          7.369722,
          56.130366,
          16.002082,
          19.513469,
          6.611111,
          15.454166,
          -35.675147,
          35.86166,
          4.570868,
          -11.875001,
          -21.236736,
          9.748917,
          45.1,
          21.521757,
          35.126413,
          49.817492,
          56.26392,
          11.825138,
          15.414999,
          18.735693,
          -1.831239,
          26.820553,
          13.794185,
          1.650801,
          15.179384,
          58.595272,
          9.145,
          -16.578193,
          61.92411,
          46.227638,
          -0.803689,
          13.443182,
          42.315407,
          51.165691,
          7.946527,
          39.074208,
          12.262776,
          13.444304,
          15.783471,
          9.945587,
          11.803749,
          4.860416,
          18.971187,
          15.199999,
          47.162494,
          64.963051,
          20.593684,
          -0.789275,
          32.427908,
          33.223191,
          53.41291,
          31.046051,
          41.87194,
          18.109581,
          36.204824,
          30.585164,
          48.019573,
          -0.023559,
          -3.370417,
          41.20438,
          56.879635,
          33.854721,
          -29.609988,
          6.428055,
          26.3351,
          47.166,
          55.169438,
          49.815273,
          -18.766947,
          -13.254308,
          4.210484,
          3.202778,
          17.570692,
          35.937496,
          7.131474,
          21.00789,
          -20.348404,
          23.634501,
          43.750298,
          46.862496,
          42.708678,
          31.791702,
          -18.665695,
          -22.95764,
          -0.522778,
          28.394857,
          52.132633,
          -40.900557,
          12.865416,
          17.607789,
          9.081999,
          40.339852,
          60.472024,
          21.512583,
          30.375321,
          7.51498,
          8.537981,
          -6.314993,
          -23.442503,
          -9.189967,
          12.879721,
          51.919438,
          39.399872,
          18.220833,
          25.354826,
          45.943161,
          61.52401,
          -1.940278,
          13.909444,
          -13.759029,
          43.94236,
          23.885942,
          14.497401,
          44.016521,
          -4.679574,
          8.460555,
          48.669026,
          46.151241,
          -9.64571,
          5.152149,
          -30.559482,
          35.907757,
          40.463667,
          7.873054,
          12.862807,
          3.919305,
          60.128161,
          46.818188,
          34.802075,
          38.861034,
          15.870032,
          8.619543,
          -21.178986,
          33.886917,
          38.963745,
          38.969719,
          55.378051,
          37.09024,
          1.373333,
          48.379433,
          23.424076,
          -32.522779,
          41.377491,
          -15.376706,
          6.42375,
          15.552727,
          -13.133897,
          -19.015438
         ],
         "legendgroup": "",
         "lon": [
          67.709953,
          20.168331,
          1.659626,
          -170.132217,
          1.601554,
          17.873887,
          -63.616672,
          45.038189,
          -69.968338,
          133.775136,
          14.550072,
          47.576927,
          -77.39628,
          50.637772,
          90.356331,
          -59.543198,
          27.953389,
          4.469936,
          -88.49765,
          2.315834,
          -64.75737,
          90.433601,
          17.679076,
          24.684866,
          -51.92528,
          114.727669,
          25.48583,
          -1.561593,
          29.918886,
          104.990963,
          12.354722,
          -106.346771,
          -24.013197,
          -80.566956,
          20.939444,
          18.732207,
          -71.542969,
          104.195397,
          -74.297333,
          43.872219,
          -159.777671,
          -83.753428,
          15.2,
          -77.781167,
          33.429859,
          15.472962,
          9.501785,
          42.590275,
          -61.370976,
          -70.162651,
          -78.183406,
          30.802498,
          -88.89653,
          10.267895,
          39.782334,
          25.013607,
          40.489673,
          179.414413,
          25.748151,
          2.213749,
          11.609444,
          -15.310139,
          43.356892,
          10.451526,
          -1.023194,
          21.824312,
          -61.604171,
          144.793731,
          -90.230759,
          -9.696645,
          -15.180413,
          -58.93018,
          -72.285215,
          -86.241905,
          19.503304,
          -19.020835,
          78.96288,
          113.921327,
          53.688046,
          43.679291,
          -8.24389,
          34.851612,
          12.56738,
          -77.297508,
          138.252924,
          36.238414,
          66.923684,
          37.906193,
          -168.734039,
          74.766098,
          24.603189,
          35.862285,
          28.233608,
          -9.429499,
          17.228331,
          9.555373,
          23.881275,
          6.129583,
          46.869107,
          34.301525,
          101.975766,
          73.22068,
          -3.996166,
          14.375416,
          171.184478,
          -10.940835,
          57.552152,
          -102.552784,
          7.412841,
          103.846656,
          19.37439,
          -7.09262,
          35.529562,
          18.49041,
          166.931503,
          84.124008,
          5.291266,
          174.885971,
          -85.207229,
          8.081666,
          8.675277,
          127.510093,
          8.468946,
          55.923255,
          69.345116,
          134.58252,
          -80.782127,
          143.95555,
          -58.443832,
          -75.015152,
          121.774017,
          19.145136,
          -8.224454,
          -66.590149,
          51.183884,
          24.96676,
          105.318756,
          29.873888,
          -60.978893,
          -172.104629,
          12.457777,
          45.079162,
          -14.452362,
          21.005859,
          55.491977,
          -11.779889,
          19.699024,
          14.995463,
          160.156194,
          46.199616,
          22.937506,
          127.766922,
          -3.74922,
          80.771797,
          30.217636,
          -56.027783,
          18.643501,
          8.227512,
          38.996815,
          71.276093,
          100.992541,
          0.824782,
          -175.198242,
          9.537499,
          35.243322,
          59.556278,
          -3.435973,
          -95.712891,
          32.290275,
          31.16558,
          53.847818,
          -55.765835,
          64.585262,
          166.959158,
          -66.58973,
          48.516388,
          27.849332,
          29.154857
         ],
         "marker": {
          "color": [
           0,
           0,
           2,
           0,
           0,
           0,
           22,
           4,
           0,
           82,
           2,
           18,
           6,
           2,
           0,
           0,
           12,
           21,
           0,
           0,
           0,
           0,
           0,
           0,
           50,
           0,
           7,
           0,
           1,
           0,
           0,
           69,
           0,
           0,
           0,
           0,
           0,
           113,
           8,
           0,
           0,
           0,
           24,
           11,
           0,
           15,
           41,
           0,
           0,
           1,
           0,
           3,
           0,
           0,
           0,
           4,
           8,
           13,
           1,
           96,
           0,
           0,
           7,
           159,
           0,
           7,
           1,
           0,
           0,
           0,
           0,
           0,
           0,
           0,
           22,
           0,
           2,
           4,
           8,
           0,
           3,
           2,
           72,
           30,
           64,
           1,
           18,
           13,
           0,
           0,
           0,
           0,
           0,
           0,
           0,
           0,
           7,
           0,
           0,
           0,
           8,
           0,
           0,
           0,
           0,
           0,
           0,
           5,
           0,
           2,
           0,
           1,
           0,
           0,
           0,
           0,
           47,
           36,
           0,
           1,
           18,
           7,
           19,
           0,
           0,
           0,
           0,
           0,
           0,
           0,
           1,
           16,
           1,
           1,
           1,
           16,
           115,
           0,
           0,
           0,
           0,
           0,
           0,
           54,
           0,
           0,
           8,
           4,
           0,
           0,
           23,
           26,
           45,
           0,
           0,
           0,
           28,
           11,
           0,
           1,
           6,
           0,
           0,
           3,
           8,
           0,
           145,
           264,
           0,
           15,
           1,
           0,
           13,
           0,
           3,
           0,
           0,
           0
          ],
          "coloraxis": "coloraxis",
          "size": [
           3,
           6,
           64,
           4,
           4,
           26,
           215,
           31,
           7,
           420,
           71,
           56,
           29,
           33,
           7,
           11,
           120,
           104,
           3,
           6,
           8,
           2,
           11,
           12,
           462,
           3,
           51,
           5,
           9,
           6,
           22,
           310,
           5,
           5,
           6,
           2,
           42,
           427,
           143,
           4,
           9,
           11,
           85,
           117,
           15,
           104,
           119,
           7,
           2,
           26,
           37,
           121,
           8,
           1,
           12,
           46,
           37,
           53,
           54,
           392,
           6,
           4,
           40,
           418,
           13,
           92,
           6,
           5,
           21,
           5,
           5,
           6,
           10,
           23,
           153,
           8,
           112,
           28,
           63,
           20,
           76,
           47,
           309,
           56,
           335,
           8,
           101,
           79,
           3,
           19,
           32,
           9,
           8,
           2,
           7,
           3,
           67,
           10,
           6,
           5,
           32,
           4,
           6,
           7,
           5,
           2,
           11,
           123,
           3,
           43,
           35,
           48,
           6,
           10,
           2,
           7,
           237,
           195,
           5,
           6,
           71,
           30,
           62,
           4,
           7,
           5,
           10,
           8,
           11,
           29,
           13,
           234,
           90,
           40,
           37,
           95,
           284,
           7,
           5,
           8,
           4,
           10,
           22,
           103,
           10,
           4,
           51,
           63,
           3,
           2,
           135,
           207,
           307,
           9,
           6,
           6,
           150,
           102,
           7,
           7,
           54,
           5,
           7,
           61,
           100,
           9,
           360,
           555,
           21,
           204,
           12,
           17,
           70,
           4,
           85,
           3,
           7,
           30
          ],
          "sizemode": "area",
          "sizeref": 1.3875
         },
         "mode": "markers",
         "name": "",
         "showlegend": false,
         "subplot": "mapbox",
         "type": "scattermapbox"
        }
       ],
       "layout": {
        "coloraxis": {
         "colorbar": {
          "title": {
           "text": "Medal"
          }
         },
         "colorscale": [
          [
           0,
           "#e83283"
          ],
          [
           0.1,
           "#f03f7e"
          ],
          [
           0.2,
           "#f84c79"
          ],
          [
           0.3,
           "#ff5974"
          ],
          [
           0.4,
           "#ff666f"
          ],
          [
           0.5,
           "#ff7469"
          ],
          [
           0.6,
           "#ff8164"
          ],
          [
           0.7,
           "#ff8e5f"
          ],
          [
           0.8,
           "#ff9b5a"
          ],
          [
           0.9,
           "#ffa855"
          ],
          [
           1,
           "#ffb550"
          ]
         ]
        },
        "height": 800,
        "legend": {
         "itemsizing": "constant",
         "tracegroupgap": 0
        },
        "mapbox": {
         "center": {
          "lat": 19.662031865168544,
          "lon": 14.713906859550562
         },
         "domain": {
          "x": [
           0,
           1
          ],
          "y": [
           0,
           1
          ]
         },
         "style": "open-street-map",
         "zoom": 8
        },
        "template": {
         "data": {
          "bar": [
           {
            "error_x": {
             "color": "#f2f5fa"
            },
            "error_y": {
             "color": "#f2f5fa"
            },
            "marker": {
             "line": {
              "color": "rgb(17,17,17)",
              "width": 0.5
             },
             "pattern": {
              "fillmode": "overlay",
              "size": 10,
              "solidity": 0.2
             }
            },
            "type": "bar"
           }
          ],
          "barpolar": [
           {
            "marker": {
             "line": {
              "color": "rgb(17,17,17)",
              "width": 0.5
             },
             "pattern": {
              "fillmode": "overlay",
              "size": 10,
              "solidity": 0.2
             }
            },
            "type": "barpolar"
           }
          ],
          "carpet": [
           {
            "aaxis": {
             "endlinecolor": "#A2B1C6",
             "gridcolor": "#506784",
             "linecolor": "#506784",
             "minorgridcolor": "#506784",
             "startlinecolor": "#A2B1C6"
            },
            "baxis": {
             "endlinecolor": "#A2B1C6",
             "gridcolor": "#506784",
             "linecolor": "#506784",
             "minorgridcolor": "#506784",
             "startlinecolor": "#A2B1C6"
            },
            "type": "carpet"
           }
          ],
          "choropleth": [
           {
            "colorbar": {
             "outlinewidth": 0,
             "ticks": ""
            },
            "type": "choropleth"
           }
          ],
          "contour": [
           {
            "colorbar": {
             "outlinewidth": 0,
             "ticks": ""
            },
            "colorscale": [
             [
              0,
              "#0d0887"
             ],
             [
              0.1111111111111111,
              "#46039f"
             ],
             [
              0.2222222222222222,
              "#7201a8"
             ],
             [
              0.3333333333333333,
              "#9c179e"
             ],
             [
              0.4444444444444444,
              "#bd3786"
             ],
             [
              0.5555555555555556,
              "#d8576b"
             ],
             [
              0.6666666666666666,
              "#ed7953"
             ],
             [
              0.7777777777777778,
              "#fb9f3a"
             ],
             [
              0.8888888888888888,
              "#fdca26"
             ],
             [
              1,
              "#f0f921"
             ]
            ],
            "type": "contour"
           }
          ],
          "contourcarpet": [
           {
            "colorbar": {
             "outlinewidth": 0,
             "ticks": ""
            },
            "type": "contourcarpet"
           }
          ],
          "heatmap": [
           {
            "colorbar": {
             "outlinewidth": 0,
             "ticks": ""
            },
            "colorscale": [
             [
              0,
              "#0d0887"
             ],
             [
              0.1111111111111111,
              "#46039f"
             ],
             [
              0.2222222222222222,
              "#7201a8"
             ],
             [
              0.3333333333333333,
              "#9c179e"
             ],
             [
              0.4444444444444444,
              "#bd3786"
             ],
             [
              0.5555555555555556,
              "#d8576b"
             ],
             [
              0.6666666666666666,
              "#ed7953"
             ],
             [
              0.7777777777777778,
              "#fb9f3a"
             ],
             [
              0.8888888888888888,
              "#fdca26"
             ],
             [
              1,
              "#f0f921"
             ]
            ],
            "type": "heatmap"
           }
          ],
          "heatmapgl": [
           {
            "colorbar": {
             "outlinewidth": 0,
             "ticks": ""
            },
            "colorscale": [
             [
              0,
              "#0d0887"
             ],
             [
              0.1111111111111111,
              "#46039f"
             ],
             [
              0.2222222222222222,
              "#7201a8"
             ],
             [
              0.3333333333333333,
              "#9c179e"
             ],
             [
              0.4444444444444444,
              "#bd3786"
             ],
             [
              0.5555555555555556,
              "#d8576b"
             ],
             [
              0.6666666666666666,
              "#ed7953"
             ],
             [
              0.7777777777777778,
              "#fb9f3a"
             ],
             [
              0.8888888888888888,
              "#fdca26"
             ],
             [
              1,
              "#f0f921"
             ]
            ],
            "type": "heatmapgl"
           }
          ],
          "histogram": [
           {
            "marker": {
             "pattern": {
              "fillmode": "overlay",
              "size": 10,
              "solidity": 0.2
             }
            },
            "type": "histogram"
           }
          ],
          "histogram2d": [
           {
            "colorbar": {
             "outlinewidth": 0,
             "ticks": ""
            },
            "colorscale": [
             [
              0,
              "#0d0887"
             ],
             [
              0.1111111111111111,
              "#46039f"
             ],
             [
              0.2222222222222222,
              "#7201a8"
             ],
             [
              0.3333333333333333,
              "#9c179e"
             ],
             [
              0.4444444444444444,
              "#bd3786"
             ],
             [
              0.5555555555555556,
              "#d8576b"
             ],
             [
              0.6666666666666666,
              "#ed7953"
             ],
             [
              0.7777777777777778,
              "#fb9f3a"
             ],
             [
              0.8888888888888888,
              "#fdca26"
             ],
             [
              1,
              "#f0f921"
             ]
            ],
            "type": "histogram2d"
           }
          ],
          "histogram2dcontour": [
           {
            "colorbar": {
             "outlinewidth": 0,
             "ticks": ""
            },
            "colorscale": [
             [
              0,
              "#0d0887"
             ],
             [
              0.1111111111111111,
              "#46039f"
             ],
             [
              0.2222222222222222,
              "#7201a8"
             ],
             [
              0.3333333333333333,
              "#9c179e"
             ],
             [
              0.4444444444444444,
              "#bd3786"
             ],
             [
              0.5555555555555556,
              "#d8576b"
             ],
             [
              0.6666666666666666,
              "#ed7953"
             ],
             [
              0.7777777777777778,
              "#fb9f3a"
             ],
             [
              0.8888888888888888,
              "#fdca26"
             ],
             [
              1,
              "#f0f921"
             ]
            ],
            "type": "histogram2dcontour"
           }
          ],
          "mesh3d": [
           {
            "colorbar": {
             "outlinewidth": 0,
             "ticks": ""
            },
            "type": "mesh3d"
           }
          ],
          "parcoords": [
           {
            "line": {
             "colorbar": {
              "outlinewidth": 0,
              "ticks": ""
             }
            },
            "type": "parcoords"
           }
          ],
          "pie": [
           {
            "automargin": true,
            "type": "pie"
           }
          ],
          "scatter": [
           {
            "marker": {
             "line": {
              "color": "#686dc3"
             }
            },
            "type": "scatter"
           }
          ],
          "scatter3d": [
           {
            "line": {
             "colorbar": {
              "outlinewidth": 0,
              "ticks": ""
             }
            },
            "marker": {
             "colorbar": {
              "outlinewidth": 0,
              "ticks": ""
             }
            },
            "type": "scatter3d"
           }
          ],
          "scattercarpet": [
           {
            "marker": {
             "colorbar": {
              "outlinewidth": 0,
              "ticks": ""
             }
            },
            "type": "scattercarpet"
           }
          ],
          "scattergeo": [
           {
            "marker": {
             "colorbar": {
              "outlinewidth": 0,
              "ticks": ""
             }
            },
            "type": "scattergeo"
           }
          ],
          "scattergl": [
           {
            "marker": {
             "line": {
              "color": "#686dc3"
             }
            },
            "type": "scattergl"
           }
          ],
          "scattermapbox": [
           {
            "marker": {
             "colorbar": {
              "outlinewidth": 0,
              "ticks": ""
             }
            },
            "type": "scattermapbox"
           }
          ],
          "scatterpolar": [
           {
            "marker": {
             "colorbar": {
              "outlinewidth": 0,
              "ticks": ""
             }
            },
            "type": "scatterpolar"
           }
          ],
          "scatterpolargl": [
           {
            "marker": {
             "colorbar": {
              "outlinewidth": 0,
              "ticks": ""
             }
            },
            "type": "scatterpolargl"
           }
          ],
          "scatterternary": [
           {
            "marker": {
             "colorbar": {
              "outlinewidth": 0,
              "ticks": ""
             }
            },
            "type": "scatterternary"
           }
          ],
          "surface": [
           {
            "colorbar": {
             "outlinewidth": 0,
             "ticks": ""
            },
            "colorscale": [
             [
              0,
              "#0d0887"
             ],
             [
              0.1111111111111111,
              "#46039f"
             ],
             [
              0.2222222222222222,
              "#7201a8"
             ],
             [
              0.3333333333333333,
              "#9c179e"
             ],
             [
              0.4444444444444444,
              "#bd3786"
             ],
             [
              0.5555555555555556,
              "#d8576b"
             ],
             [
              0.6666666666666666,
              "#ed7953"
             ],
             [
              0.7777777777777778,
              "#fb9f3a"
             ],
             [
              0.8888888888888888,
              "#fdca26"
             ],
             [
              1,
              "#f0f921"
             ]
            ],
            "type": "surface"
           }
          ],
          "table": [
           {
            "cells": {
             "fill": {
              "color": "#506784"
             },
             "line": {
              "color": "rgb(17,17,17)"
             }
            },
            "header": {
             "fill": {
              "color": "#2a3f5f"
             },
             "line": {
              "color": "rgb(17,17,17)"
             }
            },
            "type": "table"
           }
          ]
         },
         "layout": {
          "annotationdefaults": {
           "arrowcolor": "#f2f5fa",
           "arrowhead": 0,
           "arrowwidth": 1,
           "font": {
            "color": "#fff"
           }
          },
          "autotypenumbers": "strict",
          "coloraxis": {
           "colorbar": {
            "outlinewidth": 0,
            "ticks": ""
           }
          },
          "colorscale": {
           "diverging": [
            [
             0,
             "#8e0152"
            ],
            [
             0.1,
             "#c51b7d"
            ],
            [
             0.2,
             "#de77ae"
            ],
            [
             0.3,
             "#f1b6da"
            ],
            [
             0.4,
             "#fde0ef"
            ],
            [
             0.5,
             "#f7f7f7"
            ],
            [
             0.6,
             "#e6f5d0"
            ],
            [
             0.7,
             "#b8e186"
            ],
            [
             0.8,
             "#7fbc41"
            ],
            [
             0.9,
             "#4d9221"
            ],
            [
             1,
             "#276419"
            ]
           ],
           "sequential": [
            [
             0,
             "#e83283"
            ],
            [
             0.1,
             "#f03f7e"
            ],
            [
             0.2,
             "#f84c79"
            ],
            [
             0.30000000000000004,
             "#ff5974"
            ],
            [
             0.4,
             "#ff666f"
            ],
            [
             0.5,
             "#ff7469"
            ],
            [
             0.6000000000000001,
             "#ff8164"
            ],
            [
             0.7000000000000001,
             "#ff8e5f"
            ],
            [
             0.8,
             "#ff9b5a"
            ],
            [
             0.9,
             "#ffa855"
            ],
            [
             1,
             "#ffb550"
            ]
           ],
           "sequentialminus": [
            [
             0,
             "#0d0887"
            ],
            [
             0.1111111111111111,
             "#46039f"
            ],
            [
             0.2222222222222222,
             "#7201a8"
            ],
            [
             0.3333333333333333,
             "#9c179e"
            ],
            [
             0.4444444444444444,
             "#bd3786"
            ],
            [
             0.5555555555555556,
             "#d8576b"
            ],
            [
             0.6666666666666666,
             "#ed7953"
            ],
            [
             0.7777777777777778,
             "#fb9f3a"
            ],
            [
             0.8888888888888888,
             "#fdca26"
            ],
            [
             1,
             "#f0f921"
            ]
           ]
          },
          "colorway": [
           "#e72e84",
           "#f77f14",
           "#52e8b5",
           "#ffef47",
           "#21a4d3"
          ],
          "font": {
           "color": "#fff",
           "family": "system-ui,-apple-system,\"Segoe UI\",Roboto,\"Helvetica Neue\",\"Noto Sans\",\"Liberation Sans\",Arial,sans-serif,\"Apple Color Emoji\",\"Segoe UI Emoji\",\"Segoe UI Symbol\",\"Noto Color Emoji\""
          },
          "geo": {
           "bgcolor": "#686dc3",
           "lakecolor": "#686dc3",
           "landcolor": "#686dc3",
           "showlakes": true,
           "showland": true,
           "subunitcolor": "#506784"
          },
          "hoverlabel": {
           "align": "left",
           "font": {
            "family": "system-ui,-apple-system,\"Segoe UI\",Roboto,\"Helvetica Neue\",\"Noto Sans\",\"Liberation Sans\",Arial,sans-serif,\"Apple Color Emoji\",\"Segoe UI Emoji\",\"Segoe UI Symbol\",\"Noto Color Emoji\""
           }
          },
          "hovermode": "closest",
          "mapbox": {
           "style": "dark"
          },
          "paper_bgcolor": "#686dc3",
          "piecolorway": [
           "#e72e84",
           "#f77f14",
           "#52e8b5",
           "#ffef47",
           "#21a4d3"
          ],
          "plot_bgcolor": "#686dc3",
          "polar": {
           "angularaxis": {
            "gridcolor": "#506784",
            "linecolor": "#506784",
            "ticks": ""
           },
           "bgcolor": "rgb(17,17,17)",
           "radialaxis": {
            "gridcolor": "#506784",
            "linecolor": "#506784",
            "ticks": ""
           }
          },
          "scene": {
           "xaxis": {
            "backgroundcolor": "rgb(17,17,17)",
            "gridcolor": "#506784",
            "gridwidth": 2,
            "linecolor": "#506784",
            "showbackground": true,
            "ticks": "",
            "zerolinecolor": "#C8D4E3"
           },
           "yaxis": {
            "backgroundcolor": "rgb(17,17,17)",
            "gridcolor": "#506784",
            "gridwidth": 2,
            "linecolor": "#506784",
            "showbackground": true,
            "ticks": "",
            "zerolinecolor": "#C8D4E3"
           },
           "zaxis": {
            "backgroundcolor": "rgb(17,17,17)",
            "gridcolor": "#506784",
            "gridwidth": 2,
            "linecolor": "#506784",
            "showbackground": true,
            "ticks": "",
            "zerolinecolor": "#C8D4E3"
           }
          },
          "shapedefaults": {
           "line": {
            "color": "#f2f5fa"
           }
          },
          "sliderdefaults": {
           "bgcolor": "#C8D4E3",
           "bordercolor": "rgb(17,17,17)",
           "borderwidth": 1,
           "tickwidth": 0
          },
          "ternary": {
           "aaxis": {
            "gridcolor": "#506784",
            "linecolor": "#506784",
            "ticks": ""
           },
           "baxis": {
            "gridcolor": "#506784",
            "linecolor": "#506784",
            "ticks": ""
           },
           "bgcolor": "rgb(17,17,17)",
           "caxis": {
            "gridcolor": "#506784",
            "linecolor": "#506784",
            "ticks": ""
           }
          },
          "title": {
           "x": 0.05
          },
          "updatemenudefaults": {
           "bgcolor": "#506784",
           "borderwidth": 0
          },
          "xaxis": {
           "automargin": true,
           "gridcolor": "#7479c8",
           "gridwidth": 0.5,
           "linecolor": "#506784",
           "ticks": "",
           "title": {
            "standoff": 15
           },
           "zerolinecolor": "#7479c8",
           "zerolinewidth": 2
          },
          "yaxis": {
           "automargin": true,
           "gridcolor": "#7479c8",
           "gridwidth": 0.5,
           "linecolor": "#506784",
           "ticks": "",
           "title": {
            "standoff": 15
           },
           "zerolinecolor": "#7479c8",
           "zerolinewidth": 2
          }
         }
        },
        "title": {
         "text": "Size according to count of participants="
        },
        "width": 900
       }
      }
     },
     "metadata": {},
     "output_type": "display_data"
    }
   ],
   "source": [
    "fig = px.scatter_mapbox(participants_medals.query(\"Year == 2016\"), lat=\"Country_latitude\", \n",
    "                        lon=\"Country_longitude\", size=\"Name\", color=\"Medal\", \n",
    "                        height = 800, width= 900 ,hover_name = \"Country\", mapbox_style=\"open-street-map\", title = \"Size according to count of participants=\")\n",
    "\n",
    "fig.show()"
   ]
  }
 ],
 "metadata": {
  "kernelspec": {
   "display_name": "databehandling-YOUNIS-MOUSSAVI-7D8IQwvr",
   "language": "python",
   "name": "python3"
  },
  "language_info": {
   "codemirror_mode": {
    "name": "ipython",
    "version": 3
   },
   "file_extension": ".py",
   "mimetype": "text/x-python",
   "name": "python",
   "nbconvert_exporter": "python",
   "pygments_lexer": "ipython3",
   "version": "3.11.5"
  }
 },
 "nbformat": 4,
 "nbformat_minor": 2
}
