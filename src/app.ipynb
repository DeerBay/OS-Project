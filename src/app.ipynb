{
 "cells": [
  {
   "cell_type": "code",
   "execution_count": 3,
   "metadata": {},
   "outputs": [
    {
     "name": "stdout",
     "output_type": "stream",
     "text": [
      "Dash app running on http://127.0.0.1:8050/\n"
     ]
    }
   ],
   "source": [
    "# Imports of needed libraries\n",
    "from dash import Dash, html, dcc, callback, Output, Input, dash_table\n",
    "import dash_bootstrap_components as dbc\n",
    "import plotly.express as px\n",
    "import pandas as pd\n",
    "from dash_bootstrap_templates import load_figure_template\n",
    "\n",
    "############### Preparation of dataframes for the app ###############\n",
    "\n",
    "# Read the required datafiles for the app\n",
    "athlete_events = pd.read_csv(\"../data/final_df.csv\", low_memory=False)\n",
    "gender_ratios = pd.read_csv(\"../data/gender_ratios.csv\")\n",
    "\n",
    "# Changing the NaN values in the Medal column to \"No Medal\"\n",
    "athlete_events['Medal'] = athlete_events['Medal'].fillna('No Medal')\n",
    "# Creating column Number of Medals and mapping the Medal column to values of 1 for medal and 0 for NaN value\n",
    "athlete_events['Number of Medals'] = athlete_events['Medal'].map({'Gold': 1, 'Silver': 1, 'Bronze': 1, 'No Medal': 0})\n",
    "\n",
    "# Grouping to get the final dataframe for the app - sum of participants and number of medals count for the desired columns\n",
    "grouped_final_athlete_events = athlete_events.groupby(['Year','Season', 'Medal', 'Country', 'Sport', 'Country_latitude', 'Country_longitude']).agg({\n",
    "    'Participants': 'nunique',\n",
    "    'Number of Medals': 'sum'}).reset_index()\n",
    "\n",
    "\n",
    "\n",
    "############### Creating the app ###############\n",
    "\n",
    "# Loading template for graphs\n",
    "load_figure_template(\"quartz\")\n",
    "\n",
    "# This initializes a Dash web application, \n",
    "# applies the \"QUARTZ\" Bootstrap theme for styling, \n",
    "# and includes a viewport meta tag to ensure proper rendering on various devices.\n",
    "app = Dash(__name__, \n",
    "           external_stylesheets=[dbc.themes.QUARTZ],\n",
    "               meta_tags=[{\"name\": \"viewport\", \"content\": \"width=device-width, initial-scale=1\"}]\n",
    ")\n",
    "\n",
    "# Needs to be included for deploying on render\n",
    "#server = app.server\n",
    "\n",
    "# Layout for App\n",
    "app.layout = dbc.Container([\n",
    "\n",
    "    ################# Header ##################\n",
    "    dbc.Row(\n",
    "        [html.H1(\"Olympic Games Achievements 1896-2016\", className=\"text-center text-primary\")],\n",
    "        className=\"mb-3 mt-3\", # Adding marginal bottom and top\n",
    "    ),\n",
    "    ################# Dropdown row ##############\n",
    "    dbc.Row(\n",
    "    [\n",
    "        dbc.Col(\n",
    "            dcc.Dropdown(\n",
    "                id='year_dropdown',\n",
    "                className='text-info mt-1',\n",
    "                multi=True, \n",
    "                options=[{'label': year, 'value': year} for year in sorted(athlete_events['Year'].unique())], \n",
    "                placeholder='Select Year',\n",
    "                style={'width': '100%'},\n",
    "            ),\n",
    "            xs=12, sm=6, md=4, lg=3\n",
    "        ),\n",
    "        dbc.Col(\n",
    "            dcc.Dropdown(\n",
    "                id='sport_dropdown',\n",
    "                className='text-info mt-1',\n",
    "                multi=True, \n",
    "                options=[{'label': sport, 'value': sport} for sport in sorted(athlete_events['Sport'].unique())], \n",
    "                placeholder='Select Sport',\n",
    "                style={'width': '100%'},\n",
    "            ),\n",
    "            xs=12, sm=6, md=4, lg=3\n",
    "        ),\n",
    "        dbc.Col(\n",
    "            dcc.Dropdown(\n",
    "                id='season_dropdown',\n",
    "                className='text-info mt-1',\n",
    "                multi=True, \n",
    "                options=['Summer', 'Winter'], \n",
    "                placeholder='Select Season',\n",
    "                style={'width': '100%'},\n",
    "            ),\n",
    "            xs=12, sm=6, md=4, lg=3\n",
    "        ),\n",
    "    ],\n",
    "    justify='center',\n",
    "    style={'margin-left': '10px', 'margin-right': '10px'},\n",
    "    className=\"sticky-top mb-2\" #Sticky-top to fix it to the top of the window\n",
    "),\n",
    "\n",
    "    ############# Graphs ################\n",
    "\n",
    "    dbc.Row([\n",
    "        dbc.Col(\n",
    "            dbc.Card([ # To make a \"card\" or a frame to the object inside\n",
    "                    dbc.CardHeader(html.H3(\"Medals All Countries\", className=\"text-body-tertiary\", id=\"header_graph_all_countries\")),\n",
    "                    dbc.CardBody([\n",
    "                    dcc.Dropdown(id='country_dropdown_right', \n",
    "                    className='mb-1 mt-1 text-info', \n",
    "                    options=[\n",
    "                    {'label': 'Sort by Sports', 'value': 'Sport'},\n",
    "                    {'label': 'Sort by Countries', 'value': 'Country'}],\n",
    "                    placeholder='Sort by Country or Sport',\n",
    "                    style={'width': '100%'},\n",
    "            ), \n",
    "                        dcc.Graph(id=\"graph_all_countries_sunburst\", figure={}),\n",
    "                        ])\n",
    "            ], className=\"mb-3\"\n",
    "            ),xs=12, sm=11, md=10, lg=5\n",
    "        ),\n",
    "        dbc.Col(\n",
    "            dbc.Card([\n",
    "                    dbc.CardHeader(html.H3(\"Medals Sweden\", className=\"text-body-tertiary\", id=\"header_graph_sweden\")),\n",
    "                    dbc.CardBody([\n",
    "                        dcc.Dropdown(\n",
    "                        id='sport_or_medal_dropdown', \n",
    "                        className='text-info mt-1 mb-1', \n",
    "                        options=[\n",
    "                            {'label': 'Sort by Sports', 'value': 'Sports'},\n",
    "                            {'label': 'Sort by Medals', 'value': 'Medals'}\n",
    "                        ], \n",
    "                        placeholder='Sort by Sports or Medals',\n",
    "                        style={'width': '100%'}),\n",
    "                        dcc.Graph(id=\"graph_sweden_sunburst\", figure={}),\n",
    "                        ]), \n",
    "            ], className=\"mb-3\"\n",
    "            ),xs=12, sm=11, md=10, lg=5\n",
    "        ),\n",
    "    ], justify='evenly', className=\"container-fluid\"),  # Added container-fluid class for better responsiveness\n",
    "\n",
    "    dbc.Row([\n",
    "        dbc.Col(\n",
    "            dbc.Card([\n",
    "                    dbc.CardHeader(html.H3(\"Sweden top 10 all Medals\", className=\"text-body-tertiary\", id=\"header_graph_sweden_top10\")),\n",
    "                    dbc.CardBody([\n",
    "                                 dcc.Graph(id=\"graph_sweden_top10\", figure={}),\n",
    "                    ]),\n",
    "                ],\n",
    "                className=\"mb-3\",\n",
    "            ), xs=12, sm=11, md=10, lg=5\n",
    "        ),\n",
    "        dbc.Col(\n",
    "            dbc.Card([\n",
    "                    dbc.CardHeader(html.H3(\"Sweden top 10 Gold Medals\", className=\"text-body-tertiary\", id=\"header_graph_sweden_gold\")),\n",
    "                    dbc.CardBody([\n",
    "                                 dcc.Graph(id=\"graph_sweden_gold\", figure={}),\n",
    "                    ]),\n",
    "                ],\n",
    "                className=\"mb-3\",\n",
    "            ), xs=12, sm=11, md=10, lg=5\n",
    "        ),\n",
    "    ], justify='evenly', className=\"container-fluid mb-3\"),  # Added container-fluid class for better responsiveness\n",
    "\n",
    " ############## Mapbox Graphs ###############\n",
    "    dbc.Row([\n",
    "            html.H4(\"Number of Participants and Medals by Country\"),\n",
    "            dcc.Graph(\n",
    "                id=\"graph_mapbox_2\",    \n",
    "                figure={}, \n",
    "            ),\n",
    "        ], className=\"mx-2 mb-3\"),\n",
    "\n",
    "     dbc.Row([\n",
    "            html.H4(\"Number of Participants and Gender Distribution by Country\"),\n",
    "            dcc.Dropdown(\n",
    "                id='country_dropdown_left', \n",
    "                className='mb-1 text-info', \n",
    "                options=[\"Medals\", \"Gender ratio\"], \n",
    "                placeholder='Sort by medals or gender ratio',\n",
    "                style={'width': '260px'},\n",
    "            ),\n",
    "            dcc.Graph(\n",
    "                id=\"graph_gender_or_medals_mapbox\", \n",
    "                figure={}\n",
    "            ),\n",
    "        ],className=\"mx-2 mb-3\"),\n",
    "  \n",
    "  ########## Reset button and link to GitHub ##############\n",
    "    dbc.Row([\n",
    "            dbc.Button(\"Reset\", \n",
    "                    id='reset-button', \n",
    "                    #href=\"https://iths-olympics.onrender.com\",   \n",
    "                    title='Resets all graphs',\n",
    "                    style={'width': '150px'}), # Hover text\n",
    "\n",
    "            dcc.Link(\"Contributors\", \n",
    "                    href=\"https://github.com/DeerBay/OS-Project/graphs/contributors\", \n",
    "                    target=\"_blank\", # \"_blank\": Opens the linked document in a new tab or window.\n",
    "                    title='Link to repository on GitHub',\n",
    "                    className='text-center'), \n",
    "        ],className='mb-3', justify='center'),\n",
    "\n",
    "], \n",
    "fluid=True\n",
    ") # End of container\n",
    "\n",
    "############ Callback Decoraters to define functions ############ \n",
    "\n",
    "\n",
    "\n",
    "# Figure one; Sunburst graph sorted by number of medals per country per sport/year\n",
    "@callback(\n",
    "    Output(\"graph_all_countries_sunburst\", \"figure\"),\n",
    "    Input(\"year_dropdown\", \"value\"),\n",
    "    Input(\"sport_dropdown\", \"value\"),\n",
    "    Input(\"country_dropdown_right\", \"value\"),\n",
    "\n",
    ")\n",
    "def figure_one(years, sports, sort):\n",
    "    if sort == \"Sport\" or sort in [None, \"\", []]:\n",
    "        if (years in [None, \"\", []]) and (sports in [None, \"\", []]):\n",
    "            fig = px.sunburst(grouped_final_athlete_events.sort_values(by=\"Number of Medals\", ascending=False, ignore_index=True).head(80), values='Number of Medals', path=['Sport', 'Country'], title= \"Medals and sports for all countries\")\n",
    "        elif years not in [None, \"\", []] and sports in [None, \"\", []]:\n",
    "            df = grouped_final_athlete_events.query(\"Year==@years\").sort_values(by=\"Number of Medals\", ascending=False, ignore_index=True).head(80)\n",
    "            fig = px.sunburst(df, values='Number of Medals', path=['Sport', 'Country'], title= \"Medals and sports for all countries\")\n",
    "        elif years in [None, \"\", []] and sports not in [None, \"\", []]:\n",
    "            df = grouped_final_athlete_events.query(\"Sport==@sports\").sort_values(by=\"Number of Medals\", ascending=False, ignore_index=True).head(80)\n",
    "            fig = px.sunburst(df, values='Number of Medals', path=['Sport', 'Country'], title= \"Medals and sports for all countries\")\n",
    "        elif years not in [None, \"\", []] and sports not in [None, \"\", []]:\n",
    "            df = grouped_final_athlete_events.query(\"Year==@years\").sort_values(by=\"Number of Medals\", ascending=False, ignore_index=True).head(80)\n",
    "            df = df.query(\"Sport==@sports\")\n",
    "            fig = px.sunburst(df, values='Number of Medals', path=['Sport', 'Country'], title= \"Medals and sports for all countries\")\n",
    "    else:\n",
    "        if (years in [None, \"\", []]) and (sports in [None, \"\", []]):\n",
    "            fig = px.sunburst(grouped_final_athlete_events.sort_values(by=\"Number of Medals\", ascending=False, ignore_index=True).head(80), values='Number of Medals', path=['Country', 'Sport'], title= \"Medals and sports for all countries\")\n",
    "        elif years not in [None, \"\", []] and sports in [None, \"\", []]:\n",
    "            df = grouped_final_athlete_events.query(\"Year==@years\").sort_values(by=\"Number of Medals\", ascending=False, ignore_index=True).head(80)\n",
    "            fig = px.sunburst(df, values='Number of Medals', path=['Country', 'Sport'], title= \"Medals and sports for all countries\")\n",
    "        elif years in [None, \"\", []] and sports not in [None, \"\", []]:\n",
    "            df = grouped_final_athlete_events.query(\"Sport==@sports\").sort_values(by=\"Number of Medals\", ascending=False, ignore_index=True).head(80)\n",
    "            fig = px.sunburst(df, values='Number of Medals', path=['Country', 'Sport'], title= \"Medals and sports for all countries\")\n",
    "        elif years not in [None, \"\", []] and sports not in [None, \"\", []]:\n",
    "            df = grouped_final_athlete_events.query(\"Year==@years\").sort_values(by=\"Number of Medals\", ascending=False, ignore_index=True).head(80)\n",
    "            df = df.query(\"Sport==@sports\")\n",
    "            fig = px.sunburst(df, values='Number of Medals', path=['Country', 'Sport'], title= \"Medals and sports for all countries\")\n",
    "    return fig\n",
    "\n",
    "\n",
    "# Figure two; Sunburst graph sorted by number of medals per sport/year for SWEDEN\n",
    "@callback(\n",
    "    Output(\"graph_sweden_sunburst\", \"figure\"),\n",
    "    Input(\"year_dropdown\", \"value\"),\n",
    "    Input(\"sport_dropdown\", \"value\"),\n",
    "    Input(\"sport_or_medal_dropdown\", \"value\"),\n",
    ")\n",
    "def figure_two(years, sports, sort):\n",
    "    title_fig = \"Medals and sports for team SWEDEN\"\n",
    "    if sort == \"Sports\" or sort in [None, \"\", []]:\n",
    "        if (years in [None, \"\", []]) and (sports in [None, \"\", []]):\n",
    "            fig = px.sunburst(grouped_final_athlete_events.query(\"Country == 'Sweden'\"), values='Number of Medals', \n",
    "                color_discrete_sequence=px.colors.qualitative.Pastel1, path=['Sport', 'Medal'], title = title_fig)\n",
    "        elif years not in [None, \"\", []] and sports in [None, \"\", []]:\n",
    "            # Query for country Sweden and year 2016\n",
    "            df = grouped_final_athlete_events.query(\"Country == 'Sweden' and Year==@years\")\n",
    "            fig = px.sunburst(df, values='Number of Medals', path=['Sport', 'Medal'],\n",
    "                color_discrete_sequence=px.colors.qualitative.Pastel1, title = title_fig)\n",
    "        elif years in [None, \"\", []] and sports not in [None, \"\", []]:\n",
    "            df = grouped_final_athlete_events.query(\"Country == 'Sweden' and Sport==@sports\")\n",
    "            fig = px.sunburst(df, values='Number of Medals', path=['Sport', 'Medal'],\n",
    "                color_discrete_sequence=px.colors.qualitative.Pastel1, title = title_fig)\n",
    "        elif years not in [None, \"\", []] and sports not in [None, \"\", []]:\n",
    "            df = grouped_final_athlete_events.query(\"Country == 'Sweden' and Year==@years\")\n",
    "            df = df.query(\"Sport==@sports\")\n",
    "            fig = px.sunburst(df, values='Number of Medals', path=['Medal', 'Sport'],\n",
    "            color_discrete_sequence=px.colors.qualitative.Pastel1, title = title_fig)\n",
    "            return fig\n",
    "    elif sort ==\"Medals\":   \n",
    "        if (years in [None, \"\", []]) and (sports in [None, \"\", []]):\n",
    "            fig = px.sunburst(grouped_final_athlete_events.query(\"Country == 'Sweden'\"), values='Number of Medals', color_discrete_sequence=px.colors.qualitative.Pastel1, path=['Sport', 'Medal'], title = title_fig)\n",
    "        elif years not in [None, \"\", []] and sports in [None, \"\", []]:\n",
    "            df = grouped_final_athlete_events.query(\"Country == 'Sweden' and Year==@years\")\n",
    "            fig = px.sunburst(df, values='Number of Medals', path=['Medal', 'Sport'],color_discrete_sequence=px.colors.qualitative.Pastel1, title = title_fig)\n",
    "        elif years in [None, \"\", []] and sports not in [None, \"\", []]:\n",
    "            df = grouped_final_athlete_events.query(\"Country == 'Sweden' and Sport==@sports\")\n",
    "            fig = px.sunburst(df, values='Number of Medals', path=['Medal', 'Sport'],color_discrete_sequence=px.colors.qualitative.Pastel1, title = title_fig)\n",
    "        elif years not in [None, \"\", []] and sports not in [None, \"\", []]:\n",
    "            df = grouped_final_athlete_events.query(\"Country == 'Sweden' and Year==@years\")\n",
    "            df = df.query(\"Sport==@sports\")\n",
    "            fig = px.sunburst(df, values='Number of Medals', path=['Medal', 'Sport'],color_discrete_sequence=px.colors.qualitative.Pastel1, title = title_fig)\n",
    "            return fig\n",
    "    \n",
    "\n",
    "\n",
    "\n",
    "\n",
    "# Figure three: Bar graph showing top 10 sports with the most medals in Sweden\n",
    "@callback(\n",
    "    Output(\"graph_sweden_top10\", \"figure\"),\n",
    "    [\n",
    "        Input('year_dropdown', 'value'),\n",
    "        Input('sport_dropdown', 'value'),\n",
    "        Input('season_dropdown', 'value'),\n",
    "    ]\n",
    ")\n",
    "def figure_three(year, sport, season):\n",
    "    # Filter the data based on the selected values\n",
    "    filtered_data = grouped_final_athlete_events.query(\"Country == 'Sweden'\")\n",
    "\n",
    "    if year:\n",
    "        filtered_data = filtered_data[filtered_data['Year'].isin(year)]\n",
    "    if sport:\n",
    "        filtered_data = filtered_data[filtered_data['Sport'].isin(sport)]\n",
    "    if season:\n",
    "        filtered_data = filtered_data[filtered_data['Season'].isin(season)]\n",
    "\n",
    "    # Grouping by sport and counting medals\n",
    "    medals_per_sport = filtered_data[filtered_data['Number of Medals'] > 0].groupby(\"Sport\", as_index=False)[\"Number of Medals\"].count()\n",
    "    \n",
    "    # Sort values on number of medals in descending order, resetting index and displaying the result in a plot.\n",
    "    fig = px.bar(\n",
    "        data_frame=medals_per_sport.sort_values(by='Number of Medals', ascending=False, ignore_index=True).head(10),\n",
    "        x='Sport',\n",
    "        y='Number of Medals',\n",
    "        labels={'Number of Medals': 'Number of Medals'},\n",
    "        template='plotly_white',\n",
    "        title=\"Top 10 Sports with the Most Medals\",\n",
    "        barmode='overlay',\n",
    "    )\n",
    "    fig.update_xaxes(tickangle=45)\n",
    "\n",
    "    return fig\n",
    "\n",
    "\n",
    "#Figure four: Bar graph showing top 10 sports with the most gold medals in Sweden\n",
    "@callback(\n",
    "    Output(\"graph_sweden_gold\", \"figure\"),\n",
    "    [\n",
    "        Input('year_dropdown', 'value'),\n",
    "        Input('sport_dropdown', 'value'),\n",
    "        Input('season_dropdown', 'value'),\n",
    "\n",
    "    ]\n",
    ")\n",
    "def figure_four(year, sport, season):\n",
    "    # Filter the data based on the selected values\n",
    "    filtered_data = grouped_final_athlete_events.query(\"Country == 'Sweden'\")\n",
    "    if year:\n",
    "        filtered_data = filtered_data[filtered_data['Year'].isin(year)]\n",
    "    if sport:\n",
    "        filtered_data = filtered_data[filtered_data['Sport'].isin(sport)]\n",
    "    if season:\n",
    "        filtered_data = filtered_data[filtered_data['Season'].isin(season)]\n",
    "\n",
    "    # Grouping by sport and counting medals\n",
    "    medals_per_sport = filtered_data[filtered_data['Number of Medals'] > 0].groupby([\"Sport\", \"Medal\"], as_index=False)[\"Number of Medals\"].count()\n",
    "    \n",
    "    # Filter to include only Gold medals\n",
    "    medals_per_sport = medals_per_sport[medals_per_sport['Medal'].isin(['Gold'])]\n",
    "\n",
    "    # Sort values on the number of medals in descending order, resetting index and displaying the result in a plot.\n",
    "    fig = px.bar(\n",
    "        data_frame=medals_per_sport.sort_values(by='Number of Medals', ascending=False, ignore_index=True).head(10),\n",
    "        x='Sport',\n",
    "        y='Number of Medals',\n",
    "        labels={'Number of Medals': 'Number of Medals'},\n",
    "        title=\"Top 10 Sports Gold Medals\",\n",
    "        barmode='group',\n",
    "    )\n",
    "    fig.update_xaxes(tickangle=45)\n",
    "\n",
    "    return fig   \n",
    "\n",
    "\n",
    "\n",
    "# Figure five: Mapbox graph showing participants and medals per country/year and season by choice\n",
    "@callback(\n",
    "Output(\"graph_mapbox_2\", \"figure\"),\n",
    "Input(\"year_dropdown\", \"value\"),\n",
    "Input(\"sport_dropdown\", \"value\"),\n",
    "Input(\"season_dropdown\", \"value\")\n",
    ")\n",
    "def figure_five(years, sports, sort):\n",
    "    if sort in [None, \"\", []]:\n",
    "        if (years in [None, \"\", []]) and (sports in [None, \"\", []]):\n",
    "            fig = px.scatter_mapbox(\n",
    "                grouped_final_athlete_events.drop(columns=[\"Year\",\"Sport\",\"Season\", \"Medal\"]).groupby(\n",
    "                    [\"Country\", \"Country_latitude\", \"Country_longitude\"], as_index= False).agg(\n",
    "                    {\"Participants\": \"sum\", \"Number of Medals\": \"sum\"}\n",
    "                    ), \n",
    "                    lat=\"Country_latitude\", lon=\"Country_longitude\", size=\"Participants\", color=\"Number of Medals\", \n",
    "                    hover_name=\"Country\",  mapbox_style=\"open-street-map\", \n",
    "                    center=dict(lat=0, lon=0), zoom=1.2, opacity=0.5,\n",
    "                    title=\"Size according to count of participants\")\n",
    "        elif years not in [None, \"\", []] and sports in [None, \"\", []]:\n",
    "            df = grouped_final_athlete_events.drop(columns=[\"Sport\",\"Season\",\"Medal\"]).query(\"Year==@years\")\n",
    "            fig = px.scatter_mapbox(df, lat=\"Country_latitude\", \n",
    "            lon=\"Country_longitude\", size=\"Participants\", color=\"Number of Medals\", \n",
    "            hover_name=\"Country\",  mapbox_style=\"open-street-map\", \n",
    "            center=dict(lat=0, lon=0), zoom=1,\n",
    "            title=\"Size according to count of participants\")\n",
    "        elif years in [None, \"\", []] and sports not in [None, \"\", []]:\n",
    "            df = grouped_final_athlete_events.drop(columns=[\"Year\",\"Season\",\"Medal\"]).query(\"Sport==@sports\")\n",
    "            fig = px.scatter_mapbox(df, lat=\"Country_latitude\", \n",
    "            lon=\"Country_longitude\", size=\"Participants\", color=\"Number of Medals\", \n",
    "            hover_name=\"Country\",  mapbox_style=\"open-street-map\",\n",
    "            center=dict(lat=0, lon=0), zoom=1, \n",
    "            title=\"Size according to count of participants\")\n",
    "        elif years not in [None, \"\", []] and sports not in [None, \"\", []]:\n",
    "            df = grouped_final_athlete_events.drop(columns= [\"Season\",\"Medal\"]).query(\"Year==@years\")\n",
    "            df = df.query(\"Sport==@sports\")\n",
    "            fig = px.scatter_mapbox(df, lat=\"Country_latitude\", \n",
    "            lon=\"Country_longitude\", size=\"Participants\", color=\"Number of Medals\", \n",
    "            hover_name=\"Country\",  mapbox_style=\"open-street-map\",\n",
    "            center=dict(lat=0, lon=0), zoom=1, \n",
    "            title=\"Size according to count of participants\")\n",
    "    elif sort ==\"Summer\":\n",
    "        if (years in [None, \"\", []]) and (sports in [None, \"\", []]):\n",
    "            df = grouped_final_athlete_events.drop(columns=[\"Year\",\"Sport\",\"Medal\"])\n",
    "            df = df.query('Season == \"Summer\"')\n",
    "            fig = px.scatter_mapbox(df, lat=\"Country_latitude\", \n",
    "            lon=\"Country_longitude\", size=\"Participants\", color=\"Number of Medals\", \n",
    "             hover_name=\"Country\",  mapbox_style=\"open-street-map\", \n",
    "            center=dict(lat=0, lon=0), zoom=1.2, opacity=0.5,\n",
    "            title=\"Size according to count of participants and Season\")\n",
    "        elif years not in [None, \"\", []] and sports in [None, \"\", []]:\n",
    "            df = grouped_final_athlete_events.drop(columns=[\"Sport\",\"Medal\"]).query(\"Year==@years\")\n",
    "            df = df.query('Season == \"Summer\"')\n",
    "            fig = px.scatter_mapbox(df, lat=\"Country_latitude\", \n",
    "            lon=\"Country_longitude\", size=\"Participants\", color=\"Number of Medals\", \n",
    "            hover_name=\"Country\",  mapbox_style=\"open-street-map\", \n",
    "            center=dict(lat=0, lon=0), zoom=1,\n",
    "            title=\"Size according to count of participants and Season\")\n",
    "        elif years in [None, \"\", []] and sports not in [None, \"\", []]:\n",
    "            df = grouped_final_athlete_events.drop(columns=[\"Year\",\"Medal\"]).query(\"Sport==@sports\")\n",
    "            df  = df.query('Season == \"Summer\"')\n",
    "            fig = px.scatter_mapbox(df, lat=\"Country_latitude\", \n",
    "            lon=\"Country_longitude\", size=\"Participants\", color=\"Number of Medals\", \n",
    "            hover_name=\"Country\",  mapbox_style=\"open-street-map\",\n",
    "            center=dict(lat=0, lon=0), zoom=1, \n",
    "            title=\"Size according to count of participants and Season\")\n",
    "        elif years not in [None, \"\", []] and sports not in [None, \"\", []]:\n",
    "            df = grouped_final_athlete_events.drop(columns=[\"Medal\"]).query(\"Year==@years\")\n",
    "            df = df.query(\"Sport==@sports\")\n",
    "            df  = df.query('Season == \"Summer\"')    \n",
    "            fig = px.scatter_mapbox(df, lat=\"Country_latitude\", \n",
    "            lon=\"Country_longitude\", size=\"Participants\", color=\"Number of Medals\", \n",
    "            hover_name=\"Country\",  mapbox_style=\"open-street-map\",\n",
    "            center=dict(lat=0, lon=0), zoom=1, \n",
    "            title=\"Size according to count of participants and Season\")\n",
    "    else:\n",
    "        if (years in [None, \"\", []]) and (sports in [None, \"\", []]):\n",
    "            df = grouped_final_athlete_events.drop(columns=[\"Year\",\"Sport\",\"Medal\"])\n",
    "            df = df.query('Season == \"Winter\"')\n",
    "            fig = px.scatter_mapbox(df, lat=\"Country_latitude\", \n",
    "            lon=\"Country_longitude\", size=\"Participants\", color=\"Number of Medals\", \n",
    "             hover_name=\"Country\",  mapbox_style=\"open-street-map\", \n",
    "            center=dict(lat=0, lon=0), zoom=1.2, opacity=0.5,\n",
    "            title=\"Size according to count of participants and Season\")\n",
    "        elif years not in [None, \"\", []] and sports in [None, \"\", []]:\n",
    "            df = grouped_final_athlete_events.drop(columns=[\"Sport\",\"Medal\"]).query(\"Year==@years\")\n",
    "            df = df.query('Season == \"Winter\"')\n",
    "            fig = px.scatter_mapbox(df, lat=\"Country_latitude\", \n",
    "            lon=\"Country_longitude\", size=\"Participants\", color=\"Number of Medals\", \n",
    "            hover_name=\"Country\",  mapbox_style=\"open-street-map\", \n",
    "            center=dict(lat=0, lon=0), zoom=1,\n",
    "            title=\"Size according to count of participants and Season\")\n",
    "        elif years in [None, \"\", []] and sports not in [None, \"\", []]:\n",
    "            df = grouped_final_athlete_events.drop(columns=[\"Year\",\"Medal\"]).query(\"Sport==@sports\")\n",
    "            df  = df.query('Season == \"Winter\"')\n",
    "            fig = px.scatter_mapbox(df, lat=\"Country_latitude\", \n",
    "            lon=\"Country_longitude\", size=\"Participants\", color=\"Number of Medals\", \n",
    "            hover_name=\"Country\",  mapbox_style=\"open-street-map\",\n",
    "            center=dict(lat=0, lon=0), zoom=1, \n",
    "            title=\"Size according to count of participants and Season\")\n",
    "        elif years not in [None, \"\", []] and sports not in [None, \"\", []]:\n",
    "            df = grouped_final_athlete_events.drop(columns=[\"Medal\"]).query(\"Year==@years\")\n",
    "            df = df.query(\"Sport==@sports\")\n",
    "            df  = df.query('Season == \"Winter\"')    \n",
    "            fig = px.scatter_mapbox(df, lat=\"Country_latitude\", \n",
    "            lon=\"Country_longitude\", size=\"Participants\", color=\"Number of Medals\", \n",
    "            hover_name=\"Country\",  mapbox_style=\"open-street-map\",\n",
    "            center=dict(lat=0, lon=0), zoom=1, \n",
    "            title=\"Size according to count of participants and Season\")\n",
    "        \n",
    "    fig.update_mapboxes(bounds_east=180, bounds_west=-180, bounds_north=90, bounds_south=-90)\n",
    "    fig.update_layout(                       \n",
    "    mapbox_style=\"white-bg\",\n",
    "    mapbox_layers=[\n",
    "    {\n",
    "    \"below\": 'traces',\n",
    "    \"sourcetype\": \"raster\",\n",
    "    \"sourceattribution\": \"United States Geological Survey\",\n",
    "    \"source\": [\n",
    "    \"https://basemap.nationalmap.gov/arcgis/rest/services/USGSImageryOnly/MapServer/tile/{z}/{y}/{x}\"\n",
    "    ]\n",
    "    }\n",
    "    ])\n",
    "    return fig\n",
    "\n",
    "\n",
    "# Figure six: Mapbox graph with participants and medals per country/year/sport, and dropdown alternative to see gender ratios per country/year/sport\n",
    "@callback(\n",
    "    Output(\"graph_gender_or_medals_mapbox\", \"figure\"),\n",
    "    Input(\"year_dropdown\", \"value\"),\n",
    "    Input(\"sport_dropdown\", \"value\"),\n",
    "    Input(\"country_dropdown_left\", \"value\")\n",
    ")\n",
    "def figure_six(years, sports, sort):\n",
    "    if sort == \"Medals\" or sort in [None, \"\", []]:\n",
    "        if (years in [None, \"\", []]) and (sports in [None, \"\", []]):\n",
    "            fig = px.scatter_mapbox(grouped_final_athlete_events.drop(columns=[\"Year\",\"Sport\",\"Season\",\"Medal\"]).groupby(\n",
    "                    [\"Country\", \"Country_latitude\", \"Country_longitude\"], as_index= False).agg(\n",
    "                    {\"Participants\": \"sum\", \"Number of Medals\": \"sum\"}\n",
    "                    ), \n",
    "                    lat=\"Country_latitude\", lon=\"Country_longitude\", size=\"Participants\", color=\"Number of Medals\", \n",
    "                    hover_name=\"Country\",  mapbox_style=\"open-street-map\", \n",
    "                    center=dict(lat=0, lon=0), zoom=1.2, opacity=0.5,\n",
    "                    title=\"Size according to count of participants\")\n",
    "        elif years not in [None, \"\", []] and sports in [None, \"\", []]:\n",
    "            df = grouped_final_athlete_events.drop(columns=[\"Sport\",\"Season\",\"Medal\"]).query(\"Year==@years\")\n",
    "            fig = px.scatter_mapbox(df, lat=\"Country_latitude\", \n",
    "            lon=\"Country_longitude\", size=\"Participants\", color=\"Number of Medals\", \n",
    "            hover_name=\"Country\",  mapbox_style=\"open-street-map\", \n",
    "            center=dict(lat=0, lon=0), zoom=1,\n",
    "            title=\"Size according to count of participants\")\n",
    "        elif years in [None, \"\", []] and sports not in [None, \"\", []]:\n",
    "            df = grouped_final_athlete_events.drop(columns=[\"Year\",\"Season\",\"Medal\"]).query(\"Sport==@sports\")\n",
    "            fig = px.scatter_mapbox(df, lat=\"Country_latitude\", \n",
    "            lon=\"Country_longitude\", size=\"Participants\", color=\"Number of Medals\", \n",
    "            hover_name=\"Country\",  mapbox_style=\"open-street-map\",\n",
    "            center=dict(lat=0, lon=0), zoom=1, \n",
    "            title=\"Size according to count of participants\")\n",
    "        elif years not in [None, \"\", []] and sports not in [None, \"\", []]:\n",
    "            df = grouped_final_athlete_events.drop(columns= [\"Season\",\"Medal\"]).query(\"Year==@years\")\n",
    "            df = df.query(\"Sport==@sports\")\n",
    "            fig = px.scatter_mapbox(df, lat=\"Country_latitude\", \n",
    "            lon=\"Country_longitude\", size=\"Participants\", color=\"Number of Medals\", \n",
    "            hover_name=\"Country\",  mapbox_style=\"open-street-map\",\n",
    "            center=dict(lat=0, lon=0), zoom=1, \n",
    "            title=\"Size according to count of participants\")\n",
    "    elif sort ==\"Gender ratio\":\n",
    "        df = gender_ratios\n",
    "        fig = px.scatter_mapbox(df, animation_frame = \"Year\", lat=\"Country_latitude\",\n",
    "                lon=\"Country_longitude\", size=\"Count\", color=\"Ratio\", \n",
    "                hover_name=\"Country\",  mapbox_style=\"open-street-map\", \n",
    "                center=dict(lat=0, lon=0), zoom=1, title=\"Gender ratios over the years\")\n",
    "\n",
    "    fig.update_mapboxes(bounds_east=180, bounds_west=-180, bounds_north=90, bounds_south=-90)\n",
    "    return fig\n",
    "\n",
    "\n",
    "#if __name__ == \"__main__\":\n",
    "app.run(debug=True, jupyter_mode = 'external')\n",
    "    "
   ]
  },
  {
   "cell_type": "code",
   "execution_count": 27,
   "metadata": {},
   "outputs": [
    {
     "data": {
      "application/vnd.plotly.v1+json": {
       "config": {
        "plotlyServerURL": "https://plot.ly"
       },
       "data": [
        {
         "branchvalues": "total",
         "domain": {
          "x": [
           0,
           1
          ],
          "y": [
           0,
           1
          ]
         },
         "hovertemplate": "labels=%{label}<br>Number of Medals=%{value}<br>parent=%{parent}<br>id=%{id}<extra></extra>",
         "ids": [
          "Swimming/Bronze",
          "Wrestling/Bronze",
          "Cycling/Gold",
          "Swimming/Gold",
          "Archery/No Medal",
          "Athletics/No Medal",
          "Badminton/No Medal",
          "Boxing/No Medal",
          "Canoeing/No Medal",
          "Cycling/No Medal",
          "Equestrianism/No Medal",
          "Football/No Medal",
          "Golf/No Medal",
          "Gymnastics/No Medal",
          "Handball/No Medal",
          "Judo/No Medal",
          "Rowing/No Medal",
          "Sailing/No Medal",
          "Shooting/No Medal",
          "Swimming/No Medal",
          "Table Tennis/No Medal",
          "Taekwondo/No Medal",
          "Tennis/No Medal",
          "Triathlon/No Medal",
          "Weightlifting/No Medal",
          "Wrestling/No Medal",
          "Cycling/Silver",
          "Equestrianism/Silver",
          "Football/Silver",
          "Golf/Silver",
          "Shooting/Silver",
          "Swimming/Silver",
          "Archery",
          "Athletics",
          "Badminton",
          "Boxing",
          "Canoeing",
          "Cycling",
          "Equestrianism",
          "Football",
          "Golf",
          "Gymnastics",
          "Handball",
          "Judo",
          "Rowing",
          "Sailing",
          "Shooting",
          "Swimming",
          "Table Tennis",
          "Taekwondo",
          "Tennis",
          "Triathlon",
          "Weightlifting",
          "Wrestling"
         ],
         "labels": [
          "Bronze",
          "Bronze",
          "Gold",
          "Gold",
          "No Medal",
          "No Medal",
          "No Medal",
          "No Medal",
          "No Medal",
          "No Medal",
          "No Medal",
          "No Medal",
          "No Medal",
          "No Medal",
          "No Medal",
          "No Medal",
          "No Medal",
          "No Medal",
          "No Medal",
          "No Medal",
          "No Medal",
          "No Medal",
          "No Medal",
          "No Medal",
          "No Medal",
          "No Medal",
          "Silver",
          "Silver",
          "Silver",
          "Silver",
          "Silver",
          "Silver",
          "Archery",
          "Athletics",
          "Badminton",
          "Boxing",
          "Canoeing",
          "Cycling",
          "Equestrianism",
          "Football",
          "Golf",
          "Gymnastics",
          "Handball",
          "Judo",
          "Rowing",
          "Sailing",
          "Shooting",
          "Swimming",
          "Table Tennis",
          "Taekwondo",
          "Tennis",
          "Triathlon",
          "Weightlifting",
          "Wrestling"
         ],
         "name": "",
         "parents": [
          "Swimming",
          "Wrestling",
          "Cycling",
          "Swimming",
          "Archery",
          "Athletics",
          "Badminton",
          "Boxing",
          "Canoeing",
          "Cycling",
          "Equestrianism",
          "Football",
          "Golf",
          "Gymnastics",
          "Handball",
          "Judo",
          "Rowing",
          "Sailing",
          "Shooting",
          "Swimming",
          "Table Tennis",
          "Taekwondo",
          "Tennis",
          "Triathlon",
          "Weightlifting",
          "Wrestling",
          "Cycling",
          "Equestrianism",
          "Football",
          "Golf",
          "Shooting",
          "Swimming",
          "",
          "",
          "",
          "",
          "",
          "",
          "",
          "",
          "",
          "",
          "",
          "",
          "",
          "",
          "",
          "",
          "",
          "",
          "",
          "",
          "",
          ""
         ],
         "type": "sunburst",
         "values": [
          1,
          2,
          1,
          1,
          0,
          0,
          0,
          0,
          0,
          0,
          0,
          0,
          0,
          0,
          0,
          0,
          0,
          0,
          0,
          0,
          0,
          0,
          0,
          0,
          0,
          0,
          1,
          1,
          18,
          1,
          1,
          1,
          0,
          0,
          0,
          0,
          0,
          2,
          1,
          18,
          1,
          0,
          0,
          0,
          0,
          0,
          1,
          3,
          0,
          0,
          0,
          0,
          0,
          2
         ]
        }
       ],
       "layout": {
        "legend": {
         "tracegroupgap": 0
        },
        "sunburstcolorway": [
         "rgb(251,180,174)",
         "rgb(179,205,227)",
         "rgb(204,235,197)",
         "rgb(222,203,228)",
         "rgb(254,217,166)",
         "rgb(255,255,204)",
         "rgb(229,216,189)",
         "rgb(253,218,236)",
         "rgb(242,242,242)"
        ],
        "template": {
         "data": {
          "bar": [
           {
            "error_x": {
             "color": "#f2f5fa"
            },
            "error_y": {
             "color": "#f2f5fa"
            },
            "marker": {
             "line": {
              "color": "rgb(17,17,17)",
              "width": 0.5
             },
             "pattern": {
              "fillmode": "overlay",
              "size": 10,
              "solidity": 0.2
             }
            },
            "type": "bar"
           }
          ],
          "barpolar": [
           {
            "marker": {
             "line": {
              "color": "rgb(17,17,17)",
              "width": 0.5
             },
             "pattern": {
              "fillmode": "overlay",
              "size": 10,
              "solidity": 0.2
             }
            },
            "type": "barpolar"
           }
          ],
          "carpet": [
           {
            "aaxis": {
             "endlinecolor": "#A2B1C6",
             "gridcolor": "#506784",
             "linecolor": "#506784",
             "minorgridcolor": "#506784",
             "startlinecolor": "#A2B1C6"
            },
            "baxis": {
             "endlinecolor": "#A2B1C6",
             "gridcolor": "#506784",
             "linecolor": "#506784",
             "minorgridcolor": "#506784",
             "startlinecolor": "#A2B1C6"
            },
            "type": "carpet"
           }
          ],
          "choropleth": [
           {
            "colorbar": {
             "outlinewidth": 0,
             "ticks": ""
            },
            "type": "choropleth"
           }
          ],
          "contour": [
           {
            "colorbar": {
             "outlinewidth": 0,
             "ticks": ""
            },
            "colorscale": [
             [
              0,
              "#0d0887"
             ],
             [
              0.1111111111111111,
              "#46039f"
             ],
             [
              0.2222222222222222,
              "#7201a8"
             ],
             [
              0.3333333333333333,
              "#9c179e"
             ],
             [
              0.4444444444444444,
              "#bd3786"
             ],
             [
              0.5555555555555556,
              "#d8576b"
             ],
             [
              0.6666666666666666,
              "#ed7953"
             ],
             [
              0.7777777777777778,
              "#fb9f3a"
             ],
             [
              0.8888888888888888,
              "#fdca26"
             ],
             [
              1,
              "#f0f921"
             ]
            ],
            "type": "contour"
           }
          ],
          "contourcarpet": [
           {
            "colorbar": {
             "outlinewidth": 0,
             "ticks": ""
            },
            "type": "contourcarpet"
           }
          ],
          "heatmap": [
           {
            "colorbar": {
             "outlinewidth": 0,
             "ticks": ""
            },
            "colorscale": [
             [
              0,
              "#0d0887"
             ],
             [
              0.1111111111111111,
              "#46039f"
             ],
             [
              0.2222222222222222,
              "#7201a8"
             ],
             [
              0.3333333333333333,
              "#9c179e"
             ],
             [
              0.4444444444444444,
              "#bd3786"
             ],
             [
              0.5555555555555556,
              "#d8576b"
             ],
             [
              0.6666666666666666,
              "#ed7953"
             ],
             [
              0.7777777777777778,
              "#fb9f3a"
             ],
             [
              0.8888888888888888,
              "#fdca26"
             ],
             [
              1,
              "#f0f921"
             ]
            ],
            "type": "heatmap"
           }
          ],
          "heatmapgl": [
           {
            "colorbar": {
             "outlinewidth": 0,
             "ticks": ""
            },
            "colorscale": [
             [
              0,
              "#0d0887"
             ],
             [
              0.1111111111111111,
              "#46039f"
             ],
             [
              0.2222222222222222,
              "#7201a8"
             ],
             [
              0.3333333333333333,
              "#9c179e"
             ],
             [
              0.4444444444444444,
              "#bd3786"
             ],
             [
              0.5555555555555556,
              "#d8576b"
             ],
             [
              0.6666666666666666,
              "#ed7953"
             ],
             [
              0.7777777777777778,
              "#fb9f3a"
             ],
             [
              0.8888888888888888,
              "#fdca26"
             ],
             [
              1,
              "#f0f921"
             ]
            ],
            "type": "heatmapgl"
           }
          ],
          "histogram": [
           {
            "marker": {
             "pattern": {
              "fillmode": "overlay",
              "size": 10,
              "solidity": 0.2
             }
            },
            "type": "histogram"
           }
          ],
          "histogram2d": [
           {
            "colorbar": {
             "outlinewidth": 0,
             "ticks": ""
            },
            "colorscale": [
             [
              0,
              "#0d0887"
             ],
             [
              0.1111111111111111,
              "#46039f"
             ],
             [
              0.2222222222222222,
              "#7201a8"
             ],
             [
              0.3333333333333333,
              "#9c179e"
             ],
             [
              0.4444444444444444,
              "#bd3786"
             ],
             [
              0.5555555555555556,
              "#d8576b"
             ],
             [
              0.6666666666666666,
              "#ed7953"
             ],
             [
              0.7777777777777778,
              "#fb9f3a"
             ],
             [
              0.8888888888888888,
              "#fdca26"
             ],
             [
              1,
              "#f0f921"
             ]
            ],
            "type": "histogram2d"
           }
          ],
          "histogram2dcontour": [
           {
            "colorbar": {
             "outlinewidth": 0,
             "ticks": ""
            },
            "colorscale": [
             [
              0,
              "#0d0887"
             ],
             [
              0.1111111111111111,
              "#46039f"
             ],
             [
              0.2222222222222222,
              "#7201a8"
             ],
             [
              0.3333333333333333,
              "#9c179e"
             ],
             [
              0.4444444444444444,
              "#bd3786"
             ],
             [
              0.5555555555555556,
              "#d8576b"
             ],
             [
              0.6666666666666666,
              "#ed7953"
             ],
             [
              0.7777777777777778,
              "#fb9f3a"
             ],
             [
              0.8888888888888888,
              "#fdca26"
             ],
             [
              1,
              "#f0f921"
             ]
            ],
            "type": "histogram2dcontour"
           }
          ],
          "mesh3d": [
           {
            "colorbar": {
             "outlinewidth": 0,
             "ticks": ""
            },
            "type": "mesh3d"
           }
          ],
          "parcoords": [
           {
            "line": {
             "colorbar": {
              "outlinewidth": 0,
              "ticks": ""
             }
            },
            "type": "parcoords"
           }
          ],
          "pie": [
           {
            "automargin": true,
            "type": "pie"
           }
          ],
          "scatter": [
           {
            "marker": {
             "line": {
              "color": "#686dc3"
             }
            },
            "type": "scatter"
           }
          ],
          "scatter3d": [
           {
            "line": {
             "colorbar": {
              "outlinewidth": 0,
              "ticks": ""
             }
            },
            "marker": {
             "colorbar": {
              "outlinewidth": 0,
              "ticks": ""
             }
            },
            "type": "scatter3d"
           }
          ],
          "scattercarpet": [
           {
            "marker": {
             "colorbar": {
              "outlinewidth": 0,
              "ticks": ""
             }
            },
            "type": "scattercarpet"
           }
          ],
          "scattergeo": [
           {
            "marker": {
             "colorbar": {
              "outlinewidth": 0,
              "ticks": ""
             }
            },
            "type": "scattergeo"
           }
          ],
          "scattergl": [
           {
            "marker": {
             "line": {
              "color": "#686dc3"
             }
            },
            "type": "scattergl"
           }
          ],
          "scattermapbox": [
           {
            "marker": {
             "colorbar": {
              "outlinewidth": 0,
              "ticks": ""
             }
            },
            "type": "scattermapbox"
           }
          ],
          "scatterpolar": [
           {
            "marker": {
             "colorbar": {
              "outlinewidth": 0,
              "ticks": ""
             }
            },
            "type": "scatterpolar"
           }
          ],
          "scatterpolargl": [
           {
            "marker": {
             "colorbar": {
              "outlinewidth": 0,
              "ticks": ""
             }
            },
            "type": "scatterpolargl"
           }
          ],
          "scatterternary": [
           {
            "marker": {
             "colorbar": {
              "outlinewidth": 0,
              "ticks": ""
             }
            },
            "type": "scatterternary"
           }
          ],
          "surface": [
           {
            "colorbar": {
             "outlinewidth": 0,
             "ticks": ""
            },
            "colorscale": [
             [
              0,
              "#0d0887"
             ],
             [
              0.1111111111111111,
              "#46039f"
             ],
             [
              0.2222222222222222,
              "#7201a8"
             ],
             [
              0.3333333333333333,
              "#9c179e"
             ],
             [
              0.4444444444444444,
              "#bd3786"
             ],
             [
              0.5555555555555556,
              "#d8576b"
             ],
             [
              0.6666666666666666,
              "#ed7953"
             ],
             [
              0.7777777777777778,
              "#fb9f3a"
             ],
             [
              0.8888888888888888,
              "#fdca26"
             ],
             [
              1,
              "#f0f921"
             ]
            ],
            "type": "surface"
           }
          ],
          "table": [
           {
            "cells": {
             "fill": {
              "color": "#506784"
             },
             "line": {
              "color": "rgb(17,17,17)"
             }
            },
            "header": {
             "fill": {
              "color": "#2a3f5f"
             },
             "line": {
              "color": "rgb(17,17,17)"
             }
            },
            "type": "table"
           }
          ]
         },
         "layout": {
          "annotationdefaults": {
           "arrowcolor": "#f2f5fa",
           "arrowhead": 0,
           "arrowwidth": 1,
           "font": {
            "color": "#fff"
           }
          },
          "autotypenumbers": "strict",
          "coloraxis": {
           "colorbar": {
            "outlinewidth": 0,
            "ticks": ""
           }
          },
          "colorscale": {
           "diverging": [
            [
             0,
             "#8e0152"
            ],
            [
             0.1,
             "#c51b7d"
            ],
            [
             0.2,
             "#de77ae"
            ],
            [
             0.3,
             "#f1b6da"
            ],
            [
             0.4,
             "#fde0ef"
            ],
            [
             0.5,
             "#f7f7f7"
            ],
            [
             0.6,
             "#e6f5d0"
            ],
            [
             0.7,
             "#b8e186"
            ],
            [
             0.8,
             "#7fbc41"
            ],
            [
             0.9,
             "#4d9221"
            ],
            [
             1,
             "#276419"
            ]
           ],
           "sequential": [
            [
             0,
             "#e83283"
            ],
            [
             0.1,
             "#f03f7e"
            ],
            [
             0.2,
             "#f84c79"
            ],
            [
             0.30000000000000004,
             "#ff5974"
            ],
            [
             0.4,
             "#ff666f"
            ],
            [
             0.5,
             "#ff7469"
            ],
            [
             0.6000000000000001,
             "#ff8164"
            ],
            [
             0.7000000000000001,
             "#ff8e5f"
            ],
            [
             0.8,
             "#ff9b5a"
            ],
            [
             0.9,
             "#ffa855"
            ],
            [
             1,
             "#ffb550"
            ]
           ],
           "sequentialminus": [
            [
             0,
             "#0d0887"
            ],
            [
             0.1111111111111111,
             "#46039f"
            ],
            [
             0.2222222222222222,
             "#7201a8"
            ],
            [
             0.3333333333333333,
             "#9c179e"
            ],
            [
             0.4444444444444444,
             "#bd3786"
            ],
            [
             0.5555555555555556,
             "#d8576b"
            ],
            [
             0.6666666666666666,
             "#ed7953"
            ],
            [
             0.7777777777777778,
             "#fb9f3a"
            ],
            [
             0.8888888888888888,
             "#fdca26"
            ],
            [
             1,
             "#f0f921"
            ]
           ]
          },
          "colorway": [
           "#e72e84",
           "#f77f14",
           "#52e8b5",
           "#ffef47",
           "#21a4d3"
          ],
          "font": {
           "color": "#fff",
           "family": "system-ui,-apple-system,\"Segoe UI\",Roboto,\"Helvetica Neue\",\"Noto Sans\",\"Liberation Sans\",Arial,sans-serif,\"Apple Color Emoji\",\"Segoe UI Emoji\",\"Segoe UI Symbol\",\"Noto Color Emoji\""
          },
          "geo": {
           "bgcolor": "#686dc3",
           "lakecolor": "#686dc3",
           "landcolor": "#686dc3",
           "showlakes": true,
           "showland": true,
           "subunitcolor": "#506784"
          },
          "hoverlabel": {
           "align": "left",
           "font": {
            "family": "system-ui,-apple-system,\"Segoe UI\",Roboto,\"Helvetica Neue\",\"Noto Sans\",\"Liberation Sans\",Arial,sans-serif,\"Apple Color Emoji\",\"Segoe UI Emoji\",\"Segoe UI Symbol\",\"Noto Color Emoji\""
           }
          },
          "hovermode": "closest",
          "mapbox": {
           "style": "dark"
          },
          "paper_bgcolor": "#686dc3",
          "piecolorway": [
           "#e72e84",
           "#f77f14",
           "#52e8b5",
           "#ffef47",
           "#21a4d3"
          ],
          "plot_bgcolor": "#686dc3",
          "polar": {
           "angularaxis": {
            "gridcolor": "#506784",
            "linecolor": "#506784",
            "ticks": ""
           },
           "bgcolor": "rgb(17,17,17)",
           "radialaxis": {
            "gridcolor": "#506784",
            "linecolor": "#506784",
            "ticks": ""
           }
          },
          "scene": {
           "xaxis": {
            "backgroundcolor": "rgb(17,17,17)",
            "gridcolor": "#506784",
            "gridwidth": 2,
            "linecolor": "#506784",
            "showbackground": true,
            "ticks": "",
            "zerolinecolor": "#C8D4E3"
           },
           "yaxis": {
            "backgroundcolor": "rgb(17,17,17)",
            "gridcolor": "#506784",
            "gridwidth": 2,
            "linecolor": "#506784",
            "showbackground": true,
            "ticks": "",
            "zerolinecolor": "#C8D4E3"
           },
           "zaxis": {
            "backgroundcolor": "rgb(17,17,17)",
            "gridcolor": "#506784",
            "gridwidth": 2,
            "linecolor": "#506784",
            "showbackground": true,
            "ticks": "",
            "zerolinecolor": "#C8D4E3"
           }
          },
          "shapedefaults": {
           "line": {
            "color": "#f2f5fa"
           }
          },
          "sliderdefaults": {
           "bgcolor": "#C8D4E3",
           "bordercolor": "rgb(17,17,17)",
           "borderwidth": 1,
           "tickwidth": 0
          },
          "ternary": {
           "aaxis": {
            "gridcolor": "#506784",
            "linecolor": "#506784",
            "ticks": ""
           },
           "baxis": {
            "gridcolor": "#506784",
            "linecolor": "#506784",
            "ticks": ""
           },
           "bgcolor": "rgb(17,17,17)",
           "caxis": {
            "gridcolor": "#506784",
            "linecolor": "#506784",
            "ticks": ""
           }
          },
          "title": {
           "x": 0.05
          },
          "updatemenudefaults": {
           "bgcolor": "#506784",
           "borderwidth": 0
          },
          "xaxis": {
           "automargin": true,
           "gridcolor": "#7479c8",
           "gridwidth": 0.5,
           "linecolor": "#506784",
           "ticks": "",
           "title": {
            "standoff": 15
           },
           "zerolinecolor": "#7479c8",
           "zerolinewidth": 2
          },
          "yaxis": {
           "automargin": true,
           "gridcolor": "#7479c8",
           "gridwidth": 0.5,
           "linecolor": "#506784",
           "ticks": "",
           "title": {
            "standoff": 15
           },
           "zerolinecolor": "#7479c8",
           "zerolinewidth": 2
          }
         }
        },
        "title": {
         "text": "Medals and sports for team SWEDEN"
        }
       }
      }
     },
     "metadata": {},
     "output_type": "display_data"
    }
   ],
   "source": [
    "title_fig = \"Medals and sports for team SWEDEN\"\n",
    "\n",
    "fig = px.sunburst(grouped_final_athlete_events.query(\"Country == 'Sweden' and Year == 2016\"), values='Number of Medals', \n",
    "                color_discrete_sequence=px.colors.qualitative.Pastel1, path=['Sport', 'Medal'], title = title_fig)\n",
    "fig.show()"
   ]
  },
  {
   "cell_type": "code",
   "execution_count": 34,
   "metadata": {},
   "outputs": [
    {
     "data": {
      "text/html": [
       "<div>\n",
       "<style scoped>\n",
       "    .dataframe tbody tr th:only-of-type {\n",
       "        vertical-align: middle;\n",
       "    }\n",
       "\n",
       "    .dataframe tbody tr th {\n",
       "        vertical-align: top;\n",
       "    }\n",
       "\n",
       "    .dataframe thead th {\n",
       "        text-align: right;\n",
       "    }\n",
       "</style>\n",
       "<table border=\"1\" class=\"dataframe\">\n",
       "  <thead>\n",
       "    <tr style=\"text-align: right;\">\n",
       "      <th></th>\n",
       "      <th>Year</th>\n",
       "      <th>Season</th>\n",
       "      <th>Medal</th>\n",
       "      <th>Country</th>\n",
       "      <th>Sport</th>\n",
       "      <th>Country_latitude</th>\n",
       "      <th>Country_longitude</th>\n",
       "      <th>Participants</th>\n",
       "      <th>Number of Medals</th>\n",
       "    </tr>\n",
       "  </thead>\n",
       "  <tbody>\n",
       "    <tr>\n",
       "      <th>0</th>\n",
       "      <td>1896</td>\n",
       "      <td>Summer</td>\n",
       "      <td>Bronze</td>\n",
       "      <td>Australia</td>\n",
       "      <td>Tennis</td>\n",
       "      <td>-25.274398</td>\n",
       "      <td>133.775136</td>\n",
       "      <td>1</td>\n",
       "      <td>1</td>\n",
       "    </tr>\n",
       "    <tr>\n",
       "      <th>1</th>\n",
       "      <td>1896</td>\n",
       "      <td>Summer</td>\n",
       "      <td>Bronze</td>\n",
       "      <td>Austria</td>\n",
       "      <td>Cycling</td>\n",
       "      <td>47.516231</td>\n",
       "      <td>14.550072</td>\n",
       "      <td>1</td>\n",
       "      <td>2</td>\n",
       "    </tr>\n",
       "    <tr>\n",
       "      <th>2</th>\n",
       "      <td>1896</td>\n",
       "      <td>Summer</td>\n",
       "      <td>Bronze</td>\n",
       "      <td>Denmark</td>\n",
       "      <td>Fencing</td>\n",
       "      <td>56.263920</td>\n",
       "      <td>9.501785</td>\n",
       "      <td>1</td>\n",
       "      <td>1</td>\n",
       "    </tr>\n",
       "    <tr>\n",
       "      <th>3</th>\n",
       "      <td>1896</td>\n",
       "      <td>Summer</td>\n",
       "      <td>Bronze</td>\n",
       "      <td>Denmark</td>\n",
       "      <td>Shooting</td>\n",
       "      <td>56.263920</td>\n",
       "      <td>9.501785</td>\n",
       "      <td>2</td>\n",
       "      <td>2</td>\n",
       "    </tr>\n",
       "    <tr>\n",
       "      <th>4</th>\n",
       "      <td>1896</td>\n",
       "      <td>Summer</td>\n",
       "      <td>Bronze</td>\n",
       "      <td>France</td>\n",
       "      <td>Athletics</td>\n",
       "      <td>46.227638</td>\n",
       "      <td>2.213749</td>\n",
       "      <td>1</td>\n",
       "      <td>1</td>\n",
       "    </tr>\n",
       "  </tbody>\n",
       "</table>\n",
       "</div>"
      ],
      "text/plain": [
       "   Year  Season   Medal    Country      Sport  Country_latitude  \\\n",
       "0  1896  Summer  Bronze  Australia     Tennis        -25.274398   \n",
       "1  1896  Summer  Bronze    Austria    Cycling         47.516231   \n",
       "2  1896  Summer  Bronze    Denmark    Fencing         56.263920   \n",
       "3  1896  Summer  Bronze    Denmark   Shooting         56.263920   \n",
       "4  1896  Summer  Bronze     France  Athletics         46.227638   \n",
       "\n",
       "   Country_longitude  Participants  Number of Medals  \n",
       "0         133.775136             1                 1  \n",
       "1          14.550072             1                 2  \n",
       "2           9.501785             1                 1  \n",
       "3           9.501785             2                 2  \n",
       "4           2.213749             1                 1  "
      ]
     },
     "execution_count": 34,
     "metadata": {},
     "output_type": "execute_result"
    }
   ],
   "source": [
    "grouped_final_athlete_events.head()"
   ]
  },
  {
   "cell_type": "code",
   "execution_count": null,
   "metadata": {},
   "outputs": [],
   "source": [
    "filtered_data = grouped_final_athlete_events.query(\"Country == 'Sweden'\")\n",
    "    if year:\n",
    "        filtered_data = filtered_data[filtered_data['Year'].isin(year)]\n",
    "    if sport:\n",
    "        filtered_data = filtered_data[filtered_data['Sport'].isin(sport)]\n",
    "    if season:\n",
    "        filtered_data = filtered_data[filtered_data['Season'].isin(season)]\n",
    "\n",
    "    # Grouping by sport and counting medals\n",
    "    medals_per_sport = filtered_data.groupby(\"Sport\", as_index=False)[\"Medal\"].count()\n",
    "\n",
    "    # Sort values on number of medals in descending order, resetting index and displaying the result in a plot.\n",
    "    fig = px.bar(\n",
    "        data_frame=medals_per_sport.sort_values(by='Medal', ascending=False, ignore_index=True).head(10),\n",
    "        x='Sport',\n",
    "        y='Medal',\n",
    "        labels={'Medal': 'Number of Medals'},\n",
    "        template='plotly_white',\n",
    "        title=\"Top 10 Sports with the Most Medals\",\n",
    "        barmode='overlay',\n",
    "    )\n",
    "    fig.update_xaxes(tickangle=45)\n"
   ]
  },
  {
   "cell_type": "code",
   "execution_count": 44,
   "metadata": {},
   "outputs": [
    {
     "data": {
      "text/html": [
       "<div>\n",
       "<style scoped>\n",
       "    .dataframe tbody tr th:only-of-type {\n",
       "        vertical-align: middle;\n",
       "    }\n",
       "\n",
       "    .dataframe tbody tr th {\n",
       "        vertical-align: top;\n",
       "    }\n",
       "\n",
       "    .dataframe thead th {\n",
       "        text-align: right;\n",
       "    }\n",
       "</style>\n",
       "<table border=\"1\" class=\"dataframe\">\n",
       "  <thead>\n",
       "    <tr style=\"text-align: right;\">\n",
       "      <th></th>\n",
       "      <th>Year</th>\n",
       "      <th>Season</th>\n",
       "      <th>Medal</th>\n",
       "      <th>Country</th>\n",
       "      <th>Sport</th>\n",
       "      <th>Country_latitude</th>\n",
       "      <th>Country_longitude</th>\n",
       "      <th>Participants</th>\n",
       "      <th>Number of Medals</th>\n",
       "    </tr>\n",
       "  </thead>\n",
       "  <tbody>\n",
       "    <tr>\n",
       "      <th>33541</th>\n",
       "      <td>2016</td>\n",
       "      <td>Summer</td>\n",
       "      <td>Bronze</td>\n",
       "      <td>Sweden</td>\n",
       "      <td>Swimming</td>\n",
       "      <td>60.128161</td>\n",
       "      <td>18.643501</td>\n",
       "      <td>1</td>\n",
       "      <td>1</td>\n",
       "    </tr>\n",
       "    <tr>\n",
       "      <th>33542</th>\n",
       "      <td>2016</td>\n",
       "      <td>Summer</td>\n",
       "      <td>Bronze</td>\n",
       "      <td>Sweden</td>\n",
       "      <td>Wrestling</td>\n",
       "      <td>60.128161</td>\n",
       "      <td>18.643501</td>\n",
       "      <td>2</td>\n",
       "      <td>2</td>\n",
       "    </tr>\n",
       "    <tr>\n",
       "      <th>33724</th>\n",
       "      <td>2016</td>\n",
       "      <td>Summer</td>\n",
       "      <td>Gold</td>\n",
       "      <td>Sweden</td>\n",
       "      <td>Cycling</td>\n",
       "      <td>60.128161</td>\n",
       "      <td>18.643501</td>\n",
       "      <td>1</td>\n",
       "      <td>1</td>\n",
       "    </tr>\n",
       "    <tr>\n",
       "      <th>33725</th>\n",
       "      <td>2016</td>\n",
       "      <td>Summer</td>\n",
       "      <td>Gold</td>\n",
       "      <td>Sweden</td>\n",
       "      <td>Swimming</td>\n",
       "      <td>60.128161</td>\n",
       "      <td>18.643501</td>\n",
       "      <td>1</td>\n",
       "      <td>1</td>\n",
       "    </tr>\n",
       "    <tr>\n",
       "      <th>35218</th>\n",
       "      <td>2016</td>\n",
       "      <td>Summer</td>\n",
       "      <td>No Medal</td>\n",
       "      <td>Sweden</td>\n",
       "      <td>Archery</td>\n",
       "      <td>60.128161</td>\n",
       "      <td>18.643501</td>\n",
       "      <td>1</td>\n",
       "      <td>0</td>\n",
       "    </tr>\n",
       "    <tr>\n",
       "      <th>35219</th>\n",
       "      <td>2016</td>\n",
       "      <td>Summer</td>\n",
       "      <td>No Medal</td>\n",
       "      <td>Sweden</td>\n",
       "      <td>Athletics</td>\n",
       "      <td>60.128161</td>\n",
       "      <td>18.643501</td>\n",
       "      <td>15</td>\n",
       "      <td>0</td>\n",
       "    </tr>\n",
       "    <tr>\n",
       "      <th>35220</th>\n",
       "      <td>2016</td>\n",
       "      <td>Summer</td>\n",
       "      <td>No Medal</td>\n",
       "      <td>Sweden</td>\n",
       "      <td>Badminton</td>\n",
       "      <td>60.128161</td>\n",
       "      <td>18.643501</td>\n",
       "      <td>1</td>\n",
       "      <td>0</td>\n",
       "    </tr>\n",
       "    <tr>\n",
       "      <th>35221</th>\n",
       "      <td>2016</td>\n",
       "      <td>Summer</td>\n",
       "      <td>No Medal</td>\n",
       "      <td>Sweden</td>\n",
       "      <td>Boxing</td>\n",
       "      <td>60.128161</td>\n",
       "      <td>18.643501</td>\n",
       "      <td>1</td>\n",
       "      <td>0</td>\n",
       "    </tr>\n",
       "    <tr>\n",
       "      <th>35222</th>\n",
       "      <td>2016</td>\n",
       "      <td>Summer</td>\n",
       "      <td>No Medal</td>\n",
       "      <td>Sweden</td>\n",
       "      <td>Canoeing</td>\n",
       "      <td>60.128161</td>\n",
       "      <td>18.643501</td>\n",
       "      <td>5</td>\n",
       "      <td>0</td>\n",
       "    </tr>\n",
       "    <tr>\n",
       "      <th>35223</th>\n",
       "      <td>2016</td>\n",
       "      <td>Summer</td>\n",
       "      <td>No Medal</td>\n",
       "      <td>Sweden</td>\n",
       "      <td>Cycling</td>\n",
       "      <td>60.128161</td>\n",
       "      <td>18.643501</td>\n",
       "      <td>2</td>\n",
       "      <td>0</td>\n",
       "    </tr>\n",
       "    <tr>\n",
       "      <th>35224</th>\n",
       "      <td>2016</td>\n",
       "      <td>Summer</td>\n",
       "      <td>No Medal</td>\n",
       "      <td>Sweden</td>\n",
       "      <td>Equestrianism</td>\n",
       "      <td>60.128161</td>\n",
       "      <td>18.643501</td>\n",
       "      <td>12</td>\n",
       "      <td>0</td>\n",
       "    </tr>\n",
       "    <tr>\n",
       "      <th>35225</th>\n",
       "      <td>2016</td>\n",
       "      <td>Summer</td>\n",
       "      <td>No Medal</td>\n",
       "      <td>Sweden</td>\n",
       "      <td>Football</td>\n",
       "      <td>60.128161</td>\n",
       "      <td>18.643501</td>\n",
       "      <td>15</td>\n",
       "      <td>0</td>\n",
       "    </tr>\n",
       "    <tr>\n",
       "      <th>35226</th>\n",
       "      <td>2016</td>\n",
       "      <td>Summer</td>\n",
       "      <td>No Medal</td>\n",
       "      <td>Sweden</td>\n",
       "      <td>Golf</td>\n",
       "      <td>60.128161</td>\n",
       "      <td>18.643501</td>\n",
       "      <td>3</td>\n",
       "      <td>0</td>\n",
       "    </tr>\n",
       "    <tr>\n",
       "      <th>35227</th>\n",
       "      <td>2016</td>\n",
       "      <td>Summer</td>\n",
       "      <td>No Medal</td>\n",
       "      <td>Sweden</td>\n",
       "      <td>Gymnastics</td>\n",
       "      <td>60.128161</td>\n",
       "      <td>18.643501</td>\n",
       "      <td>1</td>\n",
       "      <td>0</td>\n",
       "    </tr>\n",
       "    <tr>\n",
       "      <th>35228</th>\n",
       "      <td>2016</td>\n",
       "      <td>Summer</td>\n",
       "      <td>No Medal</td>\n",
       "      <td>Sweden</td>\n",
       "      <td>Handball</td>\n",
       "      <td>60.128161</td>\n",
       "      <td>18.643501</td>\n",
       "      <td>30</td>\n",
       "      <td>0</td>\n",
       "    </tr>\n",
       "    <tr>\n",
       "      <th>35229</th>\n",
       "      <td>2016</td>\n",
       "      <td>Summer</td>\n",
       "      <td>No Medal</td>\n",
       "      <td>Sweden</td>\n",
       "      <td>Judo</td>\n",
       "      <td>60.128161</td>\n",
       "      <td>18.643501</td>\n",
       "      <td>4</td>\n",
       "      <td>0</td>\n",
       "    </tr>\n",
       "    <tr>\n",
       "      <th>35230</th>\n",
       "      <td>2016</td>\n",
       "      <td>Summer</td>\n",
       "      <td>No Medal</td>\n",
       "      <td>Sweden</td>\n",
       "      <td>Rowing</td>\n",
       "      <td>60.128161</td>\n",
       "      <td>18.643501</td>\n",
       "      <td>1</td>\n",
       "      <td>0</td>\n",
       "    </tr>\n",
       "    <tr>\n",
       "      <th>35231</th>\n",
       "      <td>2016</td>\n",
       "      <td>Summer</td>\n",
       "      <td>No Medal</td>\n",
       "      <td>Sweden</td>\n",
       "      <td>Sailing</td>\n",
       "      <td>60.128161</td>\n",
       "      <td>18.643501</td>\n",
       "      <td>7</td>\n",
       "      <td>0</td>\n",
       "    </tr>\n",
       "    <tr>\n",
       "      <th>35232</th>\n",
       "      <td>2016</td>\n",
       "      <td>Summer</td>\n",
       "      <td>No Medal</td>\n",
       "      <td>Sweden</td>\n",
       "      <td>Shooting</td>\n",
       "      <td>60.128161</td>\n",
       "      <td>18.643501</td>\n",
       "      <td>2</td>\n",
       "      <td>0</td>\n",
       "    </tr>\n",
       "    <tr>\n",
       "      <th>35233</th>\n",
       "      <td>2016</td>\n",
       "      <td>Summer</td>\n",
       "      <td>No Medal</td>\n",
       "      <td>Sweden</td>\n",
       "      <td>Swimming</td>\n",
       "      <td>60.128161</td>\n",
       "      <td>18.643501</td>\n",
       "      <td>11</td>\n",
       "      <td>0</td>\n",
       "    </tr>\n",
       "    <tr>\n",
       "      <th>35234</th>\n",
       "      <td>2016</td>\n",
       "      <td>Summer</td>\n",
       "      <td>No Medal</td>\n",
       "      <td>Sweden</td>\n",
       "      <td>Table Tennis</td>\n",
       "      <td>60.128161</td>\n",
       "      <td>18.643501</td>\n",
       "      <td>5</td>\n",
       "      <td>0</td>\n",
       "    </tr>\n",
       "    <tr>\n",
       "      <th>35235</th>\n",
       "      <td>2016</td>\n",
       "      <td>Summer</td>\n",
       "      <td>No Medal</td>\n",
       "      <td>Sweden</td>\n",
       "      <td>Taekwondo</td>\n",
       "      <td>60.128161</td>\n",
       "      <td>18.643501</td>\n",
       "      <td>2</td>\n",
       "      <td>0</td>\n",
       "    </tr>\n",
       "    <tr>\n",
       "      <th>35236</th>\n",
       "      <td>2016</td>\n",
       "      <td>Summer</td>\n",
       "      <td>No Medal</td>\n",
       "      <td>Sweden</td>\n",
       "      <td>Tennis</td>\n",
       "      <td>60.128161</td>\n",
       "      <td>18.643501</td>\n",
       "      <td>1</td>\n",
       "      <td>0</td>\n",
       "    </tr>\n",
       "    <tr>\n",
       "      <th>35237</th>\n",
       "      <td>2016</td>\n",
       "      <td>Summer</td>\n",
       "      <td>No Medal</td>\n",
       "      <td>Sweden</td>\n",
       "      <td>Triathlon</td>\n",
       "      <td>60.128161</td>\n",
       "      <td>18.643501</td>\n",
       "      <td>1</td>\n",
       "      <td>0</td>\n",
       "    </tr>\n",
       "    <tr>\n",
       "      <th>35238</th>\n",
       "      <td>2016</td>\n",
       "      <td>Summer</td>\n",
       "      <td>No Medal</td>\n",
       "      <td>Sweden</td>\n",
       "      <td>Weightlifting</td>\n",
       "      <td>60.128161</td>\n",
       "      <td>18.643501</td>\n",
       "      <td>1</td>\n",
       "      <td>0</td>\n",
       "    </tr>\n",
       "    <tr>\n",
       "      <th>35239</th>\n",
       "      <td>2016</td>\n",
       "      <td>Summer</td>\n",
       "      <td>No Medal</td>\n",
       "      <td>Sweden</td>\n",
       "      <td>Wrestling</td>\n",
       "      <td>60.128161</td>\n",
       "      <td>18.643501</td>\n",
       "      <td>5</td>\n",
       "      <td>0</td>\n",
       "    </tr>\n",
       "    <tr>\n",
       "      <th>35639</th>\n",
       "      <td>2016</td>\n",
       "      <td>Summer</td>\n",
       "      <td>Silver</td>\n",
       "      <td>Sweden</td>\n",
       "      <td>Cycling</td>\n",
       "      <td>60.128161</td>\n",
       "      <td>18.643501</td>\n",
       "      <td>1</td>\n",
       "      <td>1</td>\n",
       "    </tr>\n",
       "    <tr>\n",
       "      <th>35640</th>\n",
       "      <td>2016</td>\n",
       "      <td>Summer</td>\n",
       "      <td>Silver</td>\n",
       "      <td>Sweden</td>\n",
       "      <td>Equestrianism</td>\n",
       "      <td>60.128161</td>\n",
       "      <td>18.643501</td>\n",
       "      <td>1</td>\n",
       "      <td>1</td>\n",
       "    </tr>\n",
       "    <tr>\n",
       "      <th>35641</th>\n",
       "      <td>2016</td>\n",
       "      <td>Summer</td>\n",
       "      <td>Silver</td>\n",
       "      <td>Sweden</td>\n",
       "      <td>Football</td>\n",
       "      <td>60.128161</td>\n",
       "      <td>18.643501</td>\n",
       "      <td>18</td>\n",
       "      <td>18</td>\n",
       "    </tr>\n",
       "    <tr>\n",
       "      <th>35642</th>\n",
       "      <td>2016</td>\n",
       "      <td>Summer</td>\n",
       "      <td>Silver</td>\n",
       "      <td>Sweden</td>\n",
       "      <td>Golf</td>\n",
       "      <td>60.128161</td>\n",
       "      <td>18.643501</td>\n",
       "      <td>1</td>\n",
       "      <td>1</td>\n",
       "    </tr>\n",
       "    <tr>\n",
       "      <th>35643</th>\n",
       "      <td>2016</td>\n",
       "      <td>Summer</td>\n",
       "      <td>Silver</td>\n",
       "      <td>Sweden</td>\n",
       "      <td>Shooting</td>\n",
       "      <td>60.128161</td>\n",
       "      <td>18.643501</td>\n",
       "      <td>1</td>\n",
       "      <td>1</td>\n",
       "    </tr>\n",
       "    <tr>\n",
       "      <th>35644</th>\n",
       "      <td>2016</td>\n",
       "      <td>Summer</td>\n",
       "      <td>Silver</td>\n",
       "      <td>Sweden</td>\n",
       "      <td>Swimming</td>\n",
       "      <td>60.128161</td>\n",
       "      <td>18.643501</td>\n",
       "      <td>1</td>\n",
       "      <td>1</td>\n",
       "    </tr>\n",
       "  </tbody>\n",
       "</table>\n",
       "</div>"
      ],
      "text/plain": [
       "       Year  Season     Medal Country          Sport  Country_latitude  \\\n",
       "33541  2016  Summer    Bronze  Sweden       Swimming         60.128161   \n",
       "33542  2016  Summer    Bronze  Sweden      Wrestling         60.128161   \n",
       "33724  2016  Summer      Gold  Sweden        Cycling         60.128161   \n",
       "33725  2016  Summer      Gold  Sweden       Swimming         60.128161   \n",
       "35218  2016  Summer  No Medal  Sweden        Archery         60.128161   \n",
       "35219  2016  Summer  No Medal  Sweden      Athletics         60.128161   \n",
       "35220  2016  Summer  No Medal  Sweden      Badminton         60.128161   \n",
       "35221  2016  Summer  No Medal  Sweden         Boxing         60.128161   \n",
       "35222  2016  Summer  No Medal  Sweden       Canoeing         60.128161   \n",
       "35223  2016  Summer  No Medal  Sweden        Cycling         60.128161   \n",
       "35224  2016  Summer  No Medal  Sweden  Equestrianism         60.128161   \n",
       "35225  2016  Summer  No Medal  Sweden       Football         60.128161   \n",
       "35226  2016  Summer  No Medal  Sweden           Golf         60.128161   \n",
       "35227  2016  Summer  No Medal  Sweden     Gymnastics         60.128161   \n",
       "35228  2016  Summer  No Medal  Sweden       Handball         60.128161   \n",
       "35229  2016  Summer  No Medal  Sweden           Judo         60.128161   \n",
       "35230  2016  Summer  No Medal  Sweden         Rowing         60.128161   \n",
       "35231  2016  Summer  No Medal  Sweden        Sailing         60.128161   \n",
       "35232  2016  Summer  No Medal  Sweden       Shooting         60.128161   \n",
       "35233  2016  Summer  No Medal  Sweden       Swimming         60.128161   \n",
       "35234  2016  Summer  No Medal  Sweden   Table Tennis         60.128161   \n",
       "35235  2016  Summer  No Medal  Sweden      Taekwondo         60.128161   \n",
       "35236  2016  Summer  No Medal  Sweden         Tennis         60.128161   \n",
       "35237  2016  Summer  No Medal  Sweden      Triathlon         60.128161   \n",
       "35238  2016  Summer  No Medal  Sweden  Weightlifting         60.128161   \n",
       "35239  2016  Summer  No Medal  Sweden      Wrestling         60.128161   \n",
       "35639  2016  Summer    Silver  Sweden        Cycling         60.128161   \n",
       "35640  2016  Summer    Silver  Sweden  Equestrianism         60.128161   \n",
       "35641  2016  Summer    Silver  Sweden       Football         60.128161   \n",
       "35642  2016  Summer    Silver  Sweden           Golf         60.128161   \n",
       "35643  2016  Summer    Silver  Sweden       Shooting         60.128161   \n",
       "35644  2016  Summer    Silver  Sweden       Swimming         60.128161   \n",
       "\n",
       "       Country_longitude  Participants  Number of Medals  \n",
       "33541          18.643501             1                 1  \n",
       "33542          18.643501             2                 2  \n",
       "33724          18.643501             1                 1  \n",
       "33725          18.643501             1                 1  \n",
       "35218          18.643501             1                 0  \n",
       "35219          18.643501            15                 0  \n",
       "35220          18.643501             1                 0  \n",
       "35221          18.643501             1                 0  \n",
       "35222          18.643501             5                 0  \n",
       "35223          18.643501             2                 0  \n",
       "35224          18.643501            12                 0  \n",
       "35225          18.643501            15                 0  \n",
       "35226          18.643501             3                 0  \n",
       "35227          18.643501             1                 0  \n",
       "35228          18.643501            30                 0  \n",
       "35229          18.643501             4                 0  \n",
       "35230          18.643501             1                 0  \n",
       "35231          18.643501             7                 0  \n",
       "35232          18.643501             2                 0  \n",
       "35233          18.643501            11                 0  \n",
       "35234          18.643501             5                 0  \n",
       "35235          18.643501             2                 0  \n",
       "35236          18.643501             1                 0  \n",
       "35237          18.643501             1                 0  \n",
       "35238          18.643501             1                 0  \n",
       "35239          18.643501             5                 0  \n",
       "35639          18.643501             1                 1  \n",
       "35640          18.643501             1                 1  \n",
       "35641          18.643501            18                18  \n",
       "35642          18.643501             1                 1  \n",
       "35643          18.643501             1                 1  \n",
       "35644          18.643501             1                 1  "
      ]
     },
     "execution_count": 44,
     "metadata": {},
     "output_type": "execute_result"
    }
   ],
   "source": [
    "grouped_final_athlete_events.query(\"Country == 'Sweden' and Year == 2016\")"
   ]
  },
  {
   "cell_type": "code",
   "execution_count": 52,
   "metadata": {},
   "outputs": [
    {
     "data": {
      "application/vnd.plotly.v1+json": {
       "config": {
        "plotlyServerURL": "https://plot.ly"
       },
       "data": [
        {
         "alignmentgroup": "True",
         "hovertemplate": "Sport=%{x}<br>Number of Medals=%{y}<extra></extra>",
         "legendgroup": "",
         "marker": {
          "color": "#636efa",
          "opacity": 0.5,
          "pattern": {
           "shape": ""
          }
         },
         "name": "",
         "offsetgroup": "",
         "orientation": "v",
         "showlegend": false,
         "textposition": "auto",
         "type": "bar",
         "x": [
          "Swimming",
          "Cycling",
          "Equestrianism",
          "Football",
          "Golf",
          "Shooting",
          "Wrestling"
         ],
         "xaxis": "x",
         "y": [
          3,
          2,
          1,
          1,
          1,
          1,
          1
         ],
         "yaxis": "y"
        }
       ],
       "layout": {
        "barmode": "overlay",
        "legend": {
         "tracegroupgap": 0
        },
        "template": {
         "data": {
          "bar": [
           {
            "error_x": {
             "color": "#2a3f5f"
            },
            "error_y": {
             "color": "#2a3f5f"
            },
            "marker": {
             "line": {
              "color": "white",
              "width": 0.5
             },
             "pattern": {
              "fillmode": "overlay",
              "size": 10,
              "solidity": 0.2
             }
            },
            "type": "bar"
           }
          ],
          "barpolar": [
           {
            "marker": {
             "line": {
              "color": "white",
              "width": 0.5
             },
             "pattern": {
              "fillmode": "overlay",
              "size": 10,
              "solidity": 0.2
             }
            },
            "type": "barpolar"
           }
          ],
          "carpet": [
           {
            "aaxis": {
             "endlinecolor": "#2a3f5f",
             "gridcolor": "#C8D4E3",
             "linecolor": "#C8D4E3",
             "minorgridcolor": "#C8D4E3",
             "startlinecolor": "#2a3f5f"
            },
            "baxis": {
             "endlinecolor": "#2a3f5f",
             "gridcolor": "#C8D4E3",
             "linecolor": "#C8D4E3",
             "minorgridcolor": "#C8D4E3",
             "startlinecolor": "#2a3f5f"
            },
            "type": "carpet"
           }
          ],
          "choropleth": [
           {
            "colorbar": {
             "outlinewidth": 0,
             "ticks": ""
            },
            "type": "choropleth"
           }
          ],
          "contour": [
           {
            "colorbar": {
             "outlinewidth": 0,
             "ticks": ""
            },
            "colorscale": [
             [
              0,
              "#0d0887"
             ],
             [
              0.1111111111111111,
              "#46039f"
             ],
             [
              0.2222222222222222,
              "#7201a8"
             ],
             [
              0.3333333333333333,
              "#9c179e"
             ],
             [
              0.4444444444444444,
              "#bd3786"
             ],
             [
              0.5555555555555556,
              "#d8576b"
             ],
             [
              0.6666666666666666,
              "#ed7953"
             ],
             [
              0.7777777777777778,
              "#fb9f3a"
             ],
             [
              0.8888888888888888,
              "#fdca26"
             ],
             [
              1,
              "#f0f921"
             ]
            ],
            "type": "contour"
           }
          ],
          "contourcarpet": [
           {
            "colorbar": {
             "outlinewidth": 0,
             "ticks": ""
            },
            "type": "contourcarpet"
           }
          ],
          "heatmap": [
           {
            "colorbar": {
             "outlinewidth": 0,
             "ticks": ""
            },
            "colorscale": [
             [
              0,
              "#0d0887"
             ],
             [
              0.1111111111111111,
              "#46039f"
             ],
             [
              0.2222222222222222,
              "#7201a8"
             ],
             [
              0.3333333333333333,
              "#9c179e"
             ],
             [
              0.4444444444444444,
              "#bd3786"
             ],
             [
              0.5555555555555556,
              "#d8576b"
             ],
             [
              0.6666666666666666,
              "#ed7953"
             ],
             [
              0.7777777777777778,
              "#fb9f3a"
             ],
             [
              0.8888888888888888,
              "#fdca26"
             ],
             [
              1,
              "#f0f921"
             ]
            ],
            "type": "heatmap"
           }
          ],
          "heatmapgl": [
           {
            "colorbar": {
             "outlinewidth": 0,
             "ticks": ""
            },
            "colorscale": [
             [
              0,
              "#0d0887"
             ],
             [
              0.1111111111111111,
              "#46039f"
             ],
             [
              0.2222222222222222,
              "#7201a8"
             ],
             [
              0.3333333333333333,
              "#9c179e"
             ],
             [
              0.4444444444444444,
              "#bd3786"
             ],
             [
              0.5555555555555556,
              "#d8576b"
             ],
             [
              0.6666666666666666,
              "#ed7953"
             ],
             [
              0.7777777777777778,
              "#fb9f3a"
             ],
             [
              0.8888888888888888,
              "#fdca26"
             ],
             [
              1,
              "#f0f921"
             ]
            ],
            "type": "heatmapgl"
           }
          ],
          "histogram": [
           {
            "marker": {
             "pattern": {
              "fillmode": "overlay",
              "size": 10,
              "solidity": 0.2
             }
            },
            "type": "histogram"
           }
          ],
          "histogram2d": [
           {
            "colorbar": {
             "outlinewidth": 0,
             "ticks": ""
            },
            "colorscale": [
             [
              0,
              "#0d0887"
             ],
             [
              0.1111111111111111,
              "#46039f"
             ],
             [
              0.2222222222222222,
              "#7201a8"
             ],
             [
              0.3333333333333333,
              "#9c179e"
             ],
             [
              0.4444444444444444,
              "#bd3786"
             ],
             [
              0.5555555555555556,
              "#d8576b"
             ],
             [
              0.6666666666666666,
              "#ed7953"
             ],
             [
              0.7777777777777778,
              "#fb9f3a"
             ],
             [
              0.8888888888888888,
              "#fdca26"
             ],
             [
              1,
              "#f0f921"
             ]
            ],
            "type": "histogram2d"
           }
          ],
          "histogram2dcontour": [
           {
            "colorbar": {
             "outlinewidth": 0,
             "ticks": ""
            },
            "colorscale": [
             [
              0,
              "#0d0887"
             ],
             [
              0.1111111111111111,
              "#46039f"
             ],
             [
              0.2222222222222222,
              "#7201a8"
             ],
             [
              0.3333333333333333,
              "#9c179e"
             ],
             [
              0.4444444444444444,
              "#bd3786"
             ],
             [
              0.5555555555555556,
              "#d8576b"
             ],
             [
              0.6666666666666666,
              "#ed7953"
             ],
             [
              0.7777777777777778,
              "#fb9f3a"
             ],
             [
              0.8888888888888888,
              "#fdca26"
             ],
             [
              1,
              "#f0f921"
             ]
            ],
            "type": "histogram2dcontour"
           }
          ],
          "mesh3d": [
           {
            "colorbar": {
             "outlinewidth": 0,
             "ticks": ""
            },
            "type": "mesh3d"
           }
          ],
          "parcoords": [
           {
            "line": {
             "colorbar": {
              "outlinewidth": 0,
              "ticks": ""
             }
            },
            "type": "parcoords"
           }
          ],
          "pie": [
           {
            "automargin": true,
            "type": "pie"
           }
          ],
          "scatter": [
           {
            "fillpattern": {
             "fillmode": "overlay",
             "size": 10,
             "solidity": 0.2
            },
            "type": "scatter"
           }
          ],
          "scatter3d": [
           {
            "line": {
             "colorbar": {
              "outlinewidth": 0,
              "ticks": ""
             }
            },
            "marker": {
             "colorbar": {
              "outlinewidth": 0,
              "ticks": ""
             }
            },
            "type": "scatter3d"
           }
          ],
          "scattercarpet": [
           {
            "marker": {
             "colorbar": {
              "outlinewidth": 0,
              "ticks": ""
             }
            },
            "type": "scattercarpet"
           }
          ],
          "scattergeo": [
           {
            "marker": {
             "colorbar": {
              "outlinewidth": 0,
              "ticks": ""
             }
            },
            "type": "scattergeo"
           }
          ],
          "scattergl": [
           {
            "marker": {
             "colorbar": {
              "outlinewidth": 0,
              "ticks": ""
             }
            },
            "type": "scattergl"
           }
          ],
          "scattermapbox": [
           {
            "marker": {
             "colorbar": {
              "outlinewidth": 0,
              "ticks": ""
             }
            },
            "type": "scattermapbox"
           }
          ],
          "scatterpolar": [
           {
            "marker": {
             "colorbar": {
              "outlinewidth": 0,
              "ticks": ""
             }
            },
            "type": "scatterpolar"
           }
          ],
          "scatterpolargl": [
           {
            "marker": {
             "colorbar": {
              "outlinewidth": 0,
              "ticks": ""
             }
            },
            "type": "scatterpolargl"
           }
          ],
          "scatterternary": [
           {
            "marker": {
             "colorbar": {
              "outlinewidth": 0,
              "ticks": ""
             }
            },
            "type": "scatterternary"
           }
          ],
          "surface": [
           {
            "colorbar": {
             "outlinewidth": 0,
             "ticks": ""
            },
            "colorscale": [
             [
              0,
              "#0d0887"
             ],
             [
              0.1111111111111111,
              "#46039f"
             ],
             [
              0.2222222222222222,
              "#7201a8"
             ],
             [
              0.3333333333333333,
              "#9c179e"
             ],
             [
              0.4444444444444444,
              "#bd3786"
             ],
             [
              0.5555555555555556,
              "#d8576b"
             ],
             [
              0.6666666666666666,
              "#ed7953"
             ],
             [
              0.7777777777777778,
              "#fb9f3a"
             ],
             [
              0.8888888888888888,
              "#fdca26"
             ],
             [
              1,
              "#f0f921"
             ]
            ],
            "type": "surface"
           }
          ],
          "table": [
           {
            "cells": {
             "fill": {
              "color": "#EBF0F8"
             },
             "line": {
              "color": "white"
             }
            },
            "header": {
             "fill": {
              "color": "#C8D4E3"
             },
             "line": {
              "color": "white"
             }
            },
            "type": "table"
           }
          ]
         },
         "layout": {
          "annotationdefaults": {
           "arrowcolor": "#2a3f5f",
           "arrowhead": 0,
           "arrowwidth": 1
          },
          "autotypenumbers": "strict",
          "coloraxis": {
           "colorbar": {
            "outlinewidth": 0,
            "ticks": ""
           }
          },
          "colorscale": {
           "diverging": [
            [
             0,
             "#8e0152"
            ],
            [
             0.1,
             "#c51b7d"
            ],
            [
             0.2,
             "#de77ae"
            ],
            [
             0.3,
             "#f1b6da"
            ],
            [
             0.4,
             "#fde0ef"
            ],
            [
             0.5,
             "#f7f7f7"
            ],
            [
             0.6,
             "#e6f5d0"
            ],
            [
             0.7,
             "#b8e186"
            ],
            [
             0.8,
             "#7fbc41"
            ],
            [
             0.9,
             "#4d9221"
            ],
            [
             1,
             "#276419"
            ]
           ],
           "sequential": [
            [
             0,
             "#0d0887"
            ],
            [
             0.1111111111111111,
             "#46039f"
            ],
            [
             0.2222222222222222,
             "#7201a8"
            ],
            [
             0.3333333333333333,
             "#9c179e"
            ],
            [
             0.4444444444444444,
             "#bd3786"
            ],
            [
             0.5555555555555556,
             "#d8576b"
            ],
            [
             0.6666666666666666,
             "#ed7953"
            ],
            [
             0.7777777777777778,
             "#fb9f3a"
            ],
            [
             0.8888888888888888,
             "#fdca26"
            ],
            [
             1,
             "#f0f921"
            ]
           ],
           "sequentialminus": [
            [
             0,
             "#0d0887"
            ],
            [
             0.1111111111111111,
             "#46039f"
            ],
            [
             0.2222222222222222,
             "#7201a8"
            ],
            [
             0.3333333333333333,
             "#9c179e"
            ],
            [
             0.4444444444444444,
             "#bd3786"
            ],
            [
             0.5555555555555556,
             "#d8576b"
            ],
            [
             0.6666666666666666,
             "#ed7953"
            ],
            [
             0.7777777777777778,
             "#fb9f3a"
            ],
            [
             0.8888888888888888,
             "#fdca26"
            ],
            [
             1,
             "#f0f921"
            ]
           ]
          },
          "colorway": [
           "#636efa",
           "#EF553B",
           "#00cc96",
           "#ab63fa",
           "#FFA15A",
           "#19d3f3",
           "#FF6692",
           "#B6E880",
           "#FF97FF",
           "#FECB52"
          ],
          "font": {
           "color": "#2a3f5f"
          },
          "geo": {
           "bgcolor": "white",
           "lakecolor": "white",
           "landcolor": "white",
           "showlakes": true,
           "showland": true,
           "subunitcolor": "#C8D4E3"
          },
          "hoverlabel": {
           "align": "left"
          },
          "hovermode": "closest",
          "mapbox": {
           "style": "light"
          },
          "paper_bgcolor": "white",
          "plot_bgcolor": "white",
          "polar": {
           "angularaxis": {
            "gridcolor": "#EBF0F8",
            "linecolor": "#EBF0F8",
            "ticks": ""
           },
           "bgcolor": "white",
           "radialaxis": {
            "gridcolor": "#EBF0F8",
            "linecolor": "#EBF0F8",
            "ticks": ""
           }
          },
          "scene": {
           "xaxis": {
            "backgroundcolor": "white",
            "gridcolor": "#DFE8F3",
            "gridwidth": 2,
            "linecolor": "#EBF0F8",
            "showbackground": true,
            "ticks": "",
            "zerolinecolor": "#EBF0F8"
           },
           "yaxis": {
            "backgroundcolor": "white",
            "gridcolor": "#DFE8F3",
            "gridwidth": 2,
            "linecolor": "#EBF0F8",
            "showbackground": true,
            "ticks": "",
            "zerolinecolor": "#EBF0F8"
           },
           "zaxis": {
            "backgroundcolor": "white",
            "gridcolor": "#DFE8F3",
            "gridwidth": 2,
            "linecolor": "#EBF0F8",
            "showbackground": true,
            "ticks": "",
            "zerolinecolor": "#EBF0F8"
           }
          },
          "shapedefaults": {
           "line": {
            "color": "#2a3f5f"
           }
          },
          "ternary": {
           "aaxis": {
            "gridcolor": "#DFE8F3",
            "linecolor": "#A2B1C6",
            "ticks": ""
           },
           "baxis": {
            "gridcolor": "#DFE8F3",
            "linecolor": "#A2B1C6",
            "ticks": ""
           },
           "bgcolor": "white",
           "caxis": {
            "gridcolor": "#DFE8F3",
            "linecolor": "#A2B1C6",
            "ticks": ""
           }
          },
          "title": {
           "x": 0.05
          },
          "xaxis": {
           "automargin": true,
           "gridcolor": "#EBF0F8",
           "linecolor": "#EBF0F8",
           "ticks": "",
           "title": {
            "standoff": 15
           },
           "zerolinecolor": "#EBF0F8",
           "zerolinewidth": 2
          },
          "yaxis": {
           "automargin": true,
           "gridcolor": "#EBF0F8",
           "linecolor": "#EBF0F8",
           "ticks": "",
           "title": {
            "standoff": 15
           },
           "zerolinecolor": "#EBF0F8",
           "zerolinewidth": 2
          }
         }
        },
        "title": {
         "text": "Top 10 Sports with the Most Medals"
        },
        "xaxis": {
         "anchor": "y",
         "domain": [
          0,
          1
         ],
         "tickangle": 45,
         "title": {
          "text": "Sport"
         }
        },
        "yaxis": {
         "anchor": "x",
         "domain": [
          0,
          1
         ],
         "title": {
          "text": "Number of Medals"
         }
        }
       }
      }
     },
     "metadata": {},
     "output_type": "display_data"
    }
   ],
   "source": [
    "filtered_data = grouped_final_athlete_events.query(\"Country == 'Sweden' and Year == 2016\")\n",
    "\n",
    "# Filter rows with values above 0 for column \"Number of Medals\"\n",
    "filtered_data = filtered_data[filtered_data['Number of Medals'] > 0].groupby(\"Sport\", as_index=False)[\"Number of Medals\"].count()\n",
    "\n",
    "\n",
    "fig = px.bar(\n",
    "        data_frame=filtered_data.sort_values(by='Number of Medals', ascending=False, ignore_index=True),\n",
    "        x='Sport',\n",
    "        y='Number of Medals',\n",
    "        labels={'Medal': 'Number of Medals'},\n",
    "        template='plotly_white',\n",
    "        title=\"Top 10 Sports with the Most Medals\",\n",
    "        barmode='overlay',\n",
    "    )\n",
    "    \n",
    "fig.update_xaxes(tickangle=45)\n",
    "fig.show()"
   ]
  },
  {
   "cell_type": "code",
   "execution_count": 4,
   "metadata": {},
   "outputs": [
    {
     "data": {
      "text/html": [
       "<div>\n",
       "<style scoped>\n",
       "    .dataframe tbody tr th:only-of-type {\n",
       "        vertical-align: middle;\n",
       "    }\n",
       "\n",
       "    .dataframe tbody tr th {\n",
       "        vertical-align: top;\n",
       "    }\n",
       "\n",
       "    .dataframe thead th {\n",
       "        text-align: right;\n",
       "    }\n",
       "</style>\n",
       "<table border=\"1\" class=\"dataframe\">\n",
       "  <thead>\n",
       "    <tr style=\"text-align: right;\">\n",
       "      <th></th>\n",
       "      <th>Year</th>\n",
       "      <th>Season</th>\n",
       "      <th>Medal</th>\n",
       "      <th>Country</th>\n",
       "      <th>Sport</th>\n",
       "      <th>Country_latitude</th>\n",
       "      <th>Country_longitude</th>\n",
       "      <th>Participants</th>\n",
       "      <th>Number of Medals</th>\n",
       "    </tr>\n",
       "  </thead>\n",
       "  <tbody>\n",
       "    <tr>\n",
       "      <th>0</th>\n",
       "      <td>1896</td>\n",
       "      <td>Summer</td>\n",
       "      <td>Bronze</td>\n",
       "      <td>Australia</td>\n",
       "      <td>Tennis</td>\n",
       "      <td>-25.274398</td>\n",
       "      <td>133.775136</td>\n",
       "      <td>1</td>\n",
       "      <td>1</td>\n",
       "    </tr>\n",
       "    <tr>\n",
       "      <th>1</th>\n",
       "      <td>1896</td>\n",
       "      <td>Summer</td>\n",
       "      <td>Bronze</td>\n",
       "      <td>Austria</td>\n",
       "      <td>Cycling</td>\n",
       "      <td>47.516231</td>\n",
       "      <td>14.550072</td>\n",
       "      <td>1</td>\n",
       "      <td>2</td>\n",
       "    </tr>\n",
       "    <tr>\n",
       "      <th>2</th>\n",
       "      <td>1896</td>\n",
       "      <td>Summer</td>\n",
       "      <td>Bronze</td>\n",
       "      <td>Denmark</td>\n",
       "      <td>Fencing</td>\n",
       "      <td>56.263920</td>\n",
       "      <td>9.501785</td>\n",
       "      <td>1</td>\n",
       "      <td>1</td>\n",
       "    </tr>\n",
       "    <tr>\n",
       "      <th>3</th>\n",
       "      <td>1896</td>\n",
       "      <td>Summer</td>\n",
       "      <td>Bronze</td>\n",
       "      <td>Denmark</td>\n",
       "      <td>Shooting</td>\n",
       "      <td>56.263920</td>\n",
       "      <td>9.501785</td>\n",
       "      <td>2</td>\n",
       "      <td>2</td>\n",
       "    </tr>\n",
       "    <tr>\n",
       "      <th>4</th>\n",
       "      <td>1896</td>\n",
       "      <td>Summer</td>\n",
       "      <td>Bronze</td>\n",
       "      <td>France</td>\n",
       "      <td>Athletics</td>\n",
       "      <td>46.227638</td>\n",
       "      <td>2.213749</td>\n",
       "      <td>1</td>\n",
       "      <td>1</td>\n",
       "    </tr>\n",
       "  </tbody>\n",
       "</table>\n",
       "</div>"
      ],
      "text/plain": [
       "   Year  Season   Medal    Country      Sport  Country_latitude  \\\n",
       "0  1896  Summer  Bronze  Australia     Tennis        -25.274398   \n",
       "1  1896  Summer  Bronze    Austria    Cycling         47.516231   \n",
       "2  1896  Summer  Bronze    Denmark    Fencing         56.263920   \n",
       "3  1896  Summer  Bronze    Denmark   Shooting         56.263920   \n",
       "4  1896  Summer  Bronze     France  Athletics         46.227638   \n",
       "\n",
       "   Country_longitude  Participants  Number of Medals  \n",
       "0         133.775136             1                 1  \n",
       "1          14.550072             1                 2  \n",
       "2           9.501785             1                 1  \n",
       "3           9.501785             2                 2  \n",
       "4           2.213749             1                 1  "
      ]
     },
     "execution_count": 4,
     "metadata": {},
     "output_type": "execute_result"
    }
   ],
   "source": [
    "grouped_final_athlete_events.head()"
   ]
  }
 ],
 "metadata": {
  "kernelspec": {
   "display_name": "OS-Project-17Ajirj2",
   "language": "python",
   "name": "python3"
  },
  "language_info": {
   "codemirror_mode": {
    "name": "ipython",
    "version": 3
   },
   "file_extension": ".py",
   "mimetype": "text/x-python",
   "name": "python",
   "nbconvert_exporter": "python",
   "pygments_lexer": "ipython3",
   "version": "3.11.5"
  }
 },
 "nbformat": 4,
 "nbformat_minor": 2
}
