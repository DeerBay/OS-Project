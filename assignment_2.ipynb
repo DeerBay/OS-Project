{
 "cells": [
  {
   "cell_type": "markdown",
   "metadata": {},
   "source": [
    "# Sports Statistics\n",
    "\n",
    "Below you'll find statistics for the following sports:\n",
    "- Ice Hockey\n",
    "- Athletics\n",
    "- Shooting\n",
    "- Cross Country Skiing\n",
    "\n",
    "(The four sports that Sweden got the most medals in)"
   ]
  },
  {
   "cell_type": "code",
   "execution_count": 2,
   "metadata": {},
   "outputs": [],
   "source": [
    "import pandas as pd\n",
    "import plotly_express as px"
   ]
  },
  {
   "cell_type": "code",
   "execution_count": 3,
   "metadata": {},
   "outputs": [],
   "source": [
    "# Reading the athlete_events.csv file\n",
    "athlete_events = pd.read_csv(\"data/athlete_events.csv\")"
   ]
  },
  {
   "cell_type": "code",
   "execution_count": 9,
   "metadata": {},
   "outputs": [
    {
     "data": {
      "text/plain": [
       "'len(df_icehockey)=5516'"
      ]
     },
     "metadata": {},
     "output_type": "display_data"
    },
    {
     "data": {
      "text/plain": [
       "'len(df_athletics)=38624'"
      ]
     },
     "metadata": {},
     "output_type": "display_data"
    },
    {
     "data": {
      "text/plain": [
       "'len(df_shooting)=11448'"
      ]
     },
     "metadata": {},
     "output_type": "display_data"
    },
    {
     "data": {
      "text/plain": [
       "'len(df_cross_county_skiing)=9133'"
      ]
     },
     "metadata": {},
     "output_type": "display_data"
    },
    {
     "data": {
      "text/plain": [
       "'len(df_all_selected_sports)=64721'"
      ]
     },
     "metadata": {},
     "output_type": "display_data"
    }
   ],
   "source": [
    "# NOTE: Create a new DataFrame instance named df_icehockey using pandas.\n",
    "# Filter the rows from the existing DataFrame athlete_events based on the condition 'Sport == \"XX\"'.\n",
    "# The resulting DataFrame, df_icehockey, contains data specific to athletes and events in the sport \"XX\".\n",
    "df_icehockey = pd.DataFrame(athlete_events.query('Sport == \"Ice Hockey\"'))\n",
    "df_athletics = pd.DataFrame(athlete_events.query('Sport == \"Athletics\"'))\n",
    "df_shooting = pd.DataFrame(athlete_events.query('Sport == \"Shooting\"'))\n",
    "df_cross_county_skiing = pd.DataFrame(athlete_events.query('Sport == \"Cross Country Skiing\"'))\n",
    "\n",
    "selected_sports = ['Ice Hockey', 'Athletics', 'Shooting', 'Cross Country Skiing']\n",
    "df_all_selected_sports = pd.DataFrame(athlete_events.query('Sport in @selected_sports'))\n",
    "\n",
    "# NOTE: Displaying the length of the df:s using display method\n",
    "display(f\"{len(df_icehockey)=}\")\n",
    "display(f\"{len(df_athletics)=}\")\n",
    "display(f\"{len(df_shooting)=}\")\n",
    "display(f\"{len(df_cross_county_skiing)=}\")\n",
    "display(f\"{len(df_all_selected_sports)=}\")"
   ]
  },
  {
   "cell_type": "markdown",
   "metadata": {},
   "source": [
    "#### Medaljfördelning mellan länder i sporterna"
   ]
  },
  {
   "cell_type": "code",
   "execution_count": null,
   "metadata": {},
   "outputs": [],
   "source": []
  },
  {
   "cell_type": "markdown",
   "metadata": {},
   "source": [
    "#### Åldersfördelning i sporterna"
   ]
  },
  {
   "cell_type": "code",
   "execution_count": null,
   "metadata": {},
   "outputs": [],
   "source": []
  },
  {
   "cell_type": "markdown",
   "metadata": {},
   "source": [
    "#### Skapa fler plots för att visualisera olika aspekter kring sporterna."
   ]
  },
  {
   "cell_type": "code",
   "execution_count": null,
   "metadata": {},
   "outputs": [],
   "source": []
  }
 ],
 "metadata": {
  "kernelspec": {
   "display_name": "OS-Project-3fF8y37l",
   "language": "python",
   "name": "python3"
  },
  "language_info": {
   "codemirror_mode": {
    "name": "ipython",
    "version": 3
   },
   "file_extension": ".py",
   "mimetype": "text/x-python",
   "name": "python",
   "nbconvert_exporter": "python",
   "pygments_lexer": "ipython3",
   "version": "3.11.5"
  },
  "orig_nbformat": 4
 },
 "nbformat": 4,
 "nbformat_minor": 2
}
