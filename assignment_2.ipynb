{
 "cells": [
  {
   "cell_type": "markdown",
   "metadata": {},
   "source": [
    "# Sports Statistics\n",
    "\n",
    "Below you'll find statistics for the following sports:\n",
    "- Ice Hockey\n",
    "- Athletics\n",
    "- Shooting\n",
    "- Cross Country Skiing\n",
    "\n",
    "(The four sports that Sweden got the most medals in)"
   ]
  },
  {
   "cell_type": "code",
   "execution_count": 2,
   "metadata": {},
   "outputs": [],
   "source": [
    "import pandas as pd\n",
    "import plotly_express as px"
   ]
  },
  {
   "cell_type": "code",
   "execution_count": 3,
   "metadata": {},
   "outputs": [],
   "source": [
    "# Reading the athlete_events.csv file\n",
    "athlete_events = pd.read_csv(\"data/athlete_events.csv\")"
   ]
  },
  {
   "cell_type": "code",
   "execution_count": 9,
   "metadata": {},
   "outputs": [
    {
     "data": {
      "text/plain": [
       "'len(df_icehockey)=5516'"
      ]
     },
     "metadata": {},
     "output_type": "display_data"
    },
    {
     "data": {
      "text/plain": [
       "'len(df_athletics)=38624'"
      ]
     },
     "metadata": {},
     "output_type": "display_data"
    },
    {
     "data": {
      "text/plain": [
       "'len(df_shooting)=11448'"
      ]
     },
     "metadata": {},
     "output_type": "display_data"
    },
    {
     "data": {
      "text/plain": [
       "'len(df_cross_county_skiing)=9133'"
      ]
     },
     "metadata": {},
     "output_type": "display_data"
    },
    {
     "data": {
      "text/plain": [
       "'len(df_all_selected_sports)=64721'"
      ]
     },
     "metadata": {},
     "output_type": "display_data"
    }
   ],
   "source": [
    "# NOTE: Create a new DataFrame instance named df_icehockey using pandas.\n",
    "# Filter the rows from the existing DataFrame athlete_events based on the condition 'Sport == \"XX\"'.\n",
    "# The resulting DataFrame, df_icehockey, contains data specific to athletes and events in the sport \"XX\".\n",
    "df_icehockey = pd.DataFrame(athlete_events.query('Sport == \"Ice Hockey\"'))\n",
    "df_athletics = pd.DataFrame(athlete_events.query('Sport == \"Athletics\"'))\n",
    "df_shooting = pd.DataFrame(athlete_events.query('Sport == \"Shooting\"'))\n",
    "df_cross_county_skiing = pd.DataFrame(athlete_events.query('Sport == \"Cross Country Skiing\"'))\n",
    "\n",
    "selected_sports = ['Ice Hockey', 'Athletics', 'Shooting', 'Cross Country Skiing']\n",
    "df_all_selected_sports = pd.DataFrame(athlete_events.query('Sport in @selected_sports'))\n",
    "\n",
    "# NOTE: Displaying the length of the df:s using display method\n",
    "display(f\"{len(df_icehockey)=}\")\n",
    "display(f\"{len(df_athletics)=}\")\n",
    "display(f\"{len(df_shooting)=}\")\n",
    "display(f\"{len(df_cross_county_skiing)=}\")\n",
    "display(f\"{len(df_all_selected_sports)=}\")"
   ]
  },
  {
   "cell_type": "code",
   "execution_count": 10,
   "metadata": {},
   "outputs": [
    {
     "data": {
      "text/html": [
       "<div>\n",
       "<style scoped>\n",
       "    .dataframe tbody tr th:only-of-type {\n",
       "        vertical-align: middle;\n",
       "    }\n",
       "\n",
       "    .dataframe tbody tr th {\n",
       "        vertical-align: top;\n",
       "    }\n",
       "\n",
       "    .dataframe thead th {\n",
       "        text-align: right;\n",
       "    }\n",
       "</style>\n",
       "<table border=\"1\" class=\"dataframe\">\n",
       "  <thead>\n",
       "    <tr style=\"text-align: right;\">\n",
       "      <th></th>\n",
       "      <th>ID</th>\n",
       "      <th>Name</th>\n",
       "      <th>Sex</th>\n",
       "      <th>Age</th>\n",
       "      <th>Height</th>\n",
       "      <th>Weight</th>\n",
       "      <th>Team</th>\n",
       "      <th>NOC</th>\n",
       "      <th>Games</th>\n",
       "      <th>Year</th>\n",
       "      <th>Season</th>\n",
       "      <th>City</th>\n",
       "      <th>Sport</th>\n",
       "      <th>Event</th>\n",
       "      <th>Medal</th>\n",
       "    </tr>\n",
       "  </thead>\n",
       "  <tbody>\n",
       "    <tr>\n",
       "      <th>10</th>\n",
       "      <td>6</td>\n",
       "      <td>Per Knut Aaland</td>\n",
       "      <td>M</td>\n",
       "      <td>31.0</td>\n",
       "      <td>188.0</td>\n",
       "      <td>75.0</td>\n",
       "      <td>United States</td>\n",
       "      <td>USA</td>\n",
       "      <td>1992 Winter</td>\n",
       "      <td>1992</td>\n",
       "      <td>Winter</td>\n",
       "      <td>Albertville</td>\n",
       "      <td>Cross Country Skiing</td>\n",
       "      <td>Cross Country Skiing Men's 10 kilometres</td>\n",
       "      <td>NaN</td>\n",
       "    </tr>\n",
       "    <tr>\n",
       "      <th>11</th>\n",
       "      <td>6</td>\n",
       "      <td>Per Knut Aaland</td>\n",
       "      <td>M</td>\n",
       "      <td>31.0</td>\n",
       "      <td>188.0</td>\n",
       "      <td>75.0</td>\n",
       "      <td>United States</td>\n",
       "      <td>USA</td>\n",
       "      <td>1992 Winter</td>\n",
       "      <td>1992</td>\n",
       "      <td>Winter</td>\n",
       "      <td>Albertville</td>\n",
       "      <td>Cross Country Skiing</td>\n",
       "      <td>Cross Country Skiing Men's 50 kilometres</td>\n",
       "      <td>NaN</td>\n",
       "    </tr>\n",
       "    <tr>\n",
       "      <th>12</th>\n",
       "      <td>6</td>\n",
       "      <td>Per Knut Aaland</td>\n",
       "      <td>M</td>\n",
       "      <td>31.0</td>\n",
       "      <td>188.0</td>\n",
       "      <td>75.0</td>\n",
       "      <td>United States</td>\n",
       "      <td>USA</td>\n",
       "      <td>1992 Winter</td>\n",
       "      <td>1992</td>\n",
       "      <td>Winter</td>\n",
       "      <td>Albertville</td>\n",
       "      <td>Cross Country Skiing</td>\n",
       "      <td>Cross Country Skiing Men's 10/15 kilometres Pu...</td>\n",
       "      <td>NaN</td>\n",
       "    </tr>\n",
       "    <tr>\n",
       "      <th>13</th>\n",
       "      <td>6</td>\n",
       "      <td>Per Knut Aaland</td>\n",
       "      <td>M</td>\n",
       "      <td>31.0</td>\n",
       "      <td>188.0</td>\n",
       "      <td>75.0</td>\n",
       "      <td>United States</td>\n",
       "      <td>USA</td>\n",
       "      <td>1992 Winter</td>\n",
       "      <td>1992</td>\n",
       "      <td>Winter</td>\n",
       "      <td>Albertville</td>\n",
       "      <td>Cross Country Skiing</td>\n",
       "      <td>Cross Country Skiing Men's 4 x 10 kilometres R...</td>\n",
       "      <td>NaN</td>\n",
       "    </tr>\n",
       "    <tr>\n",
       "      <th>14</th>\n",
       "      <td>6</td>\n",
       "      <td>Per Knut Aaland</td>\n",
       "      <td>M</td>\n",
       "      <td>33.0</td>\n",
       "      <td>188.0</td>\n",
       "      <td>75.0</td>\n",
       "      <td>United States</td>\n",
       "      <td>USA</td>\n",
       "      <td>1994 Winter</td>\n",
       "      <td>1994</td>\n",
       "      <td>Winter</td>\n",
       "      <td>Lillehammer</td>\n",
       "      <td>Cross Country Skiing</td>\n",
       "      <td>Cross Country Skiing Men's 10 kilometres</td>\n",
       "      <td>NaN</td>\n",
       "    </tr>\n",
       "  </tbody>\n",
       "</table>\n",
       "</div>"
      ],
      "text/plain": [
       "    ID             Name Sex   Age  Height  Weight           Team  NOC  \\\n",
       "10   6  Per Knut Aaland   M  31.0   188.0    75.0  United States  USA   \n",
       "11   6  Per Knut Aaland   M  31.0   188.0    75.0  United States  USA   \n",
       "12   6  Per Knut Aaland   M  31.0   188.0    75.0  United States  USA   \n",
       "13   6  Per Knut Aaland   M  31.0   188.0    75.0  United States  USA   \n",
       "14   6  Per Knut Aaland   M  33.0   188.0    75.0  United States  USA   \n",
       "\n",
       "          Games  Year  Season         City                 Sport  \\\n",
       "10  1992 Winter  1992  Winter  Albertville  Cross Country Skiing   \n",
       "11  1992 Winter  1992  Winter  Albertville  Cross Country Skiing   \n",
       "12  1992 Winter  1992  Winter  Albertville  Cross Country Skiing   \n",
       "13  1992 Winter  1992  Winter  Albertville  Cross Country Skiing   \n",
       "14  1994 Winter  1994  Winter  Lillehammer  Cross Country Skiing   \n",
       "\n",
       "                                                Event Medal  \n",
       "10           Cross Country Skiing Men's 10 kilometres   NaN  \n",
       "11           Cross Country Skiing Men's 50 kilometres   NaN  \n",
       "12  Cross Country Skiing Men's 10/15 kilometres Pu...   NaN  \n",
       "13  Cross Country Skiing Men's 4 x 10 kilometres R...   NaN  \n",
       "14           Cross Country Skiing Men's 10 kilometres   NaN  "
      ]
     },
     "execution_count": 10,
     "metadata": {},
     "output_type": "execute_result"
    }
   ],
   "source": [
    "df_all_selected_sports.head()"
   ]
  },
  {
   "cell_type": "markdown",
   "metadata": {},
   "source": [
    "#### Medaljfördelning mellan länder i sporterna"
   ]
  },
  {
   "cell_type": "code",
   "execution_count": 74,
   "metadata": {},
   "outputs": [
    {
     "data": {
      "application/vnd.plotly.v1+json": {
       "config": {
        "plotlyServerURL": "https://plot.ly"
       },
       "data": [
        {
         "alignmentgroup": "True",
         "hovertemplate": "<b>%{hovertext}</b><br><br>Medal=Gold<br>Country=%{x}<br>Amount=%{y}<extra></extra>",
         "hovertext": [
          1920,
          1924,
          1928,
          1932,
          1936,
          1948,
          1952,
          1956,
          1960,
          1964,
          1968,
          1972,
          1976,
          1980,
          1984,
          1988,
          1992,
          1994,
          1998,
          1998,
          2002,
          2006,
          2006,
          2010,
          2014
         ],
         "legendgroup": "Gold",
         "marker": {
          "color": "#636efa",
          "pattern": {
           "shape": ""
          }
         },
         "name": "Gold",
         "offsetgroup": "Gold",
         "orientation": "v",
         "showlegend": true,
         "textposition": "auto",
         "type": "bar",
         "x": [
          "CAN",
          "CAN",
          "CAN",
          "CAN",
          "GBR",
          "CAN",
          "CAN",
          "URS",
          "USA",
          "URS",
          "URS",
          "URS",
          "URS",
          "USA",
          "URS",
          "URS",
          "EUN",
          "SWE",
          "USA",
          "CZE",
          "CAN",
          "CAN",
          "SWE",
          "CAN",
          "CAN"
         ],
         "xaxis": "x3",
         "y": [
          8,
          9,
          12,
          14,
          12,
          12,
          16,
          17,
          17,
          17,
          18,
          20,
          18,
          19,
          20,
          21,
          22,
          22,
          20,
          21,
          42,
          20,
          24,
          43,
          44
         ],
         "yaxis": "y3"
        },
        {
         "alignmentgroup": "True",
         "hovertemplate": "<b>%{hovertext}</b><br><br>Medal=Bronze<br>Country=%{x}<br>Amount=%{y}<extra></extra>",
         "hovertext": [
          1920,
          1924,
          1928,
          1932,
          1936,
          1948,
          1952,
          1956,
          1960,
          1964,
          1968,
          1972,
          1976,
          1980,
          1984,
          1988,
          1992,
          1994,
          1998,
          2002,
          2002,
          2006,
          2006,
          2010,
          2014,
          2014
         ],
         "legendgroup": "Bronze",
         "marker": {
          "color": "#EF553B",
          "pattern": {
           "shape": ""
          }
         },
         "name": "Bronze",
         "offsetgroup": "Bronze",
         "orientation": "v",
         "showlegend": true,
         "textposition": "auto",
         "type": "bar",
         "x": [
          "TCH",
          "GBR",
          "SUI",
          "GER",
          "USA",
          "SUI",
          "SWE",
          "CAN",
          "URS",
          "TCH",
          "CAN",
          "TCH",
          "FRG",
          "SWE",
          "SWE",
          "SWE",
          "TCH",
          "FIN",
          "FIN",
          "RUS",
          "SWE",
          "CZE",
          "USA",
          "FIN",
          "SUI",
          "FIN"
         ],
         "xaxis": "x2",
         "y": [
          8,
          10,
          12,
          10,
          11,
          17,
          17,
          17,
          17,
          17,
          18,
          18,
          18,
          20,
          20,
          22,
          22,
          22,
          42,
          21,
          20,
          24,
          20,
          41,
          19,
          24
         ],
         "yaxis": "y2"
        },
        {
         "alignmentgroup": "True",
         "hovertemplate": "<b>%{hovertext}</b><br><br>Medal=Silver<br>Country=%{x}<br>Amount=%{y}<extra></extra>",
         "hovertext": [
          1920,
          1924,
          1928,
          1932,
          1936,
          1948,
          1952,
          1956,
          1960,
          1964,
          1968,
          1972,
          1976,
          1980,
          1984,
          1988,
          1992,
          1994,
          1998,
          1998,
          2002,
          2006,
          2006,
          2010,
          2014,
          2014
         ],
         "legendgroup": "Silver",
         "marker": {
          "color": "#00cc96",
          "pattern": {
           "shape": ""
          }
         },
         "name": "Silver",
         "offsetgroup": "Silver",
         "orientation": "v",
         "showlegend": true,
         "textposition": "auto",
         "type": "bar",
         "x": [
          "USA",
          "USA",
          "SWE",
          "USA",
          "CAN",
          "TCH",
          "USA",
          "USA",
          "CAN",
          "SWE",
          "TCH",
          "USA",
          "TCH",
          "URS",
          "TCH",
          "FIN",
          "CAN",
          "CAN",
          "RUS",
          "CAN",
          "USA",
          "FIN",
          "SWE",
          "USA",
          "SWE",
          "USA"
         ],
         "xaxis": "x",
         "y": [
          11,
          9,
          12,
          14,
          13,
          17,
          15,
          17,
          17,
          17,
          18,
          17,
          19,
          20,
          20,
          22,
          22,
          21,
          22,
          20,
          43,
          23,
          20,
          43,
          23,
          20
         ],
         "yaxis": "y"
        }
       ],
       "layout": {
        "annotations": [
         {
          "font": {},
          "showarrow": false,
          "text": "Medal=Silver",
          "textangle": 90,
          "x": 0.98,
          "xanchor": "left",
          "xref": "paper",
          "y": 0.15666666666666665,
          "yanchor": "middle",
          "yref": "paper"
         },
         {
          "font": {},
          "showarrow": false,
          "text": "Medal=Bronze",
          "textangle": 90,
          "x": 0.98,
          "xanchor": "left",
          "xref": "paper",
          "y": 0.4999999999999999,
          "yanchor": "middle",
          "yref": "paper"
         },
         {
          "font": {},
          "showarrow": false,
          "text": "Medal=Gold",
          "textangle": 90,
          "x": 0.98,
          "xanchor": "left",
          "xref": "paper",
          "y": 0.8433333333333332,
          "yanchor": "middle",
          "yref": "paper"
         }
        ],
        "barmode": "relative",
        "legend": {
         "title": {
          "text": "Medal"
         },
         "tracegroupgap": 0
        },
        "template": {
         "data": {
          "bar": [
           {
            "error_x": {
             "color": "#2a3f5f"
            },
            "error_y": {
             "color": "#2a3f5f"
            },
            "marker": {
             "line": {
              "color": "white",
              "width": 0.5
             },
             "pattern": {
              "fillmode": "overlay",
              "size": 10,
              "solidity": 0.2
             }
            },
            "type": "bar"
           }
          ],
          "barpolar": [
           {
            "marker": {
             "line": {
              "color": "white",
              "width": 0.5
             },
             "pattern": {
              "fillmode": "overlay",
              "size": 10,
              "solidity": 0.2
             }
            },
            "type": "barpolar"
           }
          ],
          "carpet": [
           {
            "aaxis": {
             "endlinecolor": "#2a3f5f",
             "gridcolor": "#C8D4E3",
             "linecolor": "#C8D4E3",
             "minorgridcolor": "#C8D4E3",
             "startlinecolor": "#2a3f5f"
            },
            "baxis": {
             "endlinecolor": "#2a3f5f",
             "gridcolor": "#C8D4E3",
             "linecolor": "#C8D4E3",
             "minorgridcolor": "#C8D4E3",
             "startlinecolor": "#2a3f5f"
            },
            "type": "carpet"
           }
          ],
          "choropleth": [
           {
            "colorbar": {
             "outlinewidth": 0,
             "ticks": ""
            },
            "type": "choropleth"
           }
          ],
          "contour": [
           {
            "colorbar": {
             "outlinewidth": 0,
             "ticks": ""
            },
            "colorscale": [
             [
              0,
              "#0d0887"
             ],
             [
              0.1111111111111111,
              "#46039f"
             ],
             [
              0.2222222222222222,
              "#7201a8"
             ],
             [
              0.3333333333333333,
              "#9c179e"
             ],
             [
              0.4444444444444444,
              "#bd3786"
             ],
             [
              0.5555555555555556,
              "#d8576b"
             ],
             [
              0.6666666666666666,
              "#ed7953"
             ],
             [
              0.7777777777777778,
              "#fb9f3a"
             ],
             [
              0.8888888888888888,
              "#fdca26"
             ],
             [
              1,
              "#f0f921"
             ]
            ],
            "type": "contour"
           }
          ],
          "contourcarpet": [
           {
            "colorbar": {
             "outlinewidth": 0,
             "ticks": ""
            },
            "type": "contourcarpet"
           }
          ],
          "heatmap": [
           {
            "colorbar": {
             "outlinewidth": 0,
             "ticks": ""
            },
            "colorscale": [
             [
              0,
              "#0d0887"
             ],
             [
              0.1111111111111111,
              "#46039f"
             ],
             [
              0.2222222222222222,
              "#7201a8"
             ],
             [
              0.3333333333333333,
              "#9c179e"
             ],
             [
              0.4444444444444444,
              "#bd3786"
             ],
             [
              0.5555555555555556,
              "#d8576b"
             ],
             [
              0.6666666666666666,
              "#ed7953"
             ],
             [
              0.7777777777777778,
              "#fb9f3a"
             ],
             [
              0.8888888888888888,
              "#fdca26"
             ],
             [
              1,
              "#f0f921"
             ]
            ],
            "type": "heatmap"
           }
          ],
          "heatmapgl": [
           {
            "colorbar": {
             "outlinewidth": 0,
             "ticks": ""
            },
            "colorscale": [
             [
              0,
              "#0d0887"
             ],
             [
              0.1111111111111111,
              "#46039f"
             ],
             [
              0.2222222222222222,
              "#7201a8"
             ],
             [
              0.3333333333333333,
              "#9c179e"
             ],
             [
              0.4444444444444444,
              "#bd3786"
             ],
             [
              0.5555555555555556,
              "#d8576b"
             ],
             [
              0.6666666666666666,
              "#ed7953"
             ],
             [
              0.7777777777777778,
              "#fb9f3a"
             ],
             [
              0.8888888888888888,
              "#fdca26"
             ],
             [
              1,
              "#f0f921"
             ]
            ],
            "type": "heatmapgl"
           }
          ],
          "histogram": [
           {
            "marker": {
             "pattern": {
              "fillmode": "overlay",
              "size": 10,
              "solidity": 0.2
             }
            },
            "type": "histogram"
           }
          ],
          "histogram2d": [
           {
            "colorbar": {
             "outlinewidth": 0,
             "ticks": ""
            },
            "colorscale": [
             [
              0,
              "#0d0887"
             ],
             [
              0.1111111111111111,
              "#46039f"
             ],
             [
              0.2222222222222222,
              "#7201a8"
             ],
             [
              0.3333333333333333,
              "#9c179e"
             ],
             [
              0.4444444444444444,
              "#bd3786"
             ],
             [
              0.5555555555555556,
              "#d8576b"
             ],
             [
              0.6666666666666666,
              "#ed7953"
             ],
             [
              0.7777777777777778,
              "#fb9f3a"
             ],
             [
              0.8888888888888888,
              "#fdca26"
             ],
             [
              1,
              "#f0f921"
             ]
            ],
            "type": "histogram2d"
           }
          ],
          "histogram2dcontour": [
           {
            "colorbar": {
             "outlinewidth": 0,
             "ticks": ""
            },
            "colorscale": [
             [
              0,
              "#0d0887"
             ],
             [
              0.1111111111111111,
              "#46039f"
             ],
             [
              0.2222222222222222,
              "#7201a8"
             ],
             [
              0.3333333333333333,
              "#9c179e"
             ],
             [
              0.4444444444444444,
              "#bd3786"
             ],
             [
              0.5555555555555556,
              "#d8576b"
             ],
             [
              0.6666666666666666,
              "#ed7953"
             ],
             [
              0.7777777777777778,
              "#fb9f3a"
             ],
             [
              0.8888888888888888,
              "#fdca26"
             ],
             [
              1,
              "#f0f921"
             ]
            ],
            "type": "histogram2dcontour"
           }
          ],
          "mesh3d": [
           {
            "colorbar": {
             "outlinewidth": 0,
             "ticks": ""
            },
            "type": "mesh3d"
           }
          ],
          "parcoords": [
           {
            "line": {
             "colorbar": {
              "outlinewidth": 0,
              "ticks": ""
             }
            },
            "type": "parcoords"
           }
          ],
          "pie": [
           {
            "automargin": true,
            "type": "pie"
           }
          ],
          "scatter": [
           {
            "fillpattern": {
             "fillmode": "overlay",
             "size": 10,
             "solidity": 0.2
            },
            "type": "scatter"
           }
          ],
          "scatter3d": [
           {
            "line": {
             "colorbar": {
              "outlinewidth": 0,
              "ticks": ""
             }
            },
            "marker": {
             "colorbar": {
              "outlinewidth": 0,
              "ticks": ""
             }
            },
            "type": "scatter3d"
           }
          ],
          "scattercarpet": [
           {
            "marker": {
             "colorbar": {
              "outlinewidth": 0,
              "ticks": ""
             }
            },
            "type": "scattercarpet"
           }
          ],
          "scattergeo": [
           {
            "marker": {
             "colorbar": {
              "outlinewidth": 0,
              "ticks": ""
             }
            },
            "type": "scattergeo"
           }
          ],
          "scattergl": [
           {
            "marker": {
             "colorbar": {
              "outlinewidth": 0,
              "ticks": ""
             }
            },
            "type": "scattergl"
           }
          ],
          "scattermapbox": [
           {
            "marker": {
             "colorbar": {
              "outlinewidth": 0,
              "ticks": ""
             }
            },
            "type": "scattermapbox"
           }
          ],
          "scatterpolar": [
           {
            "marker": {
             "colorbar": {
              "outlinewidth": 0,
              "ticks": ""
             }
            },
            "type": "scatterpolar"
           }
          ],
          "scatterpolargl": [
           {
            "marker": {
             "colorbar": {
              "outlinewidth": 0,
              "ticks": ""
             }
            },
            "type": "scatterpolargl"
           }
          ],
          "scatterternary": [
           {
            "marker": {
             "colorbar": {
              "outlinewidth": 0,
              "ticks": ""
             }
            },
            "type": "scatterternary"
           }
          ],
          "surface": [
           {
            "colorbar": {
             "outlinewidth": 0,
             "ticks": ""
            },
            "colorscale": [
             [
              0,
              "#0d0887"
             ],
             [
              0.1111111111111111,
              "#46039f"
             ],
             [
              0.2222222222222222,
              "#7201a8"
             ],
             [
              0.3333333333333333,
              "#9c179e"
             ],
             [
              0.4444444444444444,
              "#bd3786"
             ],
             [
              0.5555555555555556,
              "#d8576b"
             ],
             [
              0.6666666666666666,
              "#ed7953"
             ],
             [
              0.7777777777777778,
              "#fb9f3a"
             ],
             [
              0.8888888888888888,
              "#fdca26"
             ],
             [
              1,
              "#f0f921"
             ]
            ],
            "type": "surface"
           }
          ],
          "table": [
           {
            "cells": {
             "fill": {
              "color": "#EBF0F8"
             },
             "line": {
              "color": "white"
             }
            },
            "header": {
             "fill": {
              "color": "#C8D4E3"
             },
             "line": {
              "color": "white"
             }
            },
            "type": "table"
           }
          ]
         },
         "layout": {
          "annotationdefaults": {
           "arrowcolor": "#2a3f5f",
           "arrowhead": 0,
           "arrowwidth": 1
          },
          "autotypenumbers": "strict",
          "coloraxis": {
           "colorbar": {
            "outlinewidth": 0,
            "ticks": ""
           }
          },
          "colorscale": {
           "diverging": [
            [
             0,
             "#8e0152"
            ],
            [
             0.1,
             "#c51b7d"
            ],
            [
             0.2,
             "#de77ae"
            ],
            [
             0.3,
             "#f1b6da"
            ],
            [
             0.4,
             "#fde0ef"
            ],
            [
             0.5,
             "#f7f7f7"
            ],
            [
             0.6,
             "#e6f5d0"
            ],
            [
             0.7,
             "#b8e186"
            ],
            [
             0.8,
             "#7fbc41"
            ],
            [
             0.9,
             "#4d9221"
            ],
            [
             1,
             "#276419"
            ]
           ],
           "sequential": [
            [
             0,
             "#0d0887"
            ],
            [
             0.1111111111111111,
             "#46039f"
            ],
            [
             0.2222222222222222,
             "#7201a8"
            ],
            [
             0.3333333333333333,
             "#9c179e"
            ],
            [
             0.4444444444444444,
             "#bd3786"
            ],
            [
             0.5555555555555556,
             "#d8576b"
            ],
            [
             0.6666666666666666,
             "#ed7953"
            ],
            [
             0.7777777777777778,
             "#fb9f3a"
            ],
            [
             0.8888888888888888,
             "#fdca26"
            ],
            [
             1,
             "#f0f921"
            ]
           ],
           "sequentialminus": [
            [
             0,
             "#0d0887"
            ],
            [
             0.1111111111111111,
             "#46039f"
            ],
            [
             0.2222222222222222,
             "#7201a8"
            ],
            [
             0.3333333333333333,
             "#9c179e"
            ],
            [
             0.4444444444444444,
             "#bd3786"
            ],
            [
             0.5555555555555556,
             "#d8576b"
            ],
            [
             0.6666666666666666,
             "#ed7953"
            ],
            [
             0.7777777777777778,
             "#fb9f3a"
            ],
            [
             0.8888888888888888,
             "#fdca26"
            ],
            [
             1,
             "#f0f921"
            ]
           ]
          },
          "colorway": [
           "#636efa",
           "#EF553B",
           "#00cc96",
           "#ab63fa",
           "#FFA15A",
           "#19d3f3",
           "#FF6692",
           "#B6E880",
           "#FF97FF",
           "#FECB52"
          ],
          "font": {
           "color": "#2a3f5f"
          },
          "geo": {
           "bgcolor": "white",
           "lakecolor": "white",
           "landcolor": "white",
           "showlakes": true,
           "showland": true,
           "subunitcolor": "#C8D4E3"
          },
          "hoverlabel": {
           "align": "left"
          },
          "hovermode": "closest",
          "mapbox": {
           "style": "light"
          },
          "paper_bgcolor": "white",
          "plot_bgcolor": "white",
          "polar": {
           "angularaxis": {
            "gridcolor": "#EBF0F8",
            "linecolor": "#EBF0F8",
            "ticks": ""
           },
           "bgcolor": "white",
           "radialaxis": {
            "gridcolor": "#EBF0F8",
            "linecolor": "#EBF0F8",
            "ticks": ""
           }
          },
          "scene": {
           "xaxis": {
            "backgroundcolor": "white",
            "gridcolor": "#DFE8F3",
            "gridwidth": 2,
            "linecolor": "#EBF0F8",
            "showbackground": true,
            "ticks": "",
            "zerolinecolor": "#EBF0F8"
           },
           "yaxis": {
            "backgroundcolor": "white",
            "gridcolor": "#DFE8F3",
            "gridwidth": 2,
            "linecolor": "#EBF0F8",
            "showbackground": true,
            "ticks": "",
            "zerolinecolor": "#EBF0F8"
           },
           "zaxis": {
            "backgroundcolor": "white",
            "gridcolor": "#DFE8F3",
            "gridwidth": 2,
            "linecolor": "#EBF0F8",
            "showbackground": true,
            "ticks": "",
            "zerolinecolor": "#EBF0F8"
           }
          },
          "shapedefaults": {
           "line": {
            "color": "#2a3f5f"
           }
          },
          "ternary": {
           "aaxis": {
            "gridcolor": "#DFE8F3",
            "linecolor": "#A2B1C6",
            "ticks": ""
           },
           "baxis": {
            "gridcolor": "#DFE8F3",
            "linecolor": "#A2B1C6",
            "ticks": ""
           },
           "bgcolor": "white",
           "caxis": {
            "gridcolor": "#DFE8F3",
            "linecolor": "#A2B1C6",
            "ticks": ""
           }
          },
          "title": {
           "x": 0.05
          },
          "xaxis": {
           "automargin": true,
           "gridcolor": "#EBF0F8",
           "linecolor": "#EBF0F8",
           "ticks": "",
           "title": {
            "standoff": 15
           },
           "zerolinecolor": "#EBF0F8",
           "zerolinewidth": 2
          },
          "yaxis": {
           "automargin": true,
           "gridcolor": "#EBF0F8",
           "linecolor": "#EBF0F8",
           "ticks": "",
           "title": {
            "standoff": 15
           },
           "zerolinecolor": "#EBF0F8",
           "zerolinewidth": 2
          }
         }
        },
        "title": {
         "text": "Medal distribution in in Olympics for Ice Hockey"
        },
        "xaxis": {
         "anchor": "y",
         "domain": [
          0,
          0.98
         ],
         "title": {
          "text": "Country"
         }
        },
        "xaxis2": {
         "anchor": "y2",
         "domain": [
          0,
          0.98
         ],
         "matches": "x",
         "showticklabels": false
        },
        "xaxis3": {
         "anchor": "y3",
         "domain": [
          0,
          0.98
         ],
         "matches": "x",
         "showticklabels": false
        },
        "yaxis": {
         "anchor": "x",
         "domain": [
          0,
          0.3133333333333333
         ],
         "title": {
          "text": "Amount"
         },
         "type": "log"
        },
        "yaxis2": {
         "anchor": "x2",
         "domain": [
          0.34333333333333327,
          0.6566666666666665
         ],
         "matches": "y",
         "title": {
          "text": "Amount"
         },
         "type": "log"
        },
        "yaxis3": {
         "anchor": "x3",
         "domain": [
          0.6866666666666665,
          0.9999999999999998
         ],
         "matches": "y",
         "title": {
          "text": "Amount"
         },
         "type": "log"
        }
       }
      }
     },
     "metadata": {},
     "output_type": "display_data"
    },
    {
     "data": {
      "application/vnd.plotly.v1+json": {
       "config": {
        "plotlyServerURL": "https://plot.ly"
       },
       "data": [
        {
         "alignmentgroup": "True",
         "hovertemplate": "<b>%{hovertext}</b><br><br>Medal=Gold<br>Country=%{x}<br>Amount=%{y}<extra></extra>",
         "hovertext": [
          1896,
          1896,
          1896,
          1900,
          1900,
          1900,
          1900,
          1900,
          1900,
          1904,
          1904,
          1904,
          1906,
          1906,
          1906,
          1906,
          1906,
          1906,
          1906,
          1906,
          1908,
          1908,
          1908,
          1908,
          1908,
          1912,
          1912,
          1912,
          1912,
          1912,
          1912,
          1912,
          1912,
          1920,
          1920,
          1920,
          1920,
          1920,
          1920,
          1920,
          1920,
          1920,
          1924,
          1924,
          1924,
          1924,
          1924,
          1928,
          1928,
          1928,
          1928,
          1928,
          1928,
          1928,
          1928,
          1928,
          1928,
          1928,
          1932,
          1932,
          1932,
          1932,
          1932,
          1932,
          1932,
          1932,
          1932,
          1936,
          1936,
          1936,
          1936,
          1936,
          1936,
          1936,
          1936,
          1948,
          1948,
          1948,
          1948,
          1948,
          1948,
          1948,
          1948,
          1948,
          1948,
          1948,
          1948,
          1948,
          1952,
          1952,
          1952,
          1952,
          1952,
          1952,
          1952,
          1952,
          1952,
          1952,
          1952,
          1952,
          1956,
          1956,
          1956,
          1956,
          1956,
          1956,
          1956,
          1956,
          1956,
          1956,
          1956,
          1960,
          1960,
          1960,
          1960,
          1960,
          1960,
          1960,
          1960,
          1960,
          1960,
          1964,
          1964,
          1964,
          1964,
          1964,
          1964,
          1964,
          1964,
          1964,
          1964,
          1964,
          1964,
          1968,
          1968,
          1968,
          1968,
          1968,
          1968,
          1968,
          1968,
          1968,
          1968,
          1968,
          1968,
          1968,
          1968,
          1972,
          1972,
          1972,
          1972,
          1972,
          1972,
          1972,
          1972,
          1972,
          1972,
          1976,
          1976,
          1976,
          1976,
          1976,
          1976,
          1976,
          1976,
          1976,
          1976,
          1976,
          1976,
          1976,
          1976,
          1976,
          1980,
          1980,
          1980,
          1980,
          1980,
          1980,
          1980,
          1984,
          1984,
          1984,
          1984,
          1984,
          1984,
          1984,
          1984,
          1984,
          1984,
          1984,
          1984,
          1984,
          1984,
          1988,
          1988,
          1988,
          1988,
          1988,
          1988,
          1988,
          1988,
          1988,
          1988,
          1988,
          1988,
          1992,
          1992,
          1992,
          1992,
          1992,
          1992,
          1992,
          1992,
          1992,
          1992,
          1992,
          1992,
          1992,
          1992,
          1992,
          1992,
          1992,
          1992,
          1996,
          1996,
          1996,
          1996,
          1996,
          1996,
          1996,
          1996,
          1996,
          1996,
          1996,
          1996,
          1996,
          1996,
          1996,
          1996,
          1996,
          1996,
          1996,
          1996,
          1996,
          1996,
          1996,
          1996,
          2000,
          2000,
          2000,
          2000,
          2000,
          2000,
          2000,
          2000,
          2000,
          2000,
          2000,
          2000,
          2000,
          2000,
          2000,
          2000,
          2000,
          2000,
          2000,
          2000,
          2000,
          2000,
          2000,
          2000,
          2000,
          2004,
          2004,
          2004,
          2004,
          2004,
          2004,
          2004,
          2004,
          2004,
          2004,
          2004,
          2004,
          2004,
          2004,
          2004,
          2004,
          2004,
          2004,
          2004,
          2004,
          2004,
          2008,
          2008,
          2008,
          2008,
          2008,
          2008,
          2008,
          2008,
          2008,
          2008,
          2008,
          2008,
          2008,
          2008,
          2008,
          2008,
          2008,
          2008,
          2008,
          2008,
          2008,
          2008,
          2008,
          2008,
          2012,
          2012,
          2012,
          2012,
          2012,
          2012,
          2012,
          2012,
          2012,
          2012,
          2012,
          2012,
          2012,
          2012,
          2012,
          2012,
          2012,
          2012,
          2012,
          2012,
          2012,
          2012,
          2012,
          2016,
          2016,
          2016,
          2016,
          2016,
          2016,
          2016,
          2016,
          2016,
          2016,
          2016,
          2016,
          2016,
          2016,
          2016,
          2016,
          2016,
          2016,
          2016,
          2016
         ],
         "legendgroup": "Gold",
         "marker": {
          "color": "#636efa",
          "pattern": {
           "shape": ""
          }
         },
         "name": "Gold",
         "offsetgroup": "Gold",
         "orientation": "v",
         "showlegend": true,
         "textposition": "auto",
         "type": "bar",
         "x": [
          "AUS",
          "USA",
          "GRE",
          "USA",
          "LUX",
          "HUN",
          "CAN",
          "AUS",
          "GBR",
          "USA",
          "GBR",
          "CAN",
          "GRE",
          "USA",
          "SWE",
          "HUN",
          "CAN",
          "FRA",
          "GBR",
          "FIN",
          "RSA",
          "SWE",
          "USA",
          "CAN",
          "GBR",
          "NOR",
          "RSA",
          "SWE",
          "USA",
          "GRE",
          "GBR",
          "FIN",
          "CAN",
          "ITA",
          "NOR",
          "RSA",
          "USA",
          "SWE",
          "CAN",
          "GBR",
          "FRA",
          "FIN",
          "USA",
          "ITA",
          "AUS",
          "FIN",
          "GBR",
          "JPN",
          "IRL",
          "POL",
          "USA",
          "SWE",
          "RSA",
          "GER",
          "CAN",
          "FIN",
          "FRA",
          "GBR",
          "JPN",
          "POL",
          "USA",
          "ITA",
          "FIN",
          "IRL",
          "ARG",
          "CAN",
          "GBR",
          "NZL",
          "JPN",
          "USA",
          "ITA",
          "FIN",
          "GER",
          "HUN",
          "GBR",
          "JAM",
          "NED",
          "USA",
          "SWE",
          "TCH",
          "ITA",
          "HUN",
          "ARG",
          "AUS",
          "AUT",
          "BEL",
          "FIN",
          "FRA",
          "NZL",
          "SWE",
          "RSA",
          "TCH",
          "URS",
          "USA",
          "LUX",
          "AUS",
          "BRA",
          "HUN",
          "ITA",
          "JAM",
          "NZL",
          "POL",
          "TCH",
          "URS",
          "USA",
          "NOR",
          "IRL",
          "AUS",
          "FRA",
          "BRA",
          "GBR",
          "POL",
          "ROU",
          "URS",
          "USA",
          "NZL",
          "ITA",
          "AUS",
          "ETH",
          "GBR",
          "GER",
          "POL",
          "NZL",
          "USA",
          "URS",
          "ITA",
          "ROU",
          "AUS",
          "ETH",
          "FIN",
          "BEL",
          "GBR",
          "GER",
          "POL",
          "KEN",
          "ROU",
          "USA",
          "TCH",
          "TUN",
          "URS",
          "HUN",
          "ETH",
          "AUS",
          "FRG",
          "GBR",
          "GDR",
          "FRA",
          "POL",
          "KEN",
          "TCH",
          "UGA",
          "URS",
          "USA",
          "FRG",
          "GDR",
          "FIN",
          "GBR",
          "MEX",
          "NZL",
          "POL",
          "TTO",
          "URS",
          "USA",
          "JAM",
          "SWE",
          "HUN",
          "BUL",
          "CUB",
          "FIN",
          "FRA",
          "FRG",
          "GDR",
          "ITA",
          "URS",
          "GDR",
          "POL",
          "GBR",
          "CUB",
          "ETH",
          "NED",
          "MEX",
          "KEN",
          "MAR",
          "ROU",
          "USA",
          "POR",
          "ITA",
          "BRA",
          "FIN",
          "AUS",
          "GBR",
          "FRA",
          "FRG",
          "KEN",
          "MAR",
          "POR",
          "ROU",
          "TCH",
          "URS",
          "USA",
          "AUS",
          "BUL",
          "ITA",
          "FIN",
          "GDR",
          "MAR",
          "LTU",
          "KOR",
          "KEN",
          "TCH",
          "USA",
          "NED",
          "GER",
          "GRE",
          "GBR",
          "ALG",
          "CHN",
          "CAN",
          "CUB",
          "FRA",
          "EUN",
          "ETH",
          "ESP",
          "NOR",
          "NGR",
          "POL",
          "KEN",
          "POR",
          "UKR",
          "RSA",
          "USA",
          "SYR",
          "SWE",
          "RUS",
          "JAM",
          "CHN",
          "CAN",
          "BDI",
          "ALG",
          "CZE",
          "BUL",
          "ECU",
          "HUN",
          "GER",
          "FIN",
          "ETH",
          "FRA",
          "NOR",
          "NGR",
          "MOZ",
          "KEN",
          "KAZ",
          "JPN",
          "LTU",
          "USA",
          "RUS",
          "ROU",
          "POL",
          "CHN",
          "BUL",
          "BLR",
          "BAH",
          "AUS",
          "CUB",
          "ALG",
          "CZE",
          "GRE",
          "GER",
          "GBR",
          "FIN",
          "ETH",
          "EST",
          "NOR",
          "MAR",
          "KEN",
          "JPN",
          "LTU",
          "POL",
          "USA",
          "RUS",
          "SWE",
          "JAM",
          "ITA",
          "BAH",
          "BLR",
          "CHN",
          "CMR",
          "CUB",
          "CZE",
          "DOM",
          "GRE",
          "GBR",
          "ETH",
          "NZL",
          "NOR",
          "JAM",
          "KEN",
          "PAN",
          "POL",
          "USA",
          "POR",
          "UKR",
          "TTO",
          "SLO",
          "RUS",
          "ROU",
          "BRA",
          "BLR",
          "CMR",
          "BEL",
          "AUS",
          "ITA",
          "CUB",
          "GBR",
          "ETH",
          "EST",
          "CZE",
          "POL",
          "NZL",
          "KAZ",
          "JAM",
          "KEN",
          "RUS",
          "USA",
          "UGA",
          "TUR",
          "TTO",
          "HUN",
          "GRN",
          "ALG",
          "AUS",
          "BAH",
          "CRO",
          "CZE",
          "CHN",
          "DOM",
          "GER",
          "GBR",
          "FRA",
          "ETH",
          "KEN",
          "GER",
          "JAM",
          "GRE",
          "USA",
          "TJK",
          "SVK",
          "RSA",
          "POL",
          "BAH",
          "BEL",
          "BRA",
          "BRN",
          "CAN",
          "ETH",
          "GBR",
          "ESP",
          "CRO",
          "COL",
          "CHN"
         ],
         "xaxis": "x3",
         "y": [
          2,
          9,
          1,
          16,
          1,
          1,
          1,
          1,
          7,
          26,
          1,
          1,
          1,
          11,
          2,
          1,
          1,
          1,
          3,
          1,
          1,
          2,
          19,
          1,
          11,
          1,
          1,
          15,
          23,
          1,
          5,
          6,
          1,
          2,
          1,
          1,
          16,
          1,
          1,
          7,
          1,
          14,
          18,
          1,
          1,
          20,
          3,
          1,
          1,
          1,
          15,
          1,
          1,
          1,
          7,
          5,
          1,
          2,
          1,
          2,
          25,
          1,
          3,
          2,
          1,
          1,
          2,
          1,
          2,
          20,
          1,
          3,
          5,
          1,
          5,
          1,
          7,
          18,
          5,
          1,
          1,
          2,
          1,
          1,
          1,
          1,
          1,
          2,
          1,
          1,
          1,
          4,
          2,
          21,
          1,
          3,
          1,
          1,
          1,
          5,
          1,
          1,
          1,
          5,
          22,
          1,
          1,
          7,
          1,
          1,
          1,
          2,
          1,
          11,
          18,
          2,
          1,
          1,
          1,
          1,
          5,
          5,
          2,
          20,
          5,
          1,
          2,
          1,
          1,
          1,
          1,
          4,
          2,
          1,
          3,
          2,
          24,
          1,
          1,
          3,
          2,
          1,
          2,
          1,
          1,
          2,
          1,
          1,
          5,
          1,
          1,
          9,
          9,
          9,
          11,
          3,
          1,
          1,
          1,
          3,
          1,
          4,
          12,
          1,
          1,
          1,
          1,
          2,
          2,
          1,
          1,
          17,
          3,
          27,
          14,
          2,
          4,
          1,
          2,
          1,
          2,
          1,
          2,
          3,
          32,
          1,
          3,
          1,
          2,
          1,
          3,
          1,
          4,
          4,
          1,
          1,
          1,
          1,
          17,
          22,
          1,
          2,
          1,
          1,
          6,
          1,
          1,
          1,
          2,
          2,
          25,
          1,
          4,
          1,
          2,
          1,
          1,
          1,
          2,
          1,
          12,
          1,
          2,
          1,
          1,
          1,
          1,
          1,
          1,
          1,
          25,
          1,
          1,
          3,
          1,
          1,
          6,
          1,
          1,
          1,
          1,
          1,
          1,
          3,
          1,
          2,
          3,
          1,
          6,
          1,
          2,
          1,
          1,
          1,
          16,
          3,
          1,
          4,
          1,
          1,
          2,
          6,
          1,
          2,
          1,
          1,
          1,
          2,
          2,
          1,
          4,
          1,
          1,
          2,
          1,
          2,
          1,
          1,
          18,
          6,
          3,
          6,
          2,
          1,
          1,
          2,
          1,
          2,
          1,
          1,
          2,
          6,
          2,
          1,
          1,
          5,
          6,
          1,
          1,
          16,
          1,
          1,
          5,
          1,
          9,
          1,
          1,
          1,
          1,
          1,
          1,
          1,
          1,
          1,
          4,
          1,
          1,
          1,
          1,
          1,
          8,
          2,
          8,
          19,
          1,
          1,
          1,
          1,
          1,
          1,
          1,
          4,
          1,
          1,
          1,
          1,
          1,
          4,
          1,
          3,
          6,
          2,
          11,
          1,
          27,
          1,
          1,
          2,
          1,
          1,
          1,
          1,
          1,
          1,
          1,
          2,
          1,
          2,
          1,
          2
         ],
         "yaxis": "y3"
        },
        {
         "alignmentgroup": "True",
         "hovertemplate": "<b>%{hovertext}</b><br><br>Medal=Silver<br>Country=%{x}<br>Amount=%{y}<extra></extra>",
         "hovertext": [
          1896,
          1896,
          1896,
          1896,
          1896,
          1896,
          1900,
          1900,
          1900,
          1900,
          1900,
          1904,
          1904,
          1904,
          1906,
          1906,
          1906,
          1906,
          1906,
          1906,
          1906,
          1906,
          1908,
          1908,
          1908,
          1908,
          1908,
          1908,
          1908,
          1908,
          1908,
          1908,
          1912,
          1912,
          1912,
          1912,
          1912,
          1912,
          1912,
          1912,
          1920,
          1920,
          1920,
          1920,
          1920,
          1920,
          1920,
          1920,
          1920,
          1924,
          1924,
          1924,
          1924,
          1924,
          1924,
          1924,
          1924,
          1924,
          1928,
          1928,
          1928,
          1928,
          1928,
          1928,
          1928,
          1928,
          1928,
          1928,
          1928,
          1928,
          1932,
          1932,
          1932,
          1932,
          1932,
          1932,
          1932,
          1932,
          1936,
          1936,
          1936,
          1936,
          1936,
          1936,
          1936,
          1936,
          1936,
          1948,
          1948,
          1948,
          1948,
          1948,
          1948,
          1948,
          1948,
          1948,
          1948,
          1948,
          1948,
          1948,
          1948,
          1952,
          1952,
          1952,
          1952,
          1952,
          1952,
          1952,
          1952,
          1952,
          1952,
          1952,
          1952,
          1956,
          1956,
          1956,
          1956,
          1956,
          1956,
          1956,
          1956,
          1956,
          1956,
          1960,
          1960,
          1960,
          1960,
          1960,
          1960,
          1960,
          1960,
          1960,
          1960,
          1960,
          1960,
          1960,
          1964,
          1964,
          1964,
          1964,
          1964,
          1964,
          1964,
          1964,
          1964,
          1964,
          1964,
          1964,
          1964,
          1968,
          1968,
          1968,
          1968,
          1968,
          1968,
          1968,
          1968,
          1968,
          1968,
          1968,
          1968,
          1968,
          1968,
          1968,
          1968,
          1968,
          1972,
          1972,
          1972,
          1972,
          1972,
          1972,
          1972,
          1972,
          1972,
          1972,
          1972,
          1972,
          1976,
          1976,
          1976,
          1976,
          1976,
          1976,
          1976,
          1976,
          1976,
          1976,
          1976,
          1976,
          1976,
          1976,
          1980,
          1980,
          1980,
          1980,
          1980,
          1980,
          1980,
          1980,
          1980,
          1980,
          1980,
          1980,
          1984,
          1984,
          1984,
          1984,
          1984,
          1984,
          1984,
          1984,
          1984,
          1984,
          1984,
          1984,
          1984,
          1984,
          1984,
          1984,
          1988,
          1988,
          1988,
          1988,
          1988,
          1988,
          1988,
          1988,
          1988,
          1988,
          1988,
          1988,
          1988,
          1988,
          1992,
          1992,
          1992,
          1992,
          1992,
          1992,
          1992,
          1992,
          1992,
          1992,
          1992,
          1992,
          1992,
          1992,
          1992,
          1992,
          1992,
          1992,
          1992,
          1996,
          1996,
          1996,
          1996,
          1996,
          1996,
          1996,
          1996,
          1996,
          1996,
          1996,
          1996,
          1996,
          1996,
          1996,
          1996,
          1996,
          1996,
          1996,
          1996,
          1996,
          1996,
          2000,
          2000,
          2000,
          2000,
          2000,
          2000,
          2000,
          2000,
          2000,
          2000,
          2000,
          2000,
          2000,
          2000,
          2000,
          2000,
          2000,
          2000,
          2000,
          2000,
          2000,
          2000,
          2000,
          2000,
          2000,
          2000,
          2000,
          2004,
          2004,
          2004,
          2004,
          2004,
          2004,
          2004,
          2004,
          2004,
          2004,
          2004,
          2004,
          2004,
          2004,
          2004,
          2004,
          2004,
          2004,
          2004,
          2004,
          2008,
          2008,
          2008,
          2008,
          2008,
          2008,
          2008,
          2008,
          2008,
          2008,
          2008,
          2008,
          2008,
          2008,
          2008,
          2008,
          2008,
          2008,
          2008,
          2008,
          2008,
          2008,
          2008,
          2008,
          2008,
          2012,
          2012,
          2012,
          2012,
          2012,
          2012,
          2012,
          2012,
          2012,
          2012,
          2012,
          2012,
          2012,
          2012,
          2012,
          2012,
          2012,
          2012,
          2012,
          2012,
          2012,
          2012,
          2016,
          2016,
          2016,
          2016,
          2016,
          2016,
          2016,
          2016,
          2016,
          2016,
          2016,
          2016,
          2016,
          2016,
          2016,
          2016,
          2016,
          2016,
          2016,
          2016,
          2016,
          2016,
          2016,
          2016,
          2016
         ],
         "legendgroup": "Silver",
         "marker": {
          "color": "#EF553B",
          "pattern": {
           "shape": ""
          }
         },
         "name": "Silver",
         "offsetgroup": "Silver",
         "orientation": "v",
         "showlegend": true,
         "textposition": "auto",
         "type": "bar",
         "x": [
          "USA",
          "HUN",
          "GRE",
          "GER",
          "GBR",
          "FRA",
          "USA",
          "IND",
          "GBR",
          "FRA",
          "BOH",
          "USA",
          "FRA",
          "GBR",
          "USA",
          "HUN",
          "GRE",
          "SWE",
          "BEL",
          "GER",
          "CAN",
          "GBR",
          "HUN",
          "ITA",
          "NOR",
          "RSA",
          "GRE",
          "USA",
          "CAN",
          "GER",
          "FRA",
          "GBR",
          "RSA",
          "SWE",
          "USA",
          "GBR",
          "FRA",
          "FIN",
          "CAN",
          "GER",
          "RSA",
          "USA",
          "SWE",
          "GBR",
          "DEN",
          "EST",
          "AUS",
          "FIN",
          "FRA",
          "USA",
          "SWE",
          "SUI",
          "RSA",
          "ITA",
          "HUN",
          "ARG",
          "GBR",
          "FIN",
          "JPN",
          "NED",
          "SWE",
          "USA",
          "HUN",
          "HAI",
          "GER",
          "CAN",
          "CHI",
          "FIN",
          "FRA",
          "GBR",
          "JPN",
          "LAT",
          "SWE",
          "USA",
          "FIN",
          "CAN",
          "GBR",
          "GER",
          "USA",
          "POL",
          "SUI",
          "ITA",
          "JPN",
          "CAN",
          "FIN",
          "GBR",
          "GER",
          "JAM",
          "NOR",
          "SRI",
          "SUI",
          "SWE",
          "TCH",
          "USA",
          "YUG",
          "ITA",
          "ARG",
          "AUS",
          "FRA",
          "GBR",
          "FIN",
          "RSA",
          "SUI",
          "URS",
          "USA",
          "TCH",
          "NED",
          "ITA",
          "JAM",
          "ARG",
          "FRA",
          "GER",
          "GBR",
          "POL",
          "URS",
          "USA",
          "YUG",
          "ISL",
          "AUS",
          "CHI",
          "GBR",
          "GER",
          "HUN",
          "SWE",
          "POL",
          "TCH",
          "USA",
          "URS",
          "TPE",
          "MAR",
          "AUS",
          "BEL",
          "FRA",
          "GBR",
          "GER",
          "HUN",
          "POL",
          "USA",
          "TTO",
          "TUN",
          "URS",
          "TCH",
          "HUN",
          "AUS",
          "CAN",
          "CUB",
          "FRA",
          "GBR",
          "GER",
          "JPN",
          "KEN",
          "MEX",
          "ROU",
          "URS",
          "JAM",
          "USA",
          "HUN",
          "AUS",
          "AUT",
          "BRA",
          "CUB",
          "ETH",
          "FIN",
          "FRG",
          "GBR",
          "GDR",
          "USA",
          "KEN",
          "ROU",
          "TUN",
          "URS",
          "GDR",
          "AUS",
          "BEL",
          "BUL",
          "GBR",
          "FRA",
          "FRG",
          "POR",
          "JAM",
          "NZL",
          "POL",
          "USA",
          "URS",
          "ITA",
          "GDR",
          "BUL",
          "CAN",
          "BEL",
          "FIN",
          "FRG",
          "CUB",
          "GDR",
          "NED",
          "POL",
          "TAN",
          "TCH",
          "URS",
          "AUS",
          "BUL",
          "CUB",
          "FIN",
          "GBR",
          "ESP",
          "MEX",
          "JAM",
          "NOR",
          "SWE",
          "ROU",
          "SUI",
          "ITA",
          "USA",
          "IRL",
          "AUS",
          "CAN",
          "CIV",
          "FIN",
          "FRG",
          "GBR",
          "FRA",
          "ROU",
          "KEN",
          "SEN",
          "TCH",
          "URS",
          "USA",
          "JAM",
          "ITA",
          "AUS",
          "BRA",
          "BUL",
          "FRG",
          "GBR",
          "GDR",
          "MAR",
          "KEN",
          "JPN",
          "JAM",
          "MEX",
          "NAM",
          "NGR",
          "ROU",
          "RSA",
          "SWE",
          "USA",
          "GER",
          "BUL",
          "CAN",
          "CHN",
          "CUB",
          "FIN",
          "EUN",
          "ESP",
          "NGR",
          "NAM",
          "KOR",
          "KEN",
          "POL",
          "ZAM",
          "USA",
          "JAM",
          "SLO",
          "RUS",
          "RSA",
          "ROU",
          "ITA",
          "CUB",
          "CHN",
          "BLR",
          "BAH",
          "AUS",
          "GRE",
          "GER",
          "GBR",
          "ESP",
          "NGR",
          "MEX",
          "MAR",
          "KEN",
          "LAT",
          "KSA",
          "NOR",
          "JAM",
          "TTO",
          "SRI",
          "RUS",
          "RSA",
          "ROU",
          "USA",
          "BRA",
          "AUT",
          "AUS",
          "ALG",
          "ITA",
          "CUB",
          "CZE",
          "IRL",
          "GER",
          "GBR",
          "GRE",
          "ETH",
          "DEN",
          "MEX",
          "MAR",
          "LTU",
          "KEN",
          "LAT",
          "POR",
          "JAM",
          "USA",
          "UKR",
          "RUS",
          "RSA",
          "ROU",
          "AUS",
          "CUB",
          "DEN",
          "HUN",
          "GRE",
          "GER",
          "ETH",
          "ESP",
          "USA",
          "MAR",
          "NOR",
          "LAT",
          "KEN",
          "JPN",
          "JAM",
          "UKR",
          "TUR",
          "TTO",
          "POL",
          "RUS",
          "RSA",
          "SUD",
          "NZL",
          "BLR",
          "BAH",
          "AUS",
          "BEL",
          "CRO",
          "GBR",
          "FRA",
          "ETH",
          "ECU",
          "CUB",
          "POL",
          "KEN",
          "JAM",
          "RSA",
          "TUN",
          "IRI",
          "USA",
          "UKR",
          "TTO",
          "SLO",
          "RUS",
          "TUR",
          "GUA",
          "AUS",
          "BOT",
          "COL",
          "CUB",
          "DOM",
          "GBR",
          "FRA",
          "GER",
          "ETH",
          "JPN",
          "KEN",
          "GRN",
          "MEX",
          "JAM",
          "NED",
          "NZL",
          "RSA",
          "QAT",
          "POL",
          "GBR",
          "CHN",
          "USA",
          "ALG",
          "AUS",
          "BDI",
          "BLR",
          "BRN",
          "BUL",
          "CAN",
          "FRA",
          "ETH",
          "ESP",
          "DEN",
          "VEN"
         ],
         "xaxis": "x2",
         "y": [
          6,
          1,
          3,
          1,
          1,
          1,
          13,
          2,
          3,
          8,
          1,
          25,
          2,
          1,
          6,
          3,
          2,
          4,
          1,
          1,
          1,
          5,
          1,
          1,
          1,
          1,
          3,
          14,
          1,
          4,
          1,
          7,
          1,
          12,
          14,
          1,
          5,
          11,
          2,
          2,
          4,
          12,
          3,
          14,
          1,
          1,
          1,
          4,
          5,
          15,
          6,
          2,
          1,
          1,
          1,
          1,
          11,
          5,
          1,
          1,
          2,
          11,
          1,
          1,
          8,
          2,
          1,
          5,
          1,
          2,
          1,
          1,
          1,
          13,
          4,
          6,
          7,
          5,
          10,
          2,
          1,
          5,
          2,
          1,
          5,
          8,
          4,
          2,
          1,
          1,
          1,
          3,
          1,
          5,
          1,
          3,
          1,
          6,
          6,
          9,
          2,
          1,
          1,
          11,
          13,
          1,
          1,
          1,
          3,
          1,
          2,
          6,
          1,
          1,
          10,
          10,
          1,
          1,
          6,
          1,
          7,
          5,
          2,
          1,
          2,
          1,
          8,
          8,
          1,
          1,
          2,
          1,
          1,
          3,
          14,
          1,
          7,
          10,
          1,
          1,
          2,
          2,
          3,
          1,
          1,
          1,
          1,
          10,
          5,
          1,
          7,
          1,
          2,
          2,
          1,
          6,
          1,
          3,
          1,
          1,
          8,
          1,
          1,
          4,
          2,
          3,
          11,
          2,
          2,
          1,
          10,
          10,
          2,
          2,
          2,
          4,
          1,
          3,
          1,
          1,
          1,
          5,
          11,
          4,
          1,
          10,
          2,
          1,
          2,
          2,
          7,
          1,
          14,
          1,
          7,
          2,
          2,
          17,
          1,
          1,
          2,
          1,
          2,
          1,
          1,
          5,
          1,
          2,
          3,
          1,
          1,
          15,
          1,
          1,
          9,
          1,
          1,
          2,
          10,
          1,
          1,
          2,
          1,
          1,
          6,
          12,
          7,
          1,
          1,
          1,
          1,
          1,
          10,
          14,
          1,
          4,
          2,
          3,
          1,
          2,
          5,
          1,
          1,
          1,
          13,
          1,
          1,
          1,
          1,
          4,
          1,
          14,
          1,
          4,
          2,
          1,
          4,
          1,
          1,
          9,
          3,
          1,
          6,
          1,
          1,
          2,
          1,
          2,
          2,
          5,
          2,
          1,
          1,
          9,
          1,
          1,
          1,
          1,
          3,
          1,
          1,
          1,
          20,
          1,
          1,
          4,
          1,
          2,
          4,
          5,
          1,
          2,
          1,
          2,
          2,
          1,
          1,
          1,
          2,
          3,
          1,
          1,
          1,
          1,
          1,
          4,
          1,
          1,
          1,
          15,
          1,
          15,
          2,
          2,
          4,
          1,
          1,
          1,
          2,
          2,
          3,
          1,
          10,
          1,
          1,
          1,
          4,
          4,
          3,
          1,
          1,
          1,
          1,
          10,
          1,
          1,
          1,
          3,
          6,
          2,
          4,
          1,
          2,
          1,
          1,
          1,
          2,
          1,
          4,
          9,
          1,
          1,
          1,
          16,
          1,
          4,
          1,
          10,
          1,
          1,
          2,
          1,
          1,
          1,
          1,
          1,
          1,
          4,
          1,
          4,
          6,
          1,
          1,
          17,
          1,
          1,
          2,
          1,
          1,
          1,
          2,
          10,
          2,
          1,
          1,
          1,
          1,
          1,
          1,
          3,
          2,
          1,
          1,
          1
         ],
         "yaxis": "y2"
        },
        {
         "alignmentgroup": "True",
         "hovertemplate": "<b>%{hovertext}</b><br><br>Medal=Bronze<br>Country=%{x}<br>Amount=%{y}<extra></extra>",
         "hovertext": [
          1896,
          1896,
          1896,
          1896,
          1896,
          1900,
          1900,
          1900,
          1900,
          1900,
          1900,
          1900,
          1900,
          1900,
          1904,
          1904,
          1904,
          1906,
          1906,
          1906,
          1906,
          1906,
          1906,
          1906,
          1906,
          1908,
          1908,
          1908,
          1908,
          1908,
          1908,
          1908,
          1908,
          1908,
          1908,
          1912,
          1912,
          1912,
          1912,
          1912,
          1912,
          1912,
          1912,
          1920,
          1920,
          1920,
          1920,
          1920,
          1920,
          1920,
          1924,
          1924,
          1924,
          1924,
          1924,
          1924,
          1924,
          1924,
          1924,
          1924,
          1928,
          1928,
          1928,
          1928,
          1928,
          1928,
          1928,
          1928,
          1932,
          1932,
          1932,
          1932,
          1932,
          1932,
          1932,
          1932,
          1932,
          1932,
          1932,
          1932,
          1936,
          1936,
          1936,
          1936,
          1936,
          1936,
          1936,
          1936,
          1936,
          1936,
          1936,
          1936,
          1948,
          1948,
          1948,
          1948,
          1948,
          1948,
          1948,
          1948,
          1948,
          1948,
          1948,
          1948,
          1948,
          1948,
          1948,
          1952,
          1952,
          1952,
          1952,
          1952,
          1952,
          1952,
          1952,
          1952,
          1952,
          1952,
          1956,
          1956,
          1956,
          1956,
          1956,
          1956,
          1956,
          1956,
          1956,
          1956,
          1960,
          1960,
          1960,
          1960,
          1960,
          1960,
          1960,
          1960,
          1960,
          1960,
          1960,
          1960,
          1960,
          1960,
          1964,
          1964,
          1964,
          1964,
          1964,
          1964,
          1964,
          1964,
          1964,
          1964,
          1964,
          1964,
          1964,
          1964,
          1964,
          1964,
          1968,
          1968,
          1968,
          1968,
          1968,
          1968,
          1968,
          1968,
          1968,
          1968,
          1968,
          1968,
          1968,
          1968,
          1968,
          1968,
          1968,
          1972,
          1972,
          1972,
          1972,
          1972,
          1972,
          1972,
          1972,
          1972,
          1972,
          1972,
          1972,
          1972,
          1972,
          1972,
          1972,
          1972,
          1972,
          1972,
          1976,
          1976,
          1976,
          1976,
          1976,
          1976,
          1976,
          1976,
          1976,
          1976,
          1980,
          1980,
          1980,
          1980,
          1980,
          1980,
          1980,
          1980,
          1980,
          1980,
          1980,
          1980,
          1984,
          1984,
          1984,
          1984,
          1984,
          1984,
          1984,
          1984,
          1984,
          1984,
          1984,
          1984,
          1984,
          1984,
          1984,
          1984,
          1988,
          1988,
          1988,
          1988,
          1988,
          1988,
          1988,
          1988,
          1988,
          1988,
          1988,
          1988,
          1988,
          1988,
          1988,
          1988,
          1988,
          1992,
          1992,
          1992,
          1992,
          1992,
          1992,
          1992,
          1992,
          1992,
          1992,
          1992,
          1992,
          1992,
          1992,
          1992,
          1992,
          1992,
          1992,
          1992,
          1992,
          1996,
          1996,
          1996,
          1996,
          1996,
          1996,
          1996,
          1996,
          1996,
          1996,
          1996,
          1996,
          1996,
          1996,
          1996,
          1996,
          1996,
          1996,
          1996,
          1996,
          1996,
          1996,
          1996,
          1996,
          1996,
          1996,
          2000,
          2000,
          2000,
          2000,
          2000,
          2000,
          2000,
          2000,
          2000,
          2000,
          2000,
          2000,
          2000,
          2000,
          2000,
          2000,
          2000,
          2000,
          2000,
          2000,
          2000,
          2000,
          2004,
          2004,
          2004,
          2004,
          2004,
          2004,
          2004,
          2004,
          2004,
          2004,
          2004,
          2004,
          2004,
          2004,
          2004,
          2004,
          2004,
          2004,
          2004,
          2004,
          2004,
          2004,
          2004,
          2004,
          2004,
          2004,
          2008,
          2008,
          2008,
          2008,
          2008,
          2008,
          2008,
          2008,
          2008,
          2008,
          2008,
          2008,
          2008,
          2008,
          2008,
          2008,
          2008,
          2008,
          2008,
          2008,
          2008,
          2008,
          2012,
          2012,
          2012,
          2012,
          2012,
          2012,
          2012,
          2012,
          2012,
          2012,
          2012,
          2012,
          2012,
          2012,
          2012,
          2012,
          2012,
          2012,
          2012,
          2012,
          2012,
          2012,
          2016,
          2016,
          2016,
          2016,
          2016,
          2016,
          2016,
          2016,
          2016,
          2016,
          2016,
          2016,
          2016,
          2016,
          2016,
          2016,
          2016,
          2016,
          2016,
          2016,
          2016,
          2016,
          2016
         ],
         "legendgroup": "Bronze",
         "marker": {
          "color": "#00cc96",
          "pattern": {
           "shape": ""
          }
         },
         "name": "Bronze",
         "offsetgroup": "Bronze",
         "orientation": "v",
         "showlegend": true,
         "textposition": "auto",
         "type": "bar",
         "x": [
          "HUN",
          "USA",
          "GBR",
          "FRA",
          "GRE",
          "HUN",
          "USA",
          "SWE",
          "NOR",
          "GBR",
          "FRA",
          "DEN",
          "CAN",
          "AUS",
          "USA",
          "GRE",
          "GER",
          "USA",
          "SWE",
          "HUN",
          "GRE",
          "GER",
          "FIN",
          "AUS",
          "GBR",
          "NOR",
          "SWE",
          "USA",
          "HUN",
          "GER",
          "ANZ",
          "CAN",
          "FIN",
          "GBR",
          "FRA",
          "HUN",
          "ITA",
          "USA",
          "SWE",
          "GRE",
          "GBR",
          "FIN",
          "CAN",
          "RSA",
          "USA",
          "ITA",
          "SWE",
          "GBR",
          "FIN",
          "FRA",
          "NOR",
          "USA",
          "SWE",
          "RSA",
          "NZL",
          "NED",
          "EST",
          "FIN",
          "FRA",
          "GBR",
          "NOR",
          "SWE",
          "USA",
          "FIN",
          "CAN",
          "GBR",
          "GER",
          "FRA",
          "PHI",
          "POL",
          "RSA",
          "TCH",
          "USA",
          "JPN",
          "ITA",
          "CAN",
          "FIN",
          "GBR",
          "GER",
          "FRA",
          "LAT",
          "NED",
          "PHI",
          "SWE",
          "USA",
          "JPN",
          "POL",
          "ITA",
          "AUS",
          "FIN",
          "CAN",
          "GER",
          "SUI",
          "NED",
          "PAN",
          "USA",
          "SWE",
          "TUR",
          "ITA",
          "AUT",
          "BEL",
          "AUS",
          "DEN",
          "CAN",
          "HUN",
          "GBR",
          "FRA",
          "SWE",
          "USA",
          "URS",
          "VEN",
          "NZL",
          "BRA",
          "FIN",
          "GBR",
          "AUS",
          "GER",
          "HUN",
          "SWE",
          "TCH",
          "USA",
          "URS",
          "NOR",
          "AUS",
          "FIN",
          "GER",
          "GRE",
          "GBR",
          "POL",
          "ROU",
          "RSA",
          "URS",
          "USA",
          "NZL",
          "WIF",
          "ITA",
          "AUS",
          "FIN",
          "FRA",
          "GER",
          "HUN",
          "GBR",
          "ROU",
          "KEN",
          "NZL",
          "POL",
          "SWE",
          "TTO",
          "URS",
          "USA",
          "JPN",
          "ITA",
          "AUS",
          "CAN",
          "GBR",
          "GER",
          "HUN",
          "FRA",
          "POL",
          "NZL",
          "NED",
          "KEN",
          "TPE",
          "TUN",
          "URS",
          "USA",
          "TCH",
          "ITA",
          "AUS",
          "AUT",
          "FRA",
          "FRG",
          "GBR",
          "GDR",
          "HUN",
          "POL",
          "KEN",
          "NZL",
          "SWE",
          "URS",
          "USA",
          "JAM",
          "TCH",
          "ITA",
          "AUT",
          "BRA",
          "BUL",
          "CUB",
          "ETH",
          "FIN",
          "FRA",
          "GBR",
          "GDR",
          "FRG",
          "ROU",
          "TCH",
          "URS",
          "USA",
          "GDR",
          "BEL",
          "BRA",
          "BUL",
          "FRG",
          "GBR",
          "ITA",
          "JAM",
          "POL",
          "URS",
          "GDR",
          "GBR",
          "BRA",
          "CUB",
          "BUL",
          "ETH",
          "FIN",
          "FRA",
          "NGR",
          "KEN",
          "POR",
          "ROU",
          "SWE",
          "USA",
          "JAM",
          "AUS",
          "ITA",
          "CAN",
          "CHN",
          "ESP",
          "FIN",
          "FRA",
          "GBR",
          "FRG",
          "KEN",
          "MAR",
          "URS",
          "SWE",
          "USA",
          "SUI",
          "BUL",
          "ITA",
          "BRA",
          "CAN",
          "DJI",
          "CHN",
          "FRA",
          "FRG",
          "GBR",
          "GDR",
          "FIN",
          "ITA",
          "KEN",
          "JAM",
          "NGR",
          "NZL",
          "POL",
          "QAT",
          "USA",
          "GER",
          "AUS",
          "BAH",
          "BUL",
          "CAN",
          "CHN",
          "COL",
          "CUB",
          "GBR",
          "EUN",
          "ETH",
          "ESP",
          "NGR",
          "NOR",
          "MEX",
          "MAR",
          "JPN",
          "MOZ",
          "USA",
          "UKR",
          "UGA",
          "TTO",
          "RUS",
          "KEN",
          "CUB",
          "CHN",
          "BRA",
          "BLR",
          "AUT",
          "JAM",
          "CZE",
          "ESP",
          "GER",
          "GBR",
          "ITA",
          "FRA",
          "FIN",
          "ETH",
          "MEX",
          "MAR",
          "KEN",
          "POR",
          "USA",
          "UKR",
          "TTO",
          "SWE",
          "RUS",
          "RSA",
          "ROU",
          "JAM",
          "ISL",
          "CUB",
          "BLR",
          "BAR",
          "BAH",
          "ALG",
          "GER",
          "ETH",
          "ESP",
          "GBR",
          "NGR",
          "KEN",
          "KAZ",
          "POL",
          "SLO",
          "USA",
          "UKR",
          "POR",
          "TUR",
          "RUS",
          "ROU",
          "CUB",
          "JAM",
          "AUS",
          "BAH",
          "BRA",
          "CZE",
          "DEN",
          "ESP",
          "ITA",
          "GRE",
          "ERI",
          "GBR",
          "ETH",
          "EST",
          "FRA",
          "NGR",
          "MAR",
          "KEN",
          "LTU",
          "USA",
          "UKR",
          "RUS",
          "JAM",
          "ITA",
          "CHN",
          "CAN",
          "BRA",
          "BLR",
          "BAH",
          "AUS",
          "GRE",
          "GER",
          "CUB",
          "FRA",
          "GBR",
          "ETH",
          "FIN",
          "PUR",
          "MAR",
          "ITA",
          "KEN",
          "JPN",
          "JAM",
          "USA",
          "UKR",
          "RUS",
          "TTO",
          "QAT",
          "BRN",
          "CAN",
          "CHN",
          "CUB",
          "CZE",
          "GER",
          "GBR",
          "FIN",
          "ETH",
          "EST",
          "FRA",
          "KEN",
          "KAZ",
          "JPN",
          "JAM",
          "HUN",
          "GER",
          "USA",
          "UKR",
          "TUR",
          "TTO",
          "NZL",
          "POL",
          "SRB",
          "GBR",
          "AUS",
          "BAH",
          "CAN",
          "CHN",
          "FRA",
          "ETH",
          "CZE",
          "CUB",
          "CRO"
         ],
         "xaxis": "x",
         "y": [
          2,
          2,
          1,
          1,
          6,
          1,
          10,
          1,
          1,
          2,
          2,
          1,
          1,
          3,
          21,
          1,
          1,
          6,
          5,
          1,
          4,
          1,
          1,
          2,
          1,
          2,
          3,
          8,
          5,
          1,
          1,
          4,
          1,
          3,
          5,
          1,
          1,
          12,
          6,
          1,
          16,
          3,
          2,
          1,
          8,
          2,
          22,
          4,
          3,
          4,
          1,
          15,
          2,
          1,
          1,
          4,
          1,
          2,
          8,
          8,
          1,
          4,
          8,
          4,
          5,
          4,
          9,
          1,
          1,
          1,
          1,
          1,
          6,
          2,
          5,
          8,
          4,
          5,
          3,
          1,
          1,
          2,
          1,
          2,
          4,
          3,
          1,
          2,
          1,
          2,
          6,
          13,
          1,
          2,
          2,
          10,
          8,
          1,
          4,
          1,
          1,
          2,
          1,
          4,
          1,
          1,
          3,
          2,
          6,
          7,
          1,
          1,
          1,
          1,
          7,
          1,
          8,
          7,
          1,
          1,
          8,
          10,
          2,
          6,
          3,
          5,
          1,
          5,
          6,
          1,
          1,
          5,
          6,
          1,
          5,
          2,
          1,
          1,
          1,
          3,
          2,
          7,
          1,
          1,
          2,
          2,
          1,
          5,
          11,
          3,
          1,
          1,
          4,
          1,
          4,
          3,
          1,
          4,
          1,
          1,
          1,
          1,
          1,
          1,
          11,
          7,
          1,
          2,
          1,
          1,
          4,
          6,
          1,
          1,
          4,
          2,
          2,
          1,
          1,
          1,
          8,
          1,
          1,
          2,
          1,
          1,
          2,
          5,
          2,
          1,
          4,
          2,
          5,
          8,
          1,
          1,
          19,
          8,
          9,
          1,
          1,
          1,
          7,
          1,
          4,
          2,
          1,
          12,
          10,
          10,
          1,
          1,
          1,
          2,
          1,
          4,
          4,
          1,
          2,
          4,
          1,
          9,
          2,
          1,
          3,
          6,
          1,
          1,
          1,
          2,
          9,
          10,
          1,
          1,
          13,
          1,
          6,
          1,
          1,
          1,
          1,
          1,
          1,
          1,
          4,
          8,
          2,
          14,
          1,
          1,
          2,
          1,
          4,
          1,
          1,
          1,
          10,
          5,
          2,
          1,
          1,
          1,
          2,
          1,
          7,
          12,
          3,
          2,
          1,
          2,
          1,
          1,
          2,
          1,
          1,
          5,
          3,
          1,
          2,
          1,
          3,
          1,
          1,
          4,
          2,
          1,
          12,
          2,
          1,
          6,
          2,
          2,
          1,
          1,
          1,
          1,
          3,
          2,
          1,
          8,
          2,
          1,
          1,
          11,
          2,
          2,
          3,
          1,
          5,
          3,
          1,
          5,
          2,
          2,
          3,
          1,
          2,
          8,
          2,
          1,
          1,
          1,
          5,
          2,
          1,
          1,
          6,
          1,
          2,
          6,
          2,
          1,
          1,
          2,
          1,
          2,
          1,
          1,
          1,
          1,
          2,
          1,
          5,
          6,
          1,
          5,
          1,
          6,
          3,
          6,
          6,
          1,
          2,
          2,
          4,
          2,
          1,
          1,
          1,
          1,
          2,
          1,
          5,
          2,
          1,
          1,
          1,
          1,
          5,
          1,
          8,
          7,
          5,
          5,
          5,
          1,
          1,
          1,
          5,
          1,
          1,
          3,
          1,
          1,
          3,
          1,
          4,
          1,
          1,
          1,
          2,
          1,
          1,
          9,
          1,
          1,
          1,
          3,
          1,
          1,
          11,
          1,
          5,
          8,
          2,
          3,
          5,
          1,
          1,
          1
         ],
         "yaxis": "y"
        }
       ],
       "layout": {
        "annotations": [
         {
          "font": {},
          "showarrow": false,
          "text": "Medal=Bronze",
          "textangle": 90,
          "x": 0.98,
          "xanchor": "left",
          "xref": "paper",
          "y": 0.15666666666666665,
          "yanchor": "middle",
          "yref": "paper"
         },
         {
          "font": {},
          "showarrow": false,
          "text": "Medal=Silver",
          "textangle": 90,
          "x": 0.98,
          "xanchor": "left",
          "xref": "paper",
          "y": 0.4999999999999999,
          "yanchor": "middle",
          "yref": "paper"
         },
         {
          "font": {},
          "showarrow": false,
          "text": "Medal=Gold",
          "textangle": 90,
          "x": 0.98,
          "xanchor": "left",
          "xref": "paper",
          "y": 0.8433333333333332,
          "yanchor": "middle",
          "yref": "paper"
         }
        ],
        "barmode": "relative",
        "legend": {
         "title": {
          "text": "Medal"
         },
         "tracegroupgap": 0
        },
        "template": {
         "data": {
          "bar": [
           {
            "error_x": {
             "color": "#2a3f5f"
            },
            "error_y": {
             "color": "#2a3f5f"
            },
            "marker": {
             "line": {
              "color": "white",
              "width": 0.5
             },
             "pattern": {
              "fillmode": "overlay",
              "size": 10,
              "solidity": 0.2
             }
            },
            "type": "bar"
           }
          ],
          "barpolar": [
           {
            "marker": {
             "line": {
              "color": "white",
              "width": 0.5
             },
             "pattern": {
              "fillmode": "overlay",
              "size": 10,
              "solidity": 0.2
             }
            },
            "type": "barpolar"
           }
          ],
          "carpet": [
           {
            "aaxis": {
             "endlinecolor": "#2a3f5f",
             "gridcolor": "#C8D4E3",
             "linecolor": "#C8D4E3",
             "minorgridcolor": "#C8D4E3",
             "startlinecolor": "#2a3f5f"
            },
            "baxis": {
             "endlinecolor": "#2a3f5f",
             "gridcolor": "#C8D4E3",
             "linecolor": "#C8D4E3",
             "minorgridcolor": "#C8D4E3",
             "startlinecolor": "#2a3f5f"
            },
            "type": "carpet"
           }
          ],
          "choropleth": [
           {
            "colorbar": {
             "outlinewidth": 0,
             "ticks": ""
            },
            "type": "choropleth"
           }
          ],
          "contour": [
           {
            "colorbar": {
             "outlinewidth": 0,
             "ticks": ""
            },
            "colorscale": [
             [
              0,
              "#0d0887"
             ],
             [
              0.1111111111111111,
              "#46039f"
             ],
             [
              0.2222222222222222,
              "#7201a8"
             ],
             [
              0.3333333333333333,
              "#9c179e"
             ],
             [
              0.4444444444444444,
              "#bd3786"
             ],
             [
              0.5555555555555556,
              "#d8576b"
             ],
             [
              0.6666666666666666,
              "#ed7953"
             ],
             [
              0.7777777777777778,
              "#fb9f3a"
             ],
             [
              0.8888888888888888,
              "#fdca26"
             ],
             [
              1,
              "#f0f921"
             ]
            ],
            "type": "contour"
           }
          ],
          "contourcarpet": [
           {
            "colorbar": {
             "outlinewidth": 0,
             "ticks": ""
            },
            "type": "contourcarpet"
           }
          ],
          "heatmap": [
           {
            "colorbar": {
             "outlinewidth": 0,
             "ticks": ""
            },
            "colorscale": [
             [
              0,
              "#0d0887"
             ],
             [
              0.1111111111111111,
              "#46039f"
             ],
             [
              0.2222222222222222,
              "#7201a8"
             ],
             [
              0.3333333333333333,
              "#9c179e"
             ],
             [
              0.4444444444444444,
              "#bd3786"
             ],
             [
              0.5555555555555556,
              "#d8576b"
             ],
             [
              0.6666666666666666,
              "#ed7953"
             ],
             [
              0.7777777777777778,
              "#fb9f3a"
             ],
             [
              0.8888888888888888,
              "#fdca26"
             ],
             [
              1,
              "#f0f921"
             ]
            ],
            "type": "heatmap"
           }
          ],
          "heatmapgl": [
           {
            "colorbar": {
             "outlinewidth": 0,
             "ticks": ""
            },
            "colorscale": [
             [
              0,
              "#0d0887"
             ],
             [
              0.1111111111111111,
              "#46039f"
             ],
             [
              0.2222222222222222,
              "#7201a8"
             ],
             [
              0.3333333333333333,
              "#9c179e"
             ],
             [
              0.4444444444444444,
              "#bd3786"
             ],
             [
              0.5555555555555556,
              "#d8576b"
             ],
             [
              0.6666666666666666,
              "#ed7953"
             ],
             [
              0.7777777777777778,
              "#fb9f3a"
             ],
             [
              0.8888888888888888,
              "#fdca26"
             ],
             [
              1,
              "#f0f921"
             ]
            ],
            "type": "heatmapgl"
           }
          ],
          "histogram": [
           {
            "marker": {
             "pattern": {
              "fillmode": "overlay",
              "size": 10,
              "solidity": 0.2
             }
            },
            "type": "histogram"
           }
          ],
          "histogram2d": [
           {
            "colorbar": {
             "outlinewidth": 0,
             "ticks": ""
            },
            "colorscale": [
             [
              0,
              "#0d0887"
             ],
             [
              0.1111111111111111,
              "#46039f"
             ],
             [
              0.2222222222222222,
              "#7201a8"
             ],
             [
              0.3333333333333333,
              "#9c179e"
             ],
             [
              0.4444444444444444,
              "#bd3786"
             ],
             [
              0.5555555555555556,
              "#d8576b"
             ],
             [
              0.6666666666666666,
              "#ed7953"
             ],
             [
              0.7777777777777778,
              "#fb9f3a"
             ],
             [
              0.8888888888888888,
              "#fdca26"
             ],
             [
              1,
              "#f0f921"
             ]
            ],
            "type": "histogram2d"
           }
          ],
          "histogram2dcontour": [
           {
            "colorbar": {
             "outlinewidth": 0,
             "ticks": ""
            },
            "colorscale": [
             [
              0,
              "#0d0887"
             ],
             [
              0.1111111111111111,
              "#46039f"
             ],
             [
              0.2222222222222222,
              "#7201a8"
             ],
             [
              0.3333333333333333,
              "#9c179e"
             ],
             [
              0.4444444444444444,
              "#bd3786"
             ],
             [
              0.5555555555555556,
              "#d8576b"
             ],
             [
              0.6666666666666666,
              "#ed7953"
             ],
             [
              0.7777777777777778,
              "#fb9f3a"
             ],
             [
              0.8888888888888888,
              "#fdca26"
             ],
             [
              1,
              "#f0f921"
             ]
            ],
            "type": "histogram2dcontour"
           }
          ],
          "mesh3d": [
           {
            "colorbar": {
             "outlinewidth": 0,
             "ticks": ""
            },
            "type": "mesh3d"
           }
          ],
          "parcoords": [
           {
            "line": {
             "colorbar": {
              "outlinewidth": 0,
              "ticks": ""
             }
            },
            "type": "parcoords"
           }
          ],
          "pie": [
           {
            "automargin": true,
            "type": "pie"
           }
          ],
          "scatter": [
           {
            "fillpattern": {
             "fillmode": "overlay",
             "size": 10,
             "solidity": 0.2
            },
            "type": "scatter"
           }
          ],
          "scatter3d": [
           {
            "line": {
             "colorbar": {
              "outlinewidth": 0,
              "ticks": ""
             }
            },
            "marker": {
             "colorbar": {
              "outlinewidth": 0,
              "ticks": ""
             }
            },
            "type": "scatter3d"
           }
          ],
          "scattercarpet": [
           {
            "marker": {
             "colorbar": {
              "outlinewidth": 0,
              "ticks": ""
             }
            },
            "type": "scattercarpet"
           }
          ],
          "scattergeo": [
           {
            "marker": {
             "colorbar": {
              "outlinewidth": 0,
              "ticks": ""
             }
            },
            "type": "scattergeo"
           }
          ],
          "scattergl": [
           {
            "marker": {
             "colorbar": {
              "outlinewidth": 0,
              "ticks": ""
             }
            },
            "type": "scattergl"
           }
          ],
          "scattermapbox": [
           {
            "marker": {
             "colorbar": {
              "outlinewidth": 0,
              "ticks": ""
             }
            },
            "type": "scattermapbox"
           }
          ],
          "scatterpolar": [
           {
            "marker": {
             "colorbar": {
              "outlinewidth": 0,
              "ticks": ""
             }
            },
            "type": "scatterpolar"
           }
          ],
          "scatterpolargl": [
           {
            "marker": {
             "colorbar": {
              "outlinewidth": 0,
              "ticks": ""
             }
            },
            "type": "scatterpolargl"
           }
          ],
          "scatterternary": [
           {
            "marker": {
             "colorbar": {
              "outlinewidth": 0,
              "ticks": ""
             }
            },
            "type": "scatterternary"
           }
          ],
          "surface": [
           {
            "colorbar": {
             "outlinewidth": 0,
             "ticks": ""
            },
            "colorscale": [
             [
              0,
              "#0d0887"
             ],
             [
              0.1111111111111111,
              "#46039f"
             ],
             [
              0.2222222222222222,
              "#7201a8"
             ],
             [
              0.3333333333333333,
              "#9c179e"
             ],
             [
              0.4444444444444444,
              "#bd3786"
             ],
             [
              0.5555555555555556,
              "#d8576b"
             ],
             [
              0.6666666666666666,
              "#ed7953"
             ],
             [
              0.7777777777777778,
              "#fb9f3a"
             ],
             [
              0.8888888888888888,
              "#fdca26"
             ],
             [
              1,
              "#f0f921"
             ]
            ],
            "type": "surface"
           }
          ],
          "table": [
           {
            "cells": {
             "fill": {
              "color": "#EBF0F8"
             },
             "line": {
              "color": "white"
             }
            },
            "header": {
             "fill": {
              "color": "#C8D4E3"
             },
             "line": {
              "color": "white"
             }
            },
            "type": "table"
           }
          ]
         },
         "layout": {
          "annotationdefaults": {
           "arrowcolor": "#2a3f5f",
           "arrowhead": 0,
           "arrowwidth": 1
          },
          "autotypenumbers": "strict",
          "coloraxis": {
           "colorbar": {
            "outlinewidth": 0,
            "ticks": ""
           }
          },
          "colorscale": {
           "diverging": [
            [
             0,
             "#8e0152"
            ],
            [
             0.1,
             "#c51b7d"
            ],
            [
             0.2,
             "#de77ae"
            ],
            [
             0.3,
             "#f1b6da"
            ],
            [
             0.4,
             "#fde0ef"
            ],
            [
             0.5,
             "#f7f7f7"
            ],
            [
             0.6,
             "#e6f5d0"
            ],
            [
             0.7,
             "#b8e186"
            ],
            [
             0.8,
             "#7fbc41"
            ],
            [
             0.9,
             "#4d9221"
            ],
            [
             1,
             "#276419"
            ]
           ],
           "sequential": [
            [
             0,
             "#0d0887"
            ],
            [
             0.1111111111111111,
             "#46039f"
            ],
            [
             0.2222222222222222,
             "#7201a8"
            ],
            [
             0.3333333333333333,
             "#9c179e"
            ],
            [
             0.4444444444444444,
             "#bd3786"
            ],
            [
             0.5555555555555556,
             "#d8576b"
            ],
            [
             0.6666666666666666,
             "#ed7953"
            ],
            [
             0.7777777777777778,
             "#fb9f3a"
            ],
            [
             0.8888888888888888,
             "#fdca26"
            ],
            [
             1,
             "#f0f921"
            ]
           ],
           "sequentialminus": [
            [
             0,
             "#0d0887"
            ],
            [
             0.1111111111111111,
             "#46039f"
            ],
            [
             0.2222222222222222,
             "#7201a8"
            ],
            [
             0.3333333333333333,
             "#9c179e"
            ],
            [
             0.4444444444444444,
             "#bd3786"
            ],
            [
             0.5555555555555556,
             "#d8576b"
            ],
            [
             0.6666666666666666,
             "#ed7953"
            ],
            [
             0.7777777777777778,
             "#fb9f3a"
            ],
            [
             0.8888888888888888,
             "#fdca26"
            ],
            [
             1,
             "#f0f921"
            ]
           ]
          },
          "colorway": [
           "#636efa",
           "#EF553B",
           "#00cc96",
           "#ab63fa",
           "#FFA15A",
           "#19d3f3",
           "#FF6692",
           "#B6E880",
           "#FF97FF",
           "#FECB52"
          ],
          "font": {
           "color": "#2a3f5f"
          },
          "geo": {
           "bgcolor": "white",
           "lakecolor": "white",
           "landcolor": "white",
           "showlakes": true,
           "showland": true,
           "subunitcolor": "#C8D4E3"
          },
          "hoverlabel": {
           "align": "left"
          },
          "hovermode": "closest",
          "mapbox": {
           "style": "light"
          },
          "paper_bgcolor": "white",
          "plot_bgcolor": "white",
          "polar": {
           "angularaxis": {
            "gridcolor": "#EBF0F8",
            "linecolor": "#EBF0F8",
            "ticks": ""
           },
           "bgcolor": "white",
           "radialaxis": {
            "gridcolor": "#EBF0F8",
            "linecolor": "#EBF0F8",
            "ticks": ""
           }
          },
          "scene": {
           "xaxis": {
            "backgroundcolor": "white",
            "gridcolor": "#DFE8F3",
            "gridwidth": 2,
            "linecolor": "#EBF0F8",
            "showbackground": true,
            "ticks": "",
            "zerolinecolor": "#EBF0F8"
           },
           "yaxis": {
            "backgroundcolor": "white",
            "gridcolor": "#DFE8F3",
            "gridwidth": 2,
            "linecolor": "#EBF0F8",
            "showbackground": true,
            "ticks": "",
            "zerolinecolor": "#EBF0F8"
           },
           "zaxis": {
            "backgroundcolor": "white",
            "gridcolor": "#DFE8F3",
            "gridwidth": 2,
            "linecolor": "#EBF0F8",
            "showbackground": true,
            "ticks": "",
            "zerolinecolor": "#EBF0F8"
           }
          },
          "shapedefaults": {
           "line": {
            "color": "#2a3f5f"
           }
          },
          "ternary": {
           "aaxis": {
            "gridcolor": "#DFE8F3",
            "linecolor": "#A2B1C6",
            "ticks": ""
           },
           "baxis": {
            "gridcolor": "#DFE8F3",
            "linecolor": "#A2B1C6",
            "ticks": ""
           },
           "bgcolor": "white",
           "caxis": {
            "gridcolor": "#DFE8F3",
            "linecolor": "#A2B1C6",
            "ticks": ""
           }
          },
          "title": {
           "x": 0.05
          },
          "xaxis": {
           "automargin": true,
           "gridcolor": "#EBF0F8",
           "linecolor": "#EBF0F8",
           "ticks": "",
           "title": {
            "standoff": 15
           },
           "zerolinecolor": "#EBF0F8",
           "zerolinewidth": 2
          },
          "yaxis": {
           "automargin": true,
           "gridcolor": "#EBF0F8",
           "linecolor": "#EBF0F8",
           "ticks": "",
           "title": {
            "standoff": 15
           },
           "zerolinecolor": "#EBF0F8",
           "zerolinewidth": 2
          }
         }
        },
        "title": {
         "text": "Medal distribution in in Olympics for Athletics"
        },
        "xaxis": {
         "anchor": "y",
         "domain": [
          0,
          0.98
         ],
         "title": {
          "text": "Country"
         }
        },
        "xaxis2": {
         "anchor": "y2",
         "domain": [
          0,
          0.98
         ],
         "matches": "x",
         "showticklabels": false
        },
        "xaxis3": {
         "anchor": "y3",
         "domain": [
          0,
          0.98
         ],
         "matches": "x",
         "showticklabels": false
        },
        "yaxis": {
         "anchor": "x",
         "domain": [
          0,
          0.3133333333333333
         ],
         "title": {
          "text": "Amount"
         },
         "type": "log"
        },
        "yaxis2": {
         "anchor": "x2",
         "domain": [
          0.34333333333333327,
          0.6566666666666665
         ],
         "matches": "y",
         "title": {
          "text": "Amount"
         },
         "type": "log"
        },
        "yaxis3": {
         "anchor": "x3",
         "domain": [
          0.6866666666666665,
          0.9999999999999998
         ],
         "matches": "y",
         "title": {
          "text": "Amount"
         },
         "type": "log"
        }
       }
      }
     },
     "metadata": {},
     "output_type": "display_data"
    },
    {
     "data": {
      "application/vnd.plotly.v1+json": {
       "config": {
        "plotlyServerURL": "https://plot.ly"
       },
       "data": [
        {
         "alignmentgroup": "True",
         "hovertemplate": "<b>%{hovertext}</b><br><br>Medal=Bronze<br>Country=%{x}<br>Amount=%{y}<extra></extra>",
         "hovertext": [
          1924,
          1924,
          1928,
          1928,
          1932,
          1932,
          1936,
          1936,
          1948,
          1948,
          1948,
          1952,
          1952,
          1952,
          1956,
          1956,
          1960,
          1960,
          1960,
          1964,
          1964,
          1964,
          1968,
          1968,
          1968,
          1968,
          1968,
          1972,
          1972,
          1972,
          1972,
          1972,
          1976,
          1976,
          1976,
          1976,
          1980,
          1980,
          1980,
          1980,
          1980,
          1984,
          1984,
          1984,
          1984,
          1988,
          1988,
          1988,
          1988,
          1988,
          1992,
          1992,
          1992,
          1992,
          1992,
          1994,
          1994,
          1994,
          1994,
          1998,
          1998,
          1998,
          1998,
          1998,
          1998,
          1998,
          2002,
          2002,
          2002,
          2002,
          2002,
          2002,
          2002,
          2006,
          2006,
          2006,
          2006,
          2006,
          2006,
          2006,
          2006,
          2010,
          2010,
          2010,
          2010,
          2010,
          2010,
          2010,
          2014,
          2014,
          2014,
          2014,
          2014,
          2014
         ],
         "legendgroup": "Bronze",
         "marker": {
          "color": "#636efa",
          "pattern": {
           "shape": ""
          }
         },
         "name": "Bronze",
         "offsetgroup": "Bronze",
         "orientation": "v",
         "showlegend": true,
         "textposition": "auto",
         "type": "bar",
         "x": [
          "FIN",
          "NOR",
          "NOR",
          "SWE",
          "NOR",
          "FIN",
          "SWE",
          "FIN",
          "FIN",
          "NOR",
          "SWE",
          "SWE",
          "NOR",
          "FIN",
          "URS",
          "SWE",
          "URS",
          "FIN",
          "SWE",
          "URS",
          "FIN",
          "SWE",
          "URS",
          "SWE",
          "SUI",
          "NOR",
          "FIN",
          "URS",
          "TCH",
          "NOR",
          "SUI",
          "FIN",
          "SWE",
          "URS",
          "GDR",
          "FIN",
          "URS",
          "TCH",
          "NOR",
          "FIN",
          "BUL",
          "TCH",
          "FIN",
          "NOR",
          "SWE",
          "TCH",
          "URS",
          "NOR",
          "SUI",
          "FIN",
          "SWE",
          "NOR",
          "ITA",
          "FIN",
          "EUN",
          "NOR",
          "RUS",
          "ITA",
          "FIN",
          "RUS",
          "KAZ",
          "NOR",
          "ITA",
          "FIN",
          "CZE",
          "AUT",
          "NOR",
          "SWE",
          "SUI",
          "RUS",
          "ITA",
          "GER",
          "EST",
          "SWE",
          "RUS",
          "POL",
          "NOR",
          "ITA",
          "GER",
          "FIN",
          "AUT",
          "RUS",
          "SLO",
          "SWE",
          "FIN",
          "NOR",
          "CZE",
          "POL",
          "SWE",
          "SLO",
          "RUS",
          "GER",
          "NOR",
          "FRA"
         ],
         "xaxis": "x3",
         "y": [
          1,
          1,
          1,
          1,
          1,
          1,
          5,
          1,
          1,
          4,
          1,
          4,
          1,
          2,
          3,
          8,
          6,
          4,
          1,
          7,
          4,
          1,
          4,
          1,
          1,
          1,
          5,
          1,
          1,
          5,
          4,
          1,
          1,
          7,
          4,
          1,
          1,
          1,
          5,
          5,
          1,
          1,
          10,
          2,
          1,
          4,
          3,
          1,
          1,
          5,
          1,
          1,
          6,
          4,
          4,
          1,
          1,
          7,
          7,
          1,
          1,
          2,
          5,
          5,
          1,
          1,
          4,
          1,
          4,
          1,
          2,
          5,
          1,
          5,
          4,
          1,
          1,
          5,
          1,
          2,
          1,
          4,
          1,
          2,
          5,
          2,
          5,
          1,
          6,
          1,
          1,
          4,
          4,
          4
         ],
         "yaxis": "y3"
        },
        {
         "alignmentgroup": "True",
         "hovertemplate": "<b>%{hovertext}</b><br><br>Medal=Gold<br>Country=%{x}<br>Amount=%{y}<extra></extra>",
         "hovertext": [
          1924,
          1928,
          1928,
          1932,
          1932,
          1936,
          1936,
          1948,
          1952,
          1952,
          1956,
          1956,
          1956,
          1956,
          1960,
          1960,
          1960,
          1960,
          1964,
          1964,
          1964,
          1968,
          1968,
          1968,
          1972,
          1972,
          1972,
          1976,
          1976,
          1976,
          1980,
          1980,
          1980,
          1984,
          1984,
          1984,
          1984,
          1988,
          1988,
          1988,
          1992,
          1992,
          1992,
          1992,
          1994,
          1994,
          1994,
          1994,
          1998,
          1998,
          1998,
          2002,
          2002,
          2002,
          2002,
          2002,
          2002,
          2002,
          2006,
          2006,
          2006,
          2006,
          2006,
          2006,
          2010,
          2010,
          2010,
          2010,
          2010,
          2010,
          2014,
          2014,
          2014,
          2014,
          2014,
          2014
         ],
         "legendgroup": "Gold",
         "marker": {
          "color": "#EF553B",
          "pattern": {
           "shape": ""
          }
         },
         "name": "Gold",
         "offsetgroup": "Gold",
         "orientation": "v",
         "showlegend": true,
         "textposition": "auto",
         "type": "bar",
         "x": [
          "NOR",
          "NOR",
          "SWE",
          "SWE",
          "FIN",
          "SWE",
          "FIN",
          "SWE",
          "NOR",
          "FIN",
          "URS",
          "SWE",
          "NOR",
          "FIN",
          "URS",
          "SWE",
          "FIN",
          "NOR",
          "URS",
          "SWE",
          "FIN",
          "SWE",
          "NOR",
          "ITA",
          "URS",
          "SWE",
          "NOR",
          "URS",
          "FIN",
          "NOR",
          "URS",
          "SWE",
          "GDR",
          "URS",
          "SWE",
          "NOR",
          "FIN",
          "URS",
          "SWE",
          "FIN",
          "NOR",
          "ITA",
          "FIN",
          "EUN",
          "RUS",
          "NOR",
          "ITA",
          "KAZ",
          "RUS",
          "NOR",
          "FIN",
          "RUS",
          "ITA",
          "NOR",
          "GER",
          "AUT",
          "CAN",
          "EST",
          "ITA",
          "SWE",
          "RUS",
          "EST",
          "CZE",
          "CAN",
          "RUS",
          "SWE",
          "SUI",
          "POL",
          "NOR",
          "GER",
          "SUI",
          "RUS",
          "POL",
          "NOR",
          "FIN",
          "SWE"
         ],
         "xaxis": "x2",
         "y": [
          2,
          1,
          1,
          1,
          1,
          2,
          4,
          6,
          1,
          6,
          5,
          1,
          1,
          4,
          1,
          4,
          5,
          1,
          5,
          5,
          2,
          2,
          9,
          1,
          10,
          1,
          1,
          7,
          5,
          1,
          7,
          1,
          5,
          1,
          6,
          4,
          3,
          8,
          5,
          1,
          5,
          1,
          1,
          6,
          6,
          1,
          6,
          1,
          8,
          4,
          1,
          2,
          2,
          8,
          4,
          1,
          1,
          1,
          5,
          5,
          5,
          3,
          1,
          1,
          1,
          6,
          1,
          1,
          9,
          2,
          2,
          1,
          1,
          6,
          2,
          8
         ],
         "yaxis": "y2"
        },
        {
         "alignmentgroup": "True",
         "hovertemplate": "<b>%{hovertext}</b><br><br>Medal=Silver<br>Country=%{x}<br>Amount=%{y}<extra></extra>",
         "hovertext": [
          1924,
          1928,
          1928,
          1932,
          1932,
          1936,
          1936,
          1948,
          1948,
          1952,
          1952,
          1956,
          1956,
          1956,
          1960,
          1960,
          1960,
          1960,
          1964,
          1964,
          1964,
          1964,
          1968,
          1968,
          1968,
          1968,
          1972,
          1972,
          1972,
          1976,
          1976,
          1976,
          1976,
          1976,
          1980,
          1980,
          1980,
          1984,
          1984,
          1984,
          1984,
          1984,
          1988,
          1988,
          1988,
          1992,
          1992,
          1992,
          1992,
          1994,
          1994,
          1994,
          1994,
          1994,
          1998,
          1998,
          1998,
          1998,
          1998,
          1998,
          2002,
          2002,
          2002,
          2002,
          2002,
          2002,
          2002,
          2006,
          2006,
          2006,
          2006,
          2006,
          2006,
          2010,
          2010,
          2010,
          2010,
          2010,
          2010,
          2010,
          2014,
          2014,
          2014,
          2014
         ],
         "legendgroup": "Silver",
         "marker": {
          "color": "#00cc96",
          "pattern": {
           "shape": ""
          }
         },
         "name": "Silver",
         "offsetgroup": "Silver",
         "orientation": "v",
         "showlegend": true,
         "textposition": "auto",
         "type": "bar",
         "x": [
          "NOR",
          "NOR",
          "SWE",
          "SWE",
          "FIN",
          "SWE",
          "NOR",
          "FIN",
          "SWE",
          "NOR",
          "FIN",
          "URS",
          "SWE",
          "FIN",
          "SWE",
          "URS",
          "NOR",
          "FIN",
          "SWE",
          "URS",
          "NOR",
          "FIN",
          "SWE",
          "URS",
          "FIN",
          "NOR",
          "URS",
          "NOR",
          "FIN",
          "USA",
          "URS",
          "NOR",
          "GDR",
          "FIN",
          "URS",
          "NOR",
          "FIN",
          "URS",
          "TCH",
          "SWE",
          "NOR",
          "FIN",
          "URS",
          "ITA",
          "NOR",
          "NOR",
          "ITA",
          "FIN",
          "EUN",
          "RUS",
          "NOR",
          "KAZ",
          "ITA",
          "FIN",
          "SWE",
          "RUS",
          "NOR",
          "CZE",
          "AUT",
          "ITA",
          "ITA",
          "NOR",
          "RUS",
          "AUT",
          "CZE",
          "GER",
          "EST",
          "RUS",
          "NOR",
          "GER",
          "FRA",
          "CZE",
          "CAN",
          "RUS",
          "SWE",
          "POL",
          "NOR",
          "ITA",
          "GER",
          "EST",
          "RUS",
          "FIN",
          "NOR",
          "SWE"
         ],
         "xaxis": "x",
         "y": [
          2,
          1,
          1,
          1,
          1,
          1,
          5,
          4,
          2,
          4,
          3,
          4,
          2,
          5,
          2,
          4,
          4,
          1,
          4,
          1,
          2,
          5,
          7,
          2,
          1,
          2,
          2,
          6,
          4,
          1,
          2,
          4,
          1,
          5,
          5,
          3,
          4,
          7,
          4,
          1,
          1,
          1,
          8,
          1,
          5,
          5,
          7,
          1,
          2,
          1,
          8,
          2,
          2,
          1,
          1,
          2,
          5,
          1,
          1,
          5,
          5,
          5,
          1,
          1,
          2,
          2,
          1,
          2,
          4,
          9,
          1,
          2,
          2,
          1,
          3,
          1,
          5,
          1,
          8,
          1,
          7,
          6,
          2,
          5
         ],
         "yaxis": "y"
        }
       ],
       "layout": {
        "annotations": [
         {
          "font": {},
          "showarrow": false,
          "text": "Medal=Silver",
          "textangle": 90,
          "x": 0.98,
          "xanchor": "left",
          "xref": "paper",
          "y": 0.15666666666666665,
          "yanchor": "middle",
          "yref": "paper"
         },
         {
          "font": {},
          "showarrow": false,
          "text": "Medal=Gold",
          "textangle": 90,
          "x": 0.98,
          "xanchor": "left",
          "xref": "paper",
          "y": 0.4999999999999999,
          "yanchor": "middle",
          "yref": "paper"
         },
         {
          "font": {},
          "showarrow": false,
          "text": "Medal=Bronze",
          "textangle": 90,
          "x": 0.98,
          "xanchor": "left",
          "xref": "paper",
          "y": 0.8433333333333332,
          "yanchor": "middle",
          "yref": "paper"
         }
        ],
        "barmode": "relative",
        "legend": {
         "title": {
          "text": "Medal"
         },
         "tracegroupgap": 0
        },
        "template": {
         "data": {
          "bar": [
           {
            "error_x": {
             "color": "#2a3f5f"
            },
            "error_y": {
             "color": "#2a3f5f"
            },
            "marker": {
             "line": {
              "color": "white",
              "width": 0.5
             },
             "pattern": {
              "fillmode": "overlay",
              "size": 10,
              "solidity": 0.2
             }
            },
            "type": "bar"
           }
          ],
          "barpolar": [
           {
            "marker": {
             "line": {
              "color": "white",
              "width": 0.5
             },
             "pattern": {
              "fillmode": "overlay",
              "size": 10,
              "solidity": 0.2
             }
            },
            "type": "barpolar"
           }
          ],
          "carpet": [
           {
            "aaxis": {
             "endlinecolor": "#2a3f5f",
             "gridcolor": "#C8D4E3",
             "linecolor": "#C8D4E3",
             "minorgridcolor": "#C8D4E3",
             "startlinecolor": "#2a3f5f"
            },
            "baxis": {
             "endlinecolor": "#2a3f5f",
             "gridcolor": "#C8D4E3",
             "linecolor": "#C8D4E3",
             "minorgridcolor": "#C8D4E3",
             "startlinecolor": "#2a3f5f"
            },
            "type": "carpet"
           }
          ],
          "choropleth": [
           {
            "colorbar": {
             "outlinewidth": 0,
             "ticks": ""
            },
            "type": "choropleth"
           }
          ],
          "contour": [
           {
            "colorbar": {
             "outlinewidth": 0,
             "ticks": ""
            },
            "colorscale": [
             [
              0,
              "#0d0887"
             ],
             [
              0.1111111111111111,
              "#46039f"
             ],
             [
              0.2222222222222222,
              "#7201a8"
             ],
             [
              0.3333333333333333,
              "#9c179e"
             ],
             [
              0.4444444444444444,
              "#bd3786"
             ],
             [
              0.5555555555555556,
              "#d8576b"
             ],
             [
              0.6666666666666666,
              "#ed7953"
             ],
             [
              0.7777777777777778,
              "#fb9f3a"
             ],
             [
              0.8888888888888888,
              "#fdca26"
             ],
             [
              1,
              "#f0f921"
             ]
            ],
            "type": "contour"
           }
          ],
          "contourcarpet": [
           {
            "colorbar": {
             "outlinewidth": 0,
             "ticks": ""
            },
            "type": "contourcarpet"
           }
          ],
          "heatmap": [
           {
            "colorbar": {
             "outlinewidth": 0,
             "ticks": ""
            },
            "colorscale": [
             [
              0,
              "#0d0887"
             ],
             [
              0.1111111111111111,
              "#46039f"
             ],
             [
              0.2222222222222222,
              "#7201a8"
             ],
             [
              0.3333333333333333,
              "#9c179e"
             ],
             [
              0.4444444444444444,
              "#bd3786"
             ],
             [
              0.5555555555555556,
              "#d8576b"
             ],
             [
              0.6666666666666666,
              "#ed7953"
             ],
             [
              0.7777777777777778,
              "#fb9f3a"
             ],
             [
              0.8888888888888888,
              "#fdca26"
             ],
             [
              1,
              "#f0f921"
             ]
            ],
            "type": "heatmap"
           }
          ],
          "heatmapgl": [
           {
            "colorbar": {
             "outlinewidth": 0,
             "ticks": ""
            },
            "colorscale": [
             [
              0,
              "#0d0887"
             ],
             [
              0.1111111111111111,
              "#46039f"
             ],
             [
              0.2222222222222222,
              "#7201a8"
             ],
             [
              0.3333333333333333,
              "#9c179e"
             ],
             [
              0.4444444444444444,
              "#bd3786"
             ],
             [
              0.5555555555555556,
              "#d8576b"
             ],
             [
              0.6666666666666666,
              "#ed7953"
             ],
             [
              0.7777777777777778,
              "#fb9f3a"
             ],
             [
              0.8888888888888888,
              "#fdca26"
             ],
             [
              1,
              "#f0f921"
             ]
            ],
            "type": "heatmapgl"
           }
          ],
          "histogram": [
           {
            "marker": {
             "pattern": {
              "fillmode": "overlay",
              "size": 10,
              "solidity": 0.2
             }
            },
            "type": "histogram"
           }
          ],
          "histogram2d": [
           {
            "colorbar": {
             "outlinewidth": 0,
             "ticks": ""
            },
            "colorscale": [
             [
              0,
              "#0d0887"
             ],
             [
              0.1111111111111111,
              "#46039f"
             ],
             [
              0.2222222222222222,
              "#7201a8"
             ],
             [
              0.3333333333333333,
              "#9c179e"
             ],
             [
              0.4444444444444444,
              "#bd3786"
             ],
             [
              0.5555555555555556,
              "#d8576b"
             ],
             [
              0.6666666666666666,
              "#ed7953"
             ],
             [
              0.7777777777777778,
              "#fb9f3a"
             ],
             [
              0.8888888888888888,
              "#fdca26"
             ],
             [
              1,
              "#f0f921"
             ]
            ],
            "type": "histogram2d"
           }
          ],
          "histogram2dcontour": [
           {
            "colorbar": {
             "outlinewidth": 0,
             "ticks": ""
            },
            "colorscale": [
             [
              0,
              "#0d0887"
             ],
             [
              0.1111111111111111,
              "#46039f"
             ],
             [
              0.2222222222222222,
              "#7201a8"
             ],
             [
              0.3333333333333333,
              "#9c179e"
             ],
             [
              0.4444444444444444,
              "#bd3786"
             ],
             [
              0.5555555555555556,
              "#d8576b"
             ],
             [
              0.6666666666666666,
              "#ed7953"
             ],
             [
              0.7777777777777778,
              "#fb9f3a"
             ],
             [
              0.8888888888888888,
              "#fdca26"
             ],
             [
              1,
              "#f0f921"
             ]
            ],
            "type": "histogram2dcontour"
           }
          ],
          "mesh3d": [
           {
            "colorbar": {
             "outlinewidth": 0,
             "ticks": ""
            },
            "type": "mesh3d"
           }
          ],
          "parcoords": [
           {
            "line": {
             "colorbar": {
              "outlinewidth": 0,
              "ticks": ""
             }
            },
            "type": "parcoords"
           }
          ],
          "pie": [
           {
            "automargin": true,
            "type": "pie"
           }
          ],
          "scatter": [
           {
            "fillpattern": {
             "fillmode": "overlay",
             "size": 10,
             "solidity": 0.2
            },
            "type": "scatter"
           }
          ],
          "scatter3d": [
           {
            "line": {
             "colorbar": {
              "outlinewidth": 0,
              "ticks": ""
             }
            },
            "marker": {
             "colorbar": {
              "outlinewidth": 0,
              "ticks": ""
             }
            },
            "type": "scatter3d"
           }
          ],
          "scattercarpet": [
           {
            "marker": {
             "colorbar": {
              "outlinewidth": 0,
              "ticks": ""
             }
            },
            "type": "scattercarpet"
           }
          ],
          "scattergeo": [
           {
            "marker": {
             "colorbar": {
              "outlinewidth": 0,
              "ticks": ""
             }
            },
            "type": "scattergeo"
           }
          ],
          "scattergl": [
           {
            "marker": {
             "colorbar": {
              "outlinewidth": 0,
              "ticks": ""
             }
            },
            "type": "scattergl"
           }
          ],
          "scattermapbox": [
           {
            "marker": {
             "colorbar": {
              "outlinewidth": 0,
              "ticks": ""
             }
            },
            "type": "scattermapbox"
           }
          ],
          "scatterpolar": [
           {
            "marker": {
             "colorbar": {
              "outlinewidth": 0,
              "ticks": ""
             }
            },
            "type": "scatterpolar"
           }
          ],
          "scatterpolargl": [
           {
            "marker": {
             "colorbar": {
              "outlinewidth": 0,
              "ticks": ""
             }
            },
            "type": "scatterpolargl"
           }
          ],
          "scatterternary": [
           {
            "marker": {
             "colorbar": {
              "outlinewidth": 0,
              "ticks": ""
             }
            },
            "type": "scatterternary"
           }
          ],
          "surface": [
           {
            "colorbar": {
             "outlinewidth": 0,
             "ticks": ""
            },
            "colorscale": [
             [
              0,
              "#0d0887"
             ],
             [
              0.1111111111111111,
              "#46039f"
             ],
             [
              0.2222222222222222,
              "#7201a8"
             ],
             [
              0.3333333333333333,
              "#9c179e"
             ],
             [
              0.4444444444444444,
              "#bd3786"
             ],
             [
              0.5555555555555556,
              "#d8576b"
             ],
             [
              0.6666666666666666,
              "#ed7953"
             ],
             [
              0.7777777777777778,
              "#fb9f3a"
             ],
             [
              0.8888888888888888,
              "#fdca26"
             ],
             [
              1,
              "#f0f921"
             ]
            ],
            "type": "surface"
           }
          ],
          "table": [
           {
            "cells": {
             "fill": {
              "color": "#EBF0F8"
             },
             "line": {
              "color": "white"
             }
            },
            "header": {
             "fill": {
              "color": "#C8D4E3"
             },
             "line": {
              "color": "white"
             }
            },
            "type": "table"
           }
          ]
         },
         "layout": {
          "annotationdefaults": {
           "arrowcolor": "#2a3f5f",
           "arrowhead": 0,
           "arrowwidth": 1
          },
          "autotypenumbers": "strict",
          "coloraxis": {
           "colorbar": {
            "outlinewidth": 0,
            "ticks": ""
           }
          },
          "colorscale": {
           "diverging": [
            [
             0,
             "#8e0152"
            ],
            [
             0.1,
             "#c51b7d"
            ],
            [
             0.2,
             "#de77ae"
            ],
            [
             0.3,
             "#f1b6da"
            ],
            [
             0.4,
             "#fde0ef"
            ],
            [
             0.5,
             "#f7f7f7"
            ],
            [
             0.6,
             "#e6f5d0"
            ],
            [
             0.7,
             "#b8e186"
            ],
            [
             0.8,
             "#7fbc41"
            ],
            [
             0.9,
             "#4d9221"
            ],
            [
             1,
             "#276419"
            ]
           ],
           "sequential": [
            [
             0,
             "#0d0887"
            ],
            [
             0.1111111111111111,
             "#46039f"
            ],
            [
             0.2222222222222222,
             "#7201a8"
            ],
            [
             0.3333333333333333,
             "#9c179e"
            ],
            [
             0.4444444444444444,
             "#bd3786"
            ],
            [
             0.5555555555555556,
             "#d8576b"
            ],
            [
             0.6666666666666666,
             "#ed7953"
            ],
            [
             0.7777777777777778,
             "#fb9f3a"
            ],
            [
             0.8888888888888888,
             "#fdca26"
            ],
            [
             1,
             "#f0f921"
            ]
           ],
           "sequentialminus": [
            [
             0,
             "#0d0887"
            ],
            [
             0.1111111111111111,
             "#46039f"
            ],
            [
             0.2222222222222222,
             "#7201a8"
            ],
            [
             0.3333333333333333,
             "#9c179e"
            ],
            [
             0.4444444444444444,
             "#bd3786"
            ],
            [
             0.5555555555555556,
             "#d8576b"
            ],
            [
             0.6666666666666666,
             "#ed7953"
            ],
            [
             0.7777777777777778,
             "#fb9f3a"
            ],
            [
             0.8888888888888888,
             "#fdca26"
            ],
            [
             1,
             "#f0f921"
            ]
           ]
          },
          "colorway": [
           "#636efa",
           "#EF553B",
           "#00cc96",
           "#ab63fa",
           "#FFA15A",
           "#19d3f3",
           "#FF6692",
           "#B6E880",
           "#FF97FF",
           "#FECB52"
          ],
          "font": {
           "color": "#2a3f5f"
          },
          "geo": {
           "bgcolor": "white",
           "lakecolor": "white",
           "landcolor": "white",
           "showlakes": true,
           "showland": true,
           "subunitcolor": "#C8D4E3"
          },
          "hoverlabel": {
           "align": "left"
          },
          "hovermode": "closest",
          "mapbox": {
           "style": "light"
          },
          "paper_bgcolor": "white",
          "plot_bgcolor": "white",
          "polar": {
           "angularaxis": {
            "gridcolor": "#EBF0F8",
            "linecolor": "#EBF0F8",
            "ticks": ""
           },
           "bgcolor": "white",
           "radialaxis": {
            "gridcolor": "#EBF0F8",
            "linecolor": "#EBF0F8",
            "ticks": ""
           }
          },
          "scene": {
           "xaxis": {
            "backgroundcolor": "white",
            "gridcolor": "#DFE8F3",
            "gridwidth": 2,
            "linecolor": "#EBF0F8",
            "showbackground": true,
            "ticks": "",
            "zerolinecolor": "#EBF0F8"
           },
           "yaxis": {
            "backgroundcolor": "white",
            "gridcolor": "#DFE8F3",
            "gridwidth": 2,
            "linecolor": "#EBF0F8",
            "showbackground": true,
            "ticks": "",
            "zerolinecolor": "#EBF0F8"
           },
           "zaxis": {
            "backgroundcolor": "white",
            "gridcolor": "#DFE8F3",
            "gridwidth": 2,
            "linecolor": "#EBF0F8",
            "showbackground": true,
            "ticks": "",
            "zerolinecolor": "#EBF0F8"
           }
          },
          "shapedefaults": {
           "line": {
            "color": "#2a3f5f"
           }
          },
          "ternary": {
           "aaxis": {
            "gridcolor": "#DFE8F3",
            "linecolor": "#A2B1C6",
            "ticks": ""
           },
           "baxis": {
            "gridcolor": "#DFE8F3",
            "linecolor": "#A2B1C6",
            "ticks": ""
           },
           "bgcolor": "white",
           "caxis": {
            "gridcolor": "#DFE8F3",
            "linecolor": "#A2B1C6",
            "ticks": ""
           }
          },
          "title": {
           "x": 0.05
          },
          "xaxis": {
           "automargin": true,
           "gridcolor": "#EBF0F8",
           "linecolor": "#EBF0F8",
           "ticks": "",
           "title": {
            "standoff": 15
           },
           "zerolinecolor": "#EBF0F8",
           "zerolinewidth": 2
          },
          "yaxis": {
           "automargin": true,
           "gridcolor": "#EBF0F8",
           "linecolor": "#EBF0F8",
           "ticks": "",
           "title": {
            "standoff": 15
           },
           "zerolinecolor": "#EBF0F8",
           "zerolinewidth": 2
          }
         }
        },
        "title": {
         "text": "Medal distribution in in Olympics for Cross Country Skiing"
        },
        "xaxis": {
         "anchor": "y",
         "domain": [
          0,
          0.98
         ],
         "title": {
          "text": "Country"
         }
        },
        "xaxis2": {
         "anchor": "y2",
         "domain": [
          0,
          0.98
         ],
         "matches": "x",
         "showticklabels": false
        },
        "xaxis3": {
         "anchor": "y3",
         "domain": [
          0,
          0.98
         ],
         "matches": "x",
         "showticklabels": false
        },
        "yaxis": {
         "anchor": "x",
         "domain": [
          0,
          0.3133333333333333
         ],
         "title": {
          "text": "Amount"
         },
         "type": "log"
        },
        "yaxis2": {
         "anchor": "x2",
         "domain": [
          0.34333333333333327,
          0.6566666666666665
         ],
         "matches": "y",
         "title": {
          "text": "Amount"
         },
         "type": "log"
        },
        "yaxis3": {
         "anchor": "x3",
         "domain": [
          0.6866666666666665,
          0.9999999999999998
         ],
         "matches": "y",
         "title": {
          "text": "Amount"
         },
         "type": "log"
        }
       }
      }
     },
     "metadata": {},
     "output_type": "display_data"
    },
    {
     "data": {
      "application/vnd.plotly.v1+json": {
       "config": {
        "plotlyServerURL": "https://plot.ly"
       },
       "data": [
        {
         "alignmentgroup": "True",
         "hovertemplate": "<b>%{hovertext}</b><br><br>Medal=Bronze<br>Country=%{x}<br>Amount=%{y}<extra></extra>",
         "hovertext": [
          1896,
          1896,
          1900,
          1900,
          1900,
          1900,
          1900,
          1906,
          1906,
          1906,
          1906,
          1906,
          1908,
          1908,
          1908,
          1908,
          1908,
          1908,
          1908,
          1912,
          1912,
          1912,
          1912,
          1912,
          1912,
          1912,
          1912,
          1920,
          1920,
          1920,
          1920,
          1920,
          1920,
          1924,
          1924,
          1924,
          1924,
          1924,
          1924,
          1924,
          1932,
          1932,
          1936,
          1936,
          1936,
          1948,
          1948,
          1952,
          1952,
          1952,
          1952,
          1952,
          1952,
          1956,
          1956,
          1956,
          1956,
          1956,
          1956,
          1956,
          1960,
          1960,
          1960,
          1960,
          1964,
          1964,
          1964,
          1964,
          1968,
          1968,
          1968,
          1968,
          1968,
          1972,
          1972,
          1972,
          1972,
          1972,
          1972,
          1972,
          1976,
          1976,
          1976,
          1976,
          1976,
          1980,
          1980,
          1980,
          1980,
          1980,
          1980,
          1984,
          1984,
          1984,
          1984,
          1984,
          1984,
          1988,
          1988,
          1988,
          1988,
          1988,
          1988,
          1988,
          1992,
          1992,
          1992,
          1992,
          1992,
          1992,
          1992,
          1992,
          1992,
          1992,
          1992,
          1996,
          1996,
          1996,
          1996,
          1996,
          1996,
          1996,
          1996,
          1996,
          1996,
          1996,
          1996,
          1996,
          2000,
          2000,
          2000,
          2000,
          2000,
          2000,
          2000,
          2000,
          2000,
          2000,
          2000,
          2004,
          2004,
          2004,
          2004,
          2004,
          2004,
          2004,
          2004,
          2004,
          2004,
          2004,
          2004,
          2008,
          2008,
          2008,
          2008,
          2008,
          2008,
          2008,
          2008,
          2008,
          2008,
          2008,
          2012,
          2012,
          2012,
          2012,
          2012,
          2012,
          2012,
          2012,
          2012,
          2012,
          2012,
          2012,
          2016,
          2016,
          2016,
          2016,
          2016,
          2016,
          2016,
          2016,
          2016
         ],
         "legendgroup": "Bronze",
         "marker": {
          "color": "#636efa",
          "pattern": {
           "shape": ""
          }
         },
         "name": "Bronze",
         "offsetgroup": "Bronze",
         "orientation": "v",
         "showlegend": true,
         "textposition": "auto",
         "type": "bar",
         "x": [
          "DEN",
          "GRE",
          "SUI",
          "NOR",
          "NED",
          "FRA",
          "BEL",
          "SWE",
          "SUI",
          "GRE",
          "GBR",
          "FRA",
          "USA",
          "SWE",
          "NOR",
          "GRE",
          "GBR",
          "FRA",
          "CAN",
          "RUS",
          "SWE",
          "USA",
          "NOR",
          "DEN",
          "FIN",
          "GER",
          "GBR",
          "USA",
          "SWE",
          "SUI",
          "FIN",
          "BRA",
          "NOR",
          "SUI",
          "USA",
          "SWE",
          "NOR",
          "FIN",
          "DEN",
          "HAI",
          "HUN",
          "ITA",
          "SWE",
          "POL",
          "FRA",
          "SWE",
          "NOR",
          "USA",
          "URS",
          "SWE",
          "HUN",
          "FIN",
          "ROU",
          "USA",
          "URS",
          "SWE",
          "ROU",
          "ITA",
          "FIN",
          "CAN",
          "VEN",
          "URS",
          "JPN",
          "GER",
          "USA",
          "TCH",
          "HUN",
          "JPN",
          "URS",
          "SUI",
          "FRG",
          "NZL",
          "GDR",
          "URS",
          "ROU",
          "ITA",
          "HUN",
          "GDR",
          "GBR",
          "AUT",
          "URS",
          "POL",
          "ITA",
          "FRG",
          "AUT",
          "URS",
          "SWE",
          "GDR",
          "CUB",
          "BUL",
          "AUT",
          "USA",
          "ITA",
          "AUS",
          "CHN",
          "FIN",
          "GBR",
          "YUG",
          "URS",
          "HUN",
          "BEL",
          "ESP",
          "CHN",
          "FRG",
          "MGL",
          "POL",
          "SWE",
          "TCH",
          "ROU",
          "JPN",
          "BUL",
          "EUN",
          "ITA",
          "GER",
          "IOA",
          "RUS",
          "POL",
          "SCG",
          "SVK",
          "USA",
          "KAZ",
          "ITA",
          "AUS",
          "AUT",
          "BUL",
          "CZE",
          "FRA",
          "CHN",
          "ROU",
          "KUW",
          "NOR",
          "RUS",
          "USA",
          "ITA",
          "HUN",
          "BLR",
          "CHN",
          "AUS",
          "CZE",
          "KOR",
          "PRK",
          "RUS",
          "SVK",
          "AUS",
          "AUT",
          "AZE",
          "BLR",
          "BUL",
          "CUB",
          "CZE",
          "CHN",
          "RUS",
          "USA",
          "SLO",
          "AUS",
          "CHN",
          "CRO",
          "CUB",
          "FIN",
          "FRA",
          "GEO",
          "GER",
          "KUW",
          "QAT",
          "RUS",
          "SRB",
          "SVK",
          "UKR",
          "USA",
          "SLO",
          "CHN",
          "FRA",
          "IND",
          "CZE",
          "PRK",
          "SUI",
          "USA",
          "RUS",
          "FRA",
          "GRE",
          "GBR",
          "CHN",
          "IOA"
         ],
         "xaxis": "x3",
         "y": [
          2,
          3,
          1,
          2,
          5,
          6,
          2,
          1,
          1,
          3,
          2,
          9,
          1,
          1,
          1,
          1,
          16,
          10,
          6,
          1,
          9,
          9,
          1,
          7,
          5,
          6,
          10,
          10,
          16,
          17,
          10,
          5,
          8,
          1,
          5,
          5,
          1,
          7,
          1,
          5,
          1,
          1,
          1,
          1,
          1,
          3,
          1,
          1,
          2,
          1,
          1,
          1,
          1,
          1,
          1,
          1,
          1,
          1,
          1,
          1,
          1,
          3,
          1,
          1,
          3,
          1,
          1,
          1,
          2,
          1,
          1,
          1,
          2,
          1,
          1,
          1,
          1,
          2,
          1,
          1,
          1,
          2,
          2,
          1,
          1,
          1,
          1,
          1,
          1,
          2,
          1,
          2,
          1,
          1,
          3,
          1,
          3,
          1,
          6,
          2,
          1,
          1,
          1,
          1,
          1,
          1,
          1,
          1,
          1,
          1,
          1,
          1,
          2,
          1,
          2,
          1,
          1,
          1,
          1,
          1,
          1,
          2,
          1,
          1,
          2,
          1,
          1,
          1,
          1,
          1,
          1,
          2,
          2,
          1,
          1,
          3,
          3,
          1,
          1,
          1,
          1,
          3,
          1,
          1,
          1,
          2,
          1,
          1,
          1,
          1,
          3,
          2,
          2,
          1,
          1,
          1,
          1,
          1,
          1,
          1,
          1,
          3,
          1,
          1,
          1,
          1,
          1,
          2,
          1,
          1,
          3,
          1,
          1,
          1,
          1,
          1,
          2,
          2,
          1,
          1,
          2,
          4,
          1
         ],
         "yaxis": "y3"
        },
        {
         "alignmentgroup": "True",
         "hovertemplate": "<b>%{hovertext}</b><br><br>Medal=Silver<br>Country=%{x}<br>Amount=%{y}<extra></extra>",
         "hovertext": [
          1896,
          1896,
          1896,
          1900,
          1900,
          1900,
          1900,
          1900,
          1906,
          1906,
          1906,
          1906,
          1906,
          1906,
          1908,
          1908,
          1908,
          1908,
          1908,
          1912,
          1912,
          1912,
          1912,
          1912,
          1912,
          1912,
          1920,
          1920,
          1920,
          1920,
          1920,
          1920,
          1920,
          1920,
          1920,
          1920,
          1924,
          1924,
          1924,
          1924,
          1924,
          1924,
          1924,
          1932,
          1932,
          1936,
          1936,
          1948,
          1948,
          1948,
          1948,
          1952,
          1952,
          1952,
          1952,
          1952,
          1952,
          1956,
          1956,
          1956,
          1956,
          1960,
          1960,
          1960,
          1960,
          1960,
          1964,
          1964,
          1964,
          1964,
          1968,
          1968,
          1968,
          1968,
          1968,
          1968,
          1972,
          1972,
          1972,
          1972,
          1972,
          1972,
          1976,
          1976,
          1976,
          1976,
          1976,
          1976,
          1980,
          1980,
          1980,
          1984,
          1984,
          1984,
          1984,
          1984,
          1984,
          1984,
          1984,
          1984,
          1984,
          1984,
          1988,
          1988,
          1988,
          1988,
          1988,
          1988,
          1988,
          1988,
          1988,
          1988,
          1988,
          1988,
          1988,
          1992,
          1992,
          1992,
          1992,
          1992,
          1992,
          1992,
          1992,
          1992,
          1992,
          1996,
          1996,
          1996,
          1996,
          1996,
          1996,
          1996,
          1996,
          1996,
          1996,
          2000,
          2000,
          2000,
          2000,
          2000,
          2000,
          2000,
          2000,
          2000,
          2000,
          2000,
          2000,
          2000,
          2000,
          2004,
          2004,
          2004,
          2004,
          2004,
          2004,
          2004,
          2004,
          2004,
          2004,
          2004,
          2008,
          2008,
          2008,
          2008,
          2008,
          2008,
          2008,
          2008,
          2008,
          2008,
          2008,
          2012,
          2012,
          2012,
          2012,
          2012,
          2012,
          2012,
          2012,
          2012,
          2012,
          2012,
          2016,
          2016,
          2016,
          2016,
          2016,
          2016,
          2016,
          2016,
          2016,
          2016,
          2016
         ],
         "legendgroup": "Silver",
         "marker": {
          "color": "#EF553B",
          "pattern": {
           "shape": ""
          }
         },
         "name": "Silver",
         "offsetgroup": "Silver",
         "orientation": "v",
         "showlegend": true,
         "textposition": "auto",
         "type": "bar",
         "x": [
          "DEN",
          "GRE",
          "USA",
          "SUI",
          "NOR",
          "FRA",
          "DEN",
          "BEL",
          "SWE",
          "SUI",
          "NOR",
          "ITA",
          "GRE",
          "FRA",
          "USA",
          "SWE",
          "CAN",
          "BEL",
          "GBR",
          "RUS",
          "NOR",
          "SWE",
          "USA",
          "GER",
          "DEN",
          "GBR",
          "SWE",
          "RSA",
          "NOR",
          "USA",
          "GRE",
          "FRA",
          "FIN",
          "DEN",
          "BRA",
          "BEL",
          "NOR",
          "USA",
          "SWE",
          "GBR",
          "FRA",
          "FIN",
          "CAN",
          "GER",
          "MEX",
          "GER",
          "HUN",
          "USA",
          "SUI",
          "FIN",
          "ARG",
          "SUI",
          "URS",
          "SWE",
          "HUN",
          "FIN",
          "ESP",
          "URS",
          "TCH",
          "SWE",
          "POL",
          "USA",
          "URS",
          "SUI",
          "ITA",
          "FIN",
          "USA",
          "URS",
          "ROU",
          "BUL",
          "ROU",
          "USA",
          "URS",
          "ITA",
          "FRG",
          "HUN",
          "USA",
          "URS",
          "TCH",
          "ROU",
          "FRA",
          "COL",
          "POR",
          "USA",
          "URS",
          "GDR",
          "FRG",
          "NED",
          "URS",
          "SWE",
          "GDR",
          "ITA",
          "PER",
          "ROU",
          "SWE",
          "USA",
          "SUI",
          "COL",
          "FRG",
          "AUT",
          "DEN",
          "FRA",
          "KOR",
          "SWE",
          "TCH",
          "URS",
          "USA",
          "JPN",
          "GDR",
          "BUL",
          "CHI",
          "CHN",
          "FRG",
          "GBR",
          "FRA",
          "PER",
          "LAT",
          "JPN",
          "USA",
          "NOR",
          "IOA",
          "BUL",
          "CHN",
          "FRA",
          "EUN",
          "KAZ",
          "POL",
          "ITA",
          "USA",
          "RUS",
          "GER",
          "BLR",
          "BUL",
          "AUT",
          "CHN",
          "KOR",
          "MDA",
          "RUS",
          "SUI",
          "ITA",
          "SCG",
          "GBR",
          "AUS",
          "BLR",
          "CHN",
          "CZE",
          "DEN",
          "FIN",
          "FRA",
          "ITA",
          "KOR",
          "SCG",
          "USA",
          "IND",
          "RUS",
          "ESP",
          "GER",
          "CHN",
          "CZE",
          "FIN",
          "KOR",
          "USA",
          "NOR",
          "RUS",
          "SVK",
          "UKR",
          "ITA",
          "MGL",
          "GER",
          "CHN",
          "CZE",
          "POL",
          "SVK",
          "SWE",
          "KOR",
          "SRB",
          "ITA",
          "CHN",
          "BEL",
          "DEN",
          "FRA",
          "IND",
          "ITA",
          "KOR",
          "NZL",
          "RUS",
          "SWE",
          "UKR",
          "GER",
          "FRA",
          "CHN",
          "BRA",
          "VIE"
         ],
         "xaxis": "x2",
         "y": [
          1,
          3,
          1,
          1,
          6,
          6,
          3,
          1,
          1,
          3,
          5,
          1,
          3,
          3,
          2,
          10,
          7,
          5,
          15,
          4,
          6,
          12,
          7,
          1,
          1,
          17,
          18,
          5,
          10,
          8,
          5,
          6,
          5,
          2,
          1,
          6,
          4,
          2,
          5,
          2,
          5,
          1,
          6,
          1,
          1,
          2,
          1,
          1,
          1,
          1,
          1,
          1,
          1,
          2,
          1,
          1,
          1,
          4,
          1,
          1,
          1,
          1,
          2,
          1,
          1,
          1,
          2,
          2,
          1,
          1,
          1,
          2,
          1,
          1,
          1,
          1,
          2,
          2,
          1,
          1,
          1,
          1,
          1,
          1,
          1,
          2,
          1,
          1,
          1,
          1,
          5,
          1,
          1,
          1,
          1,
          1,
          1,
          1,
          1,
          1,
          1,
          1,
          1,
          1,
          1,
          1,
          1,
          1,
          1,
          1,
          1,
          1,
          1,
          1,
          1,
          1,
          1,
          1,
          1,
          1,
          1,
          2,
          2,
          1,
          2,
          2,
          1,
          1,
          1,
          2,
          2,
          1,
          2,
          1,
          2,
          1,
          1,
          3,
          1,
          1,
          1,
          1,
          1,
          1,
          2,
          1,
          1,
          1,
          1,
          2,
          2,
          1,
          1,
          1,
          4,
          1,
          1,
          2,
          1,
          1,
          1,
          2,
          1,
          2,
          1,
          1,
          2,
          1,
          1,
          2,
          1,
          1,
          1,
          1,
          2,
          1,
          3,
          2,
          1,
          1,
          1,
          1,
          3,
          1,
          1,
          2,
          1,
          1,
          1,
          1,
          2,
          1,
          1
         ],
         "yaxis": "y2"
        },
        {
         "alignmentgroup": "True",
         "hovertemplate": "<b>%{hovertext}</b><br><br>Medal=Gold<br>Country=%{x}<br>Amount=%{y}<extra></extra>",
         "hovertext": [
          1896,
          1896,
          1900,
          1900,
          1900,
          1906,
          1906,
          1906,
          1906,
          1908,
          1908,
          1908,
          1908,
          1908,
          1908,
          1912,
          1912,
          1912,
          1912,
          1912,
          1920,
          1920,
          1920,
          1920,
          1920,
          1924,
          1924,
          1924,
          1924,
          1924,
          1932,
          1932,
          1936,
          1936,
          1936,
          1948,
          1948,
          1948,
          1948,
          1952,
          1952,
          1952,
          1952,
          1952,
          1952,
          1956,
          1956,
          1956,
          1956,
          1956,
          1960,
          1960,
          1960,
          1960,
          1960,
          1964,
          1964,
          1964,
          1964,
          1968,
          1968,
          1968,
          1968,
          1968,
          1968,
          1972,
          1972,
          1972,
          1972,
          1972,
          1972,
          1972,
          1976,
          1976,
          1976,
          1976,
          1976,
          1980,
          1980,
          1980,
          1980,
          1980,
          1984,
          1984,
          1984,
          1984,
          1984,
          1984,
          1984,
          1988,
          1988,
          1988,
          1988,
          1988,
          1988,
          1988,
          1988,
          1988,
          1992,
          1992,
          1992,
          1992,
          1992,
          1992,
          1996,
          1996,
          1996,
          1996,
          1996,
          1996,
          1996,
          1996,
          1996,
          2000,
          2000,
          2000,
          2000,
          2000,
          2000,
          2000,
          2000,
          2000,
          2000,
          2000,
          2000,
          2000,
          2004,
          2004,
          2004,
          2004,
          2004,
          2004,
          2004,
          2004,
          2004,
          2004,
          2008,
          2008,
          2008,
          2008,
          2008,
          2008,
          2008,
          2008,
          2012,
          2012,
          2012,
          2012,
          2012,
          2012,
          2012,
          2012,
          2012,
          2016,
          2016,
          2016,
          2016,
          2016,
          2016,
          2016,
          2016,
          2016,
          2016
         ],
         "legendgroup": "Gold",
         "marker": {
          "color": "#00cc96",
          "pattern": {
           "shape": ""
          }
         },
         "name": "Gold",
         "offsetgroup": "Gold",
         "orientation": "v",
         "showlegend": true,
         "textposition": "auto",
         "type": "bar",
         "x": [
          "GRE",
          "USA",
          "SUI",
          "FRA",
          "DEN",
          "SUI",
          "GBR",
          "FRA",
          "GRE",
          "USA",
          "SWE",
          "NOR",
          "GBR",
          "CAN",
          "BEL",
          "USA",
          "SWE",
          "FRA",
          "HUN",
          "GBR",
          "NOR",
          "USA",
          "SWE",
          "DEN",
          "BRA",
          "NOR",
          "USA",
          "HUN",
          "GBR",
          "FRA",
          "ITA",
          "SWE",
          "SWE",
          "NOR",
          "GER",
          "USA",
          "SUI",
          "HUN",
          "PER",
          "USA",
          "URS",
          "ROU",
          "CAN",
          "NOR",
          "HUN",
          "URS",
          "ROU",
          "ITA",
          "FIN",
          "CAN",
          "USA",
          "URS",
          "GER",
          "AUT",
          "ROU",
          "USA",
          "ITA",
          "HUN",
          "FIN",
          "USA",
          "URS",
          "TCH",
          "POL",
          "FRG",
          "GBR",
          "PRK",
          "URS",
          "SWE",
          "USA",
          "POL",
          "FRG",
          "ITA",
          "TCH",
          "USA",
          "URS",
          "GDR",
          "FRG",
          "URS",
          "ROU",
          "ITA",
          "DEN",
          "HUN",
          "ITA",
          "JPN",
          "USA",
          "GBR",
          "CHN",
          "CAN",
          "FRA",
          "TCH",
          "NOR",
          "ROU",
          "URS",
          "YUG",
          "GDR",
          "BUL",
          "FRG",
          "GBR",
          "KOR",
          "TCH",
          "USA",
          "CHN",
          "EUN",
          "GER",
          "POL",
          "RUS",
          "USA",
          "SCG",
          "ITA",
          "AUS",
          "CHN",
          "FRA",
          "GER",
          "LTU",
          "POL",
          "USA",
          "SLO",
          "SWE",
          "UKR",
          "RUS",
          "AUS",
          "AZE",
          "BUL",
          "FRA",
          "GBR",
          "CHN",
          "ITA",
          "RUS",
          "UAE",
          "UKR",
          "USA",
          "HUN",
          "GER",
          "BUL",
          "AUS",
          "CHN",
          "KOR",
          "UKR",
          "USA",
          "ITA",
          "CHN",
          "IND",
          "FIN",
          "CZE",
          "ROU",
          "USA",
          "KOR",
          "ITA",
          "BLR",
          "CHN",
          "CRO",
          "CUB",
          "GBR",
          "KOR",
          "USA",
          "ITA",
          "IOA",
          "GRE",
          "GER",
          "CRO",
          "CHN",
          "AUS",
          "VIE"
         ],
         "xaxis": "x",
         "y": [
          3,
          2,
          13,
          2,
          1,
          8,
          2,
          4,
          2,
          11,
          5,
          7,
          14,
          1,
          1,
          20,
          21,
          2,
          1,
          4,
          13,
          46,
          1,
          5,
          1,
          5,
          14,
          1,
          4,
          1,
          1,
          1,
          1,
          1,
          1,
          1,
          1,
          1,
          1,
          1,
          1,
          1,
          1,
          2,
          1,
          3,
          1,
          1,
          1,
          1,
          1,
          2,
          1,
          1,
          1,
          2,
          1,
          1,
          2,
          1,
          2,
          1,
          1,
          1,
          1,
          1,
          1,
          1,
          2,
          1,
          1,
          1,
          1,
          2,
          1,
          2,
          1,
          3,
          1,
          1,
          1,
          1,
          1,
          1,
          3,
          1,
          3,
          1,
          1,
          1,
          1,
          1,
          4,
          2,
          1,
          1,
          1,
          1,
          2,
          1,
          1,
          2,
          5,
          2,
          1,
          3,
          1,
          1,
          2,
          2,
          2,
          1,
          2,
          1,
          1,
          1,
          1,
          2,
          1,
          1,
          1,
          1,
          2,
          1,
          1,
          3,
          1,
          3,
          1,
          1,
          2,
          1,
          2,
          1,
          1,
          4,
          1,
          2,
          2,
          1,
          5,
          1,
          1,
          2,
          1,
          3,
          3,
          2,
          1,
          2,
          1,
          1,
          1,
          1,
          1,
          4,
          1,
          1,
          3,
          1,
          1,
          1,
          1
         ],
         "yaxis": "y"
        }
       ],
       "layout": {
        "annotations": [
         {
          "font": {},
          "showarrow": false,
          "text": "Medal=Gold",
          "textangle": 90,
          "x": 0.98,
          "xanchor": "left",
          "xref": "paper",
          "y": 0.15666666666666665,
          "yanchor": "middle",
          "yref": "paper"
         },
         {
          "font": {},
          "showarrow": false,
          "text": "Medal=Silver",
          "textangle": 90,
          "x": 0.98,
          "xanchor": "left",
          "xref": "paper",
          "y": 0.4999999999999999,
          "yanchor": "middle",
          "yref": "paper"
         },
         {
          "font": {},
          "showarrow": false,
          "text": "Medal=Bronze",
          "textangle": 90,
          "x": 0.98,
          "xanchor": "left",
          "xref": "paper",
          "y": 0.8433333333333332,
          "yanchor": "middle",
          "yref": "paper"
         }
        ],
        "barmode": "relative",
        "legend": {
         "title": {
          "text": "Medal"
         },
         "tracegroupgap": 0
        },
        "template": {
         "data": {
          "bar": [
           {
            "error_x": {
             "color": "#2a3f5f"
            },
            "error_y": {
             "color": "#2a3f5f"
            },
            "marker": {
             "line": {
              "color": "white",
              "width": 0.5
             },
             "pattern": {
              "fillmode": "overlay",
              "size": 10,
              "solidity": 0.2
             }
            },
            "type": "bar"
           }
          ],
          "barpolar": [
           {
            "marker": {
             "line": {
              "color": "white",
              "width": 0.5
             },
             "pattern": {
              "fillmode": "overlay",
              "size": 10,
              "solidity": 0.2
             }
            },
            "type": "barpolar"
           }
          ],
          "carpet": [
           {
            "aaxis": {
             "endlinecolor": "#2a3f5f",
             "gridcolor": "#C8D4E3",
             "linecolor": "#C8D4E3",
             "minorgridcolor": "#C8D4E3",
             "startlinecolor": "#2a3f5f"
            },
            "baxis": {
             "endlinecolor": "#2a3f5f",
             "gridcolor": "#C8D4E3",
             "linecolor": "#C8D4E3",
             "minorgridcolor": "#C8D4E3",
             "startlinecolor": "#2a3f5f"
            },
            "type": "carpet"
           }
          ],
          "choropleth": [
           {
            "colorbar": {
             "outlinewidth": 0,
             "ticks": ""
            },
            "type": "choropleth"
           }
          ],
          "contour": [
           {
            "colorbar": {
             "outlinewidth": 0,
             "ticks": ""
            },
            "colorscale": [
             [
              0,
              "#0d0887"
             ],
             [
              0.1111111111111111,
              "#46039f"
             ],
             [
              0.2222222222222222,
              "#7201a8"
             ],
             [
              0.3333333333333333,
              "#9c179e"
             ],
             [
              0.4444444444444444,
              "#bd3786"
             ],
             [
              0.5555555555555556,
              "#d8576b"
             ],
             [
              0.6666666666666666,
              "#ed7953"
             ],
             [
              0.7777777777777778,
              "#fb9f3a"
             ],
             [
              0.8888888888888888,
              "#fdca26"
             ],
             [
              1,
              "#f0f921"
             ]
            ],
            "type": "contour"
           }
          ],
          "contourcarpet": [
           {
            "colorbar": {
             "outlinewidth": 0,
             "ticks": ""
            },
            "type": "contourcarpet"
           }
          ],
          "heatmap": [
           {
            "colorbar": {
             "outlinewidth": 0,
             "ticks": ""
            },
            "colorscale": [
             [
              0,
              "#0d0887"
             ],
             [
              0.1111111111111111,
              "#46039f"
             ],
             [
              0.2222222222222222,
              "#7201a8"
             ],
             [
              0.3333333333333333,
              "#9c179e"
             ],
             [
              0.4444444444444444,
              "#bd3786"
             ],
             [
              0.5555555555555556,
              "#d8576b"
             ],
             [
              0.6666666666666666,
              "#ed7953"
             ],
             [
              0.7777777777777778,
              "#fb9f3a"
             ],
             [
              0.8888888888888888,
              "#fdca26"
             ],
             [
              1,
              "#f0f921"
             ]
            ],
            "type": "heatmap"
           }
          ],
          "heatmapgl": [
           {
            "colorbar": {
             "outlinewidth": 0,
             "ticks": ""
            },
            "colorscale": [
             [
              0,
              "#0d0887"
             ],
             [
              0.1111111111111111,
              "#46039f"
             ],
             [
              0.2222222222222222,
              "#7201a8"
             ],
             [
              0.3333333333333333,
              "#9c179e"
             ],
             [
              0.4444444444444444,
              "#bd3786"
             ],
             [
              0.5555555555555556,
              "#d8576b"
             ],
             [
              0.6666666666666666,
              "#ed7953"
             ],
             [
              0.7777777777777778,
              "#fb9f3a"
             ],
             [
              0.8888888888888888,
              "#fdca26"
             ],
             [
              1,
              "#f0f921"
             ]
            ],
            "type": "heatmapgl"
           }
          ],
          "histogram": [
           {
            "marker": {
             "pattern": {
              "fillmode": "overlay",
              "size": 10,
              "solidity": 0.2
             }
            },
            "type": "histogram"
           }
          ],
          "histogram2d": [
           {
            "colorbar": {
             "outlinewidth": 0,
             "ticks": ""
            },
            "colorscale": [
             [
              0,
              "#0d0887"
             ],
             [
              0.1111111111111111,
              "#46039f"
             ],
             [
              0.2222222222222222,
              "#7201a8"
             ],
             [
              0.3333333333333333,
              "#9c179e"
             ],
             [
              0.4444444444444444,
              "#bd3786"
             ],
             [
              0.5555555555555556,
              "#d8576b"
             ],
             [
              0.6666666666666666,
              "#ed7953"
             ],
             [
              0.7777777777777778,
              "#fb9f3a"
             ],
             [
              0.8888888888888888,
              "#fdca26"
             ],
             [
              1,
              "#f0f921"
             ]
            ],
            "type": "histogram2d"
           }
          ],
          "histogram2dcontour": [
           {
            "colorbar": {
             "outlinewidth": 0,
             "ticks": ""
            },
            "colorscale": [
             [
              0,
              "#0d0887"
             ],
             [
              0.1111111111111111,
              "#46039f"
             ],
             [
              0.2222222222222222,
              "#7201a8"
             ],
             [
              0.3333333333333333,
              "#9c179e"
             ],
             [
              0.4444444444444444,
              "#bd3786"
             ],
             [
              0.5555555555555556,
              "#d8576b"
             ],
             [
              0.6666666666666666,
              "#ed7953"
             ],
             [
              0.7777777777777778,
              "#fb9f3a"
             ],
             [
              0.8888888888888888,
              "#fdca26"
             ],
             [
              1,
              "#f0f921"
             ]
            ],
            "type": "histogram2dcontour"
           }
          ],
          "mesh3d": [
           {
            "colorbar": {
             "outlinewidth": 0,
             "ticks": ""
            },
            "type": "mesh3d"
           }
          ],
          "parcoords": [
           {
            "line": {
             "colorbar": {
              "outlinewidth": 0,
              "ticks": ""
             }
            },
            "type": "parcoords"
           }
          ],
          "pie": [
           {
            "automargin": true,
            "type": "pie"
           }
          ],
          "scatter": [
           {
            "fillpattern": {
             "fillmode": "overlay",
             "size": 10,
             "solidity": 0.2
            },
            "type": "scatter"
           }
          ],
          "scatter3d": [
           {
            "line": {
             "colorbar": {
              "outlinewidth": 0,
              "ticks": ""
             }
            },
            "marker": {
             "colorbar": {
              "outlinewidth": 0,
              "ticks": ""
             }
            },
            "type": "scatter3d"
           }
          ],
          "scattercarpet": [
           {
            "marker": {
             "colorbar": {
              "outlinewidth": 0,
              "ticks": ""
             }
            },
            "type": "scattercarpet"
           }
          ],
          "scattergeo": [
           {
            "marker": {
             "colorbar": {
              "outlinewidth": 0,
              "ticks": ""
             }
            },
            "type": "scattergeo"
           }
          ],
          "scattergl": [
           {
            "marker": {
             "colorbar": {
              "outlinewidth": 0,
              "ticks": ""
             }
            },
            "type": "scattergl"
           }
          ],
          "scattermapbox": [
           {
            "marker": {
             "colorbar": {
              "outlinewidth": 0,
              "ticks": ""
             }
            },
            "type": "scattermapbox"
           }
          ],
          "scatterpolar": [
           {
            "marker": {
             "colorbar": {
              "outlinewidth": 0,
              "ticks": ""
             }
            },
            "type": "scatterpolar"
           }
          ],
          "scatterpolargl": [
           {
            "marker": {
             "colorbar": {
              "outlinewidth": 0,
              "ticks": ""
             }
            },
            "type": "scatterpolargl"
           }
          ],
          "scatterternary": [
           {
            "marker": {
             "colorbar": {
              "outlinewidth": 0,
              "ticks": ""
             }
            },
            "type": "scatterternary"
           }
          ],
          "surface": [
           {
            "colorbar": {
             "outlinewidth": 0,
             "ticks": ""
            },
            "colorscale": [
             [
              0,
              "#0d0887"
             ],
             [
              0.1111111111111111,
              "#46039f"
             ],
             [
              0.2222222222222222,
              "#7201a8"
             ],
             [
              0.3333333333333333,
              "#9c179e"
             ],
             [
              0.4444444444444444,
              "#bd3786"
             ],
             [
              0.5555555555555556,
              "#d8576b"
             ],
             [
              0.6666666666666666,
              "#ed7953"
             ],
             [
              0.7777777777777778,
              "#fb9f3a"
             ],
             [
              0.8888888888888888,
              "#fdca26"
             ],
             [
              1,
              "#f0f921"
             ]
            ],
            "type": "surface"
           }
          ],
          "table": [
           {
            "cells": {
             "fill": {
              "color": "#EBF0F8"
             },
             "line": {
              "color": "white"
             }
            },
            "header": {
             "fill": {
              "color": "#C8D4E3"
             },
             "line": {
              "color": "white"
             }
            },
            "type": "table"
           }
          ]
         },
         "layout": {
          "annotationdefaults": {
           "arrowcolor": "#2a3f5f",
           "arrowhead": 0,
           "arrowwidth": 1
          },
          "autotypenumbers": "strict",
          "coloraxis": {
           "colorbar": {
            "outlinewidth": 0,
            "ticks": ""
           }
          },
          "colorscale": {
           "diverging": [
            [
             0,
             "#8e0152"
            ],
            [
             0.1,
             "#c51b7d"
            ],
            [
             0.2,
             "#de77ae"
            ],
            [
             0.3,
             "#f1b6da"
            ],
            [
             0.4,
             "#fde0ef"
            ],
            [
             0.5,
             "#f7f7f7"
            ],
            [
             0.6,
             "#e6f5d0"
            ],
            [
             0.7,
             "#b8e186"
            ],
            [
             0.8,
             "#7fbc41"
            ],
            [
             0.9,
             "#4d9221"
            ],
            [
             1,
             "#276419"
            ]
           ],
           "sequential": [
            [
             0,
             "#0d0887"
            ],
            [
             0.1111111111111111,
             "#46039f"
            ],
            [
             0.2222222222222222,
             "#7201a8"
            ],
            [
             0.3333333333333333,
             "#9c179e"
            ],
            [
             0.4444444444444444,
             "#bd3786"
            ],
            [
             0.5555555555555556,
             "#d8576b"
            ],
            [
             0.6666666666666666,
             "#ed7953"
            ],
            [
             0.7777777777777778,
             "#fb9f3a"
            ],
            [
             0.8888888888888888,
             "#fdca26"
            ],
            [
             1,
             "#f0f921"
            ]
           ],
           "sequentialminus": [
            [
             0,
             "#0d0887"
            ],
            [
             0.1111111111111111,
             "#46039f"
            ],
            [
             0.2222222222222222,
             "#7201a8"
            ],
            [
             0.3333333333333333,
             "#9c179e"
            ],
            [
             0.4444444444444444,
             "#bd3786"
            ],
            [
             0.5555555555555556,
             "#d8576b"
            ],
            [
             0.6666666666666666,
             "#ed7953"
            ],
            [
             0.7777777777777778,
             "#fb9f3a"
            ],
            [
             0.8888888888888888,
             "#fdca26"
            ],
            [
             1,
             "#f0f921"
            ]
           ]
          },
          "colorway": [
           "#636efa",
           "#EF553B",
           "#00cc96",
           "#ab63fa",
           "#FFA15A",
           "#19d3f3",
           "#FF6692",
           "#B6E880",
           "#FF97FF",
           "#FECB52"
          ],
          "font": {
           "color": "#2a3f5f"
          },
          "geo": {
           "bgcolor": "white",
           "lakecolor": "white",
           "landcolor": "white",
           "showlakes": true,
           "showland": true,
           "subunitcolor": "#C8D4E3"
          },
          "hoverlabel": {
           "align": "left"
          },
          "hovermode": "closest",
          "mapbox": {
           "style": "light"
          },
          "paper_bgcolor": "white",
          "plot_bgcolor": "white",
          "polar": {
           "angularaxis": {
            "gridcolor": "#EBF0F8",
            "linecolor": "#EBF0F8",
            "ticks": ""
           },
           "bgcolor": "white",
           "radialaxis": {
            "gridcolor": "#EBF0F8",
            "linecolor": "#EBF0F8",
            "ticks": ""
           }
          },
          "scene": {
           "xaxis": {
            "backgroundcolor": "white",
            "gridcolor": "#DFE8F3",
            "gridwidth": 2,
            "linecolor": "#EBF0F8",
            "showbackground": true,
            "ticks": "",
            "zerolinecolor": "#EBF0F8"
           },
           "yaxis": {
            "backgroundcolor": "white",
            "gridcolor": "#DFE8F3",
            "gridwidth": 2,
            "linecolor": "#EBF0F8",
            "showbackground": true,
            "ticks": "",
            "zerolinecolor": "#EBF0F8"
           },
           "zaxis": {
            "backgroundcolor": "white",
            "gridcolor": "#DFE8F3",
            "gridwidth": 2,
            "linecolor": "#EBF0F8",
            "showbackground": true,
            "ticks": "",
            "zerolinecolor": "#EBF0F8"
           }
          },
          "shapedefaults": {
           "line": {
            "color": "#2a3f5f"
           }
          },
          "ternary": {
           "aaxis": {
            "gridcolor": "#DFE8F3",
            "linecolor": "#A2B1C6",
            "ticks": ""
           },
           "baxis": {
            "gridcolor": "#DFE8F3",
            "linecolor": "#A2B1C6",
            "ticks": ""
           },
           "bgcolor": "white",
           "caxis": {
            "gridcolor": "#DFE8F3",
            "linecolor": "#A2B1C6",
            "ticks": ""
           }
          },
          "title": {
           "x": 0.05
          },
          "xaxis": {
           "automargin": true,
           "gridcolor": "#EBF0F8",
           "linecolor": "#EBF0F8",
           "ticks": "",
           "title": {
            "standoff": 15
           },
           "zerolinecolor": "#EBF0F8",
           "zerolinewidth": 2
          },
          "yaxis": {
           "automargin": true,
           "gridcolor": "#EBF0F8",
           "linecolor": "#EBF0F8",
           "ticks": "",
           "title": {
            "standoff": 15
           },
           "zerolinecolor": "#EBF0F8",
           "zerolinewidth": 2
          }
         }
        },
        "title": {
         "text": "Medal distribution in in Olympics for Shooting"
        },
        "xaxis": {
         "anchor": "y",
         "domain": [
          0,
          0.98
         ],
         "title": {
          "text": "Country"
         }
        },
        "xaxis2": {
         "anchor": "y2",
         "domain": [
          0,
          0.98
         ],
         "matches": "x",
         "showticklabels": false
        },
        "xaxis3": {
         "anchor": "y3",
         "domain": [
          0,
          0.98
         ],
         "matches": "x",
         "showticklabels": false
        },
        "yaxis": {
         "anchor": "x",
         "domain": [
          0,
          0.3133333333333333
         ],
         "title": {
          "text": "Amount"
         },
         "type": "log"
        },
        "yaxis2": {
         "anchor": "x2",
         "domain": [
          0.34333333333333327,
          0.6566666666666665
         ],
         "matches": "y",
         "title": {
          "text": "Amount"
         },
         "type": "log"
        },
        "yaxis3": {
         "anchor": "x3",
         "domain": [
          0.6866666666666665,
          0.9999999999999998
         ],
         "matches": "y",
         "title": {
          "text": "Amount"
         },
         "type": "log"
        }
       }
      }
     },
     "metadata": {},
     "output_type": "display_data"
    }
   ],
   "source": [
    "def plot_medal_distribution(df, sport_name):\n",
    "    \"\"\"\n",
    "    Plot medal distribution for a given DataFrame.\n",
    "\n",
    "    Parameters:\n",
    "    - df: DataFrame containing columns 'Year', 'NOC', 'Medal'.\n",
    "    - sport_name: Name of the sport for plot title\n",
    "\n",
    "    Returns:\n",
    "    - None (plots the data using Plotly Express).\n",
    "    \"\"\"\n",
    "    # Group by 'Year', 'NOC', and 'Medal', count the occurrences, and reset the index\n",
    "    medals_data = (\n",
    "        df.groupby(['Year', 'NOC', 'Medal'])\n",
    "        .size()\n",
    "        .reset_index(name=\"Amount\")\n",
    "        .sort_values(by='Year')\n",
    "    )\n",
    "\n",
    "    # Plot the data using Plotly Express\n",
    "    fig = px.bar(\n",
    "        medals_data,\n",
    "        x='NOC',\n",
    "        y=\"Amount\",\n",
    "        log_y=True,\n",
    "        labels={'NOC': 'Country'},\n",
    "        color='Medal',\n",
    "        facet_row='Medal',\n",
    "        hover_name='Year',\n",
    "        title=f'Medal distribution in in Olympics for {sport_name}',\n",
    "        template='plotly_white'\n",
    "    )\n",
    "    fig.show()\n",
    "\n",
    "plot_medal_distribution(df_icehockey, sport_name=\"Ice Hockey\")\n",
    "plot_medal_distribution(df_athletics, sport_name=\"Athletics\")\n",
    "plot_medal_distribution(df_cross_county_skiing, sport_name='Cross Country Skiing')\n",
    "plot_medal_distribution(df_shooting, sport_name=\"Shooting\")\n"
   ]
  },
  {
   "cell_type": "markdown",
   "metadata": {},
   "source": [
    "#### Åldersfördelning i sporterna"
   ]
  },
  {
   "cell_type": "code",
   "execution_count": null,
   "metadata": {},
   "outputs": [],
   "source": []
  },
  {
   "cell_type": "markdown",
   "metadata": {},
   "source": [
    "#### Skapa fler plots för att visualisera olika aspekter kring sporterna."
   ]
  },
  {
   "cell_type": "code",
   "execution_count": null,
   "metadata": {},
   "outputs": [],
   "source": []
  }
 ],
 "metadata": {
  "kernelspec": {
   "display_name": "OS-Project-3fF8y37l",
   "language": "python",
   "name": "python3"
  },
  "language_info": {
   "codemirror_mode": {
    "name": "ipython",
    "version": 3
   },
   "file_extension": ".py",
   "mimetype": "text/x-python",
   "name": "python",
   "nbconvert_exporter": "python",
   "pygments_lexer": "ipython3",
   "version": "3.11.5"
  },
  "orig_nbformat": 4
 },
 "nbformat": 4,
 "nbformat_minor": 2
}
