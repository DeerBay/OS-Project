{
 "cells": [
  {
   "cell_type": "markdown",
   "metadata": {},
   "source": [
    "# Sports Statistics\n",
    "\n",
    "Below you'll find statistics for the following sports:\n",
    "- Ice Hockey\n",
    "- Athletics\n",
    "- Shooting\n",
    "- Cross Country Skiing\n",
    "\n",
    "(The four sports that Sweden got the most medals in)"
   ]
  },
  {
   "cell_type": "code",
   "execution_count": 1,
   "metadata": {},
   "outputs": [],
   "source": [
    "import pandas as pd\n",
    "import plotly_express as px"
   ]
  },
  {
   "cell_type": "code",
   "execution_count": 2,
   "metadata": {},
   "outputs": [],
   "source": [
    "# Reading the athlete_events.csv file\n",
    "athlete_events = pd.read_csv(\"data/athlete_events.csv\")"
   ]
  },
  {
   "cell_type": "code",
   "execution_count": 3,
   "metadata": {},
   "outputs": [
    {
     "data": {
      "text/plain": [
       "'len(df_icehockey)=5516'"
      ]
     },
     "metadata": {},
     "output_type": "display_data"
    },
    {
     "data": {
      "text/plain": [
       "'len(df_athletics)=38624'"
      ]
     },
     "metadata": {},
     "output_type": "display_data"
    },
    {
     "data": {
      "text/plain": [
       "'len(df_shooting)=11448'"
      ]
     },
     "metadata": {},
     "output_type": "display_data"
    },
    {
     "data": {
      "text/plain": [
       "'len(df_cross_county_skiing)=9133'"
      ]
     },
     "metadata": {},
     "output_type": "display_data"
    },
    {
     "data": {
      "text/plain": [
       "'len(df_all_selected_sports)=64721'"
      ]
     },
     "metadata": {},
     "output_type": "display_data"
    }
   ],
   "source": [
    "# NOTE: Create a new DataFrame instance named df_icehockey using pandas.\n",
    "# Filter the rows from the existing DataFrame athlete_events based on the condition 'Sport == \"XX\"'.\n",
    "# The resulting DataFrame, df_icehockey, contains data specific to athletes and events in the sport \"XX\".\n",
    "df_icehockey = pd.DataFrame(athlete_events.query('Sport == \"Ice Hockey\"'))\n",
    "df_athletics = pd.DataFrame(athlete_events.query('Sport == \"Athletics\"'))\n",
    "df_shooting = pd.DataFrame(athlete_events.query('Sport == \"Shooting\"'))\n",
    "df_cross_county_skiing = pd.DataFrame(athlete_events.query('Sport == \"Cross Country Skiing\"'))\n",
    "\n",
    "selected_sports = ['Ice Hockey', 'Athletics', 'Shooting', 'Cross Country Skiing']\n",
    "df_all_selected_sports = pd.DataFrame(athlete_events.query('Sport in @selected_sports'))\n",
    "\n",
    "# NOTE: Displaying the length of the df:s using display method\n",
    "display(f\"{len(df_icehockey)=}\")\n",
    "display(f\"{len(df_athletics)=}\")\n",
    "display(f\"{len(df_shooting)=}\")\n",
    "display(f\"{len(df_cross_county_skiing)=}\")\n",
    "display(f\"{len(df_all_selected_sports)=}\")"
   ]
  },
  {
   "cell_type": "code",
   "execution_count": 4,
   "metadata": {},
   "outputs": [
    {
     "data": {
      "text/html": [
       "<div>\n",
       "<style scoped>\n",
       "    .dataframe tbody tr th:only-of-type {\n",
       "        vertical-align: middle;\n",
       "    }\n",
       "\n",
       "    .dataframe tbody tr th {\n",
       "        vertical-align: top;\n",
       "    }\n",
       "\n",
       "    .dataframe thead th {\n",
       "        text-align: right;\n",
       "    }\n",
       "</style>\n",
       "<table border=\"1\" class=\"dataframe\">\n",
       "  <thead>\n",
       "    <tr style=\"text-align: right;\">\n",
       "      <th></th>\n",
       "      <th>ID</th>\n",
       "      <th>Name</th>\n",
       "      <th>Sex</th>\n",
       "      <th>Age</th>\n",
       "      <th>Height</th>\n",
       "      <th>Weight</th>\n",
       "      <th>Team</th>\n",
       "      <th>NOC</th>\n",
       "      <th>Games</th>\n",
       "      <th>Year</th>\n",
       "      <th>Season</th>\n",
       "      <th>City</th>\n",
       "      <th>Sport</th>\n",
       "      <th>Event</th>\n",
       "      <th>Medal</th>\n",
       "    </tr>\n",
       "  </thead>\n",
       "  <tbody>\n",
       "    <tr>\n",
       "      <th>10</th>\n",
       "      <td>6</td>\n",
       "      <td>Per Knut Aaland</td>\n",
       "      <td>M</td>\n",
       "      <td>31.0</td>\n",
       "      <td>188.0</td>\n",
       "      <td>75.0</td>\n",
       "      <td>United States</td>\n",
       "      <td>USA</td>\n",
       "      <td>1992 Winter</td>\n",
       "      <td>1992</td>\n",
       "      <td>Winter</td>\n",
       "      <td>Albertville</td>\n",
       "      <td>Cross Country Skiing</td>\n",
       "      <td>Cross Country Skiing Men's 10 kilometres</td>\n",
       "      <td>NaN</td>\n",
       "    </tr>\n",
       "    <tr>\n",
       "      <th>11</th>\n",
       "      <td>6</td>\n",
       "      <td>Per Knut Aaland</td>\n",
       "      <td>M</td>\n",
       "      <td>31.0</td>\n",
       "      <td>188.0</td>\n",
       "      <td>75.0</td>\n",
       "      <td>United States</td>\n",
       "      <td>USA</td>\n",
       "      <td>1992 Winter</td>\n",
       "      <td>1992</td>\n",
       "      <td>Winter</td>\n",
       "      <td>Albertville</td>\n",
       "      <td>Cross Country Skiing</td>\n",
       "      <td>Cross Country Skiing Men's 50 kilometres</td>\n",
       "      <td>NaN</td>\n",
       "    </tr>\n",
       "    <tr>\n",
       "      <th>12</th>\n",
       "      <td>6</td>\n",
       "      <td>Per Knut Aaland</td>\n",
       "      <td>M</td>\n",
       "      <td>31.0</td>\n",
       "      <td>188.0</td>\n",
       "      <td>75.0</td>\n",
       "      <td>United States</td>\n",
       "      <td>USA</td>\n",
       "      <td>1992 Winter</td>\n",
       "      <td>1992</td>\n",
       "      <td>Winter</td>\n",
       "      <td>Albertville</td>\n",
       "      <td>Cross Country Skiing</td>\n",
       "      <td>Cross Country Skiing Men's 10/15 kilometres Pu...</td>\n",
       "      <td>NaN</td>\n",
       "    </tr>\n",
       "    <tr>\n",
       "      <th>13</th>\n",
       "      <td>6</td>\n",
       "      <td>Per Knut Aaland</td>\n",
       "      <td>M</td>\n",
       "      <td>31.0</td>\n",
       "      <td>188.0</td>\n",
       "      <td>75.0</td>\n",
       "      <td>United States</td>\n",
       "      <td>USA</td>\n",
       "      <td>1992 Winter</td>\n",
       "      <td>1992</td>\n",
       "      <td>Winter</td>\n",
       "      <td>Albertville</td>\n",
       "      <td>Cross Country Skiing</td>\n",
       "      <td>Cross Country Skiing Men's 4 x 10 kilometres R...</td>\n",
       "      <td>NaN</td>\n",
       "    </tr>\n",
       "    <tr>\n",
       "      <th>14</th>\n",
       "      <td>6</td>\n",
       "      <td>Per Knut Aaland</td>\n",
       "      <td>M</td>\n",
       "      <td>33.0</td>\n",
       "      <td>188.0</td>\n",
       "      <td>75.0</td>\n",
       "      <td>United States</td>\n",
       "      <td>USA</td>\n",
       "      <td>1994 Winter</td>\n",
       "      <td>1994</td>\n",
       "      <td>Winter</td>\n",
       "      <td>Lillehammer</td>\n",
       "      <td>Cross Country Skiing</td>\n",
       "      <td>Cross Country Skiing Men's 10 kilometres</td>\n",
       "      <td>NaN</td>\n",
       "    </tr>\n",
       "  </tbody>\n",
       "</table>\n",
       "</div>"
      ],
      "text/plain": [
       "    ID             Name Sex   Age  Height  Weight           Team  NOC  \\\n",
       "10   6  Per Knut Aaland   M  31.0   188.0    75.0  United States  USA   \n",
       "11   6  Per Knut Aaland   M  31.0   188.0    75.0  United States  USA   \n",
       "12   6  Per Knut Aaland   M  31.0   188.0    75.0  United States  USA   \n",
       "13   6  Per Knut Aaland   M  31.0   188.0    75.0  United States  USA   \n",
       "14   6  Per Knut Aaland   M  33.0   188.0    75.0  United States  USA   \n",
       "\n",
       "          Games  Year  Season         City                 Sport  \\\n",
       "10  1992 Winter  1992  Winter  Albertville  Cross Country Skiing   \n",
       "11  1992 Winter  1992  Winter  Albertville  Cross Country Skiing   \n",
       "12  1992 Winter  1992  Winter  Albertville  Cross Country Skiing   \n",
       "13  1992 Winter  1992  Winter  Albertville  Cross Country Skiing   \n",
       "14  1994 Winter  1994  Winter  Lillehammer  Cross Country Skiing   \n",
       "\n",
       "                                                Event Medal  \n",
       "10           Cross Country Skiing Men's 10 kilometres   NaN  \n",
       "11           Cross Country Skiing Men's 50 kilometres   NaN  \n",
       "12  Cross Country Skiing Men's 10/15 kilometres Pu...   NaN  \n",
       "13  Cross Country Skiing Men's 4 x 10 kilometres R...   NaN  \n",
       "14           Cross Country Skiing Men's 10 kilometres   NaN  "
      ]
     },
     "execution_count": 4,
     "metadata": {},
     "output_type": "execute_result"
    }
   ],
   "source": [
    "df_all_selected_sports.head()"
   ]
  },
  {
   "cell_type": "markdown",
   "metadata": {},
   "source": [
    "#### Medaljfördelning mellan länder i sporterna"
   ]
  },
  {
   "cell_type": "code",
   "execution_count": 5,
   "metadata": {},
   "outputs": [
    {
     "data": {
      "application/vnd.plotly.v1+json": {
       "config": {
        "plotlyServerURL": "https://plot.ly"
       },
       "data": [
        {
         "alignmentgroup": "True",
         "bingroup": "x",
         "histfunc": "sum",
         "hovertemplate": "Sport=Athletics<br>NOC=%{x}<br>sum of Number of Medals=%{y}<extra></extra>",
         "legendgroup": "Athletics",
         "marker": {
          "color": "#636efa",
          "pattern": {
           "shape": ""
          }
         },
         "name": "Athletics",
         "offsetgroup": "Athletics",
         "orientation": "v",
         "showlegend": true,
         "type": "histogram",
         "x": [
          "ALG",
          "ALG",
          "ALG",
          "ANZ",
          "ARG",
          "ARG",
          "AUS",
          "AUS",
          "AUS",
          "AUT",
          "AUT",
          "AUT",
          "BAH",
          "BAH",
          "BAH",
          "BAR",
          "BDI",
          "BDI",
          "BEL",
          "BEL",
          "BEL",
          "BLR",
          "BLR",
          "BLR",
          "BOH",
          "BOT",
          "BRA",
          "BRA",
          "BRA",
          "BRN",
          "BRN",
          "BRN",
          "BUL",
          "BUL",
          "BUL",
          "CAN",
          "CAN",
          "CAN",
          "CHI",
          "CHN",
          "CHN",
          "CHN",
          "CIV",
          "CMR",
          "COL",
          "COL",
          "COL",
          "CRO",
          "CRO",
          "CRO",
          "CUB",
          "CUB",
          "CUB",
          "CZE",
          "CZE",
          "CZE",
          "DEN",
          "DEN",
          "DJI",
          "DOM",
          "DOM",
          "ECU",
          "ECU",
          "ERI",
          "ESP",
          "ESP",
          "ESP",
          "EST",
          "EST",
          "EST",
          "ETH",
          "ETH",
          "ETH",
          "EUN",
          "EUN",
          "EUN",
          "FIN",
          "FIN",
          "FIN",
          "FRA",
          "FRA",
          "FRA",
          "FRG",
          "FRG",
          "FRG",
          "GBR",
          "GBR",
          "GBR",
          "GDR",
          "GDR",
          "GDR",
          "GER",
          "GER",
          "GER",
          "GRE",
          "GRE",
          "GRE",
          "GRN",
          "GRN",
          "GUA",
          "HAI",
          "HUN",
          "HUN",
          "HUN",
          "IND",
          "IRI",
          "IRL",
          "IRL",
          "ISL",
          "ISL",
          "ITA",
          "ITA",
          "ITA",
          "JAM",
          "JAM",
          "JAM",
          "JPN",
          "JPN",
          "JPN",
          "KAZ",
          "KAZ",
          "KEN",
          "KEN",
          "KEN",
          "KOR",
          "KOR",
          "KSA",
          "LAT",
          "LAT",
          "LTU",
          "LTU",
          "LTU",
          "LUX",
          "MAR",
          "MAR",
          "MAR",
          "MEX",
          "MEX",
          "MEX",
          "MOZ",
          "MOZ",
          "NAM",
          "NED",
          "NED",
          "NED",
          "NGR",
          "NGR",
          "NGR",
          "NOR",
          "NOR",
          "NOR",
          "NZL",
          "NZL",
          "NZL",
          "PAN",
          "PAN",
          "PHI",
          "POL",
          "POL",
          "POL",
          "POR",
          "POR",
          "POR",
          "PUR",
          "QAT",
          "QAT",
          "ROU",
          "ROU",
          "ROU",
          "RSA",
          "RSA",
          "RSA",
          "RUS",
          "RUS",
          "RUS",
          "SEN",
          "SLO",
          "SLO",
          "SLO",
          "SRB",
          "SRI",
          "SUD",
          "SUI",
          "SUI",
          "SVK",
          "SWE",
          "SWE",
          "SWE",
          "SYR",
          "TAN",
          "TCH",
          "TCH",
          "TCH",
          "TJK",
          "TPE",
          "TPE",
          "TTO",
          "TTO",
          "TTO",
          "TUN",
          "TUN",
          "TUN",
          "TUR",
          "TUR",
          "TUR",
          "UGA",
          "UGA",
          "UKR",
          "UKR",
          "UKR",
          "URS",
          "URS",
          "URS",
          "USA",
          "USA",
          "USA",
          "VEN",
          "VEN",
          "WIF",
          "YUG",
          "ZAM"
         ],
         "xaxis": "x",
         "y": [
          2,
          4,
          3,
          1,
          2,
          3,
          28,
          24,
          37,
          4,
          1,
          2,
          13,
          12,
          11,
          1,
          1,
          1,
          2,
          4,
          10,
          7,
          4,
          6,
          1,
          1,
          14,
          5,
          7,
          1,
          1,
          1,
          6,
          5,
          8,
          50,
          22,
          26,
          2,
          14,
          8,
          5,
          1,
          2,
          1,
          1,
          1,
          1,
          3,
          1,
          25,
          10,
          23,
          6,
          5,
          1,
          3,
          4,
          1,
          2,
          1,
          1,
          1,
          1,
          6,
          3,
          5,
          3,
          2,
          1,
          22,
          22,
          9,
          3,
          12,
          14,
          32,
          64,
          42,
          62,
          14,
          40,
          39,
          15,
          17,
          127,
          78,
          133,
          39,
          50,
          51,
          65,
          25,
          64,
          15,
          8,
          14,
          1,
          1,
          1,
          1,
          26,
          11,
          15,
          2,
          1,
          4,
          2,
          1,
          1,
          35,
          19,
          18,
          43,
          38,
          75,
          9,
          7,
          15,
          2,
          2,
          26,
          33,
          40,
          1,
          1,
          1,
          1,
          4,
          1,
          3,
          1,
          2,
          8,
          6,
          5,
          2,
          3,
          6,
          1,
          1,
          4,
          9,
          9,
          4,
          24,
          7,
          10,
          8,
          7,
          5,
          11,
          10,
          3,
          2,
          1,
          2,
          17,
          27,
          28,
          4,
          4,
          2,
          1,
          2,
          1,
          10,
          11,
          14,
          6,
          8,
          17,
          29,
          29,
          45,
          1,
          1,
          1,
          2,
          1,
          2,
          1,
          2,
          6,
          1,
          61,
          32,
          35,
          1,
          2,
          5,
          11,
          8,
          1,
          1,
          1,
          14,
          7,
          7,
          1,
          1,
          3,
          3,
          1,
          2,
          1,
          2,
          16,
          2,
          3,
          89,
          83,
          70,
          221,
          542,
          317,
          1,
          1,
          5,
          2,
          1
         ],
         "yaxis": "y"
        },
        {
         "alignmentgroup": "True",
         "bingroup": "x",
         "histfunc": "sum",
         "hovertemplate": "Sport=Shooting<br>NOC=%{x}<br>sum of Number of Medals=%{y}<extra></extra>",
         "legendgroup": "Shooting",
         "marker": {
          "color": "#EF553B",
          "pattern": {
           "shape": ""
          }
         },
         "name": "Shooting",
         "offsetgroup": "Shooting",
         "orientation": "v",
         "showlegend": true,
         "type": "histogram",
         "x": [
          "ARG",
          "AUS",
          "AUS",
          "AUS",
          "AUT",
          "AUT",
          "AUT",
          "AZE",
          "AZE",
          "BEL",
          "BEL",
          "BEL",
          "BLR",
          "BLR",
          "BLR",
          "BRA",
          "BRA",
          "BRA",
          "BUL",
          "BUL",
          "BUL",
          "CAN",
          "CAN",
          "CAN",
          "CHI",
          "CHN",
          "CHN",
          "CHN",
          "COL",
          "CRO",
          "CRO",
          "CUB",
          "CUB",
          "CZE",
          "CZE",
          "CZE",
          "DEN",
          "DEN",
          "DEN",
          "ESP",
          "ESP",
          "EUN",
          "EUN",
          "EUN",
          "FIN",
          "FIN",
          "FIN",
          "FRA",
          "FRA",
          "FRA",
          "FRG",
          "FRG",
          "FRG",
          "GBR",
          "GBR",
          "GBR",
          "GDR",
          "GDR",
          "GDR",
          "GEO",
          "GER",
          "GER",
          "GER",
          "GRE",
          "GRE",
          "GRE",
          "HAI",
          "HUN",
          "HUN",
          "HUN",
          "IND",
          "IND",
          "IND",
          "IOA",
          "IOA",
          "IOA",
          "ITA",
          "ITA",
          "ITA",
          "JPN",
          "JPN",
          "JPN",
          "KAZ",
          "KAZ",
          "KOR",
          "KOR",
          "KOR",
          "KUW",
          "LAT",
          "LTU",
          "MDA",
          "MEX",
          "MGL",
          "MGL",
          "NED",
          "NED",
          "NOR",
          "NOR",
          "NOR",
          "NZL",
          "NZL",
          "PER",
          "PER",
          "POL",
          "POL",
          "POL",
          "POR",
          "PRK",
          "PRK",
          "QAT",
          "ROU",
          "ROU",
          "ROU",
          "RSA",
          "RUS",
          "RUS",
          "RUS",
          "SCG",
          "SCG",
          "SCG",
          "SLO",
          "SLO",
          "SRB",
          "SRB",
          "SUI",
          "SUI",
          "SUI",
          "SVK",
          "SVK",
          "SWE",
          "SWE",
          "SWE",
          "TCH",
          "TCH",
          "TCH",
          "UAE",
          "UKR",
          "UKR",
          "UKR",
          "URS",
          "URS",
          "URS",
          "USA",
          "USA",
          "USA",
          "VEN",
          "VIE",
          "VIE",
          "YUG",
          "YUG"
         ],
         "xaxis": "x",
         "y": [
          1,
          5,
          5,
          1,
          5,
          1,
          2,
          2,
          1,
          3,
          1,
          13,
          4,
          1,
          2,
          5,
          1,
          2,
          6,
          4,
          6,
          7,
          4,
          13,
          1,
          19,
          22,
          15,
          2,
          1,
          2,
          3,
          1,
          4,
          2,
          3,
          10,
          7,
          10,
          1,
          2,
          1,
          5,
          2,
          26,
          4,
          11,
          30,
          12,
          27,
          3,
          4,
          4,
          34,
          29,
          36,
          5,
          3,
          8,
          1,
          11,
          11,
          9,
          8,
          6,
          11,
          5,
          7,
          7,
          3,
          1,
          1,
          2,
          3,
          1,
          1,
          11,
          16,
          16,
          3,
          1,
          2,
          1,
          2,
          1,
          7,
          8,
          2,
          1,
          1,
          1,
          1,
          1,
          1,
          5,
          1,
          15,
          29,
          33,
          1,
          1,
          1,
          2,
          5,
          4,
          3,
          1,
          2,
          1,
          1,
          5,
          6,
          4,
          5,
          12,
          7,
          17,
          1,
          1,
          2,
          2,
          1,
          1,
          1,
          22,
          22,
          9,
          3,
          2,
          40,
          32,
          54,
          2,
          4,
          3,
          1,
          2,
          4,
          2,
          17,
          17,
          15,
          40,
          117,
          36,
          1,
          1,
          1,
          1,
          2
         ],
         "yaxis": "y"
        },
        {
         "alignmentgroup": "True",
         "bingroup": "x",
         "histfunc": "sum",
         "hovertemplate": "Sport=Cross Country Skiing<br>NOC=%{x}<br>sum of Number of Medals=%{y}<extra></extra>",
         "legendgroup": "Cross Country Skiing",
         "marker": {
          "color": "#00cc96",
          "pattern": {
           "shape": ""
          }
         },
         "name": "Cross Country Skiing",
         "offsetgroup": "Cross Country Skiing",
         "orientation": "v",
         "showlegend": true,
         "type": "histogram",
         "x": [
          "AUT",
          "AUT",
          "AUT",
          "BUL",
          "CAN",
          "CAN",
          "CZE",
          "CZE",
          "CZE",
          "EST",
          "EST",
          "EST",
          "EUN",
          "EUN",
          "EUN",
          "FIN",
          "FIN",
          "FIN",
          "FRA",
          "FRA",
          "GDR",
          "GDR",
          "GDR",
          "GER",
          "GER",
          "GER",
          "ITA",
          "ITA",
          "ITA",
          "KAZ",
          "KAZ",
          "KAZ",
          "NOR",
          "NOR",
          "NOR",
          "POL",
          "POL",
          "POL",
          "RUS",
          "RUS",
          "RUS",
          "SLO",
          "SUI",
          "SUI",
          "SWE",
          "SWE",
          "SWE",
          "TCH",
          "TCH",
          "URS",
          "URS",
          "URS",
          "USA"
         ],
         "xaxis": "x",
         "y": [
          2,
          1,
          2,
          1,
          2,
          2,
          6,
          1,
          5,
          1,
          4,
          2,
          4,
          6,
          2,
          64,
          35,
          42,
          4,
          1,
          4,
          5,
          1,
          10,
          6,
          19,
          25,
          15,
          21,
          1,
          1,
          2,
          37,
          54,
          73,
          2,
          2,
          1,
          12,
          23,
          14,
          2,
          10,
          3,
          39,
          54,
          30,
          7,
          4,
          32,
          44,
          35,
          1
         ],
         "yaxis": "y"
        },
        {
         "alignmentgroup": "True",
         "bingroup": "x",
         "histfunc": "sum",
         "hovertemplate": "Sport=Ice Hockey<br>NOC=%{x}<br>sum of Number of Medals=%{y}<extra></extra>",
         "legendgroup": "Ice Hockey",
         "marker": {
          "color": "#ab63fa",
          "pattern": {
           "shape": ""
          }
         },
         "name": "Ice Hockey",
         "offsetgroup": "Ice Hockey",
         "orientation": "v",
         "showlegend": true,
         "type": "histogram",
         "x": [
          "CAN",
          "CAN",
          "CAN",
          "CZE",
          "CZE",
          "EUN",
          "FIN",
          "FIN",
          "FRG",
          "GBR",
          "GBR",
          "GER",
          "RUS",
          "RUS",
          "SUI",
          "SWE",
          "SWE",
          "SWE",
          "TCH",
          "TCH",
          "URS",
          "URS",
          "URS",
          "USA",
          "USA",
          "USA"
         ],
         "xaxis": "x",
         "y": [
          35,
          220,
          93,
          24,
          21,
          22,
          129,
          45,
          18,
          10,
          12,
          10,
          21,
          22,
          48,
          99,
          46,
          72,
          65,
          74,
          17,
          131,
          20,
          31,
          56,
          189
         ],
         "yaxis": "y"
        }
       ],
       "layout": {
        "bargap": 0.01,
        "barmode": "group",
        "legend": {
         "title": {
          "text": "Sport"
         },
         "tracegroupgap": 0
        },
        "template": {
         "data": {
          "bar": [
           {
            "error_x": {
             "color": "#2a3f5f"
            },
            "error_y": {
             "color": "#2a3f5f"
            },
            "marker": {
             "line": {
              "color": "#E5ECF6",
              "width": 0.5
             },
             "pattern": {
              "fillmode": "overlay",
              "size": 10,
              "solidity": 0.2
             }
            },
            "type": "bar"
           }
          ],
          "barpolar": [
           {
            "marker": {
             "line": {
              "color": "#E5ECF6",
              "width": 0.5
             },
             "pattern": {
              "fillmode": "overlay",
              "size": 10,
              "solidity": 0.2
             }
            },
            "type": "barpolar"
           }
          ],
          "carpet": [
           {
            "aaxis": {
             "endlinecolor": "#2a3f5f",
             "gridcolor": "white",
             "linecolor": "white",
             "minorgridcolor": "white",
             "startlinecolor": "#2a3f5f"
            },
            "baxis": {
             "endlinecolor": "#2a3f5f",
             "gridcolor": "white",
             "linecolor": "white",
             "minorgridcolor": "white",
             "startlinecolor": "#2a3f5f"
            },
            "type": "carpet"
           }
          ],
          "choropleth": [
           {
            "colorbar": {
             "outlinewidth": 0,
             "ticks": ""
            },
            "type": "choropleth"
           }
          ],
          "contour": [
           {
            "colorbar": {
             "outlinewidth": 0,
             "ticks": ""
            },
            "colorscale": [
             [
              0,
              "#0d0887"
             ],
             [
              0.1111111111111111,
              "#46039f"
             ],
             [
              0.2222222222222222,
              "#7201a8"
             ],
             [
              0.3333333333333333,
              "#9c179e"
             ],
             [
              0.4444444444444444,
              "#bd3786"
             ],
             [
              0.5555555555555556,
              "#d8576b"
             ],
             [
              0.6666666666666666,
              "#ed7953"
             ],
             [
              0.7777777777777778,
              "#fb9f3a"
             ],
             [
              0.8888888888888888,
              "#fdca26"
             ],
             [
              1,
              "#f0f921"
             ]
            ],
            "type": "contour"
           }
          ],
          "contourcarpet": [
           {
            "colorbar": {
             "outlinewidth": 0,
             "ticks": ""
            },
            "type": "contourcarpet"
           }
          ],
          "heatmap": [
           {
            "colorbar": {
             "outlinewidth": 0,
             "ticks": ""
            },
            "colorscale": [
             [
              0,
              "#0d0887"
             ],
             [
              0.1111111111111111,
              "#46039f"
             ],
             [
              0.2222222222222222,
              "#7201a8"
             ],
             [
              0.3333333333333333,
              "#9c179e"
             ],
             [
              0.4444444444444444,
              "#bd3786"
             ],
             [
              0.5555555555555556,
              "#d8576b"
             ],
             [
              0.6666666666666666,
              "#ed7953"
             ],
             [
              0.7777777777777778,
              "#fb9f3a"
             ],
             [
              0.8888888888888888,
              "#fdca26"
             ],
             [
              1,
              "#f0f921"
             ]
            ],
            "type": "heatmap"
           }
          ],
          "heatmapgl": [
           {
            "colorbar": {
             "outlinewidth": 0,
             "ticks": ""
            },
            "colorscale": [
             [
              0,
              "#0d0887"
             ],
             [
              0.1111111111111111,
              "#46039f"
             ],
             [
              0.2222222222222222,
              "#7201a8"
             ],
             [
              0.3333333333333333,
              "#9c179e"
             ],
             [
              0.4444444444444444,
              "#bd3786"
             ],
             [
              0.5555555555555556,
              "#d8576b"
             ],
             [
              0.6666666666666666,
              "#ed7953"
             ],
             [
              0.7777777777777778,
              "#fb9f3a"
             ],
             [
              0.8888888888888888,
              "#fdca26"
             ],
             [
              1,
              "#f0f921"
             ]
            ],
            "type": "heatmapgl"
           }
          ],
          "histogram": [
           {
            "marker": {
             "pattern": {
              "fillmode": "overlay",
              "size": 10,
              "solidity": 0.2
             }
            },
            "type": "histogram"
           }
          ],
          "histogram2d": [
           {
            "colorbar": {
             "outlinewidth": 0,
             "ticks": ""
            },
            "colorscale": [
             [
              0,
              "#0d0887"
             ],
             [
              0.1111111111111111,
              "#46039f"
             ],
             [
              0.2222222222222222,
              "#7201a8"
             ],
             [
              0.3333333333333333,
              "#9c179e"
             ],
             [
              0.4444444444444444,
              "#bd3786"
             ],
             [
              0.5555555555555556,
              "#d8576b"
             ],
             [
              0.6666666666666666,
              "#ed7953"
             ],
             [
              0.7777777777777778,
              "#fb9f3a"
             ],
             [
              0.8888888888888888,
              "#fdca26"
             ],
             [
              1,
              "#f0f921"
             ]
            ],
            "type": "histogram2d"
           }
          ],
          "histogram2dcontour": [
           {
            "colorbar": {
             "outlinewidth": 0,
             "ticks": ""
            },
            "colorscale": [
             [
              0,
              "#0d0887"
             ],
             [
              0.1111111111111111,
              "#46039f"
             ],
             [
              0.2222222222222222,
              "#7201a8"
             ],
             [
              0.3333333333333333,
              "#9c179e"
             ],
             [
              0.4444444444444444,
              "#bd3786"
             ],
             [
              0.5555555555555556,
              "#d8576b"
             ],
             [
              0.6666666666666666,
              "#ed7953"
             ],
             [
              0.7777777777777778,
              "#fb9f3a"
             ],
             [
              0.8888888888888888,
              "#fdca26"
             ],
             [
              1,
              "#f0f921"
             ]
            ],
            "type": "histogram2dcontour"
           }
          ],
          "mesh3d": [
           {
            "colorbar": {
             "outlinewidth": 0,
             "ticks": ""
            },
            "type": "mesh3d"
           }
          ],
          "parcoords": [
           {
            "line": {
             "colorbar": {
              "outlinewidth": 0,
              "ticks": ""
             }
            },
            "type": "parcoords"
           }
          ],
          "pie": [
           {
            "automargin": true,
            "type": "pie"
           }
          ],
          "scatter": [
           {
            "fillpattern": {
             "fillmode": "overlay",
             "size": 10,
             "solidity": 0.2
            },
            "type": "scatter"
           }
          ],
          "scatter3d": [
           {
            "line": {
             "colorbar": {
              "outlinewidth": 0,
              "ticks": ""
             }
            },
            "marker": {
             "colorbar": {
              "outlinewidth": 0,
              "ticks": ""
             }
            },
            "type": "scatter3d"
           }
          ],
          "scattercarpet": [
           {
            "marker": {
             "colorbar": {
              "outlinewidth": 0,
              "ticks": ""
             }
            },
            "type": "scattercarpet"
           }
          ],
          "scattergeo": [
           {
            "marker": {
             "colorbar": {
              "outlinewidth": 0,
              "ticks": ""
             }
            },
            "type": "scattergeo"
           }
          ],
          "scattergl": [
           {
            "marker": {
             "colorbar": {
              "outlinewidth": 0,
              "ticks": ""
             }
            },
            "type": "scattergl"
           }
          ],
          "scattermapbox": [
           {
            "marker": {
             "colorbar": {
              "outlinewidth": 0,
              "ticks": ""
             }
            },
            "type": "scattermapbox"
           }
          ],
          "scatterpolar": [
           {
            "marker": {
             "colorbar": {
              "outlinewidth": 0,
              "ticks": ""
             }
            },
            "type": "scatterpolar"
           }
          ],
          "scatterpolargl": [
           {
            "marker": {
             "colorbar": {
              "outlinewidth": 0,
              "ticks": ""
             }
            },
            "type": "scatterpolargl"
           }
          ],
          "scatterternary": [
           {
            "marker": {
             "colorbar": {
              "outlinewidth": 0,
              "ticks": ""
             }
            },
            "type": "scatterternary"
           }
          ],
          "surface": [
           {
            "colorbar": {
             "outlinewidth": 0,
             "ticks": ""
            },
            "colorscale": [
             [
              0,
              "#0d0887"
             ],
             [
              0.1111111111111111,
              "#46039f"
             ],
             [
              0.2222222222222222,
              "#7201a8"
             ],
             [
              0.3333333333333333,
              "#9c179e"
             ],
             [
              0.4444444444444444,
              "#bd3786"
             ],
             [
              0.5555555555555556,
              "#d8576b"
             ],
             [
              0.6666666666666666,
              "#ed7953"
             ],
             [
              0.7777777777777778,
              "#fb9f3a"
             ],
             [
              0.8888888888888888,
              "#fdca26"
             ],
             [
              1,
              "#f0f921"
             ]
            ],
            "type": "surface"
           }
          ],
          "table": [
           {
            "cells": {
             "fill": {
              "color": "#EBF0F8"
             },
             "line": {
              "color": "white"
             }
            },
            "header": {
             "fill": {
              "color": "#C8D4E3"
             },
             "line": {
              "color": "white"
             }
            },
            "type": "table"
           }
          ]
         },
         "layout": {
          "annotationdefaults": {
           "arrowcolor": "#2a3f5f",
           "arrowhead": 0,
           "arrowwidth": 1
          },
          "autotypenumbers": "strict",
          "coloraxis": {
           "colorbar": {
            "outlinewidth": 0,
            "ticks": ""
           }
          },
          "colorscale": {
           "diverging": [
            [
             0,
             "#8e0152"
            ],
            [
             0.1,
             "#c51b7d"
            ],
            [
             0.2,
             "#de77ae"
            ],
            [
             0.3,
             "#f1b6da"
            ],
            [
             0.4,
             "#fde0ef"
            ],
            [
             0.5,
             "#f7f7f7"
            ],
            [
             0.6,
             "#e6f5d0"
            ],
            [
             0.7,
             "#b8e186"
            ],
            [
             0.8,
             "#7fbc41"
            ],
            [
             0.9,
             "#4d9221"
            ],
            [
             1,
             "#276419"
            ]
           ],
           "sequential": [
            [
             0,
             "#0d0887"
            ],
            [
             0.1111111111111111,
             "#46039f"
            ],
            [
             0.2222222222222222,
             "#7201a8"
            ],
            [
             0.3333333333333333,
             "#9c179e"
            ],
            [
             0.4444444444444444,
             "#bd3786"
            ],
            [
             0.5555555555555556,
             "#d8576b"
            ],
            [
             0.6666666666666666,
             "#ed7953"
            ],
            [
             0.7777777777777778,
             "#fb9f3a"
            ],
            [
             0.8888888888888888,
             "#fdca26"
            ],
            [
             1,
             "#f0f921"
            ]
           ],
           "sequentialminus": [
            [
             0,
             "#0d0887"
            ],
            [
             0.1111111111111111,
             "#46039f"
            ],
            [
             0.2222222222222222,
             "#7201a8"
            ],
            [
             0.3333333333333333,
             "#9c179e"
            ],
            [
             0.4444444444444444,
             "#bd3786"
            ],
            [
             0.5555555555555556,
             "#d8576b"
            ],
            [
             0.6666666666666666,
             "#ed7953"
            ],
            [
             0.7777777777777778,
             "#fb9f3a"
            ],
            [
             0.8888888888888888,
             "#fdca26"
            ],
            [
             1,
             "#f0f921"
            ]
           ]
          },
          "colorway": [
           "#636efa",
           "#EF553B",
           "#00cc96",
           "#ab63fa",
           "#FFA15A",
           "#19d3f3",
           "#FF6692",
           "#B6E880",
           "#FF97FF",
           "#FECB52"
          ],
          "font": {
           "color": "#2a3f5f"
          },
          "geo": {
           "bgcolor": "white",
           "lakecolor": "white",
           "landcolor": "#E5ECF6",
           "showlakes": true,
           "showland": true,
           "subunitcolor": "white"
          },
          "hoverlabel": {
           "align": "left"
          },
          "hovermode": "closest",
          "mapbox": {
           "style": "light"
          },
          "paper_bgcolor": "white",
          "plot_bgcolor": "#E5ECF6",
          "polar": {
           "angularaxis": {
            "gridcolor": "white",
            "linecolor": "white",
            "ticks": ""
           },
           "bgcolor": "#E5ECF6",
           "radialaxis": {
            "gridcolor": "white",
            "linecolor": "white",
            "ticks": ""
           }
          },
          "scene": {
           "xaxis": {
            "backgroundcolor": "#E5ECF6",
            "gridcolor": "white",
            "gridwidth": 2,
            "linecolor": "white",
            "showbackground": true,
            "ticks": "",
            "zerolinecolor": "white"
           },
           "yaxis": {
            "backgroundcolor": "#E5ECF6",
            "gridcolor": "white",
            "gridwidth": 2,
            "linecolor": "white",
            "showbackground": true,
            "ticks": "",
            "zerolinecolor": "white"
           },
           "zaxis": {
            "backgroundcolor": "#E5ECF6",
            "gridcolor": "white",
            "gridwidth": 2,
            "linecolor": "white",
            "showbackground": true,
            "ticks": "",
            "zerolinecolor": "white"
           }
          },
          "shapedefaults": {
           "line": {
            "color": "#2a3f5f"
           }
          },
          "ternary": {
           "aaxis": {
            "gridcolor": "white",
            "linecolor": "white",
            "ticks": ""
           },
           "baxis": {
            "gridcolor": "white",
            "linecolor": "white",
            "ticks": ""
           },
           "bgcolor": "#E5ECF6",
           "caxis": {
            "gridcolor": "white",
            "linecolor": "white",
            "ticks": ""
           }
          },
          "title": {
           "x": 0.05
          },
          "xaxis": {
           "automargin": true,
           "gridcolor": "white",
           "linecolor": "white",
           "ticks": "",
           "title": {
            "standoff": 15
           },
           "zerolinecolor": "white",
           "zerolinewidth": 2
          },
          "yaxis": {
           "automargin": true,
           "gridcolor": "white",
           "linecolor": "white",
           "ticks": "",
           "title": {
            "standoff": 15
           },
           "zerolinecolor": "white",
           "zerolinewidth": 2
          }
         }
        },
        "title": {
         "text": "Medal Distribution in All Olympic Games"
        },
        "xaxis": {
         "anchor": "y",
         "domain": [
          0,
          1
         ],
         "title": {
          "text": "NOC"
         }
        },
        "yaxis": {
         "anchor": "x",
         "domain": [
          0,
          1
         ],
         "title": {
          "text": "sum of Number of Medals"
         },
         "type": "log"
        }
       }
      }
     },
     "metadata": {},
     "output_type": "display_data"
    }
   ],
   "source": [
    "medal_distribution = (\n",
    "    df_all_selected_sports.groupby(['NOC', 'Sport', 'Medal'])\n",
    "    .size()\n",
    "    .reset_index(name=\"Number of Medals\")\n",
    ")\n",
    "\n",
    "# Plotting a histogram of ages of athletes from SWE in all olympic games around the mean age\n",
    "fig = px.histogram(\n",
    "    medal_distribution, \n",
    "    x=\"NOC\",\n",
    "    y=\"Number of Medals\",\n",
    "    log_y=True,\n",
    "    color='Sport',\n",
    "    title=\"Medal Distribution in All Olympic Games\",\n",
    "    barmode='group',\n",
    ")\n",
    "\n",
    "# Making spaces between bars\n",
    "fig.update_layout(bargap=0.01)\n",
    "\n",
    "fig.show()"
   ]
  },
  {
   "cell_type": "code",
   "execution_count": 15,
   "metadata": {},
   "outputs": [
    {
     "data": {
      "application/vnd.plotly.v1+json": {
       "config": {
        "plotlyServerURL": "https://plot.ly"
       },
       "data": [
        {
         "branchvalues": "total",
         "domain": {
          "x": [
           0,
           1
          ],
          "y": [
           0,
           1
          ]
         },
         "hovertemplate": "labels=%{label}<br>Number of Medals=%{value}<br>parent=%{parent}<br>id=%{id}<extra></extra>",
         "ids": [
          "Athletics/ALG",
          "Athletics/ANZ",
          "Athletics/ARG",
          "Shooting/ARG",
          "Athletics/AUS",
          "Shooting/AUS",
          "Athletics/AUT",
          "Cross Country Skiing/AUT",
          "Shooting/AUT",
          "Shooting/AZE",
          "Athletics/BAH",
          "Athletics/BAR",
          "Athletics/BDI",
          "Athletics/BEL",
          "Shooting/BEL",
          "Athletics/BLR",
          "Shooting/BLR",
          "Athletics/BOH",
          "Athletics/BOT",
          "Athletics/BRA",
          "Shooting/BRA",
          "Athletics/BRN",
          "Athletics/BUL",
          "Cross Country Skiing/BUL",
          "Shooting/BUL",
          "Athletics/CAN",
          "Cross Country Skiing/CAN",
          "Ice Hockey/CAN",
          "Shooting/CAN",
          "Athletics/CHI",
          "Shooting/CHI",
          "Athletics/CHN",
          "Shooting/CHN",
          "Athletics/CIV",
          "Athletics/CMR",
          "Athletics/COL",
          "Shooting/COL",
          "Athletics/CRO",
          "Shooting/CRO",
          "Athletics/CUB",
          "Shooting/CUB",
          "Athletics/CZE",
          "Cross Country Skiing/CZE",
          "Ice Hockey/CZE",
          "Shooting/CZE",
          "Athletics/DEN",
          "Shooting/DEN",
          "Athletics/DJI",
          "Athletics/DOM",
          "Athletics/ECU",
          "Athletics/ERI",
          "Athletics/ESP",
          "Shooting/ESP",
          "Athletics/EST",
          "Cross Country Skiing/EST",
          "Athletics/ETH",
          "Athletics/EUN",
          "Cross Country Skiing/EUN",
          "Ice Hockey/EUN",
          "Shooting/EUN",
          "Athletics/FIN",
          "Cross Country Skiing/FIN",
          "Ice Hockey/FIN",
          "Shooting/FIN",
          "Athletics/FRA",
          "Cross Country Skiing/FRA",
          "Shooting/FRA",
          "Athletics/FRG",
          "Ice Hockey/FRG",
          "Shooting/FRG",
          "Athletics/GBR",
          "Ice Hockey/GBR",
          "Shooting/GBR",
          "Athletics/GDR",
          "Cross Country Skiing/GDR",
          "Shooting/GDR",
          "Shooting/GEO",
          "Athletics/GER",
          "Cross Country Skiing/GER",
          "Ice Hockey/GER",
          "Shooting/GER",
          "Athletics/GRE",
          "Shooting/GRE",
          "Athletics/GRN",
          "Athletics/GUA",
          "Athletics/HAI",
          "Shooting/HAI",
          "Athletics/HUN",
          "Shooting/HUN",
          "Athletics/IND",
          "Shooting/IND",
          "Shooting/IOA",
          "Athletics/IRI",
          "Athletics/IRL",
          "Athletics/ISL",
          "Athletics/ITA",
          "Cross Country Skiing/ITA",
          "Shooting/ITA",
          "Athletics/JAM",
          "Athletics/JPN",
          "Shooting/JPN",
          "Athletics/KAZ",
          "Cross Country Skiing/KAZ",
          "Shooting/KAZ",
          "Athletics/KEN",
          "Athletics/KOR",
          "Shooting/KOR",
          "Athletics/KSA",
          "Shooting/KUW",
          "Athletics/LAT",
          "Shooting/LAT",
          "Athletics/LTU",
          "Shooting/LTU",
          "Athletics/LUX",
          "Athletics/MAR",
          "Shooting/MDA",
          "Athletics/MEX",
          "Shooting/MEX",
          "Shooting/MGL",
          "Athletics/MOZ",
          "Athletics/NAM",
          "Athletics/NED",
          "Shooting/NED",
          "Athletics/NGR",
          "Athletics/NOR",
          "Cross Country Skiing/NOR",
          "Shooting/NOR",
          "Athletics/NZL",
          "Shooting/NZL",
          "Athletics/PAN",
          "Shooting/PER",
          "Athletics/PHI",
          "Athletics/POL",
          "Cross Country Skiing/POL",
          "Shooting/POL",
          "Athletics/POR",
          "Shooting/POR",
          "Shooting/PRK",
          "Athletics/PUR",
          "Athletics/QAT",
          "Shooting/QAT",
          "Athletics/ROU",
          "Shooting/ROU",
          "Athletics/RSA",
          "Shooting/RSA",
          "Athletics/RUS",
          "Cross Country Skiing/RUS",
          "Ice Hockey/RUS",
          "Shooting/RUS",
          "Shooting/SCG",
          "Athletics/SEN",
          "Athletics/SLO",
          "Cross Country Skiing/SLO",
          "Shooting/SLO",
          "Athletics/SRB",
          "Shooting/SRB",
          "Athletics/SRI",
          "Athletics/SUD",
          "Athletics/SUI",
          "Cross Country Skiing/SUI",
          "Ice Hockey/SUI",
          "Shooting/SUI",
          "Athletics/SVK",
          "Shooting/SVK",
          "Athletics/SWE",
          "Cross Country Skiing/SWE",
          "Ice Hockey/SWE",
          "Shooting/SWE",
          "Athletics/SYR",
          "Athletics/TAN",
          "Athletics/TCH",
          "Cross Country Skiing/TCH",
          "Ice Hockey/TCH",
          "Shooting/TCH",
          "Athletics/TJK",
          "Athletics/TPE",
          "Athletics/TTO",
          "Athletics/TUN",
          "Athletics/TUR",
          "Shooting/UAE",
          "Athletics/UGA",
          "Athletics/UKR",
          "Shooting/UKR",
          "Athletics/URS",
          "Cross Country Skiing/URS",
          "Ice Hockey/URS",
          "Shooting/URS",
          "Athletics/USA",
          "Cross Country Skiing/USA",
          "Ice Hockey/USA",
          "Shooting/USA",
          "Athletics/VEN",
          "Shooting/VEN",
          "Shooting/VIE",
          "Athletics/WIF",
          "Athletics/YUG",
          "Shooting/YUG",
          "Athletics/ZAM",
          "Athletics",
          "Cross Country Skiing",
          "Ice Hockey",
          "Shooting"
         ],
         "labels": [
          "ALG",
          "ANZ",
          "ARG",
          "ARG",
          "AUS",
          "AUS",
          "AUT",
          "AUT",
          "AUT",
          "AZE",
          "BAH",
          "BAR",
          "BDI",
          "BEL",
          "BEL",
          "BLR",
          "BLR",
          "BOH",
          "BOT",
          "BRA",
          "BRA",
          "BRN",
          "BUL",
          "BUL",
          "BUL",
          "CAN",
          "CAN",
          "CAN",
          "CAN",
          "CHI",
          "CHI",
          "CHN",
          "CHN",
          "CIV",
          "CMR",
          "COL",
          "COL",
          "CRO",
          "CRO",
          "CUB",
          "CUB",
          "CZE",
          "CZE",
          "CZE",
          "CZE",
          "DEN",
          "DEN",
          "DJI",
          "DOM",
          "ECU",
          "ERI",
          "ESP",
          "ESP",
          "EST",
          "EST",
          "ETH",
          "EUN",
          "EUN",
          "EUN",
          "EUN",
          "FIN",
          "FIN",
          "FIN",
          "FIN",
          "FRA",
          "FRA",
          "FRA",
          "FRG",
          "FRG",
          "FRG",
          "GBR",
          "GBR",
          "GBR",
          "GDR",
          "GDR",
          "GDR",
          "GEO",
          "GER",
          "GER",
          "GER",
          "GER",
          "GRE",
          "GRE",
          "GRN",
          "GUA",
          "HAI",
          "HAI",
          "HUN",
          "HUN",
          "IND",
          "IND",
          "IOA",
          "IRI",
          "IRL",
          "ISL",
          "ITA",
          "ITA",
          "ITA",
          "JAM",
          "JPN",
          "JPN",
          "KAZ",
          "KAZ",
          "KAZ",
          "KEN",
          "KOR",
          "KOR",
          "KSA",
          "KUW",
          "LAT",
          "LAT",
          "LTU",
          "LTU",
          "LUX",
          "MAR",
          "MDA",
          "MEX",
          "MEX",
          "MGL",
          "MOZ",
          "NAM",
          "NED",
          "NED",
          "NGR",
          "NOR",
          "NOR",
          "NOR",
          "NZL",
          "NZL",
          "PAN",
          "PER",
          "PHI",
          "POL",
          "POL",
          "POL",
          "POR",
          "POR",
          "PRK",
          "PUR",
          "QAT",
          "QAT",
          "ROU",
          "ROU",
          "RSA",
          "RSA",
          "RUS",
          "RUS",
          "RUS",
          "RUS",
          "SCG",
          "SEN",
          "SLO",
          "SLO",
          "SLO",
          "SRB",
          "SRB",
          "SRI",
          "SUD",
          "SUI",
          "SUI",
          "SUI",
          "SUI",
          "SVK",
          "SVK",
          "SWE",
          "SWE",
          "SWE",
          "SWE",
          "SYR",
          "TAN",
          "TCH",
          "TCH",
          "TCH",
          "TCH",
          "TJK",
          "TPE",
          "TTO",
          "TUN",
          "TUR",
          "UAE",
          "UGA",
          "UKR",
          "UKR",
          "URS",
          "URS",
          "URS",
          "URS",
          "USA",
          "USA",
          "USA",
          "USA",
          "VEN",
          "VEN",
          "VIE",
          "WIF",
          "YUG",
          "YUG",
          "ZAM",
          "Athletics",
          "Cross Country Skiing",
          "Ice Hockey",
          "Shooting"
         ],
         "name": "",
         "parents": [
          "Athletics",
          "Athletics",
          "Athletics",
          "Shooting",
          "Athletics",
          "Shooting",
          "Athletics",
          "Cross Country Skiing",
          "Shooting",
          "Shooting",
          "Athletics",
          "Athletics",
          "Athletics",
          "Athletics",
          "Shooting",
          "Athletics",
          "Shooting",
          "Athletics",
          "Athletics",
          "Athletics",
          "Shooting",
          "Athletics",
          "Athletics",
          "Cross Country Skiing",
          "Shooting",
          "Athletics",
          "Cross Country Skiing",
          "Ice Hockey",
          "Shooting",
          "Athletics",
          "Shooting",
          "Athletics",
          "Shooting",
          "Athletics",
          "Athletics",
          "Athletics",
          "Shooting",
          "Athletics",
          "Shooting",
          "Athletics",
          "Shooting",
          "Athletics",
          "Cross Country Skiing",
          "Ice Hockey",
          "Shooting",
          "Athletics",
          "Shooting",
          "Athletics",
          "Athletics",
          "Athletics",
          "Athletics",
          "Athletics",
          "Shooting",
          "Athletics",
          "Cross Country Skiing",
          "Athletics",
          "Athletics",
          "Cross Country Skiing",
          "Ice Hockey",
          "Shooting",
          "Athletics",
          "Cross Country Skiing",
          "Ice Hockey",
          "Shooting",
          "Athletics",
          "Cross Country Skiing",
          "Shooting",
          "Athletics",
          "Ice Hockey",
          "Shooting",
          "Athletics",
          "Ice Hockey",
          "Shooting",
          "Athletics",
          "Cross Country Skiing",
          "Shooting",
          "Shooting",
          "Athletics",
          "Cross Country Skiing",
          "Ice Hockey",
          "Shooting",
          "Athletics",
          "Shooting",
          "Athletics",
          "Athletics",
          "Athletics",
          "Shooting",
          "Athletics",
          "Shooting",
          "Athletics",
          "Shooting",
          "Shooting",
          "Athletics",
          "Athletics",
          "Athletics",
          "Athletics",
          "Cross Country Skiing",
          "Shooting",
          "Athletics",
          "Athletics",
          "Shooting",
          "Athletics",
          "Cross Country Skiing",
          "Shooting",
          "Athletics",
          "Athletics",
          "Shooting",
          "Athletics",
          "Shooting",
          "Athletics",
          "Shooting",
          "Athletics",
          "Shooting",
          "Athletics",
          "Athletics",
          "Shooting",
          "Athletics",
          "Shooting",
          "Shooting",
          "Athletics",
          "Athletics",
          "Athletics",
          "Shooting",
          "Athletics",
          "Athletics",
          "Cross Country Skiing",
          "Shooting",
          "Athletics",
          "Shooting",
          "Athletics",
          "Shooting",
          "Athletics",
          "Athletics",
          "Cross Country Skiing",
          "Shooting",
          "Athletics",
          "Shooting",
          "Shooting",
          "Athletics",
          "Athletics",
          "Shooting",
          "Athletics",
          "Shooting",
          "Athletics",
          "Shooting",
          "Athletics",
          "Cross Country Skiing",
          "Ice Hockey",
          "Shooting",
          "Shooting",
          "Athletics",
          "Athletics",
          "Cross Country Skiing",
          "Shooting",
          "Athletics",
          "Shooting",
          "Athletics",
          "Athletics",
          "Athletics",
          "Cross Country Skiing",
          "Ice Hockey",
          "Shooting",
          "Athletics",
          "Shooting",
          "Athletics",
          "Cross Country Skiing",
          "Ice Hockey",
          "Shooting",
          "Athletics",
          "Athletics",
          "Athletics",
          "Cross Country Skiing",
          "Ice Hockey",
          "Shooting",
          "Athletics",
          "Athletics",
          "Athletics",
          "Athletics",
          "Athletics",
          "Shooting",
          "Athletics",
          "Athletics",
          "Shooting",
          "Athletics",
          "Cross Country Skiing",
          "Ice Hockey",
          "Shooting",
          "Athletics",
          "Cross Country Skiing",
          "Ice Hockey",
          "Shooting",
          "Athletics",
          "Shooting",
          "Shooting",
          "Athletics",
          "Athletics",
          "Shooting",
          "Athletics",
          "",
          "",
          "",
          ""
         ],
         "type": "sunburst",
         "values": [
          9,
          1,
          5,
          1,
          89,
          11,
          7,
          5,
          8,
          3,
          36,
          1,
          2,
          16,
          17,
          17,
          7,
          1,
          1,
          26,
          8,
          3,
          19,
          1,
          16,
          98,
          4,
          348,
          24,
          2,
          1,
          27,
          56,
          1,
          2,
          3,
          2,
          5,
          3,
          58,
          4,
          12,
          12,
          45,
          9,
          7,
          27,
          1,
          3,
          2,
          1,
          14,
          3,
          6,
          7,
          53,
          29,
          12,
          22,
          8,
          138,
          141,
          174,
          41,
          116,
          5,
          69,
          71,
          18,
          11,
          338,
          22,
          99,
          140,
          10,
          16,
          1,
          154,
          35,
          10,
          31,
          37,
          25,
          2,
          1,
          1,
          5,
          52,
          17,
          2,
          4,
          5,
          1,
          6,
          2,
          72,
          61,
          43,
          156,
          31,
          6,
          4,
          4,
          3,
          99,
          2,
          16,
          1,
          2,
          5,
          1,
          5,
          1,
          2,
          19,
          1,
          11,
          1,
          2,
          2,
          4,
          22,
          6,
          41,
          20,
          164,
          77,
          24,
          2,
          3,
          3,
          2,
          72,
          5,
          12,
          10,
          1,
          3,
          1,
          3,
          1,
          35,
          15,
          31,
          5,
          103,
          49,
          43,
          36,
          4,
          1,
          4,
          2,
          3,
          1,
          2,
          2,
          1,
          8,
          13,
          48,
          53,
          1,
          5,
          128,
          123,
          217,
          126,
          1,
          2,
          24,
          11,
          139,
          9,
          1,
          2,
          28,
          5,
          6,
          1,
          3,
          21,
          8,
          242,
          111,
          168,
          49,
          1080,
          1,
          276,
          193,
          2,
          1,
          2,
          5,
          2,
          3,
          1,
          3969,
          776,
          1530,
          1228
         ]
        }
       ],
       "layout": {
        "legend": {
         "tracegroupgap": 0
        },
        "margin": {
         "t": 60
        },
        "template": {
         "data": {
          "bar": [
           {
            "error_x": {
             "color": "#2a3f5f"
            },
            "error_y": {
             "color": "#2a3f5f"
            },
            "marker": {
             "line": {
              "color": "#E5ECF6",
              "width": 0.5
             },
             "pattern": {
              "fillmode": "overlay",
              "size": 10,
              "solidity": 0.2
             }
            },
            "type": "bar"
           }
          ],
          "barpolar": [
           {
            "marker": {
             "line": {
              "color": "#E5ECF6",
              "width": 0.5
             },
             "pattern": {
              "fillmode": "overlay",
              "size": 10,
              "solidity": 0.2
             }
            },
            "type": "barpolar"
           }
          ],
          "carpet": [
           {
            "aaxis": {
             "endlinecolor": "#2a3f5f",
             "gridcolor": "white",
             "linecolor": "white",
             "minorgridcolor": "white",
             "startlinecolor": "#2a3f5f"
            },
            "baxis": {
             "endlinecolor": "#2a3f5f",
             "gridcolor": "white",
             "linecolor": "white",
             "minorgridcolor": "white",
             "startlinecolor": "#2a3f5f"
            },
            "type": "carpet"
           }
          ],
          "choropleth": [
           {
            "colorbar": {
             "outlinewidth": 0,
             "ticks": ""
            },
            "type": "choropleth"
           }
          ],
          "contour": [
           {
            "colorbar": {
             "outlinewidth": 0,
             "ticks": ""
            },
            "colorscale": [
             [
              0,
              "#0d0887"
             ],
             [
              0.1111111111111111,
              "#46039f"
             ],
             [
              0.2222222222222222,
              "#7201a8"
             ],
             [
              0.3333333333333333,
              "#9c179e"
             ],
             [
              0.4444444444444444,
              "#bd3786"
             ],
             [
              0.5555555555555556,
              "#d8576b"
             ],
             [
              0.6666666666666666,
              "#ed7953"
             ],
             [
              0.7777777777777778,
              "#fb9f3a"
             ],
             [
              0.8888888888888888,
              "#fdca26"
             ],
             [
              1,
              "#f0f921"
             ]
            ],
            "type": "contour"
           }
          ],
          "contourcarpet": [
           {
            "colorbar": {
             "outlinewidth": 0,
             "ticks": ""
            },
            "type": "contourcarpet"
           }
          ],
          "heatmap": [
           {
            "colorbar": {
             "outlinewidth": 0,
             "ticks": ""
            },
            "colorscale": [
             [
              0,
              "#0d0887"
             ],
             [
              0.1111111111111111,
              "#46039f"
             ],
             [
              0.2222222222222222,
              "#7201a8"
             ],
             [
              0.3333333333333333,
              "#9c179e"
             ],
             [
              0.4444444444444444,
              "#bd3786"
             ],
             [
              0.5555555555555556,
              "#d8576b"
             ],
             [
              0.6666666666666666,
              "#ed7953"
             ],
             [
              0.7777777777777778,
              "#fb9f3a"
             ],
             [
              0.8888888888888888,
              "#fdca26"
             ],
             [
              1,
              "#f0f921"
             ]
            ],
            "type": "heatmap"
           }
          ],
          "heatmapgl": [
           {
            "colorbar": {
             "outlinewidth": 0,
             "ticks": ""
            },
            "colorscale": [
             [
              0,
              "#0d0887"
             ],
             [
              0.1111111111111111,
              "#46039f"
             ],
             [
              0.2222222222222222,
              "#7201a8"
             ],
             [
              0.3333333333333333,
              "#9c179e"
             ],
             [
              0.4444444444444444,
              "#bd3786"
             ],
             [
              0.5555555555555556,
              "#d8576b"
             ],
             [
              0.6666666666666666,
              "#ed7953"
             ],
             [
              0.7777777777777778,
              "#fb9f3a"
             ],
             [
              0.8888888888888888,
              "#fdca26"
             ],
             [
              1,
              "#f0f921"
             ]
            ],
            "type": "heatmapgl"
           }
          ],
          "histogram": [
           {
            "marker": {
             "pattern": {
              "fillmode": "overlay",
              "size": 10,
              "solidity": 0.2
             }
            },
            "type": "histogram"
           }
          ],
          "histogram2d": [
           {
            "colorbar": {
             "outlinewidth": 0,
             "ticks": ""
            },
            "colorscale": [
             [
              0,
              "#0d0887"
             ],
             [
              0.1111111111111111,
              "#46039f"
             ],
             [
              0.2222222222222222,
              "#7201a8"
             ],
             [
              0.3333333333333333,
              "#9c179e"
             ],
             [
              0.4444444444444444,
              "#bd3786"
             ],
             [
              0.5555555555555556,
              "#d8576b"
             ],
             [
              0.6666666666666666,
              "#ed7953"
             ],
             [
              0.7777777777777778,
              "#fb9f3a"
             ],
             [
              0.8888888888888888,
              "#fdca26"
             ],
             [
              1,
              "#f0f921"
             ]
            ],
            "type": "histogram2d"
           }
          ],
          "histogram2dcontour": [
           {
            "colorbar": {
             "outlinewidth": 0,
             "ticks": ""
            },
            "colorscale": [
             [
              0,
              "#0d0887"
             ],
             [
              0.1111111111111111,
              "#46039f"
             ],
             [
              0.2222222222222222,
              "#7201a8"
             ],
             [
              0.3333333333333333,
              "#9c179e"
             ],
             [
              0.4444444444444444,
              "#bd3786"
             ],
             [
              0.5555555555555556,
              "#d8576b"
             ],
             [
              0.6666666666666666,
              "#ed7953"
             ],
             [
              0.7777777777777778,
              "#fb9f3a"
             ],
             [
              0.8888888888888888,
              "#fdca26"
             ],
             [
              1,
              "#f0f921"
             ]
            ],
            "type": "histogram2dcontour"
           }
          ],
          "mesh3d": [
           {
            "colorbar": {
             "outlinewidth": 0,
             "ticks": ""
            },
            "type": "mesh3d"
           }
          ],
          "parcoords": [
           {
            "line": {
             "colorbar": {
              "outlinewidth": 0,
              "ticks": ""
             }
            },
            "type": "parcoords"
           }
          ],
          "pie": [
           {
            "automargin": true,
            "type": "pie"
           }
          ],
          "scatter": [
           {
            "fillpattern": {
             "fillmode": "overlay",
             "size": 10,
             "solidity": 0.2
            },
            "type": "scatter"
           }
          ],
          "scatter3d": [
           {
            "line": {
             "colorbar": {
              "outlinewidth": 0,
              "ticks": ""
             }
            },
            "marker": {
             "colorbar": {
              "outlinewidth": 0,
              "ticks": ""
             }
            },
            "type": "scatter3d"
           }
          ],
          "scattercarpet": [
           {
            "marker": {
             "colorbar": {
              "outlinewidth": 0,
              "ticks": ""
             }
            },
            "type": "scattercarpet"
           }
          ],
          "scattergeo": [
           {
            "marker": {
             "colorbar": {
              "outlinewidth": 0,
              "ticks": ""
             }
            },
            "type": "scattergeo"
           }
          ],
          "scattergl": [
           {
            "marker": {
             "colorbar": {
              "outlinewidth": 0,
              "ticks": ""
             }
            },
            "type": "scattergl"
           }
          ],
          "scattermapbox": [
           {
            "marker": {
             "colorbar": {
              "outlinewidth": 0,
              "ticks": ""
             }
            },
            "type": "scattermapbox"
           }
          ],
          "scatterpolar": [
           {
            "marker": {
             "colorbar": {
              "outlinewidth": 0,
              "ticks": ""
             }
            },
            "type": "scatterpolar"
           }
          ],
          "scatterpolargl": [
           {
            "marker": {
             "colorbar": {
              "outlinewidth": 0,
              "ticks": ""
             }
            },
            "type": "scatterpolargl"
           }
          ],
          "scatterternary": [
           {
            "marker": {
             "colorbar": {
              "outlinewidth": 0,
              "ticks": ""
             }
            },
            "type": "scatterternary"
           }
          ],
          "surface": [
           {
            "colorbar": {
             "outlinewidth": 0,
             "ticks": ""
            },
            "colorscale": [
             [
              0,
              "#0d0887"
             ],
             [
              0.1111111111111111,
              "#46039f"
             ],
             [
              0.2222222222222222,
              "#7201a8"
             ],
             [
              0.3333333333333333,
              "#9c179e"
             ],
             [
              0.4444444444444444,
              "#bd3786"
             ],
             [
              0.5555555555555556,
              "#d8576b"
             ],
             [
              0.6666666666666666,
              "#ed7953"
             ],
             [
              0.7777777777777778,
              "#fb9f3a"
             ],
             [
              0.8888888888888888,
              "#fdca26"
             ],
             [
              1,
              "#f0f921"
             ]
            ],
            "type": "surface"
           }
          ],
          "table": [
           {
            "cells": {
             "fill": {
              "color": "#EBF0F8"
             },
             "line": {
              "color": "white"
             }
            },
            "header": {
             "fill": {
              "color": "#C8D4E3"
             },
             "line": {
              "color": "white"
             }
            },
            "type": "table"
           }
          ]
         },
         "layout": {
          "annotationdefaults": {
           "arrowcolor": "#2a3f5f",
           "arrowhead": 0,
           "arrowwidth": 1
          },
          "autotypenumbers": "strict",
          "coloraxis": {
           "colorbar": {
            "outlinewidth": 0,
            "ticks": ""
           }
          },
          "colorscale": {
           "diverging": [
            [
             0,
             "#8e0152"
            ],
            [
             0.1,
             "#c51b7d"
            ],
            [
             0.2,
             "#de77ae"
            ],
            [
             0.3,
             "#f1b6da"
            ],
            [
             0.4,
             "#fde0ef"
            ],
            [
             0.5,
             "#f7f7f7"
            ],
            [
             0.6,
             "#e6f5d0"
            ],
            [
             0.7,
             "#b8e186"
            ],
            [
             0.8,
             "#7fbc41"
            ],
            [
             0.9,
             "#4d9221"
            ],
            [
             1,
             "#276419"
            ]
           ],
           "sequential": [
            [
             0,
             "#0d0887"
            ],
            [
             0.1111111111111111,
             "#46039f"
            ],
            [
             0.2222222222222222,
             "#7201a8"
            ],
            [
             0.3333333333333333,
             "#9c179e"
            ],
            [
             0.4444444444444444,
             "#bd3786"
            ],
            [
             0.5555555555555556,
             "#d8576b"
            ],
            [
             0.6666666666666666,
             "#ed7953"
            ],
            [
             0.7777777777777778,
             "#fb9f3a"
            ],
            [
             0.8888888888888888,
             "#fdca26"
            ],
            [
             1,
             "#f0f921"
            ]
           ],
           "sequentialminus": [
            [
             0,
             "#0d0887"
            ],
            [
             0.1111111111111111,
             "#46039f"
            ],
            [
             0.2222222222222222,
             "#7201a8"
            ],
            [
             0.3333333333333333,
             "#9c179e"
            ],
            [
             0.4444444444444444,
             "#bd3786"
            ],
            [
             0.5555555555555556,
             "#d8576b"
            ],
            [
             0.6666666666666666,
             "#ed7953"
            ],
            [
             0.7777777777777778,
             "#fb9f3a"
            ],
            [
             0.8888888888888888,
             "#fdca26"
            ],
            [
             1,
             "#f0f921"
            ]
           ]
          },
          "colorway": [
           "#636efa",
           "#EF553B",
           "#00cc96",
           "#ab63fa",
           "#FFA15A",
           "#19d3f3",
           "#FF6692",
           "#B6E880",
           "#FF97FF",
           "#FECB52"
          ],
          "font": {
           "color": "#2a3f5f"
          },
          "geo": {
           "bgcolor": "white",
           "lakecolor": "white",
           "landcolor": "#E5ECF6",
           "showlakes": true,
           "showland": true,
           "subunitcolor": "white"
          },
          "hoverlabel": {
           "align": "left"
          },
          "hovermode": "closest",
          "mapbox": {
           "style": "light"
          },
          "paper_bgcolor": "white",
          "plot_bgcolor": "#E5ECF6",
          "polar": {
           "angularaxis": {
            "gridcolor": "white",
            "linecolor": "white",
            "ticks": ""
           },
           "bgcolor": "#E5ECF6",
           "radialaxis": {
            "gridcolor": "white",
            "linecolor": "white",
            "ticks": ""
           }
          },
          "scene": {
           "xaxis": {
            "backgroundcolor": "#E5ECF6",
            "gridcolor": "white",
            "gridwidth": 2,
            "linecolor": "white",
            "showbackground": true,
            "ticks": "",
            "zerolinecolor": "white"
           },
           "yaxis": {
            "backgroundcolor": "#E5ECF6",
            "gridcolor": "white",
            "gridwidth": 2,
            "linecolor": "white",
            "showbackground": true,
            "ticks": "",
            "zerolinecolor": "white"
           },
           "zaxis": {
            "backgroundcolor": "#E5ECF6",
            "gridcolor": "white",
            "gridwidth": 2,
            "linecolor": "white",
            "showbackground": true,
            "ticks": "",
            "zerolinecolor": "white"
           }
          },
          "shapedefaults": {
           "line": {
            "color": "#2a3f5f"
           }
          },
          "ternary": {
           "aaxis": {
            "gridcolor": "white",
            "linecolor": "white",
            "ticks": ""
           },
           "baxis": {
            "gridcolor": "white",
            "linecolor": "white",
            "ticks": ""
           },
           "bgcolor": "#E5ECF6",
           "caxis": {
            "gridcolor": "white",
            "linecolor": "white",
            "ticks": ""
           }
          },
          "title": {
           "x": 0.05
          },
          "xaxis": {
           "automargin": true,
           "gridcolor": "white",
           "linecolor": "white",
           "ticks": "",
           "title": {
            "standoff": 15
           },
           "zerolinecolor": "white",
           "zerolinewidth": 2
          },
          "yaxis": {
           "automargin": true,
           "gridcolor": "white",
           "linecolor": "white",
           "ticks": "",
           "title": {
            "standoff": 15
           },
           "zerolinecolor": "white",
           "zerolinewidth": 2
          }
         }
        }
       }
      }
     },
     "metadata": {},
     "output_type": "display_data"
    }
   ],
   "source": [
    "px.sunburst(medal_distribution, values='Number of Medals', path=['Sport', 'NOC'])"
   ]
  },
  {
   "cell_type": "markdown",
   "metadata": {},
   "source": [
    "#### Åldersfördelning i sporterna"
   ]
  },
  {
   "cell_type": "code",
   "execution_count": 6,
   "metadata": {},
   "outputs": [
    {
     "data": {
      "application/vnd.plotly.v1+json": {
       "config": {
        "plotlyServerURL": "https://plot.ly"
       },
       "data": [
        {
         "alignmentgroup": "True",
         "bingroup": "x",
         "histfunc": "sum",
         "hovertemplate": "Sport=Athletics<br>Age=%{x}<br>sum of Number of Athletes=%{y}<extra></extra>",
         "legendgroup": "Athletics",
         "marker": {
          "color": "#636efa",
          "pattern": {
           "shape": ""
          }
         },
         "name": "Athletics",
         "nbinsx": 80,
         "offsetgroup": "Athletics",
         "orientation": "v",
         "showlegend": true,
         "type": "histogram",
         "x": [
          12,
          13,
          14,
          15,
          16,
          17,
          18,
          19,
          20,
          21,
          22,
          23,
          24,
          25,
          26,
          27,
          28,
          29,
          30,
          31,
          32,
          33,
          34,
          35,
          36,
          37,
          38,
          39,
          40,
          41,
          42,
          43,
          44,
          45,
          46,
          47,
          48,
          49,
          50,
          52
         ],
         "xaxis": "x",
         "y": [
          2,
          2,
          6,
          49,
          137,
          346,
          743,
          1354,
          2177,
          2866,
          3317,
          3744,
          3597,
          3431,
          3045,
          2747,
          2288,
          1795,
          1545,
          1067,
          915,
          620,
          504,
          362,
          258,
          182,
          137,
          84,
          72,
          35,
          29,
          14,
          14,
          5,
          8,
          2,
          5,
          1,
          1,
          1
         ],
         "yaxis": "y"
        },
        {
         "alignmentgroup": "True",
         "bingroup": "x",
         "histfunc": "sum",
         "hovertemplate": "Sport=Cross Country Skiing<br>Age=%{x}<br>sum of Number of Athletes=%{y}<extra></extra>",
         "legendgroup": "Cross Country Skiing",
         "marker": {
          "color": "#EF553B",
          "pattern": {
           "shape": ""
          }
         },
         "name": "Cross Country Skiing",
         "nbinsx": 80,
         "offsetgroup": "Cross Country Skiing",
         "orientation": "v",
         "showlegend": true,
         "type": "histogram",
         "x": [
          15,
          16,
          17,
          18,
          19,
          20,
          21,
          22,
          23,
          24,
          25,
          26,
          27,
          28,
          29,
          30,
          31,
          32,
          33,
          34,
          35,
          36,
          37,
          38,
          39,
          40,
          41,
          43,
          44,
          45,
          47,
          49
         ],
         "xaxis": "x",
         "y": [
          2,
          21,
          50,
          120,
          226,
          328,
          507,
          707,
          841,
          857,
          794,
          781,
          730,
          716,
          549,
          508,
          376,
          298,
          244,
          149,
          80,
          76,
          57,
          30,
          15,
          14,
          9,
          7,
          1,
          2,
          2,
          1
         ],
         "yaxis": "y"
        },
        {
         "alignmentgroup": "True",
         "bingroup": "x",
         "histfunc": "sum",
         "hovertemplate": "Sport=Ice Hockey<br>Age=%{x}<br>sum of Number of Athletes=%{y}<extra></extra>",
         "legendgroup": "Ice Hockey",
         "marker": {
          "color": "#00cc96",
          "pattern": {
           "shape": ""
          }
         },
         "name": "Ice Hockey",
         "nbinsx": 80,
         "offsetgroup": "Ice Hockey",
         "orientation": "v",
         "showlegend": true,
         "type": "histogram",
         "x": [
          15,
          16,
          17,
          18,
          19,
          20,
          21,
          22,
          23,
          24,
          25,
          26,
          27,
          28,
          29,
          30,
          31,
          32,
          33,
          34,
          35,
          36,
          37,
          38,
          39,
          40,
          41,
          42,
          43,
          44,
          46,
          48
         ],
         "xaxis": "x",
         "y": [
          4,
          16,
          27,
          91,
          145,
          252,
          355,
          456,
          494,
          477,
          498,
          455,
          443,
          339,
          320,
          288,
          218,
          172,
          131,
          80,
          97,
          41,
          37,
          18,
          9,
          9,
          8,
          2,
          1,
          1,
          2,
          1
         ],
         "yaxis": "y"
        },
        {
         "alignmentgroup": "True",
         "bingroup": "x",
         "histfunc": "sum",
         "hovertemplate": "Sport=Shooting<br>Age=%{x}<br>sum of Number of Athletes=%{y}<extra></extra>",
         "legendgroup": "Shooting",
         "marker": {
          "color": "#ab63fa",
          "pattern": {
           "shape": ""
          }
         },
         "name": "Shooting",
         "nbinsx": 80,
         "offsetgroup": "Shooting",
         "orientation": "v",
         "showlegend": true,
         "type": "histogram",
         "x": [
          15,
          16,
          17,
          18,
          19,
          20,
          21,
          22,
          23,
          24,
          25,
          26,
          27,
          28,
          29,
          30,
          31,
          32,
          33,
          34,
          35,
          36,
          37,
          38,
          39,
          40,
          41,
          42,
          43,
          44,
          45,
          46,
          47,
          48,
          49,
          50,
          51,
          52,
          53,
          54,
          55,
          56,
          57,
          58,
          59,
          60,
          61,
          62,
          63,
          64,
          65,
          66,
          68,
          70,
          72
         ],
         "xaxis": "x",
         "y": [
          2,
          21,
          46,
          64,
          120,
          169,
          251,
          258,
          325,
          367,
          411,
          437,
          433,
          493,
          429,
          421,
          463,
          536,
          475,
          467,
          473,
          416,
          372,
          343,
          383,
          312,
          304,
          241,
          266,
          202,
          171,
          144,
          126,
          128,
          94,
          84,
          66,
          77,
          35,
          46,
          20,
          37,
          23,
          6,
          13,
          22,
          6,
          6,
          4,
          6,
          5,
          3,
          1,
          1,
          3
         ],
         "yaxis": "y"
        }
       ],
       "layout": {
        "annotations": [
         {
          "showarrow": false,
          "text": "Mean age all sports",
          "x": 26.7,
          "xanchor": "left",
          "xref": "x",
          "y": 1,
          "yanchor": "top",
          "yref": "y domain"
         }
        ],
        "bargap": 0.01,
        "barmode": "group",
        "legend": {
         "title": {
          "text": "Sport"
         },
         "tracegroupgap": 0
        },
        "shapes": [
         {
          "line": {
           "color": "green",
           "dash": "dash",
           "width": 3
          },
          "type": "line",
          "x0": 26.7,
          "x1": 26.7,
          "xref": "x",
          "y0": 0,
          "y1": 1,
          "yref": "y domain"
         }
        ],
        "template": {
         "data": {
          "bar": [
           {
            "error_x": {
             "color": "#2a3f5f"
            },
            "error_y": {
             "color": "#2a3f5f"
            },
            "marker": {
             "line": {
              "color": "#E5ECF6",
              "width": 0.5
             },
             "pattern": {
              "fillmode": "overlay",
              "size": 10,
              "solidity": 0.2
             }
            },
            "type": "bar"
           }
          ],
          "barpolar": [
           {
            "marker": {
             "line": {
              "color": "#E5ECF6",
              "width": 0.5
             },
             "pattern": {
              "fillmode": "overlay",
              "size": 10,
              "solidity": 0.2
             }
            },
            "type": "barpolar"
           }
          ],
          "carpet": [
           {
            "aaxis": {
             "endlinecolor": "#2a3f5f",
             "gridcolor": "white",
             "linecolor": "white",
             "minorgridcolor": "white",
             "startlinecolor": "#2a3f5f"
            },
            "baxis": {
             "endlinecolor": "#2a3f5f",
             "gridcolor": "white",
             "linecolor": "white",
             "minorgridcolor": "white",
             "startlinecolor": "#2a3f5f"
            },
            "type": "carpet"
           }
          ],
          "choropleth": [
           {
            "colorbar": {
             "outlinewidth": 0,
             "ticks": ""
            },
            "type": "choropleth"
           }
          ],
          "contour": [
           {
            "colorbar": {
             "outlinewidth": 0,
             "ticks": ""
            },
            "colorscale": [
             [
              0,
              "#0d0887"
             ],
             [
              0.1111111111111111,
              "#46039f"
             ],
             [
              0.2222222222222222,
              "#7201a8"
             ],
             [
              0.3333333333333333,
              "#9c179e"
             ],
             [
              0.4444444444444444,
              "#bd3786"
             ],
             [
              0.5555555555555556,
              "#d8576b"
             ],
             [
              0.6666666666666666,
              "#ed7953"
             ],
             [
              0.7777777777777778,
              "#fb9f3a"
             ],
             [
              0.8888888888888888,
              "#fdca26"
             ],
             [
              1,
              "#f0f921"
             ]
            ],
            "type": "contour"
           }
          ],
          "contourcarpet": [
           {
            "colorbar": {
             "outlinewidth": 0,
             "ticks": ""
            },
            "type": "contourcarpet"
           }
          ],
          "heatmap": [
           {
            "colorbar": {
             "outlinewidth": 0,
             "ticks": ""
            },
            "colorscale": [
             [
              0,
              "#0d0887"
             ],
             [
              0.1111111111111111,
              "#46039f"
             ],
             [
              0.2222222222222222,
              "#7201a8"
             ],
             [
              0.3333333333333333,
              "#9c179e"
             ],
             [
              0.4444444444444444,
              "#bd3786"
             ],
             [
              0.5555555555555556,
              "#d8576b"
             ],
             [
              0.6666666666666666,
              "#ed7953"
             ],
             [
              0.7777777777777778,
              "#fb9f3a"
             ],
             [
              0.8888888888888888,
              "#fdca26"
             ],
             [
              1,
              "#f0f921"
             ]
            ],
            "type": "heatmap"
           }
          ],
          "heatmapgl": [
           {
            "colorbar": {
             "outlinewidth": 0,
             "ticks": ""
            },
            "colorscale": [
             [
              0,
              "#0d0887"
             ],
             [
              0.1111111111111111,
              "#46039f"
             ],
             [
              0.2222222222222222,
              "#7201a8"
             ],
             [
              0.3333333333333333,
              "#9c179e"
             ],
             [
              0.4444444444444444,
              "#bd3786"
             ],
             [
              0.5555555555555556,
              "#d8576b"
             ],
             [
              0.6666666666666666,
              "#ed7953"
             ],
             [
              0.7777777777777778,
              "#fb9f3a"
             ],
             [
              0.8888888888888888,
              "#fdca26"
             ],
             [
              1,
              "#f0f921"
             ]
            ],
            "type": "heatmapgl"
           }
          ],
          "histogram": [
           {
            "marker": {
             "pattern": {
              "fillmode": "overlay",
              "size": 10,
              "solidity": 0.2
             }
            },
            "type": "histogram"
           }
          ],
          "histogram2d": [
           {
            "colorbar": {
             "outlinewidth": 0,
             "ticks": ""
            },
            "colorscale": [
             [
              0,
              "#0d0887"
             ],
             [
              0.1111111111111111,
              "#46039f"
             ],
             [
              0.2222222222222222,
              "#7201a8"
             ],
             [
              0.3333333333333333,
              "#9c179e"
             ],
             [
              0.4444444444444444,
              "#bd3786"
             ],
             [
              0.5555555555555556,
              "#d8576b"
             ],
             [
              0.6666666666666666,
              "#ed7953"
             ],
             [
              0.7777777777777778,
              "#fb9f3a"
             ],
             [
              0.8888888888888888,
              "#fdca26"
             ],
             [
              1,
              "#f0f921"
             ]
            ],
            "type": "histogram2d"
           }
          ],
          "histogram2dcontour": [
           {
            "colorbar": {
             "outlinewidth": 0,
             "ticks": ""
            },
            "colorscale": [
             [
              0,
              "#0d0887"
             ],
             [
              0.1111111111111111,
              "#46039f"
             ],
             [
              0.2222222222222222,
              "#7201a8"
             ],
             [
              0.3333333333333333,
              "#9c179e"
             ],
             [
              0.4444444444444444,
              "#bd3786"
             ],
             [
              0.5555555555555556,
              "#d8576b"
             ],
             [
              0.6666666666666666,
              "#ed7953"
             ],
             [
              0.7777777777777778,
              "#fb9f3a"
             ],
             [
              0.8888888888888888,
              "#fdca26"
             ],
             [
              1,
              "#f0f921"
             ]
            ],
            "type": "histogram2dcontour"
           }
          ],
          "mesh3d": [
           {
            "colorbar": {
             "outlinewidth": 0,
             "ticks": ""
            },
            "type": "mesh3d"
           }
          ],
          "parcoords": [
           {
            "line": {
             "colorbar": {
              "outlinewidth": 0,
              "ticks": ""
             }
            },
            "type": "parcoords"
           }
          ],
          "pie": [
           {
            "automargin": true,
            "type": "pie"
           }
          ],
          "scatter": [
           {
            "fillpattern": {
             "fillmode": "overlay",
             "size": 10,
             "solidity": 0.2
            },
            "type": "scatter"
           }
          ],
          "scatter3d": [
           {
            "line": {
             "colorbar": {
              "outlinewidth": 0,
              "ticks": ""
             }
            },
            "marker": {
             "colorbar": {
              "outlinewidth": 0,
              "ticks": ""
             }
            },
            "type": "scatter3d"
           }
          ],
          "scattercarpet": [
           {
            "marker": {
             "colorbar": {
              "outlinewidth": 0,
              "ticks": ""
             }
            },
            "type": "scattercarpet"
           }
          ],
          "scattergeo": [
           {
            "marker": {
             "colorbar": {
              "outlinewidth": 0,
              "ticks": ""
             }
            },
            "type": "scattergeo"
           }
          ],
          "scattergl": [
           {
            "marker": {
             "colorbar": {
              "outlinewidth": 0,
              "ticks": ""
             }
            },
            "type": "scattergl"
           }
          ],
          "scattermapbox": [
           {
            "marker": {
             "colorbar": {
              "outlinewidth": 0,
              "ticks": ""
             }
            },
            "type": "scattermapbox"
           }
          ],
          "scatterpolar": [
           {
            "marker": {
             "colorbar": {
              "outlinewidth": 0,
              "ticks": ""
             }
            },
            "type": "scatterpolar"
           }
          ],
          "scatterpolargl": [
           {
            "marker": {
             "colorbar": {
              "outlinewidth": 0,
              "ticks": ""
             }
            },
            "type": "scatterpolargl"
           }
          ],
          "scatterternary": [
           {
            "marker": {
             "colorbar": {
              "outlinewidth": 0,
              "ticks": ""
             }
            },
            "type": "scatterternary"
           }
          ],
          "surface": [
           {
            "colorbar": {
             "outlinewidth": 0,
             "ticks": ""
            },
            "colorscale": [
             [
              0,
              "#0d0887"
             ],
             [
              0.1111111111111111,
              "#46039f"
             ],
             [
              0.2222222222222222,
              "#7201a8"
             ],
             [
              0.3333333333333333,
              "#9c179e"
             ],
             [
              0.4444444444444444,
              "#bd3786"
             ],
             [
              0.5555555555555556,
              "#d8576b"
             ],
             [
              0.6666666666666666,
              "#ed7953"
             ],
             [
              0.7777777777777778,
              "#fb9f3a"
             ],
             [
              0.8888888888888888,
              "#fdca26"
             ],
             [
              1,
              "#f0f921"
             ]
            ],
            "type": "surface"
           }
          ],
          "table": [
           {
            "cells": {
             "fill": {
              "color": "#EBF0F8"
             },
             "line": {
              "color": "white"
             }
            },
            "header": {
             "fill": {
              "color": "#C8D4E3"
             },
             "line": {
              "color": "white"
             }
            },
            "type": "table"
           }
          ]
         },
         "layout": {
          "annotationdefaults": {
           "arrowcolor": "#2a3f5f",
           "arrowhead": 0,
           "arrowwidth": 1
          },
          "autotypenumbers": "strict",
          "coloraxis": {
           "colorbar": {
            "outlinewidth": 0,
            "ticks": ""
           }
          },
          "colorscale": {
           "diverging": [
            [
             0,
             "#8e0152"
            ],
            [
             0.1,
             "#c51b7d"
            ],
            [
             0.2,
             "#de77ae"
            ],
            [
             0.3,
             "#f1b6da"
            ],
            [
             0.4,
             "#fde0ef"
            ],
            [
             0.5,
             "#f7f7f7"
            ],
            [
             0.6,
             "#e6f5d0"
            ],
            [
             0.7,
             "#b8e186"
            ],
            [
             0.8,
             "#7fbc41"
            ],
            [
             0.9,
             "#4d9221"
            ],
            [
             1,
             "#276419"
            ]
           ],
           "sequential": [
            [
             0,
             "#0d0887"
            ],
            [
             0.1111111111111111,
             "#46039f"
            ],
            [
             0.2222222222222222,
             "#7201a8"
            ],
            [
             0.3333333333333333,
             "#9c179e"
            ],
            [
             0.4444444444444444,
             "#bd3786"
            ],
            [
             0.5555555555555556,
             "#d8576b"
            ],
            [
             0.6666666666666666,
             "#ed7953"
            ],
            [
             0.7777777777777778,
             "#fb9f3a"
            ],
            [
             0.8888888888888888,
             "#fdca26"
            ],
            [
             1,
             "#f0f921"
            ]
           ],
           "sequentialminus": [
            [
             0,
             "#0d0887"
            ],
            [
             0.1111111111111111,
             "#46039f"
            ],
            [
             0.2222222222222222,
             "#7201a8"
            ],
            [
             0.3333333333333333,
             "#9c179e"
            ],
            [
             0.4444444444444444,
             "#bd3786"
            ],
            [
             0.5555555555555556,
             "#d8576b"
            ],
            [
             0.6666666666666666,
             "#ed7953"
            ],
            [
             0.7777777777777778,
             "#fb9f3a"
            ],
            [
             0.8888888888888888,
             "#fdca26"
            ],
            [
             1,
             "#f0f921"
            ]
           ]
          },
          "colorway": [
           "#636efa",
           "#EF553B",
           "#00cc96",
           "#ab63fa",
           "#FFA15A",
           "#19d3f3",
           "#FF6692",
           "#B6E880",
           "#FF97FF",
           "#FECB52"
          ],
          "font": {
           "color": "#2a3f5f"
          },
          "geo": {
           "bgcolor": "white",
           "lakecolor": "white",
           "landcolor": "#E5ECF6",
           "showlakes": true,
           "showland": true,
           "subunitcolor": "white"
          },
          "hoverlabel": {
           "align": "left"
          },
          "hovermode": "closest",
          "mapbox": {
           "style": "light"
          },
          "paper_bgcolor": "white",
          "plot_bgcolor": "#E5ECF6",
          "polar": {
           "angularaxis": {
            "gridcolor": "white",
            "linecolor": "white",
            "ticks": ""
           },
           "bgcolor": "#E5ECF6",
           "radialaxis": {
            "gridcolor": "white",
            "linecolor": "white",
            "ticks": ""
           }
          },
          "scene": {
           "xaxis": {
            "backgroundcolor": "#E5ECF6",
            "gridcolor": "white",
            "gridwidth": 2,
            "linecolor": "white",
            "showbackground": true,
            "ticks": "",
            "zerolinecolor": "white"
           },
           "yaxis": {
            "backgroundcolor": "#E5ECF6",
            "gridcolor": "white",
            "gridwidth": 2,
            "linecolor": "white",
            "showbackground": true,
            "ticks": "",
            "zerolinecolor": "white"
           },
           "zaxis": {
            "backgroundcolor": "#E5ECF6",
            "gridcolor": "white",
            "gridwidth": 2,
            "linecolor": "white",
            "showbackground": true,
            "ticks": "",
            "zerolinecolor": "white"
           }
          },
          "shapedefaults": {
           "line": {
            "color": "#2a3f5f"
           }
          },
          "ternary": {
           "aaxis": {
            "gridcolor": "white",
            "linecolor": "white",
            "ticks": ""
           },
           "baxis": {
            "gridcolor": "white",
            "linecolor": "white",
            "ticks": ""
           },
           "bgcolor": "#E5ECF6",
           "caxis": {
            "gridcolor": "white",
            "linecolor": "white",
            "ticks": ""
           }
          },
          "title": {
           "x": 0.05
          },
          "xaxis": {
           "automargin": true,
           "gridcolor": "white",
           "linecolor": "white",
           "ticks": "",
           "title": {
            "standoff": 15
           },
           "zerolinecolor": "white",
           "zerolinewidth": 2
          },
          "yaxis": {
           "automargin": true,
           "gridcolor": "white",
           "linecolor": "white",
           "ticks": "",
           "title": {
            "standoff": 15
           },
           "zerolinecolor": "white",
           "zerolinewidth": 2
          }
         }
        },
        "title": {
         "text": "Age distribution in All Olympic Games"
        },
        "xaxis": {
         "anchor": "y",
         "domain": [
          0,
          1
         ],
         "range": [
          6.699999999999999,
          46.7
         ],
         "title": {
          "text": "Age"
         }
        },
        "yaxis": {
         "anchor": "x",
         "domain": [
          0,
          1
         ],
         "title": {
          "text": "sum of Number of Athletes"
         },
         "type": "log"
        }
       }
      }
     },
     "metadata": {},
     "output_type": "display_data"
    }
   ],
   "source": [
    "mean_age_all = round(df_all_selected_sports[\"Age\"].mean(), 1)\n",
    "\n",
    "age_distribution = (\n",
    "    df_all_selected_sports.groupby(['Sport', 'Age'])\n",
    "    .size()\n",
    "    .reset_index(name=\"Number of Athletes\")\n",
    ")\n",
    "\n",
    "# Plotting a histogram of ages of athletes from SWE in all olympic games around the mean age\n",
    "fig = px.histogram(\n",
    "    age_distribution, \n",
    "    x=\"Age\",\n",
    "    y=\"Number of Athletes\",\n",
    "    log_y=True,\n",
    "    color='Sport',\n",
    "    title=\"Age distribution in All Olympic Games\",\n",
    "    range_x=[mean_age_all-20, mean_age_all+20],\n",
    "    barmode='group',\n",
    "    nbins=80\n",
    ")\n",
    "\n",
    "# Mark the mean age in the x-axis\n",
    "fig.add_vline(x=mean_age_all, line_width=3, line_dash=\"dash\", line_color=\"green\", annotation_text=\"Mean age all sports\")\n",
    "\n",
    "# Making spaces between bars\n",
    "fig.update_layout(bargap=0.01)\n",
    "\n",
    "fig.show()"
   ]
  },
  {
   "cell_type": "code",
   "execution_count": 13,
   "metadata": {},
   "outputs": [
    {
     "data": {
      "application/vnd.plotly.v1+json": {
       "config": {
        "plotlyServerURL": "https://plot.ly"
       },
       "data": [
        {
         "branchvalues": "total",
         "domain": {
          "x": [
           0,
           1
          ],
          "y": [
           0,
           1
          ]
         },
         "hovertemplate": "labels=%{label}<br>Number of Athletes=%{value}<br>parent=%{parent}<br>id=%{id}<extra></extra>",
         "ids": [
          "Athletics/12.0",
          "Athletics/13.0",
          "Athletics/14.0",
          "Athletics/15.0",
          "Cross Country Skiing/15.0",
          "Ice Hockey/15.0",
          "Shooting/15.0",
          "Athletics/16.0",
          "Cross Country Skiing/16.0",
          "Ice Hockey/16.0",
          "Shooting/16.0",
          "Athletics/17.0",
          "Cross Country Skiing/17.0",
          "Ice Hockey/17.0",
          "Shooting/17.0",
          "Athletics/18.0",
          "Cross Country Skiing/18.0",
          "Ice Hockey/18.0",
          "Shooting/18.0",
          "Athletics/19.0",
          "Cross Country Skiing/19.0",
          "Ice Hockey/19.0",
          "Shooting/19.0",
          "Athletics/20.0",
          "Cross Country Skiing/20.0",
          "Ice Hockey/20.0",
          "Shooting/20.0",
          "Athletics/21.0",
          "Cross Country Skiing/21.0",
          "Ice Hockey/21.0",
          "Shooting/21.0",
          "Athletics/22.0",
          "Cross Country Skiing/22.0",
          "Ice Hockey/22.0",
          "Shooting/22.0",
          "Athletics/23.0",
          "Cross Country Skiing/23.0",
          "Ice Hockey/23.0",
          "Shooting/23.0",
          "Athletics/24.0",
          "Cross Country Skiing/24.0",
          "Ice Hockey/24.0",
          "Shooting/24.0",
          "Athletics/25.0",
          "Cross Country Skiing/25.0",
          "Ice Hockey/25.0",
          "Shooting/25.0",
          "Athletics/26.0",
          "Cross Country Skiing/26.0",
          "Ice Hockey/26.0",
          "Shooting/26.0",
          "Athletics/27.0",
          "Cross Country Skiing/27.0",
          "Ice Hockey/27.0",
          "Shooting/27.0",
          "Athletics/28.0",
          "Cross Country Skiing/28.0",
          "Ice Hockey/28.0",
          "Shooting/28.0",
          "Athletics/29.0",
          "Cross Country Skiing/29.0",
          "Ice Hockey/29.0",
          "Shooting/29.0",
          "Athletics/30.0",
          "Cross Country Skiing/30.0",
          "Ice Hockey/30.0",
          "Shooting/30.0",
          "Athletics/31.0",
          "Cross Country Skiing/31.0",
          "Ice Hockey/31.0",
          "Shooting/31.0",
          "Athletics/32.0",
          "Cross Country Skiing/32.0",
          "Ice Hockey/32.0",
          "Shooting/32.0",
          "Athletics/33.0",
          "Cross Country Skiing/33.0",
          "Ice Hockey/33.0",
          "Shooting/33.0",
          "Athletics/34.0",
          "Cross Country Skiing/34.0",
          "Ice Hockey/34.0",
          "Shooting/34.0",
          "Athletics/35.0",
          "Cross Country Skiing/35.0",
          "Ice Hockey/35.0",
          "Shooting/35.0",
          "Athletics/36.0",
          "Cross Country Skiing/36.0",
          "Ice Hockey/36.0",
          "Shooting/36.0",
          "Athletics/37.0",
          "Cross Country Skiing/37.0",
          "Ice Hockey/37.0",
          "Shooting/37.0",
          "Athletics/38.0",
          "Cross Country Skiing/38.0",
          "Ice Hockey/38.0",
          "Shooting/38.0",
          "Athletics/39.0",
          "Cross Country Skiing/39.0",
          "Ice Hockey/39.0",
          "Shooting/39.0",
          "Athletics/40.0",
          "Cross Country Skiing/40.0",
          "Ice Hockey/40.0",
          "Shooting/40.0",
          "Athletics/41.0",
          "Cross Country Skiing/41.0",
          "Ice Hockey/41.0",
          "Shooting/41.0",
          "Athletics/42.0",
          "Ice Hockey/42.0",
          "Shooting/42.0",
          "Athletics/43.0",
          "Cross Country Skiing/43.0",
          "Ice Hockey/43.0",
          "Shooting/43.0",
          "Athletics/44.0",
          "Cross Country Skiing/44.0",
          "Ice Hockey/44.0",
          "Shooting/44.0",
          "Athletics/45.0",
          "Cross Country Skiing/45.0",
          "Shooting/45.0",
          "Athletics/46.0",
          "Ice Hockey/46.0",
          "Shooting/46.0",
          "Athletics/47.0",
          "Cross Country Skiing/47.0",
          "Shooting/47.0",
          "Athletics/48.0",
          "Ice Hockey/48.0",
          "Shooting/48.0",
          "Athletics/49.0",
          "Cross Country Skiing/49.0",
          "Shooting/49.0",
          "Athletics/50.0",
          "Shooting/50.0",
          "Shooting/51.0",
          "Athletics/52.0",
          "Shooting/52.0",
          "Shooting/53.0",
          "Shooting/54.0",
          "Shooting/55.0",
          "Shooting/56.0",
          "Shooting/57.0",
          "Shooting/58.0",
          "Shooting/59.0",
          "Shooting/60.0",
          "Shooting/61.0",
          "Shooting/62.0",
          "Shooting/63.0",
          "Shooting/64.0",
          "Shooting/65.0",
          "Shooting/66.0",
          "Shooting/68.0",
          "Shooting/70.0",
          "Shooting/72.0",
          "Athletics",
          "Cross Country Skiing",
          "Ice Hockey",
          "Shooting"
         ],
         "labels": [
          "12.0",
          "13.0",
          "14.0",
          "15.0",
          "15.0",
          "15.0",
          "15.0",
          "16.0",
          "16.0",
          "16.0",
          "16.0",
          "17.0",
          "17.0",
          "17.0",
          "17.0",
          "18.0",
          "18.0",
          "18.0",
          "18.0",
          "19.0",
          "19.0",
          "19.0",
          "19.0",
          "20.0",
          "20.0",
          "20.0",
          "20.0",
          "21.0",
          "21.0",
          "21.0",
          "21.0",
          "22.0",
          "22.0",
          "22.0",
          "22.0",
          "23.0",
          "23.0",
          "23.0",
          "23.0",
          "24.0",
          "24.0",
          "24.0",
          "24.0",
          "25.0",
          "25.0",
          "25.0",
          "25.0",
          "26.0",
          "26.0",
          "26.0",
          "26.0",
          "27.0",
          "27.0",
          "27.0",
          "27.0",
          "28.0",
          "28.0",
          "28.0",
          "28.0",
          "29.0",
          "29.0",
          "29.0",
          "29.0",
          "30.0",
          "30.0",
          "30.0",
          "30.0",
          "31.0",
          "31.0",
          "31.0",
          "31.0",
          "32.0",
          "32.0",
          "32.0",
          "32.0",
          "33.0",
          "33.0",
          "33.0",
          "33.0",
          "34.0",
          "34.0",
          "34.0",
          "34.0",
          "35.0",
          "35.0",
          "35.0",
          "35.0",
          "36.0",
          "36.0",
          "36.0",
          "36.0",
          "37.0",
          "37.0",
          "37.0",
          "37.0",
          "38.0",
          "38.0",
          "38.0",
          "38.0",
          "39.0",
          "39.0",
          "39.0",
          "39.0",
          "40.0",
          "40.0",
          "40.0",
          "40.0",
          "41.0",
          "41.0",
          "41.0",
          "41.0",
          "42.0",
          "42.0",
          "42.0",
          "43.0",
          "43.0",
          "43.0",
          "43.0",
          "44.0",
          "44.0",
          "44.0",
          "44.0",
          "45.0",
          "45.0",
          "45.0",
          "46.0",
          "46.0",
          "46.0",
          "47.0",
          "47.0",
          "47.0",
          "48.0",
          "48.0",
          "48.0",
          "49.0",
          "49.0",
          "49.0",
          "50.0",
          "50.0",
          "51.0",
          "52.0",
          "52.0",
          "53.0",
          "54.0",
          "55.0",
          "56.0",
          "57.0",
          "58.0",
          "59.0",
          "60.0",
          "61.0",
          "62.0",
          "63.0",
          "64.0",
          "65.0",
          "66.0",
          "68.0",
          "70.0",
          "72.0",
          "Athletics",
          "Cross Country Skiing",
          "Ice Hockey",
          "Shooting"
         ],
         "name": "",
         "parents": [
          "Athletics",
          "Athletics",
          "Athletics",
          "Athletics",
          "Cross Country Skiing",
          "Ice Hockey",
          "Shooting",
          "Athletics",
          "Cross Country Skiing",
          "Ice Hockey",
          "Shooting",
          "Athletics",
          "Cross Country Skiing",
          "Ice Hockey",
          "Shooting",
          "Athletics",
          "Cross Country Skiing",
          "Ice Hockey",
          "Shooting",
          "Athletics",
          "Cross Country Skiing",
          "Ice Hockey",
          "Shooting",
          "Athletics",
          "Cross Country Skiing",
          "Ice Hockey",
          "Shooting",
          "Athletics",
          "Cross Country Skiing",
          "Ice Hockey",
          "Shooting",
          "Athletics",
          "Cross Country Skiing",
          "Ice Hockey",
          "Shooting",
          "Athletics",
          "Cross Country Skiing",
          "Ice Hockey",
          "Shooting",
          "Athletics",
          "Cross Country Skiing",
          "Ice Hockey",
          "Shooting",
          "Athletics",
          "Cross Country Skiing",
          "Ice Hockey",
          "Shooting",
          "Athletics",
          "Cross Country Skiing",
          "Ice Hockey",
          "Shooting",
          "Athletics",
          "Cross Country Skiing",
          "Ice Hockey",
          "Shooting",
          "Athletics",
          "Cross Country Skiing",
          "Ice Hockey",
          "Shooting",
          "Athletics",
          "Cross Country Skiing",
          "Ice Hockey",
          "Shooting",
          "Athletics",
          "Cross Country Skiing",
          "Ice Hockey",
          "Shooting",
          "Athletics",
          "Cross Country Skiing",
          "Ice Hockey",
          "Shooting",
          "Athletics",
          "Cross Country Skiing",
          "Ice Hockey",
          "Shooting",
          "Athletics",
          "Cross Country Skiing",
          "Ice Hockey",
          "Shooting",
          "Athletics",
          "Cross Country Skiing",
          "Ice Hockey",
          "Shooting",
          "Athletics",
          "Cross Country Skiing",
          "Ice Hockey",
          "Shooting",
          "Athletics",
          "Cross Country Skiing",
          "Ice Hockey",
          "Shooting",
          "Athletics",
          "Cross Country Skiing",
          "Ice Hockey",
          "Shooting",
          "Athletics",
          "Cross Country Skiing",
          "Ice Hockey",
          "Shooting",
          "Athletics",
          "Cross Country Skiing",
          "Ice Hockey",
          "Shooting",
          "Athletics",
          "Cross Country Skiing",
          "Ice Hockey",
          "Shooting",
          "Athletics",
          "Cross Country Skiing",
          "Ice Hockey",
          "Shooting",
          "Athletics",
          "Ice Hockey",
          "Shooting",
          "Athletics",
          "Cross Country Skiing",
          "Ice Hockey",
          "Shooting",
          "Athletics",
          "Cross Country Skiing",
          "Ice Hockey",
          "Shooting",
          "Athletics",
          "Cross Country Skiing",
          "Shooting",
          "Athletics",
          "Ice Hockey",
          "Shooting",
          "Athletics",
          "Cross Country Skiing",
          "Shooting",
          "Athletics",
          "Ice Hockey",
          "Shooting",
          "Athletics",
          "Cross Country Skiing",
          "Shooting",
          "Athletics",
          "Shooting",
          "Shooting",
          "Athletics",
          "Shooting",
          "Shooting",
          "Shooting",
          "Shooting",
          "Shooting",
          "Shooting",
          "Shooting",
          "Shooting",
          "Shooting",
          "Shooting",
          "Shooting",
          "Shooting",
          "Shooting",
          "Shooting",
          "Shooting",
          "Shooting",
          "Shooting",
          "Shooting",
          "",
          "",
          "",
          ""
         ],
         "type": "sunburst",
         "values": [
          2,
          2,
          6,
          49,
          2,
          4,
          2,
          137,
          21,
          16,
          21,
          346,
          50,
          27,
          46,
          743,
          120,
          91,
          64,
          1354,
          226,
          145,
          120,
          2177,
          328,
          252,
          169,
          2866,
          507,
          355,
          251,
          3317,
          707,
          456,
          258,
          3744,
          841,
          494,
          325,
          3597,
          857,
          477,
          367,
          3431,
          794,
          498,
          411,
          3045,
          781,
          455,
          437,
          2747,
          730,
          443,
          433,
          2288,
          716,
          339,
          493,
          1795,
          549,
          320,
          429,
          1545,
          508,
          288,
          421,
          1067,
          376,
          218,
          463,
          915,
          298,
          172,
          536,
          620,
          244,
          131,
          475,
          504,
          149,
          80,
          467,
          362,
          80,
          97,
          473,
          258,
          76,
          41,
          416,
          182,
          57,
          37,
          372,
          137,
          30,
          18,
          343,
          84,
          15,
          9,
          383,
          72,
          14,
          9,
          312,
          35,
          9,
          8,
          304,
          29,
          2,
          241,
          14,
          7,
          1,
          266,
          14,
          1,
          1,
          202,
          5,
          2,
          171,
          8,
          2,
          144,
          2,
          2,
          126,
          5,
          1,
          128,
          1,
          1,
          94,
          1,
          84,
          66,
          1,
          77,
          35,
          46,
          20,
          37,
          23,
          6,
          13,
          22,
          6,
          6,
          4,
          6,
          5,
          3,
          1,
          1,
          3,
          37507,
          9098,
          5487,
          10627
         ]
        }
       ],
       "layout": {
        "legend": {
         "tracegroupgap": 0
        },
        "margin": {
         "t": 60
        },
        "template": {
         "data": {
          "bar": [
           {
            "error_x": {
             "color": "#2a3f5f"
            },
            "error_y": {
             "color": "#2a3f5f"
            },
            "marker": {
             "line": {
              "color": "#E5ECF6",
              "width": 0.5
             },
             "pattern": {
              "fillmode": "overlay",
              "size": 10,
              "solidity": 0.2
             }
            },
            "type": "bar"
           }
          ],
          "barpolar": [
           {
            "marker": {
             "line": {
              "color": "#E5ECF6",
              "width": 0.5
             },
             "pattern": {
              "fillmode": "overlay",
              "size": 10,
              "solidity": 0.2
             }
            },
            "type": "barpolar"
           }
          ],
          "carpet": [
           {
            "aaxis": {
             "endlinecolor": "#2a3f5f",
             "gridcolor": "white",
             "linecolor": "white",
             "minorgridcolor": "white",
             "startlinecolor": "#2a3f5f"
            },
            "baxis": {
             "endlinecolor": "#2a3f5f",
             "gridcolor": "white",
             "linecolor": "white",
             "minorgridcolor": "white",
             "startlinecolor": "#2a3f5f"
            },
            "type": "carpet"
           }
          ],
          "choropleth": [
           {
            "colorbar": {
             "outlinewidth": 0,
             "ticks": ""
            },
            "type": "choropleth"
           }
          ],
          "contour": [
           {
            "colorbar": {
             "outlinewidth": 0,
             "ticks": ""
            },
            "colorscale": [
             [
              0,
              "#0d0887"
             ],
             [
              0.1111111111111111,
              "#46039f"
             ],
             [
              0.2222222222222222,
              "#7201a8"
             ],
             [
              0.3333333333333333,
              "#9c179e"
             ],
             [
              0.4444444444444444,
              "#bd3786"
             ],
             [
              0.5555555555555556,
              "#d8576b"
             ],
             [
              0.6666666666666666,
              "#ed7953"
             ],
             [
              0.7777777777777778,
              "#fb9f3a"
             ],
             [
              0.8888888888888888,
              "#fdca26"
             ],
             [
              1,
              "#f0f921"
             ]
            ],
            "type": "contour"
           }
          ],
          "contourcarpet": [
           {
            "colorbar": {
             "outlinewidth": 0,
             "ticks": ""
            },
            "type": "contourcarpet"
           }
          ],
          "heatmap": [
           {
            "colorbar": {
             "outlinewidth": 0,
             "ticks": ""
            },
            "colorscale": [
             [
              0,
              "#0d0887"
             ],
             [
              0.1111111111111111,
              "#46039f"
             ],
             [
              0.2222222222222222,
              "#7201a8"
             ],
             [
              0.3333333333333333,
              "#9c179e"
             ],
             [
              0.4444444444444444,
              "#bd3786"
             ],
             [
              0.5555555555555556,
              "#d8576b"
             ],
             [
              0.6666666666666666,
              "#ed7953"
             ],
             [
              0.7777777777777778,
              "#fb9f3a"
             ],
             [
              0.8888888888888888,
              "#fdca26"
             ],
             [
              1,
              "#f0f921"
             ]
            ],
            "type": "heatmap"
           }
          ],
          "heatmapgl": [
           {
            "colorbar": {
             "outlinewidth": 0,
             "ticks": ""
            },
            "colorscale": [
             [
              0,
              "#0d0887"
             ],
             [
              0.1111111111111111,
              "#46039f"
             ],
             [
              0.2222222222222222,
              "#7201a8"
             ],
             [
              0.3333333333333333,
              "#9c179e"
             ],
             [
              0.4444444444444444,
              "#bd3786"
             ],
             [
              0.5555555555555556,
              "#d8576b"
             ],
             [
              0.6666666666666666,
              "#ed7953"
             ],
             [
              0.7777777777777778,
              "#fb9f3a"
             ],
             [
              0.8888888888888888,
              "#fdca26"
             ],
             [
              1,
              "#f0f921"
             ]
            ],
            "type": "heatmapgl"
           }
          ],
          "histogram": [
           {
            "marker": {
             "pattern": {
              "fillmode": "overlay",
              "size": 10,
              "solidity": 0.2
             }
            },
            "type": "histogram"
           }
          ],
          "histogram2d": [
           {
            "colorbar": {
             "outlinewidth": 0,
             "ticks": ""
            },
            "colorscale": [
             [
              0,
              "#0d0887"
             ],
             [
              0.1111111111111111,
              "#46039f"
             ],
             [
              0.2222222222222222,
              "#7201a8"
             ],
             [
              0.3333333333333333,
              "#9c179e"
             ],
             [
              0.4444444444444444,
              "#bd3786"
             ],
             [
              0.5555555555555556,
              "#d8576b"
             ],
             [
              0.6666666666666666,
              "#ed7953"
             ],
             [
              0.7777777777777778,
              "#fb9f3a"
             ],
             [
              0.8888888888888888,
              "#fdca26"
             ],
             [
              1,
              "#f0f921"
             ]
            ],
            "type": "histogram2d"
           }
          ],
          "histogram2dcontour": [
           {
            "colorbar": {
             "outlinewidth": 0,
             "ticks": ""
            },
            "colorscale": [
             [
              0,
              "#0d0887"
             ],
             [
              0.1111111111111111,
              "#46039f"
             ],
             [
              0.2222222222222222,
              "#7201a8"
             ],
             [
              0.3333333333333333,
              "#9c179e"
             ],
             [
              0.4444444444444444,
              "#bd3786"
             ],
             [
              0.5555555555555556,
              "#d8576b"
             ],
             [
              0.6666666666666666,
              "#ed7953"
             ],
             [
              0.7777777777777778,
              "#fb9f3a"
             ],
             [
              0.8888888888888888,
              "#fdca26"
             ],
             [
              1,
              "#f0f921"
             ]
            ],
            "type": "histogram2dcontour"
           }
          ],
          "mesh3d": [
           {
            "colorbar": {
             "outlinewidth": 0,
             "ticks": ""
            },
            "type": "mesh3d"
           }
          ],
          "parcoords": [
           {
            "line": {
             "colorbar": {
              "outlinewidth": 0,
              "ticks": ""
             }
            },
            "type": "parcoords"
           }
          ],
          "pie": [
           {
            "automargin": true,
            "type": "pie"
           }
          ],
          "scatter": [
           {
            "fillpattern": {
             "fillmode": "overlay",
             "size": 10,
             "solidity": 0.2
            },
            "type": "scatter"
           }
          ],
          "scatter3d": [
           {
            "line": {
             "colorbar": {
              "outlinewidth": 0,
              "ticks": ""
             }
            },
            "marker": {
             "colorbar": {
              "outlinewidth": 0,
              "ticks": ""
             }
            },
            "type": "scatter3d"
           }
          ],
          "scattercarpet": [
           {
            "marker": {
             "colorbar": {
              "outlinewidth": 0,
              "ticks": ""
             }
            },
            "type": "scattercarpet"
           }
          ],
          "scattergeo": [
           {
            "marker": {
             "colorbar": {
              "outlinewidth": 0,
              "ticks": ""
             }
            },
            "type": "scattergeo"
           }
          ],
          "scattergl": [
           {
            "marker": {
             "colorbar": {
              "outlinewidth": 0,
              "ticks": ""
             }
            },
            "type": "scattergl"
           }
          ],
          "scattermapbox": [
           {
            "marker": {
             "colorbar": {
              "outlinewidth": 0,
              "ticks": ""
             }
            },
            "type": "scattermapbox"
           }
          ],
          "scatterpolar": [
           {
            "marker": {
             "colorbar": {
              "outlinewidth": 0,
              "ticks": ""
             }
            },
            "type": "scatterpolar"
           }
          ],
          "scatterpolargl": [
           {
            "marker": {
             "colorbar": {
              "outlinewidth": 0,
              "ticks": ""
             }
            },
            "type": "scatterpolargl"
           }
          ],
          "scatterternary": [
           {
            "marker": {
             "colorbar": {
              "outlinewidth": 0,
              "ticks": ""
             }
            },
            "type": "scatterternary"
           }
          ],
          "surface": [
           {
            "colorbar": {
             "outlinewidth": 0,
             "ticks": ""
            },
            "colorscale": [
             [
              0,
              "#0d0887"
             ],
             [
              0.1111111111111111,
              "#46039f"
             ],
             [
              0.2222222222222222,
              "#7201a8"
             ],
             [
              0.3333333333333333,
              "#9c179e"
             ],
             [
              0.4444444444444444,
              "#bd3786"
             ],
             [
              0.5555555555555556,
              "#d8576b"
             ],
             [
              0.6666666666666666,
              "#ed7953"
             ],
             [
              0.7777777777777778,
              "#fb9f3a"
             ],
             [
              0.8888888888888888,
              "#fdca26"
             ],
             [
              1,
              "#f0f921"
             ]
            ],
            "type": "surface"
           }
          ],
          "table": [
           {
            "cells": {
             "fill": {
              "color": "#EBF0F8"
             },
             "line": {
              "color": "white"
             }
            },
            "header": {
             "fill": {
              "color": "#C8D4E3"
             },
             "line": {
              "color": "white"
             }
            },
            "type": "table"
           }
          ]
         },
         "layout": {
          "annotationdefaults": {
           "arrowcolor": "#2a3f5f",
           "arrowhead": 0,
           "arrowwidth": 1
          },
          "autotypenumbers": "strict",
          "coloraxis": {
           "colorbar": {
            "outlinewidth": 0,
            "ticks": ""
           }
          },
          "colorscale": {
           "diverging": [
            [
             0,
             "#8e0152"
            ],
            [
             0.1,
             "#c51b7d"
            ],
            [
             0.2,
             "#de77ae"
            ],
            [
             0.3,
             "#f1b6da"
            ],
            [
             0.4,
             "#fde0ef"
            ],
            [
             0.5,
             "#f7f7f7"
            ],
            [
             0.6,
             "#e6f5d0"
            ],
            [
             0.7,
             "#b8e186"
            ],
            [
             0.8,
             "#7fbc41"
            ],
            [
             0.9,
             "#4d9221"
            ],
            [
             1,
             "#276419"
            ]
           ],
           "sequential": [
            [
             0,
             "#0d0887"
            ],
            [
             0.1111111111111111,
             "#46039f"
            ],
            [
             0.2222222222222222,
             "#7201a8"
            ],
            [
             0.3333333333333333,
             "#9c179e"
            ],
            [
             0.4444444444444444,
             "#bd3786"
            ],
            [
             0.5555555555555556,
             "#d8576b"
            ],
            [
             0.6666666666666666,
             "#ed7953"
            ],
            [
             0.7777777777777778,
             "#fb9f3a"
            ],
            [
             0.8888888888888888,
             "#fdca26"
            ],
            [
             1,
             "#f0f921"
            ]
           ],
           "sequentialminus": [
            [
             0,
             "#0d0887"
            ],
            [
             0.1111111111111111,
             "#46039f"
            ],
            [
             0.2222222222222222,
             "#7201a8"
            ],
            [
             0.3333333333333333,
             "#9c179e"
            ],
            [
             0.4444444444444444,
             "#bd3786"
            ],
            [
             0.5555555555555556,
             "#d8576b"
            ],
            [
             0.6666666666666666,
             "#ed7953"
            ],
            [
             0.7777777777777778,
             "#fb9f3a"
            ],
            [
             0.8888888888888888,
             "#fdca26"
            ],
            [
             1,
             "#f0f921"
            ]
           ]
          },
          "colorway": [
           "#636efa",
           "#EF553B",
           "#00cc96",
           "#ab63fa",
           "#FFA15A",
           "#19d3f3",
           "#FF6692",
           "#B6E880",
           "#FF97FF",
           "#FECB52"
          ],
          "font": {
           "color": "#2a3f5f"
          },
          "geo": {
           "bgcolor": "white",
           "lakecolor": "white",
           "landcolor": "#E5ECF6",
           "showlakes": true,
           "showland": true,
           "subunitcolor": "white"
          },
          "hoverlabel": {
           "align": "left"
          },
          "hovermode": "closest",
          "mapbox": {
           "style": "light"
          },
          "paper_bgcolor": "white",
          "plot_bgcolor": "#E5ECF6",
          "polar": {
           "angularaxis": {
            "gridcolor": "white",
            "linecolor": "white",
            "ticks": ""
           },
           "bgcolor": "#E5ECF6",
           "radialaxis": {
            "gridcolor": "white",
            "linecolor": "white",
            "ticks": ""
           }
          },
          "scene": {
           "xaxis": {
            "backgroundcolor": "#E5ECF6",
            "gridcolor": "white",
            "gridwidth": 2,
            "linecolor": "white",
            "showbackground": true,
            "ticks": "",
            "zerolinecolor": "white"
           },
           "yaxis": {
            "backgroundcolor": "#E5ECF6",
            "gridcolor": "white",
            "gridwidth": 2,
            "linecolor": "white",
            "showbackground": true,
            "ticks": "",
            "zerolinecolor": "white"
           },
           "zaxis": {
            "backgroundcolor": "#E5ECF6",
            "gridcolor": "white",
            "gridwidth": 2,
            "linecolor": "white",
            "showbackground": true,
            "ticks": "",
            "zerolinecolor": "white"
           }
          },
          "shapedefaults": {
           "line": {
            "color": "#2a3f5f"
           }
          },
          "ternary": {
           "aaxis": {
            "gridcolor": "white",
            "linecolor": "white",
            "ticks": ""
           },
           "baxis": {
            "gridcolor": "white",
            "linecolor": "white",
            "ticks": ""
           },
           "bgcolor": "#E5ECF6",
           "caxis": {
            "gridcolor": "white",
            "linecolor": "white",
            "ticks": ""
           }
          },
          "title": {
           "x": 0.05
          },
          "xaxis": {
           "automargin": true,
           "gridcolor": "white",
           "linecolor": "white",
           "ticks": "",
           "title": {
            "standoff": 15
           },
           "zerolinecolor": "white",
           "zerolinewidth": 2
          },
          "yaxis": {
           "automargin": true,
           "gridcolor": "white",
           "linecolor": "white",
           "ticks": "",
           "title": {
            "standoff": 15
           },
           "zerolinecolor": "white",
           "zerolinewidth": 2
          }
         }
        }
       }
      }
     },
     "metadata": {},
     "output_type": "display_data"
    }
   ],
   "source": [
    "px.sunburst(age_distribution, values='Number of Athletes', path=['Sport', 'Age'])"
   ]
  },
  {
   "cell_type": "markdown",
   "metadata": {},
   "source": [
    "#### Skapa fler plots för att visualisera olika aspekter kring sporterna."
   ]
  },
  {
   "cell_type": "code",
   "execution_count": null,
   "metadata": {},
   "outputs": [],
   "source": []
  }
 ],
 "metadata": {
  "kernelspec": {
   "display_name": "OS-Project-3fF8y37l",
   "language": "python",
   "name": "python3"
  },
  "language_info": {
   "codemirror_mode": {
    "name": "ipython",
    "version": 3
   },
   "file_extension": ".py",
   "mimetype": "text/x-python",
   "name": "python",
   "nbconvert_exporter": "python",
   "pygments_lexer": "ipython3",
   "version": "3.11.5"
  },
  "orig_nbformat": 4
 },
 "nbformat": 4,
 "nbformat_minor": 2
}
