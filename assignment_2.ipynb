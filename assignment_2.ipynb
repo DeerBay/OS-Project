{
 "cells": [
  {
   "cell_type": "markdown",
   "metadata": {},
   "source": [
    "# Sports Statistics\n",
    "\n",
    "Below you'll find statistics for the following sports:\n",
    "- Ice Hockey\n",
    "- Athletics\n",
    "- Shooting\n",
    "- Cross Country Skiing\n",
    "\n",
    "(The four sports that Sweden got the most medals in)"
   ]
  },
  {
   "cell_type": "code",
   "execution_count": 14,
   "metadata": {},
   "outputs": [],
   "source": [
    "import pandas as pd\n",
    "import plotly_express as px"
   ]
  },
  {
   "cell_type": "code",
   "execution_count": 15,
   "metadata": {},
   "outputs": [],
   "source": [
    "# Reading the athlete_events.csv file\n",
    "athlete_events = pd.read_csv(\"data/athlete_events.csv\")"
   ]
  },
  {
   "cell_type": "code",
   "execution_count": 16,
   "metadata": {},
   "outputs": [
    {
     "data": {
      "text/plain": [
       "'len(df_icehockey)=5516'"
      ]
     },
     "metadata": {},
     "output_type": "display_data"
    },
    {
     "data": {
      "text/plain": [
       "'len(df_athletics)=38624'"
      ]
     },
     "metadata": {},
     "output_type": "display_data"
    },
    {
     "data": {
      "text/plain": [
       "'len(df_shooting)=11448'"
      ]
     },
     "metadata": {},
     "output_type": "display_data"
    },
    {
     "data": {
      "text/plain": [
       "'len(df_cross_county_skiing)=9133'"
      ]
     },
     "metadata": {},
     "output_type": "display_data"
    },
    {
     "data": {
      "text/plain": [
       "'len(df_all_selected_sports)=64721'"
      ]
     },
     "metadata": {},
     "output_type": "display_data"
    }
   ],
   "source": [
    "# NOTE: Create a new DataFrame instance named df_icehockey using pandas.\n",
    "# Filter the rows from the existing DataFrame athlete_events based on the condition 'Sport == \"XX\"'.\n",
    "# The resulting DataFrame, df_icehockey, contains data specific to athletes and events in the sport \"XX\".\n",
    "df_icehockey = pd.DataFrame(athlete_events.query('Sport == \"Ice Hockey\"'))\n",
    "df_athletics = pd.DataFrame(athlete_events.query('Sport == \"Athletics\"'))\n",
    "df_shooting = pd.DataFrame(athlete_events.query('Sport == \"Shooting\"'))\n",
    "df_cross_county_skiing = pd.DataFrame(athlete_events.query('Sport == \"Cross Country Skiing\"'))\n",
    "\n",
    "selected_sports = ['Ice Hockey', 'Athletics', 'Shooting', 'Cross Country Skiing']\n",
    "df_all_selected_sports = pd.DataFrame(athlete_events.query('Sport in @selected_sports'))\n",
    "\n",
    "# NOTE: Displaying the length of the df:s using display method\n",
    "display(f\"{len(df_icehockey)=}\")\n",
    "display(f\"{len(df_athletics)=}\")\n",
    "display(f\"{len(df_shooting)=}\")\n",
    "display(f\"{len(df_cross_county_skiing)=}\")\n",
    "display(f\"{len(df_all_selected_sports)=}\")"
   ]
  },
  {
   "cell_type": "code",
   "execution_count": 17,
   "metadata": {},
   "outputs": [
    {
     "data": {
      "text/html": [
       "<div>\n",
       "<style scoped>\n",
       "    .dataframe tbody tr th:only-of-type {\n",
       "        vertical-align: middle;\n",
       "    }\n",
       "\n",
       "    .dataframe tbody tr th {\n",
       "        vertical-align: top;\n",
       "    }\n",
       "\n",
       "    .dataframe thead th {\n",
       "        text-align: right;\n",
       "    }\n",
       "</style>\n",
       "<table border=\"1\" class=\"dataframe\">\n",
       "  <thead>\n",
       "    <tr style=\"text-align: right;\">\n",
       "      <th></th>\n",
       "      <th>ID</th>\n",
       "      <th>Name</th>\n",
       "      <th>Sex</th>\n",
       "      <th>Age</th>\n",
       "      <th>Height</th>\n",
       "      <th>Weight</th>\n",
       "      <th>Team</th>\n",
       "      <th>NOC</th>\n",
       "      <th>Games</th>\n",
       "      <th>Year</th>\n",
       "      <th>Season</th>\n",
       "      <th>City</th>\n",
       "      <th>Sport</th>\n",
       "      <th>Event</th>\n",
       "      <th>Medal</th>\n",
       "    </tr>\n",
       "  </thead>\n",
       "  <tbody>\n",
       "    <tr>\n",
       "      <th>10</th>\n",
       "      <td>6</td>\n",
       "      <td>Per Knut Aaland</td>\n",
       "      <td>M</td>\n",
       "      <td>31.0</td>\n",
       "      <td>188.0</td>\n",
       "      <td>75.0</td>\n",
       "      <td>United States</td>\n",
       "      <td>USA</td>\n",
       "      <td>1992 Winter</td>\n",
       "      <td>1992</td>\n",
       "      <td>Winter</td>\n",
       "      <td>Albertville</td>\n",
       "      <td>Cross Country Skiing</td>\n",
       "      <td>Cross Country Skiing Men's 10 kilometres</td>\n",
       "      <td>NaN</td>\n",
       "    </tr>\n",
       "    <tr>\n",
       "      <th>11</th>\n",
       "      <td>6</td>\n",
       "      <td>Per Knut Aaland</td>\n",
       "      <td>M</td>\n",
       "      <td>31.0</td>\n",
       "      <td>188.0</td>\n",
       "      <td>75.0</td>\n",
       "      <td>United States</td>\n",
       "      <td>USA</td>\n",
       "      <td>1992 Winter</td>\n",
       "      <td>1992</td>\n",
       "      <td>Winter</td>\n",
       "      <td>Albertville</td>\n",
       "      <td>Cross Country Skiing</td>\n",
       "      <td>Cross Country Skiing Men's 50 kilometres</td>\n",
       "      <td>NaN</td>\n",
       "    </tr>\n",
       "    <tr>\n",
       "      <th>12</th>\n",
       "      <td>6</td>\n",
       "      <td>Per Knut Aaland</td>\n",
       "      <td>M</td>\n",
       "      <td>31.0</td>\n",
       "      <td>188.0</td>\n",
       "      <td>75.0</td>\n",
       "      <td>United States</td>\n",
       "      <td>USA</td>\n",
       "      <td>1992 Winter</td>\n",
       "      <td>1992</td>\n",
       "      <td>Winter</td>\n",
       "      <td>Albertville</td>\n",
       "      <td>Cross Country Skiing</td>\n",
       "      <td>Cross Country Skiing Men's 10/15 kilometres Pu...</td>\n",
       "      <td>NaN</td>\n",
       "    </tr>\n",
       "    <tr>\n",
       "      <th>13</th>\n",
       "      <td>6</td>\n",
       "      <td>Per Knut Aaland</td>\n",
       "      <td>M</td>\n",
       "      <td>31.0</td>\n",
       "      <td>188.0</td>\n",
       "      <td>75.0</td>\n",
       "      <td>United States</td>\n",
       "      <td>USA</td>\n",
       "      <td>1992 Winter</td>\n",
       "      <td>1992</td>\n",
       "      <td>Winter</td>\n",
       "      <td>Albertville</td>\n",
       "      <td>Cross Country Skiing</td>\n",
       "      <td>Cross Country Skiing Men's 4 x 10 kilometres R...</td>\n",
       "      <td>NaN</td>\n",
       "    </tr>\n",
       "    <tr>\n",
       "      <th>14</th>\n",
       "      <td>6</td>\n",
       "      <td>Per Knut Aaland</td>\n",
       "      <td>M</td>\n",
       "      <td>33.0</td>\n",
       "      <td>188.0</td>\n",
       "      <td>75.0</td>\n",
       "      <td>United States</td>\n",
       "      <td>USA</td>\n",
       "      <td>1994 Winter</td>\n",
       "      <td>1994</td>\n",
       "      <td>Winter</td>\n",
       "      <td>Lillehammer</td>\n",
       "      <td>Cross Country Skiing</td>\n",
       "      <td>Cross Country Skiing Men's 10 kilometres</td>\n",
       "      <td>NaN</td>\n",
       "    </tr>\n",
       "  </tbody>\n",
       "</table>\n",
       "</div>"
      ],
      "text/plain": [
       "    ID             Name Sex   Age  Height  Weight           Team  NOC  \\\n",
       "10   6  Per Knut Aaland   M  31.0   188.0    75.0  United States  USA   \n",
       "11   6  Per Knut Aaland   M  31.0   188.0    75.0  United States  USA   \n",
       "12   6  Per Knut Aaland   M  31.0   188.0    75.0  United States  USA   \n",
       "13   6  Per Knut Aaland   M  31.0   188.0    75.0  United States  USA   \n",
       "14   6  Per Knut Aaland   M  33.0   188.0    75.0  United States  USA   \n",
       "\n",
       "          Games  Year  Season         City                 Sport  \\\n",
       "10  1992 Winter  1992  Winter  Albertville  Cross Country Skiing   \n",
       "11  1992 Winter  1992  Winter  Albertville  Cross Country Skiing   \n",
       "12  1992 Winter  1992  Winter  Albertville  Cross Country Skiing   \n",
       "13  1992 Winter  1992  Winter  Albertville  Cross Country Skiing   \n",
       "14  1994 Winter  1994  Winter  Lillehammer  Cross Country Skiing   \n",
       "\n",
       "                                                Event Medal  \n",
       "10           Cross Country Skiing Men's 10 kilometres   NaN  \n",
       "11           Cross Country Skiing Men's 50 kilometres   NaN  \n",
       "12  Cross Country Skiing Men's 10/15 kilometres Pu...   NaN  \n",
       "13  Cross Country Skiing Men's 4 x 10 kilometres R...   NaN  \n",
       "14           Cross Country Skiing Men's 10 kilometres   NaN  "
      ]
     },
     "execution_count": 17,
     "metadata": {},
     "output_type": "execute_result"
    }
   ],
   "source": [
    "df_all_selected_sports.head()"
   ]
  },
  {
   "cell_type": "markdown",
   "metadata": {},
   "source": [
    "#### Medaljfördelning mellan länder i sporterna"
   ]
  },
  {
   "cell_type": "code",
   "execution_count": 18,
   "metadata": {},
   "outputs": [
    {
     "data": {
      "application/vnd.plotly.v1+json": {
       "config": {
        "plotlyServerURL": "https://plot.ly"
       },
       "data": [
        {
         "alignmentgroup": "True",
         "bingroup": "x",
         "histfunc": "sum",
         "hovertemplate": "Sport=Athletics<br>NOC=%{x}<br>sum of Number of Medals=%{y}<extra></extra>",
         "legendgroup": "Athletics",
         "marker": {
          "color": "#636efa",
          "pattern": {
           "shape": ""
          }
         },
         "name": "Athletics",
         "offsetgroup": "Athletics",
         "orientation": "v",
         "showlegend": true,
         "type": "histogram",
         "x": [
          "ALG",
          "ALG",
          "ALG",
          "ANZ",
          "ARG",
          "ARG",
          "AUS",
          "AUS",
          "AUS",
          "AUT",
          "AUT",
          "AUT",
          "BAH",
          "BAH",
          "BAH",
          "BAR",
          "BDI",
          "BDI",
          "BEL",
          "BEL",
          "BEL",
          "BLR",
          "BLR",
          "BLR",
          "BOH",
          "BOT",
          "BRA",
          "BRA",
          "BRA",
          "BRN",
          "BRN",
          "BRN",
          "BUL",
          "BUL",
          "BUL",
          "CAN",
          "CAN",
          "CAN",
          "CHI",
          "CHN",
          "CHN",
          "CHN",
          "CIV",
          "CMR",
          "COL",
          "COL",
          "COL",
          "CRO",
          "CRO",
          "CRO",
          "CUB",
          "CUB",
          "CUB",
          "CZE",
          "CZE",
          "CZE",
          "DEN",
          "DEN",
          "DJI",
          "DOM",
          "DOM",
          "ECU",
          "ECU",
          "ERI",
          "ESP",
          "ESP",
          "ESP",
          "EST",
          "EST",
          "EST",
          "ETH",
          "ETH",
          "ETH",
          "EUN",
          "EUN",
          "EUN",
          "FIN",
          "FIN",
          "FIN",
          "FRA",
          "FRA",
          "FRA",
          "FRG",
          "FRG",
          "FRG",
          "GBR",
          "GBR",
          "GBR",
          "GDR",
          "GDR",
          "GDR",
          "GER",
          "GER",
          "GER",
          "GRE",
          "GRE",
          "GRE",
          "GRN",
          "GRN",
          "GUA",
          "HAI",
          "HUN",
          "HUN",
          "HUN",
          "IND",
          "IRI",
          "IRL",
          "IRL",
          "ISL",
          "ISL",
          "ITA",
          "ITA",
          "ITA",
          "JAM",
          "JAM",
          "JAM",
          "JPN",
          "JPN",
          "JPN",
          "KAZ",
          "KAZ",
          "KEN",
          "KEN",
          "KEN",
          "KOR",
          "KOR",
          "KSA",
          "LAT",
          "LAT",
          "LTU",
          "LTU",
          "LTU",
          "LUX",
          "MAR",
          "MAR",
          "MAR",
          "MEX",
          "MEX",
          "MEX",
          "MOZ",
          "MOZ",
          "NAM",
          "NED",
          "NED",
          "NED",
          "NGR",
          "NGR",
          "NGR",
          "NOR",
          "NOR",
          "NOR",
          "NZL",
          "NZL",
          "NZL",
          "PAN",
          "PAN",
          "PHI",
          "POL",
          "POL",
          "POL",
          "POR",
          "POR",
          "POR",
          "PUR",
          "QAT",
          "QAT",
          "ROU",
          "ROU",
          "ROU",
          "RSA",
          "RSA",
          "RSA",
          "RUS",
          "RUS",
          "RUS",
          "SEN",
          "SLO",
          "SLO",
          "SLO",
          "SRB",
          "SRI",
          "SUD",
          "SUI",
          "SUI",
          "SVK",
          "SWE",
          "SWE",
          "SWE",
          "SYR",
          "TAN",
          "TCH",
          "TCH",
          "TCH",
          "TJK",
          "TPE",
          "TPE",
          "TTO",
          "TTO",
          "TTO",
          "TUN",
          "TUN",
          "TUN",
          "TUR",
          "TUR",
          "TUR",
          "UGA",
          "UGA",
          "UKR",
          "UKR",
          "UKR",
          "URS",
          "URS",
          "URS",
          "USA",
          "USA",
          "USA",
          "VEN",
          "VEN",
          "WIF",
          "YUG",
          "ZAM"
         ],
         "xaxis": "x",
         "y": [
          2,
          4,
          3,
          1,
          2,
          3,
          28,
          24,
          37,
          4,
          1,
          2,
          13,
          12,
          11,
          1,
          1,
          1,
          2,
          4,
          10,
          7,
          4,
          6,
          1,
          1,
          14,
          5,
          7,
          1,
          1,
          1,
          6,
          5,
          8,
          50,
          22,
          26,
          2,
          14,
          8,
          5,
          1,
          2,
          1,
          1,
          1,
          1,
          3,
          1,
          25,
          10,
          23,
          6,
          5,
          1,
          3,
          4,
          1,
          2,
          1,
          1,
          1,
          1,
          6,
          3,
          5,
          3,
          2,
          1,
          22,
          22,
          9,
          3,
          12,
          14,
          32,
          64,
          42,
          62,
          14,
          40,
          39,
          15,
          17,
          127,
          78,
          133,
          39,
          50,
          51,
          65,
          25,
          64,
          15,
          8,
          14,
          1,
          1,
          1,
          1,
          26,
          11,
          15,
          2,
          1,
          4,
          2,
          1,
          1,
          35,
          19,
          18,
          43,
          38,
          75,
          9,
          7,
          15,
          2,
          2,
          26,
          33,
          40,
          1,
          1,
          1,
          1,
          4,
          1,
          3,
          1,
          2,
          8,
          6,
          5,
          2,
          3,
          6,
          1,
          1,
          4,
          9,
          9,
          4,
          24,
          7,
          10,
          8,
          7,
          5,
          11,
          10,
          3,
          2,
          1,
          2,
          17,
          27,
          28,
          4,
          4,
          2,
          1,
          2,
          1,
          10,
          11,
          14,
          6,
          8,
          17,
          29,
          29,
          45,
          1,
          1,
          1,
          2,
          1,
          2,
          1,
          2,
          6,
          1,
          61,
          32,
          35,
          1,
          2,
          5,
          11,
          8,
          1,
          1,
          1,
          14,
          7,
          7,
          1,
          1,
          3,
          3,
          1,
          2,
          1,
          2,
          16,
          2,
          3,
          89,
          83,
          70,
          221,
          542,
          317,
          1,
          1,
          5,
          2,
          1
         ],
         "yaxis": "y"
        },
        {
         "alignmentgroup": "True",
         "bingroup": "x",
         "histfunc": "sum",
         "hovertemplate": "Sport=Shooting<br>NOC=%{x}<br>sum of Number of Medals=%{y}<extra></extra>",
         "legendgroup": "Shooting",
         "marker": {
          "color": "#EF553B",
          "pattern": {
           "shape": ""
          }
         },
         "name": "Shooting",
         "offsetgroup": "Shooting",
         "orientation": "v",
         "showlegend": true,
         "type": "histogram",
         "x": [
          "ARG",
          "AUS",
          "AUS",
          "AUS",
          "AUT",
          "AUT",
          "AUT",
          "AZE",
          "AZE",
          "BEL",
          "BEL",
          "BEL",
          "BLR",
          "BLR",
          "BLR",
          "BRA",
          "BRA",
          "BRA",
          "BUL",
          "BUL",
          "BUL",
          "CAN",
          "CAN",
          "CAN",
          "CHI",
          "CHN",
          "CHN",
          "CHN",
          "COL",
          "CRO",
          "CRO",
          "CUB",
          "CUB",
          "CZE",
          "CZE",
          "CZE",
          "DEN",
          "DEN",
          "DEN",
          "ESP",
          "ESP",
          "EUN",
          "EUN",
          "EUN",
          "FIN",
          "FIN",
          "FIN",
          "FRA",
          "FRA",
          "FRA",
          "FRG",
          "FRG",
          "FRG",
          "GBR",
          "GBR",
          "GBR",
          "GDR",
          "GDR",
          "GDR",
          "GEO",
          "GER",
          "GER",
          "GER",
          "GRE",
          "GRE",
          "GRE",
          "HAI",
          "HUN",
          "HUN",
          "HUN",
          "IND",
          "IND",
          "IND",
          "IOA",
          "IOA",
          "IOA",
          "ITA",
          "ITA",
          "ITA",
          "JPN",
          "JPN",
          "JPN",
          "KAZ",
          "KAZ",
          "KOR",
          "KOR",
          "KOR",
          "KUW",
          "LAT",
          "LTU",
          "MDA",
          "MEX",
          "MGL",
          "MGL",
          "NED",
          "NED",
          "NOR",
          "NOR",
          "NOR",
          "NZL",
          "NZL",
          "PER",
          "PER",
          "POL",
          "POL",
          "POL",
          "POR",
          "PRK",
          "PRK",
          "QAT",
          "ROU",
          "ROU",
          "ROU",
          "RSA",
          "RUS",
          "RUS",
          "RUS",
          "SCG",
          "SCG",
          "SCG",
          "SLO",
          "SLO",
          "SRB",
          "SRB",
          "SUI",
          "SUI",
          "SUI",
          "SVK",
          "SVK",
          "SWE",
          "SWE",
          "SWE",
          "TCH",
          "TCH",
          "TCH",
          "UAE",
          "UKR",
          "UKR",
          "UKR",
          "URS",
          "URS",
          "URS",
          "USA",
          "USA",
          "USA",
          "VEN",
          "VIE",
          "VIE",
          "YUG",
          "YUG"
         ],
         "xaxis": "x",
         "y": [
          1,
          5,
          5,
          1,
          5,
          1,
          2,
          2,
          1,
          3,
          1,
          13,
          4,
          1,
          2,
          5,
          1,
          2,
          6,
          4,
          6,
          7,
          4,
          13,
          1,
          19,
          22,
          15,
          2,
          1,
          2,
          3,
          1,
          4,
          2,
          3,
          10,
          7,
          10,
          1,
          2,
          1,
          5,
          2,
          26,
          4,
          11,
          30,
          12,
          27,
          3,
          4,
          4,
          34,
          29,
          36,
          5,
          3,
          8,
          1,
          11,
          11,
          9,
          8,
          6,
          11,
          5,
          7,
          7,
          3,
          1,
          1,
          2,
          3,
          1,
          1,
          11,
          16,
          16,
          3,
          1,
          2,
          1,
          2,
          1,
          7,
          8,
          2,
          1,
          1,
          1,
          1,
          1,
          1,
          5,
          1,
          15,
          29,
          33,
          1,
          1,
          1,
          2,
          5,
          4,
          3,
          1,
          2,
          1,
          1,
          5,
          6,
          4,
          5,
          12,
          7,
          17,
          1,
          1,
          2,
          2,
          1,
          1,
          1,
          22,
          22,
          9,
          3,
          2,
          40,
          32,
          54,
          2,
          4,
          3,
          1,
          2,
          4,
          2,
          17,
          17,
          15,
          40,
          117,
          36,
          1,
          1,
          1,
          1,
          2
         ],
         "yaxis": "y"
        },
        {
         "alignmentgroup": "True",
         "bingroup": "x",
         "histfunc": "sum",
         "hovertemplate": "Sport=Cross Country Skiing<br>NOC=%{x}<br>sum of Number of Medals=%{y}<extra></extra>",
         "legendgroup": "Cross Country Skiing",
         "marker": {
          "color": "#00cc96",
          "pattern": {
           "shape": ""
          }
         },
         "name": "Cross Country Skiing",
         "offsetgroup": "Cross Country Skiing",
         "orientation": "v",
         "showlegend": true,
         "type": "histogram",
         "x": [
          "AUT",
          "AUT",
          "AUT",
          "BUL",
          "CAN",
          "CAN",
          "CZE",
          "CZE",
          "CZE",
          "EST",
          "EST",
          "EST",
          "EUN",
          "EUN",
          "EUN",
          "FIN",
          "FIN",
          "FIN",
          "FRA",
          "FRA",
          "GDR",
          "GDR",
          "GDR",
          "GER",
          "GER",
          "GER",
          "ITA",
          "ITA",
          "ITA",
          "KAZ",
          "KAZ",
          "KAZ",
          "NOR",
          "NOR",
          "NOR",
          "POL",
          "POL",
          "POL",
          "RUS",
          "RUS",
          "RUS",
          "SLO",
          "SUI",
          "SUI",
          "SWE",
          "SWE",
          "SWE",
          "TCH",
          "TCH",
          "URS",
          "URS",
          "URS",
          "USA"
         ],
         "xaxis": "x",
         "y": [
          2,
          1,
          2,
          1,
          2,
          2,
          6,
          1,
          5,
          1,
          4,
          2,
          4,
          6,
          2,
          64,
          35,
          42,
          4,
          1,
          4,
          5,
          1,
          10,
          6,
          19,
          25,
          15,
          21,
          1,
          1,
          2,
          37,
          54,
          73,
          2,
          2,
          1,
          12,
          23,
          14,
          2,
          10,
          3,
          39,
          54,
          30,
          7,
          4,
          32,
          44,
          35,
          1
         ],
         "yaxis": "y"
        },
        {
         "alignmentgroup": "True",
         "bingroup": "x",
         "histfunc": "sum",
         "hovertemplate": "Sport=Ice Hockey<br>NOC=%{x}<br>sum of Number of Medals=%{y}<extra></extra>",
         "legendgroup": "Ice Hockey",
         "marker": {
          "color": "#ab63fa",
          "pattern": {
           "shape": ""
          }
         },
         "name": "Ice Hockey",
         "offsetgroup": "Ice Hockey",
         "orientation": "v",
         "showlegend": true,
         "type": "histogram",
         "x": [
          "CAN",
          "CAN",
          "CAN",
          "CZE",
          "CZE",
          "EUN",
          "FIN",
          "FIN",
          "FRG",
          "GBR",
          "GBR",
          "GER",
          "RUS",
          "RUS",
          "SUI",
          "SWE",
          "SWE",
          "SWE",
          "TCH",
          "TCH",
          "URS",
          "URS",
          "URS",
          "USA",
          "USA",
          "USA"
         ],
         "xaxis": "x",
         "y": [
          35,
          220,
          93,
          24,
          21,
          22,
          129,
          45,
          18,
          10,
          12,
          10,
          21,
          22,
          48,
          99,
          46,
          72,
          65,
          74,
          17,
          131,
          20,
          31,
          56,
          189
         ],
         "yaxis": "y"
        }
       ],
       "layout": {
        "bargap": 0.01,
        "barmode": "group",
        "legend": {
         "title": {
          "text": "Sport"
         },
         "tracegroupgap": 0
        },
        "template": {
         "data": {
          "bar": [
           {
            "error_x": {
             "color": "#2a3f5f"
            },
            "error_y": {
             "color": "#2a3f5f"
            },
            "marker": {
             "line": {
              "color": "#E5ECF6",
              "width": 0.5
             },
             "pattern": {
              "fillmode": "overlay",
              "size": 10,
              "solidity": 0.2
             }
            },
            "type": "bar"
           }
          ],
          "barpolar": [
           {
            "marker": {
             "line": {
              "color": "#E5ECF6",
              "width": 0.5
             },
             "pattern": {
              "fillmode": "overlay",
              "size": 10,
              "solidity": 0.2
             }
            },
            "type": "barpolar"
           }
          ],
          "carpet": [
           {
            "aaxis": {
             "endlinecolor": "#2a3f5f",
             "gridcolor": "white",
             "linecolor": "white",
             "minorgridcolor": "white",
             "startlinecolor": "#2a3f5f"
            },
            "baxis": {
             "endlinecolor": "#2a3f5f",
             "gridcolor": "white",
             "linecolor": "white",
             "minorgridcolor": "white",
             "startlinecolor": "#2a3f5f"
            },
            "type": "carpet"
           }
          ],
          "choropleth": [
           {
            "colorbar": {
             "outlinewidth": 0,
             "ticks": ""
            },
            "type": "choropleth"
           }
          ],
          "contour": [
           {
            "colorbar": {
             "outlinewidth": 0,
             "ticks": ""
            },
            "colorscale": [
             [
              0,
              "#0d0887"
             ],
             [
              0.1111111111111111,
              "#46039f"
             ],
             [
              0.2222222222222222,
              "#7201a8"
             ],
             [
              0.3333333333333333,
              "#9c179e"
             ],
             [
              0.4444444444444444,
              "#bd3786"
             ],
             [
              0.5555555555555556,
              "#d8576b"
             ],
             [
              0.6666666666666666,
              "#ed7953"
             ],
             [
              0.7777777777777778,
              "#fb9f3a"
             ],
             [
              0.8888888888888888,
              "#fdca26"
             ],
             [
              1,
              "#f0f921"
             ]
            ],
            "type": "contour"
           }
          ],
          "contourcarpet": [
           {
            "colorbar": {
             "outlinewidth": 0,
             "ticks": ""
            },
            "type": "contourcarpet"
           }
          ],
          "heatmap": [
           {
            "colorbar": {
             "outlinewidth": 0,
             "ticks": ""
            },
            "colorscale": [
             [
              0,
              "#0d0887"
             ],
             [
              0.1111111111111111,
              "#46039f"
             ],
             [
              0.2222222222222222,
              "#7201a8"
             ],
             [
              0.3333333333333333,
              "#9c179e"
             ],
             [
              0.4444444444444444,
              "#bd3786"
             ],
             [
              0.5555555555555556,
              "#d8576b"
             ],
             [
              0.6666666666666666,
              "#ed7953"
             ],
             [
              0.7777777777777778,
              "#fb9f3a"
             ],
             [
              0.8888888888888888,
              "#fdca26"
             ],
             [
              1,
              "#f0f921"
             ]
            ],
            "type": "heatmap"
           }
          ],
          "heatmapgl": [
           {
            "colorbar": {
             "outlinewidth": 0,
             "ticks": ""
            },
            "colorscale": [
             [
              0,
              "#0d0887"
             ],
             [
              0.1111111111111111,
              "#46039f"
             ],
             [
              0.2222222222222222,
              "#7201a8"
             ],
             [
              0.3333333333333333,
              "#9c179e"
             ],
             [
              0.4444444444444444,
              "#bd3786"
             ],
             [
              0.5555555555555556,
              "#d8576b"
             ],
             [
              0.6666666666666666,
              "#ed7953"
             ],
             [
              0.7777777777777778,
              "#fb9f3a"
             ],
             [
              0.8888888888888888,
              "#fdca26"
             ],
             [
              1,
              "#f0f921"
             ]
            ],
            "type": "heatmapgl"
           }
          ],
          "histogram": [
           {
            "marker": {
             "pattern": {
              "fillmode": "overlay",
              "size": 10,
              "solidity": 0.2
             }
            },
            "type": "histogram"
           }
          ],
          "histogram2d": [
           {
            "colorbar": {
             "outlinewidth": 0,
             "ticks": ""
            },
            "colorscale": [
             [
              0,
              "#0d0887"
             ],
             [
              0.1111111111111111,
              "#46039f"
             ],
             [
              0.2222222222222222,
              "#7201a8"
             ],
             [
              0.3333333333333333,
              "#9c179e"
             ],
             [
              0.4444444444444444,
              "#bd3786"
             ],
             [
              0.5555555555555556,
              "#d8576b"
             ],
             [
              0.6666666666666666,
              "#ed7953"
             ],
             [
              0.7777777777777778,
              "#fb9f3a"
             ],
             [
              0.8888888888888888,
              "#fdca26"
             ],
             [
              1,
              "#f0f921"
             ]
            ],
            "type": "histogram2d"
           }
          ],
          "histogram2dcontour": [
           {
            "colorbar": {
             "outlinewidth": 0,
             "ticks": ""
            },
            "colorscale": [
             [
              0,
              "#0d0887"
             ],
             [
              0.1111111111111111,
              "#46039f"
             ],
             [
              0.2222222222222222,
              "#7201a8"
             ],
             [
              0.3333333333333333,
              "#9c179e"
             ],
             [
              0.4444444444444444,
              "#bd3786"
             ],
             [
              0.5555555555555556,
              "#d8576b"
             ],
             [
              0.6666666666666666,
              "#ed7953"
             ],
             [
              0.7777777777777778,
              "#fb9f3a"
             ],
             [
              0.8888888888888888,
              "#fdca26"
             ],
             [
              1,
              "#f0f921"
             ]
            ],
            "type": "histogram2dcontour"
           }
          ],
          "mesh3d": [
           {
            "colorbar": {
             "outlinewidth": 0,
             "ticks": ""
            },
            "type": "mesh3d"
           }
          ],
          "parcoords": [
           {
            "line": {
             "colorbar": {
              "outlinewidth": 0,
              "ticks": ""
             }
            },
            "type": "parcoords"
           }
          ],
          "pie": [
           {
            "automargin": true,
            "type": "pie"
           }
          ],
          "scatter": [
           {
            "fillpattern": {
             "fillmode": "overlay",
             "size": 10,
             "solidity": 0.2
            },
            "type": "scatter"
           }
          ],
          "scatter3d": [
           {
            "line": {
             "colorbar": {
              "outlinewidth": 0,
              "ticks": ""
             }
            },
            "marker": {
             "colorbar": {
              "outlinewidth": 0,
              "ticks": ""
             }
            },
            "type": "scatter3d"
           }
          ],
          "scattercarpet": [
           {
            "marker": {
             "colorbar": {
              "outlinewidth": 0,
              "ticks": ""
             }
            },
            "type": "scattercarpet"
           }
          ],
          "scattergeo": [
           {
            "marker": {
             "colorbar": {
              "outlinewidth": 0,
              "ticks": ""
             }
            },
            "type": "scattergeo"
           }
          ],
          "scattergl": [
           {
            "marker": {
             "colorbar": {
              "outlinewidth": 0,
              "ticks": ""
             }
            },
            "type": "scattergl"
           }
          ],
          "scattermapbox": [
           {
            "marker": {
             "colorbar": {
              "outlinewidth": 0,
              "ticks": ""
             }
            },
            "type": "scattermapbox"
           }
          ],
          "scatterpolar": [
           {
            "marker": {
             "colorbar": {
              "outlinewidth": 0,
              "ticks": ""
             }
            },
            "type": "scatterpolar"
           }
          ],
          "scatterpolargl": [
           {
            "marker": {
             "colorbar": {
              "outlinewidth": 0,
              "ticks": ""
             }
            },
            "type": "scatterpolargl"
           }
          ],
          "scatterternary": [
           {
            "marker": {
             "colorbar": {
              "outlinewidth": 0,
              "ticks": ""
             }
            },
            "type": "scatterternary"
           }
          ],
          "surface": [
           {
            "colorbar": {
             "outlinewidth": 0,
             "ticks": ""
            },
            "colorscale": [
             [
              0,
              "#0d0887"
             ],
             [
              0.1111111111111111,
              "#46039f"
             ],
             [
              0.2222222222222222,
              "#7201a8"
             ],
             [
              0.3333333333333333,
              "#9c179e"
             ],
             [
              0.4444444444444444,
              "#bd3786"
             ],
             [
              0.5555555555555556,
              "#d8576b"
             ],
             [
              0.6666666666666666,
              "#ed7953"
             ],
             [
              0.7777777777777778,
              "#fb9f3a"
             ],
             [
              0.8888888888888888,
              "#fdca26"
             ],
             [
              1,
              "#f0f921"
             ]
            ],
            "type": "surface"
           }
          ],
          "table": [
           {
            "cells": {
             "fill": {
              "color": "#EBF0F8"
             },
             "line": {
              "color": "white"
             }
            },
            "header": {
             "fill": {
              "color": "#C8D4E3"
             },
             "line": {
              "color": "white"
             }
            },
            "type": "table"
           }
          ]
         },
         "layout": {
          "annotationdefaults": {
           "arrowcolor": "#2a3f5f",
           "arrowhead": 0,
           "arrowwidth": 1
          },
          "autotypenumbers": "strict",
          "coloraxis": {
           "colorbar": {
            "outlinewidth": 0,
            "ticks": ""
           }
          },
          "colorscale": {
           "diverging": [
            [
             0,
             "#8e0152"
            ],
            [
             0.1,
             "#c51b7d"
            ],
            [
             0.2,
             "#de77ae"
            ],
            [
             0.3,
             "#f1b6da"
            ],
            [
             0.4,
             "#fde0ef"
            ],
            [
             0.5,
             "#f7f7f7"
            ],
            [
             0.6,
             "#e6f5d0"
            ],
            [
             0.7,
             "#b8e186"
            ],
            [
             0.8,
             "#7fbc41"
            ],
            [
             0.9,
             "#4d9221"
            ],
            [
             1,
             "#276419"
            ]
           ],
           "sequential": [
            [
             0,
             "#0d0887"
            ],
            [
             0.1111111111111111,
             "#46039f"
            ],
            [
             0.2222222222222222,
             "#7201a8"
            ],
            [
             0.3333333333333333,
             "#9c179e"
            ],
            [
             0.4444444444444444,
             "#bd3786"
            ],
            [
             0.5555555555555556,
             "#d8576b"
            ],
            [
             0.6666666666666666,
             "#ed7953"
            ],
            [
             0.7777777777777778,
             "#fb9f3a"
            ],
            [
             0.8888888888888888,
             "#fdca26"
            ],
            [
             1,
             "#f0f921"
            ]
           ],
           "sequentialminus": [
            [
             0,
             "#0d0887"
            ],
            [
             0.1111111111111111,
             "#46039f"
            ],
            [
             0.2222222222222222,
             "#7201a8"
            ],
            [
             0.3333333333333333,
             "#9c179e"
            ],
            [
             0.4444444444444444,
             "#bd3786"
            ],
            [
             0.5555555555555556,
             "#d8576b"
            ],
            [
             0.6666666666666666,
             "#ed7953"
            ],
            [
             0.7777777777777778,
             "#fb9f3a"
            ],
            [
             0.8888888888888888,
             "#fdca26"
            ],
            [
             1,
             "#f0f921"
            ]
           ]
          },
          "colorway": [
           "#636efa",
           "#EF553B",
           "#00cc96",
           "#ab63fa",
           "#FFA15A",
           "#19d3f3",
           "#FF6692",
           "#B6E880",
           "#FF97FF",
           "#FECB52"
          ],
          "font": {
           "color": "#2a3f5f"
          },
          "geo": {
           "bgcolor": "white",
           "lakecolor": "white",
           "landcolor": "#E5ECF6",
           "showlakes": true,
           "showland": true,
           "subunitcolor": "white"
          },
          "hoverlabel": {
           "align": "left"
          },
          "hovermode": "closest",
          "mapbox": {
           "style": "light"
          },
          "paper_bgcolor": "white",
          "plot_bgcolor": "#E5ECF6",
          "polar": {
           "angularaxis": {
            "gridcolor": "white",
            "linecolor": "white",
            "ticks": ""
           },
           "bgcolor": "#E5ECF6",
           "radialaxis": {
            "gridcolor": "white",
            "linecolor": "white",
            "ticks": ""
           }
          },
          "scene": {
           "xaxis": {
            "backgroundcolor": "#E5ECF6",
            "gridcolor": "white",
            "gridwidth": 2,
            "linecolor": "white",
            "showbackground": true,
            "ticks": "",
            "zerolinecolor": "white"
           },
           "yaxis": {
            "backgroundcolor": "#E5ECF6",
            "gridcolor": "white",
            "gridwidth": 2,
            "linecolor": "white",
            "showbackground": true,
            "ticks": "",
            "zerolinecolor": "white"
           },
           "zaxis": {
            "backgroundcolor": "#E5ECF6",
            "gridcolor": "white",
            "gridwidth": 2,
            "linecolor": "white",
            "showbackground": true,
            "ticks": "",
            "zerolinecolor": "white"
           }
          },
          "shapedefaults": {
           "line": {
            "color": "#2a3f5f"
           }
          },
          "ternary": {
           "aaxis": {
            "gridcolor": "white",
            "linecolor": "white",
            "ticks": ""
           },
           "baxis": {
            "gridcolor": "white",
            "linecolor": "white",
            "ticks": ""
           },
           "bgcolor": "#E5ECF6",
           "caxis": {
            "gridcolor": "white",
            "linecolor": "white",
            "ticks": ""
           }
          },
          "title": {
           "x": 0.05
          },
          "xaxis": {
           "automargin": true,
           "gridcolor": "white",
           "linecolor": "white",
           "ticks": "",
           "title": {
            "standoff": 15
           },
           "zerolinecolor": "white",
           "zerolinewidth": 2
          },
          "yaxis": {
           "automargin": true,
           "gridcolor": "white",
           "linecolor": "white",
           "ticks": "",
           "title": {
            "standoff": 15
           },
           "zerolinecolor": "white",
           "zerolinewidth": 2
          }
         }
        },
        "title": {
         "text": "Medal Distribution in All Olympic Games"
        },
        "xaxis": {
         "anchor": "y",
         "domain": [
          0,
          1
         ],
         "title": {
          "text": "NOC"
         }
        },
        "yaxis": {
         "anchor": "x",
         "domain": [
          0,
          1
         ],
         "title": {
          "text": "sum of Number of Medals"
         },
         "type": "log"
        }
       }
      }
     },
     "metadata": {},
     "output_type": "display_data"
    }
   ],
   "source": [
    "medal_distribution = (\n",
    "    df_all_selected_sports.groupby(['NOC', 'Sport', 'Medal'])\n",
    "    .size()\n",
    "    .reset_index(name=\"Number of Medals\")\n",
    ")\n",
    "\n",
    "# Plotting a histogram of ages of athletes from SWE in all olympic games around the mean age\n",
    "fig = px.histogram(\n",
    "    medal_distribution, \n",
    "    x=\"NOC\",\n",
    "    y=\"Number of Medals\",\n",
    "    log_y=True,\n",
    "    color='Sport',\n",
    "    title=\"Medal Distribution in All Olympic Games\",\n",
    "    barmode='group',\n",
    ")\n",
    "\n",
    "# Making spaces between bars\n",
    "fig.update_layout(bargap=0.01)\n",
    "\n",
    "fig.show()"
   ]
  },
  {
   "cell_type": "code",
   "execution_count": 19,
   "metadata": {},
   "outputs": [
    {
     "data": {
      "application/vnd.plotly.v1+json": {
       "config": {
        "plotlyServerURL": "https://plot.ly"
       },
       "data": [
        {
         "branchvalues": "total",
         "domain": {
          "x": [
           0,
           1
          ],
          "y": [
           0,
           1
          ]
         },
         "hovertemplate": "labels=%{label}<br>Number of Medals=%{value}<br>parent=%{parent}<br>id=%{id}<extra></extra>",
         "ids": [
          "Athletics/ALG",
          "Athletics/ANZ",
          "Athletics/ARG",
          "Shooting/ARG",
          "Athletics/AUS",
          "Shooting/AUS",
          "Athletics/AUT",
          "Cross Country Skiing/AUT",
          "Shooting/AUT",
          "Shooting/AZE",
          "Athletics/BAH",
          "Athletics/BAR",
          "Athletics/BDI",
          "Athletics/BEL",
          "Shooting/BEL",
          "Athletics/BLR",
          "Shooting/BLR",
          "Athletics/BOH",
          "Athletics/BOT",
          "Athletics/BRA",
          "Shooting/BRA",
          "Athletics/BRN",
          "Athletics/BUL",
          "Cross Country Skiing/BUL",
          "Shooting/BUL",
          "Athletics/CAN",
          "Cross Country Skiing/CAN",
          "Ice Hockey/CAN",
          "Shooting/CAN",
          "Athletics/CHI",
          "Shooting/CHI",
          "Athletics/CHN",
          "Shooting/CHN",
          "Athletics/CIV",
          "Athletics/CMR",
          "Athletics/COL",
          "Shooting/COL",
          "Athletics/CRO",
          "Shooting/CRO",
          "Athletics/CUB",
          "Shooting/CUB",
          "Athletics/CZE",
          "Cross Country Skiing/CZE",
          "Ice Hockey/CZE",
          "Shooting/CZE",
          "Athletics/DEN",
          "Shooting/DEN",
          "Athletics/DJI",
          "Athletics/DOM",
          "Athletics/ECU",
          "Athletics/ERI",
          "Athletics/ESP",
          "Shooting/ESP",
          "Athletics/EST",
          "Cross Country Skiing/EST",
          "Athletics/ETH",
          "Athletics/EUN",
          "Cross Country Skiing/EUN",
          "Ice Hockey/EUN",
          "Shooting/EUN",
          "Athletics/FIN",
          "Cross Country Skiing/FIN",
          "Ice Hockey/FIN",
          "Shooting/FIN",
          "Athletics/FRA",
          "Cross Country Skiing/FRA",
          "Shooting/FRA",
          "Athletics/FRG",
          "Ice Hockey/FRG",
          "Shooting/FRG",
          "Athletics/GBR",
          "Ice Hockey/GBR",
          "Shooting/GBR",
          "Athletics/GDR",
          "Cross Country Skiing/GDR",
          "Shooting/GDR",
          "Shooting/GEO",
          "Athletics/GER",
          "Cross Country Skiing/GER",
          "Ice Hockey/GER",
          "Shooting/GER",
          "Athletics/GRE",
          "Shooting/GRE",
          "Athletics/GRN",
          "Athletics/GUA",
          "Athletics/HAI",
          "Shooting/HAI",
          "Athletics/HUN",
          "Shooting/HUN",
          "Athletics/IND",
          "Shooting/IND",
          "Shooting/IOA",
          "Athletics/IRI",
          "Athletics/IRL",
          "Athletics/ISL",
          "Athletics/ITA",
          "Cross Country Skiing/ITA",
          "Shooting/ITA",
          "Athletics/JAM",
          "Athletics/JPN",
          "Shooting/JPN",
          "Athletics/KAZ",
          "Cross Country Skiing/KAZ",
          "Shooting/KAZ",
          "Athletics/KEN",
          "Athletics/KOR",
          "Shooting/KOR",
          "Athletics/KSA",
          "Shooting/KUW",
          "Athletics/LAT",
          "Shooting/LAT",
          "Athletics/LTU",
          "Shooting/LTU",
          "Athletics/LUX",
          "Athletics/MAR",
          "Shooting/MDA",
          "Athletics/MEX",
          "Shooting/MEX",
          "Shooting/MGL",
          "Athletics/MOZ",
          "Athletics/NAM",
          "Athletics/NED",
          "Shooting/NED",
          "Athletics/NGR",
          "Athletics/NOR",
          "Cross Country Skiing/NOR",
          "Shooting/NOR",
          "Athletics/NZL",
          "Shooting/NZL",
          "Athletics/PAN",
          "Shooting/PER",
          "Athletics/PHI",
          "Athletics/POL",
          "Cross Country Skiing/POL",
          "Shooting/POL",
          "Athletics/POR",
          "Shooting/POR",
          "Shooting/PRK",
          "Athletics/PUR",
          "Athletics/QAT",
          "Shooting/QAT",
          "Athletics/ROU",
          "Shooting/ROU",
          "Athletics/RSA",
          "Shooting/RSA",
          "Athletics/RUS",
          "Cross Country Skiing/RUS",
          "Ice Hockey/RUS",
          "Shooting/RUS",
          "Shooting/SCG",
          "Athletics/SEN",
          "Athletics/SLO",
          "Cross Country Skiing/SLO",
          "Shooting/SLO",
          "Athletics/SRB",
          "Shooting/SRB",
          "Athletics/SRI",
          "Athletics/SUD",
          "Athletics/SUI",
          "Cross Country Skiing/SUI",
          "Ice Hockey/SUI",
          "Shooting/SUI",
          "Athletics/SVK",
          "Shooting/SVK",
          "Athletics/SWE",
          "Cross Country Skiing/SWE",
          "Ice Hockey/SWE",
          "Shooting/SWE",
          "Athletics/SYR",
          "Athletics/TAN",
          "Athletics/TCH",
          "Cross Country Skiing/TCH",
          "Ice Hockey/TCH",
          "Shooting/TCH",
          "Athletics/TJK",
          "Athletics/TPE",
          "Athletics/TTO",
          "Athletics/TUN",
          "Athletics/TUR",
          "Shooting/UAE",
          "Athletics/UGA",
          "Athletics/UKR",
          "Shooting/UKR",
          "Athletics/URS",
          "Cross Country Skiing/URS",
          "Ice Hockey/URS",
          "Shooting/URS",
          "Athletics/USA",
          "Cross Country Skiing/USA",
          "Ice Hockey/USA",
          "Shooting/USA",
          "Athletics/VEN",
          "Shooting/VEN",
          "Shooting/VIE",
          "Athletics/WIF",
          "Athletics/YUG",
          "Shooting/YUG",
          "Athletics/ZAM",
          "Athletics",
          "Cross Country Skiing",
          "Ice Hockey",
          "Shooting"
         ],
         "labels": [
          "ALG",
          "ANZ",
          "ARG",
          "ARG",
          "AUS",
          "AUS",
          "AUT",
          "AUT",
          "AUT",
          "AZE",
          "BAH",
          "BAR",
          "BDI",
          "BEL",
          "BEL",
          "BLR",
          "BLR",
          "BOH",
          "BOT",
          "BRA",
          "BRA",
          "BRN",
          "BUL",
          "BUL",
          "BUL",
          "CAN",
          "CAN",
          "CAN",
          "CAN",
          "CHI",
          "CHI",
          "CHN",
          "CHN",
          "CIV",
          "CMR",
          "COL",
          "COL",
          "CRO",
          "CRO",
          "CUB",
          "CUB",
          "CZE",
          "CZE",
          "CZE",
          "CZE",
          "DEN",
          "DEN",
          "DJI",
          "DOM",
          "ECU",
          "ERI",
          "ESP",
          "ESP",
          "EST",
          "EST",
          "ETH",
          "EUN",
          "EUN",
          "EUN",
          "EUN",
          "FIN",
          "FIN",
          "FIN",
          "FIN",
          "FRA",
          "FRA",
          "FRA",
          "FRG",
          "FRG",
          "FRG",
          "GBR",
          "GBR",
          "GBR",
          "GDR",
          "GDR",
          "GDR",
          "GEO",
          "GER",
          "GER",
          "GER",
          "GER",
          "GRE",
          "GRE",
          "GRN",
          "GUA",
          "HAI",
          "HAI",
          "HUN",
          "HUN",
          "IND",
          "IND",
          "IOA",
          "IRI",
          "IRL",
          "ISL",
          "ITA",
          "ITA",
          "ITA",
          "JAM",
          "JPN",
          "JPN",
          "KAZ",
          "KAZ",
          "KAZ",
          "KEN",
          "KOR",
          "KOR",
          "KSA",
          "KUW",
          "LAT",
          "LAT",
          "LTU",
          "LTU",
          "LUX",
          "MAR",
          "MDA",
          "MEX",
          "MEX",
          "MGL",
          "MOZ",
          "NAM",
          "NED",
          "NED",
          "NGR",
          "NOR",
          "NOR",
          "NOR",
          "NZL",
          "NZL",
          "PAN",
          "PER",
          "PHI",
          "POL",
          "POL",
          "POL",
          "POR",
          "POR",
          "PRK",
          "PUR",
          "QAT",
          "QAT",
          "ROU",
          "ROU",
          "RSA",
          "RSA",
          "RUS",
          "RUS",
          "RUS",
          "RUS",
          "SCG",
          "SEN",
          "SLO",
          "SLO",
          "SLO",
          "SRB",
          "SRB",
          "SRI",
          "SUD",
          "SUI",
          "SUI",
          "SUI",
          "SUI",
          "SVK",
          "SVK",
          "SWE",
          "SWE",
          "SWE",
          "SWE",
          "SYR",
          "TAN",
          "TCH",
          "TCH",
          "TCH",
          "TCH",
          "TJK",
          "TPE",
          "TTO",
          "TUN",
          "TUR",
          "UAE",
          "UGA",
          "UKR",
          "UKR",
          "URS",
          "URS",
          "URS",
          "URS",
          "USA",
          "USA",
          "USA",
          "USA",
          "VEN",
          "VEN",
          "VIE",
          "WIF",
          "YUG",
          "YUG",
          "ZAM",
          "Athletics",
          "Cross Country Skiing",
          "Ice Hockey",
          "Shooting"
         ],
         "name": "",
         "parents": [
          "Athletics",
          "Athletics",
          "Athletics",
          "Shooting",
          "Athletics",
          "Shooting",
          "Athletics",
          "Cross Country Skiing",
          "Shooting",
          "Shooting",
          "Athletics",
          "Athletics",
          "Athletics",
          "Athletics",
          "Shooting",
          "Athletics",
          "Shooting",
          "Athletics",
          "Athletics",
          "Athletics",
          "Shooting",
          "Athletics",
          "Athletics",
          "Cross Country Skiing",
          "Shooting",
          "Athletics",
          "Cross Country Skiing",
          "Ice Hockey",
          "Shooting",
          "Athletics",
          "Shooting",
          "Athletics",
          "Shooting",
          "Athletics",
          "Athletics",
          "Athletics",
          "Shooting",
          "Athletics",
          "Shooting",
          "Athletics",
          "Shooting",
          "Athletics",
          "Cross Country Skiing",
          "Ice Hockey",
          "Shooting",
          "Athletics",
          "Shooting",
          "Athletics",
          "Athletics",
          "Athletics",
          "Athletics",
          "Athletics",
          "Shooting",
          "Athletics",
          "Cross Country Skiing",
          "Athletics",
          "Athletics",
          "Cross Country Skiing",
          "Ice Hockey",
          "Shooting",
          "Athletics",
          "Cross Country Skiing",
          "Ice Hockey",
          "Shooting",
          "Athletics",
          "Cross Country Skiing",
          "Shooting",
          "Athletics",
          "Ice Hockey",
          "Shooting",
          "Athletics",
          "Ice Hockey",
          "Shooting",
          "Athletics",
          "Cross Country Skiing",
          "Shooting",
          "Shooting",
          "Athletics",
          "Cross Country Skiing",
          "Ice Hockey",
          "Shooting",
          "Athletics",
          "Shooting",
          "Athletics",
          "Athletics",
          "Athletics",
          "Shooting",
          "Athletics",
          "Shooting",
          "Athletics",
          "Shooting",
          "Shooting",
          "Athletics",
          "Athletics",
          "Athletics",
          "Athletics",
          "Cross Country Skiing",
          "Shooting",
          "Athletics",
          "Athletics",
          "Shooting",
          "Athletics",
          "Cross Country Skiing",
          "Shooting",
          "Athletics",
          "Athletics",
          "Shooting",
          "Athletics",
          "Shooting",
          "Athletics",
          "Shooting",
          "Athletics",
          "Shooting",
          "Athletics",
          "Athletics",
          "Shooting",
          "Athletics",
          "Shooting",
          "Shooting",
          "Athletics",
          "Athletics",
          "Athletics",
          "Shooting",
          "Athletics",
          "Athletics",
          "Cross Country Skiing",
          "Shooting",
          "Athletics",
          "Shooting",
          "Athletics",
          "Shooting",
          "Athletics",
          "Athletics",
          "Cross Country Skiing",
          "Shooting",
          "Athletics",
          "Shooting",
          "Shooting",
          "Athletics",
          "Athletics",
          "Shooting",
          "Athletics",
          "Shooting",
          "Athletics",
          "Shooting",
          "Athletics",
          "Cross Country Skiing",
          "Ice Hockey",
          "Shooting",
          "Shooting",
          "Athletics",
          "Athletics",
          "Cross Country Skiing",
          "Shooting",
          "Athletics",
          "Shooting",
          "Athletics",
          "Athletics",
          "Athletics",
          "Cross Country Skiing",
          "Ice Hockey",
          "Shooting",
          "Athletics",
          "Shooting",
          "Athletics",
          "Cross Country Skiing",
          "Ice Hockey",
          "Shooting",
          "Athletics",
          "Athletics",
          "Athletics",
          "Cross Country Skiing",
          "Ice Hockey",
          "Shooting",
          "Athletics",
          "Athletics",
          "Athletics",
          "Athletics",
          "Athletics",
          "Shooting",
          "Athletics",
          "Athletics",
          "Shooting",
          "Athletics",
          "Cross Country Skiing",
          "Ice Hockey",
          "Shooting",
          "Athletics",
          "Cross Country Skiing",
          "Ice Hockey",
          "Shooting",
          "Athletics",
          "Shooting",
          "Shooting",
          "Athletics",
          "Athletics",
          "Shooting",
          "Athletics",
          "",
          "",
          "",
          ""
         ],
         "type": "sunburst",
         "values": [
          9,
          1,
          5,
          1,
          89,
          11,
          7,
          5,
          8,
          3,
          36,
          1,
          2,
          16,
          17,
          17,
          7,
          1,
          1,
          26,
          8,
          3,
          19,
          1,
          16,
          98,
          4,
          348,
          24,
          2,
          1,
          27,
          56,
          1,
          2,
          3,
          2,
          5,
          3,
          58,
          4,
          12,
          12,
          45,
          9,
          7,
          27,
          1,
          3,
          2,
          1,
          14,
          3,
          6,
          7,
          53,
          29,
          12,
          22,
          8,
          138,
          141,
          174,
          41,
          116,
          5,
          69,
          71,
          18,
          11,
          338,
          22,
          99,
          140,
          10,
          16,
          1,
          154,
          35,
          10,
          31,
          37,
          25,
          2,
          1,
          1,
          5,
          52,
          17,
          2,
          4,
          5,
          1,
          6,
          2,
          72,
          61,
          43,
          156,
          31,
          6,
          4,
          4,
          3,
          99,
          2,
          16,
          1,
          2,
          5,
          1,
          5,
          1,
          2,
          19,
          1,
          11,
          1,
          2,
          2,
          4,
          22,
          6,
          41,
          20,
          164,
          77,
          24,
          2,
          3,
          3,
          2,
          72,
          5,
          12,
          10,
          1,
          3,
          1,
          3,
          1,
          35,
          15,
          31,
          5,
          103,
          49,
          43,
          36,
          4,
          1,
          4,
          2,
          3,
          1,
          2,
          2,
          1,
          8,
          13,
          48,
          53,
          1,
          5,
          128,
          123,
          217,
          126,
          1,
          2,
          24,
          11,
          139,
          9,
          1,
          2,
          28,
          5,
          6,
          1,
          3,
          21,
          8,
          242,
          111,
          168,
          49,
          1080,
          1,
          276,
          193,
          2,
          1,
          2,
          5,
          2,
          3,
          1,
          3969,
          776,
          1530,
          1228
         ]
        }
       ],
       "layout": {
        "legend": {
         "tracegroupgap": 0
        },
        "margin": {
         "t": 60
        },
        "template": {
         "data": {
          "bar": [
           {
            "error_x": {
             "color": "#2a3f5f"
            },
            "error_y": {
             "color": "#2a3f5f"
            },
            "marker": {
             "line": {
              "color": "#E5ECF6",
              "width": 0.5
             },
             "pattern": {
              "fillmode": "overlay",
              "size": 10,
              "solidity": 0.2
             }
            },
            "type": "bar"
           }
          ],
          "barpolar": [
           {
            "marker": {
             "line": {
              "color": "#E5ECF6",
              "width": 0.5
             },
             "pattern": {
              "fillmode": "overlay",
              "size": 10,
              "solidity": 0.2
             }
            },
            "type": "barpolar"
           }
          ],
          "carpet": [
           {
            "aaxis": {
             "endlinecolor": "#2a3f5f",
             "gridcolor": "white",
             "linecolor": "white",
             "minorgridcolor": "white",
             "startlinecolor": "#2a3f5f"
            },
            "baxis": {
             "endlinecolor": "#2a3f5f",
             "gridcolor": "white",
             "linecolor": "white",
             "minorgridcolor": "white",
             "startlinecolor": "#2a3f5f"
            },
            "type": "carpet"
           }
          ],
          "choropleth": [
           {
            "colorbar": {
             "outlinewidth": 0,
             "ticks": ""
            },
            "type": "choropleth"
           }
          ],
          "contour": [
           {
            "colorbar": {
             "outlinewidth": 0,
             "ticks": ""
            },
            "colorscale": [
             [
              0,
              "#0d0887"
             ],
             [
              0.1111111111111111,
              "#46039f"
             ],
             [
              0.2222222222222222,
              "#7201a8"
             ],
             [
              0.3333333333333333,
              "#9c179e"
             ],
             [
              0.4444444444444444,
              "#bd3786"
             ],
             [
              0.5555555555555556,
              "#d8576b"
             ],
             [
              0.6666666666666666,
              "#ed7953"
             ],
             [
              0.7777777777777778,
              "#fb9f3a"
             ],
             [
              0.8888888888888888,
              "#fdca26"
             ],
             [
              1,
              "#f0f921"
             ]
            ],
            "type": "contour"
           }
          ],
          "contourcarpet": [
           {
            "colorbar": {
             "outlinewidth": 0,
             "ticks": ""
            },
            "type": "contourcarpet"
           }
          ],
          "heatmap": [
           {
            "colorbar": {
             "outlinewidth": 0,
             "ticks": ""
            },
            "colorscale": [
             [
              0,
              "#0d0887"
             ],
             [
              0.1111111111111111,
              "#46039f"
             ],
             [
              0.2222222222222222,
              "#7201a8"
             ],
             [
              0.3333333333333333,
              "#9c179e"
             ],
             [
              0.4444444444444444,
              "#bd3786"
             ],
             [
              0.5555555555555556,
              "#d8576b"
             ],
             [
              0.6666666666666666,
              "#ed7953"
             ],
             [
              0.7777777777777778,
              "#fb9f3a"
             ],
             [
              0.8888888888888888,
              "#fdca26"
             ],
             [
              1,
              "#f0f921"
             ]
            ],
            "type": "heatmap"
           }
          ],
          "heatmapgl": [
           {
            "colorbar": {
             "outlinewidth": 0,
             "ticks": ""
            },
            "colorscale": [
             [
              0,
              "#0d0887"
             ],
             [
              0.1111111111111111,
              "#46039f"
             ],
             [
              0.2222222222222222,
              "#7201a8"
             ],
             [
              0.3333333333333333,
              "#9c179e"
             ],
             [
              0.4444444444444444,
              "#bd3786"
             ],
             [
              0.5555555555555556,
              "#d8576b"
             ],
             [
              0.6666666666666666,
              "#ed7953"
             ],
             [
              0.7777777777777778,
              "#fb9f3a"
             ],
             [
              0.8888888888888888,
              "#fdca26"
             ],
             [
              1,
              "#f0f921"
             ]
            ],
            "type": "heatmapgl"
           }
          ],
          "histogram": [
           {
            "marker": {
             "pattern": {
              "fillmode": "overlay",
              "size": 10,
              "solidity": 0.2
             }
            },
            "type": "histogram"
           }
          ],
          "histogram2d": [
           {
            "colorbar": {
             "outlinewidth": 0,
             "ticks": ""
            },
            "colorscale": [
             [
              0,
              "#0d0887"
             ],
             [
              0.1111111111111111,
              "#46039f"
             ],
             [
              0.2222222222222222,
              "#7201a8"
             ],
             [
              0.3333333333333333,
              "#9c179e"
             ],
             [
              0.4444444444444444,
              "#bd3786"
             ],
             [
              0.5555555555555556,
              "#d8576b"
             ],
             [
              0.6666666666666666,
              "#ed7953"
             ],
             [
              0.7777777777777778,
              "#fb9f3a"
             ],
             [
              0.8888888888888888,
              "#fdca26"
             ],
             [
              1,
              "#f0f921"
             ]
            ],
            "type": "histogram2d"
           }
          ],
          "histogram2dcontour": [
           {
            "colorbar": {
             "outlinewidth": 0,
             "ticks": ""
            },
            "colorscale": [
             [
              0,
              "#0d0887"
             ],
             [
              0.1111111111111111,
              "#46039f"
             ],
             [
              0.2222222222222222,
              "#7201a8"
             ],
             [
              0.3333333333333333,
              "#9c179e"
             ],
             [
              0.4444444444444444,
              "#bd3786"
             ],
             [
              0.5555555555555556,
              "#d8576b"
             ],
             [
              0.6666666666666666,
              "#ed7953"
             ],
             [
              0.7777777777777778,
              "#fb9f3a"
             ],
             [
              0.8888888888888888,
              "#fdca26"
             ],
             [
              1,
              "#f0f921"
             ]
            ],
            "type": "histogram2dcontour"
           }
          ],
          "mesh3d": [
           {
            "colorbar": {
             "outlinewidth": 0,
             "ticks": ""
            },
            "type": "mesh3d"
           }
          ],
          "parcoords": [
           {
            "line": {
             "colorbar": {
              "outlinewidth": 0,
              "ticks": ""
             }
            },
            "type": "parcoords"
           }
          ],
          "pie": [
           {
            "automargin": true,
            "type": "pie"
           }
          ],
          "scatter": [
           {
            "fillpattern": {
             "fillmode": "overlay",
             "size": 10,
             "solidity": 0.2
            },
            "type": "scatter"
           }
          ],
          "scatter3d": [
           {
            "line": {
             "colorbar": {
              "outlinewidth": 0,
              "ticks": ""
             }
            },
            "marker": {
             "colorbar": {
              "outlinewidth": 0,
              "ticks": ""
             }
            },
            "type": "scatter3d"
           }
          ],
          "scattercarpet": [
           {
            "marker": {
             "colorbar": {
              "outlinewidth": 0,
              "ticks": ""
             }
            },
            "type": "scattercarpet"
           }
          ],
          "scattergeo": [
           {
            "marker": {
             "colorbar": {
              "outlinewidth": 0,
              "ticks": ""
             }
            },
            "type": "scattergeo"
           }
          ],
          "scattergl": [
           {
            "marker": {
             "colorbar": {
              "outlinewidth": 0,
              "ticks": ""
             }
            },
            "type": "scattergl"
           }
          ],
          "scattermapbox": [
           {
            "marker": {
             "colorbar": {
              "outlinewidth": 0,
              "ticks": ""
             }
            },
            "type": "scattermapbox"
           }
          ],
          "scatterpolar": [
           {
            "marker": {
             "colorbar": {
              "outlinewidth": 0,
              "ticks": ""
             }
            },
            "type": "scatterpolar"
           }
          ],
          "scatterpolargl": [
           {
            "marker": {
             "colorbar": {
              "outlinewidth": 0,
              "ticks": ""
             }
            },
            "type": "scatterpolargl"
           }
          ],
          "scatterternary": [
           {
            "marker": {
             "colorbar": {
              "outlinewidth": 0,
              "ticks": ""
             }
            },
            "type": "scatterternary"
           }
          ],
          "surface": [
           {
            "colorbar": {
             "outlinewidth": 0,
             "ticks": ""
            },
            "colorscale": [
             [
              0,
              "#0d0887"
             ],
             [
              0.1111111111111111,
              "#46039f"
             ],
             [
              0.2222222222222222,
              "#7201a8"
             ],
             [
              0.3333333333333333,
              "#9c179e"
             ],
             [
              0.4444444444444444,
              "#bd3786"
             ],
             [
              0.5555555555555556,
              "#d8576b"
             ],
             [
              0.6666666666666666,
              "#ed7953"
             ],
             [
              0.7777777777777778,
              "#fb9f3a"
             ],
             [
              0.8888888888888888,
              "#fdca26"
             ],
             [
              1,
              "#f0f921"
             ]
            ],
            "type": "surface"
           }
          ],
          "table": [
           {
            "cells": {
             "fill": {
              "color": "#EBF0F8"
             },
             "line": {
              "color": "white"
             }
            },
            "header": {
             "fill": {
              "color": "#C8D4E3"
             },
             "line": {
              "color": "white"
             }
            },
            "type": "table"
           }
          ]
         },
         "layout": {
          "annotationdefaults": {
           "arrowcolor": "#2a3f5f",
           "arrowhead": 0,
           "arrowwidth": 1
          },
          "autotypenumbers": "strict",
          "coloraxis": {
           "colorbar": {
            "outlinewidth": 0,
            "ticks": ""
           }
          },
          "colorscale": {
           "diverging": [
            [
             0,
             "#8e0152"
            ],
            [
             0.1,
             "#c51b7d"
            ],
            [
             0.2,
             "#de77ae"
            ],
            [
             0.3,
             "#f1b6da"
            ],
            [
             0.4,
             "#fde0ef"
            ],
            [
             0.5,
             "#f7f7f7"
            ],
            [
             0.6,
             "#e6f5d0"
            ],
            [
             0.7,
             "#b8e186"
            ],
            [
             0.8,
             "#7fbc41"
            ],
            [
             0.9,
             "#4d9221"
            ],
            [
             1,
             "#276419"
            ]
           ],
           "sequential": [
            [
             0,
             "#0d0887"
            ],
            [
             0.1111111111111111,
             "#46039f"
            ],
            [
             0.2222222222222222,
             "#7201a8"
            ],
            [
             0.3333333333333333,
             "#9c179e"
            ],
            [
             0.4444444444444444,
             "#bd3786"
            ],
            [
             0.5555555555555556,
             "#d8576b"
            ],
            [
             0.6666666666666666,
             "#ed7953"
            ],
            [
             0.7777777777777778,
             "#fb9f3a"
            ],
            [
             0.8888888888888888,
             "#fdca26"
            ],
            [
             1,
             "#f0f921"
            ]
           ],
           "sequentialminus": [
            [
             0,
             "#0d0887"
            ],
            [
             0.1111111111111111,
             "#46039f"
            ],
            [
             0.2222222222222222,
             "#7201a8"
            ],
            [
             0.3333333333333333,
             "#9c179e"
            ],
            [
             0.4444444444444444,
             "#bd3786"
            ],
            [
             0.5555555555555556,
             "#d8576b"
            ],
            [
             0.6666666666666666,
             "#ed7953"
            ],
            [
             0.7777777777777778,
             "#fb9f3a"
            ],
            [
             0.8888888888888888,
             "#fdca26"
            ],
            [
             1,
             "#f0f921"
            ]
           ]
          },
          "colorway": [
           "#636efa",
           "#EF553B",
           "#00cc96",
           "#ab63fa",
           "#FFA15A",
           "#19d3f3",
           "#FF6692",
           "#B6E880",
           "#FF97FF",
           "#FECB52"
          ],
          "font": {
           "color": "#2a3f5f"
          },
          "geo": {
           "bgcolor": "white",
           "lakecolor": "white",
           "landcolor": "#E5ECF6",
           "showlakes": true,
           "showland": true,
           "subunitcolor": "white"
          },
          "hoverlabel": {
           "align": "left"
          },
          "hovermode": "closest",
          "mapbox": {
           "style": "light"
          },
          "paper_bgcolor": "white",
          "plot_bgcolor": "#E5ECF6",
          "polar": {
           "angularaxis": {
            "gridcolor": "white",
            "linecolor": "white",
            "ticks": ""
           },
           "bgcolor": "#E5ECF6",
           "radialaxis": {
            "gridcolor": "white",
            "linecolor": "white",
            "ticks": ""
           }
          },
          "scene": {
           "xaxis": {
            "backgroundcolor": "#E5ECF6",
            "gridcolor": "white",
            "gridwidth": 2,
            "linecolor": "white",
            "showbackground": true,
            "ticks": "",
            "zerolinecolor": "white"
           },
           "yaxis": {
            "backgroundcolor": "#E5ECF6",
            "gridcolor": "white",
            "gridwidth": 2,
            "linecolor": "white",
            "showbackground": true,
            "ticks": "",
            "zerolinecolor": "white"
           },
           "zaxis": {
            "backgroundcolor": "#E5ECF6",
            "gridcolor": "white",
            "gridwidth": 2,
            "linecolor": "white",
            "showbackground": true,
            "ticks": "",
            "zerolinecolor": "white"
           }
          },
          "shapedefaults": {
           "line": {
            "color": "#2a3f5f"
           }
          },
          "ternary": {
           "aaxis": {
            "gridcolor": "white",
            "linecolor": "white",
            "ticks": ""
           },
           "baxis": {
            "gridcolor": "white",
            "linecolor": "white",
            "ticks": ""
           },
           "bgcolor": "#E5ECF6",
           "caxis": {
            "gridcolor": "white",
            "linecolor": "white",
            "ticks": ""
           }
          },
          "title": {
           "x": 0.05
          },
          "xaxis": {
           "automargin": true,
           "gridcolor": "white",
           "linecolor": "white",
           "ticks": "",
           "title": {
            "standoff": 15
           },
           "zerolinecolor": "white",
           "zerolinewidth": 2
          },
          "yaxis": {
           "automargin": true,
           "gridcolor": "white",
           "linecolor": "white",
           "ticks": "",
           "title": {
            "standoff": 15
           },
           "zerolinecolor": "white",
           "zerolinewidth": 2
          }
         }
        }
       }
      }
     },
     "metadata": {},
     "output_type": "display_data"
    }
   ],
   "source": [
    "px.sunburst(medal_distribution, values='Number of Medals', path=['Sport', 'NOC'])"
   ]
  },
  {
   "cell_type": "markdown",
   "metadata": {},
   "source": [
    "#### Åldersfördelning i sporterna"
   ]
  },
  {
   "cell_type": "code",
   "execution_count": 20,
   "metadata": {},
   "outputs": [
    {
     "data": {
      "application/vnd.plotly.v1+json": {
       "config": {
        "plotlyServerURL": "https://plot.ly"
       },
       "data": [
        {
         "alignmentgroup": "True",
         "bingroup": "x",
         "histfunc": "sum",
         "hovertemplate": "Sport=Athletics<br>Age=%{x}<br>sum of Number of Athletes=%{y}<extra></extra>",
         "legendgroup": "Athletics",
         "marker": {
          "color": "#636efa",
          "pattern": {
           "shape": ""
          }
         },
         "name": "Athletics",
         "nbinsx": 80,
         "offsetgroup": "Athletics",
         "orientation": "v",
         "showlegend": true,
         "type": "histogram",
         "x": [
          12,
          13,
          14,
          15,
          16,
          17,
          18,
          19,
          20,
          21,
          22,
          23,
          24,
          25,
          26,
          27,
          28,
          29,
          30,
          31,
          32,
          33,
          34,
          35,
          36,
          37,
          38,
          39,
          40,
          41,
          42,
          43,
          44,
          45,
          46,
          47,
          48,
          49,
          50,
          52
         ],
         "xaxis": "x",
         "y": [
          2,
          2,
          6,
          49,
          137,
          346,
          743,
          1354,
          2177,
          2866,
          3317,
          3744,
          3597,
          3431,
          3045,
          2747,
          2288,
          1795,
          1545,
          1067,
          915,
          620,
          504,
          362,
          258,
          182,
          137,
          84,
          72,
          35,
          29,
          14,
          14,
          5,
          8,
          2,
          5,
          1,
          1,
          1
         ],
         "yaxis": "y"
        },
        {
         "alignmentgroup": "True",
         "bingroup": "x",
         "histfunc": "sum",
         "hovertemplate": "Sport=Cross Country Skiing<br>Age=%{x}<br>sum of Number of Athletes=%{y}<extra></extra>",
         "legendgroup": "Cross Country Skiing",
         "marker": {
          "color": "#EF553B",
          "pattern": {
           "shape": ""
          }
         },
         "name": "Cross Country Skiing",
         "nbinsx": 80,
         "offsetgroup": "Cross Country Skiing",
         "orientation": "v",
         "showlegend": true,
         "type": "histogram",
         "x": [
          15,
          16,
          17,
          18,
          19,
          20,
          21,
          22,
          23,
          24,
          25,
          26,
          27,
          28,
          29,
          30,
          31,
          32,
          33,
          34,
          35,
          36,
          37,
          38,
          39,
          40,
          41,
          43,
          44,
          45,
          47,
          49
         ],
         "xaxis": "x",
         "y": [
          2,
          21,
          50,
          120,
          226,
          328,
          507,
          707,
          841,
          857,
          794,
          781,
          730,
          716,
          549,
          508,
          376,
          298,
          244,
          149,
          80,
          76,
          57,
          30,
          15,
          14,
          9,
          7,
          1,
          2,
          2,
          1
         ],
         "yaxis": "y"
        },
        {
         "alignmentgroup": "True",
         "bingroup": "x",
         "histfunc": "sum",
         "hovertemplate": "Sport=Ice Hockey<br>Age=%{x}<br>sum of Number of Athletes=%{y}<extra></extra>",
         "legendgroup": "Ice Hockey",
         "marker": {
          "color": "#00cc96",
          "pattern": {
           "shape": ""
          }
         },
         "name": "Ice Hockey",
         "nbinsx": 80,
         "offsetgroup": "Ice Hockey",
         "orientation": "v",
         "showlegend": true,
         "type": "histogram",
         "x": [
          15,
          16,
          17,
          18,
          19,
          20,
          21,
          22,
          23,
          24,
          25,
          26,
          27,
          28,
          29,
          30,
          31,
          32,
          33,
          34,
          35,
          36,
          37,
          38,
          39,
          40,
          41,
          42,
          43,
          44,
          46,
          48
         ],
         "xaxis": "x",
         "y": [
          4,
          16,
          27,
          91,
          145,
          252,
          355,
          456,
          494,
          477,
          498,
          455,
          443,
          339,
          320,
          288,
          218,
          172,
          131,
          80,
          97,
          41,
          37,
          18,
          9,
          9,
          8,
          2,
          1,
          1,
          2,
          1
         ],
         "yaxis": "y"
        },
        {
         "alignmentgroup": "True",
         "bingroup": "x",
         "histfunc": "sum",
         "hovertemplate": "Sport=Shooting<br>Age=%{x}<br>sum of Number of Athletes=%{y}<extra></extra>",
         "legendgroup": "Shooting",
         "marker": {
          "color": "#ab63fa",
          "pattern": {
           "shape": ""
          }
         },
         "name": "Shooting",
         "nbinsx": 80,
         "offsetgroup": "Shooting",
         "orientation": "v",
         "showlegend": true,
         "type": "histogram",
         "x": [
          15,
          16,
          17,
          18,
          19,
          20,
          21,
          22,
          23,
          24,
          25,
          26,
          27,
          28,
          29,
          30,
          31,
          32,
          33,
          34,
          35,
          36,
          37,
          38,
          39,
          40,
          41,
          42,
          43,
          44,
          45,
          46,
          47,
          48,
          49,
          50,
          51,
          52,
          53,
          54,
          55,
          56,
          57,
          58,
          59,
          60,
          61,
          62,
          63,
          64,
          65,
          66,
          68,
          70,
          72
         ],
         "xaxis": "x",
         "y": [
          2,
          21,
          46,
          64,
          120,
          169,
          251,
          258,
          325,
          367,
          411,
          437,
          433,
          493,
          429,
          421,
          463,
          536,
          475,
          467,
          473,
          416,
          372,
          343,
          383,
          312,
          304,
          241,
          266,
          202,
          171,
          144,
          126,
          128,
          94,
          84,
          66,
          77,
          35,
          46,
          20,
          37,
          23,
          6,
          13,
          22,
          6,
          6,
          4,
          6,
          5,
          3,
          1,
          1,
          3
         ],
         "yaxis": "y"
        }
       ],
       "layout": {
        "annotations": [
         {
          "showarrow": false,
          "text": "Mean age all sports",
          "x": 26.7,
          "xanchor": "left",
          "xref": "x",
          "y": 1,
          "yanchor": "top",
          "yref": "y domain"
         }
        ],
        "bargap": 0.01,
        "barmode": "group",
        "legend": {
         "title": {
          "text": "Sport"
         },
         "tracegroupgap": 0
        },
        "shapes": [
         {
          "line": {
           "color": "green",
           "dash": "dash",
           "width": 3
          },
          "type": "line",
          "x0": 26.7,
          "x1": 26.7,
          "xref": "x",
          "y0": 0,
          "y1": 1,
          "yref": "y domain"
         }
        ],
        "template": {
         "data": {
          "bar": [
           {
            "error_x": {
             "color": "#2a3f5f"
            },
            "error_y": {
             "color": "#2a3f5f"
            },
            "marker": {
             "line": {
              "color": "#E5ECF6",
              "width": 0.5
             },
             "pattern": {
              "fillmode": "overlay",
              "size": 10,
              "solidity": 0.2
             }
            },
            "type": "bar"
           }
          ],
          "barpolar": [
           {
            "marker": {
             "line": {
              "color": "#E5ECF6",
              "width": 0.5
             },
             "pattern": {
              "fillmode": "overlay",
              "size": 10,
              "solidity": 0.2
             }
            },
            "type": "barpolar"
           }
          ],
          "carpet": [
           {
            "aaxis": {
             "endlinecolor": "#2a3f5f",
             "gridcolor": "white",
             "linecolor": "white",
             "minorgridcolor": "white",
             "startlinecolor": "#2a3f5f"
            },
            "baxis": {
             "endlinecolor": "#2a3f5f",
             "gridcolor": "white",
             "linecolor": "white",
             "minorgridcolor": "white",
             "startlinecolor": "#2a3f5f"
            },
            "type": "carpet"
           }
          ],
          "choropleth": [
           {
            "colorbar": {
             "outlinewidth": 0,
             "ticks": ""
            },
            "type": "choropleth"
           }
          ],
          "contour": [
           {
            "colorbar": {
             "outlinewidth": 0,
             "ticks": ""
            },
            "colorscale": [
             [
              0,
              "#0d0887"
             ],
             [
              0.1111111111111111,
              "#46039f"
             ],
             [
              0.2222222222222222,
              "#7201a8"
             ],
             [
              0.3333333333333333,
              "#9c179e"
             ],
             [
              0.4444444444444444,
              "#bd3786"
             ],
             [
              0.5555555555555556,
              "#d8576b"
             ],
             [
              0.6666666666666666,
              "#ed7953"
             ],
             [
              0.7777777777777778,
              "#fb9f3a"
             ],
             [
              0.8888888888888888,
              "#fdca26"
             ],
             [
              1,
              "#f0f921"
             ]
            ],
            "type": "contour"
           }
          ],
          "contourcarpet": [
           {
            "colorbar": {
             "outlinewidth": 0,
             "ticks": ""
            },
            "type": "contourcarpet"
           }
          ],
          "heatmap": [
           {
            "colorbar": {
             "outlinewidth": 0,
             "ticks": ""
            },
            "colorscale": [
             [
              0,
              "#0d0887"
             ],
             [
              0.1111111111111111,
              "#46039f"
             ],
             [
              0.2222222222222222,
              "#7201a8"
             ],
             [
              0.3333333333333333,
              "#9c179e"
             ],
             [
              0.4444444444444444,
              "#bd3786"
             ],
             [
              0.5555555555555556,
              "#d8576b"
             ],
             [
              0.6666666666666666,
              "#ed7953"
             ],
             [
              0.7777777777777778,
              "#fb9f3a"
             ],
             [
              0.8888888888888888,
              "#fdca26"
             ],
             [
              1,
              "#f0f921"
             ]
            ],
            "type": "heatmap"
           }
          ],
          "heatmapgl": [
           {
            "colorbar": {
             "outlinewidth": 0,
             "ticks": ""
            },
            "colorscale": [
             [
              0,
              "#0d0887"
             ],
             [
              0.1111111111111111,
              "#46039f"
             ],
             [
              0.2222222222222222,
              "#7201a8"
             ],
             [
              0.3333333333333333,
              "#9c179e"
             ],
             [
              0.4444444444444444,
              "#bd3786"
             ],
             [
              0.5555555555555556,
              "#d8576b"
             ],
             [
              0.6666666666666666,
              "#ed7953"
             ],
             [
              0.7777777777777778,
              "#fb9f3a"
             ],
             [
              0.8888888888888888,
              "#fdca26"
             ],
             [
              1,
              "#f0f921"
             ]
            ],
            "type": "heatmapgl"
           }
          ],
          "histogram": [
           {
            "marker": {
             "pattern": {
              "fillmode": "overlay",
              "size": 10,
              "solidity": 0.2
             }
            },
            "type": "histogram"
           }
          ],
          "histogram2d": [
           {
            "colorbar": {
             "outlinewidth": 0,
             "ticks": ""
            },
            "colorscale": [
             [
              0,
              "#0d0887"
             ],
             [
              0.1111111111111111,
              "#46039f"
             ],
             [
              0.2222222222222222,
              "#7201a8"
             ],
             [
              0.3333333333333333,
              "#9c179e"
             ],
             [
              0.4444444444444444,
              "#bd3786"
             ],
             [
              0.5555555555555556,
              "#d8576b"
             ],
             [
              0.6666666666666666,
              "#ed7953"
             ],
             [
              0.7777777777777778,
              "#fb9f3a"
             ],
             [
              0.8888888888888888,
              "#fdca26"
             ],
             [
              1,
              "#f0f921"
             ]
            ],
            "type": "histogram2d"
           }
          ],
          "histogram2dcontour": [
           {
            "colorbar": {
             "outlinewidth": 0,
             "ticks": ""
            },
            "colorscale": [
             [
              0,
              "#0d0887"
             ],
             [
              0.1111111111111111,
              "#46039f"
             ],
             [
              0.2222222222222222,
              "#7201a8"
             ],
             [
              0.3333333333333333,
              "#9c179e"
             ],
             [
              0.4444444444444444,
              "#bd3786"
             ],
             [
              0.5555555555555556,
              "#d8576b"
             ],
             [
              0.6666666666666666,
              "#ed7953"
             ],
             [
              0.7777777777777778,
              "#fb9f3a"
             ],
             [
              0.8888888888888888,
              "#fdca26"
             ],
             [
              1,
              "#f0f921"
             ]
            ],
            "type": "histogram2dcontour"
           }
          ],
          "mesh3d": [
           {
            "colorbar": {
             "outlinewidth": 0,
             "ticks": ""
            },
            "type": "mesh3d"
           }
          ],
          "parcoords": [
           {
            "line": {
             "colorbar": {
              "outlinewidth": 0,
              "ticks": ""
             }
            },
            "type": "parcoords"
           }
          ],
          "pie": [
           {
            "automargin": true,
            "type": "pie"
           }
          ],
          "scatter": [
           {
            "fillpattern": {
             "fillmode": "overlay",
             "size": 10,
             "solidity": 0.2
            },
            "type": "scatter"
           }
          ],
          "scatter3d": [
           {
            "line": {
             "colorbar": {
              "outlinewidth": 0,
              "ticks": ""
             }
            },
            "marker": {
             "colorbar": {
              "outlinewidth": 0,
              "ticks": ""
             }
            },
            "type": "scatter3d"
           }
          ],
          "scattercarpet": [
           {
            "marker": {
             "colorbar": {
              "outlinewidth": 0,
              "ticks": ""
             }
            },
            "type": "scattercarpet"
           }
          ],
          "scattergeo": [
           {
            "marker": {
             "colorbar": {
              "outlinewidth": 0,
              "ticks": ""
             }
            },
            "type": "scattergeo"
           }
          ],
          "scattergl": [
           {
            "marker": {
             "colorbar": {
              "outlinewidth": 0,
              "ticks": ""
             }
            },
            "type": "scattergl"
           }
          ],
          "scattermapbox": [
           {
            "marker": {
             "colorbar": {
              "outlinewidth": 0,
              "ticks": ""
             }
            },
            "type": "scattermapbox"
           }
          ],
          "scatterpolar": [
           {
            "marker": {
             "colorbar": {
              "outlinewidth": 0,
              "ticks": ""
             }
            },
            "type": "scatterpolar"
           }
          ],
          "scatterpolargl": [
           {
            "marker": {
             "colorbar": {
              "outlinewidth": 0,
              "ticks": ""
             }
            },
            "type": "scatterpolargl"
           }
          ],
          "scatterternary": [
           {
            "marker": {
             "colorbar": {
              "outlinewidth": 0,
              "ticks": ""
             }
            },
            "type": "scatterternary"
           }
          ],
          "surface": [
           {
            "colorbar": {
             "outlinewidth": 0,
             "ticks": ""
            },
            "colorscale": [
             [
              0,
              "#0d0887"
             ],
             [
              0.1111111111111111,
              "#46039f"
             ],
             [
              0.2222222222222222,
              "#7201a8"
             ],
             [
              0.3333333333333333,
              "#9c179e"
             ],
             [
              0.4444444444444444,
              "#bd3786"
             ],
             [
              0.5555555555555556,
              "#d8576b"
             ],
             [
              0.6666666666666666,
              "#ed7953"
             ],
             [
              0.7777777777777778,
              "#fb9f3a"
             ],
             [
              0.8888888888888888,
              "#fdca26"
             ],
             [
              1,
              "#f0f921"
             ]
            ],
            "type": "surface"
           }
          ],
          "table": [
           {
            "cells": {
             "fill": {
              "color": "#EBF0F8"
             },
             "line": {
              "color": "white"
             }
            },
            "header": {
             "fill": {
              "color": "#C8D4E3"
             },
             "line": {
              "color": "white"
             }
            },
            "type": "table"
           }
          ]
         },
         "layout": {
          "annotationdefaults": {
           "arrowcolor": "#2a3f5f",
           "arrowhead": 0,
           "arrowwidth": 1
          },
          "autotypenumbers": "strict",
          "coloraxis": {
           "colorbar": {
            "outlinewidth": 0,
            "ticks": ""
           }
          },
          "colorscale": {
           "diverging": [
            [
             0,
             "#8e0152"
            ],
            [
             0.1,
             "#c51b7d"
            ],
            [
             0.2,
             "#de77ae"
            ],
            [
             0.3,
             "#f1b6da"
            ],
            [
             0.4,
             "#fde0ef"
            ],
            [
             0.5,
             "#f7f7f7"
            ],
            [
             0.6,
             "#e6f5d0"
            ],
            [
             0.7,
             "#b8e186"
            ],
            [
             0.8,
             "#7fbc41"
            ],
            [
             0.9,
             "#4d9221"
            ],
            [
             1,
             "#276419"
            ]
           ],
           "sequential": [
            [
             0,
             "#0d0887"
            ],
            [
             0.1111111111111111,
             "#46039f"
            ],
            [
             0.2222222222222222,
             "#7201a8"
            ],
            [
             0.3333333333333333,
             "#9c179e"
            ],
            [
             0.4444444444444444,
             "#bd3786"
            ],
            [
             0.5555555555555556,
             "#d8576b"
            ],
            [
             0.6666666666666666,
             "#ed7953"
            ],
            [
             0.7777777777777778,
             "#fb9f3a"
            ],
            [
             0.8888888888888888,
             "#fdca26"
            ],
            [
             1,
             "#f0f921"
            ]
           ],
           "sequentialminus": [
            [
             0,
             "#0d0887"
            ],
            [
             0.1111111111111111,
             "#46039f"
            ],
            [
             0.2222222222222222,
             "#7201a8"
            ],
            [
             0.3333333333333333,
             "#9c179e"
            ],
            [
             0.4444444444444444,
             "#bd3786"
            ],
            [
             0.5555555555555556,
             "#d8576b"
            ],
            [
             0.6666666666666666,
             "#ed7953"
            ],
            [
             0.7777777777777778,
             "#fb9f3a"
            ],
            [
             0.8888888888888888,
             "#fdca26"
            ],
            [
             1,
             "#f0f921"
            ]
           ]
          },
          "colorway": [
           "#636efa",
           "#EF553B",
           "#00cc96",
           "#ab63fa",
           "#FFA15A",
           "#19d3f3",
           "#FF6692",
           "#B6E880",
           "#FF97FF",
           "#FECB52"
          ],
          "font": {
           "color": "#2a3f5f"
          },
          "geo": {
           "bgcolor": "white",
           "lakecolor": "white",
           "landcolor": "#E5ECF6",
           "showlakes": true,
           "showland": true,
           "subunitcolor": "white"
          },
          "hoverlabel": {
           "align": "left"
          },
          "hovermode": "closest",
          "mapbox": {
           "style": "light"
          },
          "paper_bgcolor": "white",
          "plot_bgcolor": "#E5ECF6",
          "polar": {
           "angularaxis": {
            "gridcolor": "white",
            "linecolor": "white",
            "ticks": ""
           },
           "bgcolor": "#E5ECF6",
           "radialaxis": {
            "gridcolor": "white",
            "linecolor": "white",
            "ticks": ""
           }
          },
          "scene": {
           "xaxis": {
            "backgroundcolor": "#E5ECF6",
            "gridcolor": "white",
            "gridwidth": 2,
            "linecolor": "white",
            "showbackground": true,
            "ticks": "",
            "zerolinecolor": "white"
           },
           "yaxis": {
            "backgroundcolor": "#E5ECF6",
            "gridcolor": "white",
            "gridwidth": 2,
            "linecolor": "white",
            "showbackground": true,
            "ticks": "",
            "zerolinecolor": "white"
           },
           "zaxis": {
            "backgroundcolor": "#E5ECF6",
            "gridcolor": "white",
            "gridwidth": 2,
            "linecolor": "white",
            "showbackground": true,
            "ticks": "",
            "zerolinecolor": "white"
           }
          },
          "shapedefaults": {
           "line": {
            "color": "#2a3f5f"
           }
          },
          "ternary": {
           "aaxis": {
            "gridcolor": "white",
            "linecolor": "white",
            "ticks": ""
           },
           "baxis": {
            "gridcolor": "white",
            "linecolor": "white",
            "ticks": ""
           },
           "bgcolor": "#E5ECF6",
           "caxis": {
            "gridcolor": "white",
            "linecolor": "white",
            "ticks": ""
           }
          },
          "title": {
           "x": 0.05
          },
          "xaxis": {
           "automargin": true,
           "gridcolor": "white",
           "linecolor": "white",
           "ticks": "",
           "title": {
            "standoff": 15
           },
           "zerolinecolor": "white",
           "zerolinewidth": 2
          },
          "yaxis": {
           "automargin": true,
           "gridcolor": "white",
           "linecolor": "white",
           "ticks": "",
           "title": {
            "standoff": 15
           },
           "zerolinecolor": "white",
           "zerolinewidth": 2
          }
         }
        },
        "title": {
         "text": "Age distribution in All Olympic Games"
        },
        "xaxis": {
         "anchor": "y",
         "domain": [
          0,
          1
         ],
         "range": [
          6.699999999999999,
          46.7
         ],
         "title": {
          "text": "Age"
         }
        },
        "yaxis": {
         "anchor": "x",
         "domain": [
          0,
          1
         ],
         "title": {
          "text": "sum of Number of Athletes"
         },
         "type": "log"
        }
       }
      }
     },
     "metadata": {},
     "output_type": "display_data"
    }
   ],
   "source": [
    "mean_age_all = round(df_all_selected_sports[\"Age\"].mean(), 1)\n",
    "\n",
    "age_distribution = (\n",
    "    df_all_selected_sports.groupby(['Sport', 'Age'])\n",
    "    .size()\n",
    "    .reset_index(name=\"Number of Athletes\")\n",
    ")\n",
    "\n",
    "# Plotting a histogram of ages of athletes from SWE in all olympic games around the mean age\n",
    "fig = px.histogram(\n",
    "    age_distribution, \n",
    "    x=\"Age\",\n",
    "    y=\"Number of Athletes\",\n",
    "    log_y=True,\n",
    "    color='Sport',\n",
    "    title=\"Age distribution in All Olympic Games\",\n",
    "    range_x=[mean_age_all-20, mean_age_all+20],\n",
    "    barmode='group',\n",
    "    nbins=80\n",
    ")\n",
    "\n",
    "# Mark the mean age in the x-axis\n",
    "fig.add_vline(x=mean_age_all, line_width=3, line_dash=\"dash\", line_color=\"green\", annotation_text=\"Mean age all sports\")\n",
    "\n",
    "# Making spaces between bars\n",
    "fig.update_layout(bargap=0.01)\n",
    "\n",
    "fig.show()"
   ]
  },
  {
   "cell_type": "code",
   "execution_count": 21,
   "metadata": {},
   "outputs": [
    {
     "data": {
      "application/vnd.plotly.v1+json": {
       "config": {
        "plotlyServerURL": "https://plot.ly"
       },
       "data": [
        {
         "branchvalues": "total",
         "domain": {
          "x": [
           0,
           1
          ],
          "y": [
           0,
           1
          ]
         },
         "hovertemplate": "labels=%{label}<br>Number of Athletes=%{value}<br>parent=%{parent}<br>id=%{id}<extra></extra>",
         "ids": [
          "Athletics/12.0",
          "Athletics/13.0",
          "Athletics/14.0",
          "Athletics/15.0",
          "Cross Country Skiing/15.0",
          "Ice Hockey/15.0",
          "Shooting/15.0",
          "Athletics/16.0",
          "Cross Country Skiing/16.0",
          "Ice Hockey/16.0",
          "Shooting/16.0",
          "Athletics/17.0",
          "Cross Country Skiing/17.0",
          "Ice Hockey/17.0",
          "Shooting/17.0",
          "Athletics/18.0",
          "Cross Country Skiing/18.0",
          "Ice Hockey/18.0",
          "Shooting/18.0",
          "Athletics/19.0",
          "Cross Country Skiing/19.0",
          "Ice Hockey/19.0",
          "Shooting/19.0",
          "Athletics/20.0",
          "Cross Country Skiing/20.0",
          "Ice Hockey/20.0",
          "Shooting/20.0",
          "Athletics/21.0",
          "Cross Country Skiing/21.0",
          "Ice Hockey/21.0",
          "Shooting/21.0",
          "Athletics/22.0",
          "Cross Country Skiing/22.0",
          "Ice Hockey/22.0",
          "Shooting/22.0",
          "Athletics/23.0",
          "Cross Country Skiing/23.0",
          "Ice Hockey/23.0",
          "Shooting/23.0",
          "Athletics/24.0",
          "Cross Country Skiing/24.0",
          "Ice Hockey/24.0",
          "Shooting/24.0",
          "Athletics/25.0",
          "Cross Country Skiing/25.0",
          "Ice Hockey/25.0",
          "Shooting/25.0",
          "Athletics/26.0",
          "Cross Country Skiing/26.0",
          "Ice Hockey/26.0",
          "Shooting/26.0",
          "Athletics/27.0",
          "Cross Country Skiing/27.0",
          "Ice Hockey/27.0",
          "Shooting/27.0",
          "Athletics/28.0",
          "Cross Country Skiing/28.0",
          "Ice Hockey/28.0",
          "Shooting/28.0",
          "Athletics/29.0",
          "Cross Country Skiing/29.0",
          "Ice Hockey/29.0",
          "Shooting/29.0",
          "Athletics/30.0",
          "Cross Country Skiing/30.0",
          "Ice Hockey/30.0",
          "Shooting/30.0",
          "Athletics/31.0",
          "Cross Country Skiing/31.0",
          "Ice Hockey/31.0",
          "Shooting/31.0",
          "Athletics/32.0",
          "Cross Country Skiing/32.0",
          "Ice Hockey/32.0",
          "Shooting/32.0",
          "Athletics/33.0",
          "Cross Country Skiing/33.0",
          "Ice Hockey/33.0",
          "Shooting/33.0",
          "Athletics/34.0",
          "Cross Country Skiing/34.0",
          "Ice Hockey/34.0",
          "Shooting/34.0",
          "Athletics/35.0",
          "Cross Country Skiing/35.0",
          "Ice Hockey/35.0",
          "Shooting/35.0",
          "Athletics/36.0",
          "Cross Country Skiing/36.0",
          "Ice Hockey/36.0",
          "Shooting/36.0",
          "Athletics/37.0",
          "Cross Country Skiing/37.0",
          "Ice Hockey/37.0",
          "Shooting/37.0",
          "Athletics/38.0",
          "Cross Country Skiing/38.0",
          "Ice Hockey/38.0",
          "Shooting/38.0",
          "Athletics/39.0",
          "Cross Country Skiing/39.0",
          "Ice Hockey/39.0",
          "Shooting/39.0",
          "Athletics/40.0",
          "Cross Country Skiing/40.0",
          "Ice Hockey/40.0",
          "Shooting/40.0",
          "Athletics/41.0",
          "Cross Country Skiing/41.0",
          "Ice Hockey/41.0",
          "Shooting/41.0",
          "Athletics/42.0",
          "Ice Hockey/42.0",
          "Shooting/42.0",
          "Athletics/43.0",
          "Cross Country Skiing/43.0",
          "Ice Hockey/43.0",
          "Shooting/43.0",
          "Athletics/44.0",
          "Cross Country Skiing/44.0",
          "Ice Hockey/44.0",
          "Shooting/44.0",
          "Athletics/45.0",
          "Cross Country Skiing/45.0",
          "Shooting/45.0",
          "Athletics/46.0",
          "Ice Hockey/46.0",
          "Shooting/46.0",
          "Athletics/47.0",
          "Cross Country Skiing/47.0",
          "Shooting/47.0",
          "Athletics/48.0",
          "Ice Hockey/48.0",
          "Shooting/48.0",
          "Athletics/49.0",
          "Cross Country Skiing/49.0",
          "Shooting/49.0",
          "Athletics/50.0",
          "Shooting/50.0",
          "Shooting/51.0",
          "Athletics/52.0",
          "Shooting/52.0",
          "Shooting/53.0",
          "Shooting/54.0",
          "Shooting/55.0",
          "Shooting/56.0",
          "Shooting/57.0",
          "Shooting/58.0",
          "Shooting/59.0",
          "Shooting/60.0",
          "Shooting/61.0",
          "Shooting/62.0",
          "Shooting/63.0",
          "Shooting/64.0",
          "Shooting/65.0",
          "Shooting/66.0",
          "Shooting/68.0",
          "Shooting/70.0",
          "Shooting/72.0",
          "Athletics",
          "Cross Country Skiing",
          "Ice Hockey",
          "Shooting"
         ],
         "labels": [
          "12.0",
          "13.0",
          "14.0",
          "15.0",
          "15.0",
          "15.0",
          "15.0",
          "16.0",
          "16.0",
          "16.0",
          "16.0",
          "17.0",
          "17.0",
          "17.0",
          "17.0",
          "18.0",
          "18.0",
          "18.0",
          "18.0",
          "19.0",
          "19.0",
          "19.0",
          "19.0",
          "20.0",
          "20.0",
          "20.0",
          "20.0",
          "21.0",
          "21.0",
          "21.0",
          "21.0",
          "22.0",
          "22.0",
          "22.0",
          "22.0",
          "23.0",
          "23.0",
          "23.0",
          "23.0",
          "24.0",
          "24.0",
          "24.0",
          "24.0",
          "25.0",
          "25.0",
          "25.0",
          "25.0",
          "26.0",
          "26.0",
          "26.0",
          "26.0",
          "27.0",
          "27.0",
          "27.0",
          "27.0",
          "28.0",
          "28.0",
          "28.0",
          "28.0",
          "29.0",
          "29.0",
          "29.0",
          "29.0",
          "30.0",
          "30.0",
          "30.0",
          "30.0",
          "31.0",
          "31.0",
          "31.0",
          "31.0",
          "32.0",
          "32.0",
          "32.0",
          "32.0",
          "33.0",
          "33.0",
          "33.0",
          "33.0",
          "34.0",
          "34.0",
          "34.0",
          "34.0",
          "35.0",
          "35.0",
          "35.0",
          "35.0",
          "36.0",
          "36.0",
          "36.0",
          "36.0",
          "37.0",
          "37.0",
          "37.0",
          "37.0",
          "38.0",
          "38.0",
          "38.0",
          "38.0",
          "39.0",
          "39.0",
          "39.0",
          "39.0",
          "40.0",
          "40.0",
          "40.0",
          "40.0",
          "41.0",
          "41.0",
          "41.0",
          "41.0",
          "42.0",
          "42.0",
          "42.0",
          "43.0",
          "43.0",
          "43.0",
          "43.0",
          "44.0",
          "44.0",
          "44.0",
          "44.0",
          "45.0",
          "45.0",
          "45.0",
          "46.0",
          "46.0",
          "46.0",
          "47.0",
          "47.0",
          "47.0",
          "48.0",
          "48.0",
          "48.0",
          "49.0",
          "49.0",
          "49.0",
          "50.0",
          "50.0",
          "51.0",
          "52.0",
          "52.0",
          "53.0",
          "54.0",
          "55.0",
          "56.0",
          "57.0",
          "58.0",
          "59.0",
          "60.0",
          "61.0",
          "62.0",
          "63.0",
          "64.0",
          "65.0",
          "66.0",
          "68.0",
          "70.0",
          "72.0",
          "Athletics",
          "Cross Country Skiing",
          "Ice Hockey",
          "Shooting"
         ],
         "name": "",
         "parents": [
          "Athletics",
          "Athletics",
          "Athletics",
          "Athletics",
          "Cross Country Skiing",
          "Ice Hockey",
          "Shooting",
          "Athletics",
          "Cross Country Skiing",
          "Ice Hockey",
          "Shooting",
          "Athletics",
          "Cross Country Skiing",
          "Ice Hockey",
          "Shooting",
          "Athletics",
          "Cross Country Skiing",
          "Ice Hockey",
          "Shooting",
          "Athletics",
          "Cross Country Skiing",
          "Ice Hockey",
          "Shooting",
          "Athletics",
          "Cross Country Skiing",
          "Ice Hockey",
          "Shooting",
          "Athletics",
          "Cross Country Skiing",
          "Ice Hockey",
          "Shooting",
          "Athletics",
          "Cross Country Skiing",
          "Ice Hockey",
          "Shooting",
          "Athletics",
          "Cross Country Skiing",
          "Ice Hockey",
          "Shooting",
          "Athletics",
          "Cross Country Skiing",
          "Ice Hockey",
          "Shooting",
          "Athletics",
          "Cross Country Skiing",
          "Ice Hockey",
          "Shooting",
          "Athletics",
          "Cross Country Skiing",
          "Ice Hockey",
          "Shooting",
          "Athletics",
          "Cross Country Skiing",
          "Ice Hockey",
          "Shooting",
          "Athletics",
          "Cross Country Skiing",
          "Ice Hockey",
          "Shooting",
          "Athletics",
          "Cross Country Skiing",
          "Ice Hockey",
          "Shooting",
          "Athletics",
          "Cross Country Skiing",
          "Ice Hockey",
          "Shooting",
          "Athletics",
          "Cross Country Skiing",
          "Ice Hockey",
          "Shooting",
          "Athletics",
          "Cross Country Skiing",
          "Ice Hockey",
          "Shooting",
          "Athletics",
          "Cross Country Skiing",
          "Ice Hockey",
          "Shooting",
          "Athletics",
          "Cross Country Skiing",
          "Ice Hockey",
          "Shooting",
          "Athletics",
          "Cross Country Skiing",
          "Ice Hockey",
          "Shooting",
          "Athletics",
          "Cross Country Skiing",
          "Ice Hockey",
          "Shooting",
          "Athletics",
          "Cross Country Skiing",
          "Ice Hockey",
          "Shooting",
          "Athletics",
          "Cross Country Skiing",
          "Ice Hockey",
          "Shooting",
          "Athletics",
          "Cross Country Skiing",
          "Ice Hockey",
          "Shooting",
          "Athletics",
          "Cross Country Skiing",
          "Ice Hockey",
          "Shooting",
          "Athletics",
          "Cross Country Skiing",
          "Ice Hockey",
          "Shooting",
          "Athletics",
          "Ice Hockey",
          "Shooting",
          "Athletics",
          "Cross Country Skiing",
          "Ice Hockey",
          "Shooting",
          "Athletics",
          "Cross Country Skiing",
          "Ice Hockey",
          "Shooting",
          "Athletics",
          "Cross Country Skiing",
          "Shooting",
          "Athletics",
          "Ice Hockey",
          "Shooting",
          "Athletics",
          "Cross Country Skiing",
          "Shooting",
          "Athletics",
          "Ice Hockey",
          "Shooting",
          "Athletics",
          "Cross Country Skiing",
          "Shooting",
          "Athletics",
          "Shooting",
          "Shooting",
          "Athletics",
          "Shooting",
          "Shooting",
          "Shooting",
          "Shooting",
          "Shooting",
          "Shooting",
          "Shooting",
          "Shooting",
          "Shooting",
          "Shooting",
          "Shooting",
          "Shooting",
          "Shooting",
          "Shooting",
          "Shooting",
          "Shooting",
          "Shooting",
          "Shooting",
          "",
          "",
          "",
          ""
         ],
         "type": "sunburst",
         "values": [
          2,
          2,
          6,
          49,
          2,
          4,
          2,
          137,
          21,
          16,
          21,
          346,
          50,
          27,
          46,
          743,
          120,
          91,
          64,
          1354,
          226,
          145,
          120,
          2177,
          328,
          252,
          169,
          2866,
          507,
          355,
          251,
          3317,
          707,
          456,
          258,
          3744,
          841,
          494,
          325,
          3597,
          857,
          477,
          367,
          3431,
          794,
          498,
          411,
          3045,
          781,
          455,
          437,
          2747,
          730,
          443,
          433,
          2288,
          716,
          339,
          493,
          1795,
          549,
          320,
          429,
          1545,
          508,
          288,
          421,
          1067,
          376,
          218,
          463,
          915,
          298,
          172,
          536,
          620,
          244,
          131,
          475,
          504,
          149,
          80,
          467,
          362,
          80,
          97,
          473,
          258,
          76,
          41,
          416,
          182,
          57,
          37,
          372,
          137,
          30,
          18,
          343,
          84,
          15,
          9,
          383,
          72,
          14,
          9,
          312,
          35,
          9,
          8,
          304,
          29,
          2,
          241,
          14,
          7,
          1,
          266,
          14,
          1,
          1,
          202,
          5,
          2,
          171,
          8,
          2,
          144,
          2,
          2,
          126,
          5,
          1,
          128,
          1,
          1,
          94,
          1,
          84,
          66,
          1,
          77,
          35,
          46,
          20,
          37,
          23,
          6,
          13,
          22,
          6,
          6,
          4,
          6,
          5,
          3,
          1,
          1,
          3,
          37507,
          9098,
          5487,
          10627
         ]
        }
       ],
       "layout": {
        "legend": {
         "tracegroupgap": 0
        },
        "margin": {
         "t": 60
        },
        "template": {
         "data": {
          "bar": [
           {
            "error_x": {
             "color": "#2a3f5f"
            },
            "error_y": {
             "color": "#2a3f5f"
            },
            "marker": {
             "line": {
              "color": "#E5ECF6",
              "width": 0.5
             },
             "pattern": {
              "fillmode": "overlay",
              "size": 10,
              "solidity": 0.2
             }
            },
            "type": "bar"
           }
          ],
          "barpolar": [
           {
            "marker": {
             "line": {
              "color": "#E5ECF6",
              "width": 0.5
             },
             "pattern": {
              "fillmode": "overlay",
              "size": 10,
              "solidity": 0.2
             }
            },
            "type": "barpolar"
           }
          ],
          "carpet": [
           {
            "aaxis": {
             "endlinecolor": "#2a3f5f",
             "gridcolor": "white",
             "linecolor": "white",
             "minorgridcolor": "white",
             "startlinecolor": "#2a3f5f"
            },
            "baxis": {
             "endlinecolor": "#2a3f5f",
             "gridcolor": "white",
             "linecolor": "white",
             "minorgridcolor": "white",
             "startlinecolor": "#2a3f5f"
            },
            "type": "carpet"
           }
          ],
          "choropleth": [
           {
            "colorbar": {
             "outlinewidth": 0,
             "ticks": ""
            },
            "type": "choropleth"
           }
          ],
          "contour": [
           {
            "colorbar": {
             "outlinewidth": 0,
             "ticks": ""
            },
            "colorscale": [
             [
              0,
              "#0d0887"
             ],
             [
              0.1111111111111111,
              "#46039f"
             ],
             [
              0.2222222222222222,
              "#7201a8"
             ],
             [
              0.3333333333333333,
              "#9c179e"
             ],
             [
              0.4444444444444444,
              "#bd3786"
             ],
             [
              0.5555555555555556,
              "#d8576b"
             ],
             [
              0.6666666666666666,
              "#ed7953"
             ],
             [
              0.7777777777777778,
              "#fb9f3a"
             ],
             [
              0.8888888888888888,
              "#fdca26"
             ],
             [
              1,
              "#f0f921"
             ]
            ],
            "type": "contour"
           }
          ],
          "contourcarpet": [
           {
            "colorbar": {
             "outlinewidth": 0,
             "ticks": ""
            },
            "type": "contourcarpet"
           }
          ],
          "heatmap": [
           {
            "colorbar": {
             "outlinewidth": 0,
             "ticks": ""
            },
            "colorscale": [
             [
              0,
              "#0d0887"
             ],
             [
              0.1111111111111111,
              "#46039f"
             ],
             [
              0.2222222222222222,
              "#7201a8"
             ],
             [
              0.3333333333333333,
              "#9c179e"
             ],
             [
              0.4444444444444444,
              "#bd3786"
             ],
             [
              0.5555555555555556,
              "#d8576b"
             ],
             [
              0.6666666666666666,
              "#ed7953"
             ],
             [
              0.7777777777777778,
              "#fb9f3a"
             ],
             [
              0.8888888888888888,
              "#fdca26"
             ],
             [
              1,
              "#f0f921"
             ]
            ],
            "type": "heatmap"
           }
          ],
          "heatmapgl": [
           {
            "colorbar": {
             "outlinewidth": 0,
             "ticks": ""
            },
            "colorscale": [
             [
              0,
              "#0d0887"
             ],
             [
              0.1111111111111111,
              "#46039f"
             ],
             [
              0.2222222222222222,
              "#7201a8"
             ],
             [
              0.3333333333333333,
              "#9c179e"
             ],
             [
              0.4444444444444444,
              "#bd3786"
             ],
             [
              0.5555555555555556,
              "#d8576b"
             ],
             [
              0.6666666666666666,
              "#ed7953"
             ],
             [
              0.7777777777777778,
              "#fb9f3a"
             ],
             [
              0.8888888888888888,
              "#fdca26"
             ],
             [
              1,
              "#f0f921"
             ]
            ],
            "type": "heatmapgl"
           }
          ],
          "histogram": [
           {
            "marker": {
             "pattern": {
              "fillmode": "overlay",
              "size": 10,
              "solidity": 0.2
             }
            },
            "type": "histogram"
           }
          ],
          "histogram2d": [
           {
            "colorbar": {
             "outlinewidth": 0,
             "ticks": ""
            },
            "colorscale": [
             [
              0,
              "#0d0887"
             ],
             [
              0.1111111111111111,
              "#46039f"
             ],
             [
              0.2222222222222222,
              "#7201a8"
             ],
             [
              0.3333333333333333,
              "#9c179e"
             ],
             [
              0.4444444444444444,
              "#bd3786"
             ],
             [
              0.5555555555555556,
              "#d8576b"
             ],
             [
              0.6666666666666666,
              "#ed7953"
             ],
             [
              0.7777777777777778,
              "#fb9f3a"
             ],
             [
              0.8888888888888888,
              "#fdca26"
             ],
             [
              1,
              "#f0f921"
             ]
            ],
            "type": "histogram2d"
           }
          ],
          "histogram2dcontour": [
           {
            "colorbar": {
             "outlinewidth": 0,
             "ticks": ""
            },
            "colorscale": [
             [
              0,
              "#0d0887"
             ],
             [
              0.1111111111111111,
              "#46039f"
             ],
             [
              0.2222222222222222,
              "#7201a8"
             ],
             [
              0.3333333333333333,
              "#9c179e"
             ],
             [
              0.4444444444444444,
              "#bd3786"
             ],
             [
              0.5555555555555556,
              "#d8576b"
             ],
             [
              0.6666666666666666,
              "#ed7953"
             ],
             [
              0.7777777777777778,
              "#fb9f3a"
             ],
             [
              0.8888888888888888,
              "#fdca26"
             ],
             [
              1,
              "#f0f921"
             ]
            ],
            "type": "histogram2dcontour"
           }
          ],
          "mesh3d": [
           {
            "colorbar": {
             "outlinewidth": 0,
             "ticks": ""
            },
            "type": "mesh3d"
           }
          ],
          "parcoords": [
           {
            "line": {
             "colorbar": {
              "outlinewidth": 0,
              "ticks": ""
             }
            },
            "type": "parcoords"
           }
          ],
          "pie": [
           {
            "automargin": true,
            "type": "pie"
           }
          ],
          "scatter": [
           {
            "fillpattern": {
             "fillmode": "overlay",
             "size": 10,
             "solidity": 0.2
            },
            "type": "scatter"
           }
          ],
          "scatter3d": [
           {
            "line": {
             "colorbar": {
              "outlinewidth": 0,
              "ticks": ""
             }
            },
            "marker": {
             "colorbar": {
              "outlinewidth": 0,
              "ticks": ""
             }
            },
            "type": "scatter3d"
           }
          ],
          "scattercarpet": [
           {
            "marker": {
             "colorbar": {
              "outlinewidth": 0,
              "ticks": ""
             }
            },
            "type": "scattercarpet"
           }
          ],
          "scattergeo": [
           {
            "marker": {
             "colorbar": {
              "outlinewidth": 0,
              "ticks": ""
             }
            },
            "type": "scattergeo"
           }
          ],
          "scattergl": [
           {
            "marker": {
             "colorbar": {
              "outlinewidth": 0,
              "ticks": ""
             }
            },
            "type": "scattergl"
           }
          ],
          "scattermapbox": [
           {
            "marker": {
             "colorbar": {
              "outlinewidth": 0,
              "ticks": ""
             }
            },
            "type": "scattermapbox"
           }
          ],
          "scatterpolar": [
           {
            "marker": {
             "colorbar": {
              "outlinewidth": 0,
              "ticks": ""
             }
            },
            "type": "scatterpolar"
           }
          ],
          "scatterpolargl": [
           {
            "marker": {
             "colorbar": {
              "outlinewidth": 0,
              "ticks": ""
             }
            },
            "type": "scatterpolargl"
           }
          ],
          "scatterternary": [
           {
            "marker": {
             "colorbar": {
              "outlinewidth": 0,
              "ticks": ""
             }
            },
            "type": "scatterternary"
           }
          ],
          "surface": [
           {
            "colorbar": {
             "outlinewidth": 0,
             "ticks": ""
            },
            "colorscale": [
             [
              0,
              "#0d0887"
             ],
             [
              0.1111111111111111,
              "#46039f"
             ],
             [
              0.2222222222222222,
              "#7201a8"
             ],
             [
              0.3333333333333333,
              "#9c179e"
             ],
             [
              0.4444444444444444,
              "#bd3786"
             ],
             [
              0.5555555555555556,
              "#d8576b"
             ],
             [
              0.6666666666666666,
              "#ed7953"
             ],
             [
              0.7777777777777778,
              "#fb9f3a"
             ],
             [
              0.8888888888888888,
              "#fdca26"
             ],
             [
              1,
              "#f0f921"
             ]
            ],
            "type": "surface"
           }
          ],
          "table": [
           {
            "cells": {
             "fill": {
              "color": "#EBF0F8"
             },
             "line": {
              "color": "white"
             }
            },
            "header": {
             "fill": {
              "color": "#C8D4E3"
             },
             "line": {
              "color": "white"
             }
            },
            "type": "table"
           }
          ]
         },
         "layout": {
          "annotationdefaults": {
           "arrowcolor": "#2a3f5f",
           "arrowhead": 0,
           "arrowwidth": 1
          },
          "autotypenumbers": "strict",
          "coloraxis": {
           "colorbar": {
            "outlinewidth": 0,
            "ticks": ""
           }
          },
          "colorscale": {
           "diverging": [
            [
             0,
             "#8e0152"
            ],
            [
             0.1,
             "#c51b7d"
            ],
            [
             0.2,
             "#de77ae"
            ],
            [
             0.3,
             "#f1b6da"
            ],
            [
             0.4,
             "#fde0ef"
            ],
            [
             0.5,
             "#f7f7f7"
            ],
            [
             0.6,
             "#e6f5d0"
            ],
            [
             0.7,
             "#b8e186"
            ],
            [
             0.8,
             "#7fbc41"
            ],
            [
             0.9,
             "#4d9221"
            ],
            [
             1,
             "#276419"
            ]
           ],
           "sequential": [
            [
             0,
             "#0d0887"
            ],
            [
             0.1111111111111111,
             "#46039f"
            ],
            [
             0.2222222222222222,
             "#7201a8"
            ],
            [
             0.3333333333333333,
             "#9c179e"
            ],
            [
             0.4444444444444444,
             "#bd3786"
            ],
            [
             0.5555555555555556,
             "#d8576b"
            ],
            [
             0.6666666666666666,
             "#ed7953"
            ],
            [
             0.7777777777777778,
             "#fb9f3a"
            ],
            [
             0.8888888888888888,
             "#fdca26"
            ],
            [
             1,
             "#f0f921"
            ]
           ],
           "sequentialminus": [
            [
             0,
             "#0d0887"
            ],
            [
             0.1111111111111111,
             "#46039f"
            ],
            [
             0.2222222222222222,
             "#7201a8"
            ],
            [
             0.3333333333333333,
             "#9c179e"
            ],
            [
             0.4444444444444444,
             "#bd3786"
            ],
            [
             0.5555555555555556,
             "#d8576b"
            ],
            [
             0.6666666666666666,
             "#ed7953"
            ],
            [
             0.7777777777777778,
             "#fb9f3a"
            ],
            [
             0.8888888888888888,
             "#fdca26"
            ],
            [
             1,
             "#f0f921"
            ]
           ]
          },
          "colorway": [
           "#636efa",
           "#EF553B",
           "#00cc96",
           "#ab63fa",
           "#FFA15A",
           "#19d3f3",
           "#FF6692",
           "#B6E880",
           "#FF97FF",
           "#FECB52"
          ],
          "font": {
           "color": "#2a3f5f"
          },
          "geo": {
           "bgcolor": "white",
           "lakecolor": "white",
           "landcolor": "#E5ECF6",
           "showlakes": true,
           "showland": true,
           "subunitcolor": "white"
          },
          "hoverlabel": {
           "align": "left"
          },
          "hovermode": "closest",
          "mapbox": {
           "style": "light"
          },
          "paper_bgcolor": "white",
          "plot_bgcolor": "#E5ECF6",
          "polar": {
           "angularaxis": {
            "gridcolor": "white",
            "linecolor": "white",
            "ticks": ""
           },
           "bgcolor": "#E5ECF6",
           "radialaxis": {
            "gridcolor": "white",
            "linecolor": "white",
            "ticks": ""
           }
          },
          "scene": {
           "xaxis": {
            "backgroundcolor": "#E5ECF6",
            "gridcolor": "white",
            "gridwidth": 2,
            "linecolor": "white",
            "showbackground": true,
            "ticks": "",
            "zerolinecolor": "white"
           },
           "yaxis": {
            "backgroundcolor": "#E5ECF6",
            "gridcolor": "white",
            "gridwidth": 2,
            "linecolor": "white",
            "showbackground": true,
            "ticks": "",
            "zerolinecolor": "white"
           },
           "zaxis": {
            "backgroundcolor": "#E5ECF6",
            "gridcolor": "white",
            "gridwidth": 2,
            "linecolor": "white",
            "showbackground": true,
            "ticks": "",
            "zerolinecolor": "white"
           }
          },
          "shapedefaults": {
           "line": {
            "color": "#2a3f5f"
           }
          },
          "ternary": {
           "aaxis": {
            "gridcolor": "white",
            "linecolor": "white",
            "ticks": ""
           },
           "baxis": {
            "gridcolor": "white",
            "linecolor": "white",
            "ticks": ""
           },
           "bgcolor": "#E5ECF6",
           "caxis": {
            "gridcolor": "white",
            "linecolor": "white",
            "ticks": ""
           }
          },
          "title": {
           "x": 0.05
          },
          "xaxis": {
           "automargin": true,
           "gridcolor": "white",
           "linecolor": "white",
           "ticks": "",
           "title": {
            "standoff": 15
           },
           "zerolinecolor": "white",
           "zerolinewidth": 2
          },
          "yaxis": {
           "automargin": true,
           "gridcolor": "white",
           "linecolor": "white",
           "ticks": "",
           "title": {
            "standoff": 15
           },
           "zerolinecolor": "white",
           "zerolinewidth": 2
          }
         }
        }
       }
      }
     },
     "metadata": {},
     "output_type": "display_data"
    }
   ],
   "source": [
    "px.sunburst(age_distribution, values='Number of Athletes', path=['Sport', 'Age'])"
   ]
  },
  {
   "cell_type": "markdown",
   "metadata": {},
   "source": [
    "#### Skapa fler plots för att visualisera olika aspekter kring sporterna."
   ]
  },
  {
   "cell_type": "markdown",
   "metadata": {},
   "source": [
    "#### FOR DASHBOARD"
   ]
  },
  {
   "cell_type": "markdown",
   "metadata": {},
   "source": [
    "#### Dataframe for countries, contintents and coordinates"
   ]
  },
  {
   "cell_type": "markdown",
   "metadata": {},
   "source": [
    "#### Countries"
   ]
  },
  {
   "cell_type": "code",
   "execution_count": 22,
   "metadata": {},
   "outputs": [],
   "source": [
    "# Reading the noc_regions.csv file\n",
    "noc_regions = pd.read_csv(\"data/noc_regions.csv\")\n",
    "\n",
    "# Renaming the column \"region\" to \"Country\" in the noc_regions DataFrame\n",
    "noc_regions.rename(columns={\"region\": \"Country\"}, inplace=True)"
   ]
  },
  {
   "cell_type": "markdown",
   "metadata": {},
   "source": [
    "#### Coordinates"
   ]
  },
  {
   "cell_type": "code",
   "execution_count": 23,
   "metadata": {},
   "outputs": [],
   "source": [
    "# Read countries and their coordinates from the csv file\n",
    "country_coordinates = pd.read_csv(\"data/country_coordinates.csv\")\n",
    "\n",
    "# Rename the columns\n",
    "country_coordinates.rename(columns={\"country\": \"Country\", \"latitude\":\"Country_latitude\", \"longitude\":\"Country_longitude\"}, inplace=True)\n",
    "\n",
    "# Drop all columns except latitude, longitude and Country\n",
    "country_coordinates.drop(['country_code', 'usa_state_code', 'usa_state_latitude', 'usa_state_longitude', 'usa_state'], axis=1, inplace=True)"
   ]
  },
  {
   "cell_type": "code",
   "execution_count": 24,
   "metadata": {},
   "outputs": [
    {
     "data": {
      "text/html": [
       "<div>\n",
       "<style scoped>\n",
       "    .dataframe tbody tr th:only-of-type {\n",
       "        vertical-align: middle;\n",
       "    }\n",
       "\n",
       "    .dataframe tbody tr th {\n",
       "        vertical-align: top;\n",
       "    }\n",
       "\n",
       "    .dataframe thead th {\n",
       "        text-align: right;\n",
       "    }\n",
       "</style>\n",
       "<table border=\"1\" class=\"dataframe\">\n",
       "  <thead>\n",
       "    <tr style=\"text-align: right;\">\n",
       "      <th></th>\n",
       "      <th>NOC</th>\n",
       "      <th>Country</th>\n",
       "      <th>notes</th>\n",
       "    </tr>\n",
       "  </thead>\n",
       "  <tbody>\n",
       "    <tr>\n",
       "      <th>1</th>\n",
       "      <td>AHO</td>\n",
       "      <td>Curacao</td>\n",
       "      <td>Netherlands Antilles</td>\n",
       "    </tr>\n",
       "    <tr>\n",
       "      <th>6</th>\n",
       "      <td>ANT</td>\n",
       "      <td>Antigua</td>\n",
       "      <td>Antigua and Barbuda</td>\n",
       "    </tr>\n",
       "    <tr>\n",
       "      <th>27</th>\n",
       "      <td>BOL</td>\n",
       "      <td>Boliva</td>\n",
       "      <td>NaN</td>\n",
       "    </tr>\n",
       "    <tr>\n",
       "      <th>38</th>\n",
       "      <td>CGO</td>\n",
       "      <td>Republic of Congo</td>\n",
       "      <td>NaN</td>\n",
       "    </tr>\n",
       "    <tr>\n",
       "      <th>42</th>\n",
       "      <td>CIV</td>\n",
       "      <td>Ivory Coast</td>\n",
       "      <td>NaN</td>\n",
       "    </tr>\n",
       "    <tr>\n",
       "      <th>44</th>\n",
       "      <td>COD</td>\n",
       "      <td>Democratic Republic of the Congo</td>\n",
       "      <td>NaN</td>\n",
       "    </tr>\n",
       "    <tr>\n",
       "      <th>74</th>\n",
       "      <td>GBR</td>\n",
       "      <td>UK</td>\n",
       "      <td>NaN</td>\n",
       "    </tr>\n",
       "    <tr>\n",
       "      <th>93</th>\n",
       "      <td>IOA</td>\n",
       "      <td>Individual Olympic Athletes</td>\n",
       "      <td>Individual Olympic Athletes</td>\n",
       "    </tr>\n",
       "    <tr>\n",
       "      <th>99</th>\n",
       "      <td>ISV</td>\n",
       "      <td>Virgin Islands, US</td>\n",
       "      <td>Virgin Islands</td>\n",
       "    </tr>\n",
       "    <tr>\n",
       "      <th>101</th>\n",
       "      <td>IVB</td>\n",
       "      <td>Virgin Islands, British</td>\n",
       "      <td>NaN</td>\n",
       "    </tr>\n",
       "    <tr>\n",
       "      <th>133</th>\n",
       "      <td>MKD</td>\n",
       "      <td>Macedonia</td>\n",
       "      <td>NaN</td>\n",
       "    </tr>\n",
       "    <tr>\n",
       "      <th>141</th>\n",
       "      <td>MYA</td>\n",
       "      <td>Myanmar</td>\n",
       "      <td>NaN</td>\n",
       "    </tr>\n",
       "    <tr>\n",
       "      <th>159</th>\n",
       "      <td>PLE</td>\n",
       "      <td>Palestine</td>\n",
       "      <td>NaN</td>\n",
       "    </tr>\n",
       "    <tr>\n",
       "      <th>168</th>\n",
       "      <td>ROT</td>\n",
       "      <td>NaN</td>\n",
       "      <td>Refugee Olympic Team</td>\n",
       "    </tr>\n",
       "    <tr>\n",
       "      <th>179</th>\n",
       "      <td>SKN</td>\n",
       "      <td>Saint Kitts</td>\n",
       "      <td>Turks and Caicos Islands</td>\n",
       "    </tr>\n",
       "    <tr>\n",
       "      <th>187</th>\n",
       "      <td>SSD</td>\n",
       "      <td>South Sudan</td>\n",
       "      <td>NaN</td>\n",
       "    </tr>\n",
       "    <tr>\n",
       "      <th>188</th>\n",
       "      <td>STP</td>\n",
       "      <td>Sao Tome and Principe</td>\n",
       "      <td>NaN</td>\n",
       "    </tr>\n",
       "    <tr>\n",
       "      <th>205</th>\n",
       "      <td>TTO</td>\n",
       "      <td>Trinidad</td>\n",
       "      <td>Trinidad and Tobago</td>\n",
       "    </tr>\n",
       "    <tr>\n",
       "      <th>208</th>\n",
       "      <td>TUV</td>\n",
       "      <td>NaN</td>\n",
       "      <td>Tuvalu</td>\n",
       "    </tr>\n",
       "    <tr>\n",
       "      <th>213</th>\n",
       "      <td>UNK</td>\n",
       "      <td>NaN</td>\n",
       "      <td>Unknown</td>\n",
       "    </tr>\n",
       "    <tr>\n",
       "      <th>216</th>\n",
       "      <td>USA</td>\n",
       "      <td>USA</td>\n",
       "      <td>NaN</td>\n",
       "    </tr>\n",
       "    <tr>\n",
       "      <th>221</th>\n",
       "      <td>VIN</td>\n",
       "      <td>Saint Vincent</td>\n",
       "      <td>NaN</td>\n",
       "    </tr>\n",
       "    <tr>\n",
       "      <th>223</th>\n",
       "      <td>WIF</td>\n",
       "      <td>Trinidad</td>\n",
       "      <td>West Indies Federation</td>\n",
       "    </tr>\n",
       "  </tbody>\n",
       "</table>\n",
       "</div>"
      ],
      "text/plain": [
       "     NOC                           Country                        notes\n",
       "1    AHO                           Curacao         Netherlands Antilles\n",
       "6    ANT                           Antigua          Antigua and Barbuda\n",
       "27   BOL                            Boliva                          NaN\n",
       "38   CGO                 Republic of Congo                          NaN\n",
       "42   CIV                       Ivory Coast                          NaN\n",
       "44   COD  Democratic Republic of the Congo                          NaN\n",
       "74   GBR                                UK                          NaN\n",
       "93   IOA       Individual Olympic Athletes  Individual Olympic Athletes\n",
       "99   ISV                Virgin Islands, US               Virgin Islands\n",
       "101  IVB           Virgin Islands, British                          NaN\n",
       "133  MKD                         Macedonia                          NaN\n",
       "141  MYA                           Myanmar                          NaN\n",
       "159  PLE                         Palestine                          NaN\n",
       "168  ROT                               NaN         Refugee Olympic Team\n",
       "179  SKN                       Saint Kitts     Turks and Caicos Islands\n",
       "187  SSD                       South Sudan                          NaN\n",
       "188  STP             Sao Tome and Principe                          NaN\n",
       "205  TTO                          Trinidad          Trinidad and Tobago\n",
       "208  TUV                               NaN                       Tuvalu\n",
       "213  UNK                               NaN                      Unknown\n",
       "216  USA                               USA                          NaN\n",
       "221  VIN                     Saint Vincent                          NaN\n",
       "223  WIF                          Trinidad       West Indies Federation"
      ]
     },
     "execution_count": 24,
     "metadata": {},
     "output_type": "execute_result"
    }
   ],
   "source": [
    "noc_regions[~noc_regions['Country'].isin(country_coordinates['Country'])]"
   ]
  },
  {
   "cell_type": "code",
   "execution_count": 25,
   "metadata": {},
   "outputs": [
    {
     "data": {
      "text/html": [
       "<div>\n",
       "<style scoped>\n",
       "    .dataframe tbody tr th:only-of-type {\n",
       "        vertical-align: middle;\n",
       "    }\n",
       "\n",
       "    .dataframe tbody tr th {\n",
       "        vertical-align: top;\n",
       "    }\n",
       "\n",
       "    .dataframe thead th {\n",
       "        text-align: right;\n",
       "    }\n",
       "</style>\n",
       "<table border=\"1\" class=\"dataframe\">\n",
       "  <thead>\n",
       "    <tr style=\"text-align: right;\">\n",
       "      <th></th>\n",
       "      <th>Country_latitude</th>\n",
       "      <th>Country_longitude</th>\n",
       "      <th>Country</th>\n",
       "    </tr>\n",
       "  </thead>\n",
       "  <tbody>\n",
       "    <tr>\n",
       "      <th>3</th>\n",
       "      <td>17.060816</td>\n",
       "      <td>-61.796428</td>\n",
       "      <td>Antigua and Barbuda</td>\n",
       "    </tr>\n",
       "    <tr>\n",
       "      <th>4</th>\n",
       "      <td>18.220554</td>\n",
       "      <td>-63.068615</td>\n",
       "      <td>Anguilla</td>\n",
       "    </tr>\n",
       "    <tr>\n",
       "      <th>7</th>\n",
       "      <td>12.226079</td>\n",
       "      <td>-69.060087</td>\n",
       "      <td>Netherlands Antilles</td>\n",
       "    </tr>\n",
       "    <tr>\n",
       "      <th>9</th>\n",
       "      <td>-75.250973</td>\n",
       "      <td>-0.071389</td>\n",
       "      <td>Antarctica</td>\n",
       "    </tr>\n",
       "    <tr>\n",
       "      <th>27</th>\n",
       "      <td>-16.290154</td>\n",
       "      <td>-63.588653</td>\n",
       "      <td>Bolivia</td>\n",
       "    </tr>\n",
       "    <tr>\n",
       "      <th>31</th>\n",
       "      <td>-54.423199</td>\n",
       "      <td>3.413194</td>\n",
       "      <td>Bouvet Island</td>\n",
       "    </tr>\n",
       "    <tr>\n",
       "      <th>36</th>\n",
       "      <td>-12.164165</td>\n",
       "      <td>96.870956</td>\n",
       "      <td>Cocos [Keeling] Islands</td>\n",
       "    </tr>\n",
       "    <tr>\n",
       "      <th>37</th>\n",
       "      <td>-4.038333</td>\n",
       "      <td>21.758664</td>\n",
       "      <td>Congo [DRC]</td>\n",
       "    </tr>\n",
       "    <tr>\n",
       "      <th>39</th>\n",
       "      <td>-0.228021</td>\n",
       "      <td>15.827659</td>\n",
       "      <td>Congo [Republic]</td>\n",
       "    </tr>\n",
       "    <tr>\n",
       "      <th>41</th>\n",
       "      <td>7.539989</td>\n",
       "      <td>-5.547080</td>\n",
       "      <td>Côte d'Ivoire</td>\n",
       "    </tr>\n",
       "    <tr>\n",
       "      <th>50</th>\n",
       "      <td>-10.447525</td>\n",
       "      <td>105.690449</td>\n",
       "      <td>Christmas Island</td>\n",
       "    </tr>\n",
       "    <tr>\n",
       "      <th>62</th>\n",
       "      <td>24.215527</td>\n",
       "      <td>-12.885834</td>\n",
       "      <td>Western Sahara</td>\n",
       "    </tr>\n",
       "    <tr>\n",
       "      <th>68</th>\n",
       "      <td>-51.796253</td>\n",
       "      <td>-59.523613</td>\n",
       "      <td>Falkland Islands [Islas Malvinas]</td>\n",
       "    </tr>\n",
       "    <tr>\n",
       "      <th>70</th>\n",
       "      <td>61.892635</td>\n",
       "      <td>-6.911806</td>\n",
       "      <td>Faroe Islands</td>\n",
       "    </tr>\n",
       "    <tr>\n",
       "      <th>73</th>\n",
       "      <td>55.378051</td>\n",
       "      <td>-3.435973</td>\n",
       "      <td>United Kingdom</td>\n",
       "    </tr>\n",
       "    <tr>\n",
       "      <th>76</th>\n",
       "      <td>3.933889</td>\n",
       "      <td>-53.125782</td>\n",
       "      <td>French Guiana</td>\n",
       "    </tr>\n",
       "    <tr>\n",
       "      <th>77</th>\n",
       "      <td>49.465691</td>\n",
       "      <td>-2.585278</td>\n",
       "      <td>Guernsey</td>\n",
       "    </tr>\n",
       "    <tr>\n",
       "      <th>79</th>\n",
       "      <td>36.137741</td>\n",
       "      <td>-5.345374</td>\n",
       "      <td>Gibraltar</td>\n",
       "    </tr>\n",
       "    <tr>\n",
       "      <th>80</th>\n",
       "      <td>71.706936</td>\n",
       "      <td>-42.604303</td>\n",
       "      <td>Greenland</td>\n",
       "    </tr>\n",
       "    <tr>\n",
       "      <th>83</th>\n",
       "      <td>16.995971</td>\n",
       "      <td>-62.067641</td>\n",
       "      <td>Guadeloupe</td>\n",
       "    </tr>\n",
       "    <tr>\n",
       "      <th>86</th>\n",
       "      <td>-54.429579</td>\n",
       "      <td>-36.587909</td>\n",
       "      <td>South Georgia and the South Sandwich Islands</td>\n",
       "    </tr>\n",
       "    <tr>\n",
       "      <th>91</th>\n",
       "      <td>31.354676</td>\n",
       "      <td>34.308825</td>\n",
       "      <td>Gaza Strip</td>\n",
       "    </tr>\n",
       "    <tr>\n",
       "      <th>92</th>\n",
       "      <td>22.396428</td>\n",
       "      <td>114.109497</td>\n",
       "      <td>Hong Kong</td>\n",
       "    </tr>\n",
       "    <tr>\n",
       "      <th>93</th>\n",
       "      <td>-53.081810</td>\n",
       "      <td>73.504158</td>\n",
       "      <td>Heard Island and McDonald Islands</td>\n",
       "    </tr>\n",
       "    <tr>\n",
       "      <th>101</th>\n",
       "      <td>54.236107</td>\n",
       "      <td>-4.548056</td>\n",
       "      <td>Isle of Man</td>\n",
       "    </tr>\n",
       "    <tr>\n",
       "      <th>103</th>\n",
       "      <td>-6.343194</td>\n",
       "      <td>71.876519</td>\n",
       "      <td>British Indian Ocean Territory</td>\n",
       "    </tr>\n",
       "    <tr>\n",
       "      <th>108</th>\n",
       "      <td>49.214439</td>\n",
       "      <td>-2.131250</td>\n",
       "      <td>Jersey</td>\n",
       "    </tr>\n",
       "    <tr>\n",
       "      <th>117</th>\n",
       "      <td>17.357822</td>\n",
       "      <td>-62.782998</td>\n",
       "      <td>Saint Kitts and Nevis</td>\n",
       "    </tr>\n",
       "    <tr>\n",
       "      <th>140</th>\n",
       "      <td>41.608635</td>\n",
       "      <td>21.745275</td>\n",
       "      <td>Macedonia [FYROM]</td>\n",
       "    </tr>\n",
       "    <tr>\n",
       "      <th>142</th>\n",
       "      <td>21.913965</td>\n",
       "      <td>95.956223</td>\n",
       "      <td>Myanmar [Burma]</td>\n",
       "    </tr>\n",
       "    <tr>\n",
       "      <th>144</th>\n",
       "      <td>22.198745</td>\n",
       "      <td>113.543873</td>\n",
       "      <td>Macau</td>\n",
       "    </tr>\n",
       "    <tr>\n",
       "      <th>145</th>\n",
       "      <td>17.330830</td>\n",
       "      <td>145.384690</td>\n",
       "      <td>Northern Mariana Islands</td>\n",
       "    </tr>\n",
       "    <tr>\n",
       "      <th>146</th>\n",
       "      <td>14.641528</td>\n",
       "      <td>-61.024174</td>\n",
       "      <td>Martinique</td>\n",
       "    </tr>\n",
       "    <tr>\n",
       "      <th>148</th>\n",
       "      <td>16.742498</td>\n",
       "      <td>-62.187366</td>\n",
       "      <td>Montserrat</td>\n",
       "    </tr>\n",
       "    <tr>\n",
       "      <th>157</th>\n",
       "      <td>-20.904305</td>\n",
       "      <td>165.618042</td>\n",
       "      <td>New Caledonia</td>\n",
       "    </tr>\n",
       "    <tr>\n",
       "      <th>159</th>\n",
       "      <td>-29.040835</td>\n",
       "      <td>167.954712</td>\n",
       "      <td>Norfolk Island</td>\n",
       "    </tr>\n",
       "    <tr>\n",
       "      <th>166</th>\n",
       "      <td>-19.054445</td>\n",
       "      <td>-169.867233</td>\n",
       "      <td>Niue</td>\n",
       "    </tr>\n",
       "    <tr>\n",
       "      <th>171</th>\n",
       "      <td>-17.679742</td>\n",
       "      <td>-149.406843</td>\n",
       "      <td>French Polynesia</td>\n",
       "    </tr>\n",
       "    <tr>\n",
       "      <th>176</th>\n",
       "      <td>46.941936</td>\n",
       "      <td>-56.271110</td>\n",
       "      <td>Saint Pierre and Miquelon</td>\n",
       "    </tr>\n",
       "    <tr>\n",
       "      <th>177</th>\n",
       "      <td>-24.703615</td>\n",
       "      <td>-127.439308</td>\n",
       "      <td>Pitcairn Islands</td>\n",
       "    </tr>\n",
       "    <tr>\n",
       "      <th>179</th>\n",
       "      <td>31.952162</td>\n",
       "      <td>35.233154</td>\n",
       "      <td>Palestinian Territories</td>\n",
       "    </tr>\n",
       "    <tr>\n",
       "      <th>184</th>\n",
       "      <td>-21.115141</td>\n",
       "      <td>55.536384</td>\n",
       "      <td>Réunion</td>\n",
       "    </tr>\n",
       "    <tr>\n",
       "      <th>195</th>\n",
       "      <td>-24.143474</td>\n",
       "      <td>-10.030696</td>\n",
       "      <td>Saint Helena</td>\n",
       "    </tr>\n",
       "    <tr>\n",
       "      <th>197</th>\n",
       "      <td>77.553604</td>\n",
       "      <td>23.670272</td>\n",
       "      <td>Svalbard and Jan Mayen</td>\n",
       "    </tr>\n",
       "    <tr>\n",
       "      <th>204</th>\n",
       "      <td>0.186360</td>\n",
       "      <td>6.613081</td>\n",
       "      <td>São Tomé and Príncipe</td>\n",
       "    </tr>\n",
       "    <tr>\n",
       "      <th>208</th>\n",
       "      <td>21.694025</td>\n",
       "      <td>-71.797928</td>\n",
       "      <td>Turks and Caicos Islands</td>\n",
       "    </tr>\n",
       "    <tr>\n",
       "      <th>210</th>\n",
       "      <td>-49.280366</td>\n",
       "      <td>69.348557</td>\n",
       "      <td>French Southern Territories</td>\n",
       "    </tr>\n",
       "    <tr>\n",
       "      <th>214</th>\n",
       "      <td>-8.967363</td>\n",
       "      <td>-171.855881</td>\n",
       "      <td>Tokelau</td>\n",
       "    </tr>\n",
       "    <tr>\n",
       "      <th>220</th>\n",
       "      <td>10.691803</td>\n",
       "      <td>-61.222503</td>\n",
       "      <td>Trinidad and Tobago</td>\n",
       "    </tr>\n",
       "    <tr>\n",
       "      <th>221</th>\n",
       "      <td>-7.109535</td>\n",
       "      <td>177.649330</td>\n",
       "      <td>Tuvalu</td>\n",
       "    </tr>\n",
       "    <tr>\n",
       "      <th>226</th>\n",
       "      <td>NaN</td>\n",
       "      <td>NaN</td>\n",
       "      <td>U.S. Minor Outlying Islands</td>\n",
       "    </tr>\n",
       "    <tr>\n",
       "      <th>227</th>\n",
       "      <td>37.090240</td>\n",
       "      <td>-95.712891</td>\n",
       "      <td>United States</td>\n",
       "    </tr>\n",
       "    <tr>\n",
       "      <th>230</th>\n",
       "      <td>41.902916</td>\n",
       "      <td>12.453389</td>\n",
       "      <td>Vatican City</td>\n",
       "    </tr>\n",
       "    <tr>\n",
       "      <th>231</th>\n",
       "      <td>12.984305</td>\n",
       "      <td>-61.287228</td>\n",
       "      <td>Saint Vincent and the Grenadines</td>\n",
       "    </tr>\n",
       "    <tr>\n",
       "      <th>233</th>\n",
       "      <td>18.420695</td>\n",
       "      <td>-64.639968</td>\n",
       "      <td>British Virgin Islands</td>\n",
       "    </tr>\n",
       "    <tr>\n",
       "      <th>234</th>\n",
       "      <td>18.335765</td>\n",
       "      <td>-64.896335</td>\n",
       "      <td>U.S. Virgin Islands</td>\n",
       "    </tr>\n",
       "    <tr>\n",
       "      <th>237</th>\n",
       "      <td>-13.768752</td>\n",
       "      <td>-177.156097</td>\n",
       "      <td>Wallis and Futuna</td>\n",
       "    </tr>\n",
       "    <tr>\n",
       "      <th>241</th>\n",
       "      <td>-12.827500</td>\n",
       "      <td>45.166244</td>\n",
       "      <td>Mayotte</td>\n",
       "    </tr>\n",
       "  </tbody>\n",
       "</table>\n",
       "</div>"
      ],
      "text/plain": [
       "     Country_latitude  Country_longitude  \\\n",
       "3           17.060816         -61.796428   \n",
       "4           18.220554         -63.068615   \n",
       "7           12.226079         -69.060087   \n",
       "9          -75.250973          -0.071389   \n",
       "27         -16.290154         -63.588653   \n",
       "31         -54.423199           3.413194   \n",
       "36         -12.164165          96.870956   \n",
       "37          -4.038333          21.758664   \n",
       "39          -0.228021          15.827659   \n",
       "41           7.539989          -5.547080   \n",
       "50         -10.447525         105.690449   \n",
       "62          24.215527         -12.885834   \n",
       "68         -51.796253         -59.523613   \n",
       "70          61.892635          -6.911806   \n",
       "73          55.378051          -3.435973   \n",
       "76           3.933889         -53.125782   \n",
       "77          49.465691          -2.585278   \n",
       "79          36.137741          -5.345374   \n",
       "80          71.706936         -42.604303   \n",
       "83          16.995971         -62.067641   \n",
       "86         -54.429579         -36.587909   \n",
       "91          31.354676          34.308825   \n",
       "92          22.396428         114.109497   \n",
       "93         -53.081810          73.504158   \n",
       "101         54.236107          -4.548056   \n",
       "103         -6.343194          71.876519   \n",
       "108         49.214439          -2.131250   \n",
       "117         17.357822         -62.782998   \n",
       "140         41.608635          21.745275   \n",
       "142         21.913965          95.956223   \n",
       "144         22.198745         113.543873   \n",
       "145         17.330830         145.384690   \n",
       "146         14.641528         -61.024174   \n",
       "148         16.742498         -62.187366   \n",
       "157        -20.904305         165.618042   \n",
       "159        -29.040835         167.954712   \n",
       "166        -19.054445        -169.867233   \n",
       "171        -17.679742        -149.406843   \n",
       "176         46.941936         -56.271110   \n",
       "177        -24.703615        -127.439308   \n",
       "179         31.952162          35.233154   \n",
       "184        -21.115141          55.536384   \n",
       "195        -24.143474         -10.030696   \n",
       "197         77.553604          23.670272   \n",
       "204          0.186360           6.613081   \n",
       "208         21.694025         -71.797928   \n",
       "210        -49.280366          69.348557   \n",
       "214         -8.967363        -171.855881   \n",
       "220         10.691803         -61.222503   \n",
       "221         -7.109535         177.649330   \n",
       "226               NaN                NaN   \n",
       "227         37.090240         -95.712891   \n",
       "230         41.902916          12.453389   \n",
       "231         12.984305         -61.287228   \n",
       "233         18.420695         -64.639968   \n",
       "234         18.335765         -64.896335   \n",
       "237        -13.768752        -177.156097   \n",
       "241        -12.827500          45.166244   \n",
       "\n",
       "                                          Country  \n",
       "3                             Antigua and Barbuda  \n",
       "4                                        Anguilla  \n",
       "7                            Netherlands Antilles  \n",
       "9                                      Antarctica  \n",
       "27                                        Bolivia  \n",
       "31                                  Bouvet Island  \n",
       "36                        Cocos [Keeling] Islands  \n",
       "37                                    Congo [DRC]  \n",
       "39                               Congo [Republic]  \n",
       "41                                  Côte d'Ivoire  \n",
       "50                               Christmas Island  \n",
       "62                                 Western Sahara  \n",
       "68              Falkland Islands [Islas Malvinas]  \n",
       "70                                  Faroe Islands  \n",
       "73                                 United Kingdom  \n",
       "76                                  French Guiana  \n",
       "77                                       Guernsey  \n",
       "79                                      Gibraltar  \n",
       "80                                      Greenland  \n",
       "83                                     Guadeloupe  \n",
       "86   South Georgia and the South Sandwich Islands  \n",
       "91                                     Gaza Strip  \n",
       "92                                      Hong Kong  \n",
       "93              Heard Island and McDonald Islands  \n",
       "101                                   Isle of Man  \n",
       "103                British Indian Ocean Territory  \n",
       "108                                        Jersey  \n",
       "117                         Saint Kitts and Nevis  \n",
       "140                             Macedonia [FYROM]  \n",
       "142                               Myanmar [Burma]  \n",
       "144                                         Macau  \n",
       "145                      Northern Mariana Islands  \n",
       "146                                    Martinique  \n",
       "148                                    Montserrat  \n",
       "157                                 New Caledonia  \n",
       "159                                Norfolk Island  \n",
       "166                                          Niue  \n",
       "171                              French Polynesia  \n",
       "176                     Saint Pierre and Miquelon  \n",
       "177                              Pitcairn Islands  \n",
       "179                       Palestinian Territories  \n",
       "184                                       Réunion  \n",
       "195                                  Saint Helena  \n",
       "197                        Svalbard and Jan Mayen  \n",
       "204                         São Tomé and Príncipe  \n",
       "208                      Turks and Caicos Islands  \n",
       "210                   French Southern Territories  \n",
       "214                                       Tokelau  \n",
       "220                           Trinidad and Tobago  \n",
       "221                                        Tuvalu  \n",
       "226                   U.S. Minor Outlying Islands  \n",
       "227                                 United States  \n",
       "230                                  Vatican City  \n",
       "231              Saint Vincent and the Grenadines  \n",
       "233                        British Virgin Islands  \n",
       "234                           U.S. Virgin Islands  \n",
       "237                             Wallis and Futuna  \n",
       "241                                       Mayotte  "
      ]
     },
     "execution_count": 25,
     "metadata": {},
     "output_type": "execute_result"
    }
   ],
   "source": [
    "country_coordinates[~country_coordinates['Country'].isin(noc_regions['Country'])]"
   ]
  },
  {
   "cell_type": "code",
   "execution_count": 26,
   "metadata": {},
   "outputs": [],
   "source": [
    "dictionary_for_spelling = {\"United Kingdom\": \"UK\", \"United States\": \"USA\",\n",
    "\"Congo [Republic]\":\"Republic of Congo\", \"Congo [DRC]\": \"Democratic Republic of the Congo\"}"
   ]
  },
  {
   "cell_type": "code",
   "execution_count": 27,
   "metadata": {},
   "outputs": [],
   "source": [
    "# Replace the values in the Country column of country_continent with the values in the dict_respell dictionary\n",
    "country_coordinates[\"Country\"].replace(dictionary_for_spelling, inplace=True)\n"
   ]
  },
  {
   "cell_type": "markdown",
   "metadata": {},
   "source": [
    "#### Adding continents"
   ]
  },
  {
   "cell_type": "code",
   "execution_count": 28,
   "metadata": {},
   "outputs": [],
   "source": [
    "import pycountry_convert as pc\n",
    "import pycountry\n",
    "\n",
    "# Creating a DataFrame with 'Country' and 'Continent' columns, excluding special cases               # Källa: https://stackoverflow.com/questions/55910004/how-to-get-continent-name-from-country-using-pycountry\n",
    "def get_continent(country):\n",
    "    try:\n",
    "        return pc.country_alpha2_to_continent_code(country.alpha_2)\n",
    "    except (KeyError, AttributeError):\n",
    "        return 'Unknown'\n",
    "    \n",
    "country_continent = pd.DataFrame([\n",
    "    {'Country': country.name, 'Continent': get_continent(country)}\n",
    "    for country in pycountry.countries\n",
    "])\n"
   ]
  },
  {
   "cell_type": "code",
   "execution_count": 29,
   "metadata": {},
   "outputs": [
    {
     "name": "stdout",
     "output_type": "stream",
     "text": [
      "<class 'pandas.core.frame.DataFrame'>\n",
      "RangeIndex: 249 entries, 0 to 248\n",
      "Data columns (total 2 columns):\n",
      " #   Column     Non-Null Count  Dtype \n",
      "---  ------     --------------  ----- \n",
      " 0   Country    249 non-null    object\n",
      " 1   Continent  249 non-null    object\n",
      "dtypes: object(2)\n",
      "memory usage: 4.0+ KB\n"
     ]
    }
   ],
   "source": [
    "country_continent.info()\n",
    "# Kontroll, hittills finns alla länder med"
   ]
  },
  {
   "cell_type": "code",
   "execution_count": 30,
   "metadata": {},
   "outputs": [
    {
     "data": {
      "text/html": [
       "<div>\n",
       "<style scoped>\n",
       "    .dataframe tbody tr th:only-of-type {\n",
       "        vertical-align: middle;\n",
       "    }\n",
       "\n",
       "    .dataframe tbody tr th {\n",
       "        vertical-align: top;\n",
       "    }\n",
       "\n",
       "    .dataframe thead th {\n",
       "        text-align: right;\n",
       "    }\n",
       "</style>\n",
       "<table border=\"1\" class=\"dataframe\">\n",
       "  <thead>\n",
       "    <tr style=\"text-align: right;\">\n",
       "      <th></th>\n",
       "      <th>NOC</th>\n",
       "      <th>Country</th>\n",
       "      <th>notes</th>\n",
       "    </tr>\n",
       "  </thead>\n",
       "  <tbody>\n",
       "    <tr>\n",
       "      <th>1</th>\n",
       "      <td>AHO</td>\n",
       "      <td>Curacao</td>\n",
       "      <td>Netherlands Antilles</td>\n",
       "    </tr>\n",
       "    <tr>\n",
       "      <th>6</th>\n",
       "      <td>ANT</td>\n",
       "      <td>Antigua</td>\n",
       "      <td>Antigua and Barbuda</td>\n",
       "    </tr>\n",
       "    <tr>\n",
       "      <th>26</th>\n",
       "      <td>BOH</td>\n",
       "      <td>Czech Republic</td>\n",
       "      <td>Bohemia</td>\n",
       "    </tr>\n",
       "    <tr>\n",
       "      <th>27</th>\n",
       "      <td>BOL</td>\n",
       "      <td>Boliva</td>\n",
       "      <td>NaN</td>\n",
       "    </tr>\n",
       "    <tr>\n",
       "      <th>31</th>\n",
       "      <td>BRU</td>\n",
       "      <td>Brunei</td>\n",
       "      <td>NaN</td>\n",
       "    </tr>\n",
       "    <tr>\n",
       "      <th>38</th>\n",
       "      <td>CGO</td>\n",
       "      <td>Republic of Congo</td>\n",
       "      <td>NaN</td>\n",
       "    </tr>\n",
       "    <tr>\n",
       "      <th>42</th>\n",
       "      <td>CIV</td>\n",
       "      <td>Ivory Coast</td>\n",
       "      <td>NaN</td>\n",
       "    </tr>\n",
       "    <tr>\n",
       "      <th>44</th>\n",
       "      <td>COD</td>\n",
       "      <td>Democratic Republic of the Congo</td>\n",
       "      <td>NaN</td>\n",
       "    </tr>\n",
       "    <tr>\n",
       "      <th>48</th>\n",
       "      <td>CPV</td>\n",
       "      <td>Cape Verde</td>\n",
       "      <td>NaN</td>\n",
       "    </tr>\n",
       "    <tr>\n",
       "      <th>54</th>\n",
       "      <td>CZE</td>\n",
       "      <td>Czech Republic</td>\n",
       "      <td>NaN</td>\n",
       "    </tr>\n",
       "    <tr>\n",
       "      <th>66</th>\n",
       "      <td>EUN</td>\n",
       "      <td>Russia</td>\n",
       "      <td>NaN</td>\n",
       "    </tr>\n",
       "    <tr>\n",
       "      <th>71</th>\n",
       "      <td>FSM</td>\n",
       "      <td>Micronesia</td>\n",
       "      <td>NaN</td>\n",
       "    </tr>\n",
       "    <tr>\n",
       "      <th>74</th>\n",
       "      <td>GBR</td>\n",
       "      <td>UK</td>\n",
       "      <td>NaN</td>\n",
       "    </tr>\n",
       "    <tr>\n",
       "      <th>93</th>\n",
       "      <td>IOA</td>\n",
       "      <td>Individual Olympic Athletes</td>\n",
       "      <td>Individual Olympic Athletes</td>\n",
       "    </tr>\n",
       "    <tr>\n",
       "      <th>94</th>\n",
       "      <td>IRI</td>\n",
       "      <td>Iran</td>\n",
       "      <td>NaN</td>\n",
       "    </tr>\n",
       "    <tr>\n",
       "      <th>99</th>\n",
       "      <td>ISV</td>\n",
       "      <td>Virgin Islands, US</td>\n",
       "      <td>Virgin Islands</td>\n",
       "    </tr>\n",
       "    <tr>\n",
       "      <th>109</th>\n",
       "      <td>KOR</td>\n",
       "      <td>South Korea</td>\n",
       "      <td>NaN</td>\n",
       "    </tr>\n",
       "    <tr>\n",
       "      <th>110</th>\n",
       "      <td>KOS</td>\n",
       "      <td>Kosovo</td>\n",
       "      <td>NaN</td>\n",
       "    </tr>\n",
       "    <tr>\n",
       "      <th>113</th>\n",
       "      <td>LAO</td>\n",
       "      <td>Laos</td>\n",
       "      <td>NaN</td>\n",
       "    </tr>\n",
       "    <tr>\n",
       "      <th>128</th>\n",
       "      <td>MDA</td>\n",
       "      <td>Moldova</td>\n",
       "      <td>NaN</td>\n",
       "    </tr>\n",
       "    <tr>\n",
       "      <th>133</th>\n",
       "      <td>MKD</td>\n",
       "      <td>Macedonia</td>\n",
       "      <td>NaN</td>\n",
       "    </tr>\n",
       "    <tr>\n",
       "      <th>159</th>\n",
       "      <td>PLE</td>\n",
       "      <td>Palestine</td>\n",
       "      <td>NaN</td>\n",
       "    </tr>\n",
       "    <tr>\n",
       "      <th>164</th>\n",
       "      <td>PRK</td>\n",
       "      <td>North Korea</td>\n",
       "      <td>NaN</td>\n",
       "    </tr>\n",
       "    <tr>\n",
       "      <th>168</th>\n",
       "      <td>ROT</td>\n",
       "      <td>NaN</td>\n",
       "      <td>Refugee Olympic Team</td>\n",
       "    </tr>\n",
       "    <tr>\n",
       "      <th>171</th>\n",
       "      <td>RUS</td>\n",
       "      <td>Russia</td>\n",
       "      <td>NaN</td>\n",
       "    </tr>\n",
       "    <tr>\n",
       "      <th>179</th>\n",
       "      <td>SKN</td>\n",
       "      <td>Saint Kitts</td>\n",
       "      <td>Turks and Caicos Islands</td>\n",
       "    </tr>\n",
       "    <tr>\n",
       "      <th>194</th>\n",
       "      <td>SWZ</td>\n",
       "      <td>Swaziland</td>\n",
       "      <td>NaN</td>\n",
       "    </tr>\n",
       "    <tr>\n",
       "      <th>195</th>\n",
       "      <td>SYR</td>\n",
       "      <td>Syria</td>\n",
       "      <td>NaN</td>\n",
       "    </tr>\n",
       "    <tr>\n",
       "      <th>196</th>\n",
       "      <td>TAN</td>\n",
       "      <td>Tanzania</td>\n",
       "      <td>NaN</td>\n",
       "    </tr>\n",
       "    <tr>\n",
       "      <th>197</th>\n",
       "      <td>TCH</td>\n",
       "      <td>Czech Republic</td>\n",
       "      <td>NaN</td>\n",
       "    </tr>\n",
       "    <tr>\n",
       "      <th>204</th>\n",
       "      <td>TPE</td>\n",
       "      <td>Taiwan</td>\n",
       "      <td>NaN</td>\n",
       "    </tr>\n",
       "    <tr>\n",
       "      <th>205</th>\n",
       "      <td>TTO</td>\n",
       "      <td>Trinidad</td>\n",
       "      <td>Trinidad and Tobago</td>\n",
       "    </tr>\n",
       "    <tr>\n",
       "      <th>208</th>\n",
       "      <td>TUV</td>\n",
       "      <td>NaN</td>\n",
       "      <td>Tuvalu</td>\n",
       "    </tr>\n",
       "    <tr>\n",
       "      <th>210</th>\n",
       "      <td>UAR</td>\n",
       "      <td>Syria</td>\n",
       "      <td>United Arab Republic</td>\n",
       "    </tr>\n",
       "    <tr>\n",
       "      <th>213</th>\n",
       "      <td>UNK</td>\n",
       "      <td>NaN</td>\n",
       "      <td>Unknown</td>\n",
       "    </tr>\n",
       "    <tr>\n",
       "      <th>214</th>\n",
       "      <td>URS</td>\n",
       "      <td>Russia</td>\n",
       "      <td>NaN</td>\n",
       "    </tr>\n",
       "    <tr>\n",
       "      <th>216</th>\n",
       "      <td>USA</td>\n",
       "      <td>USA</td>\n",
       "      <td>NaN</td>\n",
       "    </tr>\n",
       "    <tr>\n",
       "      <th>219</th>\n",
       "      <td>VEN</td>\n",
       "      <td>Venezuela</td>\n",
       "      <td>NaN</td>\n",
       "    </tr>\n",
       "    <tr>\n",
       "      <th>220</th>\n",
       "      <td>VIE</td>\n",
       "      <td>Vietnam</td>\n",
       "      <td>NaN</td>\n",
       "    </tr>\n",
       "    <tr>\n",
       "      <th>221</th>\n",
       "      <td>VIN</td>\n",
       "      <td>Saint Vincent</td>\n",
       "      <td>NaN</td>\n",
       "    </tr>\n",
       "    <tr>\n",
       "      <th>222</th>\n",
       "      <td>VNM</td>\n",
       "      <td>Vietnam</td>\n",
       "      <td>NaN</td>\n",
       "    </tr>\n",
       "    <tr>\n",
       "      <th>223</th>\n",
       "      <td>WIF</td>\n",
       "      <td>Trinidad</td>\n",
       "      <td>West Indies Federation</td>\n",
       "    </tr>\n",
       "  </tbody>\n",
       "</table>\n",
       "</div>"
      ],
      "text/plain": [
       "     NOC                           Country                        notes\n",
       "1    AHO                           Curacao         Netherlands Antilles\n",
       "6    ANT                           Antigua          Antigua and Barbuda\n",
       "26   BOH                    Czech Republic                      Bohemia\n",
       "27   BOL                            Boliva                          NaN\n",
       "31   BRU                            Brunei                          NaN\n",
       "38   CGO                 Republic of Congo                          NaN\n",
       "42   CIV                       Ivory Coast                          NaN\n",
       "44   COD  Democratic Republic of the Congo                          NaN\n",
       "48   CPV                        Cape Verde                          NaN\n",
       "54   CZE                    Czech Republic                          NaN\n",
       "66   EUN                            Russia                          NaN\n",
       "71   FSM                        Micronesia                          NaN\n",
       "74   GBR                                UK                          NaN\n",
       "93   IOA       Individual Olympic Athletes  Individual Olympic Athletes\n",
       "94   IRI                              Iran                          NaN\n",
       "99   ISV                Virgin Islands, US               Virgin Islands\n",
       "109  KOR                       South Korea                          NaN\n",
       "110  KOS                            Kosovo                          NaN\n",
       "113  LAO                              Laos                          NaN\n",
       "128  MDA                           Moldova                          NaN\n",
       "133  MKD                         Macedonia                          NaN\n",
       "159  PLE                         Palestine                          NaN\n",
       "164  PRK                       North Korea                          NaN\n",
       "168  ROT                               NaN         Refugee Olympic Team\n",
       "171  RUS                            Russia                          NaN\n",
       "179  SKN                       Saint Kitts     Turks and Caicos Islands\n",
       "194  SWZ                         Swaziland                          NaN\n",
       "195  SYR                             Syria                          NaN\n",
       "196  TAN                          Tanzania                          NaN\n",
       "197  TCH                    Czech Republic                          NaN\n",
       "204  TPE                            Taiwan                          NaN\n",
       "205  TTO                          Trinidad          Trinidad and Tobago\n",
       "208  TUV                               NaN                       Tuvalu\n",
       "210  UAR                             Syria         United Arab Republic\n",
       "213  UNK                               NaN                      Unknown\n",
       "214  URS                            Russia                          NaN\n",
       "216  USA                               USA                          NaN\n",
       "219  VEN                         Venezuela                          NaN\n",
       "220  VIE                           Vietnam                          NaN\n",
       "221  VIN                     Saint Vincent                          NaN\n",
       "222  VNM                           Vietnam                          NaN\n",
       "223  WIF                          Trinidad       West Indies Federation"
      ]
     },
     "execution_count": 30,
     "metadata": {},
     "output_type": "execute_result"
    }
   ],
   "source": [
    "# Find all values in Country column of country continent that do not have a match in noc_regions\n",
    "noc_regions[~noc_regions['Country'].isin(country_continent['Country'])]"
   ]
  },
  {
   "cell_type": "code",
   "execution_count": 31,
   "metadata": {},
   "outputs": [
    {
     "data": {
      "text/html": [
       "<div>\n",
       "<style scoped>\n",
       "    .dataframe tbody tr th:only-of-type {\n",
       "        vertical-align: middle;\n",
       "    }\n",
       "\n",
       "    .dataframe tbody tr th {\n",
       "        vertical-align: top;\n",
       "    }\n",
       "\n",
       "    .dataframe thead th {\n",
       "        text-align: right;\n",
       "    }\n",
       "</style>\n",
       "<table border=\"1\" class=\"dataframe\">\n",
       "  <thead>\n",
       "    <tr style=\"text-align: right;\">\n",
       "      <th></th>\n",
       "      <th>Country</th>\n",
       "      <th>Continent</th>\n",
       "    </tr>\n",
       "  </thead>\n",
       "  <tbody>\n",
       "    <tr>\n",
       "      <th>3</th>\n",
       "      <td>Anguilla</td>\n",
       "      <td>NA</td>\n",
       "    </tr>\n",
       "    <tr>\n",
       "      <th>4</th>\n",
       "      <td>Åland Islands</td>\n",
       "      <td>EU</td>\n",
       "    </tr>\n",
       "    <tr>\n",
       "      <th>11</th>\n",
       "      <td>Antarctica</td>\n",
       "      <td>Unknown</td>\n",
       "    </tr>\n",
       "    <tr>\n",
       "      <th>12</th>\n",
       "      <td>French Southern Territories</td>\n",
       "      <td>Unknown</td>\n",
       "    </tr>\n",
       "    <tr>\n",
       "      <th>13</th>\n",
       "      <td>Antigua and Barbuda</td>\n",
       "      <td>NA</td>\n",
       "    </tr>\n",
       "    <tr>\n",
       "      <th>...</th>\n",
       "      <td>...</td>\n",
       "      <td>...</td>\n",
       "    </tr>\n",
       "    <tr>\n",
       "      <th>237</th>\n",
       "      <td>Saint Vincent and the Grenadines</td>\n",
       "      <td>NA</td>\n",
       "    </tr>\n",
       "    <tr>\n",
       "      <th>238</th>\n",
       "      <td>Venezuela, Bolivarian Republic of</td>\n",
       "      <td>SA</td>\n",
       "    </tr>\n",
       "    <tr>\n",
       "      <th>240</th>\n",
       "      <td>Virgin Islands, U.S.</td>\n",
       "      <td>NA</td>\n",
       "    </tr>\n",
       "    <tr>\n",
       "      <th>241</th>\n",
       "      <td>Viet Nam</td>\n",
       "      <td>AS</td>\n",
       "    </tr>\n",
       "    <tr>\n",
       "      <th>243</th>\n",
       "      <td>Wallis and Futuna</td>\n",
       "      <td>OC</td>\n",
       "    </tr>\n",
       "  </tbody>\n",
       "</table>\n",
       "<p>75 rows × 2 columns</p>\n",
       "</div>"
      ],
      "text/plain": [
       "                               Country Continent\n",
       "3                             Anguilla        NA\n",
       "4                        Åland Islands        EU\n",
       "11                          Antarctica   Unknown\n",
       "12         French Southern Territories   Unknown\n",
       "13                 Antigua and Barbuda        NA\n",
       "..                                 ...       ...\n",
       "237   Saint Vincent and the Grenadines        NA\n",
       "238  Venezuela, Bolivarian Republic of        SA\n",
       "240               Virgin Islands, U.S.        NA\n",
       "241                           Viet Nam        AS\n",
       "243                  Wallis and Futuna        OC\n",
       "\n",
       "[75 rows x 2 columns]"
      ]
     },
     "execution_count": 31,
     "metadata": {},
     "output_type": "execute_result"
    }
   ],
   "source": [
    "# Find all values in Country column of country continent that do not have a match in noc_regions\n",
    "country_continent[~country_continent['Country'].isin(noc_regions['Country'])]"
   ]
  },
  {
   "cell_type": "code",
   "execution_count": 46,
   "metadata": {},
   "outputs": [],
   "source": [
    "dict_respell = {\"Czechia\": \"Czech Republic\", \"Brunei Darussalam\": \"Brunei\", \n",
    "\"Cabo Verde\": \"Cape Verde\", \"Iran, Islamic Republic of\": \"Iran\", \"Korea, Republic of\": \"South Korea\", \n",
    "\"Korea, Democratic People's Republic of\": \"North Korea\", \"Syrian Arab Republic\":\"Syria\",  \n",
    "\"Russian Federation\": \"Russia\", \"Taiwan\": \"Taiwan, Province of China\", \n",
    "\"Vietnam\": \"Viet Nam\", \"Venezuela, Bolivarian Republic of\": \"Venezuela\", \"United States\": \"USA\"}"
   ]
  },
  {
   "cell_type": "code",
   "execution_count": 33,
   "metadata": {},
   "outputs": [],
   "source": [
    "# Replace the values in the Country column of country_continent with the values in the dict_respell dictionary\n",
    "country_continent[\"Country\"].replace(dict_respell, inplace=True)\n",
    "\n",
    "# Kontroll, hittills ok."
   ]
  },
  {
   "cell_type": "code",
   "execution_count": 34,
   "metadata": {},
   "outputs": [],
   "source": [
    "# Create dataframe mapping continents to abbreviations. \n",
    "continents_mapped = {\n",
    "    'AF': 'Africa',\n",
    "    'AN': 'Antarctica',\n",
    "    'AS': 'Asia',\n",
    "    'EU': 'Europe',\n",
    "    'NA': 'North America',\n",
    "    'OC': 'Oceania',\n",
    "    'SA': 'South America',\n",
    "    'Unknown': 'Unknown'\n",
    "}"
   ]
  },
  {
   "cell_type": "code",
   "execution_count": 35,
   "metadata": {},
   "outputs": [
    {
     "data": {
      "text/html": [
       "<div>\n",
       "<style scoped>\n",
       "    .dataframe tbody tr th:only-of-type {\n",
       "        vertical-align: middle;\n",
       "    }\n",
       "\n",
       "    .dataframe tbody tr th {\n",
       "        vertical-align: top;\n",
       "    }\n",
       "\n",
       "    .dataframe thead th {\n",
       "        text-align: right;\n",
       "    }\n",
       "</style>\n",
       "<table border=\"1\" class=\"dataframe\">\n",
       "  <thead>\n",
       "    <tr style=\"text-align: right;\">\n",
       "      <th></th>\n",
       "      <th>Country</th>\n",
       "      <th>Continent</th>\n",
       "    </tr>\n",
       "  </thead>\n",
       "  <tbody>\n",
       "    <tr>\n",
       "      <th>0</th>\n",
       "      <td>Aruba</td>\n",
       "      <td>North America</td>\n",
       "    </tr>\n",
       "    <tr>\n",
       "      <th>1</th>\n",
       "      <td>Afghanistan</td>\n",
       "      <td>Asia</td>\n",
       "    </tr>\n",
       "    <tr>\n",
       "      <th>2</th>\n",
       "      <td>Angola</td>\n",
       "      <td>Africa</td>\n",
       "    </tr>\n",
       "    <tr>\n",
       "      <th>3</th>\n",
       "      <td>Anguilla</td>\n",
       "      <td>North America</td>\n",
       "    </tr>\n",
       "    <tr>\n",
       "      <th>4</th>\n",
       "      <td>Åland Islands</td>\n",
       "      <td>Europe</td>\n",
       "    </tr>\n",
       "  </tbody>\n",
       "</table>\n",
       "</div>"
      ],
      "text/plain": [
       "         Country      Continent\n",
       "0          Aruba  North America\n",
       "1    Afghanistan           Asia\n",
       "2         Angola         Africa\n",
       "3       Anguilla  North America\n",
       "4  Åland Islands         Europe"
      ]
     },
     "execution_count": 35,
     "metadata": {},
     "output_type": "execute_result"
    }
   ],
   "source": [
    "# Change names in final_df Continent column to match the continent_mapped in the contry_continent DataFrame\n",
    "country_continent['Continent'] = country_continent['Continent'].map(continents_mapped)\n",
    "country_continent.head()"
   ]
  },
  {
   "cell_type": "code",
   "execution_count": 36,
   "metadata": {},
   "outputs": [],
   "source": [
    "# Creating a DataFrame with 'Continent', 'Latitude' and 'Longitude' columns\n",
    "continent_coordinates = pd.DataFrame({\n",
    "    'Continent': ['Africa', 'Antarctica', 'Asia', 'Europe', 'North America', 'Oceania', 'South America'],\n",
    "    'Continent_latitude': [7.1881, -82.8628, 34.0479, 54.5260, 54.5260, -14.2350, -14.2350],\n",
    "    'Continent_longitude': [21.0938, 135, 100.6197, 15.2551, -105.2551, 141.2551, -59.2551]\n",
    "})\n"
   ]
  },
  {
   "cell_type": "code",
   "execution_count": 37,
   "metadata": {},
   "outputs": [],
   "source": [
    "# Adding the continent coordinates \n",
    "country_continent = pd.merge(country_continent, continent_coordinates, left_on=\"Continent\", right_on=\"Continent\")"
   ]
  },
  {
   "cell_type": "code",
   "execution_count": 38,
   "metadata": {},
   "outputs": [
    {
     "data": {
      "text/html": [
       "<div>\n",
       "<style scoped>\n",
       "    .dataframe tbody tr th:only-of-type {\n",
       "        vertical-align: middle;\n",
       "    }\n",
       "\n",
       "    .dataframe tbody tr th {\n",
       "        vertical-align: top;\n",
       "    }\n",
       "\n",
       "    .dataframe thead th {\n",
       "        text-align: right;\n",
       "    }\n",
       "</style>\n",
       "<table border=\"1\" class=\"dataframe\">\n",
       "  <thead>\n",
       "    <tr style=\"text-align: right;\">\n",
       "      <th></th>\n",
       "      <th>Country</th>\n",
       "      <th>Continent</th>\n",
       "      <th>Continent_latitude</th>\n",
       "      <th>Continent_longitude</th>\n",
       "    </tr>\n",
       "  </thead>\n",
       "  <tbody>\n",
       "    <tr>\n",
       "      <th>0</th>\n",
       "      <td>Aruba</td>\n",
       "      <td>North America</td>\n",
       "      <td>54.526</td>\n",
       "      <td>-105.2551</td>\n",
       "    </tr>\n",
       "    <tr>\n",
       "      <th>1</th>\n",
       "      <td>Anguilla</td>\n",
       "      <td>North America</td>\n",
       "      <td>54.526</td>\n",
       "      <td>-105.2551</td>\n",
       "    </tr>\n",
       "    <tr>\n",
       "      <th>2</th>\n",
       "      <td>Antigua and Barbuda</td>\n",
       "      <td>North America</td>\n",
       "      <td>54.526</td>\n",
       "      <td>-105.2551</td>\n",
       "    </tr>\n",
       "    <tr>\n",
       "      <th>3</th>\n",
       "      <td>Bonaire, Sint Eustatius and Saba</td>\n",
       "      <td>North America</td>\n",
       "      <td>54.526</td>\n",
       "      <td>-105.2551</td>\n",
       "    </tr>\n",
       "    <tr>\n",
       "      <th>4</th>\n",
       "      <td>Bahamas</td>\n",
       "      <td>North America</td>\n",
       "      <td>54.526</td>\n",
       "      <td>-105.2551</td>\n",
       "    </tr>\n",
       "  </tbody>\n",
       "</table>\n",
       "</div>"
      ],
      "text/plain": [
       "                            Country      Continent  Continent_latitude  \\\n",
       "0                             Aruba  North America              54.526   \n",
       "1                          Anguilla  North America              54.526   \n",
       "2               Antigua and Barbuda  North America              54.526   \n",
       "3  Bonaire, Sint Eustatius and Saba  North America              54.526   \n",
       "4                           Bahamas  North America              54.526   \n",
       "\n",
       "   Continent_longitude  \n",
       "0            -105.2551  \n",
       "1            -105.2551  \n",
       "2            -105.2551  \n",
       "3            -105.2551  \n",
       "4            -105.2551  "
      ]
     },
     "execution_count": 38,
     "metadata": {},
     "output_type": "execute_result"
    }
   ],
   "source": [
    "country_continent.head()"
   ]
  },
  {
   "cell_type": "code",
   "execution_count": 39,
   "metadata": {},
   "outputs": [],
   "source": [
    "# Merge country_continent and country_coordinates DataFrames\n",
    "country_continent_coordinates = pd.merge(country_coordinates, country_continent, left_on=\"Country\", right_on=\"Country\")"
   ]
  },
  {
   "cell_type": "code",
   "execution_count": 40,
   "metadata": {},
   "outputs": [
    {
     "name": "stdout",
     "output_type": "stream",
     "text": [
      "<class 'pandas.core.frame.DataFrame'>\n",
      "RangeIndex: 214 entries, 0 to 213\n",
      "Data columns (total 6 columns):\n",
      " #   Column               Non-Null Count  Dtype  \n",
      "---  ------               --------------  -----  \n",
      " 0   Country              214 non-null    object \n",
      " 1   Continent            214 non-null    object \n",
      " 2   Country_latitude     214 non-null    float64\n",
      " 3   Country_longitude    214 non-null    float64\n",
      " 4   Continent_latitude   214 non-null    float64\n",
      " 5   Continent_longitude  214 non-null    float64\n",
      "dtypes: float64(4), object(2)\n",
      "memory usage: 10.2+ KB\n"
     ]
    }
   ],
   "source": [
    "country_continent_coordinates.head()\n",
    "# Move country column to the first position\n",
    "country_continent_coordinates = country_continent_coordinates[['Country', 'Continent', 'Country_latitude', 'Country_longitude', 'Continent_latitude', 'Continent_longitude']]\n",
    "country_continent_coordinates.info()"
   ]
  },
  {
   "cell_type": "code",
   "execution_count": 48,
   "metadata": {},
   "outputs": [],
   "source": [
    "# Save country_coordinates DataFrame to csv file\n",
    "country_continent_coordinates.to_csv(\"data/country_continent_coordinates.csv\", index=False)"
   ]
  },
  {
   "cell_type": "code",
   "execution_count": 49,
   "metadata": {},
   "outputs": [],
   "source": [
    "test = pd.read_csv(\"data/country_continent_coordinates.csv\")"
   ]
  },
  {
   "cell_type": "code",
   "execution_count": 50,
   "metadata": {},
   "outputs": [
    {
     "data": {
      "text/html": [
       "<div>\n",
       "<style scoped>\n",
       "    .dataframe tbody tr th:only-of-type {\n",
       "        vertical-align: middle;\n",
       "    }\n",
       "\n",
       "    .dataframe tbody tr th {\n",
       "        vertical-align: top;\n",
       "    }\n",
       "\n",
       "    .dataframe thead th {\n",
       "        text-align: right;\n",
       "    }\n",
       "</style>\n",
       "<table border=\"1\" class=\"dataframe\">\n",
       "  <thead>\n",
       "    <tr style=\"text-align: right;\">\n",
       "      <th></th>\n",
       "      <th>Country</th>\n",
       "      <th>Continent</th>\n",
       "      <th>Country_latitude</th>\n",
       "      <th>Country_longitude</th>\n",
       "      <th>Continent_latitude</th>\n",
       "      <th>Continent_longitude</th>\n",
       "    </tr>\n",
       "  </thead>\n",
       "  <tbody>\n",
       "    <tr>\n",
       "      <th>169</th>\n",
       "      <td>Russia</td>\n",
       "      <td>Europe</td>\n",
       "      <td>61.52401</td>\n",
       "      <td>105.318756</td>\n",
       "      <td>54.526</td>\n",
       "      <td>15.2551</td>\n",
       "    </tr>\n",
       "  </tbody>\n",
       "</table>\n",
       "</div>"
      ],
      "text/plain": [
       "    Country Continent  Country_latitude  Country_longitude  \\\n",
       "169  Russia    Europe          61.52401         105.318756   \n",
       "\n",
       "     Continent_latitude  Continent_longitude  \n",
       "169              54.526              15.2551  "
      ]
     },
     "execution_count": 50,
     "metadata": {},
     "output_type": "execute_result"
    }
   ],
   "source": [
    "test.query(\"Country == 'Russia'\")"
   ]
  },
  {
   "cell_type": "markdown",
   "metadata": {},
   "source": [
    "#### Merging coordinates into noc_regions"
   ]
  },
  {
   "cell_type": "code",
   "execution_count": 42,
   "metadata": {},
   "outputs": [],
   "source": [
    "noc_regions = pd.merge(noc_regions, country_coordinates, left_on='Country', right_on='Country')"
   ]
  },
  {
   "cell_type": "code",
   "execution_count": 43,
   "metadata": {},
   "outputs": [
    {
     "data": {
      "text/html": [
       "<div>\n",
       "<style scoped>\n",
       "    .dataframe tbody tr th:only-of-type {\n",
       "        vertical-align: middle;\n",
       "    }\n",
       "\n",
       "    .dataframe tbody tr th {\n",
       "        vertical-align: top;\n",
       "    }\n",
       "\n",
       "    .dataframe thead th {\n",
       "        text-align: right;\n",
       "    }\n",
       "</style>\n",
       "<table border=\"1\" class=\"dataframe\">\n",
       "  <thead>\n",
       "    <tr style=\"text-align: right;\">\n",
       "      <th></th>\n",
       "      <th>NOC</th>\n",
       "      <th>Country</th>\n",
       "      <th>notes</th>\n",
       "      <th>Country_latitude</th>\n",
       "      <th>Country_longitude</th>\n",
       "    </tr>\n",
       "  </thead>\n",
       "  <tbody>\n",
       "    <tr>\n",
       "      <th>0</th>\n",
       "      <td>AFG</td>\n",
       "      <td>Afghanistan</td>\n",
       "      <td>NaN</td>\n",
       "      <td>33.939110</td>\n",
       "      <td>67.709953</td>\n",
       "    </tr>\n",
       "    <tr>\n",
       "      <th>1</th>\n",
       "      <td>ALB</td>\n",
       "      <td>Albania</td>\n",
       "      <td>NaN</td>\n",
       "      <td>41.153332</td>\n",
       "      <td>20.168331</td>\n",
       "    </tr>\n",
       "    <tr>\n",
       "      <th>2</th>\n",
       "      <td>ALG</td>\n",
       "      <td>Algeria</td>\n",
       "      <td>NaN</td>\n",
       "      <td>28.033886</td>\n",
       "      <td>1.659626</td>\n",
       "    </tr>\n",
       "    <tr>\n",
       "      <th>3</th>\n",
       "      <td>AND</td>\n",
       "      <td>Andorra</td>\n",
       "      <td>NaN</td>\n",
       "      <td>42.546245</td>\n",
       "      <td>1.601554</td>\n",
       "    </tr>\n",
       "    <tr>\n",
       "      <th>4</th>\n",
       "      <td>ANG</td>\n",
       "      <td>Angola</td>\n",
       "      <td>NaN</td>\n",
       "      <td>-11.202692</td>\n",
       "      <td>17.873887</td>\n",
       "    </tr>\n",
       "  </tbody>\n",
       "</table>\n",
       "</div>"
      ],
      "text/plain": [
       "   NOC      Country notes  Country_latitude  Country_longitude\n",
       "0  AFG  Afghanistan   NaN         33.939110          67.709953\n",
       "1  ALB      Albania   NaN         41.153332          20.168331\n",
       "2  ALG      Algeria   NaN         28.033886           1.659626\n",
       "3  AND      Andorra   NaN         42.546245           1.601554\n",
       "4  ANG       Angola   NaN        -11.202692          17.873887"
      ]
     },
     "execution_count": 43,
     "metadata": {},
     "output_type": "execute_result"
    }
   ],
   "source": [
    "noc_regions.head()"
   ]
  },
  {
   "cell_type": "code",
   "execution_count": 44,
   "metadata": {},
   "outputs": [
    {
     "data": {
      "text/html": [
       "<div>\n",
       "<style scoped>\n",
       "    .dataframe tbody tr th:only-of-type {\n",
       "        vertical-align: middle;\n",
       "    }\n",
       "\n",
       "    .dataframe tbody tr th {\n",
       "        vertical-align: top;\n",
       "    }\n",
       "\n",
       "    .dataframe thead th {\n",
       "        text-align: right;\n",
       "    }\n",
       "</style>\n",
       "<table border=\"1\" class=\"dataframe\">\n",
       "  <thead>\n",
       "    <tr style=\"text-align: right;\">\n",
       "      <th></th>\n",
       "      <th>NOC</th>\n",
       "      <th>Country</th>\n",
       "      <th>notes</th>\n",
       "      <th>Country_latitude</th>\n",
       "      <th>Country_longitude</th>\n",
       "    </tr>\n",
       "  </thead>\n",
       "  <tbody>\n",
       "    <tr>\n",
       "      <th>0</th>\n",
       "      <td>AFG</td>\n",
       "      <td>Afghanistan</td>\n",
       "      <td>NaN</td>\n",
       "      <td>33.939110</td>\n",
       "      <td>67.709953</td>\n",
       "    </tr>\n",
       "    <tr>\n",
       "      <th>1</th>\n",
       "      <td>ALB</td>\n",
       "      <td>Albania</td>\n",
       "      <td>NaN</td>\n",
       "      <td>41.153332</td>\n",
       "      <td>20.168331</td>\n",
       "    </tr>\n",
       "    <tr>\n",
       "      <th>2</th>\n",
       "      <td>ALG</td>\n",
       "      <td>Algeria</td>\n",
       "      <td>NaN</td>\n",
       "      <td>28.033886</td>\n",
       "      <td>1.659626</td>\n",
       "    </tr>\n",
       "    <tr>\n",
       "      <th>3</th>\n",
       "      <td>AND</td>\n",
       "      <td>Andorra</td>\n",
       "      <td>NaN</td>\n",
       "      <td>42.546245</td>\n",
       "      <td>1.601554</td>\n",
       "    </tr>\n",
       "    <tr>\n",
       "      <th>4</th>\n",
       "      <td>ANG</td>\n",
       "      <td>Angola</td>\n",
       "      <td>NaN</td>\n",
       "      <td>-11.202692</td>\n",
       "      <td>17.873887</td>\n",
       "    </tr>\n",
       "  </tbody>\n",
       "</table>\n",
       "</div>"
      ],
      "text/plain": [
       "   NOC      Country notes  Country_latitude  Country_longitude\n",
       "0  AFG  Afghanistan   NaN         33.939110          67.709953\n",
       "1  ALB      Albania   NaN         41.153332          20.168331\n",
       "2  ALG      Algeria   NaN         28.033886           1.659626\n",
       "3  AND      Andorra   NaN         42.546245           1.601554\n",
       "4  ANG       Angola   NaN        -11.202692          17.873887"
      ]
     },
     "execution_count": 44,
     "metadata": {},
     "output_type": "execute_result"
    }
   ],
   "source": [
    "noc_regions.head()"
   ]
  },
  {
   "cell_type": "markdown",
   "metadata": {},
   "source": [
    "#### Dataframe for participants and medals per year"
   ]
  },
  {
   "cell_type": "code",
   "execution_count": 45,
   "metadata": {},
   "outputs": [
    {
     "ename": "NameError",
     "evalue": "name 'final_df' is not defined",
     "output_type": "error",
     "traceback": [
      "\u001b[1;31m---------------------------------------------------------------------------\u001b[0m",
      "\u001b[1;31mNameError\u001b[0m                                 Traceback (most recent call last)",
      "\u001b[1;32mc:\\Users\\yonis\\Documents\\GitHub\\Databehandling\\OS-Project\\assignment_2.ipynb Cell 43\u001b[0m line \u001b[0;36m2\n\u001b[0;32m      <a href='vscode-notebook-cell:/c%3A/Users/yonis/Documents/GitHub/Databehandling/OS-Project/assignment_2.ipynb#X60sZmlsZQ%3D%3D?line=0'>1</a>\u001b[0m \u001b[39m# Dataframe for participants and medals per year\u001b[39;00m\n\u001b[1;32m----> <a href='vscode-notebook-cell:/c%3A/Users/yonis/Documents/GitHub/Databehandling/OS-Project/assignment_2.ipynb#X60sZmlsZQ%3D%3D?line=1'>2</a>\u001b[0m grouped_participants_medals\u001b[39m=\u001b[39m final_df\u001b[39m.\u001b[39mgroupby([\u001b[39m'\u001b[39m\u001b[39mYear\u001b[39m\u001b[39m'\u001b[39m, \u001b[39m'\u001b[39m\u001b[39mSeason\u001b[39m\u001b[39m'\u001b[39m, \u001b[39m'\u001b[39m\u001b[39mCountry\u001b[39m\u001b[39m'\u001b[39m, \u001b[39m'\u001b[39m\u001b[39mContinent\u001b[39m\u001b[39m'\u001b[39m,\u001b[39m'\u001b[39m\u001b[39mCountry_latitude\u001b[39m\u001b[39m'\u001b[39m, \u001b[39m'\u001b[39m\u001b[39mCountry_longitude\u001b[39m\u001b[39m'\u001b[39m,\u001b[39m'\u001b[39m\u001b[39mContinent_latitude\u001b[39m\u001b[39m'\u001b[39m, \u001b[39m'\u001b[39m\u001b[39mContinent_longitude\u001b[39m\u001b[39m'\u001b[39m], as_index\u001b[39m=\u001b[39m\u001b[39mFalse\u001b[39;00m)[[\u001b[39m'\u001b[39m\u001b[39mName\u001b[39m\u001b[39m'\u001b[39m, \u001b[39m'\u001b[39m\u001b[39mMedal\u001b[39m\u001b[39m'\u001b[39m]]\u001b[39m.\u001b[39magg(\n\u001b[0;32m      <a href='vscode-notebook-cell:/c%3A/Users/yonis/Documents/GitHub/Databehandling/OS-Project/assignment_2.ipynb#X60sZmlsZQ%3D%3D?line=2'>3</a>\u001b[0m     {\u001b[39m'\u001b[39m\u001b[39mName\u001b[39m\u001b[39m'\u001b[39m: \u001b[39m'\u001b[39m\u001b[39mnunique\u001b[39m\u001b[39m'\u001b[39m, \u001b[39m'\u001b[39m\u001b[39mMedal\u001b[39m\u001b[39m'\u001b[39m: \u001b[39m'\u001b[39m\u001b[39mcount\u001b[39m\u001b[39m'\u001b[39m})\n",
      "\u001b[1;31mNameError\u001b[0m: name 'final_df' is not defined"
     ]
    }
   ],
   "source": [
    "# Dataframe for participants and medals per year\n",
    "grouped_participants_medals= final_df.groupby(['Year', 'Season', 'Country', 'Continent','Country_latitude', 'Country_longitude','Continent_latitude', 'Continent_longitude'], as_index=False)[['Name', 'Medal']].agg(\n",
    "    {'Name': 'nunique', 'Medal': 'count'})\n"
   ]
  },
  {
   "cell_type": "code",
   "execution_count": null,
   "metadata": {},
   "outputs": [],
   "source": [
    "grouped_participants_medals.head()"
   ]
  },
  {
   "cell_type": "code",
   "execution_count": null,
   "metadata": {},
   "outputs": [],
   "source": [
    "# Using plotly_express and mapbox to plot the amount count of Name per year and country\n",
    "\n",
    "fig = px.scatter_mapbox(grouped_participants_medals, lat=\"Country_latitude\", lon=\"Country_longitude\", size=\"Name\", color=\"Medal\", height = 800, width= 900 ,hover_name = \"Country\")\n",
    "\n",
    "display(fig.update_layout(mapbox_style=\"open-street-map\", title = \"Size according to count of participants=\"))\n"
   ]
  },
  {
   "cell_type": "markdown",
   "metadata": {},
   "source": [
    "#### Dataframe for sports per year and country"
   ]
  },
  {
   "cell_type": "code",
   "execution_count": null,
   "metadata": {},
   "outputs": [],
   "source": [
    "# Dataframe for sports per year and country\n",
    "grouped_sports = final_df.groupby(['Year', 'Season', 'Country','Continent','Country_latitude', 'Country_longitude','Continent_latitude', 'Continent_longitude'], as_index=False).agg(\n",
    "    {'Sport': 'nunique'})\n",
    "\n",
    "\n"
   ]
  },
  {
   "cell_type": "code",
   "execution_count": null,
   "metadata": {},
   "outputs": [],
   "source": [
    "grouped_sports.head()"
   ]
  },
  {
   "cell_type": "markdown",
   "metadata": {},
   "source": [
    "#### Grouped gender data per country"
   ]
  },
  {
   "cell_type": "code",
   "execution_count": null,
   "metadata": {},
   "outputs": [],
   "source": [
    "# Grouped per country and gender\n",
    "grouped_gender_country = final_df.groupby(['Year', 'Sex', 'Country', 'Continent','Country_latitude', 'Country_longitude','Continent_latitude', 'Continent_longitude'], as_index=False).agg(\n",
    "    {'Name': 'nunique'})\n",
    "\n",
    "# Rename the column \"Name\" to \"Count\"\n",
    "grouped_gender_country.rename(columns={\"Name\": \"Count\"}, inplace=True)\n"
   ]
  },
  {
   "cell_type": "code",
   "execution_count": null,
   "metadata": {},
   "outputs": [],
   "source": [
    "grouped_gender_country.head()"
   ]
  },
  {
   "cell_type": "code",
   "execution_count": null,
   "metadata": {},
   "outputs": [],
   "source": [
    "# Create a column named ratio for grouped_gender_country dataframe\n",
    "# In this column, calculate the ratio of M and F athletes per country and year\n",
    "\n",
    "grouped_gender_country['Ratio'] = grouped_gender_country.groupby(['Year', 'Country'])['Count'].transform(lambda x: x / x.sum())    # Källa\n"
   ]
  },
  {
   "cell_type": "markdown",
   "metadata": {},
   "source": [
    "#### Grouped gender data per continent"
   ]
  },
  {
   "cell_type": "code",
   "execution_count": null,
   "metadata": {},
   "outputs": [],
   "source": [
    "# Grouped per continent and gender\n",
    "grouped_gender_continent = final_df.groupby(['Year', 'Sex', 'Continent','Continent_latitude', 'Continent_longitude'], as_index=False).agg(\n",
    "{'Name': 'nunique'})\n",
    "\n",
    "\n",
    "# Rename the column \"Name\" to \"Count\"\n",
    "\n",
    "grouped_gender_continent.rename(columns={\"Name\": \"Count\"}, inplace=True)\n"
   ]
  },
  {
   "cell_type": "code",
   "execution_count": null,
   "metadata": {},
   "outputs": [],
   "source": [
    "# Create a column named ratio for grouped_gender_continent dataframe\n",
    "# In this column, calculate the ratio of M and F athletes per continent and year\n",
    "\n",
    "grouped_gender_continent['Ratio'] = grouped_gender_continent.groupby(['Year', 'Continent'])['Count'].transform(lambda x: x / x.sum())"
   ]
  },
  {
   "cell_type": "code",
   "execution_count": null,
   "metadata": {},
   "outputs": [],
   "source": [
    "grouped_gender_continent.head()"
   ]
  },
  {
   "cell_type": "markdown",
   "metadata": {},
   "source": [
    "#### Grouped gender data total for all countries "
   ]
  },
  {
   "cell_type": "code",
   "execution_count": null,
   "metadata": {},
   "outputs": [],
   "source": [
    "# Grouped data for alla countries and gender\n",
    "grouped_gender_total = final_df.groupby(['Year', 'Sex'], as_index=False).agg(\n",
    "{'Name': 'nunique'})\n",
    "\n",
    "# Rename the column \"Name\" to \"Count\"\n",
    "grouped_gender_total.rename(columns={\"Name\": \"Count\"}, inplace=True)"
   ]
  },
  {
   "cell_type": "code",
   "execution_count": null,
   "metadata": {},
   "outputs": [],
   "source": [
    "# Create a column named ratio for grouped_gender_total dataframe\n",
    "# In this column, calculate the ratio of M and F athletes per continent and year\n",
    "\n",
    "grouped_gender_total['Ratio'] = grouped_gender_total.groupby(['Year'])['Count'].transform(lambda x: x / x.sum())"
   ]
  },
  {
   "cell_type": "code",
   "execution_count": null,
   "metadata": {},
   "outputs": [],
   "source": [
    "grouped_gender_total.head()"
   ]
  },
  {
   "cell_type": "code",
   "execution_count": null,
   "metadata": {},
   "outputs": [],
   "source": []
  }
 ],
 "metadata": {
  "kernelspec": {
   "display_name": "OS-Project-3fF8y37l",
   "language": "python",
   "name": "python3"
  },
  "language_info": {
   "codemirror_mode": {
    "name": "ipython",
    "version": 3
   },
   "file_extension": ".py",
   "mimetype": "text/x-python",
   "name": "python",
   "nbconvert_exporter": "python",
   "pygments_lexer": "ipython3",
   "version": "3.11.5"
  },
  "orig_nbformat": 4
 },
 "nbformat": 4,
 "nbformat_minor": 2
}
