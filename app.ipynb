{
 "cells": [
  {
   "cell_type": "markdown",
   "metadata": {},
   "source": [
    "# Dashboard App"
   ]
  },
  {
   "cell_type": "markdown",
   "metadata": {},
   "source": [
    "#### Imports"
   ]
  },
  {
   "cell_type": "code",
   "execution_count": 53,
   "metadata": {},
   "outputs": [],
   "source": [
    "from dash import Dash, html, dcc, callback, Output, Input, dash_table\n",
    "import dash_bootstrap_components as dbc\n",
    "import plotly.express as px\n",
    "import pandas as pd\n",
    "from dash_bootstrap_templates import load_figure_template"
   ]
  },
  {
   "cell_type": "markdown",
   "metadata": {},
   "source": [
    "#### Reading data"
   ]
  },
  {
   "cell_type": "code",
   "execution_count": 54,
   "metadata": {},
   "outputs": [],
   "source": [
    "# Df All Athletes\n",
    "athlete_events = pd.read_csv(\"data/athlete_events.csv\")\n",
    "\n",
    "# Df Swedish Athletes\n",
    "sweden_athletes = pd.DataFrame(athlete_events[athlete_events[\"NOC\"] == \"SWE\"])"
   ]
  },
  {
   "cell_type": "code",
   "execution_count": 64,
   "metadata": {},
   "outputs": [
    {
     "name": "stdout",
     "output_type": "stream",
     "text": [
      "Dash app running on http://127.0.0.1:8050/\n"
     ]
    }
   ],
   "source": [
    "load_figure_template(\"quartz\")\n",
    "\n",
    "# This initializes a Dash web application, \n",
    "# applies the \"QUARTZ\" Bootstrap theme for styling, \n",
    "# and includes a viewport meta tag to ensure proper rendering on various devices.\n",
    "app = Dash(__name__, \n",
    "           external_stylesheets=[dbc.themes.QUARTZ],\n",
    "               meta_tags=[{\"name\": \"viewport\", \"content\": \"width=device-width, initial-scale=1\"}]\n",
    ")\n",
    "\n",
    "app.layout = html.Div([\n",
    "    dbc.Row(\n",
    "        [\n",
    "            dbc.Col(html.H2(\"Olympic Games Achievements 1896-2016\", className=\"text-center text-primary\")),\n",
    "        ],\n",
    "        className=\"mb-3 mt-3\", # Adding marginal bottom and top\n",
    "    ),\n",
    "    dbc.Row([\n",
    "        dbc.Col(\n",
    "            dbc.Card(\n",
    "                [\n",
    "                    dbc.CardHeader(html.H3(\"Workning Title Graph One\", className=\"text-body-tertiary\", id=\"header_graph_1\")),\n",
    "                    dbc.CardBody(dcc.Graph()),\n",
    "                ],\n",
    "                className=\"mb-3\",\n",
    "            ), xs=12, sm=11, md=10, lg=5\n",
    "        ),\n",
    "        dbc.Col(  \n",
    "            dbc.Card(\n",
    "                [\n",
    "                    dbc.CardHeader(html.H3(\"Workning Title Graph Two\", className=\"text-body-tertiary\", id=\"header_graph_2\")),\n",
    "                    dbc.CardBody(dcc.Graph()),\n",
    "                ],\n",
    "                className=\"mb-3\",\n",
    "            ), xs=12, sm=11, md=10, lg=5\n",
    "        ),\n",
    "    ], justify='evenly'),\n",
    "    dbc.Row([\n",
    "        dbc.Button(\"Reset\", id='reset-button', className='float-left', n_clicks=0), # Callback to reset page\n",
    "        dcc.Link(\"Contributors\", href=\"https://github.com/DeerBay/OS-Project/graphs/contributors\", target=\"_blank\"), # \"_blank\": Opens the linked document in a new tab or window.\n",
    "    ],style={\"margin-top\": \"20px\", \"text-align\": \"center\"})\n",
    "])\n",
    "\n",
    "app.run(debug=True, jupyter_mode='external')\n"
   ]
  }
 ],
 "metadata": {
  "kernelspec": {
   "display_name": "Data-Processing-Julia-Sjoholm-gqItj4S_",
   "language": "python",
   "name": "python3"
  },
  "language_info": {
   "codemirror_mode": {
    "name": "ipython",
    "version": 3
   },
   "file_extension": ".py",
   "mimetype": "text/x-python",
   "name": "python",
   "nbconvert_exporter": "python",
   "pygments_lexer": "ipython3",
   "version": "3.11.5"
  },
  "orig_nbformat": 4
 },
 "nbformat": 4,
 "nbformat_minor": 2
}
