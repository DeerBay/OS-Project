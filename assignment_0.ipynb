{
 "cells": [
  {
   "cell_type": "code",
   "execution_count": 73,
   "metadata": {},
   "outputs": [],
   "source": [
    "import pandas as pd\n",
    "import plotly.express as px"
   ]
  },
  {
   "cell_type": "markdown",
   "metadata": {},
   "source": [
    "# Assignment 0"
   ]
  },
  {
   "cell_type": "markdown",
   "metadata": {},
   "source": [
    "#### Reading and exploring data"
   ]
  },
  {
   "cell_type": "code",
   "execution_count": 74,
   "metadata": {},
   "outputs": [
    {
     "data": {
      "text/html": [
       "<div>\n",
       "<style scoped>\n",
       "    .dataframe tbody tr th:only-of-type {\n",
       "        vertical-align: middle;\n",
       "    }\n",
       "\n",
       "    .dataframe tbody tr th {\n",
       "        vertical-align: top;\n",
       "    }\n",
       "\n",
       "    .dataframe thead th {\n",
       "        text-align: right;\n",
       "    }\n",
       "</style>\n",
       "<table border=\"1\" class=\"dataframe\">\n",
       "  <thead>\n",
       "    <tr style=\"text-align: right;\">\n",
       "      <th></th>\n",
       "      <th>ID</th>\n",
       "      <th>Name</th>\n",
       "      <th>Sex</th>\n",
       "      <th>Age</th>\n",
       "      <th>Height</th>\n",
       "      <th>Weight</th>\n",
       "      <th>Team</th>\n",
       "      <th>NOC</th>\n",
       "      <th>Games</th>\n",
       "      <th>Year</th>\n",
       "      <th>Season</th>\n",
       "      <th>City</th>\n",
       "      <th>Sport</th>\n",
       "      <th>Event</th>\n",
       "      <th>Medal</th>\n",
       "    </tr>\n",
       "  </thead>\n",
       "  <tbody>\n",
       "    <tr>\n",
       "      <th>0</th>\n",
       "      <td>1</td>\n",
       "      <td>A Dijiang</td>\n",
       "      <td>M</td>\n",
       "      <td>24.0</td>\n",
       "      <td>180.0</td>\n",
       "      <td>80.0</td>\n",
       "      <td>China</td>\n",
       "      <td>CHN</td>\n",
       "      <td>1992 Summer</td>\n",
       "      <td>1992</td>\n",
       "      <td>Summer</td>\n",
       "      <td>Barcelona</td>\n",
       "      <td>Basketball</td>\n",
       "      <td>Basketball Men's Basketball</td>\n",
       "      <td>NaN</td>\n",
       "    </tr>\n",
       "    <tr>\n",
       "      <th>1</th>\n",
       "      <td>2</td>\n",
       "      <td>A Lamusi</td>\n",
       "      <td>M</td>\n",
       "      <td>23.0</td>\n",
       "      <td>170.0</td>\n",
       "      <td>60.0</td>\n",
       "      <td>China</td>\n",
       "      <td>CHN</td>\n",
       "      <td>2012 Summer</td>\n",
       "      <td>2012</td>\n",
       "      <td>Summer</td>\n",
       "      <td>London</td>\n",
       "      <td>Judo</td>\n",
       "      <td>Judo Men's Extra-Lightweight</td>\n",
       "      <td>NaN</td>\n",
       "    </tr>\n",
       "    <tr>\n",
       "      <th>2</th>\n",
       "      <td>3</td>\n",
       "      <td>Gunnar Nielsen Aaby</td>\n",
       "      <td>M</td>\n",
       "      <td>24.0</td>\n",
       "      <td>NaN</td>\n",
       "      <td>NaN</td>\n",
       "      <td>Denmark</td>\n",
       "      <td>DEN</td>\n",
       "      <td>1920 Summer</td>\n",
       "      <td>1920</td>\n",
       "      <td>Summer</td>\n",
       "      <td>Antwerpen</td>\n",
       "      <td>Football</td>\n",
       "      <td>Football Men's Football</td>\n",
       "      <td>NaN</td>\n",
       "    </tr>\n",
       "    <tr>\n",
       "      <th>3</th>\n",
       "      <td>4</td>\n",
       "      <td>Edgar Lindenau Aabye</td>\n",
       "      <td>M</td>\n",
       "      <td>34.0</td>\n",
       "      <td>NaN</td>\n",
       "      <td>NaN</td>\n",
       "      <td>Denmark/Sweden</td>\n",
       "      <td>DEN</td>\n",
       "      <td>1900 Summer</td>\n",
       "      <td>1900</td>\n",
       "      <td>Summer</td>\n",
       "      <td>Paris</td>\n",
       "      <td>Tug-Of-War</td>\n",
       "      <td>Tug-Of-War Men's Tug-Of-War</td>\n",
       "      <td>Gold</td>\n",
       "    </tr>\n",
       "    <tr>\n",
       "      <th>4</th>\n",
       "      <td>5</td>\n",
       "      <td>Christine Jacoba Aaftink</td>\n",
       "      <td>F</td>\n",
       "      <td>21.0</td>\n",
       "      <td>185.0</td>\n",
       "      <td>82.0</td>\n",
       "      <td>Netherlands</td>\n",
       "      <td>NED</td>\n",
       "      <td>1988 Winter</td>\n",
       "      <td>1988</td>\n",
       "      <td>Winter</td>\n",
       "      <td>Calgary</td>\n",
       "      <td>Speed Skating</td>\n",
       "      <td>Speed Skating Women's 500 metres</td>\n",
       "      <td>NaN</td>\n",
       "    </tr>\n",
       "  </tbody>\n",
       "</table>\n",
       "</div>"
      ],
      "text/plain": [
       "   ID                      Name Sex   Age  Height  Weight            Team  \\\n",
       "0   1                 A Dijiang   M  24.0   180.0    80.0           China   \n",
       "1   2                  A Lamusi   M  23.0   170.0    60.0           China   \n",
       "2   3       Gunnar Nielsen Aaby   M  24.0     NaN     NaN         Denmark   \n",
       "3   4      Edgar Lindenau Aabye   M  34.0     NaN     NaN  Denmark/Sweden   \n",
       "4   5  Christine Jacoba Aaftink   F  21.0   185.0    82.0     Netherlands   \n",
       "\n",
       "   NOC        Games  Year  Season       City          Sport  \\\n",
       "0  CHN  1992 Summer  1992  Summer  Barcelona     Basketball   \n",
       "1  CHN  2012 Summer  2012  Summer     London           Judo   \n",
       "2  DEN  1920 Summer  1920  Summer  Antwerpen       Football   \n",
       "3  DEN  1900 Summer  1900  Summer      Paris     Tug-Of-War   \n",
       "4  NED  1988 Winter  1988  Winter    Calgary  Speed Skating   \n",
       "\n",
       "                              Event Medal  \n",
       "0       Basketball Men's Basketball   NaN  \n",
       "1      Judo Men's Extra-Lightweight   NaN  \n",
       "2           Football Men's Football   NaN  \n",
       "3       Tug-Of-War Men's Tug-Of-War  Gold  \n",
       "4  Speed Skating Women's 500 metres   NaN  "
      ]
     },
     "execution_count": 74,
     "metadata": {},
     "output_type": "execute_result"
    }
   ],
   "source": [
    "# Reading the athlete_events.csv file\n",
    "athlete_events = pd.read_csv(\"data/athlete_events.csv\")\n",
    "athlete_events.head()"
   ]
  },
  {
   "cell_type": "code",
   "execution_count": 75,
   "metadata": {},
   "outputs": [
    {
     "name": "stdout",
     "output_type": "stream",
     "text": [
      "<class 'pandas.core.frame.DataFrame'>\n",
      "RangeIndex: 271116 entries, 0 to 271115\n",
      "Data columns (total 15 columns):\n",
      " #   Column  Non-Null Count   Dtype  \n",
      "---  ------  --------------   -----  \n",
      " 0   ID      271116 non-null  int64  \n",
      " 1   Name    271116 non-null  object \n",
      " 2   Sex     271116 non-null  object \n",
      " 3   Age     261642 non-null  float64\n",
      " 4   Height  210945 non-null  float64\n",
      " 5   Weight  208241 non-null  float64\n",
      " 6   Team    271116 non-null  object \n",
      " 7   NOC     271116 non-null  object \n",
      " 8   Games   271116 non-null  object \n",
      " 9   Year    271116 non-null  int64  \n",
      " 10  Season  271116 non-null  object \n",
      " 11  City    271116 non-null  object \n",
      " 12  Sport   271116 non-null  object \n",
      " 13  Event   271116 non-null  object \n",
      " 14  Medal   39783 non-null   object \n",
      "dtypes: float64(3), int64(2), object(10)\n",
      "memory usage: 31.0+ MB\n"
     ]
    }
   ],
   "source": [
    "athlete_events.info()"
   ]
  },
  {
   "cell_type": "code",
   "execution_count": 76,
   "metadata": {},
   "outputs": [
    {
     "data": {
      "text/html": [
       "<div>\n",
       "<style scoped>\n",
       "    .dataframe tbody tr th:only-of-type {\n",
       "        vertical-align: middle;\n",
       "    }\n",
       "\n",
       "    .dataframe tbody tr th {\n",
       "        vertical-align: top;\n",
       "    }\n",
       "\n",
       "    .dataframe thead th {\n",
       "        text-align: right;\n",
       "    }\n",
       "</style>\n",
       "<table border=\"1\" class=\"dataframe\">\n",
       "  <thead>\n",
       "    <tr style=\"text-align: right;\">\n",
       "      <th></th>\n",
       "      <th>NOC</th>\n",
       "      <th>region</th>\n",
       "      <th>notes</th>\n",
       "    </tr>\n",
       "  </thead>\n",
       "  <tbody>\n",
       "    <tr>\n",
       "      <th>0</th>\n",
       "      <td>AFG</td>\n",
       "      <td>Afghanistan</td>\n",
       "      <td>NaN</td>\n",
       "    </tr>\n",
       "    <tr>\n",
       "      <th>1</th>\n",
       "      <td>AHO</td>\n",
       "      <td>Curacao</td>\n",
       "      <td>Netherlands Antilles</td>\n",
       "    </tr>\n",
       "    <tr>\n",
       "      <th>2</th>\n",
       "      <td>ALB</td>\n",
       "      <td>Albania</td>\n",
       "      <td>NaN</td>\n",
       "    </tr>\n",
       "    <tr>\n",
       "      <th>3</th>\n",
       "      <td>ALG</td>\n",
       "      <td>Algeria</td>\n",
       "      <td>NaN</td>\n",
       "    </tr>\n",
       "    <tr>\n",
       "      <th>4</th>\n",
       "      <td>AND</td>\n",
       "      <td>Andorra</td>\n",
       "      <td>NaN</td>\n",
       "    </tr>\n",
       "  </tbody>\n",
       "</table>\n",
       "</div>"
      ],
      "text/plain": [
       "   NOC       region                 notes\n",
       "0  AFG  Afghanistan                   NaN\n",
       "1  AHO      Curacao  Netherlands Antilles\n",
       "2  ALB      Albania                   NaN\n",
       "3  ALG      Algeria                   NaN\n",
       "4  AND      Andorra                   NaN"
      ]
     },
     "execution_count": 76,
     "metadata": {},
     "output_type": "execute_result"
    }
   ],
   "source": [
    "# Reading the noc_regions.csv file\n",
    "noc_regions = pd.read_csv(\"data/noc_regions.csv\")\n",
    "noc_regions.head()\n"
   ]
  },
  {
   "cell_type": "code",
   "execution_count": 77,
   "metadata": {},
   "outputs": [
    {
     "name": "stdout",
     "output_type": "stream",
     "text": [
      "<class 'pandas.core.frame.DataFrame'>\n",
      "RangeIndex: 230 entries, 0 to 229\n",
      "Data columns (total 3 columns):\n",
      " #   Column  Non-Null Count  Dtype \n",
      "---  ------  --------------  ----- \n",
      " 0   NOC     230 non-null    object\n",
      " 1   region  227 non-null    object\n",
      " 2   notes   21 non-null     object\n",
      "dtypes: object(3)\n",
      "memory usage: 5.5+ KB\n"
     ]
    }
   ],
   "source": [
    "noc_regions.info()"
   ]
  },
  {
   "cell_type": "markdown",
   "metadata": {},
   "source": [
    "#### **a)** Hur många länder är med i datan?"
   ]
  },
  {
   "cell_type": "code",
   "execution_count": 78,
   "metadata": {},
   "outputs": [
    {
     "name": "stdout",
     "output_type": "stream",
     "text": [
      "There are 230 countries in the dataset.\n"
     ]
    }
   ],
   "source": [
    "# Counting the countries in the data\n",
    "count_countries = athlete_events[\"NOC\"].nunique() \n",
    "\n",
    "print(f\"There are {count_countries} countries in the dataset.\")\n"
   ]
  },
  {
   "cell_type": "markdown",
   "metadata": {},
   "source": [
    "#### **b)** Vilka länder är med? (förkortningarna räcker)"
   ]
  },
  {
   "cell_type": "code",
   "execution_count": 79,
   "metadata": {},
   "outputs": [
    {
     "name": "stdout",
     "output_type": "stream",
     "text": [
      "1: CHN\n",
      "2: DEN\n",
      "3: NED\n",
      "4: USA\n",
      "5: FIN\n",
      "6: NOR\n",
      "7: ROU\n",
      "8: EST\n",
      "9: FRA\n",
      "10: MAR\n",
      "11: ESP\n",
      "12: EGY\n",
      "13: IRI\n",
      "14: BUL\n",
      "15: ITA\n",
      "16: CHA\n",
      "17: AZE\n",
      "18: SUD\n",
      "19: RUS\n",
      "20: ARG\n",
      "21: CUB\n",
      "22: BLR\n",
      "23: GRE\n",
      "24: CMR\n",
      "25: TUR\n",
      "26: CHI\n",
      "27: MEX\n",
      "28: URS\n",
      "29: NCA\n",
      "30: HUN\n",
      "31: NGR\n",
      "32: ALG\n",
      "33: KUW\n",
      "34: BRN\n",
      "35: PAK\n",
      "36: IRQ\n",
      "37: UAR\n",
      "38: LIB\n",
      "39: QAT\n",
      "40: MAS\n",
      "41: GER\n",
      "42: CAN\n",
      "43: IRL\n",
      "44: AUS\n",
      "45: RSA\n",
      "46: ERI\n",
      "47: TAN\n",
      "48: JOR\n",
      "49: TUN\n",
      "50: LBA\n",
      "51: BEL\n",
      "52: DJI\n",
      "53: PLE\n",
      "54: COM\n",
      "55: KAZ\n",
      "56: BRU\n",
      "57: IND\n",
      "58: KSA\n",
      "59: SYR\n",
      "60: MDV\n",
      "61: ETH\n",
      "62: UAE\n",
      "63: YAR\n",
      "64: INA\n",
      "65: PHI\n",
      "66: SGP\n",
      "67: UZB\n",
      "68: KGZ\n",
      "69: TJK\n",
      "70: EUN\n",
      "71: JPN\n",
      "72: CGO\n",
      "73: SUI\n",
      "74: BRA\n",
      "75: FRG\n",
      "76: GDR\n",
      "77: MON\n",
      "78: ISR\n",
      "79: URU\n",
      "80: SWE\n",
      "81: ISV\n",
      "82: SRI\n",
      "83: ARM\n",
      "84: CIV\n",
      "85: KEN\n",
      "86: BEN\n",
      "87: UKR\n",
      "88: GBR\n",
      "89: GHA\n",
      "90: SOM\n",
      "91: LAT\n",
      "92: NIG\n",
      "93: MLI\n",
      "94: AFG\n",
      "95: POL\n",
      "96: CRC\n",
      "97: PAN\n",
      "98: GEO\n",
      "99: SLO\n",
      "100: CRO\n",
      "101: GUY\n",
      "102: NZL\n",
      "103: POR\n",
      "104: PAR\n",
      "105: ANG\n",
      "106: VEN\n",
      "107: COL\n",
      "108: BAN\n",
      "109: PER\n",
      "110: ESA\n",
      "111: PUR\n",
      "112: UGA\n",
      "113: HON\n",
      "114: ECU\n",
      "115: TKM\n",
      "116: MRI\n",
      "117: SEY\n",
      "118: TCH\n",
      "119: LUX\n",
      "120: MTN\n",
      "121: CZE\n",
      "122: SKN\n",
      "123: TTO\n",
      "124: DOM\n",
      "125: VIN\n",
      "126: JAM\n",
      "127: LBR\n",
      "128: SUR\n",
      "129: NEP\n",
      "130: MGL\n",
      "131: AUT\n",
      "132: PLW\n",
      "133: LTU\n",
      "134: TOG\n",
      "135: NAM\n",
      "136: AHO\n",
      "137: ISL\n",
      "138: ASA\n",
      "139: SAM\n",
      "140: RWA\n",
      "141: DMA\n",
      "142: HAI\n",
      "143: MLT\n",
      "144: CYP\n",
      "145: GUI\n",
      "146: BIZ\n",
      "147: YMD\n",
      "148: KOR\n",
      "149: THA\n",
      "150: BER\n",
      "151: ANZ\n",
      "152: SCG\n",
      "153: SLE\n",
      "154: PNG\n",
      "155: YEM\n",
      "156: IOA\n",
      "157: OMA\n",
      "158: FIJ\n",
      "159: VAN\n",
      "160: MDA\n",
      "161: YUG\n",
      "162: BAH\n",
      "163: GUA\n",
      "164: SRB\n",
      "165: IVB\n",
      "166: MOZ\n",
      "167: CAF\n",
      "168: MAD\n",
      "169: MAL\n",
      "170: BIH\n",
      "171: GUM\n",
      "172: CAY\n",
      "173: SVK\n",
      "174: BAR\n",
      "175: GBS\n",
      "176: TLS\n",
      "177: COD\n",
      "178: GAB\n",
      "179: SMR\n",
      "180: LAO\n",
      "181: BOT\n",
      "182: ROT\n",
      "183: CAM\n",
      "184: PRK\n",
      "185: SOL\n",
      "186: SEN\n",
      "187: CPV\n",
      "188: CRT\n",
      "189: GEQ\n",
      "190: BOL\n",
      "191: SAA\n",
      "192: AND\n",
      "193: ANT\n",
      "194: ZIM\n",
      "195: GRN\n",
      "196: HKG\n",
      "197: LCA\n",
      "198: FSM\n",
      "199: MYA\n",
      "200: MAW\n",
      "201: ZAM\n",
      "202: RHO\n",
      "203: TPE\n",
      "204: STP\n",
      "205: MKD\n",
      "206: BOH\n",
      "207: TGA\n",
      "208: LIE\n",
      "209: MNE\n",
      "210: GAM\n",
      "211: COK\n",
      "212: ALB\n",
      "213: WIF\n",
      "214: SWZ\n",
      "215: BUR\n",
      "216: NBO\n",
      "217: BDI\n",
      "218: ARU\n",
      "219: NRU\n",
      "220: VNM\n",
      "221: VIE\n",
      "222: BHU\n",
      "223: MHL\n",
      "224: KIR\n",
      "225: UNK\n",
      "226: TUV\n",
      "227: NFL\n",
      "228: KOS\n",
      "229: SSD\n",
      "230: LES\n"
     ]
    }
   ],
   "source": [
    "countries_in_dataset = athlete_events[\"NOC\"].unique()\n",
    "\n",
    "count = 1\n",
    "for countries in countries_in_dataset:\n",
    "    print(f\"{count}: {countries}\")\n",
    "    count +=1"
   ]
  },
  {
   "cell_type": "markdown",
   "metadata": {},
   "source": [
    "#### **c)** Vilka sporter är med?"
   ]
  },
  {
   "cell_type": "code",
   "execution_count": 80,
   "metadata": {},
   "outputs": [
    {
     "name": "stdout",
     "output_type": "stream",
     "text": [
      "1: Basketball\n",
      "2: Judo\n",
      "3: Football\n",
      "4: Tug-Of-War\n",
      "5: Speed Skating\n",
      "6: Cross Country Skiing\n",
      "7: Athletics\n",
      "8: Ice Hockey\n",
      "9: Swimming\n",
      "10: Badminton\n",
      "11: Sailing\n",
      "12: Biathlon\n",
      "13: Gymnastics\n",
      "14: Art Competitions\n",
      "15: Alpine Skiing\n",
      "16: Handball\n",
      "17: Weightlifting\n",
      "18: Wrestling\n",
      "19: Luge\n",
      "20: Water Polo\n",
      "21: Hockey\n",
      "22: Rowing\n",
      "23: Bobsleigh\n",
      "24: Fencing\n",
      "25: Equestrianism\n",
      "26: Shooting\n",
      "27: Boxing\n",
      "28: Taekwondo\n",
      "29: Cycling\n",
      "30: Diving\n",
      "31: Canoeing\n",
      "32: Tennis\n",
      "33: Modern Pentathlon\n",
      "34: Figure Skating\n",
      "35: Golf\n",
      "36: Softball\n",
      "37: Archery\n",
      "38: Volleyball\n",
      "39: Synchronized Swimming\n",
      "40: Table Tennis\n",
      "41: Nordic Combined\n",
      "42: Baseball\n",
      "43: Rhythmic Gymnastics\n",
      "44: Freestyle Skiing\n",
      "45: Rugby Sevens\n",
      "46: Trampolining\n",
      "47: Beach Volleyball\n",
      "48: Triathlon\n",
      "49: Ski Jumping\n",
      "50: Curling\n",
      "51: Snowboarding\n",
      "52: Rugby\n",
      "53: Short Track Speed Skating\n",
      "54: Skeleton\n",
      "55: Lacrosse\n",
      "56: Polo\n",
      "57: Cricket\n",
      "58: Racquets\n",
      "59: Motorboating\n",
      "60: Military Ski Patrol\n",
      "61: Croquet\n",
      "62: Jeu De Paume\n",
      "63: Roque\n",
      "64: Alpinism\n",
      "65: Basque Pelota\n",
      "66: Aeronautics\n"
     ]
    }
   ],
   "source": [
    "list_of_sports = athlete_events[\"Sport\"].unique()\n",
    "\n",
    "count = 1\n",
    "for sport in list_of_sports:\n",
    "    print(f\"{count}: {sport}\")\n",
    "    count +=1"
   ]
  },
  {
   "cell_type": "markdown",
   "metadata": {},
   "source": [
    "#### **d)** Vilka medaljtyper finns det?\n"
   ]
  },
  {
   "cell_type": "code",
   "execution_count": 81,
   "metadata": {},
   "outputs": [
    {
     "name": "stdout",
     "output_type": "stream",
     "text": [
      "Medals: \n",
      "Gold\n",
      "Bronze\n",
      "Silver\n"
     ]
    }
   ],
   "source": [
    "# What types of medals are there?\n",
    "medals = athlete_events['Medal'].value_counts()\n",
    "\n",
    "print(\"Medals: \")\n",
    "for i in medals.index:\n",
    "    print(i)"
   ]
  },
  {
   "cell_type": "markdown",
   "metadata": {},
   "source": [
    "#### **e)** Ta reda på statistik för åldern: medelvärde, median, min, max, standardavvikelse,\n"
   ]
  },
  {
   "cell_type": "code",
   "execution_count": 82,
   "metadata": {},
   "outputs": [
    {
     "name": "stdout",
     "output_type": "stream",
     "text": [
      "The mean age of OS participants is 25.56 years.\n",
      "The youngest OS participant is 10.00 years old.\n",
      "The oldest OS participant is 97.00 years old.\n",
      "The median age of OS participants is 24.00 years.\n",
      "The standard deviation of age of OS participants is 6.39 years.\n"
     ]
    }
   ],
   "source": [
    "# Find statistics for age: mean, median, min, max, standard deviation.\n",
    "age_os_athletes = athlete_events[\"Age\"]\n",
    "print(f\"The mean age of OS participants is {age_os_athletes.mean():.2f} years.\")\n",
    "print(f\"The youngest OS participant is {age_os_athletes.min():.2f} years old.\")\n",
    "print(f\"The oldest OS participant is {age_os_athletes.max():.2f} years old.\")\n",
    "print(f\"The median age of OS participants is {age_os_athletes.median():.2f} years.\")\n",
    "print(f\"The standard deviation of age of OS participants is {age_os_athletes.std():.2f} years.\")"
   ]
  },
  {
   "cell_type": "markdown",
   "metadata": {},
   "source": [
    "#### **f)** Utforska datan vidare med egna frågor. \n",
    "\n",
    "- Vilka år är representerade i datan?\n",
    "- Hur många vinter-OS och sommar-OS har genomförts?\n",
    "- Hur många deltagare har det varit respektive år?"
   ]
  },
  {
   "cell_type": "code",
   "execution_count": 83,
   "metadata": {},
   "outputs": [
    {
     "name": "stdout",
     "output_type": "stream",
     "text": [
      "It's 35 different years represented in the data. Ranging from 1896 to 2016. The years represented are:\n",
      "1896, 1900, 1904, 1906, 1908, 1912, 1920, 1924, 1928, 1932, 1936, 1948, 1952, 1956, 1960, 1964, 1968, 1972, 1976, 1980, 1984, 1988, 1992, 1994, 1996, 1998, 2000, 2002, 2004, 2006, 2008, 2010, 2012, 2014, 2016\n"
     ]
    }
   ],
   "source": [
    "# What years are represented in the data?\n",
    "\n",
    "years = sorted(athlete_events['Year'].unique())\n",
    "\n",
    "print(f\"It's {len(years)} different years represented in the data. Ranging from {years[0]} to {years[-1]}. The years represented are:\")\n",
    "print(\", \".join(map(str, years)))"
   ]
  },
  {
   "cell_type": "code",
   "execution_count": 84,
   "metadata": {},
   "outputs": [
    {
     "name": "stdout",
     "output_type": "stream",
     "text": [
      "There have been 29 summer Olympic Games and 22 winter Olympic Games between the years 1896-2016.\n"
     ]
    }
   ],
   "source": [
    "# How many winter and summer Olympic Games have been carried out during the time period mentioned above?\n",
    "\n",
    "summer_os = athlete_events.query('Season == \"Summer\"')['Games'].unique()\n",
    "winter_os = athlete_events.query('Season == \"Winter\"')['Games'].unique()\n",
    "\n",
    "print(f\"There have been {len(summer_os)} summer Olympic Games and {len(winter_os)} winter Olympic Games between the years {years[0]}-{years[-1]}.\")"
   ]
  },
  {
   "cell_type": "code",
   "execution_count": 85,
   "metadata": {},
   "outputs": [
    {
     "data": {
      "application/vnd.plotly.v1+json": {
       "config": {
        "plotlyServerURL": "https://plot.ly"
       },
       "data": [
        {
         "alignmentgroup": "True",
         "hovertemplate": "<b>%{hovertext}</b><br><br>Year=%{text}<br>Number of participants=%{marker.color}<extra></extra>",
         "hovertext": [
          1896,
          1900,
          1904,
          1906,
          1908,
          1912,
          1920,
          1924,
          1928,
          1932,
          1936,
          1948,
          1952,
          1956,
          1960,
          1964,
          1968,
          1972,
          1976,
          1980,
          1984,
          1988,
          1992,
          1994,
          1996,
          1998,
          2000,
          2002,
          2004,
          2006,
          2008,
          2010,
          2012,
          2014,
          2016
         ],
         "legendgroup": "",
         "marker": {
          "color": [
           176,
           1220,
           650,
           841,
           2024,
           2409,
           2675,
           3565,
           3702,
           2174,
           5138,
           5068,
           5621,
           4166,
           6012,
           6226,
           6711,
           8111,
           7194,
           6323,
           8057,
           9860,
           11172,
           1738,
           10324,
           2178,
           10639,
           2397,
           10537,
           2494,
           10880,
           2535,
           10502,
           2744,
           11174
          ],
          "coloraxis": "coloraxis",
          "pattern": {
           "shape": ""
          }
         },
         "name": "",
         "offsetgroup": "",
         "orientation": "v",
         "showlegend": false,
         "text": [
          1896,
          1900,
          1904,
          1906,
          1908,
          1912,
          1920,
          1924,
          1928,
          1932,
          1936,
          1948,
          1952,
          1956,
          1960,
          1964,
          1968,
          1972,
          1976,
          1980,
          1984,
          1988,
          1992,
          1994,
          1996,
          1998,
          2000,
          2002,
          2004,
          2006,
          2008,
          2010,
          2012,
          2014,
          2016
         ],
         "textposition": "auto",
         "type": "bar",
         "x": [
          1896,
          1900,
          1904,
          1906,
          1908,
          1912,
          1920,
          1924,
          1928,
          1932,
          1936,
          1948,
          1952,
          1956,
          1960,
          1964,
          1968,
          1972,
          1976,
          1980,
          1984,
          1988,
          1992,
          1994,
          1996,
          1998,
          2000,
          2002,
          2004,
          2006,
          2008,
          2010,
          2012,
          2014,
          2016
         ],
         "xaxis": "x",
         "y": [
          176,
          1220,
          650,
          841,
          2024,
          2409,
          2675,
          3565,
          3702,
          2174,
          5138,
          5068,
          5621,
          4166,
          6012,
          6226,
          6711,
          8111,
          7194,
          6323,
          8057,
          9860,
          11172,
          1738,
          10324,
          2178,
          10639,
          2397,
          10537,
          2494,
          10880,
          2535,
          10502,
          2744,
          11174
         ],
         "yaxis": "y"
        }
       ],
       "layout": {
        "barmode": "relative",
        "coloraxis": {
         "colorbar": {
          "title": {
           "text": "Number of participants"
          }
         },
         "colorscale": [
          [
           0,
           "#440154"
          ],
          [
           0.1111111111111111,
           "#482878"
          ],
          [
           0.2222222222222222,
           "#3e4989"
          ],
          [
           0.3333333333333333,
           "#31688e"
          ],
          [
           0.4444444444444444,
           "#26828e"
          ],
          [
           0.5555555555555556,
           "#1f9e89"
          ],
          [
           0.6666666666666666,
           "#35b779"
          ],
          [
           0.7777777777777778,
           "#6ece58"
          ],
          [
           0.8888888888888888,
           "#b5de2b"
          ],
          [
           1,
           "#fde725"
          ]
         ]
        },
        "legend": {
         "tracegroupgap": 0
        },
        "template": {
         "data": {
          "bar": [
           {
            "error_x": {
             "color": "rgb(36,36,36)"
            },
            "error_y": {
             "color": "rgb(36,36,36)"
            },
            "marker": {
             "line": {
              "color": "white",
              "width": 0.5
             },
             "pattern": {
              "fillmode": "overlay",
              "size": 10,
              "solidity": 0.2
             }
            },
            "type": "bar"
           }
          ],
          "barpolar": [
           {
            "marker": {
             "line": {
              "color": "white",
              "width": 0.5
             },
             "pattern": {
              "fillmode": "overlay",
              "size": 10,
              "solidity": 0.2
             }
            },
            "type": "barpolar"
           }
          ],
          "carpet": [
           {
            "aaxis": {
             "endlinecolor": "rgb(36,36,36)",
             "gridcolor": "white",
             "linecolor": "white",
             "minorgridcolor": "white",
             "startlinecolor": "rgb(36,36,36)"
            },
            "baxis": {
             "endlinecolor": "rgb(36,36,36)",
             "gridcolor": "white",
             "linecolor": "white",
             "minorgridcolor": "white",
             "startlinecolor": "rgb(36,36,36)"
            },
            "type": "carpet"
           }
          ],
          "choropleth": [
           {
            "colorbar": {
             "outlinewidth": 1,
             "tickcolor": "rgb(36,36,36)",
             "ticks": "outside"
            },
            "type": "choropleth"
           }
          ],
          "contour": [
           {
            "colorbar": {
             "outlinewidth": 1,
             "tickcolor": "rgb(36,36,36)",
             "ticks": "outside"
            },
            "colorscale": [
             [
              0,
              "#440154"
             ],
             [
              0.1111111111111111,
              "#482878"
             ],
             [
              0.2222222222222222,
              "#3e4989"
             ],
             [
              0.3333333333333333,
              "#31688e"
             ],
             [
              0.4444444444444444,
              "#26828e"
             ],
             [
              0.5555555555555556,
              "#1f9e89"
             ],
             [
              0.6666666666666666,
              "#35b779"
             ],
             [
              0.7777777777777778,
              "#6ece58"
             ],
             [
              0.8888888888888888,
              "#b5de2b"
             ],
             [
              1,
              "#fde725"
             ]
            ],
            "type": "contour"
           }
          ],
          "contourcarpet": [
           {
            "colorbar": {
             "outlinewidth": 1,
             "tickcolor": "rgb(36,36,36)",
             "ticks": "outside"
            },
            "type": "contourcarpet"
           }
          ],
          "heatmap": [
           {
            "colorbar": {
             "outlinewidth": 1,
             "tickcolor": "rgb(36,36,36)",
             "ticks": "outside"
            },
            "colorscale": [
             [
              0,
              "#440154"
             ],
             [
              0.1111111111111111,
              "#482878"
             ],
             [
              0.2222222222222222,
              "#3e4989"
             ],
             [
              0.3333333333333333,
              "#31688e"
             ],
             [
              0.4444444444444444,
              "#26828e"
             ],
             [
              0.5555555555555556,
              "#1f9e89"
             ],
             [
              0.6666666666666666,
              "#35b779"
             ],
             [
              0.7777777777777778,
              "#6ece58"
             ],
             [
              0.8888888888888888,
              "#b5de2b"
             ],
             [
              1,
              "#fde725"
             ]
            ],
            "type": "heatmap"
           }
          ],
          "heatmapgl": [
           {
            "colorbar": {
             "outlinewidth": 1,
             "tickcolor": "rgb(36,36,36)",
             "ticks": "outside"
            },
            "colorscale": [
             [
              0,
              "#440154"
             ],
             [
              0.1111111111111111,
              "#482878"
             ],
             [
              0.2222222222222222,
              "#3e4989"
             ],
             [
              0.3333333333333333,
              "#31688e"
             ],
             [
              0.4444444444444444,
              "#26828e"
             ],
             [
              0.5555555555555556,
              "#1f9e89"
             ],
             [
              0.6666666666666666,
              "#35b779"
             ],
             [
              0.7777777777777778,
              "#6ece58"
             ],
             [
              0.8888888888888888,
              "#b5de2b"
             ],
             [
              1,
              "#fde725"
             ]
            ],
            "type": "heatmapgl"
           }
          ],
          "histogram": [
           {
            "marker": {
             "line": {
              "color": "white",
              "width": 0.6
             }
            },
            "type": "histogram"
           }
          ],
          "histogram2d": [
           {
            "colorbar": {
             "outlinewidth": 1,
             "tickcolor": "rgb(36,36,36)",
             "ticks": "outside"
            },
            "colorscale": [
             [
              0,
              "#440154"
             ],
             [
              0.1111111111111111,
              "#482878"
             ],
             [
              0.2222222222222222,
              "#3e4989"
             ],
             [
              0.3333333333333333,
              "#31688e"
             ],
             [
              0.4444444444444444,
              "#26828e"
             ],
             [
              0.5555555555555556,
              "#1f9e89"
             ],
             [
              0.6666666666666666,
              "#35b779"
             ],
             [
              0.7777777777777778,
              "#6ece58"
             ],
             [
              0.8888888888888888,
              "#b5de2b"
             ],
             [
              1,
              "#fde725"
             ]
            ],
            "type": "histogram2d"
           }
          ],
          "histogram2dcontour": [
           {
            "colorbar": {
             "outlinewidth": 1,
             "tickcolor": "rgb(36,36,36)",
             "ticks": "outside"
            },
            "colorscale": [
             [
              0,
              "#440154"
             ],
             [
              0.1111111111111111,
              "#482878"
             ],
             [
              0.2222222222222222,
              "#3e4989"
             ],
             [
              0.3333333333333333,
              "#31688e"
             ],
             [
              0.4444444444444444,
              "#26828e"
             ],
             [
              0.5555555555555556,
              "#1f9e89"
             ],
             [
              0.6666666666666666,
              "#35b779"
             ],
             [
              0.7777777777777778,
              "#6ece58"
             ],
             [
              0.8888888888888888,
              "#b5de2b"
             ],
             [
              1,
              "#fde725"
             ]
            ],
            "type": "histogram2dcontour"
           }
          ],
          "mesh3d": [
           {
            "colorbar": {
             "outlinewidth": 1,
             "tickcolor": "rgb(36,36,36)",
             "ticks": "outside"
            },
            "type": "mesh3d"
           }
          ],
          "parcoords": [
           {
            "line": {
             "colorbar": {
              "outlinewidth": 1,
              "tickcolor": "rgb(36,36,36)",
              "ticks": "outside"
             }
            },
            "type": "parcoords"
           }
          ],
          "pie": [
           {
            "automargin": true,
            "type": "pie"
           }
          ],
          "scatter": [
           {
            "fillpattern": {
             "fillmode": "overlay",
             "size": 10,
             "solidity": 0.2
            },
            "type": "scatter"
           }
          ],
          "scatter3d": [
           {
            "line": {
             "colorbar": {
              "outlinewidth": 1,
              "tickcolor": "rgb(36,36,36)",
              "ticks": "outside"
             }
            },
            "marker": {
             "colorbar": {
              "outlinewidth": 1,
              "tickcolor": "rgb(36,36,36)",
              "ticks": "outside"
             }
            },
            "type": "scatter3d"
           }
          ],
          "scattercarpet": [
           {
            "marker": {
             "colorbar": {
              "outlinewidth": 1,
              "tickcolor": "rgb(36,36,36)",
              "ticks": "outside"
             }
            },
            "type": "scattercarpet"
           }
          ],
          "scattergeo": [
           {
            "marker": {
             "colorbar": {
              "outlinewidth": 1,
              "tickcolor": "rgb(36,36,36)",
              "ticks": "outside"
             }
            },
            "type": "scattergeo"
           }
          ],
          "scattergl": [
           {
            "marker": {
             "colorbar": {
              "outlinewidth": 1,
              "tickcolor": "rgb(36,36,36)",
              "ticks": "outside"
             }
            },
            "type": "scattergl"
           }
          ],
          "scattermapbox": [
           {
            "marker": {
             "colorbar": {
              "outlinewidth": 1,
              "tickcolor": "rgb(36,36,36)",
              "ticks": "outside"
             }
            },
            "type": "scattermapbox"
           }
          ],
          "scatterpolar": [
           {
            "marker": {
             "colorbar": {
              "outlinewidth": 1,
              "tickcolor": "rgb(36,36,36)",
              "ticks": "outside"
             }
            },
            "type": "scatterpolar"
           }
          ],
          "scatterpolargl": [
           {
            "marker": {
             "colorbar": {
              "outlinewidth": 1,
              "tickcolor": "rgb(36,36,36)",
              "ticks": "outside"
             }
            },
            "type": "scatterpolargl"
           }
          ],
          "scatterternary": [
           {
            "marker": {
             "colorbar": {
              "outlinewidth": 1,
              "tickcolor": "rgb(36,36,36)",
              "ticks": "outside"
             }
            },
            "type": "scatterternary"
           }
          ],
          "surface": [
           {
            "colorbar": {
             "outlinewidth": 1,
             "tickcolor": "rgb(36,36,36)",
             "ticks": "outside"
            },
            "colorscale": [
             [
              0,
              "#440154"
             ],
             [
              0.1111111111111111,
              "#482878"
             ],
             [
              0.2222222222222222,
              "#3e4989"
             ],
             [
              0.3333333333333333,
              "#31688e"
             ],
             [
              0.4444444444444444,
              "#26828e"
             ],
             [
              0.5555555555555556,
              "#1f9e89"
             ],
             [
              0.6666666666666666,
              "#35b779"
             ],
             [
              0.7777777777777778,
              "#6ece58"
             ],
             [
              0.8888888888888888,
              "#b5de2b"
             ],
             [
              1,
              "#fde725"
             ]
            ],
            "type": "surface"
           }
          ],
          "table": [
           {
            "cells": {
             "fill": {
              "color": "rgb(237,237,237)"
             },
             "line": {
              "color": "white"
             }
            },
            "header": {
             "fill": {
              "color": "rgb(217,217,217)"
             },
             "line": {
              "color": "white"
             }
            },
            "type": "table"
           }
          ]
         },
         "layout": {
          "annotationdefaults": {
           "arrowhead": 0,
           "arrowwidth": 1
          },
          "autotypenumbers": "strict",
          "coloraxis": {
           "colorbar": {
            "outlinewidth": 1,
            "tickcolor": "rgb(36,36,36)",
            "ticks": "outside"
           }
          },
          "colorscale": {
           "diverging": [
            [
             0,
             "rgb(103,0,31)"
            ],
            [
             0.1,
             "rgb(178,24,43)"
            ],
            [
             0.2,
             "rgb(214,96,77)"
            ],
            [
             0.3,
             "rgb(244,165,130)"
            ],
            [
             0.4,
             "rgb(253,219,199)"
            ],
            [
             0.5,
             "rgb(247,247,247)"
            ],
            [
             0.6,
             "rgb(209,229,240)"
            ],
            [
             0.7,
             "rgb(146,197,222)"
            ],
            [
             0.8,
             "rgb(67,147,195)"
            ],
            [
             0.9,
             "rgb(33,102,172)"
            ],
            [
             1,
             "rgb(5,48,97)"
            ]
           ],
           "sequential": [
            [
             0,
             "#440154"
            ],
            [
             0.1111111111111111,
             "#482878"
            ],
            [
             0.2222222222222222,
             "#3e4989"
            ],
            [
             0.3333333333333333,
             "#31688e"
            ],
            [
             0.4444444444444444,
             "#26828e"
            ],
            [
             0.5555555555555556,
             "#1f9e89"
            ],
            [
             0.6666666666666666,
             "#35b779"
            ],
            [
             0.7777777777777778,
             "#6ece58"
            ],
            [
             0.8888888888888888,
             "#b5de2b"
            ],
            [
             1,
             "#fde725"
            ]
           ],
           "sequentialminus": [
            [
             0,
             "#440154"
            ],
            [
             0.1111111111111111,
             "#482878"
            ],
            [
             0.2222222222222222,
             "#3e4989"
            ],
            [
             0.3333333333333333,
             "#31688e"
            ],
            [
             0.4444444444444444,
             "#26828e"
            ],
            [
             0.5555555555555556,
             "#1f9e89"
            ],
            [
             0.6666666666666666,
             "#35b779"
            ],
            [
             0.7777777777777778,
             "#6ece58"
            ],
            [
             0.8888888888888888,
             "#b5de2b"
            ],
            [
             1,
             "#fde725"
            ]
           ]
          },
          "colorway": [
           "#1F77B4",
           "#FF7F0E",
           "#2CA02C",
           "#D62728",
           "#9467BD",
           "#8C564B",
           "#E377C2",
           "#7F7F7F",
           "#BCBD22",
           "#17BECF"
          ],
          "font": {
           "color": "rgb(36,36,36)"
          },
          "geo": {
           "bgcolor": "white",
           "lakecolor": "white",
           "landcolor": "white",
           "showlakes": true,
           "showland": true,
           "subunitcolor": "white"
          },
          "hoverlabel": {
           "align": "left"
          },
          "hovermode": "closest",
          "mapbox": {
           "style": "light"
          },
          "paper_bgcolor": "white",
          "plot_bgcolor": "white",
          "polar": {
           "angularaxis": {
            "gridcolor": "rgb(232,232,232)",
            "linecolor": "rgb(36,36,36)",
            "showgrid": false,
            "showline": true,
            "ticks": "outside"
           },
           "bgcolor": "white",
           "radialaxis": {
            "gridcolor": "rgb(232,232,232)",
            "linecolor": "rgb(36,36,36)",
            "showgrid": false,
            "showline": true,
            "ticks": "outside"
           }
          },
          "scene": {
           "xaxis": {
            "backgroundcolor": "white",
            "gridcolor": "rgb(232,232,232)",
            "gridwidth": 2,
            "linecolor": "rgb(36,36,36)",
            "showbackground": true,
            "showgrid": false,
            "showline": true,
            "ticks": "outside",
            "zeroline": false,
            "zerolinecolor": "rgb(36,36,36)"
           },
           "yaxis": {
            "backgroundcolor": "white",
            "gridcolor": "rgb(232,232,232)",
            "gridwidth": 2,
            "linecolor": "rgb(36,36,36)",
            "showbackground": true,
            "showgrid": false,
            "showline": true,
            "ticks": "outside",
            "zeroline": false,
            "zerolinecolor": "rgb(36,36,36)"
           },
           "zaxis": {
            "backgroundcolor": "white",
            "gridcolor": "rgb(232,232,232)",
            "gridwidth": 2,
            "linecolor": "rgb(36,36,36)",
            "showbackground": true,
            "showgrid": false,
            "showline": true,
            "ticks": "outside",
            "zeroline": false,
            "zerolinecolor": "rgb(36,36,36)"
           }
          },
          "shapedefaults": {
           "fillcolor": "black",
           "line": {
            "width": 0
           },
           "opacity": 0.3
          },
          "ternary": {
           "aaxis": {
            "gridcolor": "rgb(232,232,232)",
            "linecolor": "rgb(36,36,36)",
            "showgrid": false,
            "showline": true,
            "ticks": "outside"
           },
           "baxis": {
            "gridcolor": "rgb(232,232,232)",
            "linecolor": "rgb(36,36,36)",
            "showgrid": false,
            "showline": true,
            "ticks": "outside"
           },
           "bgcolor": "white",
           "caxis": {
            "gridcolor": "rgb(232,232,232)",
            "linecolor": "rgb(36,36,36)",
            "showgrid": false,
            "showline": true,
            "ticks": "outside"
           }
          },
          "title": {
           "x": 0.05
          },
          "xaxis": {
           "automargin": true,
           "gridcolor": "rgb(232,232,232)",
           "linecolor": "rgb(36,36,36)",
           "showgrid": false,
           "showline": true,
           "ticks": "outside",
           "title": {
            "standoff": 15
           },
           "zeroline": false,
           "zerolinecolor": "rgb(36,36,36)"
          },
          "yaxis": {
           "automargin": true,
           "gridcolor": "rgb(232,232,232)",
           "linecolor": "rgb(36,36,36)",
           "showgrid": false,
           "showline": true,
           "ticks": "outside",
           "title": {
            "standoff": 15
           },
           "zeroline": false,
           "zerolinecolor": "rgb(36,36,36)"
          }
         }
        },
        "title": {
         "text": "Number Participants in Olympic Games by Year"
        },
        "xaxis": {
         "anchor": "y",
         "domain": [
          0,
          1
         ],
         "tickangle": 45,
         "title": {
          "text": "Year"
         }
        },
        "yaxis": {
         "anchor": "x",
         "domain": [
          0,
          1
         ],
         "title": {
          "text": "Number of participants"
         }
        }
       }
      }
     },
     "metadata": {},
     "output_type": "display_data"
    }
   ],
   "source": [
    "# How many participants have there been each year?\n",
    "grouped_by_year_and_ID = athlete_events.groupby('Year', as_index=False)['Name'].nunique()\n",
    "grouped_by_year_and_ID.rename(columns={'Name': 'Number of participants'}, inplace=True)\n",
    "\n",
    "fig = px.bar(\n",
    "    grouped_by_year_and_ID,\n",
    "    x='Year',\n",
    "    y='Number of participants',\n",
    "    hover_name='Year',\n",
    "    color='Number of participants',\n",
    "    template='simple_white',\n",
    "    text='Year',\n",
    "    title='Number Participants in Olympic Games by Year')\n",
    "fig.update_xaxes(tickangle=45)\n"
   ]
  },
  {
   "cell_type": "markdown",
   "metadata": {},
   "source": [
    "#### Se även till att plotta några intressanta features, exempelvis:"
   ]
  },
  {
   "cell_type": "markdown",
   "metadata": {},
   "source": [
    "#### **g)** Diagram över könsfördelningen\n"
   ]
  },
  {
   "cell_type": "markdown",
   "metadata": {},
   "source": [
    "#### **h)** Diagram över topp 10 länder som tagit flest medaljer\n"
   ]
  },
  {
   "cell_type": "markdown",
   "metadata": {},
   "source": [
    "#### **i)** Plotta gärna fler saker som är intressant."
   ]
  },
  {
   "cell_type": "code",
   "execution_count": 117,
   "metadata": {},
   "outputs": [
    {
     "data": {
      "application/vnd.plotly.v1+json": {
       "config": {
        "plotlyServerURL": "https://plot.ly"
       },
       "data": [
        {
         "hovertemplate": "<b>%{hovertext}</b><br><br>Sex=M<br>Height (cm)=%{x}<br>Weight (kg)=%{y}<extra></extra>",
         "hovertext": [
          "Finland",
          "Finland",
          "Finland",
          "Norway",
          "Sweden",
          "Japan",
          "Japan",
          "Denmark",
          "Greece",
          "Norway",
          "Denmark",
          "Sweden",
          "Sweden",
          "Italy",
          "Greece",
          "Soviet Union",
          "Soviet Union",
          "Soviet Union",
          "Soviet Union",
          "Soviet Union",
          "Soviet Union",
          "Soviet Union",
          "Soviet Union",
          "Soviet Union",
          "Soviet Union",
          "Soviet Union",
          "Sweden",
          "Soviet Union",
          "Soviet Union",
          "Soviet Union",
          "Soviet Union",
          "Sweden",
          "Germany",
          "United States",
          "Germany",
          "East Germany",
          "Unified Team",
          "Italy",
          "Soviet Union",
          "Sweden",
          "Soviet Union",
          "Hungary",
          "Sweden",
          "Sweden",
          "Norway",
          "Italy",
          "Italy",
          "Soviet Union",
          "Soviet Union",
          "Soviet Union",
          "Sweden",
          "United States",
          "Norway",
          "Poland",
          "Germany",
          "Germany",
          "Italy",
          "Italy",
          "Hungary",
          "Italy",
          "Italy",
          "Italy",
          "East Germany",
          "Norway",
          "Italy",
          "Italy",
          "Italy",
          "Sweden",
          "Norway",
          "Italy",
          "Sweden",
          "Yugoslavia",
          "Yugoslavia",
          "Sweden",
          "Sweden",
          "Italy",
          "China",
          "China",
          "China",
          "Soviet Union",
          "Soviet Union",
          "Soviet Union",
          "Soviet Union",
          "Soviet Union",
          "Soviet Union",
          "Soviet Union",
          "United States",
          "United States",
          "Italy",
          "Italy",
          "Italy",
          "Hungary",
          "United States",
          "Spain",
          "Spain",
          "Sweden",
          "Bulgaria",
          "Denmark",
          "United States",
          "Soviet Union",
          "Soviet Union",
          "Soviet Union",
          "Italy",
          "Italy",
          "Finland",
          "United States",
          "Japan",
          "Japan",
          "Japan",
          "Japan",
          "Japan",
          "Norway",
          "Sweden",
          "Norway",
          "Switzerland",
          "United States",
          "United States",
          "United States",
          "Norway",
          "China",
          "China",
          "Italy",
          "Norway",
          "Germany",
          "Germany",
          "Germany",
          "Germany",
          "Germany",
          "Sweden",
          "Sweden",
          "Denmark",
          "Norway",
          "Italy",
          "Italy",
          "Switzerland",
          "Germany",
          "Germany",
          "Germany",
          "Japan",
          "United States",
          "Bulgaria",
          "Italy",
          "United States",
          "Soviet Union",
          "Italy",
          "Sweden",
          "Sweden",
          "Sweden",
          "Philadelphia Turngemeinde, Philadelphia",
          "Switzerland",
          "Italy",
          "Italy",
          "United States",
          "Switzerland",
          "China",
          "Japan",
          "Japan",
          "Sweden",
          "Switzerland",
          "Switzerland",
          "Norway",
          "Norway",
          "Sweden",
          "Norway",
          "Germany",
          "United States",
          "Switzerland",
          "Switzerland",
          "Sweden",
          "United States",
          "Sweden",
          "Japan",
          "Japan",
          "Sweden",
          "United States",
          "Philadelphia Turngemeinde, Philadelphia",
          "United States",
          "United States",
          "United States",
          "Sweden",
          "Denmark",
          "United States",
          "United States",
          "Philadelphia Turngemeinde, Philadelphia",
          "Germany",
          "Germany",
          "Sweden",
          "Norway",
          "Denmark",
          "Sweden",
          "Sweden",
          "Sweden",
          "Sweden",
          "Ukraine",
          "China",
          "China",
          "Czechoslovakia",
          "Finland",
          "Finland",
          "Finland",
          "Sweden",
          "Japan",
          "Norway",
          "Sweden",
          "Sweden",
          "Denmark",
          "Sweden",
          "Norway",
          "Norway",
          "Denmark",
          "United States",
          "Sweden",
          "Sweden",
          "Sweden",
          "Sweden",
          "Norway",
          "Denmark",
          "Japan",
          "Japan",
          "Japan",
          "Philadelphia Turngemeinde, Philadelphia",
          "Japan",
          "Japan",
          "Japan",
          "Japan",
          "Japan",
          "Japan",
          "Japan",
          "Japan",
          "Japan",
          "Japan",
          "Japan",
          "Japan",
          "Japan",
          "Soviet Union",
          "Soviet Union",
          "Russia",
          "Soviet Union",
          "Norway",
          "Unified Team",
          "Soviet Union",
          "East Germany",
          "United States",
          "Russia",
          "Sweden",
          "Finland",
          "Sweden",
          "Sweden",
          "Denmark",
          "Sweden",
          "Austria",
          "Philadelphia Turngemeinde, Philadelphia",
          "Soviet Union",
          "Italy",
          "Italy",
          "Italy",
          "Switzerland",
          "China",
          "China",
          "China",
          "China",
          "China",
          "China",
          "China",
          "China",
          "China",
          "Norway",
          "Norway",
          "Sweden",
          "Sweden",
          "Sweden",
          "China",
          "China",
          "Italy",
          "Italy",
          "Italy",
          "Italy",
          "Norway",
          "Soviet Union",
          "Soviet Union",
          "Switzerland",
          "Switzerland",
          "Denmark",
          "Hungary",
          "Hungary",
          "Italy",
          "Italy",
          "Italy",
          "Soviet Union",
          "Italy",
          "Italy",
          "Italy",
          "Italy",
          "Italy",
          "Germany",
          "Germany",
          "Denmark",
          "Soviet Union",
          "Italy",
          "Italy",
          "Italy",
          "Norway",
          "Italy",
          "Norway",
          "Italy",
          "Greece",
          "Italy",
          "Switzerland",
          "Switzerland",
          "Switzerland",
          "Switzerland",
          "Unified Team",
          "Greece",
          "Japan",
          "Japan",
          "Japan",
          "Sweden",
          "Sweden",
          "Japan",
          "Denmark",
          "Norway",
          "Soviet Union",
          "Soviet Union",
          "Soviet Union",
          "Soviet Union",
          "Japan",
          "Japan",
          "Japan",
          "Japan",
          "Japan",
          "Japan",
          "Japan",
          "Russia",
          "Russia",
          "Russia",
          "Russia",
          "Italy",
          "Italy",
          "Italy",
          "Germany",
          "Germany",
          "Sweden",
          "Sweden",
          "Sweden",
          "Sweden",
          "Sweden",
          "Sweden",
          "Sweden",
          "Sweden",
          "Sweden",
          "Soviet Union",
          "Japan",
          "Norway",
          "Denmark",
          "Sweden",
          "Japan",
          "Japan",
          "Japan",
          "Japan",
          "Japan",
          "Norway",
          "Norway",
          "North Korea",
          "Italy",
          "Italy",
          "Italy",
          "Hungary",
          "France",
          "France",
          "Norway",
          "Denmark",
          "Hungary",
          "Hungary",
          "Soviet Union",
          "Sweden",
          "Norway",
          "Norway",
          "Sweden",
          "Greece",
          "Norway",
          "Switzerland",
          "Russia",
          "Philadelphia Turngemeinde, Philadelphia",
          "Switzerland",
          "North Korea",
          "Italy",
          "Italy",
          "Sweden",
          "Sweden",
          "Sweden",
          "Germany",
          "Germany",
          "United States",
          "Finland",
          "Norway",
          "Denmark",
          "Finland",
          "Finland",
          "Finland",
          "Italy",
          "Italy",
          "France",
          "Sweden",
          "Finland",
          "Finland",
          "Italy",
          "Norway",
          "Norway",
          "Germany",
          "Germany",
          "Germany",
          "Germany",
          "Germany",
          "Germany",
          "Germany",
          "Germany",
          "France",
          "Norway",
          "Soviet Union",
          "Soviet Union",
          "Soviet Union",
          "Soviet Union",
          "Soviet Union",
          "Soviet Union",
          "Soviet Union",
          "Soviet Union",
          "Soviet Union",
          "Unified Team",
          "Ukraine",
          "Unified Team",
          "Unified Team",
          "Unified Team",
          "Unified Team",
          "Unified Team",
          "Unified Team",
          "Canada",
          "Japan",
          "Sweden",
          "Sweden",
          "Norway",
          "Sweden",
          "Sweden",
          "Norway",
          "Sweden",
          "Sweden",
          "Sweden",
          "Sweden",
          "Sweden",
          "Denmark",
          "Switzerland",
          "Germany",
          "Switzerland",
          "Germany",
          "Germany",
          "Switzerland",
          "Sweden",
          "Soviet Union",
          "Norway",
          "Yugoslavia",
          "Yugoslavia",
          "Yugoslavia",
          "Norway",
          "Czechoslovakia",
          "Sweden",
          "Sweden",
          "Sweden",
          "Sweden",
          "Japan",
          "Greece",
          "Japan",
          "China",
          "Finland",
          "Denmark",
          "Sweden",
          "Norway",
          "Norway",
          "Soviet Union",
          "Soviet Union",
          "Soviet Union",
          "Italy",
          "Japan",
          "Sweden",
          "Sweden",
          "Russia",
          "Japan",
          "Japan",
          "Japan",
          "Japan",
          "Japan",
          "Japan",
          "Japan",
          "Japan",
          "Italy",
          "Italy",
          "Denmark",
          "Japan",
          "Japan",
          "Japan",
          "Romania",
          "Czechoslovakia",
          "Russia",
          "Denmark",
          "Ukraine",
          "United States",
          "United States",
          "Latvia",
          "Sweden",
          "Germany",
          "Sweden",
          "Soviet Union",
          "Soviet Union",
          "Unified Team",
          "Russia",
          "Norway",
          "Germany",
          "Germany",
          "Germany",
          "Germany",
          "Sweden",
          "Sweden",
          "Switzerland",
          "Great Britain",
          "Great Britain",
          "Sweden",
          "Switzerland",
          "Sweden",
          "Germany",
          "United States",
          "China",
          "China",
          "China",
          "China",
          "Japan",
          "Japan",
          "Japan",
          "South Korea",
          "China",
          "China",
          "China",
          "Japan",
          "Italy",
          "Italy",
          "Italy",
          "Italy",
          "Brazil",
          "Italy",
          "China",
          "China",
          "Netherlands",
          "Italy",
          "Italy",
          "China",
          "China",
          "China",
          "China",
          "China",
          "Switzerland"
         ],
         "legendgroup": "M",
         "marker": {
          "color": "#636efa",
          "symbol": "circle"
         },
         "mode": "markers",
         "name": "M",
         "orientation": "v",
         "showlegend": true,
         "type": "scatter",
         "x": [
          175,
          175,
          175,
          null,
          null,
          154,
          154,
          null,
          null,
          null,
          null,
          null,
          null,
          null,
          null,
          166,
          166,
          166,
          166,
          166,
          166,
          166,
          167,
          167,
          167,
          167,
          null,
          174,
          174,
          174,
          175,
          null,
          null,
          167,
          null,
          161,
          163,
          null,
          null,
          null,
          null,
          178,
          null,
          null,
          null,
          null,
          null,
          169,
          169,
          169,
          null,
          null,
          null,
          163,
          null,
          null,
          null,
          null,
          175,
          167,
          167,
          167,
          172,
          null,
          null,
          null,
          167,
          null,
          null,
          180,
          null,
          172,
          172,
          null,
          null,
          165,
          160,
          160,
          160,
          null,
          null,
          null,
          null,
          null,
          null,
          null,
          165,
          165,
          null,
          null,
          null,
          168,
          165,
          166,
          166,
          null,
          162,
          null,
          172,
          178,
          178,
          178,
          null,
          null,
          178,
          null,
          161,
          161,
          161,
          161,
          161,
          null,
          null,
          null,
          null,
          170,
          170,
          170,
          null,
          160,
          160,
          null,
          null,
          null,
          null,
          null,
          null,
          null,
          null,
          null,
          null,
          null,
          null,
          null,
          null,
          null,
          null,
          null,
          166,
          174,
          166,
          null,
          null,
          169,
          null,
          null,
          null,
          null,
          175,
          null,
          167,
          167,
          null,
          null,
          160,
          162,
          162,
          null,
          null,
          null,
          null,
          null,
          null,
          null,
          164,
          165,
          null,
          null,
          171,
          165,
          null,
          160,
          160,
          null,
          null,
          null,
          null,
          null,
          null,
          null,
          null,
          null,
          null,
          165,
          null,
          null,
          null,
          null,
          null,
          null,
          null,
          null,
          null,
          168,
          162,
          162,
          null,
          176,
          176,
          176,
          null,
          162,
          null,
          null,
          null,
          null,
          null,
          null,
          null,
          null,
          160,
          null,
          null,
          null,
          null,
          null,
          null,
          159,
          173,
          168,
          null,
          162,
          163,
          163,
          163,
          163,
          163,
          163,
          163,
          163,
          164,
          161,
          161,
          161,
          167,
          167,
          167,
          169,
          null,
          168,
          null,
          164,
          null,
          164,
          null,
          null,
          null,
          null,
          null,
          null,
          168,
          168,
          null,
          165,
          165,
          null,
          162,
          164,
          164,
          164,
          162,
          162,
          162,
          162,
          157,
          157,
          null,
          null,
          null,
          null,
          null,
          158,
          158,
          null,
          null,
          null,
          null,
          null,
          162,
          162,
          null,
          null,
          null,
          165,
          165,
          null,
          null,
          null,
          171,
          null,
          null,
          null,
          null,
          null,
          null,
          null,
          null,
          167,
          null,
          null,
          null,
          null,
          null,
          null,
          null,
          172,
          163,
          null,
          null,
          null,
          null,
          166,
          null,
          161,
          161,
          172,
          null,
          null,
          170,
          null,
          null,
          null,
          null,
          null,
          null,
          163,
          163,
          163,
          163,
          163,
          163,
          163,
          174,
          174,
          174,
          174,
          167,
          167,
          167,
          null,
          null,
          null,
          null,
          null,
          null,
          null,
          178,
          178,
          null,
          null,
          161,
          156,
          null,
          null,
          null,
          160,
          160,
          160,
          160,
          160,
          null,
          null,
          163,
          null,
          null,
          null,
          null,
          null,
          null,
          null,
          null,
          null,
          null,
          null,
          null,
          null,
          null,
          null,
          164,
          null,
          null,
          161,
          null,
          null,
          155,
          null,
          null,
          null,
          null,
          null,
          null,
          null,
          null,
          null,
          null,
          null,
          null,
          null,
          null,
          null,
          null,
          null,
          null,
          172,
          172,
          null,
          null,
          null,
          null,
          null,
          159,
          159,
          159,
          null,
          null,
          null,
          null,
          null,
          null,
          null,
          171,
          171,
          171,
          171,
          171,
          171,
          171,
          163,
          163,
          169,
          169,
          169,
          169,
          169,
          169,
          164,
          162,
          null,
          176,
          null,
          null,
          null,
          null,
          null,
          null,
          null,
          null,
          null,
          null,
          180,
          null,
          null,
          null,
          null,
          null,
          null,
          null,
          null,
          null,
          null,
          null,
          173,
          null,
          null,
          null,
          null,
          null,
          160,
          163,
          166,
          156,
          null,
          null,
          171,
          null,
          null,
          170,
          169,
          169,
          167,
          166,
          null,
          null,
          null,
          167,
          167,
          167,
          167,
          167,
          166,
          158,
          158,
          null,
          null,
          null,
          160,
          160,
          160,
          163,
          null,
          164,
          null,
          161,
          165,
          165,
          165,
          null,
          null,
          null,
          170,
          170,
          164,
          164,
          null,
          160,
          null,
          null,
          null,
          null,
          null,
          null,
          167,
          167,
          null,
          null,
          null,
          null,
          null,
          163,
          163,
          163,
          171,
          159,
          165,
          165,
          159,
          160,
          160,
          160,
          172,
          null,
          null,
          null,
          null,
          156,
          null,
          173,
          158,
          173,
          null,
          null,
          158,
          158,
          158,
          158,
          158,
          null
         ],
         "xaxis": "x",
         "y": [
          64,
          64,
          64,
          null,
          null,
          53,
          53,
          null,
          null,
          null,
          null,
          null,
          null,
          null,
          null,
          60,
          60,
          60,
          60,
          60,
          60,
          60,
          63,
          63,
          63,
          63,
          null,
          72,
          72,
          72,
          68,
          null,
          null,
          59,
          null,
          60,
          59,
          null,
          null,
          null,
          null,
          70,
          null,
          null,
          null,
          null,
          null,
          70,
          70,
          70,
          null,
          null,
          null,
          64,
          null,
          null,
          null,
          null,
          68,
          null,
          null,
          null,
          65,
          null,
          null,
          null,
          null,
          null,
          null,
          73,
          null,
          73,
          73,
          null,
          null,
          60,
          58,
          58,
          58,
          null,
          null,
          null,
          null,
          null,
          null,
          null,
          58,
          58,
          null,
          null,
          null,
          64,
          66,
          69,
          69,
          null,
          56,
          null,
          68,
          70,
          70,
          70,
          null,
          null,
          71,
          null,
          58,
          58,
          58,
          58,
          58,
          null,
          null,
          null,
          null,
          null,
          null,
          null,
          null,
          58,
          58,
          null,
          null,
          null,
          null,
          null,
          null,
          null,
          null,
          null,
          null,
          null,
          null,
          null,
          null,
          null,
          null,
          null,
          61,
          68,
          58,
          null,
          null,
          64,
          null,
          null,
          null,
          null,
          null,
          null,
          null,
          null,
          null,
          null,
          52,
          58,
          58,
          null,
          null,
          null,
          null,
          null,
          null,
          null,
          62,
          62,
          null,
          null,
          67,
          64,
          null,
          58,
          58,
          null,
          null,
          null,
          null,
          null,
          null,
          null,
          null,
          null,
          null,
          71,
          null,
          null,
          null,
          null,
          null,
          null,
          null,
          null,
          null,
          57,
          59,
          59,
          null,
          null,
          null,
          null,
          null,
          56,
          null,
          null,
          null,
          null,
          null,
          null,
          null,
          null,
          57,
          null,
          null,
          null,
          null,
          null,
          null,
          52,
          59,
          62,
          null,
          54,
          59,
          59,
          59,
          59,
          59,
          59,
          59,
          59,
          56,
          57,
          57,
          57,
          63,
          63,
          63,
          61,
          null,
          64,
          null,
          61,
          null,
          59,
          null,
          null,
          null,
          null,
          null,
          null,
          null,
          null,
          null,
          null,
          null,
          null,
          56,
          58,
          58,
          58,
          56,
          56,
          56,
          56,
          52,
          52,
          null,
          null,
          null,
          null,
          null,
          53,
          53,
          null,
          null,
          null,
          null,
          null,
          58,
          58,
          null,
          null,
          null,
          60,
          60,
          null,
          null,
          null,
          63,
          null,
          null,
          null,
          null,
          null,
          62,
          62,
          null,
          58,
          null,
          null,
          null,
          null,
          null,
          null,
          null,
          59,
          60,
          null,
          null,
          null,
          null,
          62,
          null,
          62,
          62,
          62,
          null,
          null,
          66,
          null,
          null,
          null,
          null,
          null,
          null,
          58,
          59,
          59,
          59,
          59,
          59,
          59,
          75,
          75,
          75,
          75,
          null,
          null,
          null,
          null,
          null,
          null,
          null,
          null,
          null,
          null,
          null,
          null,
          null,
          null,
          58,
          54,
          null,
          null,
          null,
          58,
          58,
          58,
          58,
          58,
          null,
          null,
          56,
          null,
          null,
          null,
          null,
          null,
          null,
          null,
          null,
          null,
          null,
          null,
          null,
          null,
          null,
          null,
          62,
          null,
          null,
          56,
          null,
          null,
          54,
          null,
          null,
          null,
          null,
          null,
          null,
          null,
          null,
          null,
          null,
          null,
          null,
          null,
          null,
          null,
          null,
          null,
          null,
          64,
          64,
          null,
          null,
          null,
          null,
          null,
          70,
          70,
          70,
          null,
          null,
          null,
          null,
          null,
          null,
          null,
          71,
          71,
          71,
          71,
          71,
          71,
          71,
          61,
          61,
          68,
          68,
          68,
          68,
          68,
          68,
          61,
          51,
          null,
          73,
          null,
          null,
          null,
          null,
          null,
          null,
          null,
          null,
          null,
          null,
          null,
          null,
          null,
          null,
          null,
          null,
          null,
          null,
          null,
          null,
          null,
          null,
          null,
          null,
          null,
          null,
          null,
          null,
          56,
          59,
          58,
          48,
          null,
          null,
          67,
          null,
          null,
          70,
          62,
          62,
          null,
          58,
          null,
          null,
          null,
          66,
          66,
          66,
          66,
          66,
          64,
          52,
          52,
          null,
          null,
          null,
          54,
          54,
          54,
          57,
          null,
          59,
          null,
          55,
          60,
          60,
          62,
          null,
          null,
          null,
          65,
          65,
          68,
          68,
          null,
          62,
          null,
          null,
          null,
          null,
          null,
          null,
          56,
          56,
          null,
          null,
          null,
          null,
          null,
          55,
          52,
          52,
          64,
          58,
          60,
          60,
          53,
          54,
          54,
          54,
          65,
          null,
          null,
          null,
          null,
          61,
          null,
          65,
          52,
          69,
          null,
          null,
          55,
          55,
          55,
          55,
          55,
          null
         ],
         "yaxis": "y"
        },
        {
         "hovertemplate": "<b>%{hovertext}</b><br><br>Sex=F<br>Height (cm)=%{x}<br>Weight (kg)=%{y}<extra></extra>",
         "hovertext": [
          "Romania",
          "Netherlands",
          "Romania",
          "Romania",
          "Romania",
          "Soviet Union",
          "Soviet Union",
          "Soviet Union",
          "Soviet Union",
          "Soviet Union",
          "Soviet Union",
          "Romania",
          "Germany",
          "Sweden",
          "United States",
          "United States",
          "United States",
          "United States",
          "Sweden",
          "Romania",
          "Soviet Union",
          "Soviet Union",
          "Hungary",
          "Soviet Union",
          "Soviet Union",
          "Unified Team",
          "United States",
          "Czechoslovakia",
          "Soviet Union",
          "Soviet Union",
          "Germany",
          "Czechoslovakia",
          "Czechoslovakia",
          "Czechoslovakia",
          "Czechoslovakia",
          "Czechoslovakia",
          "Czechoslovakia",
          "Czechoslovakia",
          "China",
          "United States",
          "Unified Team",
          "Romania",
          "Romania",
          "Romania",
          "Romania",
          "Romania",
          "Romania",
          "Soviet Union",
          "Soviet Union",
          "Soviet Union",
          "United States",
          "Netherlands",
          "China",
          "China",
          "United States",
          "United States",
          "United States",
          "Romania",
          "Soviet Union",
          "Soviet Union",
          "Germany",
          "Unified Team",
          "East Germany",
          "Romania",
          "Soviet Union",
          "Soviet Union",
          "Unified Team",
          "Hungary",
          "China",
          "China",
          "United States",
          "North Korea",
          "Czechoslovakia",
          "Soviet Union",
          "Soviet Union",
          "Unified Team",
          "Unified Team",
          "Germany",
          "Romania",
          "Romania",
          "Romania",
          "East Germany",
          "East Germany",
          "China",
          "United States",
          "Soviet Union",
          "Soviet Union",
          "Soviet Union",
          "Soviet Union",
          "Soviet Union",
          "Soviet Union",
          "Hungary",
          "Hungary",
          "Hungary",
          "Hungary",
          "Hungary",
          "Hungary",
          "Russia",
          "Russia",
          "Soviet Union",
          "Soviet Union",
          "Soviet Union",
          "Soviet Union",
          "Soviet Union",
          "United States",
          "Soviet Union",
          "Soviet Union",
          "Soviet Union",
          "Soviet Union",
          "Hungary",
          "Hungary",
          "Soviet Union",
          "Czechoslovakia",
          "Soviet Union",
          "Soviet Union",
          "Soviet Union",
          "Soviet Union",
          "Soviet Union",
          "Soviet Union",
          "Soviet Union",
          "Soviet Union",
          "Soviet Union",
          "Soviet Union",
          "Soviet Union",
          "Soviet Union",
          "Soviet Union",
          "France",
          "China",
          "Sweden",
          "China",
          "United States",
          "China",
          "Unified Team",
          "Unified Team",
          "Soviet Union",
          "Soviet Union",
          "China",
          "Soviet Union",
          "Soviet Union",
          "United States",
          "United States",
          "Germany",
          "United States",
          "United States",
          "Romania",
          "Romania",
          "Soviet Union",
          "Czechoslovakia",
          "United States",
          "Czechoslovakia",
          "Soviet Union",
          "Soviet Union",
          "Russia",
          "Russia",
          "Soviet Union",
          "Soviet Union",
          "Soviet Union",
          "Netherlands",
          "Sweden",
          "Romania",
          "Hungary",
          "United States",
          "Romania",
          "Romania",
          "Soviet Union",
          "Soviet Union",
          "Sweden",
          "Sweden",
          "United States",
          "Ukraine",
          "Ukraine",
          "Germany",
          "Netherlands",
          "Romania",
          "Romania",
          "Romania",
          "Romania",
          "Romania",
          "United States",
          "United States",
          "United States",
          "United States",
          "Sweden",
          "United States",
          "Romania",
          "Romania",
          "Czechoslovakia",
          "Soviet Union",
          "Soviet Union",
          "Sweden",
          "Germany",
          "Soviet Union",
          "Soviet Union",
          "Soviet Union",
          "Soviet Union",
          "Soviet Union",
          "Soviet Union",
          "Czechoslovakia",
          "Romania",
          "Romania",
          "Romania",
          "Romania",
          "Germany",
          "Czechoslovakia",
          "Romania",
          "Netherlands",
          "Soviet Union",
          "Romania",
          "United States",
          "Romania",
          "Romania",
          "Romania",
          "Romania",
          "Hungary",
          "Soviet Union",
          "Soviet Union",
          "Soviet Union",
          "Soviet Union",
          "Soviet Union",
          "Netherlands",
          "Netherlands",
          "Netherlands",
          "Netherlands",
          "Netherlands",
          "Czechoslovakia",
          "Soviet Union",
          "Soviet Union",
          "Netherlands",
          "United States",
          "China",
          "Soviet Union",
          "Soviet Union",
          "Russia",
          "Russia"
         ],
         "legendgroup": "F",
         "marker": {
          "color": "#EF553B",
          "symbol": "circle"
         },
         "mode": "markers",
         "name": "F",
         "orientation": "v",
         "showlegend": true,
         "type": "scatter",
         "x": [
          148,
          null,
          158,
          158,
          158,
          166,
          166,
          166,
          166,
          166,
          152,
          139,
          null,
          null,
          143,
          143,
          143,
          143,
          null,
          139,
          null,
          null,
          null,
          157,
          157,
          157,
          null,
          162,
          162,
          162,
          null,
          160,
          160,
          160,
          160,
          160,
          160,
          160,
          152,
          155,
          153,
          162,
          162,
          162,
          162,
          162,
          143,
          null,
          148,
          148,
          158,
          null,
          144,
          144,
          157,
          157,
          157,
          149,
          136,
          136,
          null,
          150,
          148,
          156,
          157,
          156,
          null,
          null,
          142,
          142,
          152,
          156,
          null,
          null,
          null,
          null,
          null,
          null,
          150,
          164,
          164,
          156,
          156,
          140,
          145,
          null,
          null,
          null,
          164,
          164,
          164,
          null,
          null,
          null,
          null,
          null,
          null,
          165,
          165,
          152,
          152,
          152,
          152,
          152,
          157,
          152,
          152,
          152,
          152,
          null,
          null,
          154,
          null,
          158,
          158,
          142,
          161,
          161,
          161,
          161,
          161,
          161,
          161,
          161,
          161,
          162,
          150,
          145,
          null,
          153,
          160,
          136,
          null,
          null,
          156,
          156,
          157,
          162,
          162,
          160,
          148,
          null,
          147,
          147,
          null,
          null,
          null,
          null,
          139,
          null,
          160,
          160,
          162,
          162,
          145,
          159,
          159,
          null,
          null,
          163,
          146,
          152,
          150,
          150,
          163,
          163,
          null,
          null,
          null,
          149,
          149,
          null,
          null,
          160,
          160,
          160,
          156,
          148,
          157,
          157,
          157,
          145,
          null,
          157,
          153,
          153,
          null,
          166,
          166,
          null,
          null,
          null,
          158,
          158,
          152,
          147,
          147,
          null,
          145,
          145,
          145,
          146,
          null,
          null,
          152,
          null,
          152,
          156,
          142,
          145,
          145,
          145,
          145,
          160,
          160,
          160,
          160,
          160,
          null,
          null,
          null,
          null,
          null,
          null,
          null,
          155,
          164,
          156,
          157,
          150,
          null,
          146,
          154,
          154
         ],
         "xaxis": "x",
         "y": [
          40,
          null,
          44,
          44,
          44,
          56,
          56,
          56,
          56,
          56,
          39,
          36,
          null,
          null,
          47,
          47,
          47,
          47,
          null,
          32,
          null,
          null,
          null,
          44,
          44,
          44,
          null,
          59,
          48,
          48,
          null,
          58,
          58,
          58,
          58,
          58,
          58,
          58,
          43,
          44,
          43,
          45,
          45,
          45,
          45,
          45,
          36,
          null,
          45,
          45,
          54,
          null,
          34,
          34,
          50,
          50,
          50,
          38,
          30,
          30,
          null,
          38,
          33,
          44,
          52,
          41,
          null,
          null,
          33,
          33,
          49,
          47,
          null,
          null,
          null,
          null,
          null,
          null,
          37,
          52,
          52,
          46,
          46,
          32,
          41,
          null,
          null,
          null,
          57,
          57,
          55,
          null,
          null,
          null,
          null,
          null,
          null,
          47,
          47,
          47,
          47,
          47,
          47,
          47,
          46,
          39,
          39,
          39,
          39,
          null,
          null,
          40,
          null,
          48,
          48,
          36,
          52,
          52,
          52,
          52,
          52,
          52,
          52,
          52,
          52,
          51,
          37,
          36,
          null,
          48,
          45,
          30,
          null,
          null,
          50,
          50,
          44,
          56,
          56,
          46,
          40,
          null,
          39,
          39,
          null,
          null,
          null,
          null,
          34,
          null,
          55,
          55,
          48,
          48,
          40,
          55,
          55,
          null,
          null,
          48,
          47,
          44,
          42,
          42,
          52,
          52,
          null,
          null,
          null,
          42,
          42,
          null,
          null,
          47,
          47,
          47,
          42,
          37,
          52,
          52,
          52,
          42,
          null,
          45,
          44,
          44,
          null,
          53,
          53,
          null,
          null,
          null,
          46,
          46,
          42,
          41,
          41,
          null,
          38,
          38,
          38,
          37,
          null,
          null,
          44,
          null,
          40,
          48,
          37,
          40,
          40,
          40,
          40,
          57,
          52,
          52,
          52,
          52,
          null,
          null,
          null,
          null,
          null,
          null,
          null,
          52,
          53,
          46,
          52,
          35,
          null,
          42,
          43,
          43
         ],
         "yaxis": "y"
        }
       ],
       "layout": {
        "height": 700,
        "legend": {
         "title": {
          "text": "Sex"
         },
         "tracegroupgap": 0
        },
        "template": {
         "data": {
          "bar": [
           {
            "error_x": {
             "color": "#2a3f5f"
            },
            "error_y": {
             "color": "#2a3f5f"
            },
            "marker": {
             "line": {
              "color": "#E5ECF6",
              "width": 0.5
             },
             "pattern": {
              "fillmode": "overlay",
              "size": 10,
              "solidity": 0.2
             }
            },
            "type": "bar"
           }
          ],
          "barpolar": [
           {
            "marker": {
             "line": {
              "color": "#E5ECF6",
              "width": 0.5
             },
             "pattern": {
              "fillmode": "overlay",
              "size": 10,
              "solidity": 0.2
             }
            },
            "type": "barpolar"
           }
          ],
          "carpet": [
           {
            "aaxis": {
             "endlinecolor": "#2a3f5f",
             "gridcolor": "white",
             "linecolor": "white",
             "minorgridcolor": "white",
             "startlinecolor": "#2a3f5f"
            },
            "baxis": {
             "endlinecolor": "#2a3f5f",
             "gridcolor": "white",
             "linecolor": "white",
             "minorgridcolor": "white",
             "startlinecolor": "#2a3f5f"
            },
            "type": "carpet"
           }
          ],
          "choropleth": [
           {
            "colorbar": {
             "outlinewidth": 0,
             "ticks": ""
            },
            "type": "choropleth"
           }
          ],
          "contour": [
           {
            "colorbar": {
             "outlinewidth": 0,
             "ticks": ""
            },
            "colorscale": [
             [
              0,
              "#0d0887"
             ],
             [
              0.1111111111111111,
              "#46039f"
             ],
             [
              0.2222222222222222,
              "#7201a8"
             ],
             [
              0.3333333333333333,
              "#9c179e"
             ],
             [
              0.4444444444444444,
              "#bd3786"
             ],
             [
              0.5555555555555556,
              "#d8576b"
             ],
             [
              0.6666666666666666,
              "#ed7953"
             ],
             [
              0.7777777777777778,
              "#fb9f3a"
             ],
             [
              0.8888888888888888,
              "#fdca26"
             ],
             [
              1,
              "#f0f921"
             ]
            ],
            "type": "contour"
           }
          ],
          "contourcarpet": [
           {
            "colorbar": {
             "outlinewidth": 0,
             "ticks": ""
            },
            "type": "contourcarpet"
           }
          ],
          "heatmap": [
           {
            "colorbar": {
             "outlinewidth": 0,
             "ticks": ""
            },
            "colorscale": [
             [
              0,
              "#0d0887"
             ],
             [
              0.1111111111111111,
              "#46039f"
             ],
             [
              0.2222222222222222,
              "#7201a8"
             ],
             [
              0.3333333333333333,
              "#9c179e"
             ],
             [
              0.4444444444444444,
              "#bd3786"
             ],
             [
              0.5555555555555556,
              "#d8576b"
             ],
             [
              0.6666666666666666,
              "#ed7953"
             ],
             [
              0.7777777777777778,
              "#fb9f3a"
             ],
             [
              0.8888888888888888,
              "#fdca26"
             ],
             [
              1,
              "#f0f921"
             ]
            ],
            "type": "heatmap"
           }
          ],
          "heatmapgl": [
           {
            "colorbar": {
             "outlinewidth": 0,
             "ticks": ""
            },
            "colorscale": [
             [
              0,
              "#0d0887"
             ],
             [
              0.1111111111111111,
              "#46039f"
             ],
             [
              0.2222222222222222,
              "#7201a8"
             ],
             [
              0.3333333333333333,
              "#9c179e"
             ],
             [
              0.4444444444444444,
              "#bd3786"
             ],
             [
              0.5555555555555556,
              "#d8576b"
             ],
             [
              0.6666666666666666,
              "#ed7953"
             ],
             [
              0.7777777777777778,
              "#fb9f3a"
             ],
             [
              0.8888888888888888,
              "#fdca26"
             ],
             [
              1,
              "#f0f921"
             ]
            ],
            "type": "heatmapgl"
           }
          ],
          "histogram": [
           {
            "marker": {
             "pattern": {
              "fillmode": "overlay",
              "size": 10,
              "solidity": 0.2
             }
            },
            "type": "histogram"
           }
          ],
          "histogram2d": [
           {
            "colorbar": {
             "outlinewidth": 0,
             "ticks": ""
            },
            "colorscale": [
             [
              0,
              "#0d0887"
             ],
             [
              0.1111111111111111,
              "#46039f"
             ],
             [
              0.2222222222222222,
              "#7201a8"
             ],
             [
              0.3333333333333333,
              "#9c179e"
             ],
             [
              0.4444444444444444,
              "#bd3786"
             ],
             [
              0.5555555555555556,
              "#d8576b"
             ],
             [
              0.6666666666666666,
              "#ed7953"
             ],
             [
              0.7777777777777778,
              "#fb9f3a"
             ],
             [
              0.8888888888888888,
              "#fdca26"
             ],
             [
              1,
              "#f0f921"
             ]
            ],
            "type": "histogram2d"
           }
          ],
          "histogram2dcontour": [
           {
            "colorbar": {
             "outlinewidth": 0,
             "ticks": ""
            },
            "colorscale": [
             [
              0,
              "#0d0887"
             ],
             [
              0.1111111111111111,
              "#46039f"
             ],
             [
              0.2222222222222222,
              "#7201a8"
             ],
             [
              0.3333333333333333,
              "#9c179e"
             ],
             [
              0.4444444444444444,
              "#bd3786"
             ],
             [
              0.5555555555555556,
              "#d8576b"
             ],
             [
              0.6666666666666666,
              "#ed7953"
             ],
             [
              0.7777777777777778,
              "#fb9f3a"
             ],
             [
              0.8888888888888888,
              "#fdca26"
             ],
             [
              1,
              "#f0f921"
             ]
            ],
            "type": "histogram2dcontour"
           }
          ],
          "mesh3d": [
           {
            "colorbar": {
             "outlinewidth": 0,
             "ticks": ""
            },
            "type": "mesh3d"
           }
          ],
          "parcoords": [
           {
            "line": {
             "colorbar": {
              "outlinewidth": 0,
              "ticks": ""
             }
            },
            "type": "parcoords"
           }
          ],
          "pie": [
           {
            "automargin": true,
            "type": "pie"
           }
          ],
          "scatter": [
           {
            "fillpattern": {
             "fillmode": "overlay",
             "size": 10,
             "solidity": 0.2
            },
            "type": "scatter"
           }
          ],
          "scatter3d": [
           {
            "line": {
             "colorbar": {
              "outlinewidth": 0,
              "ticks": ""
             }
            },
            "marker": {
             "colorbar": {
              "outlinewidth": 0,
              "ticks": ""
             }
            },
            "type": "scatter3d"
           }
          ],
          "scattercarpet": [
           {
            "marker": {
             "colorbar": {
              "outlinewidth": 0,
              "ticks": ""
             }
            },
            "type": "scattercarpet"
           }
          ],
          "scattergeo": [
           {
            "marker": {
             "colorbar": {
              "outlinewidth": 0,
              "ticks": ""
             }
            },
            "type": "scattergeo"
           }
          ],
          "scattergl": [
           {
            "marker": {
             "colorbar": {
              "outlinewidth": 0,
              "ticks": ""
             }
            },
            "type": "scattergl"
           }
          ],
          "scattermapbox": [
           {
            "marker": {
             "colorbar": {
              "outlinewidth": 0,
              "ticks": ""
             }
            },
            "type": "scattermapbox"
           }
          ],
          "scatterpolar": [
           {
            "marker": {
             "colorbar": {
              "outlinewidth": 0,
              "ticks": ""
             }
            },
            "type": "scatterpolar"
           }
          ],
          "scatterpolargl": [
           {
            "marker": {
             "colorbar": {
              "outlinewidth": 0,
              "ticks": ""
             }
            },
            "type": "scatterpolargl"
           }
          ],
          "scatterternary": [
           {
            "marker": {
             "colorbar": {
              "outlinewidth": 0,
              "ticks": ""
             }
            },
            "type": "scatterternary"
           }
          ],
          "surface": [
           {
            "colorbar": {
             "outlinewidth": 0,
             "ticks": ""
            },
            "colorscale": [
             [
              0,
              "#0d0887"
             ],
             [
              0.1111111111111111,
              "#46039f"
             ],
             [
              0.2222222222222222,
              "#7201a8"
             ],
             [
              0.3333333333333333,
              "#9c179e"
             ],
             [
              0.4444444444444444,
              "#bd3786"
             ],
             [
              0.5555555555555556,
              "#d8576b"
             ],
             [
              0.6666666666666666,
              "#ed7953"
             ],
             [
              0.7777777777777778,
              "#fb9f3a"
             ],
             [
              0.8888888888888888,
              "#fdca26"
             ],
             [
              1,
              "#f0f921"
             ]
            ],
            "type": "surface"
           }
          ],
          "table": [
           {
            "cells": {
             "fill": {
              "color": "#EBF0F8"
             },
             "line": {
              "color": "white"
             }
            },
            "header": {
             "fill": {
              "color": "#C8D4E3"
             },
             "line": {
              "color": "white"
             }
            },
            "type": "table"
           }
          ]
         },
         "layout": {
          "annotationdefaults": {
           "arrowcolor": "#2a3f5f",
           "arrowhead": 0,
           "arrowwidth": 1
          },
          "autotypenumbers": "strict",
          "coloraxis": {
           "colorbar": {
            "outlinewidth": 0,
            "ticks": ""
           }
          },
          "colorscale": {
           "diverging": [
            [
             0,
             "#8e0152"
            ],
            [
             0.1,
             "#c51b7d"
            ],
            [
             0.2,
             "#de77ae"
            ],
            [
             0.3,
             "#f1b6da"
            ],
            [
             0.4,
             "#fde0ef"
            ],
            [
             0.5,
             "#f7f7f7"
            ],
            [
             0.6,
             "#e6f5d0"
            ],
            [
             0.7,
             "#b8e186"
            ],
            [
             0.8,
             "#7fbc41"
            ],
            [
             0.9,
             "#4d9221"
            ],
            [
             1,
             "#276419"
            ]
           ],
           "sequential": [
            [
             0,
             "#0d0887"
            ],
            [
             0.1111111111111111,
             "#46039f"
            ],
            [
             0.2222222222222222,
             "#7201a8"
            ],
            [
             0.3333333333333333,
             "#9c179e"
            ],
            [
             0.4444444444444444,
             "#bd3786"
            ],
            [
             0.5555555555555556,
             "#d8576b"
            ],
            [
             0.6666666666666666,
             "#ed7953"
            ],
            [
             0.7777777777777778,
             "#fb9f3a"
            ],
            [
             0.8888888888888888,
             "#fdca26"
            ],
            [
             1,
             "#f0f921"
            ]
           ],
           "sequentialminus": [
            [
             0,
             "#0d0887"
            ],
            [
             0.1111111111111111,
             "#46039f"
            ],
            [
             0.2222222222222222,
             "#7201a8"
            ],
            [
             0.3333333333333333,
             "#9c179e"
            ],
            [
             0.4444444444444444,
             "#bd3786"
            ],
            [
             0.5555555555555556,
             "#d8576b"
            ],
            [
             0.6666666666666666,
             "#ed7953"
            ],
            [
             0.7777777777777778,
             "#fb9f3a"
            ],
            [
             0.8888888888888888,
             "#fdca26"
            ],
            [
             1,
             "#f0f921"
            ]
           ]
          },
          "colorway": [
           "#636efa",
           "#EF553B",
           "#00cc96",
           "#ab63fa",
           "#FFA15A",
           "#19d3f3",
           "#FF6692",
           "#B6E880",
           "#FF97FF",
           "#FECB52"
          ],
          "font": {
           "color": "#2a3f5f"
          },
          "geo": {
           "bgcolor": "white",
           "lakecolor": "white",
           "landcolor": "#E5ECF6",
           "showlakes": true,
           "showland": true,
           "subunitcolor": "white"
          },
          "hoverlabel": {
           "align": "left"
          },
          "hovermode": "closest",
          "mapbox": {
           "style": "light"
          },
          "paper_bgcolor": "white",
          "plot_bgcolor": "#E5ECF6",
          "polar": {
           "angularaxis": {
            "gridcolor": "white",
            "linecolor": "white",
            "ticks": ""
           },
           "bgcolor": "#E5ECF6",
           "radialaxis": {
            "gridcolor": "white",
            "linecolor": "white",
            "ticks": ""
           }
          },
          "scene": {
           "xaxis": {
            "backgroundcolor": "#E5ECF6",
            "gridcolor": "white",
            "gridwidth": 2,
            "linecolor": "white",
            "showbackground": true,
            "ticks": "",
            "zerolinecolor": "white"
           },
           "yaxis": {
            "backgroundcolor": "#E5ECF6",
            "gridcolor": "white",
            "gridwidth": 2,
            "linecolor": "white",
            "showbackground": true,
            "ticks": "",
            "zerolinecolor": "white"
           },
           "zaxis": {
            "backgroundcolor": "#E5ECF6",
            "gridcolor": "white",
            "gridwidth": 2,
            "linecolor": "white",
            "showbackground": true,
            "ticks": "",
            "zerolinecolor": "white"
           }
          },
          "shapedefaults": {
           "line": {
            "color": "#2a3f5f"
           }
          },
          "ternary": {
           "aaxis": {
            "gridcolor": "white",
            "linecolor": "white",
            "ticks": ""
           },
           "baxis": {
            "gridcolor": "white",
            "linecolor": "white",
            "ticks": ""
           },
           "bgcolor": "#E5ECF6",
           "caxis": {
            "gridcolor": "white",
            "linecolor": "white",
            "ticks": ""
           }
          },
          "title": {
           "x": 0.05
          },
          "xaxis": {
           "automargin": true,
           "gridcolor": "white",
           "linecolor": "white",
           "ticks": "",
           "title": {
            "standoff": 15
           },
           "zerolinecolor": "white",
           "zerolinewidth": 2
          },
          "yaxis": {
           "automargin": true,
           "gridcolor": "white",
           "linecolor": "white",
           "ticks": "",
           "title": {
            "standoff": 15
           },
           "zerolinecolor": "white",
           "zerolinewidth": 2
          }
         }
        },
        "title": {
         "text": "Attributes of Ultimate Gymnastics Athletes"
        },
        "xaxis": {
         "anchor": "y",
         "domain": [
          0,
          1
         ],
         "title": {
          "text": "Height (cm)"
         }
        },
        "yaxis": {
         "anchor": "x",
         "domain": [
          0,
          1
         ],
         "title": {
          "text": "Weight (kg)"
         }
        }
       }
      }
     },
     "metadata": {},
     "output_type": "display_data"
    }
   ],
   "source": [
    "# The ultimate weight and height for a OS gold medalist (in sport of ones choice)\n",
    "sport = 'Gymnastics' # This could be modified to use for the Dash app to choose a sport as a Input or Dropdown \n",
    "gold_medalists = athlete_events.query('Medal == \"Gold\" & Sport == @sport')\n",
    "\n",
    "# Scatter plot with various attributes\n",
    "fig = px.scatter(\n",
    "    gold_medalists,\n",
    "    x='Height',\n",
    "    y='Weight',\n",
    "    color='Sex',\n",
    "    hover_name='Team',\n",
    "    labels={'Height': 'Height (cm)', 'Weight': 'Weight (kg)'},\n",
    "    title=f'Attributes of Ultimate {sport} Athletes'\n",
    ")\n",
    "\n",
    "fig.update_layout(\n",
    "    xaxis_title='Height (cm)',\n",
    "    yaxis_title='Weight (kg)',\n",
    "    height=700\n",
    ")\n",
    "\n",
    "fig.show()"
   ]
  }
 ],
 "metadata": {
  "kernelspec": {
   "display_name": "databehandling-YOUNIS-MOUSSAVI-7D8IQwvr",
   "language": "python",
   "name": "python3"
  },
  "language_info": {
   "codemirror_mode": {
    "name": "ipython",
    "version": 3
   },
   "file_extension": ".py",
   "mimetype": "text/x-python",
   "name": "python",
   "nbconvert_exporter": "python",
   "pygments_lexer": "ipython3",
   "version": "3.11.5"
  }
 },
 "nbformat": 4,
 "nbformat_minor": 2
}
