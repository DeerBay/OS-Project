{
 "cells": [
  {
   "cell_type": "code",
   "execution_count": 1,
   "metadata": {},
   "outputs": [],
   "source": [
    "import pandas as pd"
   ]
  },
  {
   "cell_type": "markdown",
   "metadata": {},
   "source": [
    "# Assignment 0"
   ]
  },
  {
   "cell_type": "markdown",
   "metadata": {},
   "source": [
    "#### Reading and exploring data"
   ]
  },
  {
   "cell_type": "code",
   "execution_count": 2,
   "metadata": {},
   "outputs": [
    {
     "data": {
      "text/html": [
       "<div>\n",
       "<style scoped>\n",
       "    .dataframe tbody tr th:only-of-type {\n",
       "        vertical-align: middle;\n",
       "    }\n",
       "\n",
       "    .dataframe tbody tr th {\n",
       "        vertical-align: top;\n",
       "    }\n",
       "\n",
       "    .dataframe thead th {\n",
       "        text-align: right;\n",
       "    }\n",
       "</style>\n",
       "<table border=\"1\" class=\"dataframe\">\n",
       "  <thead>\n",
       "    <tr style=\"text-align: right;\">\n",
       "      <th></th>\n",
       "      <th>ID</th>\n",
       "      <th>Name</th>\n",
       "      <th>Sex</th>\n",
       "      <th>Age</th>\n",
       "      <th>Height</th>\n",
       "      <th>Weight</th>\n",
       "      <th>Team</th>\n",
       "      <th>NOC</th>\n",
       "      <th>Games</th>\n",
       "      <th>Year</th>\n",
       "      <th>Season</th>\n",
       "      <th>City</th>\n",
       "      <th>Sport</th>\n",
       "      <th>Event</th>\n",
       "      <th>Medal</th>\n",
       "    </tr>\n",
       "  </thead>\n",
       "  <tbody>\n",
       "    <tr>\n",
       "      <th>0</th>\n",
       "      <td>1</td>\n",
       "      <td>A Dijiang</td>\n",
       "      <td>M</td>\n",
       "      <td>24.0</td>\n",
       "      <td>180.0</td>\n",
       "      <td>80.0</td>\n",
       "      <td>China</td>\n",
       "      <td>CHN</td>\n",
       "      <td>1992 Summer</td>\n",
       "      <td>1992</td>\n",
       "      <td>Summer</td>\n",
       "      <td>Barcelona</td>\n",
       "      <td>Basketball</td>\n",
       "      <td>Basketball Men's Basketball</td>\n",
       "      <td>NaN</td>\n",
       "    </tr>\n",
       "    <tr>\n",
       "      <th>1</th>\n",
       "      <td>2</td>\n",
       "      <td>A Lamusi</td>\n",
       "      <td>M</td>\n",
       "      <td>23.0</td>\n",
       "      <td>170.0</td>\n",
       "      <td>60.0</td>\n",
       "      <td>China</td>\n",
       "      <td>CHN</td>\n",
       "      <td>2012 Summer</td>\n",
       "      <td>2012</td>\n",
       "      <td>Summer</td>\n",
       "      <td>London</td>\n",
       "      <td>Judo</td>\n",
       "      <td>Judo Men's Extra-Lightweight</td>\n",
       "      <td>NaN</td>\n",
       "    </tr>\n",
       "    <tr>\n",
       "      <th>2</th>\n",
       "      <td>3</td>\n",
       "      <td>Gunnar Nielsen Aaby</td>\n",
       "      <td>M</td>\n",
       "      <td>24.0</td>\n",
       "      <td>NaN</td>\n",
       "      <td>NaN</td>\n",
       "      <td>Denmark</td>\n",
       "      <td>DEN</td>\n",
       "      <td>1920 Summer</td>\n",
       "      <td>1920</td>\n",
       "      <td>Summer</td>\n",
       "      <td>Antwerpen</td>\n",
       "      <td>Football</td>\n",
       "      <td>Football Men's Football</td>\n",
       "      <td>NaN</td>\n",
       "    </tr>\n",
       "    <tr>\n",
       "      <th>3</th>\n",
       "      <td>4</td>\n",
       "      <td>Edgar Lindenau Aabye</td>\n",
       "      <td>M</td>\n",
       "      <td>34.0</td>\n",
       "      <td>NaN</td>\n",
       "      <td>NaN</td>\n",
       "      <td>Denmark/Sweden</td>\n",
       "      <td>DEN</td>\n",
       "      <td>1900 Summer</td>\n",
       "      <td>1900</td>\n",
       "      <td>Summer</td>\n",
       "      <td>Paris</td>\n",
       "      <td>Tug-Of-War</td>\n",
       "      <td>Tug-Of-War Men's Tug-Of-War</td>\n",
       "      <td>Gold</td>\n",
       "    </tr>\n",
       "    <tr>\n",
       "      <th>4</th>\n",
       "      <td>5</td>\n",
       "      <td>Christine Jacoba Aaftink</td>\n",
       "      <td>F</td>\n",
       "      <td>21.0</td>\n",
       "      <td>185.0</td>\n",
       "      <td>82.0</td>\n",
       "      <td>Netherlands</td>\n",
       "      <td>NED</td>\n",
       "      <td>1988 Winter</td>\n",
       "      <td>1988</td>\n",
       "      <td>Winter</td>\n",
       "      <td>Calgary</td>\n",
       "      <td>Speed Skating</td>\n",
       "      <td>Speed Skating Women's 500 metres</td>\n",
       "      <td>NaN</td>\n",
       "    </tr>\n",
       "  </tbody>\n",
       "</table>\n",
       "</div>"
      ],
      "text/plain": [
       "   ID                      Name Sex   Age  Height  Weight            Team  \\\n",
       "0   1                 A Dijiang   M  24.0   180.0    80.0           China   \n",
       "1   2                  A Lamusi   M  23.0   170.0    60.0           China   \n",
       "2   3       Gunnar Nielsen Aaby   M  24.0     NaN     NaN         Denmark   \n",
       "3   4      Edgar Lindenau Aabye   M  34.0     NaN     NaN  Denmark/Sweden   \n",
       "4   5  Christine Jacoba Aaftink   F  21.0   185.0    82.0     Netherlands   \n",
       "\n",
       "   NOC        Games  Year  Season       City          Sport  \\\n",
       "0  CHN  1992 Summer  1992  Summer  Barcelona     Basketball   \n",
       "1  CHN  2012 Summer  2012  Summer     London           Judo   \n",
       "2  DEN  1920 Summer  1920  Summer  Antwerpen       Football   \n",
       "3  DEN  1900 Summer  1900  Summer      Paris     Tug-Of-War   \n",
       "4  NED  1988 Winter  1988  Winter    Calgary  Speed Skating   \n",
       "\n",
       "                              Event Medal  \n",
       "0       Basketball Men's Basketball   NaN  \n",
       "1      Judo Men's Extra-Lightweight   NaN  \n",
       "2           Football Men's Football   NaN  \n",
       "3       Tug-Of-War Men's Tug-Of-War  Gold  \n",
       "4  Speed Skating Women's 500 metres   NaN  "
      ]
     },
     "execution_count": 2,
     "metadata": {},
     "output_type": "execute_result"
    }
   ],
   "source": [
    "# Reading the athlete_events.csv file\n",
    "athlete_events = pd.read_csv(\"data/athlete_events.csv\")\n",
    "athlete_events.head()"
   ]
  },
  {
   "cell_type": "code",
   "execution_count": 3,
   "metadata": {},
   "outputs": [
    {
     "name": "stdout",
     "output_type": "stream",
     "text": [
      "<class 'pandas.core.frame.DataFrame'>\n",
      "RangeIndex: 271116 entries, 0 to 271115\n",
      "Data columns (total 15 columns):\n",
      " #   Column  Non-Null Count   Dtype  \n",
      "---  ------  --------------   -----  \n",
      " 0   ID      271116 non-null  int64  \n",
      " 1   Name    271116 non-null  object \n",
      " 2   Sex     271116 non-null  object \n",
      " 3   Age     261642 non-null  float64\n",
      " 4   Height  210945 non-null  float64\n",
      " 5   Weight  208241 non-null  float64\n",
      " 6   Team    271116 non-null  object \n",
      " 7   NOC     271116 non-null  object \n",
      " 8   Games   271116 non-null  object \n",
      " 9   Year    271116 non-null  int64  \n",
      " 10  Season  271116 non-null  object \n",
      " 11  City    271116 non-null  object \n",
      " 12  Sport   271116 non-null  object \n",
      " 13  Event   271116 non-null  object \n",
      " 14  Medal   39783 non-null   object \n",
      "dtypes: float64(3), int64(2), object(10)\n",
      "memory usage: 31.0+ MB\n"
     ]
    }
   ],
   "source": [
    "athlete_events.info()"
   ]
  },
  {
   "cell_type": "code",
   "execution_count": 4,
   "metadata": {},
   "outputs": [
    {
     "data": {
      "text/html": [
       "<div>\n",
       "<style scoped>\n",
       "    .dataframe tbody tr th:only-of-type {\n",
       "        vertical-align: middle;\n",
       "    }\n",
       "\n",
       "    .dataframe tbody tr th {\n",
       "        vertical-align: top;\n",
       "    }\n",
       "\n",
       "    .dataframe thead th {\n",
       "        text-align: right;\n",
       "    }\n",
       "</style>\n",
       "<table border=\"1\" class=\"dataframe\">\n",
       "  <thead>\n",
       "    <tr style=\"text-align: right;\">\n",
       "      <th></th>\n",
       "      <th>NOC</th>\n",
       "      <th>region</th>\n",
       "      <th>notes</th>\n",
       "    </tr>\n",
       "  </thead>\n",
       "  <tbody>\n",
       "    <tr>\n",
       "      <th>0</th>\n",
       "      <td>AFG</td>\n",
       "      <td>Afghanistan</td>\n",
       "      <td>NaN</td>\n",
       "    </tr>\n",
       "    <tr>\n",
       "      <th>1</th>\n",
       "      <td>AHO</td>\n",
       "      <td>Curacao</td>\n",
       "      <td>Netherlands Antilles</td>\n",
       "    </tr>\n",
       "    <tr>\n",
       "      <th>2</th>\n",
       "      <td>ALB</td>\n",
       "      <td>Albania</td>\n",
       "      <td>NaN</td>\n",
       "    </tr>\n",
       "    <tr>\n",
       "      <th>3</th>\n",
       "      <td>ALG</td>\n",
       "      <td>Algeria</td>\n",
       "      <td>NaN</td>\n",
       "    </tr>\n",
       "    <tr>\n",
       "      <th>4</th>\n",
       "      <td>AND</td>\n",
       "      <td>Andorra</td>\n",
       "      <td>NaN</td>\n",
       "    </tr>\n",
       "  </tbody>\n",
       "</table>\n",
       "</div>"
      ],
      "text/plain": [
       "   NOC       region                 notes\n",
       "0  AFG  Afghanistan                   NaN\n",
       "1  AHO      Curacao  Netherlands Antilles\n",
       "2  ALB      Albania                   NaN\n",
       "3  ALG      Algeria                   NaN\n",
       "4  AND      Andorra                   NaN"
      ]
     },
     "execution_count": 4,
     "metadata": {},
     "output_type": "execute_result"
    }
   ],
   "source": [
    "# Reading the noc_regions.csv file\n",
    "noc_regions = pd.read_csv(\"data/noc_regions.csv\")\n",
    "noc_regions.head()\n"
   ]
  },
  {
   "cell_type": "code",
   "execution_count": 5,
   "metadata": {},
   "outputs": [
    {
     "name": "stdout",
     "output_type": "stream",
     "text": [
      "<class 'pandas.core.frame.DataFrame'>\n",
      "RangeIndex: 230 entries, 0 to 229\n",
      "Data columns (total 3 columns):\n",
      " #   Column  Non-Null Count  Dtype \n",
      "---  ------  --------------  ----- \n",
      " 0   NOC     230 non-null    object\n",
      " 1   region  227 non-null    object\n",
      " 2   notes   21 non-null     object\n",
      "dtypes: object(3)\n",
      "memory usage: 5.5+ KB\n"
     ]
    }
   ],
   "source": [
    "noc_regions.info()"
   ]
  },
  {
   "cell_type": "markdown",
   "metadata": {},
   "source": [
    "#### **a)** Hur många är med i datan?"
   ]
  },
  {
   "cell_type": "code",
   "execution_count": 6,
   "metadata": {},
   "outputs": [
    {
     "name": "stdout",
     "output_type": "stream",
     "text": [
      "There are 230 countries in the dataset.\n"
     ]
    }
   ],
   "source": [
    "# Counting the countries in the data\n",
    "count_countries = athlete_events[\"NOC\"].nunique() \n",
    "\n",
    "print(f\"There are {count_countries} countries in the dataset.\")\n"
   ]
  },
  {
   "cell_type": "markdown",
   "metadata": {},
   "source": [
    "#### **b)** Vilka länder är med? (förkortningarna räcker)"
   ]
  },
  {
   "cell_type": "code",
   "execution_count": 7,
   "metadata": {},
   "outputs": [
    {
     "name": "stdout",
     "output_type": "stream",
     "text": [
      "The countries in the dataset are: CHN, DEN, NED, USA, FIN, NOR, ROU, EST, FRA, MAR, ESP, EGY, IRI, BUL, ITA, CHA, AZE, SUD, RUS, ARG, CUB, BLR, GRE, CMR, TUR, CHI, MEX, URS, NCA, HUN, NGR, ALG, KUW, BRN, PAK, IRQ, UAR, LIB, QAT, MAS, GER, CAN, IRL, AUS, RSA, ERI, TAN, JOR, TUN, LBA, BEL, DJI, PLE, COM, KAZ, BRU, IND, KSA, SYR, MDV, ETH, UAE, YAR, INA, PHI, SGP, UZB, KGZ, TJK, EUN, JPN, CGO, SUI, BRA, FRG, GDR, MON, ISR, URU, SWE, ISV, SRI, ARM, CIV, KEN, BEN, UKR, GBR, GHA, SOM, LAT, NIG, MLI, AFG, POL, CRC, PAN, GEO, SLO, CRO, GUY, NZL, POR, PAR, ANG, VEN, COL, BAN, PER, ESA, PUR, UGA, HON, ECU, TKM, MRI, SEY, TCH, LUX, MTN, CZE, SKN, TTO, DOM, VIN, JAM, LBR, SUR, NEP, MGL, AUT, PLW, LTU, TOG, NAM, AHO, ISL, ASA, SAM, RWA, DMA, HAI, MLT, CYP, GUI, BIZ, YMD, KOR, THA, BER, ANZ, SCG, SLE, PNG, YEM, IOA, OMA, FIJ, VAN, MDA, YUG, BAH, GUA, SRB, IVB, MOZ, CAF, MAD, MAL, BIH, GUM, CAY, SVK, BAR, GBS, TLS, COD, GAB, SMR, LAO, BOT, ROT, CAM, PRK, SOL, SEN, CPV, CRT, GEQ, BOL, SAA, AND, ANT, ZIM, GRN, HKG, LCA, FSM, MYA, MAW, ZAM, RHO, TPE, STP, MKD, BOH, TGA, LIE, MNE, GAM, COK, ALB, WIF, SWZ, BUR, NBO, BDI, ARU, NRU, VNM, VIE, BHU, MHL, KIR, UNK, TUV, NFL, KOS, SSD, LES, "
     ]
    }
   ],
   "source": [
    "countries_in_dataset = athlete_events[\"NOC\"].unique()\n",
    "\n",
    "for i in range(1):\n",
    "    print(\"The countries in the dataset are: \", end=\"\")  \n",
    "    for country in countries_in_dataset:\n",
    "        print(country, end=\", \")"
   ]
  },
  {
   "cell_type": "markdown",
   "metadata": {},
   "source": [
    "#### **c)** Vilka sporter är med?"
   ]
  },
  {
   "cell_type": "code",
   "execution_count": 11,
   "metadata": {},
   "outputs": [
    {
     "name": "stdout",
     "output_type": "stream",
     "text": [
      "1: Basketball\n",
      "2: Judo\n",
      "3: Football\n",
      "4: Tug-Of-War\n",
      "5: Speed Skating\n",
      "6: Cross Country Skiing\n",
      "7: Athletics\n",
      "8: Ice Hockey\n",
      "9: Swimming\n",
      "10: Badminton\n",
      "11: Sailing\n",
      "12: Biathlon\n",
      "13: Gymnastics\n",
      "14: Art Competitions\n",
      "15: Alpine Skiing\n",
      "16: Handball\n",
      "17: Weightlifting\n",
      "18: Wrestling\n",
      "19: Luge\n",
      "20: Water Polo\n",
      "21: Hockey\n",
      "22: Rowing\n",
      "23: Bobsleigh\n",
      "24: Fencing\n",
      "25: Equestrianism\n",
      "26: Shooting\n",
      "27: Boxing\n",
      "28: Taekwondo\n",
      "29: Cycling\n",
      "30: Diving\n",
      "31: Canoeing\n",
      "32: Tennis\n",
      "33: Modern Pentathlon\n",
      "34: Figure Skating\n",
      "35: Golf\n",
      "36: Softball\n",
      "37: Archery\n",
      "38: Volleyball\n",
      "39: Synchronized Swimming\n",
      "40: Table Tennis\n",
      "41: Nordic Combined\n",
      "42: Baseball\n",
      "43: Rhythmic Gymnastics\n",
      "44: Freestyle Skiing\n",
      "45: Rugby Sevens\n",
      "46: Trampolining\n",
      "47: Beach Volleyball\n",
      "48: Triathlon\n",
      "49: Ski Jumping\n",
      "50: Curling\n",
      "51: Snowboarding\n",
      "52: Rugby\n",
      "53: Short Track Speed Skating\n",
      "54: Skeleton\n",
      "55: Lacrosse\n",
      "56: Polo\n",
      "57: Cricket\n",
      "58: Racquets\n",
      "59: Motorboating\n",
      "60: Military Ski Patrol\n",
      "61: Croquet\n",
      "62: Jeu De Paume\n",
      "63: Roque\n",
      "64: Alpinism\n",
      "65: Basque Pelota\n",
      "66: Aeronautics\n"
     ]
    }
   ],
   "source": [
    "list_of_sports = athlete_events[\"Sport\"].unique()\n",
    "\n",
    "count = 1\n",
    "for sport in list_of_sports:\n",
    "    print(f\"{count}: {sport}\")\n",
    "    count +=1"
   ]
  },
  {
   "cell_type": "markdown",
   "metadata": {},
   "source": [
    "#### **d)** Vilka medaljtyper finns det?\n"
   ]
  },
  {
   "cell_type": "markdown",
   "metadata": {},
   "source": [
    "#### **e)** Ta reda på statistik för åldern: medelvärde, median, min, max, standardavvikelse,\n"
   ]
  },
  {
   "cell_type": "markdown",
   "metadata": {},
   "source": [
    "#### **f)** Utforska datan vidare med egna frågor. Se även till att plotta några intressanta features, exempelvis:\n"
   ]
  },
  {
   "cell_type": "markdown",
   "metadata": {},
   "source": [
    "#### **g)** Diagram över könsfördelningen\n"
   ]
  },
  {
   "cell_type": "markdown",
   "metadata": {},
   "source": [
    "#### **h)** Diagram över topp 10 länder som tagit flest medaljer\n"
   ]
  },
  {
   "cell_type": "markdown",
   "metadata": {},
   "source": [
    "#### **i)** Plotta gärna fler saker som är intressant."
   ]
  }
 ],
 "metadata": {
  "kernelspec": {
   "display_name": "databehandling-YOUNIS-MOUSSAVI-7D8IQwvr",
   "language": "python",
   "name": "python3"
  },
  "language_info": {
   "codemirror_mode": {
    "name": "ipython",
    "version": 3
   },
   "file_extension": ".py",
   "mimetype": "text/x-python",
   "name": "python",
   "nbconvert_exporter": "python",
   "pygments_lexer": "ipython3",
   "version": "3.11.5"
  }
 },
 "nbformat": 4,
 "nbformat_minor": 2
}
