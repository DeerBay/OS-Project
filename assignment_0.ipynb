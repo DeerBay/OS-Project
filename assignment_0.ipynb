{
 "cells": [
  {
   "cell_type": "code",
   "execution_count": 1,
   "metadata": {},
   "outputs": [],
   "source": [
    "import pandas as pd"
   ]
  },
  {
   "cell_type": "markdown",
   "metadata": {},
   "source": [
    "# Assignment 0"
   ]
  },
  {
   "cell_type": "markdown",
   "metadata": {},
   "source": [
    "#### Reading and exploring data"
   ]
  },
  {
   "cell_type": "code",
   "execution_count": 2,
   "metadata": {},
   "outputs": [
    {
     "data": {
      "text/html": [
       "<div>\n",
       "<style scoped>\n",
       "    .dataframe tbody tr th:only-of-type {\n",
       "        vertical-align: middle;\n",
       "    }\n",
       "\n",
       "    .dataframe tbody tr th {\n",
       "        vertical-align: top;\n",
       "    }\n",
       "\n",
       "    .dataframe thead th {\n",
       "        text-align: right;\n",
       "    }\n",
       "</style>\n",
       "<table border=\"1\" class=\"dataframe\">\n",
       "  <thead>\n",
       "    <tr style=\"text-align: right;\">\n",
       "      <th></th>\n",
       "      <th>ID</th>\n",
       "      <th>Name</th>\n",
       "      <th>Sex</th>\n",
       "      <th>Age</th>\n",
       "      <th>Height</th>\n",
       "      <th>Weight</th>\n",
       "      <th>Team</th>\n",
       "      <th>NOC</th>\n",
       "      <th>Games</th>\n",
       "      <th>Year</th>\n",
       "      <th>Season</th>\n",
       "      <th>City</th>\n",
       "      <th>Sport</th>\n",
       "      <th>Event</th>\n",
       "      <th>Medal</th>\n",
       "    </tr>\n",
       "  </thead>\n",
       "  <tbody>\n",
       "    <tr>\n",
       "      <th>0</th>\n",
       "      <td>1</td>\n",
       "      <td>A Dijiang</td>\n",
       "      <td>M</td>\n",
       "      <td>24.0</td>\n",
       "      <td>180.0</td>\n",
       "      <td>80.0</td>\n",
       "      <td>China</td>\n",
       "      <td>CHN</td>\n",
       "      <td>1992 Summer</td>\n",
       "      <td>1992</td>\n",
       "      <td>Summer</td>\n",
       "      <td>Barcelona</td>\n",
       "      <td>Basketball</td>\n",
       "      <td>Basketball Men's Basketball</td>\n",
       "      <td>NaN</td>\n",
       "    </tr>\n",
       "    <tr>\n",
       "      <th>1</th>\n",
       "      <td>2</td>\n",
       "      <td>A Lamusi</td>\n",
       "      <td>M</td>\n",
       "      <td>23.0</td>\n",
       "      <td>170.0</td>\n",
       "      <td>60.0</td>\n",
       "      <td>China</td>\n",
       "      <td>CHN</td>\n",
       "      <td>2012 Summer</td>\n",
       "      <td>2012</td>\n",
       "      <td>Summer</td>\n",
       "      <td>London</td>\n",
       "      <td>Judo</td>\n",
       "      <td>Judo Men's Extra-Lightweight</td>\n",
       "      <td>NaN</td>\n",
       "    </tr>\n",
       "    <tr>\n",
       "      <th>2</th>\n",
       "      <td>3</td>\n",
       "      <td>Gunnar Nielsen Aaby</td>\n",
       "      <td>M</td>\n",
       "      <td>24.0</td>\n",
       "      <td>NaN</td>\n",
       "      <td>NaN</td>\n",
       "      <td>Denmark</td>\n",
       "      <td>DEN</td>\n",
       "      <td>1920 Summer</td>\n",
       "      <td>1920</td>\n",
       "      <td>Summer</td>\n",
       "      <td>Antwerpen</td>\n",
       "      <td>Football</td>\n",
       "      <td>Football Men's Football</td>\n",
       "      <td>NaN</td>\n",
       "    </tr>\n",
       "    <tr>\n",
       "      <th>3</th>\n",
       "      <td>4</td>\n",
       "      <td>Edgar Lindenau Aabye</td>\n",
       "      <td>M</td>\n",
       "      <td>34.0</td>\n",
       "      <td>NaN</td>\n",
       "      <td>NaN</td>\n",
       "      <td>Denmark/Sweden</td>\n",
       "      <td>DEN</td>\n",
       "      <td>1900 Summer</td>\n",
       "      <td>1900</td>\n",
       "      <td>Summer</td>\n",
       "      <td>Paris</td>\n",
       "      <td>Tug-Of-War</td>\n",
       "      <td>Tug-Of-War Men's Tug-Of-War</td>\n",
       "      <td>Gold</td>\n",
       "    </tr>\n",
       "    <tr>\n",
       "      <th>4</th>\n",
       "      <td>5</td>\n",
       "      <td>Christine Jacoba Aaftink</td>\n",
       "      <td>F</td>\n",
       "      <td>21.0</td>\n",
       "      <td>185.0</td>\n",
       "      <td>82.0</td>\n",
       "      <td>Netherlands</td>\n",
       "      <td>NED</td>\n",
       "      <td>1988 Winter</td>\n",
       "      <td>1988</td>\n",
       "      <td>Winter</td>\n",
       "      <td>Calgary</td>\n",
       "      <td>Speed Skating</td>\n",
       "      <td>Speed Skating Women's 500 metres</td>\n",
       "      <td>NaN</td>\n",
       "    </tr>\n",
       "  </tbody>\n",
       "</table>\n",
       "</div>"
      ],
      "text/plain": [
       "   ID                      Name Sex   Age  Height  Weight            Team  \\\n",
       "0   1                 A Dijiang   M  24.0   180.0    80.0           China   \n",
       "1   2                  A Lamusi   M  23.0   170.0    60.0           China   \n",
       "2   3       Gunnar Nielsen Aaby   M  24.0     NaN     NaN         Denmark   \n",
       "3   4      Edgar Lindenau Aabye   M  34.0     NaN     NaN  Denmark/Sweden   \n",
       "4   5  Christine Jacoba Aaftink   F  21.0   185.0    82.0     Netherlands   \n",
       "\n",
       "   NOC        Games  Year  Season       City          Sport  \\\n",
       "0  CHN  1992 Summer  1992  Summer  Barcelona     Basketball   \n",
       "1  CHN  2012 Summer  2012  Summer     London           Judo   \n",
       "2  DEN  1920 Summer  1920  Summer  Antwerpen       Football   \n",
       "3  DEN  1900 Summer  1900  Summer      Paris     Tug-Of-War   \n",
       "4  NED  1988 Winter  1988  Winter    Calgary  Speed Skating   \n",
       "\n",
       "                              Event Medal  \n",
       "0       Basketball Men's Basketball   NaN  \n",
       "1      Judo Men's Extra-Lightweight   NaN  \n",
       "2           Football Men's Football   NaN  \n",
       "3       Tug-Of-War Men's Tug-Of-War  Gold  \n",
       "4  Speed Skating Women's 500 metres   NaN  "
      ]
     },
     "execution_count": 2,
     "metadata": {},
     "output_type": "execute_result"
    }
   ],
   "source": [
    "# Reading the athlete_events.csv file\n",
    "athlete_events = pd.read_csv(\"data/athlete_events.csv\")\n",
    "athlete_events.head()"
   ]
  },
  {
   "cell_type": "code",
   "execution_count": 3,
   "metadata": {},
   "outputs": [
    {
     "name": "stdout",
     "output_type": "stream",
     "text": [
      "<class 'pandas.core.frame.DataFrame'>\n",
      "RangeIndex: 271116 entries, 0 to 271115\n",
      "Data columns (total 15 columns):\n",
      " #   Column  Non-Null Count   Dtype  \n",
      "---  ------  --------------   -----  \n",
      " 0   ID      271116 non-null  int64  \n",
      " 1   Name    271116 non-null  object \n",
      " 2   Sex     271116 non-null  object \n",
      " 3   Age     261642 non-null  float64\n",
      " 4   Height  210945 non-null  float64\n",
      " 5   Weight  208241 non-null  float64\n",
      " 6   Team    271116 non-null  object \n",
      " 7   NOC     271116 non-null  object \n",
      " 8   Games   271116 non-null  object \n",
      " 9   Year    271116 non-null  int64  \n",
      " 10  Season  271116 non-null  object \n",
      " 11  City    271116 non-null  object \n",
      " 12  Sport   271116 non-null  object \n",
      " 13  Event   271116 non-null  object \n",
      " 14  Medal   39783 non-null   object \n",
      "dtypes: float64(3), int64(2), object(10)\n",
      "memory usage: 31.0+ MB\n"
     ]
    }
   ],
   "source": [
    "athlete_events.info()"
   ]
  },
  {
   "cell_type": "code",
   "execution_count": 4,
   "metadata": {},
   "outputs": [
    {
     "data": {
      "text/html": [
       "<div>\n",
       "<style scoped>\n",
       "    .dataframe tbody tr th:only-of-type {\n",
       "        vertical-align: middle;\n",
       "    }\n",
       "\n",
       "    .dataframe tbody tr th {\n",
       "        vertical-align: top;\n",
       "    }\n",
       "\n",
       "    .dataframe thead th {\n",
       "        text-align: right;\n",
       "    }\n",
       "</style>\n",
       "<table border=\"1\" class=\"dataframe\">\n",
       "  <thead>\n",
       "    <tr style=\"text-align: right;\">\n",
       "      <th></th>\n",
       "      <th>NOC</th>\n",
       "      <th>region</th>\n",
       "      <th>notes</th>\n",
       "    </tr>\n",
       "  </thead>\n",
       "  <tbody>\n",
       "    <tr>\n",
       "      <th>0</th>\n",
       "      <td>AFG</td>\n",
       "      <td>Afghanistan</td>\n",
       "      <td>NaN</td>\n",
       "    </tr>\n",
       "    <tr>\n",
       "      <th>1</th>\n",
       "      <td>AHO</td>\n",
       "      <td>Curacao</td>\n",
       "      <td>Netherlands Antilles</td>\n",
       "    </tr>\n",
       "    <tr>\n",
       "      <th>2</th>\n",
       "      <td>ALB</td>\n",
       "      <td>Albania</td>\n",
       "      <td>NaN</td>\n",
       "    </tr>\n",
       "    <tr>\n",
       "      <th>3</th>\n",
       "      <td>ALG</td>\n",
       "      <td>Algeria</td>\n",
       "      <td>NaN</td>\n",
       "    </tr>\n",
       "    <tr>\n",
       "      <th>4</th>\n",
       "      <td>AND</td>\n",
       "      <td>Andorra</td>\n",
       "      <td>NaN</td>\n",
       "    </tr>\n",
       "  </tbody>\n",
       "</table>\n",
       "</div>"
      ],
      "text/plain": [
       "   NOC       region                 notes\n",
       "0  AFG  Afghanistan                   NaN\n",
       "1  AHO      Curacao  Netherlands Antilles\n",
       "2  ALB      Albania                   NaN\n",
       "3  ALG      Algeria                   NaN\n",
       "4  AND      Andorra                   NaN"
      ]
     },
     "execution_count": 4,
     "metadata": {},
     "output_type": "execute_result"
    }
   ],
   "source": [
    "# Reading the noc_regions.csv file\n",
    "noc_regions = pd.read_csv(\"data/noc_regions.csv\")\n",
    "noc_regions.head()\n"
   ]
  },
  {
   "cell_type": "code",
   "execution_count": 5,
   "metadata": {},
   "outputs": [
    {
     "name": "stdout",
     "output_type": "stream",
     "text": [
      "<class 'pandas.core.frame.DataFrame'>\n",
      "RangeIndex: 230 entries, 0 to 229\n",
      "Data columns (total 3 columns):\n",
      " #   Column  Non-Null Count  Dtype \n",
      "---  ------  --------------  ----- \n",
      " 0   NOC     230 non-null    object\n",
      " 1   region  227 non-null    object\n",
      " 2   notes   21 non-null     object\n",
      "dtypes: object(3)\n",
      "memory usage: 5.5+ KB\n"
     ]
    }
   ],
   "source": [
    "noc_regions.info()"
   ]
  },
  {
   "cell_type": "markdown",
   "metadata": {},
   "source": [
    "#### **a)** Hur många länder är med i datan?"
   ]
  },
  {
   "cell_type": "code",
   "execution_count": 6,
   "metadata": {},
   "outputs": [
    {
     "name": "stdout",
     "output_type": "stream",
     "text": [
      "There are 230 countries in the dataset.\n"
     ]
    }
   ],
   "source": [
    "# Counting the countries in the data\n",
    "count_countries = athlete_events[\"NOC\"].nunique() \n",
    "\n",
    "print(f\"There are {count_countries} countries in the dataset.\")\n"
   ]
  },
  {
   "cell_type": "markdown",
   "metadata": {},
   "source": [
    "#### **b)** Vilka länder är med? (förkortningarna räcker)"
   ]
  },
  {
   "cell_type": "code",
   "execution_count": 7,
   "metadata": {},
   "outputs": [
    {
     "name": "stdout",
     "output_type": "stream",
     "text": [
      "1: CHN\n",
      "2: DEN\n",
      "3: NED\n",
      "4: USA\n",
      "5: FIN\n",
      "6: NOR\n",
      "7: ROU\n",
      "8: EST\n",
      "9: FRA\n",
      "10: MAR\n",
      "11: ESP\n",
      "12: EGY\n",
      "13: IRI\n",
      "14: BUL\n",
      "15: ITA\n",
      "16: CHA\n",
      "17: AZE\n",
      "18: SUD\n",
      "19: RUS\n",
      "20: ARG\n",
      "21: CUB\n",
      "22: BLR\n",
      "23: GRE\n",
      "24: CMR\n",
      "25: TUR\n",
      "26: CHI\n",
      "27: MEX\n",
      "28: URS\n",
      "29: NCA\n",
      "30: HUN\n",
      "31: NGR\n",
      "32: ALG\n",
      "33: KUW\n",
      "34: BRN\n",
      "35: PAK\n",
      "36: IRQ\n",
      "37: UAR\n",
      "38: LIB\n",
      "39: QAT\n",
      "40: MAS\n",
      "41: GER\n",
      "42: CAN\n",
      "43: IRL\n",
      "44: AUS\n",
      "45: RSA\n",
      "46: ERI\n",
      "47: TAN\n",
      "48: JOR\n",
      "49: TUN\n",
      "50: LBA\n",
      "51: BEL\n",
      "52: DJI\n",
      "53: PLE\n",
      "54: COM\n",
      "55: KAZ\n",
      "56: BRU\n",
      "57: IND\n",
      "58: KSA\n",
      "59: SYR\n",
      "60: MDV\n",
      "61: ETH\n",
      "62: UAE\n",
      "63: YAR\n",
      "64: INA\n",
      "65: PHI\n",
      "66: SGP\n",
      "67: UZB\n",
      "68: KGZ\n",
      "69: TJK\n",
      "70: EUN\n",
      "71: JPN\n",
      "72: CGO\n",
      "73: SUI\n",
      "74: BRA\n",
      "75: FRG\n",
      "76: GDR\n",
      "77: MON\n",
      "78: ISR\n",
      "79: URU\n",
      "80: SWE\n",
      "81: ISV\n",
      "82: SRI\n",
      "83: ARM\n",
      "84: CIV\n",
      "85: KEN\n",
      "86: BEN\n",
      "87: UKR\n",
      "88: GBR\n",
      "89: GHA\n",
      "90: SOM\n",
      "91: LAT\n",
      "92: NIG\n",
      "93: MLI\n",
      "94: AFG\n",
      "95: POL\n",
      "96: CRC\n",
      "97: PAN\n",
      "98: GEO\n",
      "99: SLO\n",
      "100: CRO\n",
      "101: GUY\n",
      "102: NZL\n",
      "103: POR\n",
      "104: PAR\n",
      "105: ANG\n",
      "106: VEN\n",
      "107: COL\n",
      "108: BAN\n",
      "109: PER\n",
      "110: ESA\n",
      "111: PUR\n",
      "112: UGA\n",
      "113: HON\n",
      "114: ECU\n",
      "115: TKM\n",
      "116: MRI\n",
      "117: SEY\n",
      "118: TCH\n",
      "119: LUX\n",
      "120: MTN\n",
      "121: CZE\n",
      "122: SKN\n",
      "123: TTO\n",
      "124: DOM\n",
      "125: VIN\n",
      "126: JAM\n",
      "127: LBR\n",
      "128: SUR\n",
      "129: NEP\n",
      "130: MGL\n",
      "131: AUT\n",
      "132: PLW\n",
      "133: LTU\n",
      "134: TOG\n",
      "135: NAM\n",
      "136: AHO\n",
      "137: ISL\n",
      "138: ASA\n",
      "139: SAM\n",
      "140: RWA\n",
      "141: DMA\n",
      "142: HAI\n",
      "143: MLT\n",
      "144: CYP\n",
      "145: GUI\n",
      "146: BIZ\n",
      "147: YMD\n",
      "148: KOR\n",
      "149: THA\n",
      "150: BER\n",
      "151: ANZ\n",
      "152: SCG\n",
      "153: SLE\n",
      "154: PNG\n",
      "155: YEM\n",
      "156: IOA\n",
      "157: OMA\n",
      "158: FIJ\n",
      "159: VAN\n",
      "160: MDA\n",
      "161: YUG\n",
      "162: BAH\n",
      "163: GUA\n",
      "164: SRB\n",
      "165: IVB\n",
      "166: MOZ\n",
      "167: CAF\n",
      "168: MAD\n",
      "169: MAL\n",
      "170: BIH\n",
      "171: GUM\n",
      "172: CAY\n",
      "173: SVK\n",
      "174: BAR\n",
      "175: GBS\n",
      "176: TLS\n",
      "177: COD\n",
      "178: GAB\n",
      "179: SMR\n",
      "180: LAO\n",
      "181: BOT\n",
      "182: ROT\n",
      "183: CAM\n",
      "184: PRK\n",
      "185: SOL\n",
      "186: SEN\n",
      "187: CPV\n",
      "188: CRT\n",
      "189: GEQ\n",
      "190: BOL\n",
      "191: SAA\n",
      "192: AND\n",
      "193: ANT\n",
      "194: ZIM\n",
      "195: GRN\n",
      "196: HKG\n",
      "197: LCA\n",
      "198: FSM\n",
      "199: MYA\n",
      "200: MAW\n",
      "201: ZAM\n",
      "202: RHO\n",
      "203: TPE\n",
      "204: STP\n",
      "205: MKD\n",
      "206: BOH\n",
      "207: TGA\n",
      "208: LIE\n",
      "209: MNE\n",
      "210: GAM\n",
      "211: COK\n",
      "212: ALB\n",
      "213: WIF\n",
      "214: SWZ\n",
      "215: BUR\n",
      "216: NBO\n",
      "217: BDI\n",
      "218: ARU\n",
      "219: NRU\n",
      "220: VNM\n",
      "221: VIE\n",
      "222: BHU\n",
      "223: MHL\n",
      "224: KIR\n",
      "225: UNK\n",
      "226: TUV\n",
      "227: NFL\n",
      "228: KOS\n",
      "229: SSD\n",
      "230: LES\n"
     ]
    }
   ],
   "source": [
    "countries_in_dataset = athlete_events[\"NOC\"].unique()\n",
    "\n",
    "count = 1\n",
    "for countries in countries_in_dataset:\n",
    "    print(f\"{count}: {countries}\")\n",
    "    count +=1"
   ]
  },
  {
   "cell_type": "markdown",
   "metadata": {},
   "source": [
    "#### **c)** Vilka sporter är med?"
   ]
  },
  {
   "cell_type": "code",
   "execution_count": 8,
   "metadata": {},
   "outputs": [
    {
     "name": "stdout",
     "output_type": "stream",
     "text": [
      "1: Basketball\n",
      "2: Judo\n",
      "3: Football\n",
      "4: Tug-Of-War\n",
      "5: Speed Skating\n",
      "6: Cross Country Skiing\n",
      "7: Athletics\n",
      "8: Ice Hockey\n",
      "9: Swimming\n",
      "10: Badminton\n",
      "11: Sailing\n",
      "12: Biathlon\n",
      "13: Gymnastics\n",
      "14: Art Competitions\n",
      "15: Alpine Skiing\n",
      "16: Handball\n",
      "17: Weightlifting\n",
      "18: Wrestling\n",
      "19: Luge\n",
      "20: Water Polo\n",
      "21: Hockey\n",
      "22: Rowing\n",
      "23: Bobsleigh\n",
      "24: Fencing\n",
      "25: Equestrianism\n",
      "26: Shooting\n",
      "27: Boxing\n",
      "28: Taekwondo\n",
      "29: Cycling\n",
      "30: Diving\n",
      "31: Canoeing\n",
      "32: Tennis\n",
      "33: Modern Pentathlon\n",
      "34: Figure Skating\n",
      "35: Golf\n",
      "36: Softball\n",
      "37: Archery\n",
      "38: Volleyball\n",
      "39: Synchronized Swimming\n",
      "40: Table Tennis\n",
      "41: Nordic Combined\n",
      "42: Baseball\n",
      "43: Rhythmic Gymnastics\n",
      "44: Freestyle Skiing\n",
      "45: Rugby Sevens\n",
      "46: Trampolining\n",
      "47: Beach Volleyball\n",
      "48: Triathlon\n",
      "49: Ski Jumping\n",
      "50: Curling\n",
      "51: Snowboarding\n",
      "52: Rugby\n",
      "53: Short Track Speed Skating\n",
      "54: Skeleton\n",
      "55: Lacrosse\n",
      "56: Polo\n",
      "57: Cricket\n",
      "58: Racquets\n",
      "59: Motorboating\n",
      "60: Military Ski Patrol\n",
      "61: Croquet\n",
      "62: Jeu De Paume\n",
      "63: Roque\n",
      "64: Alpinism\n",
      "65: Basque Pelota\n",
      "66: Aeronautics\n"
     ]
    }
   ],
   "source": [
    "list_of_sports = athlete_events[\"Sport\"].unique()\n",
    "\n",
    "count = 1\n",
    "for sport in list_of_sports:\n",
    "    print(f\"{count}: {sport}\")\n",
    "    count +=1"
   ]
  },
  {
   "cell_type": "markdown",
   "metadata": {},
   "source": [
    "#### **d)** Vilka medaljtyper finns det?\n"
   ]
  },
  {
   "cell_type": "code",
   "execution_count": 9,
   "metadata": {},
   "outputs": [
    {
     "name": "stdout",
     "output_type": "stream",
     "text": [
      "Medals: \n",
      "Gold\n",
      "Bronze\n",
      "Silver\n"
     ]
    }
   ],
   "source": [
    "# What types of medals are there?\n",
    "medals = athlete_events['Medal'].value_counts()\n",
    "\n",
    "print(\"Medals: \")\n",
    "for i in medals.index:\n",
    "    print(i)"
   ]
  },
  {
   "cell_type": "markdown",
   "metadata": {},
   "source": [
    "#### **e)** Ta reda på statistik för åldern: medelvärde, median, min, max, standardavvikelse,\n"
   ]
  },
  {
   "cell_type": "code",
   "execution_count": 10,
   "metadata": {},
   "outputs": [
    {
     "name": "stdout",
     "output_type": "stream",
     "text": [
      "The mean age of OS participants is 25.56 years.\n",
      "The youngest OS participant is 10.00 years old.\n",
      "The oldest OS participant is 97.00 years old.\n",
      "The median age of OS participants is 24.00 years.\n",
      "The standard deviation of age of OS participants is 6.39 years.\n"
     ]
    }
   ],
   "source": [
    "# Find statistics for age: mean, median, min, max, standard deviation.\n",
    "age_os_athletes = athlete_events[\"Age\"]\n",
    "print(f\"The mean age of OS participants is {age_os_athletes.mean():.2f} years.\")\n",
    "print(f\"The youngest OS participant is {age_os_athletes.min():.2f} years old.\")\n",
    "print(f\"The oldest OS participant is {age_os_athletes.max():.2f} years old.\")\n",
    "print(f\"The median age of OS participants is {age_os_athletes.median():.2f} years.\")\n",
    "print(f\"The standard deviation of age of OS participants is {age_os_athletes.std():.2f} years.\")"
   ]
  },
  {
   "cell_type": "markdown",
   "metadata": {},
   "source": [
    "#### **f)** Utforska datan vidare med egna frågor. \n",
    "\n",
    "- Vilka år är representerade i datan?\n",
    "- Hur många vinter-OS och sommar-OS har genomförts?\n",
    "- Hur många deltagare har det varit respektive år?"
   ]
  },
  {
   "cell_type": "code",
   "execution_count": 59,
   "metadata": {},
   "outputs": [
    {
     "name": "stdout",
     "output_type": "stream",
     "text": [
      "It's 35 different years represented in the data. Ranging from 1896 to 2016. The years represented are:\n",
      "1896, 1900, 1904, 1906, 1908, 1912, 1920, 1924, 1928, 1932, 1936, 1948, 1952, 1956, 1960, 1964, 1968, 1972, 1976, 1980, 1984, 1988, 1992, 1994, 1996, 1998, 2000, 2002, 2004, 2006, 2008, 2010, 2012, 2014, 2016\n"
     ]
    }
   ],
   "source": [
    "# What years are represented in the data?\n",
    "\n",
    "years = sorted(athlete_events['Year'].unique())\n",
    "\n",
    "print(f\"It's {len(years)} different years represented in the data. Ranging from {years[0]} to {years[-1]}. The years represented are:\")\n",
    "print(\", \".join(map(str, years)))"
   ]
  },
  {
   "cell_type": "code",
   "execution_count": 41,
   "metadata": {},
   "outputs": [
    {
     "name": "stdout",
     "output_type": "stream",
     "text": [
      "There have been 29 summer Olympic Games and 22 winter Olympic Games between the years 1896-2016.\n"
     ]
    }
   ],
   "source": [
    "# How many winter and summer Olympic Games have been carried out during the time period mentioned above?\n",
    "\n",
    "summer_os = athlete_events.query('Season == \"Summer\"')['Games'].unique()\n",
    "winter_os = athlete_events.query('Season == \"Winter\"')['Games'].unique()\n",
    "\n",
    "print(f\"There have been {len(summer_os)} summer Olympic Games and {len(winter_os)} winter Olympic Games between the years {years[0]}-{years[-1]}.\")\n"
   ]
  },
  {
   "cell_type": "code",
   "execution_count": 77,
   "metadata": {},
   "outputs": [
    {
     "data": {
      "text/plain": [
       "Year  Name                     \n",
       "1896  Carl Schuhmann               12\n",
       "      Conrad Helmut Fritz Bcker     7\n",
       "      Alexander Viggo Jensen        7\n",
       "      Alfred Flatow                 7\n",
       "      Gustav Felix Flatow           7\n",
       "                                   ..\n",
       "2016  Kim Sei-Young                 1\n",
       "      Kim Oscar Amb                 1\n",
       "      Kim Polling                   1\n",
       "      Kim Sa-Rang                   1\n",
       "      zzet Safer                    1\n",
       "Name: count, Length: 187237, dtype: int64"
      ]
     },
     "execution_count": 77,
     "metadata": {},
     "output_type": "execute_result"
    }
   ],
   "source": [
    "# How many participants have there been each year?\n",
    "\n",
    "number_of_participants = athlete_events.groupby('Year')['Name'].value_counts()\n",
    "number_of_participants"
   ]
  },
  {
   "cell_type": "markdown",
   "metadata": {},
   "source": [
    "#### Se även till att plotta några intressanta features, exempelvis:"
   ]
  },
  {
   "cell_type": "markdown",
   "metadata": {},
   "source": [
    "#### **g)** Diagram över könsfördelningen\n"
   ]
  },
  {
   "cell_type": "markdown",
   "metadata": {},
   "source": [
    "#### **h)** Diagram över topp 10 länder som tagit flest medaljer\n"
   ]
  },
  {
   "cell_type": "markdown",
   "metadata": {},
   "source": [
    "#### **i)** Plotta gärna fler saker som är intressant."
   ]
  }
 ],
 "metadata": {
  "kernelspec": {
   "display_name": "databehandling-YOUNIS-MOUSSAVI-7D8IQwvr",
   "language": "python",
   "name": "python3"
  },
  "language_info": {
   "codemirror_mode": {
    "name": "ipython",
    "version": 3
   },
   "file_extension": ".py",
   "mimetype": "text/x-python",
   "name": "python",
   "nbconvert_exporter": "python",
   "pygments_lexer": "ipython3",
   "version": "3.11.5"
  }
 },
 "nbformat": 4,
 "nbformat_minor": 2
}
